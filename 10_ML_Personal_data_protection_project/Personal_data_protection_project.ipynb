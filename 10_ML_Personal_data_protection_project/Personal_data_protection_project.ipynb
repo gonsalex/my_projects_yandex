{
 "cells": [
  {
   "cell_type": "markdown",
   "metadata": {
    "toc": true
   },
   "source": [
    "<h1>Содержание<span class=\"tocSkip\"></span></h1>\n",
    "<div class=\"toc\"><ul class=\"toc-item\"><li><span><a href=\"#Загрузка-данных\" data-toc-modified-id=\"Загрузка-данных-1\"><span class=\"toc-item-num\">1&nbsp;&nbsp;</span>Загрузка данных</a></span></li><li><span><a href=\"#Умножение-матриц\" data-toc-modified-id=\"Умножение-матриц-2\"><span class=\"toc-item-num\">2&nbsp;&nbsp;</span>Умножение матриц</a></span></li><li><span><a href=\"#Алгоритм-преобразования\" data-toc-modified-id=\"Алгоритм-преобразования-3\"><span class=\"toc-item-num\">3&nbsp;&nbsp;</span>Алгоритм преобразования</a></span></li><li><span><a href=\"#Проверка-алгоритма\" data-toc-modified-id=\"Проверка-алгоритма-4\"><span class=\"toc-item-num\">4&nbsp;&nbsp;</span>Проверка алгоритма</a></span></li><li><span><a href=\"#Заключение\" data-toc-modified-id=\"Заключение-5\"><span class=\"toc-item-num\">5&nbsp;&nbsp;</span>Заключение</a></span></li><li><span><a href=\"#Чек-лист-проверки\" data-toc-modified-id=\"Чек-лист-проверки-6\"><span class=\"toc-item-num\">6&nbsp;&nbsp;</span>Чек-лист проверки</a></span></li></ul></div>"
   ]
  },
  {
   "cell_type": "markdown",
   "metadata": {},
   "source": [
    "# Защита персональных данных клиентов"
   ]
  },
  {
   "cell_type": "markdown",
   "metadata": {},
   "source": [
    "Вам нужно защитить данные клиентов страховой компании «Хоть потоп». Разработайте такой метод преобразования данных, чтобы по ним было сложно восстановить персональную информацию. Обоснуйте корректность его работы.\n",
    "\n",
    "Нужно защитить данные, чтобы при преобразовании качество моделей машинного обучения не ухудшилось. Подбирать наилучшую модель не требуется."
   ]
  },
  {
   "cell_type": "markdown",
   "metadata": {},
   "source": [
    "## Загрузка данных"
   ]
  },
  {
   "cell_type": "code",
   "execution_count": 1,
   "metadata": {},
   "outputs": [],
   "source": [
    "import pandas as pd\n",
    "import numpy as np\n",
    "from sklearn.model_selection import train_test_split\n",
    "from sklearn.linear_model import LinearRegression\n",
    "from sklearn.metrics import r2_score"
   ]
  },
  {
   "cell_type": "markdown",
   "metadata": {},
   "source": [
    "Загрузим и посмотрим на данные"
   ]
  },
  {
   "cell_type": "code",
   "execution_count": 2,
   "metadata": {},
   "outputs": [
    {
     "name": "stdout",
     "output_type": "stream",
     "text": [
      "<class 'pandas.core.frame.DataFrame'>\n",
      "RangeIndex: 5000 entries, 0 to 4999\n",
      "Data columns (total 5 columns):\n",
      "Пол                  5000 non-null int64\n",
      "Возраст              5000 non-null float64\n",
      "Зарплата             5000 non-null float64\n",
      "Члены семьи          5000 non-null int64\n",
      "Страховые выплаты    5000 non-null int64\n",
      "dtypes: float64(2), int64(3)\n",
      "memory usage: 195.4 KB\n"
     ]
    },
    {
     "data": {
      "text/html": [
       "<div>\n",
       "<style scoped>\n",
       "    .dataframe tbody tr th:only-of-type {\n",
       "        vertical-align: middle;\n",
       "    }\n",
       "\n",
       "    .dataframe tbody tr th {\n",
       "        vertical-align: top;\n",
       "    }\n",
       "\n",
       "    .dataframe thead th {\n",
       "        text-align: right;\n",
       "    }\n",
       "</style>\n",
       "<table border=\"1\" class=\"dataframe\">\n",
       "  <thead>\n",
       "    <tr style=\"text-align: right;\">\n",
       "      <th></th>\n",
       "      <th>Пол</th>\n",
       "      <th>Возраст</th>\n",
       "      <th>Зарплата</th>\n",
       "      <th>Члены семьи</th>\n",
       "      <th>Страховые выплаты</th>\n",
       "    </tr>\n",
       "  </thead>\n",
       "  <tbody>\n",
       "    <tr>\n",
       "      <td>0</td>\n",
       "      <td>1</td>\n",
       "      <td>41.0</td>\n",
       "      <td>49600.0</td>\n",
       "      <td>1</td>\n",
       "      <td>0</td>\n",
       "    </tr>\n",
       "    <tr>\n",
       "      <td>1</td>\n",
       "      <td>0</td>\n",
       "      <td>46.0</td>\n",
       "      <td>38000.0</td>\n",
       "      <td>1</td>\n",
       "      <td>1</td>\n",
       "    </tr>\n",
       "    <tr>\n",
       "      <td>2</td>\n",
       "      <td>0</td>\n",
       "      <td>29.0</td>\n",
       "      <td>21000.0</td>\n",
       "      <td>0</td>\n",
       "      <td>0</td>\n",
       "    </tr>\n",
       "    <tr>\n",
       "      <td>3</td>\n",
       "      <td>0</td>\n",
       "      <td>21.0</td>\n",
       "      <td>41700.0</td>\n",
       "      <td>2</td>\n",
       "      <td>0</td>\n",
       "    </tr>\n",
       "    <tr>\n",
       "      <td>4</td>\n",
       "      <td>1</td>\n",
       "      <td>28.0</td>\n",
       "      <td>26100.0</td>\n",
       "      <td>0</td>\n",
       "      <td>0</td>\n",
       "    </tr>\n",
       "  </tbody>\n",
       "</table>\n",
       "</div>"
      ],
      "text/plain": [
       "   Пол  Возраст  Зарплата  Члены семьи  Страховые выплаты\n",
       "0    1     41.0   49600.0            1                  0\n",
       "1    0     46.0   38000.0            1                  1\n",
       "2    0     29.0   21000.0            0                  0\n",
       "3    0     21.0   41700.0            2                  0\n",
       "4    1     28.0   26100.0            0                  0"
      ]
     },
     "metadata": {},
     "output_type": "display_data"
    }
   ],
   "source": [
    "ds = pd.read_csv('/datasets/insurance.csv')\n",
    "ds.info()\n",
    "display(ds.head())"
   ]
  },
  {
   "cell_type": "markdown",
   "metadata": {},
   "source": [
    "Данные содержат персональную информацию о клиентах страховой компании. Признаки: Пол, Возраст, Зарплата, Члены семьи. Целевой признак: Страховые выплаты."
   ]
  },
  {
   "cell_type": "markdown",
   "metadata": {},
   "source": [
    "## Умножение матриц"
   ]
  },
  {
   "cell_type": "markdown",
   "metadata": {},
   "source": [
    "Ответим на вопрос и обоснуем решение.\n",
    "Признаки умножают на обратимую матрицу. Изменится ли качество линейной регрессии?"
   ]
  },
  {
   "cell_type": "markdown",
   "metadata": {},
   "source": [
    "Обозначения:\n",
    "\n",
    "- $X$ — матрица признаков (нулевой столбец состоит из единиц)\n",
    "\n",
    "- $y$ — вектор целевого признака\n",
    "\n",
    "- $P$ — матрица, на которую умножаются признаки\n",
    "\n",
    "- $w$ — вектор весов линейной регрессии (нулевой элемент равен сдвигу)"
   ]
  },
  {
   "cell_type": "markdown",
   "metadata": {},
   "source": [
    "Предсказания:\n",
    "\n",
    "$$\n",
    "a = Xw\n",
    "$$\n",
    "\n",
    "Задача обучения:\n",
    "\n",
    "$$\n",
    "w = \\arg\\min_w MSE(Xw, y)\n",
    "$$\n",
    "\n",
    "Формула обучения:\n",
    "\n",
    "$$\n",
    "w = (X^T X)^{-1} X^T y\n",
    "$$"
   ]
  },
  {
   "cell_type": "markdown",
   "metadata": {},
   "source": [
    "**Ответ:** Предположим, качество линейной регрессии не изменится\n",
    "\n",
    "**Обоснование:** \n",
    "\n",
    "Проверим, повлияет ли на предсказания умножение признаков на обратимую матрицу.\n",
    "$$\n",
    "a = Xw = X(X^T X)^{-1} X^T y\n",
    "$$\n",
    "\n",
    "Рассчитаем предсказания если умножить признаки $X$ на обратимую матрицу $P$:\n",
    "$$\n",
    "a_p = XPw = XP((XP)^T XP)^{-1} (XP)^T y\n",
    "$$\n",
    "\n",
    "Преобразуем выражение, используя свойство транспонирования матриц: \n",
    "$$\n",
    "(AB)^T = B^TA^T\n",
    "$$\n",
    "\n",
    "$$\n",
    "a_p = XP(P^T X^T XP)^{-1} P^T X^T y\n",
    "$$\n",
    "\n",
    "Преобразуем выражение, используя свойство: \n",
    "$$\n",
    "(AB)^{-1} = B^{-1}A^{-1}\n",
    "$$\n",
    "\n",
    "$$\n",
    "a_p = X P P^{-1} (P^T X^T X)^{-1} P^T X^T y\n",
    "$$\n",
    "\n",
    "Еще раз применим то же свойство:\n",
    "$$\n",
    "a_p = X P P^{-1} (X^T X)^{-1} (P^T)^{-1} P^T X^T y\n",
    "$$\n",
    "\n",
    "Преобразуем выражение, используя свойство для обратимой матрицы:\n",
    "$$\n",
    "AA^{-1} = A^{-1}A = E\n",
    "$$\n",
    "где $E$ - единичная матрица\n",
    "\n",
    "$$\n",
    "a_p = X E (X^T X)^{-1} E X^T y\n",
    "$$\n",
    "\n",
    "Используем свойство умножения на единичную матрицу:\n",
    "$$\n",
    "AE = EA = A\n",
    "$$\n",
    "\n",
    "Получим:\n",
    "$$\n",
    "a_p = X (X^T X)^{-1} X^T y\n",
    "$$\n",
    "\n",
    "Таким образом:\n",
    "$$\n",
    "a = a_p = X (X^T X)^{-1} X^T y\n",
    "$$"
   ]
  },
  {
   "cell_type": "markdown",
   "metadata": {},
   "source": [
    "**Вывод:** Значения предсказаний не меняются при умножении признаков на обратимую матрицу и значит качество линейной регрессии не изменится."
   ]
  },
  {
   "cell_type": "code",
   "execution_count": null,
   "metadata": {},
   "outputs": [],
   "source": []
  },
  {
   "cell_type": "markdown",
   "metadata": {},
   "source": [
    "## Алгоритм преобразования"
   ]
  },
  {
   "cell_type": "markdown",
   "metadata": {},
   "source": [
    "**Алгоритм**\n",
    "\n",
    "Для решения задачи по защите персональных данных клиентов страховой компании используем метод умножения значений признаков на обратимую матрицу, значения которой сгенерированы случайным образом.\n",
    "Для преобразования выполним алгоритм:\n",
    "* сгенерируем случайную обратимую матрицу $P$ размерностью $nxn$ функцией $numpy.random.normal()$, где $n$ - количество столбцов в матрице признаков\n",
    "* проверим матрицу $P$ на обратимость, для этого функцией $numpy.linalg.inv()$ найдем ее обратную матрицу, если матрица необратима, будет обнаружена ошибка \n",
    "* умножим матрицу признаков $X$ на обратимую матрицу $P$"
   ]
  },
  {
   "cell_type": "markdown",
   "metadata": {},
   "source": [
    "**Обоснование**\n",
    "\n",
    "Такой метод преобразования данных не должен изменить качество линейной регрессии, и при таком преобразовании (обратимая матрица генерируется случайным образом) будет сложно восстановить персональную информацию. То, что умножение признаков на обратимую матрицу не влияет на качество предсказаний, мы теоретически доказали в предыдущем пункте. Осталось проверить это практически."
   ]
  },
  {
   "cell_type": "markdown",
   "metadata": {},
   "source": [
    "## Проверка алгоритма"
   ]
  },
  {
   "cell_type": "markdown",
   "metadata": {},
   "source": [
    "Создадим функцию для шифрования матрицы признаков."
   ]
  },
  {
   "cell_type": "code",
   "execution_count": 3,
   "metadata": {},
   "outputs": [],
   "source": [
    "def dt_encrypt(features):\n",
    "    n = features.shape[1]\n",
    "    d = 0\n",
    "    while d == 0:   \n",
    "        try:\n",
    "            P = np.random.normal(loc=0, scale=1, size=(n, n))\n",
    "            #print(P)\n",
    "            invert = np.linalg.inv(P)\n",
    "        except LinAlgError:\n",
    "            continue\n",
    "        else:\n",
    "            break   \n",
    "    return features @ P"
   ]
  },
  {
   "cell_type": "markdown",
   "metadata": {},
   "source": [
    "Подготовим данные для обучения и тестирования."
   ]
  },
  {
   "cell_type": "code",
   "execution_count": 4,
   "metadata": {},
   "outputs": [
    {
     "data": {
      "text/html": [
       "<div>\n",
       "<style scoped>\n",
       "    .dataframe tbody tr th:only-of-type {\n",
       "        vertical-align: middle;\n",
       "    }\n",
       "\n",
       "    .dataframe tbody tr th {\n",
       "        vertical-align: top;\n",
       "    }\n",
       "\n",
       "    .dataframe thead th {\n",
       "        text-align: right;\n",
       "    }\n",
       "</style>\n",
       "<table border=\"1\" class=\"dataframe\">\n",
       "  <thead>\n",
       "    <tr style=\"text-align: right;\">\n",
       "      <th></th>\n",
       "      <th>Пол</th>\n",
       "      <th>Возраст</th>\n",
       "      <th>Зарплата</th>\n",
       "      <th>Члены семьи</th>\n",
       "    </tr>\n",
       "  </thead>\n",
       "  <tbody>\n",
       "    <tr>\n",
       "      <td>0</td>\n",
       "      <td>1</td>\n",
       "      <td>41.0</td>\n",
       "      <td>49600.0</td>\n",
       "      <td>1</td>\n",
       "    </tr>\n",
       "    <tr>\n",
       "      <td>1</td>\n",
       "      <td>0</td>\n",
       "      <td>46.0</td>\n",
       "      <td>38000.0</td>\n",
       "      <td>1</td>\n",
       "    </tr>\n",
       "    <tr>\n",
       "      <td>2</td>\n",
       "      <td>0</td>\n",
       "      <td>29.0</td>\n",
       "      <td>21000.0</td>\n",
       "      <td>0</td>\n",
       "    </tr>\n",
       "    <tr>\n",
       "      <td>3</td>\n",
       "      <td>0</td>\n",
       "      <td>21.0</td>\n",
       "      <td>41700.0</td>\n",
       "      <td>2</td>\n",
       "    </tr>\n",
       "    <tr>\n",
       "      <td>4</td>\n",
       "      <td>1</td>\n",
       "      <td>28.0</td>\n",
       "      <td>26100.0</td>\n",
       "      <td>0</td>\n",
       "    </tr>\n",
       "  </tbody>\n",
       "</table>\n",
       "</div>"
      ],
      "text/plain": [
       "   Пол  Возраст  Зарплата  Члены семьи\n",
       "0    1     41.0   49600.0            1\n",
       "1    0     46.0   38000.0            1\n",
       "2    0     29.0   21000.0            0\n",
       "3    0     21.0   41700.0            2\n",
       "4    1     28.0   26100.0            0"
      ]
     },
     "metadata": {},
     "output_type": "display_data"
    },
    {
     "data": {
      "text/plain": [
       "0    0\n",
       "1    1\n",
       "2    0\n",
       "3    0\n",
       "4    0\n",
       "Name: Страховые выплаты, dtype: int64"
      ]
     },
     "metadata": {},
     "output_type": "display_data"
    }
   ],
   "source": [
    "features = ds.drop('Страховые выплаты',axis=1)\n",
    "target = ds['Страховые выплаты']\n",
    "display(features.head())\n",
    "display(target.head())"
   ]
  },
  {
   "cell_type": "markdown",
   "metadata": {},
   "source": [
    "Зашифруем признаки "
   ]
  },
  {
   "cell_type": "code",
   "execution_count": 5,
   "metadata": {},
   "outputs": [
    {
     "data": {
      "text/html": [
       "<div>\n",
       "<style scoped>\n",
       "    .dataframe tbody tr th:only-of-type {\n",
       "        vertical-align: middle;\n",
       "    }\n",
       "\n",
       "    .dataframe tbody tr th {\n",
       "        vertical-align: top;\n",
       "    }\n",
       "\n",
       "    .dataframe thead th {\n",
       "        text-align: right;\n",
       "    }\n",
       "</style>\n",
       "<table border=\"1\" class=\"dataframe\">\n",
       "  <thead>\n",
       "    <tr style=\"text-align: right;\">\n",
       "      <th></th>\n",
       "      <th>0</th>\n",
       "      <th>1</th>\n",
       "      <th>2</th>\n",
       "      <th>3</th>\n",
       "    </tr>\n",
       "  </thead>\n",
       "  <tbody>\n",
       "    <tr>\n",
       "      <td>0</td>\n",
       "      <td>51782.822911</td>\n",
       "      <td>-90237.258819</td>\n",
       "      <td>64708.784445</td>\n",
       "      <td>-17586.298620</td>\n",
       "    </tr>\n",
       "    <tr>\n",
       "      <td>1</td>\n",
       "      <td>39660.364991</td>\n",
       "      <td>-69130.486350</td>\n",
       "      <td>49569.843393</td>\n",
       "      <td>-13447.355686</td>\n",
       "    </tr>\n",
       "    <tr>\n",
       "      <td>2</td>\n",
       "      <td>21914.402438</td>\n",
       "      <td>-38202.844126</td>\n",
       "      <td>27392.492856</td>\n",
       "      <td>-7425.578459</td>\n",
       "    </tr>\n",
       "    <tr>\n",
       "      <td>3</td>\n",
       "      <td>43547.775074</td>\n",
       "      <td>-75868.628783</td>\n",
       "      <td>54406.388913</td>\n",
       "      <td>-14809.491571</td>\n",
       "    </tr>\n",
       "    <tr>\n",
       "      <td>4</td>\n",
       "      <td>27242.537314</td>\n",
       "      <td>-47481.832874</td>\n",
       "      <td>34048.536865</td>\n",
       "      <td>-9242.394801</td>\n",
       "    </tr>\n",
       "  </tbody>\n",
       "</table>\n",
       "</div>"
      ],
      "text/plain": [
       "              0             1             2             3\n",
       "0  51782.822911 -90237.258819  64708.784445 -17586.298620\n",
       "1  39660.364991 -69130.486350  49569.843393 -13447.355686\n",
       "2  21914.402438 -38202.844126  27392.492856  -7425.578459\n",
       "3  43547.775074 -75868.628783  54406.388913 -14809.491571\n",
       "4  27242.537314 -47481.832874  34048.536865  -9242.394801"
      ]
     },
     "metadata": {},
     "output_type": "display_data"
    }
   ],
   "source": [
    "features_encrypted = dt_encrypt(features)\n",
    "display(features_encrypted.head())"
   ]
  },
  {
   "cell_type": "markdown",
   "metadata": {},
   "source": [
    "Данные зашифрованы, персональные данные клиентов не видны. "
   ]
  },
  {
   "cell_type": "markdown",
   "metadata": {},
   "source": [
    "Проверим качество линейной регрессии до и после шифрования признаков, для этого создадим функцию"
   ]
  },
  {
   "cell_type": "code",
   "execution_count": 6,
   "metadata": {},
   "outputs": [],
   "source": [
    "def quality_check(features, target):\n",
    "    features_train, features_test, target_train, target_test = train_test_split(\n",
    "                                    features, target, test_size=0.25, random_state=12345)\n",
    "    \n",
    "    model = LinearRegression()\n",
    "    model.fit(features_train, target_train)\n",
    "    r2 = r2_score(target_test, model.predict(features_test))\n",
    "    return r2\n",
    "    "
   ]
  },
  {
   "cell_type": "code",
   "execution_count": 7,
   "metadata": {},
   "outputs": [
    {
     "name": "stdout",
     "output_type": "stream",
     "text": [
      "Значение R2 при незашифрованных признаках: 0.435227571270266\n",
      "Значение R2 при зашифрованных признаках: 0.4352275712695145\n"
     ]
    }
   ],
   "source": [
    "print('Значение R2 при незашифрованных признаках:', quality_check(features, target))\n",
    "print('Значение R2 при зашифрованных признаках:', quality_check(features_encrypted, target))"
   ]
  },
  {
   "cell_type": "markdown",
   "metadata": {},
   "source": [
    "Значения метрик R2 не отличаются, метрика не ухудшилась. Разница после 13 знака после запятой связана вероятно с накопительной погрешностью хранения данных в памяти."
   ]
  },
  {
   "cell_type": "markdown",
   "metadata": {},
   "source": [
    "## Заключение"
   ]
  },
  {
   "cell_type": "markdown",
   "metadata": {},
   "source": [
    "В ходе выполнения проекта были исследованы данные  клиентов страховой компании. Для решения задачи по защите персональных данных клиентов был использован метод умножения значений признаков на обратимую матрицу, значения которой сгенерированы случайным образом. Теоретичские расчеты и практическая проверка качества линейной регрессии показали, что такой метод шифрования не влияет на результаты машинного обучения, метрика R2 не ухудшилась."
   ]
  },
  {
   "cell_type": "code",
   "execution_count": null,
   "metadata": {},
   "outputs": [],
   "source": []
  }
 ],
 "metadata": {
  "ExecuteTimeLog": [
   {
    "duration": 653,
    "start_time": "2021-11-20T18:02:14.172Z"
   },
   {
    "duration": 34,
    "start_time": "2021-11-20T18:02:16.379Z"
   },
   {
    "duration": 793,
    "start_time": "2021-11-25T19:51:00.247Z"
   },
   {
    "duration": 44,
    "start_time": "2021-11-25T19:51:01.043Z"
   },
   {
    "duration": 6,
    "start_time": "2021-11-25T19:51:07.906Z"
   },
   {
    "duration": 16,
    "start_time": "2021-11-25T20:15:38.377Z"
   },
   {
    "duration": 397,
    "start_time": "2021-11-25T20:17:17.220Z"
   },
   {
    "duration": 692,
    "start_time": "2021-11-25T20:18:22.066Z"
   },
   {
    "duration": 10,
    "start_time": "2021-11-25T20:18:28.053Z"
   },
   {
    "duration": 19,
    "start_time": "2021-11-25T20:24:58.430Z"
   },
   {
    "duration": 6,
    "start_time": "2021-11-25T20:27:18.947Z"
   },
   {
    "duration": 17,
    "start_time": "2021-11-25T20:27:35.333Z"
   },
   {
    "duration": 19,
    "start_time": "2021-11-25T20:27:39.653Z"
   },
   {
    "duration": 17,
    "start_time": "2021-11-25T20:27:40.678Z"
   },
   {
    "duration": 12,
    "start_time": "2021-11-25T20:27:41.763Z"
   },
   {
    "duration": 13,
    "start_time": "2021-11-25T20:27:42.818Z"
   },
   {
    "duration": 18,
    "start_time": "2021-11-25T20:27:43.713Z"
   },
   {
    "duration": 5,
    "start_time": "2021-11-25T20:28:16.600Z"
   },
   {
    "duration": 1874,
    "start_time": "2021-11-25T20:28:22.583Z"
   },
   {
    "duration": 5,
    "start_time": "2021-11-25T20:28:48.722Z"
   },
   {
    "duration": 13,
    "start_time": "2021-11-25T20:28:53.639Z"
   },
   {
    "duration": 12,
    "start_time": "2021-11-25T20:31:15.494Z"
   },
   {
    "duration": 5,
    "start_time": "2021-11-25T20:45:24.130Z"
   },
   {
    "duration": 577,
    "start_time": "2021-11-25T20:45:26.712Z"
   },
   {
    "duration": 25,
    "start_time": "2021-11-25T20:47:08.568Z"
   },
   {
    "duration": 14,
    "start_time": "2021-11-25T20:47:18.516Z"
   },
   {
    "duration": 18,
    "start_time": "2021-11-25T20:47:43.686Z"
   },
   {
    "duration": 1458,
    "start_time": "2021-11-25T20:48:29.131Z"
   },
   {
    "duration": 40,
    "start_time": "2021-11-25T20:48:30.592Z"
   },
   {
    "duration": 5,
    "start_time": "2021-11-25T20:48:30.635Z"
   },
   {
    "duration": 59,
    "start_time": "2021-11-25T20:48:30.642Z"
   },
   {
    "duration": 502,
    "start_time": "2021-11-25T20:48:35.052Z"
   },
   {
    "duration": 14,
    "start_time": "2021-11-25T20:48:49.455Z"
   },
   {
    "duration": 4,
    "start_time": "2021-11-25T20:48:55.866Z"
   },
   {
    "duration": 12,
    "start_time": "2021-11-25T20:48:59.282Z"
   },
   {
    "duration": 13,
    "start_time": "2021-11-25T20:49:06.059Z"
   },
   {
    "duration": 5,
    "start_time": "2021-11-25T20:54:59.560Z"
   },
   {
    "duration": 15,
    "start_time": "2021-11-25T20:59:24.872Z"
   },
   {
    "duration": 12,
    "start_time": "2021-11-25T21:00:33.996Z"
   },
   {
    "duration": 16,
    "start_time": "2021-11-25T21:00:36.666Z"
   },
   {
    "duration": 20,
    "start_time": "2021-11-25T21:03:29.793Z"
   },
   {
    "duration": 6,
    "start_time": "2021-11-25T21:38:09.877Z"
   },
   {
    "duration": 15,
    "start_time": "2021-11-25T21:38:16.332Z"
   },
   {
    "duration": 5,
    "start_time": "2021-11-25T21:38:56.941Z"
   },
   {
    "duration": 5,
    "start_time": "2021-11-25T21:54:32.921Z"
   },
   {
    "duration": 17,
    "start_time": "2021-11-25T22:00:15.598Z"
   },
   {
    "duration": 1413,
    "start_time": "2021-11-25T22:04:07.611Z"
   },
   {
    "duration": 42,
    "start_time": "2021-11-25T22:04:09.027Z"
   },
   {
    "duration": 7,
    "start_time": "2021-11-25T22:04:09.074Z"
   },
   {
    "duration": 20,
    "start_time": "2021-11-25T22:04:09.084Z"
   },
   {
    "duration": 72,
    "start_time": "2021-11-25T22:04:09.108Z"
   },
   {
    "duration": 84,
    "start_time": "2021-11-25T22:04:09.183Z"
   },
   {
    "duration": 29,
    "start_time": "2021-11-25T22:04:09.271Z"
   },
   {
    "duration": 1474,
    "start_time": "2021-11-25T23:34:11.477Z"
   },
   {
    "duration": 46,
    "start_time": "2021-11-25T23:34:12.953Z"
   },
   {
    "duration": 5,
    "start_time": "2021-11-25T23:36:29.782Z"
   },
   {
    "duration": 15,
    "start_time": "2021-11-25T23:36:30.554Z"
   },
   {
    "duration": 13,
    "start_time": "2021-11-25T23:36:30.920Z"
   },
   {
    "duration": 5,
    "start_time": "2021-11-25T23:36:31.646Z"
   },
   {
    "duration": 19,
    "start_time": "2021-11-25T23:36:31.807Z"
   }
  ],
  "kernelspec": {
   "display_name": "Python 3",
   "language": "python",
   "name": "python3"
  },
  "language_info": {
   "codemirror_mode": {
    "name": "ipython",
    "version": 3
   },
   "file_extension": ".py",
   "mimetype": "text/x-python",
   "name": "python",
   "nbconvert_exporter": "python",
   "pygments_lexer": "ipython3",
   "version": "3.8.8"
  },
  "toc": {
   "base_numbering": 1,
   "nav_menu": {},
   "number_sections": true,
   "sideBar": true,
   "skip_h1_title": true,
   "title_cell": "Содержание",
   "title_sidebar": "Contents",
   "toc_cell": true,
   "toc_position": {
    "height": "calc(100% - 180px)",
    "left": "10px",
    "top": "150px",
    "width": "238.396px"
   },
   "toc_section_display": true,
   "toc_window_display": true
  }
 },
 "nbformat": 4,
 "nbformat_minor": 2
}
