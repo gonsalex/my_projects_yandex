{
 "cells": [
  {
   "cell_type": "markdown",
   "metadata": {},
   "source": [
    "# Телеком\n",
    "\n",
    "Оператор связи хочет прогнозировать отток клиентов. Если выяснится, что пользователь планирует уйти, ему будут предложены промокоды и специальные условия. Команда оператора собрала персональные данные о некоторых клиентах, информацию об их тарифах и договорах.\n",
    "\n",
    "### Описание услуг\n",
    "\n",
    "Оператор предоставляет два основных типа услуг: \n",
    "\n",
    "1. Стационарную телефонную связь. Возможно подключение телефонного аппарата к нескольким линиям одновременно.\n",
    "2. Интернет. Подключение может быть двух типов: через телефонную линию (DSL*,* от англ. *digital subscriber line*, «цифровая абонентская линия») или оптоволоконный кабель (*Fiber optic*).  \n",
    "\n",
    "Также доступны такие услуги:\n",
    "\n",
    "- Интернет-безопасность: антивирус (*DeviceProtection*) и блокировка небезопасных сайтов (*OnlineSecurity*);\n",
    "- Выделенная линия технической поддержки (*TechSupport*);\n",
    "- Облачное хранилище файлов для резервного копирования данных (*OnlineBackup*);\n",
    "- Стриминговое телевидение (*StreamingTV*) и каталог фильмов (*StreamingMovies*).\n",
    "\n",
    "За услуги клиенты могут платить каждый месяц или заключить договор на 1–2 года. Доступны различные способы расчёта и возможность получения электронного чека.\n",
    "\n",
    "### Описание данных\n",
    "\n",
    "Данные состоят из файлов, полученных из разных источников:\n",
    "\n",
    "- `contract.csv` — информация о договоре;\n",
    "- `personal.csv` — персональные данные клиента;\n",
    "- `internet.csv` — информация об интернет-услугах;\n",
    "- `phone.csv` — информация об услугах телефонии.\n",
    "\n",
    "Во всех файлах столбец `customerID` содержит код клиента.\n",
    "\n",
    "Информация о договорах актуальна на 1 февраля 2020."
   ]
  },
  {
   "cell_type": "code",
   "execution_count": 1,
   "metadata": {},
   "outputs": [
    {
     "data": {
      "application/javascript": [
       "IPython.OutputArea.prototype._should_scroll = function(lines) {\n",
       "    return false;\n",
       "}\n"
      ],
      "text/plain": [
       "<IPython.core.display.Javascript object>"
      ]
     },
     "metadata": {},
     "output_type": "display_data"
    }
   ],
   "source": [
    "%%javascript\n",
    "IPython.OutputArea.prototype._should_scroll = function(lines) {\n",
    "    return false;\n",
    "}"
   ]
  },
  {
   "cell_type": "code",
   "execution_count": 1,
   "metadata": {},
   "outputs": [],
   "source": [
    "import pandas as pd\n",
    "import numpy as np\n",
    "import scipy.stats as st\n",
    "import matplotlib.pyplot as plt\n",
    "import seaborn as sns\n",
    "import warnings\n",
    "warnings.filterwarnings(\"ignore\")\n",
    "import datetime as dt\n",
    "from sklearn.utils import shuffle\n",
    "from sklearn.utils import resample\n",
    "from sklearn.model_selection import train_test_split, StratifiedKFold, GridSearchCV, cross_val_score\n",
    "from sklearn.metrics import roc_auc_score, accuracy_score, roc_curve, confusion_matrix, precision_score, recall_score\n",
    "from sklearn.feature_selection import GenericUnivariateSelect, mutual_info_classif\n",
    "from sklearn.pipeline import Pipeline\n",
    "from sklearn.preprocessing import PowerTransformer\n",
    "from sklearn.linear_model import LogisticRegression\n",
    "from sklearn.ensemble import RandomForestClassifier\n",
    "from sklearn.dummy import DummyClassifier\n",
    "from lightgbm import LGBMClassifier\n",
    "from catboost import CatBoostClassifier, cv, Pool\n",
    "from xgboost import XGBClassifier\n",
    "from sklearn.preprocessing import StandardScaler\n",
    "from scipy.stats import chi2_contingency, fisher_exact\n",
    "from sklearn.feature_selection import SelectPercentile, chi2"
   ]
  },
  {
   "cell_type": "markdown",
   "metadata": {},
   "source": [
    "## Загрузка и первичный анализ данных"
   ]
  },
  {
   "cell_type": "markdown",
   "metadata": {},
   "source": [
    "Загрузим и посмотрим на данные"
   ]
  },
  {
   "cell_type": "code",
   "execution_count": 3,
   "metadata": {},
   "outputs": [],
   "source": [
    "dt_contract = pd.read_csv('contract.csv')\n",
    "dt_personal = pd.read_csv('personal.csv')\n",
    "dt_internet = pd.read_csv('internet.csv')\n",
    "dt_phone = pd.read_csv('phone.csv')"
   ]
  },
  {
   "cell_type": "code",
   "execution_count": 5,
   "metadata": {},
   "outputs": [],
   "source": [
    "dt_contract = pd.read_csv('/datasets/final_provider/contract.csv')\n",
    "dt_internet = pd.read_csv('/datasets/final_provider/internet.csv')\n",
    "dt_personal = pd.read_csv('/datasets/final_provider/personal.csv')\n",
    "dt_phone = pd.read_csv('/datasets/final_provider/phone.csv')"
   ]
  },
  {
   "cell_type": "code",
   "execution_count": 6,
   "metadata": {},
   "outputs": [
    {
     "name": "stdout",
     "output_type": "stream",
     "text": [
      "Иинформация о договоре\n"
     ]
    },
    {
     "data": {
      "text/html": [
       "<div>\n",
       "<style scoped>\n",
       "    .dataframe tbody tr th:only-of-type {\n",
       "        vertical-align: middle;\n",
       "    }\n",
       "\n",
       "    .dataframe tbody tr th {\n",
       "        vertical-align: top;\n",
       "    }\n",
       "\n",
       "    .dataframe thead th {\n",
       "        text-align: right;\n",
       "    }\n",
       "</style>\n",
       "<table border=\"1\" class=\"dataframe\">\n",
       "  <thead>\n",
       "    <tr style=\"text-align: right;\">\n",
       "      <th></th>\n",
       "      <th>customerID</th>\n",
       "      <th>BeginDate</th>\n",
       "      <th>EndDate</th>\n",
       "      <th>Type</th>\n",
       "      <th>PaperlessBilling</th>\n",
       "      <th>PaymentMethod</th>\n",
       "      <th>MonthlyCharges</th>\n",
       "      <th>TotalCharges</th>\n",
       "    </tr>\n",
       "  </thead>\n",
       "  <tbody>\n",
       "    <tr>\n",
       "      <th>0</th>\n",
       "      <td>7590-VHVEG</td>\n",
       "      <td>2020-01-01</td>\n",
       "      <td>No</td>\n",
       "      <td>Month-to-month</td>\n",
       "      <td>Yes</td>\n",
       "      <td>Electronic check</td>\n",
       "      <td>29.85</td>\n",
       "      <td>29.85</td>\n",
       "    </tr>\n",
       "    <tr>\n",
       "      <th>1</th>\n",
       "      <td>5575-GNVDE</td>\n",
       "      <td>2017-04-01</td>\n",
       "      <td>No</td>\n",
       "      <td>One year</td>\n",
       "      <td>No</td>\n",
       "      <td>Mailed check</td>\n",
       "      <td>56.95</td>\n",
       "      <td>1889.5</td>\n",
       "    </tr>\n",
       "    <tr>\n",
       "      <th>2</th>\n",
       "      <td>3668-QPYBK</td>\n",
       "      <td>2019-10-01</td>\n",
       "      <td>2019-12-01 00:00:00</td>\n",
       "      <td>Month-to-month</td>\n",
       "      <td>Yes</td>\n",
       "      <td>Mailed check</td>\n",
       "      <td>53.85</td>\n",
       "      <td>108.15</td>\n",
       "    </tr>\n",
       "    <tr>\n",
       "      <th>3</th>\n",
       "      <td>7795-CFOCW</td>\n",
       "      <td>2016-05-01</td>\n",
       "      <td>No</td>\n",
       "      <td>One year</td>\n",
       "      <td>No</td>\n",
       "      <td>Bank transfer (automatic)</td>\n",
       "      <td>42.30</td>\n",
       "      <td>1840.75</td>\n",
       "    </tr>\n",
       "    <tr>\n",
       "      <th>4</th>\n",
       "      <td>9237-HQITU</td>\n",
       "      <td>2019-09-01</td>\n",
       "      <td>2019-11-01 00:00:00</td>\n",
       "      <td>Month-to-month</td>\n",
       "      <td>Yes</td>\n",
       "      <td>Electronic check</td>\n",
       "      <td>70.70</td>\n",
       "      <td>151.65</td>\n",
       "    </tr>\n",
       "  </tbody>\n",
       "</table>\n",
       "</div>"
      ],
      "text/plain": [
       "   customerID   BeginDate              EndDate            Type  \\\n",
       "0  7590-VHVEG  2020-01-01                   No  Month-to-month   \n",
       "1  5575-GNVDE  2017-04-01                   No        One year   \n",
       "2  3668-QPYBK  2019-10-01  2019-12-01 00:00:00  Month-to-month   \n",
       "3  7795-CFOCW  2016-05-01                   No        One year   \n",
       "4  9237-HQITU  2019-09-01  2019-11-01 00:00:00  Month-to-month   \n",
       "\n",
       "  PaperlessBilling              PaymentMethod  MonthlyCharges TotalCharges  \n",
       "0              Yes           Electronic check           29.85        29.85  \n",
       "1               No               Mailed check           56.95       1889.5  \n",
       "2              Yes               Mailed check           53.85       108.15  \n",
       "3               No  Bank transfer (automatic)           42.30      1840.75  \n",
       "4              Yes           Electronic check           70.70       151.65  "
      ]
     },
     "metadata": {},
     "output_type": "display_data"
    },
    {
     "name": "stdout",
     "output_type": "stream",
     "text": [
      "<class 'pandas.core.frame.DataFrame'>\n",
      "RangeIndex: 7043 entries, 0 to 7042\n",
      "Data columns (total 8 columns):\n",
      " #   Column            Non-Null Count  Dtype  \n",
      "---  ------            --------------  -----  \n",
      " 0   customerID        7043 non-null   object \n",
      " 1   BeginDate         7043 non-null   object \n",
      " 2   EndDate           7043 non-null   object \n",
      " 3   Type              7043 non-null   object \n",
      " 4   PaperlessBilling  7043 non-null   object \n",
      " 5   PaymentMethod     7043 non-null   object \n",
      " 6   MonthlyCharges    7043 non-null   float64\n",
      " 7   TotalCharges      7043 non-null   object \n",
      "dtypes: float64(1), object(7)\n",
      "memory usage: 440.3+ KB\n",
      "\n",
      "Количество дубликатов: 0\n",
      "\n",
      "Пропуски:\n"
     ]
    },
    {
     "data": {
      "text/plain": [
       "customerID          0\n",
       "BeginDate           0\n",
       "EndDate             0\n",
       "Type                0\n",
       "PaperlessBilling    0\n",
       "PaymentMethod       0\n",
       "MonthlyCharges      0\n",
       "TotalCharges        0\n",
       "dtype: int64"
      ]
     },
     "metadata": {},
     "output_type": "display_data"
    },
    {
     "name": "stdout",
     "output_type": "stream",
     "text": [
      "**********************************\n",
      "\n",
      "Персональные данные клиента\n"
     ]
    },
    {
     "data": {
      "text/html": [
       "<div>\n",
       "<style scoped>\n",
       "    .dataframe tbody tr th:only-of-type {\n",
       "        vertical-align: middle;\n",
       "    }\n",
       "\n",
       "    .dataframe tbody tr th {\n",
       "        vertical-align: top;\n",
       "    }\n",
       "\n",
       "    .dataframe thead th {\n",
       "        text-align: right;\n",
       "    }\n",
       "</style>\n",
       "<table border=\"1\" class=\"dataframe\">\n",
       "  <thead>\n",
       "    <tr style=\"text-align: right;\">\n",
       "      <th></th>\n",
       "      <th>customerID</th>\n",
       "      <th>gender</th>\n",
       "      <th>SeniorCitizen</th>\n",
       "      <th>Partner</th>\n",
       "      <th>Dependents</th>\n",
       "    </tr>\n",
       "  </thead>\n",
       "  <tbody>\n",
       "    <tr>\n",
       "      <th>0</th>\n",
       "      <td>7590-VHVEG</td>\n",
       "      <td>Female</td>\n",
       "      <td>0</td>\n",
       "      <td>Yes</td>\n",
       "      <td>No</td>\n",
       "    </tr>\n",
       "    <tr>\n",
       "      <th>1</th>\n",
       "      <td>5575-GNVDE</td>\n",
       "      <td>Male</td>\n",
       "      <td>0</td>\n",
       "      <td>No</td>\n",
       "      <td>No</td>\n",
       "    </tr>\n",
       "    <tr>\n",
       "      <th>2</th>\n",
       "      <td>3668-QPYBK</td>\n",
       "      <td>Male</td>\n",
       "      <td>0</td>\n",
       "      <td>No</td>\n",
       "      <td>No</td>\n",
       "    </tr>\n",
       "    <tr>\n",
       "      <th>3</th>\n",
       "      <td>7795-CFOCW</td>\n",
       "      <td>Male</td>\n",
       "      <td>0</td>\n",
       "      <td>No</td>\n",
       "      <td>No</td>\n",
       "    </tr>\n",
       "    <tr>\n",
       "      <th>4</th>\n",
       "      <td>9237-HQITU</td>\n",
       "      <td>Female</td>\n",
       "      <td>0</td>\n",
       "      <td>No</td>\n",
       "      <td>No</td>\n",
       "    </tr>\n",
       "  </tbody>\n",
       "</table>\n",
       "</div>"
      ],
      "text/plain": [
       "   customerID  gender  SeniorCitizen Partner Dependents\n",
       "0  7590-VHVEG  Female              0     Yes         No\n",
       "1  5575-GNVDE    Male              0      No         No\n",
       "2  3668-QPYBK    Male              0      No         No\n",
       "3  7795-CFOCW    Male              0      No         No\n",
       "4  9237-HQITU  Female              0      No         No"
      ]
     },
     "metadata": {},
     "output_type": "display_data"
    },
    {
     "name": "stdout",
     "output_type": "stream",
     "text": [
      "<class 'pandas.core.frame.DataFrame'>\n",
      "RangeIndex: 7043 entries, 0 to 7042\n",
      "Data columns (total 5 columns):\n",
      " #   Column         Non-Null Count  Dtype \n",
      "---  ------         --------------  ----- \n",
      " 0   customerID     7043 non-null   object\n",
      " 1   gender         7043 non-null   object\n",
      " 2   SeniorCitizen  7043 non-null   int64 \n",
      " 3   Partner        7043 non-null   object\n",
      " 4   Dependents     7043 non-null   object\n",
      "dtypes: int64(1), object(4)\n",
      "memory usage: 275.2+ KB\n",
      "\n",
      "Количество дубликатов: 0\n",
      "\n",
      "Пропуски:\n"
     ]
    },
    {
     "data": {
      "text/plain": [
       "customerID       0\n",
       "gender           0\n",
       "SeniorCitizen    0\n",
       "Partner          0\n",
       "Dependents       0\n",
       "dtype: int64"
      ]
     },
     "metadata": {},
     "output_type": "display_data"
    },
    {
     "name": "stdout",
     "output_type": "stream",
     "text": [
      "**********************************\n",
      "\n",
      "Информация об интернет-услугах\n"
     ]
    },
    {
     "data": {
      "text/html": [
       "<div>\n",
       "<style scoped>\n",
       "    .dataframe tbody tr th:only-of-type {\n",
       "        vertical-align: middle;\n",
       "    }\n",
       "\n",
       "    .dataframe tbody tr th {\n",
       "        vertical-align: top;\n",
       "    }\n",
       "\n",
       "    .dataframe thead th {\n",
       "        text-align: right;\n",
       "    }\n",
       "</style>\n",
       "<table border=\"1\" class=\"dataframe\">\n",
       "  <thead>\n",
       "    <tr style=\"text-align: right;\">\n",
       "      <th></th>\n",
       "      <th>customerID</th>\n",
       "      <th>InternetService</th>\n",
       "      <th>OnlineSecurity</th>\n",
       "      <th>OnlineBackup</th>\n",
       "      <th>DeviceProtection</th>\n",
       "      <th>TechSupport</th>\n",
       "      <th>StreamingTV</th>\n",
       "      <th>StreamingMovies</th>\n",
       "    </tr>\n",
       "  </thead>\n",
       "  <tbody>\n",
       "    <tr>\n",
       "      <th>0</th>\n",
       "      <td>7590-VHVEG</td>\n",
       "      <td>DSL</td>\n",
       "      <td>No</td>\n",
       "      <td>Yes</td>\n",
       "      <td>No</td>\n",
       "      <td>No</td>\n",
       "      <td>No</td>\n",
       "      <td>No</td>\n",
       "    </tr>\n",
       "    <tr>\n",
       "      <th>1</th>\n",
       "      <td>5575-GNVDE</td>\n",
       "      <td>DSL</td>\n",
       "      <td>Yes</td>\n",
       "      <td>No</td>\n",
       "      <td>Yes</td>\n",
       "      <td>No</td>\n",
       "      <td>No</td>\n",
       "      <td>No</td>\n",
       "    </tr>\n",
       "    <tr>\n",
       "      <th>2</th>\n",
       "      <td>3668-QPYBK</td>\n",
       "      <td>DSL</td>\n",
       "      <td>Yes</td>\n",
       "      <td>Yes</td>\n",
       "      <td>No</td>\n",
       "      <td>No</td>\n",
       "      <td>No</td>\n",
       "      <td>No</td>\n",
       "    </tr>\n",
       "    <tr>\n",
       "      <th>3</th>\n",
       "      <td>7795-CFOCW</td>\n",
       "      <td>DSL</td>\n",
       "      <td>Yes</td>\n",
       "      <td>No</td>\n",
       "      <td>Yes</td>\n",
       "      <td>Yes</td>\n",
       "      <td>No</td>\n",
       "      <td>No</td>\n",
       "    </tr>\n",
       "    <tr>\n",
       "      <th>4</th>\n",
       "      <td>9237-HQITU</td>\n",
       "      <td>Fiber optic</td>\n",
       "      <td>No</td>\n",
       "      <td>No</td>\n",
       "      <td>No</td>\n",
       "      <td>No</td>\n",
       "      <td>No</td>\n",
       "      <td>No</td>\n",
       "    </tr>\n",
       "  </tbody>\n",
       "</table>\n",
       "</div>"
      ],
      "text/plain": [
       "   customerID InternetService OnlineSecurity OnlineBackup DeviceProtection  \\\n",
       "0  7590-VHVEG             DSL             No          Yes               No   \n",
       "1  5575-GNVDE             DSL            Yes           No              Yes   \n",
       "2  3668-QPYBK             DSL            Yes          Yes               No   \n",
       "3  7795-CFOCW             DSL            Yes           No              Yes   \n",
       "4  9237-HQITU     Fiber optic             No           No               No   \n",
       "\n",
       "  TechSupport StreamingTV StreamingMovies  \n",
       "0          No          No              No  \n",
       "1          No          No              No  \n",
       "2          No          No              No  \n",
       "3         Yes          No              No  \n",
       "4          No          No              No  "
      ]
     },
     "metadata": {},
     "output_type": "display_data"
    },
    {
     "name": "stdout",
     "output_type": "stream",
     "text": [
      "<class 'pandas.core.frame.DataFrame'>\n",
      "RangeIndex: 5517 entries, 0 to 5516\n",
      "Data columns (total 8 columns):\n",
      " #   Column            Non-Null Count  Dtype \n",
      "---  ------            --------------  ----- \n",
      " 0   customerID        5517 non-null   object\n",
      " 1   InternetService   5517 non-null   object\n",
      " 2   OnlineSecurity    5517 non-null   object\n",
      " 3   OnlineBackup      5517 non-null   object\n",
      " 4   DeviceProtection  5517 non-null   object\n",
      " 5   TechSupport       5517 non-null   object\n",
      " 6   StreamingTV       5517 non-null   object\n",
      " 7   StreamingMovies   5517 non-null   object\n",
      "dtypes: object(8)\n",
      "memory usage: 344.9+ KB\n",
      "\n",
      "Количество дубликатов: 0\n",
      "\n",
      "Пропуски:\n"
     ]
    },
    {
     "data": {
      "text/plain": [
       "customerID          0\n",
       "InternetService     0\n",
       "OnlineSecurity      0\n",
       "OnlineBackup        0\n",
       "DeviceProtection    0\n",
       "TechSupport         0\n",
       "StreamingTV         0\n",
       "StreamingMovies     0\n",
       "dtype: int64"
      ]
     },
     "metadata": {},
     "output_type": "display_data"
    },
    {
     "name": "stdout",
     "output_type": "stream",
     "text": [
      "**********************************\n",
      "\n",
      "Информация об услугах телефонии\n"
     ]
    },
    {
     "data": {
      "text/html": [
       "<div>\n",
       "<style scoped>\n",
       "    .dataframe tbody tr th:only-of-type {\n",
       "        vertical-align: middle;\n",
       "    }\n",
       "\n",
       "    .dataframe tbody tr th {\n",
       "        vertical-align: top;\n",
       "    }\n",
       "\n",
       "    .dataframe thead th {\n",
       "        text-align: right;\n",
       "    }\n",
       "</style>\n",
       "<table border=\"1\" class=\"dataframe\">\n",
       "  <thead>\n",
       "    <tr style=\"text-align: right;\">\n",
       "      <th></th>\n",
       "      <th>customerID</th>\n",
       "      <th>MultipleLines</th>\n",
       "    </tr>\n",
       "  </thead>\n",
       "  <tbody>\n",
       "    <tr>\n",
       "      <th>0</th>\n",
       "      <td>5575-GNVDE</td>\n",
       "      <td>No</td>\n",
       "    </tr>\n",
       "    <tr>\n",
       "      <th>1</th>\n",
       "      <td>3668-QPYBK</td>\n",
       "      <td>No</td>\n",
       "    </tr>\n",
       "    <tr>\n",
       "      <th>2</th>\n",
       "      <td>9237-HQITU</td>\n",
       "      <td>No</td>\n",
       "    </tr>\n",
       "    <tr>\n",
       "      <th>3</th>\n",
       "      <td>9305-CDSKC</td>\n",
       "      <td>Yes</td>\n",
       "    </tr>\n",
       "    <tr>\n",
       "      <th>4</th>\n",
       "      <td>1452-KIOVK</td>\n",
       "      <td>Yes</td>\n",
       "    </tr>\n",
       "  </tbody>\n",
       "</table>\n",
       "</div>"
      ],
      "text/plain": [
       "   customerID MultipleLines\n",
       "0  5575-GNVDE            No\n",
       "1  3668-QPYBK            No\n",
       "2  9237-HQITU            No\n",
       "3  9305-CDSKC           Yes\n",
       "4  1452-KIOVK           Yes"
      ]
     },
     "metadata": {},
     "output_type": "display_data"
    },
    {
     "name": "stdout",
     "output_type": "stream",
     "text": [
      "<class 'pandas.core.frame.DataFrame'>\n",
      "RangeIndex: 6361 entries, 0 to 6360\n",
      "Data columns (total 2 columns):\n",
      " #   Column         Non-Null Count  Dtype \n",
      "---  ------         --------------  ----- \n",
      " 0   customerID     6361 non-null   object\n",
      " 1   MultipleLines  6361 non-null   object\n",
      "dtypes: object(2)\n",
      "memory usage: 99.5+ KB\n",
      "\n",
      "Количество дубликатов: 0\n",
      "\n",
      "Пропуски:\n"
     ]
    },
    {
     "data": {
      "text/plain": [
       "customerID       0\n",
       "MultipleLines    0\n",
       "dtype: int64"
      ]
     },
     "metadata": {},
     "output_type": "display_data"
    },
    {
     "name": "stdout",
     "output_type": "stream",
     "text": [
      "**********************************\n",
      "\n"
     ]
    }
   ],
   "source": [
    "dt_list = [dt_contract, dt_personal, dt_internet, dt_phone]\n",
    "name_list = ['Иинформация о договоре', 'Персональные данные клиента', 'Информация об интернет-услугах', 'Информация об услугах телефонии']\n",
    "\n",
    "for dt, name in zip(dt_list, name_list):\n",
    "    print(name)\n",
    "    display(dt.head())\n",
    "    dt.info()\n",
    "    print()\n",
    "    print('Количество дубликатов:', dt.duplicated().sum())\n",
    "    print()\n",
    "    print('Пропуски:')\n",
    "    display(dt.isna().sum())\n",
    "    print('**********************************')\n",
    "    print()"
   ]
  },
  {
   "cell_type": "markdown",
   "metadata": {},
   "source": [
    "В данных нет пропусков и дубликатов.  \n",
    "Таблица информация о договоре содержит признаки 'BeginDate' и 'EndDate' - даты заключения и окончания договора.  \n",
    "Целевой признак - факт оттока клиента, можно получить из признака EndDate, где значение 'No' - это выходит договор действовал на дату выгрузки данных.  \n",
    "Признак 'MonthlyCharges' - ежемесячные платежи клиента, 'TotalCharges' - похоже суммарные платежи клиента за весь период осбслуживания. В признаке 'TotalCharges' данные представлены строками и некоторые значения не конвертируются в тип float т.к. заполнены пустой строкой. Посмотрим что это за договора."
   ]
  },
  {
   "cell_type": "code",
   "execution_count": 7,
   "metadata": {},
   "outputs": [
    {
     "data": {
      "text/html": [
       "<div>\n",
       "<style scoped>\n",
       "    .dataframe tbody tr th:only-of-type {\n",
       "        vertical-align: middle;\n",
       "    }\n",
       "\n",
       "    .dataframe tbody tr th {\n",
       "        vertical-align: top;\n",
       "    }\n",
       "\n",
       "    .dataframe thead th {\n",
       "        text-align: right;\n",
       "    }\n",
       "</style>\n",
       "<table border=\"1\" class=\"dataframe\">\n",
       "  <thead>\n",
       "    <tr style=\"text-align: right;\">\n",
       "      <th></th>\n",
       "      <th>customerID</th>\n",
       "      <th>BeginDate</th>\n",
       "      <th>EndDate</th>\n",
       "      <th>Type</th>\n",
       "      <th>PaperlessBilling</th>\n",
       "      <th>PaymentMethod</th>\n",
       "      <th>MonthlyCharges</th>\n",
       "      <th>TotalCharges</th>\n",
       "    </tr>\n",
       "  </thead>\n",
       "  <tbody>\n",
       "    <tr>\n",
       "      <th>488</th>\n",
       "      <td>4472-LVYGI</td>\n",
       "      <td>2020-02-01</td>\n",
       "      <td>No</td>\n",
       "      <td>Two year</td>\n",
       "      <td>Yes</td>\n",
       "      <td>Bank transfer (automatic)</td>\n",
       "      <td>52.55</td>\n",
       "      <td></td>\n",
       "    </tr>\n",
       "    <tr>\n",
       "      <th>753</th>\n",
       "      <td>3115-CZMZD</td>\n",
       "      <td>2020-02-01</td>\n",
       "      <td>No</td>\n",
       "      <td>Two year</td>\n",
       "      <td>No</td>\n",
       "      <td>Mailed check</td>\n",
       "      <td>20.25</td>\n",
       "      <td></td>\n",
       "    </tr>\n",
       "    <tr>\n",
       "      <th>936</th>\n",
       "      <td>5709-LVOEQ</td>\n",
       "      <td>2020-02-01</td>\n",
       "      <td>No</td>\n",
       "      <td>Two year</td>\n",
       "      <td>No</td>\n",
       "      <td>Mailed check</td>\n",
       "      <td>80.85</td>\n",
       "      <td></td>\n",
       "    </tr>\n",
       "    <tr>\n",
       "      <th>1082</th>\n",
       "      <td>4367-NUYAO</td>\n",
       "      <td>2020-02-01</td>\n",
       "      <td>No</td>\n",
       "      <td>Two year</td>\n",
       "      <td>No</td>\n",
       "      <td>Mailed check</td>\n",
       "      <td>25.75</td>\n",
       "      <td></td>\n",
       "    </tr>\n",
       "    <tr>\n",
       "      <th>1340</th>\n",
       "      <td>1371-DWPAZ</td>\n",
       "      <td>2020-02-01</td>\n",
       "      <td>No</td>\n",
       "      <td>Two year</td>\n",
       "      <td>No</td>\n",
       "      <td>Credit card (automatic)</td>\n",
       "      <td>56.05</td>\n",
       "      <td></td>\n",
       "    </tr>\n",
       "    <tr>\n",
       "      <th>3331</th>\n",
       "      <td>7644-OMVMY</td>\n",
       "      <td>2020-02-01</td>\n",
       "      <td>No</td>\n",
       "      <td>Two year</td>\n",
       "      <td>No</td>\n",
       "      <td>Mailed check</td>\n",
       "      <td>19.85</td>\n",
       "      <td></td>\n",
       "    </tr>\n",
       "    <tr>\n",
       "      <th>3826</th>\n",
       "      <td>3213-VVOLG</td>\n",
       "      <td>2020-02-01</td>\n",
       "      <td>No</td>\n",
       "      <td>Two year</td>\n",
       "      <td>No</td>\n",
       "      <td>Mailed check</td>\n",
       "      <td>25.35</td>\n",
       "      <td></td>\n",
       "    </tr>\n",
       "    <tr>\n",
       "      <th>4380</th>\n",
       "      <td>2520-SGTTA</td>\n",
       "      <td>2020-02-01</td>\n",
       "      <td>No</td>\n",
       "      <td>Two year</td>\n",
       "      <td>No</td>\n",
       "      <td>Mailed check</td>\n",
       "      <td>20.00</td>\n",
       "      <td></td>\n",
       "    </tr>\n",
       "    <tr>\n",
       "      <th>5218</th>\n",
       "      <td>2923-ARZLG</td>\n",
       "      <td>2020-02-01</td>\n",
       "      <td>No</td>\n",
       "      <td>One year</td>\n",
       "      <td>Yes</td>\n",
       "      <td>Mailed check</td>\n",
       "      <td>19.70</td>\n",
       "      <td></td>\n",
       "    </tr>\n",
       "    <tr>\n",
       "      <th>6670</th>\n",
       "      <td>4075-WKNIU</td>\n",
       "      <td>2020-02-01</td>\n",
       "      <td>No</td>\n",
       "      <td>Two year</td>\n",
       "      <td>No</td>\n",
       "      <td>Mailed check</td>\n",
       "      <td>73.35</td>\n",
       "      <td></td>\n",
       "    </tr>\n",
       "    <tr>\n",
       "      <th>6754</th>\n",
       "      <td>2775-SEFEE</td>\n",
       "      <td>2020-02-01</td>\n",
       "      <td>No</td>\n",
       "      <td>Two year</td>\n",
       "      <td>Yes</td>\n",
       "      <td>Bank transfer (automatic)</td>\n",
       "      <td>61.90</td>\n",
       "      <td></td>\n",
       "    </tr>\n",
       "  </tbody>\n",
       "</table>\n",
       "</div>"
      ],
      "text/plain": [
       "      customerID   BeginDate EndDate      Type PaperlessBilling  \\\n",
       "488   4472-LVYGI  2020-02-01      No  Two year              Yes   \n",
       "753   3115-CZMZD  2020-02-01      No  Two year               No   \n",
       "936   5709-LVOEQ  2020-02-01      No  Two year               No   \n",
       "1082  4367-NUYAO  2020-02-01      No  Two year               No   \n",
       "1340  1371-DWPAZ  2020-02-01      No  Two year               No   \n",
       "3331  7644-OMVMY  2020-02-01      No  Two year               No   \n",
       "3826  3213-VVOLG  2020-02-01      No  Two year               No   \n",
       "4380  2520-SGTTA  2020-02-01      No  Two year               No   \n",
       "5218  2923-ARZLG  2020-02-01      No  One year              Yes   \n",
       "6670  4075-WKNIU  2020-02-01      No  Two year               No   \n",
       "6754  2775-SEFEE  2020-02-01      No  Two year              Yes   \n",
       "\n",
       "                  PaymentMethod  MonthlyCharges TotalCharges  \n",
       "488   Bank transfer (automatic)           52.55               \n",
       "753                Mailed check           20.25               \n",
       "936                Mailed check           80.85               \n",
       "1082               Mailed check           25.75               \n",
       "1340    Credit card (automatic)           56.05               \n",
       "3331               Mailed check           19.85               \n",
       "3826               Mailed check           25.35               \n",
       "4380               Mailed check           20.00               \n",
       "5218               Mailed check           19.70               \n",
       "6670               Mailed check           73.35               \n",
       "6754  Bank transfer (automatic)           61.90               "
      ]
     },
     "execution_count": 7,
     "metadata": {},
     "output_type": "execute_result"
    }
   ],
   "source": [
    "dt_contract[dt_contract['TotalCharges'] == ' ']"
   ]
  },
  {
   "cell_type": "markdown",
   "metadata": {},
   "source": [
    "Это новые договора, заключены в день выгрузки и клиенты еще ни разу не платили. Их можно будет удалить или заполнить значения 0."
   ]
  },
  {
   "cell_type": "markdown",
   "metadata": {},
   "source": [
    "Посмотрим на распределение значений в признаке 'EndDate'"
   ]
  },
  {
   "cell_type": "code",
   "execution_count": 8,
   "metadata": {},
   "outputs": [
    {
     "data": {
      "text/plain": [
       "No                     5174\n",
       "2019-11-01 00:00:00     485\n",
       "2019-12-01 00:00:00     466\n",
       "2020-01-01 00:00:00     460\n",
       "2019-10-01 00:00:00     458\n",
       "Name: EndDate, dtype: int64"
      ]
     },
     "execution_count": 8,
     "metadata": {},
     "output_type": "execute_result"
    }
   ],
   "source": [
    "dt_contract['EndDate'].value_counts()"
   ]
  },
  {
   "cell_type": "markdown",
   "metadata": {},
   "source": [
    "Удивительно, что клиенты уходили примерно в равных количествах и в одни и те же даты. И было это всего 4 раза за весь период, причем подряд, с октября 2019 по январь 2020. Не похоже на естественное поведение клиентов."
   ]
  },
  {
   "cell_type": "markdown",
   "metadata": {},
   "source": [
    "Признаки 'Type', 'PaperlessBilling', 'PaymentMethod' - категориальные, посмотрим на распределение их значений."
   ]
  },
  {
   "cell_type": "code",
   "execution_count": 9,
   "metadata": {
    "scrolled": true
   },
   "outputs": [
    {
     "name": "stdout",
     "output_type": "stream",
     "text": [
      "Type\n"
     ]
    },
    {
     "data": {
      "image/png": "[encoded data removed]",
      "text/plain": [
       "<Figure size 432x288 with 1 Axes>"
      ]
     },
     "metadata": {
      "needs_background": "light"
     },
     "output_type": "display_data"
    },
    {
     "name": "stdout",
     "output_type": "stream",
     "text": [
      "PaperlessBilling\n"
     ]
    },
    {
     "data": {
      "image/png": "[encoded data removed]",
      "text/plain": [
       "<Figure size 432x288 with 1 Axes>"
      ]
     },
     "metadata": {
      "needs_background": "light"
     },
     "output_type": "display_data"
    },
    {
     "name": "stdout",
     "output_type": "stream",
     "text": [
      "PaymentMethod\n"
     ]
    },
    {
     "data": {
      "image/png": "[encoded data removed]",
      "text/plain": [
       "<Figure size 432x288 with 1 Axes>"
      ]
     },
     "metadata": {
      "needs_background": "light"
     },
     "output_type": "display_data"
    }
   ],
   "source": [
    "for feature in ['Type', 'PaperlessBilling', 'PaymentMethod']:\n",
    "    print(feature)\n",
    "    dt_contract[feature].value_counts().plot(kind='bar')\n",
    "    plt.show()"
   ]
  },
  {
   "cell_type": "markdown",
   "metadata": {},
   "source": [
    "Скрытых дубликатов, аномалий не наблюдается. Количество уникальных значений небольшое, можно будет использовать технику One-Hot Encoding для проеобразования данных - таблица увеличится незначительно.\n",
    "Аналогично в остальных таблицах. 'Персональные данные клиента', 'Информация об интернет-услугах', 'Информация об услугах телефонии' - все признаки бинарные. 'InternetService' в 'Информация об интернет-услугах' имеет 2 значения: Fiber optic и DSL."
   ]
  },
  {
   "cell_type": "markdown",
   "metadata": {},
   "source": [
    "###  Список уточняющих вопросов"
   ]
  },
  {
   "cell_type": "markdown",
   "metadata": {},
   "source": [
    "1. Целевой признак определяем по активным контрактам на дату выгрузки 01.02.2020 по признаку 'EndDate'?\n",
    "2. Признак 'EndDate', почему записи свидетельствуют, что клиенты уходили примерно в равных количествах, в одни и те же даты, было это всего 4 раза за весь период, причем подряд с октября 2019 по январь 2020? Не похоже на естественное поведение клиентов.\n",
    "3. У нас задача классификации, уйдет/не уйдет. Какую метрику качества будем использовать? F1-мера? AUC-ROC?\n",
    "4. С точки зрения бизнеса телеком вероятно важно определить склонных к оттоку и удержать их и в то же время не перекупить у себя же пользователей ложно причисленным к таким и тем самым снизить свою прибыль. Нужно ли отдельно достичь каких то значений мер точности или полноты?\n",
    "5. Каких значений метрики качества надо достичь?\n",
    "6. Есть ли ограничения по применяемым алгоритмам для обученяи моделей?\n",
    "7. В выборке клиенты пользующиеся разными услугами, разными технологиями. Модель должна быть универсальной? Или ориентированной на какие-то определенные категории клиентов?\n",
    "8. Что за признаки в таблице 'personal' - Partner, Dependents?"
   ]
  },
  {
   "cell_type": "markdown",
   "metadata": {},
   "source": [
    "### Примерный план решения задачи."
   ]
  },
  {
   "cell_type": "markdown",
   "metadata": {},
   "source": [
    "1. Подготовка данных.\n",
    " - Предобработка, приведение типов данных. Объединение датасетов, заполнение/удаление пропусков. Определение целевого признака. \n",
    "2. Исследовательский анализ данных.\n",
    " - Выявление зависимостей и аномалий в данных. Проверка гипотез. Избавление от выбросов и избыточных данных.\n",
    "3. Подготовка данных для обучения моделей\n",
    " - Выделение целевого признака. Стандартизация, анализ/устранение дисбаланса, добавление/удаление признаков. Разделение данных на train и test.\n",
    "4. Настройка, обучение и тестирование моделей.\n",
    " - Подбор гиперпараметров и моделей для достижения заданного значения метрики. Тестирование лучших моделей на тестовой выборке.\n",
    "5. Заключение"
   ]
  },
  {
   "cell_type": "markdown",
   "metadata": {},
   "source": [
    "## Подготовка данных"
   ]
  },
  {
   "cell_type": "markdown",
   "metadata": {},
   "source": [
    "Добавим в dt_contract столбец с целевым признаком, назовем его 'Exited'"
   ]
  },
  {
   "cell_type": "code",
   "execution_count": 10,
   "metadata": {},
   "outputs": [
    {
     "data": {
      "text/html": [
       "<div>\n",
       "<style scoped>\n",
       "    .dataframe tbody tr th:only-of-type {\n",
       "        vertical-align: middle;\n",
       "    }\n",
       "\n",
       "    .dataframe tbody tr th {\n",
       "        vertical-align: top;\n",
       "    }\n",
       "\n",
       "    .dataframe thead th {\n",
       "        text-align: right;\n",
       "    }\n",
       "</style>\n",
       "<table border=\"1\" class=\"dataframe\">\n",
       "  <thead>\n",
       "    <tr style=\"text-align: right;\">\n",
       "      <th></th>\n",
       "      <th>customerID</th>\n",
       "      <th>BeginDate</th>\n",
       "      <th>EndDate</th>\n",
       "      <th>Type</th>\n",
       "      <th>PaperlessBilling</th>\n",
       "      <th>PaymentMethod</th>\n",
       "      <th>MonthlyCharges</th>\n",
       "      <th>TotalCharges</th>\n",
       "      <th>Exited</th>\n",
       "    </tr>\n",
       "  </thead>\n",
       "  <tbody>\n",
       "    <tr>\n",
       "      <th>0</th>\n",
       "      <td>7590-VHVEG</td>\n",
       "      <td>2020-01-01</td>\n",
       "      <td>No</td>\n",
       "      <td>Month-to-month</td>\n",
       "      <td>Yes</td>\n",
       "      <td>Electronic check</td>\n",
       "      <td>29.85</td>\n",
       "      <td>29.85</td>\n",
       "      <td>0</td>\n",
       "    </tr>\n",
       "    <tr>\n",
       "      <th>1</th>\n",
       "      <td>5575-GNVDE</td>\n",
       "      <td>2017-04-01</td>\n",
       "      <td>No</td>\n",
       "      <td>One year</td>\n",
       "      <td>No</td>\n",
       "      <td>Mailed check</td>\n",
       "      <td>56.95</td>\n",
       "      <td>1889.5</td>\n",
       "      <td>0</td>\n",
       "    </tr>\n",
       "    <tr>\n",
       "      <th>2</th>\n",
       "      <td>3668-QPYBK</td>\n",
       "      <td>2019-10-01</td>\n",
       "      <td>2019-12-01 00:00:00</td>\n",
       "      <td>Month-to-month</td>\n",
       "      <td>Yes</td>\n",
       "      <td>Mailed check</td>\n",
       "      <td>53.85</td>\n",
       "      <td>108.15</td>\n",
       "      <td>1</td>\n",
       "    </tr>\n",
       "    <tr>\n",
       "      <th>3</th>\n",
       "      <td>7795-CFOCW</td>\n",
       "      <td>2016-05-01</td>\n",
       "      <td>No</td>\n",
       "      <td>One year</td>\n",
       "      <td>No</td>\n",
       "      <td>Bank transfer (automatic)</td>\n",
       "      <td>42.30</td>\n",
       "      <td>1840.75</td>\n",
       "      <td>0</td>\n",
       "    </tr>\n",
       "    <tr>\n",
       "      <th>4</th>\n",
       "      <td>9237-HQITU</td>\n",
       "      <td>2019-09-01</td>\n",
       "      <td>2019-11-01 00:00:00</td>\n",
       "      <td>Month-to-month</td>\n",
       "      <td>Yes</td>\n",
       "      <td>Electronic check</td>\n",
       "      <td>70.70</td>\n",
       "      <td>151.65</td>\n",
       "      <td>1</td>\n",
       "    </tr>\n",
       "    <tr>\n",
       "      <th>5</th>\n",
       "      <td>9305-CDSKC</td>\n",
       "      <td>2019-03-01</td>\n",
       "      <td>2019-11-01 00:00:00</td>\n",
       "      <td>Month-to-month</td>\n",
       "      <td>Yes</td>\n",
       "      <td>Electronic check</td>\n",
       "      <td>99.65</td>\n",
       "      <td>820.5</td>\n",
       "      <td>1</td>\n",
       "    </tr>\n",
       "    <tr>\n",
       "      <th>6</th>\n",
       "      <td>1452-KIOVK</td>\n",
       "      <td>2018-04-01</td>\n",
       "      <td>No</td>\n",
       "      <td>Month-to-month</td>\n",
       "      <td>Yes</td>\n",
       "      <td>Credit card (automatic)</td>\n",
       "      <td>89.10</td>\n",
       "      <td>1949.4</td>\n",
       "      <td>0</td>\n",
       "    </tr>\n",
       "    <tr>\n",
       "      <th>7</th>\n",
       "      <td>6713-OKOMC</td>\n",
       "      <td>2019-04-01</td>\n",
       "      <td>No</td>\n",
       "      <td>Month-to-month</td>\n",
       "      <td>No</td>\n",
       "      <td>Mailed check</td>\n",
       "      <td>29.75</td>\n",
       "      <td>301.9</td>\n",
       "      <td>0</td>\n",
       "    </tr>\n",
       "    <tr>\n",
       "      <th>8</th>\n",
       "      <td>7892-POOKP</td>\n",
       "      <td>2017-07-01</td>\n",
       "      <td>2019-11-01 00:00:00</td>\n",
       "      <td>Month-to-month</td>\n",
       "      <td>Yes</td>\n",
       "      <td>Electronic check</td>\n",
       "      <td>104.80</td>\n",
       "      <td>3046.05</td>\n",
       "      <td>1</td>\n",
       "    </tr>\n",
       "    <tr>\n",
       "      <th>9</th>\n",
       "      <td>6388-TABGU</td>\n",
       "      <td>2014-12-01</td>\n",
       "      <td>No</td>\n",
       "      <td>One year</td>\n",
       "      <td>No</td>\n",
       "      <td>Bank transfer (automatic)</td>\n",
       "      <td>56.15</td>\n",
       "      <td>3487.95</td>\n",
       "      <td>0</td>\n",
       "    </tr>\n",
       "  </tbody>\n",
       "</table>\n",
       "</div>"
      ],
      "text/plain": [
       "   customerID   BeginDate              EndDate            Type  \\\n",
       "0  7590-VHVEG  2020-01-01                   No  Month-to-month   \n",
       "1  5575-GNVDE  2017-04-01                   No        One year   \n",
       "2  3668-QPYBK  2019-10-01  2019-12-01 00:00:00  Month-to-month   \n",
       "3  7795-CFOCW  2016-05-01                   No        One year   \n",
       "4  9237-HQITU  2019-09-01  2019-11-01 00:00:00  Month-to-month   \n",
       "5  9305-CDSKC  2019-03-01  2019-11-01 00:00:00  Month-to-month   \n",
       "6  1452-KIOVK  2018-04-01                   No  Month-to-month   \n",
       "7  6713-OKOMC  2019-04-01                   No  Month-to-month   \n",
       "8  7892-POOKP  2017-07-01  2019-11-01 00:00:00  Month-to-month   \n",
       "9  6388-TABGU  2014-12-01                   No        One year   \n",
       "\n",
       "  PaperlessBilling              PaymentMethod  MonthlyCharges TotalCharges  \\\n",
       "0              Yes           Electronic check           29.85        29.85   \n",
       "1               No               Mailed check           56.95       1889.5   \n",
       "2              Yes               Mailed check           53.85       108.15   \n",
       "3               No  Bank transfer (automatic)           42.30      1840.75   \n",
       "4              Yes           Electronic check           70.70       151.65   \n",
       "5              Yes           Electronic check           99.65        820.5   \n",
       "6              Yes    Credit card (automatic)           89.10       1949.4   \n",
       "7               No               Mailed check           29.75        301.9   \n",
       "8              Yes           Electronic check          104.80      3046.05   \n",
       "9               No  Bank transfer (automatic)           56.15      3487.95   \n",
       "\n",
       "   Exited  \n",
       "0       0  \n",
       "1       0  \n",
       "2       1  \n",
       "3       0  \n",
       "4       1  \n",
       "5       1  \n",
       "6       0  \n",
       "7       0  \n",
       "8       1  \n",
       "9       0  "
      ]
     },
     "metadata": {},
     "output_type": "display_data"
    }
   ],
   "source": [
    "dt_contract['Exited'] = np.where(dt_contract['EndDate'] == 'No', 0, 1)\n",
    "display(dt_contract.head(10))"
   ]
  },
  {
   "cell_type": "markdown",
   "metadata": {},
   "source": [
    "Добавим в таблицу dt_phone признак 'PhoneService', что это пользователь сервиса телефонии."
   ]
  },
  {
   "cell_type": "code",
   "execution_count": 11,
   "metadata": {},
   "outputs": [
    {
     "name": "stdout",
     "output_type": "stream",
     "text": [
      "<class 'pandas.core.frame.DataFrame'>\n",
      "RangeIndex: 6361 entries, 0 to 6360\n",
      "Data columns (total 3 columns):\n",
      " #   Column         Non-Null Count  Dtype \n",
      "---  ------         --------------  ----- \n",
      " 0   customerID     6361 non-null   object\n",
      " 1   MultipleLines  6361 non-null   object\n",
      " 2   PhoneService   6361 non-null   object\n",
      "dtypes: object(3)\n",
      "memory usage: 149.2+ KB\n"
     ]
    },
    {
     "data": {
      "text/html": [
       "<div>\n",
       "<style scoped>\n",
       "    .dataframe tbody tr th:only-of-type {\n",
       "        vertical-align: middle;\n",
       "    }\n",
       "\n",
       "    .dataframe tbody tr th {\n",
       "        vertical-align: top;\n",
       "    }\n",
       "\n",
       "    .dataframe thead th {\n",
       "        text-align: right;\n",
       "    }\n",
       "</style>\n",
       "<table border=\"1\" class=\"dataframe\">\n",
       "  <thead>\n",
       "    <tr style=\"text-align: right;\">\n",
       "      <th></th>\n",
       "      <th>customerID</th>\n",
       "      <th>MultipleLines</th>\n",
       "      <th>PhoneService</th>\n",
       "    </tr>\n",
       "  </thead>\n",
       "  <tbody>\n",
       "    <tr>\n",
       "      <th>0</th>\n",
       "      <td>5575-GNVDE</td>\n",
       "      <td>No</td>\n",
       "      <td>Yes</td>\n",
       "    </tr>\n",
       "    <tr>\n",
       "      <th>1</th>\n",
       "      <td>3668-QPYBK</td>\n",
       "      <td>No</td>\n",
       "      <td>Yes</td>\n",
       "    </tr>\n",
       "    <tr>\n",
       "      <th>2</th>\n",
       "      <td>9237-HQITU</td>\n",
       "      <td>No</td>\n",
       "      <td>Yes</td>\n",
       "    </tr>\n",
       "    <tr>\n",
       "      <th>3</th>\n",
       "      <td>9305-CDSKC</td>\n",
       "      <td>Yes</td>\n",
       "      <td>Yes</td>\n",
       "    </tr>\n",
       "    <tr>\n",
       "      <th>4</th>\n",
       "      <td>1452-KIOVK</td>\n",
       "      <td>Yes</td>\n",
       "      <td>Yes</td>\n",
       "    </tr>\n",
       "  </tbody>\n",
       "</table>\n",
       "</div>"
      ],
      "text/plain": [
       "   customerID MultipleLines PhoneService\n",
       "0  5575-GNVDE            No          Yes\n",
       "1  3668-QPYBK            No          Yes\n",
       "2  9237-HQITU            No          Yes\n",
       "3  9305-CDSKC           Yes          Yes\n",
       "4  1452-KIOVK           Yes          Yes"
      ]
     },
     "metadata": {},
     "output_type": "display_data"
    }
   ],
   "source": [
    "dt_phone['PhoneService'] = 'Yes'\n",
    "dt_phone.info()\n",
    "display(dt_phone.head())"
   ]
  },
  {
   "cell_type": "markdown",
   "metadata": {},
   "source": [
    "Объединим все данные в один датафрейм"
   ]
  },
  {
   "cell_type": "code",
   "execution_count": 12,
   "metadata": {},
   "outputs": [
    {
     "name": "stdout",
     "output_type": "stream",
     "text": [
      "<class 'pandas.core.frame.DataFrame'>\n",
      "Int64Index: 7043 entries, 0 to 7042\n",
      "Data columns (total 22 columns):\n",
      " #   Column            Non-Null Count  Dtype  \n",
      "---  ------            --------------  -----  \n",
      " 0   customerID        7043 non-null   object \n",
      " 1   BeginDate         7043 non-null   object \n",
      " 2   EndDate           7043 non-null   object \n",
      " 3   Type              7043 non-null   object \n",
      " 4   PaperlessBilling  7043 non-null   object \n",
      " 5   PaymentMethod     7043 non-null   object \n",
      " 6   MonthlyCharges    7043 non-null   float64\n",
      " 7   TotalCharges      7043 non-null   object \n",
      " 8   Exited            7043 non-null   int64  \n",
      " 9   gender            7043 non-null   object \n",
      " 10  SeniorCitizen     7043 non-null   int64  \n",
      " 11  Partner           7043 non-null   object \n",
      " 12  Dependents        7043 non-null   object \n",
      " 13  MultipleLines     6361 non-null   object \n",
      " 14  PhoneService      6361 non-null   object \n",
      " 15  InternetService   5517 non-null   object \n",
      " 16  OnlineSecurity    5517 non-null   object \n",
      " 17  OnlineBackup      5517 non-null   object \n",
      " 18  DeviceProtection  5517 non-null   object \n",
      " 19  TechSupport       5517 non-null   object \n",
      " 20  StreamingTV       5517 non-null   object \n",
      " 21  StreamingMovies   5517 non-null   object \n",
      "dtypes: float64(1), int64(2), object(19)\n",
      "memory usage: 1.2+ MB\n"
     ]
    },
    {
     "data": {
      "text/html": [
       "<div>\n",
       "<style scoped>\n",
       "    .dataframe tbody tr th:only-of-type {\n",
       "        vertical-align: middle;\n",
       "    }\n",
       "\n",
       "    .dataframe tbody tr th {\n",
       "        vertical-align: top;\n",
       "    }\n",
       "\n",
       "    .dataframe thead th {\n",
       "        text-align: right;\n",
       "    }\n",
       "</style>\n",
       "<table border=\"1\" class=\"dataframe\">\n",
       "  <thead>\n",
       "    <tr style=\"text-align: right;\">\n",
       "      <th></th>\n",
       "      <th>customerID</th>\n",
       "      <th>BeginDate</th>\n",
       "      <th>EndDate</th>\n",
       "      <th>Type</th>\n",
       "      <th>PaperlessBilling</th>\n",
       "      <th>PaymentMethod</th>\n",
       "      <th>MonthlyCharges</th>\n",
       "      <th>TotalCharges</th>\n",
       "      <th>Exited</th>\n",
       "      <th>gender</th>\n",
       "      <th>...</th>\n",
       "      <th>Dependents</th>\n",
       "      <th>MultipleLines</th>\n",
       "      <th>PhoneService</th>\n",
       "      <th>InternetService</th>\n",
       "      <th>OnlineSecurity</th>\n",
       "      <th>OnlineBackup</th>\n",
       "      <th>DeviceProtection</th>\n",
       "      <th>TechSupport</th>\n",
       "      <th>StreamingTV</th>\n",
       "      <th>StreamingMovies</th>\n",
       "    </tr>\n",
       "  </thead>\n",
       "  <tbody>\n",
       "    <tr>\n",
       "      <th>0</th>\n",
       "      <td>7590-VHVEG</td>\n",
       "      <td>2020-01-01</td>\n",
       "      <td>No</td>\n",
       "      <td>Month-to-month</td>\n",
       "      <td>Yes</td>\n",
       "      <td>Electronic check</td>\n",
       "      <td>29.85</td>\n",
       "      <td>29.85</td>\n",
       "      <td>0</td>\n",
       "      <td>Female</td>\n",
       "      <td>...</td>\n",
       "      <td>No</td>\n",
       "      <td>NaN</td>\n",
       "      <td>NaN</td>\n",
       "      <td>DSL</td>\n",
       "      <td>No</td>\n",
       "      <td>Yes</td>\n",
       "      <td>No</td>\n",
       "      <td>No</td>\n",
       "      <td>No</td>\n",
       "      <td>No</td>\n",
       "    </tr>\n",
       "    <tr>\n",
       "      <th>1</th>\n",
       "      <td>5575-GNVDE</td>\n",
       "      <td>2017-04-01</td>\n",
       "      <td>No</td>\n",
       "      <td>One year</td>\n",
       "      <td>No</td>\n",
       "      <td>Mailed check</td>\n",
       "      <td>56.95</td>\n",
       "      <td>1889.5</td>\n",
       "      <td>0</td>\n",
       "      <td>Male</td>\n",
       "      <td>...</td>\n",
       "      <td>No</td>\n",
       "      <td>No</td>\n",
       "      <td>Yes</td>\n",
       "      <td>DSL</td>\n",
       "      <td>Yes</td>\n",
       "      <td>No</td>\n",
       "      <td>Yes</td>\n",
       "      <td>No</td>\n",
       "      <td>No</td>\n",
       "      <td>No</td>\n",
       "    </tr>\n",
       "    <tr>\n",
       "      <th>2</th>\n",
       "      <td>3668-QPYBK</td>\n",
       "      <td>2019-10-01</td>\n",
       "      <td>2019-12-01 00:00:00</td>\n",
       "      <td>Month-to-month</td>\n",
       "      <td>Yes</td>\n",
       "      <td>Mailed check</td>\n",
       "      <td>53.85</td>\n",
       "      <td>108.15</td>\n",
       "      <td>1</td>\n",
       "      <td>Male</td>\n",
       "      <td>...</td>\n",
       "      <td>No</td>\n",
       "      <td>No</td>\n",
       "      <td>Yes</td>\n",
       "      <td>DSL</td>\n",
       "      <td>Yes</td>\n",
       "      <td>Yes</td>\n",
       "      <td>No</td>\n",
       "      <td>No</td>\n",
       "      <td>No</td>\n",
       "      <td>No</td>\n",
       "    </tr>\n",
       "    <tr>\n",
       "      <th>3</th>\n",
       "      <td>7795-CFOCW</td>\n",
       "      <td>2016-05-01</td>\n",
       "      <td>No</td>\n",
       "      <td>One year</td>\n",
       "      <td>No</td>\n",
       "      <td>Bank transfer (automatic)</td>\n",
       "      <td>42.30</td>\n",
       "      <td>1840.75</td>\n",
       "      <td>0</td>\n",
       "      <td>Male</td>\n",
       "      <td>...</td>\n",
       "      <td>No</td>\n",
       "      <td>NaN</td>\n",
       "      <td>NaN</td>\n",
       "      <td>DSL</td>\n",
       "      <td>Yes</td>\n",
       "      <td>No</td>\n",
       "      <td>Yes</td>\n",
       "      <td>Yes</td>\n",
       "      <td>No</td>\n",
       "      <td>No</td>\n",
       "    </tr>\n",
       "    <tr>\n",
       "      <th>4</th>\n",
       "      <td>9237-HQITU</td>\n",
       "      <td>2019-09-01</td>\n",
       "      <td>2019-11-01 00:00:00</td>\n",
       "      <td>Month-to-month</td>\n",
       "      <td>Yes</td>\n",
       "      <td>Electronic check</td>\n",
       "      <td>70.70</td>\n",
       "      <td>151.65</td>\n",
       "      <td>1</td>\n",
       "      <td>Female</td>\n",
       "      <td>...</td>\n",
       "      <td>No</td>\n",
       "      <td>No</td>\n",
       "      <td>Yes</td>\n",
       "      <td>Fiber optic</td>\n",
       "      <td>No</td>\n",
       "      <td>No</td>\n",
       "      <td>No</td>\n",
       "      <td>No</td>\n",
       "      <td>No</td>\n",
       "      <td>No</td>\n",
       "    </tr>\n",
       "  </tbody>\n",
       "</table>\n",
       "<p>5 rows × 22 columns</p>\n",
       "</div>"
      ],
      "text/plain": [
       "   customerID   BeginDate              EndDate            Type  \\\n",
       "0  7590-VHVEG  2020-01-01                   No  Month-to-month   \n",
       "1  5575-GNVDE  2017-04-01                   No        One year   \n",
       "2  3668-QPYBK  2019-10-01  2019-12-01 00:00:00  Month-to-month   \n",
       "3  7795-CFOCW  2016-05-01                   No        One year   \n",
       "4  9237-HQITU  2019-09-01  2019-11-01 00:00:00  Month-to-month   \n",
       "\n",
       "  PaperlessBilling              PaymentMethod  MonthlyCharges TotalCharges  \\\n",
       "0              Yes           Electronic check           29.85        29.85   \n",
       "1               No               Mailed check           56.95       1889.5   \n",
       "2              Yes               Mailed check           53.85       108.15   \n",
       "3               No  Bank transfer (automatic)           42.30      1840.75   \n",
       "4              Yes           Electronic check           70.70       151.65   \n",
       "\n",
       "   Exited  gender  ...  Dependents MultipleLines PhoneService InternetService  \\\n",
       "0       0  Female  ...          No           NaN          NaN             DSL   \n",
       "1       0    Male  ...          No            No          Yes             DSL   \n",
       "2       1    Male  ...          No            No          Yes             DSL   \n",
       "3       0    Male  ...          No           NaN          NaN             DSL   \n",
       "4       1  Female  ...          No            No          Yes     Fiber optic   \n",
       "\n",
       "  OnlineSecurity OnlineBackup DeviceProtection TechSupport StreamingTV  \\\n",
       "0             No          Yes               No          No          No   \n",
       "1            Yes           No              Yes          No          No   \n",
       "2            Yes          Yes               No          No          No   \n",
       "3            Yes           No              Yes         Yes          No   \n",
       "4             No           No               No          No          No   \n",
       "\n",
       "  StreamingMovies  \n",
       "0              No  \n",
       "1              No  \n",
       "2              No  \n",
       "3              No  \n",
       "4              No  \n",
       "\n",
       "[5 rows x 22 columns]"
      ]
     },
     "execution_count": 12,
     "metadata": {},
     "output_type": "execute_result"
    }
   ],
   "source": [
    "dt_full = dt_contract.merge(dt_personal, on='customerID', how='left').merge(\n",
    "                            dt_phone, on='customerID', how='left').merge(\n",
    "                            dt_internet, on='customerID', how='left')\n",
    "dt_full.info()\n",
    "dt_full.head(5)"
   ]
  },
  {
   "cell_type": "markdown",
   "metadata": {},
   "source": [
    "Удалим записи с новыми контрактами, заключенными в день выгрузки и где клиенты еще не пользовались услугами и ни разу не платили."
   ]
  },
  {
   "cell_type": "code",
   "execution_count": 13,
   "metadata": {},
   "outputs": [
    {
     "name": "stdout",
     "output_type": "stream",
     "text": [
      "<class 'pandas.core.frame.DataFrame'>\n",
      "Int64Index: 7032 entries, 0 to 7042\n",
      "Data columns (total 22 columns):\n",
      " #   Column            Non-Null Count  Dtype  \n",
      "---  ------            --------------  -----  \n",
      " 0   customerID        7032 non-null   object \n",
      " 1   BeginDate         7032 non-null   object \n",
      " 2   EndDate           7032 non-null   object \n",
      " 3   Type              7032 non-null   object \n",
      " 4   PaperlessBilling  7032 non-null   object \n",
      " 5   PaymentMethod     7032 non-null   object \n",
      " 6   MonthlyCharges    7032 non-null   float64\n",
      " 7   TotalCharges      7032 non-null   object \n",
      " 8   Exited            7032 non-null   int64  \n",
      " 9   gender            7032 non-null   object \n",
      " 10  SeniorCitizen     7032 non-null   int64  \n",
      " 11  Partner           7032 non-null   object \n",
      " 12  Dependents        7032 non-null   object \n",
      " 13  MultipleLines     6352 non-null   object \n",
      " 14  PhoneService      6352 non-null   object \n",
      " 15  InternetService   5512 non-null   object \n",
      " 16  OnlineSecurity    5512 non-null   object \n",
      " 17  OnlineBackup      5512 non-null   object \n",
      " 18  DeviceProtection  5512 non-null   object \n",
      " 19  TechSupport       5512 non-null   object \n",
      " 20  StreamingTV       5512 non-null   object \n",
      " 21  StreamingMovies   5512 non-null   object \n",
      "dtypes: float64(1), int64(2), object(19)\n",
      "memory usage: 1.2+ MB\n"
     ]
    }
   ],
   "source": [
    "dt_full = dt_full.loc[dt_full['BeginDate'] != '2020-02-01']\n",
    "dt_full.info()"
   ]
  },
  {
   "cell_type": "markdown",
   "metadata": {},
   "source": [
    "Посмотрим на распределение дат ухода клиентов."
   ]
  },
  {
   "cell_type": "code",
   "execution_count": 14,
   "metadata": {},
   "outputs": [
    {
     "data": {
      "image/png": "[encoded data removed]",
      "text/plain": [
       "<Figure size 432x288 with 1 Axes>"
      ]
     },
     "metadata": {
      "needs_background": "light"
     },
     "output_type": "display_data"
    }
   ],
   "source": [
    "dt_full['EndDate'].value_counts().plot(kind='bar')\n",
    "plt.show()"
   ]
  },
  {
   "cell_type": "markdown",
   "metadata": {},
   "source": [
    "Выгрузка данных выполнена на 01.02.2020. Отток начался четыре месяца назад. Возможно появился какой-то новый конкурент и клиенты стали уходить. Видимо раньше у нашей компании не было серьезной конкуренции. Использование признаков-дат в такой ситуации приведет к ненужному влиянию их на целевые метрики во время обучения и снизит эффективность работы итоговых моделей при использовании их бизнесом в дальнейшем. Но из 'BeginDate' и 'EndDate' можно получить \"время жизни\" клиента в компании, что вероятно будет полезной информацией для обучения будущих моделей.\n",
    "\n",
    "Добавим новый столбец 'TenureDay' - количество дней действия контракта клиента до момента расторжения. Для тех у кого контаркт действовал на дату выгрузки примем за конечную дату '2020-02-01'"
   ]
  },
  {
   "cell_type": "code",
   "execution_count": 15,
   "metadata": {},
   "outputs": [
    {
     "data": {
      "text/html": [
       "<div>\n",
       "<style scoped>\n",
       "    .dataframe tbody tr th:only-of-type {\n",
       "        vertical-align: middle;\n",
       "    }\n",
       "\n",
       "    .dataframe tbody tr th {\n",
       "        vertical-align: top;\n",
       "    }\n",
       "\n",
       "    .dataframe thead th {\n",
       "        text-align: right;\n",
       "    }\n",
       "</style>\n",
       "<table border=\"1\" class=\"dataframe\">\n",
       "  <thead>\n",
       "    <tr style=\"text-align: right;\">\n",
       "      <th></th>\n",
       "      <th>customerID</th>\n",
       "      <th>BeginDate</th>\n",
       "      <th>EndDate</th>\n",
       "      <th>Type</th>\n",
       "      <th>PaperlessBilling</th>\n",
       "      <th>PaymentMethod</th>\n",
       "      <th>MonthlyCharges</th>\n",
       "      <th>TotalCharges</th>\n",
       "      <th>Exited</th>\n",
       "      <th>gender</th>\n",
       "      <th>...</th>\n",
       "      <th>MultipleLines</th>\n",
       "      <th>PhoneService</th>\n",
       "      <th>InternetService</th>\n",
       "      <th>OnlineSecurity</th>\n",
       "      <th>OnlineBackup</th>\n",
       "      <th>DeviceProtection</th>\n",
       "      <th>TechSupport</th>\n",
       "      <th>StreamingTV</th>\n",
       "      <th>StreamingMovies</th>\n",
       "      <th>TenureDay</th>\n",
       "    </tr>\n",
       "  </thead>\n",
       "  <tbody>\n",
       "    <tr>\n",
       "      <th>0</th>\n",
       "      <td>7590-VHVEG</td>\n",
       "      <td>2020-01-01</td>\n",
       "      <td>2020-02-01</td>\n",
       "      <td>Month-to-month</td>\n",
       "      <td>Yes</td>\n",
       "      <td>Electronic check</td>\n",
       "      <td>29.85</td>\n",
       "      <td>29.85</td>\n",
       "      <td>0</td>\n",
       "      <td>Female</td>\n",
       "      <td>...</td>\n",
       "      <td>NaN</td>\n",
       "      <td>NaN</td>\n",
       "      <td>DSL</td>\n",
       "      <td>No</td>\n",
       "      <td>Yes</td>\n",
       "      <td>No</td>\n",
       "      <td>No</td>\n",
       "      <td>No</td>\n",
       "      <td>No</td>\n",
       "      <td>31</td>\n",
       "    </tr>\n",
       "    <tr>\n",
       "      <th>1</th>\n",
       "      <td>5575-GNVDE</td>\n",
       "      <td>2017-04-01</td>\n",
       "      <td>2020-02-01</td>\n",
       "      <td>One year</td>\n",
       "      <td>No</td>\n",
       "      <td>Mailed check</td>\n",
       "      <td>56.95</td>\n",
       "      <td>1889.5</td>\n",
       "      <td>0</td>\n",
       "      <td>Male</td>\n",
       "      <td>...</td>\n",
       "      <td>No</td>\n",
       "      <td>Yes</td>\n",
       "      <td>DSL</td>\n",
       "      <td>Yes</td>\n",
       "      <td>No</td>\n",
       "      <td>Yes</td>\n",
       "      <td>No</td>\n",
       "      <td>No</td>\n",
       "      <td>No</td>\n",
       "      <td>1036</td>\n",
       "    </tr>\n",
       "    <tr>\n",
       "      <th>2</th>\n",
       "      <td>3668-QPYBK</td>\n",
       "      <td>2019-10-01</td>\n",
       "      <td>2019-12-01</td>\n",
       "      <td>Month-to-month</td>\n",
       "      <td>Yes</td>\n",
       "      <td>Mailed check</td>\n",
       "      <td>53.85</td>\n",
       "      <td>108.15</td>\n",
       "      <td>1</td>\n",
       "      <td>Male</td>\n",
       "      <td>...</td>\n",
       "      <td>No</td>\n",
       "      <td>Yes</td>\n",
       "      <td>DSL</td>\n",
       "      <td>Yes</td>\n",
       "      <td>Yes</td>\n",
       "      <td>No</td>\n",
       "      <td>No</td>\n",
       "      <td>No</td>\n",
       "      <td>No</td>\n",
       "      <td>61</td>\n",
       "    </tr>\n",
       "    <tr>\n",
       "      <th>3</th>\n",
       "      <td>7795-CFOCW</td>\n",
       "      <td>2016-05-01</td>\n",
       "      <td>2020-02-01</td>\n",
       "      <td>One year</td>\n",
       "      <td>No</td>\n",
       "      <td>Bank transfer (automatic)</td>\n",
       "      <td>42.30</td>\n",
       "      <td>1840.75</td>\n",
       "      <td>0</td>\n",
       "      <td>Male</td>\n",
       "      <td>...</td>\n",
       "      <td>NaN</td>\n",
       "      <td>NaN</td>\n",
       "      <td>DSL</td>\n",
       "      <td>Yes</td>\n",
       "      <td>No</td>\n",
       "      <td>Yes</td>\n",
       "      <td>Yes</td>\n",
       "      <td>No</td>\n",
       "      <td>No</td>\n",
       "      <td>1371</td>\n",
       "    </tr>\n",
       "    <tr>\n",
       "      <th>4</th>\n",
       "      <td>9237-HQITU</td>\n",
       "      <td>2019-09-01</td>\n",
       "      <td>2019-11-01</td>\n",
       "      <td>Month-to-month</td>\n",
       "      <td>Yes</td>\n",
       "      <td>Electronic check</td>\n",
       "      <td>70.70</td>\n",
       "      <td>151.65</td>\n",
       "      <td>1</td>\n",
       "      <td>Female</td>\n",
       "      <td>...</td>\n",
       "      <td>No</td>\n",
       "      <td>Yes</td>\n",
       "      <td>Fiber optic</td>\n",
       "      <td>No</td>\n",
       "      <td>No</td>\n",
       "      <td>No</td>\n",
       "      <td>No</td>\n",
       "      <td>No</td>\n",
       "      <td>No</td>\n",
       "      <td>61</td>\n",
       "    </tr>\n",
       "    <tr>\n",
       "      <th>5</th>\n",
       "      <td>9305-CDSKC</td>\n",
       "      <td>2019-03-01</td>\n",
       "      <td>2019-11-01</td>\n",
       "      <td>Month-to-month</td>\n",
       "      <td>Yes</td>\n",
       "      <td>Electronic check</td>\n",
       "      <td>99.65</td>\n",
       "      <td>820.5</td>\n",
       "      <td>1</td>\n",
       "      <td>Female</td>\n",
       "      <td>...</td>\n",
       "      <td>Yes</td>\n",
       "      <td>Yes</td>\n",
       "      <td>Fiber optic</td>\n",
       "      <td>No</td>\n",
       "      <td>No</td>\n",
       "      <td>Yes</td>\n",
       "      <td>No</td>\n",
       "      <td>Yes</td>\n",
       "      <td>Yes</td>\n",
       "      <td>245</td>\n",
       "    </tr>\n",
       "    <tr>\n",
       "      <th>6</th>\n",
       "      <td>1452-KIOVK</td>\n",
       "      <td>2018-04-01</td>\n",
       "      <td>2020-02-01</td>\n",
       "      <td>Month-to-month</td>\n",
       "      <td>Yes</td>\n",
       "      <td>Credit card (automatic)</td>\n",
       "      <td>89.10</td>\n",
       "      <td>1949.4</td>\n",
       "      <td>0</td>\n",
       "      <td>Male</td>\n",
       "      <td>...</td>\n",
       "      <td>Yes</td>\n",
       "      <td>Yes</td>\n",
       "      <td>Fiber optic</td>\n",
       "      <td>No</td>\n",
       "      <td>Yes</td>\n",
       "      <td>No</td>\n",
       "      <td>No</td>\n",
       "      <td>Yes</td>\n",
       "      <td>No</td>\n",
       "      <td>671</td>\n",
       "    </tr>\n",
       "    <tr>\n",
       "      <th>7</th>\n",
       "      <td>6713-OKOMC</td>\n",
       "      <td>2019-04-01</td>\n",
       "      <td>2020-02-01</td>\n",
       "      <td>Month-to-month</td>\n",
       "      <td>No</td>\n",
       "      <td>Mailed check</td>\n",
       "      <td>29.75</td>\n",
       "      <td>301.9</td>\n",
       "      <td>0</td>\n",
       "      <td>Female</td>\n",
       "      <td>...</td>\n",
       "      <td>NaN</td>\n",
       "      <td>NaN</td>\n",
       "      <td>DSL</td>\n",
       "      <td>Yes</td>\n",
       "      <td>No</td>\n",
       "      <td>No</td>\n",
       "      <td>No</td>\n",
       "      <td>No</td>\n",
       "      <td>No</td>\n",
       "      <td>306</td>\n",
       "    </tr>\n",
       "    <tr>\n",
       "      <th>8</th>\n",
       "      <td>7892-POOKP</td>\n",
       "      <td>2017-07-01</td>\n",
       "      <td>2019-11-01</td>\n",
       "      <td>Month-to-month</td>\n",
       "      <td>Yes</td>\n",
       "      <td>Electronic check</td>\n",
       "      <td>104.80</td>\n",
       "      <td>3046.05</td>\n",
       "      <td>1</td>\n",
       "      <td>Female</td>\n",
       "      <td>...</td>\n",
       "      <td>Yes</td>\n",
       "      <td>Yes</td>\n",
       "      <td>Fiber optic</td>\n",
       "      <td>No</td>\n",
       "      <td>No</td>\n",
       "      <td>Yes</td>\n",
       "      <td>Yes</td>\n",
       "      <td>Yes</td>\n",
       "      <td>Yes</td>\n",
       "      <td>853</td>\n",
       "    </tr>\n",
       "    <tr>\n",
       "      <th>9</th>\n",
       "      <td>6388-TABGU</td>\n",
       "      <td>2014-12-01</td>\n",
       "      <td>2020-02-01</td>\n",
       "      <td>One year</td>\n",
       "      <td>No</td>\n",
       "      <td>Bank transfer (automatic)</td>\n",
       "      <td>56.15</td>\n",
       "      <td>3487.95</td>\n",
       "      <td>0</td>\n",
       "      <td>Male</td>\n",
       "      <td>...</td>\n",
       "      <td>No</td>\n",
       "      <td>Yes</td>\n",
       "      <td>DSL</td>\n",
       "      <td>Yes</td>\n",
       "      <td>Yes</td>\n",
       "      <td>No</td>\n",
       "      <td>No</td>\n",
       "      <td>No</td>\n",
       "      <td>No</td>\n",
       "      <td>1888</td>\n",
       "    </tr>\n",
       "  </tbody>\n",
       "</table>\n",
       "<p>10 rows × 23 columns</p>\n",
       "</div>"
      ],
      "text/plain": [
       "   customerID  BeginDate    EndDate            Type PaperlessBilling  \\\n",
       "0  7590-VHVEG 2020-01-01 2020-02-01  Month-to-month              Yes   \n",
       "1  5575-GNVDE 2017-04-01 2020-02-01        One year               No   \n",
       "2  3668-QPYBK 2019-10-01 2019-12-01  Month-to-month              Yes   \n",
       "3  7795-CFOCW 2016-05-01 2020-02-01        One year               No   \n",
       "4  9237-HQITU 2019-09-01 2019-11-01  Month-to-month              Yes   \n",
       "5  9305-CDSKC 2019-03-01 2019-11-01  Month-to-month              Yes   \n",
       "6  1452-KIOVK 2018-04-01 2020-02-01  Month-to-month              Yes   \n",
       "7  6713-OKOMC 2019-04-01 2020-02-01  Month-to-month               No   \n",
       "8  7892-POOKP 2017-07-01 2019-11-01  Month-to-month              Yes   \n",
       "9  6388-TABGU 2014-12-01 2020-02-01        One year               No   \n",
       "\n",
       "               PaymentMethod  MonthlyCharges TotalCharges  Exited  gender  \\\n",
       "0           Electronic check           29.85        29.85       0  Female   \n",
       "1               Mailed check           56.95       1889.5       0    Male   \n",
       "2               Mailed check           53.85       108.15       1    Male   \n",
       "3  Bank transfer (automatic)           42.30      1840.75       0    Male   \n",
       "4           Electronic check           70.70       151.65       1  Female   \n",
       "5           Electronic check           99.65        820.5       1  Female   \n",
       "6    Credit card (automatic)           89.10       1949.4       0    Male   \n",
       "7               Mailed check           29.75        301.9       0  Female   \n",
       "8           Electronic check          104.80      3046.05       1  Female   \n",
       "9  Bank transfer (automatic)           56.15      3487.95       0    Male   \n",
       "\n",
       "   ...  MultipleLines PhoneService InternetService OnlineSecurity  \\\n",
       "0  ...            NaN          NaN             DSL             No   \n",
       "1  ...             No          Yes             DSL            Yes   \n",
       "2  ...             No          Yes             DSL            Yes   \n",
       "3  ...            NaN          NaN             DSL            Yes   \n",
       "4  ...             No          Yes     Fiber optic             No   \n",
       "5  ...            Yes          Yes     Fiber optic             No   \n",
       "6  ...            Yes          Yes     Fiber optic             No   \n",
       "7  ...            NaN          NaN             DSL            Yes   \n",
       "8  ...            Yes          Yes     Fiber optic             No   \n",
       "9  ...             No          Yes             DSL            Yes   \n",
       "\n",
       "  OnlineBackup DeviceProtection TechSupport StreamingTV StreamingMovies  \\\n",
       "0          Yes               No          No          No              No   \n",
       "1           No              Yes          No          No              No   \n",
       "2          Yes               No          No          No              No   \n",
       "3           No              Yes         Yes          No              No   \n",
       "4           No               No          No          No              No   \n",
       "5           No              Yes          No         Yes             Yes   \n",
       "6          Yes               No          No         Yes              No   \n",
       "7           No               No          No          No              No   \n",
       "8           No              Yes         Yes         Yes             Yes   \n",
       "9          Yes               No          No          No              No   \n",
       "\n",
       "  TenureDay  \n",
       "0        31  \n",
       "1      1036  \n",
       "2        61  \n",
       "3      1371  \n",
       "4        61  \n",
       "5       245  \n",
       "6       671  \n",
       "7       306  \n",
       "8       853  \n",
       "9      1888  \n",
       "\n",
       "[10 rows x 23 columns]"
      ]
     },
     "execution_count": 15,
     "metadata": {},
     "output_type": "execute_result"
    }
   ],
   "source": [
    "dt_full['BeginDate'] = dt_full['BeginDate'].astype('datetime64')\n",
    "dt_full['EndDate'] = dt_full['EndDate'].replace(to_replace=['No'], value=['2020-02-01']).astype('datetime64')\n",
    "\n",
    "dt_full['TenureDay'] = (dt_full['EndDate'] - dt_full['BeginDate']).dt.days\n",
    "\n",
    "\n",
    "dt_full.head(10)"
   ]
  },
  {
   "cell_type": "markdown",
   "metadata": {},
   "source": [
    "Столбцы 'BeginDate' и 'EndDate' удалим."
   ]
  },
  {
   "cell_type": "code",
   "execution_count": 16,
   "metadata": {},
   "outputs": [
    {
     "name": "stdout",
     "output_type": "stream",
     "text": [
      "<class 'pandas.core.frame.DataFrame'>\n",
      "Int64Index: 7032 entries, 0 to 7042\n",
      "Data columns (total 21 columns):\n",
      " #   Column            Non-Null Count  Dtype  \n",
      "---  ------            --------------  -----  \n",
      " 0   customerID        7032 non-null   object \n",
      " 1   Type              7032 non-null   object \n",
      " 2   PaperlessBilling  7032 non-null   object \n",
      " 3   PaymentMethod     7032 non-null   object \n",
      " 4   MonthlyCharges    7032 non-null   float64\n",
      " 5   TotalCharges      7032 non-null   object \n",
      " 6   Exited            7032 non-null   int64  \n",
      " 7   gender            7032 non-null   object \n",
      " 8   SeniorCitizen     7032 non-null   int64  \n",
      " 9   Partner           7032 non-null   object \n",
      " 10  Dependents        7032 non-null   object \n",
      " 11  MultipleLines     6352 non-null   object \n",
      " 12  PhoneService      6352 non-null   object \n",
      " 13  InternetService   5512 non-null   object \n",
      " 14  OnlineSecurity    5512 non-null   object \n",
      " 15  OnlineBackup      5512 non-null   object \n",
      " 16  DeviceProtection  5512 non-null   object \n",
      " 17  TechSupport       5512 non-null   object \n",
      " 18  StreamingTV       5512 non-null   object \n",
      " 19  StreamingMovies   5512 non-null   object \n",
      " 20  TenureDay         7032 non-null   int64  \n",
      "dtypes: float64(1), int64(3), object(17)\n",
      "memory usage: 1.2+ MB\n"
     ]
    }
   ],
   "source": [
    "dt_full = dt_full.drop(['BeginDate','EndDate'], axis=1)\n",
    "dt_full.info()"
   ]
  },
  {
   "cell_type": "markdown",
   "metadata": {},
   "source": [
    "Посмотрим на количество образовавшихся пропусков"
   ]
  },
  {
   "cell_type": "code",
   "execution_count": 17,
   "metadata": {},
   "outputs": [
    {
     "data": {
      "text/plain": [
       "customerID             0\n",
       "Type                   0\n",
       "PaperlessBilling       0\n",
       "PaymentMethod          0\n",
       "MonthlyCharges         0\n",
       "TotalCharges           0\n",
       "Exited                 0\n",
       "gender                 0\n",
       "SeniorCitizen          0\n",
       "Partner                0\n",
       "Dependents             0\n",
       "MultipleLines        680\n",
       "PhoneService         680\n",
       "InternetService     1520\n",
       "OnlineSecurity      1520\n",
       "OnlineBackup        1520\n",
       "DeviceProtection    1520\n",
       "TechSupport         1520\n",
       "StreamingTV         1520\n",
       "StreamingMovies     1520\n",
       "TenureDay              0\n",
       "dtype: int64"
      ]
     },
     "execution_count": 17,
     "metadata": {},
     "output_type": "execute_result"
    }
   ],
   "source": [
    "dt_full.isna().sum()"
   ]
  },
  {
   "cell_type": "markdown",
   "metadata": {},
   "source": [
    "Вероятно пропуски означают, что клиенты этими услугами не пользуются. Заполним их значением 'No'. Для пропусков в признаке 'InternetService' введем третью категрию 'No internet'"
   ]
  },
  {
   "cell_type": "code",
   "execution_count": 18,
   "metadata": {},
   "outputs": [
    {
     "name": "stdout",
     "output_type": "stream",
     "text": [
      "Количество пропусков:  0\n"
     ]
    },
    {
     "data": {
      "text/html": [
       "<div>\n",
       "<style scoped>\n",
       "    .dataframe tbody tr th:only-of-type {\n",
       "        vertical-align: middle;\n",
       "    }\n",
       "\n",
       "    .dataframe tbody tr th {\n",
       "        vertical-align: top;\n",
       "    }\n",
       "\n",
       "    .dataframe thead th {\n",
       "        text-align: right;\n",
       "    }\n",
       "</style>\n",
       "<table border=\"1\" class=\"dataframe\">\n",
       "  <thead>\n",
       "    <tr style=\"text-align: right;\">\n",
       "      <th></th>\n",
       "      <th>customerID</th>\n",
       "      <th>Type</th>\n",
       "      <th>PaperlessBilling</th>\n",
       "      <th>PaymentMethod</th>\n",
       "      <th>MonthlyCharges</th>\n",
       "      <th>TotalCharges</th>\n",
       "      <th>Exited</th>\n",
       "      <th>gender</th>\n",
       "      <th>SeniorCitizen</th>\n",
       "      <th>Partner</th>\n",
       "      <th>...</th>\n",
       "      <th>MultipleLines</th>\n",
       "      <th>PhoneService</th>\n",
       "      <th>InternetService</th>\n",
       "      <th>OnlineSecurity</th>\n",
       "      <th>OnlineBackup</th>\n",
       "      <th>DeviceProtection</th>\n",
       "      <th>TechSupport</th>\n",
       "      <th>StreamingTV</th>\n",
       "      <th>StreamingMovies</th>\n",
       "      <th>TenureDay</th>\n",
       "    </tr>\n",
       "  </thead>\n",
       "  <tbody>\n",
       "    <tr>\n",
       "      <th>0</th>\n",
       "      <td>7590-VHVEG</td>\n",
       "      <td>Month-to-month</td>\n",
       "      <td>Yes</td>\n",
       "      <td>Electronic check</td>\n",
       "      <td>29.85</td>\n",
       "      <td>29.85</td>\n",
       "      <td>0</td>\n",
       "      <td>Female</td>\n",
       "      <td>0</td>\n",
       "      <td>Yes</td>\n",
       "      <td>...</td>\n",
       "      <td>No</td>\n",
       "      <td>No</td>\n",
       "      <td>DSL</td>\n",
       "      <td>No</td>\n",
       "      <td>Yes</td>\n",
       "      <td>No</td>\n",
       "      <td>No</td>\n",
       "      <td>No</td>\n",
       "      <td>No</td>\n",
       "      <td>31</td>\n",
       "    </tr>\n",
       "    <tr>\n",
       "      <th>1</th>\n",
       "      <td>5575-GNVDE</td>\n",
       "      <td>One year</td>\n",
       "      <td>No</td>\n",
       "      <td>Mailed check</td>\n",
       "      <td>56.95</td>\n",
       "      <td>1889.5</td>\n",
       "      <td>0</td>\n",
       "      <td>Male</td>\n",
       "      <td>0</td>\n",
       "      <td>No</td>\n",
       "      <td>...</td>\n",
       "      <td>No</td>\n",
       "      <td>Yes</td>\n",
       "      <td>DSL</td>\n",
       "      <td>Yes</td>\n",
       "      <td>No</td>\n",
       "      <td>Yes</td>\n",
       "      <td>No</td>\n",
       "      <td>No</td>\n",
       "      <td>No</td>\n",
       "      <td>1036</td>\n",
       "    </tr>\n",
       "    <tr>\n",
       "      <th>2</th>\n",
       "      <td>3668-QPYBK</td>\n",
       "      <td>Month-to-month</td>\n",
       "      <td>Yes</td>\n",
       "      <td>Mailed check</td>\n",
       "      <td>53.85</td>\n",
       "      <td>108.15</td>\n",
       "      <td>1</td>\n",
       "      <td>Male</td>\n",
       "      <td>0</td>\n",
       "      <td>No</td>\n",
       "      <td>...</td>\n",
       "      <td>No</td>\n",
       "      <td>Yes</td>\n",
       "      <td>DSL</td>\n",
       "      <td>Yes</td>\n",
       "      <td>Yes</td>\n",
       "      <td>No</td>\n",
       "      <td>No</td>\n",
       "      <td>No</td>\n",
       "      <td>No</td>\n",
       "      <td>61</td>\n",
       "    </tr>\n",
       "    <tr>\n",
       "      <th>3</th>\n",
       "      <td>7795-CFOCW</td>\n",
       "      <td>One year</td>\n",
       "      <td>No</td>\n",
       "      <td>Bank transfer (automatic)</td>\n",
       "      <td>42.30</td>\n",
       "      <td>1840.75</td>\n",
       "      <td>0</td>\n",
       "      <td>Male</td>\n",
       "      <td>0</td>\n",
       "      <td>No</td>\n",
       "      <td>...</td>\n",
       "      <td>No</td>\n",
       "      <td>No</td>\n",
       "      <td>DSL</td>\n",
       "      <td>Yes</td>\n",
       "      <td>No</td>\n",
       "      <td>Yes</td>\n",
       "      <td>Yes</td>\n",
       "      <td>No</td>\n",
       "      <td>No</td>\n",
       "      <td>1371</td>\n",
       "    </tr>\n",
       "    <tr>\n",
       "      <th>4</th>\n",
       "      <td>9237-HQITU</td>\n",
       "      <td>Month-to-month</td>\n",
       "      <td>Yes</td>\n",
       "      <td>Electronic check</td>\n",
       "      <td>70.70</td>\n",
       "      <td>151.65</td>\n",
       "      <td>1</td>\n",
       "      <td>Female</td>\n",
       "      <td>0</td>\n",
       "      <td>No</td>\n",
       "      <td>...</td>\n",
       "      <td>No</td>\n",
       "      <td>Yes</td>\n",
       "      <td>Fiber optic</td>\n",
       "      <td>No</td>\n",
       "      <td>No</td>\n",
       "      <td>No</td>\n",
       "      <td>No</td>\n",
       "      <td>No</td>\n",
       "      <td>No</td>\n",
       "      <td>61</td>\n",
       "    </tr>\n",
       "  </tbody>\n",
       "</table>\n",
       "<p>5 rows × 21 columns</p>\n",
       "</div>"
      ],
      "text/plain": [
       "   customerID            Type PaperlessBilling              PaymentMethod  \\\n",
       "0  7590-VHVEG  Month-to-month              Yes           Electronic check   \n",
       "1  5575-GNVDE        One year               No               Mailed check   \n",
       "2  3668-QPYBK  Month-to-month              Yes               Mailed check   \n",
       "3  7795-CFOCW        One year               No  Bank transfer (automatic)   \n",
       "4  9237-HQITU  Month-to-month              Yes           Electronic check   \n",
       "\n",
       "   MonthlyCharges TotalCharges  Exited  gender  SeniorCitizen Partner  ...  \\\n",
       "0           29.85        29.85       0  Female              0     Yes  ...   \n",
       "1           56.95       1889.5       0    Male              0      No  ...   \n",
       "2           53.85       108.15       1    Male              0      No  ...   \n",
       "3           42.30      1840.75       0    Male              0      No  ...   \n",
       "4           70.70       151.65       1  Female              0      No  ...   \n",
       "\n",
       "  MultipleLines PhoneService InternetService OnlineSecurity OnlineBackup  \\\n",
       "0            No           No             DSL             No          Yes   \n",
       "1            No          Yes             DSL            Yes           No   \n",
       "2            No          Yes             DSL            Yes          Yes   \n",
       "3            No           No             DSL            Yes           No   \n",
       "4            No          Yes     Fiber optic             No           No   \n",
       "\n",
       "  DeviceProtection TechSupport StreamingTV StreamingMovies TenureDay  \n",
       "0               No          No          No              No        31  \n",
       "1              Yes          No          No              No      1036  \n",
       "2               No          No          No              No        61  \n",
       "3              Yes         Yes          No              No      1371  \n",
       "4               No          No          No              No        61  \n",
       "\n",
       "[5 rows x 21 columns]"
      ]
     },
     "execution_count": 18,
     "metadata": {},
     "output_type": "execute_result"
    }
   ],
   "source": [
    "dt_full['InternetService'] = dt_full['InternetService'].fillna('No internet')\n",
    "dt_full = dt_full.fillna('No')\n",
    "\n",
    "print('Количество пропусков: ', dt_full.isna().sum().sum())\n",
    "dt_full.head()"
   ]
  },
  {
   "cell_type": "markdown",
   "metadata": {},
   "source": [
    "Приведем типы для категориальных признаков к соответствующему формату. И столбец 'TotalCharges' из строкового в float."
   ]
  },
  {
   "cell_type": "code",
   "execution_count": 19,
   "metadata": {},
   "outputs": [
    {
     "name": "stdout",
     "output_type": "stream",
     "text": [
      "<class 'pandas.core.frame.DataFrame'>\n",
      "Int64Index: 7032 entries, 0 to 7042\n",
      "Data columns (total 21 columns):\n",
      " #   Column            Non-Null Count  Dtype   \n",
      "---  ------            --------------  -----   \n",
      " 0   customerID        7032 non-null   object  \n",
      " 1   Type              7032 non-null   category\n",
      " 2   PaperlessBilling  7032 non-null   category\n",
      " 3   PaymentMethod     7032 non-null   category\n",
      " 4   MonthlyCharges    7032 non-null   float64 \n",
      " 5   TotalCharges      7032 non-null   float64 \n",
      " 6   Exited            7032 non-null   int64   \n",
      " 7   gender            7032 non-null   category\n",
      " 8   SeniorCitizen     7032 non-null   category\n",
      " 9   Partner           7032 non-null   category\n",
      " 10  Dependents        7032 non-null   category\n",
      " 11  MultipleLines     7032 non-null   category\n",
      " 12  PhoneService      7032 non-null   category\n",
      " 13  InternetService   7032 non-null   category\n",
      " 14  OnlineSecurity    7032 non-null   category\n",
      " 15  OnlineBackup      7032 non-null   category\n",
      " 16  DeviceProtection  7032 non-null   category\n",
      " 17  TechSupport       7032 non-null   category\n",
      " 18  StreamingTV       7032 non-null   category\n",
      " 19  StreamingMovies   7032 non-null   category\n",
      " 20  TenureDay         7032 non-null   int64   \n",
      "dtypes: category(16), float64(2), int64(2), object(1)\n",
      "memory usage: 441.5+ KB\n"
     ]
    }
   ],
   "source": [
    "cat_features = ['Type', 'PaperlessBilling', 'PaymentMethod', 'gender', 'SeniorCitizen', 'Partner',\n",
    "                'Dependents', 'MultipleLines', 'PhoneService', 'InternetService', 'OnlineSecurity', 'OnlineBackup',\n",
    "                'DeviceProtection', 'TechSupport', 'StreamingTV', 'StreamingMovies']\n",
    "\n",
    "for ct in cat_features:\n",
    "    dt_full[ct] = dt_full[ct].astype('category')\n",
    "    \n",
    "dt_full['TotalCharges'] = dt_full['TotalCharges'].astype('float64')\n",
    "    \n",
    "dt_full.info()"
   ]
  },
  {
   "cell_type": "markdown",
   "metadata": {},
   "source": [
    "## Исследовательский анализ данных."
   ]
  },
  {
   "cell_type": "markdown",
   "metadata": {},
   "source": [
    "Попробуем выяснить какие клиенты более склонны к оттоку. Посмотрим на рапсределение ежемесячных трат по всем клиентам и по ушедшим"
   ]
  },
  {
   "cell_type": "code",
   "execution_count": 20,
   "metadata": {},
   "outputs": [
    {
     "data": {
      "image/png": "[encoded data removed]",
      "text/plain": [
       "<Figure size 864x432 with 2 Axes>"
      ]
     },
     "metadata": {
      "needs_background": "light"
     },
     "output_type": "display_data"
    }
   ],
   "source": [
    "fig, axes = plt.subplots(2, 1, figsize=(12, 6))\n",
    "\n",
    "dt_full.MonthlyCharges.hist(ax = axes[0], bins=30)\n",
    "dt_full[dt_full['Exited'] == 1].MonthlyCharges.hist(ax = axes[1], bins=30)\n",
    "\n",
    "axes[0].set_title('Распеределение ежемесячных трат')\n",
    "axes[0].set_ylabel('По всем клиентам')\n",
    "axes[1].set_ylabel('По ушедшим клиентам')\n",
    "axes[-1].set_xlabel('Ежемесячные траты')\n",
    "plt.show()"
   ]
  },
  {
   "cell_type": "markdown",
   "metadata": {},
   "source": [
    "В распределении ежемесячных трат присутствуют признаки бимодальности, видимо это связано с разностью в категориях и стоимости потребляемых услуг. Наблюдается значительный отток высокодоходных клиентов с тратами выше 70. Можно попробовать посмотреть на распределение трат клиентов в разрезе потребляемых сервисов."
   ]
  },
  {
   "cell_type": "code",
   "execution_count": 21,
   "metadata": {},
   "outputs": [
    {
     "data": {
      "image/png": "[encoded data removed]",
      "text/plain": [
       "<Figure size 864x288 with 1 Axes>"
      ]
     },
     "metadata": {
      "needs_background": "light"
     },
     "output_type": "display_data"
    }
   ],
   "source": [
    "fig = plt.figure()\n",
    "ax = fig.add_subplot(1, 1, 1)\n",
    "\n",
    "ax.set_title('Распеределение ежемесячных трат по технологиям интернет')\n",
    "ax.set_xlabel('Траты в месяц')\n",
    "ax.set_ylabel('Частота')\n",
    "ax.grid()\n",
    "fig.set_size_inches(12, 4)\n",
    "\n",
    "for service, color in zip(dt_full['InternetService'].value_counts().index, ['blue', 'red', 'gray']):\n",
    "    snsplot = sns.histplot(dt_full[dt_full['InternetService'] == service]['MonthlyCharges'], \n",
    "                          label=service, color=color, bins=20, element='step')\n",
    "    fig = snsplot.get_figure()\n",
    "    ax.legend()\n"
   ]
  },
  {
   "cell_type": "markdown",
   "metadata": {},
   "source": [
    "Распределение похоже на предущий график. Больше всех тратят пользователи сервиса интернет по оптоволоконной линии. Это и понятно, технология более современная, скорости выше, доступны различные высокотехнологичные услуги. В этой же категории наблюдается и наибольший отток. Вероятно также нужно рекомендовать проанализировать предложения конкурентов в этом сегменте и выяснить куда и на какие предложения происходит миграция. Вохможно причина не только в стоимости услуг и одними скидками их не удержать. \n",
    "\n",
    "Посмотрим на доли этих клиентов в доходах и оттоке"
   ]
  },
  {
   "cell_type": "code",
   "execution_count": 22,
   "metadata": {},
   "outputs": [
    {
     "data": {
      "text/html": [
       "<div>\n",
       "<style scoped>\n",
       "    .dataframe tbody tr th:only-of-type {\n",
       "        vertical-align: middle;\n",
       "    }\n",
       "\n",
       "    .dataframe tbody tr th {\n",
       "        vertical-align: top;\n",
       "    }\n",
       "\n",
       "    .dataframe thead th {\n",
       "        text-align: right;\n",
       "    }\n",
       "</style>\n",
       "<table border=\"1\" class=\"dataframe\">\n",
       "  <thead>\n",
       "    <tr style=\"text-align: right;\">\n",
       "      <th></th>\n",
       "      <th>Технология</th>\n",
       "      <th>Доход в мес.</th>\n",
       "      <th>Кол.клиентов</th>\n",
       "      <th>Средний доход в мес.</th>\n",
       "      <th>Доля в доходе</th>\n",
       "      <th>Ушло клиентов</th>\n",
       "      <th>Доля в оттоке</th>\n",
       "    </tr>\n",
       "  </thead>\n",
       "  <tbody>\n",
       "    <tr>\n",
       "      <th>0</th>\n",
       "      <td>DSL</td>\n",
       "      <td>140340.65</td>\n",
       "      <td>2416</td>\n",
       "      <td>58.088017</td>\n",
       "      <td>0.307994</td>\n",
       "      <td>459</td>\n",
       "      <td>0.245586</td>\n",
       "    </tr>\n",
       "    <tr>\n",
       "      <th>1</th>\n",
       "      <td>Fiber optic</td>\n",
       "      <td>283284.40</td>\n",
       "      <td>3096</td>\n",
       "      <td>91.500129</td>\n",
       "      <td>0.621700</td>\n",
       "      <td>1297</td>\n",
       "      <td>0.693954</td>\n",
       "    </tr>\n",
       "    <tr>\n",
       "      <th>2</th>\n",
       "      <td>No internet</td>\n",
       "      <td>32035.95</td>\n",
       "      <td>1520</td>\n",
       "      <td>21.076283</td>\n",
       "      <td>0.070307</td>\n",
       "      <td>113</td>\n",
       "      <td>0.060460</td>\n",
       "    </tr>\n",
       "  </tbody>\n",
       "</table>\n",
       "</div>"
      ],
      "text/plain": [
       "    Технология  Доход в мес.  Кол.клиентов  Средний доход в мес.  \\\n",
       "0          DSL     140340.65          2416             58.088017   \n",
       "1  Fiber optic     283284.40          3096             91.500129   \n",
       "2  No internet      32035.95          1520             21.076283   \n",
       "\n",
       "   Доля в доходе  Ушло клиентов  Доля в оттоке  \n",
       "0       0.307994            459       0.245586  \n",
       "1       0.621700           1297       0.693954  \n",
       "2       0.070307            113       0.060460  "
      ]
     },
     "metadata": {},
     "output_type": "display_data"
    },
    {
     "data": {
      "image/png": "[encoded data removed]",
      "text/plain": [
       "<Figure size 864x432 with 2 Axes>"
      ]
     },
     "metadata": {},
     "output_type": "display_data"
    }
   ],
   "source": [
    "t1 = dt_full.pivot_table(index = 'InternetService', \n",
    "                              values = 'MonthlyCharges',\n",
    "                              aggfunc = ['sum', 'count', 'mean']).reset_index()\n",
    "t1.columns = ['Технология', 'Доход в мес.', 'Кол.клиентов', 'Средний доход в мес.']\n",
    "t1['Доля в доходе'] = t1['Доход в мес.'] / dt_full['MonthlyCharges'].sum()\n",
    "\n",
    "t2 = dt_full[dt_full['Exited'] == 1].pivot_table(index = 'InternetService',\n",
    "                                                 values = 'Exited',\n",
    "                                                 aggfunc = 'count').reset_index()\n",
    "t2.columns = ['Технология', 'Ушло клиентов']\n",
    "t2['Доля в оттоке'] = t2['Ушло клиентов'] / t2['Ушло клиентов'].sum()\n",
    "\n",
    "tab = t1.merge(t2, on='Технология', how='left')\n",
    "\n",
    "display(tab)\n",
    "\n",
    "plt.figure(figsize=(12, 6))\n",
    "\n",
    "plt.subplot (1, 2, 1)\n",
    "colors = sns.color_palette('Set2')\n",
    "plt.pie(tab['Доля в доходе'], labels = tab['Технология'], colors = colors, autopct='%.0f%%')\n",
    "plt.title('Доля в доходе')\n",
    "\n",
    "plt.subplot (1, 2, 2)\n",
    "\n",
    "plt.pie(tab['Доля в оттоке'], labels = tab['Технология'], colors = colors, autopct='%.0f%%')\n",
    "plt.title('Доля в оттоке')\n",
    "plt.show()"
   ]
  },
  {
   "cell_type": "markdown",
   "metadata": {},
   "source": [
    "Все верно, клиенты оптоволокна (самые высокодоходные) уходят. По технологии DSL и пользователям чистой телефонии ситуация лучше, видимо там у клиентов запросы ниже, платят они меньше, возможно там технически сложнее сменить поставщика услуг. Вероятно это более давние клиенты. Посмотрим на распределение времени жизни клиентов в компании."
   ]
  },
  {
   "cell_type": "code",
   "execution_count": 23,
   "metadata": {},
   "outputs": [
    {
     "data": {
      "image/png": "[encoded data removed]",
      "text/plain": [
       "<Figure size 864x432 with 2 Axes>"
      ]
     },
     "metadata": {
      "needs_background": "light"
     },
     "output_type": "display_data"
    }
   ],
   "source": [
    "fig, axes = plt.subplots(2, 1, figsize=(12, 6))\n",
    "\n",
    "dt_full.TenureDay.hist(ax = axes[0], bins=30)\n",
    "dt_full[dt_full['Exited'] == 1].TenureDay.hist(ax = axes[1], bins=30)\n",
    "\n",
    "axes[0].set_title('Распеределение времени жизни клиента в компании')\n",
    "axes[0].set_ylabel('По всем клиентам')\n",
    "axes[1].set_ylabel('По ушедшим клиентам')\n",
    "axes[-1].set_xlabel('Количество дней')\n",
    "plt.show()"
   ]
  },
  {
   "cell_type": "markdown",
   "metadata": {},
   "source": [
    "Отчетливо просматривается снижение оттока с ростом срока обслуживания клиентов. При этом в компании достаточно много давних и похоже все еще лояльных клиентов.\n",
    "\n",
    "Посмотрим на распределение долей в доходах и оттоке по остальным признакам."
   ]
  },
  {
   "cell_type": "code",
   "execution_count": 24,
   "metadata": {},
   "outputs": [],
   "source": [
    "# Функция отрисовки круговой диаграммы\n",
    "def draw_pie(data1, labels1, title1, data2, labels2, title2):\n",
    "    plt.figure(figsize=(12, 6))\n",
    "    colors = sns.color_palette('Set2')\n",
    "    \n",
    "    plt.subplot (1, 2, 1)\n",
    "    plt.pie(data1, labels = labels1, colors = colors, autopct='%.0f%%')\n",
    "    plt.title(title1)\n",
    "\n",
    "    plt.subplot (1, 2, 2)\n",
    "    plt.pie(data2, labels = labels2, colors = colors, autopct='%.0f%%')\n",
    "    plt.title(title2)\n",
    "    \n",
    "    plt.show()"
   ]
  },
  {
   "cell_type": "code",
   "execution_count": 25,
   "metadata": {},
   "outputs": [],
   "source": [
    "# Функция анализа признаков по доходности и оттоку\n",
    "def revenue_chern_analysis(data, feature):\n",
    "\n",
    "    t1 = data.pivot_table(index = feature, \n",
    "                              values = 'MonthlyCharges',\n",
    "                              aggfunc = ['sum', 'count', 'mean']).reset_index()\n",
    "    t1.columns = [feature, 'Доход в мес.', 'Кол.клиентов', 'Средний доход в мес.']\n",
    "    t1['Доля в доходе'] = t1['Доход в мес.'] / data['MonthlyCharges'].sum()\n",
    "\n",
    "    t2 = data[data['Exited'] == 1].pivot_table(index = feature,\n",
    "                                                 values = 'Exited',\n",
    "                                                 aggfunc = 'count').reset_index()\n",
    "    t2.columns = [feature, 'Ушло клиентов']\n",
    "    t2['Доля в оттоке'] = t2['Ушло клиентов'] / t2['Ушло клиентов'].sum()\n",
    "\n",
    "    tab = t1.merge(t2, on=feature, how='left')\n",
    "\n",
    "    display(tab)\n",
    "\n",
    "    draw_pie(tab['Доля в доходе'], tab[feature], feature + ', доли в доходе',\n",
    "             tab['Доля в оттоке'], tab[feature], feature + ', доли в оттоке')"
   ]
  },
  {
   "cell_type": "code",
   "execution_count": 26,
   "metadata": {},
   "outputs": [
    {
     "data": {
      "text/html": [
       "<div>\n",
       "<style scoped>\n",
       "    .dataframe tbody tr th:only-of-type {\n",
       "        vertical-align: middle;\n",
       "    }\n",
       "\n",
       "    .dataframe tbody tr th {\n",
       "        vertical-align: top;\n",
       "    }\n",
       "\n",
       "    .dataframe thead th {\n",
       "        text-align: right;\n",
       "    }\n",
       "</style>\n",
       "<table border=\"1\" class=\"dataframe\">\n",
       "  <thead>\n",
       "    <tr style=\"text-align: right;\">\n",
       "      <th></th>\n",
       "      <th>Type</th>\n",
       "      <th>Доход в мес.</th>\n",
       "      <th>Кол.клиентов</th>\n",
       "      <th>Средний доход в мес.</th>\n",
       "      <th>Доля в доходе</th>\n",
       "      <th>Ушло клиентов</th>\n",
       "      <th>Доля в оттоке</th>\n",
       "    </tr>\n",
       "  </thead>\n",
       "  <tbody>\n",
       "    <tr>\n",
       "      <th>0</th>\n",
       "      <td>Month-to-month</td>\n",
       "      <td>257294.15</td>\n",
       "      <td>3875</td>\n",
       "      <td>66.398490</td>\n",
       "      <td>0.564661</td>\n",
       "      <td>1655</td>\n",
       "      <td>0.885500</td>\n",
       "    </tr>\n",
       "    <tr>\n",
       "      <th>1</th>\n",
       "      <td>One year</td>\n",
       "      <td>95796.90</td>\n",
       "      <td>1472</td>\n",
       "      <td>65.079416</td>\n",
       "      <td>0.210237</td>\n",
       "      <td>166</td>\n",
       "      <td>0.088818</td>\n",
       "    </tr>\n",
       "    <tr>\n",
       "      <th>2</th>\n",
       "      <td>Two year</td>\n",
       "      <td>102569.95</td>\n",
       "      <td>1685</td>\n",
       "      <td>60.872374</td>\n",
       "      <td>0.225101</td>\n",
       "      <td>48</td>\n",
       "      <td>0.025682</td>\n",
       "    </tr>\n",
       "  </tbody>\n",
       "</table>\n",
       "</div>"
      ],
      "text/plain": [
       "             Type  Доход в мес.  Кол.клиентов  Средний доход в мес.  \\\n",
       "0  Month-to-month     257294.15          3875             66.398490   \n",
       "1        One year      95796.90          1472             65.079416   \n",
       "2        Two year     102569.95          1685             60.872374   \n",
       "\n",
       "   Доля в доходе  Ушло клиентов  Доля в оттоке  \n",
       "0       0.564661           1655       0.885500  \n",
       "1       0.210237            166       0.088818  \n",
       "2       0.225101             48       0.025682  "
      ]
     },
     "metadata": {},
     "output_type": "display_data"
    },
    {
     "data": {
      "image/png": "[encoded data removed]",
      "text/plain": [
       "<Figure size 864x432 with 2 Axes>"
      ]
     },
     "metadata": {},
     "output_type": "display_data"
    },
    {
     "name": "stdout",
     "output_type": "stream",
     "text": [
      "\n"
     ]
    },
    {
     "data": {
      "text/html": [
       "<div>\n",
       "<style scoped>\n",
       "    .dataframe tbody tr th:only-of-type {\n",
       "        vertical-align: middle;\n",
       "    }\n",
       "\n",
       "    .dataframe tbody tr th {\n",
       "        vertical-align: top;\n",
       "    }\n",
       "\n",
       "    .dataframe thead th {\n",
       "        text-align: right;\n",
       "    }\n",
       "</style>\n",
       "<table border=\"1\" class=\"dataframe\">\n",
       "  <thead>\n",
       "    <tr style=\"text-align: right;\">\n",
       "      <th></th>\n",
       "      <th>PaperlessBilling</th>\n",
       "      <th>Доход в мес.</th>\n",
       "      <th>Кол.клиентов</th>\n",
       "      <th>Средний доход в мес.</th>\n",
       "      <th>Доля в доходе</th>\n",
       "      <th>Ушло клиентов</th>\n",
       "      <th>Доля в оттоке</th>\n",
       "    </tr>\n",
       "  </thead>\n",
       "  <tbody>\n",
       "    <tr>\n",
       "      <th>0</th>\n",
       "      <td>No</td>\n",
       "      <td>149002.35</td>\n",
       "      <td>2864</td>\n",
       "      <td>52.025960</td>\n",
       "      <td>0.327003</td>\n",
       "      <td>469</td>\n",
       "      <td>0.250936</td>\n",
       "    </tr>\n",
       "    <tr>\n",
       "      <th>1</th>\n",
       "      <td>Yes</td>\n",
       "      <td>306658.65</td>\n",
       "      <td>4168</td>\n",
       "      <td>73.574532</td>\n",
       "      <td>0.672997</td>\n",
       "      <td>1400</td>\n",
       "      <td>0.749064</td>\n",
       "    </tr>\n",
       "  </tbody>\n",
       "</table>\n",
       "</div>"
      ],
      "text/plain": [
       "  PaperlessBilling  Доход в мес.  Кол.клиентов  Средний доход в мес.  \\\n",
       "0               No     149002.35          2864             52.025960   \n",
       "1              Yes     306658.65          4168             73.574532   \n",
       "\n",
       "   Доля в доходе  Ушло клиентов  Доля в оттоке  \n",
       "0       0.327003            469       0.250936  \n",
       "1       0.672997           1400       0.749064  "
      ]
     },
     "metadata": {},
     "output_type": "display_data"
    },
    {
     "data": {
      "image/png": "[encoded data removed]",
      "text/plain": [
       "<Figure size 864x432 with 2 Axes>"
      ]
     },
     "metadata": {},
     "output_type": "display_data"
    },
    {
     "name": "stdout",
     "output_type": "stream",
     "text": [
      "\n"
     ]
    },
    {
     "data": {
      "text/html": [
       "<div>\n",
       "<style scoped>\n",
       "    .dataframe tbody tr th:only-of-type {\n",
       "        vertical-align: middle;\n",
       "    }\n",
       "\n",
       "    .dataframe tbody tr th {\n",
       "        vertical-align: top;\n",
       "    }\n",
       "\n",
       "    .dataframe thead th {\n",
       "        text-align: right;\n",
       "    }\n",
       "</style>\n",
       "<table border=\"1\" class=\"dataframe\">\n",
       "  <thead>\n",
       "    <tr style=\"text-align: right;\">\n",
       "      <th></th>\n",
       "      <th>PaymentMethod</th>\n",
       "      <th>Доход в мес.</th>\n",
       "      <th>Кол.клиентов</th>\n",
       "      <th>Средний доход в мес.</th>\n",
       "      <th>Доля в доходе</th>\n",
       "      <th>Ушло клиентов</th>\n",
       "      <th>Доля в оттоке</th>\n",
       "    </tr>\n",
       "  </thead>\n",
       "  <tbody>\n",
       "    <tr>\n",
       "      <th>0</th>\n",
       "      <td>Bank transfer (automatic)</td>\n",
       "      <td>103631.0</td>\n",
       "      <td>1542</td>\n",
       "      <td>67.205577</td>\n",
       "      <td>0.227430</td>\n",
       "      <td>258</td>\n",
       "      <td>0.138042</td>\n",
       "    </tr>\n",
       "    <tr>\n",
       "      <th>1</th>\n",
       "      <td>Credit card (automatic)</td>\n",
       "      <td>101175.8</td>\n",
       "      <td>1521</td>\n",
       "      <td>66.519264</td>\n",
       "      <td>0.222042</td>\n",
       "      <td>232</td>\n",
       "      <td>0.124131</td>\n",
       "    </tr>\n",
       "    <tr>\n",
       "      <th>2</th>\n",
       "      <td>Electronic check</td>\n",
       "      <td>180345.0</td>\n",
       "      <td>2365</td>\n",
       "      <td>76.255814</td>\n",
       "      <td>0.395788</td>\n",
       "      <td>1071</td>\n",
       "      <td>0.573034</td>\n",
       "    </tr>\n",
       "    <tr>\n",
       "      <th>3</th>\n",
       "      <td>Mailed check</td>\n",
       "      <td>70509.2</td>\n",
       "      <td>1604</td>\n",
       "      <td>43.958354</td>\n",
       "      <td>0.154740</td>\n",
       "      <td>308</td>\n",
       "      <td>0.164794</td>\n",
       "    </tr>\n",
       "  </tbody>\n",
       "</table>\n",
       "</div>"
      ],
      "text/plain": [
       "               PaymentMethod  Доход в мес.  Кол.клиентов  \\\n",
       "0  Bank transfer (automatic)      103631.0          1542   \n",
       "1    Credit card (automatic)      101175.8          1521   \n",
       "2           Electronic check      180345.0          2365   \n",
       "3               Mailed check       70509.2          1604   \n",
       "\n",
       "   Средний доход в мес.  Доля в доходе  Ушло клиентов  Доля в оттоке  \n",
       "0             67.205577       0.227430            258       0.138042  \n",
       "1             66.519264       0.222042            232       0.124131  \n",
       "2             76.255814       0.395788           1071       0.573034  \n",
       "3             43.958354       0.154740            308       0.164794  "
      ]
     },
     "metadata": {},
     "output_type": "display_data"
    },
    {
     "data": {
      "image/png": "[encoded data removed]",
      "text/plain": [
       "<Figure size 864x432 with 2 Axes>"
      ]
     },
     "metadata": {},
     "output_type": "display_data"
    },
    {
     "name": "stdout",
     "output_type": "stream",
     "text": [
      "\n"
     ]
    },
    {
     "data": {
      "text/html": [
       "<div>\n",
       "<style scoped>\n",
       "    .dataframe tbody tr th:only-of-type {\n",
       "        vertical-align: middle;\n",
       "    }\n",
       "\n",
       "    .dataframe tbody tr th {\n",
       "        vertical-align: top;\n",
       "    }\n",
       "\n",
       "    .dataframe thead th {\n",
       "        text-align: right;\n",
       "    }\n",
       "</style>\n",
       "<table border=\"1\" class=\"dataframe\">\n",
       "  <thead>\n",
       "    <tr style=\"text-align: right;\">\n",
       "      <th></th>\n",
       "      <th>gender</th>\n",
       "      <th>Доход в мес.</th>\n",
       "      <th>Кол.клиентов</th>\n",
       "      <th>Средний доход в мес.</th>\n",
       "      <th>Доля в доходе</th>\n",
       "      <th>Ушло клиентов</th>\n",
       "      <th>Доля в оттоке</th>\n",
       "    </tr>\n",
       "  </thead>\n",
       "  <tbody>\n",
       "    <tr>\n",
       "      <th>0</th>\n",
       "      <td>Female</td>\n",
       "      <td>227149.6</td>\n",
       "      <td>3483</td>\n",
       "      <td>65.216652</td>\n",
       "      <td>0.498506</td>\n",
       "      <td>939</td>\n",
       "      <td>0.502408</td>\n",
       "    </tr>\n",
       "    <tr>\n",
       "      <th>1</th>\n",
       "      <td>Male</td>\n",
       "      <td>228511.4</td>\n",
       "      <td>3549</td>\n",
       "      <td>64.387546</td>\n",
       "      <td>0.501494</td>\n",
       "      <td>930</td>\n",
       "      <td>0.497592</td>\n",
       "    </tr>\n",
       "  </tbody>\n",
       "</table>\n",
       "</div>"
      ],
      "text/plain": [
       "   gender  Доход в мес.  Кол.клиентов  Средний доход в мес.  Доля в доходе  \\\n",
       "0  Female      227149.6          3483             65.216652       0.498506   \n",
       "1    Male      228511.4          3549             64.387546       0.501494   \n",
       "\n",
       "   Ушло клиентов  Доля в оттоке  \n",
       "0            939       0.502408  \n",
       "1            930       0.497592  "
      ]
     },
     "metadata": {},
     "output_type": "display_data"
    },
    {
     "data": {
      "image/png": "[encoded data removed]",
      "text/plain": [
       "<Figure size 864x432 with 2 Axes>"
      ]
     },
     "metadata": {},
     "output_type": "display_data"
    },
    {
     "name": "stdout",
     "output_type": "stream",
     "text": [
      "\n"
     ]
    },
    {
     "data": {
      "text/html": [
       "<div>\n",
       "<style scoped>\n",
       "    .dataframe tbody tr th:only-of-type {\n",
       "        vertical-align: middle;\n",
       "    }\n",
       "\n",
       "    .dataframe tbody tr th {\n",
       "        vertical-align: top;\n",
       "    }\n",
       "\n",
       "    .dataframe thead th {\n",
       "        text-align: right;\n",
       "    }\n",
       "</style>\n",
       "<table border=\"1\" class=\"dataframe\">\n",
       "  <thead>\n",
       "    <tr style=\"text-align: right;\">\n",
       "      <th></th>\n",
       "      <th>SeniorCitizen</th>\n",
       "      <th>Доход в мес.</th>\n",
       "      <th>Кол.клиентов</th>\n",
       "      <th>Средний доход в мес.</th>\n",
       "      <th>Доля в доходе</th>\n",
       "      <th>Ушло клиентов</th>\n",
       "      <th>Доля в оттоке</th>\n",
       "    </tr>\n",
       "  </thead>\n",
       "  <tbody>\n",
       "    <tr>\n",
       "      <th>0</th>\n",
       "      <td>0</td>\n",
       "      <td>364506.15</td>\n",
       "      <td>5890</td>\n",
       "      <td>61.885594</td>\n",
       "      <td>0.79995</td>\n",
       "      <td>1393</td>\n",
       "      <td>0.745318</td>\n",
       "    </tr>\n",
       "    <tr>\n",
       "      <th>1</th>\n",
       "      <td>1</td>\n",
       "      <td>91154.85</td>\n",
       "      <td>1142</td>\n",
       "      <td>79.820359</td>\n",
       "      <td>0.20005</td>\n",
       "      <td>476</td>\n",
       "      <td>0.254682</td>\n",
       "    </tr>\n",
       "  </tbody>\n",
       "</table>\n",
       "</div>"
      ],
      "text/plain": [
       "  SeniorCitizen  Доход в мес.  Кол.клиентов  Средний доход в мес.  \\\n",
       "0             0     364506.15          5890             61.885594   \n",
       "1             1      91154.85          1142             79.820359   \n",
       "\n",
       "   Доля в доходе  Ушло клиентов  Доля в оттоке  \n",
       "0        0.79995           1393       0.745318  \n",
       "1        0.20005            476       0.254682  "
      ]
     },
     "metadata": {},
     "output_type": "display_data"
    },
    {
     "data": {
      "image/png": "[encoded data removed]",
      "text/plain": [
       "<Figure size 864x432 with 2 Axes>"
      ]
     },
     "metadata": {},
     "output_type": "display_data"
    },
    {
     "name": "stdout",
     "output_type": "stream",
     "text": [
      "\n"
     ]
    },
    {
     "data": {
      "text/html": [
       "<div>\n",
       "<style scoped>\n",
       "    .dataframe tbody tr th:only-of-type {\n",
       "        vertical-align: middle;\n",
       "    }\n",
       "\n",
       "    .dataframe tbody tr th {\n",
       "        vertical-align: top;\n",
       "    }\n",
       "\n",
       "    .dataframe thead th {\n",
       "        text-align: right;\n",
       "    }\n",
       "</style>\n",
       "<table border=\"1\" class=\"dataframe\">\n",
       "  <thead>\n",
       "    <tr style=\"text-align: right;\">\n",
       "      <th></th>\n",
       "      <th>Partner</th>\n",
       "      <th>Доход в мес.</th>\n",
       "      <th>Кол.клиентов</th>\n",
       "      <th>Средний доход в мес.</th>\n",
       "      <th>Доля в доходе</th>\n",
       "      <th>Ушло клиентов</th>\n",
       "      <th>Доля в оттоке</th>\n",
       "    </tr>\n",
       "  </thead>\n",
       "  <tbody>\n",
       "    <tr>\n",
       "      <th>0</th>\n",
       "      <td>No</td>\n",
       "      <td>225459.6</td>\n",
       "      <td>3639</td>\n",
       "      <td>61.956472</td>\n",
       "      <td>0.494797</td>\n",
       "      <td>1200</td>\n",
       "      <td>0.642055</td>\n",
       "    </tr>\n",
       "    <tr>\n",
       "      <th>1</th>\n",
       "      <td>Yes</td>\n",
       "      <td>230201.4</td>\n",
       "      <td>3393</td>\n",
       "      <td>67.845977</td>\n",
       "      <td>0.505203</td>\n",
       "      <td>669</td>\n",
       "      <td>0.357945</td>\n",
       "    </tr>\n",
       "  </tbody>\n",
       "</table>\n",
       "</div>"
      ],
      "text/plain": [
       "  Partner  Доход в мес.  Кол.клиентов  Средний доход в мес.  Доля в доходе  \\\n",
       "0      No      225459.6          3639             61.956472       0.494797   \n",
       "1     Yes      230201.4          3393             67.845977       0.505203   \n",
       "\n",
       "   Ушло клиентов  Доля в оттоке  \n",
       "0           1200       0.642055  \n",
       "1            669       0.357945  "
      ]
     },
     "metadata": {},
     "output_type": "display_data"
    },
    {
     "data": {
      "image/png": "[encoded data removed]",
      "text/plain": [
       "<Figure size 864x432 with 2 Axes>"
      ]
     },
     "metadata": {},
     "output_type": "display_data"
    },
    {
     "name": "stdout",
     "output_type": "stream",
     "text": [
      "\n"
     ]
    },
    {
     "data": {
      "text/html": [
       "<div>\n",
       "<style scoped>\n",
       "    .dataframe tbody tr th:only-of-type {\n",
       "        vertical-align: middle;\n",
       "    }\n",
       "\n",
       "    .dataframe tbody tr th {\n",
       "        vertical-align: top;\n",
       "    }\n",
       "\n",
       "    .dataframe thead th {\n",
       "        text-align: right;\n",
       "    }\n",
       "</style>\n",
       "<table border=\"1\" class=\"dataframe\">\n",
       "  <thead>\n",
       "    <tr style=\"text-align: right;\">\n",
       "      <th></th>\n",
       "      <th>Dependents</th>\n",
       "      <th>Доход в мес.</th>\n",
       "      <th>Кол.клиентов</th>\n",
       "      <th>Средний доход в мес.</th>\n",
       "      <th>Доля в доходе</th>\n",
       "      <th>Ушло клиентов</th>\n",
       "      <th>Доля в оттоке</th>\n",
       "    </tr>\n",
       "  </thead>\n",
       "  <tbody>\n",
       "    <tr>\n",
       "      <th>0</th>\n",
       "      <td>No</td>\n",
       "      <td>330524.85</td>\n",
       "      <td>4933</td>\n",
       "      <td>67.002808</td>\n",
       "      <td>0.725374</td>\n",
       "      <td>1543</td>\n",
       "      <td>0.825575</td>\n",
       "    </tr>\n",
       "    <tr>\n",
       "      <th>1</th>\n",
       "      <td>Yes</td>\n",
       "      <td>125136.15</td>\n",
       "      <td>2099</td>\n",
       "      <td>59.617032</td>\n",
       "      <td>0.274626</td>\n",
       "      <td>326</td>\n",
       "      <td>0.174425</td>\n",
       "    </tr>\n",
       "  </tbody>\n",
       "</table>\n",
       "</div>"
      ],
      "text/plain": [
       "  Dependents  Доход в мес.  Кол.клиентов  Средний доход в мес.  Доля в доходе  \\\n",
       "0         No     330524.85          4933             67.002808       0.725374   \n",
       "1        Yes     125136.15          2099             59.617032       0.274626   \n",
       "\n",
       "   Ушло клиентов  Доля в оттоке  \n",
       "0           1543       0.825575  \n",
       "1            326       0.174425  "
      ]
     },
     "metadata": {},
     "output_type": "display_data"
    },
    {
     "data": {
      "image/png": "[encoded data removed]",
      "text/plain": [
       "<Figure size 864x432 with 2 Axes>"
      ]
     },
     "metadata": {},
     "output_type": "display_data"
    },
    {
     "name": "stdout",
     "output_type": "stream",
     "text": [
      "\n"
     ]
    },
    {
     "data": {
      "text/html": [
       "<div>\n",
       "<style scoped>\n",
       "    .dataframe tbody tr th:only-of-type {\n",
       "        vertical-align: middle;\n",
       "    }\n",
       "\n",
       "    .dataframe tbody tr th {\n",
       "        vertical-align: top;\n",
       "    }\n",
       "\n",
       "    .dataframe thead th {\n",
       "        text-align: right;\n",
       "    }\n",
       "</style>\n",
       "<table border=\"1\" class=\"dataframe\">\n",
       "  <thead>\n",
       "    <tr style=\"text-align: right;\">\n",
       "      <th></th>\n",
       "      <th>MultipleLines</th>\n",
       "      <th>Доход в мес.</th>\n",
       "      <th>Кол.клиентов</th>\n",
       "      <th>Средний доход в мес.</th>\n",
       "      <th>Доля в доходе</th>\n",
       "      <th>Ушло клиентов</th>\n",
       "      <th>Доля в оттоке</th>\n",
       "    </tr>\n",
       "  </thead>\n",
       "  <tbody>\n",
       "    <tr>\n",
       "      <th>0</th>\n",
       "      <td>No</td>\n",
       "      <td>212115.5</td>\n",
       "      <td>4065</td>\n",
       "      <td>52.180935</td>\n",
       "      <td>0.465512</td>\n",
       "      <td>1019</td>\n",
       "      <td>0.545211</td>\n",
       "    </tr>\n",
       "    <tr>\n",
       "      <th>1</th>\n",
       "      <td>Yes</td>\n",
       "      <td>243545.5</td>\n",
       "      <td>2967</td>\n",
       "      <td>82.084766</td>\n",
       "      <td>0.534488</td>\n",
       "      <td>850</td>\n",
       "      <td>0.454789</td>\n",
       "    </tr>\n",
       "  </tbody>\n",
       "</table>\n",
       "</div>"
      ],
      "text/plain": [
       "  MultipleLines  Доход в мес.  Кол.клиентов  Средний доход в мес.  \\\n",
       "0            No      212115.5          4065             52.180935   \n",
       "1           Yes      243545.5          2967             82.084766   \n",
       "\n",
       "   Доля в доходе  Ушло клиентов  Доля в оттоке  \n",
       "0       0.465512           1019       0.545211  \n",
       "1       0.534488            850       0.454789  "
      ]
     },
     "metadata": {},
     "output_type": "display_data"
    },
    {
     "data": {
      "image/png": "[encoded data removed]",
      "text/plain": [
       "<Figure size 864x432 with 2 Axes>"
      ]
     },
     "metadata": {},
     "output_type": "display_data"
    },
    {
     "name": "stdout",
     "output_type": "stream",
     "text": [
      "\n"
     ]
    },
    {
     "data": {
      "text/html": [
       "<div>\n",
       "<style scoped>\n",
       "    .dataframe tbody tr th:only-of-type {\n",
       "        vertical-align: middle;\n",
       "    }\n",
       "\n",
       "    .dataframe tbody tr th {\n",
       "        vertical-align: top;\n",
       "    }\n",
       "\n",
       "    .dataframe thead th {\n",
       "        text-align: right;\n",
       "    }\n",
       "</style>\n",
       "<table border=\"1\" class=\"dataframe\">\n",
       "  <thead>\n",
       "    <tr style=\"text-align: right;\">\n",
       "      <th></th>\n",
       "      <th>PhoneService</th>\n",
       "      <th>Доход в мес.</th>\n",
       "      <th>Кол.клиентов</th>\n",
       "      <th>Средний доход в мес.</th>\n",
       "      <th>Доля в доходе</th>\n",
       "      <th>Ушло клиентов</th>\n",
       "      <th>Доля в оттоке</th>\n",
       "    </tr>\n",
       "  </thead>\n",
       "  <tbody>\n",
       "    <tr>\n",
       "      <th>0</th>\n",
       "      <td>No</td>\n",
       "      <td>28554.9</td>\n",
       "      <td>680</td>\n",
       "      <td>41.992500</td>\n",
       "      <td>0.062667</td>\n",
       "      <td>170</td>\n",
       "      <td>0.090958</td>\n",
       "    </tr>\n",
       "    <tr>\n",
       "      <th>1</th>\n",
       "      <td>Yes</td>\n",
       "      <td>427106.1</td>\n",
       "      <td>6352</td>\n",
       "      <td>67.239625</td>\n",
       "      <td>0.937333</td>\n",
       "      <td>1699</td>\n",
       "      <td>0.909042</td>\n",
       "    </tr>\n",
       "  </tbody>\n",
       "</table>\n",
       "</div>"
      ],
      "text/plain": [
       "  PhoneService  Доход в мес.  Кол.клиентов  Средний доход в мес.  \\\n",
       "0           No       28554.9           680             41.992500   \n",
       "1          Yes      427106.1          6352             67.239625   \n",
       "\n",
       "   Доля в доходе  Ушло клиентов  Доля в оттоке  \n",
       "0       0.062667            170       0.090958  \n",
       "1       0.937333           1699       0.909042  "
      ]
     },
     "metadata": {},
     "output_type": "display_data"
    },
    {
     "data": {
      "image/png": "[encoded data removed]",
      "text/plain": [
       "<Figure size 864x432 with 2 Axes>"
      ]
     },
     "metadata": {},
     "output_type": "display_data"
    },
    {
     "name": "stdout",
     "output_type": "stream",
     "text": [
      "\n"
     ]
    },
    {
     "data": {
      "text/html": [
       "<div>\n",
       "<style scoped>\n",
       "    .dataframe tbody tr th:only-of-type {\n",
       "        vertical-align: middle;\n",
       "    }\n",
       "\n",
       "    .dataframe tbody tr th {\n",
       "        vertical-align: top;\n",
       "    }\n",
       "\n",
       "    .dataframe thead th {\n",
       "        text-align: right;\n",
       "    }\n",
       "</style>\n",
       "<table border=\"1\" class=\"dataframe\">\n",
       "  <thead>\n",
       "    <tr style=\"text-align: right;\">\n",
       "      <th></th>\n",
       "      <th>OnlineSecurity</th>\n",
       "      <th>Доход в мес.</th>\n",
       "      <th>Кол.клиентов</th>\n",
       "      <th>Средний доход в мес.</th>\n",
       "      <th>Доля в доходе</th>\n",
       "      <th>Ушло клиентов</th>\n",
       "      <th>Доля в оттоке</th>\n",
       "    </tr>\n",
       "  </thead>\n",
       "  <tbody>\n",
       "    <tr>\n",
       "      <th>0</th>\n",
       "      <td>No</td>\n",
       "      <td>296736.95</td>\n",
       "      <td>5017</td>\n",
       "      <td>59.146293</td>\n",
       "      <td>0.651223</td>\n",
       "      <td>1574</td>\n",
       "      <td>0.842162</td>\n",
       "    </tr>\n",
       "    <tr>\n",
       "      <th>1</th>\n",
       "      <td>Yes</td>\n",
       "      <td>158924.05</td>\n",
       "      <td>2015</td>\n",
       "      <td>78.870496</td>\n",
       "      <td>0.348777</td>\n",
       "      <td>295</td>\n",
       "      <td>0.157838</td>\n",
       "    </tr>\n",
       "  </tbody>\n",
       "</table>\n",
       "</div>"
      ],
      "text/plain": [
       "  OnlineSecurity  Доход в мес.  Кол.клиентов  Средний доход в мес.  \\\n",
       "0             No     296736.95          5017             59.146293   \n",
       "1            Yes     158924.05          2015             78.870496   \n",
       "\n",
       "   Доля в доходе  Ушло клиентов  Доля в оттоке  \n",
       "0       0.651223           1574       0.842162  \n",
       "1       0.348777            295       0.157838  "
      ]
     },
     "metadata": {},
     "output_type": "display_data"
    },
    {
     "data": {
      "image/png": "[encoded data removed]",
      "text/plain": [
       "<Figure size 864x432 with 2 Axes>"
      ]
     },
     "metadata": {},
     "output_type": "display_data"
    },
    {
     "name": "stdout",
     "output_type": "stream",
     "text": [
      "\n"
     ]
    },
    {
     "data": {
      "text/html": [
       "<div>\n",
       "<style scoped>\n",
       "    .dataframe tbody tr th:only-of-type {\n",
       "        vertical-align: middle;\n",
       "    }\n",
       "\n",
       "    .dataframe tbody tr th {\n",
       "        vertical-align: top;\n",
       "    }\n",
       "\n",
       "    .dataframe thead th {\n",
       "        text-align: right;\n",
       "    }\n",
       "</style>\n",
       "<table border=\"1\" class=\"dataframe\">\n",
       "  <thead>\n",
       "    <tr style=\"text-align: right;\">\n",
       "      <th></th>\n",
       "      <th>OnlineBackup</th>\n",
       "      <th>Доход в мес.</th>\n",
       "      <th>Кол.клиентов</th>\n",
       "      <th>Средний доход в мес.</th>\n",
       "      <th>Доля в доходе</th>\n",
       "      <th>Ушло клиентов</th>\n",
       "      <th>Доля в оттоке</th>\n",
       "    </tr>\n",
       "  </thead>\n",
       "  <tbody>\n",
       "    <tr>\n",
       "      <th>0</th>\n",
       "      <td>No</td>\n",
       "      <td>254127.95</td>\n",
       "      <td>4607</td>\n",
       "      <td>55.161265</td>\n",
       "      <td>0.557713</td>\n",
       "      <td>1346</td>\n",
       "      <td>0.720171</td>\n",
       "    </tr>\n",
       "    <tr>\n",
       "      <th>1</th>\n",
       "      <td>Yes</td>\n",
       "      <td>201533.05</td>\n",
       "      <td>2425</td>\n",
       "      <td>83.106412</td>\n",
       "      <td>0.442287</td>\n",
       "      <td>523</td>\n",
       "      <td>0.279829</td>\n",
       "    </tr>\n",
       "  </tbody>\n",
       "</table>\n",
       "</div>"
      ],
      "text/plain": [
       "  OnlineBackup  Доход в мес.  Кол.клиентов  Средний доход в мес.  \\\n",
       "0           No     254127.95          4607             55.161265   \n",
       "1          Yes     201533.05          2425             83.106412   \n",
       "\n",
       "   Доля в доходе  Ушло клиентов  Доля в оттоке  \n",
       "0       0.557713           1346       0.720171  \n",
       "1       0.442287            523       0.279829  "
      ]
     },
     "metadata": {},
     "output_type": "display_data"
    },
    {
     "data": {
      "image/png": "[encoded data removed]",
      "text/plain": [
       "<Figure size 864x432 with 2 Axes>"
      ]
     },
     "metadata": {},
     "output_type": "display_data"
    },
    {
     "name": "stdout",
     "output_type": "stream",
     "text": [
      "\n"
     ]
    },
    {
     "data": {
      "text/html": [
       "<div>\n",
       "<style scoped>\n",
       "    .dataframe tbody tr th:only-of-type {\n",
       "        vertical-align: middle;\n",
       "    }\n",
       "\n",
       "    .dataframe tbody tr th {\n",
       "        vertical-align: top;\n",
       "    }\n",
       "\n",
       "    .dataframe thead th {\n",
       "        text-align: right;\n",
       "    }\n",
       "</style>\n",
       "<table border=\"1\" class=\"dataframe\">\n",
       "  <thead>\n",
       "    <tr style=\"text-align: right;\">\n",
       "      <th></th>\n",
       "      <th>DeviceProtection</th>\n",
       "      <th>Доход в мес.</th>\n",
       "      <th>Кол.клиентов</th>\n",
       "      <th>Средний доход в мес.</th>\n",
       "      <th>Доля в доходе</th>\n",
       "      <th>Ушло клиентов</th>\n",
       "      <th>Доля в оттоке</th>\n",
       "    </tr>\n",
       "  </thead>\n",
       "  <tbody>\n",
       "    <tr>\n",
       "      <th>0</th>\n",
       "      <td>No</td>\n",
       "      <td>250484.3</td>\n",
       "      <td>4614</td>\n",
       "      <td>54.287885</td>\n",
       "      <td>0.549716</td>\n",
       "      <td>1324</td>\n",
       "      <td>0.7084</td>\n",
       "    </tr>\n",
       "    <tr>\n",
       "      <th>1</th>\n",
       "      <td>Yes</td>\n",
       "      <td>205176.7</td>\n",
       "      <td>2418</td>\n",
       "      <td>84.853888</td>\n",
       "      <td>0.450284</td>\n",
       "      <td>545</td>\n",
       "      <td>0.2916</td>\n",
       "    </tr>\n",
       "  </tbody>\n",
       "</table>\n",
       "</div>"
      ],
      "text/plain": [
       "  DeviceProtection  Доход в мес.  Кол.клиентов  Средний доход в мес.  \\\n",
       "0               No      250484.3          4614             54.287885   \n",
       "1              Yes      205176.7          2418             84.853888   \n",
       "\n",
       "   Доля в доходе  Ушло клиентов  Доля в оттоке  \n",
       "0       0.549716           1324         0.7084  \n",
       "1       0.450284            545         0.2916  "
      ]
     },
     "metadata": {},
     "output_type": "display_data"
    },
    {
     "data": {
      "image/png": "[encoded data removed]",
      "text/plain": [
       "<Figure size 864x432 with 2 Axes>"
      ]
     },
     "metadata": {},
     "output_type": "display_data"
    },
    {
     "name": "stdout",
     "output_type": "stream",
     "text": [
      "\n"
     ]
    },
    {
     "data": {
      "text/html": [
       "<div>\n",
       "<style scoped>\n",
       "    .dataframe tbody tr th:only-of-type {\n",
       "        vertical-align: middle;\n",
       "    }\n",
       "\n",
       "    .dataframe tbody tr th {\n",
       "        vertical-align: top;\n",
       "    }\n",
       "\n",
       "    .dataframe thead th {\n",
       "        text-align: right;\n",
       "    }\n",
       "</style>\n",
       "<table border=\"1\" class=\"dataframe\">\n",
       "  <thead>\n",
       "    <tr style=\"text-align: right;\">\n",
       "      <th></th>\n",
       "      <th>TechSupport</th>\n",
       "      <th>Доход в мес.</th>\n",
       "      <th>Кол.клиентов</th>\n",
       "      <th>Средний доход в мес.</th>\n",
       "      <th>Доля в доходе</th>\n",
       "      <th>Ушло клиентов</th>\n",
       "      <th>Доля в оттоке</th>\n",
       "    </tr>\n",
       "  </thead>\n",
       "  <tbody>\n",
       "    <tr>\n",
       "      <th>0</th>\n",
       "      <td>No</td>\n",
       "      <td>290994.65</td>\n",
       "      <td>4992</td>\n",
       "      <td>58.292198</td>\n",
       "      <td>0.638621</td>\n",
       "      <td>1559</td>\n",
       "      <td>0.834136</td>\n",
       "    </tr>\n",
       "    <tr>\n",
       "      <th>1</th>\n",
       "      <td>Yes</td>\n",
       "      <td>164666.35</td>\n",
       "      <td>2040</td>\n",
       "      <td>80.718799</td>\n",
       "      <td>0.361379</td>\n",
       "      <td>310</td>\n",
       "      <td>0.165864</td>\n",
       "    </tr>\n",
       "  </tbody>\n",
       "</table>\n",
       "</div>"
      ],
      "text/plain": [
       "  TechSupport  Доход в мес.  Кол.клиентов  Средний доход в мес.  \\\n",
       "0          No     290994.65          4992             58.292198   \n",
       "1         Yes     164666.35          2040             80.718799   \n",
       "\n",
       "   Доля в доходе  Ушло клиентов  Доля в оттоке  \n",
       "0       0.638621           1559       0.834136  \n",
       "1       0.361379            310       0.165864  "
      ]
     },
     "metadata": {},
     "output_type": "display_data"
    },
    {
     "data": {
      "image/png": "[encoded data removed]",
      "text/plain": [
       "<Figure size 864x432 with 2 Axes>"
      ]
     },
     "metadata": {},
     "output_type": "display_data"
    },
    {
     "name": "stdout",
     "output_type": "stream",
     "text": [
      "\n"
     ]
    },
    {
     "data": {
      "text/html": [
       "<div>\n",
       "<style scoped>\n",
       "    .dataframe tbody tr th:only-of-type {\n",
       "        vertical-align: middle;\n",
       "    }\n",
       "\n",
       "    .dataframe tbody tr th {\n",
       "        vertical-align: top;\n",
       "    }\n",
       "\n",
       "    .dataframe thead th {\n",
       "        text-align: right;\n",
       "    }\n",
       "</style>\n",
       "<table border=\"1\" class=\"dataframe\">\n",
       "  <thead>\n",
       "    <tr style=\"text-align: right;\">\n",
       "      <th></th>\n",
       "      <th>StreamingTV</th>\n",
       "      <th>Доход в мес.</th>\n",
       "      <th>Кол.клиентов</th>\n",
       "      <th>Средний доход в мес.</th>\n",
       "      <th>Доля в доходе</th>\n",
       "      <th>Ушло клиентов</th>\n",
       "      <th>Доля в оттоке</th>\n",
       "    </tr>\n",
       "  </thead>\n",
       "  <tbody>\n",
       "    <tr>\n",
       "      <th>0</th>\n",
       "      <td>No</td>\n",
       "      <td>215713.45</td>\n",
       "      <td>4329</td>\n",
       "      <td>49.829857</td>\n",
       "      <td>0.473408</td>\n",
       "      <td>1055</td>\n",
       "      <td>0.564473</td>\n",
       "    </tr>\n",
       "    <tr>\n",
       "      <th>1</th>\n",
       "      <td>Yes</td>\n",
       "      <td>239947.55</td>\n",
       "      <td>2703</td>\n",
       "      <td>88.770829</td>\n",
       "      <td>0.526592</td>\n",
       "      <td>814</td>\n",
       "      <td>0.435527</td>\n",
       "    </tr>\n",
       "  </tbody>\n",
       "</table>\n",
       "</div>"
      ],
      "text/plain": [
       "  StreamingTV  Доход в мес.  Кол.клиентов  Средний доход в мес.  \\\n",
       "0          No     215713.45          4329             49.829857   \n",
       "1         Yes     239947.55          2703             88.770829   \n",
       "\n",
       "   Доля в доходе  Ушло клиентов  Доля в оттоке  \n",
       "0       0.473408           1055       0.564473  \n",
       "1       0.526592            814       0.435527  "
      ]
     },
     "metadata": {},
     "output_type": "display_data"
    },
    {
     "data": {
      "image/png": "[encoded data removed]",
      "text/plain": [
       "<Figure size 864x432 with 2 Axes>"
      ]
     },
     "metadata": {},
     "output_type": "display_data"
    },
    {
     "name": "stdout",
     "output_type": "stream",
     "text": [
      "\n"
     ]
    },
    {
     "data": {
      "text/html": [
       "<div>\n",
       "<style scoped>\n",
       "    .dataframe tbody tr th:only-of-type {\n",
       "        vertical-align: middle;\n",
       "    }\n",
       "\n",
       "    .dataframe tbody tr th {\n",
       "        vertical-align: top;\n",
       "    }\n",
       "\n",
       "    .dataframe thead th {\n",
       "        text-align: right;\n",
       "    }\n",
       "</style>\n",
       "<table border=\"1\" class=\"dataframe\">\n",
       "  <thead>\n",
       "    <tr style=\"text-align: right;\">\n",
       "      <th></th>\n",
       "      <th>StreamingMovies</th>\n",
       "      <th>Доход в мес.</th>\n",
       "      <th>Кол.клиентов</th>\n",
       "      <th>Средний доход в мес.</th>\n",
       "      <th>Доля в доходе</th>\n",
       "      <th>Ушло клиентов</th>\n",
       "      <th>Доля в оттоке</th>\n",
       "    </tr>\n",
       "  </thead>\n",
       "  <tbody>\n",
       "    <tr>\n",
       "      <th>0</th>\n",
       "      <td>No</td>\n",
       "      <td>214026.2</td>\n",
       "      <td>4301</td>\n",
       "      <td>49.761962</td>\n",
       "      <td>0.469705</td>\n",
       "      <td>1051</td>\n",
       "      <td>0.562333</td>\n",
       "    </tr>\n",
       "    <tr>\n",
       "      <th>1</th>\n",
       "      <td>Yes</td>\n",
       "      <td>241634.8</td>\n",
       "      <td>2731</td>\n",
       "      <td>88.478506</td>\n",
       "      <td>0.530295</td>\n",
       "      <td>818</td>\n",
       "      <td>0.437667</td>\n",
       "    </tr>\n",
       "  </tbody>\n",
       "</table>\n",
       "</div>"
      ],
      "text/plain": [
       "  StreamingMovies  Доход в мес.  Кол.клиентов  Средний доход в мес.  \\\n",
       "0              No      214026.2          4301             49.761962   \n",
       "1             Yes      241634.8          2731             88.478506   \n",
       "\n",
       "   Доля в доходе  Ушло клиентов  Доля в оттоке  \n",
       "0       0.469705           1051       0.562333  \n",
       "1       0.530295            818       0.437667  "
      ]
     },
     "metadata": {},
     "output_type": "display_data"
    },
    {
     "data": {
      "image/png": "[encoded data removed]",
      "text/plain": [
       "<Figure size 864x432 with 2 Axes>"
      ]
     },
     "metadata": {},
     "output_type": "display_data"
    },
    {
     "name": "stdout",
     "output_type": "stream",
     "text": [
      "\n"
     ]
    }
   ],
   "source": [
    "features_for_pie = cat_features.copy()\n",
    "features_for_pie.remove('InternetService')\n",
    "for feature in features_for_pie:\n",
    "    revenue_chern_analysis(dt_full, feature)\n",
    "    print()"
   ]
  },
  {
   "cell_type": "markdown",
   "metadata": {},
   "source": [
    "По типу оплаты - около 90% ушедших клиентов с ежемесячной оплатой. Таже вероятно чаще уходят продвинутые клиенты: платят удаленно и по безналичному рассчету. Менее склонны к оттоку клиенты использующие автоматическую оплату услуг, видимо они реже контролируют свои расходы. У пенсионеров средние платежи в месяц выше, при этом причины оттока могут быть и естественными. Средний чек чуть выше у клиентов имеющих супруга(у), но меньше у клиентов с детьми. Видимо клиенты с детьми более взвешенно подходят к выбору пакетов услуг и соответственно доля оттока среди них несколько ниже. А вот различий в поведении по гендерному признаку не наблюдается. От 54% до 86% ушедших клиентов не пользовались дополнительными услугами. Они же рприносли до 65% доходов в месяц. Исключение сервисы StreamingTV и StreamingMovies - доля в доходах от их пользователей больше половины. "
   ]
  },
  {
   "cell_type": "markdown",
   "metadata": {},
   "source": [
    "Посмотрим баланс целевого признака"
   ]
  },
  {
   "cell_type": "code",
   "execution_count": 27,
   "metadata": {},
   "outputs": [
    {
     "name": "stdout",
     "output_type": "stream",
     "text": [
      "0    0.734215\n",
      "1    0.265785\n",
      "Name: Exited, dtype: float64\n"
     ]
    },
    {
     "data": {
      "image/png": "[encoded data removed]",
      "text/plain": [
       "<Figure size 432x288 with 1 Axes>"
      ]
     },
     "metadata": {
      "needs_background": "light"
     },
     "output_type": "display_data"
    }
   ],
   "source": [
    "class_frequency = dt_full['Exited'].value_counts(normalize=True)\n",
    "print(class_frequency)\n",
    "class_frequency.plot(kind='bar')\n",
    "plt.grid()\n",
    "plt.show()"
   ]
  },
  {
   "cell_type": "markdown",
   "metadata": {},
   "source": [
    "Целевой признак несбалансирован. Нужно это учесть при обучении моделей. "
   ]
  },
  {
   "cell_type": "markdown",
   "metadata": {},
   "source": [
    "Предыдущий анализ показал, что вероятно имеются как сильные, так и слабые зависимости между признаками и их влиянием на целевой признак. Для численных признаков можно построить матрицу корреляции. Для категориальных этот вариант не походит, попробуем воспользоваться статистическим анализом гипотез.  \n",
    "Нулевая гипотеза: Признак и таргет не имеют ассоциации или корреляции между ними.  \n",
    "Альтернативная гипотеза: Признак и таргет связаны друг с другом и имеется корреляция между ними.\n",
    "\n",
    "Проверим нашу гипотезу для категориальных признаков."
   ]
  },
  {
   "cell_type": "code",
   "execution_count": 28,
   "metadata": {},
   "outputs": [
    {
     "data": {
      "text/html": [
       "<div>\n",
       "<style scoped>\n",
       "    .dataframe tbody tr th:only-of-type {\n",
       "        vertical-align: middle;\n",
       "    }\n",
       "\n",
       "    .dataframe tbody tr th {\n",
       "        vertical-align: top;\n",
       "    }\n",
       "\n",
       "    .dataframe thead th {\n",
       "        text-align: right;\n",
       "    }\n",
       "</style>\n",
       "<table border=\"1\" class=\"dataframe\">\n",
       "  <thead>\n",
       "    <tr style=\"text-align: right;\">\n",
       "      <th></th>\n",
       "      <th>Признак</th>\n",
       "      <th>p-value</th>\n",
       "      <th>Связь отсутствует</th>\n",
       "    </tr>\n",
       "  </thead>\n",
       "  <tbody>\n",
       "  </tbody>\n",
       "</table>\n",
       "</div>"
      ],
      "text/plain": [
       "Empty DataFrame\n",
       "Columns: [Признак, p-value, Связь отсутствует]\n",
       "Index: []"
      ]
     },
     "metadata": {},
     "output_type": "display_data"
    }
   ],
   "source": [
    "impact_churn = pd.DataFrame(columns=['Признак', 'p-value', 'Связь отсутствует'])\n",
    "display(impact_churn)"
   ]
  },
  {
   "cell_type": "code",
   "execution_count": 29,
   "metadata": {},
   "outputs": [
    {
     "data": {
      "text/html": [
       "<div>\n",
       "<style scoped>\n",
       "    .dataframe tbody tr th:only-of-type {\n",
       "        vertical-align: middle;\n",
       "    }\n",
       "\n",
       "    .dataframe tbody tr th {\n",
       "        vertical-align: top;\n",
       "    }\n",
       "\n",
       "    .dataframe thead th {\n",
       "        text-align: right;\n",
       "    }\n",
       "</style>\n",
       "<table border=\"1\" class=\"dataframe\">\n",
       "  <thead>\n",
       "    <tr style=\"text-align: right;\">\n",
       "      <th></th>\n",
       "      <th>Признак</th>\n",
       "      <th>p-value</th>\n",
       "      <th>Связь отсутствует</th>\n",
       "    </tr>\n",
       "  </thead>\n",
       "  <tbody>\n",
       "    <tr>\n",
       "      <th>3</th>\n",
       "      <td>gender</td>\n",
       "      <td>4.904885e-01</td>\n",
       "      <td>Принимаем</td>\n",
       "    </tr>\n",
       "    <tr>\n",
       "      <th>8</th>\n",
       "      <td>PhoneService</td>\n",
       "      <td>3.499240e-01</td>\n",
       "      <td>Принимаем</td>\n",
       "    </tr>\n",
       "    <tr>\n",
       "      <th>0</th>\n",
       "      <td>Type</td>\n",
       "      <td>7.326182e-257</td>\n",
       "      <td>Отвергаем</td>\n",
       "    </tr>\n",
       "    <tr>\n",
       "      <th>1</th>\n",
       "      <td>PaperlessBilling</td>\n",
       "      <td>8.236203e-58</td>\n",
       "      <td>Отвергаем</td>\n",
       "    </tr>\n",
       "    <tr>\n",
       "      <th>2</th>\n",
       "      <td>PaymentMethod</td>\n",
       "      <td>1.426310e-139</td>\n",
       "      <td>Отвергаем</td>\n",
       "    </tr>\n",
       "    <tr>\n",
       "      <th>4</th>\n",
       "      <td>SeniorCitizen</td>\n",
       "      <td>2.479256e-36</td>\n",
       "      <td>Отвергаем</td>\n",
       "    </tr>\n",
       "    <tr>\n",
       "      <th>5</th>\n",
       "      <td>Partner</td>\n",
       "      <td>3.973798e-36</td>\n",
       "      <td>Отвергаем</td>\n",
       "    </tr>\n",
       "    <tr>\n",
       "      <th>6</th>\n",
       "      <td>Dependents</td>\n",
       "      <td>2.019659e-42</td>\n",
       "      <td>Отвергаем</td>\n",
       "    </tr>\n",
       "    <tr>\n",
       "      <th>7</th>\n",
       "      <td>MultipleLines</td>\n",
       "      <td>8.694083e-04</td>\n",
       "      <td>Отвергаем</td>\n",
       "    </tr>\n",
       "    <tr>\n",
       "      <th>9</th>\n",
       "      <td>InternetService</td>\n",
       "      <td>5.831199e-159</td>\n",
       "      <td>Отвергаем</td>\n",
       "    </tr>\n",
       "    <tr>\n",
       "      <th>10</th>\n",
       "      <td>OnlineSecurity</td>\n",
       "      <td>1.374240e-46</td>\n",
       "      <td>Отвергаем</td>\n",
       "    </tr>\n",
       "    <tr>\n",
       "      <th>11</th>\n",
       "      <td>OnlineBackup</td>\n",
       "      <td>6.259257e-12</td>\n",
       "      <td>Отвергаем</td>\n",
       "    </tr>\n",
       "    <tr>\n",
       "      <th>12</th>\n",
       "      <td>DeviceProtection</td>\n",
       "      <td>3.346075e-08</td>\n",
       "      <td>Отвергаем</td>\n",
       "    </tr>\n",
       "    <tr>\n",
       "      <th>13</th>\n",
       "      <td>TechSupport</td>\n",
       "      <td>3.232868e-43</td>\n",
       "      <td>Отвергаем</td>\n",
       "    </tr>\n",
       "    <tr>\n",
       "      <th>14</th>\n",
       "      <td>StreamingTV</td>\n",
       "      <td>1.316434e-07</td>\n",
       "      <td>Отвергаем</td>\n",
       "    </tr>\n",
       "    <tr>\n",
       "      <th>15</th>\n",
       "      <td>StreamingMovies</td>\n",
       "      <td>3.857900e-07</td>\n",
       "      <td>Отвергаем</td>\n",
       "    </tr>\n",
       "  </tbody>\n",
       "</table>\n",
       "</div>"
      ],
      "text/plain": [
       "             Признак        p-value Связь отсутствует\n",
       "3             gender   4.904885e-01         Принимаем\n",
       "8       PhoneService   3.499240e-01         Принимаем\n",
       "0               Type  7.326182e-257         Отвергаем\n",
       "1   PaperlessBilling   8.236203e-58         Отвергаем\n",
       "2      PaymentMethod  1.426310e-139         Отвергаем\n",
       "4      SeniorCitizen   2.479256e-36         Отвергаем\n",
       "5            Partner   3.973798e-36         Отвергаем\n",
       "6         Dependents   2.019659e-42         Отвергаем\n",
       "7      MultipleLines   8.694083e-04         Отвергаем\n",
       "9    InternetService  5.831199e-159         Отвергаем\n",
       "10    OnlineSecurity   1.374240e-46         Отвергаем\n",
       "11      OnlineBackup   6.259257e-12         Отвергаем\n",
       "12  DeviceProtection   3.346075e-08         Отвергаем\n",
       "13       TechSupport   3.232868e-43         Отвергаем\n",
       "14       StreamingTV   1.316434e-07         Отвергаем\n",
       "15   StreamingMovies   3.857900e-07         Отвергаем"
      ]
     },
     "metadata": {},
     "output_type": "display_data"
    }
   ],
   "source": [
    "alpha = 0.05\n",
    "\n",
    "for feature in cat_features:\n",
    "    results = chi2_contingency(pd.crosstab(dt_full['Exited'], dt_full[feature]))\n",
    "    p = results[1]\n",
    "    \n",
    "    if p <= alpha: \n",
    "        answer = 'Отвергаем'\n",
    "    else: \n",
    "        answer = 'Принимаем'\n",
    "    \n",
    "    row = {'Признак' : feature,\n",
    "            'p-value' : p,\n",
    "            'Связь отсутствует' : answer}\n",
    "    \n",
    "    impact_churn = impact_churn.append(row, ignore_index=True)\n",
    "    \n",
    "display(impact_churn.sort_values('Связь отсутствует', ascending=False))"
   ]
  },
  {
   "cell_type": "markdown",
   "metadata": {},
   "source": [
    "Вероятность того, что признаки 'gender' и 'PhoneService' не имеют корреляции с цлевым признаком и влияния на него, относительно высока. Принимаем нулевую гипотезу для этих признаков. Для остальных - отвергаем нулевую гипотезу.\n",
    "\n",
    "Построим матрицу корреляции числовых признаков."
   ]
  },
  {
   "cell_type": "code",
   "execution_count": 28,
   "metadata": {},
   "outputs": [
    {
     "data": {
      "image/png": "[encoded data removed]",
      "text/plain": [
       "<Figure size 576x432 with 2 Axes>"
      ]
     },
     "metadata": {
      "needs_background": "light"
     },
     "output_type": "display_data"
    }
   ],
   "source": [
    "corr = dt_full[['MonthlyCharges', 'TotalCharges', 'TenureDay']].corr().abs().round(2)\n",
    "fig, ax = plt.subplots(figsize=(8,6))\n",
    "sns.heatmap(corr, yticklabels=corr.columns, annot=True, cmap=\"Blues\", linewidths=.5, ax=ax)\n",
    "plt.show()"
   ]
  },
  {
   "cell_type": "markdown",
   "metadata": {},
   "source": [
    "Видим высокую корреляцию между Длительностью обслуживания клиента и Общей потраченной суммой денег на услуги. Это логично. Также наблюдается средняя корреляция между Суммами потраченными за месяц и Общей потраченной суммой, что также объяснимо."
   ]
  },
  {
   "cell_type": "markdown",
   "metadata": {},
   "source": [
    "## Подготовка данных для обучения моделей"
   ]
  },
  {
   "cell_type": "markdown",
   "metadata": {},
   "source": [
    "Удалим ненужный признак customerID, также удалим признаки 'gender' и 'PhoneService', мы определили, что они не влияют на факт ухода клиента. Кроме того откажемся от признака 'TotalCharges'."
   ]
  },
  {
   "cell_type": "code",
   "execution_count": 30,
   "metadata": {},
   "outputs": [
    {
     "data": {
      "text/html": [
       "<div>\n",
       "<style scoped>\n",
       "    .dataframe tbody tr th:only-of-type {\n",
       "        vertical-align: middle;\n",
       "    }\n",
       "\n",
       "    .dataframe tbody tr th {\n",
       "        vertical-align: top;\n",
       "    }\n",
       "\n",
       "    .dataframe thead th {\n",
       "        text-align: right;\n",
       "    }\n",
       "</style>\n",
       "<table border=\"1\" class=\"dataframe\">\n",
       "  <thead>\n",
       "    <tr style=\"text-align: right;\">\n",
       "      <th></th>\n",
       "      <th>Type</th>\n",
       "      <th>PaperlessBilling</th>\n",
       "      <th>PaymentMethod</th>\n",
       "      <th>MonthlyCharges</th>\n",
       "      <th>Exited</th>\n",
       "      <th>SeniorCitizen</th>\n",
       "      <th>Partner</th>\n",
       "      <th>Dependents</th>\n",
       "      <th>MultipleLines</th>\n",
       "      <th>InternetService</th>\n",
       "      <th>OnlineSecurity</th>\n",
       "      <th>OnlineBackup</th>\n",
       "      <th>DeviceProtection</th>\n",
       "      <th>TechSupport</th>\n",
       "      <th>StreamingTV</th>\n",
       "      <th>StreamingMovies</th>\n",
       "      <th>TenureDay</th>\n",
       "    </tr>\n",
       "  </thead>\n",
       "  <tbody>\n",
       "    <tr>\n",
       "      <th>0</th>\n",
       "      <td>Month-to-month</td>\n",
       "      <td>Yes</td>\n",
       "      <td>Electronic check</td>\n",
       "      <td>29.85</td>\n",
       "      <td>0</td>\n",
       "      <td>0</td>\n",
       "      <td>Yes</td>\n",
       "      <td>No</td>\n",
       "      <td>No</td>\n",
       "      <td>DSL</td>\n",
       "      <td>No</td>\n",
       "      <td>Yes</td>\n",
       "      <td>No</td>\n",
       "      <td>No</td>\n",
       "      <td>No</td>\n",
       "      <td>No</td>\n",
       "      <td>31</td>\n",
       "    </tr>\n",
       "    <tr>\n",
       "      <th>1</th>\n",
       "      <td>One year</td>\n",
       "      <td>No</td>\n",
       "      <td>Mailed check</td>\n",
       "      <td>56.95</td>\n",
       "      <td>0</td>\n",
       "      <td>0</td>\n",
       "      <td>No</td>\n",
       "      <td>No</td>\n",
       "      <td>No</td>\n",
       "      <td>DSL</td>\n",
       "      <td>Yes</td>\n",
       "      <td>No</td>\n",
       "      <td>Yes</td>\n",
       "      <td>No</td>\n",
       "      <td>No</td>\n",
       "      <td>No</td>\n",
       "      <td>1036</td>\n",
       "    </tr>\n",
       "  </tbody>\n",
       "</table>\n",
       "</div>"
      ],
      "text/plain": [
       "             Type PaperlessBilling     PaymentMethod  MonthlyCharges  Exited  \\\n",
       "0  Month-to-month              Yes  Electronic check           29.85       0   \n",
       "1        One year               No      Mailed check           56.95       0   \n",
       "\n",
       "  SeniorCitizen Partner Dependents MultipleLines InternetService  \\\n",
       "0             0     Yes         No            No             DSL   \n",
       "1             0      No         No            No             DSL   \n",
       "\n",
       "  OnlineSecurity OnlineBackup DeviceProtection TechSupport StreamingTV  \\\n",
       "0             No          Yes               No          No          No   \n",
       "1            Yes           No              Yes          No          No   \n",
       "\n",
       "  StreamingMovies  TenureDay  \n",
       "0              No         31  \n",
       "1              No       1036  "
      ]
     },
     "execution_count": 30,
     "metadata": {},
     "output_type": "execute_result"
    }
   ],
   "source": [
    "dt_full = dt_full.drop(['customerID', 'TotalCharges', 'gender', 'PhoneService'], axis = 1)\n",
    "dt_full.head(2)"
   ]
  },
  {
   "cell_type": "markdown",
   "metadata": {},
   "source": [
    "В основном алгоритмы машинного обучения ожидают числовые входные данные, поэтому закодируем наши категориальные данные техникой OHE. Данные в основномм бинарные, количество столбцов увеличится незначительно."
   ]
  },
  {
   "cell_type": "code",
   "execution_count": 31,
   "metadata": {},
   "outputs": [
    {
     "data": {
      "text/html": [
       "<div>\n",
       "<style scoped>\n",
       "    .dataframe tbody tr th:only-of-type {\n",
       "        vertical-align: middle;\n",
       "    }\n",
       "\n",
       "    .dataframe tbody tr th {\n",
       "        vertical-align: top;\n",
       "    }\n",
       "\n",
       "    .dataframe thead th {\n",
       "        text-align: right;\n",
       "    }\n",
       "</style>\n",
       "<table border=\"1\" class=\"dataframe\">\n",
       "  <thead>\n",
       "    <tr style=\"text-align: right;\">\n",
       "      <th></th>\n",
       "      <th>MonthlyCharges</th>\n",
       "      <th>Exited</th>\n",
       "      <th>TenureDay</th>\n",
       "      <th>Type_One year</th>\n",
       "      <th>Type_Two year</th>\n",
       "      <th>PaperlessBilling_Yes</th>\n",
       "      <th>PaymentMethod_Credit card (automatic)</th>\n",
       "      <th>PaymentMethod_Electronic check</th>\n",
       "      <th>PaymentMethod_Mailed check</th>\n",
       "      <th>SeniorCitizen_1</th>\n",
       "      <th>...</th>\n",
       "      <th>Dependents_Yes</th>\n",
       "      <th>MultipleLines_Yes</th>\n",
       "      <th>InternetService_Fiber optic</th>\n",
       "      <th>InternetService_No internet</th>\n",
       "      <th>OnlineSecurity_Yes</th>\n",
       "      <th>OnlineBackup_Yes</th>\n",
       "      <th>DeviceProtection_Yes</th>\n",
       "      <th>TechSupport_Yes</th>\n",
       "      <th>StreamingTV_Yes</th>\n",
       "      <th>StreamingMovies_Yes</th>\n",
       "    </tr>\n",
       "  </thead>\n",
       "  <tbody>\n",
       "    <tr>\n",
       "      <th>0</th>\n",
       "      <td>29.85</td>\n",
       "      <td>0</td>\n",
       "      <td>31</td>\n",
       "      <td>0</td>\n",
       "      <td>0</td>\n",
       "      <td>1</td>\n",
       "      <td>0</td>\n",
       "      <td>1</td>\n",
       "      <td>0</td>\n",
       "      <td>0</td>\n",
       "      <td>...</td>\n",
       "      <td>0</td>\n",
       "      <td>0</td>\n",
       "      <td>0</td>\n",
       "      <td>0</td>\n",
       "      <td>0</td>\n",
       "      <td>1</td>\n",
       "      <td>0</td>\n",
       "      <td>0</td>\n",
       "      <td>0</td>\n",
       "      <td>0</td>\n",
       "    </tr>\n",
       "    <tr>\n",
       "      <th>1</th>\n",
       "      <td>56.95</td>\n",
       "      <td>0</td>\n",
       "      <td>1036</td>\n",
       "      <td>1</td>\n",
       "      <td>0</td>\n",
       "      <td>0</td>\n",
       "      <td>0</td>\n",
       "      <td>0</td>\n",
       "      <td>1</td>\n",
       "      <td>0</td>\n",
       "      <td>...</td>\n",
       "      <td>0</td>\n",
       "      <td>0</td>\n",
       "      <td>0</td>\n",
       "      <td>0</td>\n",
       "      <td>1</td>\n",
       "      <td>0</td>\n",
       "      <td>1</td>\n",
       "      <td>0</td>\n",
       "      <td>0</td>\n",
       "      <td>0</td>\n",
       "    </tr>\n",
       "    <tr>\n",
       "      <th>2</th>\n",
       "      <td>53.85</td>\n",
       "      <td>1</td>\n",
       "      <td>61</td>\n",
       "      <td>0</td>\n",
       "      <td>0</td>\n",
       "      <td>1</td>\n",
       "      <td>0</td>\n",
       "      <td>0</td>\n",
       "      <td>1</td>\n",
       "      <td>0</td>\n",
       "      <td>...</td>\n",
       "      <td>0</td>\n",
       "      <td>0</td>\n",
       "      <td>0</td>\n",
       "      <td>0</td>\n",
       "      <td>1</td>\n",
       "      <td>1</td>\n",
       "      <td>0</td>\n",
       "      <td>0</td>\n",
       "      <td>0</td>\n",
       "      <td>0</td>\n",
       "    </tr>\n",
       "    <tr>\n",
       "      <th>3</th>\n",
       "      <td>42.30</td>\n",
       "      <td>0</td>\n",
       "      <td>1371</td>\n",
       "      <td>1</td>\n",
       "      <td>0</td>\n",
       "      <td>0</td>\n",
       "      <td>0</td>\n",
       "      <td>0</td>\n",
       "      <td>0</td>\n",
       "      <td>0</td>\n",
       "      <td>...</td>\n",
       "      <td>0</td>\n",
       "      <td>0</td>\n",
       "      <td>0</td>\n",
       "      <td>0</td>\n",
       "      <td>1</td>\n",
       "      <td>0</td>\n",
       "      <td>1</td>\n",
       "      <td>1</td>\n",
       "      <td>0</td>\n",
       "      <td>0</td>\n",
       "    </tr>\n",
       "    <tr>\n",
       "      <th>4</th>\n",
       "      <td>70.70</td>\n",
       "      <td>1</td>\n",
       "      <td>61</td>\n",
       "      <td>0</td>\n",
       "      <td>0</td>\n",
       "      <td>1</td>\n",
       "      <td>0</td>\n",
       "      <td>1</td>\n",
       "      <td>0</td>\n",
       "      <td>0</td>\n",
       "      <td>...</td>\n",
       "      <td>0</td>\n",
       "      <td>0</td>\n",
       "      <td>1</td>\n",
       "      <td>0</td>\n",
       "      <td>0</td>\n",
       "      <td>0</td>\n",
       "      <td>0</td>\n",
       "      <td>0</td>\n",
       "      <td>0</td>\n",
       "      <td>0</td>\n",
       "    </tr>\n",
       "  </tbody>\n",
       "</table>\n",
       "<p>5 rows × 21 columns</p>\n",
       "</div>"
      ],
      "text/plain": [
       "   MonthlyCharges  Exited  TenureDay  Type_One year  Type_Two year  \\\n",
       "0           29.85       0         31              0              0   \n",
       "1           56.95       0       1036              1              0   \n",
       "2           53.85       1         61              0              0   \n",
       "3           42.30       0       1371              1              0   \n",
       "4           70.70       1         61              0              0   \n",
       "\n",
       "   PaperlessBilling_Yes  PaymentMethod_Credit card (automatic)  \\\n",
       "0                     1                                      0   \n",
       "1                     0                                      0   \n",
       "2                     1                                      0   \n",
       "3                     0                                      0   \n",
       "4                     1                                      0   \n",
       "\n",
       "   PaymentMethod_Electronic check  PaymentMethod_Mailed check  \\\n",
       "0                               1                           0   \n",
       "1                               0                           1   \n",
       "2                               0                           1   \n",
       "3                               0                           0   \n",
       "4                               1                           0   \n",
       "\n",
       "   SeniorCitizen_1  ...  Dependents_Yes  MultipleLines_Yes  \\\n",
       "0                0  ...               0                  0   \n",
       "1                0  ...               0                  0   \n",
       "2                0  ...               0                  0   \n",
       "3                0  ...               0                  0   \n",
       "4                0  ...               0                  0   \n",
       "\n",
       "   InternetService_Fiber optic  InternetService_No internet  \\\n",
       "0                            0                            0   \n",
       "1                            0                            0   \n",
       "2                            0                            0   \n",
       "3                            0                            0   \n",
       "4                            1                            0   \n",
       "\n",
       "   OnlineSecurity_Yes  OnlineBackup_Yes  DeviceProtection_Yes  \\\n",
       "0                   0                 1                     0   \n",
       "1                   1                 0                     1   \n",
       "2                   1                 1                     0   \n",
       "3                   1                 0                     1   \n",
       "4                   0                 0                     0   \n",
       "\n",
       "   TechSupport_Yes  StreamingTV_Yes  StreamingMovies_Yes  \n",
       "0                0                0                    0  \n",
       "1                0                0                    0  \n",
       "2                0                0                    0  \n",
       "3                1                0                    0  \n",
       "4                0                0                    0  \n",
       "\n",
       "[5 rows x 21 columns]"
      ]
     },
     "execution_count": 31,
     "metadata": {},
     "output_type": "execute_result"
    }
   ],
   "source": [
    "cat_features.remove('gender')\n",
    "cat_features.remove('PhoneService')\n",
    "dt_ohe = pd.get_dummies(dt_full, columns = cat_features, drop_first = True)\n",
    "dt_ohe.head()"
   ]
  },
  {
   "cell_type": "code",
   "execution_count": 32,
   "metadata": {},
   "outputs": [
    {
     "name": "stdout",
     "output_type": "stream",
     "text": [
      "<class 'pandas.core.frame.DataFrame'>\n",
      "Int64Index: 7032 entries, 0 to 7042\n",
      "Data columns (total 21 columns):\n",
      " #   Column                                 Non-Null Count  Dtype  \n",
      "---  ------                                 --------------  -----  \n",
      " 0   MonthlyCharges                         7032 non-null   float64\n",
      " 1   Exited                                 7032 non-null   int64  \n",
      " 2   TenureDay                              7032 non-null   int64  \n",
      " 3   Type_One year                          7032 non-null   uint8  \n",
      " 4   Type_Two year                          7032 non-null   uint8  \n",
      " 5   PaperlessBilling_Yes                   7032 non-null   uint8  \n",
      " 6   PaymentMethod_Credit card (automatic)  7032 non-null   uint8  \n",
      " 7   PaymentMethod_Electronic check         7032 non-null   uint8  \n",
      " 8   PaymentMethod_Mailed check             7032 non-null   uint8  \n",
      " 9   SeniorCitizen_1                        7032 non-null   uint8  \n",
      " 10  Partner_Yes                            7032 non-null   uint8  \n",
      " 11  Dependents_Yes                         7032 non-null   uint8  \n",
      " 12  MultipleLines_Yes                      7032 non-null   uint8  \n",
      " 13  InternetService_Fiber optic            7032 non-null   uint8  \n",
      " 14  InternetService_No internet            7032 non-null   uint8  \n",
      " 15  OnlineSecurity_Yes                     7032 non-null   uint8  \n",
      " 16  OnlineBackup_Yes                       7032 non-null   uint8  \n",
      " 17  DeviceProtection_Yes                   7032 non-null   uint8  \n",
      " 18  TechSupport_Yes                        7032 non-null   uint8  \n",
      " 19  StreamingTV_Yes                        7032 non-null   uint8  \n",
      " 20  StreamingMovies_Yes                    7032 non-null   uint8  \n",
      "dtypes: float64(1), int64(2), uint8(18)\n",
      "memory usage: 343.4 KB\n"
     ]
    }
   ],
   "source": [
    "dt_ohe.info()"
   ]
  },
  {
   "cell_type": "markdown",
   "metadata": {},
   "source": [
    "Разделим данные в выборке на обучающие и тестовые."
   ]
  },
  {
   "cell_type": "code",
   "execution_count": 33,
   "metadata": {},
   "outputs": [
    {
     "name": "stdout",
     "output_type": "stream",
     "text": [
      "(5274, 20)\n",
      "(1758, 20)\n"
     ]
    }
   ],
   "source": [
    "X_train, X_test, y_train, y_test = train_test_split(\n",
    "    dt_ohe.drop('Exited', axis=1), dt_ohe.Exited, test_size=0.25, random_state=12345)\n",
    "\n",
    "print(X_train.shape)\n",
    "print(X_test.shape)"
   ]
  },
  {
   "cell_type": "markdown",
   "metadata": {},
   "source": [
    "Помня о дисбалансе в целевом признаке, создадим функцию для его устранения в выборках."
   ]
  },
  {
   "cell_type": "code",
   "execution_count": 34,
   "metadata": {},
   "outputs": [],
   "source": [
    "# Функция принимает на вход выборки признаков и таргета \n",
    "# и переменную up_down - признак:\n",
    "# 'up' - upsampling, 'down' - downsampling\n",
    "# Возвращает сблансированные выборки\n",
    "\n",
    "def resample_class(features, target, up_down):\n",
    "   \n",
    "    name_target = target.name\n",
    "    X = pd.concat([features, target], axis=1)\n",
    "    class_0 = X[X[name_target]==0]\n",
    "    class_1 = X[X[name_target]==1]\n",
    "    \n",
    "    if up_down == 'up':\n",
    "        class_1_upsampled = resample(class_1,\n",
    "                              replace=True,\n",
    "                              n_samples=len(class_0),\n",
    "                              random_state=12345) \n",
    "        newsample = pd.concat([class_0, class_1_upsampled])\n",
    "    \n",
    "    else: \n",
    "        class_0_downsampled = resample(class_0,\n",
    "                                replace = False, \n",
    "                                n_samples = len(class_1), \n",
    "                                random_state = 12345) \n",
    "        newsample = pd.concat([class_0_downsampled, class_1])\n",
    "           \n",
    "    y_train = newsample[name_target]\n",
    "    X_train = newsample.drop(name_target, axis=1)\n",
    "    X_train, y_train = shuffle(X_train, y_train, random_state=12345)\n",
    "    \n",
    "    return X_train, y_train"
   ]
  },
  {
   "cell_type": "code",
   "execution_count": 35,
   "metadata": {},
   "outputs": [
    {
     "data": {
      "text/plain": [
       "0    3870\n",
       "1    1404\n",
       "Name: Exited, dtype: int64"
      ]
     },
     "execution_count": 35,
     "metadata": {},
     "output_type": "execute_result"
    }
   ],
   "source": [
    "y_train.value_counts()"
   ]
  },
  {
   "cell_type": "markdown",
   "metadata": {},
   "source": [
    "Единиц в обучающем таргете всего 1404. Устранение дисбаланса downsampling-ом вероятно приведет к сокращению важной информации и может приветси к недообучению. Создадим дополнительную обучающую выборку upsampling-ом. И посмотрим как эти данные повлияют на обучение моделей."
   ]
  },
  {
   "cell_type": "code",
   "execution_count": 36,
   "metadata": {},
   "outputs": [
    {
     "name": "stdout",
     "output_type": "stream",
     "text": [
      "0    0.5\n",
      "1    0.5\n",
      "Name: Exited, dtype: float64\n"
     ]
    },
    {
     "data": {
      "image/png": "[encoded data removed]",
      "text/plain": [
       "<Figure size 432x288 with 1 Axes>"
      ]
     },
     "metadata": {
      "needs_background": "light"
     },
     "output_type": "display_data"
    }
   ],
   "source": [
    "X_train_upsampled, y_train_upsampled = resample_class(X_train, y_train, 'up')\n",
    "\n",
    "class_frequency = y_train_upsampled.value_counts(normalize=True)\n",
    "print(class_frequency)\n",
    "class_frequency.plot(kind='bar')\n",
    "plt.show()"
   ]
  },
  {
   "cell_type": "code",
   "execution_count": 37,
   "metadata": {},
   "outputs": [
    {
     "name": "stdout",
     "output_type": "stream",
     "text": [
      "0    3870\n",
      "1    1404\n",
      "Name: Exited, dtype: int64\n",
      "0    3870\n",
      "1    3870\n",
      "Name: Exited, dtype: int64\n"
     ]
    }
   ],
   "source": [
    "print(y_train.value_counts())\n",
    "print(y_train_upsampled.value_counts())"
   ]
  },
  {
   "cell_type": "markdown",
   "metadata": {},
   "source": [
    "Данные для обучения моделей подготовлены"
   ]
  },
  {
   "cell_type": "markdown",
   "metadata": {},
   "source": [
    "## Настройка, обучение и тестирование моделей"
   ]
  },
  {
   "cell_type": "markdown",
   "metadata": {},
   "source": [
    "Обучим и протестируем модели с разными гиперпараметрами. Будем использовать следующие алгоритмы:\n",
    "\n",
    "LogisticRegression  \n",
    "LGBMClassifier  \n",
    "CatBoostClassifier  \n",
    "XGBClassifier  \n",
    "RandomForestClassifier\n",
    "\n",
    "Создадим сводную таблицу для сравнения результатов работы алгоритмов."
   ]
  },
  {
   "cell_type": "code",
   "execution_count": 37,
   "metadata": {},
   "outputs": [
    {
     "data": {
      "text/html": [
       "<div>\n",
       "<style scoped>\n",
       "    .dataframe tbody tr th:only-of-type {\n",
       "        vertical-align: middle;\n",
       "    }\n",
       "\n",
       "    .dataframe tbody tr th {\n",
       "        vertical-align: top;\n",
       "    }\n",
       "\n",
       "    .dataframe thead th {\n",
       "        text-align: right;\n",
       "    }\n",
       "</style>\n",
       "<table border=\"1\" class=\"dataframe\">\n",
       "  <thead>\n",
       "    <tr style=\"text-align: right;\">\n",
       "      <th></th>\n",
       "      <th>Алгоритм</th>\n",
       "      <th>ROC-AUC (тест)</th>\n",
       "      <th>Accuracy (тест)</th>\n",
       "      <th>Precision (тест)</th>\n",
       "      <th>Recall (тест)</th>\n",
       "    </tr>\n",
       "  </thead>\n",
       "  <tbody>\n",
       "  </tbody>\n",
       "</table>\n",
       "</div>"
      ],
      "text/plain": [
       "Empty DataFrame\n",
       "Columns: [Алгоритм, ROC-AUC (тест), Accuracy (тест), Precision (тест), Recall (тест)]\n",
       "Index: []"
      ]
     },
     "metadata": {},
     "output_type": "display_data"
    }
   ],
   "source": [
    "model_comparison = pd.DataFrame(columns=['Алгоритм', 'ROC-AUC (тест)', 'Accuracy (тест)',\n",
    "                                         'Precision (тест)', 'Recall (тест)'])\n",
    "display(model_comparison)"
   ]
  },
  {
   "cell_type": "markdown",
   "metadata": {},
   "source": [
    "Функция для настройки и тестирования моделей"
   ]
  },
  {
   "cell_type": "code",
   "execution_count": 38,
   "metadata": {},
   "outputs": [],
   "source": [
    "def  tuning_test_models(model_name, classifier, params, X_train, y_train, X_test, y_test):\n",
    "    \n",
    "    scaler = StandardScaler()\n",
    "    steps = [('normalizer', scaler), ('classifier', classifier)]  \n",
    "    skf = StratifiedKFold(n_splits=5, shuffle=True, random_state=12345)\n",
    "\n",
    "    pipe = Pipeline(steps)\n",
    "    gs = GridSearchCV(estimator=pipe, param_grid=params, scoring = 'roc_auc', refit = True, \n",
    "                           n_jobs = -1, cv = skf, verbose = 0)\n",
    "\n",
    "    gs.fit(X_train, y_train)   \n",
    "    best_model = gs.best_estimator_   \n",
    "    target_predict = best_model.predict(X_test)\n",
    "\n",
    "    probabilities_one_valid = best_model.predict_proba(X_test)[:, 1]\n",
    "    roc_auc = roc_auc_score(y_test, probabilities_one_valid)\n",
    "    accuracy = accuracy_score(y_test, target_predict)\n",
    "    \n",
    "    print(\"\\n========================================================\")\n",
    "    print(\" Модель\",  model_name)\n",
    "    print(\"========================================================\")\n",
    "    \n",
    "    print(\"\\n Лучший результат по всем параметрам (best_score_):\\n\", gs.best_score_)    \n",
    "    print(\"\\n Лучшие параметры модели (best_params_):\\n\", gs.best_params_)\n",
    "    \n",
    "    print(\"\\n ========================================================\")\n",
    "\n",
    "    result = {'Алгоритм' : model_name,\n",
    "              'ROC-AUC (тест)' : round(roc_auc, 3),\n",
    "              'Accuracy (тест)' : round(accuracy, 2),\n",
    "              'Precision (тест)' : round(precision_score(y_test, target_predict), 3),\n",
    "              'Recall (тест)' : round(recall_score(y_test, target_predict), 3)}\n",
    "    \n",
    "    return best_model, result"
   ]
  },
  {
   "cell_type": "markdown",
   "metadata": {},
   "source": [
    "Протестируем обучение на данных с балансировкой целевого признака выполненной методом upsampling"
   ]
  },
  {
   "cell_type": "code",
   "execution_count": 39,
   "metadata": {},
   "outputs": [
    {
     "name": "stdout",
     "output_type": "stream",
     "text": [
      "\n",
      "========================================================\n",
      " Модель LGBMClassifier_upsampled\n",
      "========================================================\n",
      "\n",
      " Лучший результат по всем параметрам (best_score_):\n",
      " 0.9797139261128806\n",
      "\n",
      " Лучшие параметры модели (best_params_):\n",
      " {'classifier__learning_rate': 0.3, 'classifier__n_estimators': 200}\n",
      "\n",
      " ========================================================\n"
     ]
    },
    {
     "data": {
      "text/html": [
       "<div>\n",
       "<style scoped>\n",
       "    .dataframe tbody tr th:only-of-type {\n",
       "        vertical-align: middle;\n",
       "    }\n",
       "\n",
       "    .dataframe tbody tr th {\n",
       "        vertical-align: top;\n",
       "    }\n",
       "\n",
       "    .dataframe thead th {\n",
       "        text-align: right;\n",
       "    }\n",
       "</style>\n",
       "<table border=\"1\" class=\"dataframe\">\n",
       "  <thead>\n",
       "    <tr style=\"text-align: right;\">\n",
       "      <th></th>\n",
       "      <th>Алгоритм</th>\n",
       "      <th>ROC-AUC (тест)</th>\n",
       "      <th>Accuracy (тест)</th>\n",
       "      <th>Precision (тест)</th>\n",
       "      <th>Recall (тест)</th>\n",
       "    </tr>\n",
       "  </thead>\n",
       "  <tbody>\n",
       "    <tr>\n",
       "      <th>0</th>\n",
       "      <td>LGBMClassifier_upsampled</td>\n",
       "      <td>0.908</td>\n",
       "      <td>0.87</td>\n",
       "      <td>0.767</td>\n",
       "      <td>0.72</td>\n",
       "    </tr>\n",
       "  </tbody>\n",
       "</table>\n",
       "</div>"
      ],
      "text/plain": [
       "                   Алгоритм  ROC-AUC (тест)  Accuracy (тест)  \\\n",
       "0  LGBMClassifier_upsampled           0.908             0.87   \n",
       "\n",
       "   Precision (тест)  Recall (тест)  \n",
       "0             0.767           0.72  "
      ]
     },
     "metadata": {},
     "output_type": "display_data"
    }
   ],
   "source": [
    "classifier = LGBMClassifier(random_state=12345)\n",
    "\n",
    "params = {'classifier__n_estimators': [150, 200], \n",
    "          'classifier__learning_rate': [0.1, 0.3]}\n",
    "        \n",
    "best_model_LGBM, model_results = tuning_test_models('LGBMClassifier_upsampled', \n",
    "                                                    classifier, params,\n",
    "                                                    X_train_upsampled, y_train_upsampled,\n",
    "                                                    X_test, y_test)\n",
    "\n",
    "model_comparison = model_comparison.append(model_results, ignore_index=True)\n",
    "display(model_comparison)"
   ]
  },
  {
   "cell_type": "markdown",
   "metadata": {},
   "source": [
    "Модель сильно переобучилась. Попробуем использовать для балансировки соответствующие параметры моделей."
   ]
  },
  {
   "cell_type": "code",
   "execution_count": 40,
   "metadata": {},
   "outputs": [
    {
     "name": "stdout",
     "output_type": "stream",
     "text": [
      "\n",
      "========================================================\n",
      " Модель LGBMClassifier\n",
      "========================================================\n",
      "\n",
      " Лучший результат по всем параметрам (best_score_):\n",
      " 0.9010993406714668\n",
      "\n",
      " Лучшие параметры модели (best_params_):\n",
      " {'classifier__learning_rate': 0.1, 'classifier__n_estimators': 200}\n",
      "\n",
      " ========================================================\n"
     ]
    },
    {
     "data": {
      "text/html": [
       "<div>\n",
       "<style scoped>\n",
       "    .dataframe tbody tr th:only-of-type {\n",
       "        vertical-align: middle;\n",
       "    }\n",
       "\n",
       "    .dataframe tbody tr th {\n",
       "        vertical-align: top;\n",
       "    }\n",
       "\n",
       "    .dataframe thead th {\n",
       "        text-align: right;\n",
       "    }\n",
       "</style>\n",
       "<table border=\"1\" class=\"dataframe\">\n",
       "  <thead>\n",
       "    <tr style=\"text-align: right;\">\n",
       "      <th></th>\n",
       "      <th>Алгоритм</th>\n",
       "      <th>ROC-AUC (тест)</th>\n",
       "      <th>Accuracy (тест)</th>\n",
       "      <th>Precision (тест)</th>\n",
       "      <th>Recall (тест)</th>\n",
       "    </tr>\n",
       "  </thead>\n",
       "  <tbody>\n",
       "    <tr>\n",
       "      <th>0</th>\n",
       "      <td>LGBMClassifier_upsampled</td>\n",
       "      <td>0.908</td>\n",
       "      <td>0.87</td>\n",
       "      <td>0.767</td>\n",
       "      <td>0.720</td>\n",
       "    </tr>\n",
       "    <tr>\n",
       "      <th>1</th>\n",
       "      <td>LGBMClassifier</td>\n",
       "      <td>0.911</td>\n",
       "      <td>0.85</td>\n",
       "      <td>0.691</td>\n",
       "      <td>0.766</td>\n",
       "    </tr>\n",
       "  </tbody>\n",
       "</table>\n",
       "</div>"
      ],
      "text/plain": [
       "                   Алгоритм  ROC-AUC (тест)  Accuracy (тест)  \\\n",
       "0  LGBMClassifier_upsampled           0.908             0.87   \n",
       "1            LGBMClassifier           0.911             0.85   \n",
       "\n",
       "   Precision (тест)  Recall (тест)  \n",
       "0             0.767          0.720  \n",
       "1             0.691          0.766  "
      ]
     },
     "metadata": {},
     "output_type": "display_data"
    }
   ],
   "source": [
    "classifier = LGBMClassifier(class_weight='balanced', \n",
    "                            random_state=12345)\n",
    "\n",
    "params = {'classifier__n_estimators': [150, 200], \n",
    "          'classifier__learning_rate': [0.1, 0.3]}\n",
    "        \n",
    "best_model_LGBM, model_results = tuning_test_models('LGBMClassifier', \n",
    "                                                    classifier, params,\n",
    "                                                    X_train, y_train,\n",
    "                                                    X_test, y_test)\n",
    "\n",
    "model_comparison = model_comparison.append(model_results, ignore_index=True)\n",
    "display(model_comparison)"
   ]
  },
  {
   "cell_type": "markdown",
   "metadata": {},
   "source": [
    "Обучим и протестируем другие модели"
   ]
  },
  {
   "cell_type": "code",
   "execution_count": 41,
   "metadata": {},
   "outputs": [
    {
     "name": "stdout",
     "output_type": "stream",
     "text": [
      "\n",
      "========================================================\n",
      " Модель LogisticRegression\n",
      "========================================================\n",
      "\n",
      " Лучший результат по всем параметрам (best_score_):\n",
      " 0.8403901273466985\n",
      "\n",
      " Лучшие параметры модели (best_params_):\n",
      " {'classifier__max_iter': 100, 'classifier__penalty': 'l1', 'classifier__solver': 'liblinear'}\n",
      "\n",
      " ========================================================\n"
     ]
    },
    {
     "data": {
      "text/html": [
       "<div>\n",
       "<style scoped>\n",
       "    .dataframe tbody tr th:only-of-type {\n",
       "        vertical-align: middle;\n",
       "    }\n",
       "\n",
       "    .dataframe tbody tr th {\n",
       "        vertical-align: top;\n",
       "    }\n",
       "\n",
       "    .dataframe thead th {\n",
       "        text-align: right;\n",
       "    }\n",
       "</style>\n",
       "<table border=\"1\" class=\"dataframe\">\n",
       "  <thead>\n",
       "    <tr style=\"text-align: right;\">\n",
       "      <th></th>\n",
       "      <th>Алгоритм</th>\n",
       "      <th>ROC-AUC (тест)</th>\n",
       "      <th>Accuracy (тест)</th>\n",
       "      <th>Precision (тест)</th>\n",
       "      <th>Recall (тест)</th>\n",
       "    </tr>\n",
       "  </thead>\n",
       "  <tbody>\n",
       "    <tr>\n",
       "      <th>0</th>\n",
       "      <td>LGBMClassifier_upsampled</td>\n",
       "      <td>0.908</td>\n",
       "      <td>0.87</td>\n",
       "      <td>0.767</td>\n",
       "      <td>0.720</td>\n",
       "    </tr>\n",
       "    <tr>\n",
       "      <th>1</th>\n",
       "      <td>LGBMClassifier</td>\n",
       "      <td>0.911</td>\n",
       "      <td>0.85</td>\n",
       "      <td>0.691</td>\n",
       "      <td>0.766</td>\n",
       "    </tr>\n",
       "    <tr>\n",
       "      <th>2</th>\n",
       "      <td>LogisticRegression</td>\n",
       "      <td>0.850</td>\n",
       "      <td>0.75</td>\n",
       "      <td>0.517</td>\n",
       "      <td>0.800</td>\n",
       "    </tr>\n",
       "  </tbody>\n",
       "</table>\n",
       "</div>"
      ],
      "text/plain": [
       "                   Алгоритм  ROC-AUC (тест)  Accuracy (тест)  \\\n",
       "0  LGBMClassifier_upsampled           0.908             0.87   \n",
       "1            LGBMClassifier           0.911             0.85   \n",
       "2        LogisticRegression           0.850             0.75   \n",
       "\n",
       "   Precision (тест)  Recall (тест)  \n",
       "0             0.767          0.720  \n",
       "1             0.691          0.766  \n",
       "2             0.517          0.800  "
      ]
     },
     "metadata": {},
     "output_type": "display_data"
    }
   ],
   "source": [
    "classifier = LogisticRegression(class_weight = 'balanced', \n",
    "                                random_state = 12345)\n",
    "\n",
    "params = {'classifier__solver': ['liblinear'], \n",
    "          'classifier__max_iter': [100, 200], \n",
    "          'classifier__penalty': ['l1', 'l2']}\n",
    "       \n",
    "best_model_LR, model_results = tuning_test_models('LogisticRegression',\n",
    "                                                  classifier, params,\n",
    "                                                  X_train, y_train,\n",
    "                                                  X_test, y_test)\n",
    "\n",
    "model_comparison = model_comparison.append(model_results, ignore_index=True)\n",
    "display(model_comparison)"
   ]
  },
  {
   "cell_type": "code",
   "execution_count": 42,
   "metadata": {},
   "outputs": [
    {
     "name": "stdout",
     "output_type": "stream",
     "text": [
      "\n",
      "========================================================\n",
      " Модель CatBoostClassifier\n",
      "========================================================\n",
      "\n",
      " Лучший результат по всем параметрам (best_score_):\n",
      " 0.8985339513470979\n",
      "\n",
      " Лучшие параметры модели (best_params_):\n",
      " {'classifier__depth': 5, 'classifier__iterations': 200, 'classifier__learning_rate': 0.1}\n",
      "\n",
      " ========================================================\n"
     ]
    },
    {
     "data": {
      "text/html": [
       "<div>\n",
       "<style scoped>\n",
       "    .dataframe tbody tr th:only-of-type {\n",
       "        vertical-align: middle;\n",
       "    }\n",
       "\n",
       "    .dataframe tbody tr th {\n",
       "        vertical-align: top;\n",
       "    }\n",
       "\n",
       "    .dataframe thead th {\n",
       "        text-align: right;\n",
       "    }\n",
       "</style>\n",
       "<table border=\"1\" class=\"dataframe\">\n",
       "  <thead>\n",
       "    <tr style=\"text-align: right;\">\n",
       "      <th></th>\n",
       "      <th>Алгоритм</th>\n",
       "      <th>ROC-AUC (тест)</th>\n",
       "      <th>Accuracy (тест)</th>\n",
       "      <th>Precision (тест)</th>\n",
       "      <th>Recall (тест)</th>\n",
       "    </tr>\n",
       "  </thead>\n",
       "  <tbody>\n",
       "    <tr>\n",
       "      <th>0</th>\n",
       "      <td>LGBMClassifier_upsampled</td>\n",
       "      <td>0.908</td>\n",
       "      <td>0.87</td>\n",
       "      <td>0.767</td>\n",
       "      <td>0.720</td>\n",
       "    </tr>\n",
       "    <tr>\n",
       "      <th>1</th>\n",
       "      <td>LGBMClassifier</td>\n",
       "      <td>0.911</td>\n",
       "      <td>0.85</td>\n",
       "      <td>0.691</td>\n",
       "      <td>0.766</td>\n",
       "    </tr>\n",
       "    <tr>\n",
       "      <th>2</th>\n",
       "      <td>LogisticRegression</td>\n",
       "      <td>0.850</td>\n",
       "      <td>0.75</td>\n",
       "      <td>0.517</td>\n",
       "      <td>0.800</td>\n",
       "    </tr>\n",
       "    <tr>\n",
       "      <th>3</th>\n",
       "      <td>CatBoostClassifier</td>\n",
       "      <td>0.909</td>\n",
       "      <td>0.83</td>\n",
       "      <td>0.643</td>\n",
       "      <td>0.822</td>\n",
       "    </tr>\n",
       "  </tbody>\n",
       "</table>\n",
       "</div>"
      ],
      "text/plain": [
       "                   Алгоритм  ROC-AUC (тест)  Accuracy (тест)  \\\n",
       "0  LGBMClassifier_upsampled           0.908             0.87   \n",
       "1            LGBMClassifier           0.911             0.85   \n",
       "2        LogisticRegression           0.850             0.75   \n",
       "3        CatBoostClassifier           0.909             0.83   \n",
       "\n",
       "   Precision (тест)  Recall (тест)  \n",
       "0             0.767          0.720  \n",
       "1             0.691          0.766  \n",
       "2             0.517          0.800  \n",
       "3             0.643          0.822  "
      ]
     },
     "metadata": {},
     "output_type": "display_data"
    }
   ],
   "source": [
    "classifier = CatBoostClassifier(loss_function='Logloss',\n",
    "                                auto_class_weights='Balanced', \n",
    "                                random_state=12345,\n",
    "                                verbose=0)\n",
    "\n",
    "params = {'classifier__depth': [2, 5], \n",
    "          'classifier__learning_rate': [0.05, 0.1],\n",
    "          'classifier__iterations': [100, 200]}\n",
    "        \n",
    "best_model_CB, model_results = tuning_test_models('CatBoostClassifier',\n",
    "                                                  classifier, params, \n",
    "                                                  X_train, y_train, \n",
    "                                                  X_test, y_test)\n",
    "\n",
    "model_comparison = model_comparison.append(model_results, ignore_index=True)\n",
    "display(model_comparison)"
   ]
  },
  {
   "cell_type": "code",
   "execution_count": 43,
   "metadata": {},
   "outputs": [
    {
     "name": "stdout",
     "output_type": "stream",
     "text": [
      "\n",
      "========================================================\n",
      " Модель XGBClassifier\n",
      "========================================================\n",
      "\n",
      " Лучший результат по всем параметрам (best_score_):\n",
      " 0.9039454618780944\n",
      "\n",
      " Лучшие параметры модели (best_params_):\n",
      " {'classifier__learning_rate': 0.1, 'classifier__n_estimators': 300}\n",
      "\n",
      " ========================================================\n"
     ]
    },
    {
     "data": {
      "text/html": [
       "<div>\n",
       "<style scoped>\n",
       "    .dataframe tbody tr th:only-of-type {\n",
       "        vertical-align: middle;\n",
       "    }\n",
       "\n",
       "    .dataframe tbody tr th {\n",
       "        vertical-align: top;\n",
       "    }\n",
       "\n",
       "    .dataframe thead th {\n",
       "        text-align: right;\n",
       "    }\n",
       "</style>\n",
       "<table border=\"1\" class=\"dataframe\">\n",
       "  <thead>\n",
       "    <tr style=\"text-align: right;\">\n",
       "      <th></th>\n",
       "      <th>Алгоритм</th>\n",
       "      <th>ROC-AUC (тест)</th>\n",
       "      <th>Accuracy (тест)</th>\n",
       "      <th>Precision (тест)</th>\n",
       "      <th>Recall (тест)</th>\n",
       "    </tr>\n",
       "  </thead>\n",
       "  <tbody>\n",
       "    <tr>\n",
       "      <th>0</th>\n",
       "      <td>LGBMClassifier_upsampled</td>\n",
       "      <td>0.908</td>\n",
       "      <td>0.87</td>\n",
       "      <td>0.767</td>\n",
       "      <td>0.720</td>\n",
       "    </tr>\n",
       "    <tr>\n",
       "      <th>1</th>\n",
       "      <td>LGBMClassifier</td>\n",
       "      <td>0.911</td>\n",
       "      <td>0.85</td>\n",
       "      <td>0.691</td>\n",
       "      <td>0.766</td>\n",
       "    </tr>\n",
       "    <tr>\n",
       "      <th>2</th>\n",
       "      <td>LogisticRegression</td>\n",
       "      <td>0.850</td>\n",
       "      <td>0.75</td>\n",
       "      <td>0.517</td>\n",
       "      <td>0.800</td>\n",
       "    </tr>\n",
       "    <tr>\n",
       "      <th>3</th>\n",
       "      <td>CatBoostClassifier</td>\n",
       "      <td>0.909</td>\n",
       "      <td>0.83</td>\n",
       "      <td>0.643</td>\n",
       "      <td>0.822</td>\n",
       "    </tr>\n",
       "    <tr>\n",
       "      <th>4</th>\n",
       "      <td>XGBClassifier</td>\n",
       "      <td>0.919</td>\n",
       "      <td>0.87</td>\n",
       "      <td>0.829</td>\n",
       "      <td>0.645</td>\n",
       "    </tr>\n",
       "  </tbody>\n",
       "</table>\n",
       "</div>"
      ],
      "text/plain": [
       "                   Алгоритм  ROC-AUC (тест)  Accuracy (тест)  \\\n",
       "0  LGBMClassifier_upsampled           0.908             0.87   \n",
       "1            LGBMClassifier           0.911             0.85   \n",
       "2        LogisticRegression           0.850             0.75   \n",
       "3        CatBoostClassifier           0.909             0.83   \n",
       "4             XGBClassifier           0.919             0.87   \n",
       "\n",
       "   Precision (тест)  Recall (тест)  \n",
       "0             0.767          0.720  \n",
       "1             0.691          0.766  \n",
       "2             0.517          0.800  \n",
       "3             0.643          0.822  \n",
       "4             0.829          0.645  "
      ]
     },
     "metadata": {},
     "output_type": "display_data"
    }
   ],
   "source": [
    "classifier = XGBClassifier(random_state=12345)\n",
    "\n",
    "params = {'classifier__n_estimators': [100, 200, 300], \n",
    "          'classifier__learning_rate': [0.05, 0.1, 0.5]}\n",
    "        \n",
    "best_model_XGB, model_results = tuning_test_models('XGBClassifier',\n",
    "                                                    classifier, params,\n",
    "                                                    X_train, y_train,\n",
    "                                                    X_test, y_test)\n",
    "\n",
    "model_comparison = model_comparison.append(model_results, ignore_index=True)\n",
    "display(model_comparison)"
   ]
  },
  {
   "cell_type": "code",
   "execution_count": 44,
   "metadata": {},
   "outputs": [
    {
     "name": "stdout",
     "output_type": "stream",
     "text": [
      "\n",
      "========================================================\n",
      " Модель RandomForestClassifier\n",
      "========================================================\n",
      "\n",
      " Лучший результат по всем параметрам (best_score_):\n",
      " 0.8513746816004121\n",
      "\n",
      " Лучшие параметры модели (best_params_):\n",
      " {'classifier__max_depth': 10, 'classifier__n_estimators': 200}\n",
      "\n",
      " ========================================================\n"
     ]
    },
    {
     "data": {
      "text/html": [
       "<div>\n",
       "<style scoped>\n",
       "    .dataframe tbody tr th:only-of-type {\n",
       "        vertical-align: middle;\n",
       "    }\n",
       "\n",
       "    .dataframe tbody tr th {\n",
       "        vertical-align: top;\n",
       "    }\n",
       "\n",
       "    .dataframe thead th {\n",
       "        text-align: right;\n",
       "    }\n",
       "</style>\n",
       "<table border=\"1\" class=\"dataframe\">\n",
       "  <thead>\n",
       "    <tr style=\"text-align: right;\">\n",
       "      <th></th>\n",
       "      <th>Алгоритм</th>\n",
       "      <th>ROC-AUC (тест)</th>\n",
       "      <th>Accuracy (тест)</th>\n",
       "      <th>Precision (тест)</th>\n",
       "      <th>Recall (тест)</th>\n",
       "    </tr>\n",
       "  </thead>\n",
       "  <tbody>\n",
       "    <tr>\n",
       "      <th>0</th>\n",
       "      <td>LGBMClassifier_upsampled</td>\n",
       "      <td>0.908</td>\n",
       "      <td>0.87</td>\n",
       "      <td>0.767</td>\n",
       "      <td>0.720</td>\n",
       "    </tr>\n",
       "    <tr>\n",
       "      <th>1</th>\n",
       "      <td>LGBMClassifier</td>\n",
       "      <td>0.911</td>\n",
       "      <td>0.85</td>\n",
       "      <td>0.691</td>\n",
       "      <td>0.766</td>\n",
       "    </tr>\n",
       "    <tr>\n",
       "      <th>2</th>\n",
       "      <td>LogisticRegression</td>\n",
       "      <td>0.850</td>\n",
       "      <td>0.75</td>\n",
       "      <td>0.517</td>\n",
       "      <td>0.800</td>\n",
       "    </tr>\n",
       "    <tr>\n",
       "      <th>3</th>\n",
       "      <td>CatBoostClassifier</td>\n",
       "      <td>0.909</td>\n",
       "      <td>0.83</td>\n",
       "      <td>0.643</td>\n",
       "      <td>0.822</td>\n",
       "    </tr>\n",
       "    <tr>\n",
       "      <th>4</th>\n",
       "      <td>XGBClassifier</td>\n",
       "      <td>0.919</td>\n",
       "      <td>0.87</td>\n",
       "      <td>0.829</td>\n",
       "      <td>0.645</td>\n",
       "    </tr>\n",
       "    <tr>\n",
       "      <th>5</th>\n",
       "      <td>RandomForestClassifier</td>\n",
       "      <td>0.863</td>\n",
       "      <td>0.80</td>\n",
       "      <td>0.595</td>\n",
       "      <td>0.755</td>\n",
       "    </tr>\n",
       "  </tbody>\n",
       "</table>\n",
       "</div>"
      ],
      "text/plain": [
       "                   Алгоритм  ROC-AUC (тест)  Accuracy (тест)  \\\n",
       "0  LGBMClassifier_upsampled           0.908             0.87   \n",
       "1            LGBMClassifier           0.911             0.85   \n",
       "2        LogisticRegression           0.850             0.75   \n",
       "3        CatBoostClassifier           0.909             0.83   \n",
       "4             XGBClassifier           0.919             0.87   \n",
       "5    RandomForestClassifier           0.863             0.80   \n",
       "\n",
       "   Precision (тест)  Recall (тест)  \n",
       "0             0.767          0.720  \n",
       "1             0.691          0.766  \n",
       "2             0.517          0.800  \n",
       "3             0.643          0.822  \n",
       "4             0.829          0.645  \n",
       "5             0.595          0.755  "
      ]
     },
     "metadata": {},
     "output_type": "display_data"
    }
   ],
   "source": [
    "classifier = RandomForestClassifier(class_weight='balanced', random_state=12345)\n",
    "\n",
    "params = {'classifier__max_depth': [5, 10], \n",
    "          'classifier__n_estimators': [100, 200]}\n",
    "        \n",
    "best_model_RF, model_results = tuning_test_models('RandomForestClassifier',\n",
    "                                                  classifier, params,\n",
    "                                                  X_train, y_train,\n",
    "                                                  X_test, y_test)\n",
    "\n",
    "model_comparison = model_comparison.append(model_results, ignore_index=True)\n",
    "display(model_comparison)"
   ]
  },
  {
   "cell_type": "markdown",
   "metadata": {},
   "source": [
    "Лучшие результаты показали модели использующие алгоритмы бустинга. Самый высокий показатель целевой метрики на тестовой выборке у модели XGBClassifier. Посмотрим какие признаки имеют наибольшую важность. Информация будет важна для работы по снижению оттока в будущем."
   ]
  },
  {
   "cell_type": "code",
   "execution_count": 45,
   "metadata": {},
   "outputs": [],
   "source": [
    "def plot_feature_importances(model):\n",
    "    plt.figure(figsize=(10, 8))\n",
    "    plt.title('Feature importance')\n",
    "    (pd.Series(model.steps[1][1].feature_importances_, index=X_train.columns)\n",
    "                                .sort_values(ascending=False)\n",
    "                                .plot(kind='barh', color='gray', fontsize=15))\n",
    "    plt.ylabel('Feature')\n",
    "    plt.show()"
   ]
  },
  {
   "cell_type": "code",
   "execution_count": 46,
   "metadata": {},
   "outputs": [
    {
     "data": {
      "image/png": "[encoded data removed]",
      "text/plain": [
       "<Figure size 720x576 with 1 Axes>"
      ]
     },
     "metadata": {
      "needs_background": "light"
     },
     "output_type": "display_data"
    }
   ],
   "source": [
    "plot_feature_importances(best_model_XGB)"
   ]
  },
  {
   "cell_type": "markdown",
   "metadata": {},
   "source": [
    "В дополнение построим график ROC-кривой и confusion_matrix"
   ]
  },
  {
   "cell_type": "code",
   "execution_count": 47,
   "metadata": {},
   "outputs": [
    {
     "data": {
      "image/png": "[encoded data removed]",
      "text/plain": [
       "<Figure size 432x432 with 1 Axes>"
      ]
     },
     "metadata": {
      "needs_background": "light"
     },
     "output_type": "display_data"
    }
   ],
   "source": [
    "probabilities_one_valid = best_model_XGB.predict_proba(X_test)[:, 1]\n",
    "fpr, tpr, thresholds = roc_curve(y_test, probabilities_one_valid) \n",
    "\n",
    "plt.figure(figsize=(6,6))\n",
    "plt.plot(fpr, tpr)\n",
    "plt.xlim([0.0, 1.0])\n",
    "plt.ylim([0.0, 1.0]) \n",
    "plt.xlabel('False Positive Rate')\n",
    "plt.ylabel('True Positive Rate')\n",
    "plt.title('ROC-кривая')\n",
    "plt.plot([0, 1], [0, 1], linestyle='--')\n",
    "plt.show()"
   ]
  },
  {
   "cell_type": "code",
   "execution_count": 48,
   "metadata": {},
   "outputs": [
    {
     "data": {
      "image/png": "[encoded data removed]",
      "text/plain": [
       "<Figure size 432x288 with 2 Axes>"
      ]
     },
     "metadata": {
      "needs_background": "light"
     },
     "output_type": "display_data"
    }
   ],
   "source": [
    "cf_matrix = confusion_matrix(y_test, best_model_XGB.predict(X_test))\n",
    "ax = sns.heatmap(cf_matrix, annot=True, cmap='Blues', fmt=\"\")\n",
    "\n",
    "ax.set_title('\\nConfusion Matrix\\n');\n",
    "ax.set_xlabel('Predicted Values')\n",
    "ax.set_ylabel('Actual Values ');\n",
    "\n",
    "ax.xaxis.set_ticklabels(['0','1'])\n",
    "ax.yaxis.set_ticklabels(['0','1'])\n",
    "\n",
    "plt.show()"
   ]
  },
  {
   "cell_type": "markdown",
   "metadata": {},
   "source": [
    "## Выводы"
   ]
  },
  {
   "cell_type": "markdown",
   "metadata": {},
   "source": [
    "В результате выполнения данного проекта были построены модели для прогнозирования оттока клиентов телеком компании. Для этого были проведены разведочный и исследовательский анализ исторических данных о некоторых клиентах, об их тарифах и договорах. Различными методами, с подбором гиперпараметров, были обучены модели машинного обучения и протестирована их работа. На подготовленных данных все модели показали достаточно высокие результаты. Анализ метрик моделей показал, что если важны метрики ROC-AUC и Accuracy, то наилучшие результаты показывает модель XGBClassifier. На тестовой выборке ее результаты ROC-AUC=0.919, Accuracy=0.87. Модель также демонстриует, в сравнении с другими, высокую точность Precision=0.829. Если бизнесу важен показатель полноты (Recall), то CatBoostClassifier дает самое высокое значение этой метрики - 0.822.\n",
    "\n",
    "Результаты финальных тестов моеделей представлены в таблице ниже:"
   ]
  },
  {
   "cell_type": "code",
   "execution_count": 49,
   "metadata": {},
   "outputs": [
    {
     "data": {
      "text/html": [
       "<div>\n",
       "<style scoped>\n",
       "    .dataframe tbody tr th:only-of-type {\n",
       "        vertical-align: middle;\n",
       "    }\n",
       "\n",
       "    .dataframe tbody tr th {\n",
       "        vertical-align: top;\n",
       "    }\n",
       "\n",
       "    .dataframe thead th {\n",
       "        text-align: right;\n",
       "    }\n",
       "</style>\n",
       "<table border=\"1\" class=\"dataframe\">\n",
       "  <thead>\n",
       "    <tr style=\"text-align: right;\">\n",
       "      <th></th>\n",
       "      <th>Алгоритм</th>\n",
       "      <th>ROC-AUC (тест)</th>\n",
       "      <th>Accuracy (тест)</th>\n",
       "      <th>Precision (тест)</th>\n",
       "      <th>Recall (тест)</th>\n",
       "    </tr>\n",
       "  </thead>\n",
       "  <tbody>\n",
       "    <tr>\n",
       "      <th>0</th>\n",
       "      <td>LGBMClassifier_upsampled</td>\n",
       "      <td>0.908</td>\n",
       "      <td>0.87</td>\n",
       "      <td>0.767</td>\n",
       "      <td>0.720</td>\n",
       "    </tr>\n",
       "    <tr>\n",
       "      <th>1</th>\n",
       "      <td>LGBMClassifier</td>\n",
       "      <td>0.911</td>\n",
       "      <td>0.85</td>\n",
       "      <td>0.691</td>\n",
       "      <td>0.766</td>\n",
       "    </tr>\n",
       "    <tr>\n",
       "      <th>2</th>\n",
       "      <td>LogisticRegression</td>\n",
       "      <td>0.850</td>\n",
       "      <td>0.75</td>\n",
       "      <td>0.517</td>\n",
       "      <td>0.800</td>\n",
       "    </tr>\n",
       "    <tr>\n",
       "      <th>3</th>\n",
       "      <td>CatBoostClassifier</td>\n",
       "      <td>0.909</td>\n",
       "      <td>0.83</td>\n",
       "      <td>0.643</td>\n",
       "      <td>0.822</td>\n",
       "    </tr>\n",
       "    <tr>\n",
       "      <th>4</th>\n",
       "      <td>XGBClassifier</td>\n",
       "      <td>0.919</td>\n",
       "      <td>0.87</td>\n",
       "      <td>0.829</td>\n",
       "      <td>0.645</td>\n",
       "    </tr>\n",
       "    <tr>\n",
       "      <th>5</th>\n",
       "      <td>RandomForestClassifier</td>\n",
       "      <td>0.863</td>\n",
       "      <td>0.80</td>\n",
       "      <td>0.595</td>\n",
       "      <td>0.755</td>\n",
       "    </tr>\n",
       "  </tbody>\n",
       "</table>\n",
       "</div>"
      ],
      "text/plain": [
       "                   Алгоритм  ROC-AUC (тест)  Accuracy (тест)  \\\n",
       "0  LGBMClassifier_upsampled           0.908             0.87   \n",
       "1            LGBMClassifier           0.911             0.85   \n",
       "2        LogisticRegression           0.850             0.75   \n",
       "3        CatBoostClassifier           0.909             0.83   \n",
       "4             XGBClassifier           0.919             0.87   \n",
       "5    RandomForestClassifier           0.863             0.80   \n",
       "\n",
       "   Precision (тест)  Recall (тест)  \n",
       "0             0.767          0.720  \n",
       "1             0.691          0.766  \n",
       "2             0.517          0.800  \n",
       "3             0.643          0.822  \n",
       "4             0.829          0.645  \n",
       "5             0.595          0.755  "
      ]
     },
     "metadata": {},
     "output_type": "display_data"
    }
   ],
   "source": [
    "display(model_comparison)"
   ]
  }
 ],
 "metadata": {
  "ExecuteTimeLog": [
   {
    "duration": 1264,
    "start_time": "2022-04-18T13:08:20.946Z"
   },
   {
    "duration": 552,
    "start_time": "2022-04-18T13:08:46.894Z"
   },
   {
    "duration": 54,
    "start_time": "2022-04-18T13:10:55.687Z"
   },
   {
    "duration": 15,
    "start_time": "2022-04-18T13:11:40.080Z"
   },
   {
    "duration": 28,
    "start_time": "2022-04-18T13:16:19.626Z"
   },
   {
    "duration": 224,
    "start_time": "2022-04-18T13:30:42.458Z"
   },
   {
    "duration": 105,
    "start_time": "2022-04-18T13:39:01.825Z"
   },
   {
    "duration": 30,
    "start_time": "2022-04-18T14:01:30.555Z"
   },
   {
    "duration": 37,
    "start_time": "2022-04-18T14:01:42.255Z"
   },
   {
    "duration": 6,
    "start_time": "2022-04-18T14:07:20.015Z"
   },
   {
    "duration": 2668,
    "start_time": "2022-04-19T22:22:13.527Z"
   },
   {
    "duration": 138,
    "start_time": "2022-04-19T22:29:54.640Z"
   },
   {
    "duration": 176,
    "start_time": "2022-04-19T22:33:45.228Z"
   },
   {
    "duration": 170,
    "start_time": "2022-04-19T22:33:47.214Z"
   },
   {
    "duration": 154,
    "start_time": "2022-04-19T22:35:00.924Z"
   },
   {
    "duration": 145,
    "start_time": "2022-04-19T22:35:37.284Z"
   },
   {
    "duration": 1911,
    "start_time": "2022-04-20T10:28:33.028Z"
   },
   {
    "duration": 457,
    "start_time": "2022-04-20T10:28:34.941Z"
   },
   {
    "duration": 117,
    "start_time": "2022-04-20T10:28:35.400Z"
   },
   {
    "duration": 167,
    "start_time": "2022-04-20T11:21:31.530Z"
   },
   {
    "duration": 27,
    "start_time": "2022-04-20T11:26:46.474Z"
   },
   {
    "duration": 20,
    "start_time": "2022-04-20T11:27:26.807Z"
   },
   {
    "duration": 17,
    "start_time": "2022-04-20T11:28:59.976Z"
   },
   {
    "duration": 6,
    "start_time": "2022-04-20T11:29:52.641Z"
   },
   {
    "duration": 9,
    "start_time": "2022-04-20T11:30:12.961Z"
   },
   {
    "duration": 12,
    "start_time": "2022-04-20T11:30:17.355Z"
   },
   {
    "duration": 9,
    "start_time": "2022-04-20T11:30:30.718Z"
   },
   {
    "duration": 10,
    "start_time": "2022-04-20T11:30:35.321Z"
   },
   {
    "duration": 9,
    "start_time": "2022-04-20T11:30:56.991Z"
   },
   {
    "duration": 9,
    "start_time": "2022-04-20T11:33:33.852Z"
   },
   {
    "duration": 9,
    "start_time": "2022-04-20T11:33:37.098Z"
   },
   {
    "duration": 21,
    "start_time": "2022-04-20T11:33:46.505Z"
   },
   {
    "duration": 4,
    "start_time": "2022-04-20T11:33:57.008Z"
   },
   {
    "duration": 18,
    "start_time": "2022-04-20T11:33:59.841Z"
   },
   {
    "duration": 4,
    "start_time": "2022-04-20T12:05:10.873Z"
   },
   {
    "duration": 14,
    "start_time": "2022-04-20T12:23:59.003Z"
   },
   {
    "duration": 23,
    "start_time": "2022-04-20T12:26:26.388Z"
   },
   {
    "duration": 12,
    "start_time": "2022-04-20T12:26:48.744Z"
   },
   {
    "duration": 9,
    "start_time": "2022-04-20T12:30:35.700Z"
   },
   {
    "duration": 105,
    "start_time": "2022-04-20T12:39:42.775Z"
   },
   {
    "duration": 16,
    "start_time": "2022-04-20T12:40:09.164Z"
   },
   {
    "duration": 22,
    "start_time": "2022-04-20T12:40:56.307Z"
   },
   {
    "duration": 6,
    "start_time": "2022-04-20T13:34:12.339Z"
   },
   {
    "duration": 11,
    "start_time": "2022-04-20T13:34:27.419Z"
   },
   {
    "duration": 5,
    "start_time": "2022-04-20T13:34:39.130Z"
   },
   {
    "duration": 4,
    "start_time": "2022-04-20T13:35:48.109Z"
   },
   {
    "duration": 5,
    "start_time": "2022-04-20T13:36:15.398Z"
   },
   {
    "duration": 5,
    "start_time": "2022-04-20T13:36:35.803Z"
   },
   {
    "duration": 4,
    "start_time": "2022-04-20T13:37:15.200Z"
   },
   {
    "duration": 5,
    "start_time": "2022-04-20T13:37:32.576Z"
   },
   {
    "duration": 158,
    "start_time": "2022-04-20T13:48:43.926Z"
   },
   {
    "duration": 107,
    "start_time": "2022-04-20T13:49:17.376Z"
   },
   {
    "duration": 109,
    "start_time": "2022-04-20T13:49:31.117Z"
   },
   {
    "duration": 17915,
    "start_time": "2022-04-20T13:49:48.178Z"
   },
   {
    "duration": 195,
    "start_time": "2022-04-20T13:54:00.744Z"
   },
   {
    "duration": 112,
    "start_time": "2022-04-20T13:54:19.803Z"
   },
   {
    "duration": 126,
    "start_time": "2022-04-20T13:56:22.716Z"
   },
   {
    "duration": 14,
    "start_time": "2022-04-20T13:57:56.409Z"
   },
   {
    "duration": 115,
    "start_time": "2022-04-20T13:58:39.132Z"
   },
   {
    "duration": 132,
    "start_time": "2022-04-20T13:58:58.373Z"
   },
   {
    "duration": 208,
    "start_time": "2022-04-20T13:59:07.603Z"
   },
   {
    "duration": 213,
    "start_time": "2022-04-20T13:59:44.437Z"
   },
   {
    "duration": 136,
    "start_time": "2022-04-20T18:21:13.877Z"
   },
   {
    "duration": 144,
    "start_time": "2022-04-20T18:21:42.133Z"
   },
   {
    "duration": 318,
    "start_time": "2022-04-20T18:23:07.134Z"
   },
   {
    "duration": 1412,
    "start_time": "2022-04-20T19:17:01.722Z"
   },
   {
    "duration": 181,
    "start_time": "2022-04-20T19:17:03.136Z"
   },
   {
    "duration": 132,
    "start_time": "2022-04-20T19:17:03.319Z"
   },
   {
    "duration": 331,
    "start_time": "2022-04-20T19:17:03.454Z"
   },
   {
    "duration": 10763,
    "start_time": "2022-04-20T19:19:36.559Z"
   },
   {
    "duration": 345,
    "start_time": "2022-04-20T19:20:41.107Z"
   },
   {
    "duration": 232,
    "start_time": "2022-04-20T19:21:15.133Z"
   },
   {
    "duration": 219,
    "start_time": "2022-04-20T19:21:26.472Z"
   },
   {
    "duration": 125,
    "start_time": "2022-04-20T19:26:20.631Z"
   },
   {
    "duration": 13,
    "start_time": "2022-04-20T19:48:39.403Z"
   },
   {
    "duration": 8,
    "start_time": "2022-04-20T19:49:21.307Z"
   },
   {
    "duration": 13,
    "start_time": "2022-04-20T19:49:26.781Z"
   },
   {
    "duration": 1735,
    "start_time": "2022-04-20T20:01:00.525Z"
   },
   {
    "duration": 473,
    "start_time": "2022-04-20T20:02:47.225Z"
   },
   {
    "duration": 357,
    "start_time": "2022-04-20T20:03:01.758Z"
   },
   {
    "duration": 700,
    "start_time": "2022-04-20T20:08:56.104Z"
   },
   {
    "duration": 101,
    "start_time": "2022-04-20T20:14:11.912Z"
   },
   {
    "duration": 10,
    "start_time": "2022-04-20T22:03:15.010Z"
   },
   {
    "duration": 984,
    "start_time": "2022-04-20T22:03:23.662Z"
   },
   {
    "duration": 7,
    "start_time": "2022-04-20T22:03:36.937Z"
   },
   {
    "duration": 6,
    "start_time": "2022-04-20T22:04:12.182Z"
   },
   {
    "duration": 109,
    "start_time": "2022-04-20T22:04:44.744Z"
   },
   {
    "duration": 104,
    "start_time": "2022-04-20T22:08:14.996Z"
   },
   {
    "duration": 118,
    "start_time": "2022-04-20T22:08:35.977Z"
   },
   {
    "duration": 102,
    "start_time": "2022-04-20T22:08:53.174Z"
   },
   {
    "duration": 6,
    "start_time": "2022-04-20T22:10:23.785Z"
   },
   {
    "duration": 1410,
    "start_time": "2022-04-20T22:50:12.863Z"
   },
   {
    "duration": 71,
    "start_time": "2022-04-20T22:50:14.275Z"
   },
   {
    "duration": 122,
    "start_time": "2022-04-20T22:50:14.348Z"
   },
   {
    "duration": 12,
    "start_time": "2022-04-20T22:50:14.472Z"
   },
   {
    "duration": 6,
    "start_time": "2022-04-20T22:50:14.485Z"
   },
   {
    "duration": 337,
    "start_time": "2022-04-20T22:50:14.493Z"
   },
   {
    "duration": 100913,
    "start_time": "2022-04-30T21:37:28.257Z"
   },
   {
    "duration": 79,
    "start_time": "2022-04-30T21:39:09.172Z"
   },
   {
    "duration": 160,
    "start_time": "2022-04-30T21:43:24.470Z"
   },
   {
    "duration": 12,
    "start_time": "2022-04-30T21:43:26.902Z"
   },
   {
    "duration": 76,
    "start_time": "2022-04-30T21:43:46.991Z"
   },
   {
    "duration": 173,
    "start_time": "2022-04-30T21:43:48.022Z"
   },
   {
    "duration": 20,
    "start_time": "2022-04-30T21:43:48.904Z"
   },
   {
    "duration": 8,
    "start_time": "2022-04-30T21:43:50.594Z"
   },
   {
    "duration": 608,
    "start_time": "2022-04-30T21:43:51.571Z"
   },
   {
    "duration": 23,
    "start_time": "2022-04-30T21:43:56.013Z"
   },
   {
    "duration": 23,
    "start_time": "2022-04-30T21:44:29.998Z"
   },
   {
    "duration": 86,
    "start_time": "2022-04-30T21:44:31.166Z"
   },
   {
    "duration": 31,
    "start_time": "2022-04-30T21:44:32.564Z"
   },
   {
    "duration": 180,
    "start_time": "2022-04-30T21:44:34.425Z"
   },
   {
    "duration": 51,
    "start_time": "2022-04-30T21:44:35.547Z"
   },
   {
    "duration": 25,
    "start_time": "2022-04-30T21:44:36.906Z"
   },
   {
    "duration": 14,
    "start_time": "2022-04-30T21:44:38.052Z"
   },
   {
    "duration": 58,
    "start_time": "2022-04-30T21:44:39.054Z"
   },
   {
    "duration": 58,
    "start_time": "2022-04-30T21:44:40.246Z"
   },
   {
    "duration": 484,
    "start_time": "2022-04-30T21:47:48.082Z"
   },
   {
    "duration": 315,
    "start_time": "2022-04-30T21:47:49.194Z"
   },
   {
    "duration": 311,
    "start_time": "2022-04-30T21:47:50.067Z"
   },
   {
    "duration": 453,
    "start_time": "2022-04-30T21:47:50.635Z"
   },
   {
    "duration": 5,
    "start_time": "2022-04-30T21:47:51.207Z"
   },
   {
    "duration": 7,
    "start_time": "2022-04-30T21:47:51.453Z"
   },
   {
    "duration": 4502,
    "start_time": "2022-04-30T21:47:51.751Z"
   },
   {
    "duration": 175,
    "start_time": "2022-04-30T21:47:56.256Z"
   },
   {
    "duration": 20,
    "start_time": "2022-04-30T21:47:56.433Z"
   },
   {
    "duration": 337,
    "start_time": "2022-04-30T21:47:56.456Z"
   },
   {
    "duration": 29,
    "start_time": "2022-04-30T21:51:40.786Z"
   },
   {
    "duration": 39,
    "start_time": "2022-04-30T21:52:06.609Z"
   },
   {
    "duration": 21,
    "start_time": "2022-04-30T21:52:10.155Z"
   },
   {
    "duration": 12,
    "start_time": "2022-04-30T21:52:14.979Z"
   },
   {
    "duration": 8,
    "start_time": "2022-04-30T21:52:15.747Z"
   },
   {
    "duration": 7,
    "start_time": "2022-04-30T21:52:18.037Z"
   },
   {
    "duration": 151,
    "start_time": "2022-04-30T21:52:20.337Z"
   },
   {
    "duration": 8,
    "start_time": "2022-04-30T21:52:21.205Z"
   }
  ],
  "kernelspec": {
   "display_name": "Python 3",
   "language": "python",
   "name": "python3"
  },
  "language_info": {
   "codemirror_mode": {
    "name": "ipython",
    "version": 3
   },
   "file_extension": ".py",
   "mimetype": "text/x-python",
   "name": "python",
   "nbconvert_exporter": "python",
   "pygments_lexer": "ipython3",
   "version": "3.8.8"
  },
  "toc": {
   "base_numbering": 1,
   "nav_menu": {},
   "number_sections": true,
   "sideBar": true,
   "skip_h1_title": true,
   "title_cell": "Table of Contents",
   "title_sidebar": "Contents",
   "toc_cell": false,
   "toc_position": {
    "height": "calc(100% - 180px)",
    "left": "10px",
    "top": "150px",
    "width": "284.422px"
   },
   "toc_section_display": true,
   "toc_window_display": true
  }
 },
 "nbformat": 4,
 "nbformat_minor": 2
}
