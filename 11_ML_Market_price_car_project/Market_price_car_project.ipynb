{
 "cells": [
  {
   "cell_type": "markdown",
   "metadata": {},
   "source": [
    "# Определение стоимости автомобилей"
   ]
  },
  {
   "cell_type": "markdown",
   "metadata": {},
   "source": [
    "Сервис по продаже автомобилей с пробегом разрабатывает приложение для привлечения новых клиентов. В нём можно быстро узнать рыночную стоимость своего автомобиля. В вашем распоряжении исторические данные: технические характеристики, комплектации и цены автомобилей. Нужно построить модель для определения стоимости. \n",
    "\n",
    "Заказчику важны:\n",
    "\n",
    "- качество предсказания;\n",
    "- скорость предсказания;\n",
    "- время обучения."
   ]
  },
  {
   "cell_type": "markdown",
   "metadata": {},
   "source": [
    "## Подготовка данных"
   ]
  },
  {
   "cell_type": "code",
   "execution_count": 1,
   "metadata": {},
   "outputs": [],
   "source": [
    "import pandas as pd\n",
    "import numpy as np\n",
    "from lightgbm import LGBMRegressor\n",
    "from sklearn.metrics import mean_squared_error\n",
    "from sklearn.preprocessing import OrdinalEncoder\n",
    "from sklearn.model_selection import train_test_split\n",
    "from sklearn.preprocessing import StandardScaler\n",
    "from sklearn.model_selection import cross_val_score\n",
    "from catboost import CatBoostRegressor\n",
    "from sklearn.model_selection import GridSearchCV\n",
    "from sklearn.ensemble import RandomForestRegressor\n",
    "from xgboost import XGBRegressor\n",
    "import matplotlib.pyplot as plt\n",
    "import seaborn as sns\n",
    "from timeit import default_timer as timer\n",
    "import warnings\n",
    "warnings.filterwarnings(\"ignore\")"
   ]
  },
  {
   "cell_type": "markdown",
   "metadata": {},
   "source": [
    "Загрузим и посмотрим на данные"
   ]
  },
  {
   "cell_type": "code",
   "execution_count": 2,
   "metadata": {
    "scrolled": true
   },
   "outputs": [
    {
     "data": {
      "text/html": [
       "<div>\n",
       "<style scoped>\n",
       "    .dataframe tbody tr th:only-of-type {\n",
       "        vertical-align: middle;\n",
       "    }\n",
       "\n",
       "    .dataframe tbody tr th {\n",
       "        vertical-align: top;\n",
       "    }\n",
       "\n",
       "    .dataframe thead th {\n",
       "        text-align: right;\n",
       "    }\n",
       "</style>\n",
       "<table border=\"1\" class=\"dataframe\">\n",
       "  <thead>\n",
       "    <tr style=\"text-align: right;\">\n",
       "      <th></th>\n",
       "      <th>DateCrawled</th>\n",
       "      <th>Price</th>\n",
       "      <th>VehicleType</th>\n",
       "      <th>RegistrationYear</th>\n",
       "      <th>Gearbox</th>\n",
       "      <th>Power</th>\n",
       "      <th>Model</th>\n",
       "      <th>Kilometer</th>\n",
       "      <th>RegistrationMonth</th>\n",
       "      <th>FuelType</th>\n",
       "      <th>Brand</th>\n",
       "      <th>NotRepaired</th>\n",
       "      <th>DateCreated</th>\n",
       "      <th>NumberOfPictures</th>\n",
       "      <th>PostalCode</th>\n",
       "      <th>LastSeen</th>\n",
       "    </tr>\n",
       "  </thead>\n",
       "  <tbody>\n",
       "    <tr>\n",
       "      <td>0</td>\n",
       "      <td>2016-03-24 11:52:17</td>\n",
       "      <td>480</td>\n",
       "      <td>NaN</td>\n",
       "      <td>1993</td>\n",
       "      <td>manual</td>\n",
       "      <td>0</td>\n",
       "      <td>golf</td>\n",
       "      <td>150000</td>\n",
       "      <td>0</td>\n",
       "      <td>petrol</td>\n",
       "      <td>volkswagen</td>\n",
       "      <td>NaN</td>\n",
       "      <td>2016-03-24 00:00:00</td>\n",
       "      <td>0</td>\n",
       "      <td>70435</td>\n",
       "      <td>2016-04-07 03:16:57</td>\n",
       "    </tr>\n",
       "    <tr>\n",
       "      <td>1</td>\n",
       "      <td>2016-03-24 10:58:45</td>\n",
       "      <td>18300</td>\n",
       "      <td>coupe</td>\n",
       "      <td>2011</td>\n",
       "      <td>manual</td>\n",
       "      <td>190</td>\n",
       "      <td>NaN</td>\n",
       "      <td>125000</td>\n",
       "      <td>5</td>\n",
       "      <td>gasoline</td>\n",
       "      <td>audi</td>\n",
       "      <td>yes</td>\n",
       "      <td>2016-03-24 00:00:00</td>\n",
       "      <td>0</td>\n",
       "      <td>66954</td>\n",
       "      <td>2016-04-07 01:46:50</td>\n",
       "    </tr>\n",
       "    <tr>\n",
       "      <td>2</td>\n",
       "      <td>2016-03-14 12:52:21</td>\n",
       "      <td>9800</td>\n",
       "      <td>suv</td>\n",
       "      <td>2004</td>\n",
       "      <td>auto</td>\n",
       "      <td>163</td>\n",
       "      <td>grand</td>\n",
       "      <td>125000</td>\n",
       "      <td>8</td>\n",
       "      <td>gasoline</td>\n",
       "      <td>jeep</td>\n",
       "      <td>NaN</td>\n",
       "      <td>2016-03-14 00:00:00</td>\n",
       "      <td>0</td>\n",
       "      <td>90480</td>\n",
       "      <td>2016-04-05 12:47:46</td>\n",
       "    </tr>\n",
       "    <tr>\n",
       "      <td>3</td>\n",
       "      <td>2016-03-17 16:54:04</td>\n",
       "      <td>1500</td>\n",
       "      <td>small</td>\n",
       "      <td>2001</td>\n",
       "      <td>manual</td>\n",
       "      <td>75</td>\n",
       "      <td>golf</td>\n",
       "      <td>150000</td>\n",
       "      <td>6</td>\n",
       "      <td>petrol</td>\n",
       "      <td>volkswagen</td>\n",
       "      <td>no</td>\n",
       "      <td>2016-03-17 00:00:00</td>\n",
       "      <td>0</td>\n",
       "      <td>91074</td>\n",
       "      <td>2016-03-17 17:40:17</td>\n",
       "    </tr>\n",
       "    <tr>\n",
       "      <td>4</td>\n",
       "      <td>2016-03-31 17:25:20</td>\n",
       "      <td>3600</td>\n",
       "      <td>small</td>\n",
       "      <td>2008</td>\n",
       "      <td>manual</td>\n",
       "      <td>69</td>\n",
       "      <td>fabia</td>\n",
       "      <td>90000</td>\n",
       "      <td>7</td>\n",
       "      <td>gasoline</td>\n",
       "      <td>skoda</td>\n",
       "      <td>no</td>\n",
       "      <td>2016-03-31 00:00:00</td>\n",
       "      <td>0</td>\n",
       "      <td>60437</td>\n",
       "      <td>2016-04-06 10:17:21</td>\n",
       "    </tr>\n",
       "  </tbody>\n",
       "</table>\n",
       "</div>"
      ],
      "text/plain": [
       "           DateCrawled  Price VehicleType  RegistrationYear Gearbox  Power  \\\n",
       "0  2016-03-24 11:52:17    480         NaN              1993  manual      0   \n",
       "1  2016-03-24 10:58:45  18300       coupe              2011  manual    190   \n",
       "2  2016-03-14 12:52:21   9800         suv              2004    auto    163   \n",
       "3  2016-03-17 16:54:04   1500       small              2001  manual     75   \n",
       "4  2016-03-31 17:25:20   3600       small              2008  manual     69   \n",
       "\n",
       "   Model  Kilometer  RegistrationMonth  FuelType       Brand NotRepaired  \\\n",
       "0   golf     150000                  0    petrol  volkswagen         NaN   \n",
       "1    NaN     125000                  5  gasoline        audi         yes   \n",
       "2  grand     125000                  8  gasoline        jeep         NaN   \n",
       "3   golf     150000                  6    petrol  volkswagen          no   \n",
       "4  fabia      90000                  7  gasoline       skoda          no   \n",
       "\n",
       "           DateCreated  NumberOfPictures  PostalCode             LastSeen  \n",
       "0  2016-03-24 00:00:00                 0       70435  2016-04-07 03:16:57  \n",
       "1  2016-03-24 00:00:00                 0       66954  2016-04-07 01:46:50  \n",
       "2  2016-03-14 00:00:00                 0       90480  2016-04-05 12:47:46  \n",
       "3  2016-03-17 00:00:00                 0       91074  2016-03-17 17:40:17  \n",
       "4  2016-03-31 00:00:00                 0       60437  2016-04-06 10:17:21  "
      ]
     },
     "metadata": {},
     "output_type": "display_data"
    },
    {
     "name": "stdout",
     "output_type": "stream",
     "text": [
      "<class 'pandas.core.frame.DataFrame'>\n",
      "RangeIndex: 354369 entries, 0 to 354368\n",
      "Data columns (total 16 columns):\n",
      "DateCrawled          354369 non-null object\n",
      "Price                354369 non-null int64\n",
      "VehicleType          316879 non-null object\n",
      "RegistrationYear     354369 non-null int64\n",
      "Gearbox              334536 non-null object\n",
      "Power                354369 non-null int64\n",
      "Model                334664 non-null object\n",
      "Kilometer            354369 non-null int64\n",
      "RegistrationMonth    354369 non-null int64\n",
      "FuelType             321474 non-null object\n",
      "Brand                354369 non-null object\n",
      "NotRepaired          283215 non-null object\n",
      "DateCreated          354369 non-null object\n",
      "NumberOfPictures     354369 non-null int64\n",
      "PostalCode           354369 non-null int64\n",
      "LastSeen             354369 non-null object\n",
      "dtypes: int64(7), object(9)\n",
      "memory usage: 43.3+ MB\n"
     ]
    }
   ],
   "source": [
    "ds = pd.read_csv('/datasets/autos.csv')\n",
    "display(ds.head())\n",
    "ds.info()"
   ]
  },
  {
   "cell_type": "markdown",
   "metadata": {},
   "source": [
    "Разрабатываемое приложение предназначено для опредедения рыночной стоимости своего автомобиля потенциальными клиентами. Отберем данные для дальнейшей обработки исключив избыточные столбцы которые явно не могут влиять на определение стоимости автомобиля нового клиента. Это DateCrawled (дата скачивания анкеты из базы), DateCreated (дата создания анкеты), NumberOfPictures (количество фотографий автомобиля), PostalCode (почтовый индекс владельца анкеты), LastSeen (дата последней активности пользователя). Также отбросим столбец RegistrationMonth (месяц регистрации автомобиля), оставим RegistrationYear - год регистрации важнее."
   ]
  },
  {
   "cell_type": "code",
   "execution_count": 3,
   "metadata": {},
   "outputs": [
    {
     "name": "stdout",
     "output_type": "stream",
     "text": [
      "<class 'pandas.core.frame.DataFrame'>\n",
      "RangeIndex: 354369 entries, 0 to 354368\n",
      "Data columns (total 10 columns):\n",
      "VehicleType         316879 non-null object\n",
      "Gearbox             334536 non-null object\n",
      "Power               354369 non-null int64\n",
      "Kilometer           354369 non-null int64\n",
      "FuelType            321474 non-null object\n",
      "Brand               354369 non-null object\n",
      "NotRepaired         283215 non-null object\n",
      "RegistrationYear    354369 non-null int64\n",
      "Model               334664 non-null object\n",
      "Price               354369 non-null int64\n",
      "dtypes: int64(4), object(6)\n",
      "memory usage: 27.0+ MB\n"
     ]
    }
   ],
   "source": [
    "pr_ds = ds[['VehicleType', \n",
    "            'Gearbox', \n",
    "            'Power',\n",
    "            'Kilometer',\n",
    "            'FuelType',\n",
    "            'Brand',\n",
    "            'NotRepaired',\n",
    "            'RegistrationYear',\n",
    "            'Model',\n",
    "            'Price']]\n",
    "pr_ds.info()"
   ]
  },
  {
   "cell_type": "markdown",
   "metadata": {},
   "source": [
    "Проверим на пропуски"
   ]
  },
  {
   "cell_type": "code",
   "execution_count": 5,
   "metadata": {},
   "outputs": [
    {
     "name": "stdout",
     "output_type": "stream",
     "text": [
      "VehicleType         37490\n",
      "Gearbox             19833\n",
      "Power                   0\n",
      "Kilometer               0\n",
      "FuelType            32895\n",
      "Brand                   0\n",
      "NotRepaired         71154\n",
      "RegistrationYear        0\n",
      "Model               19705\n",
      "Price                   0\n",
      "dtype: int64\n",
      "\n",
      "Всего пропусков: 181077\n"
     ]
    }
   ],
   "source": [
    "print(pr_ds.isna().sum())\n",
    "print()\n",
    "print('Всего пропусков:', pr_ds.isna().sum().sum())"
   ]
  },
  {
   "cell_type": "markdown",
   "metadata": {},
   "source": [
    "В отобранных данных 354369 записей в 10 столбцах. Данные имеют целочисленный тип (int64) и тип object - строковые. Признаки VehicleType (тип автомобильного кузова), Gearbox (тип коробки передач), Model (модель автомобиля), FuelType (тип топлива), NotRepaired (была машина в ремонте или нет) содержат пропуски.  "
   ]
  },
  {
   "cell_type": "markdown",
   "metadata": {},
   "source": [
    "Рассмотим детальнее целевой признак Price"
   ]
  },
  {
   "cell_type": "code",
   "execution_count": 6,
   "metadata": {},
   "outputs": [
    {
     "data": {
      "text/plain": [
       "count    354369.000000\n",
       "mean       4416.656776\n",
       "std        4514.158514\n",
       "min           0.000000\n",
       "25%        1050.000000\n",
       "50%        2700.000000\n",
       "75%        6400.000000\n",
       "max       20000.000000\n",
       "Name: Price, dtype: float64"
      ]
     },
     "execution_count": 6,
     "metadata": {},
     "output_type": "execute_result"
    }
   ],
   "source": [
    "pr_ds.Price.describe()"
   ]
  },
  {
   "cell_type": "code",
   "execution_count": 7,
   "metadata": {},
   "outputs": [
    {
     "data": {
      "image/png": "[encoded data removed]",
      "text/plain": [
       "<Figure size 864x432 with 1 Axes>"
      ]
     },
     "metadata": {
      "needs_background": "light"
     },
     "output_type": "display_data"
    }
   ],
   "source": [
    "plt.figure(figsize=(12, 6))\n",
    "sns.boxplot(data=pr_ds.Price)\n",
    "plt.grid()\n",
    "plt.title('График \"Ящик с усами\"')\n",
    "plt.ylabel('Цена, евро')\n",
    "plt.show()"
   ]
  },
  {
   "cell_type": "markdown",
   "metadata": {},
   "source": [
    "В целевом признаке Price, наблюдаются аномальные значения 0, стоимость продажи автомобмиля не может быть нулевой. Медианная цена чуть выше 2500 евро, верхний квартиль проходит на уровне 6400 евро, 75% значений выборки не выходят за этот порог. При этом максимальная цена достигает 20000, разброс ощутимый. Посмтрим распределение цен в нижнем ценовом дапазоне"
   ]
  },
  {
   "cell_type": "code",
   "execution_count": 8,
   "metadata": {},
   "outputs": [
    {
     "data": {
      "image/png": "[encoded data removed]",
      "text/plain": [
       "<Figure size 432x288 with 1 Axes>"
      ]
     },
     "metadata": {
      "needs_background": "light"
     },
     "output_type": "display_data"
    }
   ],
   "source": [
    "ax = pr_ds['Price'].hist(bins=30, range = (0, 300))\n",
    "ax.set_title('Распределение цен')\n",
    "ax.set_xlabel('цена, евро')\n",
    "ax.set_ylabel('количество')\n",
    "plt.show()"
   ]
  },
  {
   "cell_type": "markdown",
   "metadata": {},
   "source": [
    "Выброс в районе 0, цены до 100 евро встречаются не часто, такая стоимость автомобиля тоже вызывает вопросы. Установим нижний порог в 100 евро. Отсечем выбросы в верхнем ценовом дапазоне, установим верхний порог на уровне 75% перцентили плюс 1,5 х Межквартильный размах = 14850"
   ]
  },
  {
   "cell_type": "code",
   "execution_count": 9,
   "metadata": {},
   "outputs": [
    {
     "data": {
      "text/plain": [
       "count    323993.000000\n",
       "mean       3927.705747\n",
       "std        3547.816613\n",
       "min         100.000000\n",
       "25%        1190.000000\n",
       "50%        2689.000000\n",
       "75%        5800.000000\n",
       "max       14850.000000\n",
       "Name: Price, dtype: float64"
      ]
     },
     "execution_count": 9,
     "metadata": {},
     "output_type": "execute_result"
    }
   ],
   "source": [
    "pr_ds = pr_ds.query('100 <= Price <= 14850')\n",
    "pr_ds.Price.describe()"
   ]
  },
  {
   "cell_type": "markdown",
   "metadata": {},
   "source": [
    "Посмотрим на данные в столбце RegistrationYear"
   ]
  },
  {
   "cell_type": "code",
   "execution_count": 10,
   "metadata": {},
   "outputs": [
    {
     "data": {
      "text/plain": [
       "count    323993.000000\n",
       "mean       2003.646952\n",
       "std          68.198188\n",
       "min        1000.000000\n",
       "25%        1999.000000\n",
       "50%        2003.000000\n",
       "75%        2007.000000\n",
       "max        9999.000000\n",
       "Name: RegistrationYear, dtype: float64"
      ]
     },
     "execution_count": 10,
     "metadata": {},
     "output_type": "execute_result"
    }
   ],
   "source": [
    "pr_ds.RegistrationYear.describe()"
   ]
  },
  {
   "cell_type": "markdown",
   "metadata": {},
   "source": [
    "Год регистрации явно содержит аномальные значения, т.к. min 1000, max 9999. Первый автомобиль появился в 1886 году, максимальный год регистарции не может быть больше максимальной даты создания анкеты автомобиля. Узнаем эту дату."
   ]
  },
  {
   "cell_type": "code",
   "execution_count": 11,
   "metadata": {},
   "outputs": [
    {
     "data": {
      "text/plain": [
       "'2016-04-07 00:00:00'"
      ]
     },
     "execution_count": 11,
     "metadata": {},
     "output_type": "execute_result"
    }
   ],
   "source": [
    "ds.DateCreated.max()"
   ]
  },
  {
   "cell_type": "markdown",
   "metadata": {},
   "source": [
    "Удалим аномальные значения. "
   ]
  },
  {
   "cell_type": "code",
   "execution_count": 12,
   "metadata": {},
   "outputs": [
    {
     "data": {
      "text/plain": [
       "count    310548.000000\n",
       "mean       2002.314019\n",
       "std           6.646466\n",
       "min        1910.000000\n",
       "25%        1999.000000\n",
       "50%        2002.000000\n",
       "75%        2006.000000\n",
       "max        2016.000000\n",
       "Name: RegistrationYear, dtype: float64"
      ]
     },
     "execution_count": 12,
     "metadata": {},
     "output_type": "execute_result"
    }
   ],
   "source": [
    "pr_ds = pr_ds.query('1886 <= RegistrationYear <= 2016')\n",
    "pr_ds['RegistrationYear'].describe()"
   ]
  },
  {
   "cell_type": "markdown",
   "metadata": {},
   "source": [
    "Посмотрим на данные в столбце Power"
   ]
  },
  {
   "cell_type": "code",
   "execution_count": 13,
   "metadata": {},
   "outputs": [
    {
     "data": {
      "text/plain": [
       "count    310548.000000\n",
       "mean        108.664033\n",
       "std         186.337951\n",
       "min           0.000000\n",
       "25%          69.000000\n",
       "50%         102.000000\n",
       "75%         140.000000\n",
       "max       20000.000000\n",
       "Name: Power, dtype: float64"
      ]
     },
     "execution_count": 13,
     "metadata": {},
     "output_type": "execute_result"
    }
   ],
   "source": [
    "pr_ds.Power.describe()"
   ]
  },
  {
   "cell_type": "markdown",
   "metadata": {},
   "source": [
    "Колонка Power явно содержит аномальные значения, автомобильный двигательне может быть мощностью 0, также нереально значение в 20000. Мощность свыше 10000 уже большая редкость. Посмотрим распределение мощностей в диапазоне до 10000"
   ]
  },
  {
   "cell_type": "code",
   "execution_count": 14,
   "metadata": {},
   "outputs": [
    {
     "data": {
      "image/png": "[encoded data removed]",
      "text/plain": [
       "<Figure size 432x288 with 1 Axes>"
      ]
     },
     "metadata": {
      "needs_background": "light"
     },
     "output_type": "display_data"
    }
   ],
   "source": [
    "ax = pr_ds['Power'].hist(bins=50, range = (0, 10000))\n",
    "ax.set_title('Распределение мощности')\n",
    "ax.set_xlabel('мощность, л.с.')\n",
    "ax.set_ylabel('количество')\n",
    "plt.show()"
   ]
  },
  {
   "cell_type": "markdown",
   "metadata": {},
   "source": [
    "Значения сосредоточились в диапазоне прмерно до 500 л.с. Посмотрим для него график распределения"
   ]
  },
  {
   "cell_type": "code",
   "execution_count": 15,
   "metadata": {},
   "outputs": [
    {
     "data": {
      "image/png": "[encoded data removed]",
      "text/plain": [
       "<Figure size 432x288 with 1 Axes>"
      ]
     },
     "metadata": {
      "needs_background": "light"
     },
     "output_type": "display_data"
    }
   ],
   "source": [
    "ax = pr_ds['Power'].hist(bins=30, range = (0, 500))\n",
    "ax.set_title('Распределение мощности')\n",
    "ax.set_xlabel('мощность, л.с.')\n",
    "ax.set_ylabel('количество')\n",
    "plt.show()"
   ]
  },
  {
   "cell_type": "markdown",
   "metadata": {},
   "source": [
    "Есть мощный выброс в нулевом значении и почти отсутвуют значения после 350 л.с. Посмотрим еще распределение для диапазона 0-50"
   ]
  },
  {
   "cell_type": "code",
   "execution_count": 16,
   "metadata": {},
   "outputs": [
    {
     "data": {
      "image/png": "[encoded data removed]",
      "text/plain": [
       "<Figure size 432x288 with 1 Axes>"
      ]
     },
     "metadata": {
      "needs_background": "light"
     },
     "output_type": "display_data"
    }
   ],
   "source": [
    "ax = pr_ds['Power'].hist(bins=30, range = (0, 50))\n",
    "ax.set_title('Распределение мощности')\n",
    "ax.set_xlabel('мощность, л.с.')\n",
    "ax.set_ylabel('количество')\n",
    "plt.show()"
   ]
  },
  {
   "cell_type": "markdown",
   "metadata": {},
   "source": [
    "Отбросим аномальные значения и выбросы за пределами диапазона 40-350 л.с."
   ]
  },
  {
   "cell_type": "code",
   "execution_count": 17,
   "metadata": {
    "scrolled": true
   },
   "outputs": [
    {
     "data": {
      "text/plain": [
       "count    277440.000000\n",
       "mean        116.960298\n",
       "std          49.138602\n",
       "min          40.000000\n",
       "25%          75.000000\n",
       "50%         109.000000\n",
       "75%         143.000000\n",
       "max         350.000000\n",
       "Name: Power, dtype: float64"
      ]
     },
     "execution_count": 17,
     "metadata": {},
     "output_type": "execute_result"
    }
   ],
   "source": [
    "pr_ds = pr_ds.query('40 <= Power <= 350')\n",
    "pr_ds.Power.describe()"
   ]
  },
  {
   "cell_type": "markdown",
   "metadata": {},
   "source": [
    "Займемся обнаруженными пропусками. Больше всего пропусков в столбце NotRepaired, посмотрим на эти данные поближе"
   ]
  },
  {
   "cell_type": "code",
   "execution_count": 18,
   "metadata": {},
   "outputs": [
    {
     "data": {
      "text/plain": [
       "array([nan, 'no', 'yes'], dtype=object)"
      ]
     },
     "execution_count": 18,
     "metadata": {},
     "output_type": "execute_result"
    }
   ],
   "source": [
    "pr_ds['NotRepaired'].unique()"
   ]
  },
  {
   "cell_type": "code",
   "execution_count": 19,
   "metadata": {},
   "outputs": [
    {
     "data": {
      "text/html": [
       "<div>\n",
       "<style scoped>\n",
       "    .dataframe tbody tr th:only-of-type {\n",
       "        vertical-align: middle;\n",
       "    }\n",
       "\n",
       "    .dataframe tbody tr th {\n",
       "        vertical-align: top;\n",
       "    }\n",
       "\n",
       "    .dataframe thead th {\n",
       "        text-align: right;\n",
       "    }\n",
       "</style>\n",
       "<table border=\"1\" class=\"dataframe\">\n",
       "  <thead>\n",
       "    <tr style=\"text-align: right;\">\n",
       "      <th></th>\n",
       "      <th>VehicleType</th>\n",
       "      <th>Gearbox</th>\n",
       "      <th>Power</th>\n",
       "      <th>Kilometer</th>\n",
       "      <th>FuelType</th>\n",
       "      <th>Brand</th>\n",
       "      <th>NotRepaired</th>\n",
       "      <th>RegistrationYear</th>\n",
       "      <th>Model</th>\n",
       "      <th>Price</th>\n",
       "    </tr>\n",
       "  </thead>\n",
       "  <tbody>\n",
       "    <tr>\n",
       "      <td>2</td>\n",
       "      <td>suv</td>\n",
       "      <td>auto</td>\n",
       "      <td>163</td>\n",
       "      <td>125000</td>\n",
       "      <td>gasoline</td>\n",
       "      <td>jeep</td>\n",
       "      <td>NaN</td>\n",
       "      <td>2004</td>\n",
       "      <td>grand</td>\n",
       "      <td>9800</td>\n",
       "    </tr>\n",
       "    <tr>\n",
       "      <td>8</td>\n",
       "      <td>bus</td>\n",
       "      <td>manual</td>\n",
       "      <td>125</td>\n",
       "      <td>30000</td>\n",
       "      <td>petrol</td>\n",
       "      <td>ford</td>\n",
       "      <td>NaN</td>\n",
       "      <td>2014</td>\n",
       "      <td>c_max</td>\n",
       "      <td>14500</td>\n",
       "    </tr>\n",
       "    <tr>\n",
       "      <td>9</td>\n",
       "      <td>small</td>\n",
       "      <td>manual</td>\n",
       "      <td>101</td>\n",
       "      <td>150000</td>\n",
       "      <td>NaN</td>\n",
       "      <td>volkswagen</td>\n",
       "      <td>NaN</td>\n",
       "      <td>1998</td>\n",
       "      <td>golf</td>\n",
       "      <td>999</td>\n",
       "    </tr>\n",
       "    <tr>\n",
       "      <td>12</td>\n",
       "      <td>wagon</td>\n",
       "      <td>manual</td>\n",
       "      <td>115</td>\n",
       "      <td>150000</td>\n",
       "      <td>petrol</td>\n",
       "      <td>volkswagen</td>\n",
       "      <td>NaN</td>\n",
       "      <td>1995</td>\n",
       "      <td>passat</td>\n",
       "      <td>999</td>\n",
       "    </tr>\n",
       "    <tr>\n",
       "      <td>16</td>\n",
       "      <td>NaN</td>\n",
       "      <td>NaN</td>\n",
       "      <td>60</td>\n",
       "      <td>150000</td>\n",
       "      <td>petrol</td>\n",
       "      <td>volkswagen</td>\n",
       "      <td>NaN</td>\n",
       "      <td>2016</td>\n",
       "      <td>polo</td>\n",
       "      <td>300</td>\n",
       "    </tr>\n",
       "    <tr>\n",
       "      <td>31</td>\n",
       "      <td>NaN</td>\n",
       "      <td>manual</td>\n",
       "      <td>60</td>\n",
       "      <td>150000</td>\n",
       "      <td>petrol</td>\n",
       "      <td>renault</td>\n",
       "      <td>NaN</td>\n",
       "      <td>2016</td>\n",
       "      <td>clio</td>\n",
       "      <td>899</td>\n",
       "    </tr>\n",
       "    <tr>\n",
       "      <td>36</td>\n",
       "      <td>other</td>\n",
       "      <td>manual</td>\n",
       "      <td>75</td>\n",
       "      <td>70000</td>\n",
       "      <td>NaN</td>\n",
       "      <td>opel</td>\n",
       "      <td>NaN</td>\n",
       "      <td>1991</td>\n",
       "      <td>kadett</td>\n",
       "      <td>1600</td>\n",
       "    </tr>\n",
       "    <tr>\n",
       "      <td>41</td>\n",
       "      <td>sedan</td>\n",
       "      <td>auto</td>\n",
       "      <td>306</td>\n",
       "      <td>150000</td>\n",
       "      <td>NaN</td>\n",
       "      <td>mercedes_benz</td>\n",
       "      <td>NaN</td>\n",
       "      <td>2002</td>\n",
       "      <td>e_klasse</td>\n",
       "      <td>7500</td>\n",
       "    </tr>\n",
       "    <tr>\n",
       "      <td>42</td>\n",
       "      <td>sedan</td>\n",
       "      <td>auto</td>\n",
       "      <td>231</td>\n",
       "      <td>150000</td>\n",
       "      <td>gasoline</td>\n",
       "      <td>bmw</td>\n",
       "      <td>NaN</td>\n",
       "      <td>2006</td>\n",
       "      <td>5er</td>\n",
       "      <td>12500</td>\n",
       "    </tr>\n",
       "    <tr>\n",
       "      <td>44</td>\n",
       "      <td>small</td>\n",
       "      <td>auto</td>\n",
       "      <td>61</td>\n",
       "      <td>80000</td>\n",
       "      <td>petrol</td>\n",
       "      <td>smart</td>\n",
       "      <td>NaN</td>\n",
       "      <td>2008</td>\n",
       "      <td>fortwo</td>\n",
       "      <td>3900</td>\n",
       "    </tr>\n",
       "  </tbody>\n",
       "</table>\n",
       "</div>"
      ],
      "text/plain": [
       "   VehicleType Gearbox  Power  Kilometer  FuelType          Brand NotRepaired  \\\n",
       "2          suv    auto    163     125000  gasoline           jeep         NaN   \n",
       "8          bus  manual    125      30000    petrol           ford         NaN   \n",
       "9        small  manual    101     150000       NaN     volkswagen         NaN   \n",
       "12       wagon  manual    115     150000    petrol     volkswagen         NaN   \n",
       "16         NaN     NaN     60     150000    petrol     volkswagen         NaN   \n",
       "31         NaN  manual     60     150000    petrol        renault         NaN   \n",
       "36       other  manual     75      70000       NaN           opel         NaN   \n",
       "41       sedan    auto    306     150000       NaN  mercedes_benz         NaN   \n",
       "42       sedan    auto    231     150000  gasoline            bmw         NaN   \n",
       "44       small    auto     61      80000    petrol          smart         NaN   \n",
       "\n",
       "    RegistrationYear     Model  Price  \n",
       "2               2004     grand   9800  \n",
       "8               2014     c_max  14500  \n",
       "9               1998      golf    999  \n",
       "12              1995    passat    999  \n",
       "16              2016      polo    300  \n",
       "31              2016      clio    899  \n",
       "36              1991    kadett   1600  \n",
       "41              2002  e_klasse   7500  \n",
       "42              2006       5er  12500  \n",
       "44              2008    fortwo   3900  "
      ]
     },
     "execution_count": 19,
     "metadata": {},
     "output_type": "execute_result"
    }
   ],
   "source": [
    "pr_ds[ds['NotRepaired'].isnull()].head(10)"
   ]
  },
  {
   "cell_type": "markdown",
   "metadata": {},
   "source": [
    "Данные здесь относятся к категориальным. Автомобили разные, некоторым по несколько десятков лет, сомнительно, что они не ремонтировались ни разу. Видимо пользователи просто не указали этот параметр и восстановить его невозможно. Заполним пропуски в данном признаке новой категорией - 'undefined'."
   ]
  },
  {
   "cell_type": "code",
   "execution_count": 20,
   "metadata": {},
   "outputs": [
    {
     "data": {
      "text/plain": [
       "0"
      ]
     },
     "execution_count": 20,
     "metadata": {},
     "output_type": "execute_result"
    }
   ],
   "source": [
    "pr_ds['NotRepaired'] = pr_ds['NotRepaired'].fillna('undefined')\n",
    "pr_ds['NotRepaired'].isna().sum()"
   ]
  },
  {
   "cell_type": "code",
   "execution_count": 21,
   "metadata": {},
   "outputs": [
    {
     "data": {
      "text/plain": [
       "VehicleType         10553\n",
       "Gearbox              5076\n",
       "Power                   0\n",
       "Kilometer               0\n",
       "FuelType            14896\n",
       "Brand                   0\n",
       "NotRepaired             0\n",
       "RegistrationYear        0\n",
       "Model               10320\n",
       "Price                   0\n",
       "dtype: int64"
      ]
     },
     "execution_count": 21,
     "metadata": {},
     "output_type": "execute_result"
    }
   ],
   "source": [
    "pr_ds.isna().sum()"
   ]
  },
  {
   "cell_type": "markdown",
   "metadata": {},
   "source": [
    "Восстановить признак Model по имеющимся данным затруднительно, но данный признак важен для определния стоимости авто. Посмотрим на частоту имеющихся значений данных в этом столбце."
   ]
  },
  {
   "cell_type": "code",
   "execution_count": 22,
   "metadata": {},
   "outputs": [
    {
     "data": {
      "text/plain": [
       "golf                  23403\n",
       "other                 18717\n",
       "3er                   16304\n",
       "polo                  10522\n",
       "corsa                  9984\n",
       "                      ...  \n",
       "q3                        3\n",
       "range_rover_evoque        2\n",
       "gl                        2\n",
       "serie_3                   2\n",
       "rangerover                1\n",
       "Name: Model, Length: 249, dtype: int64"
      ]
     },
     "execution_count": 22,
     "metadata": {},
     "output_type": "execute_result"
    }
   ],
   "source": [
    "pr_ds['Model'].value_counts()"
   ]
  },
  {
   "cell_type": "markdown",
   "metadata": {},
   "source": [
    "На втором месте по встречаемости тип модели 'other'. Посмторим к каким брендам относятся неопределенные модели. "
   ]
  },
  {
   "cell_type": "code",
   "execution_count": 23,
   "metadata": {},
   "outputs": [
    {
     "data": {
      "text/plain": [
       "mercedes_benz    2253\n",
       "fiat             1363\n",
       "citroen          1359\n",
       "ford             1112\n",
       "hyundai           957\n",
       "peugeot           893\n",
       "suzuki            875\n",
       "mazda             815\n",
       "opel              792\n",
       "audi              760\n",
       "chevrolet         727\n",
       "renault           707\n",
       "toyota            677\n",
       "mitsubishi        624\n",
       "volkswagen        561\n",
       "nissan            555\n",
       "volvo             497\n",
       "alfa_romeo        439\n",
       "kia               402\n",
       "saab              330\n",
       "rover             313\n",
       "chrysler          312\n",
       "honda             251\n",
       "skoda             186\n",
       "porsche           112\n",
       "jaguar            111\n",
       "bmw                93\n",
       "jeep               92\n",
       "daihatsu           88\n",
       "lancia             82\n",
       "daewoo             76\n",
       "mini               64\n",
       "subaru             55\n",
       "seat               54\n",
       "smart              46\n",
       "lada               39\n",
       "dacia              20\n",
       "land_rover         13\n",
       "trabant            12\n",
       "Name: Brand, dtype: int64"
      ]
     },
     "execution_count": 23,
     "metadata": {},
     "output_type": "execute_result"
    }
   ],
   "source": [
    "pr_ds[pr_ds['Model'] == 'other']['Brand'].value_counts()"
   ]
  },
  {
   "cell_type": "markdown",
   "metadata": {},
   "source": [
    "Бренды встречаются совершенно разные. Для пропусков в категории моделей заполним данные существующим значением 'other'."
   ]
  },
  {
   "cell_type": "code",
   "execution_count": 24,
   "metadata": {},
   "outputs": [
    {
     "data": {
      "text/plain": [
       "0"
      ]
     },
     "execution_count": 24,
     "metadata": {},
     "output_type": "execute_result"
    }
   ],
   "source": [
    "pr_ds['Model'] = pr_ds['Model'].fillna('other')\n",
    "pr_ds['Model'].isna().sum()"
   ]
  },
  {
   "cell_type": "code",
   "execution_count": 25,
   "metadata": {},
   "outputs": [
    {
     "data": {
      "text/plain": [
       "VehicleType         10553\n",
       "Gearbox              5076\n",
       "Power                   0\n",
       "Kilometer               0\n",
       "FuelType            14896\n",
       "Brand                   0\n",
       "NotRepaired             0\n",
       "RegistrationYear        0\n",
       "Model                   0\n",
       "Price                   0\n",
       "dtype: int64"
      ]
     },
     "execution_count": 25,
     "metadata": {},
     "output_type": "execute_result"
    }
   ],
   "source": [
    "pr_ds.isna().sum()"
   ]
  },
  {
   "cell_type": "markdown",
   "metadata": {},
   "source": [
    "Оставшиеся пропуски попробуем заполнить характерными значениями на основе имеющихся данных в других столбцах.\n",
    "Создадим для этого специальную функцию."
   ]
  },
  {
   "cell_type": "code",
   "execution_count": 26,
   "metadata": {},
   "outputs": [],
   "source": [
    "# Функция принимает имя столбца для заполнения пропусков и список столбцов\n",
    "# по которым будет искаться для пропуска характерное значение \n",
    "\n",
    "def func_fill_(col_fill, columns):\n",
    "    #новый столбец с объединенными данными для группировки\n",
    "    pr_ds['new_col'] = pr_ds[columns].sum(axis=1)  \n",
    "    #группируем и отбираем характерные значения    \n",
    "    dt_fill = pr_ds.groupby('new_col').agg(lambda x: x.mode(dropna=False)[0])[col_fill]\n",
    "    #заполняем пропуски\n",
    "    pr_ds.loc[pr_ds[col_fill].isna(), col_fill] = pr_ds.loc[\n",
    "        pr_ds[col_fill].isna(), 'new_col'].apply(lambda x: dt_fill[x])\n",
    "    #удаляем ненужный столбец\n",
    "    pr_ds.drop('new_col', axis=1, inplace=True)"
   ]
  },
  {
   "cell_type": "markdown",
   "metadata": {},
   "source": [
    "Для заполнения столбца 'VehicleType' (тип автомобильного кузова) используем данные из столбцов 'Brand' и 'Model'"
   ]
  },
  {
   "cell_type": "code",
   "execution_count": 27,
   "metadata": {},
   "outputs": [
    {
     "data": {
      "text/plain": [
       "1"
      ]
     },
     "execution_count": 27,
     "metadata": {},
     "output_type": "execute_result"
    }
   ],
   "source": [
    "func_fill_('VehicleType', ['Brand', 'Model'])\n",
    "pr_ds.VehicleType.isna().sum()"
   ]
  },
  {
   "cell_type": "markdown",
   "metadata": {},
   "source": [
    "Оставшиеся строки с пропусками удаляем"
   ]
  },
  {
   "cell_type": "code",
   "execution_count": 28,
   "metadata": {},
   "outputs": [
    {
     "data": {
      "text/plain": [
       "0"
      ]
     },
     "execution_count": 28,
     "metadata": {},
     "output_type": "execute_result"
    }
   ],
   "source": [
    "pr_ds = pr_ds.dropna(subset=['VehicleType'])\n",
    "pr_ds.VehicleType.isna().sum()"
   ]
  },
  {
   "cell_type": "code",
   "execution_count": 29,
   "metadata": {},
   "outputs": [
    {
     "data": {
      "text/plain": [
       "VehicleType             0\n",
       "Gearbox              5076\n",
       "Power                   0\n",
       "Kilometer               0\n",
       "FuelType            14896\n",
       "Brand                   0\n",
       "NotRepaired             0\n",
       "RegistrationYear        0\n",
       "Model                   0\n",
       "Price                   0\n",
       "dtype: int64"
      ]
     },
     "execution_count": 29,
     "metadata": {},
     "output_type": "execute_result"
    }
   ],
   "source": [
    "pr_ds.isna().sum()"
   ]
  },
  {
   "cell_type": "markdown",
   "metadata": {},
   "source": [
    "Для заполнения столбца 'FuelType' используем данные из столбцов 'Brand', 'Model', 'VehicleType'"
   ]
  },
  {
   "cell_type": "code",
   "execution_count": 30,
   "metadata": {},
   "outputs": [
    {
     "data": {
      "text/plain": [
       "38"
      ]
     },
     "execution_count": 30,
     "metadata": {},
     "output_type": "execute_result"
    }
   ],
   "source": [
    "func_fill_('FuelType', ['Brand', 'Model', 'VehicleType'])\n",
    "pr_ds.FuelType.isna().sum()"
   ]
  },
  {
   "cell_type": "markdown",
   "metadata": {},
   "source": [
    "Оставшиеся строки с пропусками удаляем"
   ]
  },
  {
   "cell_type": "code",
   "execution_count": 31,
   "metadata": {},
   "outputs": [
    {
     "data": {
      "text/plain": [
       "0"
      ]
     },
     "execution_count": 31,
     "metadata": {},
     "output_type": "execute_result"
    }
   ],
   "source": [
    "pr_ds = pr_ds.dropna(subset=['FuelType'])\n",
    "pr_ds.FuelType.isna().sum()"
   ]
  },
  {
   "cell_type": "code",
   "execution_count": 32,
   "metadata": {},
   "outputs": [
    {
     "data": {
      "text/plain": [
       "VehicleType            0\n",
       "Gearbox             5072\n",
       "Power                  0\n",
       "Kilometer              0\n",
       "FuelType               0\n",
       "Brand                  0\n",
       "NotRepaired            0\n",
       "RegistrationYear       0\n",
       "Model                  0\n",
       "Price                  0\n",
       "dtype: int64"
      ]
     },
     "execution_count": 32,
     "metadata": {},
     "output_type": "execute_result"
    }
   ],
   "source": [
    "pr_ds.isna().sum()"
   ]
  },
  {
   "cell_type": "markdown",
   "metadata": {},
   "source": [
    "Для заполнения столбца 'Gearbox' используем данные из столбцов 'Brand' и 'Model'"
   ]
  },
  {
   "cell_type": "code",
   "execution_count": 33,
   "metadata": {},
   "outputs": [
    {
     "data": {
      "text/plain": [
       "5072"
      ]
     },
     "execution_count": 33,
     "metadata": {},
     "output_type": "execute_result"
    }
   ],
   "source": [
    "pr_ds.Gearbox.isna().sum()"
   ]
  },
  {
   "cell_type": "code",
   "execution_count": 34,
   "metadata": {},
   "outputs": [
    {
     "data": {
      "text/plain": [
       "0"
      ]
     },
     "execution_count": 34,
     "metadata": {},
     "output_type": "execute_result"
    }
   ],
   "source": [
    "func_fill_('Gearbox', ['Brand', 'Model'])\n",
    "pr_ds.Gearbox.isna().sum()"
   ]
  },
  {
   "cell_type": "markdown",
   "metadata": {},
   "source": [
    "Оставшиеся строки с пропусками удаляем"
   ]
  },
  {
   "cell_type": "code",
   "execution_count": 35,
   "metadata": {},
   "outputs": [
    {
     "data": {
      "text/plain": [
       "0"
      ]
     },
     "execution_count": 35,
     "metadata": {},
     "output_type": "execute_result"
    }
   ],
   "source": [
    "pr_ds = pr_ds.dropna(subset=['Gearbox'])\n",
    "pr_ds.Gearbox.isna().sum()"
   ]
  },
  {
   "cell_type": "code",
   "execution_count": 36,
   "metadata": {},
   "outputs": [
    {
     "data": {
      "text/plain": [
       "0"
      ]
     },
     "execution_count": 36,
     "metadata": {},
     "output_type": "execute_result"
    }
   ],
   "source": [
    "pr_ds.isna().sum().sum()"
   ]
  },
  {
   "cell_type": "code",
   "execution_count": 37,
   "metadata": {},
   "outputs": [
    {
     "name": "stdout",
     "output_type": "stream",
     "text": [
      "<class 'pandas.core.frame.DataFrame'>\n",
      "Int64Index: 277401 entries, 2 to 354368\n",
      "Data columns (total 10 columns):\n",
      "VehicleType         277401 non-null object\n",
      "Gearbox             277401 non-null object\n",
      "Power               277401 non-null int64\n",
      "Kilometer           277401 non-null int64\n",
      "FuelType            277401 non-null object\n",
      "Brand               277401 non-null object\n",
      "NotRepaired         277401 non-null object\n",
      "RegistrationYear    277401 non-null int64\n",
      "Model               277401 non-null object\n",
      "Price               277401 non-null int64\n",
      "dtypes: int64(4), object(6)\n",
      "memory usage: 23.3+ MB\n"
     ]
    }
   ],
   "source": [
    "pr_ds.info()"
   ]
  },
  {
   "cell_type": "markdown",
   "metadata": {},
   "source": [
    "Посмтрим на признак Gearbox"
   ]
  },
  {
   "cell_type": "code",
   "execution_count": 38,
   "metadata": {},
   "outputs": [
    {
     "data": {
      "text/plain": [
       "manual    225661\n",
       "auto       51740\n",
       "Name: Gearbox, dtype: int64"
      ]
     },
     "execution_count": 38,
     "metadata": {},
     "output_type": "execute_result"
    }
   ],
   "source": [
    "pr_ds.Gearbox.value_counts()"
   ]
  },
  {
   "cell_type": "markdown",
   "metadata": {},
   "source": [
    "Признак принимает только 2 значения 'manual' и 'auto', можно перевести их в бинарный тип для простоты дальнейшей обработки"
   ]
  },
  {
   "cell_type": "code",
   "execution_count": 39,
   "metadata": {},
   "outputs": [
    {
     "data": {
      "text/plain": [
       "1    225661\n",
       "0     51740\n",
       "Name: Gearbox, dtype: int64"
      ]
     },
     "execution_count": 39,
     "metadata": {},
     "output_type": "execute_result"
    }
   ],
   "source": [
    "pr_ds.loc[pr_ds['Gearbox'] == 'manual', 'Gearbox'] = 1\n",
    "pr_ds.loc[pr_ds['Gearbox'] == 'auto', 'Gearbox'] = 0\n",
    "pr_ds.Gearbox.value_counts()"
   ]
  },
  {
   "cell_type": "code",
   "execution_count": 40,
   "metadata": {},
   "outputs": [
    {
     "name": "stdout",
     "output_type": "stream",
     "text": [
      "<class 'pandas.core.frame.DataFrame'>\n",
      "Int64Index: 277401 entries, 2 to 354368\n",
      "Data columns (total 10 columns):\n",
      "VehicleType         277401 non-null object\n",
      "Gearbox             277401 non-null int64\n",
      "Power               277401 non-null int64\n",
      "Kilometer           277401 non-null int64\n",
      "FuelType            277401 non-null object\n",
      "Brand               277401 non-null object\n",
      "NotRepaired         277401 non-null object\n",
      "RegistrationYear    277401 non-null int64\n",
      "Model               277401 non-null object\n",
      "Price               277401 non-null int64\n",
      "dtypes: int64(5), object(5)\n",
      "memory usage: 23.3+ MB\n"
     ]
    }
   ],
   "source": [
    "pr_ds.info()"
   ]
  },
  {
   "cell_type": "markdown",
   "metadata": {},
   "source": [
    "Данные подготовлены. Исключены столбцы с избыточными данными, удалены аномальные и нетипичные значения. Некоторые данные удалось восстановить. Общий объем записей в выборке уменьшился на 22%."
   ]
  },
  {
   "cell_type": "markdown",
   "metadata": {},
   "source": [
    "## Обучение моделей"
   ]
  },
  {
   "cell_type": "markdown",
   "metadata": {},
   "source": [
    "Так как не все библиотеки поддерживают работу с категориальными признаками, подготовим отдельную выборку, в кторой преобразуем категориальные признаки в численные. Можно исппользовать One-Hot Encoding, но у нас признак Brand имеет 40 уникальных значений, Model - 249. В итоге наша таблица значительно увеличится за счет появленния новых столбцов, что повлияет на время обработки. Попробуем применить метод OrdinalEncoder, дополнительно стандартизируем значения для компенсации потери их значимости из-за разности масштабов. "
   ]
  },
  {
   "cell_type": "code",
   "execution_count": 41,
   "metadata": {},
   "outputs": [
    {
     "data": {
      "text/plain": [
       "['VehicleType', 'FuelType', 'Brand', 'NotRepaired', 'Model']"
      ]
     },
     "execution_count": 41,
     "metadata": {},
     "output_type": "execute_result"
    }
   ],
   "source": [
    "cat_features = list(pr_ds.select_dtypes(include=['object']).columns)\n",
    "cat_features"
   ]
  },
  {
   "cell_type": "code",
   "execution_count": 42,
   "metadata": {},
   "outputs": [
    {
     "data": {
      "text/html": [
       "<div>\n",
       "<style scoped>\n",
       "    .dataframe tbody tr th:only-of-type {\n",
       "        vertical-align: middle;\n",
       "    }\n",
       "\n",
       "    .dataframe tbody tr th {\n",
       "        vertical-align: top;\n",
       "    }\n",
       "\n",
       "    .dataframe thead th {\n",
       "        text-align: right;\n",
       "    }\n",
       "</style>\n",
       "<table border=\"1\" class=\"dataframe\">\n",
       "  <thead>\n",
       "    <tr style=\"text-align: right;\">\n",
       "      <th></th>\n",
       "      <th>VehicleType</th>\n",
       "      <th>Gearbox</th>\n",
       "      <th>Power</th>\n",
       "      <th>Kilometer</th>\n",
       "      <th>FuelType</th>\n",
       "      <th>Brand</th>\n",
       "      <th>NotRepaired</th>\n",
       "      <th>RegistrationYear</th>\n",
       "      <th>Model</th>\n",
       "      <th>Price</th>\n",
       "    </tr>\n",
       "  </thead>\n",
       "  <tbody>\n",
       "    <tr>\n",
       "      <td>2</td>\n",
       "      <td>suv</td>\n",
       "      <td>0</td>\n",
       "      <td>163</td>\n",
       "      <td>125000</td>\n",
       "      <td>gasoline</td>\n",
       "      <td>jeep</td>\n",
       "      <td>undefined</td>\n",
       "      <td>2004</td>\n",
       "      <td>grand</td>\n",
       "      <td>9800</td>\n",
       "    </tr>\n",
       "    <tr>\n",
       "      <td>3</td>\n",
       "      <td>small</td>\n",
       "      <td>1</td>\n",
       "      <td>75</td>\n",
       "      <td>150000</td>\n",
       "      <td>petrol</td>\n",
       "      <td>volkswagen</td>\n",
       "      <td>no</td>\n",
       "      <td>2001</td>\n",
       "      <td>golf</td>\n",
       "      <td>1500</td>\n",
       "    </tr>\n",
       "    <tr>\n",
       "      <td>4</td>\n",
       "      <td>small</td>\n",
       "      <td>1</td>\n",
       "      <td>69</td>\n",
       "      <td>90000</td>\n",
       "      <td>gasoline</td>\n",
       "      <td>skoda</td>\n",
       "      <td>no</td>\n",
       "      <td>2008</td>\n",
       "      <td>fabia</td>\n",
       "      <td>3600</td>\n",
       "    </tr>\n",
       "    <tr>\n",
       "      <td>5</td>\n",
       "      <td>sedan</td>\n",
       "      <td>1</td>\n",
       "      <td>102</td>\n",
       "      <td>150000</td>\n",
       "      <td>petrol</td>\n",
       "      <td>bmw</td>\n",
       "      <td>yes</td>\n",
       "      <td>1995</td>\n",
       "      <td>3er</td>\n",
       "      <td>650</td>\n",
       "    </tr>\n",
       "    <tr>\n",
       "      <td>6</td>\n",
       "      <td>convertible</td>\n",
       "      <td>1</td>\n",
       "      <td>109</td>\n",
       "      <td>150000</td>\n",
       "      <td>petrol</td>\n",
       "      <td>peugeot</td>\n",
       "      <td>no</td>\n",
       "      <td>2004</td>\n",
       "      <td>2_reihe</td>\n",
       "      <td>2200</td>\n",
       "    </tr>\n",
       "  </tbody>\n",
       "</table>\n",
       "</div>"
      ],
      "text/plain": [
       "   VehicleType  Gearbox  Power  Kilometer  FuelType       Brand NotRepaired  \\\n",
       "2          suv        0    163     125000  gasoline        jeep   undefined   \n",
       "3        small        1     75     150000    petrol  volkswagen          no   \n",
       "4        small        1     69      90000  gasoline       skoda          no   \n",
       "5        sedan        1    102     150000    petrol         bmw         yes   \n",
       "6  convertible        1    109     150000    petrol     peugeot          no   \n",
       "\n",
       "   RegistrationYear    Model  Price  \n",
       "2              2004    grand   9800  \n",
       "3              2001     golf   1500  \n",
       "4              2008    fabia   3600  \n",
       "5              1995      3er    650  \n",
       "6              2004  2_reihe   2200  "
      ]
     },
     "metadata": {},
     "output_type": "display_data"
    },
    {
     "data": {
      "text/html": [
       "<div>\n",
       "<style scoped>\n",
       "    .dataframe tbody tr th:only-of-type {\n",
       "        vertical-align: middle;\n",
       "    }\n",
       "\n",
       "    .dataframe tbody tr th {\n",
       "        vertical-align: top;\n",
       "    }\n",
       "\n",
       "    .dataframe thead th {\n",
       "        text-align: right;\n",
       "    }\n",
       "</style>\n",
       "<table border=\"1\" class=\"dataframe\">\n",
       "  <thead>\n",
       "    <tr style=\"text-align: right;\">\n",
       "      <th></th>\n",
       "      <th>VehicleType</th>\n",
       "      <th>Gearbox</th>\n",
       "      <th>Power</th>\n",
       "      <th>Kilometer</th>\n",
       "      <th>FuelType</th>\n",
       "      <th>Brand</th>\n",
       "      <th>NotRepaired</th>\n",
       "      <th>RegistrationYear</th>\n",
       "      <th>Model</th>\n",
       "      <th>Price</th>\n",
       "    </tr>\n",
       "  </thead>\n",
       "  <tbody>\n",
       "    <tr>\n",
       "      <td>2</td>\n",
       "      <td>6.0</td>\n",
       "      <td>0</td>\n",
       "      <td>163</td>\n",
       "      <td>125000</td>\n",
       "      <td>2.0</td>\n",
       "      <td>14.0</td>\n",
       "      <td>1.0</td>\n",
       "      <td>2004</td>\n",
       "      <td>117.0</td>\n",
       "      <td>9800</td>\n",
       "    </tr>\n",
       "    <tr>\n",
       "      <td>3</td>\n",
       "      <td>5.0</td>\n",
       "      <td>1</td>\n",
       "      <td>75</td>\n",
       "      <td>150000</td>\n",
       "      <td>6.0</td>\n",
       "      <td>38.0</td>\n",
       "      <td>0.0</td>\n",
       "      <td>2001</td>\n",
       "      <td>116.0</td>\n",
       "      <td>1500</td>\n",
       "    </tr>\n",
       "    <tr>\n",
       "      <td>4</td>\n",
       "      <td>5.0</td>\n",
       "      <td>1</td>\n",
       "      <td>69</td>\n",
       "      <td>90000</td>\n",
       "      <td>2.0</td>\n",
       "      <td>31.0</td>\n",
       "      <td>0.0</td>\n",
       "      <td>2008</td>\n",
       "      <td>101.0</td>\n",
       "      <td>3600</td>\n",
       "    </tr>\n",
       "    <tr>\n",
       "      <td>5</td>\n",
       "      <td>4.0</td>\n",
       "      <td>1</td>\n",
       "      <td>102</td>\n",
       "      <td>150000</td>\n",
       "      <td>6.0</td>\n",
       "      <td>2.0</td>\n",
       "      <td>2.0</td>\n",
       "      <td>1995</td>\n",
       "      <td>11.0</td>\n",
       "      <td>650</td>\n",
       "    </tr>\n",
       "    <tr>\n",
       "      <td>6</td>\n",
       "      <td>1.0</td>\n",
       "      <td>1</td>\n",
       "      <td>109</td>\n",
       "      <td>150000</td>\n",
       "      <td>6.0</td>\n",
       "      <td>25.0</td>\n",
       "      <td>0.0</td>\n",
       "      <td>2004</td>\n",
       "      <td>8.0</td>\n",
       "      <td>2200</td>\n",
       "    </tr>\n",
       "  </tbody>\n",
       "</table>\n",
       "</div>"
      ],
      "text/plain": [
       "   VehicleType  Gearbox  Power  Kilometer  FuelType  Brand  NotRepaired  \\\n",
       "2          6.0        0    163     125000       2.0   14.0          1.0   \n",
       "3          5.0        1     75     150000       6.0   38.0          0.0   \n",
       "4          5.0        1     69      90000       2.0   31.0          0.0   \n",
       "5          4.0        1    102     150000       6.0    2.0          2.0   \n",
       "6          1.0        1    109     150000       6.0   25.0          0.0   \n",
       "\n",
       "   RegistrationYear  Model  Price  \n",
       "2              2004  117.0   9800  \n",
       "3              2001  116.0   1500  \n",
       "4              2008  101.0   3600  \n",
       "5              1995   11.0    650  \n",
       "6              2004    8.0   2200  "
      ]
     },
     "metadata": {},
     "output_type": "display_data"
    }
   ],
   "source": [
    "pr_ds_enc = pr_ds.copy(deep=True)\n",
    "pr_ds_enc[cat_features] = OrdinalEncoder().fit_transform(\n",
    "    pr_ds_enc[cat_features]\n",
    ")\n",
    "display(pr_ds.head())\n",
    "display(pr_ds_enc.head())"
   ]
  },
  {
   "cell_type": "markdown",
   "metadata": {},
   "source": [
    "В основной выборке преобразуем категориальные признаки в соответствующий тип - category"
   ]
  },
  {
   "cell_type": "code",
   "execution_count": 43,
   "metadata": {
    "scrolled": true
   },
   "outputs": [
    {
     "name": "stdout",
     "output_type": "stream",
     "text": [
      "<class 'pandas.core.frame.DataFrame'>\n",
      "Int64Index: 277401 entries, 2 to 354368\n",
      "Data columns (total 10 columns):\n",
      "VehicleType         277401 non-null category\n",
      "Gearbox             277401 non-null int64\n",
      "Power               277401 non-null int64\n",
      "Kilometer           277401 non-null int64\n",
      "FuelType            277401 non-null category\n",
      "Brand               277401 non-null category\n",
      "NotRepaired         277401 non-null category\n",
      "RegistrationYear    277401 non-null int64\n",
      "Model               277401 non-null category\n",
      "Price               277401 non-null int64\n",
      "dtypes: category(5), int64(5)\n",
      "memory usage: 14.3 MB\n"
     ]
    }
   ],
   "source": [
    "for c in pr_ds.columns:\n",
    "    col_type = pr_ds[c].dtype\n",
    "    if col_type == 'object' or col_type.name == 'category':\n",
    "        pr_ds[c] = pr_ds[c].astype('category')\n",
    "        \n",
    "pr_ds.info()"
   ]
  },
  {
   "cell_type": "markdown",
   "metadata": {},
   "source": [
    "Разделим данные в выборках на обучающие и тестовые."
   ]
  },
  {
   "cell_type": "code",
   "execution_count": 44,
   "metadata": {
    "scrolled": true
   },
   "outputs": [
    {
     "name": "stdout",
     "output_type": "stream",
     "text": [
      "(208050, 9)\n",
      "(69351, 9)\n",
      "\n",
      "(208050, 9)\n",
      "(69351, 9)\n"
     ]
    }
   ],
   "source": [
    "features_train, features_valid, target_train, target_valid = train_test_split(\n",
    "    pr_ds.drop('Price', axis=1), pr_ds.Price, test_size=0.25, random_state=12345)\n",
    "\n",
    "features_train_enc, features_valid_enc, target_train_enc, target_valid_enc = train_test_split(\n",
    "    pr_ds_enc.drop('Price', axis=1), pr_ds_enc.Price, test_size=0.25, random_state=12345)\n",
    "\n",
    "print(features_train.shape)\n",
    "print(features_valid.shape)\n",
    "print()\n",
    "print(features_train_enc.shape)\n",
    "print(features_valid_enc.shape)"
   ]
  },
  {
   "cell_type": "markdown",
   "metadata": {},
   "source": [
    "Выполним стандартизацию."
   ]
  },
  {
   "cell_type": "code",
   "execution_count": 45,
   "metadata": {},
   "outputs": [
    {
     "data": {
      "text/html": [
       "<div>\n",
       "<style scoped>\n",
       "    .dataframe tbody tr th:only-of-type {\n",
       "        vertical-align: middle;\n",
       "    }\n",
       "\n",
       "    .dataframe tbody tr th {\n",
       "        vertical-align: top;\n",
       "    }\n",
       "\n",
       "    .dataframe thead th {\n",
       "        text-align: right;\n",
       "    }\n",
       "</style>\n",
       "<table border=\"1\" class=\"dataframe\">\n",
       "  <thead>\n",
       "    <tr style=\"text-align: right;\">\n",
       "      <th></th>\n",
       "      <th>VehicleType</th>\n",
       "      <th>Gearbox</th>\n",
       "      <th>Power</th>\n",
       "      <th>Kilometer</th>\n",
       "      <th>FuelType</th>\n",
       "      <th>Brand</th>\n",
       "      <th>NotRepaired</th>\n",
       "      <th>RegistrationYear</th>\n",
       "      <th>Model</th>\n",
       "    </tr>\n",
       "  </thead>\n",
       "  <tbody>\n",
       "    <tr>\n",
       "      <td>205517</td>\n",
       "      <td>1.299900</td>\n",
       "      <td>-2.084375</td>\n",
       "      <td>1.078554</td>\n",
       "      <td>0.55813</td>\n",
       "      <td>-1.515005</td>\n",
       "      <td>0.761220</td>\n",
       "      <td>-0.535689</td>\n",
       "      <td>1.207481</td>\n",
       "      <td>0.761681</td>\n",
       "    </tr>\n",
       "    <tr>\n",
       "      <td>279667</td>\n",
       "      <td>1.299900</td>\n",
       "      <td>-2.084375</td>\n",
       "      <td>2.339803</td>\n",
       "      <td>0.55813</td>\n",
       "      <td>-1.515005</td>\n",
       "      <td>-1.495014</td>\n",
       "      <td>-0.535689</td>\n",
       "      <td>0.882940</td>\n",
       "      <td>0.804671</td>\n",
       "    </tr>\n",
       "    <tr>\n",
       "      <td>322520</td>\n",
       "      <td>-0.135617</td>\n",
       "      <td>0.479760</td>\n",
       "      <td>-0.854005</td>\n",
       "      <td>0.55813</td>\n",
       "      <td>0.669466</td>\n",
       "      <td>0.686012</td>\n",
       "      <td>-0.535689</td>\n",
       "      <td>-0.090681</td>\n",
       "      <td>0.145479</td>\n",
       "    </tr>\n",
       "    <tr>\n",
       "      <td>24385</td>\n",
       "      <td>-1.571134</td>\n",
       "      <td>0.479760</td>\n",
       "      <td>-0.019953</td>\n",
       "      <td>0.55813</td>\n",
       "      <td>0.669466</td>\n",
       "      <td>-0.141274</td>\n",
       "      <td>-0.535689</td>\n",
       "      <td>-1.875654</td>\n",
       "      <td>0.690029</td>\n",
       "    </tr>\n",
       "    <tr>\n",
       "      <td>278075</td>\n",
       "      <td>1.299900</td>\n",
       "      <td>0.479760</td>\n",
       "      <td>0.671700</td>\n",
       "      <td>0.55813</td>\n",
       "      <td>0.669466</td>\n",
       "      <td>-1.495014</td>\n",
       "      <td>-0.535689</td>\n",
       "      <td>-0.090681</td>\n",
       "      <td>-1.158575</td>\n",
       "    </tr>\n",
       "  </tbody>\n",
       "</table>\n",
       "</div>"
      ],
      "text/plain": [
       "        VehicleType   Gearbox     Power  Kilometer  FuelType     Brand  \\\n",
       "205517     1.299900 -2.084375  1.078554    0.55813 -1.515005  0.761220   \n",
       "279667     1.299900 -2.084375  2.339803    0.55813 -1.515005 -1.495014   \n",
       "322520    -0.135617  0.479760 -0.854005    0.55813  0.669466  0.686012   \n",
       "24385     -1.571134  0.479760 -0.019953    0.55813  0.669466 -0.141274   \n",
       "278075     1.299900  0.479760  0.671700    0.55813  0.669466 -1.495014   \n",
       "\n",
       "        NotRepaired  RegistrationYear     Model  \n",
       "205517    -0.535689          1.207481  0.761681  \n",
       "279667    -0.535689          0.882940  0.804671  \n",
       "322520    -0.535689         -0.090681  0.145479  \n",
       "24385     -0.535689         -1.875654  0.690029  \n",
       "278075    -0.535689         -0.090681 -1.158575  "
      ]
     },
     "metadata": {},
     "output_type": "display_data"
    },
    {
     "data": {
      "text/html": [
       "<div>\n",
       "<style scoped>\n",
       "    .dataframe tbody tr th:only-of-type {\n",
       "        vertical-align: middle;\n",
       "    }\n",
       "\n",
       "    .dataframe tbody tr th {\n",
       "        vertical-align: top;\n",
       "    }\n",
       "\n",
       "    .dataframe thead th {\n",
       "        text-align: right;\n",
       "    }\n",
       "</style>\n",
       "<table border=\"1\" class=\"dataframe\">\n",
       "  <thead>\n",
       "    <tr style=\"text-align: right;\">\n",
       "      <th></th>\n",
       "      <th>VehicleType</th>\n",
       "      <th>Gearbox</th>\n",
       "      <th>Power</th>\n",
       "      <th>Kilometer</th>\n",
       "      <th>FuelType</th>\n",
       "      <th>Brand</th>\n",
       "      <th>NotRepaired</th>\n",
       "      <th>RegistrationYear</th>\n",
       "      <th>Model</th>\n",
       "    </tr>\n",
       "  </thead>\n",
       "  <tbody>\n",
       "    <tr>\n",
       "      <td>331879</td>\n",
       "      <td>-1.092628</td>\n",
       "      <td>-2.084375</td>\n",
       "      <td>1.383695</td>\n",
       "      <td>0.55813</td>\n",
       "      <td>0.669466</td>\n",
       "      <td>-0.066066</td>\n",
       "      <td>-0.535689</td>\n",
       "      <td>-3.660627</td>\n",
       "      <td>0.804671</td>\n",
       "    </tr>\n",
       "    <tr>\n",
       "      <td>127460</td>\n",
       "      <td>1.299900</td>\n",
       "      <td>0.479760</td>\n",
       "      <td>0.468272</td>\n",
       "      <td>0.55813</td>\n",
       "      <td>-2.607241</td>\n",
       "      <td>1.362883</td>\n",
       "      <td>-0.535689</td>\n",
       "      <td>-0.252951</td>\n",
       "      <td>1.736138</td>\n",
       "    </tr>\n",
       "    <tr>\n",
       "      <td>67087</td>\n",
       "      <td>-0.135617</td>\n",
       "      <td>0.479760</td>\n",
       "      <td>-0.243723</td>\n",
       "      <td>0.55813</td>\n",
       "      <td>-1.515005</td>\n",
       "      <td>0.686012</td>\n",
       "      <td>-0.535689</td>\n",
       "      <td>0.720670</td>\n",
       "      <td>0.432085</td>\n",
       "    </tr>\n",
       "    <tr>\n",
       "      <td>228772</td>\n",
       "      <td>-0.135617</td>\n",
       "      <td>0.479760</td>\n",
       "      <td>-0.854005</td>\n",
       "      <td>0.55813</td>\n",
       "      <td>0.669466</td>\n",
       "      <td>1.287675</td>\n",
       "      <td>2.510892</td>\n",
       "      <td>-0.415222</td>\n",
       "      <td>0.088158</td>\n",
       "    </tr>\n",
       "    <tr>\n",
       "      <td>73310</td>\n",
       "      <td>1.299900</td>\n",
       "      <td>-2.084375</td>\n",
       "      <td>0.163131</td>\n",
       "      <td>0.55813</td>\n",
       "      <td>-0.422770</td>\n",
       "      <td>-0.066066</td>\n",
       "      <td>-0.535689</td>\n",
       "      <td>-2.362465</td>\n",
       "      <td>-0.212777</td>\n",
       "    </tr>\n",
       "  </tbody>\n",
       "</table>\n",
       "</div>"
      ],
      "text/plain": [
       "        VehicleType   Gearbox     Power  Kilometer  FuelType     Brand  \\\n",
       "331879    -1.092628 -2.084375  1.383695    0.55813  0.669466 -0.066066   \n",
       "127460     1.299900  0.479760  0.468272    0.55813 -2.607241  1.362883   \n",
       "67087     -0.135617  0.479760 -0.243723    0.55813 -1.515005  0.686012   \n",
       "228772    -0.135617  0.479760 -0.854005    0.55813  0.669466  1.287675   \n",
       "73310      1.299900 -2.084375  0.163131    0.55813 -0.422770 -0.066066   \n",
       "\n",
       "        NotRepaired  RegistrationYear     Model  \n",
       "331879    -0.535689         -3.660627  0.804671  \n",
       "127460    -0.535689         -0.252951  1.736138  \n",
       "67087     -0.535689          0.720670  0.432085  \n",
       "228772     2.510892         -0.415222  0.088158  \n",
       "73310     -0.535689         -2.362465 -0.212777  "
      ]
     },
     "metadata": {},
     "output_type": "display_data"
    }
   ],
   "source": [
    "scaler = StandardScaler()\n",
    "\n",
    "columns = features_train_enc.columns\n",
    "\n",
    "scaler.fit(features_train_enc[columns]) \n",
    "features_train_enc[columns] = scaler.transform(features_train_enc[columns])\n",
    "features_valid_enc[columns] = scaler.transform(features_valid_enc[columns])\n",
    "\n",
    "display(features_train_enc.head())\n",
    "display(features_valid_enc.head())"
   ]
  },
  {
   "cell_type": "markdown",
   "metadata": {},
   "source": [
    "Обучим и протестируем модели с разными гиперпараметрами. Будем использовать следующие алгоритмы:\n",
    "- LGBMRegressor\n",
    "- CatBoostRegressor с категориальными данными преобразованными в численные\n",
    "- CatBoostRegressor с категориальными данными\n",
    "- XGBRegressor\n",
    "- RandomForestRegressor"
   ]
  },
  {
   "cell_type": "markdown",
   "metadata": {},
   "source": [
    "Создадим сводную таблицу для сравнения результатов работы алгоритмов."
   ]
  },
  {
   "cell_type": "code",
   "execution_count": 46,
   "metadata": {},
   "outputs": [
    {
     "data": {
      "text/html": [
       "<div>\n",
       "<style scoped>\n",
       "    .dataframe tbody tr th:only-of-type {\n",
       "        vertical-align: middle;\n",
       "    }\n",
       "\n",
       "    .dataframe tbody tr th {\n",
       "        vertical-align: top;\n",
       "    }\n",
       "\n",
       "    .dataframe thead th {\n",
       "        text-align: right;\n",
       "    }\n",
       "</style>\n",
       "<table border=\"1\" class=\"dataframe\">\n",
       "  <thead>\n",
       "    <tr style=\"text-align: right;\">\n",
       "      <th></th>\n",
       "      <th>Алгоритм</th>\n",
       "      <th>Время обучения, с</th>\n",
       "      <th>Время предсказания, с</th>\n",
       "      <th>RMSE на валидации, евро</th>\n",
       "    </tr>\n",
       "  </thead>\n",
       "  <tbody>\n",
       "  </tbody>\n",
       "</table>\n",
       "</div>"
      ],
      "text/plain": [
       "Empty DataFrame\n",
       "Columns: [Алгоритм, Время обучения, с, Время предсказания, с, RMSE на валидации, евро]\n",
       "Index: []"
      ]
     },
     "metadata": {},
     "output_type": "display_data"
    }
   ],
   "source": [
    "model_comparison = pd.DataFrame(columns=['Алгоритм', 'Время обучения, с', 'Время предсказания, с', 'RMSE на валидации, евро'])\n",
    "display(model_comparison)"
   ]
  },
  {
   "cell_type": "markdown",
   "metadata": {},
   "source": [
    "Функция для настройки и тестирования алгоритмов"
   ]
  },
  {
   "cell_type": "code",
   "execution_count": 47,
   "metadata": {},
   "outputs": [],
   "source": [
    "def  tuning_test_models(model_name, model, parameters, features, target, features_test, target_test):\n",
    "    \n",
    "    start = timer()\n",
    "    grid = GridSearchCV(estimator=model, param_grid=parameters, cv=5, n_jobs=-1, scoring='neg_mean_squared_error')\n",
    "    grid.fit(features, target)\n",
    "    stop = timer()\n",
    "    time_tuning = stop - start\n",
    "    \n",
    "    best_model = grid.best_estimator_\n",
    "    \n",
    "    start = timer()\n",
    "    best_model.fit(features, target) \n",
    "    stop = timer()\n",
    "    time_fit = stop - start\n",
    "    \n",
    "    start = timer()\n",
    "    target_predict = best_model.predict(features_test)\n",
    "    stop = timer()\n",
    "    time_predict = stop - start\n",
    "    \n",
    "    rmse = mean_squared_error(target_test, target_predict) ** 0.5\n",
    "    \n",
    "\n",
    "    print(\"\\n========================================================\")\n",
    "    print(\" Модель\",  model_name)\n",
    "    print(\"========================================================\")\n",
    "    \n",
    "    print ('\\n Время подбора параметров:\\n',\n",
    "          time_tuning)    \n",
    "    print(\"\\n Лучший результат по всем параметрам:\\n\",\n",
    "          (grid.best_score_ * (-1))** 0.5)\n",
    "    \n",
    "    print(\"\\n Лучшие параметры модели:\\n\",\n",
    "          grid.best_params_)\n",
    "    \n",
    "    print(\"\\n ========================================================\")\n",
    "    \n",
    "    print ('\\n Время обучения на лучшей модели:\\n',\n",
    "          time_fit)    \n",
    "    print(\"\\n Время предсказания на лучшей модели:\\n\",\n",
    "          time_predict)\n",
    "    \n",
    "    print(\"\\n RMSE на валидации:\\n\",\n",
    "          rmse)\n",
    "    print(\"\\n ========================================================\")\n",
    "    \n",
    "    result = {'Алгоритм' : model_name,\n",
    "              'Время обучения, с' : round(time_fit, 3),\n",
    "              'Время предсказания, с' : round(time_predict, 3),\n",
    "              'RMSE на валидации, евро' : round(rmse, 2)}\n",
    "    \n",
    "    return result\n",
    "    "
   ]
  },
  {
   "cell_type": "markdown",
   "metadata": {},
   "source": [
    "Тестируем все алгоритмы, результаты заносим в сводную таблицу"
   ]
  },
  {
   "cell_type": "code",
   "execution_count": 48,
   "metadata": {},
   "outputs": [
    {
     "name": "stdout",
     "output_type": "stream",
     "text": [
      "\n",
      "========================================================\n",
      " Модель LGBMRegressor\n",
      "========================================================\n",
      "\n",
      " Время подбора параметров:\n",
      " 420.8673335984349\n",
      "\n",
      " Лучший результат по всем параметрам:\n",
      " 1301.8942331376982\n",
      "\n",
      " Лучшие параметры модели:\n",
      " {'learning_rate': 0.3, 'n_estimators': 200}\n",
      "\n",
      " ========================================================\n",
      "\n",
      " Время обучения на лучшей модели:\n",
      " 9.905683979392052\n",
      "\n",
      " Время предсказания на лучшей модели:\n",
      " 0.8045170530676842\n",
      "\n",
      " RMSE на валидации:\n",
      " 1300.7645757282771\n",
      "\n",
      " ========================================================\n"
     ]
    },
    {
     "data": {
      "text/html": [
       "<div>\n",
       "<style scoped>\n",
       "    .dataframe tbody tr th:only-of-type {\n",
       "        vertical-align: middle;\n",
       "    }\n",
       "\n",
       "    .dataframe tbody tr th {\n",
       "        vertical-align: top;\n",
       "    }\n",
       "\n",
       "    .dataframe thead th {\n",
       "        text-align: right;\n",
       "    }\n",
       "</style>\n",
       "<table border=\"1\" class=\"dataframe\">\n",
       "  <thead>\n",
       "    <tr style=\"text-align: right;\">\n",
       "      <th></th>\n",
       "      <th>Алгоритм</th>\n",
       "      <th>Время обучения, с</th>\n",
       "      <th>Время предсказания, с</th>\n",
       "      <th>RMSE на валидации, евро</th>\n",
       "    </tr>\n",
       "  </thead>\n",
       "  <tbody>\n",
       "    <tr>\n",
       "      <td>0</td>\n",
       "      <td>LGBMRegressor</td>\n",
       "      <td>9.906</td>\n",
       "      <td>0.805</td>\n",
       "      <td>1300.76</td>\n",
       "    </tr>\n",
       "  </tbody>\n",
       "</table>\n",
       "</div>"
      ],
      "text/plain": [
       "        Алгоритм  Время обучения, с  Время предсказания, с  \\\n",
       "0  LGBMRegressor              9.906                  0.805   \n",
       "\n",
       "   RMSE на валидации, евро  \n",
       "0                  1300.76  "
      ]
     },
     "metadata": {},
     "output_type": "display_data"
    },
    {
     "name": "stdout",
     "output_type": "stream",
     "text": [
      "CPU times: user 7min 4s, sys: 4.38 s, total: 7min 8s\n",
      "Wall time: 7min 11s\n"
     ]
    }
   ],
   "source": [
    "%%time\n",
    "model_results = tuning_test_models('LGBMRegressor', \n",
    "                                  LGBMRegressor(random_state=12345), \n",
    "                                  {'n_estimators' : [150, 200], 'learning_rate' : [0.1, 0.3]}, \n",
    "                                  features_train, \n",
    "                                  target_train,\n",
    "                                  features_valid, \n",
    "                                  target_valid)\n",
    "\n",
    "model_comparison = model_comparison.append(model_results, ignore_index=True)\n",
    "display(model_comparison)"
   ]
  },
  {
   "cell_type": "code",
   "execution_count": 49,
   "metadata": {},
   "outputs": [
    {
     "name": "stdout",
     "output_type": "stream",
     "text": [
      "0:\tlearn: 3393.6141723\ttotal: 58.5ms\tremaining: 8.71s\n",
      "10:\tlearn: 2234.6995698\ttotal: 918ms\tremaining: 11.6s\n",
      "20:\tlearn: 1889.4879410\ttotal: 1.71s\tremaining: 10.5s\n",
      "30:\tlearn: 1750.5582117\ttotal: 2.51s\tremaining: 9.63s\n",
      "40:\tlearn: 1672.6645843\ttotal: 3.4s\tremaining: 9.03s\n",
      "50:\tlearn: 1625.7619338\ttotal: 4.29s\tremaining: 8.32s\n",
      "60:\tlearn: 1590.4770582\ttotal: 5.19s\tremaining: 7.57s\n",
      "70:\tlearn: 1564.0627472\ttotal: 5.99s\tremaining: 6.66s\n",
      "80:\tlearn: 1539.9626251\ttotal: 6.78s\tremaining: 5.78s\n",
      "90:\tlearn: 1523.4685975\ttotal: 7.58s\tremaining: 4.91s\n",
      "100:\tlearn: 1509.5627643\ttotal: 8.46s\tremaining: 4.11s\n",
      "110:\tlearn: 1496.1362824\ttotal: 9.16s\tremaining: 3.22s\n",
      "120:\tlearn: 1486.0275865\ttotal: 10s\tremaining: 2.41s\n",
      "130:\tlearn: 1477.6911009\ttotal: 10.8s\tremaining: 1.57s\n",
      "140:\tlearn: 1469.8569701\ttotal: 11.6s\tremaining: 743ms\n",
      "149:\tlearn: 1464.2863853\ttotal: 12.3s\tremaining: 0us\n",
      "0:\tlearn: 3395.3999888\ttotal: 10ms\tremaining: 1.5s\n",
      "10:\tlearn: 2238.4212501\ttotal: 837ms\tremaining: 10.6s\n",
      "20:\tlearn: 1892.5491891\ttotal: 1.63s\tremaining: 10s\n",
      "30:\tlearn: 1749.0441804\ttotal: 2.43s\tremaining: 9.32s\n",
      "40:\tlearn: 1680.4921921\ttotal: 3.23s\tremaining: 8.58s\n",
      "50:\tlearn: 1633.1570647\ttotal: 4.02s\tremaining: 7.81s\n",
      "60:\tlearn: 1597.4872947\ttotal: 4.82s\tremaining: 7.03s\n",
      "70:\tlearn: 1568.6919053\ttotal: 5.62s\tremaining: 6.25s\n",
      "80:\tlearn: 1547.9998316\ttotal: 6.41s\tremaining: 5.46s\n",
      "90:\tlearn: 1528.8182652\ttotal: 7.3s\tremaining: 4.73s\n",
      "100:\tlearn: 1515.3292604\ttotal: 8.09s\tremaining: 3.92s\n",
      "110:\tlearn: 1502.0152193\ttotal: 8.89s\tremaining: 3.12s\n",
      "120:\tlearn: 1492.2273590\ttotal: 9.69s\tremaining: 2.32s\n",
      "130:\tlearn: 1483.8793389\ttotal: 10.5s\tremaining: 1.52s\n",
      "140:\tlearn: 1475.1931708\ttotal: 11.2s\tremaining: 715ms\n",
      "149:\tlearn: 1468.4771873\ttotal: 12s\tremaining: 0us\n",
      "0:\tlearn: 3401.4450604\ttotal: 11.8ms\tremaining: 1.76s\n",
      "10:\tlearn: 2238.3636036\ttotal: 834ms\tremaining: 10.5s\n",
      "20:\tlearn: 1892.1760827\ttotal: 1.63s\tremaining: 10s\n",
      "30:\tlearn: 1751.3942185\ttotal: 2.43s\tremaining: 9.32s\n",
      "40:\tlearn: 1677.7597588\ttotal: 3.29s\tremaining: 8.76s\n",
      "50:\tlearn: 1631.6112514\ttotal: 4.09s\tremaining: 7.94s\n",
      "60:\tlearn: 1593.6862209\ttotal: 4.89s\tremaining: 7.13s\n",
      "70:\tlearn: 1569.4802149\ttotal: 5.68s\tremaining: 6.32s\n",
      "80:\tlearn: 1544.3591741\ttotal: 6.48s\tremaining: 5.52s\n",
      "90:\tlearn: 1530.1590571\ttotal: 7.27s\tremaining: 4.71s\n",
      "100:\tlearn: 1514.8353937\ttotal: 8.08s\tremaining: 3.92s\n",
      "110:\tlearn: 1501.6354374\ttotal: 8.96s\tremaining: 3.15s\n",
      "120:\tlearn: 1490.9503330\ttotal: 9.95s\tremaining: 2.38s\n",
      "130:\tlearn: 1482.2241246\ttotal: 10.7s\tremaining: 1.56s\n",
      "140:\tlearn: 1475.6027430\ttotal: 11.6s\tremaining: 743ms\n",
      "149:\tlearn: 1468.6425658\ttotal: 12.3s\tremaining: 0us\n",
      "0:\tlearn: 3388.9966674\ttotal: 10.5ms\tremaining: 1.56s\n",
      "10:\tlearn: 2233.1451530\ttotal: 867ms\tremaining: 11s\n",
      "20:\tlearn: 1885.6448819\ttotal: 1.66s\tremaining: 10.2s\n",
      "30:\tlearn: 1742.8451279\ttotal: 2.46s\tremaining: 9.44s\n",
      "40:\tlearn: 1671.4450320\ttotal: 3.25s\tremaining: 8.65s\n",
      "50:\tlearn: 1625.0303156\ttotal: 4.05s\tremaining: 7.86s\n",
      "60:\tlearn: 1590.4809064\ttotal: 4.81s\tremaining: 7.01s\n",
      "70:\tlearn: 1566.1072753\ttotal: 5.6s\tremaining: 6.23s\n",
      "80:\tlearn: 1545.3168996\ttotal: 6.49s\tremaining: 5.52s\n",
      "90:\tlearn: 1524.4789298\ttotal: 7.29s\tremaining: 4.72s\n",
      "100:\tlearn: 1510.0256086\ttotal: 8.08s\tremaining: 3.92s\n",
      "110:\tlearn: 1497.6508560\ttotal: 8.88s\tremaining: 3.12s\n",
      "120:\tlearn: 1487.6714480\ttotal: 9.77s\tremaining: 2.34s\n",
      "130:\tlearn: 1479.1125999\ttotal: 10.6s\tremaining: 1.53s\n",
      "140:\tlearn: 1470.1743179\ttotal: 11.4s\tremaining: 725ms\n",
      "149:\tlearn: 1463.3483260\ttotal: 12.2s\tremaining: 0us\n",
      "0:\tlearn: 3394.2279993\ttotal: 14.6ms\tremaining: 2.17s\n",
      "10:\tlearn: 2235.2062581\ttotal: 921ms\tremaining: 11.6s\n",
      "20:\tlearn: 1892.0026869\ttotal: 1.73s\tremaining: 10.6s\n",
      "30:\tlearn: 1753.3994629\ttotal: 2.61s\tremaining: 10s\n",
      "40:\tlearn: 1676.0080833\ttotal: 3.41s\tremaining: 9.07s\n",
      "50:\tlearn: 1626.2007121\ttotal: 4.2s\tremaining: 8.16s\n",
      "60:\tlearn: 1589.0203966\ttotal: 5s\tremaining: 7.3s\n",
      "70:\tlearn: 1560.5592087\ttotal: 5.79s\tremaining: 6.45s\n",
      "80:\tlearn: 1538.5966337\ttotal: 6.59s\tremaining: 5.61s\n",
      "90:\tlearn: 1521.9068964\ttotal: 7.39s\tremaining: 4.79s\n",
      "100:\tlearn: 1511.0426767\ttotal: 8.18s\tremaining: 3.97s\n",
      "110:\tlearn: 1499.1429755\ttotal: 8.98s\tremaining: 3.15s\n",
      "120:\tlearn: 1488.0406761\ttotal: 9.77s\tremaining: 2.34s\n",
      "130:\tlearn: 1479.2005091\ttotal: 10.6s\tremaining: 1.53s\n",
      "140:\tlearn: 1469.9834373\ttotal: 11.4s\tremaining: 725ms\n",
      "149:\tlearn: 1463.8272597\ttotal: 12.2s\tremaining: 0us\n",
      "0:\tlearn: 2658.8859148\ttotal: 10.9ms\tremaining: 1.62s\n",
      "10:\tlearn: 1620.5505384\ttotal: 840ms\tremaining: 10.6s\n",
      "20:\tlearn: 1525.5241276\ttotal: 1.64s\tremaining: 10.1s\n",
      "30:\tlearn: 1481.3776495\ttotal: 2.43s\tremaining: 9.34s\n",
      "40:\tlearn: 1453.2159567\ttotal: 3.23s\tremaining: 8.58s\n",
      "50:\tlearn: 1433.1599060\ttotal: 4.02s\tremaining: 7.81s\n",
      "60:\tlearn: 1416.8089867\ttotal: 4.91s\tremaining: 7.17s\n",
      "70:\tlearn: 1403.5688638\ttotal: 5.71s\tremaining: 6.35s\n",
      "80:\tlearn: 1392.6621290\ttotal: 6.5s\tremaining: 5.54s\n",
      "90:\tlearn: 1382.4293823\ttotal: 7.29s\tremaining: 4.73s\n",
      "100:\tlearn: 1373.7564674\ttotal: 8.09s\tremaining: 3.93s\n",
      "110:\tlearn: 1362.8605677\ttotal: 8.89s\tremaining: 3.12s\n",
      "120:\tlearn: 1356.8542819\ttotal: 9.77s\tremaining: 2.34s\n",
      "130:\tlearn: 1350.2039442\ttotal: 10.6s\tremaining: 1.53s\n",
      "140:\tlearn: 1344.5952797\ttotal: 11.4s\tremaining: 726ms\n",
      "149:\tlearn: 1340.0779709\ttotal: 12.2s\tremaining: 0us\n",
      "0:\tlearn: 2672.1589598\ttotal: 11.6ms\tremaining: 1.72s\n",
      "10:\tlearn: 1627.3130700\ttotal: 822ms\tremaining: 10.4s\n",
      "20:\tlearn: 1527.4612346\ttotal: 1.71s\tremaining: 10.5s\n",
      "30:\tlearn: 1485.7512300\ttotal: 2.51s\tremaining: 9.62s\n",
      "40:\tlearn: 1460.7045514\ttotal: 3.31s\tremaining: 8.8s\n",
      "50:\tlearn: 1440.9721310\ttotal: 4.1s\tremaining: 7.97s\n",
      "60:\tlearn: 1425.9810754\ttotal: 4.99s\tremaining: 7.28s\n",
      "70:\tlearn: 1412.4486971\ttotal: 5.79s\tremaining: 6.44s\n",
      "80:\tlearn: 1401.3743195\ttotal: 6.68s\tremaining: 5.69s\n",
      "90:\tlearn: 1389.6050169\ttotal: 7.47s\tremaining: 4.85s\n",
      "100:\tlearn: 1381.4195509\ttotal: 8.27s\tremaining: 4.01s\n",
      "110:\tlearn: 1373.1968573\ttotal: 9.06s\tremaining: 3.19s\n",
      "120:\tlearn: 1365.6303746\ttotal: 9.86s\tremaining: 2.36s\n",
      "130:\tlearn: 1359.1235734\ttotal: 10.7s\tremaining: 1.54s\n",
      "140:\tlearn: 1352.5969433\ttotal: 11.5s\tremaining: 737ms\n",
      "149:\tlearn: 1346.6637234\ttotal: 12.2s\tremaining: 0us\n",
      "0:\tlearn: 2695.9666859\ttotal: 9.63ms\tremaining: 1.43s\n",
      "10:\tlearn: 1628.0294052\ttotal: 810ms\tremaining: 10.2s\n",
      "20:\tlearn: 1523.6942204\ttotal: 1.7s\tremaining: 10.5s\n",
      "30:\tlearn: 1480.9885587\ttotal: 2.49s\tremaining: 9.57s\n",
      "40:\tlearn: 1451.9371373\ttotal: 3.29s\tremaining: 8.76s\n",
      "50:\tlearn: 1432.5126921\ttotal: 4.18s\tremaining: 8.11s\n",
      "60:\tlearn: 1417.7346957\ttotal: 4.97s\tremaining: 7.26s\n",
      "70:\tlearn: 1403.7794063\ttotal: 5.86s\tremaining: 6.51s\n",
      "80:\tlearn: 1390.2657795\ttotal: 6.65s\tremaining: 5.67s\n",
      "90:\tlearn: 1380.0542133\ttotal: 7.45s\tremaining: 4.83s\n",
      "100:\tlearn: 1371.5398029\ttotal: 8.25s\tremaining: 4s\n",
      "110:\tlearn: 1363.2640612\ttotal: 9.14s\tremaining: 3.21s\n",
      "120:\tlearn: 1356.2367841\ttotal: 10s\tremaining: 2.4s\n",
      "130:\tlearn: 1349.3825552\ttotal: 10.9s\tremaining: 1.58s\n",
      "140:\tlearn: 1344.1068191\ttotal: 11.7s\tremaining: 748ms\n",
      "149:\tlearn: 1339.2142697\ttotal: 12.5s\tremaining: 0us\n",
      "0:\tlearn: 2665.2255225\ttotal: 16.1ms\tremaining: 2.39s\n",
      "10:\tlearn: 1623.9114415\ttotal: 816ms\tremaining: 10.3s\n",
      "20:\tlearn: 1529.6553621\ttotal: 1.61s\tremaining: 9.91s\n",
      "30:\tlearn: 1486.7693595\ttotal: 2.5s\tremaining: 9.61s\n",
      "40:\tlearn: 1456.5107917\ttotal: 3.39s\tremaining: 9.02s\n",
      "50:\tlearn: 1433.9557207\ttotal: 4.19s\tremaining: 8.13s\n",
      "60:\tlearn: 1417.4663318\ttotal: 4.99s\tremaining: 7.28s\n",
      "70:\tlearn: 1405.0379739\ttotal: 5.88s\tremaining: 6.54s\n",
      "80:\tlearn: 1394.0486190\ttotal: 6.67s\tremaining: 5.68s\n",
      "90:\tlearn: 1382.6356183\ttotal: 7.48s\tremaining: 4.85s\n",
      "100:\tlearn: 1372.4318689\ttotal: 8.36s\tremaining: 4.06s\n",
      "110:\tlearn: 1363.0426549\ttotal: 9.15s\tremaining: 3.21s\n",
      "120:\tlearn: 1355.6187577\ttotal: 9.95s\tremaining: 2.38s\n",
      "130:\tlearn: 1349.8322362\ttotal: 10.7s\tremaining: 1.56s\n",
      "140:\tlearn: 1343.9413104\ttotal: 11.5s\tremaining: 736ms\n",
      "149:\tlearn: 1338.9168329\ttotal: 12.3s\tremaining: 0us\n",
      "0:\tlearn: 2667.2068585\ttotal: 10.1ms\tremaining: 1.5s\n",
      "10:\tlearn: 1613.9988772\ttotal: 760ms\tremaining: 9.61s\n",
      "20:\tlearn: 1527.5358089\ttotal: 1.65s\tremaining: 10.1s\n",
      "30:\tlearn: 1481.4177333\ttotal: 2.44s\tremaining: 9.37s\n",
      "40:\tlearn: 1455.9060797\ttotal: 3.24s\tremaining: 8.61s\n",
      "50:\tlearn: 1431.8741082\ttotal: 4.13s\tremaining: 8.01s\n",
      "60:\tlearn: 1414.4430566\ttotal: 5.13s\tremaining: 7.48s\n",
      "70:\tlearn: 1402.0945728\ttotal: 5.93s\tremaining: 6.6s\n",
      "80:\tlearn: 1391.3033812\ttotal: 6.81s\tremaining: 5.8s\n",
      "90:\tlearn: 1381.9785856\ttotal: 7.61s\tremaining: 4.93s\n",
      "100:\tlearn: 1372.0957829\ttotal: 8.49s\tremaining: 4.12s\n",
      "110:\tlearn: 1364.5828663\ttotal: 9.29s\tremaining: 3.27s\n",
      "120:\tlearn: 1358.1160408\ttotal: 10.1s\tremaining: 2.42s\n",
      "130:\tlearn: 1352.0958798\ttotal: 10.9s\tremaining: 1.58s\n",
      "140:\tlearn: 1346.7442843\ttotal: 11.8s\tremaining: 751ms\n",
      "149:\tlearn: 1340.2704404\ttotal: 12.5s\tremaining: 0us\n",
      "0:\tlearn: 3358.7009853\ttotal: 49.6ms\tremaining: 7.39s\n",
      "10:\tlearn: 2028.8835166\ttotal: 1.64s\tremaining: 20.7s\n",
      "20:\tlearn: 1662.0219554\ttotal: 3.14s\tremaining: 19.3s\n",
      "30:\tlearn: 1535.9039795\ttotal: 4.73s\tremaining: 18.2s\n",
      "40:\tlearn: 1477.4288281\ttotal: 6.32s\tremaining: 16.8s\n",
      "50:\tlearn: 1446.2022464\ttotal: 7.91s\tremaining: 15.4s\n",
      "60:\tlearn: 1419.2037867\ttotal: 9.41s\tremaining: 13.7s\n",
      "70:\tlearn: 1399.6836106\ttotal: 11s\tremaining: 12.2s\n",
      "80:\tlearn: 1383.9368119\ttotal: 12.5s\tremaining: 10.6s\n",
      "90:\tlearn: 1370.6520705\ttotal: 14.1s\tremaining: 9.14s\n",
      "100:\tlearn: 1360.0989201\ttotal: 15.7s\tremaining: 7.61s\n",
      "110:\tlearn: 1349.4825676\ttotal: 17.2s\tremaining: 6.04s\n",
      "120:\tlearn: 1341.1398678\ttotal: 18.8s\tremaining: 4.5s\n",
      "130:\tlearn: 1332.3484881\ttotal: 20.3s\tremaining: 2.94s\n",
      "140:\tlearn: 1324.3511699\ttotal: 21.9s\tremaining: 1.4s\n",
      "149:\tlearn: 1317.9460705\ttotal: 23.3s\tremaining: 0us\n",
      "0:\tlearn: 3361.0270370\ttotal: 61.9ms\tremaining: 9.22s\n",
      "10:\tlearn: 2035.3666404\ttotal: 1.55s\tremaining: 19.6s\n",
      "20:\tlearn: 1668.4693391\ttotal: 3.04s\tremaining: 18.7s\n",
      "30:\tlearn: 1542.9791193\ttotal: 4.54s\tremaining: 17.4s\n",
      "40:\tlearn: 1483.9377571\ttotal: 6.03s\tremaining: 16s\n",
      "50:\tlearn: 1448.9130398\ttotal: 7.53s\tremaining: 14.6s\n",
      "60:\tlearn: 1423.4253608\ttotal: 9.03s\tremaining: 13.2s\n",
      "70:\tlearn: 1403.5587808\ttotal: 10.6s\tremaining: 11.8s\n",
      "80:\tlearn: 1389.5519150\ttotal: 12.1s\tremaining: 10.3s\n",
      "90:\tlearn: 1376.0003962\ttotal: 13.6s\tremaining: 8.83s\n",
      "100:\tlearn: 1364.9234604\ttotal: 15.1s\tremaining: 7.33s\n",
      "110:\tlearn: 1355.0849307\ttotal: 16.6s\tremaining: 5.84s\n",
      "120:\tlearn: 1344.5438825\ttotal: 18.2s\tremaining: 4.36s\n",
      "130:\tlearn: 1335.3191289\ttotal: 19.7s\tremaining: 2.86s\n",
      "140:\tlearn: 1327.7727267\ttotal: 21.3s\tremaining: 1.36s\n",
      "149:\tlearn: 1320.1435561\ttotal: 22.6s\tremaining: 0us\n",
      "0:\tlearn: 3360.5363215\ttotal: 104ms\tremaining: 15.6s\n",
      "10:\tlearn: 2034.0147210\ttotal: 1.6s\tremaining: 20.2s\n",
      "20:\tlearn: 1669.0987116\ttotal: 3.18s\tremaining: 19.6s\n",
      "30:\tlearn: 1540.0175855\ttotal: 4.68s\tremaining: 18s\n",
      "40:\tlearn: 1484.3692838\ttotal: 6.18s\tremaining: 16.4s\n",
      "50:\tlearn: 1448.2889492\ttotal: 7.68s\tremaining: 14.9s\n",
      "60:\tlearn: 1420.5908212\ttotal: 9.18s\tremaining: 13.4s\n",
      "70:\tlearn: 1404.3536778\ttotal: 10.8s\tremaining: 12s\n",
      "80:\tlearn: 1389.8991826\ttotal: 12.3s\tremaining: 10.5s\n",
      "90:\tlearn: 1377.5894638\ttotal: 13.8s\tremaining: 8.92s\n",
      "100:\tlearn: 1365.8822519\ttotal: 15.3s\tremaining: 7.44s\n",
      "110:\tlearn: 1355.7727882\ttotal: 16.9s\tremaining: 5.95s\n",
      "120:\tlearn: 1346.0368831\ttotal: 18.4s\tremaining: 4.42s\n",
      "130:\tlearn: 1337.1860063\ttotal: 20s\tremaining: 2.9s\n",
      "140:\tlearn: 1330.3914059\ttotal: 21.5s\tremaining: 1.37s\n",
      "149:\tlearn: 1324.2162744\ttotal: 22.9s\tremaining: 0us\n",
      "0:\tlearn: 3352.7830359\ttotal: 23.4ms\tremaining: 3.49s\n",
      "10:\tlearn: 2025.8855683\ttotal: 1.62s\tremaining: 20.4s\n",
      "20:\tlearn: 1661.2491351\ttotal: 3.12s\tremaining: 19.1s\n",
      "30:\tlearn: 1537.2300124\ttotal: 4.7s\tremaining: 18s\n",
      "40:\tlearn: 1477.4782881\ttotal: 6.29s\tremaining: 16.7s\n",
      "50:\tlearn: 1444.0387116\ttotal: 7.89s\tremaining: 15.3s\n",
      "60:\tlearn: 1418.9192264\ttotal: 9.39s\tremaining: 13.7s\n",
      "70:\tlearn: 1400.1035020\ttotal: 10.9s\tremaining: 12.1s\n",
      "80:\tlearn: 1384.1211002\ttotal: 12.5s\tremaining: 10.6s\n",
      "90:\tlearn: 1371.2295376\ttotal: 14s\tremaining: 9.05s\n",
      "100:\tlearn: 1360.5357745\ttotal: 15.5s\tremaining: 7.5s\n",
      "110:\tlearn: 1349.7826103\ttotal: 17s\tremaining: 5.96s\n",
      "120:\tlearn: 1341.1919065\ttotal: 18.5s\tremaining: 4.44s\n",
      "130:\tlearn: 1332.9142867\ttotal: 20s\tremaining: 2.91s\n",
      "140:\tlearn: 1324.1121683\ttotal: 21.5s\tremaining: 1.38s\n",
      "149:\tlearn: 1317.8882820\ttotal: 22.9s\tremaining: 0us\n",
      "0:\tlearn: 3358.2447196\ttotal: 73.7ms\tremaining: 11s\n",
      "10:\tlearn: 2030.6427330\ttotal: 1.57s\tremaining: 19.9s\n",
      "20:\tlearn: 1664.5011262\ttotal: 3.15s\tremaining: 19.4s\n",
      "30:\tlearn: 1537.3644998\ttotal: 4.65s\tremaining: 17.9s\n",
      "40:\tlearn: 1480.3106841\ttotal: 6.15s\tremaining: 16.3s\n",
      "50:\tlearn: 1444.5168526\ttotal: 7.73s\tremaining: 15s\n",
      "60:\tlearn: 1420.3561990\ttotal: 9.24s\tremaining: 13.5s\n",
      "70:\tlearn: 1401.2508300\ttotal: 10.8s\tremaining: 12s\n",
      "80:\tlearn: 1387.1867857\ttotal: 12.3s\tremaining: 10.5s\n",
      "90:\tlearn: 1375.4857299\ttotal: 13.8s\tremaining: 8.96s\n",
      "100:\tlearn: 1363.0296081\ttotal: 15.5s\tremaining: 7.52s\n",
      "110:\tlearn: 1351.5641506\ttotal: 17.1s\tremaining: 6.01s\n",
      "120:\tlearn: 1343.1058873\ttotal: 18.6s\tremaining: 4.46s\n",
      "130:\tlearn: 1334.1566470\ttotal: 20.2s\tremaining: 2.93s\n",
      "140:\tlearn: 1326.0136183\ttotal: 21.7s\tremaining: 1.38s\n",
      "149:\tlearn: 1319.2834913\ttotal: 23.1s\tremaining: 0us\n",
      "0:\tlearn: 2476.5322207\ttotal: 48.5ms\tremaining: 7.22s\n",
      "10:\tlearn: 1454.8313981\ttotal: 1.64s\tremaining: 20.8s\n",
      "20:\tlearn: 1376.4041252\ttotal: 3.22s\tremaining: 19.8s\n",
      "30:\tlearn: 1331.8506450\ttotal: 4.73s\tremaining: 18.2s\n",
      "40:\tlearn: 1299.6787244\ttotal: 6.31s\tremaining: 16.8s\n",
      "50:\tlearn: 1273.4931017\ttotal: 7.9s\tremaining: 15.3s\n",
      "60:\tlearn: 1257.3422719\ttotal: 9.39s\tremaining: 13.7s\n",
      "70:\tlearn: 1239.7019788\ttotal: 10.9s\tremaining: 12.1s\n",
      "80:\tlearn: 1224.9276454\ttotal: 12.5s\tremaining: 10.6s\n",
      "90:\tlearn: 1211.6669651\ttotal: 14s\tremaining: 9.07s\n",
      "100:\tlearn: 1200.8543537\ttotal: 15.4s\tremaining: 7.5s\n",
      "110:\tlearn: 1191.0068438\ttotal: 16.9s\tremaining: 5.95s\n",
      "120:\tlearn: 1181.5569712\ttotal: 18.4s\tremaining: 4.42s\n",
      "130:\tlearn: 1174.4909234\ttotal: 20s\tremaining: 2.9s\n",
      "140:\tlearn: 1164.2372128\ttotal: 21.5s\tremaining: 1.37s\n",
      "149:\tlearn: 1158.1190115\ttotal: 22.8s\tremaining: 0us\n",
      "0:\tlearn: 2493.4443267\ttotal: 105ms\tremaining: 15.6s\n",
      "10:\tlearn: 1451.5391540\ttotal: 1.7s\tremaining: 21.5s\n",
      "20:\tlearn: 1383.2506149\ttotal: 3.19s\tremaining: 19.6s\n",
      "30:\tlearn: 1335.8527612\ttotal: 4.69s\tremaining: 18s\n",
      "40:\tlearn: 1304.9353166\ttotal: 6.27s\tremaining: 16.7s\n",
      "50:\tlearn: 1277.2645629\ttotal: 7.77s\tremaining: 15.1s\n",
      "60:\tlearn: 1258.0544105\ttotal: 9.27s\tremaining: 13.5s\n",
      "70:\tlearn: 1242.5138648\ttotal: 10.8s\tremaining: 12s\n",
      "80:\tlearn: 1229.0774332\ttotal: 12.4s\tremaining: 10.5s\n",
      "90:\tlearn: 1215.2122070\ttotal: 13.9s\tremaining: 9.04s\n",
      "100:\tlearn: 1203.0677450\ttotal: 15.4s\tremaining: 7.49s\n",
      "110:\tlearn: 1193.2001250\ttotal: 16.9s\tremaining: 5.95s\n",
      "120:\tlearn: 1184.0673970\ttotal: 18.5s\tremaining: 4.44s\n",
      "130:\tlearn: 1176.3023525\ttotal: 20.1s\tremaining: 2.92s\n",
      "140:\tlearn: 1167.5456521\ttotal: 21.6s\tremaining: 1.38s\n",
      "149:\tlearn: 1161.7485767\ttotal: 23s\tremaining: 0us\n",
      "0:\tlearn: 2484.3701645\ttotal: 38.9ms\tremaining: 5.79s\n",
      "10:\tlearn: 1450.9779521\ttotal: 1.53s\tremaining: 19.4s\n",
      "20:\tlearn: 1377.9591095\ttotal: 3.02s\tremaining: 18.6s\n",
      "30:\tlearn: 1339.8014278\ttotal: 4.42s\tremaining: 17s\n",
      "40:\tlearn: 1308.8288093\ttotal: 6.01s\tremaining: 16s\n",
      "50:\tlearn: 1281.3609470\ttotal: 7.51s\tremaining: 14.6s\n",
      "60:\tlearn: 1263.3082197\ttotal: 9.1s\tremaining: 13.3s\n",
      "70:\tlearn: 1248.0479769\ttotal: 10.6s\tremaining: 11.8s\n",
      "80:\tlearn: 1232.6324364\ttotal: 12.1s\tremaining: 10.3s\n",
      "90:\tlearn: 1218.3960533\ttotal: 13.6s\tremaining: 8.81s\n",
      "100:\tlearn: 1205.3271788\ttotal: 15.2s\tremaining: 7.36s\n",
      "110:\tlearn: 1196.2366136\ttotal: 16.7s\tremaining: 5.86s\n",
      "120:\tlearn: 1186.8109233\ttotal: 18.3s\tremaining: 4.38s\n",
      "130:\tlearn: 1177.1734294\ttotal: 19.8s\tremaining: 2.87s\n",
      "140:\tlearn: 1168.6047685\ttotal: 21.4s\tremaining: 1.36s\n",
      "149:\tlearn: 1163.0336728\ttotal: 22.8s\tremaining: 0us\n",
      "0:\tlearn: 2477.2720710\ttotal: 53.2ms\tremaining: 7.92s\n",
      "10:\tlearn: 1452.0185251\ttotal: 1.64s\tremaining: 20.8s\n",
      "20:\tlearn: 1375.1920200\ttotal: 3.24s\tremaining: 19.9s\n",
      "30:\tlearn: 1332.7156378\ttotal: 4.74s\tremaining: 18.2s\n",
      "40:\tlearn: 1301.8852551\ttotal: 6.33s\tremaining: 16.8s\n",
      "50:\tlearn: 1276.0038039\ttotal: 7.92s\tremaining: 15.4s\n",
      "60:\tlearn: 1254.8505593\ttotal: 9.41s\tremaining: 13.7s\n",
      "70:\tlearn: 1238.0068735\ttotal: 10.9s\tremaining: 12.1s\n",
      "80:\tlearn: 1223.4471481\ttotal: 12.5s\tremaining: 10.7s\n",
      "90:\tlearn: 1211.0631186\ttotal: 14.1s\tremaining: 9.14s\n",
      "100:\tlearn: 1200.5878779\ttotal: 15.6s\tremaining: 7.56s\n",
      "110:\tlearn: 1192.0889666\ttotal: 17.1s\tremaining: 6s\n",
      "120:\tlearn: 1182.5521839\ttotal: 18.6s\tremaining: 4.45s\n",
      "130:\tlearn: 1172.8167295\ttotal: 20.1s\tremaining: 2.91s\n",
      "140:\tlearn: 1164.4034069\ttotal: 21.6s\tremaining: 1.38s\n",
      "149:\tlearn: 1158.6231774\ttotal: 23s\tremaining: 0us\n",
      "0:\tlearn: 2479.7417724\ttotal: 46.8ms\tremaining: 6.98s\n",
      "10:\tlearn: 1448.2733578\ttotal: 1.54s\tremaining: 19.5s\n",
      "20:\tlearn: 1375.3464785\ttotal: 3.13s\tremaining: 19.2s\n",
      "30:\tlearn: 1332.0838096\ttotal: 4.72s\tremaining: 18.1s\n",
      "40:\tlearn: 1305.6714541\ttotal: 6.22s\tremaining: 16.6s\n",
      "50:\tlearn: 1281.4118610\ttotal: 7.81s\tremaining: 15.2s\n",
      "60:\tlearn: 1261.2512676\ttotal: 9.31s\tremaining: 13.6s\n",
      "70:\tlearn: 1243.6453672\ttotal: 10.8s\tremaining: 12s\n",
      "80:\tlearn: 1228.6480851\ttotal: 12.3s\tremaining: 10.5s\n",
      "90:\tlearn: 1215.7296958\ttotal: 13.9s\tremaining: 9s\n",
      "100:\tlearn: 1205.6429430\ttotal: 15.6s\tremaining: 7.56s\n",
      "110:\tlearn: 1193.5447281\ttotal: 17.3s\tremaining: 6.07s\n",
      "120:\tlearn: 1184.1256796\ttotal: 18.8s\tremaining: 4.5s\n",
      "130:\tlearn: 1175.5963399\ttotal: 20.3s\tremaining: 2.94s\n",
      "140:\tlearn: 1167.9350699\ttotal: 21.9s\tremaining: 1.4s\n",
      "149:\tlearn: 1160.8759663\ttotal: 23.2s\tremaining: 0us\n",
      "0:\tlearn: 2504.3042258\ttotal: 105ms\tremaining: 15.6s\n",
      "10:\tlearn: 1448.1591060\ttotal: 1.88s\tremaining: 23.8s\n",
      "20:\tlearn: 1380.1572934\ttotal: 3.67s\tremaining: 22.6s\n",
      "30:\tlearn: 1340.9638650\ttotal: 5.47s\tremaining: 21s\n",
      "40:\tlearn: 1308.8038870\ttotal: 7.26s\tremaining: 19.3s\n",
      "50:\tlearn: 1288.2337976\ttotal: 9.05s\tremaining: 17.6s\n",
      "60:\tlearn: 1267.8709653\ttotal: 10.8s\tremaining: 15.8s\n",
      "70:\tlearn: 1252.0102411\ttotal: 12.6s\tremaining: 14.1s\n",
      "80:\tlearn: 1235.8354420\ttotal: 14.4s\tremaining: 12.3s\n",
      "90:\tlearn: 1224.7796356\ttotal: 16.2s\tremaining: 10.5s\n",
      "100:\tlearn: 1214.4725149\ttotal: 18s\tremaining: 8.75s\n",
      "110:\tlearn: 1204.5118931\ttotal: 19.9s\tremaining: 7s\n",
      "120:\tlearn: 1195.0794377\ttotal: 21.6s\tremaining: 5.18s\n",
      "130:\tlearn: 1186.5695904\ttotal: 23.4s\tremaining: 3.39s\n",
      "140:\tlearn: 1179.0959080\ttotal: 25.2s\tremaining: 1.61s\n",
      "149:\tlearn: 1172.2110862\ttotal: 26.7s\tremaining: 0us\n",
      "0:\tlearn: 2504.3042258\ttotal: 60.1ms\tremaining: 8.95s\n",
      "10:\tlearn: 1448.1591060\ttotal: 1.84s\tremaining: 23.3s\n",
      "20:\tlearn: 1380.1572934\ttotal: 3.55s\tremaining: 21.8s\n",
      "30:\tlearn: 1340.9638650\ttotal: 5.33s\tremaining: 20.5s\n",
      "40:\tlearn: 1308.8038870\ttotal: 7.12s\tremaining: 18.9s\n",
      "50:\tlearn: 1288.2337976\ttotal: 8.92s\tremaining: 17.3s\n",
      "60:\tlearn: 1267.8709653\ttotal: 10.7s\tremaining: 15.7s\n",
      "70:\tlearn: 1252.0102411\ttotal: 12.5s\tremaining: 13.9s\n",
      "80:\tlearn: 1235.8354420\ttotal: 14.4s\tremaining: 12.3s\n",
      "90:\tlearn: 1224.7796356\ttotal: 16.1s\tremaining: 10.4s\n",
      "100:\tlearn: 1214.4725149\ttotal: 17.9s\tremaining: 8.68s\n",
      "110:\tlearn: 1204.5118931\ttotal: 19.7s\tremaining: 6.92s\n",
      "120:\tlearn: 1195.0794377\ttotal: 21.5s\tremaining: 5.15s\n",
      "130:\tlearn: 1186.5695904\ttotal: 23.3s\tremaining: 3.38s\n",
      "140:\tlearn: 1179.0959080\ttotal: 25.1s\tremaining: 1.6s\n",
      "149:\tlearn: 1172.2110862\ttotal: 26.7s\tremaining: 0us\n",
      "\n",
      "========================================================\n",
      " Модель CatBoostRegressor enc\n",
      "========================================================\n",
      "\n",
      " Время подбора параметров:\n",
      " 400.93205524235964\n",
      "\n",
      " Лучший результат по всем параметрам:\n",
      " 1311.2670233467543\n",
      "\n",
      " Лучшие параметры модели:\n",
      " {'depth': 10, 'learning_rate': 0.5}\n",
      "\n",
      " ========================================================\n",
      "\n",
      " Время обучения на лучшей модели:\n",
      " 27.622969053685665\n",
      "\n",
      " Время предсказания на лучшей модели:\n",
      " 0.014909066259860992\n",
      "\n",
      " RMSE на валидации:\n",
      " 1308.1047106195886\n",
      "\n",
      " ========================================================\n"
     ]
    },
    {
     "data": {
      "text/html": [
       "<div>\n",
       "<style scoped>\n",
       "    .dataframe tbody tr th:only-of-type {\n",
       "        vertical-align: middle;\n",
       "    }\n",
       "\n",
       "    .dataframe tbody tr th {\n",
       "        vertical-align: top;\n",
       "    }\n",
       "\n",
       "    .dataframe thead th {\n",
       "        text-align: right;\n",
       "    }\n",
       "</style>\n",
       "<table border=\"1\" class=\"dataframe\">\n",
       "  <thead>\n",
       "    <tr style=\"text-align: right;\">\n",
       "      <th></th>\n",
       "      <th>Алгоритм</th>\n",
       "      <th>Время обучения, с</th>\n",
       "      <th>Время предсказания, с</th>\n",
       "      <th>RMSE на валидации, евро</th>\n",
       "    </tr>\n",
       "  </thead>\n",
       "  <tbody>\n",
       "    <tr>\n",
       "      <td>0</td>\n",
       "      <td>LGBMRegressor</td>\n",
       "      <td>9.906</td>\n",
       "      <td>0.805</td>\n",
       "      <td>1300.76</td>\n",
       "    </tr>\n",
       "    <tr>\n",
       "      <td>1</td>\n",
       "      <td>CatBoostRegressor enc</td>\n",
       "      <td>27.623</td>\n",
       "      <td>0.015</td>\n",
       "      <td>1308.10</td>\n",
       "    </tr>\n",
       "  </tbody>\n",
       "</table>\n",
       "</div>"
      ],
      "text/plain": [
       "                Алгоритм  Время обучения, с  Время предсказания, с  \\\n",
       "0          LGBMRegressor              9.906                  0.805   \n",
       "1  CatBoostRegressor enc             27.623                  0.015   \n",
       "\n",
       "   RMSE на валидации, евро  \n",
       "0                  1300.76  \n",
       "1                  1308.10  "
      ]
     },
     "metadata": {},
     "output_type": "display_data"
    },
    {
     "name": "stdout",
     "output_type": "stream",
     "text": [
      "CPU times: user 6min 15s, sys: 38.5 s, total: 6min 53s\n",
      "Wall time: 7min 8s\n"
     ]
    }
   ],
   "source": [
    "%%time\n",
    "model_results = tuning_test_models('CatBoostRegressor enc', \n",
    "                                  CatBoostRegressor(random_state=12345, verbose=10, iterations=150), \n",
    "                                  {'depth' : [5, 10], 'learning_rate' : [0.1, 0.5]}, \n",
    "                                  features_train_enc, \n",
    "                                  target_train_enc,\n",
    "                                  features_valid_enc, \n",
    "                                  target_valid_enc)\n",
    "\n",
    "model_comparison = model_comparison.append(model_results, ignore_index=True)\n",
    "display(model_comparison)"
   ]
  },
  {
   "cell_type": "code",
   "execution_count": 50,
   "metadata": {},
   "outputs": [
    {
     "name": "stdout",
     "output_type": "stream",
     "text": [
      "0:\tlearn: 3394.7045689\ttotal: 111ms\tremaining: 16.6s\n",
      "10:\tlearn: 2224.7180176\ttotal: 1.7s\tremaining: 21.5s\n",
      "20:\tlearn: 1842.7287122\ttotal: 3.19s\tremaining: 19.6s\n",
      "30:\tlearn: 1681.5220339\ttotal: 4.68s\tremaining: 18s\n",
      "40:\tlearn: 1614.1615086\ttotal: 6.08s\tremaining: 16.2s\n",
      "50:\tlearn: 1572.3261525\ttotal: 7.58s\tremaining: 14.7s\n",
      "60:\tlearn: 1547.4437571\ttotal: 9.07s\tremaining: 13.2s\n",
      "70:\tlearn: 1527.5195030\ttotal: 10.6s\tremaining: 11.8s\n",
      "80:\tlearn: 1512.2428160\ttotal: 12.1s\tremaining: 10.3s\n",
      "90:\tlearn: 1500.7161890\ttotal: 13.5s\tremaining: 8.78s\n",
      "100:\tlearn: 1488.4559104\ttotal: 14.9s\tremaining: 7.25s\n",
      "110:\tlearn: 1477.7641538\ttotal: 16.3s\tremaining: 5.74s\n",
      "120:\tlearn: 1469.3820240\ttotal: 17.8s\tremaining: 4.28s\n",
      "130:\tlearn: 1461.3371154\ttotal: 19.4s\tremaining: 2.82s\n",
      "140:\tlearn: 1453.4702325\ttotal: 20.8s\tremaining: 1.33s\n",
      "149:\tlearn: 1447.4539376\ttotal: 22.2s\tremaining: 0us\n",
      "0:\tlearn: 3393.7862340\ttotal: 109ms\tremaining: 16.3s\n",
      "10:\tlearn: 2223.1355084\ttotal: 1.7s\tremaining: 21.5s\n",
      "20:\tlearn: 1837.6609184\ttotal: 3.19s\tremaining: 19.6s\n",
      "30:\tlearn: 1681.3543423\ttotal: 4.69s\tremaining: 18s\n",
      "40:\tlearn: 1614.7990824\ttotal: 6.18s\tremaining: 16.4s\n",
      "50:\tlearn: 1578.4614745\ttotal: 7.67s\tremaining: 14.9s\n",
      "60:\tlearn: 1552.3369697\ttotal: 9.17s\tremaining: 13.4s\n",
      "70:\tlearn: 1533.2750723\ttotal: 10.7s\tremaining: 11.9s\n",
      "80:\tlearn: 1517.7013485\ttotal: 12.2s\tremaining: 10.4s\n",
      "90:\tlearn: 1503.8981040\ttotal: 13.6s\tremaining: 8.79s\n",
      "100:\tlearn: 1488.9420142\ttotal: 15s\tremaining: 7.3s\n",
      "110:\tlearn: 1479.7617618\ttotal: 16.5s\tremaining: 5.81s\n",
      "120:\tlearn: 1470.7609871\ttotal: 18s\tremaining: 4.32s\n",
      "130:\tlearn: 1463.7803546\ttotal: 19.4s\tremaining: 2.82s\n",
      "140:\tlearn: 1456.8187654\ttotal: 21s\tremaining: 1.34s\n",
      "149:\tlearn: 1450.9375360\ttotal: 22.3s\tremaining: 0us\n",
      "0:\tlearn: 3395.3637404\ttotal: 38.7ms\tremaining: 5.77s\n",
      "10:\tlearn: 2236.5451392\ttotal: 1.53s\tremaining: 19.3s\n",
      "20:\tlearn: 1840.3670359\ttotal: 3.02s\tremaining: 18.5s\n",
      "30:\tlearn: 1678.7634228\ttotal: 4.42s\tremaining: 17s\n",
      "40:\tlearn: 1613.0277550\ttotal: 5.91s\tremaining: 15.7s\n",
      "50:\tlearn: 1572.2629865\ttotal: 7.4s\tremaining: 14.4s\n",
      "60:\tlearn: 1545.9473858\ttotal: 9s\tremaining: 13.1s\n",
      "70:\tlearn: 1527.9942413\ttotal: 10.7s\tremaining: 11.9s\n",
      "80:\tlearn: 1512.9394942\ttotal: 12.1s\tremaining: 10.3s\n",
      "90:\tlearn: 1502.3002566\ttotal: 13.6s\tremaining: 8.8s\n",
      "100:\tlearn: 1491.9260277\ttotal: 15s\tremaining: 7.27s\n",
      "110:\tlearn: 1480.1405713\ttotal: 16.6s\tremaining: 5.82s\n",
      "120:\tlearn: 1470.2554699\ttotal: 18.1s\tremaining: 4.33s\n",
      "130:\tlearn: 1463.1738140\ttotal: 19.6s\tremaining: 2.84s\n",
      "140:\tlearn: 1456.7795463\ttotal: 21.1s\tremaining: 1.34s\n",
      "149:\tlearn: 1451.2798246\ttotal: 22.4s\tremaining: 0us\n",
      "0:\tlearn: 3386.7377643\ttotal: 64.3ms\tremaining: 9.59s\n",
      "10:\tlearn: 2219.0992243\ttotal: 1.66s\tremaining: 21s\n",
      "20:\tlearn: 1831.7127597\ttotal: 3.15s\tremaining: 19.4s\n",
      "30:\tlearn: 1674.4804644\ttotal: 4.65s\tremaining: 17.8s\n",
      "40:\tlearn: 1608.6297261\ttotal: 6.14s\tremaining: 16.3s\n",
      "50:\tlearn: 1569.4883694\ttotal: 7.73s\tremaining: 15s\n",
      "60:\tlearn: 1545.2104441\ttotal: 9.23s\tremaining: 13.5s\n",
      "70:\tlearn: 1526.0458195\ttotal: 10.7s\tremaining: 11.9s\n",
      "80:\tlearn: 1510.9371255\ttotal: 12.3s\tremaining: 10.5s\n",
      "90:\tlearn: 1498.7251386\ttotal: 13.7s\tremaining: 8.89s\n",
      "100:\tlearn: 1485.8069177\ttotal: 15.2s\tremaining: 7.37s\n",
      "110:\tlearn: 1474.6825148\ttotal: 16.7s\tremaining: 5.87s\n",
      "120:\tlearn: 1466.0583767\ttotal: 18.1s\tremaining: 4.34s\n",
      "130:\tlearn: 1458.7485843\ttotal: 19.7s\tremaining: 2.85s\n",
      "140:\tlearn: 1451.1941543\ttotal: 21.2s\tremaining: 1.35s\n",
      "149:\tlearn: 1445.1132215\ttotal: 22.5s\tremaining: 0us\n",
      "0:\tlearn: 3392.7501480\ttotal: 108ms\tremaining: 16s\n",
      "10:\tlearn: 2234.8445290\ttotal: 1.6s\tremaining: 20.3s\n",
      "20:\tlearn: 1840.5227902\ttotal: 3.09s\tremaining: 19s\n",
      "30:\tlearn: 1678.7670221\ttotal: 4.49s\tremaining: 17.2s\n",
      "40:\tlearn: 1612.3268777\ttotal: 5.99s\tremaining: 15.9s\n",
      "50:\tlearn: 1572.7432271\ttotal: 7.47s\tremaining: 14.5s\n",
      "60:\tlearn: 1547.4016160\ttotal: 8.88s\tremaining: 13s\n",
      "70:\tlearn: 1530.3384688\ttotal: 10.4s\tremaining: 11.5s\n",
      "80:\tlearn: 1515.6761412\ttotal: 11.9s\tremaining: 10.1s\n",
      "90:\tlearn: 1501.0301789\ttotal: 13.4s\tremaining: 8.66s\n",
      "100:\tlearn: 1488.4567369\ttotal: 14.8s\tremaining: 7.18s\n",
      "110:\tlearn: 1477.0247092\ttotal: 16.3s\tremaining: 5.71s\n",
      "120:\tlearn: 1469.3706271\ttotal: 17.8s\tremaining: 4.27s\n",
      "130:\tlearn: 1462.4022197\ttotal: 19.3s\tremaining: 2.8s\n",
      "140:\tlearn: 1454.3402808\ttotal: 20.8s\tremaining: 1.33s\n",
      "149:\tlearn: 1448.1883452\ttotal: 22.1s\tremaining: 0us\n",
      "0:\tlearn: 2664.3631157\ttotal: 50ms\tremaining: 7.45s\n",
      "10:\tlearn: 1597.3507934\ttotal: 1.64s\tremaining: 20.7s\n",
      "20:\tlearn: 1516.0798985\ttotal: 3.23s\tremaining: 19.8s\n",
      "30:\tlearn: 1473.2863144\ttotal: 4.72s\tremaining: 18.1s\n",
      "40:\tlearn: 1446.0363005\ttotal: 6.23s\tremaining: 16.6s\n",
      "50:\tlearn: 1428.1552081\ttotal: 7.72s\tremaining: 15s\n",
      "60:\tlearn: 1412.5847243\ttotal: 9.21s\tremaining: 13.4s\n",
      "70:\tlearn: 1401.9188704\ttotal: 10.7s\tremaining: 11.9s\n",
      "80:\tlearn: 1393.2881046\ttotal: 12.2s\tremaining: 10.4s\n",
      "90:\tlearn: 1381.6091924\ttotal: 13.7s\tremaining: 8.88s\n",
      "100:\tlearn: 1375.9053865\ttotal: 15.2s\tremaining: 7.37s\n",
      "110:\tlearn: 1369.1578242\ttotal: 16.7s\tremaining: 5.86s\n",
      "120:\tlearn: 1362.5528457\ttotal: 18.1s\tremaining: 4.33s\n",
      "130:\tlearn: 1356.7041417\ttotal: 19.6s\tremaining: 2.84s\n",
      "140:\tlearn: 1352.4320449\ttotal: 21.1s\tremaining: 1.34s\n",
      "149:\tlearn: 1347.5902791\ttotal: 22.4s\tremaining: 0us\n",
      "0:\tlearn: 2664.0280334\ttotal: 61.4ms\tremaining: 9.15s\n",
      "10:\tlearn: 1584.4484026\ttotal: 1.65s\tremaining: 20.9s\n",
      "20:\tlearn: 1511.8020337\ttotal: 3.15s\tremaining: 19.3s\n",
      "30:\tlearn: 1471.2679124\ttotal: 4.64s\tremaining: 17.8s\n",
      "40:\tlearn: 1441.3254098\ttotal: 6.14s\tremaining: 16.3s\n",
      "50:\tlearn: 1423.9620909\ttotal: 7.63s\tremaining: 14.8s\n",
      "60:\tlearn: 1408.7728031\ttotal: 9.12s\tremaining: 13.3s\n",
      "70:\tlearn: 1396.8646435\ttotal: 10.6s\tremaining: 11.8s\n",
      "80:\tlearn: 1389.5382037\ttotal: 12s\tremaining: 10.2s\n",
      "90:\tlearn: 1382.4897014\ttotal: 13.5s\tremaining: 8.76s\n",
      "100:\tlearn: 1374.0824365\ttotal: 15s\tremaining: 7.28s\n",
      "110:\tlearn: 1367.2556351\ttotal: 16.5s\tremaining: 5.79s\n",
      "120:\tlearn: 1361.2501714\ttotal: 18s\tremaining: 4.31s\n",
      "130:\tlearn: 1355.2051212\ttotal: 19.6s\tremaining: 2.84s\n",
      "140:\tlearn: 1350.4077879\ttotal: 21.1s\tremaining: 1.34s\n",
      "149:\tlearn: 1346.2437564\ttotal: 22.4s\tremaining: 0us\n",
      "0:\tlearn: 2665.5389152\ttotal: 55.8ms\tremaining: 8.32s\n",
      "10:\tlearn: 1589.2003556\ttotal: 1.65s\tremaining: 20.8s\n",
      "20:\tlearn: 1513.1977718\ttotal: 3.04s\tremaining: 18.7s\n",
      "30:\tlearn: 1475.4550807\ttotal: 4.53s\tremaining: 17.4s\n",
      "40:\tlearn: 1450.2674831\ttotal: 6.02s\tremaining: 16s\n",
      "50:\tlearn: 1430.5021995\ttotal: 7.51s\tremaining: 14.6s\n",
      "60:\tlearn: 1416.2483580\ttotal: 8.91s\tremaining: 13s\n",
      "70:\tlearn: 1404.9034583\ttotal: 10.3s\tremaining: 11.5s\n",
      "80:\tlearn: 1393.1585609\ttotal: 11.9s\tremaining: 10.1s\n",
      "90:\tlearn: 1383.7729316\ttotal: 13.5s\tremaining: 8.75s\n",
      "100:\tlearn: 1375.9432015\ttotal: 15s\tremaining: 7.27s\n",
      "110:\tlearn: 1369.6720481\ttotal: 16.5s\tremaining: 5.79s\n",
      "120:\tlearn: 1364.9006864\ttotal: 17.9s\tremaining: 4.28s\n",
      "130:\tlearn: 1359.4340045\ttotal: 19.4s\tremaining: 2.81s\n",
      "140:\tlearn: 1353.3372420\ttotal: 20.8s\tremaining: 1.32s\n",
      "149:\tlearn: 1348.7273684\ttotal: 22.1s\tremaining: 0us\n",
      "0:\tlearn: 2653.8539992\ttotal: 39ms\tremaining: 5.81s\n",
      "10:\tlearn: 1589.4742537\ttotal: 1.73s\tremaining: 21.8s\n",
      "20:\tlearn: 1515.4412609\ttotal: 3.32s\tremaining: 20.4s\n",
      "30:\tlearn: 1472.3483617\ttotal: 4.82s\tremaining: 18.5s\n",
      "40:\tlearn: 1444.2259068\ttotal: 6.31s\tremaining: 16.8s\n",
      "50:\tlearn: 1421.9988714\ttotal: 7.8s\tremaining: 15.1s\n",
      "60:\tlearn: 1410.3305881\ttotal: 9.3s\tremaining: 13.6s\n",
      "70:\tlearn: 1399.7813650\ttotal: 10.8s\tremaining: 12s\n",
      "80:\tlearn: 1388.4393344\ttotal: 12.3s\tremaining: 10.5s\n",
      "90:\tlearn: 1380.0339845\ttotal: 13.8s\tremaining: 8.93s\n",
      "100:\tlearn: 1371.6670393\ttotal: 15.3s\tremaining: 7.41s\n",
      "110:\tlearn: 1365.5219497\ttotal: 16.8s\tremaining: 5.89s\n",
      "120:\tlearn: 1358.5540870\ttotal: 18.3s\tremaining: 4.38s\n",
      "130:\tlearn: 1353.2684596\ttotal: 19.8s\tremaining: 2.87s\n",
      "140:\tlearn: 1348.1182583\ttotal: 21.3s\tremaining: 1.36s\n",
      "149:\tlearn: 1343.7545863\ttotal: 22.6s\tremaining: 0us\n",
      "0:\tlearn: 2659.7474184\ttotal: 67.7ms\tremaining: 10.1s\n",
      "10:\tlearn: 1583.6309280\ttotal: 1.66s\tremaining: 21s\n",
      "20:\tlearn: 1507.5197926\ttotal: 3.15s\tremaining: 19.4s\n",
      "30:\tlearn: 1467.8726641\ttotal: 4.64s\tremaining: 17.8s\n",
      "40:\tlearn: 1443.5393264\ttotal: 6.04s\tremaining: 16.1s\n",
      "50:\tlearn: 1428.5068363\ttotal: 7.63s\tremaining: 14.8s\n",
      "60:\tlearn: 1414.9976558\ttotal: 9.12s\tremaining: 13.3s\n",
      "70:\tlearn: 1402.2485129\ttotal: 10.6s\tremaining: 11.8s\n",
      "80:\tlearn: 1392.6939892\ttotal: 12s\tremaining: 10.2s\n",
      "90:\tlearn: 1383.6714660\ttotal: 13.4s\tremaining: 8.7s\n",
      "100:\tlearn: 1374.4211347\ttotal: 14.9s\tremaining: 7.23s\n",
      "110:\tlearn: 1366.5650376\ttotal: 16.4s\tremaining: 5.76s\n",
      "120:\tlearn: 1360.5823310\ttotal: 17.8s\tremaining: 4.27s\n",
      "130:\tlearn: 1354.1033495\ttotal: 19.4s\tremaining: 2.81s\n",
      "140:\tlearn: 1349.6886951\ttotal: 20.9s\tremaining: 1.33s\n",
      "149:\tlearn: 1345.7322286\ttotal: 22.2s\tremaining: 0us\n",
      "0:\tlearn: 3359.7005795\ttotal: 215ms\tremaining: 32.1s\n",
      "10:\tlearn: 2029.8312964\ttotal: 2.82s\tremaining: 35.6s\n",
      "20:\tlearn: 1633.4870963\ttotal: 5.4s\tremaining: 33.2s\n",
      "30:\tlearn: 1502.7562973\ttotal: 8s\tremaining: 30.7s\n",
      "40:\tlearn: 1453.2365228\ttotal: 10.6s\tremaining: 28.1s\n",
      "50:\tlearn: 1423.2259569\ttotal: 13.3s\tremaining: 25.8s\n",
      "60:\tlearn: 1400.0578115\ttotal: 16s\tremaining: 23.3s\n",
      "70:\tlearn: 1382.8682754\ttotal: 18.7s\tremaining: 20.8s\n",
      "80:\tlearn: 1367.3778114\ttotal: 21.3s\tremaining: 18.1s\n",
      "90:\tlearn: 1355.7400253\ttotal: 23.9s\tremaining: 15.5s\n",
      "100:\tlearn: 1347.1637428\ttotal: 26.6s\tremaining: 12.9s\n",
      "110:\tlearn: 1338.7840217\ttotal: 29.2s\tremaining: 10.3s\n",
      "120:\tlearn: 1331.1117573\ttotal: 31.8s\tremaining: 7.63s\n",
      "130:\tlearn: 1321.8773837\ttotal: 34.5s\tremaining: 5.01s\n",
      "140:\tlearn: 1315.1534799\ttotal: 37.2s\tremaining: 2.38s\n",
      "149:\tlearn: 1307.4321031\ttotal: 39.7s\tremaining: 0us\n",
      "0:\tlearn: 3359.8991128\ttotal: 133ms\tremaining: 19.7s\n",
      "10:\tlearn: 2042.1287571\ttotal: 2.82s\tremaining: 35.6s\n",
      "20:\tlearn: 1630.5735606\ttotal: 5.33s\tremaining: 32.7s\n",
      "30:\tlearn: 1499.3805489\ttotal: 7.91s\tremaining: 30.4s\n",
      "40:\tlearn: 1450.1356282\ttotal: 10.6s\tremaining: 28.2s\n",
      "50:\tlearn: 1421.3656105\ttotal: 13.2s\tremaining: 25.6s\n",
      "60:\tlearn: 1400.4135992\ttotal: 15.8s\tremaining: 23s\n",
      "70:\tlearn: 1384.8809053\ttotal: 18.4s\tremaining: 20.5s\n",
      "80:\tlearn: 1371.2166452\ttotal: 21.2s\tremaining: 18s\n",
      "90:\tlearn: 1357.7379655\ttotal: 23.9s\tremaining: 15.5s\n",
      "100:\tlearn: 1348.0051257\ttotal: 26.6s\tremaining: 12.9s\n",
      "110:\tlearn: 1338.3861001\ttotal: 29.2s\tremaining: 10.2s\n",
      "120:\tlearn: 1330.2810050\ttotal: 31.8s\tremaining: 7.61s\n",
      "130:\tlearn: 1322.7824762\ttotal: 34.4s\tremaining: 5s\n",
      "140:\tlearn: 1315.8206268\ttotal: 37.1s\tremaining: 2.37s\n",
      "149:\tlearn: 1307.0058488\ttotal: 39.4s\tremaining: 0us\n",
      "0:\tlearn: 3360.8637429\ttotal: 178ms\tremaining: 26.5s\n",
      "10:\tlearn: 2023.5293925\ttotal: 2.96s\tremaining: 37.4s\n",
      "20:\tlearn: 1630.0327479\ttotal: 5.56s\tremaining: 34.1s\n",
      "30:\tlearn: 1499.2036894\ttotal: 8.25s\tremaining: 31.7s\n",
      "40:\tlearn: 1449.8556745\ttotal: 10.8s\tremaining: 28.8s\n",
      "50:\tlearn: 1421.1513004\ttotal: 13.4s\tremaining: 26.1s\n",
      "60:\tlearn: 1400.5236932\ttotal: 16.2s\tremaining: 23.7s\n",
      "70:\tlearn: 1381.5806625\ttotal: 18.8s\tremaining: 20.9s\n",
      "80:\tlearn: 1364.7780290\ttotal: 21.5s\tremaining: 18.3s\n",
      "90:\tlearn: 1353.4610572\ttotal: 24.2s\tremaining: 15.7s\n",
      "100:\tlearn: 1343.2811367\ttotal: 26.9s\tremaining: 13.1s\n",
      "110:\tlearn: 1335.6643592\ttotal: 29.4s\tremaining: 10.3s\n",
      "120:\tlearn: 1328.1020822\ttotal: 32s\tremaining: 7.67s\n",
      "130:\tlearn: 1317.6691172\ttotal: 34.7s\tremaining: 5.03s\n",
      "140:\tlearn: 1309.6087157\ttotal: 37.3s\tremaining: 2.38s\n",
      "149:\tlearn: 1302.9041695\ttotal: 39.7s\tremaining: 0us\n",
      "0:\tlearn: 3354.0522009\ttotal: 193ms\tremaining: 28.8s\n",
      "10:\tlearn: 2036.0653430\ttotal: 2.88s\tremaining: 36.4s\n",
      "20:\tlearn: 1627.7367203\ttotal: 5.47s\tremaining: 33.6s\n",
      "30:\tlearn: 1498.8571797\ttotal: 8.07s\tremaining: 31s\n",
      "40:\tlearn: 1447.1897613\ttotal: 10.7s\tremaining: 28.3s\n",
      "50:\tlearn: 1417.5381621\ttotal: 13.4s\tremaining: 25.9s\n",
      "60:\tlearn: 1397.9593296\ttotal: 16s\tremaining: 23.4s\n",
      "70:\tlearn: 1380.4011887\ttotal: 18.6s\tremaining: 20.7s\n",
      "80:\tlearn: 1366.1879690\ttotal: 21.1s\tremaining: 18s\n",
      "90:\tlearn: 1353.9955016\ttotal: 23.8s\tremaining: 15.4s\n",
      "100:\tlearn: 1342.5205591\ttotal: 26.4s\tremaining: 12.8s\n",
      "110:\tlearn: 1332.2988658\ttotal: 29.1s\tremaining: 10.2s\n",
      "120:\tlearn: 1324.9286650\ttotal: 31.8s\tremaining: 7.63s\n",
      "130:\tlearn: 1318.3060356\ttotal: 34.5s\tremaining: 5.01s\n",
      "140:\tlearn: 1311.9284827\ttotal: 37.2s\tremaining: 2.37s\n",
      "149:\tlearn: 1306.4702126\ttotal: 39.5s\tremaining: 0us\n",
      "0:\tlearn: 3358.2010795\ttotal: 267ms\tremaining: 39.7s\n",
      "10:\tlearn: 2034.6690606\ttotal: 2.87s\tremaining: 36.3s\n",
      "20:\tlearn: 1626.6198334\ttotal: 5.46s\tremaining: 33.5s\n",
      "30:\tlearn: 1501.9625281\ttotal: 8.04s\tremaining: 30.9s\n",
      "40:\tlearn: 1453.0127820\ttotal: 10.6s\tremaining: 28.3s\n",
      "50:\tlearn: 1423.9551681\ttotal: 13.2s\tremaining: 25.7s\n",
      "60:\tlearn: 1401.2359994\ttotal: 15.9s\tremaining: 23.2s\n",
      "70:\tlearn: 1382.7103809\ttotal: 18.6s\tremaining: 20.7s\n",
      "80:\tlearn: 1367.8455466\ttotal: 21.4s\tremaining: 18.2s\n",
      "90:\tlearn: 1354.5195767\ttotal: 24s\tremaining: 15.6s\n",
      "100:\tlearn: 1344.9282406\ttotal: 26.6s\tremaining: 12.9s\n",
      "110:\tlearn: 1336.0415955\ttotal: 29.2s\tremaining: 10.3s\n",
      "120:\tlearn: 1327.4151650\ttotal: 31.9s\tremaining: 7.64s\n",
      "130:\tlearn: 1319.8976030\ttotal: 34.6s\tremaining: 5.02s\n",
      "140:\tlearn: 1309.1871299\ttotal: 37.3s\tremaining: 2.38s\n",
      "149:\tlearn: 1301.2833429\ttotal: 39.6s\tremaining: 0us\n",
      "0:\tlearn: 2482.3192927\ttotal: 232ms\tremaining: 34.5s\n",
      "10:\tlearn: 1432.6045678\ttotal: 2.93s\tremaining: 37.1s\n",
      "20:\tlearn: 1365.1852629\ttotal: 5.63s\tremaining: 34.6s\n",
      "30:\tlearn: 1318.5094684\ttotal: 8.31s\tremaining: 31.9s\n",
      "40:\tlearn: 1290.9067887\ttotal: 10.9s\tremaining: 29s\n",
      "50:\tlearn: 1272.1489760\ttotal: 13.6s\tremaining: 26.4s\n",
      "60:\tlearn: 1257.6635661\ttotal: 16.2s\tremaining: 23.6s\n",
      "70:\tlearn: 1240.4080206\ttotal: 18.8s\tremaining: 20.9s\n",
      "80:\tlearn: 1223.4994791\ttotal: 21.6s\tremaining: 18.4s\n",
      "90:\tlearn: 1210.6039433\ttotal: 24.3s\tremaining: 15.7s\n",
      "100:\tlearn: 1197.4599874\ttotal: 27s\tremaining: 13.1s\n",
      "110:\tlearn: 1186.4676778\ttotal: 29.7s\tremaining: 10.4s\n",
      "120:\tlearn: 1178.0492126\ttotal: 32.3s\tremaining: 7.73s\n",
      "130:\tlearn: 1168.6476059\ttotal: 35s\tremaining: 5.07s\n",
      "140:\tlearn: 1161.2849841\ttotal: 37.6s\tremaining: 2.4s\n",
      "149:\tlearn: 1154.1876095\ttotal: 40.1s\tremaining: 0us\n",
      "0:\tlearn: 2487.9089133\ttotal: 217ms\tremaining: 32.3s\n",
      "10:\tlearn: 1440.5952267\ttotal: 2.91s\tremaining: 36.8s\n",
      "20:\tlearn: 1370.9151359\ttotal: 5.51s\tremaining: 33.9s\n",
      "30:\tlearn: 1327.1147537\ttotal: 8.11s\tremaining: 31.1s\n",
      "40:\tlearn: 1293.4683717\ttotal: 10.8s\tremaining: 28.7s\n",
      "50:\tlearn: 1270.4226019\ttotal: 13.5s\tremaining: 26.2s\n",
      "60:\tlearn: 1252.6355546\ttotal: 16.1s\tremaining: 23.5s\n",
      "70:\tlearn: 1238.9035452\ttotal: 18.7s\tremaining: 20.8s\n",
      "80:\tlearn: 1223.8173459\ttotal: 21.4s\tremaining: 18.2s\n",
      "90:\tlearn: 1213.8295735\ttotal: 24.1s\tremaining: 15.6s\n",
      "100:\tlearn: 1202.4395272\ttotal: 26.8s\tremaining: 13s\n",
      "110:\tlearn: 1194.9098063\ttotal: 29.4s\tremaining: 10.3s\n",
      "120:\tlearn: 1186.2830499\ttotal: 32.1s\tremaining: 7.68s\n",
      "130:\tlearn: 1177.2255115\ttotal: 34.7s\tremaining: 5.03s\n",
      "140:\tlearn: 1169.9293826\ttotal: 37.2s\tremaining: 2.38s\n",
      "149:\tlearn: 1165.4683128\ttotal: 39.5s\tremaining: 0us\n",
      "0:\tlearn: 2486.2286198\ttotal: 202ms\tremaining: 30.1s\n",
      "10:\tlearn: 1437.3645146\ttotal: 2.89s\tremaining: 36.6s\n",
      "20:\tlearn: 1364.0975108\ttotal: 5.58s\tremaining: 34.3s\n",
      "30:\tlearn: 1326.5897668\ttotal: 8.27s\tremaining: 31.7s\n",
      "40:\tlearn: 1295.0611911\ttotal: 11s\tremaining: 29.1s\n",
      "50:\tlearn: 1270.5959311\ttotal: 13.7s\tremaining: 26.5s\n",
      "60:\tlearn: 1251.6086559\ttotal: 16.5s\tremaining: 24.1s\n",
      "70:\tlearn: 1238.3908017\ttotal: 19.2s\tremaining: 21.4s\n",
      "80:\tlearn: 1228.1101534\ttotal: 21.8s\tremaining: 18.6s\n",
      "90:\tlearn: 1220.1819841\ttotal: 24.5s\tremaining: 15.9s\n",
      "100:\tlearn: 1209.0924387\ttotal: 27.2s\tremaining: 13.2s\n",
      "110:\tlearn: 1199.9677789\ttotal: 29.9s\tremaining: 10.5s\n",
      "120:\tlearn: 1190.9712246\ttotal: 32.4s\tremaining: 7.78s\n",
      "130:\tlearn: 1181.5199194\ttotal: 35.1s\tremaining: 5.09s\n",
      "140:\tlearn: 1174.0493068\ttotal: 37.8s\tremaining: 2.41s\n",
      "149:\tlearn: 1168.1701016\ttotal: 40.1s\tremaining: 0us\n",
      "0:\tlearn: 2484.1857729\ttotal: 143ms\tremaining: 21.3s\n",
      "10:\tlearn: 1432.2449036\ttotal: 2.93s\tremaining: 37s\n",
      "20:\tlearn: 1368.9900933\ttotal: 5.62s\tremaining: 34.5s\n",
      "30:\tlearn: 1330.6027873\ttotal: 8.11s\tremaining: 31.1s\n",
      "40:\tlearn: 1297.3431047\ttotal: 10.7s\tremaining: 28.5s\n",
      "50:\tlearn: 1274.9308599\ttotal: 13.4s\tremaining: 26s\n",
      "60:\tlearn: 1261.6542734\ttotal: 16s\tremaining: 23.3s\n",
      "70:\tlearn: 1238.9259061\ttotal: 18.7s\tremaining: 20.8s\n",
      "80:\tlearn: 1224.6268366\ttotal: 21.3s\tremaining: 18.1s\n",
      "90:\tlearn: 1211.7358494\ttotal: 24s\tremaining: 15.5s\n",
      "100:\tlearn: 1202.9763735\ttotal: 26.6s\tremaining: 12.9s\n",
      "110:\tlearn: 1190.5960439\ttotal: 29.2s\tremaining: 10.2s\n",
      "120:\tlearn: 1177.3146635\ttotal: 31.8s\tremaining: 7.61s\n",
      "130:\tlearn: 1170.4812469\ttotal: 34.2s\tremaining: 4.97s\n",
      "140:\tlearn: 1162.9497157\ttotal: 36.7s\tremaining: 2.34s\n",
      "149:\tlearn: 1156.0944180\ttotal: 39s\tremaining: 0us\n",
      "0:\tlearn: 2479.9017182\ttotal: 143ms\tremaining: 21.3s\n",
      "10:\tlearn: 1432.8206149\ttotal: 2.73s\tremaining: 34.6s\n",
      "20:\tlearn: 1358.5764687\ttotal: 5.33s\tremaining: 32.7s\n",
      "30:\tlearn: 1315.3337908\ttotal: 7.92s\tremaining: 30.4s\n",
      "40:\tlearn: 1286.0357782\ttotal: 10.5s\tremaining: 27.9s\n",
      "50:\tlearn: 1262.9983802\ttotal: 13.2s\tremaining: 25.6s\n",
      "60:\tlearn: 1244.3714770\ttotal: 15.8s\tremaining: 23s\n",
      "70:\tlearn: 1231.8661052\ttotal: 18.4s\tremaining: 20.5s\n",
      "80:\tlearn: 1218.2655887\ttotal: 21.1s\tremaining: 18s\n",
      "90:\tlearn: 1205.1844267\ttotal: 23.8s\tremaining: 15.4s\n",
      "100:\tlearn: 1195.5951172\ttotal: 26.3s\tremaining: 12.7s\n",
      "110:\tlearn: 1188.3119353\ttotal: 29s\tremaining: 10.2s\n",
      "120:\tlearn: 1178.6171629\ttotal: 31.7s\tremaining: 7.59s\n",
      "130:\tlearn: 1169.7470366\ttotal: 34.2s\tremaining: 4.97s\n",
      "140:\tlearn: 1162.1994600\ttotal: 36.8s\tremaining: 2.35s\n",
      "149:\tlearn: 1156.2324931\ttotal: 39.2s\tremaining: 0us\n",
      "0:\tlearn: 2473.7807583\ttotal: 308ms\tremaining: 45.9s\n",
      "10:\tlearn: 1433.1537645\ttotal: 3.42s\tremaining: 43.2s\n",
      "20:\tlearn: 1365.3044920\ttotal: 6.6s\tremaining: 40.5s\n",
      "30:\tlearn: 1331.0306842\ttotal: 9.6s\tremaining: 36.8s\n",
      "40:\tlearn: 1306.4042672\ttotal: 12.6s\tremaining: 33.5s\n",
      "50:\tlearn: 1280.6805024\ttotal: 15.9s\tremaining: 30.8s\n",
      "60:\tlearn: 1262.8732544\ttotal: 19s\tremaining: 27.7s\n",
      "70:\tlearn: 1249.1136760\ttotal: 22.1s\tremaining: 24.6s\n",
      "80:\tlearn: 1237.9980013\ttotal: 25.3s\tremaining: 21.5s\n",
      "90:\tlearn: 1226.4773597\ttotal: 28.5s\tremaining: 18.5s\n",
      "100:\tlearn: 1215.8257097\ttotal: 31.7s\tremaining: 15.4s\n",
      "110:\tlearn: 1206.7106548\ttotal: 34.8s\tremaining: 12.2s\n",
      "120:\tlearn: 1196.8712360\ttotal: 38s\tremaining: 9.1s\n",
      "130:\tlearn: 1189.8001960\ttotal: 41.1s\tremaining: 5.97s\n",
      "140:\tlearn: 1182.8211662\ttotal: 44.2s\tremaining: 2.82s\n",
      "149:\tlearn: 1177.9489048\ttotal: 47s\tremaining: 0us\n",
      "0:\tlearn: 2473.7807583\ttotal: 312ms\tremaining: 46.5s\n",
      "10:\tlearn: 1433.1537645\ttotal: 3.4s\tremaining: 43s\n",
      "20:\tlearn: 1365.3044920\ttotal: 6.4s\tremaining: 39.3s\n",
      "30:\tlearn: 1331.0306842\ttotal: 9.5s\tremaining: 36.5s\n",
      "40:\tlearn: 1306.4042672\ttotal: 12.6s\tremaining: 33.5s\n",
      "50:\tlearn: 1280.6805024\ttotal: 15.6s\tremaining: 30.3s\n",
      "60:\tlearn: 1262.8732544\ttotal: 18.6s\tremaining: 27.1s\n",
      "70:\tlearn: 1249.1136760\ttotal: 21.7s\tremaining: 24.1s\n",
      "80:\tlearn: 1237.9980013\ttotal: 24.7s\tremaining: 21s\n",
      "90:\tlearn: 1226.4773597\ttotal: 27.6s\tremaining: 17.9s\n",
      "100:\tlearn: 1215.8257097\ttotal: 30.5s\tremaining: 14.8s\n",
      "110:\tlearn: 1206.7106548\ttotal: 33.4s\tremaining: 11.8s\n",
      "120:\tlearn: 1196.8712360\ttotal: 36.4s\tremaining: 8.73s\n",
      "130:\tlearn: 1189.8001960\ttotal: 39.4s\tremaining: 5.72s\n",
      "140:\tlearn: 1182.8211662\ttotal: 42.5s\tremaining: 2.71s\n",
      "149:\tlearn: 1177.9489048\ttotal: 45.3s\tremaining: 0us\n",
      "\n",
      "========================================================\n",
      " Модель CatBoostRegressor cat\n",
      "========================================================\n",
      "\n",
      " Время подбора параметров:\n",
      " 691.1303554028273\n",
      "\n",
      " Лучший результат по всем параметрам:\n",
      " 1314.2119593620107\n",
      "\n",
      " Лучшие параметры модели:\n",
      " {'depth': 10, 'learning_rate': 0.5}\n",
      "\n",
      " ========================================================\n",
      "\n",
      " Время обучения на лучшей модели:\n",
      " 47.238329239189625\n",
      "\n",
      " Время предсказания на лучшей модели:\n",
      " 0.11701374500989914\n",
      "\n",
      " RMSE на валидации:\n",
      " 1311.3251684801237\n",
      "\n",
      " ========================================================\n"
     ]
    },
    {
     "data": {
      "text/html": [
       "<div>\n",
       "<style scoped>\n",
       "    .dataframe tbody tr th:only-of-type {\n",
       "        vertical-align: middle;\n",
       "    }\n",
       "\n",
       "    .dataframe tbody tr th {\n",
       "        vertical-align: top;\n",
       "    }\n",
       "\n",
       "    .dataframe thead th {\n",
       "        text-align: right;\n",
       "    }\n",
       "</style>\n",
       "<table border=\"1\" class=\"dataframe\">\n",
       "  <thead>\n",
       "    <tr style=\"text-align: right;\">\n",
       "      <th></th>\n",
       "      <th>Алгоритм</th>\n",
       "      <th>Время обучения, с</th>\n",
       "      <th>Время предсказания, с</th>\n",
       "      <th>RMSE на валидации, евро</th>\n",
       "    </tr>\n",
       "  </thead>\n",
       "  <tbody>\n",
       "    <tr>\n",
       "      <td>0</td>\n",
       "      <td>LGBMRegressor</td>\n",
       "      <td>9.906</td>\n",
       "      <td>0.805</td>\n",
       "      <td>1300.76</td>\n",
       "    </tr>\n",
       "    <tr>\n",
       "      <td>1</td>\n",
       "      <td>CatBoostRegressor enc</td>\n",
       "      <td>27.623</td>\n",
       "      <td>0.015</td>\n",
       "      <td>1308.10</td>\n",
       "    </tr>\n",
       "    <tr>\n",
       "      <td>2</td>\n",
       "      <td>CatBoostRegressor cat</td>\n",
       "      <td>47.238</td>\n",
       "      <td>0.117</td>\n",
       "      <td>1311.33</td>\n",
       "    </tr>\n",
       "  </tbody>\n",
       "</table>\n",
       "</div>"
      ],
      "text/plain": [
       "                Алгоритм  Время обучения, с  Время предсказания, с  \\\n",
       "0          LGBMRegressor              9.906                  0.805   \n",
       "1  CatBoostRegressor enc             27.623                  0.015   \n",
       "2  CatBoostRegressor cat             47.238                  0.117   \n",
       "\n",
       "   RMSE на валидации, евро  \n",
       "0                  1300.76  \n",
       "1                  1308.10  \n",
       "2                  1311.33  "
      ]
     },
     "metadata": {},
     "output_type": "display_data"
    },
    {
     "name": "stdout",
     "output_type": "stream",
     "text": [
      "CPU times: user 10min 39s, sys: 1min 21s, total: 12min 1s\n",
      "Wall time: 12min 18s\n"
     ]
    }
   ],
   "source": [
    "%%time\n",
    "model_results = tuning_test_models('CatBoostRegressor cat', \n",
    "                                  CatBoostRegressor(cat_features=cat_features, random_state=12345, verbose=10, iterations=150), \n",
    "                                  {'depth' : [5, 10], 'learning_rate' : [0.1, 0.5]}, \n",
    "                                  features_train, \n",
    "                                  target_train,\n",
    "                                  features_valid, \n",
    "                                  target_valid)\n",
    "\n",
    "model_comparison = model_comparison.append(model_results, ignore_index=True)\n",
    "display(model_comparison)"
   ]
  },
  {
   "cell_type": "code",
   "execution_count": null,
   "metadata": {},
   "outputs": [],
   "source": []
  },
  {
   "cell_type": "code",
   "execution_count": 51,
   "metadata": {},
   "outputs": [
    {
     "name": "stdout",
     "output_type": "stream",
     "text": [
      "\n",
      "========================================================\n",
      " Модель XGBRegressor\n",
      "========================================================\n",
      "\n",
      " Время подбора параметров:\n",
      " 265.4662182070315\n",
      "\n",
      " Лучший результат по всем параметрам:\n",
      " 1397.3896466581812\n",
      "\n",
      " Лучшие параметры модели:\n",
      " {'learning_rate': 0.5, 'n_estimators': 200}\n",
      "\n",
      " ========================================================\n",
      "\n",
      " Время обучения на лучшей модели:\n",
      " 17.742915581911802\n",
      "\n",
      " Время предсказания на лучшей модели:\n",
      " 0.40184352546930313\n",
      "\n",
      " RMSE на валидации:\n",
      " 1397.1584909295216\n",
      "\n",
      " ========================================================\n"
     ]
    },
    {
     "data": {
      "text/html": [
       "<div>\n",
       "<style scoped>\n",
       "    .dataframe tbody tr th:only-of-type {\n",
       "        vertical-align: middle;\n",
       "    }\n",
       "\n",
       "    .dataframe tbody tr th {\n",
       "        vertical-align: top;\n",
       "    }\n",
       "\n",
       "    .dataframe thead th {\n",
       "        text-align: right;\n",
       "    }\n",
       "</style>\n",
       "<table border=\"1\" class=\"dataframe\">\n",
       "  <thead>\n",
       "    <tr style=\"text-align: right;\">\n",
       "      <th></th>\n",
       "      <th>Алгоритм</th>\n",
       "      <th>Время обучения, с</th>\n",
       "      <th>Время предсказания, с</th>\n",
       "      <th>RMSE на валидации, евро</th>\n",
       "    </tr>\n",
       "  </thead>\n",
       "  <tbody>\n",
       "    <tr>\n",
       "      <td>0</td>\n",
       "      <td>LGBMRegressor</td>\n",
       "      <td>9.906</td>\n",
       "      <td>0.805</td>\n",
       "      <td>1300.76</td>\n",
       "    </tr>\n",
       "    <tr>\n",
       "      <td>1</td>\n",
       "      <td>CatBoostRegressor enc</td>\n",
       "      <td>27.623</td>\n",
       "      <td>0.015</td>\n",
       "      <td>1308.10</td>\n",
       "    </tr>\n",
       "    <tr>\n",
       "      <td>2</td>\n",
       "      <td>CatBoostRegressor cat</td>\n",
       "      <td>47.238</td>\n",
       "      <td>0.117</td>\n",
       "      <td>1311.33</td>\n",
       "    </tr>\n",
       "    <tr>\n",
       "      <td>3</td>\n",
       "      <td>XGBRegressor</td>\n",
       "      <td>17.743</td>\n",
       "      <td>0.402</td>\n",
       "      <td>1397.16</td>\n",
       "    </tr>\n",
       "  </tbody>\n",
       "</table>\n",
       "</div>"
      ],
      "text/plain": [
       "                Алгоритм  Время обучения, с  Время предсказания, с  \\\n",
       "0          LGBMRegressor              9.906                  0.805   \n",
       "1  CatBoostRegressor enc             27.623                  0.015   \n",
       "2  CatBoostRegressor cat             47.238                  0.117   \n",
       "3           XGBRegressor             17.743                  0.402   \n",
       "\n",
       "   RMSE на валидации, евро  \n",
       "0                  1300.76  \n",
       "1                  1308.10  \n",
       "2                  1311.33  \n",
       "3                  1397.16  "
      ]
     },
     "metadata": {},
     "output_type": "display_data"
    },
    {
     "name": "stdout",
     "output_type": "stream",
     "text": [
      "CPU times: user 4min 39s, sys: 3.36 s, total: 4min 43s\n",
      "Wall time: 4min 43s\n"
     ]
    }
   ],
   "source": [
    "%%time\n",
    "model_results = tuning_test_models('XGBRegressor', \n",
    "                                  XGBRegressor(random_state=12345, objective = 'reg:squarederror'), \n",
    "                                  {'n_estimators' : [150, 200], 'learning_rate' : [0.1, 0.5]}, \n",
    "                                  features_train_enc, \n",
    "                                  target_train_enc,\n",
    "                                  features_valid_enc, \n",
    "                                  target_valid_enc)\n",
    "\n",
    "model_comparison = model_comparison.append(model_results, ignore_index=True)\n",
    "display(model_comparison)"
   ]
  },
  {
   "cell_type": "code",
   "execution_count": null,
   "metadata": {},
   "outputs": [],
   "source": []
  },
  {
   "cell_type": "code",
   "execution_count": 52,
   "metadata": {},
   "outputs": [
    {
     "name": "stdout",
     "output_type": "stream",
     "text": [
      "\n",
      "========================================================\n",
      " Модель RandomForestRegressor\n",
      "========================================================\n",
      "\n",
      " Время подбора параметров:\n",
      " 323.9229615777731\n",
      "\n",
      " Лучший результат по всем параметрам:\n",
      " 1325.2251781387242\n",
      "\n",
      " Лучшие параметры модели:\n",
      " {'max_depth': 18}\n",
      "\n",
      " ========================================================\n",
      "\n",
      " Время обучения на лучшей модели:\n",
      " 43.3012319765985\n",
      "\n",
      " Время предсказания на лучшей модели:\n",
      " 1.8777485899627209\n",
      "\n",
      " RMSE на валидации:\n",
      " 1317.156321310183\n",
      "\n",
      " ========================================================\n"
     ]
    },
    {
     "data": {
      "text/html": [
       "<div>\n",
       "<style scoped>\n",
       "    .dataframe tbody tr th:only-of-type {\n",
       "        vertical-align: middle;\n",
       "    }\n",
       "\n",
       "    .dataframe tbody tr th {\n",
       "        vertical-align: top;\n",
       "    }\n",
       "\n",
       "    .dataframe thead th {\n",
       "        text-align: right;\n",
       "    }\n",
       "</style>\n",
       "<table border=\"1\" class=\"dataframe\">\n",
       "  <thead>\n",
       "    <tr style=\"text-align: right;\">\n",
       "      <th></th>\n",
       "      <th>Алгоритм</th>\n",
       "      <th>Время обучения, с</th>\n",
       "      <th>Время предсказания, с</th>\n",
       "      <th>RMSE на валидации, евро</th>\n",
       "    </tr>\n",
       "  </thead>\n",
       "  <tbody>\n",
       "    <tr>\n",
       "      <td>0</td>\n",
       "      <td>LGBMRegressor</td>\n",
       "      <td>9.906</td>\n",
       "      <td>0.805</td>\n",
       "      <td>1300.76</td>\n",
       "    </tr>\n",
       "    <tr>\n",
       "      <td>1</td>\n",
       "      <td>CatBoostRegressor enc</td>\n",
       "      <td>27.623</td>\n",
       "      <td>0.015</td>\n",
       "      <td>1308.10</td>\n",
       "    </tr>\n",
       "    <tr>\n",
       "      <td>2</td>\n",
       "      <td>CatBoostRegressor cat</td>\n",
       "      <td>47.238</td>\n",
       "      <td>0.117</td>\n",
       "      <td>1311.33</td>\n",
       "    </tr>\n",
       "    <tr>\n",
       "      <td>3</td>\n",
       "      <td>XGBRegressor</td>\n",
       "      <td>17.743</td>\n",
       "      <td>0.402</td>\n",
       "      <td>1397.16</td>\n",
       "    </tr>\n",
       "    <tr>\n",
       "      <td>4</td>\n",
       "      <td>RandomForestRegressor</td>\n",
       "      <td>43.301</td>\n",
       "      <td>1.878</td>\n",
       "      <td>1317.16</td>\n",
       "    </tr>\n",
       "  </tbody>\n",
       "</table>\n",
       "</div>"
      ],
      "text/plain": [
       "                Алгоритм  Время обучения, с  Время предсказания, с  \\\n",
       "0          LGBMRegressor              9.906                  0.805   \n",
       "1  CatBoostRegressor enc             27.623                  0.015   \n",
       "2  CatBoostRegressor cat             47.238                  0.117   \n",
       "3           XGBRegressor             17.743                  0.402   \n",
       "4  RandomForestRegressor             43.301                  1.878   \n",
       "\n",
       "   RMSE на валидации, евро  \n",
       "0                  1300.76  \n",
       "1                  1308.10  \n",
       "2                  1311.33  \n",
       "3                  1397.16  \n",
       "4                  1317.16  "
      ]
     },
     "metadata": {},
     "output_type": "display_data"
    },
    {
     "name": "stdout",
     "output_type": "stream",
     "text": [
      "CPU times: user 6min 4s, sys: 4.55 s, total: 6min 8s\n",
      "Wall time: 6min 9s\n"
     ]
    }
   ],
   "source": [
    "%%time\n",
    "model_results = tuning_test_models('RandomForestRegressor', \n",
    "                                  RandomForestRegressor(random_state=12345, n_estimators=100), \n",
    "                                  {'max_depth' : [9, 18]}, \n",
    "                                  features_train_enc, \n",
    "                                  target_train_enc,\n",
    "                                  features_valid_enc, \n",
    "                                  target_valid_enc)\n",
    "\n",
    "model_comparison = model_comparison.append(model_results, ignore_index=True)\n",
    "display(model_comparison)"
   ]
  },
  {
   "cell_type": "markdown",
   "metadata": {},
   "source": [
    "Модели обучены и протестированы на валидацонной выборке. Результаты работы моделей собраны в итоговую таблицу. Проведем анализ полученных данных."
   ]
  },
  {
   "cell_type": "markdown",
   "metadata": {},
   "source": [
    "## Анализ моделей"
   ]
  },
  {
   "cell_type": "markdown",
   "metadata": {},
   "source": [
    "Рассмотрим на диаграмме результаты измерения качества моделей на валидационной выборке."
   ]
  },
  {
   "cell_type": "code",
   "execution_count": 53,
   "metadata": {},
   "outputs": [
    {
     "data": {
      "image/png": "[encoded data removed]",
      "text/plain": [
       "<Figure size 720x288 with 1 Axes>"
      ]
     },
     "metadata": {
      "needs_background": "light"
     },
     "output_type": "display_data"
    }
   ],
   "source": [
    "ax = (\n",
    "        model_comparison.plot(\n",
    "            x='Алгоритм',\n",
    "            y='RMSE на валидации, евро',\n",
    "            kind='bar',\n",
    "            grid=True,\n",
    "            color=[\"red\", \"green\", \"blue\", \"gray\", \"orange\"],\n",
    "            figsize=(10, 4))\n",
    ")\n",
    "ax.set_title('RMSE на валидации для алгоритмов')\n",
    "ax.set_xlabel('алгоритм')\n",
    "ax.set_ylabel('RMSE, евро')\n",
    "ax.legend().remove()\n",
    "plt.ylim(bottom=1200)\n",
    "plt.show()"
   ]
  },
  {
   "cell_type": "markdown",
   "metadata": {},
   "source": [
    "Лучший результат RMSE демонстрирует алгоритм LGBMRegressor. CatBoostRegressor на обоих выборках показывает похожий результат, алгоритму  LGBMRegressor уступает совсем немного. RandomForestRegressor справился немного хуже, но не на много, а вот XGBRegressor показал заметно большую ошибку в сравнении с остальными. \n",
    "\n",
    "Посмтрим на время обучения алгоритмов."
   ]
  },
  {
   "cell_type": "code",
   "execution_count": 54,
   "metadata": {},
   "outputs": [
    {
     "data": {
      "image/png": "[encoded data removed]",
      "text/plain": [
       "<Figure size 720x288 with 1 Axes>"
      ]
     },
     "metadata": {
      "needs_background": "light"
     },
     "output_type": "display_data"
    }
   ],
   "source": [
    "ax = (\n",
    "        model_comparison.plot(\n",
    "            x='Алгоритм',\n",
    "            y='Время обучения, с',\n",
    "            kind='bar',\n",
    "            grid=True,\n",
    "            color=[\"red\", \"green\", \"blue\", \"gray\", \"orange\"],\n",
    "            figsize=(10, 4))\n",
    ")\n",
    "ax.set_title('Время обучения для алгоритмов')\n",
    "ax.set_xlabel('алгоритм')\n",
    "ax.set_ylabel('Время обучения, с')\n",
    "ax.legend().remove()\n",
    "plt.show()"
   ]
  },
  {
   "cell_type": "markdown",
   "metadata": {},
   "source": [
    "Снова лидирует LGBMRegressor. Относительно быстро справляется XGBRegressor. Скорость обучения для CatBoostRegressor на данных содержащих категориальные признаки ниже почти в 2 раза в сравнении с численными. Также медленно, отноистельно других, обучается модель RandomForestRegressor. \n",
    "\n",
    "Посмтрим на распределения времени предсказания."
   ]
  },
  {
   "cell_type": "code",
   "execution_count": 55,
   "metadata": {},
   "outputs": [
    {
     "data": {
      "image/png": "[encoded data removed]",
      "text/plain": [
       "<Figure size 720x288 with 1 Axes>"
      ]
     },
     "metadata": {
      "needs_background": "light"
     },
     "output_type": "display_data"
    }
   ],
   "source": [
    "ax = (\n",
    "        model_comparison.plot(\n",
    "            x='Алгоритм',\n",
    "            y='Время предсказания, с',\n",
    "            kind='bar',\n",
    "            grid=True,\n",
    "            color=[\"red\", \"green\", \"blue\", \"gray\", \"orange\"],\n",
    "            figsize=(10, 4))\n",
    ")\n",
    "ax.set_title('Время предсказания для алгоритмов')\n",
    "ax.set_xlabel('алгоритм')\n",
    "ax.set_ylabel('Время предсказания, с')\n",
    "ax.legend().remove()\n",
    "plt.show()"
   ]
  },
  {
   "cell_type": "markdown",
   "metadata": {},
   "source": [
    "Все модели справляются менее чем за 2 секунды. В лидерах алгоритмы CatBoostRegressor. Лидер в точности и скорости обучения LGBMRegressor - здесь демонстриует не самый лучший результат. Дольше всех предсказывает RandomForestRegressor."
   ]
  },
  {
   "cell_type": "markdown",
   "metadata": {},
   "source": [
    "## Выводы"
   ]
  },
  {
   "cell_type": "markdown",
   "metadata": {},
   "source": [
    "В результате выполнения данного проекта были построены модели для определения стоимости автомобилей с пробегом. Для этого были проведены анализ и подготовка исторических данных: технических характеристик, комплектаций и цен автомобилей. Различными меодами, с подбором гиперпараметров, были обучены разные модели и протестирована их работа. Анализ полученных моделей показал, что если важны качество предсказания и время обучения, то наилучшие результаты показывает модель LGBMRegressor. CatBoostRegressor демонстрирует самую высокую скорость предсказания. На скорость работы алгоритма CatBoostRegressor влияет качество подготовки данных.  "
   ]
  }
 ],
 "metadata": {
  "ExecuteTimeLog": [
   {
    "duration": 1791,
    "start_time": "2022-02-17T13:17:48.130Z"
   },
   {
    "duration": 3350,
    "start_time": "2022-02-17T13:17:49.923Z"
   },
   {
    "duration": 1453,
    "start_time": "2022-02-17T13:17:53.277Z"
   },
   {
    "duration": 166,
    "start_time": "2022-02-17T13:17:54.732Z"
   },
   {
    "duration": 169,
    "start_time": "2022-02-17T13:17:54.901Z"
   },
   {
    "duration": 139,
    "start_time": "2022-02-17T13:17:55.073Z"
   },
   {
    "duration": 27,
    "start_time": "2022-02-17T13:17:55.215Z"
   },
   {
    "duration": 82,
    "start_time": "2022-02-17T13:17:55.244Z"
   },
   {
    "duration": 48,
    "start_time": "2022-02-17T13:17:55.330Z"
   },
   {
    "duration": 159,
    "start_time": "2022-02-17T13:17:55.393Z"
   },
   {
    "duration": 21,
    "start_time": "2022-02-17T13:17:55.554Z"
   },
   {
    "duration": 66,
    "start_time": "2022-02-17T13:17:55.577Z"
   },
   {
    "duration": 165,
    "start_time": "2022-02-17T13:17:55.646Z"
   },
   {
    "duration": 102,
    "start_time": "2022-02-17T13:17:55.813Z"
   },
   {
    "duration": 387,
    "start_time": "2022-02-17T13:17:55.917Z"
   },
   {
    "duration": 153,
    "start_time": "2022-02-17T13:17:56.307Z"
   },
   {
    "duration": 157,
    "start_time": "2022-02-17T13:17:56.463Z"
   },
   {
    "duration": 421,
    "start_time": "2022-02-17T13:17:56.623Z"
   },
   {
    "duration": 21,
    "start_time": "2022-02-17T13:17:57.047Z"
   },
   {
    "duration": 42,
    "start_time": "2022-02-17T13:17:57.070Z"
   },
   {
    "duration": 43,
    "start_time": "2022-02-17T13:17:57.114Z"
   },
   {
    "duration": 402,
    "start_time": "2022-02-17T13:17:57.160Z"
   },
   {
    "duration": 408,
    "start_time": "2022-02-17T13:17:57.565Z"
   },
   {
    "duration": 232,
    "start_time": "2022-02-17T13:17:57.976Z"
   },
   {
    "duration": 124,
    "start_time": "2022-02-17T13:17:58.210Z"
   },
   {
    "duration": 19,
    "start_time": "2022-02-17T13:17:58.337Z"
   },
   {
    "duration": 32,
    "start_time": "2022-02-17T13:17:58.363Z"
   },
   {
    "duration": 41,
    "start_time": "2022-02-17T13:17:58.399Z"
   },
   {
    "duration": 111,
    "start_time": "2022-02-17T13:17:58.442Z"
   },
   {
    "duration": 59,
    "start_time": "2022-02-17T13:17:58.556Z"
   },
   {
    "duration": 3,
    "start_time": "2022-02-17T13:17:58.618Z"
   },
   {
    "duration": 45,
    "start_time": "2022-02-17T13:17:58.623Z"
   },
   {
    "duration": 65,
    "start_time": "2022-02-17T13:17:58.670Z"
   },
   {
    "duration": 57,
    "start_time": "2022-02-17T13:17:58.737Z"
   },
   {
    "duration": 144,
    "start_time": "2022-02-17T13:17:58.796Z"
   },
   {
    "duration": 172,
    "start_time": "2022-02-17T13:17:58.943Z"
   },
   {
    "duration": 38,
    "start_time": "2022-02-17T13:17:59.118Z"
   },
   {
    "duration": 97,
    "start_time": "2022-02-17T13:17:59.159Z"
   },
   {
    "duration": 7,
    "start_time": "2022-02-17T13:17:59.259Z"
   },
   {
    "duration": 3175,
    "start_time": "2022-02-17T13:17:59.269Z"
   },
   {
    "duration": 109,
    "start_time": "2022-02-17T13:18:02.446Z"
   },
   {
    "duration": 139,
    "start_time": "2022-02-17T13:18:02.558Z"
   },
   {
    "duration": 7,
    "start_time": "2022-02-17T13:18:02.699Z"
   },
   {
    "duration": 1671,
    "start_time": "2022-02-17T13:18:02.708Z"
   },
   {
    "duration": 66,
    "start_time": "2022-02-17T13:18:04.382Z"
   },
   {
    "duration": 83,
    "start_time": "2022-02-17T13:18:04.451Z"
   },
   {
    "duration": 9870,
    "start_time": "2022-02-17T13:18:04.537Z"
   },
   {
    "duration": 122,
    "start_time": "2022-02-17T13:18:14.410Z"
   },
   {
    "duration": 143,
    "start_time": "2022-02-17T13:18:14.534Z"
   },
   {
    "duration": 8,
    "start_time": "2022-02-17T13:18:14.679Z"
   },
   {
    "duration": 60,
    "start_time": "2022-02-17T13:18:14.693Z"
   },
   {
    "duration": 88,
    "start_time": "2022-02-17T13:18:14.755Z"
   },
   {
    "duration": 7087,
    "start_time": "2022-02-17T13:18:14.846Z"
   },
   {
    "duration": 114,
    "start_time": "2022-02-17T13:18:21.935Z"
   },
   {
    "duration": 144,
    "start_time": "2022-02-17T13:18:22.051Z"
   },
   {
    "duration": 3,
    "start_time": "2022-02-17T13:18:22.197Z"
   },
   {
    "duration": 63,
    "start_time": "2022-02-17T13:18:22.203Z"
   },
   {
    "duration": 78,
    "start_time": "2022-02-17T13:18:22.269Z"
   },
   {
    "duration": 71,
    "start_time": "2022-02-17T13:18:22.349Z"
   },
   {
    "duration": 101,
    "start_time": "2022-02-17T13:18:22.422Z"
   },
   {
    "duration": 73,
    "start_time": "2022-02-17T13:18:22.525Z"
   },
   {
    "duration": 19,
    "start_time": "2022-02-17T13:18:22.601Z"
   },
   {
    "duration": 16,
    "start_time": "2022-02-17T13:18:22.623Z"
   },
   {
    "duration": 475,
    "start_time": "2022-02-17T13:18:22.641Z"
   },
   {
    "duration": 380,
    "start_time": "2022-02-17T13:18:23.118Z"
   },
   {
    "duration": 372,
    "start_time": "2022-02-17T13:18:23.501Z"
   },
   {
    "duration": 66,
    "start_time": "2022-02-17T13:18:23.875Z"
   },
   {
    "duration": 60,
    "start_time": "2022-02-17T13:18:23.943Z"
   },
   {
    "duration": 377,
    "start_time": "2022-02-17T13:18:24.005Z"
   },
   {
    "duration": 374,
    "start_time": "2022-02-17T13:18:24.384Z"
   },
   {
    "duration": 46,
    "start_time": "2022-02-17T13:18:24.761Z"
   },
   {
    "duration": 30,
    "start_time": "2022-02-17T13:18:24.810Z"
   },
   {
    "duration": 128,
    "start_time": "2022-02-17T13:18:24.842Z"
   },
   {
    "duration": 91,
    "start_time": "2022-02-17T13:18:24.972Z"
   },
   {
    "duration": 44,
    "start_time": "2022-02-17T13:18:25.065Z"
   },
   {
    "duration": 27,
    "start_time": "2022-02-17T13:18:25.112Z"
   },
   {
    "duration": 111,
    "start_time": "2022-02-17T13:18:25.141Z"
   },
   {
    "duration": 62,
    "start_time": "2022-02-17T13:18:25.254Z"
   },
   {
    "duration": 33,
    "start_time": "2022-02-17T13:18:25.319Z"
   },
   {
    "duration": 41,
    "start_time": "2022-02-17T13:18:25.354Z"
   },
   {
    "duration": 873,
    "start_time": "2022-02-17T13:18:25.404Z"
   },
   {
    "duration": 495,
    "start_time": "2022-02-17T13:18:26.279Z"
   },
   {
    "duration": 435,
    "start_time": "2022-02-17T13:18:26.776Z"
   },
   {
    "duration": 46,
    "start_time": "2022-02-17T13:18:27.214Z"
   },
   {
    "duration": 45,
    "start_time": "2022-02-17T13:18:27.263Z"
   },
   {
    "duration": 228,
    "start_time": "2022-02-17T13:18:27.311Z"
   },
   {
    "duration": 193,
    "start_time": "2022-02-17T13:18:27.542Z"
   },
   {
    "duration": 126,
    "start_time": "2022-02-17T13:18:27.737Z"
   },
   {
    "duration": 637,
    "start_time": "2022-02-17T13:18:27.866Z"
   },
   {
    "duration": 5,
    "start_time": "2022-02-17T13:18:28.505Z"
   },
   {
    "duration": 9,
    "start_time": "2022-02-17T13:18:28.512Z"
   },
   {
    "duration": 8,
    "start_time": "2022-02-17T13:18:28.523Z"
   },
   {
    "duration": 29,
    "start_time": "2022-02-17T13:18:28.533Z"
   },
   {
    "duration": 387,
    "start_time": "2022-02-17T13:18:28.593Z"
   },
   {
    "duration": 1387,
    "start_time": "2022-02-17T13:18:39.108Z"
   },
   {
    "duration": 976,
    "start_time": "2022-02-17T13:18:50.434Z"
   },
   {
    "duration": 71224,
    "start_time": "2022-02-17T13:18:56.186Z"
   },
   {
    "duration": 1044,
    "start_time": "2022-02-17T13:22:21.355Z"
   },
   {
    "duration": 845,
    "start_time": "2022-02-17T13:22:32.362Z"
   },
   {
    "duration": 51246,
    "start_time": "2022-02-17T13:24:15.661Z"
   },
   {
    "duration": 45820,
    "start_time": "2022-02-17T13:29:10.785Z"
   },
   {
    "duration": 401121,
    "start_time": "2022-02-17T13:32:01.878Z"
   },
   {
    "duration": 484660,
    "start_time": "2022-02-17T13:39:36.425Z"
   },
   {
    "duration": 1658,
    "start_time": "2022-02-17T14:05:36.769Z"
   },
   {
    "duration": 3579,
    "start_time": "2022-02-17T14:05:38.429Z"
   },
   {
    "duration": 1493,
    "start_time": "2022-02-17T14:06:56.102Z"
   },
   {
    "duration": 160,
    "start_time": "2022-02-17T14:07:15.741Z"
   },
   {
    "duration": 130,
    "start_time": "2022-02-17T14:08:10.090Z"
   },
   {
    "duration": 501,
    "start_time": "2022-02-17T14:12:51.999Z"
   },
   {
    "duration": 152,
    "start_time": "2022-02-17T14:13:18.500Z"
   },
   {
    "duration": 33,
    "start_time": "2022-02-17T14:13:31.001Z"
   },
   {
    "duration": 57,
    "start_time": "2022-02-17T14:13:38.217Z"
   },
   {
    "duration": 20,
    "start_time": "2022-02-17T14:14:04.666Z"
   },
   {
    "duration": 1714,
    "start_time": "2022-02-17T14:16:12.659Z"
   },
   {
    "duration": 1248,
    "start_time": "2022-02-17T14:16:14.376Z"
   },
   {
    "duration": 1436,
    "start_time": "2022-02-17T14:16:15.628Z"
   },
   {
    "duration": 185,
    "start_time": "2022-02-17T14:16:17.066Z"
   },
   {
    "duration": 136,
    "start_time": "2022-02-17T14:16:17.254Z"
   },
   {
    "duration": 530,
    "start_time": "2022-02-17T14:16:17.394Z"
   },
   {
    "duration": 162,
    "start_time": "2022-02-17T14:16:17.926Z"
   },
   {
    "duration": 167,
    "start_time": "2022-02-17T14:16:18.096Z"
   },
   {
    "duration": 37,
    "start_time": "2022-02-17T14:16:18.266Z"
   },
   {
    "duration": 66,
    "start_time": "2022-02-17T14:16:18.306Z"
   },
   {
    "duration": 65,
    "start_time": "2022-02-17T14:16:18.374Z"
   },
   {
    "duration": 179,
    "start_time": "2022-02-17T14:16:18.442Z"
   },
   {
    "duration": 21,
    "start_time": "2022-02-17T14:16:18.623Z"
   },
   {
    "duration": 63,
    "start_time": "2022-02-17T14:16:18.647Z"
   },
   {
    "duration": 189,
    "start_time": "2022-02-17T14:16:18.712Z"
   },
   {
    "duration": 101,
    "start_time": "2022-02-17T14:16:18.903Z"
   },
   {
    "duration": 407,
    "start_time": "2022-02-17T14:16:19.007Z"
   },
   {
    "duration": 156,
    "start_time": "2022-02-17T14:16:19.416Z"
   },
   {
    "duration": 158,
    "start_time": "2022-02-17T14:16:19.574Z"
   },
   {
    "duration": 371,
    "start_time": "2022-02-17T14:16:19.734Z"
   },
   {
    "duration": 20,
    "start_time": "2022-02-17T14:16:20.107Z"
   },
   {
    "duration": 17,
    "start_time": "2022-02-17T14:16:20.129Z"
   },
   {
    "duration": 72,
    "start_time": "2022-02-17T14:16:20.152Z"
   },
   {
    "duration": 400,
    "start_time": "2022-02-17T14:16:20.228Z"
   },
   {
    "duration": 401,
    "start_time": "2022-02-17T14:16:20.630Z"
   },
   {
    "duration": 238,
    "start_time": "2022-02-17T14:16:21.034Z"
   },
   {
    "duration": 108,
    "start_time": "2022-02-17T14:16:21.275Z"
   },
   {
    "duration": 24,
    "start_time": "2022-02-17T14:16:21.385Z"
   },
   {
    "duration": 16,
    "start_time": "2022-02-17T14:16:21.412Z"
   },
   {
    "duration": 73,
    "start_time": "2022-02-17T14:16:21.430Z"
   },
   {
    "duration": 109,
    "start_time": "2022-02-17T14:16:21.506Z"
   },
   {
    "duration": 45,
    "start_time": "2022-02-17T14:16:21.617Z"
   },
   {
    "duration": 3,
    "start_time": "2022-02-17T14:16:21.665Z"
   },
   {
    "duration": 45,
    "start_time": "2022-02-17T14:16:21.694Z"
   },
   {
    "duration": 62,
    "start_time": "2022-02-17T14:16:21.741Z"
   },
   {
    "duration": 40,
    "start_time": "2022-02-17T14:16:21.806Z"
   },
   {
    "duration": 162,
    "start_time": "2022-02-17T14:16:21.849Z"
   },
   {
    "duration": 151,
    "start_time": "2022-02-17T14:16:22.015Z"
   },
   {
    "duration": 36,
    "start_time": "2022-02-17T14:16:22.169Z"
   },
   {
    "duration": 60,
    "start_time": "2022-02-17T14:16:22.208Z"
   },
   {
    "duration": 27,
    "start_time": "2022-02-17T14:16:22.270Z"
   },
   {
    "duration": 3430,
    "start_time": "2022-02-17T14:16:22.299Z"
   },
   {
    "duration": 119,
    "start_time": "2022-02-17T14:16:25.731Z"
   },
   {
    "duration": 155,
    "start_time": "2022-02-17T14:16:25.853Z"
   },
   {
    "duration": 5,
    "start_time": "2022-02-17T14:16:26.011Z"
   },
   {
    "duration": 1676,
    "start_time": "2022-02-17T14:16:26.019Z"
   },
   {
    "duration": 56,
    "start_time": "2022-02-17T14:16:27.697Z"
   },
   {
    "duration": 78,
    "start_time": "2022-02-17T14:16:27.756Z"
   },
   {
    "duration": 10137,
    "start_time": "2022-02-17T14:16:27.837Z"
   },
   {
    "duration": 124,
    "start_time": "2022-02-17T14:16:37.977Z"
   },
   {
    "duration": 145,
    "start_time": "2022-02-17T14:16:38.104Z"
   },
   {
    "duration": 3,
    "start_time": "2022-02-17T14:16:38.252Z"
   },
   {
    "duration": 75,
    "start_time": "2022-02-17T14:16:38.258Z"
   },
   {
    "duration": 62,
    "start_time": "2022-02-17T14:16:38.335Z"
   },
   {
    "duration": 7473,
    "start_time": "2022-02-17T14:16:38.399Z"
   },
   {
    "duration": 129,
    "start_time": "2022-02-17T14:16:45.874Z"
   },
   {
    "duration": 139,
    "start_time": "2022-02-17T14:16:46.005Z"
   },
   {
    "duration": 3,
    "start_time": "2022-02-17T14:16:46.147Z"
   },
   {
    "duration": 77,
    "start_time": "2022-02-17T14:16:46.152Z"
   },
   {
    "duration": 68,
    "start_time": "2022-02-17T14:16:46.231Z"
   },
   {
    "duration": 64,
    "start_time": "2022-02-17T14:16:46.302Z"
   },
   {
    "duration": 132,
    "start_time": "2022-02-17T14:16:46.369Z"
   },
   {
    "duration": 59,
    "start_time": "2022-02-17T14:16:46.505Z"
   },
   {
    "duration": 40,
    "start_time": "2022-02-17T14:16:46.567Z"
   },
   {
    "duration": 14,
    "start_time": "2022-02-17T14:16:46.610Z"
   },
   {
    "duration": 485,
    "start_time": "2022-02-17T14:16:46.627Z"
   },
   {
    "duration": 397,
    "start_time": "2022-02-17T14:16:47.114Z"
   },
   {
    "duration": 377,
    "start_time": "2022-02-17T14:16:47.519Z"
   },
   {
    "duration": 68,
    "start_time": "2022-02-17T14:16:47.899Z"
   },
   {
    "duration": 61,
    "start_time": "2022-02-17T14:16:47.969Z"
   },
   {
    "duration": 389,
    "start_time": "2022-02-17T14:16:48.032Z"
   },
   {
    "duration": 373,
    "start_time": "2022-02-17T14:16:48.423Z"
   },
   {
    "duration": 41,
    "start_time": "2022-02-17T14:16:48.799Z"
   },
   {
    "duration": 56,
    "start_time": "2022-02-17T14:16:48.842Z"
   },
   {
    "duration": 120,
    "start_time": "2022-02-17T14:16:48.900Z"
   },
   {
    "duration": 95,
    "start_time": "2022-02-17T14:16:49.023Z"
   },
   {
    "duration": 38,
    "start_time": "2022-02-17T14:16:49.121Z"
   },
   {
    "duration": 48,
    "start_time": "2022-02-17T14:16:49.162Z"
   },
   {
    "duration": 89,
    "start_time": "2022-02-17T14:16:49.213Z"
   },
   {
    "duration": 44,
    "start_time": "2022-02-17T14:16:49.305Z"
   },
   {
    "duration": 62,
    "start_time": "2022-02-17T14:16:49.351Z"
   },
   {
    "duration": 18,
    "start_time": "2022-02-17T14:16:49.416Z"
   },
   {
    "duration": 926,
    "start_time": "2022-02-17T14:16:49.436Z"
   },
   {
    "duration": 448,
    "start_time": "2022-02-17T14:16:50.364Z"
   },
   {
    "duration": 335,
    "start_time": "2022-02-17T14:16:50.814Z"
   },
   {
    "duration": 56,
    "start_time": "2022-02-17T14:16:51.152Z"
   },
   {
    "duration": 26,
    "start_time": "2022-02-17T14:16:51.210Z"
   },
   {
    "duration": 134,
    "start_time": "2022-02-17T14:16:51.239Z"
   },
   {
    "duration": 184,
    "start_time": "2022-02-17T14:16:51.376Z"
   },
   {
    "duration": 109,
    "start_time": "2022-02-17T14:16:51.563Z"
   },
   {
    "duration": 488,
    "start_time": "2022-02-17T14:16:51.675Z"
   },
   {
    "duration": 7,
    "start_time": "2022-02-17T14:16:52.165Z"
   },
   {
    "duration": 23,
    "start_time": "2022-02-17T14:16:52.175Z"
   },
   {
    "duration": 8,
    "start_time": "2022-02-17T14:16:52.201Z"
   },
   {
    "duration": 25,
    "start_time": "2022-02-17T14:16:52.211Z"
   },
   {
    "duration": 331,
    "start_time": "2022-02-17T14:17:43.705Z"
   },
   {
    "duration": 1120,
    "start_time": "2022-02-17T14:17:55.080Z"
   },
   {
    "duration": 849,
    "start_time": "2022-02-17T14:17:59.066Z"
   },
   {
    "duration": 54258,
    "start_time": "2022-02-17T14:18:04.449Z"
   },
   {
    "duration": 40977,
    "start_time": "2022-02-17T14:25:36.323Z"
   },
   {
    "duration": 379890,
    "start_time": "2022-02-17T14:30:41.278Z"
   },
   {
    "duration": 1546,
    "start_time": "2022-02-17T14:43:32.432Z"
   },
   {
    "duration": 1257,
    "start_time": "2022-02-17T14:43:33.981Z"
   },
   {
    "duration": 1409,
    "start_time": "2022-02-17T14:43:35.241Z"
   },
   {
    "duration": 159,
    "start_time": "2022-02-17T14:43:36.653Z"
   },
   {
    "duration": 131,
    "start_time": "2022-02-17T14:43:36.814Z"
   },
   {
    "duration": 184,
    "start_time": "2022-02-17T14:43:36.947Z"
   },
   {
    "duration": 181,
    "start_time": "2022-02-17T14:43:37.134Z"
   },
   {
    "duration": 28,
    "start_time": "2022-02-17T14:43:37.319Z"
   },
   {
    "duration": 72,
    "start_time": "2022-02-17T14:43:37.350Z"
   },
   {
    "duration": 47,
    "start_time": "2022-02-17T14:43:37.425Z"
   },
   {
    "duration": 163,
    "start_time": "2022-02-17T14:43:37.475Z"
   },
   {
    "duration": 23,
    "start_time": "2022-02-17T14:43:37.641Z"
   },
   {
    "duration": 53,
    "start_time": "2022-02-17T14:43:37.666Z"
   },
   {
    "duration": 155,
    "start_time": "2022-02-17T14:43:37.721Z"
   },
   {
    "duration": 103,
    "start_time": "2022-02-17T14:43:37.879Z"
   },
   {
    "duration": 461,
    "start_time": "2022-02-17T14:43:37.984Z"
   },
   {
    "duration": 189,
    "start_time": "2022-02-17T14:43:38.448Z"
   },
   {
    "duration": 268,
    "start_time": "2022-02-17T14:43:38.639Z"
   },
   {
    "duration": 452,
    "start_time": "2022-02-17T14:43:38.910Z"
   },
   {
    "duration": 35,
    "start_time": "2022-02-17T14:43:39.364Z"
   },
   {
    "duration": 21,
    "start_time": "2022-02-17T14:43:39.401Z"
   },
   {
    "duration": 71,
    "start_time": "2022-02-17T14:43:39.424Z"
   },
   {
    "duration": 409,
    "start_time": "2022-02-17T14:43:39.499Z"
   },
   {
    "duration": 398,
    "start_time": "2022-02-17T14:44:26.008Z"
   },
   {
    "duration": 367,
    "start_time": "2022-02-17T14:44:47.549Z"
   },
   {
    "duration": 501,
    "start_time": "2022-02-17T14:45:54.023Z"
   },
   {
    "duration": 450,
    "start_time": "2022-02-17T14:46:44.602Z"
   },
   {
    "duration": 389,
    "start_time": "2022-02-17T14:47:56.610Z"
   },
   {
    "duration": 110,
    "start_time": "2022-02-17T14:48:22.576Z"
   },
   {
    "duration": 145,
    "start_time": "2022-02-17T14:48:38.765Z"
   },
   {
    "duration": 1958,
    "start_time": "2022-02-17T14:49:14.093Z"
   },
   {
    "duration": 1301,
    "start_time": "2022-02-17T14:49:16.054Z"
   },
   {
    "duration": 1459,
    "start_time": "2022-02-17T14:49:17.359Z"
   },
   {
    "duration": 208,
    "start_time": "2022-02-17T14:49:18.821Z"
   },
   {
    "duration": 139,
    "start_time": "2022-02-17T14:49:19.032Z"
   },
   {
    "duration": 163,
    "start_time": "2022-02-17T14:49:19.174Z"
   },
   {
    "duration": 291,
    "start_time": "2022-02-17T14:49:19.341Z"
   },
   {
    "duration": 28,
    "start_time": "2022-02-17T14:49:19.636Z"
   },
   {
    "duration": 79,
    "start_time": "2022-02-17T14:49:19.667Z"
   },
   {
    "duration": 78,
    "start_time": "2022-02-17T14:49:19.748Z"
   },
   {
    "duration": 193,
    "start_time": "2022-02-17T14:49:19.829Z"
   },
   {
    "duration": 23,
    "start_time": "2022-02-17T14:49:20.025Z"
   },
   {
    "duration": 78,
    "start_time": "2022-02-17T14:49:20.050Z"
   },
   {
    "duration": 171,
    "start_time": "2022-02-17T14:49:20.130Z"
   },
   {
    "duration": 104,
    "start_time": "2022-02-17T14:49:20.303Z"
   },
   {
    "duration": 424,
    "start_time": "2022-02-17T14:49:20.410Z"
   },
   {
    "duration": 161,
    "start_time": "2022-02-17T14:49:20.836Z"
   },
   {
    "duration": 160,
    "start_time": "2022-02-17T14:49:21.000Z"
   },
   {
    "duration": 430,
    "start_time": "2022-02-17T14:49:21.163Z"
   },
   {
    "duration": 21,
    "start_time": "2022-02-17T14:49:21.596Z"
   },
   {
    "duration": 20,
    "start_time": "2022-02-17T14:49:21.619Z"
   },
   {
    "duration": 83,
    "start_time": "2022-02-17T14:49:21.642Z"
   },
   {
    "duration": 624,
    "start_time": "2022-02-17T14:49:21.732Z"
   },
   {
    "duration": 397,
    "start_time": "2022-02-17T14:49:22.360Z"
   },
   {
    "duration": 241,
    "start_time": "2022-02-17T14:49:22.760Z"
   },
   {
    "duration": 151,
    "start_time": "2022-02-17T14:49:23.004Z"
   },
   {
    "duration": 35,
    "start_time": "2022-02-17T14:49:23.158Z"
   },
   {
    "duration": 20,
    "start_time": "2022-02-17T14:49:23.195Z"
   },
   {
    "duration": 45,
    "start_time": "2022-02-17T14:49:23.218Z"
   },
   {
    "duration": 130,
    "start_time": "2022-02-17T14:49:23.266Z"
   },
   {
    "duration": 67,
    "start_time": "2022-02-17T14:49:23.399Z"
   },
   {
    "duration": 3,
    "start_time": "2022-02-17T14:49:23.469Z"
   },
   {
    "duration": 45,
    "start_time": "2022-02-17T14:49:23.495Z"
   },
   {
    "duration": 73,
    "start_time": "2022-02-17T14:49:23.544Z"
   },
   {
    "duration": 40,
    "start_time": "2022-02-17T14:49:23.620Z"
   },
   {
    "duration": 159,
    "start_time": "2022-02-17T14:49:23.662Z"
   },
   {
    "duration": 151,
    "start_time": "2022-02-17T14:49:23.824Z"
   },
   {
    "duration": 46,
    "start_time": "2022-02-17T14:49:23.979Z"
   },
   {
    "duration": 147,
    "start_time": "2022-02-17T14:49:24.027Z"
   },
   {
    "duration": 19,
    "start_time": "2022-02-17T14:49:24.177Z"
   },
   {
    "duration": 3777,
    "start_time": "2022-02-17T14:49:24.199Z"
   },
   {
    "duration": 119,
    "start_time": "2022-02-17T14:49:27.979Z"
   },
   {
    "duration": 146,
    "start_time": "2022-02-17T14:49:28.101Z"
   },
   {
    "duration": 6,
    "start_time": "2022-02-17T14:49:28.250Z"
   },
   {
    "duration": 1948,
    "start_time": "2022-02-17T14:49:28.258Z"
   },
   {
    "duration": 96,
    "start_time": "2022-02-17T14:49:30.209Z"
   },
   {
    "duration": 121,
    "start_time": "2022-02-17T14:49:30.308Z"
   },
   {
    "duration": 10429,
    "start_time": "2022-02-17T14:49:30.431Z"
   },
   {
    "duration": 120,
    "start_time": "2022-02-17T14:49:40.862Z"
   },
   {
    "duration": 142,
    "start_time": "2022-02-17T14:49:40.984Z"
   },
   {
    "duration": 3,
    "start_time": "2022-02-17T14:49:41.128Z"
   },
   {
    "duration": 103,
    "start_time": "2022-02-17T14:49:41.133Z"
   },
   {
    "duration": 89,
    "start_time": "2022-02-17T14:49:41.238Z"
   },
   {
    "duration": 7366,
    "start_time": "2022-02-17T14:49:41.329Z"
   },
   {
    "duration": 119,
    "start_time": "2022-02-17T14:49:48.697Z"
   },
   {
    "duration": 135,
    "start_time": "2022-02-17T14:49:48.818Z"
   },
   {
    "duration": 2,
    "start_time": "2022-02-17T14:49:48.956Z"
   },
   {
    "duration": 96,
    "start_time": "2022-02-17T14:49:48.960Z"
   },
   {
    "duration": 88,
    "start_time": "2022-02-17T14:49:49.059Z"
   },
   {
    "duration": 81,
    "start_time": "2022-02-17T14:49:49.149Z"
   },
   {
    "duration": 101,
    "start_time": "2022-02-17T14:49:49.233Z"
   },
   {
    "duration": 90,
    "start_time": "2022-02-17T14:49:49.336Z"
   },
   {
    "duration": 21,
    "start_time": "2022-02-17T14:49:49.429Z"
   },
   {
    "duration": 48,
    "start_time": "2022-02-17T14:49:49.453Z"
   },
   {
    "duration": 475,
    "start_time": "2022-02-17T14:49:49.504Z"
   },
   {
    "duration": 404,
    "start_time": "2022-02-17T14:49:49.982Z"
   },
   {
    "duration": 405,
    "start_time": "2022-02-17T14:49:50.392Z"
   },
   {
    "duration": 72,
    "start_time": "2022-02-17T14:49:50.805Z"
   },
   {
    "duration": 60,
    "start_time": "2022-02-17T14:49:50.895Z"
   },
   {
    "duration": 396,
    "start_time": "2022-02-17T14:49:50.957Z"
   },
   {
    "duration": 403,
    "start_time": "2022-02-17T14:49:51.355Z"
   },
   {
    "duration": 47,
    "start_time": "2022-02-17T14:49:51.760Z"
   },
   {
    "duration": 47,
    "start_time": "2022-02-17T14:49:51.809Z"
   },
   {
    "duration": 128,
    "start_time": "2022-02-17T14:49:51.858Z"
   },
   {
    "duration": 108,
    "start_time": "2022-02-17T14:49:51.993Z"
   },
   {
    "duration": 39,
    "start_time": "2022-02-17T14:49:52.104Z"
   },
   {
    "duration": 59,
    "start_time": "2022-02-17T14:49:52.145Z"
   },
   {
    "duration": 125,
    "start_time": "2022-02-17T14:49:52.208Z"
   },
   {
    "duration": 83,
    "start_time": "2022-02-17T14:49:52.336Z"
   },
   {
    "duration": 42,
    "start_time": "2022-02-17T14:49:52.422Z"
   },
   {
    "duration": 40,
    "start_time": "2022-02-17T14:49:52.467Z"
   },
   {
    "duration": 923,
    "start_time": "2022-02-17T14:49:52.510Z"
   },
   {
    "duration": 705,
    "start_time": "2022-02-17T14:49:53.436Z"
   },
   {
    "duration": 583,
    "start_time": "2022-02-17T14:49:54.144Z"
   },
   {
    "duration": 39,
    "start_time": "2022-02-17T14:49:54.729Z"
   },
   {
    "duration": 51,
    "start_time": "2022-02-17T14:49:54.770Z"
   },
   {
    "duration": 191,
    "start_time": "2022-02-17T14:49:54.823Z"
   },
   {
    "duration": 196,
    "start_time": "2022-02-17T14:49:55.017Z"
   },
   {
    "duration": 164,
    "start_time": "2022-02-17T14:49:55.216Z"
   },
   {
    "duration": 888,
    "start_time": "2022-02-17T14:49:55.382Z"
   },
   {
    "duration": 6,
    "start_time": "2022-02-17T14:49:56.273Z"
   },
   {
    "duration": 6,
    "start_time": "2022-02-17T14:49:56.295Z"
   },
   {
    "duration": 8,
    "start_time": "2022-02-17T14:49:56.303Z"
   },
   {
    "duration": 30,
    "start_time": "2022-02-17T14:49:56.314Z"
   },
   {
    "duration": 542,
    "start_time": "2022-02-17T14:49:56.346Z"
   },
   {
    "duration": 1103,
    "start_time": "2022-02-17T14:50:39.298Z"
   },
   {
    "duration": 1014,
    "start_time": "2022-02-17T14:50:44.483Z"
   },
   {
    "duration": 90005,
    "start_time": "2022-02-17T14:50:55.793Z"
   },
   {
    "duration": 50391,
    "start_time": "2022-02-17T14:52:49.610Z"
   },
   {
    "duration": 343,
    "start_time": "2022-02-17T14:55:46.887Z"
   },
   {
    "duration": 375,
    "start_time": "2022-02-17T14:56:14.526Z"
   },
   {
    "duration": 397,
    "start_time": "2022-02-17T14:56:40.037Z"
   },
   {
    "duration": 382,
    "start_time": "2022-02-17T15:09:19.872Z"
   },
   {
    "duration": 378,
    "start_time": "2022-02-17T15:09:54.497Z"
   },
   {
    "duration": 392,
    "start_time": "2022-02-17T15:10:42.912Z"
   },
   {
    "duration": 620,
    "start_time": "2022-02-17T15:11:13.916Z"
   },
   {
    "duration": 368,
    "start_time": "2022-02-17T15:11:35.809Z"
   },
   {
    "duration": 1753,
    "start_time": "2022-02-17T21:03:25.113Z"
   },
   {
    "duration": 1571,
    "start_time": "2022-02-17T21:03:26.869Z"
   },
   {
    "duration": 1581,
    "start_time": "2022-02-17T21:03:28.443Z"
   },
   {
    "duration": 195,
    "start_time": "2022-02-17T21:03:30.027Z"
   },
   {
    "duration": 161,
    "start_time": "2022-02-17T21:03:30.225Z"
   },
   {
    "duration": 192,
    "start_time": "2022-02-17T21:03:30.389Z"
   },
   {
    "duration": 190,
    "start_time": "2022-02-17T21:03:30.585Z"
   },
   {
    "duration": 30,
    "start_time": "2022-02-17T21:03:30.779Z"
   },
   {
    "duration": 99,
    "start_time": "2022-02-17T21:03:30.813Z"
   },
   {
    "duration": 70,
    "start_time": "2022-02-17T21:03:30.916Z"
   },
   {
    "duration": 329,
    "start_time": "2022-02-17T21:03:30.989Z"
   },
   {
    "duration": 52,
    "start_time": "2022-02-17T21:03:31.321Z"
   },
   {
    "duration": 60,
    "start_time": "2022-02-17T21:03:31.377Z"
   },
   {
    "duration": 200,
    "start_time": "2022-02-17T21:03:31.440Z"
   },
   {
    "duration": 126,
    "start_time": "2022-02-17T21:03:31.643Z"
   },
   {
    "duration": 459,
    "start_time": "2022-02-17T21:03:31.772Z"
   },
   {
    "duration": 171,
    "start_time": "2022-02-17T21:03:32.234Z"
   },
   {
    "duration": 168,
    "start_time": "2022-02-17T21:03:32.408Z"
   },
   {
    "duration": 502,
    "start_time": "2022-02-17T21:03:32.578Z"
   },
   {
    "duration": 25,
    "start_time": "2022-02-17T21:04:12.644Z"
   },
   {
    "duration": 21,
    "start_time": "2022-02-17T21:05:24.728Z"
   },
   {
    "duration": 226,
    "start_time": "2022-02-17T21:07:22.759Z"
   },
   {
    "duration": 112,
    "start_time": "2022-02-17T21:07:29.791Z"
   },
   {
    "duration": 17,
    "start_time": "2022-02-17T21:07:54.093Z"
   },
   {
    "duration": 2137,
    "start_time": "2022-02-17T21:20:41.653Z"
   },
   {
    "duration": 1504,
    "start_time": "2022-02-17T21:20:43.793Z"
   },
   {
    "duration": 1973,
    "start_time": "2022-02-17T21:20:45.301Z"
   },
   {
    "duration": 241,
    "start_time": "2022-02-17T21:20:47.277Z"
   },
   {
    "duration": 167,
    "start_time": "2022-02-17T21:20:47.521Z"
   },
   {
    "duration": 192,
    "start_time": "2022-02-17T21:20:47.691Z"
   },
   {
    "duration": 272,
    "start_time": "2022-02-17T21:20:47.886Z"
   },
   {
    "duration": 65,
    "start_time": "2022-02-17T21:20:48.163Z"
   },
   {
    "duration": 74,
    "start_time": "2022-02-17T21:20:48.231Z"
   },
   {
    "duration": 76,
    "start_time": "2022-02-17T21:20:48.308Z"
   },
   {
    "duration": 213,
    "start_time": "2022-02-17T21:20:48.387Z"
   },
   {
    "duration": 46,
    "start_time": "2022-02-17T21:20:48.603Z"
   },
   {
    "duration": 61,
    "start_time": "2022-02-17T21:20:48.652Z"
   },
   {
    "duration": 203,
    "start_time": "2022-02-17T21:20:48.716Z"
   },
   {
    "duration": 118,
    "start_time": "2022-02-17T21:20:48.921Z"
   },
   {
    "duration": 560,
    "start_time": "2022-02-17T21:20:49.041Z"
   },
   {
    "duration": 180,
    "start_time": "2022-02-17T21:20:49.604Z"
   },
   {
    "duration": 176,
    "start_time": "2022-02-17T21:20:49.786Z"
   },
   {
    "duration": 459,
    "start_time": "2022-02-17T21:20:49.964Z"
   },
   {
    "duration": 27,
    "start_time": "2022-02-17T21:20:50.425Z"
   },
   {
    "duration": 20,
    "start_time": "2022-02-17T21:20:50.455Z"
   },
   {
    "duration": 84,
    "start_time": "2022-02-17T21:20:50.479Z"
   },
   {
    "duration": 439,
    "start_time": "2022-02-17T21:20:50.571Z"
   },
   {
    "duration": 393,
    "start_time": "2022-02-17T21:20:51.015Z"
   },
   {
    "duration": 270,
    "start_time": "2022-02-17T21:20:51.410Z"
   },
   {
    "duration": 165,
    "start_time": "2022-02-17T21:20:51.683Z"
   },
   {
    "duration": 23,
    "start_time": "2022-02-17T21:20:51.851Z"
   },
   {
    "duration": 26,
    "start_time": "2022-02-17T21:20:51.877Z"
   },
   {
    "duration": 26,
    "start_time": "2022-02-17T21:20:51.936Z"
   },
   {
    "duration": 84,
    "start_time": "2022-02-17T21:20:51.965Z"
   },
   {
    "duration": 112,
    "start_time": "2022-02-17T21:20:52.052Z"
   },
   {
    "duration": 75,
    "start_time": "2022-02-17T21:20:52.167Z"
   },
   {
    "duration": 4,
    "start_time": "2022-02-17T21:20:52.245Z"
   },
   {
    "duration": 92,
    "start_time": "2022-02-17T21:20:52.252Z"
   },
   {
    "duration": 57,
    "start_time": "2022-02-17T21:20:52.347Z"
   },
   {
    "duration": 59,
    "start_time": "2022-02-17T21:20:52.407Z"
   },
   {
    "duration": 200,
    "start_time": "2022-02-17T21:20:52.469Z"
   },
   {
    "duration": 217,
    "start_time": "2022-02-17T21:20:52.672Z"
   },
   {
    "duration": 73,
    "start_time": "2022-02-17T21:20:52.892Z"
   },
   {
    "duration": 111,
    "start_time": "2022-02-17T21:20:52.967Z"
   },
   {
    "duration": 6,
    "start_time": "2022-02-17T21:20:53.081Z"
   },
   {
    "duration": 3676,
    "start_time": "2022-02-17T21:20:53.090Z"
   },
   {
    "duration": 132,
    "start_time": "2022-02-17T21:20:56.768Z"
   },
   {
    "duration": 162,
    "start_time": "2022-02-17T21:20:56.903Z"
   },
   {
    "duration": 6,
    "start_time": "2022-02-17T21:20:57.068Z"
   },
   {
    "duration": 2073,
    "start_time": "2022-02-17T21:20:57.076Z"
   },
   {
    "duration": 118,
    "start_time": "2022-02-17T21:20:59.153Z"
   },
   {
    "duration": 107,
    "start_time": "2022-02-17T21:20:59.273Z"
   },
   {
    "duration": 10463,
    "start_time": "2022-02-17T21:20:59.383Z"
   },
   {
    "duration": 139,
    "start_time": "2022-02-17T21:21:09.849Z"
   },
   {
    "duration": 154,
    "start_time": "2022-02-17T21:21:09.990Z"
   },
   {
    "duration": 6,
    "start_time": "2022-02-17T21:21:10.147Z"
   },
   {
    "duration": 98,
    "start_time": "2022-02-17T21:21:10.156Z"
   },
   {
    "duration": 114,
    "start_time": "2022-02-17T21:21:10.257Z"
   },
   {
    "duration": 9199,
    "start_time": "2022-02-17T21:21:10.373Z"
   },
   {
    "duration": 138,
    "start_time": "2022-02-17T21:21:19.575Z"
   },
   {
    "duration": 159,
    "start_time": "2022-02-17T21:21:19.716Z"
   },
   {
    "duration": 3,
    "start_time": "2022-02-17T21:21:19.878Z"
   },
   {
    "duration": 100,
    "start_time": "2022-02-17T21:21:19.883Z"
   },
   {
    "duration": 120,
    "start_time": "2022-02-17T21:21:19.985Z"
   },
   {
    "duration": 83,
    "start_time": "2022-02-17T21:21:20.108Z"
   },
   {
    "duration": 112,
    "start_time": "2022-02-17T21:21:20.194Z"
   },
   {
    "duration": 103,
    "start_time": "2022-02-17T21:21:20.308Z"
   },
   {
    "duration": 23,
    "start_time": "2022-02-17T21:21:20.426Z"
   },
   {
    "duration": 25,
    "start_time": "2022-02-17T21:21:20.451Z"
   },
   {
    "duration": 548,
    "start_time": "2022-02-17T21:21:20.478Z"
   },
   {
    "duration": 423,
    "start_time": "2022-02-17T21:21:21.029Z"
   },
   {
    "duration": 423,
    "start_time": "2022-02-17T21:21:21.463Z"
   },
   {
    "duration": 70,
    "start_time": "2022-02-17T21:21:21.890Z"
   },
   {
    "duration": 70,
    "start_time": "2022-02-17T21:21:21.963Z"
   },
   {
    "duration": 426,
    "start_time": "2022-02-17T21:21:22.041Z"
   },
   {
    "duration": 423,
    "start_time": "2022-02-17T21:21:22.469Z"
   },
   {
    "duration": 51,
    "start_time": "2022-02-17T21:21:22.895Z"
   },
   {
    "duration": 79,
    "start_time": "2022-02-17T21:21:22.949Z"
   },
   {
    "duration": 129,
    "start_time": "2022-02-17T21:21:23.031Z"
   },
   {
    "duration": 129,
    "start_time": "2022-02-17T21:21:23.164Z"
   },
   {
    "duration": 50,
    "start_time": "2022-02-17T21:21:23.296Z"
   },
   {
    "duration": 66,
    "start_time": "2022-02-17T21:21:23.350Z"
   },
   {
    "duration": 119,
    "start_time": "2022-02-17T21:21:23.429Z"
   },
   {
    "duration": 82,
    "start_time": "2022-02-17T21:21:23.550Z"
   },
   {
    "duration": 41,
    "start_time": "2022-02-17T21:21:23.635Z"
   },
   {
    "duration": 50,
    "start_time": "2022-02-17T21:21:23.678Z"
   },
   {
    "duration": 1051,
    "start_time": "2022-02-17T21:21:23.731Z"
   },
   {
    "duration": 789,
    "start_time": "2022-02-17T21:21:24.785Z"
   },
   {
    "duration": 1070,
    "start_time": "2022-02-17T21:21:25.576Z"
   },
   {
    "duration": 42,
    "start_time": "2022-02-17T21:21:26.648Z"
   },
   {
    "duration": 47,
    "start_time": "2022-02-17T21:21:26.692Z"
   },
   {
    "duration": 307,
    "start_time": "2022-02-17T21:21:26.741Z"
   },
   {
    "duration": 209,
    "start_time": "2022-02-17T21:21:27.051Z"
   },
   {
    "duration": 185,
    "start_time": "2022-02-17T21:21:27.263Z"
   },
   {
    "duration": 994,
    "start_time": "2022-02-17T21:21:27.451Z"
   },
   {
    "duration": 8,
    "start_time": "2022-02-17T21:21:28.449Z"
   },
   {
    "duration": 6,
    "start_time": "2022-02-17T21:21:28.461Z"
   },
   {
    "duration": 7,
    "start_time": "2022-02-17T21:21:28.470Z"
   },
   {
    "duration": 67,
    "start_time": "2022-02-17T21:21:28.479Z"
   },
   {
    "duration": 565,
    "start_time": "2022-02-17T21:21:28.548Z"
   },
   {
    "duration": 1274,
    "start_time": "2022-02-17T21:21:42.855Z"
   },
   {
    "duration": 1063,
    "start_time": "2022-02-17T21:21:53.172Z"
   },
   {
    "duration": 134973,
    "start_time": "2022-02-17T21:22:07.265Z"
   },
   {
    "duration": 473564,
    "start_time": "2022-02-17T21:24:51.979Z"
   },
   {
    "duration": 32,
    "start_time": "2022-02-17T21:52:29.981Z"
   },
   {
    "duration": 1739,
    "start_time": "2022-02-17T21:53:58.125Z"
   },
   {
    "duration": 1442,
    "start_time": "2022-02-17T21:53:59.867Z"
   },
   {
    "duration": 1615,
    "start_time": "2022-02-17T21:54:01.313Z"
   },
   {
    "duration": 173,
    "start_time": "2022-02-17T21:54:02.931Z"
   },
   {
    "duration": 143,
    "start_time": "2022-02-17T21:54:03.106Z"
   },
   {
    "duration": 175,
    "start_time": "2022-02-17T21:54:03.251Z"
   },
   {
    "duration": 175,
    "start_time": "2022-02-17T21:54:03.429Z"
   },
   {
    "duration": 36,
    "start_time": "2022-02-17T21:54:03.608Z"
   },
   {
    "duration": 78,
    "start_time": "2022-02-17T21:54:03.648Z"
   },
   {
    "duration": 48,
    "start_time": "2022-02-17T21:54:03.729Z"
   },
   {
    "duration": 185,
    "start_time": "2022-02-17T21:54:03.779Z"
   },
   {
    "duration": 22,
    "start_time": "2022-02-17T21:54:03.966Z"
   },
   {
    "duration": 65,
    "start_time": "2022-02-17T21:54:03.990Z"
   },
   {
    "duration": 172,
    "start_time": "2022-02-17T21:54:04.058Z"
   },
   {
    "duration": 107,
    "start_time": "2022-02-17T21:54:04.233Z"
   },
   {
    "duration": 407,
    "start_time": "2022-02-17T21:54:04.343Z"
   },
   {
    "duration": 156,
    "start_time": "2022-02-17T21:54:04.753Z"
   },
   {
    "duration": 152,
    "start_time": "2022-02-17T21:54:04.912Z"
   },
   {
    "duration": 435,
    "start_time": "2022-02-17T21:54:05.067Z"
   },
   {
    "duration": 30,
    "start_time": "2022-02-17T21:54:05.504Z"
   },
   {
    "duration": 24,
    "start_time": "2022-02-17T21:54:05.537Z"
   },
   {
    "duration": 76,
    "start_time": "2022-02-17T21:54:05.564Z"
   },
   {
    "duration": 405,
    "start_time": "2022-02-17T21:54:05.644Z"
   },
   {
    "duration": 360,
    "start_time": "2022-02-17T21:54:06.052Z"
   },
   {
    "duration": 47,
    "start_time": "2022-02-17T21:54:21.612Z"
   },
   {
    "duration": 42,
    "start_time": "2022-02-17T21:54:47.407Z"
   },
   {
    "duration": 488,
    "start_time": "2022-02-17T22:02:38.653Z"
   },
   {
    "duration": 481,
    "start_time": "2022-02-17T22:03:01.172Z"
   },
   {
    "duration": 395,
    "start_time": "2022-02-17T22:16:32.111Z"
   },
   {
    "duration": 54,
    "start_time": "2022-02-17T22:18:23.796Z"
   },
   {
    "duration": 1700,
    "start_time": "2022-02-17T22:19:17.051Z"
   },
   {
    "duration": 1323,
    "start_time": "2022-02-17T22:19:18.754Z"
   },
   {
    "duration": 1572,
    "start_time": "2022-02-17T22:19:20.080Z"
   },
   {
    "duration": 164,
    "start_time": "2022-02-17T22:19:21.656Z"
   },
   {
    "duration": 139,
    "start_time": "2022-02-17T22:19:21.826Z"
   },
   {
    "duration": 168,
    "start_time": "2022-02-17T22:19:21.967Z"
   },
   {
    "duration": 174,
    "start_time": "2022-02-17T22:19:22.137Z"
   },
   {
    "duration": 37,
    "start_time": "2022-02-17T22:19:22.316Z"
   },
   {
    "duration": 75,
    "start_time": "2022-02-17T22:19:22.356Z"
   },
   {
    "duration": 47,
    "start_time": "2022-02-17T22:19:22.434Z"
   },
   {
    "duration": 179,
    "start_time": "2022-02-17T22:19:22.484Z"
   },
   {
    "duration": 24,
    "start_time": "2022-02-17T22:19:22.666Z"
   },
   {
    "duration": 73,
    "start_time": "2022-02-17T22:19:22.693Z"
   },
   {
    "duration": 170,
    "start_time": "2022-02-17T22:19:22.768Z"
   },
   {
    "duration": 107,
    "start_time": "2022-02-17T22:19:22.940Z"
   },
   {
    "duration": 412,
    "start_time": "2022-02-17T22:19:23.049Z"
   },
   {
    "duration": 159,
    "start_time": "2022-02-17T22:19:23.463Z"
   },
   {
    "duration": 159,
    "start_time": "2022-02-17T22:19:23.626Z"
   },
   {
    "duration": 453,
    "start_time": "2022-02-17T22:19:23.787Z"
   },
   {
    "duration": 22,
    "start_time": "2022-02-17T22:19:24.242Z"
   },
   {
    "duration": 23,
    "start_time": "2022-02-17T22:19:24.266Z"
   },
   {
    "duration": 512,
    "start_time": "2022-02-17T22:19:24.292Z"
   },
   {
    "duration": 54,
    "start_time": "2022-02-17T22:19:24.810Z"
   },
   {
    "duration": 441,
    "start_time": "2022-02-17T22:19:24.868Z"
   },
   {
    "duration": 454,
    "start_time": "2022-02-17T22:19:25.311Z"
   },
   {
    "duration": 269,
    "start_time": "2022-02-17T22:19:25.767Z"
   },
   {
    "duration": 145,
    "start_time": "2022-02-17T22:19:26.039Z"
   },
   {
    "duration": 55,
    "start_time": "2022-02-17T22:19:26.187Z"
   },
   {
    "duration": 23,
    "start_time": "2022-02-17T22:19:26.245Z"
   },
   {
    "duration": 21,
    "start_time": "2022-02-17T22:19:26.271Z"
   },
   {
    "duration": 32,
    "start_time": "2022-02-17T22:19:26.294Z"
   },
   {
    "duration": 45,
    "start_time": "2022-02-17T22:19:26.328Z"
   },
   {
    "duration": 105,
    "start_time": "2022-02-17T22:19:26.376Z"
   },
   {
    "duration": 65,
    "start_time": "2022-02-17T22:19:26.484Z"
   },
   {
    "duration": 3,
    "start_time": "2022-02-17T22:19:26.552Z"
   },
   {
    "duration": 53,
    "start_time": "2022-02-17T22:19:26.558Z"
   },
   {
    "duration": 49,
    "start_time": "2022-02-17T22:19:26.614Z"
   },
   {
    "duration": 84,
    "start_time": "2022-02-17T22:19:26.666Z"
   },
   {
    "duration": 224,
    "start_time": "2022-02-17T22:19:26.752Z"
   },
   {
    "duration": 199,
    "start_time": "2022-02-17T22:19:26.979Z"
   },
   {
    "duration": 74,
    "start_time": "2022-02-17T22:19:27.180Z"
   },
   {
    "duration": 183,
    "start_time": "2022-02-17T22:19:27.256Z"
   },
   {
    "duration": 7,
    "start_time": "2022-02-17T22:19:27.441Z"
   },
   {
    "duration": 3400,
    "start_time": "2022-02-17T22:19:27.451Z"
   },
   {
    "duration": 136,
    "start_time": "2022-02-17T22:19:30.854Z"
   },
   {
    "duration": 148,
    "start_time": "2022-02-17T22:19:30.993Z"
   },
   {
    "duration": 7,
    "start_time": "2022-02-17T22:19:31.144Z"
   },
   {
    "duration": 1881,
    "start_time": "2022-02-17T22:19:31.154Z"
   },
   {
    "duration": 92,
    "start_time": "2022-02-17T22:19:33.038Z"
   },
   {
    "duration": 100,
    "start_time": "2022-02-17T22:19:33.133Z"
   },
   {
    "duration": 10080,
    "start_time": "2022-02-17T22:19:33.236Z"
   },
   {
    "duration": 125,
    "start_time": "2022-02-17T22:19:43.327Z"
   },
   {
    "duration": 141,
    "start_time": "2022-02-17T22:19:43.455Z"
   },
   {
    "duration": 3,
    "start_time": "2022-02-17T22:19:43.598Z"
   },
   {
    "duration": 95,
    "start_time": "2022-02-17T22:19:43.604Z"
   },
   {
    "duration": 100,
    "start_time": "2022-02-17T22:19:43.702Z"
   },
   {
    "duration": 7308,
    "start_time": "2022-02-17T22:19:43.804Z"
   },
   {
    "duration": 120,
    "start_time": "2022-02-17T22:19:51.115Z"
   },
   {
    "duration": 147,
    "start_time": "2022-02-17T22:19:51.238Z"
   },
   {
    "duration": 3,
    "start_time": "2022-02-17T22:19:51.388Z"
   },
   {
    "duration": 98,
    "start_time": "2022-02-17T22:19:51.393Z"
   },
   {
    "duration": 82,
    "start_time": "2022-02-17T22:19:51.494Z"
   },
   {
    "duration": 88,
    "start_time": "2022-02-17T22:19:51.578Z"
   },
   {
    "duration": 99,
    "start_time": "2022-02-17T22:19:51.668Z"
   },
   {
    "duration": 95,
    "start_time": "2022-02-17T22:19:51.770Z"
   },
   {
    "duration": 21,
    "start_time": "2022-02-17T22:19:51.867Z"
   },
   {
    "duration": 48,
    "start_time": "2022-02-17T22:19:51.891Z"
   },
   {
    "duration": 504,
    "start_time": "2022-02-17T22:19:51.948Z"
   },
   {
    "duration": 422,
    "start_time": "2022-02-17T22:19:52.456Z"
   },
   {
    "duration": 400,
    "start_time": "2022-02-17T22:19:52.880Z"
   },
   {
    "duration": 75,
    "start_time": "2022-02-17T22:19:53.283Z"
   },
   {
    "duration": 68,
    "start_time": "2022-02-17T22:19:53.361Z"
   },
   {
    "duration": 401,
    "start_time": "2022-02-17T22:19:53.431Z"
   },
   {
    "duration": 412,
    "start_time": "2022-02-17T22:19:53.835Z"
   },
   {
    "duration": 41,
    "start_time": "2022-02-17T22:19:54.251Z"
   },
   {
    "duration": 58,
    "start_time": "2022-02-17T22:19:54.296Z"
   },
   {
    "duration": 151,
    "start_time": "2022-02-17T22:19:54.357Z"
   },
   {
    "duration": 116,
    "start_time": "2022-02-17T22:19:54.510Z"
   },
   {
    "duration": 37,
    "start_time": "2022-02-17T22:19:54.628Z"
   },
   {
    "duration": 57,
    "start_time": "2022-02-17T22:19:54.668Z"
   },
   {
    "duration": 120,
    "start_time": "2022-02-17T22:19:54.728Z"
   },
   {
    "duration": 65,
    "start_time": "2022-02-17T22:19:54.851Z"
   },
   {
    "duration": 38,
    "start_time": "2022-02-17T22:19:54.927Z"
   },
   {
    "duration": 25,
    "start_time": "2022-02-17T22:19:54.967Z"
   },
   {
    "duration": 990,
    "start_time": "2022-02-17T22:19:54.994Z"
   },
   {
    "duration": 661,
    "start_time": "2022-02-17T22:19:55.986Z"
   },
   {
    "duration": 648,
    "start_time": "2022-02-17T22:19:56.649Z"
   },
   {
    "duration": 53,
    "start_time": "2022-02-17T22:19:57.300Z"
   },
   {
    "duration": 41,
    "start_time": "2022-02-17T22:19:57.356Z"
   },
   {
    "duration": 191,
    "start_time": "2022-02-17T22:19:57.400Z"
   },
   {
    "duration": 200,
    "start_time": "2022-02-17T22:19:57.594Z"
   },
   {
    "duration": 169,
    "start_time": "2022-02-17T22:19:57.796Z"
   },
   {
    "duration": 872,
    "start_time": "2022-02-17T22:19:57.968Z"
   },
   {
    "duration": 6,
    "start_time": "2022-02-17T22:19:58.842Z"
   },
   {
    "duration": 10,
    "start_time": "2022-02-17T22:19:58.850Z"
   },
   {
    "duration": 9,
    "start_time": "2022-02-17T22:19:58.862Z"
   },
   {
    "duration": 55,
    "start_time": "2022-02-17T22:19:58.874Z"
   },
   {
    "duration": 510,
    "start_time": "2022-02-17T22:19:58.932Z"
   },
   {
    "duration": 1427,
    "start_time": "2022-02-17T22:20:21.599Z"
   },
   {
    "duration": 1001,
    "start_time": "2022-02-17T22:20:27.534Z"
   },
   {
    "duration": 430773,
    "start_time": "2022-02-17T22:21:09.478Z"
   },
   {
    "duration": 1726,
    "start_time": "2022-02-17T22:35:04.720Z"
   },
   {
    "duration": 1381,
    "start_time": "2022-02-17T22:35:06.449Z"
   },
   {
    "duration": 1548,
    "start_time": "2022-02-17T22:35:07.833Z"
   },
   {
    "duration": 183,
    "start_time": "2022-02-17T22:35:09.385Z"
   },
   {
    "duration": 223,
    "start_time": "2022-02-17T22:35:09.570Z"
   },
   {
    "duration": 192,
    "start_time": "2022-02-17T22:35:09.797Z"
   },
   {
    "duration": 174,
    "start_time": "2022-02-17T22:35:09.992Z"
   },
   {
    "duration": 27,
    "start_time": "2022-02-17T22:35:10.170Z"
   },
   {
    "duration": 83,
    "start_time": "2022-02-17T22:35:10.201Z"
   },
   {
    "duration": 66,
    "start_time": "2022-02-17T22:35:10.288Z"
   },
   {
    "duration": 175,
    "start_time": "2022-02-17T22:35:10.356Z"
   },
   {
    "duration": 27,
    "start_time": "2022-02-17T22:35:10.533Z"
   },
   {
    "duration": 69,
    "start_time": "2022-02-17T22:35:10.562Z"
   },
   {
    "duration": 165,
    "start_time": "2022-02-17T22:35:10.634Z"
   },
   {
    "duration": 115,
    "start_time": "2022-02-17T22:35:10.802Z"
   },
   {
    "duration": 406,
    "start_time": "2022-02-17T22:35:10.920Z"
   },
   {
    "duration": 151,
    "start_time": "2022-02-17T22:35:11.328Z"
   },
   {
    "duration": 177,
    "start_time": "2022-02-17T22:35:11.482Z"
   },
   {
    "duration": 448,
    "start_time": "2022-02-17T22:35:11.662Z"
   },
   {
    "duration": 29,
    "start_time": "2022-02-17T22:35:12.113Z"
   },
   {
    "duration": 24,
    "start_time": "2022-02-17T22:35:12.145Z"
   },
   {
    "duration": 467,
    "start_time": "2022-02-17T22:35:12.172Z"
   },
   {
    "duration": 47,
    "start_time": "2022-02-17T22:35:12.645Z"
   },
   {
    "duration": 434,
    "start_time": "2022-02-17T22:35:12.696Z"
   },
   {
    "duration": 420,
    "start_time": "2022-02-17T22:35:13.133Z"
   },
   {
    "duration": 260,
    "start_time": "2022-02-17T22:35:13.555Z"
   },
   {
    "duration": 147,
    "start_time": "2022-02-17T22:35:13.817Z"
   },
   {
    "duration": 62,
    "start_time": "2022-02-17T22:35:13.967Z"
   },
   {
    "duration": 22,
    "start_time": "2022-02-17T22:35:14.031Z"
   },
   {
    "duration": 24,
    "start_time": "2022-02-17T22:35:14.056Z"
   },
   {
    "duration": 49,
    "start_time": "2022-02-17T22:35:14.083Z"
   },
   {
    "duration": 46,
    "start_time": "2022-02-17T22:35:14.135Z"
   },
   {
    "duration": 117,
    "start_time": "2022-02-17T22:35:14.184Z"
   },
   {
    "duration": 76,
    "start_time": "2022-02-17T22:35:14.304Z"
   },
   {
    "duration": 3,
    "start_time": "2022-02-17T22:35:14.383Z"
   },
   {
    "duration": 69,
    "start_time": "2022-02-17T22:35:14.388Z"
   },
   {
    "duration": 65,
    "start_time": "2022-02-17T22:35:14.460Z"
   },
   {
    "duration": 44,
    "start_time": "2022-02-17T22:35:14.527Z"
   },
   {
    "duration": 155,
    "start_time": "2022-02-17T22:35:14.574Z"
   },
   {
    "duration": 149,
    "start_time": "2022-02-17T22:35:14.731Z"
   },
   {
    "duration": 51,
    "start_time": "2022-02-17T22:35:14.882Z"
   },
   {
    "duration": 99,
    "start_time": "2022-02-17T22:35:14.936Z"
   },
   {
    "duration": 6,
    "start_time": "2022-02-17T22:35:15.038Z"
   },
   {
    "duration": 3341,
    "start_time": "2022-02-17T22:35:15.046Z"
   },
   {
    "duration": 120,
    "start_time": "2022-02-17T22:35:18.389Z"
   },
   {
    "duration": 143,
    "start_time": "2022-02-17T22:35:18.512Z"
   },
   {
    "duration": 6,
    "start_time": "2022-02-17T22:35:18.658Z"
   },
   {
    "duration": 1898,
    "start_time": "2022-02-17T22:35:18.667Z"
   },
   {
    "duration": 93,
    "start_time": "2022-02-17T22:35:20.568Z"
   },
   {
    "duration": 93,
    "start_time": "2022-02-17T22:35:20.664Z"
   },
   {
    "duration": 10319,
    "start_time": "2022-02-17T22:35:20.760Z"
   },
   {
    "duration": 123,
    "start_time": "2022-02-17T22:35:31.082Z"
   },
   {
    "duration": 146,
    "start_time": "2022-02-17T22:35:31.207Z"
   },
   {
    "duration": 3,
    "start_time": "2022-02-17T22:35:31.355Z"
   },
   {
    "duration": 98,
    "start_time": "2022-02-17T22:35:31.360Z"
   },
   {
    "duration": 86,
    "start_time": "2022-02-17T22:35:31.460Z"
   },
   {
    "duration": 7468,
    "start_time": "2022-02-17T22:35:31.549Z"
   },
   {
    "duration": 127,
    "start_time": "2022-02-17T22:35:39.019Z"
   },
   {
    "duration": 151,
    "start_time": "2022-02-17T22:35:39.148Z"
   },
   {
    "duration": 4,
    "start_time": "2022-02-17T22:35:39.303Z"
   },
   {
    "duration": 85,
    "start_time": "2022-02-17T22:35:39.326Z"
   },
   {
    "duration": 127,
    "start_time": "2022-02-17T22:35:39.427Z"
   },
   {
    "duration": 88,
    "start_time": "2022-02-17T22:35:39.556Z"
   },
   {
    "duration": 106,
    "start_time": "2022-02-17T22:35:39.647Z"
   },
   {
    "duration": 96,
    "start_time": "2022-02-17T22:35:39.756Z"
   },
   {
    "duration": 20,
    "start_time": "2022-02-17T22:35:39.855Z"
   },
   {
    "duration": 18,
    "start_time": "2022-02-17T22:35:39.877Z"
   },
   {
    "duration": 499,
    "start_time": "2022-02-17T22:35:39.932Z"
   },
   {
    "duration": 416,
    "start_time": "2022-02-17T22:35:40.435Z"
   },
   {
    "duration": 407,
    "start_time": "2022-02-17T22:35:40.854Z"
   },
   {
    "duration": 78,
    "start_time": "2022-02-17T22:35:41.263Z"
   },
   {
    "duration": 60,
    "start_time": "2022-02-17T22:35:41.344Z"
   },
   {
    "duration": 393,
    "start_time": "2022-02-17T22:35:41.426Z"
   },
   {
    "duration": 408,
    "start_time": "2022-02-17T22:35:41.821Z"
   },
   {
    "duration": 38,
    "start_time": "2022-02-17T22:35:42.232Z"
   },
   {
    "duration": 53,
    "start_time": "2022-02-17T22:35:42.273Z"
   },
   {
    "duration": 130,
    "start_time": "2022-02-17T22:35:42.329Z"
   },
   {
    "duration": 115,
    "start_time": "2022-02-17T22:35:42.461Z"
   },
   {
    "duration": 52,
    "start_time": "2022-02-17T22:35:42.579Z"
   },
   {
    "duration": 36,
    "start_time": "2022-02-17T22:35:42.634Z"
   },
   {
    "duration": 63,
    "start_time": "2022-02-17T22:35:42.673Z"
   },
   {
    "duration": 77,
    "start_time": "2022-02-17T22:35:42.738Z"
   },
   {
    "duration": 40,
    "start_time": "2022-02-17T22:35:42.827Z"
   },
   {
    "duration": 60,
    "start_time": "2022-02-17T22:35:42.870Z"
   },
   {
    "duration": 974,
    "start_time": "2022-02-17T22:35:42.933Z"
   },
   {
    "duration": 993,
    "start_time": "2022-02-17T22:35:43.910Z"
   },
   {
    "duration": 965,
    "start_time": "2022-02-17T22:35:44.906Z"
   },
   {
    "duration": 64,
    "start_time": "2022-02-17T22:35:45.873Z"
   },
   {
    "duration": 50,
    "start_time": "2022-02-17T22:35:45.939Z"
   },
   {
    "duration": 187,
    "start_time": "2022-02-17T22:35:45.992Z"
   },
   {
    "duration": 209,
    "start_time": "2022-02-17T22:35:46.182Z"
   },
   {
    "duration": 183,
    "start_time": "2022-02-17T22:35:46.394Z"
   },
   {
    "duration": 841,
    "start_time": "2022-02-17T22:35:46.579Z"
   },
   {
    "duration": 5,
    "start_time": "2022-02-17T22:35:47.422Z"
   },
   {
    "duration": 19,
    "start_time": "2022-02-17T22:35:47.430Z"
   },
   {
    "duration": 8,
    "start_time": "2022-02-17T22:35:47.452Z"
   },
   {
    "duration": 26,
    "start_time": "2022-02-17T22:35:47.462Z"
   },
   {
    "duration": 820,
    "start_time": "2022-02-17T22:35:47.491Z"
   },
   {
    "duration": 1120,
    "start_time": "2022-02-17T22:35:56.306Z"
   },
   {
    "duration": 462840,
    "start_time": "2022-02-17T22:40:56.025Z"
   },
   {
    "duration": 1754,
    "start_time": "2022-02-17T22:54:18.909Z"
   },
   {
    "duration": 1387,
    "start_time": "2022-02-17T22:54:20.666Z"
   },
   {
    "duration": 1651,
    "start_time": "2022-02-17T22:54:22.057Z"
   },
   {
    "duration": 222,
    "start_time": "2022-02-17T22:54:23.716Z"
   },
   {
    "duration": 150,
    "start_time": "2022-02-17T22:54:23.940Z"
   },
   {
    "duration": 177,
    "start_time": "2022-02-17T22:54:24.092Z"
   },
   {
    "duration": 257,
    "start_time": "2022-02-17T22:54:24.271Z"
   },
   {
    "duration": 29,
    "start_time": "2022-02-17T22:54:24.532Z"
   },
   {
    "duration": 79,
    "start_time": "2022-02-17T22:54:24.563Z"
   },
   {
    "duration": 50,
    "start_time": "2022-02-17T22:54:24.644Z"
   },
   {
    "duration": 193,
    "start_time": "2022-02-17T22:54:24.697Z"
   },
   {
    "duration": 22,
    "start_time": "2022-02-17T22:54:24.892Z"
   },
   {
    "duration": 48,
    "start_time": "2022-02-17T22:54:24.926Z"
   },
   {
    "duration": 201,
    "start_time": "2022-02-17T22:54:24.976Z"
   },
   {
    "duration": 113,
    "start_time": "2022-02-17T22:54:25.179Z"
   },
   {
    "duration": 407,
    "start_time": "2022-02-17T22:54:25.294Z"
   },
   {
    "duration": 157,
    "start_time": "2022-02-17T22:54:25.704Z"
   },
   {
    "duration": 165,
    "start_time": "2022-02-17T22:54:25.865Z"
   },
   {
    "duration": 430,
    "start_time": "2022-02-17T22:54:26.033Z"
   },
   {
    "duration": 22,
    "start_time": "2022-02-17T22:54:26.465Z"
   },
   {
    "duration": 42,
    "start_time": "2022-02-17T22:54:26.490Z"
   },
   {
    "duration": 445,
    "start_time": "2022-02-17T22:54:26.535Z"
   },
   {
    "duration": 59,
    "start_time": "2022-02-17T22:54:26.986Z"
   },
   {
    "duration": 428,
    "start_time": "2022-02-17T22:54:27.048Z"
   },
   {
    "duration": 403,
    "start_time": "2022-02-17T22:54:27.479Z"
   },
   {
    "duration": 249,
    "start_time": "2022-02-17T22:54:27.884Z"
   },
   {
    "duration": 55,
    "start_time": "2022-02-17T22:54:28.136Z"
   },
   {
    "duration": 147,
    "start_time": "2022-02-17T22:54:28.193Z"
   },
   {
    "duration": 22,
    "start_time": "2022-02-17T22:54:28.343Z"
   },
   {
    "duration": 20,
    "start_time": "2022-02-17T22:54:28.368Z"
   },
   {
    "duration": 51,
    "start_time": "2022-02-17T22:54:28.391Z"
   },
   {
    "duration": 46,
    "start_time": "2022-02-17T22:54:28.445Z"
   },
   {
    "duration": 126,
    "start_time": "2022-02-17T22:54:28.493Z"
   },
   {
    "duration": 63,
    "start_time": "2022-02-17T22:54:28.625Z"
   },
   {
    "duration": 3,
    "start_time": "2022-02-17T22:54:28.690Z"
   },
   {
    "duration": 69,
    "start_time": "2022-02-17T22:54:28.695Z"
   },
   {
    "duration": 61,
    "start_time": "2022-02-17T22:54:28.766Z"
   },
   {
    "duration": 42,
    "start_time": "2022-02-17T22:54:28.830Z"
   },
   {
    "duration": 171,
    "start_time": "2022-02-17T22:54:28.875Z"
   },
   {
    "duration": 162,
    "start_time": "2022-02-17T22:54:29.048Z"
   },
   {
    "duration": 42,
    "start_time": "2022-02-17T22:54:29.212Z"
   },
   {
    "duration": 100,
    "start_time": "2022-02-17T22:54:29.256Z"
   },
   {
    "duration": 6,
    "start_time": "2022-02-17T22:54:29.358Z"
   },
   {
    "duration": 3340,
    "start_time": "2022-02-17T22:54:29.366Z"
   },
   {
    "duration": 125,
    "start_time": "2022-02-17T22:54:32.708Z"
   },
   {
    "duration": 153,
    "start_time": "2022-02-17T22:54:32.836Z"
   },
   {
    "duration": 6,
    "start_time": "2022-02-17T22:54:32.991Z"
   },
   {
    "duration": 2059,
    "start_time": "2022-02-17T22:54:32.999Z"
   },
   {
    "duration": 92,
    "start_time": "2022-02-17T22:54:35.060Z"
   },
   {
    "duration": 98,
    "start_time": "2022-02-17T22:54:35.155Z"
   },
   {
    "duration": 10066,
    "start_time": "2022-02-17T22:54:35.256Z"
   },
   {
    "duration": 124,
    "start_time": "2022-02-17T22:54:45.326Z"
   },
   {
    "duration": 145,
    "start_time": "2022-02-17T22:54:45.452Z"
   },
   {
    "duration": 6098,
    "start_time": "2022-02-17T22:54:45.599Z"
   },
   {
    "duration": 86,
    "start_time": "2022-02-17T22:54:51.700Z"
   },
   {
    "duration": 96,
    "start_time": "2022-02-17T22:54:51.789Z"
   },
   {
    "duration": 7584,
    "start_time": "2022-02-17T22:54:51.888Z"
   },
   {
    "duration": 139,
    "start_time": "2022-02-17T22:54:59.475Z"
   },
   {
    "duration": 152,
    "start_time": "2022-02-17T22:54:59.617Z"
   },
   {
    "duration": 2,
    "start_time": "2022-02-17T22:54:59.772Z"
   },
   {
    "duration": 106,
    "start_time": "2022-02-17T22:54:59.777Z"
   },
   {
    "duration": 92,
    "start_time": "2022-02-17T22:54:59.885Z"
   },
   {
    "duration": 87,
    "start_time": "2022-02-17T22:54:59.979Z"
   },
   {
    "duration": 100,
    "start_time": "2022-02-17T22:55:00.068Z"
   },
   {
    "duration": 99,
    "start_time": "2022-02-17T22:55:00.171Z"
   },
   {
    "duration": 22,
    "start_time": "2022-02-17T22:55:00.272Z"
   },
   {
    "duration": 40,
    "start_time": "2022-02-17T22:55:00.297Z"
   },
   {
    "duration": 515,
    "start_time": "2022-02-17T22:55:00.347Z"
   },
   {
    "duration": 417,
    "start_time": "2022-02-17T22:55:00.866Z"
   },
   {
    "duration": 396,
    "start_time": "2022-02-17T22:55:01.286Z"
   },
   {
    "duration": 84,
    "start_time": "2022-02-17T22:55:01.684Z"
   },
   {
    "duration": 68,
    "start_time": "2022-02-17T22:55:01.770Z"
   },
   {
    "duration": 398,
    "start_time": "2022-02-17T22:55:01.840Z"
   },
   {
    "duration": 399,
    "start_time": "2022-02-17T22:55:02.240Z"
   },
   {
    "duration": 40,
    "start_time": "2022-02-17T22:55:02.641Z"
   },
   {
    "duration": 54,
    "start_time": "2022-02-17T22:55:02.683Z"
   },
   {
    "duration": 138,
    "start_time": "2022-02-17T22:55:02.741Z"
   },
   {
    "duration": 121,
    "start_time": "2022-02-17T22:55:02.883Z"
   },
   {
    "duration": 43,
    "start_time": "2022-02-17T22:55:03.007Z"
   },
   {
    "duration": 38,
    "start_time": "2022-02-17T22:55:03.053Z"
   },
   {
    "duration": 59,
    "start_time": "2022-02-17T22:55:03.095Z"
   },
   {
    "duration": 92,
    "start_time": "2022-02-17T22:55:03.158Z"
   },
   {
    "duration": 38,
    "start_time": "2022-02-17T22:55:03.253Z"
   },
   {
    "duration": 48,
    "start_time": "2022-02-17T22:55:03.294Z"
   },
   {
    "duration": 1002,
    "start_time": "2022-02-17T22:55:03.344Z"
   },
   {
    "duration": 912,
    "start_time": "2022-02-17T22:55:04.349Z"
   },
   {
    "duration": 937,
    "start_time": "2022-02-17T22:55:05.264Z"
   },
   {
    "duration": 58,
    "start_time": "2022-02-17T22:55:06.203Z"
   },
   {
    "duration": 62,
    "start_time": "2022-02-17T22:55:06.264Z"
   },
   {
    "duration": 185,
    "start_time": "2022-02-17T22:55:06.329Z"
   },
   {
    "duration": 210,
    "start_time": "2022-02-17T22:55:06.517Z"
   },
   {
    "duration": 192,
    "start_time": "2022-02-17T22:55:06.730Z"
   },
   {
    "duration": 883,
    "start_time": "2022-02-17T22:55:06.926Z"
   },
   {
    "duration": 15,
    "start_time": "2022-02-17T22:55:07.812Z"
   },
   {
    "duration": 11,
    "start_time": "2022-02-17T22:55:07.831Z"
   },
   {
    "duration": 6,
    "start_time": "2022-02-17T22:55:07.845Z"
   },
   {
    "duration": 26,
    "start_time": "2022-02-17T22:55:07.854Z"
   },
   {
    "duration": 575,
    "start_time": "2022-02-17T22:55:07.883Z"
   },
   {
    "duration": 920,
    "start_time": "2022-02-17T22:55:24.411Z"
   },
   {
    "duration": 450222,
    "start_time": "2022-02-17T22:57:11.698Z"
   },
   {
    "duration": 1856,
    "start_time": "2022-02-17T23:08:17.798Z"
   },
   {
    "duration": 1360,
    "start_time": "2022-02-17T23:08:19.658Z"
   },
   {
    "duration": 1664,
    "start_time": "2022-02-17T23:08:21.022Z"
   },
   {
    "duration": 176,
    "start_time": "2022-02-17T23:08:22.689Z"
   },
   {
    "duration": 146,
    "start_time": "2022-02-17T23:08:22.867Z"
   },
   {
    "duration": 184,
    "start_time": "2022-02-17T23:08:23.015Z"
   },
   {
    "duration": 173,
    "start_time": "2022-02-17T23:08:23.201Z"
   },
   {
    "duration": 28,
    "start_time": "2022-02-17T23:08:23.377Z"
   },
   {
    "duration": 59,
    "start_time": "2022-02-17T23:08:23.427Z"
   },
   {
    "duration": 67,
    "start_time": "2022-02-17T23:08:23.488Z"
   },
   {
    "duration": 184,
    "start_time": "2022-02-17T23:08:23.558Z"
   },
   {
    "duration": 23,
    "start_time": "2022-02-17T23:08:23.744Z"
   },
   {
    "duration": 72,
    "start_time": "2022-02-17T23:08:23.769Z"
   },
   {
    "duration": 176,
    "start_time": "2022-02-17T23:08:23.844Z"
   },
   {
    "duration": 104,
    "start_time": "2022-02-17T23:08:24.027Z"
   },
   {
    "duration": 423,
    "start_time": "2022-02-17T23:08:24.134Z"
   },
   {
    "duration": 154,
    "start_time": "2022-02-17T23:08:24.559Z"
   },
   {
    "duration": 157,
    "start_time": "2022-02-17T23:08:24.715Z"
   },
   {
    "duration": 419,
    "start_time": "2022-02-17T23:08:24.875Z"
   },
   {
    "duration": 35,
    "start_time": "2022-02-17T23:08:25.296Z"
   },
   {
    "duration": 40,
    "start_time": "2022-02-17T23:08:25.334Z"
   },
   {
    "duration": 531,
    "start_time": "2022-02-17T23:08:25.383Z"
   },
   {
    "duration": 50,
    "start_time": "2022-02-17T23:08:25.920Z"
   },
   {
    "duration": 413,
    "start_time": "2022-02-17T23:08:25.975Z"
   },
   {
    "duration": 408,
    "start_time": "2022-02-17T23:08:26.391Z"
   },
   {
    "duration": 247,
    "start_time": "2022-02-17T23:08:26.802Z"
   },
   {
    "duration": 55,
    "start_time": "2022-02-17T23:08:27.052Z"
   },
   {
    "duration": 154,
    "start_time": "2022-02-17T23:08:27.109Z"
   },
   {
    "duration": 21,
    "start_time": "2022-02-17T23:08:27.265Z"
   },
   {
    "duration": 45,
    "start_time": "2022-02-17T23:08:27.288Z"
   },
   {
    "duration": 19,
    "start_time": "2022-02-17T23:08:27.336Z"
   },
   {
    "duration": 73,
    "start_time": "2022-02-17T23:08:27.358Z"
   },
   {
    "duration": 115,
    "start_time": "2022-02-17T23:08:27.434Z"
   },
   {
    "duration": 74,
    "start_time": "2022-02-17T23:08:27.552Z"
   },
   {
    "duration": 3,
    "start_time": "2022-02-17T23:08:27.628Z"
   },
   {
    "duration": 49,
    "start_time": "2022-02-17T23:08:27.633Z"
   },
   {
    "duration": 66,
    "start_time": "2022-02-17T23:08:27.685Z"
   },
   {
    "duration": 40,
    "start_time": "2022-02-17T23:08:27.753Z"
   },
   {
    "duration": 161,
    "start_time": "2022-02-17T23:08:27.795Z"
   },
   {
    "duration": 152,
    "start_time": "2022-02-17T23:08:27.959Z"
   },
   {
    "duration": 51,
    "start_time": "2022-02-17T23:08:28.113Z"
   },
   {
    "duration": 99,
    "start_time": "2022-02-17T23:08:28.167Z"
   },
   {
    "duration": 7,
    "start_time": "2022-02-17T23:08:28.268Z"
   },
   {
    "duration": 3441,
    "start_time": "2022-02-17T23:08:28.278Z"
   },
   {
    "duration": 121,
    "start_time": "2022-02-17T23:08:31.721Z"
   },
   {
    "duration": 146,
    "start_time": "2022-02-17T23:08:31.844Z"
   },
   {
    "duration": 6,
    "start_time": "2022-02-17T23:08:31.993Z"
   },
   {
    "duration": 2024,
    "start_time": "2022-02-17T23:08:32.002Z"
   },
   {
    "duration": 78,
    "start_time": "2022-02-17T23:08:34.028Z"
   },
   {
    "duration": 101,
    "start_time": "2022-02-17T23:08:34.125Z"
   },
   {
    "duration": 14254,
    "start_time": "2022-02-17T23:08:34.229Z"
   },
   {
    "duration": 126,
    "start_time": "2022-02-17T23:08:48.486Z"
   },
   {
    "duration": 152,
    "start_time": "2022-02-17T23:08:48.615Z"
   },
   {
    "duration": 6168,
    "start_time": "2022-02-17T23:08:48.770Z"
   },
   {
    "duration": 89,
    "start_time": "2022-02-17T23:08:54.941Z"
   },
   {
    "duration": 99,
    "start_time": "2022-02-17T23:08:55.033Z"
   },
   {
    "duration": 7392,
    "start_time": "2022-02-17T23:08:55.135Z"
   },
   {
    "duration": 123,
    "start_time": "2022-02-17T23:09:02.530Z"
   },
   {
    "duration": 144,
    "start_time": "2022-02-17T23:09:02.656Z"
   },
   {
    "duration": 1916,
    "start_time": "2022-02-17T23:09:02.803Z"
   },
   {
    "duration": 79,
    "start_time": "2022-02-17T23:09:04.727Z"
   },
   {
    "duration": 84,
    "start_time": "2022-02-17T23:09:04.825Z"
   },
   {
    "duration": 65,
    "start_time": "2022-02-17T23:09:04.926Z"
   },
   {
    "duration": 111,
    "start_time": "2022-02-17T23:09:04.993Z"
   },
   {
    "duration": 99,
    "start_time": "2022-02-17T23:09:05.107Z"
   },
   {
    "duration": 34,
    "start_time": "2022-02-17T23:09:05.209Z"
   },
   {
    "duration": 22,
    "start_time": "2022-02-17T23:09:05.246Z"
   },
   {
    "duration": 508,
    "start_time": "2022-02-17T23:09:05.277Z"
   },
   {
    "duration": 564,
    "start_time": "2022-02-17T23:09:05.788Z"
   },
   {
    "duration": 574,
    "start_time": "2022-02-17T23:09:06.355Z"
   },
   {
    "duration": 78,
    "start_time": "2022-02-17T23:09:06.932Z"
   },
   {
    "duration": 73,
    "start_time": "2022-02-17T23:09:07.027Z"
   },
   {
    "duration": 582,
    "start_time": "2022-02-17T23:09:07.104Z"
   },
   {
    "duration": 564,
    "start_time": "2022-02-17T23:09:07.689Z"
   },
   {
    "duration": 79,
    "start_time": "2022-02-17T23:09:08.256Z"
   },
   {
    "duration": 41,
    "start_time": "2022-02-17T23:09:08.338Z"
   },
   {
    "duration": 145,
    "start_time": "2022-02-17T23:09:08.382Z"
   },
   {
    "duration": 115,
    "start_time": "2022-02-17T23:09:08.530Z"
   },
   {
    "duration": 42,
    "start_time": "2022-02-17T23:09:08.648Z"
   },
   {
    "duration": 61,
    "start_time": "2022-02-17T23:09:08.693Z"
   },
   {
    "duration": 56,
    "start_time": "2022-02-17T23:09:08.757Z"
   },
   {
    "duration": 131,
    "start_time": "2022-02-17T23:09:08.816Z"
   },
   {
    "duration": 44,
    "start_time": "2022-02-17T23:09:08.950Z"
   },
   {
    "duration": 54,
    "start_time": "2022-02-17T23:09:08.997Z"
   },
   {
    "duration": 1480,
    "start_time": "2022-02-17T23:09:09.054Z"
   },
   {
    "duration": 1379,
    "start_time": "2022-02-17T23:09:10.537Z"
   },
   {
    "duration": 1299,
    "start_time": "2022-02-17T23:09:11.927Z"
   },
   {
    "duration": 46,
    "start_time": "2022-02-17T23:09:13.228Z"
   },
   {
    "duration": 66,
    "start_time": "2022-02-17T23:09:13.277Z"
   },
   {
    "duration": 202,
    "start_time": "2022-02-17T23:09:13.347Z"
   },
   {
    "duration": 210,
    "start_time": "2022-02-17T23:09:13.552Z"
   },
   {
    "duration": 194,
    "start_time": "2022-02-17T23:09:13.765Z"
   },
   {
    "duration": 1003,
    "start_time": "2022-02-17T23:09:13.962Z"
   },
   {
    "duration": 6,
    "start_time": "2022-02-17T23:09:14.967Z"
   },
   {
    "duration": 11,
    "start_time": "2022-02-17T23:09:14.976Z"
   },
   {
    "duration": 5,
    "start_time": "2022-02-17T23:09:14.990Z"
   },
   {
    "duration": 50,
    "start_time": "2022-02-17T23:09:14.998Z"
   },
   {
    "duration": 570,
    "start_time": "2022-02-17T23:09:15.051Z"
   },
   {
    "duration": 1751,
    "start_time": "2022-02-17T23:10:24.720Z"
   },
   {
    "duration": 1374,
    "start_time": "2022-02-17T23:10:26.474Z"
   },
   {
    "duration": 1566,
    "start_time": "2022-02-17T23:10:27.851Z"
   },
   {
    "duration": 170,
    "start_time": "2022-02-17T23:10:29.427Z"
   },
   {
    "duration": 142,
    "start_time": "2022-02-17T23:10:29.600Z"
   },
   {
    "duration": 182,
    "start_time": "2022-02-17T23:10:29.744Z"
   },
   {
    "duration": 168,
    "start_time": "2022-02-17T23:10:29.929Z"
   },
   {
    "duration": 35,
    "start_time": "2022-02-17T23:10:30.101Z"
   },
   {
    "duration": 67,
    "start_time": "2022-02-17T23:10:30.140Z"
   },
   {
    "duration": 62,
    "start_time": "2022-02-17T23:10:30.210Z"
   },
   {
    "duration": 184,
    "start_time": "2022-02-17T23:10:30.275Z"
   },
   {
    "duration": 22,
    "start_time": "2022-02-17T23:10:30.461Z"
   },
   {
    "duration": 70,
    "start_time": "2022-02-17T23:10:30.485Z"
   },
   {
    "duration": 169,
    "start_time": "2022-02-17T23:10:30.558Z"
   },
   {
    "duration": 111,
    "start_time": "2022-02-17T23:10:30.729Z"
   },
   {
    "duration": 408,
    "start_time": "2022-02-17T23:10:30.842Z"
   },
   {
    "duration": 152,
    "start_time": "2022-02-17T23:10:31.252Z"
   },
   {
    "duration": 163,
    "start_time": "2022-02-17T23:10:31.407Z"
   },
   {
    "duration": 446,
    "start_time": "2022-02-17T23:10:31.573Z"
   },
   {
    "duration": 21,
    "start_time": "2022-02-17T23:10:32.025Z"
   },
   {
    "duration": 21,
    "start_time": "2022-02-17T23:10:32.049Z"
   },
   {
    "duration": 468,
    "start_time": "2022-02-17T23:10:32.073Z"
   },
   {
    "duration": 51,
    "start_time": "2022-02-17T23:10:32.547Z"
   },
   {
    "duration": 431,
    "start_time": "2022-02-17T23:10:32.601Z"
   },
   {
    "duration": 474,
    "start_time": "2022-02-17T23:10:33.035Z"
   },
   {
    "duration": 244,
    "start_time": "2022-02-17T23:10:33.512Z"
   },
   {
    "duration": 69,
    "start_time": "2022-02-17T23:10:33.759Z"
   },
   {
    "duration": 144,
    "start_time": "2022-02-17T23:10:33.831Z"
   },
   {
    "duration": 23,
    "start_time": "2022-02-17T23:10:33.977Z"
   },
   {
    "duration": 38,
    "start_time": "2022-02-17T23:10:34.003Z"
   },
   {
    "duration": 21,
    "start_time": "2022-02-17T23:10:34.044Z"
   },
   {
    "duration": 73,
    "start_time": "2022-02-17T23:10:34.067Z"
   },
   {
    "duration": 120,
    "start_time": "2022-02-17T23:10:34.142Z"
   },
   {
    "duration": 70,
    "start_time": "2022-02-17T23:10:34.264Z"
   },
   {
    "duration": 3,
    "start_time": "2022-02-17T23:10:34.336Z"
   },
   {
    "duration": 47,
    "start_time": "2022-02-17T23:10:34.341Z"
   },
   {
    "duration": 69,
    "start_time": "2022-02-17T23:10:34.390Z"
   },
   {
    "duration": 41,
    "start_time": "2022-02-17T23:10:34.462Z"
   },
   {
    "duration": 158,
    "start_time": "2022-02-17T23:10:34.505Z"
   },
   {
    "duration": 155,
    "start_time": "2022-02-17T23:10:34.665Z"
   },
   {
    "duration": 38,
    "start_time": "2022-02-17T23:10:34.827Z"
   },
   {
    "duration": 103,
    "start_time": "2022-02-17T23:10:34.868Z"
   },
   {
    "duration": 7,
    "start_time": "2022-02-17T23:10:34.974Z"
   },
   {
    "duration": 3549,
    "start_time": "2022-02-17T23:10:34.983Z"
   },
   {
    "duration": 122,
    "start_time": "2022-02-17T23:10:38.534Z"
   },
   {
    "duration": 145,
    "start_time": "2022-02-17T23:10:38.659Z"
   },
   {
    "duration": 6,
    "start_time": "2022-02-17T23:10:38.806Z"
   },
   {
    "duration": 2010,
    "start_time": "2022-02-17T23:10:38.827Z"
   },
   {
    "duration": 98,
    "start_time": "2022-02-17T23:10:40.840Z"
   },
   {
    "duration": 91,
    "start_time": "2022-02-17T23:10:40.941Z"
   },
   {
    "duration": 10204,
    "start_time": "2022-02-17T23:10:41.035Z"
   },
   {
    "duration": 125,
    "start_time": "2022-02-17T23:10:51.241Z"
   },
   {
    "duration": 159,
    "start_time": "2022-02-17T23:10:51.368Z"
   },
   {
    "duration": 6022,
    "start_time": "2022-02-17T23:10:51.530Z"
   },
   {
    "duration": 93,
    "start_time": "2022-02-17T23:10:57.554Z"
   },
   {
    "duration": 92,
    "start_time": "2022-02-17T23:10:57.650Z"
   },
   {
    "duration": 7127,
    "start_time": "2022-02-17T23:13:39.114Z"
   },
   {
    "duration": 129,
    "start_time": "2022-02-17T23:13:49.512Z"
   },
   {
    "duration": 138,
    "start_time": "2022-02-17T23:13:53.320Z"
   },
   {
    "duration": 18,
    "start_time": "2022-02-17T23:14:23.031Z"
   },
   {
    "duration": 1976,
    "start_time": "2022-02-17T23:14:53.324Z"
   },
   {
    "duration": 76,
    "start_time": "2022-02-17T23:14:59.812Z"
   },
   {
    "duration": 82,
    "start_time": "2022-02-17T23:15:02.550Z"
   },
   {
    "duration": 1671,
    "start_time": "2022-02-17T23:15:29.986Z"
   },
   {
    "duration": 1351,
    "start_time": "2022-02-17T23:15:31.660Z"
   },
   {
    "duration": 1504,
    "start_time": "2022-02-17T23:15:33.014Z"
   },
   {
    "duration": 172,
    "start_time": "2022-02-17T23:15:34.525Z"
   },
   {
    "duration": 154,
    "start_time": "2022-02-17T23:15:34.700Z"
   },
   {
    "duration": 180,
    "start_time": "2022-02-17T23:15:34.857Z"
   },
   {
    "duration": 173,
    "start_time": "2022-02-17T23:15:35.041Z"
   },
   {
    "duration": 44,
    "start_time": "2022-02-17T23:15:35.218Z"
   },
   {
    "duration": 92,
    "start_time": "2022-02-17T23:15:35.266Z"
   },
   {
    "duration": 68,
    "start_time": "2022-02-17T23:15:35.361Z"
   },
   {
    "duration": 195,
    "start_time": "2022-02-17T23:15:35.433Z"
   },
   {
    "duration": 25,
    "start_time": "2022-02-17T23:15:35.631Z"
   },
   {
    "duration": 92,
    "start_time": "2022-02-17T23:15:35.658Z"
   },
   {
    "duration": 230,
    "start_time": "2022-02-17T23:15:35.754Z"
   },
   {
    "duration": 138,
    "start_time": "2022-02-17T23:15:35.988Z"
   },
   {
    "duration": 542,
    "start_time": "2022-02-17T23:15:36.129Z"
   },
   {
    "duration": 180,
    "start_time": "2022-02-17T23:15:36.674Z"
   },
   {
    "duration": 187,
    "start_time": "2022-02-17T23:15:36.856Z"
   },
   {
    "duration": 481,
    "start_time": "2022-02-17T23:15:37.046Z"
   },
   {
    "duration": 30,
    "start_time": "2022-02-17T23:15:37.530Z"
   },
   {
    "duration": 25,
    "start_time": "2022-02-17T23:15:37.563Z"
   },
   {
    "duration": 587,
    "start_time": "2022-02-17T23:15:37.591Z"
   },
   {
    "duration": 69,
    "start_time": "2022-02-17T23:15:38.187Z"
   },
   {
    "duration": 521,
    "start_time": "2022-02-17T23:15:38.263Z"
   },
   {
    "duration": 474,
    "start_time": "2022-02-17T23:15:38.787Z"
   },
   {
    "duration": 289,
    "start_time": "2022-02-17T23:15:39.264Z"
   },
   {
    "duration": 70,
    "start_time": "2022-02-17T23:15:39.556Z"
   },
   {
    "duration": 180,
    "start_time": "2022-02-17T23:15:39.630Z"
   },
   {
    "duration": 37,
    "start_time": "2022-02-17T23:15:39.813Z"
   },
   {
    "duration": 24,
    "start_time": "2022-02-17T23:15:39.854Z"
   },
   {
    "duration": 62,
    "start_time": "2022-02-17T23:15:39.881Z"
   },
   {
    "duration": 46,
    "start_time": "2022-02-17T23:15:39.946Z"
   },
   {
    "duration": 128,
    "start_time": "2022-02-17T23:15:39.995Z"
   },
   {
    "duration": 74,
    "start_time": "2022-02-17T23:15:40.128Z"
   },
   {
    "duration": 37,
    "start_time": "2022-02-17T23:15:40.205Z"
   },
   {
    "duration": 60,
    "start_time": "2022-02-17T23:15:40.250Z"
   },
   {
    "duration": 71,
    "start_time": "2022-02-17T23:15:40.313Z"
   },
   {
    "duration": 62,
    "start_time": "2022-02-17T23:15:40.387Z"
   },
   {
    "duration": 175,
    "start_time": "2022-02-17T23:15:40.453Z"
   },
   {
    "duration": 207,
    "start_time": "2022-02-17T23:15:40.630Z"
   },
   {
    "duration": 52,
    "start_time": "2022-02-17T23:15:40.840Z"
   },
   {
    "duration": 163,
    "start_time": "2022-02-17T23:15:40.896Z"
   },
   {
    "duration": 13,
    "start_time": "2022-02-17T23:15:41.071Z"
   },
   {
    "duration": 3500,
    "start_time": "2022-02-17T23:15:41.087Z"
   },
   {
    "duration": 123,
    "start_time": "2022-02-17T23:15:44.589Z"
   },
   {
    "duration": 145,
    "start_time": "2022-02-17T23:15:44.714Z"
   },
   {
    "duration": 6,
    "start_time": "2022-02-17T23:15:44.862Z"
   },
   {
    "duration": 1901,
    "start_time": "2022-02-17T23:15:44.871Z"
   },
   {
    "duration": 87,
    "start_time": "2022-02-17T23:15:46.775Z"
   },
   {
    "duration": 90,
    "start_time": "2022-02-17T23:15:46.865Z"
   },
   {
    "duration": 10027,
    "start_time": "2022-02-17T23:15:46.957Z"
   },
   {
    "duration": 127,
    "start_time": "2022-02-17T23:15:56.987Z"
   },
   {
    "duration": 142,
    "start_time": "2022-02-17T23:15:57.116Z"
   },
   {
    "duration": 6058,
    "start_time": "2022-02-17T23:15:57.261Z"
   },
   {
    "duration": 79,
    "start_time": "2022-02-17T23:16:03.322Z"
   },
   {
    "duration": 133,
    "start_time": "2022-02-17T23:16:03.403Z"
   },
   {
    "duration": 7573,
    "start_time": "2022-02-17T23:16:03.539Z"
   },
   {
    "duration": 138,
    "start_time": "2022-02-17T23:16:11.114Z"
   },
   {
    "duration": 139,
    "start_time": "2022-02-17T23:16:11.254Z"
   },
   {
    "duration": 32,
    "start_time": "2022-02-17T23:16:11.396Z"
   },
   {
    "duration": 2653,
    "start_time": "2022-02-17T23:16:11.431Z"
   },
   {
    "duration": 119,
    "start_time": "2022-02-17T23:16:14.087Z"
   },
   {
    "duration": 148,
    "start_time": "2022-02-17T23:16:14.209Z"
   },
   {
    "duration": 80,
    "start_time": "2022-02-17T23:16:14.359Z"
   },
   {
    "duration": 103,
    "start_time": "2022-02-17T23:16:14.442Z"
   },
   {
    "duration": 153,
    "start_time": "2022-02-17T23:16:14.547Z"
   },
   {
    "duration": 42,
    "start_time": "2022-02-17T23:16:14.703Z"
   },
   {
    "duration": 20,
    "start_time": "2022-02-17T23:16:14.754Z"
   },
   {
    "duration": 512,
    "start_time": "2022-02-17T23:16:14.777Z"
   },
   {
    "duration": 406,
    "start_time": "2022-02-17T23:16:15.292Z"
   },
   {
    "duration": 393,
    "start_time": "2022-02-17T23:16:15.701Z"
   },
   {
    "duration": 77,
    "start_time": "2022-02-17T23:16:16.096Z"
   },
   {
    "duration": 65,
    "start_time": "2022-02-17T23:16:16.176Z"
   },
   {
    "duration": 396,
    "start_time": "2022-02-17T23:16:16.244Z"
   },
   {
    "duration": 400,
    "start_time": "2022-02-17T23:16:16.643Z"
   },
   {
    "duration": 38,
    "start_time": "2022-02-17T23:16:17.046Z"
   },
   {
    "duration": 59,
    "start_time": "2022-02-17T23:16:17.087Z"
   },
   {
    "duration": 183,
    "start_time": "2022-02-17T23:16:17.149Z"
   },
   {
    "duration": 178,
    "start_time": "2022-02-17T23:16:17.335Z"
   },
   {
    "duration": 70,
    "start_time": "2022-02-17T23:16:17.516Z"
   },
   {
    "duration": 83,
    "start_time": "2022-02-17T23:16:17.589Z"
   },
   {
    "duration": 70,
    "start_time": "2022-02-17T23:16:17.675Z"
   },
   {
    "duration": 135,
    "start_time": "2022-02-17T23:16:17.748Z"
   },
   {
    "duration": 65,
    "start_time": "2022-02-17T23:16:17.886Z"
   },
   {
    "duration": 33,
    "start_time": "2022-02-17T23:16:17.954Z"
   },
   {
    "duration": 1451,
    "start_time": "2022-02-17T23:16:17.990Z"
   },
   {
    "duration": 1351,
    "start_time": "2022-02-17T23:16:19.444Z"
   },
   {
    "duration": 1101,
    "start_time": "2022-02-17T23:16:20.798Z"
   },
   {
    "duration": 56,
    "start_time": "2022-02-17T23:16:21.902Z"
   },
   {
    "duration": 66,
    "start_time": "2022-02-17T23:16:21.961Z"
   },
   {
    "duration": 185,
    "start_time": "2022-02-17T23:16:22.030Z"
   },
   {
    "duration": 217,
    "start_time": "2022-02-17T23:16:22.218Z"
   },
   {
    "duration": 223,
    "start_time": "2022-02-17T23:16:22.438Z"
   },
   {
    "duration": 1289,
    "start_time": "2022-02-17T23:16:22.664Z"
   },
   {
    "duration": 6,
    "start_time": "2022-02-17T23:16:23.956Z"
   },
   {
    "duration": 8,
    "start_time": "2022-02-17T23:16:23.965Z"
   },
   {
    "duration": 6,
    "start_time": "2022-02-17T23:16:23.976Z"
   },
   {
    "duration": 67,
    "start_time": "2022-02-17T23:16:23.984Z"
   },
   {
    "duration": 784,
    "start_time": "2022-02-17T23:16:24.054Z"
   },
   {
    "duration": 915,
    "start_time": "2022-02-17T23:18:15.311Z"
   },
   {
    "duration": 454361,
    "start_time": "2022-02-17T23:19:01.324Z"
   },
   {
    "duration": 1669,
    "start_time": "2022-02-17T23:30:14.465Z"
   },
   {
    "duration": 1347,
    "start_time": "2022-02-17T23:30:16.137Z"
   },
   {
    "duration": 1514,
    "start_time": "2022-02-17T23:30:17.487Z"
   },
   {
    "duration": 237,
    "start_time": "2022-02-17T23:30:19.004Z"
   },
   {
    "duration": 226,
    "start_time": "2022-02-17T23:30:19.244Z"
   },
   {
    "duration": 240,
    "start_time": "2022-02-17T23:30:19.474Z"
   },
   {
    "duration": 160,
    "start_time": "2022-02-17T23:30:19.726Z"
   },
   {
    "duration": 38,
    "start_time": "2022-02-17T23:30:19.891Z"
   },
   {
    "duration": 59,
    "start_time": "2022-02-17T23:30:19.932Z"
   },
   {
    "duration": 69,
    "start_time": "2022-02-17T23:30:19.993Z"
   },
   {
    "duration": 189,
    "start_time": "2022-02-17T23:30:20.064Z"
   },
   {
    "duration": 22,
    "start_time": "2022-02-17T23:30:20.256Z"
   },
   {
    "duration": 72,
    "start_time": "2022-02-17T23:30:20.280Z"
   },
   {
    "duration": 166,
    "start_time": "2022-02-17T23:30:20.355Z"
   },
   {
    "duration": 104,
    "start_time": "2022-02-17T23:30:20.525Z"
   },
   {
    "duration": 414,
    "start_time": "2022-02-17T23:30:20.631Z"
   },
   {
    "duration": 155,
    "start_time": "2022-02-17T23:30:21.048Z"
   },
   {
    "duration": 161,
    "start_time": "2022-02-17T23:30:21.206Z"
   },
   {
    "duration": 425,
    "start_time": "2022-02-17T23:30:21.370Z"
   },
   {
    "duration": 34,
    "start_time": "2022-02-17T23:30:21.797Z"
   },
   {
    "duration": 21,
    "start_time": "2022-02-17T23:30:21.834Z"
   },
   {
    "duration": 461,
    "start_time": "2022-02-17T23:30:21.858Z"
   },
   {
    "duration": 46,
    "start_time": "2022-02-17T23:30:22.325Z"
   },
   {
    "duration": 424,
    "start_time": "2022-02-17T23:30:22.374Z"
   },
   {
    "duration": 417,
    "start_time": "2022-02-17T23:30:22.800Z"
   },
   {
    "duration": 285,
    "start_time": "2022-02-17T23:30:23.225Z"
   },
   {
    "duration": 61,
    "start_time": "2022-02-17T23:30:23.513Z"
   },
   {
    "duration": 155,
    "start_time": "2022-02-17T23:30:23.577Z"
   },
   {
    "duration": 22,
    "start_time": "2022-02-17T23:30:23.735Z"
   },
   {
    "duration": 20,
    "start_time": "2022-02-17T23:30:23.760Z"
   },
   {
    "duration": 58,
    "start_time": "2022-02-17T23:30:23.783Z"
   },
   {
    "duration": 45,
    "start_time": "2022-02-17T23:30:23.844Z"
   },
   {
    "duration": 123,
    "start_time": "2022-02-17T23:30:23.892Z"
   },
   {
    "duration": 67,
    "start_time": "2022-02-17T23:30:24.017Z"
   },
   {
    "duration": 3,
    "start_time": "2022-02-17T23:30:24.087Z"
   },
   {
    "duration": 78,
    "start_time": "2022-02-17T23:30:24.092Z"
   },
   {
    "duration": 68,
    "start_time": "2022-02-17T23:30:24.172Z"
   },
   {
    "duration": 42,
    "start_time": "2022-02-17T23:30:24.243Z"
   },
   {
    "duration": 178,
    "start_time": "2022-02-17T23:30:24.288Z"
   },
   {
    "duration": 159,
    "start_time": "2022-02-17T23:30:24.469Z"
   },
   {
    "duration": 40,
    "start_time": "2022-02-17T23:30:24.631Z"
   },
   {
    "duration": 109,
    "start_time": "2022-02-17T23:30:24.674Z"
   },
   {
    "duration": 7,
    "start_time": "2022-02-17T23:30:24.786Z"
   },
   {
    "duration": 3309,
    "start_time": "2022-02-17T23:30:24.796Z"
   },
   {
    "duration": 123,
    "start_time": "2022-02-17T23:30:28.107Z"
   },
   {
    "duration": 147,
    "start_time": "2022-02-17T23:30:28.232Z"
   },
   {
    "duration": 6,
    "start_time": "2022-02-17T23:30:28.381Z"
   },
   {
    "duration": 2008,
    "start_time": "2022-02-17T23:30:28.389Z"
   },
   {
    "duration": 93,
    "start_time": "2022-02-17T23:30:30.400Z"
   },
   {
    "duration": 91,
    "start_time": "2022-02-17T23:30:30.496Z"
   },
   {
    "duration": 9823,
    "start_time": "2022-02-17T23:30:30.590Z"
   },
   {
    "duration": 127,
    "start_time": "2022-02-17T23:30:40.416Z"
   },
   {
    "duration": 149,
    "start_time": "2022-02-17T23:30:40.545Z"
   },
   {
    "duration": 5868,
    "start_time": "2022-02-17T23:30:40.696Z"
   },
   {
    "duration": 88,
    "start_time": "2022-02-17T23:30:46.566Z"
   },
   {
    "duration": 87,
    "start_time": "2022-02-17T23:30:46.656Z"
   },
   {
    "duration": 7635,
    "start_time": "2022-02-17T23:30:46.745Z"
   },
   {
    "duration": 136,
    "start_time": "2022-02-17T23:30:54.383Z"
   },
   {
    "duration": 136,
    "start_time": "2022-02-17T23:30:54.526Z"
   },
   {
    "duration": 20,
    "start_time": "2022-02-17T23:30:54.664Z"
   },
   {
    "duration": 1939,
    "start_time": "2022-02-17T23:30:54.687Z"
   },
   {
    "duration": 79,
    "start_time": "2022-02-17T23:30:56.628Z"
   },
   {
    "duration": 98,
    "start_time": "2022-02-17T23:30:56.709Z"
   },
   {
    "duration": 77,
    "start_time": "2022-02-17T23:30:56.810Z"
   },
   {
    "duration": 118,
    "start_time": "2022-02-17T23:30:56.889Z"
   },
   {
    "duration": 95,
    "start_time": "2022-02-17T23:30:57.010Z"
   },
   {
    "duration": 34,
    "start_time": "2022-02-17T23:30:57.107Z"
   },
   {
    "duration": 20,
    "start_time": "2022-02-17T23:30:57.150Z"
   },
   {
    "duration": 527,
    "start_time": "2022-02-17T23:30:57.174Z"
   },
   {
    "duration": 506,
    "start_time": "2022-02-17T23:30:57.704Z"
   },
   {
    "duration": 412,
    "start_time": "2022-02-17T23:30:58.213Z"
   },
   {
    "duration": 68,
    "start_time": "2022-02-17T23:30:58.628Z"
   },
   {
    "duration": 76,
    "start_time": "2022-02-17T23:30:58.699Z"
   },
   {
    "duration": 407,
    "start_time": "2022-02-17T23:30:58.778Z"
   },
   {
    "duration": 407,
    "start_time": "2022-02-17T23:30:59.188Z"
   },
   {
    "duration": 42,
    "start_time": "2022-02-17T23:30:59.598Z"
   },
   {
    "duration": 42,
    "start_time": "2022-02-17T23:30:59.642Z"
   },
   {
    "duration": 141,
    "start_time": "2022-02-17T23:30:59.686Z"
   },
   {
    "duration": 124,
    "start_time": "2022-02-17T23:30:59.829Z"
   },
   {
    "duration": 39,
    "start_time": "2022-02-17T23:30:59.955Z"
   },
   {
    "duration": 51,
    "start_time": "2022-02-17T23:30:59.996Z"
   },
   {
    "duration": 50,
    "start_time": "2022-02-17T23:31:00.050Z"
   },
   {
    "duration": 86,
    "start_time": "2022-02-17T23:31:00.103Z"
   },
   {
    "duration": 55,
    "start_time": "2022-02-17T23:31:00.192Z"
   },
   {
    "duration": 28,
    "start_time": "2022-02-17T23:31:00.250Z"
   },
   {
    "duration": 981,
    "start_time": "2022-02-17T23:31:00.281Z"
   },
   {
    "duration": 899,
    "start_time": "2022-02-17T23:31:01.264Z"
   },
   {
    "duration": 1266,
    "start_time": "2022-02-17T23:31:02.165Z"
   },
   {
    "duration": 42,
    "start_time": "2022-02-17T23:31:03.434Z"
   },
   {
    "duration": 64,
    "start_time": "2022-02-17T23:31:03.479Z"
   },
   {
    "duration": 181,
    "start_time": "2022-02-17T23:31:03.545Z"
   },
   {
    "duration": 217,
    "start_time": "2022-02-17T23:31:03.728Z"
   },
   {
    "duration": 199,
    "start_time": "2022-02-17T23:31:03.948Z"
   },
   {
    "duration": 991,
    "start_time": "2022-02-17T23:31:04.149Z"
   },
   {
    "duration": 5,
    "start_time": "2022-02-17T23:31:05.142Z"
   },
   {
    "duration": 13,
    "start_time": "2022-02-17T23:31:05.150Z"
   },
   {
    "duration": 7,
    "start_time": "2022-02-17T23:31:05.165Z"
   },
   {
    "duration": 25,
    "start_time": "2022-02-17T23:31:13.210Z"
   },
   {
    "duration": 512,
    "start_time": "2022-02-17T23:32:02.874Z"
   },
   {
    "duration": 1012,
    "start_time": "2022-02-17T23:32:17.322Z"
   },
   {
    "duration": 1740,
    "start_time": "2022-02-17T23:34:39.701Z"
   },
   {
    "duration": 1371,
    "start_time": "2022-02-17T23:34:41.444Z"
   },
   {
    "duration": 1632,
    "start_time": "2022-02-17T23:34:42.818Z"
   },
   {
    "duration": 180,
    "start_time": "2022-02-17T23:34:44.453Z"
   },
   {
    "duration": 145,
    "start_time": "2022-02-17T23:34:44.636Z"
   },
   {
    "duration": 168,
    "start_time": "2022-02-17T23:34:44.783Z"
   },
   {
    "duration": 173,
    "start_time": "2022-02-17T23:34:44.953Z"
   },
   {
    "duration": 28,
    "start_time": "2022-02-17T23:34:45.131Z"
   },
   {
    "duration": 88,
    "start_time": "2022-02-17T23:34:45.163Z"
   },
   {
    "duration": 49,
    "start_time": "2022-02-17T23:34:45.254Z"
   },
   {
    "duration": 168,
    "start_time": "2022-02-17T23:34:45.326Z"
   },
   {
    "duration": 22,
    "start_time": "2022-02-17T23:34:45.496Z"
   },
   {
    "duration": 47,
    "start_time": "2022-02-17T23:34:45.527Z"
   },
   {
    "duration": 177,
    "start_time": "2022-02-17T23:34:45.576Z"
   },
   {
    "duration": 108,
    "start_time": "2022-02-17T23:34:45.756Z"
   },
   {
    "duration": 409,
    "start_time": "2022-02-17T23:34:45.867Z"
   },
   {
    "duration": 157,
    "start_time": "2022-02-17T23:34:46.278Z"
   },
   {
    "duration": 162,
    "start_time": "2022-02-17T23:34:46.437Z"
   },
   {
    "duration": 430,
    "start_time": "2022-02-17T23:34:46.601Z"
   },
   {
    "duration": 26,
    "start_time": "2022-02-17T23:34:47.034Z"
   },
   {
    "duration": 23,
    "start_time": "2022-02-17T23:34:47.063Z"
   },
   {
    "duration": 480,
    "start_time": "2022-02-17T23:34:47.089Z"
   },
   {
    "duration": 62,
    "start_time": "2022-02-17T23:34:47.577Z"
   },
   {
    "duration": 423,
    "start_time": "2022-02-17T23:34:47.643Z"
   },
   {
    "duration": 416,
    "start_time": "2022-02-17T23:34:48.070Z"
   },
   {
    "duration": 253,
    "start_time": "2022-02-17T23:34:48.490Z"
   },
   {
    "duration": 62,
    "start_time": "2022-02-17T23:34:48.746Z"
   },
   {
    "duration": 144,
    "start_time": "2022-02-17T23:34:48.827Z"
   },
   {
    "duration": 20,
    "start_time": "2022-02-17T23:34:48.974Z"
   },
   {
    "duration": 43,
    "start_time": "2022-02-17T23:34:48.997Z"
   },
   {
    "duration": 22,
    "start_time": "2022-02-17T23:34:49.043Z"
   },
   {
    "duration": 79,
    "start_time": "2022-02-17T23:34:49.068Z"
   },
   {
    "duration": 118,
    "start_time": "2022-02-17T23:34:49.150Z"
   },
   {
    "duration": 83,
    "start_time": "2022-02-17T23:34:49.271Z"
   },
   {
    "duration": 4,
    "start_time": "2022-02-17T23:34:49.357Z"
   },
   {
    "duration": 68,
    "start_time": "2022-02-17T23:34:49.364Z"
   },
   {
    "duration": 49,
    "start_time": "2022-02-17T23:34:49.435Z"
   },
   {
    "duration": 61,
    "start_time": "2022-02-17T23:34:49.486Z"
   },
   {
    "duration": 158,
    "start_time": "2022-02-17T23:34:49.549Z"
   },
   {
    "duration": 153,
    "start_time": "2022-02-17T23:34:49.709Z"
   },
   {
    "duration": 39,
    "start_time": "2022-02-17T23:34:49.864Z"
   },
   {
    "duration": 103,
    "start_time": "2022-02-17T23:34:49.905Z"
   },
   {
    "duration": 20,
    "start_time": "2022-02-17T23:34:50.011Z"
   },
   {
    "duration": 3376,
    "start_time": "2022-02-17T23:34:50.034Z"
   },
   {
    "duration": 133,
    "start_time": "2022-02-17T23:34:53.413Z"
   },
   {
    "duration": 142,
    "start_time": "2022-02-17T23:34:53.549Z"
   },
   {
    "duration": 6,
    "start_time": "2022-02-17T23:34:53.694Z"
   },
   {
    "duration": 1951,
    "start_time": "2022-02-17T23:34:53.703Z"
   },
   {
    "duration": 86,
    "start_time": "2022-02-17T23:34:55.656Z"
   },
   {
    "duration": 95,
    "start_time": "2022-02-17T23:34:55.744Z"
   },
   {
    "duration": 9801,
    "start_time": "2022-02-17T23:34:55.841Z"
   },
   {
    "duration": 126,
    "start_time": "2022-02-17T23:35:05.644Z"
   },
   {
    "duration": 139,
    "start_time": "2022-02-17T23:35:05.772Z"
   },
   {
    "duration": 5791,
    "start_time": "2022-02-17T23:35:05.913Z"
   },
   {
    "duration": 79,
    "start_time": "2022-02-17T23:35:11.707Z"
   },
   {
    "duration": 95,
    "start_time": "2022-02-17T23:35:11.788Z"
   },
   {
    "duration": 7153,
    "start_time": "2022-02-17T23:35:11.886Z"
   },
   {
    "duration": 121,
    "start_time": "2022-02-17T23:35:19.042Z"
   },
   {
    "duration": 139,
    "start_time": "2022-02-17T23:35:19.166Z"
   },
   {
    "duration": 32,
    "start_time": "2022-02-17T23:35:19.307Z"
   },
   {
    "duration": 2079,
    "start_time": "2022-02-17T23:35:19.341Z"
   },
   {
    "duration": 78,
    "start_time": "2022-02-17T23:35:21.426Z"
   },
   {
    "duration": 97,
    "start_time": "2022-02-17T23:35:21.507Z"
   },
   {
    "duration": 84,
    "start_time": "2022-02-17T23:35:21.607Z"
   },
   {
    "duration": 109,
    "start_time": "2022-02-17T23:35:21.694Z"
   },
   {
    "duration": 95,
    "start_time": "2022-02-17T23:35:21.805Z"
   },
   {
    "duration": 40,
    "start_time": "2022-02-17T23:35:21.903Z"
   },
   {
    "duration": 21,
    "start_time": "2022-02-17T23:35:21.951Z"
   },
   {
    "duration": 517,
    "start_time": "2022-02-17T23:35:21.977Z"
   },
   {
    "duration": 420,
    "start_time": "2022-02-17T23:35:22.498Z"
   },
   {
    "duration": 412,
    "start_time": "2022-02-17T23:35:22.926Z"
   },
   {
    "duration": 64,
    "start_time": "2022-02-17T23:35:23.340Z"
   },
   {
    "duration": 76,
    "start_time": "2022-02-17T23:35:23.406Z"
   },
   {
    "duration": 441,
    "start_time": "2022-02-17T23:35:23.485Z"
   },
   {
    "duration": 440,
    "start_time": "2022-02-17T23:35:23.929Z"
   },
   {
    "duration": 56,
    "start_time": "2022-02-17T23:35:24.372Z"
   },
   {
    "duration": 41,
    "start_time": "2022-02-17T23:35:24.430Z"
   },
   {
    "duration": 135,
    "start_time": "2022-02-17T23:35:24.474Z"
   },
   {
    "duration": 124,
    "start_time": "2022-02-17T23:35:24.612Z"
   },
   {
    "duration": 37,
    "start_time": "2022-02-17T23:35:24.738Z"
   },
   {
    "duration": 59,
    "start_time": "2022-02-17T23:35:24.777Z"
   },
   {
    "duration": 37,
    "start_time": "2022-02-17T23:35:24.839Z"
   },
   {
    "duration": 97,
    "start_time": "2022-02-17T23:35:24.878Z"
   },
   {
    "duration": 59,
    "start_time": "2022-02-17T23:35:24.977Z"
   },
   {
    "duration": 29,
    "start_time": "2022-02-17T23:35:25.038Z"
   },
   {
    "duration": 1006,
    "start_time": "2022-02-17T23:35:25.070Z"
   },
   {
    "duration": 1188,
    "start_time": "2022-02-17T23:35:26.078Z"
   },
   {
    "duration": 797,
    "start_time": "2022-02-17T23:35:27.269Z"
   },
   {
    "duration": 58,
    "start_time": "2022-02-17T23:35:28.068Z"
   },
   {
    "duration": 48,
    "start_time": "2022-02-17T23:35:28.128Z"
   },
   {
    "duration": 197,
    "start_time": "2022-02-17T23:35:28.179Z"
   },
   {
    "duration": 201,
    "start_time": "2022-02-17T23:35:28.379Z"
   },
   {
    "duration": 185,
    "start_time": "2022-02-17T23:35:28.582Z"
   },
   {
    "duration": 879,
    "start_time": "2022-02-17T23:35:28.769Z"
   },
   {
    "duration": 6,
    "start_time": "2022-02-17T23:35:29.650Z"
   },
   {
    "duration": 11,
    "start_time": "2022-02-17T23:35:29.658Z"
   },
   {
    "duration": 6,
    "start_time": "2022-02-17T23:35:29.671Z"
   },
   {
    "duration": 55,
    "start_time": "2022-02-17T23:35:29.679Z"
   },
   {
    "duration": 575,
    "start_time": "2022-02-17T23:36:10.117Z"
   },
   {
    "duration": 902,
    "start_time": "2022-02-17T23:36:23.623Z"
   },
   {
    "duration": 1612,
    "start_time": "2022-02-17T23:40:47.215Z"
   },
   {
    "duration": 1364,
    "start_time": "2022-02-17T23:40:48.829Z"
   },
   {
    "duration": 1551,
    "start_time": "2022-02-17T23:40:50.196Z"
   },
   {
    "duration": 176,
    "start_time": "2022-02-17T23:40:51.750Z"
   },
   {
    "duration": 158,
    "start_time": "2022-02-17T23:40:51.929Z"
   },
   {
    "duration": 200,
    "start_time": "2022-02-17T23:40:52.090Z"
   },
   {
    "duration": 179,
    "start_time": "2022-02-17T23:40:52.293Z"
   },
   {
    "duration": 30,
    "start_time": "2022-02-17T23:40:52.476Z"
   },
   {
    "duration": 63,
    "start_time": "2022-02-17T23:40:52.525Z"
   },
   {
    "duration": 59,
    "start_time": "2022-02-17T23:40:52.591Z"
   },
   {
    "duration": 179,
    "start_time": "2022-02-17T23:40:52.653Z"
   },
   {
    "duration": 23,
    "start_time": "2022-02-17T23:40:52.834Z"
   },
   {
    "duration": 68,
    "start_time": "2022-02-17T23:40:52.859Z"
   },
   {
    "duration": 165,
    "start_time": "2022-02-17T23:40:52.929Z"
   },
   {
    "duration": 104,
    "start_time": "2022-02-17T23:40:53.097Z"
   },
   {
    "duration": 414,
    "start_time": "2022-02-17T23:40:53.204Z"
   },
   {
    "duration": 170,
    "start_time": "2022-02-17T23:40:53.625Z"
   },
   {
    "duration": 159,
    "start_time": "2022-02-17T23:40:53.797Z"
   },
   {
    "duration": 462,
    "start_time": "2022-02-17T23:40:53.959Z"
   },
   {
    "duration": 20,
    "start_time": "2022-02-17T23:40:54.426Z"
   },
   {
    "duration": 24,
    "start_time": "2022-02-17T23:40:54.449Z"
   },
   {
    "duration": 456,
    "start_time": "2022-02-17T23:40:54.476Z"
   },
   {
    "duration": 47,
    "start_time": "2022-02-17T23:40:54.937Z"
   },
   {
    "duration": 418,
    "start_time": "2022-02-17T23:40:54.989Z"
   },
   {
    "duration": 403,
    "start_time": "2022-02-17T23:40:55.410Z"
   },
   {
    "duration": 258,
    "start_time": "2022-02-17T23:40:55.816Z"
   },
   {
    "duration": 56,
    "start_time": "2022-02-17T23:40:56.077Z"
   },
   {
    "duration": 143,
    "start_time": "2022-02-17T23:40:56.135Z"
   },
   {
    "duration": 21,
    "start_time": "2022-02-17T23:40:56.281Z"
   },
   {
    "duration": 37,
    "start_time": "2022-02-17T23:40:56.304Z"
   },
   {
    "duration": 21,
    "start_time": "2022-02-17T23:40:56.344Z"
   },
   {
    "duration": 74,
    "start_time": "2022-02-17T23:40:56.367Z"
   },
   {
    "duration": 113,
    "start_time": "2022-02-17T23:40:56.443Z"
   },
   {
    "duration": 76,
    "start_time": "2022-02-17T23:40:56.559Z"
   },
   {
    "duration": 3,
    "start_time": "2022-02-17T23:40:56.638Z"
   },
   {
    "duration": 51,
    "start_time": "2022-02-17T23:40:56.644Z"
   },
   {
    "duration": 71,
    "start_time": "2022-02-17T23:40:56.697Z"
   },
   {
    "duration": 59,
    "start_time": "2022-02-17T23:40:56.771Z"
   },
   {
    "duration": 147,
    "start_time": "2022-02-17T23:40:56.833Z"
   },
   {
    "duration": 159,
    "start_time": "2022-02-17T23:40:56.982Z"
   },
   {
    "duration": 40,
    "start_time": "2022-02-17T23:40:57.144Z"
   },
   {
    "duration": 131,
    "start_time": "2022-02-17T23:40:57.186Z"
   },
   {
    "duration": 22,
    "start_time": "2022-02-17T23:40:57.319Z"
   },
   {
    "duration": 3372,
    "start_time": "2022-02-17T23:40:57.344Z"
   },
   {
    "duration": 116,
    "start_time": "2022-02-17T23:41:00.719Z"
   },
   {
    "duration": 140,
    "start_time": "2022-02-17T23:41:00.837Z"
   },
   {
    "duration": 7,
    "start_time": "2022-02-17T23:41:00.979Z"
   },
   {
    "duration": 1864,
    "start_time": "2022-02-17T23:41:00.988Z"
   },
   {
    "duration": 99,
    "start_time": "2022-02-17T23:41:02.854Z"
   },
   {
    "duration": 88,
    "start_time": "2022-02-17T23:41:02.956Z"
   },
   {
    "duration": 10115,
    "start_time": "2022-02-17T23:41:03.046Z"
   },
   {
    "duration": 131,
    "start_time": "2022-02-17T23:41:13.164Z"
   },
   {
    "duration": 149,
    "start_time": "2022-02-17T23:41:13.297Z"
   },
   {
    "duration": 5987,
    "start_time": "2022-02-17T23:41:13.449Z"
   },
   {
    "duration": 88,
    "start_time": "2022-02-17T23:41:19.438Z"
   },
   {
    "duration": 84,
    "start_time": "2022-02-17T23:41:19.528Z"
   },
   {
    "duration": 7864,
    "start_time": "2022-02-17T23:41:19.614Z"
   },
   {
    "duration": 139,
    "start_time": "2022-02-17T23:41:27.481Z"
   },
   {
    "duration": 149,
    "start_time": "2022-02-17T23:41:27.622Z"
   },
   {
    "duration": 20,
    "start_time": "2022-02-17T23:41:27.773Z"
   },
   {
    "duration": 2013,
    "start_time": "2022-02-17T23:41:27.795Z"
   },
   {
    "duration": 90,
    "start_time": "2022-02-17T23:41:29.810Z"
   },
   {
    "duration": 96,
    "start_time": "2022-02-17T23:41:29.903Z"
   },
   {
    "duration": 75,
    "start_time": "2022-02-17T23:41:30.002Z"
   },
   {
    "duration": 120,
    "start_time": "2022-02-17T23:41:30.079Z"
   },
   {
    "duration": 96,
    "start_time": "2022-02-17T23:41:30.201Z"
   },
   {
    "duration": 37,
    "start_time": "2022-02-17T23:41:30.299Z"
   },
   {
    "duration": 21,
    "start_time": "2022-02-17T23:41:30.343Z"
   },
   {
    "duration": 524,
    "start_time": "2022-02-17T23:42:39.367Z"
   },
   {
    "duration": 382,
    "start_time": "2022-02-17T23:42:50.293Z"
   },
   {
    "duration": 402,
    "start_time": "2022-02-17T23:43:00.095Z"
   },
   {
    "duration": 385,
    "start_time": "2022-02-17T23:43:09.246Z"
   },
   {
    "duration": 363,
    "start_time": "2022-02-17T23:43:26.293Z"
   },
   {
    "duration": 385,
    "start_time": "2022-02-17T23:43:55.771Z"
   },
   {
    "duration": 380,
    "start_time": "2022-02-17T23:44:15.463Z"
   },
   {
    "duration": 1697,
    "start_time": "2022-02-17T23:46:14.445Z"
   },
   {
    "duration": 1359,
    "start_time": "2022-02-17T23:46:16.144Z"
   },
   {
    "duration": 1520,
    "start_time": "2022-02-17T23:46:17.506Z"
   },
   {
    "duration": 174,
    "start_time": "2022-02-17T23:46:19.029Z"
   },
   {
    "duration": 142,
    "start_time": "2022-02-17T23:46:19.205Z"
   },
   {
    "duration": 168,
    "start_time": "2022-02-17T23:46:19.349Z"
   },
   {
    "duration": 170,
    "start_time": "2022-02-17T23:46:19.520Z"
   },
   {
    "duration": 34,
    "start_time": "2022-02-17T23:46:19.693Z"
   },
   {
    "duration": 60,
    "start_time": "2022-02-17T23:46:19.731Z"
   },
   {
    "duration": 69,
    "start_time": "2022-02-17T23:46:19.793Z"
   },
   {
    "duration": 182,
    "start_time": "2022-02-17T23:46:19.864Z"
   },
   {
    "duration": 21,
    "start_time": "2022-02-17T23:46:20.049Z"
   },
   {
    "duration": 65,
    "start_time": "2022-02-17T23:46:20.072Z"
   },
   {
    "duration": 164,
    "start_time": "2022-02-17T23:46:20.139Z"
   },
   {
    "duration": 105,
    "start_time": "2022-02-17T23:46:20.305Z"
   },
   {
    "duration": 418,
    "start_time": "2022-02-17T23:46:20.425Z"
   },
   {
    "duration": 162,
    "start_time": "2022-02-17T23:46:20.846Z"
   },
   {
    "duration": 159,
    "start_time": "2022-02-17T23:46:21.011Z"
   },
   {
    "duration": 423,
    "start_time": "2022-02-17T23:46:21.172Z"
   },
   {
    "duration": 34,
    "start_time": "2022-02-17T23:46:21.597Z"
   },
   {
    "duration": 21,
    "start_time": "2022-02-17T23:46:21.633Z"
   },
   {
    "duration": 448,
    "start_time": "2022-02-17T23:46:21.656Z"
   },
   {
    "duration": 54,
    "start_time": "2022-02-17T23:46:22.111Z"
   },
   {
    "duration": 408,
    "start_time": "2022-02-17T23:46:22.169Z"
   },
   {
    "duration": 404,
    "start_time": "2022-02-17T23:46:22.580Z"
   },
   {
    "duration": 241,
    "start_time": "2022-02-17T23:46:22.986Z"
   },
   {
    "duration": 53,
    "start_time": "2022-02-17T23:46:23.229Z"
   },
   {
    "duration": 154,
    "start_time": "2022-02-17T23:46:23.285Z"
   },
   {
    "duration": 19,
    "start_time": "2022-02-17T23:46:23.442Z"
   },
   {
    "duration": 21,
    "start_time": "2022-02-17T23:46:23.464Z"
   },
   {
    "duration": 55,
    "start_time": "2022-02-17T23:46:23.488Z"
   },
   {
    "duration": 48,
    "start_time": "2022-02-17T23:46:23.546Z"
   },
   {
    "duration": 120,
    "start_time": "2022-02-17T23:46:23.596Z"
   },
   {
    "duration": 60,
    "start_time": "2022-02-17T23:46:23.727Z"
   },
   {
    "duration": 3,
    "start_time": "2022-02-17T23:46:23.790Z"
   },
   {
    "duration": 67,
    "start_time": "2022-02-17T23:46:23.796Z"
   },
   {
    "duration": 45,
    "start_time": "2022-02-17T23:46:23.866Z"
   },
   {
    "duration": 40,
    "start_time": "2022-02-17T23:46:23.927Z"
   },
   {
    "duration": 158,
    "start_time": "2022-02-17T23:46:23.969Z"
   },
   {
    "duration": 153,
    "start_time": "2022-02-17T23:46:24.130Z"
   },
   {
    "duration": 55,
    "start_time": "2022-02-17T23:46:24.287Z"
   },
   {
    "duration": 108,
    "start_time": "2022-02-17T23:46:24.345Z"
   },
   {
    "duration": 9,
    "start_time": "2022-02-17T23:46:24.456Z"
   },
   {
    "duration": 3423,
    "start_time": "2022-02-17T23:46:24.467Z"
   },
   {
    "duration": 129,
    "start_time": "2022-02-17T23:46:27.893Z"
   },
   {
    "duration": 145,
    "start_time": "2022-02-17T23:46:28.026Z"
   },
   {
    "duration": 8,
    "start_time": "2022-02-17T23:46:28.174Z"
   },
   {
    "duration": 1930,
    "start_time": "2022-02-17T23:46:28.185Z"
   },
   {
    "duration": 83,
    "start_time": "2022-02-17T23:46:30.117Z"
   },
   {
    "duration": 96,
    "start_time": "2022-02-17T23:46:30.203Z"
   },
   {
    "duration": 10213,
    "start_time": "2022-02-17T23:46:30.301Z"
   },
   {
    "duration": 123,
    "start_time": "2022-02-17T23:46:40.517Z"
   },
   {
    "duration": 144,
    "start_time": "2022-02-17T23:46:40.642Z"
   },
   {
    "duration": 6142,
    "start_time": "2022-02-17T23:46:40.789Z"
   },
   {
    "duration": 77,
    "start_time": "2022-02-17T23:46:46.933Z"
   },
   {
    "duration": 84,
    "start_time": "2022-02-17T23:46:47.026Z"
   },
   {
    "duration": 7611,
    "start_time": "2022-02-17T23:46:47.127Z"
   },
   {
    "duration": 137,
    "start_time": "2022-02-17T23:46:54.740Z"
   },
   {
    "duration": 146,
    "start_time": "2022-02-17T23:46:54.879Z"
   },
   {
    "duration": 19,
    "start_time": "2022-02-17T23:46:55.028Z"
   },
   {
    "duration": 1916,
    "start_time": "2022-02-17T23:46:55.049Z"
   },
   {
    "duration": 92,
    "start_time": "2022-02-17T23:46:56.968Z"
   },
   {
    "duration": 86,
    "start_time": "2022-02-17T23:46:57.062Z"
   },
   {
    "duration": 77,
    "start_time": "2022-02-17T23:46:57.150Z"
   },
   {
    "duration": 104,
    "start_time": "2022-02-17T23:46:57.229Z"
   },
   {
    "duration": 99,
    "start_time": "2022-02-17T23:46:57.336Z"
   },
   {
    "duration": 19,
    "start_time": "2022-02-17T23:46:57.437Z"
   },
   {
    "duration": 19,
    "start_time": "2022-02-17T23:46:57.465Z"
   },
   {
    "duration": 515,
    "start_time": "2022-02-17T23:46:57.488Z"
   },
   {
    "duration": 409,
    "start_time": "2022-02-17T23:46:58.006Z"
   },
   {
    "duration": 400,
    "start_time": "2022-02-17T23:46:58.418Z"
   },
   {
    "duration": 70,
    "start_time": "2022-02-17T23:46:58.820Z"
   },
   {
    "duration": 79,
    "start_time": "2022-02-17T23:46:58.893Z"
   },
   {
    "duration": 394,
    "start_time": "2022-02-17T23:46:58.974Z"
   },
   {
    "duration": 405,
    "start_time": "2022-02-17T23:46:59.371Z"
   },
   {
    "duration": 48,
    "start_time": "2022-02-17T23:46:59.778Z"
   },
   {
    "duration": 35,
    "start_time": "2022-02-17T23:46:59.829Z"
   },
   {
    "duration": 140,
    "start_time": "2022-02-17T23:46:59.867Z"
   },
   {
    "duration": 117,
    "start_time": "2022-02-17T23:47:00.010Z"
   },
   {
    "duration": 37,
    "start_time": "2022-02-17T23:47:00.130Z"
   },
   {
    "duration": 59,
    "start_time": "2022-02-17T23:47:00.169Z"
   },
   {
    "duration": 43,
    "start_time": "2022-02-17T23:47:00.230Z"
   },
   {
    "duration": 94,
    "start_time": "2022-02-17T23:47:00.276Z"
   },
   {
    "duration": 54,
    "start_time": "2022-02-17T23:47:00.372Z"
   },
   {
    "duration": 28,
    "start_time": "2022-02-17T23:47:00.428Z"
   },
   {
    "duration": 988,
    "start_time": "2022-02-17T23:47:00.458Z"
   },
   {
    "duration": 918,
    "start_time": "2022-02-17T23:47:01.448Z"
   },
   {
    "duration": 1148,
    "start_time": "2022-02-17T23:47:02.368Z"
   },
   {
    "duration": 48,
    "start_time": "2022-02-17T23:47:03.527Z"
   },
   {
    "duration": 55,
    "start_time": "2022-02-17T23:47:03.578Z"
   },
   {
    "duration": 186,
    "start_time": "2022-02-17T23:47:03.635Z"
   },
   {
    "duration": 219,
    "start_time": "2022-02-17T23:47:03.823Z"
   },
   {
    "duration": 193,
    "start_time": "2022-02-17T23:47:04.045Z"
   },
   {
    "duration": 875,
    "start_time": "2022-02-17T23:47:04.240Z"
   },
   {
    "duration": 9,
    "start_time": "2022-02-17T23:47:05.118Z"
   },
   {
    "duration": 13,
    "start_time": "2022-02-17T23:47:05.129Z"
   },
   {
    "duration": 10,
    "start_time": "2022-02-17T23:47:05.145Z"
   },
   {
    "duration": 28,
    "start_time": "2022-02-17T23:47:05.158Z"
   },
   {
    "duration": 551,
    "start_time": "2022-02-17T23:47:05.188Z"
   },
   {
    "duration": 976,
    "start_time": "2022-02-17T23:47:18.149Z"
   },
   {
    "duration": 1691,
    "start_time": "2022-02-17T23:48:52.688Z"
   },
   {
    "duration": 1390,
    "start_time": "2022-02-17T23:48:54.383Z"
   },
   {
    "duration": 1611,
    "start_time": "2022-02-17T23:48:55.776Z"
   },
   {
    "duration": 172,
    "start_time": "2022-02-17T23:48:57.390Z"
   },
   {
    "duration": 143,
    "start_time": "2022-02-17T23:48:57.564Z"
   },
   {
    "duration": 178,
    "start_time": "2022-02-17T23:48:57.709Z"
   },
   {
    "duration": 171,
    "start_time": "2022-02-17T23:48:57.890Z"
   },
   {
    "duration": 28,
    "start_time": "2022-02-17T23:48:58.065Z"
   },
   {
    "duration": 82,
    "start_time": "2022-02-17T23:48:58.096Z"
   },
   {
    "duration": 62,
    "start_time": "2022-02-17T23:48:58.181Z"
   },
   {
    "duration": 176,
    "start_time": "2022-02-17T23:48:58.245Z"
   },
   {
    "duration": 23,
    "start_time": "2022-02-17T23:48:58.425Z"
   },
   {
    "duration": 53,
    "start_time": "2022-02-17T23:48:58.451Z"
   },
   {
    "duration": 165,
    "start_time": "2022-02-17T23:48:58.526Z"
   },
   {
    "duration": 106,
    "start_time": "2022-02-17T23:48:58.694Z"
   },
   {
    "duration": 415,
    "start_time": "2022-02-17T23:48:58.802Z"
   },
   {
    "duration": 153,
    "start_time": "2022-02-17T23:48:59.225Z"
   },
   {
    "duration": 162,
    "start_time": "2022-02-17T23:48:59.381Z"
   },
   {
    "duration": 426,
    "start_time": "2022-02-17T23:48:59.545Z"
   },
   {
    "duration": 21,
    "start_time": "2022-02-17T23:48:59.974Z"
   },
   {
    "duration": 42,
    "start_time": "2022-02-17T23:48:59.998Z"
   },
   {
    "duration": 455,
    "start_time": "2022-02-17T23:49:00.042Z"
   },
   {
    "duration": 59,
    "start_time": "2022-02-17T23:49:00.503Z"
   },
   {
    "duration": 416,
    "start_time": "2022-02-17T23:49:00.566Z"
   },
   {
    "duration": 409,
    "start_time": "2022-02-17T23:49:00.985Z"
   },
   {
    "duration": 253,
    "start_time": "2022-02-17T23:49:01.397Z"
   },
   {
    "duration": 55,
    "start_time": "2022-02-17T23:49:01.653Z"
   },
   {
    "duration": 147,
    "start_time": "2022-02-17T23:49:01.711Z"
   },
   {
    "duration": 22,
    "start_time": "2022-02-17T23:49:01.861Z"
   },
   {
    "duration": 47,
    "start_time": "2022-02-17T23:49:01.886Z"
   },
   {
    "duration": 22,
    "start_time": "2022-02-17T23:49:01.936Z"
   },
   {
    "duration": 81,
    "start_time": "2022-02-17T23:49:01.961Z"
   },
   {
    "duration": 110,
    "start_time": "2022-02-17T23:49:02.045Z"
   },
   {
    "duration": 75,
    "start_time": "2022-02-17T23:49:02.158Z"
   },
   {
    "duration": 3,
    "start_time": "2022-02-17T23:49:02.236Z"
   },
   {
    "duration": 59,
    "start_time": "2022-02-17T23:49:02.242Z"
   },
   {
    "duration": 56,
    "start_time": "2022-02-17T23:49:02.304Z"
   },
   {
    "duration": 40,
    "start_time": "2022-02-17T23:49:02.362Z"
   },
   {
    "duration": 159,
    "start_time": "2022-02-17T23:49:02.404Z"
   },
   {
    "duration": 145,
    "start_time": "2022-02-17T23:49:02.565Z"
   },
   {
    "duration": 46,
    "start_time": "2022-02-17T23:49:02.712Z"
   },
   {
    "duration": 95,
    "start_time": "2022-02-17T23:49:02.761Z"
   },
   {
    "duration": 7,
    "start_time": "2022-02-17T23:49:02.858Z"
   },
   {
    "duration": 3346,
    "start_time": "2022-02-17T23:49:02.867Z"
   },
   {
    "duration": 127,
    "start_time": "2022-02-17T23:49:06.216Z"
   },
   {
    "duration": 143,
    "start_time": "2022-02-17T23:49:06.346Z"
   },
   {
    "duration": 6,
    "start_time": "2022-02-17T23:49:06.492Z"
   },
   {
    "duration": 1919,
    "start_time": "2022-02-17T23:49:06.500Z"
   },
   {
    "duration": 101,
    "start_time": "2022-02-17T23:49:08.426Z"
   },
   {
    "duration": 81,
    "start_time": "2022-02-17T23:49:08.530Z"
   },
   {
    "duration": 10012,
    "start_time": "2022-02-17T23:49:08.627Z"
   },
   {
    "duration": 124,
    "start_time": "2022-02-17T23:49:18.642Z"
   },
   {
    "duration": 144,
    "start_time": "2022-02-17T23:49:18.768Z"
   },
   {
    "duration": 6339,
    "start_time": "2022-02-17T23:49:18.915Z"
   },
   {
    "duration": 81,
    "start_time": "2022-02-17T23:49:25.257Z"
   },
   {
    "duration": 87,
    "start_time": "2022-02-17T23:49:25.340Z"
   },
   {
    "duration": 7711,
    "start_time": "2022-02-17T23:49:25.429Z"
   },
   {
    "duration": 132,
    "start_time": "2022-02-17T23:49:33.142Z"
   },
   {
    "duration": 149,
    "start_time": "2022-02-17T23:49:33.277Z"
   },
   {
    "duration": 21,
    "start_time": "2022-02-17T23:49:33.428Z"
   },
   {
    "duration": 1943,
    "start_time": "2022-02-17T23:49:33.452Z"
   },
   {
    "duration": 84,
    "start_time": "2022-02-17T23:49:35.398Z"
   },
   {
    "duration": 96,
    "start_time": "2022-02-17T23:49:35.484Z"
   },
   {
    "duration": 86,
    "start_time": "2022-02-17T23:49:35.583Z"
   },
   {
    "duration": 104,
    "start_time": "2022-02-17T23:49:35.672Z"
   },
   {
    "duration": 97,
    "start_time": "2022-02-17T23:49:35.778Z"
   },
   {
    "duration": 21,
    "start_time": "2022-02-17T23:49:35.878Z"
   },
   {
    "duration": 22,
    "start_time": "2022-02-17T23:50:02.971Z"
   },
   {
    "duration": 471,
    "start_time": "2022-02-17T23:50:09.474Z"
   },
   {
    "duration": 367,
    "start_time": "2022-02-17T23:50:20.540Z"
   },
   {
    "duration": 406,
    "start_time": "2022-02-17T23:50:44.036Z"
   },
   {
    "duration": 388,
    "start_time": "2022-02-17T23:51:27.964Z"
   },
   {
    "duration": 404,
    "start_time": "2022-02-17T23:51:38.341Z"
   },
   {
    "duration": 471,
    "start_time": "2022-02-17T23:52:53.091Z"
   },
   {
    "duration": 1715,
    "start_time": "2022-02-17T23:54:16.830Z"
   },
   {
    "duration": 1344,
    "start_time": "2022-02-17T23:54:18.548Z"
   },
   {
    "duration": 1592,
    "start_time": "2022-02-17T23:54:19.895Z"
   },
   {
    "duration": 185,
    "start_time": "2022-02-17T23:54:21.489Z"
   },
   {
    "duration": 145,
    "start_time": "2022-02-17T23:54:21.676Z"
   },
   {
    "duration": 178,
    "start_time": "2022-02-17T23:54:21.826Z"
   },
   {
    "duration": 172,
    "start_time": "2022-02-17T23:54:22.006Z"
   },
   {
    "duration": 27,
    "start_time": "2022-02-17T23:54:22.181Z"
   },
   {
    "duration": 74,
    "start_time": "2022-02-17T23:54:22.212Z"
   },
   {
    "duration": 66,
    "start_time": "2022-02-17T23:54:22.289Z"
   },
   {
    "duration": 176,
    "start_time": "2022-02-17T23:54:22.358Z"
   },
   {
    "duration": 23,
    "start_time": "2022-02-17T23:54:22.536Z"
   },
   {
    "duration": 74,
    "start_time": "2022-02-17T23:54:22.561Z"
   },
   {
    "duration": 168,
    "start_time": "2022-02-17T23:54:22.637Z"
   },
   {
    "duration": 118,
    "start_time": "2022-02-17T23:54:22.807Z"
   },
   {
    "duration": 417,
    "start_time": "2022-02-17T23:54:22.928Z"
   },
   {
    "duration": 160,
    "start_time": "2022-02-17T23:54:23.347Z"
   },
   {
    "duration": 157,
    "start_time": "2022-02-17T23:54:23.509Z"
   },
   {
    "duration": 425,
    "start_time": "2022-02-17T23:54:23.668Z"
   },
   {
    "duration": 33,
    "start_time": "2022-02-17T23:54:24.096Z"
   },
   {
    "duration": 21,
    "start_time": "2022-02-17T23:54:24.132Z"
   },
   {
    "duration": 475,
    "start_time": "2022-02-17T23:54:24.155Z"
   },
   {
    "duration": 48,
    "start_time": "2022-02-17T23:54:24.636Z"
   },
   {
    "duration": 416,
    "start_time": "2022-02-17T23:54:24.687Z"
   },
   {
    "duration": 407,
    "start_time": "2022-02-17T23:54:25.106Z"
   },
   {
    "duration": 243,
    "start_time": "2022-02-17T23:54:25.516Z"
   },
   {
    "duration": 52,
    "start_time": "2022-02-17T23:54:25.761Z"
   },
   {
    "duration": 139,
    "start_time": "2022-02-17T23:54:25.827Z"
   },
   {
    "duration": 20,
    "start_time": "2022-02-17T23:54:25.969Z"
   },
   {
    "duration": 40,
    "start_time": "2022-02-17T23:54:25.992Z"
   },
   {
    "duration": 20,
    "start_time": "2022-02-17T23:54:26.034Z"
   },
   {
    "duration": 71,
    "start_time": "2022-02-17T23:54:26.057Z"
   },
   {
    "duration": 106,
    "start_time": "2022-02-17T23:54:26.130Z"
   },
   {
    "duration": 63,
    "start_time": "2022-02-17T23:54:26.238Z"
   },
   {
    "duration": 25,
    "start_time": "2022-02-17T23:54:26.304Z"
   },
   {
    "duration": 48,
    "start_time": "2022-02-17T23:54:26.332Z"
   },
   {
    "duration": 66,
    "start_time": "2022-02-17T23:54:26.382Z"
   },
   {
    "duration": 41,
    "start_time": "2022-02-17T23:54:26.450Z"
   },
   {
    "duration": 171,
    "start_time": "2022-02-17T23:54:26.493Z"
   },
   {
    "duration": 150,
    "start_time": "2022-02-17T23:54:26.666Z"
   },
   {
    "duration": 39,
    "start_time": "2022-02-17T23:54:26.827Z"
   },
   {
    "duration": 96,
    "start_time": "2022-02-17T23:54:26.868Z"
   },
   {
    "duration": 6,
    "start_time": "2022-02-17T23:54:26.967Z"
   },
   {
    "duration": 3495,
    "start_time": "2022-02-17T23:54:26.975Z"
   },
   {
    "duration": 122,
    "start_time": "2022-02-17T23:54:30.472Z"
   },
   {
    "duration": 149,
    "start_time": "2022-02-17T23:54:30.596Z"
   },
   {
    "duration": 6,
    "start_time": "2022-02-17T23:54:30.747Z"
   },
   {
    "duration": 1871,
    "start_time": "2022-02-17T23:54:30.755Z"
   },
   {
    "duration": 79,
    "start_time": "2022-02-17T23:54:32.628Z"
   },
   {
    "duration": 100,
    "start_time": "2022-02-17T23:54:32.726Z"
   },
   {
    "duration": 10038,
    "start_time": "2022-02-17T23:54:32.828Z"
   },
   {
    "duration": 124,
    "start_time": "2022-02-17T23:54:42.868Z"
   },
   {
    "duration": 148,
    "start_time": "2022-02-17T23:54:42.995Z"
   },
   {
    "duration": 5867,
    "start_time": "2022-02-17T23:54:43.145Z"
   },
   {
    "duration": 80,
    "start_time": "2022-02-17T23:54:49.014Z"
   },
   {
    "duration": 98,
    "start_time": "2022-02-17T23:54:49.096Z"
   },
   {
    "duration": 7569,
    "start_time": "2022-02-17T23:54:49.196Z"
   },
   {
    "duration": 137,
    "start_time": "2022-02-17T23:54:56.768Z"
   },
   {
    "duration": 140,
    "start_time": "2022-02-17T23:54:56.908Z"
   },
   {
    "duration": 19,
    "start_time": "2022-02-17T23:54:57.050Z"
   },
   {
    "duration": 1941,
    "start_time": "2022-02-17T23:54:57.071Z"
   },
   {
    "duration": 89,
    "start_time": "2022-02-17T23:54:59.014Z"
   },
   {
    "duration": 98,
    "start_time": "2022-02-17T23:54:59.105Z"
   },
   {
    "duration": 76,
    "start_time": "2022-02-17T23:54:59.205Z"
   },
   {
    "duration": 101,
    "start_time": "2022-02-17T23:54:59.283Z"
   },
   {
    "duration": 103,
    "start_time": "2022-02-17T23:54:59.388Z"
   },
   {
    "duration": 38,
    "start_time": "2022-02-17T23:54:59.494Z"
   },
   {
    "duration": 22,
    "start_time": "2022-02-17T23:54:59.541Z"
   },
   {
    "duration": 527,
    "start_time": "2022-02-17T23:54:59.566Z"
   },
   {
    "duration": 414,
    "start_time": "2022-02-17T23:55:00.096Z"
   },
   {
    "duration": 414,
    "start_time": "2022-02-17T23:55:00.512Z"
   },
   {
    "duration": 67,
    "start_time": "2022-02-17T23:55:00.929Z"
   },
   {
    "duration": 74,
    "start_time": "2022-02-17T23:55:00.999Z"
   },
   {
    "duration": 397,
    "start_time": "2022-02-17T23:55:01.076Z"
   },
   {
    "duration": 400,
    "start_time": "2022-02-17T23:55:01.475Z"
   },
   {
    "duration": 52,
    "start_time": "2022-02-17T23:55:01.877Z"
   },
   {
    "duration": 59,
    "start_time": "2022-02-17T23:55:01.932Z"
   },
   {
    "duration": 130,
    "start_time": "2022-02-17T23:55:01.994Z"
   },
   {
    "duration": 112,
    "start_time": "2022-02-17T23:55:02.127Z"
   },
   {
    "duration": 39,
    "start_time": "2022-02-17T23:55:02.241Z"
   },
   {
    "duration": 62,
    "start_time": "2022-02-17T23:55:02.282Z"
   },
   {
    "duration": 42,
    "start_time": "2022-02-17T23:55:02.346Z"
   },
   {
    "duration": 91,
    "start_time": "2022-02-17T23:55:02.391Z"
   },
   {
    "duration": 57,
    "start_time": "2022-02-17T23:55:02.485Z"
   },
   {
    "duration": 28,
    "start_time": "2022-02-17T23:55:02.545Z"
   },
   {
    "duration": 978,
    "start_time": "2022-02-17T23:55:02.575Z"
   },
   {
    "duration": 927,
    "start_time": "2022-02-17T23:55:03.556Z"
   },
   {
    "duration": 1001,
    "start_time": "2022-02-17T23:55:04.485Z"
   },
   {
    "duration": 58,
    "start_time": "2022-02-17T23:55:05.489Z"
   },
   {
    "duration": 38,
    "start_time": "2022-02-17T23:55:05.550Z"
   },
   {
    "duration": 195,
    "start_time": "2022-02-17T23:55:05.590Z"
   },
   {
    "duration": 211,
    "start_time": "2022-02-17T23:55:05.787Z"
   },
   {
    "duration": 189,
    "start_time": "2022-02-17T23:55:06.000Z"
   },
   {
    "duration": 895,
    "start_time": "2022-02-17T23:55:06.191Z"
   },
   {
    "duration": 6,
    "start_time": "2022-02-17T23:55:07.089Z"
   },
   {
    "duration": 11,
    "start_time": "2022-02-17T23:55:07.097Z"
   },
   {
    "duration": 5,
    "start_time": "2022-02-17T23:55:07.127Z"
   },
   {
    "duration": 39,
    "start_time": "2022-02-17T23:55:07.134Z"
   },
   {
    "duration": 658,
    "start_time": "2022-02-17T23:55:07.176Z"
   },
   {
    "duration": 870,
    "start_time": "2022-02-17T23:55:34.697Z"
   },
   {
    "duration": 391,
    "start_time": "2022-02-17T23:58:07.054Z"
   },
   {
    "duration": 1158,
    "start_time": "2022-02-18T09:56:57.378Z"
   },
   {
    "duration": 855,
    "start_time": "2022-02-18T09:57:13.682Z"
   },
   {
    "duration": 93,
    "start_time": "2022-02-18T10:08:55.894Z"
   },
   {
    "duration": 382,
    "start_time": "2022-02-18T10:09:51.701Z"
   },
   {
    "duration": 157,
    "start_time": "2022-02-18T10:10:10.523Z"
   },
   {
    "duration": 1113,
    "start_time": "2022-02-18T10:13:27.083Z"
   },
   {
    "duration": 830,
    "start_time": "2022-02-18T10:13:28.198Z"
   },
   {
    "duration": 105,
    "start_time": "2022-02-18T10:13:29.033Z"
   },
   {
    "duration": 618,
    "start_time": "2022-02-18T10:13:29.140Z"
   },
   {
    "duration": 120,
    "start_time": "2022-02-18T10:13:29.759Z"
   },
   {
    "duration": 110,
    "start_time": "2022-02-18T10:13:29.881Z"
   },
   {
    "duration": 118,
    "start_time": "2022-02-18T10:13:29.993Z"
   },
   {
    "duration": 23,
    "start_time": "2022-02-18T10:13:30.113Z"
   },
   {
    "duration": 41,
    "start_time": "2022-02-18T10:13:30.138Z"
   },
   {
    "duration": 32,
    "start_time": "2022-02-18T10:13:30.181Z"
   },
   {
    "duration": 136,
    "start_time": "2022-02-18T10:13:30.215Z"
   },
   {
    "duration": 16,
    "start_time": "2022-02-18T10:13:30.352Z"
   },
   {
    "duration": 33,
    "start_time": "2022-02-18T10:13:30.370Z"
   },
   {
    "duration": 128,
    "start_time": "2022-02-18T10:13:30.405Z"
   },
   {
    "duration": 70,
    "start_time": "2022-02-18T10:13:30.535Z"
   },
   {
    "duration": 256,
    "start_time": "2022-02-18T10:13:30.606Z"
   },
   {
    "duration": 104,
    "start_time": "2022-02-18T10:13:30.863Z"
   },
   {
    "duration": 110,
    "start_time": "2022-02-18T10:13:30.968Z"
   },
   {
    "duration": 293,
    "start_time": "2022-02-18T10:13:31.079Z"
   },
   {
    "duration": 15,
    "start_time": "2022-02-18T10:13:31.373Z"
   },
   {
    "duration": 15,
    "start_time": "2022-02-18T10:13:31.390Z"
   },
   {
    "duration": 266,
    "start_time": "2022-02-18T10:13:31.407Z"
   },
   {
    "duration": 26,
    "start_time": "2022-02-18T10:13:31.678Z"
   },
   {
    "duration": 227,
    "start_time": "2022-02-18T10:13:31.707Z"
   },
   {
    "duration": 210,
    "start_time": "2022-02-18T10:13:31.936Z"
   },
   {
    "duration": 152,
    "start_time": "2022-02-18T10:13:32.148Z"
   },
   {
    "duration": 31,
    "start_time": "2022-02-18T10:13:32.302Z"
   },
   {
    "duration": 136,
    "start_time": "2022-02-18T10:13:32.334Z"
   },
   {
    "duration": 14,
    "start_time": "2022-02-18T10:13:32.472Z"
   },
   {
    "duration": 14,
    "start_time": "2022-02-18T10:13:32.488Z"
   },
   {
    "duration": 35,
    "start_time": "2022-02-18T10:13:32.504Z"
   },
   {
    "duration": 27,
    "start_time": "2022-02-18T10:13:32.541Z"
   },
   {
    "duration": 63,
    "start_time": "2022-02-18T10:13:32.570Z"
   },
   {
    "duration": 33,
    "start_time": "2022-02-18T10:13:32.634Z"
   },
   {
    "duration": 2,
    "start_time": "2022-02-18T10:13:32.669Z"
   },
   {
    "duration": 32,
    "start_time": "2022-02-18T10:13:32.672Z"
   },
   {
    "duration": 52,
    "start_time": "2022-02-18T10:13:32.706Z"
   },
   {
    "duration": 27,
    "start_time": "2022-02-18T10:13:32.759Z"
   },
   {
    "duration": 118,
    "start_time": "2022-02-18T10:13:32.787Z"
   },
   {
    "duration": 104,
    "start_time": "2022-02-18T10:13:32.906Z"
   },
   {
    "duration": 29,
    "start_time": "2022-02-18T10:13:33.012Z"
   },
   {
    "duration": 63,
    "start_time": "2022-02-18T10:13:33.043Z"
   },
   {
    "duration": 5,
    "start_time": "2022-02-18T10:13:33.108Z"
   },
   {
    "duration": 1813,
    "start_time": "2022-02-18T10:13:33.114Z"
   },
   {
    "duration": 59,
    "start_time": "2022-02-18T10:13:34.928Z"
   },
   {
    "duration": 106,
    "start_time": "2022-02-18T10:13:34.988Z"
   },
   {
    "duration": 3,
    "start_time": "2022-02-18T10:13:35.096Z"
   },
   {
    "duration": 977,
    "start_time": "2022-02-18T10:13:35.101Z"
   },
   {
    "duration": 53,
    "start_time": "2022-02-18T10:13:36.080Z"
   },
   {
    "duration": 62,
    "start_time": "2022-02-18T10:13:36.134Z"
   },
   {
    "duration": 4891,
    "start_time": "2022-02-18T10:13:36.197Z"
   },
   {
    "duration": 74,
    "start_time": "2022-02-18T10:13:41.090Z"
   },
   {
    "duration": 99,
    "start_time": "2022-02-18T10:13:41.165Z"
   },
   {
    "duration": 2844,
    "start_time": "2022-02-18T10:13:41.265Z"
   },
   {
    "duration": 53,
    "start_time": "2022-02-18T10:13:44.110Z"
   },
   {
    "duration": 59,
    "start_time": "2022-02-18T10:13:44.164Z"
   },
   {
    "duration": 3617,
    "start_time": "2022-02-18T10:13:44.224Z"
   },
   {
    "duration": 69,
    "start_time": "2022-02-18T10:13:47.843Z"
   },
   {
    "duration": 108,
    "start_time": "2022-02-18T10:13:47.913Z"
   },
   {
    "duration": 21,
    "start_time": "2022-02-18T10:13:48.022Z"
   },
   {
    "duration": 927,
    "start_time": "2022-02-18T10:13:48.045Z"
   },
   {
    "duration": 42,
    "start_time": "2022-02-18T10:13:48.973Z"
   },
   {
    "duration": 65,
    "start_time": "2022-02-18T10:13:49.017Z"
   },
   {
    "duration": 32,
    "start_time": "2022-02-18T10:13:49.083Z"
   },
   {
    "duration": 63,
    "start_time": "2022-02-18T10:13:49.131Z"
   },
   {
    "duration": 67,
    "start_time": "2022-02-18T10:13:49.195Z"
   },
   {
    "duration": 15,
    "start_time": "2022-02-18T10:13:49.263Z"
   },
   {
    "duration": 14,
    "start_time": "2022-02-18T10:13:49.283Z"
   },
   {
    "duration": 289,
    "start_time": "2022-02-18T10:13:49.300Z"
   },
   {
    "duration": 209,
    "start_time": "2022-02-18T10:13:49.590Z"
   },
   {
    "duration": 207,
    "start_time": "2022-02-18T10:13:49.801Z"
   },
   {
    "duration": 44,
    "start_time": "2022-02-18T10:13:50.010Z"
   },
   {
    "duration": 33,
    "start_time": "2022-02-18T10:13:50.056Z"
   },
   {
    "duration": 226,
    "start_time": "2022-02-18T10:13:50.091Z"
   },
   {
    "duration": 229,
    "start_time": "2022-02-18T10:13:50.319Z"
   },
   {
    "duration": 27,
    "start_time": "2022-02-18T10:13:50.550Z"
   },
   {
    "duration": 27,
    "start_time": "2022-02-18T10:13:50.579Z"
   },
   {
    "duration": 91,
    "start_time": "2022-02-18T10:13:50.608Z"
   },
   {
    "duration": 74,
    "start_time": "2022-02-18T10:13:50.701Z"
   },
   {
    "duration": 28,
    "start_time": "2022-02-18T10:13:50.777Z"
   },
   {
    "duration": 34,
    "start_time": "2022-02-18T10:13:50.807Z"
   },
   {
    "duration": 26,
    "start_time": "2022-02-18T10:13:50.843Z"
   },
   {
    "duration": 72,
    "start_time": "2022-02-18T10:13:50.871Z"
   },
   {
    "duration": 26,
    "start_time": "2022-02-18T10:13:50.945Z"
   },
   {
    "duration": 12,
    "start_time": "2022-02-18T10:13:50.973Z"
   },
   {
    "duration": 565,
    "start_time": "2022-02-18T10:13:50.986Z"
   },
   {
    "duration": 532,
    "start_time": "2022-02-18T10:13:51.552Z"
   },
   {
    "duration": 427,
    "start_time": "2022-02-18T10:13:52.085Z"
   },
   {
    "duration": 37,
    "start_time": "2022-02-18T10:13:52.513Z"
   },
   {
    "duration": 27,
    "start_time": "2022-02-18T10:13:52.551Z"
   },
   {
    "duration": 147,
    "start_time": "2022-02-18T10:13:52.580Z"
   },
   {
    "duration": 107,
    "start_time": "2022-02-18T10:13:52.731Z"
   },
   {
    "duration": 99,
    "start_time": "2022-02-18T10:13:52.840Z"
   },
   {
    "duration": 530,
    "start_time": "2022-02-18T10:13:52.941Z"
   },
   {
    "duration": 4,
    "start_time": "2022-02-18T10:13:53.473Z"
   },
   {
    "duration": 6,
    "start_time": "2022-02-18T10:13:53.478Z"
   },
   {
    "duration": 5,
    "start_time": "2022-02-18T10:13:53.485Z"
   },
   {
    "duration": 15,
    "start_time": "2022-02-18T10:13:53.492Z"
   },
   {
    "duration": 370,
    "start_time": "2022-02-18T10:13:53.508Z"
   },
   {
    "duration": 838,
    "start_time": "2022-02-18T10:14:06.131Z"
   },
   {
    "duration": 296753,
    "start_time": "2022-02-18T10:15:04.450Z"
   },
   {
    "duration": 49,
    "start_time": "2022-02-18T10:21:12.567Z"
   },
   {
    "duration": 1198,
    "start_time": "2022-02-18T10:23:18.097Z"
   },
   {
    "duration": 837,
    "start_time": "2022-02-18T10:23:22.017Z"
   },
   {
    "duration": 94,
    "start_time": "2022-02-18T10:23:27.274Z"
   },
   {
    "duration": 664,
    "start_time": "2022-02-18T10:23:39.762Z"
   },
   {
    "duration": 72,
    "start_time": "2022-02-18T10:24:00.723Z"
   },
   {
    "duration": 329,
    "start_time": "2022-02-18T10:24:43.503Z"
   },
   {
    "duration": 64,
    "start_time": "2022-02-18T10:24:46.884Z"
   },
   {
    "duration": 1187,
    "start_time": "2022-02-18T10:25:56.620Z"
   },
   {
    "duration": 815,
    "start_time": "2022-02-18T10:25:57.808Z"
   },
   {
    "duration": 99,
    "start_time": "2022-02-18T10:25:58.625Z"
   },
   {
    "duration": 368,
    "start_time": "2022-02-18T10:25:58.732Z"
   },
   {
    "duration": 67,
    "start_time": "2022-02-18T10:25:59.102Z"
   },
   {
    "duration": 116,
    "start_time": "2022-02-18T10:25:59.171Z"
   },
   {
    "duration": 111,
    "start_time": "2022-02-18T10:25:59.289Z"
   },
   {
    "duration": 19,
    "start_time": "2022-02-18T10:25:59.403Z"
   },
   {
    "duration": 40,
    "start_time": "2022-02-18T10:25:59.424Z"
   },
   {
    "duration": 29,
    "start_time": "2022-02-18T10:25:59.466Z"
   },
   {
    "duration": 129,
    "start_time": "2022-02-18T10:25:59.497Z"
   },
   {
    "duration": 13,
    "start_time": "2022-02-18T10:25:59.628Z"
   },
   {
    "duration": 29,
    "start_time": "2022-02-18T10:25:59.643Z"
   },
   {
    "duration": 135,
    "start_time": "2022-02-18T10:25:59.674Z"
   },
   {
    "duration": 72,
    "start_time": "2022-02-18T10:25:59.811Z"
   },
   {
    "duration": 261,
    "start_time": "2022-02-18T10:25:59.884Z"
   },
   {
    "duration": 107,
    "start_time": "2022-02-18T10:26:00.147Z"
   },
   {
    "duration": 112,
    "start_time": "2022-02-18T10:26:00.256Z"
   },
   {
    "duration": 247,
    "start_time": "2022-02-18T10:26:00.369Z"
   },
   {
    "duration": 24,
    "start_time": "2022-02-18T10:26:00.617Z"
   },
   {
    "duration": 13,
    "start_time": "2022-02-18T10:26:00.642Z"
   },
   {
    "duration": 251,
    "start_time": "2022-02-18T10:26:00.657Z"
   },
   {
    "duration": 35,
    "start_time": "2022-02-18T10:26:00.911Z"
   },
   {
    "duration": 232,
    "start_time": "2022-02-18T10:26:00.948Z"
   },
   {
    "duration": 218,
    "start_time": "2022-02-18T10:26:01.181Z"
   },
   {
    "duration": 160,
    "start_time": "2022-02-18T10:26:01.401Z"
   },
   {
    "duration": 30,
    "start_time": "2022-02-18T10:26:01.563Z"
   },
   {
    "duration": 94,
    "start_time": "2022-02-18T10:26:01.595Z"
   },
   {
    "duration": 15,
    "start_time": "2022-02-18T10:26:01.691Z"
   },
   {
    "duration": 33,
    "start_time": "2022-02-18T10:26:01.708Z"
   },
   {
    "duration": 16,
    "start_time": "2022-02-18T10:26:01.743Z"
   },
   {
    "duration": 27,
    "start_time": "2022-02-18T10:26:01.760Z"
   },
   {
    "duration": 84,
    "start_time": "2022-02-18T10:26:01.789Z"
   },
   {
    "duration": 31,
    "start_time": "2022-02-18T10:26:01.875Z"
   },
   {
    "duration": 2,
    "start_time": "2022-02-18T10:26:01.908Z"
   },
   {
    "duration": 44,
    "start_time": "2022-02-18T10:26:01.912Z"
   },
   {
    "duration": 30,
    "start_time": "2022-02-18T10:26:01.958Z"
   },
   {
    "duration": 43,
    "start_time": "2022-02-18T10:26:01.990Z"
   },
   {
    "duration": 99,
    "start_time": "2022-02-18T10:26:02.035Z"
   },
   {
    "duration": 109,
    "start_time": "2022-02-18T10:26:02.136Z"
   },
   {
    "duration": 24,
    "start_time": "2022-02-18T10:26:02.246Z"
   },
   {
    "duration": 63,
    "start_time": "2022-02-18T10:26:02.272Z"
   },
   {
    "duration": 4,
    "start_time": "2022-02-18T10:26:02.336Z"
   },
   {
    "duration": 1721,
    "start_time": "2022-02-18T10:26:02.342Z"
   },
   {
    "duration": 69,
    "start_time": "2022-02-18T10:26:04.065Z"
   },
   {
    "duration": 99,
    "start_time": "2022-02-18T10:26:04.135Z"
   },
   {
    "duration": 3,
    "start_time": "2022-02-18T10:26:04.236Z"
   },
   {
    "duration": 875,
    "start_time": "2022-02-18T10:26:04.240Z"
   },
   {
    "duration": 42,
    "start_time": "2022-02-18T10:26:05.116Z"
   },
   {
    "duration": 52,
    "start_time": "2022-02-18T10:26:05.159Z"
   },
   {
    "duration": 4946,
    "start_time": "2022-02-18T10:26:05.213Z"
   },
   {
    "duration": 60,
    "start_time": "2022-02-18T10:26:10.160Z"
   },
   {
    "duration": 91,
    "start_time": "2022-02-18T10:26:10.232Z"
   },
   {
    "duration": 2773,
    "start_time": "2022-02-18T10:26:10.332Z"
   },
   {
    "duration": 47,
    "start_time": "2022-02-18T10:26:13.106Z"
   },
   {
    "duration": 51,
    "start_time": "2022-02-18T10:26:13.155Z"
   },
   {
    "duration": 3525,
    "start_time": "2022-02-18T10:26:13.208Z"
   },
   {
    "duration": 62,
    "start_time": "2022-02-18T10:26:16.734Z"
   },
   {
    "duration": 110,
    "start_time": "2022-02-18T10:26:16.798Z"
   },
   {
    "duration": 11,
    "start_time": "2022-02-18T10:26:16.910Z"
   },
   {
    "duration": 980,
    "start_time": "2022-02-18T10:26:16.932Z"
   },
   {
    "duration": 47,
    "start_time": "2022-02-18T10:26:17.914Z"
   },
   {
    "duration": 54,
    "start_time": "2022-02-18T10:26:17.963Z"
   },
   {
    "duration": 45,
    "start_time": "2022-02-18T10:26:18.019Z"
   },
   {
    "duration": 84,
    "start_time": "2022-02-18T10:26:18.065Z"
   },
   {
    "duration": 58,
    "start_time": "2022-02-18T10:26:18.151Z"
   },
   {
    "duration": 33,
    "start_time": "2022-02-18T10:26:18.210Z"
   },
   {
    "duration": 13,
    "start_time": "2022-02-18T10:26:18.248Z"
   },
   {
    "duration": 287,
    "start_time": "2022-02-18T10:26:18.263Z"
   },
   {
    "duration": 241,
    "start_time": "2022-02-18T10:26:18.552Z"
   },
   {
    "duration": 274,
    "start_time": "2022-02-18T10:26:18.795Z"
   },
   {
    "duration": 45,
    "start_time": "2022-02-18T10:26:19.071Z"
   },
   {
    "duration": 41,
    "start_time": "2022-02-18T10:26:19.118Z"
   },
   {
    "duration": 296,
    "start_time": "2022-02-18T10:26:19.160Z"
   },
   {
    "duration": 235,
    "start_time": "2022-02-18T10:26:19.458Z"
   },
   {
    "duration": 37,
    "start_time": "2022-02-18T10:26:19.695Z"
   },
   {
    "duration": 28,
    "start_time": "2022-02-18T10:26:19.734Z"
   },
   {
    "duration": 121,
    "start_time": "2022-02-18T10:26:19.763Z"
   },
   {
    "duration": 77,
    "start_time": "2022-02-18T10:26:19.886Z"
   },
   {
    "duration": 35,
    "start_time": "2022-02-18T10:26:19.965Z"
   },
   {
    "duration": 37,
    "start_time": "2022-02-18T10:26:20.002Z"
   },
   {
    "duration": 27,
    "start_time": "2022-02-18T10:26:20.040Z"
   },
   {
    "duration": 86,
    "start_time": "2022-02-18T10:26:20.069Z"
   },
   {
    "duration": 26,
    "start_time": "2022-02-18T10:26:20.157Z"
   },
   {
    "duration": 12,
    "start_time": "2022-02-18T10:26:20.185Z"
   },
   {
    "duration": 616,
    "start_time": "2022-02-18T10:26:20.199Z"
   },
   {
    "duration": 489,
    "start_time": "2022-02-18T10:26:20.817Z"
   },
   {
    "duration": 387,
    "start_time": "2022-02-18T10:26:21.307Z"
   },
   {
    "duration": 40,
    "start_time": "2022-02-18T10:26:21.696Z"
   },
   {
    "duration": 25,
    "start_time": "2022-02-18T10:26:21.738Z"
   },
   {
    "duration": 137,
    "start_time": "2022-02-18T10:26:21.765Z"
   },
   {
    "duration": 117,
    "start_time": "2022-02-18T10:26:21.904Z"
   },
   {
    "duration": 90,
    "start_time": "2022-02-18T10:26:22.022Z"
   },
   {
    "duration": 457,
    "start_time": "2022-02-18T10:26:22.114Z"
   },
   {
    "duration": 4,
    "start_time": "2022-02-18T10:26:22.573Z"
   },
   {
    "duration": 5,
    "start_time": "2022-02-18T10:26:22.579Z"
   },
   {
    "duration": 7,
    "start_time": "2022-02-18T10:26:22.586Z"
   },
   {
    "duration": 14,
    "start_time": "2022-02-18T10:26:22.595Z"
   },
   {
    "duration": 291,
    "start_time": "2022-02-18T10:26:22.632Z"
   },
   {
    "duration": 42,
    "start_time": "2022-02-18T10:26:22.932Z"
   },
   {
    "duration": 871,
    "start_time": "2022-02-18T10:28:48.781Z"
   },
   {
    "duration": 1185,
    "start_time": "2022-02-18T10:29:18.412Z"
   },
   {
    "duration": 835,
    "start_time": "2022-02-18T10:29:21.437Z"
   },
   {
    "duration": 103,
    "start_time": "2022-02-18T10:29:24.848Z"
   },
   {
    "duration": 71,
    "start_time": "2022-02-18T10:30:30.237Z"
   },
   {
    "duration": 71,
    "start_time": "2022-02-18T10:30:33.688Z"
   },
   {
    "duration": 137,
    "start_time": "2022-02-18T10:31:16.267Z"
   },
   {
    "duration": 134,
    "start_time": "2022-02-18T10:31:51.892Z"
   },
   {
    "duration": 134,
    "start_time": "2022-02-18T10:31:59.164Z"
   },
   {
    "duration": 5,
    "start_time": "2022-02-18T11:09:38.900Z"
   },
   {
    "duration": 1388,
    "start_time": "2022-02-18T11:09:38.908Z"
   },
   {
    "duration": 94,
    "start_time": "2022-02-18T11:09:40.299Z"
   },
   {
    "duration": 2,
    "start_time": "2022-02-18T11:09:40.395Z"
   },
   {
    "duration": 150,
    "start_time": "2022-02-18T11:09:40.399Z"
   },
   {
    "duration": 17,
    "start_time": "2022-02-18T11:09:47.007Z"
   },
   {
    "duration": 247,
    "start_time": "2022-02-18T11:30:47.790Z"
   },
   {
    "duration": 233,
    "start_time": "2022-02-18T11:32:20.188Z"
   },
   {
    "duration": 249,
    "start_time": "2022-02-18T11:32:53.597Z"
   },
   {
    "duration": 235,
    "start_time": "2022-02-18T11:33:04.445Z"
   },
   {
    "duration": 261,
    "start_time": "2022-02-18T11:44:42.377Z"
   },
   {
    "duration": 205,
    "start_time": "2022-02-18T11:47:48.631Z"
   },
   {
    "duration": 194,
    "start_time": "2022-02-18T11:48:02.707Z"
   },
   {
    "duration": 187,
    "start_time": "2022-02-18T11:49:38.719Z"
   },
   {
    "duration": 167,
    "start_time": "2022-02-18T11:49:55.170Z"
   },
   {
    "duration": 210,
    "start_time": "2022-02-18T11:50:08.507Z"
   },
   {
    "duration": 13,
    "start_time": "2022-02-18T11:53:42.604Z"
   },
   {
    "duration": 9,
    "start_time": "2022-02-18T11:53:55.133Z"
   },
   {
    "duration": 9,
    "start_time": "2022-02-18T11:54:17.405Z"
   },
   {
    "duration": 9,
    "start_time": "2022-02-18T11:54:30.278Z"
   },
   {
    "duration": 9,
    "start_time": "2022-02-18T11:54:47.836Z"
   },
   {
    "duration": 192,
    "start_time": "2022-02-18T12:01:12.624Z"
   },
   {
    "duration": 196,
    "start_time": "2022-02-18T12:01:43.782Z"
   },
   {
    "duration": 206,
    "start_time": "2022-02-18T12:02:09.567Z"
   },
   {
    "duration": 354,
    "start_time": "2022-02-18T12:02:13.646Z"
   },
   {
    "duration": 481,
    "start_time": "2022-02-18T12:06:26.898Z"
   },
   {
    "duration": 83,
    "start_time": "2022-02-18T12:07:44.884Z"
   },
   {
    "duration": 39,
    "start_time": "2022-02-18T12:07:51.062Z"
   },
   {
    "duration": 26,
    "start_time": "2022-02-18T12:08:06.722Z"
   },
   {
    "duration": 27,
    "start_time": "2022-02-18T12:08:21.055Z"
   },
   {
    "duration": 38,
    "start_time": "2022-02-18T12:18:13.513Z"
   },
   {
    "duration": 16,
    "start_time": "2022-02-18T12:20:37.530Z"
   },
   {
    "duration": 34,
    "start_time": "2022-02-18T12:23:25.783Z"
   },
   {
    "duration": 137,
    "start_time": "2022-02-18T12:24:05.438Z"
   },
   {
    "duration": 17,
    "start_time": "2022-02-18T12:30:38.587Z"
   },
   {
    "duration": 220,
    "start_time": "2022-02-18T12:31:11.139Z"
   },
   {
    "duration": 194,
    "start_time": "2022-02-18T12:37:01.753Z"
   },
   {
    "duration": 231,
    "start_time": "2022-02-18T12:37:20.305Z"
   },
   {
    "duration": 445,
    "start_time": "2022-02-18T12:37:27.928Z"
   },
   {
    "duration": 183,
    "start_time": "2022-02-18T12:37:58.663Z"
   },
   {
    "duration": 235,
    "start_time": "2022-02-18T12:38:06.414Z"
   },
   {
    "duration": 198,
    "start_time": "2022-02-18T12:38:37.883Z"
   },
   {
    "duration": 203,
    "start_time": "2022-02-18T12:44:13.293Z"
   },
   {
    "duration": 36,
    "start_time": "2022-02-18T12:52:16.030Z"
   },
   {
    "duration": 17,
    "start_time": "2022-02-18T12:52:59.470Z"
   },
   {
    "duration": 1301,
    "start_time": "2022-02-18T12:55:37.948Z"
   },
   {
    "duration": 823,
    "start_time": "2022-02-18T12:55:39.251Z"
   },
   {
    "duration": 95,
    "start_time": "2022-02-18T12:55:40.076Z"
   },
   {
    "duration": 2,
    "start_time": "2022-02-18T12:55:40.173Z"
   },
   {
    "duration": 146,
    "start_time": "2022-02-18T12:55:40.176Z"
   },
   {
    "duration": 20,
    "start_time": "2022-02-18T12:55:40.324Z"
   },
   {
    "duration": 265,
    "start_time": "2022-02-18T12:55:40.346Z"
   },
   {
    "duration": 202,
    "start_time": "2022-02-18T12:55:40.613Z"
   },
   {
    "duration": 51,
    "start_time": "2022-02-18T12:55:40.817Z"
   },
   {
    "duration": 14,
    "start_time": "2022-02-18T12:55:40.870Z"
   },
   {
    "duration": 23,
    "start_time": "2022-02-18T12:55:40.886Z"
   },
   {
    "duration": 59,
    "start_time": "2022-02-18T12:55:40.910Z"
   },
   {
    "duration": 14,
    "start_time": "2022-02-18T12:55:40.970Z"
   },
   {
    "duration": 247,
    "start_time": "2022-02-18T12:55:40.985Z"
   },
   {
    "duration": 283,
    "start_time": "2022-02-18T12:55:41.233Z"
   },
   {
    "duration": 247,
    "start_time": "2022-02-18T12:55:41.518Z"
   },
   {
    "duration": 41,
    "start_time": "2022-02-18T12:55:41.766Z"
   },
   {
    "duration": 31,
    "start_time": "2022-02-18T12:55:41.808Z"
   },
   {
    "duration": 37,
    "start_time": "2022-02-18T12:55:41.840Z"
   },
   {
    "duration": 33,
    "start_time": "2022-02-18T12:55:41.879Z"
   },
   {
    "duration": 131,
    "start_time": "2022-02-18T12:55:41.914Z"
   },
   {
    "duration": 13,
    "start_time": "2022-02-18T12:55:42.046Z"
   },
   {
    "duration": 25,
    "start_time": "2022-02-18T12:55:42.063Z"
   },
   {
    "duration": 120,
    "start_time": "2022-02-18T12:55:42.091Z"
   },
   {
    "duration": 65,
    "start_time": "2022-02-18T12:55:42.213Z"
   },
   {
    "duration": 257,
    "start_time": "2022-02-18T12:55:42.279Z"
   },
   {
    "duration": 109,
    "start_time": "2022-02-18T12:55:42.537Z"
   },
   {
    "duration": 115,
    "start_time": "2022-02-18T12:55:42.648Z"
   },
   {
    "duration": 241,
    "start_time": "2022-02-18T12:55:42.765Z"
   },
   {
    "duration": 2,
    "start_time": "2022-02-18T12:55:43.008Z"
   },
   {
    "duration": 43,
    "start_time": "2022-02-18T12:55:43.011Z"
   },
   {
    "duration": 32,
    "start_time": "2022-02-18T12:55:43.055Z"
   },
   {
    "duration": 45,
    "start_time": "2022-02-18T12:55:43.088Z"
   },
   {
    "duration": 103,
    "start_time": "2022-02-18T12:55:43.135Z"
   },
   {
    "duration": 107,
    "start_time": "2022-02-18T12:55:43.239Z"
   },
   {
    "duration": 24,
    "start_time": "2022-02-18T12:55:43.347Z"
   },
   {
    "duration": 67,
    "start_time": "2022-02-18T12:55:43.373Z"
   },
   {
    "duration": 4,
    "start_time": "2022-02-18T12:55:43.442Z"
   },
   {
    "duration": 1945,
    "start_time": "2022-02-18T12:55:43.447Z"
   },
   {
    "duration": 82,
    "start_time": "2022-02-18T12:55:45.393Z"
   },
   {
    "duration": 102,
    "start_time": "2022-02-18T12:55:45.476Z"
   },
   {
    "duration": 3,
    "start_time": "2022-02-18T12:55:45.580Z"
   },
   {
    "duration": 919,
    "start_time": "2022-02-18T12:55:45.585Z"
   },
   {
    "duration": 49,
    "start_time": "2022-02-18T12:55:46.505Z"
   },
   {
    "duration": 56,
    "start_time": "2022-02-18T12:55:46.555Z"
   },
   {
    "duration": 5249,
    "start_time": "2022-02-18T12:55:46.612Z"
   },
   {
    "duration": 79,
    "start_time": "2022-02-18T12:55:51.863Z"
   },
   {
    "duration": 111,
    "start_time": "2022-02-18T12:55:51.943Z"
   },
   {
    "duration": 2563,
    "start_time": "2022-02-18T12:55:52.055Z"
   },
   {
    "duration": 45,
    "start_time": "2022-02-18T12:55:54.619Z"
   },
   {
    "duration": 71,
    "start_time": "2022-02-18T12:55:54.666Z"
   },
   {
    "duration": 4063,
    "start_time": "2022-02-18T12:55:54.739Z"
   },
   {
    "duration": 82,
    "start_time": "2022-02-18T12:55:58.804Z"
   },
   {
    "duration": 103,
    "start_time": "2022-02-18T12:55:58.887Z"
   },
   {
    "duration": 12,
    "start_time": "2022-02-18T12:55:58.992Z"
   },
   {
    "duration": 901,
    "start_time": "2022-02-18T12:55:59.005Z"
   },
   {
    "duration": 46,
    "start_time": "2022-02-18T12:55:59.907Z"
   },
   {
    "duration": 56,
    "start_time": "2022-02-18T12:55:59.955Z"
   },
   {
    "duration": 54,
    "start_time": "2022-02-18T12:56:00.012Z"
   },
   {
    "duration": 78,
    "start_time": "2022-02-18T12:56:00.068Z"
   },
   {
    "duration": 55,
    "start_time": "2022-02-18T12:56:00.148Z"
   },
   {
    "duration": 45,
    "start_time": "2022-02-18T12:56:00.205Z"
   },
   {
    "duration": 41,
    "start_time": "2022-02-18T12:56:00.252Z"
   },
   {
    "duration": 96,
    "start_time": "2022-02-18T12:56:00.295Z"
   },
   {
    "duration": 75,
    "start_time": "2022-02-18T12:56:00.393Z"
   },
   {
    "duration": 29,
    "start_time": "2022-02-18T12:56:00.470Z"
   },
   {
    "duration": 40,
    "start_time": "2022-02-18T12:56:00.501Z"
   },
   {
    "duration": 24,
    "start_time": "2022-02-18T12:56:00.547Z"
   },
   {
    "duration": 66,
    "start_time": "2022-02-18T12:56:00.573Z"
   },
   {
    "duration": 28,
    "start_time": "2022-02-18T12:56:00.641Z"
   },
   {
    "duration": 13,
    "start_time": "2022-02-18T12:56:00.670Z"
   },
   {
    "duration": 666,
    "start_time": "2022-02-18T12:56:00.684Z"
   },
   {
    "duration": 542,
    "start_time": "2022-02-18T12:56:01.351Z"
   },
   {
    "duration": 447,
    "start_time": "2022-02-18T12:56:01.895Z"
   },
   {
    "duration": 30,
    "start_time": "2022-02-18T12:56:02.343Z"
   },
   {
    "duration": 23,
    "start_time": "2022-02-18T12:56:02.375Z"
   },
   {
    "duration": 164,
    "start_time": "2022-02-18T12:56:02.400Z"
   },
   {
    "duration": 122,
    "start_time": "2022-02-18T12:56:02.565Z"
   },
   {
    "duration": 108,
    "start_time": "2022-02-18T12:56:02.689Z"
   },
   {
    "duration": 519,
    "start_time": "2022-02-18T12:56:02.799Z"
   },
   {
    "duration": 3,
    "start_time": "2022-02-18T12:56:03.320Z"
   },
   {
    "duration": 8,
    "start_time": "2022-02-18T12:56:03.325Z"
   },
   {
    "duration": 7,
    "start_time": "2022-02-18T12:56:03.334Z"
   },
   {
    "duration": 14,
    "start_time": "2022-02-18T12:56:03.343Z"
   },
   {
    "duration": 352,
    "start_time": "2022-02-18T12:56:03.358Z"
   },
   {
    "duration": 58,
    "start_time": "2022-02-18T12:56:03.711Z"
   },
   {
    "duration": 902,
    "start_time": "2022-02-18T12:56:29.433Z"
   },
   {
    "duration": 1181,
    "start_time": "2022-02-18T13:01:20.805Z"
   },
   {
    "duration": 797,
    "start_time": "2022-02-18T13:01:21.988Z"
   },
   {
    "duration": 96,
    "start_time": "2022-02-18T13:01:22.787Z"
   },
   {
    "duration": 4,
    "start_time": "2022-02-18T13:01:22.885Z"
   },
   {
    "duration": 159,
    "start_time": "2022-02-18T13:01:22.890Z"
   },
   {
    "duration": 15,
    "start_time": "2022-02-18T13:01:23.051Z"
   },
   {
    "duration": 265,
    "start_time": "2022-02-18T13:01:23.067Z"
   },
   {
    "duration": 203,
    "start_time": "2022-02-18T13:01:23.334Z"
   },
   {
    "duration": 47,
    "start_time": "2022-02-18T13:01:23.538Z"
   },
   {
    "duration": 14,
    "start_time": "2022-02-18T13:01:23.586Z"
   },
   {
    "duration": 42,
    "start_time": "2022-02-18T13:01:23.601Z"
   },
   {
    "duration": 46,
    "start_time": "2022-02-18T13:01:23.644Z"
   },
   {
    "duration": 15,
    "start_time": "2022-02-18T13:01:23.692Z"
   },
   {
    "duration": 237,
    "start_time": "2022-02-18T13:01:23.731Z"
   },
   {
    "duration": 271,
    "start_time": "2022-02-18T13:01:23.970Z"
   },
   {
    "duration": 213,
    "start_time": "2022-02-18T13:01:24.242Z"
   },
   {
    "duration": 40,
    "start_time": "2022-02-18T13:01:24.456Z"
   },
   {
    "duration": 19,
    "start_time": "2022-02-18T13:01:24.497Z"
   },
   {
    "duration": 47,
    "start_time": "2022-02-18T13:01:24.518Z"
   },
   {
    "duration": 31,
    "start_time": "2022-02-18T13:01:24.566Z"
   },
   {
    "duration": 126,
    "start_time": "2022-02-18T13:01:24.599Z"
   },
   {
    "duration": 12,
    "start_time": "2022-02-18T13:01:24.731Z"
   },
   {
    "duration": 27,
    "start_time": "2022-02-18T13:01:24.746Z"
   },
   {
    "duration": 119,
    "start_time": "2022-02-18T13:01:24.775Z"
   },
   {
    "duration": 68,
    "start_time": "2022-02-18T13:01:24.895Z"
   },
   {
    "duration": 268,
    "start_time": "2022-02-18T13:01:24.965Z"
   },
   {
    "duration": 104,
    "start_time": "2022-02-18T13:01:25.234Z"
   },
   {
    "duration": 107,
    "start_time": "2022-02-18T13:01:25.339Z"
   },
   {
    "duration": 238,
    "start_time": "2022-02-18T13:01:25.447Z"
   },
   {
    "duration": 2,
    "start_time": "2022-02-18T13:01:25.687Z"
   },
   {
    "duration": 41,
    "start_time": "2022-02-18T13:01:25.691Z"
   },
   {
    "duration": 29,
    "start_time": "2022-02-18T13:01:25.734Z"
   },
   {
    "duration": 27,
    "start_time": "2022-02-18T13:01:25.765Z"
   },
   {
    "duration": 113,
    "start_time": "2022-02-18T13:01:25.793Z"
   },
   {
    "duration": 107,
    "start_time": "2022-02-18T13:01:25.908Z"
   },
   {
    "duration": 32,
    "start_time": "2022-02-18T13:01:26.017Z"
   },
   {
    "duration": 57,
    "start_time": "2022-02-18T13:01:26.051Z"
   },
   {
    "duration": 21,
    "start_time": "2022-02-18T13:01:26.110Z"
   },
   {
    "duration": 2050,
    "start_time": "2022-02-18T13:01:26.132Z"
   },
   {
    "duration": 86,
    "start_time": "2022-02-18T13:01:28.183Z"
   },
   {
    "duration": 103,
    "start_time": "2022-02-18T13:01:28.271Z"
   },
   {
    "duration": 3,
    "start_time": "2022-02-18T13:01:28.376Z"
   },
   {
    "duration": 927,
    "start_time": "2022-02-18T13:01:28.381Z"
   },
   {
    "duration": 44,
    "start_time": "2022-02-18T13:01:29.310Z"
   },
   {
    "duration": 58,
    "start_time": "2022-02-18T13:01:29.356Z"
   },
   {
    "duration": 4836,
    "start_time": "2022-02-18T13:01:29.416Z"
   },
   {
    "duration": 80,
    "start_time": "2022-02-18T13:01:34.254Z"
   },
   {
    "duration": 103,
    "start_time": "2022-02-18T13:01:34.336Z"
   },
   {
    "duration": 2712,
    "start_time": "2022-02-18T13:01:34.441Z"
   },
   {
    "duration": 41,
    "start_time": "2022-02-18T13:01:37.155Z"
   },
   {
    "duration": 71,
    "start_time": "2022-02-18T13:01:37.198Z"
   },
   {
    "duration": 3802,
    "start_time": "2022-02-18T13:01:37.271Z"
   },
   {
    "duration": 81,
    "start_time": "2022-02-18T13:01:41.075Z"
   },
   {
    "duration": 100,
    "start_time": "2022-02-18T13:01:41.158Z"
   },
   {
    "duration": 12,
    "start_time": "2022-02-18T13:01:41.260Z"
   },
   {
    "duration": 924,
    "start_time": "2022-02-18T13:01:41.274Z"
   },
   {
    "duration": 47,
    "start_time": "2022-02-18T13:01:42.200Z"
   },
   {
    "duration": 54,
    "start_time": "2022-02-18T13:01:42.248Z"
   },
   {
    "duration": 45,
    "start_time": "2022-02-18T13:01:42.304Z"
   },
   {
    "duration": 67,
    "start_time": "2022-02-18T13:01:42.351Z"
   },
   {
    "duration": 55,
    "start_time": "2022-02-18T13:01:42.432Z"
   },
   {
    "duration": 28,
    "start_time": "2022-02-18T13:01:42.488Z"
   },
   {
    "duration": 32,
    "start_time": "2022-02-18T13:01:42.518Z"
   },
   {
    "duration": 98,
    "start_time": "2022-02-18T13:01:42.551Z"
   },
   {
    "duration": 65,
    "start_time": "2022-02-18T13:01:42.650Z"
   },
   {
    "duration": 44,
    "start_time": "2022-02-18T13:01:42.717Z"
   },
   {
    "duration": 28,
    "start_time": "2022-02-18T13:01:42.762Z"
   },
   {
    "duration": 89,
    "start_time": "2022-02-18T13:01:42.795Z"
   },
   {
    "duration": 58,
    "start_time": "2022-02-18T13:01:42.886Z"
   },
   {
    "duration": 27,
    "start_time": "2022-02-18T13:01:42.946Z"
   },
   {
    "duration": 12,
    "start_time": "2022-02-18T13:01:42.974Z"
   },
   {
    "duration": 669,
    "start_time": "2022-02-18T13:01:42.988Z"
   },
   {
    "duration": 436,
    "start_time": "2022-02-18T13:01:43.659Z"
   },
   {
    "duration": 487,
    "start_time": "2022-02-18T13:01:44.097Z"
   },
   {
    "duration": 32,
    "start_time": "2022-02-18T13:01:44.587Z"
   },
   {
    "duration": 25,
    "start_time": "2022-02-18T13:01:44.632Z"
   },
   {
    "duration": 152,
    "start_time": "2022-02-18T13:01:44.659Z"
   },
   {
    "duration": 130,
    "start_time": "2022-02-18T13:01:44.813Z"
   },
   {
    "duration": 109,
    "start_time": "2022-02-18T13:01:44.945Z"
   },
   {
    "duration": 517,
    "start_time": "2022-02-18T13:01:45.055Z"
   },
   {
    "duration": 4,
    "start_time": "2022-02-18T13:01:45.574Z"
   },
   {
    "duration": 13,
    "start_time": "2022-02-18T13:01:45.579Z"
   },
   {
    "duration": 13,
    "start_time": "2022-02-18T13:01:45.593Z"
   },
   {
    "duration": 25,
    "start_time": "2022-02-18T13:01:45.608Z"
   },
   {
    "duration": 332,
    "start_time": "2022-02-18T13:01:45.635Z"
   },
   {
    "duration": 41,
    "start_time": "2022-02-18T13:01:45.968Z"
   },
   {
    "duration": 837,
    "start_time": "2022-02-18T13:03:00.322Z"
   },
   {
    "duration": 1156,
    "start_time": "2022-02-18T13:06:19.545Z"
   },
   {
    "duration": 828,
    "start_time": "2022-02-18T13:06:20.703Z"
   },
   {
    "duration": 102,
    "start_time": "2022-02-18T13:06:21.533Z"
   },
   {
    "duration": 2,
    "start_time": "2022-02-18T13:06:21.637Z"
   },
   {
    "duration": 154,
    "start_time": "2022-02-18T13:06:21.641Z"
   },
   {
    "duration": 16,
    "start_time": "2022-02-18T13:06:21.797Z"
   },
   {
    "duration": 271,
    "start_time": "2022-02-18T13:06:21.814Z"
   },
   {
    "duration": 205,
    "start_time": "2022-02-18T13:06:22.087Z"
   },
   {
    "duration": 55,
    "start_time": "2022-02-18T13:06:22.294Z"
   },
   {
    "duration": 14,
    "start_time": "2022-02-18T13:06:22.351Z"
   },
   {
    "duration": 22,
    "start_time": "2022-02-18T13:06:22.366Z"
   },
   {
    "duration": 61,
    "start_time": "2022-02-18T13:06:22.389Z"
   },
   {
    "duration": 14,
    "start_time": "2022-02-18T13:06:22.451Z"
   },
   {
    "duration": 238,
    "start_time": "2022-02-18T13:06:22.467Z"
   },
   {
    "duration": 256,
    "start_time": "2022-02-18T13:06:22.707Z"
   },
   {
    "duration": 208,
    "start_time": "2022-02-18T13:06:22.965Z"
   },
   {
    "duration": 40,
    "start_time": "2022-02-18T13:06:23.175Z"
   },
   {
    "duration": 30,
    "start_time": "2022-02-18T13:06:23.217Z"
   },
   {
    "duration": 40,
    "start_time": "2022-02-18T13:06:23.249Z"
   },
   {
    "duration": 44,
    "start_time": "2022-02-18T13:06:23.291Z"
   },
   {
    "duration": 115,
    "start_time": "2022-02-18T13:06:23.337Z"
   },
   {
    "duration": 14,
    "start_time": "2022-02-18T13:06:23.454Z"
   },
   {
    "duration": 28,
    "start_time": "2022-02-18T13:06:23.472Z"
   },
   {
    "duration": 120,
    "start_time": "2022-02-18T13:06:23.502Z"
   },
   {
    "duration": 79,
    "start_time": "2022-02-18T13:06:23.624Z"
   },
   {
    "duration": 277,
    "start_time": "2022-02-18T13:06:23.705Z"
   },
   {
    "duration": 112,
    "start_time": "2022-02-18T13:06:23.984Z"
   },
   {
    "duration": 105,
    "start_time": "2022-02-18T13:06:24.097Z"
   },
   {
    "duration": 174,
    "start_time": "2022-02-18T13:06:24.203Z"
   },
   {
    "duration": 31,
    "start_time": "2022-02-18T13:06:24.379Z"
   },
   {
    "duration": 44,
    "start_time": "2022-02-18T13:06:24.412Z"
   },
   {
    "duration": 30,
    "start_time": "2022-02-18T13:06:24.458Z"
   },
   {
    "duration": 114,
    "start_time": "2022-02-18T13:06:24.489Z"
   },
   {
    "duration": 120,
    "start_time": "2022-02-18T13:06:24.605Z"
   },
   {
    "duration": 25,
    "start_time": "2022-02-18T13:06:24.727Z"
   },
   {
    "duration": 59,
    "start_time": "2022-02-18T13:06:24.754Z"
   },
   {
    "duration": 21,
    "start_time": "2022-02-18T13:06:24.814Z"
   },
   {
    "duration": 1827,
    "start_time": "2022-02-18T13:06:24.837Z"
   },
   {
    "duration": 78,
    "start_time": "2022-02-18T13:06:26.666Z"
   },
   {
    "duration": 101,
    "start_time": "2022-02-18T13:06:26.746Z"
   },
   {
    "duration": 3,
    "start_time": "2022-02-18T13:06:26.849Z"
   },
   {
    "duration": 1019,
    "start_time": "2022-02-18T13:06:26.854Z"
   },
   {
    "duration": 40,
    "start_time": "2022-02-18T13:06:27.874Z"
   },
   {
    "duration": 69,
    "start_time": "2022-02-18T13:06:27.915Z"
   },
   {
    "duration": 4908,
    "start_time": "2022-02-18T13:06:27.985Z"
   },
   {
    "duration": 71,
    "start_time": "2022-02-18T13:06:32.894Z"
   },
   {
    "duration": 103,
    "start_time": "2022-02-18T13:06:32.966Z"
   },
   {
    "duration": 2705,
    "start_time": "2022-02-18T13:06:33.070Z"
   },
   {
    "duration": 73,
    "start_time": "2022-02-18T13:06:35.777Z"
   },
   {
    "duration": 56,
    "start_time": "2022-02-18T13:06:35.851Z"
   },
   {
    "duration": 3687,
    "start_time": "2022-02-18T13:06:35.909Z"
   },
   {
    "duration": 69,
    "start_time": "2022-02-18T13:06:39.598Z"
   },
   {
    "duration": 99,
    "start_time": "2022-02-18T13:06:39.668Z"
   },
   {
    "duration": 12,
    "start_time": "2022-02-18T13:06:39.768Z"
   },
   {
    "duration": 920,
    "start_time": "2022-02-18T13:06:39.781Z"
   },
   {
    "duration": 51,
    "start_time": "2022-02-18T13:06:40.703Z"
   },
   {
    "duration": 56,
    "start_time": "2022-02-18T13:06:40.756Z"
   },
   {
    "duration": 50,
    "start_time": "2022-02-18T13:06:40.814Z"
   },
   {
    "duration": 81,
    "start_time": "2022-02-18T13:06:40.866Z"
   },
   {
    "duration": 59,
    "start_time": "2022-02-18T13:06:40.949Z"
   },
   {
    "duration": 43,
    "start_time": "2022-02-18T13:06:41.010Z"
   },
   {
    "duration": 28,
    "start_time": "2022-02-18T13:06:41.055Z"
   },
   {
    "duration": 91,
    "start_time": "2022-02-18T13:06:41.084Z"
   },
   {
    "duration": 118,
    "start_time": "2022-02-18T13:06:41.176Z"
   },
   {
    "duration": 29,
    "start_time": "2022-02-18T13:06:41.295Z"
   },
   {
    "duration": 27,
    "start_time": "2022-02-18T13:06:41.332Z"
   },
   {
    "duration": 35,
    "start_time": "2022-02-18T13:06:41.360Z"
   },
   {
    "duration": 96,
    "start_time": "2022-02-18T13:06:41.402Z"
   },
   {
    "duration": 44,
    "start_time": "2022-02-18T13:06:41.500Z"
   },
   {
    "duration": 18,
    "start_time": "2022-02-18T13:06:41.546Z"
   },
   {
    "duration": 681,
    "start_time": "2022-02-18T13:06:41.566Z"
   },
   {
    "duration": 531,
    "start_time": "2022-02-18T13:06:42.249Z"
   },
   {
    "duration": 455,
    "start_time": "2022-02-18T13:06:42.782Z"
   },
   {
    "duration": 28,
    "start_time": "2022-02-18T13:06:43.238Z"
   },
   {
    "duration": 25,
    "start_time": "2022-02-18T13:06:43.268Z"
   },
   {
    "duration": 160,
    "start_time": "2022-02-18T13:06:43.295Z"
   },
   {
    "duration": 131,
    "start_time": "2022-02-18T13:06:43.456Z"
   },
   {
    "duration": 103,
    "start_time": "2022-02-18T13:06:43.589Z"
   },
   {
    "duration": 544,
    "start_time": "2022-02-18T13:06:43.693Z"
   },
   {
    "duration": 4,
    "start_time": "2022-02-18T13:06:44.239Z"
   },
   {
    "duration": 5,
    "start_time": "2022-02-18T13:06:44.244Z"
   },
   {
    "duration": 4,
    "start_time": "2022-02-18T13:06:44.250Z"
   },
   {
    "duration": 16,
    "start_time": "2022-02-18T13:06:44.255Z"
   },
   {
    "duration": 348,
    "start_time": "2022-02-18T13:06:44.272Z"
   },
   {
    "duration": 56,
    "start_time": "2022-02-18T13:06:44.622Z"
   },
   {
    "duration": 838,
    "start_time": "2022-02-18T13:07:13.424Z"
   },
   {
    "duration": 293705,
    "start_time": "2022-02-18T13:07:53.708Z"
   },
   {
    "duration": 444412,
    "start_time": "2022-02-18T13:22:19.068Z"
   },
   {
    "duration": 58,
    "start_time": "2022-02-18T15:04:47.273Z"
   },
   {
    "duration": 1172,
    "start_time": "2022-02-18T16:46:43.929Z"
   },
   {
    "duration": 850,
    "start_time": "2022-02-18T16:46:45.102Z"
   },
   {
    "duration": 103,
    "start_time": "2022-02-18T16:46:45.955Z"
   },
   {
    "duration": 5,
    "start_time": "2022-02-18T16:46:46.061Z"
   },
   {
    "duration": 163,
    "start_time": "2022-02-18T16:46:46.068Z"
   },
   {
    "duration": 16,
    "start_time": "2022-02-18T16:46:46.233Z"
   },
   {
    "duration": 269,
    "start_time": "2022-02-18T16:46:46.251Z"
   },
   {
    "duration": 208,
    "start_time": "2022-02-18T16:46:46.523Z"
   },
   {
    "duration": 56,
    "start_time": "2022-02-18T16:46:46.733Z"
   },
   {
    "duration": 13,
    "start_time": "2022-02-18T16:46:46.791Z"
   },
   {
    "duration": 44,
    "start_time": "2022-02-18T16:46:46.806Z"
   },
   {
    "duration": 56,
    "start_time": "2022-02-18T16:46:46.852Z"
   },
   {
    "duration": 15,
    "start_time": "2022-02-18T16:46:46.909Z"
   },
   {
    "duration": 240,
    "start_time": "2022-02-18T16:46:46.925Z"
   },
   {
    "duration": 267,
    "start_time": "2022-02-18T16:46:47.166Z"
   },
   {
    "duration": 210,
    "start_time": "2022-02-18T16:46:47.435Z"
   },
   {
    "duration": 43,
    "start_time": "2022-02-18T16:46:47.647Z"
   },
   {
    "duration": 15,
    "start_time": "2022-02-18T16:46:47.692Z"
   },
   {
    "duration": 51,
    "start_time": "2022-02-18T16:46:47.708Z"
   },
   {
    "duration": 28,
    "start_time": "2022-02-18T16:46:47.760Z"
   },
   {
    "duration": 72,
    "start_time": "2022-02-18T16:46:47.790Z"
   },
   {
    "duration": 42,
    "start_time": "2022-02-18T16:46:47.864Z"
   },
   {
    "duration": 51,
    "start_time": "2022-02-18T16:46:47.910Z"
   },
   {
    "duration": 40,
    "start_time": "2022-02-18T16:46:47.963Z"
   },
   {
    "duration": 60,
    "start_time": "2022-02-18T16:46:48.005Z"
   },
   {
    "duration": 30,
    "start_time": "2022-02-18T16:46:48.067Z"
   },
   {
    "duration": 968,
    "start_time": "2022-02-18T16:46:48.099Z"
   },
   {
    "duration": 41,
    "start_time": "2022-02-18T16:46:49.069Z"
   },
   {
    "duration": 71,
    "start_time": "2022-02-18T16:46:49.112Z"
   },
   {
    "duration": 2778,
    "start_time": "2022-02-18T16:46:49.185Z"
   },
   {
    "duration": 51,
    "start_time": "2022-02-18T16:46:51.965Z"
   },
   {
    "duration": 67,
    "start_time": "2022-02-18T16:46:52.018Z"
   },
   {
    "duration": 25,
    "start_time": "2022-02-18T16:46:52.087Z"
   },
   {
    "duration": 932,
    "start_time": "2022-02-18T16:46:52.114Z"
   },
   {
    "duration": 40,
    "start_time": "2022-02-18T16:46:53.048Z"
   },
   {
    "duration": 68,
    "start_time": "2022-02-18T16:46:53.090Z"
   },
   {
    "duration": 65,
    "start_time": "2022-02-18T16:46:53.160Z"
   },
   {
    "duration": 34,
    "start_time": "2022-02-18T16:46:53.227Z"
   },
   {
    "duration": 82,
    "start_time": "2022-02-18T16:46:53.263Z"
   },
   {
    "duration": 52,
    "start_time": "2022-02-18T16:46:53.347Z"
   },
   {
    "duration": 13,
    "start_time": "2022-02-18T17:03:13.341Z"
   },
   {
    "duration": 15,
    "start_time": "2022-02-18T17:03:43.695Z"
   },
   {
    "duration": 353,
    "start_time": "2022-02-18T17:04:03.061Z"
   },
   {
    "duration": 14,
    "start_time": "2022-02-18T17:04:16.200Z"
   },
   {
    "duration": 13,
    "start_time": "2022-02-18T17:04:29.657Z"
   },
   {
    "duration": 14,
    "start_time": "2022-02-18T17:04:51.753Z"
   },
   {
    "duration": 15,
    "start_time": "2022-02-18T17:26:07.970Z"
   },
   {
    "duration": 541,
    "start_time": "2022-02-18T17:30:57.141Z"
   },
   {
    "duration": 112,
    "start_time": "2022-02-18T17:44:18.614Z"
   },
   {
    "duration": 4,
    "start_time": "2022-02-18T17:44:54.924Z"
   },
   {
    "duration": 272,
    "start_time": "2022-02-18T17:53:20.176Z"
   },
   {
    "duration": 609,
    "start_time": "2022-02-18T17:54:27.902Z"
   },
   {
    "duration": 89,
    "start_time": "2022-02-18T17:54:46.962Z"
   },
   {
    "duration": 176,
    "start_time": "2022-02-18T17:55:37.266Z"
   },
   {
    "duration": 887,
    "start_time": "2022-02-18T17:56:01.971Z"
   },
   {
    "duration": 1124,
    "start_time": "2022-02-18T17:56:59.481Z"
   },
   {
    "duration": 892,
    "start_time": "2022-02-18T17:57:00.607Z"
   },
   {
    "duration": 102,
    "start_time": "2022-02-18T17:57:01.501Z"
   },
   {
    "duration": 2,
    "start_time": "2022-02-18T17:57:01.606Z"
   },
   {
    "duration": 160,
    "start_time": "2022-02-18T17:57:01.610Z"
   },
   {
    "duration": 18,
    "start_time": "2022-02-18T17:57:01.772Z"
   },
   {
    "duration": 295,
    "start_time": "2022-02-18T17:57:01.792Z"
   },
   {
    "duration": 210,
    "start_time": "2022-02-18T17:57:02.089Z"
   },
   {
    "duration": 58,
    "start_time": "2022-02-18T17:57:02.301Z"
   },
   {
    "duration": 14,
    "start_time": "2022-02-18T17:57:02.361Z"
   },
   {
    "duration": 22,
    "start_time": "2022-02-18T17:57:02.376Z"
   },
   {
    "duration": 64,
    "start_time": "2022-02-18T17:57:02.400Z"
   },
   {
    "duration": 15,
    "start_time": "2022-02-18T17:57:02.465Z"
   },
   {
    "duration": 242,
    "start_time": "2022-02-18T17:57:02.481Z"
   },
   {
    "duration": 260,
    "start_time": "2022-02-18T17:57:02.724Z"
   },
   {
    "duration": 210,
    "start_time": "2022-02-18T17:57:02.986Z"
   },
   {
    "duration": 50,
    "start_time": "2022-02-18T17:57:03.198Z"
   },
   {
    "duration": 14,
    "start_time": "2022-02-18T17:57:03.250Z"
   },
   {
    "duration": 33,
    "start_time": "2022-02-18T17:57:03.266Z"
   },
   {
    "duration": 45,
    "start_time": "2022-02-18T17:57:03.300Z"
   },
   {
    "duration": 55,
    "start_time": "2022-02-18T17:57:03.347Z"
   },
   {
    "duration": 37,
    "start_time": "2022-02-18T17:57:03.403Z"
   },
   {
    "duration": 22,
    "start_time": "2022-02-18T17:57:03.444Z"
   },
   {
    "duration": 57,
    "start_time": "2022-02-18T17:57:03.468Z"
   },
   {
    "duration": 57,
    "start_time": "2022-02-18T17:57:03.526Z"
   },
   {
    "duration": 4,
    "start_time": "2022-02-18T17:57:03.585Z"
   },
   {
    "duration": 942,
    "start_time": "2022-02-18T17:57:03.590Z"
   },
   {
    "duration": 41,
    "start_time": "2022-02-18T17:57:04.534Z"
   },
   {
    "duration": 71,
    "start_time": "2022-02-18T17:57:04.576Z"
   },
   {
    "duration": 2914,
    "start_time": "2022-02-18T17:57:04.648Z"
   },
   {
    "duration": 51,
    "start_time": "2022-02-18T17:57:07.563Z"
   },
   {
    "duration": 72,
    "start_time": "2022-02-18T17:57:07.615Z"
   },
   {
    "duration": 15,
    "start_time": "2022-02-18T17:57:07.689Z"
   },
   {
    "duration": 957,
    "start_time": "2022-02-18T17:57:07.706Z"
   },
   {
    "duration": 40,
    "start_time": "2022-02-18T17:57:08.664Z"
   },
   {
    "duration": 68,
    "start_time": "2022-02-18T17:57:08.706Z"
   },
   {
    "duration": 60,
    "start_time": "2022-02-18T17:57:08.776Z"
   },
   {
    "duration": 26,
    "start_time": "2022-02-18T17:57:08.837Z"
   },
   {
    "duration": 86,
    "start_time": "2022-02-18T17:57:08.864Z"
   },
   {
    "duration": 52,
    "start_time": "2022-02-18T17:57:08.951Z"
   },
   {
    "duration": 26,
    "start_time": "2022-02-18T17:57:09.005Z"
   },
   {
    "duration": 543,
    "start_time": "2022-02-18T17:57:09.033Z"
   },
   {
    "duration": 121,
    "start_time": "2022-02-18T17:57:09.577Z"
   },
   {
    "duration": 3,
    "start_time": "2022-02-18T17:57:09.700Z"
   },
   {
    "duration": 875,
    "start_time": "2022-02-18T17:57:25.993Z"
   },
   {
    "duration": 295090,
    "start_time": "2022-02-18T17:58:11.366Z"
   },
   {
    "duration": 325,
    "start_time": "2022-02-18T18:35:24.126Z"
   },
   {
    "duration": 849,
    "start_time": "2022-02-18T18:35:30.109Z"
   },
   {
    "duration": 296892,
    "start_time": "2022-02-18T18:35:44.749Z"
   },
   {
    "duration": 119,
    "start_time": "2022-02-18T18:46:40.492Z"
   },
   {
    "duration": 80,
    "start_time": "2022-02-18T18:47:07.495Z"
   },
   {
    "duration": 986,
    "start_time": "2022-02-18T18:47:15.049Z"
   },
   {
    "duration": 894,
    "start_time": "2022-02-18T18:57:26.039Z"
   },
   {
    "duration": 817,
    "start_time": "2022-02-18T19:04:28.541Z"
   },
   {
    "duration": 1135,
    "start_time": "2022-02-18T19:06:42.800Z"
   },
   {
    "duration": 17906,
    "start_time": "2022-02-18T19:07:45.934Z"
   },
   {
    "duration": 1180,
    "start_time": "2022-02-18T20:06:49.214Z"
   },
   {
    "duration": 828,
    "start_time": "2022-02-18T20:06:50.396Z"
   },
   {
    "duration": 95,
    "start_time": "2022-02-18T20:06:51.226Z"
   },
   {
    "duration": 8,
    "start_time": "2022-02-18T20:06:51.323Z"
   },
   {
    "duration": 143,
    "start_time": "2022-02-18T20:06:51.333Z"
   },
   {
    "duration": 16,
    "start_time": "2022-02-18T20:06:51.478Z"
   },
   {
    "duration": 269,
    "start_time": "2022-02-18T20:06:51.496Z"
   },
   {
    "duration": 203,
    "start_time": "2022-02-18T20:06:51.768Z"
   },
   {
    "duration": 58,
    "start_time": "2022-02-18T20:06:51.974Z"
   },
   {
    "duration": 16,
    "start_time": "2022-02-18T20:06:52.033Z"
   },
   {
    "duration": 28,
    "start_time": "2022-02-18T20:06:52.051Z"
   },
   {
    "duration": 71,
    "start_time": "2022-02-18T20:06:52.081Z"
   },
   {
    "duration": 15,
    "start_time": "2022-02-18T20:06:52.154Z"
   },
   {
    "duration": 240,
    "start_time": "2022-02-18T20:06:52.171Z"
   },
   {
    "duration": 253,
    "start_time": "2022-02-18T20:06:52.413Z"
   },
   {
    "duration": 206,
    "start_time": "2022-02-18T20:06:52.668Z"
   },
   {
    "duration": 39,
    "start_time": "2022-02-18T20:06:52.876Z"
   },
   {
    "duration": 26,
    "start_time": "2022-02-18T20:06:52.917Z"
   },
   {
    "duration": 32,
    "start_time": "2022-02-18T20:06:52.945Z"
   },
   {
    "duration": 24,
    "start_time": "2022-02-18T20:06:52.979Z"
   },
   {
    "duration": 74,
    "start_time": "2022-02-18T20:06:53.004Z"
   },
   {
    "duration": 26,
    "start_time": "2022-02-18T20:06:53.079Z"
   },
   {
    "duration": 41,
    "start_time": "2022-02-18T20:06:53.108Z"
   },
   {
    "duration": 24,
    "start_time": "2022-02-18T20:06:53.150Z"
   },
   {
    "duration": 69,
    "start_time": "2022-02-18T20:06:53.176Z"
   },
   {
    "duration": 4,
    "start_time": "2022-02-18T20:06:53.246Z"
   },
   {
    "duration": 963,
    "start_time": "2022-02-18T20:06:53.252Z"
   },
   {
    "duration": 49,
    "start_time": "2022-02-18T20:06:54.216Z"
   },
   {
    "duration": 55,
    "start_time": "2022-02-18T20:06:54.266Z"
   },
   {
    "duration": 2927,
    "start_time": "2022-02-18T20:06:54.332Z"
   },
   {
    "duration": 50,
    "start_time": "2022-02-18T20:06:57.261Z"
   },
   {
    "duration": 68,
    "start_time": "2022-02-18T20:06:57.312Z"
   },
   {
    "duration": 12,
    "start_time": "2022-02-18T20:06:57.382Z"
   },
   {
    "duration": 935,
    "start_time": "2022-02-18T20:06:57.396Z"
   },
   {
    "duration": 42,
    "start_time": "2022-02-18T20:06:58.333Z"
   },
   {
    "duration": 63,
    "start_time": "2022-02-18T20:06:58.377Z"
   },
   {
    "duration": 58,
    "start_time": "2022-02-18T20:06:58.442Z"
   },
   {
    "duration": 41,
    "start_time": "2022-02-18T20:06:58.501Z"
   },
   {
    "duration": 71,
    "start_time": "2022-02-18T20:06:58.543Z"
   },
   {
    "duration": 69,
    "start_time": "2022-02-18T20:06:58.615Z"
   },
   {
    "duration": 14,
    "start_time": "2022-02-18T20:06:58.685Z"
   },
   {
    "duration": 569,
    "start_time": "2022-02-18T20:06:58.700Z"
   },
   {
    "duration": 132,
    "start_time": "2022-02-18T20:06:59.271Z"
   },
   {
    "duration": 4,
    "start_time": "2022-02-18T20:06:59.405Z"
   },
   {
    "duration": 352,
    "start_time": "2022-02-18T20:06:59.411Z"
   },
   {
    "duration": 967,
    "start_time": "2022-02-18T20:06:59.765Z"
   },
   {
    "duration": 552199,
    "start_time": "2022-02-18T20:07:22.291Z"
   },
   {
    "duration": 717124,
    "start_time": "2022-02-18T20:22:49.921Z"
   },
   {
    "duration": 301,
    "start_time": "2022-02-18T20:56:52.678Z"
   },
   {
    "duration": 221,
    "start_time": "2022-02-18T20:58:33.794Z"
   },
   {
    "duration": 105,
    "start_time": "2022-02-18T21:06:39.985Z"
   },
   {
    "duration": 40,
    "start_time": "2022-02-18T21:08:43.038Z"
   },
   {
    "duration": 69003,
    "start_time": "2022-02-18T21:09:13.934Z"
   },
   {
    "duration": 61087,
    "start_time": "2022-02-18T21:11:52.959Z"
   },
   {
    "duration": 305554,
    "start_time": "2022-02-18T21:16:51.688Z"
   },
   {
    "duration": 3223,
    "start_time": "2022-02-18T21:25:57.193Z"
   },
   {
    "duration": 711947,
    "start_time": "2022-02-18T21:27:42.707Z"
   },
   {
    "duration": 90,
    "start_time": "2022-02-18T21:56:22.688Z"
   },
   {
    "duration": 3016,
    "start_time": "2022-02-18T22:00:33.838Z"
   },
   {
    "duration": 84,
    "start_time": "2022-02-18T22:01:12.614Z"
   },
   {
    "duration": 213442,
    "start_time": "2022-02-18T22:01:31.097Z"
   },
   {
    "duration": 176,
    "start_time": "2022-02-18T22:24:08.736Z"
   },
   {
    "duration": 501,
    "start_time": "2022-02-18T22:24:57.015Z"
   },
   {
    "duration": 190,
    "start_time": "2022-02-18T22:25:08.764Z"
   },
   {
    "duration": 183,
    "start_time": "2022-02-18T22:26:40.288Z"
   },
   {
    "duration": 236,
    "start_time": "2022-02-18T22:27:06.473Z"
   },
   {
    "duration": 8534,
    "start_time": "2022-02-18T22:27:16.335Z"
   },
   {
    "duration": 1320,
    "start_time": "2022-02-19T19:57:21.622Z"
   },
   {
    "duration": 1041,
    "start_time": "2022-02-19T19:57:22.944Z"
   },
   {
    "duration": 119,
    "start_time": "2022-02-19T19:57:23.987Z"
   },
   {
    "duration": 3,
    "start_time": "2022-02-19T19:57:24.107Z"
   },
   {
    "duration": 178,
    "start_time": "2022-02-19T19:57:24.112Z"
   },
   {
    "duration": 18,
    "start_time": "2022-02-19T19:57:24.293Z"
   },
   {
    "duration": 340,
    "start_time": "2022-02-19T19:57:24.313Z"
   },
   {
    "duration": 285,
    "start_time": "2022-02-19T19:57:24.656Z"
   },
   {
    "duration": 68,
    "start_time": "2022-02-19T19:57:24.944Z"
   },
   {
    "duration": 19,
    "start_time": "2022-02-19T19:57:25.014Z"
   },
   {
    "duration": 47,
    "start_time": "2022-02-19T19:57:25.034Z"
   },
   {
    "duration": 54,
    "start_time": "2022-02-19T19:57:25.084Z"
   },
   {
    "duration": 41,
    "start_time": "2022-02-19T19:57:25.141Z"
   },
   {
    "duration": 340,
    "start_time": "2022-02-19T19:57:25.185Z"
   },
   {
    "duration": 334,
    "start_time": "2022-02-19T19:57:25.528Z"
   },
   {
    "duration": 272,
    "start_time": "2022-02-19T19:57:25.869Z"
   },
   {
    "duration": 58,
    "start_time": "2022-02-19T19:57:26.143Z"
   },
   {
    "duration": 19,
    "start_time": "2022-02-19T19:57:26.203Z"
   },
   {
    "duration": 54,
    "start_time": "2022-02-19T19:57:26.224Z"
   },
   {
    "duration": 28,
    "start_time": "2022-02-19T19:57:26.280Z"
   },
   {
    "duration": 81,
    "start_time": "2022-02-19T19:57:26.310Z"
   },
   {
    "duration": 33,
    "start_time": "2022-02-19T19:57:26.393Z"
   },
   {
    "duration": 45,
    "start_time": "2022-02-19T19:57:26.430Z"
   },
   {
    "duration": 28,
    "start_time": "2022-02-19T19:57:26.477Z"
   },
   {
    "duration": 84,
    "start_time": "2022-02-19T19:57:26.507Z"
   },
   {
    "duration": 5,
    "start_time": "2022-02-19T19:57:26.593Z"
   },
   {
    "duration": 1163,
    "start_time": "2022-02-19T19:57:26.600Z"
   },
   {
    "duration": 60,
    "start_time": "2022-02-19T19:57:27.769Z"
   },
   {
    "duration": 74,
    "start_time": "2022-02-19T19:57:27.831Z"
   },
   {
    "duration": 3226,
    "start_time": "2022-02-19T19:57:27.907Z"
   },
   {
    "duration": 59,
    "start_time": "2022-02-19T19:57:31.135Z"
   },
   {
    "duration": 77,
    "start_time": "2022-02-19T19:57:31.196Z"
   },
   {
    "duration": 15,
    "start_time": "2022-02-19T19:57:31.275Z"
   },
   {
    "duration": 1124,
    "start_time": "2022-02-19T19:57:31.291Z"
   },
   {
    "duration": 68,
    "start_time": "2022-02-19T19:57:32.417Z"
   },
   {
    "duration": 64,
    "start_time": "2022-02-19T19:57:32.487Z"
   },
   {
    "duration": 79,
    "start_time": "2022-02-19T19:57:32.553Z"
   },
   {
    "duration": 43,
    "start_time": "2022-02-19T19:57:32.634Z"
   },
   {
    "duration": 96,
    "start_time": "2022-02-19T19:57:32.679Z"
   },
   {
    "duration": 68,
    "start_time": "2022-02-19T19:57:32.777Z"
   },
   {
    "duration": 35,
    "start_time": "2022-02-19T19:57:32.848Z"
   },
   {
    "duration": 703,
    "start_time": "2022-02-19T19:57:32.886Z"
   },
   {
    "duration": 105,
    "start_time": "2022-02-19T19:57:38.631Z"
   },
   {
    "duration": 113,
    "start_time": "2022-02-19T19:59:56.252Z"
   },
   {
    "duration": 404,
    "start_time": "2022-02-19T20:00:28.210Z"
   },
   {
    "duration": 851,
    "start_time": "2022-02-19T20:00:51.457Z"
   },
   {
    "duration": 325,
    "start_time": "2022-02-19T20:03:48.348Z"
   },
   {
    "duration": 153,
    "start_time": "2022-02-19T20:06:09.107Z"
   },
   {
    "duration": 176,
    "start_time": "2022-02-19T20:06:31.312Z"
   },
   {
    "duration": 155,
    "start_time": "2022-02-19T20:07:46.828Z"
   },
   {
    "duration": 33,
    "start_time": "2022-02-19T20:09:47.719Z"
   },
   {
    "duration": 11,
    "start_time": "2022-02-19T20:10:10.875Z"
   },
   {
    "duration": 215,
    "start_time": "2022-02-19T20:10:37.342Z"
   },
   {
    "duration": 178,
    "start_time": "2022-02-19T20:10:46.763Z"
   },
   {
    "duration": 73828,
    "start_time": "2022-02-19T20:17:29.052Z"
   },
   {
    "duration": 84212,
    "start_time": "2022-02-19T20:19:47.488Z"
   },
   {
    "duration": 198,
    "start_time": "2022-02-19T20:27:44.975Z"
   },
   {
    "duration": 388185,
    "start_time": "2022-02-19T20:29:17.369Z"
   },
   {
    "duration": 1176449,
    "start_time": "2022-02-19T20:40:16.749Z"
   },
   {
    "duration": 651202,
    "start_time": "2022-02-19T21:02:37.555Z"
   },
   {
    "duration": 259342,
    "start_time": "2022-02-19T21:16:08.579Z"
   },
   {
    "duration": 540879,
    "start_time": "2022-02-19T21:23:34.628Z"
   },
   {
    "duration": 367138,
    "start_time": "2022-02-19T21:35:17.836Z"
   },
   {
    "duration": 163372,
    "start_time": "2022-02-19T21:43:02.239Z"
   },
   {
    "duration": 7642,
    "start_time": "2022-02-19T21:51:17.422Z"
   },
   {
    "duration": 83281,
    "start_time": "2022-02-19T21:54:56.088Z"
   },
   {
    "duration": 116316,
    "start_time": "2022-02-19T21:59:14.289Z"
   },
   {
    "duration": 5,
    "start_time": "2022-02-19T22:14:08.381Z"
   },
   {
    "duration": 5,
    "start_time": "2022-02-19T22:14:22.882Z"
   },
   {
    "duration": 9657,
    "start_time": "2022-02-19T22:17:57.903Z"
   },
   {
    "duration": 17223,
    "start_time": "2022-02-19T22:18:58.928Z"
   },
   {
    "duration": 7654,
    "start_time": "2022-02-19T22:19:45.961Z"
   },
   {
    "duration": 7647,
    "start_time": "2022-02-19T22:21:42.978Z"
   },
   {
    "duration": 7892,
    "start_time": "2022-02-19T22:21:59.719Z"
   },
   {
    "duration": 171677,
    "start_time": "2022-02-19T22:28:19.824Z"
   },
   {
    "duration": 521157,
    "start_time": "2022-02-19T22:36:31.257Z"
   },
   {
    "duration": 1331,
    "start_time": "2022-02-19T22:57:56.809Z"
   },
   {
    "duration": 1029,
    "start_time": "2022-02-19T22:57:58.142Z"
   },
   {
    "duration": 116,
    "start_time": "2022-02-19T22:57:59.174Z"
   },
   {
    "duration": 2,
    "start_time": "2022-02-19T22:57:59.292Z"
   },
   {
    "duration": 184,
    "start_time": "2022-02-19T22:57:59.295Z"
   },
   {
    "duration": 21,
    "start_time": "2022-02-19T22:57:59.481Z"
   },
   {
    "duration": 339,
    "start_time": "2022-02-19T22:57:59.504Z"
   },
   {
    "duration": 278,
    "start_time": "2022-02-19T22:57:59.846Z"
   },
   {
    "duration": 65,
    "start_time": "2022-02-19T22:58:00.126Z"
   },
   {
    "duration": 17,
    "start_time": "2022-02-19T22:58:00.193Z"
   },
   {
    "duration": 28,
    "start_time": "2022-02-19T22:58:00.211Z"
   },
   {
    "duration": 79,
    "start_time": "2022-02-19T22:58:00.241Z"
   },
   {
    "duration": 18,
    "start_time": "2022-02-19T22:58:00.322Z"
   },
   {
    "duration": 320,
    "start_time": "2022-02-19T22:58:00.342Z"
   },
   {
    "duration": 340,
    "start_time": "2022-02-19T22:58:00.664Z"
   },
   {
    "duration": 277,
    "start_time": "2022-02-19T22:58:01.006Z"
   },
   {
    "duration": 52,
    "start_time": "2022-02-19T22:58:01.285Z"
   },
   {
    "duration": 37,
    "start_time": "2022-02-19T22:58:01.339Z"
   },
   {
    "duration": 46,
    "start_time": "2022-02-19T22:58:01.377Z"
   },
   {
    "duration": 29,
    "start_time": "2022-02-19T22:58:01.425Z"
   },
   {
    "duration": 66,
    "start_time": "2022-02-19T22:58:01.469Z"
   },
   {
    "duration": 44,
    "start_time": "2022-02-19T22:58:01.537Z"
   },
   {
    "duration": 43,
    "start_time": "2022-02-19T22:58:01.585Z"
   },
   {
    "duration": 29,
    "start_time": "2022-02-19T22:58:01.630Z"
   },
   {
    "duration": 74,
    "start_time": "2022-02-19T22:58:01.661Z"
   },
   {
    "duration": 19,
    "start_time": "2022-02-19T22:58:01.737Z"
   },
   {
    "duration": 1205,
    "start_time": "2022-02-19T22:58:01.758Z"
   },
   {
    "duration": 64,
    "start_time": "2022-02-19T22:58:02.965Z"
   },
   {
    "duration": 77,
    "start_time": "2022-02-19T22:58:03.031Z"
   },
   {
    "duration": 3211,
    "start_time": "2022-02-19T22:58:03.110Z"
   },
   {
    "duration": 60,
    "start_time": "2022-02-19T22:58:06.323Z"
   },
   {
    "duration": 67,
    "start_time": "2022-02-19T22:58:06.385Z"
   },
   {
    "duration": 28,
    "start_time": "2022-02-19T22:58:06.454Z"
   },
   {
    "duration": 1078,
    "start_time": "2022-02-19T22:58:06.484Z"
   },
   {
    "duration": 64,
    "start_time": "2022-02-19T22:58:07.563Z"
   },
   {
    "duration": 78,
    "start_time": "2022-02-19T22:58:07.629Z"
   },
   {
    "duration": 77,
    "start_time": "2022-02-19T22:58:07.709Z"
   },
   {
    "duration": 29,
    "start_time": "2022-02-19T22:58:07.788Z"
   },
   {
    "duration": 97,
    "start_time": "2022-02-19T22:58:07.819Z"
   },
   {
    "duration": 67,
    "start_time": "2022-02-19T22:58:07.918Z"
   },
   {
    "duration": 17,
    "start_time": "2022-02-19T22:58:07.987Z"
   },
   {
    "duration": 695,
    "start_time": "2022-02-19T22:58:08.006Z"
   },
   {
    "duration": 111,
    "start_time": "2022-02-19T22:58:08.703Z"
   },
   {
    "duration": 112,
    "start_time": "2022-02-19T22:58:08.815Z"
   },
   {
    "duration": 414,
    "start_time": "2022-02-19T22:58:08.929Z"
   },
   {
    "duration": 869673,
    "start_time": "2022-02-19T22:59:43.350Z"
   },
   {
    "duration": 411691,
    "start_time": "2022-02-19T23:17:44.145Z"
   },
   {
    "duration": 1634,
    "start_time": "2022-02-20T10:48:39.637Z"
   },
   {
    "duration": 1336,
    "start_time": "2022-02-20T10:48:41.274Z"
   },
   {
    "duration": 147,
    "start_time": "2022-02-20T10:48:42.614Z"
   },
   {
    "duration": 4,
    "start_time": "2022-02-20T10:48:42.765Z"
   },
   {
    "duration": 218,
    "start_time": "2022-02-20T10:48:42.772Z"
   },
   {
    "duration": 20,
    "start_time": "2022-02-20T10:48:42.992Z"
   },
   {
    "duration": 483,
    "start_time": "2022-02-20T10:48:43.014Z"
   },
   {
    "duration": 387,
    "start_time": "2022-02-20T10:48:43.499Z"
   },
   {
    "duration": 98,
    "start_time": "2022-02-20T10:48:43.890Z"
   },
   {
    "duration": 19,
    "start_time": "2022-02-20T10:48:43.992Z"
   },
   {
    "duration": 64,
    "start_time": "2022-02-20T10:48:44.014Z"
   },
   {
    "duration": 89,
    "start_time": "2022-02-20T10:48:44.081Z"
   },
   {
    "duration": 22,
    "start_time": "2022-02-20T10:48:44.172Z"
   },
   {
    "duration": 448,
    "start_time": "2022-02-20T10:48:44.196Z"
   },
   {
    "duration": 426,
    "start_time": "2022-02-20T10:48:44.647Z"
   },
   {
    "duration": 396,
    "start_time": "2022-02-20T10:48:45.076Z"
   },
   {
    "duration": 89,
    "start_time": "2022-02-20T10:48:45.474Z"
   },
   {
    "duration": 22,
    "start_time": "2022-02-20T10:48:45.565Z"
   },
   {
    "duration": 71,
    "start_time": "2022-02-20T10:48:45.589Z"
   },
   {
    "duration": 39,
    "start_time": "2022-02-20T10:48:45.663Z"
   },
   {
    "duration": 96,
    "start_time": "2022-02-20T10:48:45.705Z"
   },
   {
    "duration": 56,
    "start_time": "2022-02-20T10:48:45.804Z"
   },
   {
    "duration": 36,
    "start_time": "2022-02-20T10:48:45.863Z"
   },
   {
    "duration": 64,
    "start_time": "2022-02-20T10:48:45.902Z"
   },
   {
    "duration": 91,
    "start_time": "2022-02-20T10:48:45.969Z"
   },
   {
    "duration": 6,
    "start_time": "2022-02-20T10:48:46.063Z"
   },
   {
    "duration": 1903,
    "start_time": "2022-02-20T10:48:46.074Z"
   },
   {
    "duration": 100,
    "start_time": "2022-02-20T10:48:47.980Z"
   },
   {
    "duration": 93,
    "start_time": "2022-02-20T10:48:48.083Z"
   },
   {
    "duration": 6237,
    "start_time": "2022-02-20T10:48:48.179Z"
   },
   {
    "duration": 87,
    "start_time": "2022-02-20T10:48:54.419Z"
   },
   {
    "duration": 91,
    "start_time": "2022-02-20T10:48:54.509Z"
   },
   {
    "duration": 17,
    "start_time": "2022-02-20T10:48:54.603Z"
   },
   {
    "duration": 1755,
    "start_time": "2022-02-20T10:48:54.622Z"
   },
   {
    "duration": 98,
    "start_time": "2022-02-20T10:48:56.380Z"
   },
   {
    "duration": 86,
    "start_time": "2022-02-20T10:48:56.480Z"
   },
   {
    "duration": 99,
    "start_time": "2022-02-20T10:48:56.569Z"
   },
   {
    "duration": 37,
    "start_time": "2022-02-20T10:48:56.671Z"
   },
   {
    "duration": 133,
    "start_time": "2022-02-20T10:48:56.711Z"
   },
   {
    "duration": 87,
    "start_time": "2022-02-20T10:48:56.846Z"
   },
   {
    "duration": 43,
    "start_time": "2022-02-20T10:48:56.935Z"
   },
   {
    "duration": 917,
    "start_time": "2022-02-20T10:48:56.980Z"
   },
   {
    "duration": 154,
    "start_time": "2022-02-20T10:48:57.900Z"
   },
   {
    "duration": 146,
    "start_time": "2022-02-20T10:48:58.062Z"
   },
   {
    "duration": 507,
    "start_time": "2022-02-20T10:48:58.211Z"
   },
   {
    "duration": 340062,
    "start_time": "2022-02-20T10:49:07.712Z"
   },
   {
    "duration": 220793,
    "start_time": "2022-02-20T11:17:05.524Z"
   },
   {
    "duration": 716628,
    "start_time": "2022-02-20T11:28:01.794Z"
   },
   {
    "duration": 7312,
    "start_time": "2022-02-20T11:59:34.527Z"
   },
   {
    "duration": 443,
    "start_time": "2022-02-20T11:59:57.775Z"
   },
   {
    "duration": 46400,
    "start_time": "2022-02-20T12:00:26.879Z"
   },
   {
    "duration": 356650,
    "start_time": "2022-02-20T12:02:51.471Z"
   },
   {
    "duration": 343969,
    "start_time": "2022-02-20T12:14:30.799Z"
   },
   {
    "duration": 1170,
    "start_time": "2022-02-20T12:28:17.194Z"
   },
   {
    "duration": 56968,
    "start_time": "2022-02-20T12:29:20.864Z"
   },
   {
    "duration": 117,
    "start_time": "2022-02-20T12:38:33.005Z"
   },
   {
    "duration": 71801,
    "start_time": "2022-02-20T12:38:58.710Z"
   },
   {
    "duration": 33720,
    "start_time": "2022-02-20T12:41:04.903Z"
   },
   {
    "duration": 1163,
    "start_time": "2022-02-20T20:29:52.783Z"
   },
   {
    "duration": 887,
    "start_time": "2022-02-20T20:29:53.948Z"
   },
   {
    "duration": 102,
    "start_time": "2022-02-20T20:29:54.837Z"
   },
   {
    "duration": 2,
    "start_time": "2022-02-20T20:29:54.941Z"
   },
   {
    "duration": 157,
    "start_time": "2022-02-20T20:29:54.945Z"
   },
   {
    "duration": 23,
    "start_time": "2022-02-20T20:29:55.104Z"
   },
   {
    "duration": 290,
    "start_time": "2022-02-20T20:29:55.129Z"
   },
   {
    "duration": 243,
    "start_time": "2022-02-20T20:29:55.422Z"
   },
   {
    "duration": 59,
    "start_time": "2022-02-20T20:29:55.667Z"
   },
   {
    "duration": 21,
    "start_time": "2022-02-20T20:29:55.728Z"
   },
   {
    "duration": 42,
    "start_time": "2022-02-20T20:29:55.751Z"
   },
   {
    "duration": 67,
    "start_time": "2022-02-20T20:29:55.794Z"
   },
   {
    "duration": 14,
    "start_time": "2022-02-20T20:29:55.863Z"
   },
   {
    "duration": 278,
    "start_time": "2022-02-20T20:29:55.879Z"
   },
   {
    "duration": 282,
    "start_time": "2022-02-20T20:29:56.159Z"
   },
   {
    "duration": 237,
    "start_time": "2022-02-20T20:29:56.443Z"
   },
   {
    "duration": 53,
    "start_time": "2022-02-20T20:29:56.682Z"
   },
   {
    "duration": 17,
    "start_time": "2022-02-20T20:29:56.736Z"
   },
   {
    "duration": 65,
    "start_time": "2022-02-20T20:29:56.755Z"
   },
   {
    "duration": 29,
    "start_time": "2022-02-20T20:29:56.823Z"
   },
   {
    "duration": 74,
    "start_time": "2022-02-20T20:29:56.854Z"
   },
   {
    "duration": 30,
    "start_time": "2022-02-20T20:29:56.930Z"
   },
   {
    "duration": 33,
    "start_time": "2022-02-20T20:29:56.963Z"
   },
   {
    "duration": 38,
    "start_time": "2022-02-20T20:29:56.998Z"
   },
   {
    "duration": 83,
    "start_time": "2022-02-20T20:29:57.037Z"
   },
   {
    "duration": 4,
    "start_time": "2022-02-20T20:29:57.121Z"
   },
   {
    "duration": 1106,
    "start_time": "2022-02-20T20:29:57.127Z"
   },
   {
    "duration": 60,
    "start_time": "2022-02-20T20:29:58.235Z"
   },
   {
    "duration": 77,
    "start_time": "2022-02-20T20:29:58.297Z"
   },
   {
    "duration": 3052,
    "start_time": "2022-02-20T20:29:58.375Z"
   },
   {
    "duration": 43,
    "start_time": "2022-02-20T20:30:01.429Z"
   },
   {
    "duration": 75,
    "start_time": "2022-02-20T20:30:01.474Z"
   },
   {
    "duration": 13,
    "start_time": "2022-02-20T20:30:01.551Z"
   },
   {
    "duration": 1029,
    "start_time": "2022-02-20T20:30:01.565Z"
   },
   {
    "duration": 66,
    "start_time": "2022-02-20T20:30:02.596Z"
   },
   {
    "duration": 63,
    "start_time": "2022-02-20T20:30:02.664Z"
   },
   {
    "duration": 62,
    "start_time": "2022-02-20T20:30:02.729Z"
   },
   {
    "duration": 43,
    "start_time": "2022-02-20T20:30:02.793Z"
   },
   {
    "duration": 86,
    "start_time": "2022-02-20T20:30:02.837Z"
   },
   {
    "duration": 58,
    "start_time": "2022-02-20T20:30:02.924Z"
   },
   {
    "duration": 39,
    "start_time": "2022-02-20T20:30:02.984Z"
   },
   {
    "duration": 659,
    "start_time": "2022-02-20T20:30:03.025Z"
   },
   {
    "duration": 115,
    "start_time": "2022-02-20T20:30:03.687Z"
   },
   {
    "duration": 120,
    "start_time": "2022-02-20T20:30:03.804Z"
   },
   {
    "duration": 393,
    "start_time": "2022-02-20T20:30:03.926Z"
   },
   {
    "duration": 243520,
    "start_time": "2022-02-20T20:32:01.905Z"
   },
   {
    "duration": 74550,
    "start_time": "2022-02-20T20:37:10.690Z"
   },
   {
    "duration": 248884,
    "start_time": "2022-02-20T20:39:17.441Z"
   },
   {
    "duration": 46714,
    "start_time": "2022-02-20T20:45:09.481Z"
   },
   {
    "duration": 325,
    "start_time": "2022-02-20T21:00:15.675Z"
   },
   {
    "duration": 6,
    "start_time": "2022-02-20T21:00:22.890Z"
   },
   {
    "duration": 3,
    "start_time": "2022-02-20T21:00:26.768Z"
   },
   {
    "duration": 4,
    "start_time": "2022-02-20T21:00:52.850Z"
   },
   {
    "duration": 44305,
    "start_time": "2022-02-20T21:01:10.896Z"
   },
   {
    "duration": 888,
    "start_time": "2022-02-20T21:05:16.132Z"
   },
   {
    "duration": 405617,
    "start_time": "2022-02-20T21:08:25.961Z"
   },
   {
    "duration": 700853,
    "start_time": "2022-02-20T21:18:46.834Z"
   },
   {
    "duration": 252194,
    "start_time": "2022-02-20T21:45:04.158Z"
   },
   {
    "duration": 17624,
    "start_time": "2022-02-20T21:56:07.196Z"
   },
   {
    "duration": 220528,
    "start_time": "2022-02-20T22:01:20.860Z"
   },
   {
    "duration": 25557,
    "start_time": "2022-02-20T22:06:47.363Z"
   },
   {
    "duration": 5,
    "start_time": "2022-02-20T22:17:54.722Z"
   },
   {
    "duration": 988,
    "start_time": "2022-02-20T22:24:48.832Z"
   },
   {
    "duration": 3,
    "start_time": "2022-02-20T22:33:19.796Z"
   },
   {
    "duration": 6,
    "start_time": "2022-02-20T22:37:42.307Z"
   },
   {
    "duration": 144,
    "start_time": "2022-02-20T22:38:12.597Z"
   },
   {
    "duration": 8,
    "start_time": "2022-02-20T22:38:21.385Z"
   },
   {
    "duration": 8,
    "start_time": "2022-02-20T22:44:49.105Z"
   },
   {
    "duration": 239,
    "start_time": "2022-02-20T22:47:55.043Z"
   },
   {
    "duration": 233,
    "start_time": "2022-02-20T22:50:39.220Z"
   },
   {
    "duration": 76,
    "start_time": "2022-02-20T23:01:56.090Z"
   },
   {
    "duration": 13,
    "start_time": "2022-02-20T23:02:36.439Z"
   },
   {
    "duration": 13,
    "start_time": "2022-02-20T23:02:52.340Z"
   },
   {
    "duration": 7,
    "start_time": "2022-02-21T20:02:42.617Z"
   },
   {
    "duration": 1283,
    "start_time": "2022-02-21T20:03:10.761Z"
   },
   {
    "duration": 1027,
    "start_time": "2022-02-21T20:03:12.046Z"
   },
   {
    "duration": 109,
    "start_time": "2022-02-21T20:03:13.075Z"
   },
   {
    "duration": 2,
    "start_time": "2022-02-21T20:03:13.186Z"
   },
   {
    "duration": 180,
    "start_time": "2022-02-21T20:03:13.190Z"
   },
   {
    "duration": 19,
    "start_time": "2022-02-21T20:03:13.372Z"
   },
   {
    "duration": 325,
    "start_time": "2022-02-21T20:03:13.393Z"
   },
   {
    "duration": 265,
    "start_time": "2022-02-21T20:03:13.721Z"
   },
   {
    "duration": 60,
    "start_time": "2022-02-21T20:03:13.988Z"
   },
   {
    "duration": 18,
    "start_time": "2022-02-21T20:03:14.050Z"
   },
   {
    "duration": 28,
    "start_time": "2022-02-21T20:03:14.070Z"
   },
   {
    "duration": 51,
    "start_time": "2022-02-21T20:03:14.120Z"
   },
   {
    "duration": 19,
    "start_time": "2022-02-21T20:03:14.173Z"
   },
   {
    "duration": 326,
    "start_time": "2022-02-21T20:03:14.194Z"
   },
   {
    "duration": 306,
    "start_time": "2022-02-21T20:03:14.522Z"
   },
   {
    "duration": 263,
    "start_time": "2022-02-21T20:03:14.831Z"
   },
   {
    "duration": 52,
    "start_time": "2022-02-21T20:03:15.096Z"
   },
   {
    "duration": 16,
    "start_time": "2022-02-21T20:03:15.150Z"
   },
   {
    "duration": 52,
    "start_time": "2022-02-21T20:03:15.168Z"
   },
   {
    "duration": 29,
    "start_time": "2022-02-21T20:03:15.222Z"
   },
   {
    "duration": 77,
    "start_time": "2022-02-21T20:03:15.252Z"
   },
   {
    "duration": 29,
    "start_time": "2022-02-21T20:03:15.331Z"
   },
   {
    "duration": 27,
    "start_time": "2022-02-21T20:03:15.364Z"
   },
   {
    "duration": 47,
    "start_time": "2022-02-21T20:03:15.393Z"
   },
   {
    "duration": 78,
    "start_time": "2022-02-21T20:03:15.442Z"
   },
   {
    "duration": 5,
    "start_time": "2022-02-21T20:03:15.522Z"
   },
   {
    "duration": 1099,
    "start_time": "2022-02-21T20:03:15.528Z"
   },
   {
    "duration": 58,
    "start_time": "2022-02-21T20:03:16.629Z"
   },
   {
    "duration": 76,
    "start_time": "2022-02-21T20:03:16.688Z"
   },
   {
    "duration": 3157,
    "start_time": "2022-02-21T20:03:16.767Z"
   },
   {
    "duration": 45,
    "start_time": "2022-02-21T20:03:19.926Z"
   },
   {
    "duration": 77,
    "start_time": "2022-02-21T20:03:19.973Z"
   },
   {
    "duration": 27,
    "start_time": "2022-02-21T20:03:20.052Z"
   },
   {
    "duration": 1061,
    "start_time": "2022-02-21T20:03:20.080Z"
   },
   {
    "duration": 59,
    "start_time": "2022-02-21T20:03:21.143Z"
   },
   {
    "duration": 76,
    "start_time": "2022-02-21T20:03:21.204Z"
   },
   {
    "duration": 76,
    "start_time": "2022-02-21T20:03:21.282Z"
   },
   {
    "duration": 28,
    "start_time": "2022-02-21T20:03:21.360Z"
   },
   {
    "duration": 89,
    "start_time": "2022-02-21T20:03:21.390Z"
   },
   {
    "duration": 72,
    "start_time": "2022-02-21T20:03:21.481Z"
   },
   {
    "duration": 16,
    "start_time": "2022-02-21T20:03:21.555Z"
   },
   {
    "duration": 648,
    "start_time": "2022-02-21T20:03:21.572Z"
   },
   {
    "duration": 110,
    "start_time": "2022-02-21T20:03:22.221Z"
   },
   {
    "duration": 112,
    "start_time": "2022-02-21T20:03:22.333Z"
   },
   {
    "duration": 391,
    "start_time": "2022-02-21T20:03:22.447Z"
   },
   {
    "duration": 7,
    "start_time": "2022-02-21T20:03:51.602Z"
   },
   {
    "duration": 218816,
    "start_time": "2022-02-21T20:04:04.005Z"
   },
   {
    "duration": 7,
    "start_time": "2022-02-21T20:33:01.981Z"
   },
   {
    "duration": 262501,
    "start_time": "2022-02-21T20:33:11.735Z"
   },
   {
    "duration": 6,
    "start_time": "2022-02-21T20:45:23.621Z"
   },
   {
    "duration": 455631,
    "start_time": "2022-02-21T20:45:58.097Z"
   },
   {
    "duration": 7,
    "start_time": "2022-02-21T20:56:21.272Z"
   },
   {
    "duration": 226200,
    "start_time": "2022-02-21T20:56:30.838Z"
   },
   {
    "duration": 10,
    "start_time": "2022-02-21T21:12:52.089Z"
   },
   {
    "duration": 6,
    "start_time": "2022-02-21T21:13:47.781Z"
   },
   {
    "duration": 218128,
    "start_time": "2022-02-21T21:14:31.421Z"
   },
   {
    "duration": 7,
    "start_time": "2022-02-21T21:26:45.986Z"
   },
   {
    "duration": 443905,
    "start_time": "2022-02-21T21:45:02.829Z"
   },
   {
    "duration": 765366,
    "start_time": "2022-02-21T21:53:46.771Z"
   },
   {
    "duration": 274,
    "start_time": "2022-02-21T22:07:19.791Z"
   },
   {
    "duration": 281267,
    "start_time": "2022-02-21T22:08:34.579Z"
   },
   {
    "duration": 27193,
    "start_time": "2022-02-21T22:14:14.352Z"
   },
   {
    "duration": 254711,
    "start_time": "2022-02-21T22:15:18.452Z"
   },
   {
    "duration": 1288,
    "start_time": "2022-02-22T20:09:20.379Z"
   },
   {
    "duration": 986,
    "start_time": "2022-02-22T20:09:21.669Z"
   },
   {
    "duration": 115,
    "start_time": "2022-02-22T20:09:22.657Z"
   },
   {
    "duration": 2,
    "start_time": "2022-02-22T20:09:22.774Z"
   },
   {
    "duration": 180,
    "start_time": "2022-02-22T20:09:22.777Z"
   },
   {
    "duration": 19,
    "start_time": "2022-02-22T20:09:22.959Z"
   },
   {
    "duration": 323,
    "start_time": "2022-02-22T20:09:22.980Z"
   },
   {
    "duration": 271,
    "start_time": "2022-02-22T20:09:23.306Z"
   },
   {
    "duration": 64,
    "start_time": "2022-02-22T20:09:23.580Z"
   },
   {
    "duration": 18,
    "start_time": "2022-02-22T20:09:23.646Z"
   },
   {
    "duration": 53,
    "start_time": "2022-02-22T20:09:23.667Z"
   },
   {
    "duration": 52,
    "start_time": "2022-02-22T20:09:23.722Z"
   },
   {
    "duration": 18,
    "start_time": "2022-02-22T20:09:23.776Z"
   },
   {
    "duration": 332,
    "start_time": "2022-02-22T20:09:23.796Z"
   },
   {
    "duration": 338,
    "start_time": "2022-02-22T20:09:24.130Z"
   },
   {
    "duration": 267,
    "start_time": "2022-02-22T20:09:24.470Z"
   },
   {
    "duration": 48,
    "start_time": "2022-02-22T20:09:24.738Z"
   },
   {
    "duration": 16,
    "start_time": "2022-02-22T20:09:24.788Z"
   },
   {
    "duration": 48,
    "start_time": "2022-02-22T20:09:24.806Z"
   },
   {
    "duration": 29,
    "start_time": "2022-02-22T20:09:24.855Z"
   },
   {
    "duration": 87,
    "start_time": "2022-02-22T20:09:24.886Z"
   },
   {
    "duration": 46,
    "start_time": "2022-02-22T20:09:24.974Z"
   },
   {
    "duration": 26,
    "start_time": "2022-02-22T20:09:25.023Z"
   },
   {
    "duration": 28,
    "start_time": "2022-02-22T20:09:25.051Z"
   },
   {
    "duration": 84,
    "start_time": "2022-02-22T20:09:25.080Z"
   },
   {
    "duration": 4,
    "start_time": "2022-02-22T20:09:25.166Z"
   },
   {
    "duration": 1116,
    "start_time": "2022-02-22T20:09:25.172Z"
   },
   {
    "duration": 67,
    "start_time": "2022-02-22T20:09:26.289Z"
   },
   {
    "duration": 71,
    "start_time": "2022-02-22T20:09:26.358Z"
   },
   {
    "duration": 3241,
    "start_time": "2022-02-22T20:09:26.431Z"
   },
   {
    "duration": 54,
    "start_time": "2022-02-22T20:09:29.674Z"
   },
   {
    "duration": 63,
    "start_time": "2022-02-22T20:09:29.730Z"
   },
   {
    "duration": 29,
    "start_time": "2022-02-22T20:09:29.795Z"
   },
   {
    "duration": 1072,
    "start_time": "2022-02-22T20:09:29.825Z"
   },
   {
    "duration": 57,
    "start_time": "2022-02-22T20:09:30.898Z"
   },
   {
    "duration": 72,
    "start_time": "2022-02-22T20:09:30.957Z"
   },
   {
    "duration": 67,
    "start_time": "2022-02-22T20:09:31.031Z"
   },
   {
    "duration": 43,
    "start_time": "2022-02-22T20:09:31.100Z"
   },
   {
    "duration": 90,
    "start_time": "2022-02-22T20:09:31.145Z"
   },
   {
    "duration": 64,
    "start_time": "2022-02-22T20:09:31.237Z"
   },
   {
    "duration": 24,
    "start_time": "2022-02-22T20:09:31.303Z"
   },
   {
    "duration": 640,
    "start_time": "2022-02-22T20:09:31.329Z"
   },
   {
    "duration": 102,
    "start_time": "2022-02-22T20:09:31.970Z"
   },
   {
    "duration": 116,
    "start_time": "2022-02-22T20:09:32.074Z"
   },
   {
    "duration": 381,
    "start_time": "2022-02-22T20:09:32.191Z"
   },
   {
    "duration": 10,
    "start_time": "2022-02-22T20:14:12.329Z"
   },
   {
    "duration": 8,
    "start_time": "2022-02-22T20:29:17.641Z"
   },
   {
    "duration": 26757,
    "start_time": "2022-02-22T20:29:31.480Z"
   },
   {
    "duration": 7,
    "start_time": "2022-02-22T20:31:45.782Z"
   },
   {
    "duration": 27234,
    "start_time": "2022-02-22T20:31:50.707Z"
   },
   {
    "duration": 336,
    "start_time": "2022-02-22T20:43:13.950Z"
   },
   {
    "duration": 183,
    "start_time": "2022-02-22T20:59:17.194Z"
   },
   {
    "duration": 201,
    "start_time": "2022-02-22T21:06:31.684Z"
   },
   {
    "duration": 511174,
    "start_time": "2022-02-22T21:10:39.465Z"
   },
   {
    "duration": 1211,
    "start_time": "2022-02-22T21:28:13.362Z"
   },
   {
    "duration": 992,
    "start_time": "2022-02-22T21:28:14.575Z"
   },
   {
    "duration": 112,
    "start_time": "2022-02-22T21:28:15.569Z"
   },
   {
    "duration": 3,
    "start_time": "2022-02-22T21:28:15.683Z"
   },
   {
    "duration": 173,
    "start_time": "2022-02-22T21:28:15.688Z"
   },
   {
    "duration": 19,
    "start_time": "2022-02-22T21:28:15.863Z"
   },
   {
    "duration": 311,
    "start_time": "2022-02-22T21:28:15.883Z"
   },
   {
    "duration": 261,
    "start_time": "2022-02-22T21:28:16.197Z"
   },
   {
    "duration": 65,
    "start_time": "2022-02-22T21:28:16.460Z"
   },
   {
    "duration": 16,
    "start_time": "2022-02-22T21:28:16.528Z"
   },
   {
    "duration": 26,
    "start_time": "2022-02-22T21:28:16.546Z"
   },
   {
    "duration": 71,
    "start_time": "2022-02-22T21:28:16.574Z"
   },
   {
    "duration": 16,
    "start_time": "2022-02-22T21:28:16.646Z"
   },
   {
    "duration": 323,
    "start_time": "2022-02-22T21:28:16.663Z"
   },
   {
    "duration": 319,
    "start_time": "2022-02-22T21:28:16.988Z"
   },
   {
    "duration": 255,
    "start_time": "2022-02-22T21:28:17.309Z"
   },
   {
    "duration": 55,
    "start_time": "2022-02-22T21:28:17.565Z"
   },
   {
    "duration": 26,
    "start_time": "2022-02-22T21:28:17.622Z"
   },
   {
    "duration": 72,
    "start_time": "2022-02-22T21:28:17.651Z"
   },
   {
    "duration": 29,
    "start_time": "2022-02-22T21:28:17.725Z"
   },
   {
    "duration": 75,
    "start_time": "2022-02-22T21:28:17.756Z"
   },
   {
    "duration": 30,
    "start_time": "2022-02-22T21:28:17.833Z"
   },
   {
    "duration": 25,
    "start_time": "2022-02-22T21:28:17.867Z"
   },
   {
    "duration": 48,
    "start_time": "2022-02-22T21:28:17.894Z"
   },
   {
    "duration": 77,
    "start_time": "2022-02-22T21:28:17.943Z"
   },
   {
    "duration": 4,
    "start_time": "2022-02-22T21:28:18.021Z"
   },
   {
    "duration": 1115,
    "start_time": "2022-02-22T21:28:18.027Z"
   },
   {
    "duration": 61,
    "start_time": "2022-02-22T21:28:19.144Z"
   },
   {
    "duration": 73,
    "start_time": "2022-02-22T21:28:19.207Z"
   },
   {
    "duration": 3175,
    "start_time": "2022-02-22T21:28:19.282Z"
   },
   {
    "duration": 45,
    "start_time": "2022-02-22T21:28:22.459Z"
   },
   {
    "duration": 69,
    "start_time": "2022-02-22T21:28:22.506Z"
   },
   {
    "duration": 17,
    "start_time": "2022-02-22T21:28:22.576Z"
   },
   {
    "duration": 1007,
    "start_time": "2022-02-22T21:28:22.594Z"
   },
   {
    "duration": 64,
    "start_time": "2022-02-22T21:28:23.602Z"
   },
   {
    "duration": 69,
    "start_time": "2022-02-22T21:28:23.667Z"
   },
   {
    "duration": 62,
    "start_time": "2022-02-22T21:28:23.738Z"
   },
   {
    "duration": 45,
    "start_time": "2022-02-22T21:28:23.801Z"
   },
   {
    "duration": 88,
    "start_time": "2022-02-22T21:28:23.847Z"
   },
   {
    "duration": 60,
    "start_time": "2022-02-22T21:28:23.936Z"
   },
   {
    "duration": 25,
    "start_time": "2022-02-22T21:28:23.998Z"
   },
   {
    "duration": 651,
    "start_time": "2022-02-22T21:28:24.025Z"
   },
   {
    "duration": 108,
    "start_time": "2022-02-22T21:28:24.678Z"
   },
   {
    "duration": 113,
    "start_time": "2022-02-22T21:28:24.788Z"
   },
   {
    "duration": 399,
    "start_time": "2022-02-22T21:28:24.902Z"
   },
   {
    "duration": 17,
    "start_time": "2022-02-22T21:28:25.303Z"
   },
   {
    "duration": 7,
    "start_time": "2022-02-22T21:28:25.322Z"
   },
   {
    "duration": 223806,
    "start_time": "2022-02-22T21:28:25.331Z"
   },
   {
    "duration": 453479,
    "start_time": "2022-02-22T21:32:09.139Z"
   },
   {
    "duration": 781918,
    "start_time": "2022-02-22T21:39:42.621Z"
   },
   {
    "duration": 281888,
    "start_time": "2022-02-22T21:52:44.541Z"
   },
   {
    "duration": 2,
    "start_time": "2022-02-22T21:57:26.431Z"
   },
   {
    "duration": 359284,
    "start_time": "2022-02-22T21:57:26.435Z"
   },
   {
    "duration": 244,
    "start_time": "2022-02-22T22:04:38.868Z"
   },
   {
    "duration": 234,
    "start_time": "2022-02-22T22:08:02.914Z"
   },
   {
    "duration": 224,
    "start_time": "2022-02-22T22:08:20.967Z"
   },
   {
    "duration": 231,
    "start_time": "2022-02-22T22:08:54.470Z"
   },
   {
    "duration": 227,
    "start_time": "2022-02-22T22:09:18.107Z"
   },
   {
    "duration": 216,
    "start_time": "2022-02-22T22:10:05.212Z"
   },
   {
    "duration": 216,
    "start_time": "2022-02-22T22:10:21.027Z"
   },
   {
    "duration": 202,
    "start_time": "2022-02-22T22:14:03.967Z"
   },
   {
    "duration": 296,
    "start_time": "2022-02-22T22:14:25.885Z"
   },
   {
    "duration": 214,
    "start_time": "2022-02-22T22:16:59.158Z"
   },
   {
    "duration": 224,
    "start_time": "2022-02-22T22:18:17.546Z"
   },
   {
    "duration": 228,
    "start_time": "2022-02-22T22:18:57.435Z"
   },
   {
    "duration": 230,
    "start_time": "2022-02-22T22:19:05.777Z"
   },
   {
    "duration": 1126,
    "start_time": "2022-02-23T13:58:28.017Z"
   },
   {
    "duration": 959,
    "start_time": "2022-02-23T13:58:29.145Z"
   },
   {
    "duration": 111,
    "start_time": "2022-02-23T13:58:30.107Z"
   },
   {
    "duration": 2,
    "start_time": "2022-02-23T13:58:30.220Z"
   },
   {
    "duration": 162,
    "start_time": "2022-02-23T13:58:30.224Z"
   },
   {
    "duration": 20,
    "start_time": "2022-02-23T13:58:30.388Z"
   },
   {
    "duration": 308,
    "start_time": "2022-02-23T13:58:30.409Z"
   },
   {
    "duration": -119,
    "start_time": "2022-02-23T13:58:30.839Z"
   },
   {
    "duration": -122,
    "start_time": "2022-02-23T13:58:30.843Z"
   },
   {
    "duration": -124,
    "start_time": "2022-02-23T13:58:30.846Z"
   },
   {
    "duration": -127,
    "start_time": "2022-02-23T13:58:30.850Z"
   },
   {
    "duration": -128,
    "start_time": "2022-02-23T13:58:30.853Z"
   },
   {
    "duration": -130,
    "start_time": "2022-02-23T13:58:30.856Z"
   },
   {
    "duration": -132,
    "start_time": "2022-02-23T13:58:30.859Z"
   },
   {
    "duration": -134,
    "start_time": "2022-02-23T13:58:30.862Z"
   },
   {
    "duration": -136,
    "start_time": "2022-02-23T13:58:30.865Z"
   },
   {
    "duration": -138,
    "start_time": "2022-02-23T13:58:30.868Z"
   },
   {
    "duration": -141,
    "start_time": "2022-02-23T13:58:30.872Z"
   },
   {
    "duration": -143,
    "start_time": "2022-02-23T13:58:30.875Z"
   },
   {
    "duration": -144,
    "start_time": "2022-02-23T13:58:30.878Z"
   },
   {
    "duration": -146,
    "start_time": "2022-02-23T13:58:30.881Z"
   },
   {
    "duration": -148,
    "start_time": "2022-02-23T13:58:30.884Z"
   },
   {
    "duration": -150,
    "start_time": "2022-02-23T13:58:30.887Z"
   },
   {
    "duration": -152,
    "start_time": "2022-02-23T13:58:30.890Z"
   },
   {
    "duration": -154,
    "start_time": "2022-02-23T13:58:30.893Z"
   },
   {
    "duration": -155,
    "start_time": "2022-02-23T13:58:30.896Z"
   },
   {
    "duration": -157,
    "start_time": "2022-02-23T13:58:30.899Z"
   },
   {
    "duration": -159,
    "start_time": "2022-02-23T13:58:30.902Z"
   },
   {
    "duration": -161,
    "start_time": "2022-02-23T13:58:30.905Z"
   },
   {
    "duration": -163,
    "start_time": "2022-02-23T13:58:30.908Z"
   },
   {
    "duration": -165,
    "start_time": "2022-02-23T13:58:30.911Z"
   },
   {
    "duration": -167,
    "start_time": "2022-02-23T13:58:30.913Z"
   },
   {
    "duration": -169,
    "start_time": "2022-02-23T13:58:30.916Z"
   },
   {
    "duration": -171,
    "start_time": "2022-02-23T13:58:30.919Z"
   },
   {
    "duration": -173,
    "start_time": "2022-02-23T13:58:30.922Z"
   },
   {
    "duration": -175,
    "start_time": "2022-02-23T13:58:30.925Z"
   },
   {
    "duration": -177,
    "start_time": "2022-02-23T13:58:30.928Z"
   },
   {
    "duration": -179,
    "start_time": "2022-02-23T13:58:30.931Z"
   },
   {
    "duration": -192,
    "start_time": "2022-02-23T13:58:30.945Z"
   },
   {
    "duration": -195,
    "start_time": "2022-02-23T13:58:30.949Z"
   },
   {
    "duration": -197,
    "start_time": "2022-02-23T13:58:30.952Z"
   },
   {
    "duration": -197,
    "start_time": "2022-02-23T13:58:30.955Z"
   },
   {
    "duration": -199,
    "start_time": "2022-02-23T13:58:30.958Z"
   },
   {
    "duration": -201,
    "start_time": "2022-02-23T13:58:30.961Z"
   },
   {
    "duration": -203,
    "start_time": "2022-02-23T13:58:30.964Z"
   },
   {
    "duration": -205,
    "start_time": "2022-02-23T13:58:30.967Z"
   },
   {
    "duration": -208,
    "start_time": "2022-02-23T13:58:30.971Z"
   },
   {
    "duration": -210,
    "start_time": "2022-02-23T13:58:30.974Z"
   },
   {
    "duration": -212,
    "start_time": "2022-02-23T13:58:30.977Z"
   },
   {
    "duration": -213,
    "start_time": "2022-02-23T13:58:30.980Z"
   },
   {
    "duration": -215,
    "start_time": "2022-02-23T13:58:30.983Z"
   },
   {
    "duration": -217,
    "start_time": "2022-02-23T13:58:30.986Z"
   },
   {
    "duration": -219,
    "start_time": "2022-02-23T13:58:30.989Z"
   },
   {
    "duration": -220,
    "start_time": "2022-02-23T13:58:30.991Z"
   },
   {
    "duration": -223,
    "start_time": "2022-02-23T13:58:30.995Z"
   },
   {
    "duration": 1270,
    "start_time": "2022-02-23T13:59:20.034Z"
   },
   {
    "duration": 943,
    "start_time": "2022-02-23T13:59:21.306Z"
   },
   {
    "duration": 114,
    "start_time": "2022-02-23T13:59:22.251Z"
   },
   {
    "duration": 3,
    "start_time": "2022-02-23T13:59:22.367Z"
   },
   {
    "duration": 181,
    "start_time": "2022-02-23T13:59:22.372Z"
   },
   {
    "duration": 24,
    "start_time": "2022-02-23T13:59:22.555Z"
   },
   {
    "duration": 326,
    "start_time": "2022-02-23T13:59:22.581Z"
   },
   {
    "duration": 274,
    "start_time": "2022-02-23T13:59:22.909Z"
   },
   {
    "duration": 57,
    "start_time": "2022-02-23T13:59:23.186Z"
   },
   {
    "duration": 28,
    "start_time": "2022-02-23T13:59:23.246Z"
   },
   {
    "duration": 27,
    "start_time": "2022-02-23T13:59:23.276Z"
   },
   {
    "duration": 73,
    "start_time": "2022-02-23T13:59:23.304Z"
   },
   {
    "duration": 17,
    "start_time": "2022-02-23T13:59:23.379Z"
   },
   {
    "duration": 292,
    "start_time": "2022-02-23T13:59:23.398Z"
   },
   {
    "duration": 319,
    "start_time": "2022-02-23T13:59:23.692Z"
   },
   {
    "duration": 248,
    "start_time": "2022-02-23T13:59:24.013Z"
   },
   {
    "duration": 45,
    "start_time": "2022-02-23T13:59:24.263Z"
   },
   {
    "duration": 16,
    "start_time": "2022-02-23T13:59:24.310Z"
   },
   {
    "duration": 53,
    "start_time": "2022-02-23T13:59:24.327Z"
   },
   {
    "duration": 28,
    "start_time": "2022-02-23T13:59:24.382Z"
   },
   {
    "duration": 71,
    "start_time": "2022-02-23T13:59:24.412Z"
   },
   {
    "duration": 29,
    "start_time": "2022-02-23T13:59:24.485Z"
   },
   {
    "duration": 29,
    "start_time": "2022-02-23T13:59:24.516Z"
   },
   {
    "duration": 26,
    "start_time": "2022-02-23T13:59:24.559Z"
   },
   {
    "duration": 79,
    "start_time": "2022-02-23T13:59:24.587Z"
   },
   {
    "duration": 4,
    "start_time": "2022-02-23T13:59:24.667Z"
   },
   {
    "duration": 1048,
    "start_time": "2022-02-23T13:59:24.675Z"
   },
   {
    "duration": 57,
    "start_time": "2022-02-23T13:59:25.725Z"
   },
   {
    "duration": 59,
    "start_time": "2022-02-23T13:59:25.784Z"
   },
   {
    "duration": 3065,
    "start_time": "2022-02-23T13:59:25.845Z"
   },
   {
    "duration": 53,
    "start_time": "2022-02-23T13:59:28.912Z"
   },
   {
    "duration": 64,
    "start_time": "2022-02-23T13:59:28.967Z"
   },
   {
    "duration": 27,
    "start_time": "2022-02-23T13:59:29.032Z"
   },
   {
    "duration": 1034,
    "start_time": "2022-02-23T13:59:29.061Z"
   },
   {
    "duration": 66,
    "start_time": "2022-02-23T13:59:30.097Z"
   },
   {
    "duration": 61,
    "start_time": "2022-02-23T13:59:30.164Z"
   },
   {
    "duration": 76,
    "start_time": "2022-02-23T13:59:30.227Z"
   },
   {
    "duration": 28,
    "start_time": "2022-02-23T13:59:30.304Z"
   },
   {
    "duration": 92,
    "start_time": "2022-02-23T13:59:30.334Z"
   },
   {
    "duration": 69,
    "start_time": "2022-02-23T13:59:30.428Z"
   },
   {
    "duration": 17,
    "start_time": "2022-02-23T13:59:30.499Z"
   },
   {
    "duration": 699,
    "start_time": "2022-02-23T13:59:30.517Z"
   },
   {
    "duration": 109,
    "start_time": "2022-02-23T13:59:31.218Z"
   },
   {
    "duration": 124,
    "start_time": "2022-02-23T13:59:31.329Z"
   },
   {
    "duration": 392,
    "start_time": "2022-02-23T13:59:31.458Z"
   },
   {
    "duration": 13,
    "start_time": "2022-02-23T13:59:31.851Z"
   },
   {
    "duration": 21,
    "start_time": "2022-02-23T13:59:31.865Z"
   },
   {
    "duration": 431677,
    "start_time": "2022-02-23T13:59:31.887Z"
   },
   {
    "duration": 428605,
    "start_time": "2022-02-23T14:06:43.565Z"
   },
   {
    "duration": 738502,
    "start_time": "2022-02-23T14:13:52.173Z"
   },
   {
    "duration": 283630,
    "start_time": "2022-02-23T14:26:10.677Z"
   },
   {
    "duration": 369126,
    "start_time": "2022-02-23T14:30:54.309Z"
   },
   {
    "duration": 217,
    "start_time": "2022-02-23T14:37:03.437Z"
   },
   {
    "duration": 201,
    "start_time": "2022-02-23T14:37:03.656Z"
   },
   {
    "duration": 220,
    "start_time": "2022-02-23T14:37:03.859Z"
   }
  ],
  "kernelspec": {
   "display_name": "Python 3",
   "language": "python",
   "name": "python3"
  },
  "language_info": {
   "codemirror_mode": {
    "name": "ipython",
    "version": 3
   },
   "file_extension": ".py",
   "mimetype": "text/x-python",
   "name": "python",
   "nbconvert_exporter": "python",
   "pygments_lexer": "ipython3",
   "version": "3.8.8"
  },
  "toc": {
   "base_numbering": 1,
   "nav_menu": {},
   "number_sections": true,
   "sideBar": true,
   "skip_h1_title": true,
   "title_cell": "Table of Contents",
   "title_sidebar": "Contents",
   "toc_cell": false,
   "toc_position": {},
   "toc_section_display": true,
   "toc_window_display": true
  }
 },
 "nbformat": 4,
 "nbformat_minor": 2
}
