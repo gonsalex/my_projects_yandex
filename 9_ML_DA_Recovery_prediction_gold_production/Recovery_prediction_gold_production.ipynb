{
 "cells": [
  {
   "cell_type": "markdown",
   "metadata": {
    "toc": true
   },
   "source": [
    "<h1>Содержание<span class=\"tocSkip\"></span></h1>\n",
    "<div class=\"toc\"><ul class=\"toc-item\"><li><span><a href=\"#Подготовка-данных\" data-toc-modified-id=\"Подготовка-данных-1\"><span class=\"toc-item-num\">1&nbsp;&nbsp;</span>Подготовка данных</a></span><ul class=\"toc-item\"><li><span><a href=\"#Загрузка\" data-toc-modified-id=\"Загрузка-1.1\"><span class=\"toc-item-num\">1.1&nbsp;&nbsp;</span>Загрузка</a></span></li><li><span><a href=\"#Проверка-эффективности-обогащения\" data-toc-modified-id=\"Проверка-эффективности-обогащения-1.2\"><span class=\"toc-item-num\">1.2&nbsp;&nbsp;</span>Проверка эффективности обогащения</a></span></li><li><span><a href=\"#Анализ-признаков\" data-toc-modified-id=\"Анализ-признаков-1.3\"><span class=\"toc-item-num\">1.3&nbsp;&nbsp;</span>Анализ признаков</a></span></li></ul></li><li><span><a href=\"#Анализ-данных\" data-toc-modified-id=\"Анализ-данных-2\"><span class=\"toc-item-num\">2&nbsp;&nbsp;</span>Анализ данных</a></span><ul class=\"toc-item\"><li><span><a href=\"#Анализ-концентрации-металлов\" data-toc-modified-id=\"Анализ-концентрации-металлов-2.1\"><span class=\"toc-item-num\">2.1&nbsp;&nbsp;</span>Анализ концентрации металлов</a></span></li><li><span><a href=\"#Анализ-распределения-размеров-гранул\" data-toc-modified-id=\"Анализ-распределения-размеров-гранул-2.2\"><span class=\"toc-item-num\">2.2&nbsp;&nbsp;</span>Анализ распределения размеров гранул</a></span></li><li><span><a href=\"#Исследование-суммарной-концентрации-веществ\" data-toc-modified-id=\"Исследование-суммарной-концентрации-веществ-2.3\"><span class=\"toc-item-num\">2.3&nbsp;&nbsp;</span>Исследование суммарной концентрации веществ</a></span></li></ul></li><li><span><a href=\"#Подготовка-данных-для-обучения-моделей\" data-toc-modified-id=\"Подготовка-данных-для-обучения-моделей-3\"><span class=\"toc-item-num\">3&nbsp;&nbsp;</span>Подготовка данных для обучения моделей</a></span><ul class=\"toc-item\"><li><span><a href=\"#Добавление-целевых-признаков\" data-toc-modified-id=\"Добавление-целевых-признаков-3.1\"><span class=\"toc-item-num\">3.1&nbsp;&nbsp;</span>Добавление целевых признаков</a></span></li><li><span><a href=\"#Удаление-признаков\" data-toc-modified-id=\"Удаление-признаков-3.2\"><span class=\"toc-item-num\">3.2&nbsp;&nbsp;</span>Удаление признаков</a></span></li><li><span><a href=\"#Стандартизация-признаков\" data-toc-modified-id=\"Стандартизация-признаков-3.3\"><span class=\"toc-item-num\">3.3&nbsp;&nbsp;</span>Стандартизация признаков</a></span></li></ul></li><li><span><a href=\"#Модель\" data-toc-modified-id=\"Модель-4\"><span class=\"toc-item-num\">4&nbsp;&nbsp;</span>Модель</a></span><ul class=\"toc-item\"><li><span><a href=\"#Рассчет-sMAPE\" data-toc-modified-id=\"Рассчет-sMAPE-4.1\"><span class=\"toc-item-num\">4.1&nbsp;&nbsp;</span>Рассчет sMAPE</a></span></li><li><span><a href=\"#Обучение-и-настройка-моделей\" data-toc-modified-id=\"Обучение-и-настройка-моделей-4.2\"><span class=\"toc-item-num\">4.2&nbsp;&nbsp;</span>Обучение и настройка моделей</a></span></li><li><span><a href=\"#Тестирование-модели\" data-toc-modified-id=\"Тестирование-модели-4.3\"><span class=\"toc-item-num\">4.3&nbsp;&nbsp;</span>Тестирование модели</a></span></li></ul></li><li><span><a href=\"#Заключение\" data-toc-modified-id=\"Заключение-5\"><span class=\"toc-item-num\">5&nbsp;&nbsp;</span>Заключение</a></span></li><li><span><a href=\"#Чек-лист-готовности-проекта\" data-toc-modified-id=\"Чек-лист-готовности-проекта-6\"><span class=\"toc-item-num\">6&nbsp;&nbsp;</span>Чек-лист готовности проекта</a></span></li></ul></div>"
   ]
  },
  {
   "cell_type": "markdown",
   "metadata": {},
   "source": [
    "# Восстановление золота из руды"
   ]
  },
  {
   "cell_type": "markdown",
   "metadata": {},
   "source": [
    "Подготовить прототип модели машинного обучения для «Цифры». Компания разрабатывает решения для эффективной работы промышленных предприятий.\n",
    "\n",
    "Модель должна предсказать коэффициент восстановления золота из золотосодержащей руды. Используйте данные с параметрами добычи и очистки. \n",
    "\n",
    "Модель поможет оптимизировать производство, чтобы не запускать предприятие с убыточными характеристиками.\n",
    "\n",
    "Нужно:\n",
    "\n",
    "1. Подготовить данные;\n",
    "2. Провести исследовательский анализ данных;\n",
    "3. Построить и обучить модель.\n"
   ]
  },
  {
   "cell_type": "markdown",
   "metadata": {},
   "source": [
    "## Подготовка данных"
   ]
  },
  {
   "cell_type": "markdown",
   "metadata": {},
   "source": [
    "### Загрузка"
   ]
  },
  {
   "cell_type": "code",
   "execution_count": 1,
   "metadata": {},
   "outputs": [],
   "source": [
    "import pandas as pd\n",
    "import numpy as np\n",
    "import scipy.stats as st\n",
    "from sklearn.linear_model import LinearRegression\n",
    "#from sklearn.metrics import mean_squared_error\n",
    "from sklearn.metrics import mean_absolute_error\n",
    "#from sklearn.model_selection import train_test_split\n",
    "#from sklearn.preprocessing import MinMaxScaler\n",
    "from sklearn.preprocessing import StandardScaler\n",
    "from sklearn.model_selection import cross_val_score\n",
    "from sklearn.metrics.scorer import make_scorer\n",
    "#from sklearn.tree import DecisionTreeClassifier\n",
    "#from sklearn.linear_model import LogisticRegression\n",
    "#from sklearn.ensemble import RandomForestClassifier\n",
    "from sklearn.ensemble import RandomForestRegressor\n",
    "from sklearn.linear_model import Lasso\n",
    "from sklearn.dummy import DummyRegressor\n",
    "import matplotlib.pyplot as plt\n",
    "import seaborn as sns\n",
    "import warnings\n",
    "warnings.filterwarnings(\"ignore\")"
   ]
  },
  {
   "cell_type": "markdown",
   "metadata": {},
   "source": [
    "Загрузим и посмотрим на данные"
   ]
  },
  {
   "cell_type": "code",
   "execution_count": 2,
   "metadata": {},
   "outputs": [
    {
     "data": {
      "text/html": [
       "<div>\n",
       "<style scoped>\n",
       "    .dataframe tbody tr th:only-of-type {\n",
       "        vertical-align: middle;\n",
       "    }\n",
       "\n",
       "    .dataframe tbody tr th {\n",
       "        vertical-align: top;\n",
       "    }\n",
       "\n",
       "    .dataframe thead th {\n",
       "        text-align: right;\n",
       "    }\n",
       "</style>\n",
       "<table border=\"1\" class=\"dataframe\">\n",
       "  <thead>\n",
       "    <tr style=\"text-align: right;\">\n",
       "      <th></th>\n",
       "      <th>date</th>\n",
       "      <th>final.output.concentrate_ag</th>\n",
       "      <th>final.output.concentrate_pb</th>\n",
       "      <th>final.output.concentrate_sol</th>\n",
       "      <th>final.output.concentrate_au</th>\n",
       "      <th>final.output.recovery</th>\n",
       "      <th>final.output.tail_ag</th>\n",
       "      <th>final.output.tail_pb</th>\n",
       "      <th>final.output.tail_sol</th>\n",
       "      <th>final.output.tail_au</th>\n",
       "      <th>...</th>\n",
       "      <th>secondary_cleaner.state.floatbank4_a_air</th>\n",
       "      <th>secondary_cleaner.state.floatbank4_a_level</th>\n",
       "      <th>secondary_cleaner.state.floatbank4_b_air</th>\n",
       "      <th>secondary_cleaner.state.floatbank4_b_level</th>\n",
       "      <th>secondary_cleaner.state.floatbank5_a_air</th>\n",
       "      <th>secondary_cleaner.state.floatbank5_a_level</th>\n",
       "      <th>secondary_cleaner.state.floatbank5_b_air</th>\n",
       "      <th>secondary_cleaner.state.floatbank5_b_level</th>\n",
       "      <th>secondary_cleaner.state.floatbank6_a_air</th>\n",
       "      <th>secondary_cleaner.state.floatbank6_a_level</th>\n",
       "    </tr>\n",
       "  </thead>\n",
       "  <tbody>\n",
       "    <tr>\n",
       "      <td>0</td>\n",
       "      <td>2016-01-15 00:00:00</td>\n",
       "      <td>6.055403</td>\n",
       "      <td>9.889648</td>\n",
       "      <td>5.507324</td>\n",
       "      <td>42.192020</td>\n",
       "      <td>70.541216</td>\n",
       "      <td>10.411962</td>\n",
       "      <td>0.895447</td>\n",
       "      <td>16.904297</td>\n",
       "      <td>2.143149</td>\n",
       "      <td>...</td>\n",
       "      <td>14.016835</td>\n",
       "      <td>-502.488007</td>\n",
       "      <td>12.099931</td>\n",
       "      <td>-504.715942</td>\n",
       "      <td>9.925633</td>\n",
       "      <td>-498.310211</td>\n",
       "      <td>8.079666</td>\n",
       "      <td>-500.470978</td>\n",
       "      <td>14.151341</td>\n",
       "      <td>-605.841980</td>\n",
       "    </tr>\n",
       "    <tr>\n",
       "      <td>1</td>\n",
       "      <td>2016-01-15 01:00:00</td>\n",
       "      <td>6.029369</td>\n",
       "      <td>9.968944</td>\n",
       "      <td>5.257781</td>\n",
       "      <td>42.701629</td>\n",
       "      <td>69.266198</td>\n",
       "      <td>10.462676</td>\n",
       "      <td>0.927452</td>\n",
       "      <td>16.634514</td>\n",
       "      <td>2.224930</td>\n",
       "      <td>...</td>\n",
       "      <td>13.992281</td>\n",
       "      <td>-505.503262</td>\n",
       "      <td>11.950531</td>\n",
       "      <td>-501.331529</td>\n",
       "      <td>10.039245</td>\n",
       "      <td>-500.169983</td>\n",
       "      <td>7.984757</td>\n",
       "      <td>-500.582168</td>\n",
       "      <td>13.998353</td>\n",
       "      <td>-599.787184</td>\n",
       "    </tr>\n",
       "    <tr>\n",
       "      <td>2</td>\n",
       "      <td>2016-01-15 02:00:00</td>\n",
       "      <td>6.055926</td>\n",
       "      <td>10.213995</td>\n",
       "      <td>5.383759</td>\n",
       "      <td>42.657501</td>\n",
       "      <td>68.116445</td>\n",
       "      <td>10.507046</td>\n",
       "      <td>0.953716</td>\n",
       "      <td>16.208849</td>\n",
       "      <td>2.257889</td>\n",
       "      <td>...</td>\n",
       "      <td>14.015015</td>\n",
       "      <td>-502.520901</td>\n",
       "      <td>11.912783</td>\n",
       "      <td>-501.133383</td>\n",
       "      <td>10.070913</td>\n",
       "      <td>-500.129135</td>\n",
       "      <td>8.013877</td>\n",
       "      <td>-500.517572</td>\n",
       "      <td>14.028663</td>\n",
       "      <td>-601.427363</td>\n",
       "    </tr>\n",
       "  </tbody>\n",
       "</table>\n",
       "<p>3 rows × 87 columns</p>\n",
       "</div>"
      ],
      "text/plain": [
       "                  date  final.output.concentrate_ag  \\\n",
       "0  2016-01-15 00:00:00                     6.055403   \n",
       "1  2016-01-15 01:00:00                     6.029369   \n",
       "2  2016-01-15 02:00:00                     6.055926   \n",
       "\n",
       "   final.output.concentrate_pb  final.output.concentrate_sol  \\\n",
       "0                     9.889648                      5.507324   \n",
       "1                     9.968944                      5.257781   \n",
       "2                    10.213995                      5.383759   \n",
       "\n",
       "   final.output.concentrate_au  final.output.recovery  final.output.tail_ag  \\\n",
       "0                    42.192020              70.541216             10.411962   \n",
       "1                    42.701629              69.266198             10.462676   \n",
       "2                    42.657501              68.116445             10.507046   \n",
       "\n",
       "   final.output.tail_pb  final.output.tail_sol  final.output.tail_au  ...  \\\n",
       "0              0.895447              16.904297              2.143149  ...   \n",
       "1              0.927452              16.634514              2.224930  ...   \n",
       "2              0.953716              16.208849              2.257889  ...   \n",
       "\n",
       "   secondary_cleaner.state.floatbank4_a_air  \\\n",
       "0                                 14.016835   \n",
       "1                                 13.992281   \n",
       "2                                 14.015015   \n",
       "\n",
       "   secondary_cleaner.state.floatbank4_a_level  \\\n",
       "0                                 -502.488007   \n",
       "1                                 -505.503262   \n",
       "2                                 -502.520901   \n",
       "\n",
       "   secondary_cleaner.state.floatbank4_b_air  \\\n",
       "0                                 12.099931   \n",
       "1                                 11.950531   \n",
       "2                                 11.912783   \n",
       "\n",
       "   secondary_cleaner.state.floatbank4_b_level  \\\n",
       "0                                 -504.715942   \n",
       "1                                 -501.331529   \n",
       "2                                 -501.133383   \n",
       "\n",
       "   secondary_cleaner.state.floatbank5_a_air  \\\n",
       "0                                  9.925633   \n",
       "1                                 10.039245   \n",
       "2                                 10.070913   \n",
       "\n",
       "   secondary_cleaner.state.floatbank5_a_level  \\\n",
       "0                                 -498.310211   \n",
       "1                                 -500.169983   \n",
       "2                                 -500.129135   \n",
       "\n",
       "   secondary_cleaner.state.floatbank5_b_air  \\\n",
       "0                                  8.079666   \n",
       "1                                  7.984757   \n",
       "2                                  8.013877   \n",
       "\n",
       "   secondary_cleaner.state.floatbank5_b_level  \\\n",
       "0                                 -500.470978   \n",
       "1                                 -500.582168   \n",
       "2                                 -500.517572   \n",
       "\n",
       "   secondary_cleaner.state.floatbank6_a_air  \\\n",
       "0                                 14.151341   \n",
       "1                                 13.998353   \n",
       "2                                 14.028663   \n",
       "\n",
       "   secondary_cleaner.state.floatbank6_a_level  \n",
       "0                                 -605.841980  \n",
       "1                                 -599.787184  \n",
       "2                                 -601.427363  \n",
       "\n",
       "[3 rows x 87 columns]"
      ]
     },
     "metadata": {},
     "output_type": "display_data"
    },
    {
     "data": {
      "text/html": [
       "<div>\n",
       "<style scoped>\n",
       "    .dataframe tbody tr th:only-of-type {\n",
       "        vertical-align: middle;\n",
       "    }\n",
       "\n",
       "    .dataframe tbody tr th {\n",
       "        vertical-align: top;\n",
       "    }\n",
       "\n",
       "    .dataframe thead th {\n",
       "        text-align: right;\n",
       "    }\n",
       "</style>\n",
       "<table border=\"1\" class=\"dataframe\">\n",
       "  <thead>\n",
       "    <tr style=\"text-align: right;\">\n",
       "      <th></th>\n",
       "      <th>date</th>\n",
       "      <th>primary_cleaner.input.sulfate</th>\n",
       "      <th>primary_cleaner.input.depressant</th>\n",
       "      <th>primary_cleaner.input.feed_size</th>\n",
       "      <th>primary_cleaner.input.xanthate</th>\n",
       "      <th>primary_cleaner.state.floatbank8_a_air</th>\n",
       "      <th>primary_cleaner.state.floatbank8_a_level</th>\n",
       "      <th>primary_cleaner.state.floatbank8_b_air</th>\n",
       "      <th>primary_cleaner.state.floatbank8_b_level</th>\n",
       "      <th>primary_cleaner.state.floatbank8_c_air</th>\n",
       "      <th>...</th>\n",
       "      <th>secondary_cleaner.state.floatbank4_a_air</th>\n",
       "      <th>secondary_cleaner.state.floatbank4_a_level</th>\n",
       "      <th>secondary_cleaner.state.floatbank4_b_air</th>\n",
       "      <th>secondary_cleaner.state.floatbank4_b_level</th>\n",
       "      <th>secondary_cleaner.state.floatbank5_a_air</th>\n",
       "      <th>secondary_cleaner.state.floatbank5_a_level</th>\n",
       "      <th>secondary_cleaner.state.floatbank5_b_air</th>\n",
       "      <th>secondary_cleaner.state.floatbank5_b_level</th>\n",
       "      <th>secondary_cleaner.state.floatbank6_a_air</th>\n",
       "      <th>secondary_cleaner.state.floatbank6_a_level</th>\n",
       "    </tr>\n",
       "  </thead>\n",
       "  <tbody>\n",
       "    <tr>\n",
       "      <td>0</td>\n",
       "      <td>2016-09-01 00:59:59</td>\n",
       "      <td>210.800909</td>\n",
       "      <td>14.993118</td>\n",
       "      <td>8.080000</td>\n",
       "      <td>1.005021</td>\n",
       "      <td>1398.981301</td>\n",
       "      <td>-500.225577</td>\n",
       "      <td>1399.144926</td>\n",
       "      <td>-499.919735</td>\n",
       "      <td>1400.102998</td>\n",
       "      <td>...</td>\n",
       "      <td>12.023554</td>\n",
       "      <td>-497.795834</td>\n",
       "      <td>8.016656</td>\n",
       "      <td>-501.289139</td>\n",
       "      <td>7.946562</td>\n",
       "      <td>-432.317850</td>\n",
       "      <td>4.872511</td>\n",
       "      <td>-500.037437</td>\n",
       "      <td>26.705889</td>\n",
       "      <td>-499.709414</td>\n",
       "    </tr>\n",
       "    <tr>\n",
       "      <td>1</td>\n",
       "      <td>2016-09-01 01:59:59</td>\n",
       "      <td>215.392455</td>\n",
       "      <td>14.987471</td>\n",
       "      <td>8.080000</td>\n",
       "      <td>0.990469</td>\n",
       "      <td>1398.777912</td>\n",
       "      <td>-500.057435</td>\n",
       "      <td>1398.055362</td>\n",
       "      <td>-499.778182</td>\n",
       "      <td>1396.151033</td>\n",
       "      <td>...</td>\n",
       "      <td>12.058140</td>\n",
       "      <td>-498.695773</td>\n",
       "      <td>8.130979</td>\n",
       "      <td>-499.634209</td>\n",
       "      <td>7.958270</td>\n",
       "      <td>-525.839648</td>\n",
       "      <td>4.878850</td>\n",
       "      <td>-500.162375</td>\n",
       "      <td>25.019940</td>\n",
       "      <td>-499.819438</td>\n",
       "    </tr>\n",
       "    <tr>\n",
       "      <td>2</td>\n",
       "      <td>2016-09-01 02:59:59</td>\n",
       "      <td>215.259946</td>\n",
       "      <td>12.884934</td>\n",
       "      <td>7.786667</td>\n",
       "      <td>0.996043</td>\n",
       "      <td>1398.493666</td>\n",
       "      <td>-500.868360</td>\n",
       "      <td>1398.860436</td>\n",
       "      <td>-499.764529</td>\n",
       "      <td>1398.075709</td>\n",
       "      <td>...</td>\n",
       "      <td>11.962366</td>\n",
       "      <td>-498.767484</td>\n",
       "      <td>8.096893</td>\n",
       "      <td>-500.827423</td>\n",
       "      <td>8.071056</td>\n",
       "      <td>-500.801673</td>\n",
       "      <td>4.905125</td>\n",
       "      <td>-499.828510</td>\n",
       "      <td>24.994862</td>\n",
       "      <td>-500.622559</td>\n",
       "    </tr>\n",
       "  </tbody>\n",
       "</table>\n",
       "<p>3 rows × 53 columns</p>\n",
       "</div>"
      ],
      "text/plain": [
       "                  date  primary_cleaner.input.sulfate  \\\n",
       "0  2016-09-01 00:59:59                     210.800909   \n",
       "1  2016-09-01 01:59:59                     215.392455   \n",
       "2  2016-09-01 02:59:59                     215.259946   \n",
       "\n",
       "   primary_cleaner.input.depressant  primary_cleaner.input.feed_size  \\\n",
       "0                         14.993118                         8.080000   \n",
       "1                         14.987471                         8.080000   \n",
       "2                         12.884934                         7.786667   \n",
       "\n",
       "   primary_cleaner.input.xanthate  primary_cleaner.state.floatbank8_a_air  \\\n",
       "0                        1.005021                             1398.981301   \n",
       "1                        0.990469                             1398.777912   \n",
       "2                        0.996043                             1398.493666   \n",
       "\n",
       "   primary_cleaner.state.floatbank8_a_level  \\\n",
       "0                               -500.225577   \n",
       "1                               -500.057435   \n",
       "2                               -500.868360   \n",
       "\n",
       "   primary_cleaner.state.floatbank8_b_air  \\\n",
       "0                             1399.144926   \n",
       "1                             1398.055362   \n",
       "2                             1398.860436   \n",
       "\n",
       "   primary_cleaner.state.floatbank8_b_level  \\\n",
       "0                               -499.919735   \n",
       "1                               -499.778182   \n",
       "2                               -499.764529   \n",
       "\n",
       "   primary_cleaner.state.floatbank8_c_air  ...  \\\n",
       "0                             1400.102998  ...   \n",
       "1                             1396.151033  ...   \n",
       "2                             1398.075709  ...   \n",
       "\n",
       "   secondary_cleaner.state.floatbank4_a_air  \\\n",
       "0                                 12.023554   \n",
       "1                                 12.058140   \n",
       "2                                 11.962366   \n",
       "\n",
       "   secondary_cleaner.state.floatbank4_a_level  \\\n",
       "0                                 -497.795834   \n",
       "1                                 -498.695773   \n",
       "2                                 -498.767484   \n",
       "\n",
       "   secondary_cleaner.state.floatbank4_b_air  \\\n",
       "0                                  8.016656   \n",
       "1                                  8.130979   \n",
       "2                                  8.096893   \n",
       "\n",
       "   secondary_cleaner.state.floatbank4_b_level  \\\n",
       "0                                 -501.289139   \n",
       "1                                 -499.634209   \n",
       "2                                 -500.827423   \n",
       "\n",
       "   secondary_cleaner.state.floatbank5_a_air  \\\n",
       "0                                  7.946562   \n",
       "1                                  7.958270   \n",
       "2                                  8.071056   \n",
       "\n",
       "   secondary_cleaner.state.floatbank5_a_level  \\\n",
       "0                                 -432.317850   \n",
       "1                                 -525.839648   \n",
       "2                                 -500.801673   \n",
       "\n",
       "   secondary_cleaner.state.floatbank5_b_air  \\\n",
       "0                                  4.872511   \n",
       "1                                  4.878850   \n",
       "2                                  4.905125   \n",
       "\n",
       "   secondary_cleaner.state.floatbank5_b_level  \\\n",
       "0                                 -500.037437   \n",
       "1                                 -500.162375   \n",
       "2                                 -499.828510   \n",
       "\n",
       "   secondary_cleaner.state.floatbank6_a_air  \\\n",
       "0                                 26.705889   \n",
       "1                                 25.019940   \n",
       "2                                 24.994862   \n",
       "\n",
       "   secondary_cleaner.state.floatbank6_a_level  \n",
       "0                                 -499.709414  \n",
       "1                                 -499.819438  \n",
       "2                                 -500.622559  \n",
       "\n",
       "[3 rows x 53 columns]"
      ]
     },
     "metadata": {},
     "output_type": "display_data"
    },
    {
     "data": {
      "text/html": [
       "<div>\n",
       "<style scoped>\n",
       "    .dataframe tbody tr th:only-of-type {\n",
       "        vertical-align: middle;\n",
       "    }\n",
       "\n",
       "    .dataframe tbody tr th {\n",
       "        vertical-align: top;\n",
       "    }\n",
       "\n",
       "    .dataframe thead th {\n",
       "        text-align: right;\n",
       "    }\n",
       "</style>\n",
       "<table border=\"1\" class=\"dataframe\">\n",
       "  <thead>\n",
       "    <tr style=\"text-align: right;\">\n",
       "      <th></th>\n",
       "      <th>date</th>\n",
       "      <th>final.output.concentrate_ag</th>\n",
       "      <th>final.output.concentrate_pb</th>\n",
       "      <th>final.output.concentrate_sol</th>\n",
       "      <th>final.output.concentrate_au</th>\n",
       "      <th>final.output.recovery</th>\n",
       "      <th>final.output.tail_ag</th>\n",
       "      <th>final.output.tail_pb</th>\n",
       "      <th>final.output.tail_sol</th>\n",
       "      <th>final.output.tail_au</th>\n",
       "      <th>...</th>\n",
       "      <th>secondary_cleaner.state.floatbank4_a_air</th>\n",
       "      <th>secondary_cleaner.state.floatbank4_a_level</th>\n",
       "      <th>secondary_cleaner.state.floatbank4_b_air</th>\n",
       "      <th>secondary_cleaner.state.floatbank4_b_level</th>\n",
       "      <th>secondary_cleaner.state.floatbank5_a_air</th>\n",
       "      <th>secondary_cleaner.state.floatbank5_a_level</th>\n",
       "      <th>secondary_cleaner.state.floatbank5_b_air</th>\n",
       "      <th>secondary_cleaner.state.floatbank5_b_level</th>\n",
       "      <th>secondary_cleaner.state.floatbank6_a_air</th>\n",
       "      <th>secondary_cleaner.state.floatbank6_a_level</th>\n",
       "    </tr>\n",
       "  </thead>\n",
       "  <tbody>\n",
       "    <tr>\n",
       "      <td>0</td>\n",
       "      <td>2016-01-15 00:00:00</td>\n",
       "      <td>6.055403</td>\n",
       "      <td>9.889648</td>\n",
       "      <td>5.507324</td>\n",
       "      <td>42.192020</td>\n",
       "      <td>70.541216</td>\n",
       "      <td>10.411962</td>\n",
       "      <td>0.895447</td>\n",
       "      <td>16.904297</td>\n",
       "      <td>2.143149</td>\n",
       "      <td>...</td>\n",
       "      <td>14.016835</td>\n",
       "      <td>-502.488007</td>\n",
       "      <td>12.099931</td>\n",
       "      <td>-504.715942</td>\n",
       "      <td>9.925633</td>\n",
       "      <td>-498.310211</td>\n",
       "      <td>8.079666</td>\n",
       "      <td>-500.470978</td>\n",
       "      <td>14.151341</td>\n",
       "      <td>-605.841980</td>\n",
       "    </tr>\n",
       "    <tr>\n",
       "      <td>1</td>\n",
       "      <td>2016-01-15 01:00:00</td>\n",
       "      <td>6.029369</td>\n",
       "      <td>9.968944</td>\n",
       "      <td>5.257781</td>\n",
       "      <td>42.701629</td>\n",
       "      <td>69.266198</td>\n",
       "      <td>10.462676</td>\n",
       "      <td>0.927452</td>\n",
       "      <td>16.634514</td>\n",
       "      <td>2.224930</td>\n",
       "      <td>...</td>\n",
       "      <td>13.992281</td>\n",
       "      <td>-505.503262</td>\n",
       "      <td>11.950531</td>\n",
       "      <td>-501.331529</td>\n",
       "      <td>10.039245</td>\n",
       "      <td>-500.169983</td>\n",
       "      <td>7.984757</td>\n",
       "      <td>-500.582168</td>\n",
       "      <td>13.998353</td>\n",
       "      <td>-599.787184</td>\n",
       "    </tr>\n",
       "    <tr>\n",
       "      <td>2</td>\n",
       "      <td>2016-01-15 02:00:00</td>\n",
       "      <td>6.055926</td>\n",
       "      <td>10.213995</td>\n",
       "      <td>5.383759</td>\n",
       "      <td>42.657501</td>\n",
       "      <td>68.116445</td>\n",
       "      <td>10.507046</td>\n",
       "      <td>0.953716</td>\n",
       "      <td>16.208849</td>\n",
       "      <td>2.257889</td>\n",
       "      <td>...</td>\n",
       "      <td>14.015015</td>\n",
       "      <td>-502.520901</td>\n",
       "      <td>11.912783</td>\n",
       "      <td>-501.133383</td>\n",
       "      <td>10.070913</td>\n",
       "      <td>-500.129135</td>\n",
       "      <td>8.013877</td>\n",
       "      <td>-500.517572</td>\n",
       "      <td>14.028663</td>\n",
       "      <td>-601.427363</td>\n",
       "    </tr>\n",
       "  </tbody>\n",
       "</table>\n",
       "<p>3 rows × 87 columns</p>\n",
       "</div>"
      ],
      "text/plain": [
       "                  date  final.output.concentrate_ag  \\\n",
       "0  2016-01-15 00:00:00                     6.055403   \n",
       "1  2016-01-15 01:00:00                     6.029369   \n",
       "2  2016-01-15 02:00:00                     6.055926   \n",
       "\n",
       "   final.output.concentrate_pb  final.output.concentrate_sol  \\\n",
       "0                     9.889648                      5.507324   \n",
       "1                     9.968944                      5.257781   \n",
       "2                    10.213995                      5.383759   \n",
       "\n",
       "   final.output.concentrate_au  final.output.recovery  final.output.tail_ag  \\\n",
       "0                    42.192020              70.541216             10.411962   \n",
       "1                    42.701629              69.266198             10.462676   \n",
       "2                    42.657501              68.116445             10.507046   \n",
       "\n",
       "   final.output.tail_pb  final.output.tail_sol  final.output.tail_au  ...  \\\n",
       "0              0.895447              16.904297              2.143149  ...   \n",
       "1              0.927452              16.634514              2.224930  ...   \n",
       "2              0.953716              16.208849              2.257889  ...   \n",
       "\n",
       "   secondary_cleaner.state.floatbank4_a_air  \\\n",
       "0                                 14.016835   \n",
       "1                                 13.992281   \n",
       "2                                 14.015015   \n",
       "\n",
       "   secondary_cleaner.state.floatbank4_a_level  \\\n",
       "0                                 -502.488007   \n",
       "1                                 -505.503262   \n",
       "2                                 -502.520901   \n",
       "\n",
       "   secondary_cleaner.state.floatbank4_b_air  \\\n",
       "0                                 12.099931   \n",
       "1                                 11.950531   \n",
       "2                                 11.912783   \n",
       "\n",
       "   secondary_cleaner.state.floatbank4_b_level  \\\n",
       "0                                 -504.715942   \n",
       "1                                 -501.331529   \n",
       "2                                 -501.133383   \n",
       "\n",
       "   secondary_cleaner.state.floatbank5_a_air  \\\n",
       "0                                  9.925633   \n",
       "1                                 10.039245   \n",
       "2                                 10.070913   \n",
       "\n",
       "   secondary_cleaner.state.floatbank5_a_level  \\\n",
       "0                                 -498.310211   \n",
       "1                                 -500.169983   \n",
       "2                                 -500.129135   \n",
       "\n",
       "   secondary_cleaner.state.floatbank5_b_air  \\\n",
       "0                                  8.079666   \n",
       "1                                  7.984757   \n",
       "2                                  8.013877   \n",
       "\n",
       "   secondary_cleaner.state.floatbank5_b_level  \\\n",
       "0                                 -500.470978   \n",
       "1                                 -500.582168   \n",
       "2                                 -500.517572   \n",
       "\n",
       "   secondary_cleaner.state.floatbank6_a_air  \\\n",
       "0                                 14.151341   \n",
       "1                                 13.998353   \n",
       "2                                 14.028663   \n",
       "\n",
       "   secondary_cleaner.state.floatbank6_a_level  \n",
       "0                                 -605.841980  \n",
       "1                                 -599.787184  \n",
       "2                                 -601.427363  \n",
       "\n",
       "[3 rows x 87 columns]"
      ]
     },
     "metadata": {},
     "output_type": "display_data"
    }
   ],
   "source": [
    "dt_train = pd.read_csv('/datasets/gold_recovery_train_new.csv')\n",
    "dt_test = pd.read_csv('/datasets/gold_recovery_test_new.csv')\n",
    "dt_full = pd.read_csv('/datasets/gold_recovery_full_new.csv')\n",
    "\n",
    "display(dt_train.head(3))\n",
    "display(dt_test.head(3))\n",
    "display(dt_full.head(3))"
   ]
  },
  {
   "cell_type": "markdown",
   "metadata": {},
   "source": [
    "В тестовой выборке столбцов меньше. Данные в числовом виде кроме столбца 'date'"
   ]
  },
  {
   "cell_type": "markdown",
   "metadata": {},
   "source": [
    "### Проверка эффективности обогащения"
   ]
  },
  {
   "cell_type": "markdown",
   "metadata": {},
   "source": [
    "Проверим, что эффективность обогащения рассчитана правильно. Вычислим её на обучающей выборке для признака 'rougher.output.recovery'. Найдем MAE между расчётами и значением признака."
   ]
  },
  {
   "cell_type": "code",
   "execution_count": 3,
   "metadata": {},
   "outputs": [
    {
     "name": "stdout",
     "output_type": "stream",
     "text": [
      "MAE: 9.682896147825551e-15\n"
     ]
    }
   ],
   "source": [
    "C = dt_train['rougher.output.concentrate_au']\n",
    "F = dt_train['rougher.input.feed_au']\n",
    "T = dt_train['rougher.output.tail_au']\n",
    "efficiency = (C*(F-T)) / (F*(C-T)) * 100\n",
    "print(\"MAE:\", mean_absolute_error(dt_train['rougher.output.recovery'], efficiency))"
   ]
  },
  {
   "cell_type": "markdown",
   "metadata": {},
   "source": [
    "Ошибка МАЕ имеет значение близкое к 0, значит эффективность обогащения рассчитана правильно."
   ]
  },
  {
   "cell_type": "markdown",
   "metadata": {},
   "source": [
    "### Анализ признаков"
   ]
  },
  {
   "cell_type": "markdown",
   "metadata": {},
   "source": [
    "Проанализируем признаки, недоступные в тестовой выборке. "
   ]
  },
  {
   "cell_type": "code",
   "execution_count": 4,
   "metadata": {},
   "outputs": [
    {
     "name": "stdout",
     "output_type": "stream",
     "text": [
      "В тестовой выборке отсутствуют признаки:\n"
     ]
    },
    {
     "data": {
      "text/plain": [
       "{'final.output.concentrate_ag',\n",
       " 'final.output.concentrate_au',\n",
       " 'final.output.concentrate_pb',\n",
       " 'final.output.concentrate_sol',\n",
       " 'final.output.recovery',\n",
       " 'final.output.tail_ag',\n",
       " 'final.output.tail_au',\n",
       " 'final.output.tail_pb',\n",
       " 'final.output.tail_sol',\n",
       " 'primary_cleaner.output.concentrate_ag',\n",
       " 'primary_cleaner.output.concentrate_au',\n",
       " 'primary_cleaner.output.concentrate_pb',\n",
       " 'primary_cleaner.output.concentrate_sol',\n",
       " 'primary_cleaner.output.tail_ag',\n",
       " 'primary_cleaner.output.tail_au',\n",
       " 'primary_cleaner.output.tail_pb',\n",
       " 'primary_cleaner.output.tail_sol',\n",
       " 'rougher.calculation.au_pb_ratio',\n",
       " 'rougher.calculation.floatbank10_sulfate_to_au_feed',\n",
       " 'rougher.calculation.floatbank11_sulfate_to_au_feed',\n",
       " 'rougher.calculation.sulfate_to_au_concentrate',\n",
       " 'rougher.output.concentrate_ag',\n",
       " 'rougher.output.concentrate_au',\n",
       " 'rougher.output.concentrate_pb',\n",
       " 'rougher.output.concentrate_sol',\n",
       " 'rougher.output.recovery',\n",
       " 'rougher.output.tail_ag',\n",
       " 'rougher.output.tail_au',\n",
       " 'rougher.output.tail_pb',\n",
       " 'rougher.output.tail_sol',\n",
       " 'secondary_cleaner.output.tail_ag',\n",
       " 'secondary_cleaner.output.tail_au',\n",
       " 'secondary_cleaner.output.tail_pb',\n",
       " 'secondary_cleaner.output.tail_sol'}"
      ]
     },
     "metadata": {},
     "output_type": "display_data"
    },
    {
     "name": "stdout",
     "output_type": "stream",
     "text": [
      "\n",
      "Количество отсутствующих признаков: 34\n"
     ]
    }
   ],
   "source": [
    "test_unavailable_columns = set(dt_train.columns).difference(dt_test.columns)\n",
    "print('В тестовой выборке отсутствуют признаки:')\n",
    "display(test_unavailable_columns)\n",
    "print()\n",
    "print('Количество отсутствующих признаков:', len(test_unavailable_columns))"
   ]
  },
  {
   "cell_type": "markdown",
   "metadata": {},
   "source": [
    "Почти все отсутствующие признаки (30 из 34) относятся к параметрам продукта (output) на разных этапах технологического процесса. Оставшиеся 4 признака - это расчётные характеристики (calculation)."
   ]
  },
  {
   "cell_type": "markdown",
   "metadata": {},
   "source": [
    "## Анализ данных"
   ]
  },
  {
   "cell_type": "markdown",
   "metadata": {},
   "source": [
    "### Анализ концентрации металлов"
   ]
  },
  {
   "cell_type": "markdown",
   "metadata": {},
   "source": [
    "Посмотрим, как меняется концентрация металлов (Au, Ag, Pb) на различных этапах очистки. "
   ]
  },
  {
   "cell_type": "code",
   "execution_count": 5,
   "metadata": {},
   "outputs": [
    {
     "data": {
      "image/png": "[encoded data removed]",
      "text/plain": [
       "<Figure size 720x432 with 1 Axes>"
      ]
     },
     "metadata": {
      "needs_background": "light"
     },
     "output_type": "display_data"
    },
    {
     "data": {
      "image/png": "[encoded data removed]",
      "text/plain": [
       "<Figure size 720x432 with 1 Axes>"
      ]
     },
     "metadata": {
      "needs_background": "light"
     },
     "output_type": "display_data"
    },
    {
     "data": {
      "image/png": "[encoded data removed]",
      "text/plain": [
       "<Figure size 720x432 with 1 Axes>"
      ]
     },
     "metadata": {
      "needs_background": "light"
     },
     "output_type": "display_data"
    }
   ],
   "source": [
    "for metal in ['au', 'ag', 'pb']:\n",
    "    fig = plt.figure()\n",
    "    ax = fig.add_subplot(1, 1, 1)\n",
    "    ax.set_title('Изменение концентрации ' + metal)\n",
    "    ax.set_xlabel('Концентрация металла')\n",
    "    fig.set_size_inches(10, 6)\n",
    "    snsplot = sns.kdeplot(dt_train['rougher.input.feed_' + metal], \n",
    "                          label='До флотации', shade=True)\n",
    "    fig = snsplot.get_figure()\n",
    "\n",
    "    snsplot = sns.kdeplot(dt_train['rougher.output.concentrate_' + metal],\n",
    "                          label='После флотации', shade=True)\n",
    "    fig = snsplot.get_figure()\n",
    "\n",
    "    snsplot = sns.kdeplot(dt_train['primary_cleaner.output.concentrate_' + metal],\n",
    "                          label='Первичная очистка', shade=True)\n",
    "    fig = snsplot.get_figure()\n",
    "\n",
    "    snsplot = sns.kdeplot(dt_train['final.output.concentrate_' + metal],\n",
    "                          label='Вторичная очистка', shade=True)\n",
    "    fig = snsplot.get_figure()"
   ]
  },
  {
   "cell_type": "markdown",
   "metadata": {},
   "source": [
    "Посмотрим на распределение средней концентрации металлов"
   ]
  },
  {
   "cell_type": "code",
   "execution_count": 6,
   "metadata": {},
   "outputs": [
    {
     "data": {
      "image/png": "[encoded data removed]",
      "text/plain": [
       "<Figure size 576x288 with 1 Axes>"
      ]
     },
     "metadata": {
      "needs_background": "light"
     },
     "output_type": "display_data"
    },
    {
     "data": {
      "image/png": "[encoded data removed]",
      "text/plain": [
       "<Figure size 576x288 with 1 Axes>"
      ]
     },
     "metadata": {
      "needs_background": "light"
     },
     "output_type": "display_data"
    },
    {
     "data": {
      "image/png": "[encoded data removed]",
      "text/plain": [
       "<Figure size 576x288 with 1 Axes>"
      ]
     },
     "metadata": {
      "needs_background": "light"
     },
     "output_type": "display_data"
    }
   ],
   "source": [
    "for metal in ['au', 'ag', 'pb']:\n",
    "    df = pd.DataFrame({'Этап': ['До флотации', 'После флотации',\n",
    "                    'Первичная очистка', 'Вторичная очистка'],\n",
    "                    'Концентрация средняя': [dt_train['rougher.input.feed_' + metal].mean(),\n",
    "                                            dt_train['rougher.output.concentrate_' + metal].mean(), \n",
    "                                            dt_train['primary_cleaner.output.concentrate_' + metal].mean(),\n",
    "                                            dt_train['final.output.concentrate_' + metal].mean()]})\n",
    "    ax = (\n",
    "            df.plot(x='Этап',\n",
    "                kind='bar',\n",
    "                grid=True,\n",
    "                figsize=(8, 4))\n",
    "        )\n",
    "    ax.set_title('Средняя концентрация ' + metal +' на разных этапах очистки')\n",
    "    ax.set_xlabel('Этап')\n",
    "    ax.set_ylabel('концентрация металла')\n",
    "    ax.legend().remove()\n",
    "    plt.show()"
   ]
  },
  {
   "cell_type": "markdown",
   "metadata": {},
   "source": [
    "Средняя концентрация золота увеличивается с каждым этапом очистки. После вторичной очичтски концентрация достигаетя 45 против 8 на начальном этапе. Концентрация серебра достигет максимума после флотации и далее снижается до 5. Концентрация свинца также растет после каждого этапа, разница между первичной и вторичной очистками небольшая."
   ]
  },
  {
   "cell_type": "markdown",
   "metadata": {},
   "source": [
    "### Анализ распределения размеров гранул "
   ]
  },
  {
   "cell_type": "markdown",
   "metadata": {},
   "source": [
    "Сравним распределения размеров гранул сырья на обучающей и тестовой выборках. Параметры сырья имеют значения input."
   ]
  },
  {
   "cell_type": "code",
   "execution_count": 7,
   "metadata": {},
   "outputs": [
    {
     "name": "stdout",
     "output_type": "stream",
     "text": [
      "<class 'pandas.core.frame.DataFrame'>\n",
      "RangeIndex: 5290 entries, 0 to 5289\n",
      "Data columns (total 53 columns):\n",
      "date                                          5290 non-null object\n",
      "primary_cleaner.input.sulfate                 5286 non-null float64\n",
      "primary_cleaner.input.depressant              5285 non-null float64\n",
      "primary_cleaner.input.feed_size               5290 non-null float64\n",
      "primary_cleaner.input.xanthate                5286 non-null float64\n",
      "primary_cleaner.state.floatbank8_a_air        5290 non-null float64\n",
      "primary_cleaner.state.floatbank8_a_level      5290 non-null float64\n",
      "primary_cleaner.state.floatbank8_b_air        5290 non-null float64\n",
      "primary_cleaner.state.floatbank8_b_level      5290 non-null float64\n",
      "primary_cleaner.state.floatbank8_c_air        5290 non-null float64\n",
      "primary_cleaner.state.floatbank8_c_level      5290 non-null float64\n",
      "primary_cleaner.state.floatbank8_d_air        5290 non-null float64\n",
      "primary_cleaner.state.floatbank8_d_level      5290 non-null float64\n",
      "rougher.input.feed_ag                         5290 non-null float64\n",
      "rougher.input.feed_pb                         5290 non-null float64\n",
      "rougher.input.feed_rate                       5287 non-null float64\n",
      "rougher.input.feed_size                       5289 non-null float64\n",
      "rougher.input.feed_sol                        5269 non-null float64\n",
      "rougher.input.feed_au                         5290 non-null float64\n",
      "rougher.input.floatbank10_sulfate             5285 non-null float64\n",
      "rougher.input.floatbank10_xanthate            5290 non-null float64\n",
      "rougher.input.floatbank11_sulfate             5282 non-null float64\n",
      "rougher.input.floatbank11_xanthate            5265 non-null float64\n",
      "rougher.state.floatbank10_a_air               5290 non-null float64\n",
      "rougher.state.floatbank10_a_level             5290 non-null float64\n",
      "rougher.state.floatbank10_b_air               5290 non-null float64\n",
      "rougher.state.floatbank10_b_level             5290 non-null float64\n",
      "rougher.state.floatbank10_c_air               5290 non-null float64\n",
      "rougher.state.floatbank10_c_level             5290 non-null float64\n",
      "rougher.state.floatbank10_d_air               5290 non-null float64\n",
      "rougher.state.floatbank10_d_level             5290 non-null float64\n",
      "rougher.state.floatbank10_e_air               5290 non-null float64\n",
      "rougher.state.floatbank10_e_level             5290 non-null float64\n",
      "rougher.state.floatbank10_f_air               5290 non-null float64\n",
      "rougher.state.floatbank10_f_level             5290 non-null float64\n",
      "secondary_cleaner.state.floatbank2_a_air      5287 non-null float64\n",
      "secondary_cleaner.state.floatbank2_a_level    5290 non-null float64\n",
      "secondary_cleaner.state.floatbank2_b_air      5288 non-null float64\n",
      "secondary_cleaner.state.floatbank2_b_level    5290 non-null float64\n",
      "secondary_cleaner.state.floatbank3_a_air      5281 non-null float64\n",
      "secondary_cleaner.state.floatbank3_a_level    5290 non-null float64\n",
      "secondary_cleaner.state.floatbank3_b_air      5290 non-null float64\n",
      "secondary_cleaner.state.floatbank3_b_level    5290 non-null float64\n",
      "secondary_cleaner.state.floatbank4_a_air      5290 non-null float64\n",
      "secondary_cleaner.state.floatbank4_a_level    5290 non-null float64\n",
      "secondary_cleaner.state.floatbank4_b_air      5290 non-null float64\n",
      "secondary_cleaner.state.floatbank4_b_level    5290 non-null float64\n",
      "secondary_cleaner.state.floatbank5_a_air      5290 non-null float64\n",
      "secondary_cleaner.state.floatbank5_a_level    5290 non-null float64\n",
      "secondary_cleaner.state.floatbank5_b_air      5290 non-null float64\n",
      "secondary_cleaner.state.floatbank5_b_level    5290 non-null float64\n",
      "secondary_cleaner.state.floatbank6_a_air      5290 non-null float64\n",
      "secondary_cleaner.state.floatbank6_a_level    5290 non-null float64\n",
      "dtypes: float64(52), object(1)\n",
      "memory usage: 2.1+ MB\n"
     ]
    }
   ],
   "source": [
    "dt_test.info()"
   ]
  },
  {
   "cell_type": "code",
   "execution_count": 8,
   "metadata": {},
   "outputs": [
    {
     "data": {
      "image/png": "[encoded data removed]",
      "text/plain": [
       "<Figure size 576x432 with 1 Axes>"
      ]
     },
     "metadata": {
      "needs_background": "light"
     },
     "output_type": "display_data"
    }
   ],
   "source": [
    "fig = plt.figure()\n",
    "ax = fig.add_subplot(1, 1, 1)\n",
    "ax.set_title('Распределение размеров гранул сырья')\n",
    "ax.set_xlabel('Размер')\n",
    "fig.set_size_inches(8, 6)\n",
    "\n",
    "x0 = dt_train['primary_cleaner.input.feed_size']\n",
    "x1 = dt_test['primary_cleaner.input.feed_size']\n",
    "\n",
    "snsplot = sns.kdeplot(x0, shade=True, label='Обучающая выборка')\n",
    "fig = snsplot.get_figure()\n",
    "\n",
    "snsplot = sns.kdeplot(x1, shade=True, label='Тестовая выборка')\n",
    "fig = snsplot.get_figure()"
   ]
  },
  {
   "cell_type": "markdown",
   "metadata": {},
   "source": [
    "Распределения не сильно отличаются друг от друга, оценка модели вероятно будет правильной."
   ]
  },
  {
   "cell_type": "markdown",
   "metadata": {},
   "source": [
    "### Исследование суммарной концентрации веществ"
   ]
  },
  {
   "cell_type": "markdown",
   "metadata": {},
   "source": [
    "Исследуем суммарную концентрацию всех веществ на разных стадиях: в сырье, в черновом и финальном концентратах."
   ]
  },
  {
   "cell_type": "code",
   "execution_count": 9,
   "metadata": {},
   "outputs": [
    {
     "name": "stdout",
     "output_type": "stream",
     "text": [
      "<class 'pandas.core.frame.DataFrame'>\n",
      "RangeIndex: 19439 entries, 0 to 19438\n",
      "Data columns (total 87 columns):\n",
      "date                                                  19439 non-null object\n",
      "final.output.concentrate_ag                           19438 non-null float64\n",
      "final.output.concentrate_pb                           19438 non-null float64\n",
      "final.output.concentrate_sol                          19228 non-null float64\n",
      "final.output.concentrate_au                           19439 non-null float64\n",
      "final.output.recovery                                 19439 non-null float64\n",
      "final.output.tail_ag                                  19438 non-null float64\n",
      "final.output.tail_pb                                  19338 non-null float64\n",
      "final.output.tail_sol                                 19433 non-null float64\n",
      "final.output.tail_au                                  19439 non-null float64\n",
      "primary_cleaner.input.sulfate                         19415 non-null float64\n",
      "primary_cleaner.input.depressant                      19402 non-null float64\n",
      "primary_cleaner.input.feed_size                       19439 non-null float64\n",
      "primary_cleaner.input.xanthate                        19335 non-null float64\n",
      "primary_cleaner.output.concentrate_ag                 19439 non-null float64\n",
      "primary_cleaner.output.concentrate_pb                 19323 non-null float64\n",
      "primary_cleaner.output.concentrate_sol                19069 non-null float64\n",
      "primary_cleaner.output.concentrate_au                 19439 non-null float64\n",
      "primary_cleaner.output.tail_ag                        19435 non-null float64\n",
      "primary_cleaner.output.tail_pb                        19418 non-null float64\n",
      "primary_cleaner.output.tail_sol                       19377 non-null float64\n",
      "primary_cleaner.output.tail_au                        19439 non-null float64\n",
      "primary_cleaner.state.floatbank8_a_air                19435 non-null float64\n",
      "primary_cleaner.state.floatbank8_a_level              19438 non-null float64\n",
      "primary_cleaner.state.floatbank8_b_air                19435 non-null float64\n",
      "primary_cleaner.state.floatbank8_b_level              19438 non-null float64\n",
      "primary_cleaner.state.floatbank8_c_air                19437 non-null float64\n",
      "primary_cleaner.state.floatbank8_c_level              19438 non-null float64\n",
      "primary_cleaner.state.floatbank8_d_air                19436 non-null float64\n",
      "primary_cleaner.state.floatbank8_d_level              19438 non-null float64\n",
      "rougher.calculation.sulfate_to_au_concentrate         19437 non-null float64\n",
      "rougher.calculation.floatbank10_sulfate_to_au_feed    19437 non-null float64\n",
      "rougher.calculation.floatbank11_sulfate_to_au_feed    19437 non-null float64\n",
      "rougher.calculation.au_pb_ratio                       19439 non-null float64\n",
      "rougher.input.feed_ag                                 19439 non-null float64\n",
      "rougher.input.feed_pb                                 19339 non-null float64\n",
      "rougher.input.feed_rate                               19428 non-null float64\n",
      "rougher.input.feed_size                               19294 non-null float64\n",
      "rougher.input.feed_sol                                19340 non-null float64\n",
      "rougher.input.feed_au                                 19439 non-null float64\n",
      "rougher.input.floatbank10_sulfate                     19405 non-null float64\n",
      "rougher.input.floatbank10_xanthate                    19431 non-null float64\n",
      "rougher.input.floatbank11_sulfate                     19395 non-null float64\n",
      "rougher.input.floatbank11_xanthate                    18986 non-null float64\n",
      "rougher.output.concentrate_ag                         19439 non-null float64\n",
      "rougher.output.concentrate_pb                         19439 non-null float64\n",
      "rougher.output.concentrate_sol                        19416 non-null float64\n",
      "rougher.output.concentrate_au                         19439 non-null float64\n",
      "rougher.output.recovery                               19439 non-null float64\n",
      "rougher.output.tail_ag                                19438 non-null float64\n",
      "rougher.output.tail_pb                                19439 non-null float64\n",
      "rougher.output.tail_sol                               19439 non-null float64\n",
      "rougher.output.tail_au                                19439 non-null float64\n",
      "rougher.state.floatbank10_a_air                       19438 non-null float64\n",
      "rougher.state.floatbank10_a_level                     19438 non-null float64\n",
      "rougher.state.floatbank10_b_air                       19438 non-null float64\n",
      "rougher.state.floatbank10_b_level                     19438 non-null float64\n",
      "rougher.state.floatbank10_c_air                       19438 non-null float64\n",
      "rougher.state.floatbank10_c_level                     19438 non-null float64\n",
      "rougher.state.floatbank10_d_air                       19439 non-null float64\n",
      "rougher.state.floatbank10_d_level                     19439 non-null float64\n",
      "rougher.state.floatbank10_e_air                       19003 non-null float64\n",
      "rougher.state.floatbank10_e_level                     19439 non-null float64\n",
      "rougher.state.floatbank10_f_air                       19439 non-null float64\n",
      "rougher.state.floatbank10_f_level                     19439 non-null float64\n",
      "secondary_cleaner.output.tail_ag                      19437 non-null float64\n",
      "secondary_cleaner.output.tail_pb                      19427 non-null float64\n",
      "secondary_cleaner.output.tail_sol                     17691 non-null float64\n",
      "secondary_cleaner.output.tail_au                      19439 non-null float64\n",
      "secondary_cleaner.state.floatbank2_a_air              19219 non-null float64\n",
      "secondary_cleaner.state.floatbank2_a_level            19438 non-null float64\n",
      "secondary_cleaner.state.floatbank2_b_air              19416 non-null float64\n",
      "secondary_cleaner.state.floatbank2_b_level            19438 non-null float64\n",
      "secondary_cleaner.state.floatbank3_a_air              19426 non-null float64\n",
      "secondary_cleaner.state.floatbank3_a_level            19438 non-null float64\n",
      "secondary_cleaner.state.floatbank3_b_air              19438 non-null float64\n",
      "secondary_cleaner.state.floatbank3_b_level            19438 non-null float64\n",
      "secondary_cleaner.state.floatbank4_a_air              19433 non-null float64\n",
      "secondary_cleaner.state.floatbank4_a_level            19438 non-null float64\n",
      "secondary_cleaner.state.floatbank4_b_air              19438 non-null float64\n",
      "secondary_cleaner.state.floatbank4_b_level            19438 non-null float64\n",
      "secondary_cleaner.state.floatbank5_a_air              19438 non-null float64\n",
      "secondary_cleaner.state.floatbank5_a_level            19438 non-null float64\n",
      "secondary_cleaner.state.floatbank5_b_air              19438 non-null float64\n",
      "secondary_cleaner.state.floatbank5_b_level            19438 non-null float64\n",
      "secondary_cleaner.state.floatbank6_a_air              19437 non-null float64\n",
      "secondary_cleaner.state.floatbank6_a_level            19438 non-null float64\n",
      "dtypes: float64(86), object(1)\n",
      "memory usage: 12.9+ MB\n"
     ]
    }
   ],
   "source": [
    "dt_full.info()"
   ]
  },
  {
   "cell_type": "code",
   "execution_count": 10,
   "metadata": {},
   "outputs": [],
   "source": [
    "stages = {'сырье':['rougher.input.feed_ag', 'rougher.input.feed_pb',\n",
    "                   'rougher.input.feed_sol', 'rougher.input.feed_au'], \n",
    "            'флотация':['rougher.output.concentrate_ag', 'rougher.output.concentrate_pb',\n",
    "                        'rougher.output.concentrate_sol', 'rougher.output.concentrate_au'], \n",
    "            'первичная очистка':['primary_cleaner.output.concentrate_ag', 'primary_cleaner.output.concentrate_pb',\n",
    "                                 'primary_cleaner.output.concentrate_sol', 'primary_cleaner.output.concentrate_au'], \n",
    "            'финальный концентрат':['final.output.concentrate_ag', 'final.output.concentrate_pb',\n",
    "                                    'final.output.concentrate_sol', 'final.output.concentrate_au']}\n"
   ]
  },
  {
   "cell_type": "code",
   "execution_count": 11,
   "metadata": {
    "scrolled": true
   },
   "outputs": [
    {
     "data": {
      "image/png": "[encoded data removed]",
      "text/plain": [
       "<Figure size 576x288 with 1 Axes>"
      ]
     },
     "metadata": {
      "needs_background": "light"
     },
     "output_type": "display_data"
    }
   ],
   "source": [
    "dt_total_concentrate = pd.DataFrame()\n",
    "fig = plt.figure()\n",
    "ax = fig.add_subplot(1, 1, 1)\n",
    "ax.set_title('Распределение суммарной концентрации веществ')\n",
    "ax.set_xlabel('Концентрация')\n",
    "fig.set_size_inches(8, 4)\n",
    "\n",
    "for key in stages:\n",
    "    total_concentrate = dt_full[stages[key]]\n",
    "    total_concentrate[key] = total_concentrate.sum(axis=1)\n",
    "    #display(total_concentrate[key].describe())\n",
    "    dt_total_concentrate[key] = total_concentrate[key]\n",
    "    snsplot = sns.kdeplot(total_concentrate[key], shade=True,  alpha=.5, label=key)\n",
    "    fig = snsplot.get_figure()"
   ]
  },
  {
   "cell_type": "markdown",
   "metadata": {},
   "source": [
    "Распределения близки к нормальному, имеют скошенность влево. В данных наблюдаются аномальные значения в районе 0, похожие на выбросы. Посмотрим еще на распределения с помощью графика \"Ящик с усами\""
   ]
  },
  {
   "cell_type": "code",
   "execution_count": 12,
   "metadata": {},
   "outputs": [
    {
     "data": {
      "image/png": "[encoded data removed]",
      "text/plain": [
       "<Figure size 720x432 with 1 Axes>"
      ]
     },
     "metadata": {
      "needs_background": "light"
     },
     "output_type": "display_data"
    }
   ],
   "source": [
    "plt.figure(figsize=(10, 6))\n",
    "sns.boxplot(data=dt_total_concentrate)\n",
    "plt.ylim(-5, 90)\n",
    "plt.grid()\n",
    "plt.title('График \"Ящик с усами\"')\n",
    "plt.xlabel('Этап')\n",
    "plt.ylabel('Cуммарная концентрация веществ')\n",
    "plt.show()"
   ]
  },
  {
   "cell_type": "markdown",
   "metadata": {},
   "source": [
    "У распределений концентраций веществ длинные нижние усы, много нулевых значений. Получается что суммарные концентрации равны нулю - это выбросы. Удалим их из тренировочной и тестовой выборок."
   ]
  },
  {
   "cell_type": "code",
   "execution_count": 13,
   "metadata": {},
   "outputs": [
    {
     "name": "stdout",
     "output_type": "stream",
     "text": [
      "Размер тренировочной выборки до очистки: (14149, 87)\n",
      "Размер тестовой выборки до очистки: (5290, 53)\n",
      "Тренировочная после очистки: (13426, 87)\n",
      "Тестовая после очистки: (5276, 53)\n"
     ]
    }
   ],
   "source": [
    "dt_train_clean = dt_train\n",
    "dt_test_clean = dt_test\n",
    "\n",
    "print('Размер тренировочной выборки до очистки:', dt_train_clean.shape)\n",
    "print('Размер тестовой выборки до очистки:', dt_test_clean.shape)\n",
    "for key in stages:\n",
    "    for row in stages[key]:\n",
    "        if row in dt_train_clean.columns:\n",
    "            dt_train_clean.drop(\n",
    "                index = dt_train_clean[dt_train_clean[row] < 1].index, axis=0, inplace=True)\n",
    "        if row in dt_test_clean.columns:\n",
    "            dt_test_clean.drop(\n",
    "                index = dt_test_clean[dt_test_clean[row] < 1].index, axis=0, inplace=True)\n",
    "               \n",
    "print('Тренировочная после очистки:', dt_train_clean.shape)\n",
    "print('Тестовая после очистки:', dt_test_clean.shape)"
   ]
  },
  {
   "cell_type": "code",
   "execution_count": null,
   "metadata": {},
   "outputs": [],
   "source": []
  },
  {
   "cell_type": "markdown",
   "metadata": {},
   "source": [
    "## Подготовка данных для обучения моделей "
   ]
  },
  {
   "cell_type": "markdown",
   "metadata": {},
   "source": [
    "### Добавление целевых признаков"
   ]
  },
  {
   "cell_type": "markdown",
   "metadata": {},
   "source": [
    "Добавим целевые признаки в тестовую выборку из исходного  датасета"
   ]
  },
  {
   "cell_type": "code",
   "execution_count": 14,
   "metadata": {},
   "outputs": [
    {
     "data": {
      "text/html": [
       "<div>\n",
       "<style scoped>\n",
       "    .dataframe tbody tr th:only-of-type {\n",
       "        vertical-align: middle;\n",
       "    }\n",
       "\n",
       "    .dataframe tbody tr th {\n",
       "        vertical-align: top;\n",
       "    }\n",
       "\n",
       "    .dataframe thead th {\n",
       "        text-align: right;\n",
       "    }\n",
       "</style>\n",
       "<table border=\"1\" class=\"dataframe\">\n",
       "  <thead>\n",
       "    <tr style=\"text-align: right;\">\n",
       "      <th></th>\n",
       "      <th>date</th>\n",
       "      <th>primary_cleaner.input.sulfate</th>\n",
       "      <th>primary_cleaner.input.depressant</th>\n",
       "      <th>primary_cleaner.input.feed_size</th>\n",
       "      <th>primary_cleaner.input.xanthate</th>\n",
       "      <th>primary_cleaner.state.floatbank8_a_air</th>\n",
       "      <th>primary_cleaner.state.floatbank8_a_level</th>\n",
       "      <th>primary_cleaner.state.floatbank8_b_air</th>\n",
       "      <th>primary_cleaner.state.floatbank8_b_level</th>\n",
       "      <th>primary_cleaner.state.floatbank8_c_air</th>\n",
       "      <th>...</th>\n",
       "      <th>secondary_cleaner.state.floatbank4_b_air</th>\n",
       "      <th>secondary_cleaner.state.floatbank4_b_level</th>\n",
       "      <th>secondary_cleaner.state.floatbank5_a_air</th>\n",
       "      <th>secondary_cleaner.state.floatbank5_a_level</th>\n",
       "      <th>secondary_cleaner.state.floatbank5_b_air</th>\n",
       "      <th>secondary_cleaner.state.floatbank5_b_level</th>\n",
       "      <th>secondary_cleaner.state.floatbank6_a_air</th>\n",
       "      <th>secondary_cleaner.state.floatbank6_a_level</th>\n",
       "      <th>rougher.output.recovery</th>\n",
       "      <th>final.output.recovery</th>\n",
       "    </tr>\n",
       "  </thead>\n",
       "  <tbody>\n",
       "    <tr>\n",
       "      <td>0</td>\n",
       "      <td>2016-09-01 00:59:59</td>\n",
       "      <td>210.800909</td>\n",
       "      <td>14.993118</td>\n",
       "      <td>8.080000</td>\n",
       "      <td>1.005021</td>\n",
       "      <td>1398.981301</td>\n",
       "      <td>-500.225577</td>\n",
       "      <td>1399.144926</td>\n",
       "      <td>-499.919735</td>\n",
       "      <td>1400.102998</td>\n",
       "      <td>...</td>\n",
       "      <td>8.016656</td>\n",
       "      <td>-501.289139</td>\n",
       "      <td>7.946562</td>\n",
       "      <td>-432.317850</td>\n",
       "      <td>4.872511</td>\n",
       "      <td>-500.037437</td>\n",
       "      <td>26.705889</td>\n",
       "      <td>-499.709414</td>\n",
       "      <td>89.993421</td>\n",
       "      <td>70.273583</td>\n",
       "    </tr>\n",
       "    <tr>\n",
       "      <td>1</td>\n",
       "      <td>2016-09-01 01:59:59</td>\n",
       "      <td>215.392455</td>\n",
       "      <td>14.987471</td>\n",
       "      <td>8.080000</td>\n",
       "      <td>0.990469</td>\n",
       "      <td>1398.777912</td>\n",
       "      <td>-500.057435</td>\n",
       "      <td>1398.055362</td>\n",
       "      <td>-499.778182</td>\n",
       "      <td>1396.151033</td>\n",
       "      <td>...</td>\n",
       "      <td>8.130979</td>\n",
       "      <td>-499.634209</td>\n",
       "      <td>7.958270</td>\n",
       "      <td>-525.839648</td>\n",
       "      <td>4.878850</td>\n",
       "      <td>-500.162375</td>\n",
       "      <td>25.019940</td>\n",
       "      <td>-499.819438</td>\n",
       "      <td>88.089657</td>\n",
       "      <td>68.910432</td>\n",
       "    </tr>\n",
       "    <tr>\n",
       "      <td>2</td>\n",
       "      <td>2016-09-01 02:59:59</td>\n",
       "      <td>215.259946</td>\n",
       "      <td>12.884934</td>\n",
       "      <td>7.786667</td>\n",
       "      <td>0.996043</td>\n",
       "      <td>1398.493666</td>\n",
       "      <td>-500.868360</td>\n",
       "      <td>1398.860436</td>\n",
       "      <td>-499.764529</td>\n",
       "      <td>1398.075709</td>\n",
       "      <td>...</td>\n",
       "      <td>8.096893</td>\n",
       "      <td>-500.827423</td>\n",
       "      <td>8.071056</td>\n",
       "      <td>-500.801673</td>\n",
       "      <td>4.905125</td>\n",
       "      <td>-499.828510</td>\n",
       "      <td>24.994862</td>\n",
       "      <td>-500.622559</td>\n",
       "      <td>88.412756</td>\n",
       "      <td>68.143213</td>\n",
       "    </tr>\n",
       "    <tr>\n",
       "      <td>3</td>\n",
       "      <td>2016-09-01 03:59:59</td>\n",
       "      <td>215.336236</td>\n",
       "      <td>12.006805</td>\n",
       "      <td>7.640000</td>\n",
       "      <td>0.863514</td>\n",
       "      <td>1399.618111</td>\n",
       "      <td>-498.863574</td>\n",
       "      <td>1397.440120</td>\n",
       "      <td>-499.211024</td>\n",
       "      <td>1400.129303</td>\n",
       "      <td>...</td>\n",
       "      <td>8.074946</td>\n",
       "      <td>-499.474407</td>\n",
       "      <td>7.897085</td>\n",
       "      <td>-500.868509</td>\n",
       "      <td>4.931400</td>\n",
       "      <td>-499.963623</td>\n",
       "      <td>24.948919</td>\n",
       "      <td>-498.709987</td>\n",
       "      <td>87.360133</td>\n",
       "      <td>67.776393</td>\n",
       "    </tr>\n",
       "    <tr>\n",
       "      <td>4</td>\n",
       "      <td>2016-09-01 04:59:59</td>\n",
       "      <td>199.099327</td>\n",
       "      <td>10.682530</td>\n",
       "      <td>7.530000</td>\n",
       "      <td>0.805575</td>\n",
       "      <td>1401.268123</td>\n",
       "      <td>-500.808305</td>\n",
       "      <td>1398.128818</td>\n",
       "      <td>-499.504543</td>\n",
       "      <td>1402.172226</td>\n",
       "      <td>...</td>\n",
       "      <td>8.054678</td>\n",
       "      <td>-500.397500</td>\n",
       "      <td>8.107890</td>\n",
       "      <td>-509.526725</td>\n",
       "      <td>4.957674</td>\n",
       "      <td>-500.360026</td>\n",
       "      <td>25.003331</td>\n",
       "      <td>-500.856333</td>\n",
       "      <td>83.236367</td>\n",
       "      <td>61.467078</td>\n",
       "    </tr>\n",
       "  </tbody>\n",
       "</table>\n",
       "<p>5 rows × 55 columns</p>\n",
       "</div>"
      ],
      "text/plain": [
       "                  date  primary_cleaner.input.sulfate  \\\n",
       "0  2016-09-01 00:59:59                     210.800909   \n",
       "1  2016-09-01 01:59:59                     215.392455   \n",
       "2  2016-09-01 02:59:59                     215.259946   \n",
       "3  2016-09-01 03:59:59                     215.336236   \n",
       "4  2016-09-01 04:59:59                     199.099327   \n",
       "\n",
       "   primary_cleaner.input.depressant  primary_cleaner.input.feed_size  \\\n",
       "0                         14.993118                         8.080000   \n",
       "1                         14.987471                         8.080000   \n",
       "2                         12.884934                         7.786667   \n",
       "3                         12.006805                         7.640000   \n",
       "4                         10.682530                         7.530000   \n",
       "\n",
       "   primary_cleaner.input.xanthate  primary_cleaner.state.floatbank8_a_air  \\\n",
       "0                        1.005021                             1398.981301   \n",
       "1                        0.990469                             1398.777912   \n",
       "2                        0.996043                             1398.493666   \n",
       "3                        0.863514                             1399.618111   \n",
       "4                        0.805575                             1401.268123   \n",
       "\n",
       "   primary_cleaner.state.floatbank8_a_level  \\\n",
       "0                               -500.225577   \n",
       "1                               -500.057435   \n",
       "2                               -500.868360   \n",
       "3                               -498.863574   \n",
       "4                               -500.808305   \n",
       "\n",
       "   primary_cleaner.state.floatbank8_b_air  \\\n",
       "0                             1399.144926   \n",
       "1                             1398.055362   \n",
       "2                             1398.860436   \n",
       "3                             1397.440120   \n",
       "4                             1398.128818   \n",
       "\n",
       "   primary_cleaner.state.floatbank8_b_level  \\\n",
       "0                               -499.919735   \n",
       "1                               -499.778182   \n",
       "2                               -499.764529   \n",
       "3                               -499.211024   \n",
       "4                               -499.504543   \n",
       "\n",
       "   primary_cleaner.state.floatbank8_c_air  ...  \\\n",
       "0                             1400.102998  ...   \n",
       "1                             1396.151033  ...   \n",
       "2                             1398.075709  ...   \n",
       "3                             1400.129303  ...   \n",
       "4                             1402.172226  ...   \n",
       "\n",
       "   secondary_cleaner.state.floatbank4_b_air  \\\n",
       "0                                  8.016656   \n",
       "1                                  8.130979   \n",
       "2                                  8.096893   \n",
       "3                                  8.074946   \n",
       "4                                  8.054678   \n",
       "\n",
       "   secondary_cleaner.state.floatbank4_b_level  \\\n",
       "0                                 -501.289139   \n",
       "1                                 -499.634209   \n",
       "2                                 -500.827423   \n",
       "3                                 -499.474407   \n",
       "4                                 -500.397500   \n",
       "\n",
       "   secondary_cleaner.state.floatbank5_a_air  \\\n",
       "0                                  7.946562   \n",
       "1                                  7.958270   \n",
       "2                                  8.071056   \n",
       "3                                  7.897085   \n",
       "4                                  8.107890   \n",
       "\n",
       "   secondary_cleaner.state.floatbank5_a_level  \\\n",
       "0                                 -432.317850   \n",
       "1                                 -525.839648   \n",
       "2                                 -500.801673   \n",
       "3                                 -500.868509   \n",
       "4                                 -509.526725   \n",
       "\n",
       "   secondary_cleaner.state.floatbank5_b_air  \\\n",
       "0                                  4.872511   \n",
       "1                                  4.878850   \n",
       "2                                  4.905125   \n",
       "3                                  4.931400   \n",
       "4                                  4.957674   \n",
       "\n",
       "   secondary_cleaner.state.floatbank5_b_level  \\\n",
       "0                                 -500.037437   \n",
       "1                                 -500.162375   \n",
       "2                                 -499.828510   \n",
       "3                                 -499.963623   \n",
       "4                                 -500.360026   \n",
       "\n",
       "   secondary_cleaner.state.floatbank6_a_air  \\\n",
       "0                                 26.705889   \n",
       "1                                 25.019940   \n",
       "2                                 24.994862   \n",
       "3                                 24.948919   \n",
       "4                                 25.003331   \n",
       "\n",
       "   secondary_cleaner.state.floatbank6_a_level  rougher.output.recovery  \\\n",
       "0                                 -499.709414                89.993421   \n",
       "1                                 -499.819438                88.089657   \n",
       "2                                 -500.622559                88.412756   \n",
       "3                                 -498.709987                87.360133   \n",
       "4                                 -500.856333                83.236367   \n",
       "\n",
       "   final.output.recovery  \n",
       "0              70.273583  \n",
       "1              68.910432  \n",
       "2              68.143213  \n",
       "3              67.776393  \n",
       "4              61.467078  \n",
       "\n",
       "[5 rows x 55 columns]"
      ]
     },
     "metadata": {},
     "output_type": "display_data"
    }
   ],
   "source": [
    "dt_test_clean = dt_test_clean.merge(\n",
    "                dt_full[['date', 'rougher.output.recovery', 'final.output.recovery']], \n",
    "                how = 'left', on = 'date')\n",
    "\n",
    "display(dt_test_clean.head())"
   ]
  },
  {
   "cell_type": "markdown",
   "metadata": {},
   "source": [
    "### Удаление признаков"
   ]
  },
  {
   "cell_type": "markdown",
   "metadata": {},
   "source": [
    "Удалим из тренировочной выборки признаки отсутствующие в тестовой"
   ]
  },
  {
   "cell_type": "code",
   "execution_count": 15,
   "metadata": {},
   "outputs": [
    {
     "name": "stdout",
     "output_type": "stream",
     "text": [
      "Количество столбцов в трейне до удаления: 87\n",
      "Количество столбцов в трейне после удаления: 55\n"
     ]
    }
   ],
   "source": [
    "test_unavailable_columns.remove('final.output.recovery')\n",
    "test_unavailable_columns.remove('rougher.output.recovery')\n",
    "\n",
    "print('Количество столбцов в трейне до удаления:', len(dt_train_clean.columns))\n",
    "dt_train_clean.drop(test_unavailable_columns, axis=1, inplace=True)\n",
    "print('Количество столбцов в трейне после удаления:', len(dt_train_clean.columns))\n"
   ]
  },
  {
   "cell_type": "markdown",
   "metadata": {},
   "source": [
    "Удалим из выборок столбец 'date', который не может влиять на коэффициент восстановления золота. "
   ]
  },
  {
   "cell_type": "code",
   "execution_count": 16,
   "metadata": {},
   "outputs": [
    {
     "name": "stdout",
     "output_type": "stream",
     "text": [
      "Количество столбцов в трейне после удаления: 54\n",
      "Количество столбцов в тесте после удаления: 54\n"
     ]
    }
   ],
   "source": [
    "dt_train_clean.drop('date', axis=1, inplace=True)\n",
    "dt_test_clean.drop('date', axis=1, inplace=True)\n",
    "print('Количество столбцов в трейне после удаления:', len(dt_train_clean.columns))\n",
    "print('Количество столбцов в тесте после удаления:', len(dt_test_clean.columns))"
   ]
  },
  {
   "cell_type": "markdown",
   "metadata": {},
   "source": [
    "Удалим пропуски из обучающей и тестовой выборок"
   ]
  },
  {
   "cell_type": "code",
   "execution_count": 17,
   "metadata": {},
   "outputs": [
    {
     "name": "stdout",
     "output_type": "stream",
     "text": [
      "Тренировочная до: (13426, 54)\n",
      "Тестовая до: (5276, 54)\n",
      "Тренировочная после: (12150, 54)\n",
      "Тестовая после: (5216, 54)\n"
     ]
    }
   ],
   "source": [
    "print('Тренировочная до:', dt_train_clean.shape)\n",
    "print('Тестовая до:', dt_test_clean.shape)\n",
    "\n",
    "dt_train_clean.dropna(inplace=True)\n",
    "dt_test_clean.dropna(inplace=True)\n",
    "\n",
    "print('Тренировочная после:', dt_train_clean.shape)\n",
    "print('Тестовая после:', dt_test_clean.shape)"
   ]
  },
  {
   "cell_type": "markdown",
   "metadata": {},
   "source": [
    "Выделим из обучающей и тестовой выборок целевывые признаки"
   ]
  },
  {
   "cell_type": "code",
   "execution_count": 18,
   "metadata": {},
   "outputs": [],
   "source": [
    "target_train_rougher = dt_train_clean['rougher.output.recovery']\n",
    "target_train_final = dt_train_clean[ 'final.output.recovery']\n",
    "features_train = dt_train_clean.drop(['rougher.output.recovery', 'final.output.recovery'], axis=1)\n",
    "\n",
    "target_test_rougher = dt_test_clean['rougher.output.recovery']\n",
    "target_test_final = dt_test_clean['final.output.recovery']\n",
    "features_test = dt_test_clean.drop(['rougher.output.recovery', 'final.output.recovery'], axis=1)"
   ]
  },
  {
   "cell_type": "markdown",
   "metadata": {},
   "source": [
    "### Стандартизация признаков"
   ]
  },
  {
   "cell_type": "markdown",
   "metadata": {},
   "source": [
    "Чтобы не потерять значимость численных признаков из-за разности масштабов, стандартизируем их. "
   ]
  },
  {
   "cell_type": "code",
   "execution_count": 19,
   "metadata": {},
   "outputs": [
    {
     "data": {
      "text/html": [
       "<div>\n",
       "<style scoped>\n",
       "    .dataframe tbody tr th:only-of-type {\n",
       "        vertical-align: middle;\n",
       "    }\n",
       "\n",
       "    .dataframe tbody tr th {\n",
       "        vertical-align: top;\n",
       "    }\n",
       "\n",
       "    .dataframe thead th {\n",
       "        text-align: right;\n",
       "    }\n",
       "</style>\n",
       "<table border=\"1\" class=\"dataframe\">\n",
       "  <thead>\n",
       "    <tr style=\"text-align: right;\">\n",
       "      <th></th>\n",
       "      <th>primary_cleaner.input.sulfate</th>\n",
       "      <th>primary_cleaner.input.depressant</th>\n",
       "      <th>primary_cleaner.input.feed_size</th>\n",
       "      <th>primary_cleaner.input.xanthate</th>\n",
       "      <th>primary_cleaner.state.floatbank8_a_air</th>\n",
       "      <th>primary_cleaner.state.floatbank8_a_level</th>\n",
       "      <th>primary_cleaner.state.floatbank8_b_air</th>\n",
       "      <th>primary_cleaner.state.floatbank8_b_level</th>\n",
       "      <th>primary_cleaner.state.floatbank8_c_air</th>\n",
       "      <th>primary_cleaner.state.floatbank8_c_level</th>\n",
       "      <th>...</th>\n",
       "      <th>secondary_cleaner.state.floatbank4_a_air</th>\n",
       "      <th>secondary_cleaner.state.floatbank4_a_level</th>\n",
       "      <th>secondary_cleaner.state.floatbank4_b_air</th>\n",
       "      <th>secondary_cleaner.state.floatbank4_b_level</th>\n",
       "      <th>secondary_cleaner.state.floatbank5_a_air</th>\n",
       "      <th>secondary_cleaner.state.floatbank5_a_level</th>\n",
       "      <th>secondary_cleaner.state.floatbank5_b_air</th>\n",
       "      <th>secondary_cleaner.state.floatbank5_b_level</th>\n",
       "      <th>secondary_cleaner.state.floatbank6_a_air</th>\n",
       "      <th>secondary_cleaner.state.floatbank6_a_level</th>\n",
       "    </tr>\n",
       "  </thead>\n",
       "  <tbody>\n",
       "    <tr>\n",
       "      <td>0</td>\n",
       "      <td>-0.280517</td>\n",
       "      <td>0.295089</td>\n",
       "      <td>-0.157094</td>\n",
       "      <td>0.280935</td>\n",
       "      <td>-0.423512</td>\n",
       "      <td>-0.311740</td>\n",
       "      <td>-0.413829</td>\n",
       "      <td>-0.806945</td>\n",
       "      <td>-0.416849</td>\n",
       "      <td>-0.287980</td>\n",
       "      <td>...</td>\n",
       "      <td>-1.017814</td>\n",
       "      <td>-0.472676</td>\n",
       "      <td>-0.614694</td>\n",
       "      <td>-0.751494</td>\n",
       "      <td>-1.167068</td>\n",
       "      <td>-0.378135</td>\n",
       "      <td>-0.847962</td>\n",
       "      <td>-0.422121</td>\n",
       "      <td>-0.987544</td>\n",
       "      <td>-2.578445</td>\n",
       "    </tr>\n",
       "    <tr>\n",
       "      <td>1</td>\n",
       "      <td>-0.320419</td>\n",
       "      <td>0.346046</td>\n",
       "      <td>-0.157094</td>\n",
       "      <td>0.319165</td>\n",
       "      <td>-0.220317</td>\n",
       "      <td>-0.366713</td>\n",
       "      <td>-0.229432</td>\n",
       "      <td>-0.332284</td>\n",
       "      <td>-0.224663</td>\n",
       "      <td>-0.306230</td>\n",
       "      <td>...</td>\n",
       "      <td>-1.022148</td>\n",
       "      <td>-0.532005</td>\n",
       "      <td>-0.643104</td>\n",
       "      <td>-0.693909</td>\n",
       "      <td>-1.147520</td>\n",
       "      <td>-0.425386</td>\n",
       "      <td>-0.864528</td>\n",
       "      <td>-0.424889</td>\n",
       "      <td>-1.014729</td>\n",
       "      <td>-2.419807</td>\n",
       "    </tr>\n",
       "    <tr>\n",
       "      <td>2</td>\n",
       "      <td>-0.369776</td>\n",
       "      <td>0.655516</td>\n",
       "      <td>-0.157094</td>\n",
       "      <td>0.287827</td>\n",
       "      <td>-0.024831</td>\n",
       "      <td>-0.341688</td>\n",
       "      <td>-0.045638</td>\n",
       "      <td>-0.353578</td>\n",
       "      <td>-0.033294</td>\n",
       "      <td>-0.349988</td>\n",
       "      <td>...</td>\n",
       "      <td>-1.018135</td>\n",
       "      <td>-0.473323</td>\n",
       "      <td>-0.650282</td>\n",
       "      <td>-0.690538</td>\n",
       "      <td>-1.142071</td>\n",
       "      <td>-0.424348</td>\n",
       "      <td>-0.859445</td>\n",
       "      <td>-0.423281</td>\n",
       "      <td>-1.009343</td>\n",
       "      <td>-2.462781</td>\n",
       "    </tr>\n",
       "    <tr>\n",
       "      <td>3</td>\n",
       "      <td>-0.412046</td>\n",
       "      <td>0.657294</td>\n",
       "      <td>-0.157094</td>\n",
       "      <td>0.302876</td>\n",
       "      <td>-0.037053</td>\n",
       "      <td>-0.368005</td>\n",
       "      <td>-0.043588</td>\n",
       "      <td>-0.326866</td>\n",
       "      <td>-0.045798</td>\n",
       "      <td>-0.345990</td>\n",
       "      <td>...</td>\n",
       "      <td>-1.014341</td>\n",
       "      <td>-0.440589</td>\n",
       "      <td>-0.633783</td>\n",
       "      <td>-0.691564</td>\n",
       "      <td>-1.159371</td>\n",
       "      <td>-0.400783</td>\n",
       "      <td>-0.865825</td>\n",
       "      <td>-0.416768</td>\n",
       "      <td>-1.013450</td>\n",
       "      <td>-2.425282</td>\n",
       "    </tr>\n",
       "    <tr>\n",
       "      <td>4</td>\n",
       "      <td>-0.528851</td>\n",
       "      <td>0.836744</td>\n",
       "      <td>-0.157094</td>\n",
       "      <td>0.338978</td>\n",
       "      <td>-0.026498</td>\n",
       "      <td>-0.313487</td>\n",
       "      <td>-0.037732</td>\n",
       "      <td>-0.345412</td>\n",
       "      <td>-0.051112</td>\n",
       "      <td>-0.350497</td>\n",
       "      <td>...</td>\n",
       "      <td>-1.015967</td>\n",
       "      <td>-0.420545</td>\n",
       "      <td>-0.642621</td>\n",
       "      <td>-0.689185</td>\n",
       "      <td>-1.167055</td>\n",
       "      <td>-0.463922</td>\n",
       "      <td>-0.880327</td>\n",
       "      <td>-0.419260</td>\n",
       "      <td>-1.015032</td>\n",
       "      <td>-2.464597</td>\n",
       "    </tr>\n",
       "  </tbody>\n",
       "</table>\n",
       "<p>5 rows × 52 columns</p>\n",
       "</div>"
      ],
      "text/plain": [
       "   primary_cleaner.input.sulfate  primary_cleaner.input.depressant  \\\n",
       "0                      -0.280517                          0.295089   \n",
       "1                      -0.320419                          0.346046   \n",
       "2                      -0.369776                          0.655516   \n",
       "3                      -0.412046                          0.657294   \n",
       "4                      -0.528851                          0.836744   \n",
       "\n",
       "   primary_cleaner.input.feed_size  primary_cleaner.input.xanthate  \\\n",
       "0                        -0.157094                        0.280935   \n",
       "1                        -0.157094                        0.319165   \n",
       "2                        -0.157094                        0.287827   \n",
       "3                        -0.157094                        0.302876   \n",
       "4                        -0.157094                        0.338978   \n",
       "\n",
       "   primary_cleaner.state.floatbank8_a_air  \\\n",
       "0                               -0.423512   \n",
       "1                               -0.220317   \n",
       "2                               -0.024831   \n",
       "3                               -0.037053   \n",
       "4                               -0.026498   \n",
       "\n",
       "   primary_cleaner.state.floatbank8_a_level  \\\n",
       "0                                 -0.311740   \n",
       "1                                 -0.366713   \n",
       "2                                 -0.341688   \n",
       "3                                 -0.368005   \n",
       "4                                 -0.313487   \n",
       "\n",
       "   primary_cleaner.state.floatbank8_b_air  \\\n",
       "0                               -0.413829   \n",
       "1                               -0.229432   \n",
       "2                               -0.045638   \n",
       "3                               -0.043588   \n",
       "4                               -0.037732   \n",
       "\n",
       "   primary_cleaner.state.floatbank8_b_level  \\\n",
       "0                                 -0.806945   \n",
       "1                                 -0.332284   \n",
       "2                                 -0.353578   \n",
       "3                                 -0.326866   \n",
       "4                                 -0.345412   \n",
       "\n",
       "   primary_cleaner.state.floatbank8_c_air  \\\n",
       "0                               -0.416849   \n",
       "1                               -0.224663   \n",
       "2                               -0.033294   \n",
       "3                               -0.045798   \n",
       "4                               -0.051112   \n",
       "\n",
       "   primary_cleaner.state.floatbank8_c_level  ...  \\\n",
       "0                                 -0.287980  ...   \n",
       "1                                 -0.306230  ...   \n",
       "2                                 -0.349988  ...   \n",
       "3                                 -0.345990  ...   \n",
       "4                                 -0.350497  ...   \n",
       "\n",
       "   secondary_cleaner.state.floatbank4_a_air  \\\n",
       "0                                 -1.017814   \n",
       "1                                 -1.022148   \n",
       "2                                 -1.018135   \n",
       "3                                 -1.014341   \n",
       "4                                 -1.015967   \n",
       "\n",
       "   secondary_cleaner.state.floatbank4_a_level  \\\n",
       "0                                   -0.472676   \n",
       "1                                   -0.532005   \n",
       "2                                   -0.473323   \n",
       "3                                   -0.440589   \n",
       "4                                   -0.420545   \n",
       "\n",
       "   secondary_cleaner.state.floatbank4_b_air  \\\n",
       "0                                 -0.614694   \n",
       "1                                 -0.643104   \n",
       "2                                 -0.650282   \n",
       "3                                 -0.633783   \n",
       "4                                 -0.642621   \n",
       "\n",
       "   secondary_cleaner.state.floatbank4_b_level  \\\n",
       "0                                   -0.751494   \n",
       "1                                   -0.693909   \n",
       "2                                   -0.690538   \n",
       "3                                   -0.691564   \n",
       "4                                   -0.689185   \n",
       "\n",
       "   secondary_cleaner.state.floatbank5_a_air  \\\n",
       "0                                 -1.167068   \n",
       "1                                 -1.147520   \n",
       "2                                 -1.142071   \n",
       "3                                 -1.159371   \n",
       "4                                 -1.167055   \n",
       "\n",
       "   secondary_cleaner.state.floatbank5_a_level  \\\n",
       "0                                   -0.378135   \n",
       "1                                   -0.425386   \n",
       "2                                   -0.424348   \n",
       "3                                   -0.400783   \n",
       "4                                   -0.463922   \n",
       "\n",
       "   secondary_cleaner.state.floatbank5_b_air  \\\n",
       "0                                 -0.847962   \n",
       "1                                 -0.864528   \n",
       "2                                 -0.859445   \n",
       "3                                 -0.865825   \n",
       "4                                 -0.880327   \n",
       "\n",
       "   secondary_cleaner.state.floatbank5_b_level  \\\n",
       "0                                   -0.422121   \n",
       "1                                   -0.424889   \n",
       "2                                   -0.423281   \n",
       "3                                   -0.416768   \n",
       "4                                   -0.419260   \n",
       "\n",
       "   secondary_cleaner.state.floatbank6_a_air  \\\n",
       "0                                 -0.987544   \n",
       "1                                 -1.014729   \n",
       "2                                 -1.009343   \n",
       "3                                 -1.013450   \n",
       "4                                 -1.015032   \n",
       "\n",
       "   secondary_cleaner.state.floatbank6_a_level  \n",
       "0                                   -2.578445  \n",
       "1                                   -2.419807  \n",
       "2                                   -2.462781  \n",
       "3                                   -2.425282  \n",
       "4                                   -2.464597  \n",
       "\n",
       "[5 rows x 52 columns]"
      ]
     },
     "metadata": {},
     "output_type": "display_data"
    },
    {
     "data": {
      "text/html": [
       "<div>\n",
       "<style scoped>\n",
       "    .dataframe tbody tr th:only-of-type {\n",
       "        vertical-align: middle;\n",
       "    }\n",
       "\n",
       "    .dataframe tbody tr th {\n",
       "        vertical-align: top;\n",
       "    }\n",
       "\n",
       "    .dataframe thead th {\n",
       "        text-align: right;\n",
       "    }\n",
       "</style>\n",
       "<table border=\"1\" class=\"dataframe\">\n",
       "  <thead>\n",
       "    <tr style=\"text-align: right;\">\n",
       "      <th></th>\n",
       "      <th>primary_cleaner.input.sulfate</th>\n",
       "      <th>primary_cleaner.input.depressant</th>\n",
       "      <th>primary_cleaner.input.feed_size</th>\n",
       "      <th>primary_cleaner.input.xanthate</th>\n",
       "      <th>primary_cleaner.state.floatbank8_a_air</th>\n",
       "      <th>primary_cleaner.state.floatbank8_a_level</th>\n",
       "      <th>primary_cleaner.state.floatbank8_b_air</th>\n",
       "      <th>primary_cleaner.state.floatbank8_b_level</th>\n",
       "      <th>primary_cleaner.state.floatbank8_c_air</th>\n",
       "      <th>primary_cleaner.state.floatbank8_c_level</th>\n",
       "      <th>...</th>\n",
       "      <th>secondary_cleaner.state.floatbank4_a_air</th>\n",
       "      <th>secondary_cleaner.state.floatbank4_a_level</th>\n",
       "      <th>secondary_cleaner.state.floatbank4_b_air</th>\n",
       "      <th>secondary_cleaner.state.floatbank4_b_level</th>\n",
       "      <th>secondary_cleaner.state.floatbank5_a_air</th>\n",
       "      <th>secondary_cleaner.state.floatbank5_a_level</th>\n",
       "      <th>secondary_cleaner.state.floatbank5_b_air</th>\n",
       "      <th>secondary_cleaner.state.floatbank5_b_level</th>\n",
       "      <th>secondary_cleaner.state.floatbank6_a_air</th>\n",
       "      <th>secondary_cleaner.state.floatbank6_a_level</th>\n",
       "    </tr>\n",
       "  </thead>\n",
       "  <tbody>\n",
       "    <tr>\n",
       "      <td>0</td>\n",
       "      <td>2.002886</td>\n",
       "      <td>1.771046</td>\n",
       "      <td>1.218541</td>\n",
       "      <td>0.325649</td>\n",
       "      <td>-1.584549</td>\n",
       "      <td>-0.347972</td>\n",
       "      <td>-1.559258</td>\n",
       "      <td>-0.333830</td>\n",
       "      <td>-1.518822</td>\n",
       "      <td>-0.345325</td>\n",
       "      <td>...</td>\n",
       "      <td>-1.369692</td>\n",
       "      <td>-0.380350</td>\n",
       "      <td>-1.391177</td>\n",
       "      <td>-0.693188</td>\n",
       "      <td>-1.507584</td>\n",
       "      <td>1.298534</td>\n",
       "      <td>-1.407743</td>\n",
       "      <td>-0.411331</td>\n",
       "      <td>1.243326</td>\n",
       "      <td>0.202268</td>\n",
       "    </tr>\n",
       "    <tr>\n",
       "      <td>1</td>\n",
       "      <td>2.128134</td>\n",
       "      <td>1.769333</td>\n",
       "      <td>1.218541</td>\n",
       "      <td>0.285638</td>\n",
       "      <td>-1.586115</td>\n",
       "      <td>-0.343334</td>\n",
       "      <td>-1.567453</td>\n",
       "      <td>-0.329767</td>\n",
       "      <td>-1.547900</td>\n",
       "      <td>-0.304121</td>\n",
       "      <td>...</td>\n",
       "      <td>-1.363586</td>\n",
       "      <td>-0.398058</td>\n",
       "      <td>-1.369437</td>\n",
       "      <td>-0.665030</td>\n",
       "      <td>-1.505570</td>\n",
       "      <td>-1.077576</td>\n",
       "      <td>-1.406637</td>\n",
       "      <td>-0.414440</td>\n",
       "      <td>0.943742</td>\n",
       "      <td>0.199385</td>\n",
       "    </tr>\n",
       "    <tr>\n",
       "      <td>2</td>\n",
       "      <td>2.124520</td>\n",
       "      <td>1.131436</td>\n",
       "      <td>0.732373</td>\n",
       "      <td>0.300963</td>\n",
       "      <td>-1.588303</td>\n",
       "      <td>-0.365704</td>\n",
       "      <td>-1.561398</td>\n",
       "      <td>-0.329375</td>\n",
       "      <td>-1.533739</td>\n",
       "      <td>-0.386048</td>\n",
       "      <td>...</td>\n",
       "      <td>-1.380494</td>\n",
       "      <td>-0.399469</td>\n",
       "      <td>-1.375919</td>\n",
       "      <td>-0.685332</td>\n",
       "      <td>-1.486164</td>\n",
       "      <td>-0.441435</td>\n",
       "      <td>-1.402051</td>\n",
       "      <td>-0.406130</td>\n",
       "      <td>0.939286</td>\n",
       "      <td>0.178343</td>\n",
       "    </tr>\n",
       "    <tr>\n",
       "      <td>3</td>\n",
       "      <td>2.126601</td>\n",
       "      <td>0.865017</td>\n",
       "      <td>0.489289</td>\n",
       "      <td>-0.063426</td>\n",
       "      <td>-1.579646</td>\n",
       "      <td>-0.310400</td>\n",
       "      <td>-1.572080</td>\n",
       "      <td>-0.313489</td>\n",
       "      <td>-1.518629</td>\n",
       "      <td>-0.279236</td>\n",
       "      <td>...</td>\n",
       "      <td>-1.368008</td>\n",
       "      <td>-0.391273</td>\n",
       "      <td>-1.380092</td>\n",
       "      <td>-0.662311</td>\n",
       "      <td>-1.516097</td>\n",
       "      <td>-0.443133</td>\n",
       "      <td>-1.397465</td>\n",
       "      <td>-0.409493</td>\n",
       "      <td>0.931122</td>\n",
       "      <td>0.228453</td>\n",
       "    </tr>\n",
       "    <tr>\n",
       "      <td>4</td>\n",
       "      <td>1.683692</td>\n",
       "      <td>0.463241</td>\n",
       "      <td>0.306976</td>\n",
       "      <td>-0.222730</td>\n",
       "      <td>-1.566942</td>\n",
       "      <td>-0.364047</td>\n",
       "      <td>-1.566900</td>\n",
       "      <td>-0.321913</td>\n",
       "      <td>-1.503597</td>\n",
       "      <td>-0.348314</td>\n",
       "      <td>...</td>\n",
       "      <td>-1.369372</td>\n",
       "      <td>-0.439196</td>\n",
       "      <td>-1.383947</td>\n",
       "      <td>-0.678017</td>\n",
       "      <td>-1.479826</td>\n",
       "      <td>-0.663113</td>\n",
       "      <td>-1.392879</td>\n",
       "      <td>-0.419360</td>\n",
       "      <td>0.940791</td>\n",
       "      <td>0.172218</td>\n",
       "    </tr>\n",
       "  </tbody>\n",
       "</table>\n",
       "<p>5 rows × 52 columns</p>\n",
       "</div>"
      ],
      "text/plain": [
       "   primary_cleaner.input.sulfate  primary_cleaner.input.depressant  \\\n",
       "0                       2.002886                          1.771046   \n",
       "1                       2.128134                          1.769333   \n",
       "2                       2.124520                          1.131436   \n",
       "3                       2.126601                          0.865017   \n",
       "4                       1.683692                          0.463241   \n",
       "\n",
       "   primary_cleaner.input.feed_size  primary_cleaner.input.xanthate  \\\n",
       "0                         1.218541                        0.325649   \n",
       "1                         1.218541                        0.285638   \n",
       "2                         0.732373                        0.300963   \n",
       "3                         0.489289                       -0.063426   \n",
       "4                         0.306976                       -0.222730   \n",
       "\n",
       "   primary_cleaner.state.floatbank8_a_air  \\\n",
       "0                               -1.584549   \n",
       "1                               -1.586115   \n",
       "2                               -1.588303   \n",
       "3                               -1.579646   \n",
       "4                               -1.566942   \n",
       "\n",
       "   primary_cleaner.state.floatbank8_a_level  \\\n",
       "0                                 -0.347972   \n",
       "1                                 -0.343334   \n",
       "2                                 -0.365704   \n",
       "3                                 -0.310400   \n",
       "4                                 -0.364047   \n",
       "\n",
       "   primary_cleaner.state.floatbank8_b_air  \\\n",
       "0                               -1.559258   \n",
       "1                               -1.567453   \n",
       "2                               -1.561398   \n",
       "3                               -1.572080   \n",
       "4                               -1.566900   \n",
       "\n",
       "   primary_cleaner.state.floatbank8_b_level  \\\n",
       "0                                 -0.333830   \n",
       "1                                 -0.329767   \n",
       "2                                 -0.329375   \n",
       "3                                 -0.313489   \n",
       "4                                 -0.321913   \n",
       "\n",
       "   primary_cleaner.state.floatbank8_c_air  \\\n",
       "0                               -1.518822   \n",
       "1                               -1.547900   \n",
       "2                               -1.533739   \n",
       "3                               -1.518629   \n",
       "4                               -1.503597   \n",
       "\n",
       "   primary_cleaner.state.floatbank8_c_level  ...  \\\n",
       "0                                 -0.345325  ...   \n",
       "1                                 -0.304121  ...   \n",
       "2                                 -0.386048  ...   \n",
       "3                                 -0.279236  ...   \n",
       "4                                 -0.348314  ...   \n",
       "\n",
       "   secondary_cleaner.state.floatbank4_a_air  \\\n",
       "0                                 -1.369692   \n",
       "1                                 -1.363586   \n",
       "2                                 -1.380494   \n",
       "3                                 -1.368008   \n",
       "4                                 -1.369372   \n",
       "\n",
       "   secondary_cleaner.state.floatbank4_a_level  \\\n",
       "0                                   -0.380350   \n",
       "1                                   -0.398058   \n",
       "2                                   -0.399469   \n",
       "3                                   -0.391273   \n",
       "4                                   -0.439196   \n",
       "\n",
       "   secondary_cleaner.state.floatbank4_b_air  \\\n",
       "0                                 -1.391177   \n",
       "1                                 -1.369437   \n",
       "2                                 -1.375919   \n",
       "3                                 -1.380092   \n",
       "4                                 -1.383947   \n",
       "\n",
       "   secondary_cleaner.state.floatbank4_b_level  \\\n",
       "0                                   -0.693188   \n",
       "1                                   -0.665030   \n",
       "2                                   -0.685332   \n",
       "3                                   -0.662311   \n",
       "4                                   -0.678017   \n",
       "\n",
       "   secondary_cleaner.state.floatbank5_a_air  \\\n",
       "0                                 -1.507584   \n",
       "1                                 -1.505570   \n",
       "2                                 -1.486164   \n",
       "3                                 -1.516097   \n",
       "4                                 -1.479826   \n",
       "\n",
       "   secondary_cleaner.state.floatbank5_a_level  \\\n",
       "0                                    1.298534   \n",
       "1                                   -1.077576   \n",
       "2                                   -0.441435   \n",
       "3                                   -0.443133   \n",
       "4                                   -0.663113   \n",
       "\n",
       "   secondary_cleaner.state.floatbank5_b_air  \\\n",
       "0                                 -1.407743   \n",
       "1                                 -1.406637   \n",
       "2                                 -1.402051   \n",
       "3                                 -1.397465   \n",
       "4                                 -1.392879   \n",
       "\n",
       "   secondary_cleaner.state.floatbank5_b_level  \\\n",
       "0                                   -0.411331   \n",
       "1                                   -0.414440   \n",
       "2                                   -0.406130   \n",
       "3                                   -0.409493   \n",
       "4                                   -0.419360   \n",
       "\n",
       "   secondary_cleaner.state.floatbank6_a_air  \\\n",
       "0                                  1.243326   \n",
       "1                                  0.943742   \n",
       "2                                  0.939286   \n",
       "3                                  0.931122   \n",
       "4                                  0.940791   \n",
       "\n",
       "   secondary_cleaner.state.floatbank6_a_level  \n",
       "0                                    0.202268  \n",
       "1                                    0.199385  \n",
       "2                                    0.178343  \n",
       "3                                    0.228453  \n",
       "4                                    0.172218  \n",
       "\n",
       "[5 rows x 52 columns]"
      ]
     },
     "metadata": {},
     "output_type": "display_data"
    }
   ],
   "source": [
    "scaler = StandardScaler()\n",
    "columns = features_train.columns\n",
    "\n",
    "scaler.fit(features_train[columns]) \n",
    "features_train[columns] = scaler.transform(features_train[columns])\n",
    "features_test[columns] = scaler.transform(features_test[columns])\n",
    "\n",
    "display(features_train.head())\n",
    "display(features_test.head())"
   ]
  },
  {
   "cell_type": "markdown",
   "metadata": {},
   "source": [
    "## Модель"
   ]
  },
  {
   "cell_type": "markdown",
   "metadata": {},
   "source": [
    "### Рассчет sMAPE"
   ]
  },
  {
   "cell_type": "markdown",
   "metadata": {},
   "source": [
    "Напишем функцию для вычисления итоговой sMAPE"
   ]
  },
  {
   "cell_type": "code",
   "execution_count": 20,
   "metadata": {},
   "outputs": [],
   "source": [
    "def smape(target, predictions, **kwargs):\n",
    "    target = np.array(target)\n",
    "    smape = (abs(target - predictions) / ((abs(target) + abs(predictions)) / 2)).sum() / len(target) * 100\n",
    "    return smape"
   ]
  },
  {
   "cell_type": "markdown",
   "metadata": {},
   "source": [
    "Функция для рассчета итоговой метрики:"
   ]
  },
  {
   "cell_type": "code",
   "execution_count": 21,
   "metadata": {},
   "outputs": [],
   "source": [
    "def smape_total(smape_rougher, smape_final):\n",
    "    smape_total = 0.25 * smape_rougher + 0.75 * smape_final\n",
    "    return smape_total"
   ]
  },
  {
   "cell_type": "markdown",
   "metadata": {},
   "source": [
    "### Обучение и настройка моделей"
   ]
  },
  {
   "cell_type": "markdown",
   "metadata": {},
   "source": [
    "Перейдем к обучению и настройке моделей.  \n",
    "\n",
    "Предварительно настроим собственную функцию оценки модели."
   ]
  },
  {
   "cell_type": "code",
   "execution_count": 22,
   "metadata": {},
   "outputs": [],
   "source": [
    "my_scorer = make_scorer(smape, greater_is_better=False)"
   ]
  },
  {
   "cell_type": "markdown",
   "metadata": {},
   "source": [
    "Проведем предварительное тестирование нескольких алгоритмов обучения (Случайный лес, Линейная регрессия и Регуляризованная линейная регрессия - Лассо-регрессия)"
   ]
  },
  {
   "cell_type": "code",
   "execution_count": 23,
   "metadata": {},
   "outputs": [
    {
     "name": "stdout",
     "output_type": "stream",
     "text": [
      "Модель Случайный лес\n",
      "Средняя оценка качества модели: -10.134436598253384\n",
      "\n",
      "Модель Линейная регрессия\n",
      "Средняя оценка качества модели: -10.175299457169455\n",
      "\n",
      "Модель Лассо-регрессия\n",
      "Средняя оценка качества модели: -8.753850452387287\n",
      "\n"
     ]
    }
   ],
   "source": [
    "models = [RandomForestRegressor(random_state=12345), LinearRegression(),\n",
    "          Lasso(random_state=12345)]\n",
    "m_names = ['Случайный лес', 'Линейная регрессия', 'Лассо-регрессия']\n",
    "\n",
    "for model, name in zip(models, m_names):\n",
    "    m = model\n",
    "    scores = cross_val_score(m, features_train, target_train_final, scoring = my_scorer, cv=5)\n",
    "    final_score = scores.mean()\n",
    "    print('Модель ' + name)\n",
    "    print('Средняя оценка качества модели:', final_score)\n",
    "    print()   "
   ]
  },
  {
   "cell_type": "markdown",
   "metadata": {},
   "source": [
    "Лучший результат показывает модель Лассо-регрессия. Выполним поиск и обучение наилучших моделей с подбором гиперпараметров и кросс-валидацией."
   ]
  },
  {
   "cell_type": "code",
   "execution_count": 24,
   "metadata": {},
   "outputs": [
    {
     "name": "stdout",
     "output_type": "stream",
     "text": [
      "Лучший результат sMAPE для \"rougher.output.recovery\": -6.25032638060374\n",
      "Гиперпараметр alpha: 0.18\n",
      "\n",
      "Лучший результат sMAPE для \"final.output.recovery\": -8.581416243392722\n",
      "Гиперпараметр alpha: 0.48\n",
      "\n",
      "CPU times: user 1min 6s, sys: 1min 6s, total: 2min 13s\n",
      "Wall time: 2min 13s\n"
     ]
    }
   ],
   "source": [
    "%%time\n",
    "best_score_rougher = 100\n",
    "best_alpha_rougher = 0\n",
    "\n",
    "best_score_final = 100\n",
    "best_alpha_final = 0\n",
    "\n",
    "for alpha in np.arange(0, 1, 0.06):\n",
    "    #print('a:', alpha)\n",
    "    model = Lasso(alpha=alpha, random_state=12345)\n",
    "    \n",
    "    scores_rougher = cross_val_score(model, features_train, target_train_rougher,\n",
    "                                     scoring = my_scorer, cv=5)\n",
    "    mean_score_rougher = scores_rougher.mean()\n",
    "    #print('score_rougher:', mean_score_rougher)\n",
    "    if abs(mean_score_rougher) < abs(best_score_rougher):\n",
    "        best_score_rougher = mean_score_rougher\n",
    "        best_alpha_rougher = alpha          \n",
    "    \n",
    "    scores_final = cross_val_score(model, features_train, target_train_final,\n",
    "                                   scoring = my_scorer, cv=5)\n",
    "    mean_score_final = scores_final.mean()\n",
    "    #print('score_final:', mean_score_final)\n",
    "    if abs(mean_score_final) < abs(best_score_final):\n",
    "        best_score_final = mean_score_final\n",
    "        best_alpha_final = alpha       \n",
    "\n",
    "print('Лучший результат sMAPE для \"rougher.output.recovery\":', best_score_rougher)\n",
    "print('Гиперпараметр alpha:', best_alpha_rougher)\n",
    "print()\n",
    "print('Лучший результат sMAPE для \"final.output.recovery\":', best_score_final)\n",
    "print('Гиперпараметр alpha:', best_alpha_final)\n",
    "print()"
   ]
  },
  {
   "cell_type": "markdown",
   "metadata": {},
   "source": [
    "### Тестирование модели"
   ]
  },
  {
   "cell_type": "markdown",
   "metadata": {},
   "source": [
    "Обучим модели с лучшими гиперпараметрами и проверим какой результат будет на тестовой выборке"
   ]
  },
  {
   "cell_type": "code",
   "execution_count": 25,
   "metadata": {},
   "outputs": [
    {
     "name": "stdout",
     "output_type": "stream",
     "text": [
      "Итоговое sMAPE на тестовой выборке: 8.053402415214276\n"
     ]
    }
   ],
   "source": [
    "best_model_rougher = Lasso(alpha=0.18, random_state=12345)\n",
    "best_model_rougher.fit(features_train, target_train_rougher)\n",
    "predict_rougher = best_model_rougher.predict(features_test)\n",
    "\n",
    "best_model_final = Lasso(alpha=0.48, random_state=12345)\n",
    "best_model_final.fit(features_train, target_train_final)\n",
    "predict_final = best_model_final.predict(features_test)\n",
    "\n",
    "result_rougher = smape(target_test_rougher, predict_rougher)\n",
    "result_final = smape(target_test_final, predict_final)\n",
    "print('Итоговое sMAPE на тестовой выборке:', smape_total(result_rougher, result_final))"
   ]
  },
  {
   "cell_type": "markdown",
   "metadata": {},
   "source": [
    "Проверим модель на адекватность, сравним с медианной константной моделью"
   ]
  },
  {
   "cell_type": "code",
   "execution_count": 26,
   "metadata": {},
   "outputs": [
    {
     "name": "stdout",
     "output_type": "stream",
     "text": [
      "Итоговое sMAPE для медианной константной модели: 8.964888412605294\n"
     ]
    }
   ],
   "source": [
    "model_median = DummyRegressor(strategy='median')\n",
    "\n",
    "model_median.fit(features_train, target_train_rougher)\n",
    "predict_rougher_const = model_median.predict(features_test)\n",
    "\n",
    "model_median.fit(features_train, target_train_final)\n",
    "predict_final_const = model_median.predict(features_test)\n",
    "\n",
    "result_rougher_const = smape(target_test_rougher, predict_rougher_const)\n",
    "result_final_const = smape(target_test_final, predict_final_const)\n",
    "print('Итоговое sMAPE для медианной константной модели:', \n",
    "      smape_total(result_rougher_const, result_final_const))"
   ]
  },
  {
   "cell_type": "markdown",
   "metadata": {},
   "source": [
    "Результат наших моделей лучше, чем у константной,  8.05 против 8.96. Модель прошла проверку на адекватность."
   ]
  },
  {
   "cell_type": "markdown",
   "metadata": {},
   "source": [
    "## Заключение"
   ]
  },
  {
   "cell_type": "markdown",
   "metadata": {},
   "source": [
    "Для решения поставленной задачи, были исследованы данные с параметрами добычи и очистки золотосодержащей руды.  \n",
    "Была проверена правильность вычисления эффективности обогащения. Исследовано изменение концентрации элементов на каждом этапе очистки, проанализированы распределения размеров гранул и суммарных концентраций веществ. На этапе подготовки к обучению моделей были удалены пропуски в данных, заолнены недостающие столбцы, данные были стандартизированы.  \n",
    "Проведно предварительное тестирование алгоритмов обучения: Случайный лес, Линейная регрессия и Лассо-регрессия. Лучший результат показала модель Лассо-регрессии. Были проведены дополнительные исследования и подобраны гиперпараметры для данной модели, проведена кросс-валидация. Итоговая модель прошла проверку на адекватность с результатом sMAPE 8.05."
   ]
  }
 ],
 "metadata": {
  "ExecuteTimeLog": [
   {
    "duration": 1501,
    "start_time": "2021-10-29T19:55:49.447Z"
   },
   {
    "duration": 2218,
    "start_time": "2021-10-29T20:29:12.215Z"
   },
   {
    "duration": 892,
    "start_time": "2021-10-29T20:31:17.021Z"
   },
   {
    "duration": 84,
    "start_time": "2021-10-29T20:31:20.954Z"
   },
   {
    "duration": 56,
    "start_time": "2021-10-29T20:36:28.631Z"
   },
   {
    "duration": 1230,
    "start_time": "2021-10-30T17:45:42.189Z"
   },
   {
    "duration": 748,
    "start_time": "2021-10-30T17:45:45.858Z"
   },
   {
    "duration": 54,
    "start_time": "2021-10-30T17:45:48.192Z"
   },
   {
    "duration": 38,
    "start_time": "2021-10-30T17:46:46.954Z"
   },
   {
    "duration": 13,
    "start_time": "2021-10-30T19:02:23.702Z"
   },
   {
    "duration": 474,
    "start_time": "2021-10-30T19:07:38.220Z"
   },
   {
    "duration": 340,
    "start_time": "2021-10-30T19:08:21.773Z"
   },
   {
    "duration": 11,
    "start_time": "2021-10-30T19:09:19.428Z"
   },
   {
    "duration": 6,
    "start_time": "2021-10-30T19:10:21.353Z"
   },
   {
    "duration": 6,
    "start_time": "2021-10-30T19:11:07.819Z"
   },
   {
    "duration": 343,
    "start_time": "2021-10-30T19:22:54.873Z"
   },
   {
    "duration": 3,
    "start_time": "2021-10-30T19:23:36.096Z"
   },
   {
    "duration": 9,
    "start_time": "2021-10-30T19:23:43.229Z"
   },
   {
    "duration": 7,
    "start_time": "2021-10-30T19:26:56.275Z"
   },
   {
    "duration": 11,
    "start_time": "2021-10-30T19:38:12.435Z"
   },
   {
    "duration": 12,
    "start_time": "2021-10-30T19:38:54.620Z"
   },
   {
    "duration": 12,
    "start_time": "2021-10-30T19:39:02.495Z"
   },
   {
    "duration": 10,
    "start_time": "2021-10-30T19:39:32.359Z"
   },
   {
    "duration": 11,
    "start_time": "2021-10-30T19:40:16.215Z"
   },
   {
    "duration": 10,
    "start_time": "2021-10-30T19:40:28.735Z"
   },
   {
    "duration": 11,
    "start_time": "2021-10-30T19:42:44.948Z"
   },
   {
    "duration": 12,
    "start_time": "2021-10-30T19:44:27.708Z"
   },
   {
    "duration": 11,
    "start_time": "2021-10-30T19:50:43.063Z"
   },
   {
    "duration": 137049,
    "start_time": "2021-10-30T19:55:32.334Z"
   },
   {
    "duration": 4,
    "start_time": "2021-10-30T20:13:27.655Z"
   },
   {
    "duration": 3,
    "start_time": "2021-10-30T20:14:23.294Z"
   },
   {
    "duration": 4,
    "start_time": "2021-10-30T20:18:35.441Z"
   },
   {
    "duration": 332,
    "start_time": "2021-10-30T20:19:13.710Z"
   },
   {
    "duration": 330,
    "start_time": "2021-10-30T20:19:20.707Z"
   },
   {
    "duration": 350,
    "start_time": "2021-10-30T20:19:33.458Z"
   },
   {
    "duration": 5,
    "start_time": "2021-10-30T20:19:48.905Z"
   },
   {
    "duration": 3,
    "start_time": "2021-10-30T20:37:57.910Z"
   },
   {
    "duration": 4,
    "start_time": "2021-10-30T20:38:12.404Z"
   },
   {
    "duration": 5,
    "start_time": "2021-10-30T20:38:37.480Z"
   },
   {
    "duration": 5,
    "start_time": "2021-10-30T20:50:20.998Z"
   },
   {
    "duration": 7,
    "start_time": "2021-10-30T20:52:08.046Z"
   },
   {
    "duration": 7,
    "start_time": "2021-10-30T20:52:33.808Z"
   },
   {
    "duration": 1305,
    "start_time": "2021-10-31T20:43:47.962Z"
   },
   {
    "duration": 758,
    "start_time": "2021-10-31T20:43:49.270Z"
   },
   {
    "duration": 67,
    "start_time": "2021-10-31T20:43:50.030Z"
   },
   {
    "duration": 17,
    "start_time": "2021-10-31T20:43:50.099Z"
   },
   {
    "duration": 15,
    "start_time": "2021-10-31T20:43:50.118Z"
   },
   {
    "duration": 142970,
    "start_time": "2021-10-31T20:43:50.136Z"
   },
   {
    "duration": 6,
    "start_time": "2021-10-31T20:46:13.108Z"
   },
   {
    "duration": 9,
    "start_time": "2021-10-31T20:46:43.458Z"
   },
   {
    "duration": 137110,
    "start_time": "2021-10-31T20:48:25.133Z"
   },
   {
    "duration": 441,
    "start_time": "2021-10-31T20:55:36.559Z"
   },
   {
    "duration": 58,
    "start_time": "2021-10-31T20:56:40.815Z"
   },
   {
    "duration": 173,
    "start_time": "2021-10-31T20:56:50.823Z"
   },
   {
    "duration": 187,
    "start_time": "2021-10-31T20:59:22.753Z"
   },
   {
    "duration": 229,
    "start_time": "2021-10-31T21:00:53.428Z"
   },
   {
    "duration": 341,
    "start_time": "2021-10-31T21:17:02.804Z"
   },
   {
    "duration": 350,
    "start_time": "2021-10-31T21:18:28.306Z"
   },
   {
    "duration": 350,
    "start_time": "2021-10-31T21:18:41.725Z"
   },
   {
    "duration": 384,
    "start_time": "2021-10-31T21:18:49.330Z"
   },
   {
    "duration": 715,
    "start_time": "2021-10-31T21:19:51.410Z"
   },
   {
    "duration": 395,
    "start_time": "2021-10-31T21:20:06.566Z"
   },
   {
    "duration": 386,
    "start_time": "2021-10-31T21:21:53.719Z"
   },
   {
    "duration": 351,
    "start_time": "2021-10-31T21:50:23.913Z"
   },
   {
    "duration": 228101,
    "start_time": "2021-10-31T21:50:50.719Z"
   },
   {
    "duration": 11,
    "start_time": "2021-10-31T21:56:56.268Z"
   },
   {
    "duration": 9,
    "start_time": "2021-10-31T22:04:42.958Z"
   },
   {
    "duration": 165,
    "start_time": "2021-10-31T22:05:45.583Z"
   },
   {
    "duration": 175,
    "start_time": "2021-10-31T22:07:32.979Z"
   },
   {
    "duration": 5546,
    "start_time": "2021-10-31T22:13:48.445Z"
   },
   {
    "duration": 187,
    "start_time": "2021-10-31T22:14:02.082Z"
   },
   {
    "duration": 1158,
    "start_time": "2021-11-01T19:46:19.480Z"
   },
   {
    "duration": 721,
    "start_time": "2021-11-01T19:46:23.656Z"
   },
   {
    "duration": 50,
    "start_time": "2021-11-01T19:46:28.349Z"
   },
   {
    "duration": 16,
    "start_time": "2021-11-01T19:46:34.277Z"
   },
   {
    "duration": 14,
    "start_time": "2021-11-01T19:46:43.244Z"
   },
   {
    "duration": 5,
    "start_time": "2021-11-01T19:46:54.065Z"
   },
   {
    "duration": 9,
    "start_time": "2021-11-01T19:47:18.711Z"
   },
   {
    "duration": 215,
    "start_time": "2021-11-01T19:47:22.623Z"
   },
   {
    "duration": 93,
    "start_time": "2021-11-01T19:47:26.540Z"
   },
   {
    "duration": 339,
    "start_time": "2021-11-01T19:47:35.331Z"
   },
   {
    "duration": 10,
    "start_time": "2021-11-01T19:47:54.573Z"
   },
   {
    "duration": 183,
    "start_time": "2021-11-01T19:47:58.761Z"
   },
   {
    "duration": 11,
    "start_time": "2021-11-01T19:48:46.370Z"
   },
   {
    "duration": 176,
    "start_time": "2021-11-01T19:48:53.540Z"
   },
   {
    "duration": 10,
    "start_time": "2021-11-01T19:49:31.363Z"
   },
   {
    "duration": 189,
    "start_time": "2021-11-01T19:49:35.141Z"
   },
   {
    "duration": 10,
    "start_time": "2021-11-01T20:08:46.283Z"
   },
   {
    "duration": 170,
    "start_time": "2021-11-01T20:31:46.887Z"
   },
   {
    "duration": 262,
    "start_time": "2021-11-01T20:34:50.940Z"
   },
   {
    "duration": 18,
    "start_time": "2021-11-01T21:56:37.211Z"
   },
   {
    "duration": 11,
    "start_time": "2021-11-01T22:16:54.110Z"
   },
   {
    "duration": 1608,
    "start_time": "2021-11-02T20:06:36.666Z"
   },
   {
    "duration": 5321,
    "start_time": "2021-11-02T20:06:41.112Z"
   },
   {
    "duration": 103,
    "start_time": "2021-11-02T20:06:50.225Z"
   },
   {
    "duration": 20,
    "start_time": "2021-11-02T20:07:01.370Z"
   },
   {
    "duration": 8,
    "start_time": "2021-11-02T20:07:11.751Z"
   },
   {
    "duration": 12,
    "start_time": "2021-11-02T20:07:27.459Z"
   },
   {
    "duration": 370,
    "start_time": "2021-11-02T20:07:31.521Z"
   },
   {
    "duration": 401,
    "start_time": "2021-11-02T20:10:31.333Z"
   },
   {
    "duration": 15,
    "start_time": "2021-11-02T20:10:38.403Z"
   },
   {
    "duration": 330,
    "start_time": "2021-11-02T20:10:41.497Z"
   },
   {
    "duration": 16,
    "start_time": "2021-11-02T20:10:48.566Z"
   },
   {
    "duration": 283,
    "start_time": "2021-11-02T20:10:53.382Z"
   },
   {
    "duration": 327,
    "start_time": "2021-11-02T20:10:57.684Z"
   },
   {
    "duration": 24,
    "start_time": "2021-11-02T20:11:49.865Z"
   },
   {
    "duration": 4,
    "start_time": "2021-11-02T20:18:13.389Z"
   },
   {
    "duration": 1631,
    "start_time": "2021-11-03T10:15:30.317Z"
   },
   {
    "duration": 905,
    "start_time": "2021-11-03T10:15:34.312Z"
   },
   {
    "duration": 23,
    "start_time": "2021-11-03T10:15:45.003Z"
   },
   {
    "duration": 13,
    "start_time": "2021-11-03T10:15:55.146Z"
   },
   {
    "duration": 12,
    "start_time": "2021-11-03T10:16:07.116Z"
   },
   {
    "duration": 373,
    "start_time": "2021-11-03T10:16:09.961Z"
   },
   {
    "duration": 15,
    "start_time": "2021-11-03T10:16:21.018Z"
   },
   {
    "duration": 322,
    "start_time": "2021-11-03T10:16:24.784Z"
   },
   {
    "duration": 16,
    "start_time": "2021-11-03T10:16:44.322Z"
   },
   {
    "duration": 284,
    "start_time": "2021-11-03T10:16:48.656Z"
   },
   {
    "duration": 330,
    "start_time": "2021-11-03T10:16:51.874Z"
   },
   {
    "duration": 29,
    "start_time": "2021-11-03T10:17:58.837Z"
   },
   {
    "duration": 6,
    "start_time": "2021-11-03T11:07:12.757Z"
   },
   {
    "duration": 40,
    "start_time": "2021-11-03T11:07:15.716Z"
   },
   {
    "duration": 66,
    "start_time": "2021-11-03T11:21:23.328Z"
   },
   {
    "duration": 71,
    "start_time": "2021-11-03T11:21:56.456Z"
   },
   {
    "duration": 518,
    "start_time": "2021-11-03T11:23:38.530Z"
   },
   {
    "duration": 74,
    "start_time": "2021-11-03T11:23:50.955Z"
   },
   {
    "duration": 58,
    "start_time": "2021-11-03T11:24:12.789Z"
   },
   {
    "duration": 31,
    "start_time": "2021-11-03T11:24:39.593Z"
   },
   {
    "duration": 371,
    "start_time": "2021-11-03T11:26:51.623Z"
   },
   {
    "duration": 5,
    "start_time": "2021-11-03T11:32:32.572Z"
   },
   {
    "duration": 428,
    "start_time": "2021-11-03T11:32:49.531Z"
   },
   {
    "duration": 614,
    "start_time": "2021-11-03T11:37:38.801Z"
   },
   {
    "duration": 707,
    "start_time": "2021-11-03T11:38:06.405Z"
   },
   {
    "duration": 625,
    "start_time": "2021-11-03T11:38:19.895Z"
   },
   {
    "duration": 369,
    "start_time": "2021-11-03T11:38:32.089Z"
   },
   {
    "duration": 13551,
    "start_time": "2021-11-03T11:39:34.666Z"
   },
   {
    "duration": 382,
    "start_time": "2021-11-03T11:40:12.604Z"
   },
   {
    "duration": 482,
    "start_time": "2021-11-03T11:40:41.814Z"
   },
   {
    "duration": 365,
    "start_time": "2021-11-03T11:42:20.502Z"
   },
   {
    "duration": 838,
    "start_time": "2021-11-03T11:45:52.608Z"
   },
   {
    "duration": 648,
    "start_time": "2021-11-03T11:46:20.440Z"
   },
   {
    "duration": 375,
    "start_time": "2021-11-03T11:46:33.952Z"
   },
   {
    "duration": 426,
    "start_time": "2021-11-03T11:46:59.231Z"
   },
   {
    "duration": 818,
    "start_time": "2021-11-03T11:48:02.276Z"
   },
   {
    "duration": 360,
    "start_time": "2021-11-03T11:51:55.486Z"
   },
   {
    "duration": 620,
    "start_time": "2021-11-03T11:53:15.922Z"
   },
   {
    "duration": 411,
    "start_time": "2021-11-03T12:00:42.595Z"
   },
   {
    "duration": 1112,
    "start_time": "2021-11-03T12:00:54.644Z"
   },
   {
    "duration": 389,
    "start_time": "2021-11-03T12:01:03.980Z"
   },
   {
    "duration": 921,
    "start_time": "2021-11-03T12:01:12.049Z"
   },
   {
    "duration": 377,
    "start_time": "2021-11-03T12:01:37.675Z"
   },
   {
    "duration": 384,
    "start_time": "2021-11-03T12:05:16.664Z"
   },
   {
    "duration": 1362,
    "start_time": "2021-11-03T12:05:49.360Z"
   },
   {
    "duration": 428,
    "start_time": "2021-11-03T12:16:25.271Z"
   },
   {
    "duration": 398,
    "start_time": "2021-11-03T12:16:37.408Z"
   },
   {
    "duration": 1247,
    "start_time": "2021-11-03T19:33:00.483Z"
   },
   {
    "duration": 742,
    "start_time": "2021-11-03T19:33:03.869Z"
   },
   {
    "duration": 19,
    "start_time": "2021-11-03T19:33:12.047Z"
   },
   {
    "duration": 9,
    "start_time": "2021-11-03T19:33:20.496Z"
   },
   {
    "duration": 8,
    "start_time": "2021-11-03T19:33:39.731Z"
   },
   {
    "duration": 245,
    "start_time": "2021-11-03T19:33:42.668Z"
   },
   {
    "duration": 12,
    "start_time": "2021-11-03T19:33:57.553Z"
   },
   {
    "duration": 193,
    "start_time": "2021-11-03T19:34:01.697Z"
   },
   {
    "duration": 178,
    "start_time": "2021-11-03T19:34:19.817Z"
   },
   {
    "duration": 202,
    "start_time": "2021-11-03T19:34:25.765Z"
   },
   {
    "duration": 3,
    "start_time": "2021-11-03T19:34:47.813Z"
   },
   {
    "duration": 234,
    "start_time": "2021-11-03T19:34:49.953Z"
   },
   {
    "duration": 307,
    "start_time": "2021-11-03T19:35:45.677Z"
   },
   {
    "duration": 23,
    "start_time": "2021-11-03T19:53:30.911Z"
   },
   {
    "duration": 7326,
    "start_time": "2021-11-03T19:58:57.221Z"
   },
   {
    "duration": 282,
    "start_time": "2021-11-03T19:59:17.120Z"
   },
   {
    "duration": 273,
    "start_time": "2021-11-03T20:00:28.809Z"
   },
   {
    "duration": 1437,
    "start_time": "2021-11-03T20:12:14.047Z"
   },
   {
    "duration": 820,
    "start_time": "2021-11-03T20:12:21.094Z"
   },
   {
    "duration": 111,
    "start_time": "2021-11-03T20:12:28.513Z"
   },
   {
    "duration": 9,
    "start_time": "2021-11-03T20:12:32.863Z"
   },
   {
    "duration": 235,
    "start_time": "2021-11-03T20:12:43.568Z"
   },
   {
    "duration": 13,
    "start_time": "2021-11-03T20:12:51.634Z"
   },
   {
    "duration": 208,
    "start_time": "2021-11-03T20:12:59.342Z"
   },
   {
    "duration": 187,
    "start_time": "2021-11-03T20:13:09.033Z"
   },
   {
    "duration": 206,
    "start_time": "2021-11-03T20:13:13.177Z"
   },
   {
    "duration": 3,
    "start_time": "2021-11-03T20:13:18.405Z"
   },
   {
    "duration": 261,
    "start_time": "2021-11-03T20:13:22.428Z"
   },
   {
    "duration": 420,
    "start_time": "2021-11-03T20:13:29.475Z"
   },
   {
    "duration": 604744,
    "start_time": "2021-11-03T20:13:41.657Z"
   },
   {
    "duration": 191710,
    "start_time": "2021-11-03T20:24:28.357Z"
   },
   {
    "duration": 900,
    "start_time": "2021-11-03T20:30:04.431Z"
   },
   {
    "duration": 776,
    "start_time": "2021-11-03T20:32:55.850Z"
   },
   {
    "duration": 717,
    "start_time": "2021-11-03T20:36:24.663Z"
   },
   {
    "duration": 803,
    "start_time": "2021-11-03T20:37:17.522Z"
   },
   {
    "duration": 273,
    "start_time": "2021-11-03T20:43:12.196Z"
   },
   {
    "duration": 5,
    "start_time": "2021-11-03T20:43:30.614Z"
   },
   {
    "duration": 287,
    "start_time": "2021-11-03T20:44:08.314Z"
   },
   {
    "duration": 260,
    "start_time": "2021-11-03T20:45:54.504Z"
   },
   {
    "duration": 15,
    "start_time": "2021-11-03T20:46:02.113Z"
   },
   {
    "duration": 232,
    "start_time": "2021-11-03T20:46:35.221Z"
   },
   {
    "duration": 264,
    "start_time": "2021-11-03T20:49:03.771Z"
   },
   {
    "duration": 370,
    "start_time": "2021-11-03T20:49:18.024Z"
   },
   {
    "duration": 301,
    "start_time": "2021-11-03T20:50:26.569Z"
   },
   {
    "duration": 422,
    "start_time": "2021-11-03T20:51:43.582Z"
   },
   {
    "duration": 294,
    "start_time": "2021-11-03T20:51:55.676Z"
   },
   {
    "duration": 303,
    "start_time": "2021-11-03T20:52:08.433Z"
   },
   {
    "duration": 4,
    "start_time": "2021-11-03T20:55:57.313Z"
   },
   {
    "duration": 278,
    "start_time": "2021-11-03T20:56:01.399Z"
   },
   {
    "duration": 268,
    "start_time": "2021-11-03T20:56:19.726Z"
   },
   {
    "duration": 4,
    "start_time": "2021-11-03T21:32:57.963Z"
   },
   {
    "duration": 246,
    "start_time": "2021-11-03T21:33:03.079Z"
   },
   {
    "duration": 1160,
    "start_time": "2021-11-03T21:40:45.647Z"
   },
   {
    "duration": 791,
    "start_time": "2021-11-03T21:40:49.434Z"
   },
   {
    "duration": 17,
    "start_time": "2021-11-03T21:41:04.657Z"
   },
   {
    "duration": 8,
    "start_time": "2021-11-03T21:41:10.229Z"
   },
   {
    "duration": 9,
    "start_time": "2021-11-03T21:41:27.014Z"
   },
   {
    "duration": 222,
    "start_time": "2021-11-03T21:41:30.277Z"
   },
   {
    "duration": 10,
    "start_time": "2021-11-03T21:41:39.499Z"
   },
   {
    "duration": 177,
    "start_time": "2021-11-03T21:41:43.339Z"
   },
   {
    "duration": 165,
    "start_time": "2021-11-03T21:41:46.887Z"
   },
   {
    "duration": 195,
    "start_time": "2021-11-03T21:41:50.423Z"
   },
   {
    "duration": 3,
    "start_time": "2021-11-03T21:41:58.931Z"
   },
   {
    "duration": 220,
    "start_time": "2021-11-03T21:42:01.953Z"
   },
   {
    "duration": 323,
    "start_time": "2021-11-03T21:42:14.728Z"
   },
   {
    "duration": 248,
    "start_time": "2021-11-03T22:10:25.060Z"
   },
   {
    "duration": 339,
    "start_time": "2021-11-03T22:32:10.209Z"
   },
   {
    "duration": 7751,
    "start_time": "2021-11-03T22:32:27.823Z"
   },
   {
    "duration": 9,
    "start_time": "2021-11-03T22:34:08.084Z"
   },
   {
    "duration": 6,
    "start_time": "2021-11-03T22:39:28.904Z"
   },
   {
    "duration": 269,
    "start_time": "2021-11-03T22:39:54.933Z"
   },
   {
    "duration": 276,
    "start_time": "2021-11-03T22:40:49.179Z"
   },
   {
    "duration": 6766,
    "start_time": "2021-11-03T22:44:54.355Z"
   },
   {
    "duration": 85,
    "start_time": "2021-11-03T22:49:36.480Z"
   },
   {
    "duration": 84,
    "start_time": "2021-11-03T22:56:05.386Z"
   },
   {
    "duration": 260,
    "start_time": "2021-11-03T23:00:31.757Z"
   },
   {
    "duration": 106,
    "start_time": "2021-11-03T23:00:45.891Z"
   },
   {
    "duration": 255,
    "start_time": "2021-11-03T23:01:05.766Z"
   },
   {
    "duration": 264,
    "start_time": "2021-11-03T23:01:12.998Z"
   },
   {
    "duration": 285,
    "start_time": "2021-11-03T23:01:45.091Z"
   },
   {
    "duration": 94,
    "start_time": "2021-11-03T23:04:55.131Z"
   },
   {
    "duration": 79,
    "start_time": "2021-11-03T23:07:14.198Z"
   },
   {
    "duration": 228,
    "start_time": "2021-11-03T23:07:25.974Z"
   },
   {
    "duration": 252,
    "start_time": "2021-11-03T23:07:48.897Z"
   },
   {
    "duration": 237,
    "start_time": "2021-11-03T23:08:28.523Z"
   },
   {
    "duration": 243,
    "start_time": "2021-11-03T23:09:10.387Z"
   },
   {
    "duration": 262,
    "start_time": "2021-11-03T23:09:18.558Z"
   },
   {
    "duration": 1547,
    "start_time": "2021-11-04T21:20:26.268Z"
   },
   {
    "duration": 884,
    "start_time": "2021-11-04T21:20:30.665Z"
   },
   {
    "duration": 20,
    "start_time": "2021-11-04T21:20:34.768Z"
   },
   {
    "duration": 16,
    "start_time": "2021-11-04T21:21:02.337Z"
   },
   {
    "duration": 12,
    "start_time": "2021-11-04T21:22:48.004Z"
   },
   {
    "duration": 357,
    "start_time": "2021-11-04T21:22:53.391Z"
   },
   {
    "duration": 18,
    "start_time": "2021-11-04T21:22:57.905Z"
   },
   {
    "duration": 306,
    "start_time": "2021-11-04T21:23:00.786Z"
   },
   {
    "duration": 17,
    "start_time": "2021-11-04T21:23:11.645Z"
   },
   {
    "duration": 276,
    "start_time": "2021-11-04T21:23:25.430Z"
   },
   {
    "duration": 315,
    "start_time": "2021-11-04T21:23:38.118Z"
   },
   {
    "duration": 4,
    "start_time": "2021-11-04T21:23:42.022Z"
   },
   {
    "duration": 125,
    "start_time": "2021-11-04T21:23:46.588Z"
   },
   {
    "duration": 1485,
    "start_time": "2021-11-04T21:24:36.535Z"
   },
   {
    "duration": 860,
    "start_time": "2021-11-04T21:24:40.516Z"
   },
   {
    "duration": 20,
    "start_time": "2021-11-04T21:24:44.102Z"
   },
   {
    "duration": 11,
    "start_time": "2021-11-04T21:24:49.271Z"
   },
   {
    "duration": 12,
    "start_time": "2021-11-04T21:25:14.628Z"
   },
   {
    "duration": 375,
    "start_time": "2021-11-04T21:25:17.179Z"
   },
   {
    "duration": 14,
    "start_time": "2021-11-04T21:25:23.423Z"
   },
   {
    "duration": 295,
    "start_time": "2021-11-04T21:25:28.691Z"
   },
   {
    "duration": 278,
    "start_time": "2021-11-04T21:25:37.226Z"
   },
   {
    "duration": 317,
    "start_time": "2021-11-04T21:25:40.587Z"
   },
   {
    "duration": 4,
    "start_time": "2021-11-04T21:25:47.271Z"
   },
   {
    "duration": 401,
    "start_time": "2021-11-04T21:25:52.081Z"
   },
   {
    "duration": 519,
    "start_time": "2021-11-04T21:26:02.880Z"
   },
   {
    "duration": 127,
    "start_time": "2021-11-04T21:26:14.384Z"
   },
   {
    "duration": 6,
    "start_time": "2021-11-04T21:30:43.346Z"
   },
   {
    "duration": 3,
    "start_time": "2021-11-04T21:31:12.589Z"
   },
   {
    "duration": 5,
    "start_time": "2021-11-04T21:31:20.588Z"
   },
   {
    "duration": 427,
    "start_time": "2021-11-04T21:31:52.104Z"
   },
   {
    "duration": 6,
    "start_time": "2021-11-04T21:33:14.211Z"
   },
   {
    "duration": 465,
    "start_time": "2021-11-04T21:33:47.982Z"
   },
   {
    "duration": 1097,
    "start_time": "2021-11-06T08:09:44.930Z"
   },
   {
    "duration": 871,
    "start_time": "2021-11-06T08:09:48.513Z"
   },
   {
    "duration": 60,
    "start_time": "2021-11-06T08:09:51.417Z"
   },
   {
    "duration": 12,
    "start_time": "2021-11-06T08:47:38.022Z"
   },
   {
    "duration": 7,
    "start_time": "2021-11-06T08:47:43.119Z"
   },
   {
    "duration": 9,
    "start_time": "2021-11-06T08:47:52.495Z"
   },
   {
    "duration": 225,
    "start_time": "2021-11-06T08:47:55.114Z"
   },
   {
    "duration": 10,
    "start_time": "2021-11-06T08:47:58.784Z"
   },
   {
    "duration": 177,
    "start_time": "2021-11-06T08:48:01.630Z"
   },
   {
    "duration": 11,
    "start_time": "2021-11-06T08:48:08.481Z"
   },
   {
    "duration": 171,
    "start_time": "2021-11-06T08:48:12.571Z"
   },
   {
    "duration": 192,
    "start_time": "2021-11-06T08:48:16.442Z"
   },
   {
    "duration": 21,
    "start_time": "2021-11-06T08:48:26.822Z"
   },
   {
    "duration": 373,
    "start_time": "2021-11-06T08:49:12.983Z"
   },
   {
    "duration": 3,
    "start_time": "2021-11-06T08:50:11.680Z"
   },
   {
    "duration": 244,
    "start_time": "2021-11-06T08:50:16.038Z"
   },
   {
    "duration": 331,
    "start_time": "2021-11-06T08:50:24.565Z"
   },
   {
    "duration": 81,
    "start_time": "2021-11-06T08:50:44.828Z"
   },
   {
    "duration": 3,
    "start_time": "2021-11-06T08:50:56.901Z"
   },
   {
    "duration": 2,
    "start_time": "2021-11-06T08:51:04.974Z"
   },
   {
    "duration": 19,
    "start_time": "2021-11-06T09:02:20.040Z"
   },
   {
    "duration": 31,
    "start_time": "2021-11-06T09:03:01.564Z"
   },
   {
    "duration": 26,
    "start_time": "2021-11-06T09:03:44.468Z"
   },
   {
    "duration": 13,
    "start_time": "2021-11-06T09:05:16.960Z"
   },
   {
    "duration": 28,
    "start_time": "2021-11-06T09:05:19.949Z"
   },
   {
    "duration": 188,
    "start_time": "2021-11-06T09:29:57.053Z"
   },
   {
    "duration": 14,
    "start_time": "2021-11-06T09:30:09.908Z"
   },
   {
    "duration": 1122,
    "start_time": "2021-11-06T09:31:33.613Z"
   },
   {
    "duration": 769,
    "start_time": "2021-11-06T09:31:36.577Z"
   },
   {
    "duration": 57,
    "start_time": "2021-11-06T09:31:38.681Z"
   },
   {
    "duration": 15,
    "start_time": "2021-11-06T09:31:43.053Z"
   },
   {
    "duration": 11,
    "start_time": "2021-11-06T09:32:00.211Z"
   },
   {
    "duration": 14,
    "start_time": "2021-11-06T09:32:03.793Z"
   },
   {
    "duration": 8,
    "start_time": "2021-11-06T09:32:29.227Z"
   },
   {
    "duration": 233,
    "start_time": "2021-11-06T09:32:31.897Z"
   },
   {
    "duration": 10,
    "start_time": "2021-11-06T09:32:37.400Z"
   },
   {
    "duration": 183,
    "start_time": "2021-11-06T09:32:41.327Z"
   },
   {
    "duration": 10,
    "start_time": "2021-11-06T09:32:45.753Z"
   },
   {
    "duration": 189,
    "start_time": "2021-11-06T09:32:49.648Z"
   },
   {
    "duration": 205,
    "start_time": "2021-11-06T09:32:53.121Z"
   },
   {
    "duration": 19,
    "start_time": "2021-11-06T09:32:56.803Z"
   },
   {
    "duration": 3,
    "start_time": "2021-11-06T09:33:01.368Z"
   },
   {
    "duration": 261,
    "start_time": "2021-11-06T09:33:09.520Z"
   },
   {
    "duration": 348,
    "start_time": "2021-11-06T09:33:16.854Z"
   },
   {
    "duration": 119,
    "start_time": "2021-11-06T09:33:23.589Z"
   },
   {
    "duration": 4,
    "start_time": "2021-11-06T09:33:36.373Z"
   },
   {
    "duration": 4,
    "start_time": "2021-11-06T09:33:38.593Z"
   },
   {
    "duration": 13,
    "start_time": "2021-11-06T09:33:41.743Z"
   },
   {
    "duration": 27,
    "start_time": "2021-11-06T09:33:44.122Z"
   },
   {
    "duration": 17,
    "start_time": "2021-11-06T09:34:05.659Z"
   },
   {
    "duration": 4,
    "start_time": "2021-11-06T09:41:31.153Z"
   },
   {
    "duration": 252,
    "start_time": "2021-11-06T09:41:48.570Z"
   },
   {
    "duration": 3,
    "start_time": "2021-11-06T09:42:41.007Z"
   },
   {
    "duration": 63,
    "start_time": "2021-11-06T09:42:54.906Z"
   },
   {
    "duration": 4,
    "start_time": "2021-11-06T09:43:02.121Z"
   },
   {
    "duration": 169,
    "start_time": "2021-11-06T10:28:06.419Z"
   },
   {
    "duration": 158,
    "start_time": "2021-11-06T10:28:12.021Z"
   },
   {
    "duration": 177,
    "start_time": "2021-11-06T10:28:18.208Z"
   },
   {
    "duration": 189,
    "start_time": "2021-11-06T10:28:33.498Z"
   },
   {
    "duration": 7,
    "start_time": "2021-11-06T10:28:49.452Z"
   },
   {
    "duration": 190,
    "start_time": "2021-11-06T10:28:54.831Z"
   },
   {
    "duration": 166,
    "start_time": "2021-11-06T10:29:01.116Z"
   },
   {
    "duration": 4,
    "start_time": "2021-11-06T10:29:52.741Z"
   },
   {
    "duration": 5,
    "start_time": "2021-11-06T10:30:48.991Z"
   },
   {
    "duration": 8,
    "start_time": "2021-11-06T10:31:35.145Z"
   },
   {
    "duration": 3,
    "start_time": "2021-11-06T10:32:10.046Z"
   },
   {
    "duration": 1136,
    "start_time": "2021-11-06T10:33:17.563Z"
   },
   {
    "duration": 711,
    "start_time": "2021-11-06T10:33:18.702Z"
   },
   {
    "duration": 54,
    "start_time": "2021-11-06T10:33:19.416Z"
   },
   {
    "duration": 34,
    "start_time": "2021-11-06T10:33:19.472Z"
   },
   {
    "duration": 11,
    "start_time": "2021-11-06T10:33:19.508Z"
   },
   {
    "duration": 4,
    "start_time": "2021-11-06T10:33:19.520Z"
   },
   {
    "duration": 14,
    "start_time": "2021-11-06T10:33:19.525Z"
   },
   {
    "duration": 11,
    "start_time": "2021-11-06T10:33:19.541Z"
   },
   {
    "duration": 262,
    "start_time": "2021-11-06T10:33:19.554Z"
   },
   {
    "duration": 1232,
    "start_time": "2021-11-06T10:33:19.817Z"
   },
   {
    "duration": 1800,
    "start_time": "2021-11-06T10:33:19.251Z"
   },
   {
    "duration": 1796,
    "start_time": "2021-11-06T10:33:19.256Z"
   },
   {
    "duration": 1789,
    "start_time": "2021-11-06T10:33:19.264Z"
   },
   {
    "duration": 1784,
    "start_time": "2021-11-06T10:33:19.270Z"
   },
   {
    "duration": 1780,
    "start_time": "2021-11-06T10:33:19.275Z"
   },
   {
    "duration": 1777,
    "start_time": "2021-11-06T10:33:19.279Z"
   },
   {
    "duration": 1775,
    "start_time": "2021-11-06T10:33:19.282Z"
   },
   {
    "duration": 1773,
    "start_time": "2021-11-06T10:33:19.285Z"
   },
   {
    "duration": 1769,
    "start_time": "2021-11-06T10:33:19.290Z"
   },
   {
    "duration": 1768,
    "start_time": "2021-11-06T10:33:19.292Z"
   },
   {
    "duration": 1766,
    "start_time": "2021-11-06T10:33:19.295Z"
   },
   {
    "duration": 1764,
    "start_time": "2021-11-06T10:33:19.298Z"
   },
   {
    "duration": 1761,
    "start_time": "2021-11-06T10:33:19.301Z"
   },
   {
    "duration": 1759,
    "start_time": "2021-11-06T10:33:19.304Z"
   },
   {
    "duration": 1757,
    "start_time": "2021-11-06T10:33:19.307Z"
   },
   {
    "duration": 1755,
    "start_time": "2021-11-06T10:33:19.310Z"
   },
   {
    "duration": 1123,
    "start_time": "2021-11-06T10:34:05.021Z"
   },
   {
    "duration": 721,
    "start_time": "2021-11-06T10:34:06.146Z"
   },
   {
    "duration": 64,
    "start_time": "2021-11-06T10:34:06.869Z"
   },
   {
    "duration": 14,
    "start_time": "2021-11-06T10:34:06.934Z"
   },
   {
    "duration": 14,
    "start_time": "2021-11-06T10:34:06.949Z"
   },
   {
    "duration": 12,
    "start_time": "2021-11-06T10:34:06.965Z"
   },
   {
    "duration": 17,
    "start_time": "2021-11-06T10:34:06.979Z"
   },
   {
    "duration": 11,
    "start_time": "2021-11-06T10:34:07.000Z"
   },
   {
    "duration": 261,
    "start_time": "2021-11-06T10:34:07.013Z"
   },
   {
    "duration": 16,
    "start_time": "2021-11-06T10:34:07.276Z"
   },
   {
    "duration": 212,
    "start_time": "2021-11-06T10:34:07.295Z"
   },
   {
    "duration": 11,
    "start_time": "2021-11-06T10:34:07.509Z"
   },
   {
    "duration": 202,
    "start_time": "2021-11-06T10:34:07.521Z"
   },
   {
    "duration": 223,
    "start_time": "2021-11-06T10:34:07.725Z"
   },
   {
    "duration": 15,
    "start_time": "2021-11-06T10:34:07.950Z"
   },
   {
    "duration": 3,
    "start_time": "2021-11-06T10:34:07.967Z"
   },
   {
    "duration": 299,
    "start_time": "2021-11-06T10:34:07.971Z"
   },
   {
    "duration": 360,
    "start_time": "2021-11-06T10:34:08.271Z"
   },
   {
    "duration": 95,
    "start_time": "2021-11-06T10:34:08.633Z"
   },
   {
    "duration": 3,
    "start_time": "2021-11-06T10:34:08.730Z"
   },
   {
    "duration": 5,
    "start_time": "2021-11-06T10:34:08.735Z"
   },
   {
    "duration": 14,
    "start_time": "2021-11-06T10:34:08.741Z"
   },
   {
    "duration": 51,
    "start_time": "2021-11-06T10:34:08.757Z"
   },
   {
    "duration": 3,
    "start_time": "2021-11-06T10:34:08.810Z"
   },
   {
    "duration": 12,
    "start_time": "2021-11-06T10:34:08.815Z"
   },
   {
    "duration": 10,
    "start_time": "2021-11-06T10:34:13.602Z"
   },
   {
    "duration": 13,
    "start_time": "2021-11-06T10:34:19.339Z"
   },
   {
    "duration": 11,
    "start_time": "2021-11-06T10:47:28.575Z"
   },
   {
    "duration": 8,
    "start_time": "2021-11-06T11:05:51.927Z"
   },
   {
    "duration": 1110,
    "start_time": "2021-11-06T11:06:18.616Z"
   },
   {
    "duration": 713,
    "start_time": "2021-11-06T11:06:19.727Z"
   },
   {
    "duration": 68,
    "start_time": "2021-11-06T11:06:20.442Z"
   },
   {
    "duration": 14,
    "start_time": "2021-11-06T11:06:20.512Z"
   },
   {
    "duration": 9,
    "start_time": "2021-11-06T11:06:20.528Z"
   },
   {
    "duration": 3,
    "start_time": "2021-11-06T11:06:20.538Z"
   },
   {
    "duration": 11,
    "start_time": "2021-11-06T11:06:20.543Z"
   },
   {
    "duration": 36,
    "start_time": "2021-11-06T11:06:20.556Z"
   },
   {
    "duration": 261,
    "start_time": "2021-11-06T11:06:20.595Z"
   },
   {
    "duration": 11,
    "start_time": "2021-11-06T11:06:20.858Z"
   },
   {
    "duration": 216,
    "start_time": "2021-11-06T11:06:20.871Z"
   },
   {
    "duration": 17,
    "start_time": "2021-11-06T11:06:21.088Z"
   },
   {
    "duration": 207,
    "start_time": "2021-11-06T11:06:21.108Z"
   },
   {
    "duration": 231,
    "start_time": "2021-11-06T11:06:21.317Z"
   },
   {
    "duration": 23,
    "start_time": "2021-11-06T11:06:21.550Z"
   },
   {
    "duration": 3,
    "start_time": "2021-11-06T11:06:21.574Z"
   },
   {
    "duration": 297,
    "start_time": "2021-11-06T11:06:21.593Z"
   },
   {
    "duration": 367,
    "start_time": "2021-11-06T11:06:21.892Z"
   },
   {
    "duration": 104,
    "start_time": "2021-11-06T11:06:22.261Z"
   },
   {
    "duration": 3,
    "start_time": "2021-11-06T11:06:22.367Z"
   },
   {
    "duration": 17,
    "start_time": "2021-11-06T11:06:22.371Z"
   },
   {
    "duration": 21,
    "start_time": "2021-11-06T11:06:22.390Z"
   },
   {
    "duration": 27,
    "start_time": "2021-11-06T11:06:22.414Z"
   },
   {
    "duration": 3,
    "start_time": "2021-11-06T11:06:22.443Z"
   },
   {
    "duration": 8,
    "start_time": "2021-11-06T11:06:22.448Z"
   },
   {
    "duration": 9,
    "start_time": "2021-11-06T11:06:22.457Z"
   },
   {
    "duration": 8,
    "start_time": "2021-11-06T11:06:33.287Z"
   },
   {
    "duration": 13,
    "start_time": "2021-11-06T11:06:37.369Z"
   },
   {
    "duration": 10,
    "start_time": "2021-11-06T11:06:53.825Z"
   },
   {
    "duration": 9,
    "start_time": "2021-11-06T11:10:04.199Z"
   },
   {
    "duration": 3,
    "start_time": "2021-11-06T11:12:37.694Z"
   },
   {
    "duration": 273,
    "start_time": "2021-11-06T11:13:50.313Z"
   },
   {
    "duration": 58,
    "start_time": "2021-11-06T11:14:13.911Z"
   },
   {
    "duration": 18,
    "start_time": "2021-11-06T11:14:20.162Z"
   },
   {
    "duration": 175,
    "start_time": "2021-11-06T11:26:29.715Z"
   },
   {
    "duration": 175,
    "start_time": "2021-11-06T11:27:33.910Z"
   },
   {
    "duration": 176,
    "start_time": "2021-11-06T11:29:12.607Z"
   },
   {
    "duration": 176,
    "start_time": "2021-11-06T11:31:18.311Z"
   },
   {
    "duration": 1169,
    "start_time": "2021-11-06T11:33:01.068Z"
   },
   {
    "duration": 704,
    "start_time": "2021-11-06T11:33:02.239Z"
   },
   {
    "duration": 61,
    "start_time": "2021-11-06T11:33:02.945Z"
   },
   {
    "duration": 14,
    "start_time": "2021-11-06T11:33:03.007Z"
   },
   {
    "duration": 9,
    "start_time": "2021-11-06T11:33:03.023Z"
   },
   {
    "duration": 7,
    "start_time": "2021-11-06T11:33:03.033Z"
   },
   {
    "duration": 10,
    "start_time": "2021-11-06T11:33:03.042Z"
   },
   {
    "duration": 8,
    "start_time": "2021-11-06T11:33:03.054Z"
   },
   {
    "duration": 253,
    "start_time": "2021-11-06T11:33:03.063Z"
   },
   {
    "duration": 9,
    "start_time": "2021-11-06T11:33:03.317Z"
   },
   {
    "duration": 184,
    "start_time": "2021-11-06T11:33:03.328Z"
   },
   {
    "duration": 9,
    "start_time": "2021-11-06T11:33:03.513Z"
   },
   {
    "duration": 185,
    "start_time": "2021-11-06T11:33:03.524Z"
   },
   {
    "duration": 199,
    "start_time": "2021-11-06T11:33:03.710Z"
   },
   {
    "duration": 17,
    "start_time": "2021-11-06T11:33:03.911Z"
   },
   {
    "duration": 3,
    "start_time": "2021-11-06T11:33:03.929Z"
   },
   {
    "duration": 264,
    "start_time": "2021-11-06T11:33:03.933Z"
   },
   {
    "duration": 329,
    "start_time": "2021-11-06T11:33:04.199Z"
   },
   {
    "duration": 83,
    "start_time": "2021-11-06T11:33:04.530Z"
   },
   {
    "duration": 3,
    "start_time": "2021-11-06T11:33:04.615Z"
   },
   {
    "duration": 6,
    "start_time": "2021-11-06T11:33:04.619Z"
   },
   {
    "duration": 15,
    "start_time": "2021-11-06T11:33:04.626Z"
   },
   {
    "duration": 26,
    "start_time": "2021-11-06T11:33:04.643Z"
   },
   {
    "duration": 3,
    "start_time": "2021-11-06T11:33:04.691Z"
   },
   {
    "duration": 8,
    "start_time": "2021-11-06T11:33:04.696Z"
   },
   {
    "duration": 9,
    "start_time": "2021-11-06T11:33:04.705Z"
   },
   {
    "duration": 12,
    "start_time": "2021-11-06T11:33:04.716Z"
   },
   {
    "duration": 20,
    "start_time": "2021-11-06T11:33:04.730Z"
   },
   {
    "duration": 10,
    "start_time": "2021-11-06T11:33:04.752Z"
   },
   {
    "duration": 27,
    "start_time": "2021-11-06T11:33:04.764Z"
   },
   {
    "duration": 285,
    "start_time": "2021-11-06T11:33:33.848Z"
   },
   {
    "duration": 1127,
    "start_time": "2021-11-06T11:33:50.525Z"
   },
   {
    "duration": 711,
    "start_time": "2021-11-06T11:33:51.653Z"
   },
   {
    "duration": 58,
    "start_time": "2021-11-06T11:33:52.366Z"
   },
   {
    "duration": 15,
    "start_time": "2021-11-06T11:33:52.426Z"
   },
   {
    "duration": 11,
    "start_time": "2021-11-06T11:33:52.443Z"
   },
   {
    "duration": 35,
    "start_time": "2021-11-06T11:33:52.456Z"
   },
   {
    "duration": 5,
    "start_time": "2021-11-06T11:33:52.492Z"
   },
   {
    "duration": 18,
    "start_time": "2021-11-06T11:33:52.499Z"
   },
   {
    "duration": 233,
    "start_time": "2021-11-06T11:33:52.518Z"
   },
   {
    "duration": 8,
    "start_time": "2021-11-06T11:33:52.753Z"
   },
   {
    "duration": 194,
    "start_time": "2021-11-06T11:33:52.762Z"
   },
   {
    "duration": 9,
    "start_time": "2021-11-06T11:33:52.958Z"
   },
   {
    "duration": 199,
    "start_time": "2021-11-06T11:33:52.968Z"
   },
   {
    "duration": 208,
    "start_time": "2021-11-06T11:33:53.169Z"
   },
   {
    "duration": 20,
    "start_time": "2021-11-06T11:33:53.379Z"
   },
   {
    "duration": 4,
    "start_time": "2021-11-06T11:33:53.401Z"
   },
   {
    "duration": 292,
    "start_time": "2021-11-06T11:33:53.406Z"
   },
   {
    "duration": 341,
    "start_time": "2021-11-06T11:33:53.700Z"
   },
   {
    "duration": 93,
    "start_time": "2021-11-06T11:33:54.043Z"
   },
   {
    "duration": 4,
    "start_time": "2021-11-06T11:33:54.138Z"
   },
   {
    "duration": 10,
    "start_time": "2021-11-06T11:33:54.143Z"
   },
   {
    "duration": 21,
    "start_time": "2021-11-06T11:33:54.154Z"
   },
   {
    "duration": 31,
    "start_time": "2021-11-06T11:33:54.177Z"
   },
   {
    "duration": 4,
    "start_time": "2021-11-06T11:33:54.209Z"
   },
   {
    "duration": 6,
    "start_time": "2021-11-06T11:33:54.214Z"
   },
   {
    "duration": 16,
    "start_time": "2021-11-06T11:33:54.221Z"
   },
   {
    "duration": 12,
    "start_time": "2021-11-06T11:33:54.238Z"
   },
   {
    "duration": 16,
    "start_time": "2021-11-06T11:33:54.252Z"
   },
   {
    "duration": 29,
    "start_time": "2021-11-06T11:33:54.269Z"
   },
   {
    "duration": 8,
    "start_time": "2021-11-06T11:34:01.376Z"
   },
   {
    "duration": 62,
    "start_time": "2021-11-06T11:34:22.521Z"
   },
   {
    "duration": 695,
    "start_time": "2021-11-06T11:56:24.681Z"
   },
   {
    "duration": 17,
    "start_time": "2021-11-06T11:56:59.832Z"
   },
   {
    "duration": 1156,
    "start_time": "2021-11-06T11:57:05.967Z"
   },
   {
    "duration": 62,
    "start_time": "2021-11-06T12:00:43.973Z"
   },
   {
    "duration": 11,
    "start_time": "2021-11-06T12:00:52.568Z"
   },
   {
    "duration": 204,
    "start_time": "2021-11-06T12:01:05.186Z"
   },
   {
    "duration": 199,
    "start_time": "2021-11-06T12:03:22.986Z"
   },
   {
    "duration": 1483,
    "start_time": "2021-11-06T12:03:51.310Z"
   },
   {
    "duration": 284,
    "start_time": "2021-11-06T12:04:32.408Z"
   },
   {
    "duration": 1130,
    "start_time": "2021-11-06T12:09:01.223Z"
   },
   {
    "duration": 688,
    "start_time": "2021-11-06T12:09:02.355Z"
   },
   {
    "duration": 60,
    "start_time": "2021-11-06T12:09:03.045Z"
   },
   {
    "duration": 13,
    "start_time": "2021-11-06T12:09:03.107Z"
   },
   {
    "duration": 10,
    "start_time": "2021-11-06T12:09:03.122Z"
   },
   {
    "duration": 10,
    "start_time": "2021-11-06T12:09:03.133Z"
   },
   {
    "duration": 17,
    "start_time": "2021-11-06T12:09:03.145Z"
   },
   {
    "duration": 13,
    "start_time": "2021-11-06T12:09:03.164Z"
   },
   {
    "duration": 230,
    "start_time": "2021-11-06T12:09:03.192Z"
   },
   {
    "duration": 9,
    "start_time": "2021-11-06T12:09:03.423Z"
   },
   {
    "duration": 190,
    "start_time": "2021-11-06T12:09:03.434Z"
   },
   {
    "duration": 9,
    "start_time": "2021-11-06T12:09:03.626Z"
   },
   {
    "duration": 190,
    "start_time": "2021-11-06T12:09:03.637Z"
   },
   {
    "duration": 198,
    "start_time": "2021-11-06T12:09:03.828Z"
   },
   {
    "duration": 84,
    "start_time": "2021-11-06T12:09:04.028Z"
   },
   {
    "duration": 2,
    "start_time": "2021-11-06T12:09:04.114Z"
   },
   {
    "duration": 263,
    "start_time": "2021-11-06T12:09:04.118Z"
   },
   {
    "duration": 274,
    "start_time": "2021-11-06T12:09:04.382Z"
   },
   {
    "duration": 90,
    "start_time": "2021-11-06T12:09:04.658Z"
   },
   {
    "duration": 3,
    "start_time": "2021-11-06T12:09:04.749Z"
   },
   {
    "duration": 6,
    "start_time": "2021-11-06T12:09:04.753Z"
   },
   {
    "duration": 15,
    "start_time": "2021-11-06T12:09:04.760Z"
   },
   {
    "duration": 38,
    "start_time": "2021-11-06T12:09:04.777Z"
   },
   {
    "duration": 4,
    "start_time": "2021-11-06T12:09:04.816Z"
   },
   {
    "duration": 7,
    "start_time": "2021-11-06T12:09:04.821Z"
   },
   {
    "duration": 7,
    "start_time": "2021-11-06T12:09:04.830Z"
   },
   {
    "duration": 9,
    "start_time": "2021-11-06T12:09:04.839Z"
   },
   {
    "duration": 12,
    "start_time": "2021-11-06T12:09:04.849Z"
   },
   {
    "duration": 33,
    "start_time": "2021-11-06T12:09:04.863Z"
   },
   {
    "duration": 68,
    "start_time": "2021-11-06T12:09:14.979Z"
   },
   {
    "duration": 7,
    "start_time": "2021-11-06T12:09:45.853Z"
   },
   {
    "duration": 59,
    "start_time": "2021-11-06T12:09:51.153Z"
   },
   {
    "duration": 279,
    "start_time": "2021-11-06T12:10:27.708Z"
   },
   {
    "duration": 185,
    "start_time": "2021-11-06T12:10:57.251Z"
   },
   {
    "duration": 1340,
    "start_time": "2021-11-06T12:12:20.760Z"
   },
   {
    "duration": 1692,
    "start_time": "2021-11-06T12:12:39.803Z"
   },
   {
    "duration": 1083,
    "start_time": "2021-11-06T14:46:21.716Z"
   },
   {
    "duration": 409,
    "start_time": "2021-11-06T14:54:57.807Z"
   },
   {
    "duration": 2052,
    "start_time": "2021-11-06T14:55:10.691Z"
   },
   {
    "duration": 3,
    "start_time": "2021-11-06T14:57:15.326Z"
   },
   {
    "duration": 454,
    "start_time": "2021-11-06T14:57:18.068Z"
   },
   {
    "duration": 4,
    "start_time": "2021-11-06T14:58:19.945Z"
   },
   {
    "duration": 1793,
    "start_time": "2021-11-06T14:58:22.708Z"
   },
   {
    "duration": 1328,
    "start_time": "2021-11-06T14:58:43.404Z"
   },
   {
    "duration": 3,
    "start_time": "2021-11-06T14:59:08.029Z"
   },
   {
    "duration": 323,
    "start_time": "2021-11-06T14:59:11.986Z"
   },
   {
    "duration": 1277,
    "start_time": "2021-11-06T15:04:45.918Z"
   },
   {
    "duration": 198,
    "start_time": "2021-11-06T15:05:14.922Z"
   },
   {
    "duration": 200,
    "start_time": "2021-11-06T15:06:27.445Z"
   },
   {
    "duration": 195,
    "start_time": "2021-11-06T15:07:29.045Z"
   },
   {
    "duration": 201,
    "start_time": "2021-11-06T15:07:52.741Z"
   },
   {
    "duration": 1179,
    "start_time": "2021-11-06T15:08:07.819Z"
   },
   {
    "duration": 4,
    "start_time": "2021-11-06T15:33:06.364Z"
   },
   {
    "duration": 443,
    "start_time": "2021-11-06T15:33:10.632Z"
   },
   {
    "duration": 1557,
    "start_time": "2021-11-06T15:33:24.336Z"
   },
   {
    "duration": 4,
    "start_time": "2021-11-06T15:35:27.751Z"
   },
   {
    "duration": 3,
    "start_time": "2021-11-06T15:35:40.013Z"
   },
   {
    "duration": 1500,
    "start_time": "2021-11-06T15:35:42.092Z"
   },
   {
    "duration": 189,
    "start_time": "2021-11-06T15:38:02.617Z"
   },
   {
    "duration": 546,
    "start_time": "2021-11-06T15:38:59.952Z"
   },
   {
    "duration": 204,
    "start_time": "2021-11-06T15:39:06.235Z"
   },
   {
    "duration": 177,
    "start_time": "2021-11-06T15:39:28.760Z"
   },
   {
    "duration": 1151,
    "start_time": "2021-11-06T15:54:25.188Z"
   },
   {
    "duration": 725,
    "start_time": "2021-11-06T15:54:26.341Z"
   },
   {
    "duration": 58,
    "start_time": "2021-11-06T15:54:27.068Z"
   },
   {
    "duration": 14,
    "start_time": "2021-11-06T15:54:27.128Z"
   },
   {
    "duration": 9,
    "start_time": "2021-11-06T15:54:27.144Z"
   },
   {
    "duration": 2,
    "start_time": "2021-11-06T15:54:27.154Z"
   },
   {
    "duration": 35,
    "start_time": "2021-11-06T15:54:27.158Z"
   },
   {
    "duration": 8,
    "start_time": "2021-11-06T15:54:27.195Z"
   },
   {
    "duration": 249,
    "start_time": "2021-11-06T15:54:27.205Z"
   },
   {
    "duration": 10,
    "start_time": "2021-11-06T15:54:27.456Z"
   },
   {
    "duration": 198,
    "start_time": "2021-11-06T15:54:27.467Z"
   },
   {
    "duration": 10,
    "start_time": "2021-11-06T15:54:27.667Z"
   },
   {
    "duration": 199,
    "start_time": "2021-11-06T15:54:27.678Z"
   },
   {
    "duration": 206,
    "start_time": "2021-11-06T15:54:27.879Z"
   },
   {
    "duration": 80,
    "start_time": "2021-11-06T15:54:28.087Z"
   },
   {
    "duration": 2,
    "start_time": "2021-11-06T15:54:28.169Z"
   },
   {
    "duration": 280,
    "start_time": "2021-11-06T15:54:28.173Z"
   },
   {
    "duration": 343,
    "start_time": "2021-11-06T15:54:28.455Z"
   },
   {
    "duration": 92,
    "start_time": "2021-11-06T15:54:28.800Z"
   },
   {
    "duration": 2,
    "start_time": "2021-11-06T15:54:28.894Z"
   },
   {
    "duration": 5,
    "start_time": "2021-11-06T15:54:28.898Z"
   },
   {
    "duration": 15,
    "start_time": "2021-11-06T15:54:28.905Z"
   },
   {
    "duration": 26,
    "start_time": "2021-11-06T15:54:28.923Z"
   },
   {
    "duration": 5,
    "start_time": "2021-11-06T15:54:28.951Z"
   },
   {
    "duration": 16,
    "start_time": "2021-11-06T15:54:28.957Z"
   },
   {
    "duration": 8,
    "start_time": "2021-11-06T15:54:28.991Z"
   },
   {
    "duration": 20,
    "start_time": "2021-11-06T15:54:29.000Z"
   },
   {
    "duration": 23,
    "start_time": "2021-11-06T15:54:29.022Z"
   },
   {
    "duration": 9,
    "start_time": "2021-11-06T15:54:29.047Z"
   },
   {
    "duration": 16,
    "start_time": "2021-11-06T15:54:29.058Z"
   },
   {
    "duration": 67,
    "start_time": "2021-11-06T15:54:29.076Z"
   },
   {
    "duration": 4,
    "start_time": "2021-11-06T15:54:33.694Z"
   },
   {
    "duration": 271,
    "start_time": "2021-11-06T15:54:46.171Z"
   },
   {
    "duration": 287,
    "start_time": "2021-11-06T15:58:29.910Z"
   },
   {
    "duration": 2976,
    "start_time": "2021-11-06T15:59:36.977Z"
   },
   {
    "duration": 2631,
    "start_time": "2021-11-06T16:00:32.861Z"
   },
   {
    "duration": 2476,
    "start_time": "2021-11-06T16:32:32.619Z"
   },
   {
    "duration": 965,
    "start_time": "2021-11-06T16:32:59.334Z"
   },
   {
    "duration": 161,
    "start_time": "2021-11-06T16:33:18.156Z"
   },
   {
    "duration": 1041,
    "start_time": "2021-11-06T16:33:37.155Z"
   },
   {
    "duration": 3,
    "start_time": "2021-11-06T16:36:35.956Z"
   },
   {
    "duration": 180,
    "start_time": "2021-11-06T16:36:40.844Z"
   },
   {
    "duration": 3,
    "start_time": "2021-11-06T16:37:28.649Z"
   },
   {
    "duration": 103167,
    "start_time": "2021-11-06T16:37:38.145Z"
   },
   {
    "duration": 1476,
    "start_time": "2021-11-06T16:39:39.116Z"
   },
   {
    "duration": 166,
    "start_time": "2021-11-06T17:07:54.115Z"
   },
   {
    "duration": 41439,
    "start_time": "2021-11-06T17:08:33.853Z"
   },
   {
    "duration": 168,
    "start_time": "2021-11-06T17:09:42.391Z"
   },
   {
    "duration": 4,
    "start_time": "2021-11-06T17:16:30.716Z"
   },
   {
    "duration": 1356,
    "start_time": "2021-11-06T17:16:56.346Z"
   },
   {
    "duration": 177,
    "start_time": "2021-11-06T17:28:05.949Z"
   },
   {
    "duration": 1893147,
    "start_time": "2021-11-06T17:28:31.517Z"
   },
   {
    "duration": 128028,
    "start_time": "2021-11-06T18:13:21.077Z"
   },
   {
    "duration": 173731,
    "start_time": "2021-11-06T18:17:22.567Z"
   },
   {
    "duration": 1356,
    "start_time": "2021-11-06T18:27:25.447Z"
   },
   {
    "duration": 93402,
    "start_time": "2021-11-06T18:28:40.392Z"
   },
   {
    "duration": 64064,
    "start_time": "2021-11-06T18:31:14.142Z"
   },
   {
    "duration": 379376,
    "start_time": "2021-11-06T18:52:47.624Z"
   },
   {
    "duration": 4,
    "start_time": "2021-11-06T19:12:53.023Z"
   },
   {
    "duration": 174,
    "start_time": "2021-11-06T19:35:43.061Z"
   },
   {
    "duration": 165,
    "start_time": "2021-11-06T19:36:44.485Z"
   },
   {
    "duration": 234,
    "start_time": "2021-11-06T19:37:57.070Z"
   },
   {
    "duration": 202,
    "start_time": "2021-11-06T19:50:07.184Z"
   },
   {
    "duration": 1317,
    "start_time": "2021-11-06T20:03:21.499Z"
   },
   {
    "duration": 1214,
    "start_time": "2021-11-06T20:03:41.780Z"
   },
   {
    "duration": 1523,
    "start_time": "2021-11-06T20:06:58.771Z"
   },
   {
    "duration": 58,
    "start_time": "2021-11-06T20:21:42.213Z"
   },
   {
    "duration": 8,
    "start_time": "2021-11-06T20:22:06.636Z"
   },
   {
    "duration": 7,
    "start_time": "2021-11-06T20:22:36.981Z"
   },
   {
    "duration": 192,
    "start_time": "2021-11-06T20:32:55.047Z"
   },
   {
    "duration": 170,
    "start_time": "2021-11-06T20:33:45.079Z"
   },
   {
    "duration": 4,
    "start_time": "2021-11-06T20:33:52.810Z"
   },
   {
    "duration": 5,
    "start_time": "2021-11-06T20:33:59.553Z"
   },
   {
    "duration": 6,
    "start_time": "2021-11-06T20:34:18.846Z"
   },
   {
    "duration": 7,
    "start_time": "2021-11-06T20:34:42.536Z"
   },
   {
    "duration": 8,
    "start_time": "2021-11-06T20:35:35.882Z"
   },
   {
    "duration": 1211,
    "start_time": "2021-11-06T20:36:01.784Z"
   },
   {
    "duration": 1701,
    "start_time": "2021-11-06T20:37:36.691Z"
   },
   {
    "duration": 1296,
    "start_time": "2021-11-06T20:42:31.799Z"
   },
   {
    "duration": 1142,
    "start_time": "2021-11-06T20:44:45.003Z"
   },
   {
    "duration": 989,
    "start_time": "2021-11-06T20:44:46.148Z"
   },
   {
    "duration": 59,
    "start_time": "2021-11-06T20:44:47.139Z"
   },
   {
    "duration": 14,
    "start_time": "2021-11-06T20:44:47.199Z"
   },
   {
    "duration": 10,
    "start_time": "2021-11-06T20:44:47.215Z"
   },
   {
    "duration": 4,
    "start_time": "2021-11-06T20:44:47.226Z"
   },
   {
    "duration": 13,
    "start_time": "2021-11-06T20:44:47.231Z"
   },
   {
    "duration": 11,
    "start_time": "2021-11-06T20:44:47.246Z"
   },
   {
    "duration": 256,
    "start_time": "2021-11-06T20:44:47.259Z"
   },
   {
    "duration": 8,
    "start_time": "2021-11-06T20:44:47.517Z"
   },
   {
    "duration": 185,
    "start_time": "2021-11-06T20:44:47.527Z"
   },
   {
    "duration": 10,
    "start_time": "2021-11-06T20:44:47.713Z"
   },
   {
    "duration": 194,
    "start_time": "2021-11-06T20:44:47.725Z"
   },
   {
    "duration": 209,
    "start_time": "2021-11-06T20:44:47.921Z"
   },
   {
    "duration": 95,
    "start_time": "2021-11-06T20:44:48.132Z"
   },
   {
    "duration": 4,
    "start_time": "2021-11-06T20:44:48.228Z"
   },
   {
    "duration": 267,
    "start_time": "2021-11-06T20:44:48.233Z"
   },
   {
    "duration": 276,
    "start_time": "2021-11-06T20:44:48.502Z"
   },
   {
    "duration": 86,
    "start_time": "2021-11-06T20:44:48.780Z"
   },
   {
    "duration": 3,
    "start_time": "2021-11-06T20:44:48.868Z"
   },
   {
    "duration": 6,
    "start_time": "2021-11-06T20:44:48.873Z"
   },
   {
    "duration": 12,
    "start_time": "2021-11-06T20:44:48.892Z"
   },
   {
    "duration": 25,
    "start_time": "2021-11-06T20:44:48.907Z"
   },
   {
    "duration": 3,
    "start_time": "2021-11-06T20:44:48.934Z"
   },
   {
    "duration": 7,
    "start_time": "2021-11-06T20:44:48.938Z"
   },
   {
    "duration": 9,
    "start_time": "2021-11-06T20:44:48.946Z"
   },
   {
    "duration": 37,
    "start_time": "2021-11-06T20:44:48.956Z"
   },
   {
    "duration": 17,
    "start_time": "2021-11-06T20:44:48.995Z"
   },
   {
    "duration": 9,
    "start_time": "2021-11-06T20:44:49.014Z"
   },
   {
    "duration": 7,
    "start_time": "2021-11-06T20:44:49.025Z"
   },
   {
    "duration": 70,
    "start_time": "2021-11-06T20:44:49.034Z"
   },
   {
    "duration": 269,
    "start_time": "2021-11-06T20:47:16.579Z"
   },
   {
    "duration": 7,
    "start_time": "2021-11-06T20:47:52.020Z"
   },
   {
    "duration": 3,
    "start_time": "2021-11-06T20:47:59.113Z"
   },
   {
    "duration": 1480,
    "start_time": "2021-11-06T20:48:07.217Z"
   },
   {
    "duration": 370850,
    "start_time": "2021-11-06T20:48:32.750Z"
   },
   {
    "duration": 14193,
    "start_time": "2021-11-06T20:56:19.006Z"
   },
   {
    "duration": 9,
    "start_time": "2021-11-06T20:57:31.142Z"
   },
   {
    "duration": 6,
    "start_time": "2021-11-06T20:57:38.391Z"
   },
   {
    "duration": 5,
    "start_time": "2021-11-06T21:01:17.229Z"
   },
   {
    "duration": 14602,
    "start_time": "2021-11-06T21:01:22.093Z"
   },
   {
    "duration": 8,
    "start_time": "2021-11-06T21:01:44.189Z"
   },
   {
    "duration": 6,
    "start_time": "2021-11-06T21:01:47.075Z"
   },
   {
    "duration": 1202,
    "start_time": "2021-11-06T21:02:17.493Z"
   },
   {
    "duration": 9,
    "start_time": "2021-11-06T21:03:32.265Z"
   },
   {
    "duration": 7,
    "start_time": "2021-11-06T21:03:38.341Z"
   },
   {
    "duration": 70896,
    "start_time": "2021-11-06T21:05:17.028Z"
   },
   {
    "duration": 1128,
    "start_time": "2021-11-06T21:06:45.791Z"
   },
   {
    "duration": 708,
    "start_time": "2021-11-06T21:06:46.921Z"
   },
   {
    "duration": 65,
    "start_time": "2021-11-06T21:06:47.631Z"
   },
   {
    "duration": 15,
    "start_time": "2021-11-06T21:06:47.698Z"
   },
   {
    "duration": 9,
    "start_time": "2021-11-06T21:06:47.714Z"
   },
   {
    "duration": 2,
    "start_time": "2021-11-06T21:06:47.725Z"
   },
   {
    "duration": 9,
    "start_time": "2021-11-06T21:06:47.728Z"
   },
   {
    "duration": 7,
    "start_time": "2021-11-06T21:06:47.740Z"
   },
   {
    "duration": 271,
    "start_time": "2021-11-06T21:06:47.749Z"
   },
   {
    "duration": 8,
    "start_time": "2021-11-06T21:06:48.022Z"
   },
   {
    "duration": 199,
    "start_time": "2021-11-06T21:06:48.032Z"
   },
   {
    "duration": 10,
    "start_time": "2021-11-06T21:06:48.232Z"
   },
   {
    "duration": 196,
    "start_time": "2021-11-06T21:06:48.244Z"
   },
   {
    "duration": 204,
    "start_time": "2021-11-06T21:06:48.442Z"
   },
   {
    "duration": 83,
    "start_time": "2021-11-06T21:06:48.648Z"
   },
   {
    "duration": 3,
    "start_time": "2021-11-06T21:06:48.732Z"
   },
   {
    "duration": 258,
    "start_time": "2021-11-06T21:06:48.736Z"
   },
   {
    "duration": 271,
    "start_time": "2021-11-06T21:06:48.996Z"
   },
   {
    "duration": 102,
    "start_time": "2021-11-06T21:06:49.268Z"
   },
   {
    "duration": 3,
    "start_time": "2021-11-06T21:06:49.372Z"
   },
   {
    "duration": 6,
    "start_time": "2021-11-06T21:06:49.376Z"
   },
   {
    "duration": 16,
    "start_time": "2021-11-06T21:06:49.391Z"
   },
   {
    "duration": 29,
    "start_time": "2021-11-06T21:06:49.410Z"
   },
   {
    "duration": 3,
    "start_time": "2021-11-06T21:06:49.440Z"
   },
   {
    "duration": 6,
    "start_time": "2021-11-06T21:06:49.445Z"
   },
   {
    "duration": 39,
    "start_time": "2021-11-06T21:06:49.453Z"
   },
   {
    "duration": 9,
    "start_time": "2021-11-06T21:06:49.493Z"
   },
   {
    "duration": 17,
    "start_time": "2021-11-06T21:06:49.503Z"
   },
   {
    "duration": 10,
    "start_time": "2021-11-06T21:06:49.521Z"
   },
   {
    "duration": 7,
    "start_time": "2021-11-06T21:06:49.532Z"
   },
   {
    "duration": 79,
    "start_time": "2021-11-06T21:06:49.540Z"
   },
   {
    "duration": 3,
    "start_time": "2021-11-06T21:06:49.621Z"
   },
   {
    "duration": 1253,
    "start_time": "2021-11-06T21:07:02.444Z"
   },
   {
    "duration": 152888,
    "start_time": "2021-11-06T21:07:08.810Z"
   },
   {
    "duration": 1122,
    "start_time": "2021-11-06T21:10:16.172Z"
   },
   {
    "duration": 9,
    "start_time": "2021-11-06T21:10:26.467Z"
   },
   {
    "duration": 7,
    "start_time": "2021-11-06T21:10:38.668Z"
   },
   {
    "duration": 1813,
    "start_time": "2021-11-06T21:11:04.685Z"
   },
   {
    "duration": 1140,
    "start_time": "2021-11-06T21:11:25.750Z"
   },
   {
    "duration": 1274,
    "start_time": "2021-11-06T21:11:40.222Z"
   },
   {
    "duration": 5,
    "start_time": "2021-11-06T21:20:42.207Z"
   },
   {
    "duration": 263,
    "start_time": "2021-11-06T21:21:35.170Z"
   },
   {
    "duration": 765,
    "start_time": "2021-11-06T21:22:13.133Z"
   },
   {
    "duration": 734,
    "start_time": "2021-11-06T21:27:53.908Z"
   },
   {
    "duration": 7,
    "start_time": "2021-11-06T21:30:35.302Z"
   },
   {
    "duration": 6,
    "start_time": "2021-11-06T21:31:03.801Z"
   },
   {
    "duration": 408,
    "start_time": "2021-11-06T21:47:24.780Z"
   },
   {
    "duration": 612,
    "start_time": "2021-11-06T21:52:44.827Z"
   },
   {
    "duration": 224,
    "start_time": "2021-11-06T21:53:11.307Z"
   },
   {
    "duration": 426,
    "start_time": "2021-11-06T21:54:06.801Z"
   },
   {
    "duration": 227,
    "start_time": "2021-11-06T21:57:25.273Z"
   },
   {
    "duration": 230,
    "start_time": "2021-11-06T22:01:05.308Z"
   },
   {
    "duration": 232,
    "start_time": "2021-11-06T22:02:13.794Z"
   },
   {
    "duration": 227,
    "start_time": "2021-11-06T22:03:59.722Z"
   },
   {
    "duration": 305,
    "start_time": "2021-11-06T22:04:49.710Z"
   },
   {
    "duration": 233,
    "start_time": "2021-11-06T22:06:18.637Z"
   },
   {
    "duration": 57,
    "start_time": "2021-11-06T22:11:30.894Z"
   },
   {
    "duration": 335,
    "start_time": "2021-11-06T22:12:10.446Z"
   },
   {
    "duration": 300,
    "start_time": "2021-11-06T22:14:48.058Z"
   },
   {
    "duration": 314,
    "start_time": "2021-11-06T22:15:23.565Z"
   },
   {
    "duration": 217,
    "start_time": "2021-11-06T22:17:10.619Z"
   },
   {
    "duration": 231,
    "start_time": "2021-11-06T22:18:03.160Z"
   },
   {
    "duration": 227,
    "start_time": "2021-11-06T22:19:16.436Z"
   },
   {
    "duration": 401,
    "start_time": "2021-11-06T22:19:49.251Z"
   },
   {
    "duration": 339,
    "start_time": "2021-11-06T22:23:19.827Z"
   },
   {
    "duration": 1346,
    "start_time": "2021-11-06T22:24:04.738Z"
   },
   {
    "duration": 504,
    "start_time": "2021-11-06T22:24:26.910Z"
   },
   {
    "duration": 254,
    "start_time": "2021-11-06T22:24:55.026Z"
   },
   {
    "duration": 264,
    "start_time": "2021-11-06T22:25:16.804Z"
   },
   {
    "duration": 182,
    "start_time": "2021-11-06T22:30:46.371Z"
   },
   {
    "duration": 767,
    "start_time": "2021-11-06T22:44:30.443Z"
   },
   {
    "duration": 774,
    "start_time": "2021-11-06T22:48:39.746Z"
   },
   {
    "duration": 58,
    "start_time": "2021-11-06T22:48:52.691Z"
   },
   {
    "duration": 625,
    "start_time": "2021-11-06T22:49:52.566Z"
   },
   {
    "duration": 498,
    "start_time": "2021-11-06T22:50:59.009Z"
   },
   {
    "duration": 256,
    "start_time": "2021-11-06T23:09:36.056Z"
   },
   {
    "duration": 234,
    "start_time": "2021-11-06T23:09:57.296Z"
   },
   {
    "duration": 222,
    "start_time": "2021-11-06T23:10:12.530Z"
   },
   {
    "duration": 3,
    "start_time": "2021-11-06T23:15:00.286Z"
   },
   {
    "duration": 3,
    "start_time": "2021-11-06T23:17:39.555Z"
   },
   {
    "duration": 227,
    "start_time": "2021-11-06T23:20:50.193Z"
   },
   {
    "duration": 258,
    "start_time": "2021-11-06T23:22:42.151Z"
   },
   {
    "duration": 261,
    "start_time": "2021-11-06T23:22:54.876Z"
   },
   {
    "duration": 323,
    "start_time": "2021-11-06T23:23:14.671Z"
   },
   {
    "duration": 261,
    "start_time": "2021-11-06T23:24:44.762Z"
   },
   {
    "duration": 69,
    "start_time": "2021-11-06T23:27:40.876Z"
   },
   {
    "duration": 1604,
    "start_time": "2021-11-07T16:32:07.233Z"
   },
   {
    "duration": 928,
    "start_time": "2021-11-07T16:32:08.840Z"
   },
   {
    "duration": 15,
    "start_time": "2021-11-07T16:32:09.772Z"
   },
   {
    "duration": 8,
    "start_time": "2021-11-07T16:32:09.790Z"
   },
   {
    "duration": 1336,
    "start_time": "2021-11-07T16:32:09.801Z"
   },
   {
    "duration": 893,
    "start_time": "2021-11-07T16:32:11.139Z"
   },
   {
    "duration": 16,
    "start_time": "2021-11-07T16:32:12.034Z"
   },
   {
    "duration": 390,
    "start_time": "2021-11-07T16:32:12.067Z"
   },
   {
    "duration": 27,
    "start_time": "2021-11-07T16:32:12.467Z"
   },
   {
    "duration": 4,
    "start_time": "2021-11-07T16:32:12.497Z"
   },
   {
    "duration": 426,
    "start_time": "2021-11-07T16:32:12.504Z"
   },
   {
    "duration": 372,
    "start_time": "2021-11-07T16:32:18.488Z"
   },
   {
    "duration": 466,
    "start_time": "2021-11-07T16:33:06.899Z"
   },
   {
    "duration": 441,
    "start_time": "2021-11-07T16:33:24.429Z"
   },
   {
    "duration": 406,
    "start_time": "2021-11-07T16:33:32.296Z"
   },
   {
    "duration": 391,
    "start_time": "2021-11-07T16:33:44.063Z"
   },
   {
    "duration": 139,
    "start_time": "2021-11-07T16:45:51.445Z"
   },
   {
    "duration": 19,
    "start_time": "2021-11-07T16:59:14.719Z"
   },
   {
    "duration": 48,
    "start_time": "2021-11-07T16:59:20.857Z"
   },
   {
    "duration": 18,
    "start_time": "2021-11-07T17:02:59.887Z"
   },
   {
    "duration": 12,
    "start_time": "2021-11-07T17:05:17.476Z"
   },
   {
    "duration": 12,
    "start_time": "2021-11-07T17:05:50.273Z"
   },
   {
    "duration": 1623,
    "start_time": "2021-11-07T17:07:58.312Z"
   },
   {
    "duration": 1764,
    "start_time": "2021-11-07T17:07:59.938Z"
   },
   {
    "duration": 15,
    "start_time": "2021-11-07T17:08:01.705Z"
   },
   {
    "duration": 9,
    "start_time": "2021-11-07T17:08:01.723Z"
   },
   {
    "duration": 1484,
    "start_time": "2021-11-07T17:08:01.734Z"
   },
   {
    "duration": 938,
    "start_time": "2021-11-07T17:08:03.220Z"
   },
   {
    "duration": 17,
    "start_time": "2021-11-07T17:08:04.167Z"
   },
   {
    "duration": 406,
    "start_time": "2021-11-07T17:08:04.189Z"
   },
   {
    "duration": 29,
    "start_time": "2021-11-07T17:08:04.598Z"
   },
   {
    "duration": 5,
    "start_time": "2021-11-07T17:08:04.629Z"
   },
   {
    "duration": 552,
    "start_time": "2021-11-07T17:08:04.637Z"
   },
   {
    "duration": 415,
    "start_time": "2021-11-07T17:08:05.192Z"
   },
   {
    "duration": 148,
    "start_time": "2021-11-07T17:08:05.610Z"
   },
   {
    "duration": 51,
    "start_time": "2021-11-07T17:08:05.760Z"
   },
   {
    "duration": 17,
    "start_time": "2021-11-07T17:09:32.942Z"
   },
   {
    "duration": 10,
    "start_time": "2021-11-07T17:10:06.541Z"
   },
   {
    "duration": 12,
    "start_time": "2021-11-07T17:10:31.388Z"
   },
   {
    "duration": 8,
    "start_time": "2021-11-07T17:16:31.309Z"
   },
   {
    "duration": 9,
    "start_time": "2021-11-07T17:17:35.034Z"
   },
   {
    "duration": 8,
    "start_time": "2021-11-07T17:18:07.302Z"
   },
   {
    "duration": 10,
    "start_time": "2021-11-07T17:18:22.421Z"
   },
   {
    "duration": 8,
    "start_time": "2021-11-07T17:19:25.141Z"
   },
   {
    "duration": 17,
    "start_time": "2021-11-07T17:22:32.594Z"
   },
   {
    "duration": 16,
    "start_time": "2021-11-07T17:22:58.923Z"
   },
   {
    "duration": 10,
    "start_time": "2021-11-07T17:29:53.528Z"
   },
   {
    "duration": 92,
    "start_time": "2021-11-07T17:30:38.115Z"
   },
   {
    "duration": 5,
    "start_time": "2021-11-07T17:33:29.331Z"
   },
   {
    "duration": 3,
    "start_time": "2021-11-07T17:34:23.789Z"
   },
   {
    "duration": 6,
    "start_time": "2021-11-07T17:37:59.630Z"
   },
   {
    "duration": 31541,
    "start_time": "2021-11-07T17:48:36.629Z"
   },
   {
    "duration": 3,
    "start_time": "2021-11-07T17:54:53.215Z"
   },
   {
    "duration": 32502,
    "start_time": "2021-11-07T18:12:52.873Z"
   },
   {
    "duration": 450,
    "start_time": "2021-11-07T18:14:23.162Z"
   },
   {
    "duration": 31437,
    "start_time": "2021-11-07T18:14:39.436Z"
   },
   {
    "duration": 31487,
    "start_time": "2021-11-07T18:16:15.189Z"
   },
   {
    "duration": 588262,
    "start_time": "2021-11-07T18:37:23.088Z"
   },
   {
    "duration": 139476,
    "start_time": "2021-11-07T18:51:48.252Z"
   },
   {
    "duration": 13,
    "start_time": "2021-11-07T18:55:24.331Z"
   },
   {
    "duration": 10,
    "start_time": "2021-11-07T18:55:43.283Z"
   },
   {
    "duration": 82290,
    "start_time": "2021-11-07T18:56:52.298Z"
   },
   {
    "duration": 185002,
    "start_time": "2021-11-07T19:03:53.369Z"
   },
   {
    "duration": 2036,
    "start_time": "2021-11-07T19:07:52.329Z"
   },
   {
    "duration": 2231,
    "start_time": "2021-11-07T19:08:06.641Z"
   },
   {
    "duration": 1461,
    "start_time": "2021-11-07T19:08:56.907Z"
   },
   {
    "duration": 1795,
    "start_time": "2021-11-07T19:09:23.877Z"
   },
   {
    "duration": 17904,
    "start_time": "2021-11-07T19:10:45.364Z"
   },
   {
    "duration": 1691,
    "start_time": "2021-11-07T19:14:10.778Z"
   },
   {
    "duration": 12,
    "start_time": "2021-11-07T19:15:28.593Z"
   },
   {
    "duration": 9,
    "start_time": "2021-11-07T19:16:19.426Z"
   },
   {
    "duration": 1566,
    "start_time": "2021-11-07T19:16:42.006Z"
   },
   {
    "duration": 113235,
    "start_time": "2021-11-07T19:18:31.834Z"
   },
   {
    "duration": 1436,
    "start_time": "2021-11-07T19:20:58.439Z"
   },
   {
    "duration": 134217,
    "start_time": "2021-11-07T19:23:59.749Z"
   },
   {
    "duration": 1790,
    "start_time": "2021-11-07T19:27:31.082Z"
   },
   {
    "duration": 12,
    "start_time": "2021-11-07T19:34:45.740Z"
   },
   {
    "duration": 10,
    "start_time": "2021-11-07T19:35:38.505Z"
   },
   {
    "duration": 175735,
    "start_time": "2021-11-07T19:44:45.837Z"
   },
   {
    "duration": 14,
    "start_time": "2021-11-07T19:50:11.563Z"
   },
   {
    "duration": 15,
    "start_time": "2021-11-07T19:50:33.449Z"
   },
   {
    "duration": 1525,
    "start_time": "2021-11-07T19:51:27.907Z"
   },
   {
    "duration": 964,
    "start_time": "2021-11-07T19:51:29.435Z"
   },
   {
    "duration": 16,
    "start_time": "2021-11-07T19:51:30.402Z"
   },
   {
    "duration": 10,
    "start_time": "2021-11-07T19:51:30.421Z"
   },
   {
    "duration": 1378,
    "start_time": "2021-11-07T19:51:30.433Z"
   },
   {
    "duration": 919,
    "start_time": "2021-11-07T19:51:31.814Z"
   },
   {
    "duration": 32,
    "start_time": "2021-11-07T19:51:32.736Z"
   },
   {
    "duration": 382,
    "start_time": "2021-11-07T19:51:32.772Z"
   },
   {
    "duration": 32,
    "start_time": "2021-11-07T19:51:33.157Z"
   },
   {
    "duration": 4,
    "start_time": "2021-11-07T19:51:33.191Z"
   },
   {
    "duration": 513,
    "start_time": "2021-11-07T19:51:33.198Z"
   },
   {
    "duration": 412,
    "start_time": "2021-11-07T19:51:33.714Z"
   },
   {
    "duration": 151,
    "start_time": "2021-11-07T19:51:34.128Z"
   },
   {
    "duration": 47,
    "start_time": "2021-11-07T19:51:34.281Z"
   },
   {
    "duration": 9,
    "start_time": "2021-11-07T19:51:34.330Z"
   },
   {
    "duration": 31,
    "start_time": "2021-11-07T19:51:34.341Z"
   },
   {
    "duration": 16,
    "start_time": "2021-11-07T19:51:34.375Z"
   },
   {
    "duration": 10,
    "start_time": "2021-11-07T19:51:34.393Z"
   },
   {
    "duration": 132,
    "start_time": "2021-11-07T19:51:34.405Z"
   },
   {
    "duration": 5,
    "start_time": "2021-11-07T19:51:34.540Z"
   },
   {
    "duration": 6,
    "start_time": "2021-11-07T19:51:34.547Z"
   },
   {
    "duration": 3,
    "start_time": "2021-11-07T19:51:34.568Z"
   },
   {
    "duration": 31795,
    "start_time": "2021-11-07T19:51:34.575Z"
   },
   {
    "duration": 168803,
    "start_time": "2021-11-07T19:52:06.375Z"
   },
   {
    "duration": 16,
    "start_time": "2021-11-07T19:55:02.021Z"
   },
   {
    "duration": 11,
    "start_time": "2021-11-07T20:00:00.719Z"
   },
   {
    "duration": 14,
    "start_time": "2021-11-07T20:02:39.339Z"
   },
   {
    "duration": 9,
    "start_time": "2021-11-07T20:02:43.760Z"
   },
   {
    "duration": 1677,
    "start_time": "2021-11-07T20:06:20.317Z"
   },
   {
    "duration": 1100,
    "start_time": "2021-11-07T20:06:21.996Z"
   },
   {
    "duration": 15,
    "start_time": "2021-11-07T20:06:23.099Z"
   },
   {
    "duration": 8,
    "start_time": "2021-11-07T20:06:23.116Z"
   },
   {
    "duration": 1384,
    "start_time": "2021-11-07T20:06:23.127Z"
   },
   {
    "duration": 968,
    "start_time": "2021-11-07T20:06:24.514Z"
   },
   {
    "duration": 18,
    "start_time": "2021-11-07T20:06:25.485Z"
   },
   {
    "duration": 439,
    "start_time": "2021-11-07T20:06:25.508Z"
   },
   {
    "duration": 37,
    "start_time": "2021-11-07T20:06:25.950Z"
   },
   {
    "duration": 4,
    "start_time": "2021-11-07T20:06:25.989Z"
   },
   {
    "duration": 438,
    "start_time": "2021-11-07T20:06:25.996Z"
   },
   {
    "duration": 400,
    "start_time": "2021-11-07T20:06:26.446Z"
   },
   {
    "duration": 174,
    "start_time": "2021-11-07T20:06:26.848Z"
   },
   {
    "duration": 60,
    "start_time": "2021-11-07T20:06:27.025Z"
   },
   {
    "duration": 11,
    "start_time": "2021-11-07T20:06:27.088Z"
   },
   {
    "duration": 19,
    "start_time": "2021-11-07T20:06:27.102Z"
   },
   {
    "duration": 48,
    "start_time": "2021-11-07T20:06:27.124Z"
   },
   {
    "duration": 10,
    "start_time": "2021-11-07T20:06:27.174Z"
   },
   {
    "duration": 112,
    "start_time": "2021-11-07T20:06:27.187Z"
   },
   {
    "duration": 5,
    "start_time": "2021-11-07T20:06:27.301Z"
   },
   {
    "duration": 7,
    "start_time": "2021-11-07T20:06:27.308Z"
   },
   {
    "duration": 20,
    "start_time": "2021-11-07T20:06:27.317Z"
   },
   {
    "duration": 31812,
    "start_time": "2021-11-07T20:06:37.663Z"
   },
   {
    "duration": 182167,
    "start_time": "2021-11-07T20:07:29.401Z"
   },
   {
    "duration": 558,
    "start_time": "2021-11-07T20:10:41.883Z"
   },
   {
    "duration": 11,
    "start_time": "2021-11-07T20:11:31.059Z"
   },
   {
    "duration": 10,
    "start_time": "2021-11-07T20:12:04.262Z"
   },
   {
    "duration": 25,
    "start_time": "2021-11-07T20:12:25.140Z"
   },
   {
    "duration": 2378,
    "start_time": "2021-11-07T20:17:48.496Z"
   },
   {
    "duration": 129682,
    "start_time": "2021-11-07T20:18:44.192Z"
   },
   {
    "duration": 1630,
    "start_time": "2021-11-07T20:21:49.541Z"
   },
   {
    "duration": 12,
    "start_time": "2021-11-07T20:22:53.591Z"
   },
   {
    "duration": 10,
    "start_time": "2021-11-07T20:22:57.500Z"
   },
   {
    "duration": 10,
    "start_time": "2021-11-07T20:30:18.048Z"
   },
   {
    "duration": 10,
    "start_time": "2021-11-07T20:31:28.961Z"
   },
   {
    "duration": 6,
    "start_time": "2021-11-07T21:22:43.078Z"
   },
   {
    "duration": 1559,
    "start_time": "2021-11-07T21:23:09.369Z"
   },
   {
    "duration": 980,
    "start_time": "2021-11-07T21:23:10.932Z"
   },
   {
    "duration": 15,
    "start_time": "2021-11-07T21:23:11.915Z"
   },
   {
    "duration": 38,
    "start_time": "2021-11-07T21:23:11.933Z"
   },
   {
    "duration": 1342,
    "start_time": "2021-11-07T21:23:11.973Z"
   },
   {
    "duration": 927,
    "start_time": "2021-11-07T21:23:13.318Z"
   },
   {
    "duration": 28,
    "start_time": "2021-11-07T21:23:14.248Z"
   },
   {
    "duration": 395,
    "start_time": "2021-11-07T21:23:14.280Z"
   },
   {
    "duration": 30,
    "start_time": "2021-11-07T21:23:14.677Z"
   },
   {
    "duration": 4,
    "start_time": "2021-11-07T21:23:14.710Z"
   },
   {
    "duration": 453,
    "start_time": "2021-11-07T21:23:14.717Z"
   },
   {
    "duration": 416,
    "start_time": "2021-11-07T21:23:15.173Z"
   },
   {
    "duration": 157,
    "start_time": "2021-11-07T21:23:15.591Z"
   },
   {
    "duration": 58,
    "start_time": "2021-11-07T21:23:15.751Z"
   },
   {
    "duration": 10,
    "start_time": "2021-11-07T21:23:15.812Z"
   },
   {
    "duration": 51,
    "start_time": "2021-11-07T21:23:15.824Z"
   },
   {
    "duration": 18,
    "start_time": "2021-11-07T21:23:15.878Z"
   },
   {
    "duration": 9,
    "start_time": "2021-11-07T21:23:15.899Z"
   },
   {
    "duration": 134,
    "start_time": "2021-11-07T21:23:15.911Z"
   },
   {
    "duration": 5,
    "start_time": "2021-11-07T21:23:16.047Z"
   },
   {
    "duration": 6,
    "start_time": "2021-11-07T21:23:16.068Z"
   },
   {
    "duration": 6,
    "start_time": "2021-11-07T21:23:16.076Z"
   },
   {
    "duration": 31584,
    "start_time": "2021-11-07T21:23:16.086Z"
   },
   {
    "duration": 133494,
    "start_time": "2021-11-07T21:23:47.673Z"
   },
   {
    "duration": 1702,
    "start_time": "2021-11-07T21:26:01.173Z"
   },
   {
    "duration": 98,
    "start_time": "2021-11-07T21:26:02.877Z"
   },
   {
    "duration": 1130,
    "start_time": "2021-11-08T05:35:56.870Z"
   },
   {
    "duration": 1234,
    "start_time": "2021-11-08T05:35:58.001Z"
   },
   {
    "duration": 7,
    "start_time": "2021-11-08T05:37:02.026Z"
   },
   {
    "duration": 6,
    "start_time": "2021-11-08T05:37:19.616Z"
   },
   {
    "duration": 783,
    "start_time": "2021-11-08T05:38:02.558Z"
   },
   {
    "duration": 536,
    "start_time": "2021-11-08T05:38:03.594Z"
   },
   {
    "duration": 10,
    "start_time": "2021-11-08T05:38:31.662Z"
   },
   {
    "duration": 213,
    "start_time": "2021-11-08T05:38:36.004Z"
   },
   {
    "duration": 16,
    "start_time": "2021-11-08T05:38:59.863Z"
   },
   {
    "duration": 3,
    "start_time": "2021-11-08T05:39:00.465Z"
   },
   {
    "duration": 246,
    "start_time": "2021-11-08T05:39:05.318Z"
   },
   {
    "duration": 230,
    "start_time": "2021-11-08T05:39:13.385Z"
   },
   {
    "duration": 83,
    "start_time": "2021-11-08T05:39:20.489Z"
   },
   {
    "duration": 30,
    "start_time": "2021-11-08T05:39:47.878Z"
   },
   {
    "duration": 7,
    "start_time": "2021-11-08T05:40:10.194Z"
   },
   {
    "duration": 9,
    "start_time": "2021-11-08T05:40:12.640Z"
   },
   {
    "duration": 14,
    "start_time": "2021-11-08T05:40:13.749Z"
   },
   {
    "duration": 7,
    "start_time": "2021-11-08T05:42:06.199Z"
   },
   {
    "duration": 59,
    "start_time": "2021-11-08T05:42:30.091Z"
   },
   {
    "duration": 4,
    "start_time": "2021-11-08T05:42:52.164Z"
   },
   {
    "duration": 2,
    "start_time": "2021-11-08T05:42:52.822Z"
   },
   {
    "duration": 2,
    "start_time": "2021-11-08T05:43:13.466Z"
   },
   {
    "duration": 22690,
    "start_time": "2021-11-08T05:43:36.303Z"
   }
  ],
  "kernelspec": {
   "display_name": "Python 3",
   "language": "python",
   "name": "python3"
  },
  "language_info": {
   "codemirror_mode": {
    "name": "ipython",
    "version": 3
   },
   "file_extension": ".py",
   "mimetype": "text/x-python",
   "name": "python",
   "nbconvert_exporter": "python",
   "pygments_lexer": "ipython3",
   "version": "3.8.8"
  },
  "toc": {
   "base_numbering": 1,
   "nav_menu": {},
   "number_sections": true,
   "sideBar": true,
   "skip_h1_title": true,
   "title_cell": "Содержание",
   "title_sidebar": "Contents",
   "toc_cell": true,
   "toc_position": {},
   "toc_section_display": true,
   "toc_window_display": true
  }
 },
 "nbformat": 4,
 "nbformat_minor": 2
}
