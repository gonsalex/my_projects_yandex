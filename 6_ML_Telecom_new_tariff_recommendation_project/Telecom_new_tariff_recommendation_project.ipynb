{
 "cells": [
  {
   "cell_type": "markdown",
   "metadata": {},
   "source": [
    "# Рекомендация тарифов"
   ]
  },
  {
   "cell_type": "markdown",
   "metadata": {},
   "source": [
    "В нашем распоряжении данные о поведении клиентов, которые перешли на новые тарифы. Нужно построить модель для задачи классификации, которая выберет подходящий тариф. Предобработка данных уже сделана.\n",
    "\n",
    "Необходимо построить модель с максимально большим значением *accuracy* и довести долю правильных ответов по крайней мере до 0.75. Проверить *accuracy* на тестовой выборке."
   ]
  },
  {
   "cell_type": "markdown",
   "metadata": {},
   "source": [
    "## Откройте и изучите файл"
   ]
  },
  {
   "cell_type": "code",
   "execution_count": 1,
   "metadata": {},
   "outputs": [
    {
     "name": "stdout",
     "output_type": "stream",
     "text": [
      "<class 'pandas.core.frame.DataFrame'>\n",
      "RangeIndex: 3214 entries, 0 to 3213\n",
      "Data columns (total 5 columns):\n",
      "calls       3214 non-null float64\n",
      "minutes     3214 non-null float64\n",
      "messages    3214 non-null float64\n",
      "mb_used     3214 non-null float64\n",
      "is_ultra    3214 non-null int64\n",
      "dtypes: float64(4), int64(1)\n",
      "memory usage: 125.7 KB\n"
     ]
    },
    {
     "data": {
      "text/html": [
       "<div>\n",
       "<style scoped>\n",
       "    .dataframe tbody tr th:only-of-type {\n",
       "        vertical-align: middle;\n",
       "    }\n",
       "\n",
       "    .dataframe tbody tr th {\n",
       "        vertical-align: top;\n",
       "    }\n",
       "\n",
       "    .dataframe thead th {\n",
       "        text-align: right;\n",
       "    }\n",
       "</style>\n",
       "<table border=\"1\" class=\"dataframe\">\n",
       "  <thead>\n",
       "    <tr style=\"text-align: right;\">\n",
       "      <th></th>\n",
       "      <th>calls</th>\n",
       "      <th>minutes</th>\n",
       "      <th>messages</th>\n",
       "      <th>mb_used</th>\n",
       "      <th>is_ultra</th>\n",
       "    </tr>\n",
       "  </thead>\n",
       "  <tbody>\n",
       "    <tr>\n",
       "      <td>0</td>\n",
       "      <td>40.0</td>\n",
       "      <td>311.90</td>\n",
       "      <td>83.0</td>\n",
       "      <td>19915.42</td>\n",
       "      <td>0</td>\n",
       "    </tr>\n",
       "    <tr>\n",
       "      <td>1</td>\n",
       "      <td>85.0</td>\n",
       "      <td>516.75</td>\n",
       "      <td>56.0</td>\n",
       "      <td>22696.96</td>\n",
       "      <td>0</td>\n",
       "    </tr>\n",
       "    <tr>\n",
       "      <td>2</td>\n",
       "      <td>77.0</td>\n",
       "      <td>467.66</td>\n",
       "      <td>86.0</td>\n",
       "      <td>21060.45</td>\n",
       "      <td>0</td>\n",
       "    </tr>\n",
       "    <tr>\n",
       "      <td>3</td>\n",
       "      <td>106.0</td>\n",
       "      <td>745.53</td>\n",
       "      <td>81.0</td>\n",
       "      <td>8437.39</td>\n",
       "      <td>1</td>\n",
       "    </tr>\n",
       "    <tr>\n",
       "      <td>4</td>\n",
       "      <td>66.0</td>\n",
       "      <td>418.74</td>\n",
       "      <td>1.0</td>\n",
       "      <td>14502.75</td>\n",
       "      <td>0</td>\n",
       "    </tr>\n",
       "  </tbody>\n",
       "</table>\n",
       "</div>"
      ],
      "text/plain": [
       "   calls  minutes  messages   mb_used  is_ultra\n",
       "0   40.0   311.90      83.0  19915.42         0\n",
       "1   85.0   516.75      56.0  22696.96         0\n",
       "2   77.0   467.66      86.0  21060.45         0\n",
       "3  106.0   745.53      81.0   8437.39         1\n",
       "4   66.0   418.74       1.0  14502.75         0"
      ]
     },
     "metadata": {},
     "output_type": "display_data"
    },
    {
     "data": {
      "text/html": [
       "<div>\n",
       "<style scoped>\n",
       "    .dataframe tbody tr th:only-of-type {\n",
       "        vertical-align: middle;\n",
       "    }\n",
       "\n",
       "    .dataframe tbody tr th {\n",
       "        vertical-align: top;\n",
       "    }\n",
       "\n",
       "    .dataframe thead th {\n",
       "        text-align: right;\n",
       "    }\n",
       "</style>\n",
       "<table border=\"1\" class=\"dataframe\">\n",
       "  <thead>\n",
       "    <tr style=\"text-align: right;\">\n",
       "      <th></th>\n",
       "      <th>calls</th>\n",
       "      <th>minutes</th>\n",
       "      <th>messages</th>\n",
       "      <th>mb_used</th>\n",
       "      <th>is_ultra</th>\n",
       "    </tr>\n",
       "  </thead>\n",
       "  <tbody>\n",
       "    <tr>\n",
       "      <td>3209</td>\n",
       "      <td>122.0</td>\n",
       "      <td>910.98</td>\n",
       "      <td>20.0</td>\n",
       "      <td>35124.90</td>\n",
       "      <td>1</td>\n",
       "    </tr>\n",
       "    <tr>\n",
       "      <td>3210</td>\n",
       "      <td>25.0</td>\n",
       "      <td>190.36</td>\n",
       "      <td>0.0</td>\n",
       "      <td>3275.61</td>\n",
       "      <td>0</td>\n",
       "    </tr>\n",
       "    <tr>\n",
       "      <td>3211</td>\n",
       "      <td>97.0</td>\n",
       "      <td>634.44</td>\n",
       "      <td>70.0</td>\n",
       "      <td>13974.06</td>\n",
       "      <td>0</td>\n",
       "    </tr>\n",
       "    <tr>\n",
       "      <td>3212</td>\n",
       "      <td>64.0</td>\n",
       "      <td>462.32</td>\n",
       "      <td>90.0</td>\n",
       "      <td>31239.78</td>\n",
       "      <td>0</td>\n",
       "    </tr>\n",
       "    <tr>\n",
       "      <td>3213</td>\n",
       "      <td>80.0</td>\n",
       "      <td>566.09</td>\n",
       "      <td>6.0</td>\n",
       "      <td>29480.52</td>\n",
       "      <td>1</td>\n",
       "    </tr>\n",
       "  </tbody>\n",
       "</table>\n",
       "</div>"
      ],
      "text/plain": [
       "      calls  minutes  messages   mb_used  is_ultra\n",
       "3209  122.0   910.98      20.0  35124.90         1\n",
       "3210   25.0   190.36       0.0   3275.61         0\n",
       "3211   97.0   634.44      70.0  13974.06         0\n",
       "3212   64.0   462.32      90.0  31239.78         0\n",
       "3213   80.0   566.09       6.0  29480.52         1"
      ]
     },
     "metadata": {},
     "output_type": "display_data"
    }
   ],
   "source": [
    "import pandas as pd\n",
    "import numpy as np\n",
    "from sklearn.model_selection import train_test_split\n",
    "from sklearn.tree import DecisionTreeClassifier\n",
    "from sklearn.ensemble import RandomForestClassifier\n",
    "from sklearn.linear_model import LogisticRegression\n",
    "from sklearn.metrics import accuracy_score\n",
    "from sklearn.dummy import DummyClassifier\n",
    "import joblib\n",
    "import matplotlib.pyplot as plt\n",
    "from pandas.plotting import scatter_matrix\n",
    "#import seaborn as sns\n",
    "\n",
    "data = pd.read_csv('/datasets/users_behavior.csv')\n",
    "data.info()\n",
    "display(data.head())\n",
    "display(data.tail())\n"
   ]
  },
  {
   "cell_type": "markdown",
   "metadata": {},
   "source": [
    "Файл содержит 3214 записей (объектов) о потреблении услуг связи пользователей моьбильной связи. Предобработка данных была сделана ранее."
   ]
  },
  {
   "cell_type": "markdown",
   "metadata": {},
   "source": [
    "Проверим данные в выборке на мультиколлениарность. Для определения связей построим матрицу парных коэффициентов корреляции для выборки и также посмотрим зависимости на графике. "
   ]
  },
  {
   "cell_type": "code",
   "execution_count": 2,
   "metadata": {},
   "outputs": [
    {
     "data": {
      "text/html": [
       "<div>\n",
       "<style scoped>\n",
       "    .dataframe tbody tr th:only-of-type {\n",
       "        vertical-align: middle;\n",
       "    }\n",
       "\n",
       "    .dataframe tbody tr th {\n",
       "        vertical-align: top;\n",
       "    }\n",
       "\n",
       "    .dataframe thead th {\n",
       "        text-align: right;\n",
       "    }\n",
       "</style>\n",
       "<table border=\"1\" class=\"dataframe\">\n",
       "  <thead>\n",
       "    <tr style=\"text-align: right;\">\n",
       "      <th></th>\n",
       "      <th>calls</th>\n",
       "      <th>minutes</th>\n",
       "      <th>messages</th>\n",
       "      <th>mb_used</th>\n",
       "      <th>is_ultra</th>\n",
       "    </tr>\n",
       "  </thead>\n",
       "  <tbody>\n",
       "    <tr>\n",
       "      <td>calls</td>\n",
       "      <td>1.000000</td>\n",
       "      <td>0.982083</td>\n",
       "      <td>0.177385</td>\n",
       "      <td>0.286442</td>\n",
       "      <td>0.207122</td>\n",
       "    </tr>\n",
       "    <tr>\n",
       "      <td>minutes</td>\n",
       "      <td>0.982083</td>\n",
       "      <td>1.000000</td>\n",
       "      <td>0.173110</td>\n",
       "      <td>0.280967</td>\n",
       "      <td>0.206955</td>\n",
       "    </tr>\n",
       "    <tr>\n",
       "      <td>messages</td>\n",
       "      <td>0.177385</td>\n",
       "      <td>0.173110</td>\n",
       "      <td>1.000000</td>\n",
       "      <td>0.195721</td>\n",
       "      <td>0.203830</td>\n",
       "    </tr>\n",
       "    <tr>\n",
       "      <td>mb_used</td>\n",
       "      <td>0.286442</td>\n",
       "      <td>0.280967</td>\n",
       "      <td>0.195721</td>\n",
       "      <td>1.000000</td>\n",
       "      <td>0.198568</td>\n",
       "    </tr>\n",
       "    <tr>\n",
       "      <td>is_ultra</td>\n",
       "      <td>0.207122</td>\n",
       "      <td>0.206955</td>\n",
       "      <td>0.203830</td>\n",
       "      <td>0.198568</td>\n",
       "      <td>1.000000</td>\n",
       "    </tr>\n",
       "  </tbody>\n",
       "</table>\n",
       "</div>"
      ],
      "text/plain": [
       "             calls   minutes  messages   mb_used  is_ultra\n",
       "calls     1.000000  0.982083  0.177385  0.286442  0.207122\n",
       "minutes   0.982083  1.000000  0.173110  0.280967  0.206955\n",
       "messages  0.177385  0.173110  1.000000  0.195721  0.203830\n",
       "mb_used   0.286442  0.280967  0.195721  1.000000  0.198568\n",
       "is_ultra  0.207122  0.206955  0.203830  0.198568  1.000000"
      ]
     },
     "metadata": {},
     "output_type": "display_data"
    }
   ],
   "source": [
    "display(data.corr())"
   ]
  },
  {
   "cell_type": "code",
   "execution_count": 3,
   "metadata": {},
   "outputs": [
    {
     "data": {
      "image/png": "[encoded data removed]",
      "text/plain": [
       "<Figure size 720x720 with 25 Axes>"
      ]
     },
     "metadata": {
      "needs_background": "light"
     },
     "output_type": "display_data"
    }
   ],
   "source": [
    "scatter_matrix(data, alpha=0.3, figsize=(10, 10), diagonal='kde')\n",
    "plt.suptitle('Связи между признаками')\n",
    "plt.show()"
   ]
  },
  {
   "cell_type": "markdown",
   "metadata": {},
   "source": [
    "Наблюдается сильная связь между признаками 'calls' и 'minutes', корреляция близка к единице. На графике также видно, что эта связь имеет линейный характер. Факторы модели явно коллениарны, если они находятся между собой в линейной завимирсти и коэффициент корреляции >0.7, т.е. это наш случай. Так как факторы 'calls' и 'minutes' фактически дублируют друг друга, один из них необходимо исключить. Исключим фактор 'calls', т.к. он имеет немного более сильные связи с другими параметрами, чем 'minutes'."
   ]
  },
  {
   "attachments": {
    "image.png": {
     "image/png": "[encoded data removed]"
    }
   },
   "cell_type": "markdown",
   "metadata": {},
   "source": [
    "![image.png](attachment:image.png)"
   ]
  },
  {
   "cell_type": "code",
   "execution_count": null,
   "metadata": {},
   "outputs": [],
   "source": []
  },
  {
   "cell_type": "code",
   "execution_count": 4,
   "metadata": {},
   "outputs": [
    {
     "data": {
      "text/html": [
       "<div>\n",
       "<style scoped>\n",
       "    .dataframe tbody tr th:only-of-type {\n",
       "        vertical-align: middle;\n",
       "    }\n",
       "\n",
       "    .dataframe tbody tr th {\n",
       "        vertical-align: top;\n",
       "    }\n",
       "\n",
       "    .dataframe thead th {\n",
       "        text-align: right;\n",
       "    }\n",
       "</style>\n",
       "<table border=\"1\" class=\"dataframe\">\n",
       "  <thead>\n",
       "    <tr style=\"text-align: right;\">\n",
       "      <th></th>\n",
       "      <th>minutes</th>\n",
       "      <th>messages</th>\n",
       "      <th>mb_used</th>\n",
       "      <th>is_ultra</th>\n",
       "    </tr>\n",
       "  </thead>\n",
       "  <tbody>\n",
       "    <tr>\n",
       "      <td>0</td>\n",
       "      <td>311.90</td>\n",
       "      <td>83.0</td>\n",
       "      <td>19915.42</td>\n",
       "      <td>0</td>\n",
       "    </tr>\n",
       "    <tr>\n",
       "      <td>1</td>\n",
       "      <td>516.75</td>\n",
       "      <td>56.0</td>\n",
       "      <td>22696.96</td>\n",
       "      <td>0</td>\n",
       "    </tr>\n",
       "    <tr>\n",
       "      <td>2</td>\n",
       "      <td>467.66</td>\n",
       "      <td>86.0</td>\n",
       "      <td>21060.45</td>\n",
       "      <td>0</td>\n",
       "    </tr>\n",
       "    <tr>\n",
       "      <td>3</td>\n",
       "      <td>745.53</td>\n",
       "      <td>81.0</td>\n",
       "      <td>8437.39</td>\n",
       "      <td>1</td>\n",
       "    </tr>\n",
       "    <tr>\n",
       "      <td>4</td>\n",
       "      <td>418.74</td>\n",
       "      <td>1.0</td>\n",
       "      <td>14502.75</td>\n",
       "      <td>0</td>\n",
       "    </tr>\n",
       "  </tbody>\n",
       "</table>\n",
       "</div>"
      ],
      "text/plain": [
       "   minutes  messages   mb_used  is_ultra\n",
       "0   311.90      83.0  19915.42         0\n",
       "1   516.75      56.0  22696.96         0\n",
       "2   467.66      86.0  21060.45         0\n",
       "3   745.53      81.0   8437.39         1\n",
       "4   418.74       1.0  14502.75         0"
      ]
     },
     "metadata": {},
     "output_type": "display_data"
    }
   ],
   "source": [
    "data.drop('calls', axis=1, inplace=True)\n",
    "display(data.head())"
   ]
  },
  {
   "cell_type": "markdown",
   "metadata": {},
   "source": [
    "## Разбейте данные на выборки"
   ]
  },
  {
   "cell_type": "markdown",
   "metadata": {},
   "source": [
    "Данные разобъем на три части: обучающую, валидационную и тестовую. Размеры\n",
    "тестового и валидационного наборов сделаем равными. Исходные данные разобъем в соотношении 3:1:1.\n",
    "\n",
    "Выделим тестовые данные *data_test*"
   ]
  },
  {
   "cell_type": "code",
   "execution_count": 5,
   "metadata": {},
   "outputs": [],
   "source": [
    "data_train_valid, data_test = train_test_split(\n",
    "                        data, test_size=0.2, random_state=12345)"
   ]
  },
  {
   "cell_type": "code",
   "execution_count": 6,
   "metadata": {},
   "outputs": [
    {
     "name": "stdout",
     "output_type": "stream",
     "text": [
      "<class 'pandas.core.frame.DataFrame'>\n",
      "Int64Index: 643 entries, 1415 to 1196\n",
      "Data columns (total 4 columns):\n",
      "minutes     643 non-null float64\n",
      "messages    643 non-null float64\n",
      "mb_used     643 non-null float64\n",
      "is_ultra    643 non-null int64\n",
      "dtypes: float64(3), int64(1)\n",
      "memory usage: 25.1 KB\n"
     ]
    }
   ],
   "source": [
    "data_test.info()"
   ]
  },
  {
   "cell_type": "markdown",
   "metadata": {},
   "source": [
    "Выделим данные для обучения и валидации *data_train* и *data_valid*"
   ]
  },
  {
   "cell_type": "code",
   "execution_count": 7,
   "metadata": {},
   "outputs": [],
   "source": [
    "data_train, data_valid = train_test_split(\n",
    "                        data_train_valid, test_size=0.25, random_state=12345)"
   ]
  },
  {
   "cell_type": "code",
   "execution_count": 8,
   "metadata": {},
   "outputs": [
    {
     "name": "stdout",
     "output_type": "stream",
     "text": [
      "<class 'pandas.core.frame.DataFrame'>\n",
      "Int64Index: 643 entries, 2699 to 1806\n",
      "Data columns (total 4 columns):\n",
      "minutes     643 non-null float64\n",
      "messages    643 non-null float64\n",
      "mb_used     643 non-null float64\n",
      "is_ultra    643 non-null int64\n",
      "dtypes: float64(3), int64(1)\n",
      "memory usage: 25.1 KB\n"
     ]
    }
   ],
   "source": [
    "data_valid.info()"
   ]
  },
  {
   "cell_type": "code",
   "execution_count": 9,
   "metadata": {},
   "outputs": [
    {
     "name": "stdout",
     "output_type": "stream",
     "text": [
      "<class 'pandas.core.frame.DataFrame'>\n",
      "Int64Index: 1928 entries, 2656 to 510\n",
      "Data columns (total 4 columns):\n",
      "minutes     1928 non-null float64\n",
      "messages    1928 non-null float64\n",
      "mb_used     1928 non-null float64\n",
      "is_ultra    1928 non-null int64\n",
      "dtypes: float64(3), int64(1)\n",
      "memory usage: 75.3 KB\n"
     ]
    }
   ],
   "source": [
    "data_train.info()"
   ]
  },
  {
   "cell_type": "markdown",
   "metadata": {},
   "source": [
    "Данные разбили на обучающие, валидационные и тестовые в соотношении 3:1:1."
   ]
  },
  {
   "cell_type": "code",
   "execution_count": 10,
   "metadata": {},
   "outputs": [
    {
     "name": "stdout",
     "output_type": "stream",
     "text": [
      "Размер обучающей выборки: (1928, 4)\n",
      "Размер валидационной выборки: (643, 4)\n",
      "Размер тестовой выборки: (643, 4)\n"
     ]
    }
   ],
   "source": [
    "print('Размер обучающей выборки:', data_train.shape)\n",
    "print('Размер валидационной выборки:',data_valid.shape)\n",
    "print('Размер тестовой выборки:',data_test.shape)"
   ]
  },
  {
   "cell_type": "markdown",
   "metadata": {},
   "source": [
    "## Исследуйте модели"
   ]
  },
  {
   "cell_type": "markdown",
   "metadata": {},
   "source": [
    "Подготовим данные для обучения и валидации. Разделим данные на признаки и целевой признак - столбец *'is_ultra'*"
   ]
  },
  {
   "cell_type": "code",
   "execution_count": 11,
   "metadata": {},
   "outputs": [],
   "source": [
    "features_train = data_train.drop(['is_ultra'], axis=1)\n",
    "target_train = data_train['is_ultra']\n",
    "\n",
    "features_valid = data_valid.drop(['is_ultra'], axis=1) \n",
    "target_valid = data_valid['is_ultra'] "
   ]
  },
  {
   "cell_type": "code",
   "execution_count": 12,
   "metadata": {},
   "outputs": [
    {
     "data": {
      "text/html": [
       "<div>\n",
       "<style scoped>\n",
       "    .dataframe tbody tr th:only-of-type {\n",
       "        vertical-align: middle;\n",
       "    }\n",
       "\n",
       "    .dataframe tbody tr th {\n",
       "        vertical-align: top;\n",
       "    }\n",
       "\n",
       "    .dataframe thead th {\n",
       "        text-align: right;\n",
       "    }\n",
       "</style>\n",
       "<table border=\"1\" class=\"dataframe\">\n",
       "  <thead>\n",
       "    <tr style=\"text-align: right;\">\n",
       "      <th></th>\n",
       "      <th>minutes</th>\n",
       "      <th>messages</th>\n",
       "      <th>mb_used</th>\n",
       "    </tr>\n",
       "  </thead>\n",
       "  <tbody>\n",
       "    <tr>\n",
       "      <td>2656</td>\n",
       "      <td>185.07</td>\n",
       "      <td>34.0</td>\n",
       "      <td>17166.53</td>\n",
       "    </tr>\n",
       "    <tr>\n",
       "      <td>823</td>\n",
       "      <td>290.69</td>\n",
       "      <td>77.0</td>\n",
       "      <td>21507.03</td>\n",
       "    </tr>\n",
       "    <tr>\n",
       "      <td>2566</td>\n",
       "      <td>289.83</td>\n",
       "      <td>15.0</td>\n",
       "      <td>22151.73</td>\n",
       "    </tr>\n",
       "    <tr>\n",
       "      <td>1451</td>\n",
       "      <td>333.49</td>\n",
       "      <td>50.0</td>\n",
       "      <td>17275.47</td>\n",
       "    </tr>\n",
       "    <tr>\n",
       "      <td>2953</td>\n",
       "      <td>300.39</td>\n",
       "      <td>69.0</td>\n",
       "      <td>17277.83</td>\n",
       "    </tr>\n",
       "  </tbody>\n",
       "</table>\n",
       "</div>"
      ],
      "text/plain": [
       "      minutes  messages   mb_used\n",
       "2656   185.07      34.0  17166.53\n",
       "823    290.69      77.0  21507.03\n",
       "2566   289.83      15.0  22151.73\n",
       "1451   333.49      50.0  17275.47\n",
       "2953   300.39      69.0  17277.83"
      ]
     },
     "metadata": {},
     "output_type": "display_data"
    },
    {
     "data": {
      "text/plain": [
       "2656    0\n",
       "823     0\n",
       "2566    0\n",
       "1451    0\n",
       "2953    0\n",
       "Name: is_ultra, dtype: int64"
      ]
     },
     "metadata": {},
     "output_type": "display_data"
    },
    {
     "data": {
      "text/html": [
       "<div>\n",
       "<style scoped>\n",
       "    .dataframe tbody tr th:only-of-type {\n",
       "        vertical-align: middle;\n",
       "    }\n",
       "\n",
       "    .dataframe tbody tr th {\n",
       "        vertical-align: top;\n",
       "    }\n",
       "\n",
       "    .dataframe thead th {\n",
       "        text-align: right;\n",
       "    }\n",
       "</style>\n",
       "<table border=\"1\" class=\"dataframe\">\n",
       "  <thead>\n",
       "    <tr style=\"text-align: right;\">\n",
       "      <th></th>\n",
       "      <th>minutes</th>\n",
       "      <th>messages</th>\n",
       "      <th>mb_used</th>\n",
       "    </tr>\n",
       "  </thead>\n",
       "  <tbody>\n",
       "    <tr>\n",
       "      <td>2699</td>\n",
       "      <td>512.53</td>\n",
       "      <td>27.0</td>\n",
       "      <td>15772.68</td>\n",
       "    </tr>\n",
       "    <tr>\n",
       "      <td>242</td>\n",
       "      <td>1247.04</td>\n",
       "      <td>150.0</td>\n",
       "      <td>29186.41</td>\n",
       "    </tr>\n",
       "    <tr>\n",
       "      <td>2854</td>\n",
       "      <td>246.06</td>\n",
       "      <td>31.0</td>\n",
       "      <td>8448.76</td>\n",
       "    </tr>\n",
       "    <tr>\n",
       "      <td>1638</td>\n",
       "      <td>468.66</td>\n",
       "      <td>0.0</td>\n",
       "      <td>11794.34</td>\n",
       "    </tr>\n",
       "    <tr>\n",
       "      <td>1632</td>\n",
       "      <td>19.85</td>\n",
       "      <td>28.0</td>\n",
       "      <td>13107.42</td>\n",
       "    </tr>\n",
       "  </tbody>\n",
       "</table>\n",
       "</div>"
      ],
      "text/plain": [
       "      minutes  messages   mb_used\n",
       "2699   512.53      27.0  15772.68\n",
       "242   1247.04     150.0  29186.41\n",
       "2854   246.06      31.0   8448.76\n",
       "1638   468.66       0.0  11794.34\n",
       "1632    19.85      28.0  13107.42"
      ]
     },
     "metadata": {},
     "output_type": "display_data"
    },
    {
     "data": {
      "text/plain": [
       "2699    0\n",
       "242     1\n",
       "2854    0\n",
       "1638    0\n",
       "1632    0\n",
       "Name: is_ultra, dtype: int64"
      ]
     },
     "metadata": {},
     "output_type": "display_data"
    }
   ],
   "source": [
    "display(features_train.head())\n",
    "display(target_train.head())\n",
    "display(features_valid.head())\n",
    "display(target_valid.head())"
   ]
  },
  {
   "cell_type": "markdown",
   "metadata": {},
   "source": [
    "### Решающее дерево"
   ]
  },
  {
   "cell_type": "markdown",
   "metadata": {},
   "source": [
    "Для определения лучшей модели \"Решающее дерево\" рассмотрим результаты работы модели при изменении гиперпараметра - глубина дерева. Проверим для значений глубины от 1 до 10"
   ]
  },
  {
   "cell_type": "code",
   "execution_count": 13,
   "metadata": {},
   "outputs": [
    {
     "name": "stdout",
     "output_type": "stream",
     "text": [
      "Максимальная глубина: 7\n",
      "Accuracy наилучшей модели на валидационной выборке: 0.7682737169517885\n"
     ]
    }
   ],
   "source": [
    "best_model_tree = None\n",
    "best_depth = 0\n",
    "result = 0\n",
    "\n",
    "for depth in range(1, 11):\n",
    "    model = DecisionTreeClassifier(random_state=12345, max_depth=depth)\n",
    "    model.fit(features_train, target_train)\n",
    "    predictions_valid = model.predict(features_valid)\n",
    "    new_result = accuracy_score(target_valid, predictions_valid)\n",
    "    if new_result > result:\n",
    "        best_model_tree = model\n",
    "        result = new_result\n",
    "        best_depth = depth\n",
    "    \n",
    "print('Максимальная глубина:', best_depth)\n",
    "print('Accuracy наилучшей модели на валидационной выборке:', result)"
   ]
  },
  {
   "cell_type": "markdown",
   "metadata": {},
   "source": [
    "Сохранаяем лучшую модель \"Решающее дерево\""
   ]
  },
  {
   "cell_type": "code",
   "execution_count": 14,
   "metadata": {},
   "outputs": [
    {
     "data": {
      "text/plain": [
       "['best_model_tree.joblib']"
      ]
     },
     "execution_count": 14,
     "metadata": {},
     "output_type": "execute_result"
    }
   ],
   "source": [
    "joblib.dump(best_model_tree, 'best_model_tree.joblib')"
   ]
  },
  {
   "cell_type": "markdown",
   "metadata": {},
   "source": [
    "### Случайный лес"
   ]
  },
  {
   "cell_type": "markdown",
   "metadata": {},
   "source": [
    "Для определения лучшей модели с помощью алгоритма \"Случайный  лес\", рассмотрим результаты работы модели при изменении 2-х гиперпараметров - количество деревьев и глубина дерева. Проверим для значений: количество деревьев от 5 до 40 с шагом 5, глубина дерева от 1 до 20."
   ]
  },
  {
   "cell_type": "code",
   "execution_count": 15,
   "metadata": {},
   "outputs": [
    {
     "name": "stdout",
     "output_type": "stream",
     "text": [
      "Accuracy наилучшей модели на валидационной выборке: 0.8055987558320373\n",
      "Количество деревьев: 15\n",
      "Максимальная глубина: 16\n"
     ]
    }
   ],
   "source": [
    "best_model_forest = None\n",
    "best_result_forest = 0\n",
    "best_est = 0\n",
    "best_depth = 0\n",
    "\n",
    "for est in range(5, 41, 5):\n",
    "    for depth in range (1, 21):\n",
    "        model = RandomForestClassifier(random_state=12345, n_estimators=est, max_depth=depth)\n",
    "        model.fit(features_train, target_train)\n",
    "        predictions_valid = model.predict(features_valid)\n",
    "        result = accuracy_score(target_valid, predictions_valid)\n",
    "        \n",
    "        if result > best_result_forest:\n",
    "            best_model_forest = model\n",
    "            best_result_forest = result\n",
    "            best_est = est\n",
    "            best_depth = depth\n",
    "\n",
    "print(\"Accuracy наилучшей модели на валидационной выборке:\", best_result_forest)\n",
    "print(\"Количество деревьев:\", best_est)\n",
    "print(\"Максимальная глубина:\", best_depth)"
   ]
  },
  {
   "cell_type": "markdown",
   "metadata": {},
   "source": [
    "Сохранаяем полученную лучшую модель \"Случайный лес\""
   ]
  },
  {
   "cell_type": "code",
   "execution_count": 16,
   "metadata": {},
   "outputs": [
    {
     "data": {
      "text/plain": [
       "['best_model_forest.joblib']"
      ]
     },
     "execution_count": 16,
     "metadata": {},
     "output_type": "execute_result"
    }
   ],
   "source": [
    "joblib.dump(best_model_forest, 'best_model_forest.joblib')"
   ]
  },
  {
   "cell_type": "markdown",
   "metadata": {},
   "source": [
    "### Логистическая регрессия"
   ]
  },
  {
   "cell_type": "markdown",
   "metadata": {},
   "source": [
    "Обучим и проверим результат для модели логистической регрессии"
   ]
  },
  {
   "cell_type": "code",
   "execution_count": 17,
   "metadata": {},
   "outputs": [
    {
     "data": {
      "text/plain": [
       "0.7262830482115086"
      ]
     },
     "execution_count": 17,
     "metadata": {},
     "output_type": "execute_result"
    }
   ],
   "source": [
    "model_logistic = LogisticRegression(random_state=12345, solver='lbfgs')\n",
    "model_logistic.fit(features_train, target_train)\n",
    "predictions_valid = model_logistic.predict(features_valid)\n",
    "result = accuracy_score(target_valid, predictions_valid)\n",
    "result"
   ]
  },
  {
   "cell_type": "markdown",
   "metadata": {},
   "source": [
    "Сохранаяем модель \"Логистическая регрессия\""
   ]
  },
  {
   "cell_type": "code",
   "execution_count": 18,
   "metadata": {},
   "outputs": [
    {
     "data": {
      "text/plain": [
       "['model_logistic.joblib']"
      ]
     },
     "execution_count": 18,
     "metadata": {},
     "output_type": "execute_result"
    }
   ],
   "source": [
    "joblib.dump(model_logistic, 'model_logistic.joblib')"
   ]
  },
  {
   "cell_type": "markdown",
   "metadata": {},
   "source": [
    "Обучены и отобраны лучшие модели для трех алгоритмов: Решающее дерево, Случайный лес, Логистическая регрессия."
   ]
  },
  {
   "cell_type": "markdown",
   "metadata": {},
   "source": [
    "## Проверьте модель на тестовой выборке"
   ]
  },
  {
   "cell_type": "markdown",
   "metadata": {},
   "source": [
    "Подготовим данные для тестирования."
   ]
  },
  {
   "cell_type": "code",
   "execution_count": 19,
   "metadata": {},
   "outputs": [],
   "source": [
    "features_test = data_test.drop(['is_ultra'], axis=1)\n",
    "target_test = data_test['is_ultra']"
   ]
  },
  {
   "cell_type": "markdown",
   "metadata": {},
   "source": [
    "Выполняем тестирование обученных моделей на тестовой выборке."
   ]
  },
  {
   "cell_type": "code",
   "execution_count": 20,
   "metadata": {},
   "outputs": [
    {
     "name": "stdout",
     "output_type": "stream",
     "text": [
      "Accuracy модели Решающее дерево на тестовой выборке: 0.7713841368584758\n",
      "Accuracy модели Случайный лес на тестовой выборке: 0.7884914463452566\n",
      "Accuracy модели Логистическая регрессия на тестовой выборке: 0.7589424572317263\n"
     ]
    }
   ],
   "source": [
    "models_dict = {'Решающее дерево':'best_model_tree.joblib',\n",
    "               'Случайный лес':'best_model_forest.joblib',\n",
    "               'Логистическая регрессия':'model_logistic.joblib'}\n",
    "\n",
    "for key in models_dict:\n",
    "    model = joblib.load(models_dict[key])\n",
    "    predictions_test = model.predict(features_test)\n",
    "    result = accuracy_score(target_test, predictions_test)\n",
    "    print('Accuracy модели ' + key + ' на тестовой выборке:', result)"
   ]
  },
  {
   "cell_type": "markdown",
   "metadata": {},
   "source": [
    "Все три модели обеспечили необходимую точность (>=0.75). Точность результатов сопоставима на валидационной и тестовой выборках. Наилучший результат на тестовой выборке показал алгоритм классификации Случайный лес - 0.788. При этом данный алгоритм требует больше всех времени. Самый быстрый, но и имеющий точность ниже остальных - Логистическая регрессия."
   ]
  },
  {
   "cell_type": "markdown",
   "metadata": {},
   "source": [
    "Объединенная выборка трейн+валид была отобрана ранее"
   ]
  },
  {
   "cell_type": "code",
   "execution_count": 21,
   "metadata": {},
   "outputs": [
    {
     "data": {
      "text/plain": [
       "(2571, 4)"
      ]
     },
     "execution_count": 21,
     "metadata": {},
     "output_type": "execute_result"
    }
   ],
   "source": [
    "data_train_valid.shape"
   ]
  },
  {
   "cell_type": "markdown",
   "metadata": {},
   "source": [
    "Подготовим данные"
   ]
  },
  {
   "cell_type": "code",
   "execution_count": 22,
   "metadata": {},
   "outputs": [],
   "source": [
    "features_train_valid = data_train.drop(['is_ultra'], axis=1)\n",
    "target_train_valid = data_train['is_ultra']"
   ]
  },
  {
   "cell_type": "markdown",
   "metadata": {},
   "source": [
    "Обучим на объединенной выборке с подобранными параметрами и проверим на тестовой модель Решающее дерево"
   ]
  },
  {
   "cell_type": "code",
   "execution_count": 23,
   "metadata": {},
   "outputs": [
    {
     "name": "stdout",
     "output_type": "stream",
     "text": [
      "Accuracy новой модели Решающее дерево на тестовой выборке: 0.7713841368584758\n"
     ]
    }
   ],
   "source": [
    "model_new = DecisionTreeClassifier(random_state=12345, max_depth=7)\n",
    "model_new.fit(features_train_valid, target_train_valid)\n",
    "predictions_test = model_new.predict(features_test)\n",
    "result = accuracy_score(target_test, predictions_test)\n",
    "\n",
    "print('Accuracy новой модели Решающее дерево на тестовой выборке:', result)"
   ]
  },
  {
   "cell_type": "markdown",
   "metadata": {},
   "source": [
    "Проделаем это же для модели Случайный лес."
   ]
  },
  {
   "cell_type": "code",
   "execution_count": 24,
   "metadata": {},
   "outputs": [
    {
     "name": "stdout",
     "output_type": "stream",
     "text": [
      "Accuracy новой модели Случайный лес на тестовой выборке: 0.7884914463452566\n"
     ]
    }
   ],
   "source": [
    "model_new = RandomForestClassifier(random_state=12345, n_estimators=15, max_depth=16)\n",
    "model_new.fit(features_train_valid, target_train_valid)\n",
    "predictions_test = model_new.predict(features_test)\n",
    "result = accuracy_score(target_test, predictions_test)\n",
    "\n",
    "print('Accuracy новой модели Случайный лес на тестовой выборке:', result)"
   ]
  },
  {
   "cell_type": "markdown",
   "metadata": {},
   "source": [
    "И для модели Логистическая регрессия"
   ]
  },
  {
   "cell_type": "code",
   "execution_count": 25,
   "metadata": {},
   "outputs": [
    {
     "name": "stdout",
     "output_type": "stream",
     "text": [
      "Accuracy новой модели Логистическая регрессия на тестовой выборке: 0.7589424572317263\n"
     ]
    }
   ],
   "source": [
    "model_new = LogisticRegression(random_state=12345, solver='lbfgs')\n",
    "model_new.fit(features_train_valid, target_train_valid)\n",
    "predictions_test = model_new.predict(features_test)\n",
    "result = accuracy_score(target_test, predictions_test)\n",
    "\n",
    "print('Accuracy новой модели Логистическая регрессия на тестовой выборке:', result)"
   ]
  },
  {
   "cell_type": "markdown",
   "metadata": {},
   "source": [
    "## (бонус) Проверьте модели на адекватность"
   ]
  },
  {
   "cell_type": "markdown",
   "metadata": {},
   "source": [
    "Для проверки моделей на адекватность сравним их качество с константной моделью. Для начала определим константу - наиболее распространенный класс в target_train.\n",
    "\n",
    "Если качество твоей модели окажется ниже, чем качество константной модели, значит твоя модель бесполезна."
   ]
  },
  {
   "cell_type": "code",
   "execution_count": 26,
   "metadata": {},
   "outputs": [
    {
     "data": {
      "text/plain": [
       "0    1339\n",
       "1     589\n",
       "Name: is_ultra, dtype: int64"
      ]
     },
     "execution_count": 26,
     "metadata": {},
     "output_type": "execute_result"
    }
   ],
   "source": [
    "data_train['is_ultra'].value_counts()"
   ]
  },
  {
   "cell_type": "markdown",
   "metadata": {},
   "source": [
    "Константа - 0. Создадим константный столбец, такой же длины как столбец таргетов на тесте и измерим качество предсказаний той же метрикой, какой тестировали качество моделей."
   ]
  },
  {
   "cell_type": "code",
   "execution_count": 27,
   "metadata": {},
   "outputs": [
    {
     "data": {
      "text/plain": [
       "1415    0\n",
       "916     0\n",
       "1670    0\n",
       "686     0\n",
       "2951    0\n",
       "       ..\n",
       "2061    0\n",
       "1510    0\n",
       "2215    0\n",
       "664     0\n",
       "1196    0\n",
       "Length: 643, dtype: int64"
      ]
     },
     "execution_count": 27,
     "metadata": {},
     "output_type": "execute_result"
    }
   ],
   "source": [
    "target_const_model = pd.Series(0, index=target_test.index)\n",
    "target_const_model"
   ]
  },
  {
   "cell_type": "code",
   "execution_count": 28,
   "metadata": {},
   "outputs": [
    {
     "name": "stdout",
     "output_type": "stream",
     "text": [
      "Accuracy константной модели для алгоритма Решающее дерево: 0.833592534992224\n",
      "Accuracy константной модели для алгоритма Случайный лес: 0.7729393468118196\n",
      "Accuracy константной модели для алгоритма Логистическая регрессия: 0.9175738724727839\n"
     ]
    }
   ],
   "source": [
    "for key in models_dict:\n",
    "    model = joblib.load(models_dict[key])\n",
    "    predictions_test = model.predict(features_test)\n",
    "    result = accuracy_score(target_const_model, predictions_test)\n",
    "    print('Accuracy константной модели для алгоритма ' + key + ':', result)"
   ]
  },
  {
   "cell_type": "markdown",
   "metadata": {},
   "source": [
    "Качество моделей Решающее дерево и Логистическая регрессия ниже, чем качество константной модели. Отбрасываем эти модели. Принимаем модель с алгоритмом Случайный лес. Точность лучшей модели на тестовой выборке 0.788 - accuracy превышает необходимый минимум. "
   ]
  },
  {
   "cell_type": "code",
   "execution_count": 29,
   "metadata": {},
   "outputs": [
    {
     "data": {
      "text/html": [
       "<div>\n",
       "<style scoped>\n",
       "    .dataframe tbody tr th:only-of-type {\n",
       "        vertical-align: middle;\n",
       "    }\n",
       "\n",
       "    .dataframe tbody tr th {\n",
       "        vertical-align: top;\n",
       "    }\n",
       "\n",
       "    .dataframe thead th {\n",
       "        text-align: right;\n",
       "    }\n",
       "</style>\n",
       "<table border=\"1\" class=\"dataframe\">\n",
       "  <thead>\n",
       "    <tr style=\"text-align: right;\">\n",
       "      <th></th>\n",
       "      <th>most_frequent</th>\n",
       "    </tr>\n",
       "  </thead>\n",
       "  <tbody>\n",
       "    <tr>\n",
       "      <td>0</td>\n",
       "      <td>0.695179</td>\n",
       "    </tr>\n",
       "  </tbody>\n",
       "</table>\n",
       "</div>"
      ],
      "text/plain": [
       "   most_frequent\n",
       "0       0.695179"
      ]
     },
     "execution_count": 29,
     "metadata": {},
     "output_type": "execute_result"
    }
   ],
   "source": [
    "strategies = ['most_frequent']\n",
    "\n",
    "dummy_results = []\n",
    "for strategy in strategies:\n",
    "    dc = DummyClassifier(strategy = strategy, random_state = 1234)\n",
    "\n",
    "    dc.fit(features_train_valid, target_train_valid)\n",
    "    result = dc.score(features_test, target_test)\n",
    "    dummy_results.append({strategy: result})\n",
    "pd.DataFrame(dummy_results)"
   ]
  }
 ],
 "metadata": {
  "ExecuteTimeLog": [
   {
    "duration": 1468,
    "start_time": "2021-09-19T13:47:38.014Z"
   },
   {
    "duration": 496,
    "start_time": "2021-09-19T14:34:18.449Z"
   },
   {
    "duration": 84,
    "start_time": "2021-09-19T14:34:29.802Z"
   },
   {
    "duration": 8,
    "start_time": "2021-09-19T14:34:34.925Z"
   },
   {
    "duration": 9,
    "start_time": "2021-09-19T14:34:37.095Z"
   },
   {
    "duration": 12,
    "start_time": "2021-09-19T14:34:44.919Z"
   },
   {
    "duration": 7,
    "start_time": "2021-09-19T14:34:52.380Z"
   },
   {
    "duration": 9,
    "start_time": "2021-09-19T14:34:54.890Z"
   },
   {
    "duration": 1585,
    "start_time": "2021-09-19T14:35:13.925Z"
   },
   {
    "duration": 6,
    "start_time": "2021-09-19T14:35:16.625Z"
   },
   {
    "duration": 7,
    "start_time": "2021-09-19T14:35:27.385Z"
   },
   {
    "duration": 11,
    "start_time": "2021-09-19T14:35:29.359Z"
   },
   {
    "duration": 8,
    "start_time": "2021-09-19T14:35:36.835Z"
   },
   {
    "duration": 1549,
    "start_time": "2021-09-19T14:39:02.882Z"
   },
   {
    "duration": 8,
    "start_time": "2021-09-19T14:39:04.434Z"
   },
   {
    "duration": 25,
    "start_time": "2021-09-19T14:39:04.445Z"
   },
   {
    "duration": 21,
    "start_time": "2021-09-19T14:39:04.473Z"
   },
   {
    "duration": 9,
    "start_time": "2021-09-19T14:39:35.759Z"
   },
   {
    "duration": 8,
    "start_time": "2021-09-19T14:39:41.521Z"
   },
   {
    "duration": 7,
    "start_time": "2021-09-19T14:41:38.218Z"
   },
   {
    "duration": 9,
    "start_time": "2021-09-19T14:41:41.347Z"
   },
   {
    "duration": 9,
    "start_time": "2021-09-19T14:42:04.988Z"
   },
   {
    "duration": 7,
    "start_time": "2021-09-19T14:53:36.599Z"
   },
   {
    "duration": 457,
    "start_time": "2021-09-19T14:53:40.600Z"
   },
   {
    "duration": 81,
    "start_time": "2021-09-19T14:53:51.834Z"
   },
   {
    "duration": 14,
    "start_time": "2021-09-19T14:53:57.641Z"
   },
   {
    "duration": 337,
    "start_time": "2021-09-19T14:56:24.745Z"
   },
   {
    "duration": 45,
    "start_time": "2021-09-19T14:57:02.599Z"
   },
   {
    "duration": 9,
    "start_time": "2021-09-19T14:57:09.594Z"
   },
   {
    "duration": 97,
    "start_time": "2021-09-19T14:59:03.548Z"
   },
   {
    "duration": 219,
    "start_time": "2021-09-19T14:59:26.446Z"
   },
   {
    "duration": 109,
    "start_time": "2021-09-19T15:00:06.177Z"
   },
   {
    "duration": 79,
    "start_time": "2021-09-19T15:00:17.439Z"
   },
   {
    "duration": 74,
    "start_time": "2021-09-19T15:00:20.781Z"
   },
   {
    "duration": 79,
    "start_time": "2021-09-19T15:00:22.257Z"
   },
   {
    "duration": 73,
    "start_time": "2021-09-19T15:00:24.275Z"
   },
   {
    "duration": 15,
    "start_time": "2021-09-19T15:04:52.645Z"
   },
   {
    "duration": 9,
    "start_time": "2021-09-19T15:05:02.040Z"
   },
   {
    "duration": 5,
    "start_time": "2021-09-19T15:05:09.849Z"
   },
   {
    "duration": 8,
    "start_time": "2021-09-19T15:05:15.395Z"
   },
   {
    "duration": 1413,
    "start_time": "2021-09-19T15:07:29.691Z"
   },
   {
    "duration": 89,
    "start_time": "2021-09-19T15:08:02.840Z"
   },
   {
    "duration": 1570,
    "start_time": "2021-09-19T19:46:48.281Z"
   },
   {
    "duration": 8,
    "start_time": "2021-09-19T19:46:49.854Z"
   },
   {
    "duration": 14,
    "start_time": "2021-09-19T19:46:49.865Z"
   },
   {
    "duration": 18,
    "start_time": "2021-09-19T19:46:49.882Z"
   },
   {
    "duration": 10,
    "start_time": "2021-09-19T19:46:49.902Z"
   },
   {
    "duration": 17,
    "start_time": "2021-09-19T19:46:49.915Z"
   },
   {
    "duration": 14,
    "start_time": "2021-09-19T19:46:49.935Z"
   },
   {
    "duration": 9,
    "start_time": "2021-09-19T19:46:49.961Z"
   },
   {
    "duration": 7,
    "start_time": "2021-09-19T19:46:53.619Z"
   },
   {
    "duration": 79,
    "start_time": "2021-09-19T19:46:57.695Z"
   },
   {
    "duration": 521,
    "start_time": "2021-09-19T19:50:23.601Z"
   },
   {
    "duration": 367,
    "start_time": "2021-09-19T19:53:26.203Z"
   },
   {
    "duration": 526,
    "start_time": "2021-09-19T19:54:10.363Z"
   },
   {
    "duration": 5,
    "start_time": "2021-09-19T19:56:08.210Z"
   },
   {
    "duration": 345,
    "start_time": "2021-09-19T19:56:10.920Z"
   },
   {
    "duration": 45,
    "start_time": "2021-09-19T19:56:47.814Z"
   },
   {
    "duration": 312,
    "start_time": "2021-09-19T19:57:05.777Z"
   },
   {
    "duration": 5,
    "start_time": "2021-09-19T19:57:12.800Z"
   },
   {
    "duration": 111,
    "start_time": "2021-09-19T19:57:15.564Z"
   },
   {
    "duration": 422,
    "start_time": "2021-09-19T20:28:49.103Z"
   },
   {
    "duration": 53,
    "start_time": "2021-09-19T20:29:24.529Z"
   },
   {
    "duration": 370,
    "start_time": "2021-09-19T20:29:31.357Z"
   },
   {
    "duration": 9936,
    "start_time": "2021-09-19T20:30:13.168Z"
   },
   {
    "duration": 17103,
    "start_time": "2021-09-19T20:30:59.068Z"
   },
   {
    "duration": 26619,
    "start_time": "2021-09-19T20:31:47.743Z"
   },
   {
    "duration": 9128,
    "start_time": "2021-09-19T20:42:50.574Z"
   },
   {
    "duration": 23879,
    "start_time": "2021-09-19T20:43:08.942Z"
   },
   {
    "duration": 6,
    "start_time": "2021-09-19T20:43:40.302Z"
   },
   {
    "duration": 1549,
    "start_time": "2021-09-19T20:50:23.103Z"
   },
   {
    "duration": 11,
    "start_time": "2021-09-19T20:50:24.656Z"
   },
   {
    "duration": 16,
    "start_time": "2021-09-19T20:50:24.671Z"
   },
   {
    "duration": 12,
    "start_time": "2021-09-19T20:50:24.691Z"
   },
   {
    "duration": 59,
    "start_time": "2021-09-19T20:50:24.706Z"
   },
   {
    "duration": 9,
    "start_time": "2021-09-19T20:50:24.768Z"
   },
   {
    "duration": 30,
    "start_time": "2021-09-19T20:50:24.780Z"
   },
   {
    "duration": 13,
    "start_time": "2021-09-19T20:50:24.814Z"
   },
   {
    "duration": 6,
    "start_time": "2021-09-19T20:52:35.212Z"
   },
   {
    "duration": 77,
    "start_time": "2021-09-19T20:52:44.413Z"
   },
   {
    "duration": 112,
    "start_time": "2021-09-19T20:52:59.207Z"
   },
   {
    "duration": 23009,
    "start_time": "2021-09-19T20:53:02.993Z"
   },
   {
    "duration": 512,
    "start_time": "2021-09-19T20:53:41.631Z"
   },
   {
    "duration": 6,
    "start_time": "2021-09-19T20:53:48.591Z"
   },
   {
    "duration": 5,
    "start_time": "2021-09-19T21:02:18.181Z"
   },
   {
    "duration": 116,
    "start_time": "2021-09-19T21:02:20.533Z"
   },
   {
    "duration": 168,
    "start_time": "2021-09-19T21:02:30.363Z"
   },
   {
    "duration": 159,
    "start_time": "2021-09-19T21:04:29.726Z"
   },
   {
    "duration": 113,
    "start_time": "2021-09-19T21:04:35.300Z"
   },
   {
    "duration": 128,
    "start_time": "2021-09-19T21:04:36.281Z"
   },
   {
    "duration": 9592,
    "start_time": "2021-09-19T21:04:59.795Z"
   },
   {
    "duration": 6,
    "start_time": "2021-09-19T21:05:16.603Z"
   },
   {
    "duration": 1127,
    "start_time": "2021-09-19T21:05:30.841Z"
   },
   {
    "duration": 89,
    "start_time": "2021-09-19T21:05:38.853Z"
   },
   {
    "duration": 160,
    "start_time": "2021-09-19T21:05:42.153Z"
   },
   {
    "duration": 486,
    "start_time": "2021-09-19T21:15:13.585Z"
   },
   {
    "duration": 42,
    "start_time": "2021-09-19T21:15:21.937Z"
   },
   {
    "duration": 20,
    "start_time": "2021-09-19T21:15:31.361Z"
   },
   {
    "duration": 18,
    "start_time": "2021-09-19T21:16:39.966Z"
   },
   {
    "duration": 20,
    "start_time": "2021-09-19T21:18:17.781Z"
   },
   {
    "duration": 19,
    "start_time": "2021-09-19T21:18:38.491Z"
   },
   {
    "duration": 19,
    "start_time": "2021-09-19T21:18:43.826Z"
   },
   {
    "duration": 41,
    "start_time": "2021-09-19T21:19:57.852Z"
   },
   {
    "duration": 18,
    "start_time": "2021-09-19T21:20:09.063Z"
   },
   {
    "duration": 48,
    "start_time": "2021-09-19T21:21:00.676Z"
   },
   {
    "duration": 46,
    "start_time": "2021-09-19T21:21:05.518Z"
   },
   {
    "duration": 47,
    "start_time": "2021-09-19T21:21:50.492Z"
   },
   {
    "duration": 34,
    "start_time": "2021-09-19T21:21:57.453Z"
   },
   {
    "duration": 46,
    "start_time": "2021-09-19T21:22:04.534Z"
   },
   {
    "duration": 47,
    "start_time": "2021-09-19T21:22:10.096Z"
   },
   {
    "duration": 49,
    "start_time": "2021-09-19T21:22:51.353Z"
   },
   {
    "duration": 57,
    "start_time": "2021-09-19T21:23:00.105Z"
   },
   {
    "duration": 47,
    "start_time": "2021-09-19T21:23:05.130Z"
   },
   {
    "duration": 324,
    "start_time": "2021-09-19T21:24:57.849Z"
   },
   {
    "duration": 93,
    "start_time": "2021-09-19T21:25:42.196Z"
   },
   {
    "duration": 1592,
    "start_time": "2021-09-21T21:27:53.310Z"
   },
   {
    "duration": 11,
    "start_time": "2021-09-21T21:27:54.905Z"
   },
   {
    "duration": 12,
    "start_time": "2021-09-21T21:27:54.920Z"
   },
   {
    "duration": 10,
    "start_time": "2021-09-21T21:27:54.936Z"
   },
   {
    "duration": 11,
    "start_time": "2021-09-21T21:27:54.952Z"
   },
   {
    "duration": 9,
    "start_time": "2021-09-21T21:27:54.967Z"
   },
   {
    "duration": 12,
    "start_time": "2021-09-21T21:27:55.018Z"
   },
   {
    "duration": 11,
    "start_time": "2021-09-21T21:27:55.044Z"
   },
   {
    "duration": 9,
    "start_time": "2021-09-21T21:27:55.059Z"
   },
   {
    "duration": 139,
    "start_time": "2021-09-21T21:27:55.071Z"
   },
   {
    "duration": 132,
    "start_time": "2021-09-21T21:27:55.216Z"
   },
   {
    "duration": 10527,
    "start_time": "2021-09-21T21:27:55.351Z"
   },
   {
    "duration": 6,
    "start_time": "2021-09-21T21:28:05.881Z"
   },
   {
    "duration": 256,
    "start_time": "2021-09-21T21:28:05.891Z"
   },
   {
    "duration": 52,
    "start_time": "2021-09-21T21:28:06.150Z"
   },
   {
    "duration": 134,
    "start_time": "2021-09-21T21:28:06.204Z"
   },
   {
    "duration": 5,
    "start_time": "2021-09-21T21:28:06.340Z"
   },
   {
    "duration": 108,
    "start_time": "2021-09-21T21:28:06.347Z"
   },
   {
    "duration": 151,
    "start_time": "2021-09-21T21:28:06.457Z"
   },
   {
    "duration": 96,
    "start_time": "2021-09-21T21:28:06.610Z"
   },
   {
    "duration": 9,
    "start_time": "2021-09-21T21:35:48.126Z"
   },
   {
    "duration": 4918,
    "start_time": "2021-09-21T21:37:08.100Z"
   },
   {
    "duration": 352,
    "start_time": "2021-09-21T21:37:46.133Z"
   },
   {
    "duration": 9,
    "start_time": "2021-09-21T21:37:59.126Z"
   },
   {
    "duration": 4,
    "start_time": "2021-09-21T21:40:36.804Z"
   },
   {
    "duration": 7,
    "start_time": "2021-09-21T21:40:47.466Z"
   },
   {
    "duration": 180,
    "start_time": "2021-09-21T21:43:56.254Z"
   },
   {
    "duration": 113,
    "start_time": "2021-09-21T21:44:00.858Z"
   },
   {
    "duration": 4,
    "start_time": "2021-09-21T21:45:58.383Z"
   },
   {
    "duration": 7,
    "start_time": "2021-09-21T21:46:02.004Z"
   },
   {
    "duration": 4,
    "start_time": "2021-09-21T21:46:46.293Z"
   },
   {
    "duration": 7,
    "start_time": "2021-09-21T21:46:48.353Z"
   },
   {
    "duration": 86,
    "start_time": "2021-09-21T21:48:13.228Z"
   },
   {
    "duration": 148,
    "start_time": "2021-09-21T21:49:21.971Z"
   },
   {
    "duration": 102,
    "start_time": "2021-09-21T21:50:19.994Z"
   },
   {
    "duration": 1447,
    "start_time": "2021-09-21T21:52:27.886Z"
   },
   {
    "duration": 6,
    "start_time": "2021-09-21T21:52:29.335Z"
   },
   {
    "duration": 23,
    "start_time": "2021-09-21T21:52:29.344Z"
   },
   {
    "duration": 8,
    "start_time": "2021-09-21T21:52:29.369Z"
   },
   {
    "duration": 17,
    "start_time": "2021-09-21T21:52:29.379Z"
   },
   {
    "duration": 23,
    "start_time": "2021-09-21T21:52:29.398Z"
   },
   {
    "duration": 29,
    "start_time": "2021-09-21T21:52:29.423Z"
   },
   {
    "duration": 15,
    "start_time": "2021-09-21T21:52:29.455Z"
   },
   {
    "duration": 11,
    "start_time": "2021-09-21T21:52:29.473Z"
   },
   {
    "duration": 87,
    "start_time": "2021-09-21T21:52:29.486Z"
   },
   {
    "duration": 170,
    "start_time": "2021-09-21T21:52:29.575Z"
   },
   {
    "duration": 23110,
    "start_time": "2021-09-21T21:52:29.748Z"
   },
   {
    "duration": 6,
    "start_time": "2021-09-21T21:52:52.861Z"
   },
   {
    "duration": 211,
    "start_time": "2021-09-21T21:52:52.869Z"
   },
   {
    "duration": 46,
    "start_time": "2021-09-21T21:52:53.083Z"
   },
   {
    "duration": 124,
    "start_time": "2021-09-21T21:52:53.131Z"
   },
   {
    "duration": 6,
    "start_time": "2021-09-21T21:52:53.258Z"
   },
   {
    "duration": 669,
    "start_time": "2021-09-21T21:52:53.267Z"
   },
   {
    "duration": 152,
    "start_time": "2021-09-21T21:52:53.939Z"
   },
   {
    "duration": 744,
    "start_time": "2021-09-21T21:52:54.094Z"
   },
   {
    "duration": 7,
    "start_time": "2021-09-21T21:52:54.841Z"
   },
   {
    "duration": 4,
    "start_time": "2021-09-21T21:52:54.851Z"
   },
   {
    "duration": 7,
    "start_time": "2021-09-21T21:52:54.859Z"
   },
   {
    "duration": 69,
    "start_time": "2021-09-21T21:52:54.868Z"
   },
   {
    "duration": 200,
    "start_time": "2021-09-21T21:52:54.939Z"
   },
   {
    "duration": 73,
    "start_time": "2021-09-21T21:53:40.823Z"
   },
   {
    "duration": 188,
    "start_time": "2021-09-21T21:55:12.658Z"
   },
   {
    "duration": 321,
    "start_time": "2021-09-21T21:55:27.517Z"
   },
   {
    "duration": 77,
    "start_time": "2021-09-21T21:55:40.508Z"
   },
   {
    "duration": 4915,
    "start_time": "2021-09-21T21:56:54.359Z"
   },
   {
    "duration": 6,
    "start_time": "2021-09-21T21:57:16.303Z"
   },
   {
    "duration": 242,
    "start_time": "2021-09-21T21:57:21.640Z"
   },
   {
    "duration": 180,
    "start_time": "2021-09-21T21:58:06.634Z"
   },
   {
    "duration": 160,
    "start_time": "2021-09-21T21:58:27.639Z"
   },
   {
    "duration": 1301,
    "start_time": "2021-09-22T20:56:34.046Z"
   },
   {
    "duration": 7,
    "start_time": "2021-09-22T21:05:16.878Z"
   },
   {
    "duration": 7,
    "start_time": "2021-09-22T21:05:20.361Z"
   },
   {
    "duration": 7,
    "start_time": "2021-09-22T21:07:38.138Z"
   },
   {
    "duration": 6,
    "start_time": "2021-09-22T21:07:49.638Z"
   },
   {
    "duration": 5,
    "start_time": "2021-09-22T21:09:51.569Z"
   },
   {
    "duration": 7,
    "start_time": "2021-09-22T21:09:54.390Z"
   },
   {
    "duration": 7,
    "start_time": "2021-09-22T21:09:58.399Z"
   },
   {
    "duration": 6,
    "start_time": "2021-09-22T21:26:35.160Z"
   },
   {
    "duration": 27,
    "start_time": "2021-09-22T21:26:42.354Z"
   },
   {
    "duration": 10,
    "start_time": "2021-09-22T21:27:08.130Z"
   },
   {
    "duration": 4,
    "start_time": "2021-09-22T21:27:47.199Z"
   },
   {
    "duration": 22,
    "start_time": "2021-09-22T21:28:15.056Z"
   },
   {
    "duration": 10,
    "start_time": "2021-09-22T21:28:27.597Z"
   },
   {
    "duration": 34,
    "start_time": "2021-09-22T21:28:52.239Z"
   },
   {
    "duration": 84,
    "start_time": "2021-09-22T21:44:45.551Z"
   },
   {
    "duration": 54,
    "start_time": "2021-09-22T21:47:47.587Z"
   },
   {
    "duration": 84,
    "start_time": "2021-09-22T21:48:39.225Z"
   },
   {
    "duration": 4092,
    "start_time": "2021-09-22T22:12:49.811Z"
   },
   {
    "duration": 6856,
    "start_time": "2021-09-22T22:13:25.371Z"
   },
   {
    "duration": 5321,
    "start_time": "2021-09-22T22:14:21.685Z"
   },
   {
    "duration": 7753,
    "start_time": "2021-09-22T22:15:00.478Z"
   },
   {
    "duration": 10439,
    "start_time": "2021-09-22T22:15:22.280Z"
   },
   {
    "duration": 11186,
    "start_time": "2021-09-22T22:16:13.365Z"
   },
   {
    "duration": 5,
    "start_time": "2021-09-22T22:16:43.739Z"
   },
   {
    "duration": 179,
    "start_time": "2021-09-22T22:16:46.522Z"
   },
   {
    "duration": 4,
    "start_time": "2021-09-22T22:16:55.508Z"
   },
   {
    "duration": 131,
    "start_time": "2021-09-22T22:17:02.349Z"
   },
   {
    "duration": 438,
    "start_time": "2021-09-22T22:17:17.149Z"
   },
   {
    "duration": 5,
    "start_time": "2021-09-22T22:17:28.813Z"
   },
   {
    "duration": 5,
    "start_time": "2021-09-22T22:17:32.132Z"
   },
   {
    "duration": 110,
    "start_time": "2021-09-22T22:17:36.921Z"
   },
   {
    "duration": 5361,
    "start_time": "2021-09-22T22:22:30.568Z"
   },
   {
    "duration": 5728,
    "start_time": "2021-09-22T22:22:50.591Z"
   },
   {
    "duration": 2662,
    "start_time": "2021-09-22T22:23:57.121Z"
   },
   {
    "duration": 6933,
    "start_time": "2021-09-22T22:24:12.875Z"
   },
   {
    "duration": 4519,
    "start_time": "2021-09-22T22:24:28.191Z"
   },
   {
    "duration": 142,
    "start_time": "2021-09-22T22:25:32.621Z"
   },
   {
    "duration": 1463,
    "start_time": "2021-09-23T20:19:35.196Z"
   },
   {
    "duration": 6,
    "start_time": "2021-09-23T20:19:36.662Z"
   },
   {
    "duration": 9,
    "start_time": "2021-09-23T20:19:36.671Z"
   },
   {
    "duration": 14,
    "start_time": "2021-09-23T20:19:36.683Z"
   },
   {
    "duration": 17,
    "start_time": "2021-09-23T20:19:36.699Z"
   },
   {
    "duration": 10,
    "start_time": "2021-09-23T20:19:36.718Z"
   },
   {
    "duration": 37,
    "start_time": "2021-09-23T20:19:36.731Z"
   },
   {
    "duration": 28,
    "start_time": "2021-09-23T20:19:36.771Z"
   },
   {
    "duration": 108,
    "start_time": "2021-09-23T20:19:36.802Z"
   },
   {
    "duration": 176,
    "start_time": "2021-09-23T20:19:36.912Z"
   },
   {
    "duration": 6349,
    "start_time": "2021-09-23T20:19:37.091Z"
   },
   {
    "duration": 240,
    "start_time": "2021-09-23T20:19:43.443Z"
   },
   {
    "duration": 49,
    "start_time": "2021-09-23T20:19:51.249Z"
   },
   {
    "duration": 20,
    "start_time": "2021-09-23T20:20:06.786Z"
   },
   {
    "duration": 48,
    "start_time": "2021-09-23T20:21:42.243Z"
   },
   {
    "duration": 129,
    "start_time": "2021-09-23T20:23:35.743Z"
   },
   {
    "duration": 5,
    "start_time": "2021-09-23T20:49:30.170Z"
   },
   {
    "duration": 6,
    "start_time": "2021-09-23T20:49:41.717Z"
   },
   {
    "duration": 5,
    "start_time": "2021-09-23T20:49:56.726Z"
   },
   {
    "duration": 5,
    "start_time": "2021-09-23T20:53:01.853Z"
   },
   {
    "duration": 6,
    "start_time": "2021-09-23T20:53:34.778Z"
   },
   {
    "duration": 5,
    "start_time": "2021-09-23T20:54:02.610Z"
   },
   {
    "duration": 502,
    "start_time": "2021-09-23T21:07:26.177Z"
   },
   {
    "duration": 359,
    "start_time": "2021-09-23T21:07:37.205Z"
   },
   {
    "duration": 8,
    "start_time": "2021-09-23T21:19:26.054Z"
   },
   {
    "duration": 8,
    "start_time": "2021-09-23T21:19:37.736Z"
   },
   {
    "duration": 503,
    "start_time": "2021-09-23T21:30:07.606Z"
   },
   {
    "duration": 8,
    "start_time": "2021-09-23T21:42:42.742Z"
   },
   {
    "duration": 369,
    "start_time": "2021-09-23T21:42:46.233Z"
   },
   {
    "duration": 8,
    "start_time": "2021-09-23T21:43:00.002Z"
   },
   {
    "duration": 291,
    "start_time": "2021-09-23T21:44:36.720Z"
   },
   {
    "duration": 16396,
    "start_time": "2021-09-23T21:45:38.143Z"
   },
   {
    "duration": 15821,
    "start_time": "2021-09-23T21:46:36.770Z"
   },
   {
    "duration": 1491,
    "start_time": "2021-09-23T21:48:37.784Z"
   },
   {
    "duration": 7,
    "start_time": "2021-09-23T21:48:39.277Z"
   },
   {
    "duration": 39,
    "start_time": "2021-09-23T21:48:39.286Z"
   },
   {
    "duration": 22,
    "start_time": "2021-09-23T21:48:39.327Z"
   },
   {
    "duration": 10,
    "start_time": "2021-09-23T21:48:39.352Z"
   },
   {
    "duration": 16,
    "start_time": "2021-09-23T21:48:39.364Z"
   },
   {
    "duration": 13,
    "start_time": "2021-09-23T21:48:39.383Z"
   },
   {
    "duration": 32,
    "start_time": "2021-09-23T21:48:39.399Z"
   },
   {
    "duration": 152,
    "start_time": "2021-09-23T21:48:39.435Z"
   },
   {
    "duration": 126,
    "start_time": "2021-09-23T21:48:39.590Z"
   },
   {
    "duration": 15515,
    "start_time": "2021-09-23T21:48:39.719Z"
   },
   {
    "duration": 227,
    "start_time": "2021-09-23T21:48:55.237Z"
   },
   {
    "duration": 64,
    "start_time": "2021-09-23T21:48:55.467Z"
   },
   {
    "duration": 129,
    "start_time": "2021-09-23T21:48:55.534Z"
   },
   {
    "duration": 6,
    "start_time": "2021-09-23T21:48:55.666Z"
   },
   {
    "duration": 369,
    "start_time": "2021-09-23T21:48:55.675Z"
   },
   {
    "duration": 9,
    "start_time": "2021-09-23T21:48:56.047Z"
   },
   {
    "duration": 16,
    "start_time": "2021-09-23T21:48:56.058Z"
   },
   {
    "duration": 255,
    "start_time": "2021-09-23T21:49:27.599Z"
   },
   {
    "duration": 15901,
    "start_time": "2021-09-23T21:53:08.175Z"
   },
   {
    "duration": 6400,
    "start_time": "2021-09-23T21:53:45.498Z"
   },
   {
    "duration": 1425,
    "start_time": "2021-09-23T21:54:28.081Z"
   },
   {
    "duration": 7,
    "start_time": "2021-09-23T21:54:29.509Z"
   },
   {
    "duration": 10,
    "start_time": "2021-09-23T21:54:29.519Z"
   },
   {
    "duration": 36,
    "start_time": "2021-09-23T21:54:29.532Z"
   },
   {
    "duration": 12,
    "start_time": "2021-09-23T21:54:29.571Z"
   },
   {
    "duration": 10,
    "start_time": "2021-09-23T21:54:29.585Z"
   },
   {
    "duration": 7,
    "start_time": "2021-09-23T21:54:29.597Z"
   },
   {
    "duration": 65,
    "start_time": "2021-09-23T21:54:29.607Z"
   },
   {
    "duration": 95,
    "start_time": "2021-09-23T21:54:29.675Z"
   },
   {
    "duration": 137,
    "start_time": "2021-09-23T21:54:29.772Z"
   },
   {
    "duration": 6239,
    "start_time": "2021-09-23T21:54:29.912Z"
   },
   {
    "duration": 270,
    "start_time": "2021-09-23T21:54:36.153Z"
   },
   {
    "duration": 49,
    "start_time": "2021-09-23T21:54:36.425Z"
   },
   {
    "duration": 165,
    "start_time": "2021-09-23T21:54:36.476Z"
   },
   {
    "duration": 6,
    "start_time": "2021-09-23T21:54:36.644Z"
   },
   {
    "duration": 367,
    "start_time": "2021-09-23T21:54:36.653Z"
   },
   {
    "duration": 10,
    "start_time": "2021-09-23T21:54:37.023Z"
   },
   {
    "duration": 11,
    "start_time": "2021-09-23T21:54:37.036Z"
   },
   {
    "duration": 281,
    "start_time": "2021-09-23T21:54:55.191Z"
   },
   {
    "duration": 1529,
    "start_time": "2021-09-23T22:01:36.091Z"
   },
   {
    "duration": 6,
    "start_time": "2021-09-23T22:01:37.623Z"
   },
   {
    "duration": 11,
    "start_time": "2021-09-23T22:01:37.633Z"
   },
   {
    "duration": 23,
    "start_time": "2021-09-23T22:01:37.647Z"
   },
   {
    "duration": 9,
    "start_time": "2021-09-23T22:01:37.673Z"
   },
   {
    "duration": 11,
    "start_time": "2021-09-23T22:01:37.684Z"
   },
   {
    "duration": 7,
    "start_time": "2021-09-23T22:01:37.697Z"
   },
   {
    "duration": 65,
    "start_time": "2021-09-23T22:01:37.706Z"
   },
   {
    "duration": 93,
    "start_time": "2021-09-23T22:01:37.775Z"
   },
   {
    "duration": 173,
    "start_time": "2021-09-23T22:01:37.870Z"
   },
   {
    "duration": 6275,
    "start_time": "2021-09-23T22:01:38.045Z"
   },
   {
    "duration": 263,
    "start_time": "2021-09-23T22:01:44.322Z"
   },
   {
    "duration": 50,
    "start_time": "2021-09-23T22:01:44.587Z"
   },
   {
    "duration": 165,
    "start_time": "2021-09-23T22:01:44.640Z"
   },
   {
    "duration": 6,
    "start_time": "2021-09-23T22:01:44.808Z"
   },
   {
    "duration": 364,
    "start_time": "2021-09-23T22:01:44.817Z"
   },
   {
    "duration": 9,
    "start_time": "2021-09-23T22:01:45.184Z"
   },
   {
    "duration": 11,
    "start_time": "2021-09-23T22:01:45.196Z"
   },
   {
    "duration": 331,
    "start_time": "2021-09-23T22:01:45.209Z"
   },
   {
    "duration": 1454,
    "start_time": "2021-09-24T04:46:56.713Z"
   },
   {
    "duration": 8,
    "start_time": "2021-09-24T05:10:49.227Z"
   },
   {
    "duration": 8,
    "start_time": "2021-09-24T05:10:49.391Z"
   },
   {
    "duration": 6,
    "start_time": "2021-09-24T05:10:49.852Z"
   },
   {
    "duration": 9,
    "start_time": "2021-09-24T05:10:50.455Z"
   },
   {
    "duration": 8,
    "start_time": "2021-09-24T05:10:50.618Z"
   },
   {
    "duration": 6,
    "start_time": "2021-09-24T05:12:40.773Z"
   },
   {
    "duration": 28,
    "start_time": "2021-09-24T05:12:41.001Z"
   },
   {
    "duration": 77,
    "start_time": "2021-09-24T05:12:42.355Z"
   },
   {
    "duration": 360,
    "start_time": "2021-09-24T05:12:42.699Z"
   },
   {
    "duration": 7125,
    "start_time": "2021-09-24T05:12:43.276Z"
   },
   {
    "duration": 417,
    "start_time": "2021-09-24T05:12:50.405Z"
   },
   {
    "duration": 51,
    "start_time": "2021-09-24T05:12:50.826Z"
   },
   {
    "duration": 321,
    "start_time": "2021-09-24T05:12:50.881Z"
   },
   {
    "duration": 5,
    "start_time": "2021-09-24T05:12:51.205Z"
   },
   {
    "duration": 828,
    "start_time": "2021-09-24T05:12:51.213Z"
   },
   {
    "duration": 9,
    "start_time": "2021-09-24T05:12:59.564Z"
   },
   {
    "duration": 8,
    "start_time": "2021-09-24T05:13:00.484Z"
   },
   {
    "duration": 334,
    "start_time": "2021-09-24T05:13:00.988Z"
   },
   {
    "duration": 328,
    "start_time": "2021-09-24T20:04:31.981Z"
   },
   {
    "duration": 1260,
    "start_time": "2021-09-24T20:05:01.864Z"
   },
   {
    "duration": 7,
    "start_time": "2021-09-24T20:05:03.127Z"
   },
   {
    "duration": 6,
    "start_time": "2021-09-24T20:05:03.136Z"
   },
   {
    "duration": 10,
    "start_time": "2021-09-24T20:05:03.144Z"
   },
   {
    "duration": 8,
    "start_time": "2021-09-24T20:05:03.156Z"
   },
   {
    "duration": 10,
    "start_time": "2021-09-24T20:05:03.166Z"
   },
   {
    "duration": 361,
    "start_time": "2021-09-24T20:05:09.530Z"
   },
   {
    "duration": 285,
    "start_time": "2021-09-24T20:05:36.348Z"
   },
   {
    "duration": 4,
    "start_time": "2021-09-24T20:05:57.142Z"
   },
   {
    "duration": 37,
    "start_time": "2021-09-24T20:17:45.143Z"
   },
   {
    "duration": 5,
    "start_time": "2021-09-24T20:17:45.182Z"
   },
   {
    "duration": 13,
    "start_time": "2021-09-24T20:17:45.189Z"
   },
   {
    "duration": 15,
    "start_time": "2021-09-24T20:17:45.205Z"
   },
   {
    "duration": 30,
    "start_time": "2021-09-24T20:17:45.222Z"
   },
   {
    "duration": 8,
    "start_time": "2021-09-24T20:17:45.255Z"
   },
   {
    "duration": 7,
    "start_time": "2021-09-24T20:17:45.265Z"
   },
   {
    "duration": 11,
    "start_time": "2021-09-24T20:17:45.275Z"
   },
   {
    "duration": 25,
    "start_time": "2021-09-24T20:17:45.288Z"
   },
   {
    "duration": 88,
    "start_time": "2021-09-24T20:17:45.315Z"
   },
   {
    "duration": 180,
    "start_time": "2021-09-24T20:17:45.405Z"
   },
   {
    "duration": 5219,
    "start_time": "2021-09-24T20:17:45.588Z"
   },
   {
    "duration": 222,
    "start_time": "2021-09-24T20:17:50.809Z"
   },
   {
    "duration": 30,
    "start_time": "2021-09-24T20:17:51.033Z"
   },
   {
    "duration": 130,
    "start_time": "2021-09-24T20:17:51.065Z"
   },
   {
    "duration": 4,
    "start_time": "2021-09-24T20:17:51.198Z"
   },
   {
    "duration": 535,
    "start_time": "2021-09-24T20:17:51.204Z"
   },
   {
    "duration": 5,
    "start_time": "2021-09-24T20:17:51.741Z"
   },
   {
    "duration": 7,
    "start_time": "2021-09-24T20:17:51.748Z"
   },
   {
    "duration": 407,
    "start_time": "2021-09-24T20:17:56.857Z"
   },
   {
    "duration": 272,
    "start_time": "2021-09-24T20:19:59.644Z"
   },
   {
    "duration": 12,
    "start_time": "2021-09-24T20:20:40.598Z"
   },
   {
    "duration": 297,
    "start_time": "2021-09-24T20:23:10.683Z"
   },
   {
    "duration": 4,
    "start_time": "2021-09-24T20:23:16.262Z"
   },
   {
    "duration": 9,
    "start_time": "2021-09-24T20:26:17.860Z"
   },
   {
    "duration": 7,
    "start_time": "2021-09-24T20:26:26.978Z"
   },
   {
    "duration": 89,
    "start_time": "2021-09-24T20:28:06.071Z"
   },
   {
    "duration": 581,
    "start_time": "2021-09-24T20:28:41.376Z"
   },
   {
    "duration": 44,
    "start_time": "2021-09-24T20:42:10.714Z"
   },
   {
    "duration": 9,
    "start_time": "2021-09-24T20:42:19.771Z"
   },
   {
    "duration": 10,
    "start_time": "2021-09-24T20:58:49.024Z"
   },
   {
    "duration": 3368,
    "start_time": "2021-09-24T21:21:17.731Z"
   },
   {
    "duration": 273,
    "start_time": "2021-09-24T21:24:26.139Z"
   },
   {
    "duration": 36,
    "start_time": "2021-09-24T21:24:56.948Z"
   },
   {
    "duration": 429,
    "start_time": "2021-09-24T21:25:03.117Z"
   },
   {
    "duration": 3106,
    "start_time": "2021-09-24T21:25:19.252Z"
   },
   {
    "duration": 268,
    "start_time": "2021-09-24T21:26:23.988Z"
   },
   {
    "duration": 2879,
    "start_time": "2021-09-24T21:27:34.942Z"
   },
   {
    "duration": 264,
    "start_time": "2021-09-24T21:31:55.563Z"
   },
   {
    "duration": 3477,
    "start_time": "2021-09-24T21:32:03.887Z"
   },
   {
    "duration": 3568,
    "start_time": "2021-09-24T21:32:30.841Z"
   },
   {
    "duration": 3376,
    "start_time": "2021-09-24T21:33:12.090Z"
   },
   {
    "duration": 3868,
    "start_time": "2021-09-24T21:33:54.044Z"
   },
   {
    "duration": 3524,
    "start_time": "2021-09-24T21:34:50.606Z"
   },
   {
    "duration": 2759,
    "start_time": "2021-09-24T21:35:36.110Z"
   },
   {
    "duration": 3545,
    "start_time": "2021-09-24T21:35:48.431Z"
   },
   {
    "duration": 4845,
    "start_time": "2021-09-24T21:36:34.092Z"
   },
   {
    "duration": 364,
    "start_time": "2021-09-24T21:41:24.422Z"
   },
   {
    "duration": 12301,
    "start_time": "2021-09-24T21:41:40.188Z"
   },
   {
    "duration": 10234,
    "start_time": "2021-09-24T21:42:18.649Z"
   },
   {
    "duration": 7946,
    "start_time": "2021-09-24T21:42:36.171Z"
   },
   {
    "duration": 4720,
    "start_time": "2021-09-24T21:43:42.956Z"
   },
   {
    "duration": 3259,
    "start_time": "2021-09-24T21:44:04.282Z"
   },
   {
    "duration": 3470,
    "start_time": "2021-09-24T21:44:51.765Z"
   },
   {
    "duration": 3652,
    "start_time": "2021-09-24T21:45:08.597Z"
   },
   {
    "duration": 273,
    "start_time": "2021-09-24T21:46:30.610Z"
   },
   {
    "duration": 4125,
    "start_time": "2021-09-24T21:51:27.064Z"
   },
   {
    "duration": 3218,
    "start_time": "2021-09-24T21:55:13.994Z"
   },
   {
    "duration": 4126,
    "start_time": "2021-09-24T21:55:40.419Z"
   },
   {
    "duration": 3045,
    "start_time": "2021-09-24T21:56:14.175Z"
   },
   {
    "duration": 3650,
    "start_time": "2021-09-24T21:57:06.454Z"
   },
   {
    "duration": 9,
    "start_time": "2021-09-24T22:16:57.259Z"
   },
   {
    "duration": 1312,
    "start_time": "2021-09-24T22:18:05.131Z"
   },
   {
    "duration": 8,
    "start_time": "2021-09-24T22:18:06.445Z"
   },
   {
    "duration": 3114,
    "start_time": "2021-09-24T22:18:06.455Z"
   },
   {
    "duration": 8,
    "start_time": "2021-09-24T22:18:09.571Z"
   },
   {
    "duration": 6,
    "start_time": "2021-09-24T22:18:09.581Z"
   },
   {
    "duration": 6,
    "start_time": "2021-09-24T22:18:09.589Z"
   },
   {
    "duration": 6,
    "start_time": "2021-09-24T22:18:09.597Z"
   },
   {
    "duration": 45,
    "start_time": "2021-09-24T22:18:09.605Z"
   },
   {
    "duration": 8,
    "start_time": "2021-09-24T22:18:09.652Z"
   },
   {
    "duration": 5,
    "start_time": "2021-09-24T22:18:09.662Z"
   },
   {
    "duration": 5,
    "start_time": "2021-09-24T22:18:09.669Z"
   },
   {
    "duration": 21,
    "start_time": "2021-09-24T22:18:09.675Z"
   },
   {
    "duration": 87,
    "start_time": "2021-09-24T22:18:09.697Z"
   },
   {
    "duration": 182,
    "start_time": "2021-09-24T22:18:09.786Z"
   },
   {
    "duration": 3240,
    "start_time": "2021-09-24T22:18:09.970Z"
   },
   {
    "duration": 174,
    "start_time": "2021-09-24T22:18:13.212Z"
   },
   {
    "duration": 21,
    "start_time": "2021-09-24T22:18:13.388Z"
   },
   {
    "duration": 140,
    "start_time": "2021-09-24T22:18:13.411Z"
   },
   {
    "duration": 6,
    "start_time": "2021-09-24T22:19:33.795Z"
   },
   {
    "duration": 291,
    "start_time": "2021-09-24T22:20:03.647Z"
   },
   {
    "duration": 7,
    "start_time": "2021-09-24T22:21:14.099Z"
   },
   {
    "duration": 6,
    "start_time": "2021-09-24T22:21:17.237Z"
   },
   {
    "duration": 208,
    "start_time": "2021-09-24T22:21:20.005Z"
   },
   {
    "duration": 10,
    "start_time": "2021-09-24T22:27:06.737Z"
   },
   {
    "duration": 4,
    "start_time": "2021-09-24T22:27:31.763Z"
   },
   {
    "duration": 1212,
    "start_time": "2021-09-25T19:15:44.858Z"
   },
   {
    "duration": 11,
    "start_time": "2021-09-25T19:16:24.400Z"
   },
   {
    "duration": 3274,
    "start_time": "2021-09-25T19:16:28.160Z"
   },
   {
    "duration": 3254,
    "start_time": "2021-09-25T19:21:56.706Z"
   },
   {
    "duration": 12,
    "start_time": "2021-09-25T19:22:43.603Z"
   },
   {
    "duration": 6,
    "start_time": "2021-09-25T19:22:53.060Z"
   },
   {
    "duration": 6,
    "start_time": "2021-09-25T19:22:55.659Z"
   },
   {
    "duration": 6,
    "start_time": "2021-09-25T19:23:00.336Z"
   },
   {
    "duration": 6,
    "start_time": "2021-09-25T19:23:03.538Z"
   },
   {
    "duration": 6,
    "start_time": "2021-09-25T19:23:07.742Z"
   },
   {
    "duration": 4,
    "start_time": "2021-09-25T19:24:29.232Z"
   },
   {
    "duration": 5,
    "start_time": "2021-09-25T19:24:52.256Z"
   },
   {
    "duration": 4,
    "start_time": "2021-09-25T19:26:49.639Z"
   },
   {
    "duration": 5,
    "start_time": "2021-09-25T19:29:11.243Z"
   },
   {
    "duration": 19,
    "start_time": "2021-09-25T19:29:13.778Z"
   },
   {
    "duration": 136,
    "start_time": "2021-09-25T19:29:22.897Z"
   },
   {
    "duration": 210,
    "start_time": "2021-09-25T19:29:35.641Z"
   },
   {
    "duration": 49,
    "start_time": "2021-09-25T19:29:40.637Z"
   },
   {
    "duration": 82,
    "start_time": "2021-09-25T19:29:51.905Z"
   },
   {
    "duration": 3287,
    "start_time": "2021-09-25T19:30:30.034Z"
   },
   {
    "duration": 11709,
    "start_time": "2021-09-25T19:31:07.955Z"
   },
   {
    "duration": 7945,
    "start_time": "2021-09-25T19:33:17.286Z"
   },
   {
    "duration": 180,
    "start_time": "2021-09-25T19:33:51.926Z"
   },
   {
    "duration": 23,
    "start_time": "2021-09-25T19:33:56.613Z"
   },
   {
    "duration": 103,
    "start_time": "2021-09-25T19:34:27.244Z"
   },
   {
    "duration": 4,
    "start_time": "2021-09-25T19:34:45.705Z"
   },
   {
    "duration": 225,
    "start_time": "2021-09-25T19:34:54.145Z"
   },
   {
    "duration": 9,
    "start_time": "2021-09-25T19:38:53.174Z"
   },
   {
    "duration": 6,
    "start_time": "2021-09-25T19:38:55.809Z"
   },
   {
    "duration": 157,
    "start_time": "2021-09-25T19:38:58.372Z"
   },
   {
    "duration": 10,
    "start_time": "2021-09-25T19:41:09.098Z"
   },
   {
    "duration": 4,
    "start_time": "2021-09-25T19:41:13.814Z"
   },
   {
    "duration": 11,
    "start_time": "2021-09-25T19:45:02.853Z"
   },
   {
    "duration": 5,
    "start_time": "2021-09-25T19:45:18.850Z"
   },
   {
    "duration": 62,
    "start_time": "2021-09-25T19:50:56.733Z"
   },
   {
    "duration": 4,
    "start_time": "2021-09-25T19:51:06.769Z"
   },
   {
    "duration": 11,
    "start_time": "2021-09-25T19:58:26.950Z"
   },
   {
    "duration": 4,
    "start_time": "2021-09-25T19:58:37.770Z"
   },
   {
    "duration": 12,
    "start_time": "2021-09-25T20:03:08.972Z"
   },
   {
    "duration": 10,
    "start_time": "2021-09-25T20:05:40.481Z"
   },
   {
    "duration": 10,
    "start_time": "2021-09-25T20:06:28.629Z"
   },
   {
    "duration": 54,
    "start_time": "2021-09-25T20:10:02.135Z"
   },
   {
    "duration": 21,
    "start_time": "2021-09-25T20:13:01.668Z"
   },
   {
    "duration": 9,
    "start_time": "2021-09-25T20:18:28.435Z"
   },
   {
    "duration": 10,
    "start_time": "2021-09-25T20:22:09.925Z"
   },
   {
    "duration": 9,
    "start_time": "2021-09-25T20:22:11.647Z"
   },
   {
    "duration": 8,
    "start_time": "2021-09-25T20:26:40.794Z"
   },
   {
    "duration": 10,
    "start_time": "2021-09-25T20:26:55.497Z"
   },
   {
    "duration": 1144,
    "start_time": "2021-09-25T20:28:03.686Z"
   },
   {
    "duration": 10,
    "start_time": "2021-09-25T20:28:04.831Z"
   },
   {
    "duration": 3039,
    "start_time": "2021-09-25T20:28:04.842Z"
   },
   {
    "duration": 17,
    "start_time": "2021-09-25T20:28:07.883Z"
   },
   {
    "duration": 7,
    "start_time": "2021-09-25T20:28:07.902Z"
   },
   {
    "duration": 6,
    "start_time": "2021-09-25T20:28:07.911Z"
   },
   {
    "duration": 7,
    "start_time": "2021-09-25T20:28:07.918Z"
   },
   {
    "duration": 10,
    "start_time": "2021-09-25T20:28:07.927Z"
   },
   {
    "duration": 10,
    "start_time": "2021-09-25T20:28:07.939Z"
   },
   {
    "duration": 7,
    "start_time": "2021-09-25T20:28:07.951Z"
   },
   {
    "duration": 7,
    "start_time": "2021-09-25T20:28:07.959Z"
   },
   {
    "duration": 42,
    "start_time": "2021-09-25T20:28:07.967Z"
   },
   {
    "duration": 47,
    "start_time": "2021-09-25T20:28:08.011Z"
   },
   {
    "duration": 80,
    "start_time": "2021-09-25T20:28:08.060Z"
   },
   {
    "duration": 7586,
    "start_time": "2021-09-25T20:28:08.142Z"
   },
   {
    "duration": 156,
    "start_time": "2021-09-25T20:28:15.730Z"
   },
   {
    "duration": 23,
    "start_time": "2021-09-25T20:28:15.888Z"
   },
   {
    "duration": 133,
    "start_time": "2021-09-25T20:28:15.913Z"
   },
   {
    "duration": 4,
    "start_time": "2021-09-25T20:28:16.047Z"
   },
   {
    "duration": 161,
    "start_time": "2021-09-25T20:28:16.053Z"
   },
   {
    "duration": 3,
    "start_time": "2021-09-25T20:28:16.216Z"
   },
   {
    "duration": 8,
    "start_time": "2021-09-25T20:28:16.221Z"
   },
   {
    "duration": 15,
    "start_time": "2021-09-25T20:28:16.232Z"
   },
   {
    "duration": 45,
    "start_time": "2021-09-25T20:28:16.249Z"
   },
   {
    "duration": 22,
    "start_time": "2021-09-25T20:28:16.295Z"
   },
   {
    "duration": 6,
    "start_time": "2021-09-25T20:28:16.318Z"
   },
   {
    "duration": 13,
    "start_time": "2021-09-25T20:28:16.326Z"
   },
   {
    "duration": 226,
    "start_time": "2021-09-25T20:28:16.340Z"
   },
   {
    "duration": 8,
    "start_time": "2021-09-25T20:28:16.568Z"
   }
  ],
  "kernelspec": {
   "display_name": "Python 3",
   "language": "python",
   "name": "python3"
  },
  "language_info": {
   "codemirror_mode": {
    "name": "ipython",
    "version": 3
   },
   "file_extension": ".py",
   "mimetype": "text/x-python",
   "name": "python",
   "nbconvert_exporter": "python",
   "pygments_lexer": "ipython3",
   "version": "3.8.8"
  },
  "toc": {
   "base_numbering": 1,
   "nav_menu": {},
   "number_sections": true,
   "sideBar": true,
   "skip_h1_title": true,
   "title_cell": "Table of Contents",
   "title_sidebar": "Contents",
   "toc_cell": false,
   "toc_position": {},
   "toc_section_display": true,
   "toc_window_display": false
  }
 },
 "nbformat": 4,
 "nbformat_minor": 2
}
