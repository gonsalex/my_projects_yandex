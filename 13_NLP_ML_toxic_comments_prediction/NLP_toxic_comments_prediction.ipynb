{
 "cells": [
  {
   "cell_type": "markdown",
   "metadata": {
    "toc": true
   },
   "source": [
    "<h1>Содержание<span class=\"tocSkip\"></span></h1>\n",
    "<div class=\"toc\"><ul class=\"toc-item\"><li><span><a href=\"#Подготовка\" data-toc-modified-id=\"Подготовка-1\"><span class=\"toc-item-num\">1&nbsp;&nbsp;</span>Подготовка</a></span></li><li><span><a href=\"#Обучение\" data-toc-modified-id=\"Обучение-2\"><span class=\"toc-item-num\">2&nbsp;&nbsp;</span>Обучение</a></span></li><li><span><a href=\"#Выводы\" data-toc-modified-id=\"Выводы-3\"><span class=\"toc-item-num\">3&nbsp;&nbsp;</span>Выводы</a></span></li><li><span><a href=\"#Чек-лист-проверки\" data-toc-modified-id=\"Чек-лист-проверки-4\"><span class=\"toc-item-num\">4&nbsp;&nbsp;</span>Чек-лист проверки</a></span></li></ul></div>"
   ]
  },
  {
   "cell_type": "markdown",
   "metadata": {},
   "source": [
    "# Проект для «Викишоп»"
   ]
  },
  {
   "cell_type": "markdown",
   "metadata": {},
   "source": [
    "Интернет-магазин «Викишоп» запускает новый сервис. Теперь пользователи могут редактировать и дополнять описания товаров, как в вики-сообществах. То есть клиенты предлагают свои правки и комментируют изменения других. Магазину нужен инструмент, который будет искать токсичные комментарии и отправлять их на модерацию. \n",
    "\n",
    "Нужно обучить модель классифицировать комментарии на позитивные и негативные. В вашем распоряжении набор данных с разметкой о токсичности правок.\n",
    "\n",
    "Построить модель со значением метрики качества *F1* не меньше 0.75. \n",
    "\n",
    "Данные находятся в файле `toxic_comments.csv`. Столбец *text* в нём содержит текст комментария, а *toxic* — целевой признак."
   ]
  },
  {
   "cell_type": "markdown",
   "metadata": {},
   "source": [
    "## Подготовка"
   ]
  },
  {
   "cell_type": "code",
   "execution_count": 1,
   "metadata": {},
   "outputs": [],
   "source": [
    "import pandas as pd\n",
    "import numpy as np\n",
    "from sklearn.model_selection import train_test_split\n",
    "from sklearn.utils import shuffle\n",
    "from sklearn.model_selection import GridSearchCV\n",
    "import matplotlib.pyplot as plt\n",
    "import warnings\n",
    "warnings.filterwarnings(\"ignore\")\n",
    "from sklearn.linear_model import LogisticRegression\n",
    "from sklearn.svm import LinearSVC\n",
    "from sklearn.linear_model import SGDClassifier\n",
    "from sklearn.ensemble import RandomForestClassifier\n",
    "from sklearn.dummy import DummyRegressor\n",
    "import nltk \n",
    "from nltk.stem import WordNetLemmatizer \n",
    "from nltk.corpus import stopwords \n",
    "from sklearn.feature_extraction.text import TfidfVectorizer \n",
    "import re \n",
    "from sklearn.metrics import f1_score"
   ]
  },
  {
   "cell_type": "code",
   "execution_count": 2,
   "metadata": {
    "scrolled": true
   },
   "outputs": [
    {
     "data": {
      "text/html": [
       "<div>\n",
       "<style scoped>\n",
       "    .dataframe tbody tr th:only-of-type {\n",
       "        vertical-align: middle;\n",
       "    }\n",
       "\n",
       "    .dataframe tbody tr th {\n",
       "        vertical-align: top;\n",
       "    }\n",
       "\n",
       "    .dataframe thead th {\n",
       "        text-align: right;\n",
       "    }\n",
       "</style>\n",
       "<table border=\"1\" class=\"dataframe\">\n",
       "  <thead>\n",
       "    <tr style=\"text-align: right;\">\n",
       "      <th></th>\n",
       "      <th>text</th>\n",
       "      <th>toxic</th>\n",
       "    </tr>\n",
       "  </thead>\n",
       "  <tbody>\n",
       "    <tr>\n",
       "      <th>0</th>\n",
       "      <td>Explanation\\nWhy the edits made under my usern...</td>\n",
       "      <td>0</td>\n",
       "    </tr>\n",
       "    <tr>\n",
       "      <th>1</th>\n",
       "      <td>D'aww! He matches this background colour I'm s...</td>\n",
       "      <td>0</td>\n",
       "    </tr>\n",
       "    <tr>\n",
       "      <th>2</th>\n",
       "      <td>Hey man, I'm really not trying to edit war. It...</td>\n",
       "      <td>0</td>\n",
       "    </tr>\n",
       "    <tr>\n",
       "      <th>3</th>\n",
       "      <td>\"\\nMore\\nI can't make any real suggestions on ...</td>\n",
       "      <td>0</td>\n",
       "    </tr>\n",
       "    <tr>\n",
       "      <th>4</th>\n",
       "      <td>You, sir, are my hero. Any chance you remember...</td>\n",
       "      <td>0</td>\n",
       "    </tr>\n",
       "    <tr>\n",
       "      <th>5</th>\n",
       "      <td>\"\\n\\nCongratulations from me as well, use the ...</td>\n",
       "      <td>0</td>\n",
       "    </tr>\n",
       "    <tr>\n",
       "      <th>6</th>\n",
       "      <td>COCKSUCKER BEFORE YOU PISS AROUND ON MY WORK</td>\n",
       "      <td>1</td>\n",
       "    </tr>\n",
       "    <tr>\n",
       "      <th>7</th>\n",
       "      <td>Your vandalism to the Matt Shirvington article...</td>\n",
       "      <td>0</td>\n",
       "    </tr>\n",
       "    <tr>\n",
       "      <th>8</th>\n",
       "      <td>Sorry if the word 'nonsense' was offensive to ...</td>\n",
       "      <td>0</td>\n",
       "    </tr>\n",
       "    <tr>\n",
       "      <th>9</th>\n",
       "      <td>alignment on this subject and which are contra...</td>\n",
       "      <td>0</td>\n",
       "    </tr>\n",
       "  </tbody>\n",
       "</table>\n",
       "</div>"
      ],
      "text/plain": [
       "                                                text  toxic\n",
       "0  Explanation\\nWhy the edits made under my usern...      0\n",
       "1  D'aww! He matches this background colour I'm s...      0\n",
       "2  Hey man, I'm really not trying to edit war. It...      0\n",
       "3  \"\\nMore\\nI can't make any real suggestions on ...      0\n",
       "4  You, sir, are my hero. Any chance you remember...      0\n",
       "5  \"\\n\\nCongratulations from me as well, use the ...      0\n",
       "6       COCKSUCKER BEFORE YOU PISS AROUND ON MY WORK      1\n",
       "7  Your vandalism to the Matt Shirvington article...      0\n",
       "8  Sorry if the word 'nonsense' was offensive to ...      0\n",
       "9  alignment on this subject and which are contra...      0"
      ]
     },
     "metadata": {},
     "output_type": "display_data"
    },
    {
     "data": {
      "text/html": [
       "<div>\n",
       "<style scoped>\n",
       "    .dataframe tbody tr th:only-of-type {\n",
       "        vertical-align: middle;\n",
       "    }\n",
       "\n",
       "    .dataframe tbody tr th {\n",
       "        vertical-align: top;\n",
       "    }\n",
       "\n",
       "    .dataframe thead th {\n",
       "        text-align: right;\n",
       "    }\n",
       "</style>\n",
       "<table border=\"1\" class=\"dataframe\">\n",
       "  <thead>\n",
       "    <tr style=\"text-align: right;\">\n",
       "      <th></th>\n",
       "      <th>text</th>\n",
       "      <th>toxic</th>\n",
       "    </tr>\n",
       "  </thead>\n",
       "  <tbody>\n",
       "    <tr>\n",
       "      <th>159566</th>\n",
       "      <td>\":::::And for the second time of asking, when ...</td>\n",
       "      <td>0</td>\n",
       "    </tr>\n",
       "    <tr>\n",
       "      <th>159567</th>\n",
       "      <td>You should be ashamed of yourself \\n\\nThat is ...</td>\n",
       "      <td>0</td>\n",
       "    </tr>\n",
       "    <tr>\n",
       "      <th>159568</th>\n",
       "      <td>Spitzer \\n\\nUmm, theres no actual article for ...</td>\n",
       "      <td>0</td>\n",
       "    </tr>\n",
       "    <tr>\n",
       "      <th>159569</th>\n",
       "      <td>And it looks like it was actually you who put ...</td>\n",
       "      <td>0</td>\n",
       "    </tr>\n",
       "    <tr>\n",
       "      <th>159570</th>\n",
       "      <td>\"\\nAnd ... I really don't think you understand...</td>\n",
       "      <td>0</td>\n",
       "    </tr>\n",
       "  </tbody>\n",
       "</table>\n",
       "</div>"
      ],
      "text/plain": [
       "                                                     text  toxic\n",
       "159566  \":::::And for the second time of asking, when ...      0\n",
       "159567  You should be ashamed of yourself \\n\\nThat is ...      0\n",
       "159568  Spitzer \\n\\nUmm, theres no actual article for ...      0\n",
       "159569  And it looks like it was actually you who put ...      0\n",
       "159570  \"\\nAnd ... I really don't think you understand...      0"
      ]
     },
     "metadata": {},
     "output_type": "display_data"
    },
    {
     "name": "stdout",
     "output_type": "stream",
     "text": [
      "<class 'pandas.core.frame.DataFrame'>\n",
      "RangeIndex: 159571 entries, 0 to 159570\n",
      "Data columns (total 2 columns):\n",
      " #   Column  Non-Null Count   Dtype \n",
      "---  ------  --------------   ----- \n",
      " 0   text    159571 non-null  object\n",
      " 1   toxic   159571 non-null  int64 \n",
      "dtypes: int64(1), object(1)\n",
      "memory usage: 2.4+ MB\n"
     ]
    }
   ],
   "source": [
    "ds = pd.read_csv('C:/Users/alexander_bu/Documents/Progects/Text/toxic_comments.csv')\n",
    "display(ds.head(10))\n",
    "display(ds.tail())\n",
    "ds.info()"
   ]
  },
  {
   "cell_type": "markdown",
   "metadata": {},
   "source": [
    "В нашем распоряжении 159571 комментарий, классифицированный на признак токсичности. Чтобы алгоритмы умели определять тематику и тональность текста, их нужно обучить на корпусе - наборе текстов, в котором эмоции и ключевые слова уже размечены. Создадим корпус комментариев, переведём тексты в кодировку Unicode (U)."
   ]
  },
  {
   "cell_type": "code",
   "execution_count": 3,
   "metadata": {
    "scrolled": false
   },
   "outputs": [
    {
     "name": "stdout",
     "output_type": "stream",
     "text": [
      "[\"Explanation\\nWhy the edits made under my username Hardcore Metallica Fan were reverted? They weren't vandalisms, just closure on some GAs after I voted at New York Dolls FAC. And please don't remove the template from the talk page since I'm retired now.89.205.38.27\"\n",
      " \"D'aww! He matches this background colour I'm seemingly stuck with. Thanks.  (talk) 21:51, January 11, 2016 (UTC)\"\n",
      " \"Hey man, I'm really not trying to edit war. It's just that this guy is constantly removing relevant information and talking to me through edits instead of my talk page. He seems to care more about the formatting than the actual info.\"]\n"
     ]
    }
   ],
   "source": [
    "corpus = ds['text'].values.astype('U')\n",
    "print(corpus[0:3])"
   ]
  },
  {
   "cell_type": "markdown",
   "metadata": {},
   "source": [
    "Сделаем функцию для очистки и лемматизации и применим ее к корпусу комментариев:"
   ]
  },
  {
   "cell_type": "code",
   "execution_count": 4,
   "metadata": {},
   "outputs": [],
   "source": [
    "def clear_lemmatize_text(text):\n",
    "    \n",
    "    re_text = re.sub(r'[^a-zA-Z ]', ' ', text).split()\n",
    "    \n",
    "    lemmatizer = WordNetLemmatizer()\n",
    "    lemm_text = ' '.join([lemmatizer.lemmatize(w) for w in re_text])\n",
    "    \n",
    "    return lemm_text"
   ]
  },
  {
   "cell_type": "code",
   "execution_count": 5,
   "metadata": {},
   "outputs": [
    {
     "name": "stderr",
     "output_type": "stream",
     "text": [
      "[nltk_data] Downloading package wordnet to\n",
      "[nltk_data]     C:\\Users\\alexander_bu\\AppData\\Roaming\\nltk_data...\n",
      "[nltk_data]   Package wordnet is already up-to-date!\n"
     ]
    },
    {
     "name": "stdout",
     "output_type": "stream",
     "text": [
      "Explanation\n",
      "Why the edits made under my username Hardcore Metallica Fan were reverted? They weren't vandalisms, just closure on some GAs after I voted at New York Dolls FAC. And please don't remove the template from the talk page since I'm retired now.89.205.38.27\n",
      "\n",
      "Explanation Why the edits made under my username Hardcore Metallica Fan were reverted They weren t vandalism just closure on some GAs after I voted at New York Dolls FAC And please don t remove the template from the talk page since I m retired now\n"
     ]
    }
   ],
   "source": [
    "nltk.download('wordnet')\n",
    "#TEST\n",
    "print(corpus[0])\n",
    "print()\n",
    "print(clear_lemmatize_text(corpus[0]))"
   ]
  },
  {
   "cell_type": "code",
   "execution_count": 6,
   "metadata": {},
   "outputs": [
    {
     "name": "stdout",
     "output_type": "stream",
     "text": [
      "['Explanation Why the edits made under my username Hardcore Metallica Fan were reverted They weren t vandalism just closure on some GAs after I voted at New York Dolls FAC And please don t remove the template from the talk page since I m retired now'\n",
      " 'D aww He match this background colour I m seemingly stuck with Thanks talk January UTC'\n",
      " 'Hey man I m really not trying to edit war It s just that this guy is constantly removing relevant information and talking to me through edits instead of my talk page He seems to care more about the formatting than the actual info']\n",
      "\n",
      "Wall time: 1min 50s\n"
     ]
    }
   ],
   "source": [
    "%%time\n",
    "for i in range(len(corpus)):\n",
    "    corpus[i] = clear_lemmatize_text(corpus[i])\n",
    "    \n",
    "print(corpus[0:3])\n",
    "print()"
   ]
  },
  {
   "cell_type": "code",
   "execution_count": 7,
   "metadata": {},
   "outputs": [],
   "source": [
    "# ВАРИАНТ лемматизации с параметром POS Tag, дает более глубокую и точную обработку,\n",
    "# но время обработки текста увеличивается в разы, при этом влияние на метрику F1 минимальное\n",
    "\n",
    "# from nltk.corpus import wordnet\n",
    "# nltk.download('averaged_perceptron_tagger')\n",
    "\n",
    "# def get_wordnet_pos(word):\n",
    "#     tag = nltk.pos_tag([word])[0][1][0].upper()\n",
    "#     tag_dict = {\"J\": wordnet.ADJ,\n",
    "#                 \"N\": wordnet.NOUN,\n",
    "#                 \"V\": wordnet.VERB,\n",
    "#                 \"R\": wordnet.ADV}\n",
    "#     return tag_dict.get(tag, wordnet.NOUN)\n",
    "\n",
    "# def clear_lemmatize_text_(text):    \n",
    "#     re_text = re.sub(r'[^a-zA-Z ]', ' ', text).split()    \n",
    "#     lemmatizer = WordNetLemmatizer()\n",
    "#     lemm_text = ' '.join([lemmatizer.lemmatize(w, get_wordnet_pos(w)) for w in re_text])    \n",
    "#     return lemm_text"
   ]
  },
  {
   "cell_type": "code",
   "execution_count": null,
   "metadata": {},
   "outputs": [],
   "source": []
  },
  {
   "cell_type": "markdown",
   "metadata": {},
   "source": [
    "Добавим преобразованный корпус в основной датасет"
   ]
  },
  {
   "cell_type": "code",
   "execution_count": 8,
   "metadata": {
    "scrolled": true
   },
   "outputs": [
    {
     "data": {
      "text/html": [
       "<div>\n",
       "<style scoped>\n",
       "    .dataframe tbody tr th:only-of-type {\n",
       "        vertical-align: middle;\n",
       "    }\n",
       "\n",
       "    .dataframe tbody tr th {\n",
       "        vertical-align: top;\n",
       "    }\n",
       "\n",
       "    .dataframe thead th {\n",
       "        text-align: right;\n",
       "    }\n",
       "</style>\n",
       "<table border=\"1\" class=\"dataframe\">\n",
       "  <thead>\n",
       "    <tr style=\"text-align: right;\">\n",
       "      <th></th>\n",
       "      <th>text</th>\n",
       "      <th>toxic</th>\n",
       "      <th>lemm_text</th>\n",
       "    </tr>\n",
       "  </thead>\n",
       "  <tbody>\n",
       "    <tr>\n",
       "      <th>0</th>\n",
       "      <td>Explanation\\nWhy the edits made under my usern...</td>\n",
       "      <td>0</td>\n",
       "      <td>Explanation Why the edits made under my userna...</td>\n",
       "    </tr>\n",
       "    <tr>\n",
       "      <th>1</th>\n",
       "      <td>D'aww! He matches this background colour I'm s...</td>\n",
       "      <td>0</td>\n",
       "      <td>D aww He match this background colour I m seem...</td>\n",
       "    </tr>\n",
       "    <tr>\n",
       "      <th>2</th>\n",
       "      <td>Hey man, I'm really not trying to edit war. It...</td>\n",
       "      <td>0</td>\n",
       "      <td>Hey man I m really not trying to edit war It s...</td>\n",
       "    </tr>\n",
       "    <tr>\n",
       "      <th>3</th>\n",
       "      <td>\"\\nMore\\nI can't make any real suggestions on ...</td>\n",
       "      <td>0</td>\n",
       "      <td>More I can t make any real suggestion on impro...</td>\n",
       "    </tr>\n",
       "    <tr>\n",
       "      <th>4</th>\n",
       "      <td>You, sir, are my hero. Any chance you remember...</td>\n",
       "      <td>0</td>\n",
       "      <td>You sir are my hero Any chance you remember wh...</td>\n",
       "    </tr>\n",
       "  </tbody>\n",
       "</table>\n",
       "</div>"
      ],
      "text/plain": [
       "                                                text  toxic  \\\n",
       "0  Explanation\\nWhy the edits made under my usern...      0   \n",
       "1  D'aww! He matches this background colour I'm s...      0   \n",
       "2  Hey man, I'm really not trying to edit war. It...      0   \n",
       "3  \"\\nMore\\nI can't make any real suggestions on ...      0   \n",
       "4  You, sir, are my hero. Any chance you remember...      0   \n",
       "\n",
       "                                           lemm_text  \n",
       "0  Explanation Why the edits made under my userna...  \n",
       "1  D aww He match this background colour I m seem...  \n",
       "2  Hey man I m really not trying to edit war It s...  \n",
       "3  More I can t make any real suggestion on impro...  \n",
       "4  You sir are my hero Any chance you remember wh...  "
      ]
     },
     "metadata": {},
     "output_type": "display_data"
    },
    {
     "name": "stdout",
     "output_type": "stream",
     "text": [
      "\n",
      "<class 'pandas.core.frame.DataFrame'>\n",
      "RangeIndex: 159571 entries, 0 to 159570\n",
      "Data columns (total 3 columns):\n",
      " #   Column     Non-Null Count   Dtype \n",
      "---  ------     --------------   ----- \n",
      " 0   text       159571 non-null  object\n",
      " 1   toxic      159571 non-null  int64 \n",
      " 2   lemm_text  159571 non-null  object\n",
      "dtypes: int64(1), object(2)\n",
      "memory usage: 3.7+ MB\n"
     ]
    }
   ],
   "source": [
    "ds['lemm_text'] = pd.DataFrame(corpus)[0]\n",
    "\n",
    "display(ds.head())\n",
    "print()\n",
    "ds.info()"
   ]
  },
  {
   "cell_type": "markdown",
   "metadata": {},
   "source": [
    "Проверим распределение целевого признака"
   ]
  },
  {
   "cell_type": "code",
   "execution_count": 9,
   "metadata": {
    "scrolled": false
   },
   "outputs": [
    {
     "data": {
      "text/plain": [
       "0    143346\n",
       "1     16225\n",
       "Name: toxic, dtype: int64"
      ]
     },
     "execution_count": 9,
     "metadata": {},
     "output_type": "execute_result"
    }
   ],
   "source": [
    "ds.toxic.value_counts()"
   ]
  },
  {
   "cell_type": "markdown",
   "metadata": {},
   "source": [
    "В целевом признаке наблюдается дисбаланс. При обучении моделей необходимо будет это учесть при определении параметра class_weight.\n",
    "\n",
    "Разделим данные на тренировочную и тестовую выборки, определим целевой признак. Чтобы при разделении сохранить пропорции меток классов установим параметр stratify метода train_test_split."
   ]
  },
  {
   "cell_type": "code",
   "execution_count": 10,
   "metadata": {},
   "outputs": [
    {
     "name": "stdout",
     "output_type": "stream",
     "text": [
      "(127656,)\n",
      "(127656,)\n",
      "\n",
      "(31915,)\n",
      "(31915,)\n",
      "\n",
      "Доля положительных значений целевого признака для train: 0.10167951369305007\n",
      "Доля положительных значений целевого признака для test: 0.10167632774557418\n"
     ]
    }
   ],
   "source": [
    "features_train, features_test, target_train, target_test = train_test_split(\n",
    "    ds['lemm_text'], ds['toxic'], test_size=0.20, random_state=12345, stratify = ds['toxic'])\n",
    "\n",
    "print(features_train.shape)\n",
    "print(target_train.shape)\n",
    "print()\n",
    "print(features_test.shape)\n",
    "print(target_test.shape)\n",
    "print()\n",
    "print('Доля положительных значений целевого признака для train:', target_train.value_counts()[1] / len(target_train))\n",
    "print('Доля положительных значений целевого признака для test:', target_test.value_counts()[1] / len(target_test))"
   ]
  },
  {
   "cell_type": "markdown",
   "metadata": {},
   "source": [
    "Выполним загрузку списка стоп-слов и векторизацию текста:"
   ]
  },
  {
   "cell_type": "code",
   "execution_count": 11,
   "metadata": {},
   "outputs": [
    {
     "name": "stderr",
     "output_type": "stream",
     "text": [
      "[nltk_data] Downloading package stopwords to\n",
      "[nltk_data]     C:\\Users\\alexander_bu\\AppData\\Roaming\\nltk_data...\n",
      "[nltk_data]   Package stopwords is already up-to-date!\n"
     ]
    }
   ],
   "source": [
    "nltk.download('stopwords')\n",
    "stopwords = set(stopwords.words('english'))\n",
    "\n",
    "count_tf_idf = TfidfVectorizer(stop_words=stopwords) \n",
    "\n",
    "features_train = count_tf_idf.fit_transform(features_train)\n",
    "features_test = count_tf_idf.transform(features_test)"
   ]
  },
  {
   "cell_type": "code",
   "execution_count": 12,
   "metadata": {
    "scrolled": true
   },
   "outputs": [
    {
     "name": "stdout",
     "output_type": "stream",
     "text": [
      "  (0, 123837)\t0.08794194379069332\n",
      "  (0, 125722)\t0.12393311887381023\n",
      "  (0, 4167)\t0.10495952088246104\n",
      "  (0, 140895)\t0.14569136761342252\n",
      "  (0, 100075)\t0.23670486204609442\n",
      "  (0, 131967)\t0.31538502209406133\n",
      "  (0, 12410)\t0.1904103076816997\n",
      "  (0, 34706)\t0.19224153525366033\n",
      "  (0, 111696)\t0.2642973066771396\n",
      "  (0, 71269)\t0.17350353165405738\n",
      "  (0, 99313)\t0.34609080161639305\n",
      "  (0, 12595)\t0.23115599237612935\n",
      "  (0, 46203)\t0.31721206172086225\n",
      "  (0, 8269)\t0.1742032798074324\n",
      "  (0, 112117)\t0.10242633162570712\n",
      "  (0, 106133)\t0.1704264970356912\n",
      "  (0, 98464)\t0.23206009886796655\n",
      "  (0, 141259)\t0.3455742570538736\n",
      "  (0, 140625)\t0.1926418542638018\n",
      "  (0, 82598)\t0.2051079249049404\n",
      "  (0, 1276)\t0.140804210650308\n",
      "\n",
      "  (0, 136585)\t0.22770860328538392\n",
      "  (0, 133790)\t0.18168519504867076\n",
      "  (0, 121517)\t0.2860572111620506\n",
      "  (0, 115214)\t0.20395722719586842\n",
      "  (0, 115192)\t0.3633111410620943\n",
      "  (0, 87679)\t0.3129997483608572\n",
      "  (0, 59911)\t0.34797133690054227\n",
      "  (0, 59284)\t0.3797983561091245\n",
      "  (0, 46474)\t0.2712797837402512\n",
      "  (0, 22238)\t0.31032688012362025\n",
      "  (0, 6860)\t0.35569908548089757\n"
     ]
    }
   ],
   "source": [
    "print(features_train[0])\n",
    "print()\n",
    "print(features_test[0])"
   ]
  },
  {
   "cell_type": "markdown",
   "metadata": {},
   "source": [
    "Данные подготовлены к обученияю и тестированию моделей."
   ]
  },
  {
   "cell_type": "markdown",
   "metadata": {},
   "source": [
    "## Обучение"
   ]
  },
  {
   "cell_type": "markdown",
   "metadata": {},
   "source": [
    "Создадим сводную таблицу для сравнения результатов работы алгоритмов."
   ]
  },
  {
   "cell_type": "code",
   "execution_count": 13,
   "metadata": {},
   "outputs": [
    {
     "data": {
      "text/html": [
       "<div>\n",
       "<style scoped>\n",
       "    .dataframe tbody tr th:only-of-type {\n",
       "        vertical-align: middle;\n",
       "    }\n",
       "\n",
       "    .dataframe tbody tr th {\n",
       "        vertical-align: top;\n",
       "    }\n",
       "\n",
       "    .dataframe thead th {\n",
       "        text-align: right;\n",
       "    }\n",
       "</style>\n",
       "<table border=\"1\" class=\"dataframe\">\n",
       "  <thead>\n",
       "    <tr style=\"text-align: right;\">\n",
       "      <th></th>\n",
       "      <th>Алгоритм</th>\n",
       "      <th>F1 на валидации</th>\n",
       "    </tr>\n",
       "  </thead>\n",
       "  <tbody>\n",
       "  </tbody>\n",
       "</table>\n",
       "</div>"
      ],
      "text/plain": [
       "Empty DataFrame\n",
       "Columns: [Алгоритм, F1 на валидации]\n",
       "Index: []"
      ]
     },
     "metadata": {},
     "output_type": "display_data"
    }
   ],
   "source": [
    "model_comparison = pd.DataFrame(columns=['Алгоритм', 'F1 на валидации'])\n",
    "display(model_comparison)"
   ]
  },
  {
   "cell_type": "markdown",
   "metadata": {},
   "source": [
    "Функция для настройки и тестирования алгоритмов"
   ]
  },
  {
   "cell_type": "code",
   "execution_count": 14,
   "metadata": {},
   "outputs": [],
   "source": [
    "def  tuning_test_models(model_name, model, parameters, features, target, features_test, target_test):\n",
    "    \n",
    "    grid = GridSearchCV(estimator=model, param_grid=parameters, cv=3, n_jobs=-1, scoring='f1')\n",
    "    grid.fit(features, target)\n",
    " \n",
    "    best_model = grid.best_estimator_    \n",
    "    best_model.fit(features, target)   \n",
    "    target_predict = best_model.predict(features_test)\n",
    "    \n",
    "    f1 = f1_score(target_test, target_predict)\n",
    "    \n",
    "    print(\"\\n========================================================\")\n",
    "    print(\" Модель\",  model_name)\n",
    "    print(\"========================================================\")\n",
    "    \n",
    "    print(\"\\n Лучший результат на обучении:\\n\", grid.best_score_)    \n",
    "    print(\"\\n Лучшие параметры:\\n\", grid.best_params_)    \n",
    "    print(\"\\n Лучшая модель:\\n\", grid.best_estimator_)\n",
    "    \n",
    "    print(\"\\n ========================================================\")\n",
    "        \n",
    "    print(\"\\n F1 на валидации:\\n\", f1)\n",
    "    print(\"\\n ========================================================\")\n",
    "    print()\n",
    "    \n",
    "    result = {'Алгоритм' : model_name,\n",
    "              'F1 на валидации' : round(f1, 3)}    \n",
    "    return result"
   ]
  },
  {
   "cell_type": "markdown",
   "metadata": {},
   "source": [
    "Обучим модели с подбором гиперапарметров следующими алгоритмами:\n",
    "- LogisticRegression\n",
    "- LinearSVC\n",
    "- SGDClassifier\n",
    "- RandomForestClassifier"
   ]
  },
  {
   "cell_type": "code",
   "execution_count": 15,
   "metadata": {},
   "outputs": [
    {
     "name": "stdout",
     "output_type": "stream",
     "text": [
      "\n",
      "========================================================\n",
      " Модель LogisticRegression\n",
      "========================================================\n",
      "\n",
      " Лучший результат на обучении:\n",
      " 0.7604999988915374\n",
      "\n",
      " Лучшие параметры:\n",
      " {'C': 3, 'penalty': 'l1'}\n",
      "\n",
      " Лучшая модель:\n",
      " LogisticRegression(C=3, class_weight='balanced', penalty='l1',\n",
      "                   random_state=12345, solver='liblinear')\n",
      "\n",
      " ========================================================\n",
      "\n",
      " F1 на валидации:\n",
      " 0.7729551640166165\n",
      "\n",
      " ========================================================\n",
      "\n"
     ]
    },
    {
     "data": {
      "text/html": [
       "<div>\n",
       "<style scoped>\n",
       "    .dataframe tbody tr th:only-of-type {\n",
       "        vertical-align: middle;\n",
       "    }\n",
       "\n",
       "    .dataframe tbody tr th {\n",
       "        vertical-align: top;\n",
       "    }\n",
       "\n",
       "    .dataframe thead th {\n",
       "        text-align: right;\n",
       "    }\n",
       "</style>\n",
       "<table border=\"1\" class=\"dataframe\">\n",
       "  <thead>\n",
       "    <tr style=\"text-align: right;\">\n",
       "      <th></th>\n",
       "      <th>Алгоритм</th>\n",
       "      <th>F1 на валидации</th>\n",
       "    </tr>\n",
       "  </thead>\n",
       "  <tbody>\n",
       "    <tr>\n",
       "      <th>0</th>\n",
       "      <td>LogisticRegression</td>\n",
       "      <td>0.773</td>\n",
       "    </tr>\n",
       "  </tbody>\n",
       "</table>\n",
       "</div>"
      ],
      "text/plain": [
       "             Алгоритм  F1 на валидации\n",
       "0  LogisticRegression            0.773"
      ]
     },
     "metadata": {},
     "output_type": "display_data"
    },
    {
     "name": "stdout",
     "output_type": "stream",
     "text": [
      "Wall time: 38.1 s\n"
     ]
    }
   ],
   "source": [
    "%%time\n",
    "model_results = tuning_test_models(\n",
    "                            'LogisticRegression', \n",
    "                            LogisticRegression(class_weight='balanced',\n",
    "                                                random_state=12345,\n",
    "                                                solver='liblinear'), \n",
    "                            {'C': [1, 3], 'penalty': ['l1', 'l2']}, \n",
    "                            features_train, \n",
    "                            target_train,\n",
    "                            features_test, \n",
    "                            target_test)\n",
    "\n",
    "model_comparison = model_comparison.append(model_results, ignore_index=True)\n",
    "display(model_comparison)"
   ]
  },
  {
   "cell_type": "code",
   "execution_count": 16,
   "metadata": {},
   "outputs": [
    {
     "name": "stdout",
     "output_type": "stream",
     "text": [
      "\n",
      "========================================================\n",
      " Модель LinearSVC\n",
      "========================================================\n",
      "\n",
      " Лучший результат на обучении:\n",
      " 0.7633096223642027\n",
      "\n",
      " Лучшие параметры:\n",
      " {'max_iter': 100, 'penalty': 'l2'}\n",
      "\n",
      " Лучшая модель:\n",
      " LinearSVC(max_iter=100, random_state=12345)\n",
      "\n",
      " ========================================================\n",
      "\n",
      " F1 на валидации:\n",
      " 0.7815458770872784\n",
      "\n",
      " ========================================================\n",
      "\n"
     ]
    },
    {
     "data": {
      "text/html": [
       "<div>\n",
       "<style scoped>\n",
       "    .dataframe tbody tr th:only-of-type {\n",
       "        vertical-align: middle;\n",
       "    }\n",
       "\n",
       "    .dataframe tbody tr th {\n",
       "        vertical-align: top;\n",
       "    }\n",
       "\n",
       "    .dataframe thead th {\n",
       "        text-align: right;\n",
       "    }\n",
       "</style>\n",
       "<table border=\"1\" class=\"dataframe\">\n",
       "  <thead>\n",
       "    <tr style=\"text-align: right;\">\n",
       "      <th></th>\n",
       "      <th>Алгоритм</th>\n",
       "      <th>F1 на валидации</th>\n",
       "    </tr>\n",
       "  </thead>\n",
       "  <tbody>\n",
       "    <tr>\n",
       "      <th>0</th>\n",
       "      <td>LogisticRegression</td>\n",
       "      <td>0.773</td>\n",
       "    </tr>\n",
       "    <tr>\n",
       "      <th>1</th>\n",
       "      <td>LinearSVC</td>\n",
       "      <td>0.782</td>\n",
       "    </tr>\n",
       "  </tbody>\n",
       "</table>\n",
       "</div>"
      ],
      "text/plain": [
       "             Алгоритм  F1 на валидации\n",
       "0  LogisticRegression            0.773\n",
       "1           LinearSVC            0.782"
      ]
     },
     "metadata": {},
     "output_type": "display_data"
    },
    {
     "name": "stdout",
     "output_type": "stream",
     "text": [
      "Wall time: 6.86 s\n"
     ]
    }
   ],
   "source": [
    "%%time\n",
    "model_results = tuning_test_models(\n",
    "                            'LinearSVC', \n",
    "                            LinearSVC(random_state=12345), \n",
    "                            {'penalty': ['l1', 'l2'],                                      \n",
    "                             'max_iter': [100, 1000]}, \n",
    "                            features_train, \n",
    "                            target_train,\n",
    "                            features_test, \n",
    "                            target_test)\n",
    "\n",
    "model_comparison = model_comparison.append(model_results, ignore_index=True)\n",
    "display(model_comparison)"
   ]
  },
  {
   "cell_type": "code",
   "execution_count": 17,
   "metadata": {},
   "outputs": [
    {
     "name": "stdout",
     "output_type": "stream",
     "text": [
      "\n",
      "========================================================\n",
      " Модель SGDClassifier\n",
      "========================================================\n",
      "\n",
      " Лучший результат на обучении:\n",
      " 0.7631225143713024\n",
      "\n",
      " Лучшие параметры:\n",
      " {'loss': 'hinge', 'penalty': 'none'}\n",
      "\n",
      " Лучшая модель:\n",
      " SGDClassifier(n_jobs=-1, penalty='none', random_state=12345)\n",
      "\n",
      " ========================================================\n",
      "\n",
      " F1 на валидации:\n",
      " 0.7702888583218707\n",
      "\n",
      " ========================================================\n",
      "\n"
     ]
    },
    {
     "data": {
      "text/html": [
       "<div>\n",
       "<style scoped>\n",
       "    .dataframe tbody tr th:only-of-type {\n",
       "        vertical-align: middle;\n",
       "    }\n",
       "\n",
       "    .dataframe tbody tr th {\n",
       "        vertical-align: top;\n",
       "    }\n",
       "\n",
       "    .dataframe thead th {\n",
       "        text-align: right;\n",
       "    }\n",
       "</style>\n",
       "<table border=\"1\" class=\"dataframe\">\n",
       "  <thead>\n",
       "    <tr style=\"text-align: right;\">\n",
       "      <th></th>\n",
       "      <th>Алгоритм</th>\n",
       "      <th>F1 на валидации</th>\n",
       "    </tr>\n",
       "  </thead>\n",
       "  <tbody>\n",
       "    <tr>\n",
       "      <th>0</th>\n",
       "      <td>LogisticRegression</td>\n",
       "      <td>0.773</td>\n",
       "    </tr>\n",
       "    <tr>\n",
       "      <th>1</th>\n",
       "      <td>LinearSVC</td>\n",
       "      <td>0.782</td>\n",
       "    </tr>\n",
       "    <tr>\n",
       "      <th>2</th>\n",
       "      <td>SGDClassifier</td>\n",
       "      <td>0.770</td>\n",
       "    </tr>\n",
       "  </tbody>\n",
       "</table>\n",
       "</div>"
      ],
      "text/plain": [
       "             Алгоритм  F1 на валидации\n",
       "0  LogisticRegression            0.773\n",
       "1           LinearSVC            0.782\n",
       "2       SGDClassifier            0.770"
      ]
     },
     "metadata": {},
     "output_type": "display_data"
    },
    {
     "name": "stdout",
     "output_type": "stream",
     "text": [
      "Wall time: 2min 55s\n"
     ]
    }
   ],
   "source": [
    "%%time\n",
    "model_results = tuning_test_models(\n",
    "                            'SGDClassifier', \n",
    "                            SGDClassifier(n_jobs=-1, random_state=12345), \n",
    "                            {'loss': ['hinge', 'squared_hinge'], \n",
    "                             'penalty':['l2','l1', 'none']}, \n",
    "                            features_train, \n",
    "                            target_train,\n",
    "                            features_test, \n",
    "                            target_test)\n",
    "\n",
    "model_comparison = model_comparison.append(model_results, ignore_index=True)\n",
    "display(model_comparison)"
   ]
  },
  {
   "cell_type": "code",
   "execution_count": 18,
   "metadata": {},
   "outputs": [
    {
     "name": "stdout",
     "output_type": "stream",
     "text": [
      "\n",
      "========================================================\n",
      " Модель RandomForestClassifier\n",
      "========================================================\n",
      "\n",
      " Лучший результат на обучении:\n",
      " 0.3494472428712138\n",
      "\n",
      " Лучшие параметры:\n",
      " {'max_depth': 8, 'n_estimators': 30}\n",
      "\n",
      " Лучшая модель:\n",
      " RandomForestClassifier(class_weight='balanced', max_depth=8, n_estimators=30,\n",
      "                       n_jobs=-1, random_state=12345)\n",
      "\n",
      " ========================================================\n",
      "\n",
      " F1 на валидации:\n",
      " 0.32866789441375077\n",
      "\n",
      " ========================================================\n",
      "\n"
     ]
    },
    {
     "data": {
      "text/html": [
       "<div>\n",
       "<style scoped>\n",
       "    .dataframe tbody tr th:only-of-type {\n",
       "        vertical-align: middle;\n",
       "    }\n",
       "\n",
       "    .dataframe tbody tr th {\n",
       "        vertical-align: top;\n",
       "    }\n",
       "\n",
       "    .dataframe thead th {\n",
       "        text-align: right;\n",
       "    }\n",
       "</style>\n",
       "<table border=\"1\" class=\"dataframe\">\n",
       "  <thead>\n",
       "    <tr style=\"text-align: right;\">\n",
       "      <th></th>\n",
       "      <th>Алгоритм</th>\n",
       "      <th>F1 на валидации</th>\n",
       "    </tr>\n",
       "  </thead>\n",
       "  <tbody>\n",
       "    <tr>\n",
       "      <th>0</th>\n",
       "      <td>LogisticRegression</td>\n",
       "      <td>0.773</td>\n",
       "    </tr>\n",
       "    <tr>\n",
       "      <th>1</th>\n",
       "      <td>LinearSVC</td>\n",
       "      <td>0.782</td>\n",
       "    </tr>\n",
       "    <tr>\n",
       "      <th>2</th>\n",
       "      <td>SGDClassifier</td>\n",
       "      <td>0.770</td>\n",
       "    </tr>\n",
       "    <tr>\n",
       "      <th>3</th>\n",
       "      <td>RandomForestClassifier</td>\n",
       "      <td>0.329</td>\n",
       "    </tr>\n",
       "  </tbody>\n",
       "</table>\n",
       "</div>"
      ],
      "text/plain": [
       "                 Алгоритм  F1 на валидации\n",
       "0      LogisticRegression            0.773\n",
       "1               LinearSVC            0.782\n",
       "2           SGDClassifier            0.770\n",
       "3  RandomForestClassifier            0.329"
      ]
     },
     "metadata": {},
     "output_type": "display_data"
    },
    {
     "name": "stdout",
     "output_type": "stream",
     "text": [
      "Wall time: 2min 58s\n"
     ]
    }
   ],
   "source": [
    "%%time\n",
    "model_results = tuning_test_models(\n",
    "                            'RandomForestClassifier', \n",
    "                            RandomForestClassifier(n_jobs=-1, random_state=12345, class_weight='balanced'), \n",
    "                            {'n_estimators': range(20, 40, 5),\n",
    "                             'max_depth': range(6, 12, 2)}, \n",
    "                            features_train, \n",
    "                            target_train,\n",
    "                            features_test, \n",
    "                            target_test)\n",
    "\n",
    "model_comparison = model_comparison.append(model_results, ignore_index=True)\n",
    "display(model_comparison)"
   ]
  },
  {
   "cell_type": "markdown",
   "metadata": {},
   "source": [
    "Рассмотрим на диаграмме результаты измерения качества моделей на валидационной выборке."
   ]
  },
  {
   "cell_type": "code",
   "execution_count": 19,
   "metadata": {},
   "outputs": [
    {
     "data": {
      "image/png": "[encoded data removed]",
      "text/plain": [
       "<Figure size 720x288 with 1 Axes>"
      ]
     },
     "metadata": {
      "needs_background": "light"
     },
     "output_type": "display_data"
    }
   ],
   "source": [
    "ax = (\n",
    "        model_comparison.plot(\n",
    "            x='Алгоритм',\n",
    "            y='F1 на валидации',\n",
    "            kind='bar',\n",
    "            grid=True,\n",
    "            color=[\"green\", \"blue\", \"gray\", \"orange\"],\n",
    "            figsize=(10, 4))\n",
    ")\n",
    "ax.set_title('F1 на валидации для алгоритмов')\n",
    "ax.set_xlabel('алгоритм')\n",
    "ax.set_ylabel('F1')\n",
    "ax.legend().remove()\n",
    "plt.ylim(bottom=0.3)\n",
    "plt.show()"
   ]
  },
  {
   "cell_type": "markdown",
   "metadata": {},
   "source": [
    "Все модели кроме RandomForestClassifier показали результат выше целевого 0,75. Лучший результат у алгоритма LinearSVC.\n",
    "\n",
    "Проверим модель на адекватность, сравним c константной моделью"
   ]
  },
  {
   "cell_type": "code",
   "execution_count": 20,
   "metadata": {},
   "outputs": [
    {
     "name": "stdout",
     "output_type": "stream",
     "text": [
      "F1 для константной модели: 0.18458475540386804\n"
     ]
    }
   ],
   "source": [
    "model_constant = DummyRegressor(strategy='constant', constant=1)\n",
    "\n",
    "model_constant.fit(features_train, target_train)\n",
    "predict_const = model_constant.predict(features_test)\n",
    "\n",
    "f1_const = f1_score(target_test, predict_const)\n",
    "\n",
    "print('F1 для константной модели:', f1_const)"
   ]
  },
  {
   "cell_type": "markdown",
   "metadata": {},
   "source": [
    "Адекватность моделей подтверждается, у всех моделей метрика выше чем у константной."
   ]
  },
  {
   "cell_type": "markdown",
   "metadata": {},
   "source": [
    "## Выводы"
   ]
  },
  {
   "cell_type": "markdown",
   "metadata": {},
   "source": [
    "В результате выполнения данного проекта были построены модели для классификации комментариев на позитивные и негативные для отправки на модерацию в случае их токсичности. Для этого были проведены анализ и подготовка имеющихся данных с разметкой о токсичности правок. Различными алгоритмами, с подбором гиперпараметров, были обучены модели и протестирована их работа. Анализ полученных моделей показал, что наилучшие результаты показывает модель LinearSVC. Также с задачей обеспечить метрику качества F1 не менее 0.75 успешно справились LogisticRegression и SGDClassifier. Алгоритму RandomForestClassifier не удалось достичь нужного результата. Полученные модели прошли проверку на адекватность."
   ]
  }
 ],
 "metadata": {
  "ExecuteTimeLog": [
   {
    "duration": 1735,
    "start_time": "2022-03-03T08:10:28.464Z"
   },
   {
    "duration": 687,
    "start_time": "2022-03-03T08:10:32.235Z"
   },
   {
    "duration": 964,
    "start_time": "2022-03-03T08:10:53.143Z"
   },
   {
    "duration": 8,
    "start_time": "2022-03-03T08:34:32.031Z"
   },
   {
    "duration": 4,
    "start_time": "2022-03-03T08:34:45.108Z"
   },
   {
    "duration": 4700,
    "start_time": "2022-03-03T08:35:46.078Z"
   },
   {
    "duration": 92,
    "start_time": "2022-03-03T08:36:57.704Z"
   },
   {
    "duration": 4427,
    "start_time": "2022-03-03T08:37:09.554Z"
   },
   {
    "duration": 4384,
    "start_time": "2022-03-03T08:37:53.180Z"
   },
   {
    "duration": 4735,
    "start_time": "2022-03-03T08:39:03.113Z"
   },
   {
    "duration": 233,
    "start_time": "2022-03-03T08:39:47.406Z"
   },
   {
    "duration": 340,
    "start_time": "2022-03-03T08:40:28.703Z"
   },
   {
    "duration": 4409,
    "start_time": "2022-03-03T08:40:43.249Z"
   },
   {
    "duration": 5,
    "start_time": "2022-03-03T08:40:58.906Z"
   },
   {
    "duration": 7,
    "start_time": "2022-03-03T08:41:20.773Z"
   },
   {
    "duration": 684,
    "start_time": "2022-03-03T08:41:57.368Z"
   },
   {
    "duration": 1271,
    "start_time": "2022-03-03T17:18:08.622Z"
   },
   {
    "duration": 10207,
    "start_time": "2022-03-03T17:18:15.228Z"
   },
   {
    "duration": 2269,
    "start_time": "2022-03-03T17:24:31.099Z"
   },
   {
    "duration": 78,
    "start_time": "2022-03-03T17:50:37.820Z"
   },
   {
    "duration": 1249,
    "start_time": "2022-03-03T17:51:31.647Z"
   },
   {
    "duration": 10458,
    "start_time": "2022-03-03T17:51:32.898Z"
   },
   {
    "duration": 2065,
    "start_time": "2022-03-03T17:51:47.634Z"
   },
   {
    "duration": 1258,
    "start_time": "2022-03-03T17:52:39.344Z"
   },
   {
    "duration": 9930,
    "start_time": "2022-03-03T17:52:40.604Z"
   },
   {
    "duration": 1862,
    "start_time": "2022-03-03T17:52:54.580Z"
   },
   {
    "duration": 3,
    "start_time": "2022-03-03T18:28:41.605Z"
   },
   {
    "duration": 1170,
    "start_time": "2022-03-03T18:29:53.691Z"
   },
   {
    "duration": 3,
    "start_time": "2022-03-03T18:30:40.822Z"
   },
   {
    "duration": 4,
    "start_time": "2022-03-03T18:30:45.567Z"
   },
   {
    "duration": 3,
    "start_time": "2022-03-03T18:31:50.999Z"
   },
   {
    "duration": 3,
    "start_time": "2022-03-03T18:31:54.035Z"
   },
   {
    "duration": 3,
    "start_time": "2022-03-03T18:32:39.445Z"
   },
   {
    "duration": 4,
    "start_time": "2022-03-03T18:32:41.833Z"
   },
   {
    "duration": 3,
    "start_time": "2022-03-03T18:32:49.551Z"
   },
   {
    "duration": 3,
    "start_time": "2022-03-03T18:32:51.786Z"
   },
   {
    "duration": 3,
    "start_time": "2022-03-03T18:34:21.406Z"
   },
   {
    "duration": 3,
    "start_time": "2022-03-03T18:35:04.554Z"
   },
   {
    "duration": 4,
    "start_time": "2022-03-03T18:35:07.394Z"
   },
   {
    "duration": 319,
    "start_time": "2022-03-03T19:37:57.542Z"
   },
   {
    "duration": 3,
    "start_time": "2022-03-03T19:38:07.280Z"
   },
   {
    "duration": 93,
    "start_time": "2022-03-03T19:38:28.971Z"
   },
   {
    "duration": 12,
    "start_time": "2022-03-03T19:38:55.089Z"
   },
   {
    "duration": 3,
    "start_time": "2022-03-03T19:39:23.277Z"
   },
   {
    "duration": 4,
    "start_time": "2022-03-03T19:39:54.094Z"
   },
   {
    "duration": 3,
    "start_time": "2022-03-03T19:40:47.318Z"
   },
   {
    "duration": 4,
    "start_time": "2022-03-03T19:40:49.661Z"
   },
   {
    "duration": 3,
    "start_time": "2022-03-03T19:41:02.299Z"
   },
   {
    "duration": 4,
    "start_time": "2022-03-03T19:41:05.652Z"
   },
   {
    "duration": 4,
    "start_time": "2022-03-03T19:43:32.884Z"
   },
   {
    "duration": 4,
    "start_time": "2022-03-03T19:44:12.393Z"
   },
   {
    "duration": 3,
    "start_time": "2022-03-03T19:45:05.772Z"
   },
   {
    "duration": 3,
    "start_time": "2022-03-03T19:45:08.481Z"
   },
   {
    "duration": 3,
    "start_time": "2022-03-03T19:45:18.833Z"
   },
   {
    "duration": 4,
    "start_time": "2022-03-03T19:45:20.912Z"
   },
   {
    "duration": 1252,
    "start_time": "2022-03-03T19:48:52.934Z"
   },
   {
    "duration": 10124,
    "start_time": "2022-03-03T19:48:54.188Z"
   },
   {
    "duration": 1973,
    "start_time": "2022-03-03T19:49:11.889Z"
   },
   {
    "duration": 3,
    "start_time": "2022-03-03T19:50:15.796Z"
   },
   {
    "duration": 1167,
    "start_time": "2022-03-03T19:50:18.585Z"
   },
   {
    "duration": 30731,
    "start_time": "2022-03-03T20:14:44.772Z"
   },
   {
    "duration": 1121,
    "start_time": "2022-03-03T20:19:16.249Z"
   },
   {
    "duration": 860,
    "start_time": "2022-03-03T20:20:02.184Z"
   },
   {
    "duration": 277,
    "start_time": "2022-03-03T20:47:37.850Z"
   },
   {
    "duration": 1282,
    "start_time": "2022-03-03T20:47:57.603Z"
   },
   {
    "duration": 10489,
    "start_time": "2022-03-03T20:47:58.887Z"
   },
   {
    "duration": 1960,
    "start_time": "2022-03-03T20:48:09.378Z"
   },
   {
    "duration": 8,
    "start_time": "2022-03-03T20:48:11.339Z"
   },
   {
    "duration": 30442,
    "start_time": "2022-03-03T20:48:11.348Z"
   },
   {
    "duration": 778,
    "start_time": "2022-03-03T20:48:41.792Z"
   },
   {
    "duration": 337,
    "start_time": "2022-03-03T20:50:37.177Z"
   },
   {
    "duration": 165,
    "start_time": "2022-03-03T20:50:58.385Z"
   },
   {
    "duration": 7,
    "start_time": "2022-03-03T20:51:29.639Z"
   },
   {
    "duration": 67,
    "start_time": "2022-03-03T20:53:39.400Z"
   },
   {
    "duration": 73,
    "start_time": "2022-03-03T20:53:52.555Z"
   },
   {
    "duration": 6,
    "start_time": "2022-03-03T20:56:48.527Z"
   },
   {
    "duration": 5,
    "start_time": "2022-03-03T20:57:08.485Z"
   },
   {
    "duration": 4614,
    "start_time": "2022-03-03T21:00:30.773Z"
   },
   {
    "duration": 5,
    "start_time": "2022-03-03T21:00:51.025Z"
   },
   {
    "duration": 5,
    "start_time": "2022-03-03T21:01:03.137Z"
   },
   {
    "duration": 5,
    "start_time": "2022-03-03T21:01:10.850Z"
   },
   {
    "duration": 5,
    "start_time": "2022-03-03T21:01:41.720Z"
   },
   {
    "duration": 5,
    "start_time": "2022-03-03T21:04:58.194Z"
   },
   {
    "duration": 5,
    "start_time": "2022-03-03T21:05:59.005Z"
   },
   {
    "duration": 8,
    "start_time": "2022-03-03T21:06:28.461Z"
   },
   {
    "duration": 7,
    "start_time": "2022-03-03T21:06:44.103Z"
   },
   {
    "duration": 6647,
    "start_time": "2022-03-03T21:19:58.258Z"
   },
   {
    "duration": 243,
    "start_time": "2022-03-03T21:21:10.226Z"
   },
   {
    "duration": 5,
    "start_time": "2022-03-03T21:22:05.665Z"
   },
   {
    "duration": 42,
    "start_time": "2022-03-03T21:22:36.427Z"
   },
   {
    "duration": 4,
    "start_time": "2022-03-03T21:30:24.760Z"
   },
   {
    "duration": 5,
    "start_time": "2022-03-03T21:30:48.457Z"
   },
   {
    "duration": 4,
    "start_time": "2022-03-03T21:33:08.608Z"
   },
   {
    "duration": 150,
    "start_time": "2022-03-03T21:45:59.505Z"
   },
   {
    "duration": 5,
    "start_time": "2022-03-03T21:46:27.119Z"
   },
   {
    "duration": 169019,
    "start_time": "2022-03-03T21:46:32.702Z"
   },
   {
    "duration": 4,
    "start_time": "2022-03-03T21:51:12.339Z"
   },
   {
    "duration": 204763,
    "start_time": "2022-03-03T21:51:38.075Z"
   },
   {
    "duration": 52,
    "start_time": "2022-03-03T21:59:52.701Z"
   },
   {
    "duration": 167,
    "start_time": "2022-03-03T22:03:08.678Z"
   },
   {
    "duration": 167,
    "start_time": "2022-03-03T22:03:30.035Z"
   },
   {
    "duration": 26509,
    "start_time": "2022-03-03T22:04:21.136Z"
   },
   {
    "duration": 14464,
    "start_time": "2022-03-03T22:05:46.184Z"
   },
   {
    "duration": 33511,
    "start_time": "2022-03-03T22:07:40.337Z"
   },
   {
    "duration": 21461,
    "start_time": "2022-03-03T22:08:28.786Z"
   },
   {
    "duration": 20109,
    "start_time": "2022-03-03T22:09:00.535Z"
   },
   {
    "duration": 16334,
    "start_time": "2022-03-03T22:09:31.428Z"
   },
   {
    "duration": 20136,
    "start_time": "2022-03-03T22:09:56.213Z"
   },
   {
    "duration": 1337,
    "start_time": "2022-03-04T15:15:57.077Z"
   },
   {
    "duration": 635,
    "start_time": "2022-03-04T15:15:58.415Z"
   },
   {
    "duration": 2144,
    "start_time": "2022-03-04T15:15:59.053Z"
   },
   {
    "duration": 510,
    "start_time": "2022-03-04T15:16:03.901Z"
   },
   {
    "duration": 386,
    "start_time": "2022-03-04T15:16:57.648Z"
   },
   {
    "duration": 391,
    "start_time": "2022-03-04T15:17:04.171Z"
   },
   {
    "duration": 130584,
    "start_time": "2022-03-04T15:25:07.665Z"
   },
   {
    "duration": 476333,
    "start_time": "2022-03-04T15:28:04.611Z"
   },
   {
    "duration": 6829,
    "start_time": "2022-03-04T15:36:06.974Z"
   },
   {
    "duration": 438,
    "start_time": "2022-03-04T15:36:24.620Z"
   },
   {
    "duration": 84173,
    "start_time": "2022-03-04T15:37:48.379Z"
   },
   {
    "duration": 430093,
    "start_time": "2022-03-04T15:39:21.343Z"
   },
   {
    "duration": 437847,
    "start_time": "2022-03-04T15:46:45.711Z"
   },
   {
    "duration": -75,
    "start_time": "2022-03-04T15:54:03.635Z"
   },
   {
    "duration": 76,
    "start_time": "2022-03-04T15:54:30.286Z"
   },
   {
    "duration": 87,
    "start_time": "2022-03-04T15:54:37.265Z"
   },
   {
    "duration": 10482,
    "start_time": "2022-03-04T15:55:43.487Z"
   },
   {
    "duration": 2108,
    "start_time": "2022-03-04T21:24:42.748Z"
   },
   {
    "duration": 818,
    "start_time": "2022-03-04T21:24:44.858Z"
   },
   {
    "duration": 2820,
    "start_time": "2022-03-04T21:24:45.680Z"
   },
   {
    "duration": 652,
    "start_time": "2022-03-04T21:24:48.503Z"
   },
   {
    "duration": 931,
    "start_time": "2022-03-04T21:25:12.350Z"
   },
   {
    "duration": 2242,
    "start_time": "2022-03-04T21:25:24.442Z"
   },
   {
    "duration": 11,
    "start_time": "2022-03-04T21:27:11.893Z"
   },
   {
    "duration": 14,
    "start_time": "2022-03-04T21:27:36.916Z"
   },
   {
    "duration": 21,
    "start_time": "2022-03-04T21:28:44.334Z"
   },
   {
    "duration": 7,
    "start_time": "2022-03-04T21:38:00.299Z"
   },
   {
    "duration": 22,
    "start_time": "2022-03-04T21:39:11.866Z"
   },
   {
    "duration": 11,
    "start_time": "2022-03-04T21:40:21.751Z"
   },
   {
    "duration": 6,
    "start_time": "2022-03-04T21:40:51.407Z"
   },
   {
    "duration": 5,
    "start_time": "2022-03-04T21:40:54.386Z"
   },
   {
    "duration": 21,
    "start_time": "2022-03-04T21:41:28.663Z"
   },
   {
    "duration": 5,
    "start_time": "2022-03-04T21:41:38.430Z"
   },
   {
    "duration": 178,
    "start_time": "2022-03-04T21:45:33.063Z"
   },
   {
    "duration": 188,
    "start_time": "2022-03-04T21:46:01.668Z"
   },
   {
    "duration": 153778,
    "start_time": "2022-03-04T21:47:13.401Z"
   },
   {
    "duration": 64296,
    "start_time": "2022-03-04T21:49:59.239Z"
   },
   {
    "duration": 2345,
    "start_time": "2022-03-04T21:53:21.666Z"
   },
   {
    "duration": 1205,
    "start_time": "2022-03-04T21:53:24.014Z"
   },
   {
    "duration": 2926,
    "start_time": "2022-03-04T21:53:25.222Z"
   },
   {
    "duration": 238,
    "start_time": "2022-03-04T21:53:28.150Z"
   },
   {
    "duration": 7,
    "start_time": "2022-03-04T21:53:28.391Z"
   },
   {
    "duration": 2184,
    "start_time": "2022-03-04T21:53:28.400Z"
   },
   {
    "duration": 1820,
    "start_time": "2022-03-04T21:55:22.476Z"
   },
   {
    "duration": 799,
    "start_time": "2022-03-04T21:55:24.298Z"
   },
   {
    "duration": 2823,
    "start_time": "2022-03-04T21:55:25.100Z"
   },
   {
    "duration": 288,
    "start_time": "2022-03-04T21:55:27.934Z"
   },
   {
    "duration": 6,
    "start_time": "2022-03-04T21:55:28.225Z"
   },
   {
    "duration": 2202,
    "start_time": "2022-03-04T21:55:45.464Z"
   },
   {
    "duration": 1782,
    "start_time": "2022-03-04T21:57:01.069Z"
   },
   {
    "duration": 804,
    "start_time": "2022-03-04T21:57:02.854Z"
   },
   {
    "duration": 2809,
    "start_time": "2022-03-04T21:57:03.662Z"
   },
   {
    "duration": 277,
    "start_time": "2022-03-04T21:57:06.474Z"
   },
   {
    "duration": 8,
    "start_time": "2022-03-04T21:57:06.754Z"
   },
   {
    "duration": 1782,
    "start_time": "2022-03-04T21:58:13.150Z"
   },
   {
    "duration": 806,
    "start_time": "2022-03-04T21:58:14.935Z"
   },
   {
    "duration": 2807,
    "start_time": "2022-03-04T21:58:20.848Z"
   },
   {
    "duration": 5,
    "start_time": "2022-03-04T21:58:37.043Z"
   },
   {
    "duration": 78342,
    "start_time": "2022-03-04T21:58:45.021Z"
   },
   {
    "duration": 1472,
    "start_time": "2022-03-04T22:00:16.795Z"
   },
   {
    "duration": 9,
    "start_time": "2022-03-04T22:00:22.548Z"
   },
   {
    "duration": 116,
    "start_time": "2022-03-04T22:00:25.393Z"
   },
   {
    "duration": 10,
    "start_time": "2022-03-04T22:00:28.180Z"
   },
   {
    "duration": 11279,
    "start_time": "2022-03-04T22:00:32.445Z"
   },
   {
    "duration": 7,
    "start_time": "2022-03-04T22:00:46.816Z"
   },
   {
    "duration": 19994,
    "start_time": "2022-03-04T22:00:53.892Z"
   },
   {
    "duration": 20643,
    "start_time": "2022-03-04T22:01:20.860Z"
   },
   {
    "duration": 1966,
    "start_time": "2022-03-04T22:02:24.540Z"
   },
   {
    "duration": 808,
    "start_time": "2022-03-04T22:02:26.509Z"
   },
   {
    "duration": 2989,
    "start_time": "2022-03-04T22:02:31.839Z"
   },
   {
    "duration": 283,
    "start_time": "2022-03-04T22:02:38.616Z"
   },
   {
    "duration": 10,
    "start_time": "2022-03-04T22:02:46.752Z"
   },
   {
    "duration": 3260,
    "start_time": "2022-03-04T22:02:54.302Z"
   },
   {
    "duration": 2145279,
    "start_time": "2022-03-04T22:03:39.488Z"
   },
   {
    "duration": 1155,
    "start_time": "2022-03-04T22:41:34.614Z"
   },
   {
    "duration": 10,
    "start_time": "2022-03-04T22:41:54.508Z"
   },
   {
    "duration": 107,
    "start_time": "2022-03-04T22:41:58.335Z"
   },
   {
    "duration": 11,
    "start_time": "2022-03-04T22:42:01.843Z"
   },
   {
    "duration": 10107,
    "start_time": "2022-03-04T22:42:07.661Z"
   },
   {
    "duration": 6,
    "start_time": "2022-03-04T22:42:17.770Z"
   },
   {
    "duration": 20606,
    "start_time": "2022-03-04T22:42:49.589Z"
   },
   {
    "duration": 1778,
    "start_time": "2022-03-04T22:58:08.131Z"
   },
   {
    "duration": 848,
    "start_time": "2022-03-04T22:58:09.912Z"
   },
   {
    "duration": 2877,
    "start_time": "2022-03-04T22:58:10.763Z"
   },
   {
    "duration": 266,
    "start_time": "2022-03-04T22:58:13.644Z"
   },
   {
    "duration": 6,
    "start_time": "2022-03-04T22:58:19.281Z"
   },
   {
    "duration": 2102,
    "start_time": "2022-03-04T22:58:33.589Z"
   },
   {
    "duration": 157,
    "start_time": "2022-03-04T22:59:13.889Z"
   },
   {
    "duration": 4,
    "start_time": "2022-03-04T22:59:58.180Z"
   },
   {
    "duration": 235290,
    "start_time": "2022-03-04T23:00:10.365Z"
   },
   {
    "duration": 1835,
    "start_time": "2022-03-04T23:08:05.590Z"
   },
   {
    "duration": 947,
    "start_time": "2022-03-04T23:08:07.428Z"
   },
   {
    "duration": 2796,
    "start_time": "2022-03-04T23:08:11.999Z"
   },
   {
    "duration": 5,
    "start_time": "2022-03-04T23:09:33.741Z"
   },
   {
    "duration": 1994,
    "start_time": "2022-03-04T23:09:47.668Z"
   },
   {
    "duration": 62650,
    "start_time": "2022-03-04T23:11:35.713Z"
   },
   {
    "duration": 1521,
    "start_time": "2022-03-05T11:48:51.284Z"
   },
   {
    "duration": 677,
    "start_time": "2022-03-05T11:48:59.480Z"
   },
   {
    "duration": 2130,
    "start_time": "2022-03-05T11:49:35.203Z"
   },
   {
    "duration": 4,
    "start_time": "2022-03-05T12:00:40.190Z"
   },
   {
    "duration": 1406,
    "start_time": "2022-03-05T12:00:58.300Z"
   },
   {
    "duration": 5,
    "start_time": "2022-03-05T12:01:13.589Z"
   },
   {
    "duration": 38094,
    "start_time": "2022-03-05T12:01:32.225Z"
   },
   {
    "duration": 907,
    "start_time": "2022-03-05T12:05:26.555Z"
   },
   {
    "duration": 7,
    "start_time": "2022-03-05T12:05:35.323Z"
   },
   {
    "duration": 86,
    "start_time": "2022-03-05T12:05:51.068Z"
   },
   {
    "duration": 8,
    "start_time": "2022-03-05T12:05:56.918Z"
   },
   {
    "duration": 7948,
    "start_time": "2022-03-05T12:06:50.242Z"
   },
   {
    "duration": 6,
    "start_time": "2022-03-05T12:07:10.366Z"
   },
   {
    "duration": 59,
    "start_time": "2022-03-05T12:12:37.444Z"
   },
   {
    "duration": 58,
    "start_time": "2022-03-05T12:13:05.527Z"
   },
   {
    "duration": 6,
    "start_time": "2022-03-05T12:13:19.127Z"
   },
   {
    "duration": 5,
    "start_time": "2022-03-05T12:44:16.800Z"
   },
   {
    "duration": 216,
    "start_time": "2022-03-05T12:44:31.614Z"
   },
   {
    "duration": 175,
    "start_time": "2022-03-05T12:45:22.620Z"
   },
   {
    "duration": 1482,
    "start_time": "2022-03-05T12:45:56.807Z"
   },
   {
    "duration": 749,
    "start_time": "2022-03-05T12:45:58.290Z"
   },
   {
    "duration": 2196,
    "start_time": "2022-03-05T12:45:59.042Z"
   },
   {
    "duration": 28,
    "start_time": "2022-03-05T12:46:01.240Z"
   },
   {
    "duration": 31,
    "start_time": "2022-03-05T12:46:01.271Z"
   },
   {
    "duration": 18,
    "start_time": "2022-03-05T12:46:01.304Z"
   },
   {
    "duration": 1522,
    "start_time": "2022-03-05T12:46:01.324Z"
   },
   {
    "duration": 38927,
    "start_time": "2022-03-05T12:46:02.848Z"
   },
   {
    "duration": 905,
    "start_time": "2022-03-05T12:46:41.778Z"
   },
   {
    "duration": 15,
    "start_time": "2022-03-05T12:46:42.686Z"
   },
   {
    "duration": 150,
    "start_time": "2022-03-05T12:46:42.704Z"
   },
   {
    "duration": 10,
    "start_time": "2022-03-05T12:46:42.857Z"
   },
   {
    "duration": 12512,
    "start_time": "2022-03-05T12:46:42.870Z"
   },
   {
    "duration": 7,
    "start_time": "2022-03-05T12:46:57.714Z"
   },
   {
    "duration": 1328,
    "start_time": "2022-03-05T18:47:46.263Z"
   },
   {
    "duration": 5664,
    "start_time": "2022-03-05T18:47:47.593Z"
   },
   {
    "duration": 2086,
    "start_time": "2022-03-05T18:47:53.259Z"
   },
   {
    "duration": 5,
    "start_time": "2022-03-05T18:47:55.348Z"
   },
   {
    "duration": 5,
    "start_time": "2022-03-05T18:47:55.354Z"
   },
   {
    "duration": 8,
    "start_time": "2022-03-05T18:47:55.361Z"
   },
   {
    "duration": 1270,
    "start_time": "2022-03-05T18:47:55.370Z"
   },
   {
    "duration": 35482,
    "start_time": "2022-03-05T18:47:56.643Z"
   },
   {
    "duration": 835,
    "start_time": "2022-03-05T18:48:32.127Z"
   },
   {
    "duration": 6,
    "start_time": "2022-03-05T18:48:32.964Z"
   },
   {
    "duration": 88,
    "start_time": "2022-03-05T18:48:32.971Z"
   },
   {
    "duration": 7,
    "start_time": "2022-03-05T18:48:33.060Z"
   },
   {
    "duration": 7950,
    "start_time": "2022-03-05T18:50:24.610Z"
   },
   {
    "duration": 40773,
    "start_time": "2022-03-05T18:50:40.421Z"
   },
   {
    "duration": 1297,
    "start_time": "2022-03-05T18:52:09.667Z"
   },
   {
    "duration": 629,
    "start_time": "2022-03-05T18:52:10.966Z"
   },
   {
    "duration": 2019,
    "start_time": "2022-03-05T18:52:11.597Z"
   },
   {
    "duration": 16,
    "start_time": "2022-03-05T18:52:13.617Z"
   },
   {
    "duration": 3,
    "start_time": "2022-03-05T18:52:13.635Z"
   },
   {
    "duration": 4,
    "start_time": "2022-03-05T18:52:13.640Z"
   },
   {
    "duration": 1285,
    "start_time": "2022-03-05T18:52:17.008Z"
   },
   {
    "duration": 32514,
    "start_time": "2022-03-05T18:52:21.060Z"
   },
   {
    "duration": 863,
    "start_time": "2022-03-05T18:53:02.043Z"
   },
   {
    "duration": 6,
    "start_time": "2022-03-05T18:53:08.072Z"
   },
   {
    "duration": 71,
    "start_time": "2022-03-05T18:53:21.524Z"
   },
   {
    "duration": 6,
    "start_time": "2022-03-05T18:54:03.958Z"
   }
  ],
  "kernelspec": {
   "display_name": "Python 3",
   "language": "python",
   "name": "python3"
  },
  "language_info": {
   "codemirror_mode": {
    "name": "ipython",
    "version": 3
   },
   "file_extension": ".py",
   "mimetype": "text/x-python",
   "name": "python",
   "nbconvert_exporter": "python",
   "pygments_lexer": "ipython3",
   "version": "3.8.8"
  },
  "toc": {
   "base_numbering": 1,
   "nav_menu": {},
   "number_sections": true,
   "sideBar": true,
   "skip_h1_title": true,
   "title_cell": "Содержание",
   "title_sidebar": "Contents",
   "toc_cell": true,
   "toc_position": {
    "height": "calc(100% - 180px)",
    "left": "10px",
    "top": "150px",
    "width": "302.391px"
   },
   "toc_section_display": true,
   "toc_window_display": false
  }
 },
 "nbformat": 4,
 "nbformat_minor": 2
}
