{
 "cells": [
  {
   "cell_type": "markdown",
   "metadata": {},
   "source": [
    "# Выбор локации для скважины"
   ]
  },
  {
   "cell_type": "markdown",
   "metadata": {},
   "source": [
    "Нужно решить, где бурить новую скважину.\n",
    "\n",
    "Предоставлены пробы нефти в трёх регионах: в каждом 10 000 месторождений, где измерили качество нефти и объём её запасов. Постройте модель машинного обучения, которая поможет определить регион, где добыча принесёт наибольшую прибыль. Проанализируйте возможную прибыль и риски техникой *Bootstrap.*\n",
    "\n",
    "Шаги для выбора локации:\n",
    "\n",
    "- В избранном регионе ищут месторождения, для каждого определяют значения признаков;\n",
    "- Строят модель и оценивают объём запасов;\n",
    "- Выбирают месторождения с самым высокими оценками значений. Количество месторождений зависит от бюджета компании и стоимости разработки одной скважины;\n",
    "- Прибыль равна суммарной прибыли отобранных месторождений."
   ]
  },
  {
   "cell_type": "markdown",
   "metadata": {},
   "source": [
    "## Загрузка и подготовка данных"
   ]
  },
  {
   "cell_type": "code",
   "execution_count": 1,
   "metadata": {},
   "outputs": [],
   "source": [
    "import pandas as pd\n",
    "import numpy as np\n",
    "from sklearn.model_selection import train_test_split\n",
    "from sklearn.linear_model import LinearRegression\n",
    "from sklearn.metrics import mean_squared_error\n",
    "from numpy.random import RandomState\n",
    "from scipy import stats as st"
   ]
  },
  {
   "cell_type": "markdown",
   "metadata": {},
   "source": [
    "Посмотрим на данные в выборках"
   ]
  },
  {
   "cell_type": "code",
   "execution_count": 2,
   "metadata": {},
   "outputs": [
    {
     "name": "stdout",
     "output_type": "stream",
     "text": [
      "Регион 1\n"
     ]
    },
    {
     "data": {
      "text/html": [
       "<div>\n",
       "<style scoped>\n",
       "    .dataframe tbody tr th:only-of-type {\n",
       "        vertical-align: middle;\n",
       "    }\n",
       "\n",
       "    .dataframe tbody tr th {\n",
       "        vertical-align: top;\n",
       "    }\n",
       "\n",
       "    .dataframe thead th {\n",
       "        text-align: right;\n",
       "    }\n",
       "</style>\n",
       "<table border=\"1\" class=\"dataframe\">\n",
       "  <thead>\n",
       "    <tr style=\"text-align: right;\">\n",
       "      <th></th>\n",
       "      <th>id</th>\n",
       "      <th>f0</th>\n",
       "      <th>f1</th>\n",
       "      <th>f2</th>\n",
       "      <th>product</th>\n",
       "    </tr>\n",
       "  </thead>\n",
       "  <tbody>\n",
       "    <tr>\n",
       "      <td>0</td>\n",
       "      <td>txEyH</td>\n",
       "      <td>0.705745</td>\n",
       "      <td>-0.497823</td>\n",
       "      <td>1.221170</td>\n",
       "      <td>105.280062</td>\n",
       "    </tr>\n",
       "    <tr>\n",
       "      <td>1</td>\n",
       "      <td>2acmU</td>\n",
       "      <td>1.334711</td>\n",
       "      <td>-0.340164</td>\n",
       "      <td>4.365080</td>\n",
       "      <td>73.037750</td>\n",
       "    </tr>\n",
       "    <tr>\n",
       "      <td>2</td>\n",
       "      <td>409Wp</td>\n",
       "      <td>1.022732</td>\n",
       "      <td>0.151990</td>\n",
       "      <td>1.419926</td>\n",
       "      <td>85.265647</td>\n",
       "    </tr>\n",
       "    <tr>\n",
       "      <td>3</td>\n",
       "      <td>iJLyR</td>\n",
       "      <td>-0.032172</td>\n",
       "      <td>0.139033</td>\n",
       "      <td>2.978566</td>\n",
       "      <td>168.620776</td>\n",
       "    </tr>\n",
       "    <tr>\n",
       "      <td>4</td>\n",
       "      <td>Xdl7t</td>\n",
       "      <td>1.988431</td>\n",
       "      <td>0.155413</td>\n",
       "      <td>4.751769</td>\n",
       "      <td>154.036647</td>\n",
       "    </tr>\n",
       "  </tbody>\n",
       "</table>\n",
       "</div>"
      ],
      "text/plain": [
       "      id        f0        f1        f2     product\n",
       "0  txEyH  0.705745 -0.497823  1.221170  105.280062\n",
       "1  2acmU  1.334711 -0.340164  4.365080   73.037750\n",
       "2  409Wp  1.022732  0.151990  1.419926   85.265647\n",
       "3  iJLyR -0.032172  0.139033  2.978566  168.620776\n",
       "4  Xdl7t  1.988431  0.155413  4.751769  154.036647"
      ]
     },
     "metadata": {},
     "output_type": "display_data"
    },
    {
     "name": "stdout",
     "output_type": "stream",
     "text": [
      "<class 'pandas.core.frame.DataFrame'>\n",
      "RangeIndex: 100000 entries, 0 to 99999\n",
      "Data columns (total 5 columns):\n",
      "id         100000 non-null object\n",
      "f0         100000 non-null float64\n",
      "f1         100000 non-null float64\n",
      "f2         100000 non-null float64\n",
      "product    100000 non-null float64\n",
      "dtypes: float64(4), object(1)\n",
      "memory usage: 3.8+ MB\n",
      "Количество дубликатов: 0\n"
     ]
    },
    {
     "data": {
      "text/plain": [
       "id         0\n",
       "f0         0\n",
       "f1         0\n",
       "f2         0\n",
       "product    0\n",
       "dtype: int64"
      ]
     },
     "metadata": {},
     "output_type": "display_data"
    },
    {
     "name": "stdout",
     "output_type": "stream",
     "text": [
      "**********************************\n",
      "\n",
      "Регион 2\n"
     ]
    },
    {
     "data": {
      "text/html": [
       "<div>\n",
       "<style scoped>\n",
       "    .dataframe tbody tr th:only-of-type {\n",
       "        vertical-align: middle;\n",
       "    }\n",
       "\n",
       "    .dataframe tbody tr th {\n",
       "        vertical-align: top;\n",
       "    }\n",
       "\n",
       "    .dataframe thead th {\n",
       "        text-align: right;\n",
       "    }\n",
       "</style>\n",
       "<table border=\"1\" class=\"dataframe\">\n",
       "  <thead>\n",
       "    <tr style=\"text-align: right;\">\n",
       "      <th></th>\n",
       "      <th>id</th>\n",
       "      <th>f0</th>\n",
       "      <th>f1</th>\n",
       "      <th>f2</th>\n",
       "      <th>product</th>\n",
       "    </tr>\n",
       "  </thead>\n",
       "  <tbody>\n",
       "    <tr>\n",
       "      <td>0</td>\n",
       "      <td>kBEdx</td>\n",
       "      <td>-15.001348</td>\n",
       "      <td>-8.276000</td>\n",
       "      <td>-0.005876</td>\n",
       "      <td>3.179103</td>\n",
       "    </tr>\n",
       "    <tr>\n",
       "      <td>1</td>\n",
       "      <td>62mP7</td>\n",
       "      <td>14.272088</td>\n",
       "      <td>-3.475083</td>\n",
       "      <td>0.999183</td>\n",
       "      <td>26.953261</td>\n",
       "    </tr>\n",
       "    <tr>\n",
       "      <td>2</td>\n",
       "      <td>vyE1P</td>\n",
       "      <td>6.263187</td>\n",
       "      <td>-5.948386</td>\n",
       "      <td>5.001160</td>\n",
       "      <td>134.766305</td>\n",
       "    </tr>\n",
       "    <tr>\n",
       "      <td>3</td>\n",
       "      <td>KcrkZ</td>\n",
       "      <td>-13.081196</td>\n",
       "      <td>-11.506057</td>\n",
       "      <td>4.999415</td>\n",
       "      <td>137.945408</td>\n",
       "    </tr>\n",
       "    <tr>\n",
       "      <td>4</td>\n",
       "      <td>AHL4O</td>\n",
       "      <td>12.702195</td>\n",
       "      <td>-8.147433</td>\n",
       "      <td>5.004363</td>\n",
       "      <td>134.766305</td>\n",
       "    </tr>\n",
       "  </tbody>\n",
       "</table>\n",
       "</div>"
      ],
      "text/plain": [
       "      id         f0         f1        f2     product\n",
       "0  kBEdx -15.001348  -8.276000 -0.005876    3.179103\n",
       "1  62mP7  14.272088  -3.475083  0.999183   26.953261\n",
       "2  vyE1P   6.263187  -5.948386  5.001160  134.766305\n",
       "3  KcrkZ -13.081196 -11.506057  4.999415  137.945408\n",
       "4  AHL4O  12.702195  -8.147433  5.004363  134.766305"
      ]
     },
     "metadata": {},
     "output_type": "display_data"
    },
    {
     "name": "stdout",
     "output_type": "stream",
     "text": [
      "<class 'pandas.core.frame.DataFrame'>\n",
      "RangeIndex: 100000 entries, 0 to 99999\n",
      "Data columns (total 5 columns):\n",
      "id         100000 non-null object\n",
      "f0         100000 non-null float64\n",
      "f1         100000 non-null float64\n",
      "f2         100000 non-null float64\n",
      "product    100000 non-null float64\n",
      "dtypes: float64(4), object(1)\n",
      "memory usage: 3.8+ MB\n",
      "Количество дубликатов: 0\n"
     ]
    },
    {
     "data": {
      "text/plain": [
       "id         0\n",
       "f0         0\n",
       "f1         0\n",
       "f2         0\n",
       "product    0\n",
       "dtype: int64"
      ]
     },
     "metadata": {},
     "output_type": "display_data"
    },
    {
     "name": "stdout",
     "output_type": "stream",
     "text": [
      "**********************************\n",
      "\n",
      "Регион 3\n"
     ]
    },
    {
     "data": {
      "text/html": [
       "<div>\n",
       "<style scoped>\n",
       "    .dataframe tbody tr th:only-of-type {\n",
       "        vertical-align: middle;\n",
       "    }\n",
       "\n",
       "    .dataframe tbody tr th {\n",
       "        vertical-align: top;\n",
       "    }\n",
       "\n",
       "    .dataframe thead th {\n",
       "        text-align: right;\n",
       "    }\n",
       "</style>\n",
       "<table border=\"1\" class=\"dataframe\">\n",
       "  <thead>\n",
       "    <tr style=\"text-align: right;\">\n",
       "      <th></th>\n",
       "      <th>id</th>\n",
       "      <th>f0</th>\n",
       "      <th>f1</th>\n",
       "      <th>f2</th>\n",
       "      <th>product</th>\n",
       "    </tr>\n",
       "  </thead>\n",
       "  <tbody>\n",
       "    <tr>\n",
       "      <td>0</td>\n",
       "      <td>fwXo0</td>\n",
       "      <td>-1.146987</td>\n",
       "      <td>0.963328</td>\n",
       "      <td>-0.828965</td>\n",
       "      <td>27.758673</td>\n",
       "    </tr>\n",
       "    <tr>\n",
       "      <td>1</td>\n",
       "      <td>WJtFt</td>\n",
       "      <td>0.262778</td>\n",
       "      <td>0.269839</td>\n",
       "      <td>-2.530187</td>\n",
       "      <td>56.069697</td>\n",
       "    </tr>\n",
       "    <tr>\n",
       "      <td>2</td>\n",
       "      <td>ovLUW</td>\n",
       "      <td>0.194587</td>\n",
       "      <td>0.289035</td>\n",
       "      <td>-5.586433</td>\n",
       "      <td>62.871910</td>\n",
       "    </tr>\n",
       "    <tr>\n",
       "      <td>3</td>\n",
       "      <td>q6cA6</td>\n",
       "      <td>2.236060</td>\n",
       "      <td>-0.553760</td>\n",
       "      <td>0.930038</td>\n",
       "      <td>114.572842</td>\n",
       "    </tr>\n",
       "    <tr>\n",
       "      <td>4</td>\n",
       "      <td>WPMUX</td>\n",
       "      <td>-0.515993</td>\n",
       "      <td>1.716266</td>\n",
       "      <td>5.899011</td>\n",
       "      <td>149.600746</td>\n",
       "    </tr>\n",
       "  </tbody>\n",
       "</table>\n",
       "</div>"
      ],
      "text/plain": [
       "      id        f0        f1        f2     product\n",
       "0  fwXo0 -1.146987  0.963328 -0.828965   27.758673\n",
       "1  WJtFt  0.262778  0.269839 -2.530187   56.069697\n",
       "2  ovLUW  0.194587  0.289035 -5.586433   62.871910\n",
       "3  q6cA6  2.236060 -0.553760  0.930038  114.572842\n",
       "4  WPMUX -0.515993  1.716266  5.899011  149.600746"
      ]
     },
     "metadata": {},
     "output_type": "display_data"
    },
    {
     "name": "stdout",
     "output_type": "stream",
     "text": [
      "<class 'pandas.core.frame.DataFrame'>\n",
      "RangeIndex: 100000 entries, 0 to 99999\n",
      "Data columns (total 5 columns):\n",
      "id         100000 non-null object\n",
      "f0         100000 non-null float64\n",
      "f1         100000 non-null float64\n",
      "f2         100000 non-null float64\n",
      "product    100000 non-null float64\n",
      "dtypes: float64(4), object(1)\n",
      "memory usage: 3.8+ MB\n",
      "Количество дубликатов: 0\n"
     ]
    },
    {
     "data": {
      "text/plain": [
       "id         0\n",
       "f0         0\n",
       "f1         0\n",
       "f2         0\n",
       "product    0\n",
       "dtype: int64"
      ]
     },
     "metadata": {},
     "output_type": "display_data"
    },
    {
     "name": "stdout",
     "output_type": "stream",
     "text": [
      "**********************************\n",
      "\n"
     ]
    }
   ],
   "source": [
    "dt1 = pd.read_csv('/datasets/geo_data_0.csv')\n",
    "dt2 = pd.read_csv('/datasets/geo_data_1.csv')\n",
    "dt3 = pd.read_csv('/datasets/geo_data_2.csv')\n",
    "\n",
    "dt_list = [dt1, dt2, dt3]\n",
    "name_list = ['Регион 1', 'Регион 2', 'Регион 3']\n",
    "\n",
    "for dt, name in zip(dt_list, name_list):\n",
    "    print(name)\n",
    "    display(dt.head())\n",
    "    dt.info()\n",
    "    print('Количество дубликатов:', dt.duplicated().sum())\n",
    "    display(dt.isna().sum())\n",
    "    print('**********************************')\n",
    "    print()"
   ]
  },
  {
   "cell_type": "markdown",
   "metadata": {},
   "source": [
    "Дубликатов не наблюдается, пропусков в данных также нет. Типы значений корректные"
   ]
  },
  {
   "cell_type": "markdown",
   "metadata": {},
   "source": [
    "Проверим признаки в выборках на мультиколлениарность. Для определения связей построим матрицу парных коэффициентов корреляции."
   ]
  },
  {
   "cell_type": "code",
   "execution_count": 3,
   "metadata": {},
   "outputs": [
    {
     "name": "stdout",
     "output_type": "stream",
     "text": [
      "Регион 1\n"
     ]
    },
    {
     "data": {
      "text/html": [
       "<div>\n",
       "<style scoped>\n",
       "    .dataframe tbody tr th:only-of-type {\n",
       "        vertical-align: middle;\n",
       "    }\n",
       "\n",
       "    .dataframe tbody tr th {\n",
       "        vertical-align: top;\n",
       "    }\n",
       "\n",
       "    .dataframe thead th {\n",
       "        text-align: right;\n",
       "    }\n",
       "</style>\n",
       "<table border=\"1\" class=\"dataframe\">\n",
       "  <thead>\n",
       "    <tr style=\"text-align: right;\">\n",
       "      <th></th>\n",
       "      <th>f0</th>\n",
       "      <th>f1</th>\n",
       "      <th>f2</th>\n",
       "    </tr>\n",
       "  </thead>\n",
       "  <tbody>\n",
       "    <tr>\n",
       "      <td>f0</td>\n",
       "      <td>1.000000</td>\n",
       "      <td>-0.440723</td>\n",
       "      <td>-0.003153</td>\n",
       "    </tr>\n",
       "    <tr>\n",
       "      <td>f1</td>\n",
       "      <td>-0.440723</td>\n",
       "      <td>1.000000</td>\n",
       "      <td>0.001724</td>\n",
       "    </tr>\n",
       "    <tr>\n",
       "      <td>f2</td>\n",
       "      <td>-0.003153</td>\n",
       "      <td>0.001724</td>\n",
       "      <td>1.000000</td>\n",
       "    </tr>\n",
       "  </tbody>\n",
       "</table>\n",
       "</div>"
      ],
      "text/plain": [
       "          f0        f1        f2\n",
       "f0  1.000000 -0.440723 -0.003153\n",
       "f1 -0.440723  1.000000  0.001724\n",
       "f2 -0.003153  0.001724  1.000000"
      ]
     },
     "metadata": {},
     "output_type": "display_data"
    },
    {
     "name": "stdout",
     "output_type": "stream",
     "text": [
      "*****************************\n",
      "\n",
      "Регион 2\n"
     ]
    },
    {
     "data": {
      "text/html": [
       "<div>\n",
       "<style scoped>\n",
       "    .dataframe tbody tr th:only-of-type {\n",
       "        vertical-align: middle;\n",
       "    }\n",
       "\n",
       "    .dataframe tbody tr th {\n",
       "        vertical-align: top;\n",
       "    }\n",
       "\n",
       "    .dataframe thead th {\n",
       "        text-align: right;\n",
       "    }\n",
       "</style>\n",
       "<table border=\"1\" class=\"dataframe\">\n",
       "  <thead>\n",
       "    <tr style=\"text-align: right;\">\n",
       "      <th></th>\n",
       "      <th>f0</th>\n",
       "      <th>f1</th>\n",
       "      <th>f2</th>\n",
       "    </tr>\n",
       "  </thead>\n",
       "  <tbody>\n",
       "    <tr>\n",
       "      <td>f0</td>\n",
       "      <td>1.000000</td>\n",
       "      <td>0.182287</td>\n",
       "      <td>-0.001777</td>\n",
       "    </tr>\n",
       "    <tr>\n",
       "      <td>f1</td>\n",
       "      <td>0.182287</td>\n",
       "      <td>1.000000</td>\n",
       "      <td>-0.002595</td>\n",
       "    </tr>\n",
       "    <tr>\n",
       "      <td>f2</td>\n",
       "      <td>-0.001777</td>\n",
       "      <td>-0.002595</td>\n",
       "      <td>1.000000</td>\n",
       "    </tr>\n",
       "  </tbody>\n",
       "</table>\n",
       "</div>"
      ],
      "text/plain": [
       "          f0        f1        f2\n",
       "f0  1.000000  0.182287 -0.001777\n",
       "f1  0.182287  1.000000 -0.002595\n",
       "f2 -0.001777 -0.002595  1.000000"
      ]
     },
     "metadata": {},
     "output_type": "display_data"
    },
    {
     "name": "stdout",
     "output_type": "stream",
     "text": [
      "*****************************\n",
      "\n",
      "Регион 3\n"
     ]
    },
    {
     "data": {
      "text/html": [
       "<div>\n",
       "<style scoped>\n",
       "    .dataframe tbody tr th:only-of-type {\n",
       "        vertical-align: middle;\n",
       "    }\n",
       "\n",
       "    .dataframe tbody tr th {\n",
       "        vertical-align: top;\n",
       "    }\n",
       "\n",
       "    .dataframe thead th {\n",
       "        text-align: right;\n",
       "    }\n",
       "</style>\n",
       "<table border=\"1\" class=\"dataframe\">\n",
       "  <thead>\n",
       "    <tr style=\"text-align: right;\">\n",
       "      <th></th>\n",
       "      <th>f0</th>\n",
       "      <th>f1</th>\n",
       "      <th>f2</th>\n",
       "    </tr>\n",
       "  </thead>\n",
       "  <tbody>\n",
       "    <tr>\n",
       "      <td>f0</td>\n",
       "      <td>1.000000</td>\n",
       "      <td>0.000528</td>\n",
       "      <td>-0.000448</td>\n",
       "    </tr>\n",
       "    <tr>\n",
       "      <td>f1</td>\n",
       "      <td>0.000528</td>\n",
       "      <td>1.000000</td>\n",
       "      <td>0.000779</td>\n",
       "    </tr>\n",
       "    <tr>\n",
       "      <td>f2</td>\n",
       "      <td>-0.000448</td>\n",
       "      <td>0.000779</td>\n",
       "      <td>1.000000</td>\n",
       "    </tr>\n",
       "  </tbody>\n",
       "</table>\n",
       "</div>"
      ],
      "text/plain": [
       "          f0        f1        f2\n",
       "f0  1.000000  0.000528 -0.000448\n",
       "f1  0.000528  1.000000  0.000779\n",
       "f2 -0.000448  0.000779  1.000000"
      ]
     },
     "metadata": {},
     "output_type": "display_data"
    },
    {
     "name": "stdout",
     "output_type": "stream",
     "text": [
      "*****************************\n",
      "\n"
     ]
    }
   ],
   "source": [
    "for name, dt in zip(name_list, dt_list):\n",
    "    print(name)\n",
    "    display(dt[['f0', 'f1', 'f2']].corr())\n",
    "    print('*****************************')\n",
    "    print()"
   ]
  },
  {
   "cell_type": "code",
   "execution_count": 4,
   "metadata": {},
   "outputs": [
    {
     "data": {
      "text/html": [
       "<div>\n",
       "<style scoped>\n",
       "    .dataframe tbody tr th:only-of-type {\n",
       "        vertical-align: middle;\n",
       "    }\n",
       "\n",
       "    .dataframe tbody tr th {\n",
       "        vertical-align: top;\n",
       "    }\n",
       "\n",
       "    .dataframe thead th {\n",
       "        text-align: right;\n",
       "    }\n",
       "</style>\n",
       "<table border=\"1\" class=\"dataframe\">\n",
       "  <thead>\n",
       "    <tr style=\"text-align: right;\">\n",
       "      <th></th>\n",
       "      <th>f0</th>\n",
       "      <th>f1</th>\n",
       "      <th>f2</th>\n",
       "      <th>product</th>\n",
       "    </tr>\n",
       "  </thead>\n",
       "  <tbody>\n",
       "    <tr>\n",
       "      <td>f0</td>\n",
       "      <td>1.000000</td>\n",
       "      <td>0.182287</td>\n",
       "      <td>-0.001777</td>\n",
       "      <td>-0.030491</td>\n",
       "    </tr>\n",
       "    <tr>\n",
       "      <td>f1</td>\n",
       "      <td>0.182287</td>\n",
       "      <td>1.000000</td>\n",
       "      <td>-0.002595</td>\n",
       "      <td>-0.010155</td>\n",
       "    </tr>\n",
       "    <tr>\n",
       "      <td>f2</td>\n",
       "      <td>-0.001777</td>\n",
       "      <td>-0.002595</td>\n",
       "      <td>1.000000</td>\n",
       "      <td>0.999397</td>\n",
       "    </tr>\n",
       "    <tr>\n",
       "      <td>product</td>\n",
       "      <td>-0.030491</td>\n",
       "      <td>-0.010155</td>\n",
       "      <td>0.999397</td>\n",
       "      <td>1.000000</td>\n",
       "    </tr>\n",
       "  </tbody>\n",
       "</table>\n",
       "</div>"
      ],
      "text/plain": [
       "               f0        f1        f2   product\n",
       "f0       1.000000  0.182287 -0.001777 -0.030491\n",
       "f1       0.182287  1.000000 -0.002595 -0.010155\n",
       "f2      -0.001777 -0.002595  1.000000  0.999397\n",
       "product -0.030491 -0.010155  0.999397  1.000000"
      ]
     },
     "metadata": {},
     "output_type": "display_data"
    }
   ],
   "source": [
    "display(dt2.corr())"
   ]
  },
  {
   "cell_type": "markdown",
   "metadata": {},
   "source": [
    "Сильных связей между признаками не наблюдается.  \n",
    "\n",
    "Cтолбцы id содержат данные которые не имеют значеняи для предсказания объёмов запасов нефти в скважинах. Удалим эти столбцы."
   ]
  },
  {
   "cell_type": "code",
   "execution_count": 5,
   "metadata": {},
   "outputs": [
    {
     "name": "stdout",
     "output_type": "stream",
     "text": [
      "Регион 1\n"
     ]
    },
    {
     "data": {
      "text/html": [
       "<div>\n",
       "<style scoped>\n",
       "    .dataframe tbody tr th:only-of-type {\n",
       "        vertical-align: middle;\n",
       "    }\n",
       "\n",
       "    .dataframe tbody tr th {\n",
       "        vertical-align: top;\n",
       "    }\n",
       "\n",
       "    .dataframe thead th {\n",
       "        text-align: right;\n",
       "    }\n",
       "</style>\n",
       "<table border=\"1\" class=\"dataframe\">\n",
       "  <thead>\n",
       "    <tr style=\"text-align: right;\">\n",
       "      <th></th>\n",
       "      <th>f0</th>\n",
       "      <th>f1</th>\n",
       "      <th>f2</th>\n",
       "      <th>product</th>\n",
       "    </tr>\n",
       "  </thead>\n",
       "  <tbody>\n",
       "    <tr>\n",
       "      <td>0</td>\n",
       "      <td>0.705745</td>\n",
       "      <td>-0.497823</td>\n",
       "      <td>1.22117</td>\n",
       "      <td>105.280062</td>\n",
       "    </tr>\n",
       "    <tr>\n",
       "      <td>1</td>\n",
       "      <td>1.334711</td>\n",
       "      <td>-0.340164</td>\n",
       "      <td>4.36508</td>\n",
       "      <td>73.037750</td>\n",
       "    </tr>\n",
       "  </tbody>\n",
       "</table>\n",
       "</div>"
      ],
      "text/plain": [
       "         f0        f1       f2     product\n",
       "0  0.705745 -0.497823  1.22117  105.280062\n",
       "1  1.334711 -0.340164  4.36508   73.037750"
      ]
     },
     "metadata": {},
     "output_type": "display_data"
    },
    {
     "name": "stdout",
     "output_type": "stream",
     "text": [
      "**********************************\n",
      "\n",
      "Регион 2\n"
     ]
    },
    {
     "data": {
      "text/html": [
       "<div>\n",
       "<style scoped>\n",
       "    .dataframe tbody tr th:only-of-type {\n",
       "        vertical-align: middle;\n",
       "    }\n",
       "\n",
       "    .dataframe tbody tr th {\n",
       "        vertical-align: top;\n",
       "    }\n",
       "\n",
       "    .dataframe thead th {\n",
       "        text-align: right;\n",
       "    }\n",
       "</style>\n",
       "<table border=\"1\" class=\"dataframe\">\n",
       "  <thead>\n",
       "    <tr style=\"text-align: right;\">\n",
       "      <th></th>\n",
       "      <th>f0</th>\n",
       "      <th>f1</th>\n",
       "      <th>f2</th>\n",
       "      <th>product</th>\n",
       "    </tr>\n",
       "  </thead>\n",
       "  <tbody>\n",
       "    <tr>\n",
       "      <td>0</td>\n",
       "      <td>-15.001348</td>\n",
       "      <td>-8.276000</td>\n",
       "      <td>-0.005876</td>\n",
       "      <td>3.179103</td>\n",
       "    </tr>\n",
       "    <tr>\n",
       "      <td>1</td>\n",
       "      <td>14.272088</td>\n",
       "      <td>-3.475083</td>\n",
       "      <td>0.999183</td>\n",
       "      <td>26.953261</td>\n",
       "    </tr>\n",
       "  </tbody>\n",
       "</table>\n",
       "</div>"
      ],
      "text/plain": [
       "          f0        f1        f2    product\n",
       "0 -15.001348 -8.276000 -0.005876   3.179103\n",
       "1  14.272088 -3.475083  0.999183  26.953261"
      ]
     },
     "metadata": {},
     "output_type": "display_data"
    },
    {
     "name": "stdout",
     "output_type": "stream",
     "text": [
      "**********************************\n",
      "\n",
      "Регион 3\n"
     ]
    },
    {
     "data": {
      "text/html": [
       "<div>\n",
       "<style scoped>\n",
       "    .dataframe tbody tr th:only-of-type {\n",
       "        vertical-align: middle;\n",
       "    }\n",
       "\n",
       "    .dataframe tbody tr th {\n",
       "        vertical-align: top;\n",
       "    }\n",
       "\n",
       "    .dataframe thead th {\n",
       "        text-align: right;\n",
       "    }\n",
       "</style>\n",
       "<table border=\"1\" class=\"dataframe\">\n",
       "  <thead>\n",
       "    <tr style=\"text-align: right;\">\n",
       "      <th></th>\n",
       "      <th>f0</th>\n",
       "      <th>f1</th>\n",
       "      <th>f2</th>\n",
       "      <th>product</th>\n",
       "    </tr>\n",
       "  </thead>\n",
       "  <tbody>\n",
       "    <tr>\n",
       "      <td>0</td>\n",
       "      <td>-1.146987</td>\n",
       "      <td>0.963328</td>\n",
       "      <td>-0.828965</td>\n",
       "      <td>27.758673</td>\n",
       "    </tr>\n",
       "    <tr>\n",
       "      <td>1</td>\n",
       "      <td>0.262778</td>\n",
       "      <td>0.269839</td>\n",
       "      <td>-2.530187</td>\n",
       "      <td>56.069697</td>\n",
       "    </tr>\n",
       "  </tbody>\n",
       "</table>\n",
       "</div>"
      ],
      "text/plain": [
       "         f0        f1        f2    product\n",
       "0 -1.146987  0.963328 -0.828965  27.758673\n",
       "1  0.262778  0.269839 -2.530187  56.069697"
      ]
     },
     "metadata": {},
     "output_type": "display_data"
    },
    {
     "name": "stdout",
     "output_type": "stream",
     "text": [
      "**********************************\n",
      "\n"
     ]
    }
   ],
   "source": [
    "for i in range(len(dt_list)):\n",
    "    dt_list[i] = dt_list[i].drop('id', axis=1)\n",
    "    print(name_list[i])\n",
    "    display(dt_list[i].head(2))\n",
    "    print('**********************************')\n",
    "    print()"
   ]
  },
  {
   "cell_type": "markdown",
   "metadata": {},
   "source": [
    "Данные подготовили."
   ]
  },
  {
   "cell_type": "markdown",
   "metadata": {},
   "source": [
    "## Обучение и проверка модели"
   ]
  },
  {
   "cell_type": "markdown",
   "metadata": {},
   "source": [
    "Перейдем к обучению и проверке модели.  Целевой признак у нас количественный, решается вопрос регрессии. По условиям задачи для обучения модели подходит только линейная регрессия (остальные — недостаточно предсказуемые). Создадим функцию принимающую данные по  региону и выполняющую:\n",
    "1. Разделение данных по региону на обучающую и валидационную, в соотношении 75:25\n",
    "2. Обучение модели линейной регрессии\n",
    "3. Предсказание на валидационных данных\n",
    "4. Расчет и печать среднего предсказанного запаса сырья\n",
    "5. Расчет и печать значения RMSE модели\n",
    "6. Проверку модели на адекватность, для этого сравним полученные предсказания со средним значением целевого признака в валидационной выборке\n",
    "7. Функция возвращает предсказания и правильные ответы на валидационной выборке\n"
   ]
  },
  {
   "cell_type": "code",
   "execution_count": 6,
   "metadata": {},
   "outputs": [],
   "source": [
    "def train_test_model(data):\n",
    "    target = data['product']\n",
    "    features = data.drop('product', axis=1)\n",
    "    features_train, features_valid, target_train, target_valid = train_test_split(\n",
    "                                            features, target, test_size=0.25, random_state=12345)\n",
    "    print('Размер обучающей выборки:', features_train.shape)\n",
    "    print('Размер валидационной выборки:', features_valid.shape)\n",
    "        \n",
    "    model = LinearRegression()\n",
    "    model.fit(features_train, target_train)\n",
    "    predictions = model.predict(features_valid)\n",
    "    \n",
    "    predictions_series = pd.Series(predictions)\n",
    "    \n",
    "    average_reserve = predictions.mean()\n",
    "    rmse = (mean_squared_error(target_valid, predictions_series))**(0.5)\n",
    "    \n",
    "    print(\"Средний предсказанный запас сырья: {0:.3f} тыс. баррелей\".format(average_reserve))\n",
    "    print(\"RMSE: {0:.2f}\".format(rmse))\n",
    "    \n",
    "    #проверка на адекватность\n",
    "    predictions_for_mean = pd.Series(target_valid.mean(), index=target_valid.index)\n",
    "    rmse_for_mean = (mean_squared_error(target_valid, predictions_for_mean))**(0.5)\n",
    "    print(\"RMSE для для среднего значения: {0:.2f}\".format(rmse_for_mean))\n",
    "    \n",
    "    return (predictions_series.reset_index(drop=True), target_valid.reset_index(drop=True))\n",
    "    "
   ]
  },
  {
   "cell_type": "markdown",
   "metadata": {},
   "source": [
    "Подготовим словарь для хранения предсказаний и правильных ответов из валидационной выборки для всех регионов"
   ]
  },
  {
   "cell_type": "code",
   "execution_count": 7,
   "metadata": {},
   "outputs": [
    {
     "data": {
      "text/plain": [
       "{'Регион 1': {'predictions': None, 'target_valid': None},\n",
       " 'Регион 2': {'predictions': None, 'target_valid': None},\n",
       " 'Регион 3': {'predictions': None, 'target_valid': None}}"
      ]
     },
     "metadata": {},
     "output_type": "display_data"
    }
   ],
   "source": [
    "region_data_dict = {}\n",
    "list_name_values = [\"predictions\", \"target_valid\"]\n",
    "for name in name_list:\n",
    "    dict_temp = {}\n",
    "    for name_value in list_name_values:\n",
    "        dict_temp[name_value] = None\n",
    "    region_data_dict[name] =  dict_temp  \n",
    "\n",
    "#проверим\n",
    "display(region_data_dict)"
   ]
  },
  {
   "cell_type": "markdown",
   "metadata": {},
   "source": [
    "Выполним обучение и проверку моделей для всех регионов."
   ]
  },
  {
   "cell_type": "code",
   "execution_count": 8,
   "metadata": {},
   "outputs": [
    {
     "name": "stdout",
     "output_type": "stream",
     "text": [
      "Регион 1\n",
      "\n",
      "Размер обучающей выборки: (75000, 3)\n",
      "Размер валидационной выборки: (25000, 3)\n",
      "Средний предсказанный запас сырья: 92.593 тыс. баррелей\n",
      "RMSE: 37.58\n",
      "RMSE для для среднего значения: 44.29\n",
      "*************************************\n",
      "\n",
      "Регион 2\n",
      "\n",
      "Размер обучающей выборки: (75000, 3)\n",
      "Размер валидационной выборки: (25000, 3)\n",
      "Средний предсказанный запас сырья: 68.729 тыс. баррелей\n",
      "RMSE: 0.89\n",
      "RMSE для для среднего значения: 46.02\n",
      "*************************************\n",
      "\n",
      "Регион 3\n",
      "\n",
      "Размер обучающей выборки: (75000, 3)\n",
      "Размер валидационной выборки: (25000, 3)\n",
      "Средний предсказанный запас сырья: 94.965 тыс. баррелей\n",
      "RMSE: 40.03\n",
      "RMSE для для среднего значения: 44.90\n",
      "*************************************\n",
      "\n"
     ]
    }
   ],
   "source": [
    "for dt, name in zip(dt_list, name_list):\n",
    "    print(name)\n",
    "    print()\n",
    "    (region_data_dict[name]['predictions'], \n",
    "         region_data_dict[name]['target_valid']) = train_test_model(dt)\n",
    "    print('*************************************')\n",
    "    print()"
   ]
  },
  {
   "cell_type": "markdown",
   "metadata": {},
   "source": [
    "Модель адекватна, на всех выборках точность предсказания выше чем для среднего значения.  \n",
    "Самый высокий предсказанный средний запас нефти в 3-м регионе, при этом здесь самое высокое значение ошибки. Во 2-м регионе ошибка низкая, но запас предсказан меньше других.   "
   ]
  },
  {
   "cell_type": "markdown",
   "metadata": {},
   "source": [
    "## Подготовка к расчёту прибыли"
   ]
  },
  {
   "cell_type": "markdown",
   "metadata": {},
   "source": [
    "Перейдем к рассчету прибыли. Все ключевые значения для расчётов сохраним в отдельных переменных."
   ]
  },
  {
   "cell_type": "code",
   "execution_count": 9,
   "metadata": {},
   "outputs": [],
   "source": [
    "BUDGET = 10000000000  #бюджет на разработку скважин в регионе\n",
    "INCOME_UNIT = 450000  #доход с каждой тысячи баррелей\n",
    "WELLS_RESEARCH = 500  #количество точек (размер выборки) для исследования в регионе\n",
    "WELLS_SELECT = 200    #количество лучших точек\n",
    "SAMPLES_COUNT = 1000  #количество выборо для Bootstrap\n",
    "STATE = np.random.RandomState(12345)"
   ]
  },
  {
   "cell_type": "markdown",
   "metadata": {},
   "source": [
    "Рассчитаем достаточный объём сырья для безубыточной разработки новой скважины. Сравним полученный объём сырья со средним запасом в каждом регионе."
   ]
  },
  {
   "cell_type": "code",
   "execution_count": 10,
   "metadata": {},
   "outputs": [
    {
     "name": "stdout",
     "output_type": "stream",
     "text": [
      "Объём сырья для безубыточной разработки новой скважины: 111.111 тыс. баррелей\n"
     ]
    }
   ],
   "source": [
    "capacity_product_min = BUDGET / INCOME_UNIT / WELLS_SELECT\n",
    "print('Объём сырья для безубыточной разработки новой скважины: {0:.3f} тыс. баррелей'.format(capacity_product_min))"
   ]
  },
  {
   "cell_type": "markdown",
   "metadata": {},
   "source": [
    "Средний предсказанный запас сырья в скважинах во всех регионах меньше, чем рассчитанный для данного бюджета объём сырья для безубыточной разработки. \n",
    "\n",
    "Создадим функцию для рассчета прибыли. Функция принимает предсказания и верные ответы, отбирает WELLS_SELECT лучших точек по объему предсказанных запасов сырья, и рассчитывает по соответствующим целевым признакам уровень дохода."
   ]
  },
  {
   "cell_type": "code",
   "execution_count": 11,
   "metadata": {},
   "outputs": [],
   "source": [
    "def profit_calc_old(predictions, target):\n",
    "    top200_predictions = predictions.sort_values(ascending=False)[:WELLS_SELECT]\n",
    "    profit = target[top200_predictions.index].sum() * INCOME_UNIT - BUDGET\n",
    "    return profit"
   ]
  },
  {
   "cell_type": "code",
   "execution_count": 12,
   "metadata": {},
   "outputs": [],
   "source": [
    "def profit_calc(predictions, target):\n",
    "    top200_predictions = predictions.sort_values(ascending=False)\n",
    "    profit = target[top200_predictions.index][:WELLS_SELECT].sum() * INCOME_UNIT - BUDGET   \n",
    "    return profit"
   ]
  },
  {
   "cell_type": "markdown",
   "metadata": {},
   "source": [
    "## Расчёт прибыли и рисков "
   ]
  },
  {
   "cell_type": "markdown",
   "metadata": {},
   "source": [
    "Посчитаем риски и прибыль для каждого региона. Для этого создадим функцию, где применим технику Bootstrap с SAMPLES_COUNT выборок, чтобы найти распределение прибыли. Рассчитаем среднюю прибыль, 95%-й доверительный интервал и риск убытков (процент отрицательной прибыли)."
   ]
  },
  {
   "cell_type": "code",
   "execution_count": 13,
   "metadata": {},
   "outputs": [],
   "source": [
    "def profit_risk_calc(predictions, target):\n",
    "    profits = []\n",
    "    for i in range(SAMPLES_COUNT):\n",
    "        predict_subsample = predictions.sample(WELLS_RESEARCH, replace=True, random_state=STATE)\n",
    "        target_subsample = target[predict_subsample.index]\n",
    "        profits.append(profit_calc(predict_subsample, target_subsample))\n",
    "    profits = pd.Series(profits)\n",
    "    \n",
    "    mean_profit = profits.mean()\n",
    "    conf_interval = (profits.quantile(.025), profits.quantile(.975))\n",
    "    risk = st.percentileofscore(profits, 0)\n",
    "    \n",
    "    return (conf_interval, mean_profit, risk)"
   ]
  },
  {
   "cell_type": "markdown",
   "metadata": {},
   "source": [
    "Применим функцию для рассчета показателей по регионам"
   ]
  },
  {
   "cell_type": "code",
   "execution_count": 14,
   "metadata": {},
   "outputs": [
    {
     "name": "stdout",
     "output_type": "stream",
     "text": [
      "Регион 1\n",
      "\n",
      "Средняя прибыль: 425938526.91\n",
      "95%-й доверительный интервал: (-102090094.83793654, 947976353.358369)\n",
      "Риск убытков: 6.0 %\n",
      "**********************************\n",
      "\n",
      "Регион 2\n",
      "\n",
      "Средняя прибыль: 518259493.7\n",
      "95%-й доверительный интервал: (128123231.43308629, 953612982.0669085)\n",
      "Риск убытков: 0.3 %\n",
      "**********************************\n",
      "\n",
      "Регион 3\n",
      "\n",
      "Средняя прибыль: 420194005.34\n",
      "95%-й доверительный интервал: (-115852609.16001143, 989629939.844574)\n",
      "Риск убытков: 6.2 %\n",
      "**********************************\n",
      "\n"
     ]
    }
   ],
   "source": [
    "for name in name_list:\n",
    "    print(name)\n",
    "    print()\n",
    "    conf_interval, mean_profit, risk = (profit_risk_calc(region_data_dict[name]['predictions'], \n",
    "                                                     region_data_dict[name]['target_valid']))\n",
    "    print('Средняя прибыль:', round(mean_profit, 2))\n",
    "    print('95%-й доверительный интервал:', conf_interval)\n",
    "    print('Риск убытков:', risk, '%')\n",
    "    print('**********************************')\n",
    "    print()\n",
    "    "
   ]
  },
  {
   "cell_type": "markdown",
   "metadata": {},
   "source": [
    "По результатам рассчетов риск убытков только для 2-го региона меньше целевого показателя 2.5%. Из всех регионов наибольшую среднюю прибыль показывает также регион №2. "
   ]
  },
  {
   "cell_type": "markdown",
   "metadata": {},
   "source": [
    "## Вывод"
   ]
  },
  {
   "cell_type": "markdown",
   "metadata": {},
   "source": [
    "Для решения поставленной задачи, были исследованы данные характеристик скважин в 3-х регионах. Проведено обучение и проверка модели линейной регрессии. Модель прошла проверку на адекватность. \n",
    "Самый высокий предсказанный средний запас нефти был получен 3-м регионе, при этом для него было и самое высокое значение ошибки(RMSE). Во 2-м регионе значение ошибки было самым низким, но и запас предсказан меньше других.  \n",
    "\n",
    "Для определения региона, где добыча принесёт наибольшую прибыль была применена техника Bootstrap с 1000 выборок. Были рассчитаны средняя прибыль, 95%-й доверительный интервал и риск убытков. Самым перспективными регионом для разработки определен регион №2, для него получен самый высокий средний показатель прибыли при самом низком риске убытков."
   ]
  },
  {
   "cell_type": "code",
   "execution_count": null,
   "metadata": {},
   "outputs": [],
   "source": []
  }
 ],
 "metadata": {
  "ExecuteTimeLog": [
   {
    "duration": 1171,
    "start_time": "2021-10-23T19:28:33.340Z"
   },
   {
    "duration": 409,
    "start_time": "2021-10-23T19:35:27.059Z"
   },
   {
    "duration": 407,
    "start_time": "2021-10-23T19:36:30.103Z"
   },
   {
    "duration": 464,
    "start_time": "2021-10-23T19:47:03.270Z"
   },
   {
    "duration": 560,
    "start_time": "2021-10-23T19:47:26.390Z"
   },
   {
    "duration": 279,
    "start_time": "2021-10-23T21:18:58.972Z"
   },
   {
    "duration": 1089,
    "start_time": "2021-10-23T21:19:31.513Z"
   },
   {
    "duration": 430,
    "start_time": "2021-10-23T21:19:34.255Z"
   },
   {
    "duration": 28,
    "start_time": "2021-10-23T21:19:49.127Z"
   },
   {
    "duration": 718,
    "start_time": "2021-10-23T21:24:24.071Z"
   },
   {
    "duration": 3,
    "start_time": "2021-10-23T21:25:07.898Z"
   },
   {
    "duration": 70466,
    "start_time": "2021-10-23T21:25:31.573Z"
   },
   {
    "duration": 561,
    "start_time": "2021-10-23T21:52:38.941Z"
   },
   {
    "duration": 590,
    "start_time": "2021-10-23T21:53:09.519Z"
   },
   {
    "duration": 232,
    "start_time": "2021-10-23T22:06:53.263Z"
   },
   {
    "duration": 19,
    "start_time": "2021-10-23T22:07:16.912Z"
   },
   {
    "duration": 24,
    "start_time": "2021-10-23T22:07:56.263Z"
   },
   {
    "duration": 32,
    "start_time": "2021-10-23T22:11:23.296Z"
   },
   {
    "duration": 256,
    "start_time": "2021-10-23T22:13:17.956Z"
   },
   {
    "duration": 243,
    "start_time": "2021-10-23T22:13:45.718Z"
   },
   {
    "duration": 231,
    "start_time": "2021-10-23T22:13:58.710Z"
   },
   {
    "duration": 1162,
    "start_time": "2021-10-23T22:14:49.536Z"
   },
   {
    "duration": 573,
    "start_time": "2021-10-23T22:14:50.701Z"
   },
   {
    "duration": 69919,
    "start_time": "2021-10-23T22:14:51.276Z"
   },
   {
    "duration": 38,
    "start_time": "2021-10-23T22:16:01.198Z"
   },
   {
    "duration": 329,
    "start_time": "2021-10-23T22:18:31.798Z"
   },
   {
    "duration": 256,
    "start_time": "2021-10-23T22:18:56.844Z"
   },
   {
    "duration": 7,
    "start_time": "2021-10-23T22:19:22.101Z"
   },
   {
    "duration": 1225,
    "start_time": "2021-10-23T22:23:12.364Z"
   },
   {
    "duration": 557,
    "start_time": "2021-10-23T22:23:13.591Z"
   },
   {
    "duration": 41,
    "start_time": "2021-10-23T22:23:14.150Z"
   },
   {
    "duration": 36,
    "start_time": "2021-10-23T22:23:20.407Z"
   },
   {
    "duration": 1523,
    "start_time": "2021-10-24T08:59:30.513Z"
   },
   {
    "duration": 791,
    "start_time": "2021-10-24T08:59:32.039Z"
   },
   {
    "duration": 73,
    "start_time": "2021-10-24T08:59:32.833Z"
   },
   {
    "duration": 37,
    "start_time": "2021-10-24T08:59:48.848Z"
   },
   {
    "duration": 473,
    "start_time": "2021-10-24T09:00:58.854Z"
   },
   {
    "duration": 21,
    "start_time": "2021-10-24T09:01:12.941Z"
   },
   {
    "duration": 587,
    "start_time": "2021-10-24T09:03:15.805Z"
   },
   {
    "duration": 5,
    "start_time": "2021-10-24T09:03:36.046Z"
   },
   {
    "duration": 33,
    "start_time": "2021-10-24T09:03:57.166Z"
   },
   {
    "duration": 23,
    "start_time": "2021-10-24T09:16:57.907Z"
   },
   {
    "duration": 24,
    "start_time": "2021-10-24T09:18:08.256Z"
   },
   {
    "duration": 345,
    "start_time": "2021-10-24T09:18:11.645Z"
   },
   {
    "duration": 23,
    "start_time": "2021-10-24T09:18:24.189Z"
   },
   {
    "duration": 63,
    "start_time": "2021-10-24T09:31:13.879Z"
   },
   {
    "duration": 121,
    "start_time": "2021-10-24T09:36:29.246Z"
   },
   {
    "duration": 136,
    "start_time": "2021-10-24T09:37:15.633Z"
   },
   {
    "duration": 136,
    "start_time": "2021-10-24T09:37:33.093Z"
   },
   {
    "duration": 44,
    "start_time": "2021-10-24T09:39:02.121Z"
   },
   {
    "duration": 87,
    "start_time": "2021-10-24T09:50:47.232Z"
   },
   {
    "duration": 356,
    "start_time": "2021-10-24T09:50:57.285Z"
   },
   {
    "duration": 296,
    "start_time": "2021-10-24T09:51:38.014Z"
   },
   {
    "duration": 405,
    "start_time": "2021-10-24T10:02:12.661Z"
   },
   {
    "duration": 6,
    "start_time": "2021-10-24T10:02:45.031Z"
   },
   {
    "duration": 375,
    "start_time": "2021-10-24T10:02:53.214Z"
   },
   {
    "duration": 503,
    "start_time": "2021-10-24T10:24:22.179Z"
   },
   {
    "duration": 264,
    "start_time": "2021-10-24T10:24:47.038Z"
   },
   {
    "duration": 370,
    "start_time": "2021-10-24T10:25:58.205Z"
   },
   {
    "duration": 276,
    "start_time": "2021-10-24T10:27:00.726Z"
   },
   {
    "duration": 506,
    "start_time": "2021-10-24T10:43:31.296Z"
   },
   {
    "duration": 391,
    "start_time": "2021-10-24T10:43:39.508Z"
   },
   {
    "duration": 401,
    "start_time": "2021-10-24T10:43:49.204Z"
   },
   {
    "duration": 1460,
    "start_time": "2021-10-24T10:52:08.154Z"
   },
   {
    "duration": 750,
    "start_time": "2021-10-24T10:52:09.617Z"
   },
   {
    "duration": 59,
    "start_time": "2021-10-24T10:52:10.371Z"
   },
   {
    "duration": 38,
    "start_time": "2021-10-24T10:52:10.432Z"
   },
   {
    "duration": 50,
    "start_time": "2021-10-24T10:52:10.473Z"
   },
   {
    "duration": 26,
    "start_time": "2021-10-24T10:52:10.526Z"
   },
   {
    "duration": 58,
    "start_time": "2021-10-24T10:52:10.554Z"
   },
   {
    "duration": 4,
    "start_time": "2021-10-24T10:52:14.134Z"
   },
   {
    "duration": 333,
    "start_time": "2021-10-24T10:52:25.570Z"
   },
   {
    "duration": 499,
    "start_time": "2021-10-24T10:59:09.636Z"
   },
   {
    "duration": 6,
    "start_time": "2021-10-24T10:59:53.351Z"
   },
   {
    "duration": 23,
    "start_time": "2021-10-24T11:00:15.915Z"
   },
   {
    "duration": 24,
    "start_time": "2021-10-24T11:00:18.748Z"
   },
   {
    "duration": 26,
    "start_time": "2021-10-24T11:00:21.725Z"
   },
   {
    "duration": 4,
    "start_time": "2021-10-24T11:00:24.869Z"
   },
   {
    "duration": 396,
    "start_time": "2021-10-24T11:00:35.207Z"
   },
   {
    "duration": 1487,
    "start_time": "2021-10-24T11:06:17.747Z"
   },
   {
    "duration": 767,
    "start_time": "2021-10-24T11:06:19.236Z"
   },
   {
    "duration": 43,
    "start_time": "2021-10-24T11:06:20.008Z"
   },
   {
    "duration": 67,
    "start_time": "2021-10-24T11:06:20.054Z"
   },
   {
    "duration": 4,
    "start_time": "2021-10-24T11:06:20.123Z"
   },
   {
    "duration": 22,
    "start_time": "2021-10-24T11:06:20.130Z"
   },
   {
    "duration": 61,
    "start_time": "2021-10-24T11:06:20.154Z"
   },
   {
    "duration": 23,
    "start_time": "2021-10-24T11:06:20.218Z"
   },
   {
    "duration": 4,
    "start_time": "2021-10-24T11:06:20.244Z"
   },
   {
    "duration": 497,
    "start_time": "2021-10-24T11:06:25.528Z"
   },
   {
    "duration": 6,
    "start_time": "2021-10-24T11:06:57.590Z"
   },
   {
    "duration": 95,
    "start_time": "2021-10-24T11:07:05.205Z"
   },
   {
    "duration": 44,
    "start_time": "2021-10-24T11:07:21.370Z"
   },
   {
    "duration": 434,
    "start_time": "2021-10-24T11:07:29.767Z"
   },
   {
    "duration": 12,
    "start_time": "2021-10-24T11:18:58.496Z"
   },
   {
    "duration": 1500,
    "start_time": "2021-10-24T16:19:22.119Z"
   },
   {
    "duration": 758,
    "start_time": "2021-10-24T16:19:23.622Z"
   },
   {
    "duration": 54,
    "start_time": "2021-10-24T16:19:24.383Z"
   },
   {
    "duration": 36,
    "start_time": "2021-10-24T16:25:18.013Z"
   },
   {
    "duration": 1511,
    "start_time": "2021-10-24T16:26:30.312Z"
   },
   {
    "duration": 753,
    "start_time": "2021-10-24T16:26:31.826Z"
   },
   {
    "duration": 63,
    "start_time": "2021-10-24T16:26:32.582Z"
   },
   {
    "duration": 30,
    "start_time": "2021-10-24T16:27:29.448Z"
   },
   {
    "duration": 19,
    "start_time": "2021-10-24T16:27:40.778Z"
   },
   {
    "duration": 1532,
    "start_time": "2021-10-24T16:34:51.260Z"
   },
   {
    "duration": 808,
    "start_time": "2021-10-24T16:34:52.795Z"
   },
   {
    "duration": 45,
    "start_time": "2021-10-24T16:34:53.606Z"
   },
   {
    "duration": 15,
    "start_time": "2021-10-24T16:34:59.149Z"
   },
   {
    "duration": 1098,
    "start_time": "2021-10-24T16:50:24.487Z"
   },
   {
    "duration": 819,
    "start_time": "2021-10-24T16:52:25.930Z"
   },
   {
    "duration": 1509,
    "start_time": "2021-10-24T16:55:50.483Z"
   },
   {
    "duration": 756,
    "start_time": "2021-10-24T16:55:51.994Z"
   },
   {
    "duration": 71,
    "start_time": "2021-10-24T16:55:52.754Z"
   },
   {
    "duration": 43,
    "start_time": "2021-10-24T16:56:16.806Z"
   },
   {
    "duration": 6,
    "start_time": "2021-10-24T17:30:50.475Z"
   },
   {
    "duration": 1280,
    "start_time": "2021-10-24T17:34:29.235Z"
   },
   {
    "duration": 7,
    "start_time": "2021-10-24T17:34:57.449Z"
   },
   {
    "duration": 526,
    "start_time": "2021-10-24T17:35:01.779Z"
   },
   {
    "duration": 496,
    "start_time": "2021-10-24T17:45:46.512Z"
   },
   {
    "duration": 8,
    "start_time": "2021-10-24T17:56:07.832Z"
   },
   {
    "duration": 614,
    "start_time": "2021-10-24T17:56:13.489Z"
   },
   {
    "duration": 30,
    "start_time": "2021-10-24T18:18:29.692Z"
   },
   {
    "duration": 33,
    "start_time": "2021-10-24T18:18:33.187Z"
   },
   {
    "duration": 35,
    "start_time": "2021-10-24T18:18:36.073Z"
   },
   {
    "duration": 4,
    "start_time": "2021-10-24T18:18:38.972Z"
   },
   {
    "duration": 21,
    "start_time": "2021-10-24T18:20:04.388Z"
   },
   {
    "duration": 10,
    "start_time": "2021-10-24T18:21:23.602Z"
   },
   {
    "duration": 32,
    "start_time": "2021-10-24T18:23:04.333Z"
   },
   {
    "duration": 50,
    "start_time": "2021-10-24T18:24:27.902Z"
   },
   {
    "duration": 1558,
    "start_time": "2021-10-24T18:24:49.680Z"
   },
   {
    "duration": 827,
    "start_time": "2021-10-24T18:24:51.241Z"
   },
   {
    "duration": 61,
    "start_time": "2021-10-24T18:24:52.071Z"
   },
   {
    "duration": 68,
    "start_time": "2021-10-24T18:24:52.135Z"
   },
   {
    "duration": 32,
    "start_time": "2021-10-24T18:24:58.599Z"
   },
   {
    "duration": 36,
    "start_time": "2021-10-24T18:25:02.132Z"
   },
   {
    "duration": 33,
    "start_time": "2021-10-24T18:25:10.382Z"
   },
   {
    "duration": 5,
    "start_time": "2021-10-24T18:25:23.599Z"
   },
   {
    "duration": 55,
    "start_time": "2021-10-24T18:25:26.658Z"
   },
   {
    "duration": 7,
    "start_time": "2021-10-24T18:27:50.726Z"
   },
   {
    "duration": 23,
    "start_time": "2021-10-24T18:27:53.081Z"
   },
   {
    "duration": 26,
    "start_time": "2021-10-24T18:27:56.062Z"
   },
   {
    "duration": 26,
    "start_time": "2021-10-24T18:27:59.168Z"
   },
   {
    "duration": 15,
    "start_time": "2021-10-24T18:28:01.831Z"
   },
   {
    "duration": 26,
    "start_time": "2021-10-24T18:28:04.672Z"
   },
   {
    "duration": 494,
    "start_time": "2021-10-24T18:28:19.950Z"
   },
   {
    "duration": 6,
    "start_time": "2021-10-24T18:28:27.132Z"
   },
   {
    "duration": 15,
    "start_time": "2021-10-24T18:31:41.317Z"
   },
   {
    "duration": 9,
    "start_time": "2021-10-24T18:31:43.982Z"
   },
   {
    "duration": 581,
    "start_time": "2021-10-24T18:35:54.363Z"
   },
   {
    "duration": 8,
    "start_time": "2021-10-24T18:39:59.837Z"
   },
   {
    "duration": 553,
    "start_time": "2021-10-24T18:40:03.562Z"
   },
   {
    "duration": 1437,
    "start_time": "2021-10-25T19:44:10.103Z"
   },
   {
    "duration": 803,
    "start_time": "2021-10-25T19:44:15.039Z"
   },
   {
    "duration": 43,
    "start_time": "2021-10-25T19:44:25.686Z"
   },
   {
    "duration": 42,
    "start_time": "2021-10-25T19:44:35.072Z"
   },
   {
    "duration": 7,
    "start_time": "2021-10-25T19:44:52.189Z"
   },
   {
    "duration": 467,
    "start_time": "2021-10-25T19:44:59.987Z"
   },
   {
    "duration": 317,
    "start_time": "2021-10-25T20:11:11.330Z"
   },
   {
    "duration": 4,
    "start_time": "2021-10-25T20:48:38.440Z"
   },
   {
    "duration": 6,
    "start_time": "2021-10-25T20:48:59.625Z"
   },
   {
    "duration": 181,
    "start_time": "2021-10-25T20:51:20.226Z"
   },
   {
    "duration": 10,
    "start_time": "2021-10-25T20:51:30.583Z"
   },
   {
    "duration": 11,
    "start_time": "2021-10-25T20:54:35.018Z"
   },
   {
    "duration": 8,
    "start_time": "2021-10-25T21:03:44.545Z"
   },
   {
    "duration": 77,
    "start_time": "2021-10-25T21:04:10.309Z"
   },
   {
    "duration": 72,
    "start_time": "2021-10-25T21:04:50.560Z"
   },
   {
    "duration": 729,
    "start_time": "2021-10-25T21:05:25.695Z"
   },
   {
    "duration": 8,
    "start_time": "2021-10-25T21:06:01.983Z"
   },
   {
    "duration": 562,
    "start_time": "2021-10-25T21:06:05.070Z"
   },
   {
    "duration": 8,
    "start_time": "2021-10-25T21:07:35.079Z"
   },
   {
    "duration": 7,
    "start_time": "2021-10-25T21:07:37.915Z"
   },
   {
    "duration": 666,
    "start_time": "2021-10-25T21:07:40.619Z"
   },
   {
    "duration": 9,
    "start_time": "2021-10-25T21:09:21.526Z"
   },
   {
    "duration": 625,
    "start_time": "2021-10-25T21:09:27.668Z"
   },
   {
    "duration": 647,
    "start_time": "2021-10-25T21:10:56.936Z"
   },
   {
    "duration": 769,
    "start_time": "2021-10-25T21:11:18.701Z"
   },
   {
    "duration": 548,
    "start_time": "2021-10-25T21:12:46.088Z"
   },
   {
    "duration": 463,
    "start_time": "2021-10-25T21:13:23.768Z"
   },
   {
    "duration": 512,
    "start_time": "2021-10-25T21:14:38.422Z"
   },
   {
    "duration": 498,
    "start_time": "2021-10-25T21:17:28.430Z"
   },
   {
    "duration": 387,
    "start_time": "2021-10-25T21:17:47.967Z"
   },
   {
    "duration": 311,
    "start_time": "2021-10-25T21:22:01.668Z"
   },
   {
    "duration": 4,
    "start_time": "2021-10-25T21:22:07.618Z"
   },
   {
    "duration": 5,
    "start_time": "2021-10-25T21:22:09.833Z"
   },
   {
    "duration": 5,
    "start_time": "2021-10-25T21:26:42.493Z"
   },
   {
    "duration": 169,
    "start_time": "2021-10-25T21:27:53.967Z"
   },
   {
    "duration": 5,
    "start_time": "2021-10-25T21:30:06.900Z"
   },
   {
    "duration": 4,
    "start_time": "2021-10-25T21:30:24.823Z"
   },
   {
    "duration": 1384,
    "start_time": "2021-10-27T11:20:31.047Z"
   },
   {
    "duration": 790,
    "start_time": "2021-10-27T11:20:34.703Z"
   },
   {
    "duration": 42,
    "start_time": "2021-10-27T11:20:49.989Z"
   },
   {
    "duration": 9031,
    "start_time": "2021-10-27T11:21:46.007Z"
   },
   {
    "duration": 40,
    "start_time": "2021-10-27T11:22:11.296Z"
   },
   {
    "duration": 63956,
    "start_time": "2021-10-27T11:23:05.766Z"
   },
   {
    "duration": 41,
    "start_time": "2021-10-27T11:25:23.576Z"
   },
   {
    "duration": 9,
    "start_time": "2021-10-27T11:26:05.026Z"
   },
   {
    "duration": 7,
    "start_time": "2021-10-27T11:26:39.315Z"
   },
   {
    "duration": 472,
    "start_time": "2021-10-27T11:28:31.071Z"
   },
   {
    "duration": 4,
    "start_time": "2021-10-27T11:28:41.598Z"
   },
   {
    "duration": 5,
    "start_time": "2021-10-27T11:28:44.744Z"
   },
   {
    "duration": 4,
    "start_time": "2021-10-27T12:36:41.409Z"
   },
   {
    "duration": 8,
    "start_time": "2021-10-27T12:38:45.528Z"
   },
   {
    "duration": 5,
    "start_time": "2021-10-27T12:38:50.309Z"
   },
   {
    "duration": 399,
    "start_time": "2021-10-27T12:39:22.047Z"
   },
   {
    "duration": 6,
    "start_time": "2021-10-27T12:41:47.541Z"
   },
   {
    "duration": 6,
    "start_time": "2021-10-27T12:42:00.635Z"
   },
   {
    "duration": 317,
    "start_time": "2021-10-27T12:42:44.826Z"
   },
   {
    "duration": 27,
    "start_time": "2021-10-27T12:47:16.654Z"
   },
   {
    "duration": 27,
    "start_time": "2021-10-27T12:48:16.444Z"
   },
   {
    "duration": 9,
    "start_time": "2021-10-27T12:49:42.229Z"
   },
   {
    "duration": 4,
    "start_time": "2021-10-27T12:49:47.598Z"
   },
   {
    "duration": 387,
    "start_time": "2021-10-27T12:49:53.852Z"
   },
   {
    "duration": 31,
    "start_time": "2021-10-27T12:50:01.297Z"
   },
   {
    "duration": 56,
    "start_time": "2021-10-27T12:50:28.486Z"
   },
   {
    "duration": 34,
    "start_time": "2021-10-27T12:54:29.930Z"
   },
   {
    "duration": 48,
    "start_time": "2021-10-27T12:55:58.331Z"
   },
   {
    "duration": 1424,
    "start_time": "2021-10-27T16:40:30.638Z"
   },
   {
    "duration": 733,
    "start_time": "2021-10-27T16:40:35.373Z"
   },
   {
    "duration": 37,
    "start_time": "2021-10-27T16:41:06.959Z"
   },
   {
    "duration": 43,
    "start_time": "2021-10-27T16:41:37.988Z"
   },
   {
    "duration": 7,
    "start_time": "2021-10-27T16:45:15.990Z"
   },
   {
    "duration": 4,
    "start_time": "2021-10-27T16:45:23.099Z"
   },
   {
    "duration": 541,
    "start_time": "2021-10-27T16:45:27.788Z"
   },
   {
    "duration": 8,
    "start_time": "2021-10-27T16:49:31.331Z"
   },
   {
    "duration": 4,
    "start_time": "2021-10-27T16:49:37.671Z"
   },
   {
    "duration": 452,
    "start_time": "2021-10-27T16:49:51.201Z"
   },
   {
    "duration": 42,
    "start_time": "2021-10-27T16:50:29.879Z"
   },
   {
    "duration": 8,
    "start_time": "2021-10-27T16:50:59.132Z"
   },
   {
    "duration": 5,
    "start_time": "2021-10-27T16:51:02.211Z"
   },
   {
    "duration": 425,
    "start_time": "2021-10-27T16:51:05.224Z"
   },
   {
    "duration": 40,
    "start_time": "2021-10-27T16:51:10.345Z"
   },
   {
    "duration": 4,
    "start_time": "2021-10-27T16:53:46.815Z"
   },
   {
    "duration": 5,
    "start_time": "2021-10-27T16:54:01.416Z"
   },
   {
    "duration": 4,
    "start_time": "2021-10-27T17:00:32.031Z"
   },
   {
    "duration": 22,
    "start_time": "2021-10-27T17:00:35.139Z"
   },
   {
    "duration": 5,
    "start_time": "2021-10-27T18:40:36.580Z"
   },
   {
    "duration": 6,
    "start_time": "2021-10-27T18:40:38.877Z"
   },
   {
    "duration": 4718,
    "start_time": "2021-10-27T18:49:31.386Z"
   },
   {
    "duration": 6,
    "start_time": "2021-10-27T18:50:07.471Z"
   },
   {
    "duration": 4703,
    "start_time": "2021-10-27T18:50:11.089Z"
   },
   {
    "duration": 5,
    "start_time": "2021-10-27T19:13:03.696Z"
   },
   {
    "duration": 73,
    "start_time": "2021-10-27T19:15:52.280Z"
   },
   {
    "duration": 9,
    "start_time": "2021-10-27T19:16:03.655Z"
   },
   {
    "duration": 12717,
    "start_time": "2021-10-27T19:16:10.328Z"
   },
   {
    "duration": 7,
    "start_time": "2021-10-27T19:17:35.879Z"
   },
   {
    "duration": 13334,
    "start_time": "2021-10-27T19:17:39.500Z"
   },
   {
    "duration": 6,
    "start_time": "2021-10-27T19:20:12.738Z"
   },
   {
    "duration": 5051,
    "start_time": "2021-10-27T19:20:19.830Z"
   },
   {
    "duration": 6,
    "start_time": "2021-10-27T19:20:37.189Z"
   },
   {
    "duration": 12552,
    "start_time": "2021-10-27T19:20:39.093Z"
   },
   {
    "duration": 12714,
    "start_time": "2021-10-27T19:21:40.279Z"
   },
   {
    "duration": 17761,
    "start_time": "2021-10-27T19:23:25.586Z"
   },
   {
    "duration": 12614,
    "start_time": "2021-10-27T19:24:21.193Z"
   },
   {
    "duration": 6,
    "start_time": "2021-10-27T19:25:47.272Z"
   },
   {
    "duration": 13880,
    "start_time": "2021-10-27T19:25:56.230Z"
   },
   {
    "duration": 6,
    "start_time": "2021-10-27T19:26:28.474Z"
   },
   {
    "duration": 12648,
    "start_time": "2021-10-27T19:26:31.207Z"
   },
   {
    "duration": 72,
    "start_time": "2021-10-27T19:28:52.097Z"
   },
   {
    "duration": 12656,
    "start_time": "2021-10-27T19:29:02.758Z"
   },
   {
    "duration": 97,
    "start_time": "2021-10-27T21:17:02.902Z"
   },
   {
    "duration": 335,
    "start_time": "2021-10-27T21:17:12.886Z"
   },
   {
    "duration": 1408,
    "start_time": "2021-10-27T21:18:11.225Z"
   },
   {
    "duration": 1650,
    "start_time": "2021-10-27T21:19:09.392Z"
   },
   {
    "duration": 440,
    "start_time": "2021-10-27T21:19:25.684Z"
   },
   {
    "duration": 48,
    "start_time": "2021-10-27T21:19:38.011Z"
   },
   {
    "duration": 44,
    "start_time": "2021-10-27T21:19:50.819Z"
   },
   {
    "duration": 42,
    "start_time": "2021-10-27T21:22:29.950Z"
   },
   {
    "duration": 306,
    "start_time": "2021-10-27T21:22:44.715Z"
   },
   {
    "duration": 1444,
    "start_time": "2021-10-27T21:24:05.048Z"
   },
   {
    "duration": 763,
    "start_time": "2021-10-27T21:24:06.495Z"
   },
   {
    "duration": 57,
    "start_time": "2021-10-27T21:24:07.261Z"
   },
   {
    "duration": 41,
    "start_time": "2021-10-27T21:24:16.958Z"
   },
   {
    "duration": 8,
    "start_time": "2021-10-27T21:32:46.882Z"
   },
   {
    "duration": 4,
    "start_time": "2021-10-27T21:32:52.427Z"
   },
   {
    "duration": 460,
    "start_time": "2021-10-27T21:32:56.243Z"
   },
   {
    "duration": 9,
    "start_time": "2021-10-27T21:37:54.073Z"
   },
   {
    "duration": 7,
    "start_time": "2021-10-27T21:41:37.842Z"
   },
   {
    "duration": 5,
    "start_time": "2021-10-27T21:42:24.598Z"
   },
   {
    "duration": 6,
    "start_time": "2021-10-27T21:42:35.462Z"
   },
   {
    "duration": 492,
    "start_time": "2021-10-27T21:44:14.299Z"
   },
   {
    "duration": 101,
    "start_time": "2021-10-27T21:45:02.207Z"
   },
   {
    "duration": 545,
    "start_time": "2021-10-27T21:45:21.839Z"
   },
   {
    "duration": 7,
    "start_time": "2021-10-27T21:46:09.526Z"
   },
   {
    "duration": 392,
    "start_time": "2021-10-27T21:46:12.317Z"
   },
   {
    "duration": 438,
    "start_time": "2021-10-27T21:46:42.668Z"
   },
   {
    "duration": 4,
    "start_time": "2021-10-27T22:14:14.341Z"
   },
   {
    "duration": 5,
    "start_time": "2021-10-27T22:16:34.958Z"
   },
   {
    "duration": 5,
    "start_time": "2021-10-27T22:25:21.175Z"
   },
   {
    "duration": 7,
    "start_time": "2021-10-27T22:29:04.511Z"
   },
   {
    "duration": 5,
    "start_time": "2021-10-27T22:30:50.903Z"
   },
   {
    "duration": 9,
    "start_time": "2021-10-27T22:30:55.450Z"
   },
   {
    "duration": 6,
    "start_time": "2021-10-27T22:32:04.693Z"
   },
   {
    "duration": 12525,
    "start_time": "2021-10-27T22:48:47.448Z"
   },
   {
    "duration": 5,
    "start_time": "2021-10-27T22:54:07.590Z"
   },
   {
    "duration": 1370,
    "start_time": "2021-10-27T23:19:54.425Z"
   },
   {
    "duration": 762,
    "start_time": "2021-10-27T23:20:57.539Z"
   },
   {
    "duration": 43,
    "start_time": "2021-10-27T23:22:18.786Z"
   },
   {
    "duration": 43,
    "start_time": "2021-10-27T23:23:31.890Z"
   },
   {
    "duration": 8,
    "start_time": "2021-10-27T23:24:23.034Z"
   },
   {
    "duration": 7,
    "start_time": "2021-10-27T23:24:32.995Z"
   },
   {
    "duration": 466,
    "start_time": "2021-10-27T23:25:05.816Z"
   },
   {
    "duration": 4,
    "start_time": "2021-10-27T23:26:10.468Z"
   },
   {
    "duration": 4,
    "start_time": "2021-10-27T23:26:21.555Z"
   },
   {
    "duration": 5,
    "start_time": "2021-10-27T23:26:47.464Z"
   },
   {
    "duration": 6,
    "start_time": "2021-10-27T23:27:57.464Z"
   },
   {
    "duration": 12290,
    "start_time": "2021-10-27T23:28:39.894Z"
   },
   {
    "duration": 1436,
    "start_time": "2021-10-27T23:34:23.049Z"
   },
   {
    "duration": 759,
    "start_time": "2021-10-27T23:34:24.487Z"
   },
   {
    "duration": 59,
    "start_time": "2021-10-27T23:34:25.249Z"
   },
   {
    "duration": 74,
    "start_time": "2021-10-27T23:34:25.310Z"
   },
   {
    "duration": 8,
    "start_time": "2021-10-27T23:34:25.387Z"
   },
   {
    "duration": 13,
    "start_time": "2021-10-27T23:34:25.398Z"
   },
   {
    "duration": 394,
    "start_time": "2021-10-27T23:34:25.414Z"
   },
   {
    "duration": 95,
    "start_time": "2021-10-27T23:34:25.887Z"
   },
   {
    "duration": 13,
    "start_time": "2021-10-27T23:34:25.985Z"
   },
   {
    "duration": 6,
    "start_time": "2021-10-27T23:34:26.000Z"
   },
   {
    "duration": 12,
    "start_time": "2021-10-27T23:34:26.008Z"
   },
   {
    "duration": 12432,
    "start_time": "2021-10-27T23:34:26.022Z"
   },
   {
    "duration": 1306,
    "start_time": "2021-10-28T06:57:22.252Z"
   },
   {
    "duration": 5684,
    "start_time": "2021-10-28T06:57:23.561Z"
   },
   {
    "duration": 43,
    "start_time": "2021-10-28T06:57:29.258Z"
   },
   {
    "duration": 75,
    "start_time": "2021-10-28T06:57:29.304Z"
   },
   {
    "duration": 9,
    "start_time": "2021-10-28T07:01:07.617Z"
   },
   {
    "duration": 6,
    "start_time": "2021-10-28T07:01:22.707Z"
   },
   {
    "duration": 417,
    "start_time": "2021-10-28T07:01:37.062Z"
   },
   {
    "duration": 5,
    "start_time": "2021-10-28T07:12:25.521Z"
   },
   {
    "duration": 5,
    "start_time": "2021-10-28T07:12:26.940Z"
   },
   {
    "duration": 5,
    "start_time": "2021-10-28T07:13:59.024Z"
   },
   {
    "duration": 6,
    "start_time": "2021-10-28T07:14:02.094Z"
   },
   {
    "duration": 15291,
    "start_time": "2021-10-28T07:14:04.145Z"
   },
   {
    "duration": 1105,
    "start_time": "2021-10-28T08:31:03.700Z"
   },
   {
    "duration": 606,
    "start_time": "2021-10-28T08:31:04.807Z"
   },
   {
    "duration": 82,
    "start_time": "2021-10-28T08:31:05.415Z"
   },
   {
    "duration": 12,
    "start_time": "2021-10-28T08:31:42.478Z"
   },
   {
    "duration": 1064,
    "start_time": "2021-10-28T08:37:48.732Z"
   },
   {
    "duration": 558,
    "start_time": "2021-10-28T08:37:49.798Z"
   },
   {
    "duration": 48,
    "start_time": "2021-10-28T08:37:50.359Z"
   },
   {
    "duration": 12,
    "start_time": "2021-10-28T08:37:50.409Z"
   },
   {
    "duration": 65,
    "start_time": "2021-10-28T08:37:50.423Z"
   },
   {
    "duration": 6,
    "start_time": "2021-10-28T08:37:50.490Z"
   },
   {
    "duration": 23,
    "start_time": "2021-10-28T08:37:50.498Z"
   },
   {
    "duration": 471,
    "start_time": "2021-10-28T08:37:50.524Z"
   },
   {
    "duration": 80,
    "start_time": "2021-10-28T08:37:50.998Z"
   },
   {
    "duration": 98,
    "start_time": "2021-10-28T08:37:51.080Z"
   },
   {
    "duration": 12,
    "start_time": "2021-10-28T08:37:51.180Z"
   },
   {
    "duration": 1092,
    "start_time": "2021-10-28T08:38:19.112Z"
   },
   {
    "duration": 575,
    "start_time": "2021-10-28T08:38:20.205Z"
   },
   {
    "duration": 32,
    "start_time": "2021-10-28T08:38:20.782Z"
   },
   {
    "duration": 12,
    "start_time": "2021-10-28T08:38:20.816Z"
   },
   {
    "duration": 67,
    "start_time": "2021-10-28T08:38:20.830Z"
   },
   {
    "duration": 5,
    "start_time": "2021-10-28T08:38:20.899Z"
   },
   {
    "duration": 6,
    "start_time": "2021-10-28T08:38:20.906Z"
   },
   {
    "duration": 375,
    "start_time": "2021-10-28T08:38:20.915Z"
   },
   {
    "duration": 86,
    "start_time": "2021-10-28T08:38:21.292Z"
   },
   {
    "duration": 8,
    "start_time": "2021-10-28T08:38:21.381Z"
   },
   {
    "duration": 3,
    "start_time": "2021-10-28T08:38:27.289Z"
   },
   {
    "duration": 7,
    "start_time": "2021-10-28T08:38:31.427Z"
   },
   {
    "duration": 16547,
    "start_time": "2021-10-28T08:38:36.514Z"
   },
   {
    "duration": 4,
    "start_time": "2021-10-28T08:45:15.321Z"
   },
   {
    "duration": 42289,
    "start_time": "2021-10-28T08:45:20.554Z"
   },
   {
    "duration": 4,
    "start_time": "2021-10-28T08:48:27.398Z"
   },
   {
    "duration": 41356,
    "start_time": "2021-10-28T08:48:41.339Z"
   },
   {
    "duration": 3,
    "start_time": "2021-10-28T08:53:24.038Z"
   },
   {
    "duration": 9914,
    "start_time": "2021-10-28T08:53:27.868Z"
   },
   {
    "duration": 3,
    "start_time": "2021-10-28T08:53:55.238Z"
   },
   {
    "duration": 3,
    "start_time": "2021-10-28T08:54:00.946Z"
   },
   {
    "duration": 8043,
    "start_time": "2021-10-28T08:54:06.236Z"
   },
   {
    "duration": 4,
    "start_time": "2021-10-28T09:01:47.974Z"
   },
   {
    "duration": 19714,
    "start_time": "2021-10-28T09:01:52.367Z"
   },
   {
    "duration": 3,
    "start_time": "2021-10-28T09:11:58.436Z"
   },
   {
    "duration": 3,
    "start_time": "2021-10-28T09:12:00.876Z"
   },
   {
    "duration": 9625,
    "start_time": "2021-10-28T09:12:07.959Z"
   },
   {
    "duration": 4,
    "start_time": "2021-10-28T09:18:35.317Z"
   },
   {
    "duration": 19381,
    "start_time": "2021-10-28T09:18:38.179Z"
   },
   {
    "duration": 3,
    "start_time": "2021-10-28T09:21:14.386Z"
   },
   {
    "duration": 4,
    "start_time": "2021-10-28T09:21:16.076Z"
   },
   {
    "duration": 10158,
    "start_time": "2021-10-28T09:21:19.909Z"
   },
   {
    "duration": 120,
    "start_time": "2021-10-28T09:33:06.198Z"
   },
   {
    "duration": 399,
    "start_time": "2021-10-28T09:35:49.653Z"
   },
   {
    "duration": 141,
    "start_time": "2021-10-28T09:35:56.815Z"
   },
   {
    "duration": 127,
    "start_time": "2021-10-28T09:36:20.485Z"
   },
   {
    "duration": 133,
    "start_time": "2021-10-28T09:37:48.516Z"
   },
   {
    "duration": 1136,
    "start_time": "2021-10-28T09:51:18.559Z"
   },
   {
    "duration": 569,
    "start_time": "2021-10-28T09:51:19.697Z"
   },
   {
    "duration": 30,
    "start_time": "2021-10-28T09:51:20.276Z"
   },
   {
    "duration": 12,
    "start_time": "2021-10-28T09:51:20.308Z"
   },
   {
    "duration": 65,
    "start_time": "2021-10-28T09:51:20.322Z"
   },
   {
    "duration": 5,
    "start_time": "2021-10-28T09:51:20.389Z"
   },
   {
    "duration": 6,
    "start_time": "2021-10-28T09:51:20.396Z"
   },
   {
    "duration": 383,
    "start_time": "2021-10-28T09:51:20.404Z"
   },
   {
    "duration": 186,
    "start_time": "2021-10-28T09:51:20.790Z"
   },
   {
    "duration": 3,
    "start_time": "2021-10-28T09:51:20.979Z"
   },
   {
    "duration": 12,
    "start_time": "2021-10-28T09:51:20.984Z"
   },
   {
    "duration": 8,
    "start_time": "2021-10-28T09:51:20.998Z"
   },
   {
    "duration": 8,
    "start_time": "2021-10-28T09:51:21.007Z"
   },
   {
    "duration": 10907,
    "start_time": "2021-10-28T09:51:21.017Z"
   }
  ],
  "kernelspec": {
   "display_name": "Python 3",
   "language": "python",
   "name": "python3"
  },
  "language_info": {
   "codemirror_mode": {
    "name": "ipython",
    "version": 3
   },
   "file_extension": ".py",
   "mimetype": "text/x-python",
   "name": "python",
   "nbconvert_exporter": "python",
   "pygments_lexer": "ipython3",
   "version": "3.8.8"
  },
  "toc": {
   "base_numbering": 1,
   "nav_menu": {},
   "number_sections": true,
   "sideBar": true,
   "skip_h1_title": true,
   "title_cell": "Table of Contents",
   "title_sidebar": "Contents",
   "toc_cell": false,
   "toc_position": {},
   "toc_section_display": true,
   "toc_window_display": true
  }
 },
 "nbformat": 4,
 "nbformat_minor": 2
}
