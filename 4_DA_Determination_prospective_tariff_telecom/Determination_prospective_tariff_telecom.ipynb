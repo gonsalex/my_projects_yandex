{
 "cells": [
  {
   "cell_type": "markdown",
   "metadata": {},
   "source": [
    "# Определение перспективного тарифа для телеком компании\n",
    "\n",
    "Компания — федеральный оператор сотовой связи. Клиентам предлагают два тарифных плана: «Смарт» и «Ультра». Чтобы скорректировать рекламный бюджет, коммерческий департамент хочет понять, какой тариф приносит больше денег.\n",
    "\n",
    "Необходимо сделать предварительный анализ тарифов на выборке клиентов. В распоряжении данные 500 пользователей «Мегалайна»: кто они, откуда, каким тарифом пользуются, сколько звонков и сообщений каждый отправил за 2018 год. Нужно проанализировать поведение клиентов и сделать вывод — какой тариф лучше. Проверить гипотезы, что средняя выручка пользователей тарифов «Ультра» и «Смарт» различаются; средняя выручка пользователей из Москвы отличается от выручки пользователей из других регионов.\n"
   ]
  },
  {
   "cell_type": "markdown",
   "metadata": {},
   "source": [
    "## Изучение данных из файлов"
   ]
  },
  {
   "cell_type": "code",
   "execution_count": 1,
   "metadata": {},
   "outputs": [
    {
     "name": "stdout",
     "output_type": "stream",
     "text": [
      "<class 'pandas.core.frame.DataFrame'>\n",
      "RangeIndex: 202607 entries, 0 to 202606\n",
      "Data columns (total 4 columns):\n",
      "id           202607 non-null object\n",
      "call_date    202607 non-null object\n",
      "duration     202607 non-null float64\n",
      "user_id      202607 non-null int64\n",
      "dtypes: float64(1), int64(1), object(2)\n",
      "memory usage: 6.2+ MB\n"
     ]
    },
    {
     "data": {
      "text/html": [
       "<div>\n",
       "<style scoped>\n",
       "    .dataframe tbody tr th:only-of-type {\n",
       "        vertical-align: middle;\n",
       "    }\n",
       "\n",
       "    .dataframe tbody tr th {\n",
       "        vertical-align: top;\n",
       "    }\n",
       "\n",
       "    .dataframe thead th {\n",
       "        text-align: right;\n",
       "    }\n",
       "</style>\n",
       "<table border=\"1\" class=\"dataframe\">\n",
       "  <thead>\n",
       "    <tr style=\"text-align: right;\">\n",
       "      <th></th>\n",
       "      <th>id</th>\n",
       "      <th>call_date</th>\n",
       "      <th>duration</th>\n",
       "      <th>user_id</th>\n",
       "    </tr>\n",
       "  </thead>\n",
       "  <tbody>\n",
       "    <tr>\n",
       "      <td>0</td>\n",
       "      <td>1000_0</td>\n",
       "      <td>2018-07-25</td>\n",
       "      <td>0.00</td>\n",
       "      <td>1000</td>\n",
       "    </tr>\n",
       "    <tr>\n",
       "      <td>1</td>\n",
       "      <td>1000_1</td>\n",
       "      <td>2018-08-17</td>\n",
       "      <td>0.00</td>\n",
       "      <td>1000</td>\n",
       "    </tr>\n",
       "    <tr>\n",
       "      <td>2</td>\n",
       "      <td>1000_2</td>\n",
       "      <td>2018-06-11</td>\n",
       "      <td>2.85</td>\n",
       "      <td>1000</td>\n",
       "    </tr>\n",
       "    <tr>\n",
       "      <td>3</td>\n",
       "      <td>1000_3</td>\n",
       "      <td>2018-09-21</td>\n",
       "      <td>13.80</td>\n",
       "      <td>1000</td>\n",
       "    </tr>\n",
       "    <tr>\n",
       "      <td>4</td>\n",
       "      <td>1000_4</td>\n",
       "      <td>2018-12-15</td>\n",
       "      <td>5.18</td>\n",
       "      <td>1000</td>\n",
       "    </tr>\n",
       "  </tbody>\n",
       "</table>\n",
       "</div>"
      ],
      "text/plain": [
       "       id   call_date  duration  user_id\n",
       "0  1000_0  2018-07-25      0.00     1000\n",
       "1  1000_1  2018-08-17      0.00     1000\n",
       "2  1000_2  2018-06-11      2.85     1000\n",
       "3  1000_3  2018-09-21     13.80     1000\n",
       "4  1000_4  2018-12-15      5.18     1000"
      ]
     },
     "metadata": {},
     "output_type": "display_data"
    },
    {
     "name": "stdout",
     "output_type": "stream",
     "text": [
      "\n",
      "<class 'pandas.core.frame.DataFrame'>\n",
      "RangeIndex: 149396 entries, 0 to 149395\n",
      "Data columns (total 5 columns):\n",
      "Unnamed: 0      149396 non-null int64\n",
      "id              149396 non-null object\n",
      "mb_used         149396 non-null float64\n",
      "session_date    149396 non-null object\n",
      "user_id         149396 non-null int64\n",
      "dtypes: float64(1), int64(2), object(2)\n",
      "memory usage: 5.7+ MB\n"
     ]
    },
    {
     "data": {
      "text/html": [
       "<div>\n",
       "<style scoped>\n",
       "    .dataframe tbody tr th:only-of-type {\n",
       "        vertical-align: middle;\n",
       "    }\n",
       "\n",
       "    .dataframe tbody tr th {\n",
       "        vertical-align: top;\n",
       "    }\n",
       "\n",
       "    .dataframe thead th {\n",
       "        text-align: right;\n",
       "    }\n",
       "</style>\n",
       "<table border=\"1\" class=\"dataframe\">\n",
       "  <thead>\n",
       "    <tr style=\"text-align: right;\">\n",
       "      <th></th>\n",
       "      <th>Unnamed: 0</th>\n",
       "      <th>id</th>\n",
       "      <th>mb_used</th>\n",
       "      <th>session_date</th>\n",
       "      <th>user_id</th>\n",
       "    </tr>\n",
       "  </thead>\n",
       "  <tbody>\n",
       "    <tr>\n",
       "      <td>0</td>\n",
       "      <td>0</td>\n",
       "      <td>1000_0</td>\n",
       "      <td>112.95</td>\n",
       "      <td>2018-11-25</td>\n",
       "      <td>1000</td>\n",
       "    </tr>\n",
       "    <tr>\n",
       "      <td>1</td>\n",
       "      <td>1</td>\n",
       "      <td>1000_1</td>\n",
       "      <td>1052.81</td>\n",
       "      <td>2018-09-07</td>\n",
       "      <td>1000</td>\n",
       "    </tr>\n",
       "    <tr>\n",
       "      <td>2</td>\n",
       "      <td>2</td>\n",
       "      <td>1000_2</td>\n",
       "      <td>1197.26</td>\n",
       "      <td>2018-06-25</td>\n",
       "      <td>1000</td>\n",
       "    </tr>\n",
       "    <tr>\n",
       "      <td>3</td>\n",
       "      <td>3</td>\n",
       "      <td>1000_3</td>\n",
       "      <td>550.27</td>\n",
       "      <td>2018-08-22</td>\n",
       "      <td>1000</td>\n",
       "    </tr>\n",
       "    <tr>\n",
       "      <td>4</td>\n",
       "      <td>4</td>\n",
       "      <td>1000_4</td>\n",
       "      <td>302.56</td>\n",
       "      <td>2018-09-24</td>\n",
       "      <td>1000</td>\n",
       "    </tr>\n",
       "  </tbody>\n",
       "</table>\n",
       "</div>"
      ],
      "text/plain": [
       "   Unnamed: 0      id  mb_used session_date  user_id\n",
       "0           0  1000_0   112.95   2018-11-25     1000\n",
       "1           1  1000_1  1052.81   2018-09-07     1000\n",
       "2           2  1000_2  1197.26   2018-06-25     1000\n",
       "3           3  1000_3   550.27   2018-08-22     1000\n",
       "4           4  1000_4   302.56   2018-09-24     1000"
      ]
     },
     "metadata": {},
     "output_type": "display_data"
    },
    {
     "name": "stdout",
     "output_type": "stream",
     "text": [
      "\n",
      "<class 'pandas.core.frame.DataFrame'>\n",
      "RangeIndex: 123036 entries, 0 to 123035\n",
      "Data columns (total 3 columns):\n",
      "id              123036 non-null object\n",
      "message_date    123036 non-null object\n",
      "user_id         123036 non-null int64\n",
      "dtypes: int64(1), object(2)\n",
      "memory usage: 2.8+ MB\n"
     ]
    },
    {
     "data": {
      "text/html": [
       "<div>\n",
       "<style scoped>\n",
       "    .dataframe tbody tr th:only-of-type {\n",
       "        vertical-align: middle;\n",
       "    }\n",
       "\n",
       "    .dataframe tbody tr th {\n",
       "        vertical-align: top;\n",
       "    }\n",
       "\n",
       "    .dataframe thead th {\n",
       "        text-align: right;\n",
       "    }\n",
       "</style>\n",
       "<table border=\"1\" class=\"dataframe\">\n",
       "  <thead>\n",
       "    <tr style=\"text-align: right;\">\n",
       "      <th></th>\n",
       "      <th>id</th>\n",
       "      <th>message_date</th>\n",
       "      <th>user_id</th>\n",
       "    </tr>\n",
       "  </thead>\n",
       "  <tbody>\n",
       "    <tr>\n",
       "      <td>0</td>\n",
       "      <td>1000_0</td>\n",
       "      <td>2018-06-27</td>\n",
       "      <td>1000</td>\n",
       "    </tr>\n",
       "    <tr>\n",
       "      <td>1</td>\n",
       "      <td>1000_1</td>\n",
       "      <td>2018-10-08</td>\n",
       "      <td>1000</td>\n",
       "    </tr>\n",
       "    <tr>\n",
       "      <td>2</td>\n",
       "      <td>1000_2</td>\n",
       "      <td>2018-08-04</td>\n",
       "      <td>1000</td>\n",
       "    </tr>\n",
       "    <tr>\n",
       "      <td>3</td>\n",
       "      <td>1000_3</td>\n",
       "      <td>2018-06-16</td>\n",
       "      <td>1000</td>\n",
       "    </tr>\n",
       "    <tr>\n",
       "      <td>4</td>\n",
       "      <td>1000_4</td>\n",
       "      <td>2018-12-05</td>\n",
       "      <td>1000</td>\n",
       "    </tr>\n",
       "  </tbody>\n",
       "</table>\n",
       "</div>"
      ],
      "text/plain": [
       "       id message_date  user_id\n",
       "0  1000_0   2018-06-27     1000\n",
       "1  1000_1   2018-10-08     1000\n",
       "2  1000_2   2018-08-04     1000\n",
       "3  1000_3   2018-06-16     1000\n",
       "4  1000_4   2018-12-05     1000"
      ]
     },
     "metadata": {},
     "output_type": "display_data"
    },
    {
     "name": "stdout",
     "output_type": "stream",
     "text": [
      "\n",
      "<class 'pandas.core.frame.DataFrame'>\n",
      "RangeIndex: 2 entries, 0 to 1\n",
      "Data columns (total 8 columns):\n",
      "messages_included        2 non-null int64\n",
      "mb_per_month_included    2 non-null int64\n",
      "minutes_included         2 non-null int64\n",
      "rub_monthly_fee          2 non-null int64\n",
      "rub_per_gb               2 non-null int64\n",
      "rub_per_message          2 non-null int64\n",
      "rub_per_minute           2 non-null int64\n",
      "tariff_name              2 non-null object\n",
      "dtypes: int64(7), object(1)\n",
      "memory usage: 256.0+ bytes\n"
     ]
    },
    {
     "data": {
      "text/html": [
       "<div>\n",
       "<style scoped>\n",
       "    .dataframe tbody tr th:only-of-type {\n",
       "        vertical-align: middle;\n",
       "    }\n",
       "\n",
       "    .dataframe tbody tr th {\n",
       "        vertical-align: top;\n",
       "    }\n",
       "\n",
       "    .dataframe thead th {\n",
       "        text-align: right;\n",
       "    }\n",
       "</style>\n",
       "<table border=\"1\" class=\"dataframe\">\n",
       "  <thead>\n",
       "    <tr style=\"text-align: right;\">\n",
       "      <th></th>\n",
       "      <th>messages_included</th>\n",
       "      <th>mb_per_month_included</th>\n",
       "      <th>minutes_included</th>\n",
       "      <th>rub_monthly_fee</th>\n",
       "      <th>rub_per_gb</th>\n",
       "      <th>rub_per_message</th>\n",
       "      <th>rub_per_minute</th>\n",
       "      <th>tariff_name</th>\n",
       "    </tr>\n",
       "  </thead>\n",
       "  <tbody>\n",
       "    <tr>\n",
       "      <td>0</td>\n",
       "      <td>50</td>\n",
       "      <td>15360</td>\n",
       "      <td>500</td>\n",
       "      <td>550</td>\n",
       "      <td>200</td>\n",
       "      <td>3</td>\n",
       "      <td>3</td>\n",
       "      <td>smart</td>\n",
       "    </tr>\n",
       "    <tr>\n",
       "      <td>1</td>\n",
       "      <td>1000</td>\n",
       "      <td>30720</td>\n",
       "      <td>3000</td>\n",
       "      <td>1950</td>\n",
       "      <td>150</td>\n",
       "      <td>1</td>\n",
       "      <td>1</td>\n",
       "      <td>ultra</td>\n",
       "    </tr>\n",
       "  </tbody>\n",
       "</table>\n",
       "</div>"
      ],
      "text/plain": [
       "   messages_included  mb_per_month_included  minutes_included  \\\n",
       "0                 50                  15360               500   \n",
       "1               1000                  30720              3000   \n",
       "\n",
       "   rub_monthly_fee  rub_per_gb  rub_per_message  rub_per_minute tariff_name  \n",
       "0              550         200                3               3       smart  \n",
       "1             1950         150                1               1       ultra  "
      ]
     },
     "metadata": {},
     "output_type": "display_data"
    },
    {
     "name": "stdout",
     "output_type": "stream",
     "text": [
      "\n",
      "<class 'pandas.core.frame.DataFrame'>\n",
      "RangeIndex: 500 entries, 0 to 499\n",
      "Data columns (total 8 columns):\n",
      "user_id       500 non-null int64\n",
      "age           500 non-null int64\n",
      "churn_date    38 non-null object\n",
      "city          500 non-null object\n",
      "first_name    500 non-null object\n",
      "last_name     500 non-null object\n",
      "reg_date      500 non-null object\n",
      "tariff        500 non-null object\n",
      "dtypes: int64(2), object(6)\n",
      "memory usage: 31.4+ KB\n"
     ]
    },
    {
     "data": {
      "text/html": [
       "<div>\n",
       "<style scoped>\n",
       "    .dataframe tbody tr th:only-of-type {\n",
       "        vertical-align: middle;\n",
       "    }\n",
       "\n",
       "    .dataframe tbody tr th {\n",
       "        vertical-align: top;\n",
       "    }\n",
       "\n",
       "    .dataframe thead th {\n",
       "        text-align: right;\n",
       "    }\n",
       "</style>\n",
       "<table border=\"1\" class=\"dataframe\">\n",
       "  <thead>\n",
       "    <tr style=\"text-align: right;\">\n",
       "      <th></th>\n",
       "      <th>user_id</th>\n",
       "      <th>age</th>\n",
       "      <th>churn_date</th>\n",
       "      <th>city</th>\n",
       "      <th>first_name</th>\n",
       "      <th>last_name</th>\n",
       "      <th>reg_date</th>\n",
       "      <th>tariff</th>\n",
       "    </tr>\n",
       "  </thead>\n",
       "  <tbody>\n",
       "    <tr>\n",
       "      <td>0</td>\n",
       "      <td>1000</td>\n",
       "      <td>52</td>\n",
       "      <td>NaN</td>\n",
       "      <td>Краснодар</td>\n",
       "      <td>Рафаил</td>\n",
       "      <td>Верещагин</td>\n",
       "      <td>2018-05-25</td>\n",
       "      <td>ultra</td>\n",
       "    </tr>\n",
       "    <tr>\n",
       "      <td>1</td>\n",
       "      <td>1001</td>\n",
       "      <td>41</td>\n",
       "      <td>NaN</td>\n",
       "      <td>Москва</td>\n",
       "      <td>Иван</td>\n",
       "      <td>Ежов</td>\n",
       "      <td>2018-11-01</td>\n",
       "      <td>smart</td>\n",
       "    </tr>\n",
       "    <tr>\n",
       "      <td>2</td>\n",
       "      <td>1002</td>\n",
       "      <td>59</td>\n",
       "      <td>NaN</td>\n",
       "      <td>Стерлитамак</td>\n",
       "      <td>Евгений</td>\n",
       "      <td>Абрамович</td>\n",
       "      <td>2018-06-17</td>\n",
       "      <td>smart</td>\n",
       "    </tr>\n",
       "    <tr>\n",
       "      <td>3</td>\n",
       "      <td>1003</td>\n",
       "      <td>23</td>\n",
       "      <td>NaN</td>\n",
       "      <td>Москва</td>\n",
       "      <td>Белла</td>\n",
       "      <td>Белякова</td>\n",
       "      <td>2018-08-17</td>\n",
       "      <td>ultra</td>\n",
       "    </tr>\n",
       "    <tr>\n",
       "      <td>4</td>\n",
       "      <td>1004</td>\n",
       "      <td>68</td>\n",
       "      <td>NaN</td>\n",
       "      <td>Новокузнецк</td>\n",
       "      <td>Татьяна</td>\n",
       "      <td>Авдеенко</td>\n",
       "      <td>2018-05-14</td>\n",
       "      <td>ultra</td>\n",
       "    </tr>\n",
       "  </tbody>\n",
       "</table>\n",
       "</div>"
      ],
      "text/plain": [
       "   user_id  age churn_date         city first_name  last_name    reg_date  \\\n",
       "0     1000   52        NaN    Краснодар     Рафаил  Верещагин  2018-05-25   \n",
       "1     1001   41        NaN       Москва       Иван       Ежов  2018-11-01   \n",
       "2     1002   59        NaN  Стерлитамак    Евгений  Абрамович  2018-06-17   \n",
       "3     1003   23        NaN       Москва      Белла   Белякова  2018-08-17   \n",
       "4     1004   68        NaN  Новокузнецк    Татьяна   Авдеенко  2018-05-14   \n",
       "\n",
       "  tariff  \n",
       "0  ultra  \n",
       "1  smart  \n",
       "2  smart  \n",
       "3  ultra  \n",
       "4  ultra  "
      ]
     },
     "metadata": {},
     "output_type": "display_data"
    },
    {
     "name": "stdout",
     "output_type": "stream",
     "text": [
      "\n"
     ]
    }
   ],
   "source": [
    "import pandas as pd\n",
    "import numpy as np\n",
    "from scipy import stats as st\n",
    "import math\n",
    "import matplotlib.pyplot as plt\n",
    "\n",
    "data_calls = pd.read_csv('/datasets/calls.csv')\n",
    "data_internet = pd.read_csv('/datasets/internet.csv')\n",
    "data_messages = pd.read_csv('/datasets/messages.csv')\n",
    "data_tariffs = pd.read_csv('/datasets/tariffs.csv')\n",
    "data_users = pd.read_csv('/datasets/users.csv')\n",
    "\n",
    "data_list = [data_calls, data_internet, data_messages, data_tariffs, data_users]\n",
    "for data in data_list:\n",
    "    data.info()\n",
    "    display(data.head())\n",
    "    print()"
   ]
  },
  {
   "cell_type": "markdown",
   "metadata": {},
   "source": [
    "Данные представлены в 5 таблицах и содержат информацию о потреблении услуг связи 500 пользователей. Данные в таблицах имеют ключ для идентификации user_id. В некторых столбцах наблюдаются пропуски."
   ]
  },
  {
   "cell_type": "markdown",
   "metadata": {},
   "source": [
    "## Подготовка данных"
   ]
  },
  {
   "cell_type": "markdown",
   "metadata": {},
   "source": [
    "В таблице data_users в столбце churn_date много пропусков. В описании указано, что это дата прекращения пользования тарифом (если значение пропущено, то тариф ещё действовал на момент выгрузки данных). Выгрузка произведена за 2018 год, заплоним пропущенные даты последней датой периода выгрузки данных. В начале проверим выборочно предельные даты выборки в выгрузке:"
   ]
  },
  {
   "cell_type": "code",
   "execution_count": 2,
   "metadata": {},
   "outputs": [
    {
     "name": "stdout",
     "output_type": "stream",
     "text": [
      "2018-01-01\n",
      "2018-12-31\n"
     ]
    }
   ],
   "source": [
    "print(data_calls['call_date'].min())\n",
    "print(data_calls['call_date'].max())"
   ]
  },
  {
   "cell_type": "markdown",
   "metadata": {},
   "source": [
    "Даты соответствуют. Заполняем пропуски"
   ]
  },
  {
   "cell_type": "code",
   "execution_count": 3,
   "metadata": {},
   "outputs": [
    {
     "data": {
      "text/plain": [
       "0"
      ]
     },
     "execution_count": 3,
     "metadata": {},
     "output_type": "execute_result"
    }
   ],
   "source": [
    "date_for_fill = data_calls['call_date'].max()\n",
    "data_users['churn_date'] = data_users['churn_date'].fillna(date_for_fill)\n",
    "data_users['churn_date'].isna().sum()\n"
   ]
  },
  {
   "cell_type": "markdown",
   "metadata": {},
   "source": [
    "Значения столбцов с датами во всех таблицах хранятся в строковом формате, переведем их в формат datetime64."
   ]
  },
  {
   "cell_type": "code",
   "execution_count": 4,
   "metadata": {},
   "outputs": [
    {
     "name": "stdout",
     "output_type": "stream",
     "text": [
      "<class 'pandas.core.frame.DataFrame'>\n",
      "RangeIndex: 202607 entries, 0 to 202606\n",
      "Data columns (total 4 columns):\n",
      "id           202607 non-null object\n",
      "call_date    202607 non-null datetime64[ns]\n",
      "duration     202607 non-null float64\n",
      "user_id      202607 non-null int64\n",
      "dtypes: datetime64[ns](1), float64(1), int64(1), object(1)\n",
      "memory usage: 6.2+ MB\n",
      "\n",
      "<class 'pandas.core.frame.DataFrame'>\n",
      "RangeIndex: 149396 entries, 0 to 149395\n",
      "Data columns (total 5 columns):\n",
      "Unnamed: 0      149396 non-null int64\n",
      "id              149396 non-null object\n",
      "mb_used         149396 non-null float64\n",
      "session_date    149396 non-null datetime64[ns]\n",
      "user_id         149396 non-null int64\n",
      "dtypes: datetime64[ns](1), float64(1), int64(2), object(1)\n",
      "memory usage: 5.7+ MB\n",
      "\n",
      "<class 'pandas.core.frame.DataFrame'>\n",
      "RangeIndex: 123036 entries, 0 to 123035\n",
      "Data columns (total 3 columns):\n",
      "id              123036 non-null object\n",
      "message_date    123036 non-null datetime64[ns]\n",
      "user_id         123036 non-null int64\n",
      "dtypes: datetime64[ns](1), int64(1), object(1)\n",
      "memory usage: 2.8+ MB\n",
      "\n",
      "<class 'pandas.core.frame.DataFrame'>\n",
      "RangeIndex: 2 entries, 0 to 1\n",
      "Data columns (total 8 columns):\n",
      "messages_included        2 non-null int64\n",
      "mb_per_month_included    2 non-null int64\n",
      "minutes_included         2 non-null int64\n",
      "rub_monthly_fee          2 non-null int64\n",
      "rub_per_gb               2 non-null int64\n",
      "rub_per_message          2 non-null int64\n",
      "rub_per_minute           2 non-null int64\n",
      "tariff_name              2 non-null object\n",
      "dtypes: int64(7), object(1)\n",
      "memory usage: 256.0+ bytes\n",
      "\n",
      "<class 'pandas.core.frame.DataFrame'>\n",
      "RangeIndex: 500 entries, 0 to 499\n",
      "Data columns (total 8 columns):\n",
      "user_id       500 non-null int64\n",
      "age           500 non-null int64\n",
      "churn_date    500 non-null datetime64[ns]\n",
      "city          500 non-null object\n",
      "first_name    500 non-null object\n",
      "last_name     500 non-null object\n",
      "reg_date      500 non-null datetime64[ns]\n",
      "tariff        500 non-null object\n",
      "dtypes: datetime64[ns](2), int64(2), object(4)\n",
      "memory usage: 31.4+ KB\n",
      "\n"
     ]
    }
   ],
   "source": [
    "data_calls['call_date'] = pd.to_datetime(data_calls['call_date'])\n",
    "data_internet['session_date'] = pd.to_datetime(data_internet['session_date'])\n",
    "data_messages['message_date'] = pd.to_datetime(data_messages['message_date'])\n",
    "data_users['churn_date'] = pd.to_datetime(data_users['churn_date'])\n",
    "data_users['reg_date'] = pd.to_datetime(data_users['reg_date'])\n",
    "for data in data_list:\n",
    "    data.info()\n",
    "    print()"
   ]
  },
  {
   "cell_type": "markdown",
   "metadata": {},
   "source": [
    "В таблице data_internet обнаружен столбец Unnamed: 0, дублирующий столбец с индексами. Видимо он образовался в результате какой-то ошибки при выгрузке или копировании данных. Удалим его."
   ]
  },
  {
   "cell_type": "code",
   "execution_count": 5,
   "metadata": {},
   "outputs": [
    {
     "data": {
      "text/html": [
       "<div>\n",
       "<style scoped>\n",
       "    .dataframe tbody tr th:only-of-type {\n",
       "        vertical-align: middle;\n",
       "    }\n",
       "\n",
       "    .dataframe tbody tr th {\n",
       "        vertical-align: top;\n",
       "    }\n",
       "\n",
       "    .dataframe thead th {\n",
       "        text-align: right;\n",
       "    }\n",
       "</style>\n",
       "<table border=\"1\" class=\"dataframe\">\n",
       "  <thead>\n",
       "    <tr style=\"text-align: right;\">\n",
       "      <th></th>\n",
       "      <th>id</th>\n",
       "      <th>mb_used</th>\n",
       "      <th>session_date</th>\n",
       "      <th>user_id</th>\n",
       "    </tr>\n",
       "  </thead>\n",
       "  <tbody>\n",
       "    <tr>\n",
       "      <td>0</td>\n",
       "      <td>1000_0</td>\n",
       "      <td>112.95</td>\n",
       "      <td>2018-11-25</td>\n",
       "      <td>1000</td>\n",
       "    </tr>\n",
       "    <tr>\n",
       "      <td>1</td>\n",
       "      <td>1000_1</td>\n",
       "      <td>1052.81</td>\n",
       "      <td>2018-09-07</td>\n",
       "      <td>1000</td>\n",
       "    </tr>\n",
       "    <tr>\n",
       "      <td>2</td>\n",
       "      <td>1000_2</td>\n",
       "      <td>1197.26</td>\n",
       "      <td>2018-06-25</td>\n",
       "      <td>1000</td>\n",
       "    </tr>\n",
       "    <tr>\n",
       "      <td>3</td>\n",
       "      <td>1000_3</td>\n",
       "      <td>550.27</td>\n",
       "      <td>2018-08-22</td>\n",
       "      <td>1000</td>\n",
       "    </tr>\n",
       "    <tr>\n",
       "      <td>4</td>\n",
       "      <td>1000_4</td>\n",
       "      <td>302.56</td>\n",
       "      <td>2018-09-24</td>\n",
       "      <td>1000</td>\n",
       "    </tr>\n",
       "  </tbody>\n",
       "</table>\n",
       "</div>"
      ],
      "text/plain": [
       "       id  mb_used session_date  user_id\n",
       "0  1000_0   112.95   2018-11-25     1000\n",
       "1  1000_1  1052.81   2018-09-07     1000\n",
       "2  1000_2  1197.26   2018-06-25     1000\n",
       "3  1000_3   550.27   2018-08-22     1000\n",
       "4  1000_4   302.56   2018-09-24     1000"
      ]
     },
     "execution_count": 5,
     "metadata": {},
     "output_type": "execute_result"
    }
   ],
   "source": [
    "data_internet.drop('Unnamed: 0', axis=1, inplace=True)\n",
    "data_internet.head()"
   ]
  },
  {
   "cell_type": "markdown",
   "metadata": {},
   "source": [
    "Для возможности группировки потребления услуг по месяцам, добавим в таблицы столбец month с месяцем использования услуги "
   ]
  },
  {
   "cell_type": "code",
   "execution_count": 6,
   "metadata": {},
   "outputs": [
    {
     "name": "stdout",
     "output_type": "stream",
     "text": [
      "       id  call_date  duration  user_id  month\n",
      "0  1000_0 2018-07-25      0.00     1000      7\n",
      "1  1000_1 2018-08-17      0.00     1000      8\n",
      "2  1000_2 2018-06-11      2.85     1000      6\n",
      "3  1000_3 2018-09-21     13.80     1000      9\n",
      "4  1000_4 2018-12-15      5.18     1000     12\n",
      "       id  mb_used session_date  user_id  month\n",
      "0  1000_0   112.95   2018-11-25     1000     11\n",
      "1  1000_1  1052.81   2018-09-07     1000      9\n",
      "2  1000_2  1197.26   2018-06-25     1000      6\n",
      "3  1000_3   550.27   2018-08-22     1000      8\n",
      "4  1000_4   302.56   2018-09-24     1000      9\n",
      "       id message_date  user_id  month\n",
      "0  1000_0   2018-06-27     1000      6\n",
      "1  1000_1   2018-10-08     1000     10\n",
      "2  1000_2   2018-08-04     1000      8\n",
      "3  1000_3   2018-06-16     1000      6\n",
      "4  1000_4   2018-12-05     1000     12\n"
     ]
    }
   ],
   "source": [
    "data_calls['month'] = data_calls['call_date'].dt.month\n",
    "data_internet['month'] = data_internet['session_date'].dt.month\n",
    "data_messages['month'] = data_messages['message_date'].dt.month\n",
    "print(data_calls.head())\n",
    "print(data_internet.head())\n",
    "print(data_messages.head())"
   ]
  },
  {
   "cell_type": "markdown",
   "metadata": {},
   "source": [
    "Поскольку «Мегалайн» всегда округляет секунды до минут, и каждый звонок округляется отдельно, добавим в таблицу data_calls столбец duration_round со значениями столбца duration округленными в большую сторону до целого и типом int"
   ]
  },
  {
   "cell_type": "code",
   "execution_count": 7,
   "metadata": {},
   "outputs": [
    {
     "name": "stdout",
     "output_type": "stream",
     "text": [
      "<class 'pandas.core.frame.DataFrame'>\n",
      "RangeIndex: 202607 entries, 0 to 202606\n",
      "Data columns (total 6 columns):\n",
      "id                202607 non-null object\n",
      "call_date         202607 non-null datetime64[ns]\n",
      "duration          202607 non-null float64\n",
      "user_id           202607 non-null int64\n",
      "month             202607 non-null int64\n",
      "duration_round    202607 non-null int64\n",
      "dtypes: datetime64[ns](1), float64(1), int64(3), object(1)\n",
      "memory usage: 9.3+ MB\n"
     ]
    },
    {
     "data": {
      "text/html": [
       "<div>\n",
       "<style scoped>\n",
       "    .dataframe tbody tr th:only-of-type {\n",
       "        vertical-align: middle;\n",
       "    }\n",
       "\n",
       "    .dataframe tbody tr th {\n",
       "        vertical-align: top;\n",
       "    }\n",
       "\n",
       "    .dataframe thead th {\n",
       "        text-align: right;\n",
       "    }\n",
       "</style>\n",
       "<table border=\"1\" class=\"dataframe\">\n",
       "  <thead>\n",
       "    <tr style=\"text-align: right;\">\n",
       "      <th></th>\n",
       "      <th>id</th>\n",
       "      <th>call_date</th>\n",
       "      <th>duration</th>\n",
       "      <th>user_id</th>\n",
       "      <th>month</th>\n",
       "      <th>duration_round</th>\n",
       "    </tr>\n",
       "  </thead>\n",
       "  <tbody>\n",
       "    <tr>\n",
       "      <td>0</td>\n",
       "      <td>1000_0</td>\n",
       "      <td>2018-07-25</td>\n",
       "      <td>0.00</td>\n",
       "      <td>1000</td>\n",
       "      <td>7</td>\n",
       "      <td>0</td>\n",
       "    </tr>\n",
       "    <tr>\n",
       "      <td>1</td>\n",
       "      <td>1000_1</td>\n",
       "      <td>2018-08-17</td>\n",
       "      <td>0.00</td>\n",
       "      <td>1000</td>\n",
       "      <td>8</td>\n",
       "      <td>0</td>\n",
       "    </tr>\n",
       "    <tr>\n",
       "      <td>2</td>\n",
       "      <td>1000_2</td>\n",
       "      <td>2018-06-11</td>\n",
       "      <td>2.85</td>\n",
       "      <td>1000</td>\n",
       "      <td>6</td>\n",
       "      <td>3</td>\n",
       "    </tr>\n",
       "    <tr>\n",
       "      <td>3</td>\n",
       "      <td>1000_3</td>\n",
       "      <td>2018-09-21</td>\n",
       "      <td>13.80</td>\n",
       "      <td>1000</td>\n",
       "      <td>9</td>\n",
       "      <td>14</td>\n",
       "    </tr>\n",
       "    <tr>\n",
       "      <td>4</td>\n",
       "      <td>1000_4</td>\n",
       "      <td>2018-12-15</td>\n",
       "      <td>5.18</td>\n",
       "      <td>1000</td>\n",
       "      <td>12</td>\n",
       "      <td>6</td>\n",
       "    </tr>\n",
       "  </tbody>\n",
       "</table>\n",
       "</div>"
      ],
      "text/plain": [
       "       id  call_date  duration  user_id  month  duration_round\n",
       "0  1000_0 2018-07-25      0.00     1000      7               0\n",
       "1  1000_1 2018-08-17      0.00     1000      8               0\n",
       "2  1000_2 2018-06-11      2.85     1000      6               3\n",
       "3  1000_3 2018-09-21     13.80     1000      9              14\n",
       "4  1000_4 2018-12-15      5.18     1000     12               6"
      ]
     },
     "execution_count": 7,
     "metadata": {},
     "output_type": "execute_result"
    }
   ],
   "source": [
    "data_calls['duration_round'] = data_calls['duration'].apply(math.ceil)\n",
    "data_calls.info()\n",
    "data_calls.head()"
   ]
  },
  {
   "cell_type": "markdown",
   "metadata": {},
   "source": [
    "Посчитаем для каждого пользователя количество отправленных сообщений по месяцам"
   ]
  },
  {
   "cell_type": "code",
   "execution_count": 8,
   "metadata": {},
   "outputs": [
    {
     "name": "stdout",
     "output_type": "stream",
     "text": [
      "<class 'pandas.core.frame.DataFrame'>\n",
      "RangeIndex: 2717 entries, 0 to 2716\n",
      "Data columns (total 3 columns):\n",
      "user_id           2717 non-null int64\n",
      "month             2717 non-null int64\n",
      "count_messages    2717 non-null int64\n",
      "dtypes: int64(3)\n",
      "memory usage: 63.8 KB\n"
     ]
    },
    {
     "data": {
      "text/html": [
       "<div>\n",
       "<style scoped>\n",
       "    .dataframe tbody tr th:only-of-type {\n",
       "        vertical-align: middle;\n",
       "    }\n",
       "\n",
       "    .dataframe tbody tr th {\n",
       "        vertical-align: top;\n",
       "    }\n",
       "\n",
       "    .dataframe thead th {\n",
       "        text-align: right;\n",
       "    }\n",
       "</style>\n",
       "<table border=\"1\" class=\"dataframe\">\n",
       "  <thead>\n",
       "    <tr style=\"text-align: right;\">\n",
       "      <th></th>\n",
       "      <th>user_id</th>\n",
       "      <th>month</th>\n",
       "      <th>count_messages</th>\n",
       "    </tr>\n",
       "  </thead>\n",
       "  <tbody>\n",
       "    <tr>\n",
       "      <td>0</td>\n",
       "      <td>1000</td>\n",
       "      <td>5</td>\n",
       "      <td>22</td>\n",
       "    </tr>\n",
       "    <tr>\n",
       "      <td>1</td>\n",
       "      <td>1000</td>\n",
       "      <td>6</td>\n",
       "      <td>60</td>\n",
       "    </tr>\n",
       "    <tr>\n",
       "      <td>2</td>\n",
       "      <td>1000</td>\n",
       "      <td>7</td>\n",
       "      <td>75</td>\n",
       "    </tr>\n",
       "    <tr>\n",
       "      <td>3</td>\n",
       "      <td>1000</td>\n",
       "      <td>8</td>\n",
       "      <td>81</td>\n",
       "    </tr>\n",
       "    <tr>\n",
       "      <td>4</td>\n",
       "      <td>1000</td>\n",
       "      <td>9</td>\n",
       "      <td>57</td>\n",
       "    </tr>\n",
       "  </tbody>\n",
       "</table>\n",
       "</div>"
      ],
      "text/plain": [
       "   user_id  month  count_messages\n",
       "0     1000      5              22\n",
       "1     1000      6              60\n",
       "2     1000      7              75\n",
       "3     1000      8              81\n",
       "4     1000      9              57"
      ]
     },
     "execution_count": 8,
     "metadata": {},
     "output_type": "execute_result"
    }
   ],
   "source": [
    "spend_mess_month = data_messages.groupby(\n",
    "    by=['user_id', 'month']).agg(\n",
    "        count_messages=('month', 'count')).reset_index()\n",
    "spend_mess_month.info()\n",
    "spend_mess_month.head()"
   ]
  },
  {
   "cell_type": "markdown",
   "metadata": {},
   "source": [
    "Посчитаем для каждого пользователя количество звонков и израсходованных минут по месяцам"
   ]
  },
  {
   "cell_type": "code",
   "execution_count": 9,
   "metadata": {},
   "outputs": [
    {
     "name": "stdout",
     "output_type": "stream",
     "text": [
      "<class 'pandas.core.frame.DataFrame'>\n",
      "RangeIndex: 3174 entries, 0 to 3173\n",
      "Data columns (total 4 columns):\n",
      "user_id        3174 non-null int64\n",
      "month          3174 non-null int64\n",
      "count_call     3174 non-null int64\n",
      "sum_minutes    3174 non-null int64\n",
      "dtypes: int64(4)\n",
      "memory usage: 99.3 KB\n"
     ]
    },
    {
     "data": {
      "text/html": [
       "<div>\n",
       "<style scoped>\n",
       "    .dataframe tbody tr th:only-of-type {\n",
       "        vertical-align: middle;\n",
       "    }\n",
       "\n",
       "    .dataframe tbody tr th {\n",
       "        vertical-align: top;\n",
       "    }\n",
       "\n",
       "    .dataframe thead th {\n",
       "        text-align: right;\n",
       "    }\n",
       "</style>\n",
       "<table border=\"1\" class=\"dataframe\">\n",
       "  <thead>\n",
       "    <tr style=\"text-align: right;\">\n",
       "      <th></th>\n",
       "      <th>user_id</th>\n",
       "      <th>month</th>\n",
       "      <th>count_call</th>\n",
       "      <th>sum_minutes</th>\n",
       "    </tr>\n",
       "  </thead>\n",
       "  <tbody>\n",
       "    <tr>\n",
       "      <td>0</td>\n",
       "      <td>1000</td>\n",
       "      <td>5</td>\n",
       "      <td>22</td>\n",
       "      <td>159</td>\n",
       "    </tr>\n",
       "    <tr>\n",
       "      <td>1</td>\n",
       "      <td>1000</td>\n",
       "      <td>6</td>\n",
       "      <td>43</td>\n",
       "      <td>172</td>\n",
       "    </tr>\n",
       "    <tr>\n",
       "      <td>2</td>\n",
       "      <td>1000</td>\n",
       "      <td>7</td>\n",
       "      <td>47</td>\n",
       "      <td>340</td>\n",
       "    </tr>\n",
       "    <tr>\n",
       "      <td>3</td>\n",
       "      <td>1000</td>\n",
       "      <td>8</td>\n",
       "      <td>52</td>\n",
       "      <td>408</td>\n",
       "    </tr>\n",
       "    <tr>\n",
       "      <td>4</td>\n",
       "      <td>1000</td>\n",
       "      <td>9</td>\n",
       "      <td>58</td>\n",
       "      <td>466</td>\n",
       "    </tr>\n",
       "  </tbody>\n",
       "</table>\n",
       "</div>"
      ],
      "text/plain": [
       "   user_id  month  count_call  sum_minutes\n",
       "0     1000      5          22          159\n",
       "1     1000      6          43          172\n",
       "2     1000      7          47          340\n",
       "3     1000      8          52          408\n",
       "4     1000      9          58          466"
      ]
     },
     "execution_count": 9,
     "metadata": {},
     "output_type": "execute_result"
    }
   ],
   "source": [
    "spend_call_month = data_calls.groupby(\n",
    "    by=['user_id', 'month']).agg(\n",
    "        count_call=('duration_round', 'count'), sum_minutes=('duration_round', 'sum')).reset_index()\n",
    "spend_call_month.info()\n",
    "spend_call_month.head()"
   ]
  },
  {
   "cell_type": "markdown",
   "metadata": {},
   "source": [
    "Посчитаем для каждого пользователя количество израсходованного интернет-трафика по месяцам"
   ]
  },
  {
   "cell_type": "code",
   "execution_count": 10,
   "metadata": {},
   "outputs": [
    {
     "name": "stdout",
     "output_type": "stream",
     "text": [
      "<class 'pandas.core.frame.DataFrame'>\n",
      "RangeIndex: 3203 entries, 0 to 3202\n",
      "Data columns (total 3 columns):\n",
      "user_id    3203 non-null int64\n",
      "month      3203 non-null int64\n",
      "sum_mb     3203 non-null float64\n",
      "dtypes: float64(1), int64(2)\n",
      "memory usage: 75.2 KB\n"
     ]
    },
    {
     "data": {
      "text/html": [
       "<div>\n",
       "<style scoped>\n",
       "    .dataframe tbody tr th:only-of-type {\n",
       "        vertical-align: middle;\n",
       "    }\n",
       "\n",
       "    .dataframe tbody tr th {\n",
       "        vertical-align: top;\n",
       "    }\n",
       "\n",
       "    .dataframe thead th {\n",
       "        text-align: right;\n",
       "    }\n",
       "</style>\n",
       "<table border=\"1\" class=\"dataframe\">\n",
       "  <thead>\n",
       "    <tr style=\"text-align: right;\">\n",
       "      <th></th>\n",
       "      <th>user_id</th>\n",
       "      <th>month</th>\n",
       "      <th>sum_mb</th>\n",
       "    </tr>\n",
       "  </thead>\n",
       "  <tbody>\n",
       "    <tr>\n",
       "      <td>0</td>\n",
       "      <td>1000</td>\n",
       "      <td>5</td>\n",
       "      <td>2253.49</td>\n",
       "    </tr>\n",
       "    <tr>\n",
       "      <td>1</td>\n",
       "      <td>1000</td>\n",
       "      <td>6</td>\n",
       "      <td>23233.77</td>\n",
       "    </tr>\n",
       "    <tr>\n",
       "      <td>2</td>\n",
       "      <td>1000</td>\n",
       "      <td>7</td>\n",
       "      <td>14003.64</td>\n",
       "    </tr>\n",
       "    <tr>\n",
       "      <td>3</td>\n",
       "      <td>1000</td>\n",
       "      <td>8</td>\n",
       "      <td>14055.93</td>\n",
       "    </tr>\n",
       "    <tr>\n",
       "      <td>4</td>\n",
       "      <td>1000</td>\n",
       "      <td>9</td>\n",
       "      <td>14568.91</td>\n",
       "    </tr>\n",
       "  </tbody>\n",
       "</table>\n",
       "</div>"
      ],
      "text/plain": [
       "   user_id  month    sum_mb\n",
       "0     1000      5   2253.49\n",
       "1     1000      6  23233.77\n",
       "2     1000      7  14003.64\n",
       "3     1000      8  14055.93\n",
       "4     1000      9  14568.91"
      ]
     },
     "execution_count": 10,
     "metadata": {},
     "output_type": "execute_result"
    }
   ],
   "source": [
    "spend_internet_month = data_internet.groupby(\n",
    "    by=['user_id', 'month']).agg(\n",
    "        sum_mb=('mb_used', 'sum')).reset_index()\n",
    "spend_internet_month.info()\n",
    "spend_internet_month.head()"
   ]
  },
  {
   "cell_type": "markdown",
   "metadata": {},
   "source": [
    "«Мегалайн» округляет мегабайты до гигабайт, отдельные сессии не считаются, общая сумма за месяц округляется в бо́льшую сторону. Добавим в таблицу spend_internet_month столбец с округленным трафиком."
   ]
  },
  {
   "cell_type": "code",
   "execution_count": 11,
   "metadata": {},
   "outputs": [
    {
     "name": "stdout",
     "output_type": "stream",
     "text": [
      "<class 'pandas.core.frame.DataFrame'>\n",
      "RangeIndex: 3203 entries, 0 to 3202\n",
      "Data columns (total 4 columns):\n",
      "user_id          3203 non-null int64\n",
      "month            3203 non-null int64\n",
      "sum_mb           3203 non-null float64\n",
      "traffic_round    3203 non-null int64\n",
      "dtypes: float64(1), int64(3)\n",
      "memory usage: 100.2 KB\n"
     ]
    },
    {
     "data": {
      "text/html": [
       "<div>\n",
       "<style scoped>\n",
       "    .dataframe tbody tr th:only-of-type {\n",
       "        vertical-align: middle;\n",
       "    }\n",
       "\n",
       "    .dataframe tbody tr th {\n",
       "        vertical-align: top;\n",
       "    }\n",
       "\n",
       "    .dataframe thead th {\n",
       "        text-align: right;\n",
       "    }\n",
       "</style>\n",
       "<table border=\"1\" class=\"dataframe\">\n",
       "  <thead>\n",
       "    <tr style=\"text-align: right;\">\n",
       "      <th></th>\n",
       "      <th>user_id</th>\n",
       "      <th>month</th>\n",
       "      <th>sum_mb</th>\n",
       "      <th>traffic_round</th>\n",
       "    </tr>\n",
       "  </thead>\n",
       "  <tbody>\n",
       "    <tr>\n",
       "      <td>0</td>\n",
       "      <td>1000</td>\n",
       "      <td>5</td>\n",
       "      <td>2253.49</td>\n",
       "      <td>3</td>\n",
       "    </tr>\n",
       "    <tr>\n",
       "      <td>1</td>\n",
       "      <td>1000</td>\n",
       "      <td>6</td>\n",
       "      <td>23233.77</td>\n",
       "      <td>23</td>\n",
       "    </tr>\n",
       "    <tr>\n",
       "      <td>2</td>\n",
       "      <td>1000</td>\n",
       "      <td>7</td>\n",
       "      <td>14003.64</td>\n",
       "      <td>14</td>\n",
       "    </tr>\n",
       "    <tr>\n",
       "      <td>3</td>\n",
       "      <td>1000</td>\n",
       "      <td>8</td>\n",
       "      <td>14055.93</td>\n",
       "      <td>14</td>\n",
       "    </tr>\n",
       "    <tr>\n",
       "      <td>4</td>\n",
       "      <td>1000</td>\n",
       "      <td>9</td>\n",
       "      <td>14568.91</td>\n",
       "      <td>15</td>\n",
       "    </tr>\n",
       "  </tbody>\n",
       "</table>\n",
       "</div>"
      ],
      "text/plain": [
       "   user_id  month    sum_mb  traffic_round\n",
       "0     1000      5   2253.49              3\n",
       "1     1000      6  23233.77             23\n",
       "2     1000      7  14003.64             14\n",
       "3     1000      8  14055.93             14\n",
       "4     1000      9  14568.91             15"
      ]
     },
     "execution_count": 11,
     "metadata": {},
     "output_type": "execute_result"
    }
   ],
   "source": [
    "spend_internet_month['traffic_round'] = (spend_internet_month['sum_mb'] / 1024).apply(math.ceil)\n",
    "spend_internet_month.info()\n",
    "spend_internet_month.head()"
   ]
  },
  {
   "cell_type": "markdown",
   "metadata": {},
   "source": [
    "Для проведения анализа создадим сводную таблицу merge_data с интересующими данными. Объединим таблицы со звонками и сообщениями"
   ]
  },
  {
   "cell_type": "code",
   "execution_count": 12,
   "metadata": {},
   "outputs": [
    {
     "name": "stdout",
     "output_type": "stream",
     "text": [
      "<class 'pandas.core.frame.DataFrame'>\n",
      "Int64Index: 3213 entries, 0 to 3212\n",
      "Data columns (total 5 columns):\n",
      "user_id           3213 non-null int64\n",
      "month             3213 non-null int64\n",
      "count_call        3174 non-null float64\n",
      "sum_minutes       3174 non-null float64\n",
      "count_messages    2717 non-null float64\n",
      "dtypes: float64(3), int64(2)\n",
      "memory usage: 150.6 KB\n"
     ]
    },
    {
     "data": {
      "text/html": [
       "<div>\n",
       "<style scoped>\n",
       "    .dataframe tbody tr th:only-of-type {\n",
       "        vertical-align: middle;\n",
       "    }\n",
       "\n",
       "    .dataframe tbody tr th {\n",
       "        vertical-align: top;\n",
       "    }\n",
       "\n",
       "    .dataframe thead th {\n",
       "        text-align: right;\n",
       "    }\n",
       "</style>\n",
       "<table border=\"1\" class=\"dataframe\">\n",
       "  <thead>\n",
       "    <tr style=\"text-align: right;\">\n",
       "      <th></th>\n",
       "      <th>user_id</th>\n",
       "      <th>month</th>\n",
       "      <th>count_call</th>\n",
       "      <th>sum_minutes</th>\n",
       "      <th>count_messages</th>\n",
       "    </tr>\n",
       "  </thead>\n",
       "  <tbody>\n",
       "    <tr>\n",
       "      <td>0</td>\n",
       "      <td>1000</td>\n",
       "      <td>5</td>\n",
       "      <td>22.0</td>\n",
       "      <td>159.0</td>\n",
       "      <td>22.0</td>\n",
       "    </tr>\n",
       "    <tr>\n",
       "      <td>1</td>\n",
       "      <td>1000</td>\n",
       "      <td>6</td>\n",
       "      <td>43.0</td>\n",
       "      <td>172.0</td>\n",
       "      <td>60.0</td>\n",
       "    </tr>\n",
       "    <tr>\n",
       "      <td>2</td>\n",
       "      <td>1000</td>\n",
       "      <td>7</td>\n",
       "      <td>47.0</td>\n",
       "      <td>340.0</td>\n",
       "      <td>75.0</td>\n",
       "    </tr>\n",
       "    <tr>\n",
       "      <td>3</td>\n",
       "      <td>1000</td>\n",
       "      <td>8</td>\n",
       "      <td>52.0</td>\n",
       "      <td>408.0</td>\n",
       "      <td>81.0</td>\n",
       "    </tr>\n",
       "    <tr>\n",
       "      <td>4</td>\n",
       "      <td>1000</td>\n",
       "      <td>9</td>\n",
       "      <td>58.0</td>\n",
       "      <td>466.0</td>\n",
       "      <td>57.0</td>\n",
       "    </tr>\n",
       "  </tbody>\n",
       "</table>\n",
       "</div>"
      ],
      "text/plain": [
       "   user_id  month  count_call  sum_minutes  count_messages\n",
       "0     1000      5        22.0        159.0            22.0\n",
       "1     1000      6        43.0        172.0            60.0\n",
       "2     1000      7        47.0        340.0            75.0\n",
       "3     1000      8        52.0        408.0            81.0\n",
       "4     1000      9        58.0        466.0            57.0"
      ]
     },
     "execution_count": 12,
     "metadata": {},
     "output_type": "execute_result"
    }
   ],
   "source": [
    "merge_data = spend_call_month.merge(spend_mess_month, on=['user_id', 'month'], how='outer')\n",
    "merge_data.info()\n",
    "merge_data.head()"
   ]
  },
  {
   "cell_type": "markdown",
   "metadata": {},
   "source": [
    "Добавим данные по использованию интернет"
   ]
  },
  {
   "cell_type": "code",
   "execution_count": 13,
   "metadata": {},
   "outputs": [
    {
     "name": "stdout",
     "output_type": "stream",
     "text": [
      "<class 'pandas.core.frame.DataFrame'>\n",
      "Int64Index: 3214 entries, 0 to 3213\n",
      "Data columns (total 7 columns):\n",
      "user_id           3214 non-null int64\n",
      "month             3214 non-null int64\n",
      "count_call        3174 non-null float64\n",
      "sum_minutes       3174 non-null float64\n",
      "count_messages    2717 non-null float64\n",
      "sum_mb            3203 non-null float64\n",
      "traffic_round     3203 non-null float64\n",
      "dtypes: float64(5), int64(2)\n",
      "memory usage: 200.9 KB\n"
     ]
    },
    {
     "data": {
      "text/html": [
       "<div>\n",
       "<style scoped>\n",
       "    .dataframe tbody tr th:only-of-type {\n",
       "        vertical-align: middle;\n",
       "    }\n",
       "\n",
       "    .dataframe tbody tr th {\n",
       "        vertical-align: top;\n",
       "    }\n",
       "\n",
       "    .dataframe thead th {\n",
       "        text-align: right;\n",
       "    }\n",
       "</style>\n",
       "<table border=\"1\" class=\"dataframe\">\n",
       "  <thead>\n",
       "    <tr style=\"text-align: right;\">\n",
       "      <th></th>\n",
       "      <th>user_id</th>\n",
       "      <th>month</th>\n",
       "      <th>count_call</th>\n",
       "      <th>sum_minutes</th>\n",
       "      <th>count_messages</th>\n",
       "      <th>sum_mb</th>\n",
       "      <th>traffic_round</th>\n",
       "    </tr>\n",
       "  </thead>\n",
       "  <tbody>\n",
       "    <tr>\n",
       "      <td>0</td>\n",
       "      <td>1000</td>\n",
       "      <td>5</td>\n",
       "      <td>22.0</td>\n",
       "      <td>159.0</td>\n",
       "      <td>22.0</td>\n",
       "      <td>2253.49</td>\n",
       "      <td>3.0</td>\n",
       "    </tr>\n",
       "    <tr>\n",
       "      <td>1</td>\n",
       "      <td>1000</td>\n",
       "      <td>6</td>\n",
       "      <td>43.0</td>\n",
       "      <td>172.0</td>\n",
       "      <td>60.0</td>\n",
       "      <td>23233.77</td>\n",
       "      <td>23.0</td>\n",
       "    </tr>\n",
       "    <tr>\n",
       "      <td>2</td>\n",
       "      <td>1000</td>\n",
       "      <td>7</td>\n",
       "      <td>47.0</td>\n",
       "      <td>340.0</td>\n",
       "      <td>75.0</td>\n",
       "      <td>14003.64</td>\n",
       "      <td>14.0</td>\n",
       "    </tr>\n",
       "    <tr>\n",
       "      <td>3</td>\n",
       "      <td>1000</td>\n",
       "      <td>8</td>\n",
       "      <td>52.0</td>\n",
       "      <td>408.0</td>\n",
       "      <td>81.0</td>\n",
       "      <td>14055.93</td>\n",
       "      <td>14.0</td>\n",
       "    </tr>\n",
       "    <tr>\n",
       "      <td>4</td>\n",
       "      <td>1000</td>\n",
       "      <td>9</td>\n",
       "      <td>58.0</td>\n",
       "      <td>466.0</td>\n",
       "      <td>57.0</td>\n",
       "      <td>14568.91</td>\n",
       "      <td>15.0</td>\n",
       "    </tr>\n",
       "  </tbody>\n",
       "</table>\n",
       "</div>"
      ],
      "text/plain": [
       "   user_id  month  count_call  sum_minutes  count_messages    sum_mb  \\\n",
       "0     1000      5        22.0        159.0            22.0   2253.49   \n",
       "1     1000      6        43.0        172.0            60.0  23233.77   \n",
       "2     1000      7        47.0        340.0            75.0  14003.64   \n",
       "3     1000      8        52.0        408.0            81.0  14055.93   \n",
       "4     1000      9        58.0        466.0            57.0  14568.91   \n",
       "\n",
       "   traffic_round  \n",
       "0            3.0  \n",
       "1           23.0  \n",
       "2           14.0  \n",
       "3           14.0  \n",
       "4           15.0  "
      ]
     },
     "execution_count": 13,
     "metadata": {},
     "output_type": "execute_result"
    }
   ],
   "source": [
    "merge_data = merge_data.merge(spend_internet_month, on=['user_id', 'month'], how='outer')\n",
    "merge_data.info()\n",
    "merge_data.head()"
   ]
  },
  {
   "cell_type": "markdown",
   "metadata": {},
   "source": [
    "Добавляем данные с информацией по пользователям"
   ]
  },
  {
   "cell_type": "code",
   "execution_count": 14,
   "metadata": {},
   "outputs": [
    {
     "name": "stdout",
     "output_type": "stream",
     "text": [
      "<class 'pandas.core.frame.DataFrame'>\n",
      "Int64Index: 3216 entries, 0 to 3215\n",
      "Data columns (total 9 columns):\n",
      "user_id           3216 non-null int64\n",
      "city              3216 non-null object\n",
      "tariff            3216 non-null object\n",
      "month             3214 non-null float64\n",
      "count_call        3174 non-null float64\n",
      "sum_minutes       3174 non-null float64\n",
      "count_messages    2717 non-null float64\n",
      "sum_mb            3203 non-null float64\n",
      "traffic_round     3203 non-null float64\n",
      "dtypes: float64(6), int64(1), object(2)\n",
      "memory usage: 251.2+ KB\n"
     ]
    },
    {
     "data": {
      "text/html": [
       "<div>\n",
       "<style scoped>\n",
       "    .dataframe tbody tr th:only-of-type {\n",
       "        vertical-align: middle;\n",
       "    }\n",
       "\n",
       "    .dataframe tbody tr th {\n",
       "        vertical-align: top;\n",
       "    }\n",
       "\n",
       "    .dataframe thead th {\n",
       "        text-align: right;\n",
       "    }\n",
       "</style>\n",
       "<table border=\"1\" class=\"dataframe\">\n",
       "  <thead>\n",
       "    <tr style=\"text-align: right;\">\n",
       "      <th></th>\n",
       "      <th>user_id</th>\n",
       "      <th>city</th>\n",
       "      <th>tariff</th>\n",
       "      <th>month</th>\n",
       "      <th>count_call</th>\n",
       "      <th>sum_minutes</th>\n",
       "      <th>count_messages</th>\n",
       "      <th>sum_mb</th>\n",
       "      <th>traffic_round</th>\n",
       "    </tr>\n",
       "  </thead>\n",
       "  <tbody>\n",
       "    <tr>\n",
       "      <td>0</td>\n",
       "      <td>1000</td>\n",
       "      <td>Краснодар</td>\n",
       "      <td>ultra</td>\n",
       "      <td>5.0</td>\n",
       "      <td>22.0</td>\n",
       "      <td>159.0</td>\n",
       "      <td>22.0</td>\n",
       "      <td>2253.49</td>\n",
       "      <td>3.0</td>\n",
       "    </tr>\n",
       "    <tr>\n",
       "      <td>1</td>\n",
       "      <td>1000</td>\n",
       "      <td>Краснодар</td>\n",
       "      <td>ultra</td>\n",
       "      <td>6.0</td>\n",
       "      <td>43.0</td>\n",
       "      <td>172.0</td>\n",
       "      <td>60.0</td>\n",
       "      <td>23233.77</td>\n",
       "      <td>23.0</td>\n",
       "    </tr>\n",
       "    <tr>\n",
       "      <td>2</td>\n",
       "      <td>1000</td>\n",
       "      <td>Краснодар</td>\n",
       "      <td>ultra</td>\n",
       "      <td>7.0</td>\n",
       "      <td>47.0</td>\n",
       "      <td>340.0</td>\n",
       "      <td>75.0</td>\n",
       "      <td>14003.64</td>\n",
       "      <td>14.0</td>\n",
       "    </tr>\n",
       "    <tr>\n",
       "      <td>3</td>\n",
       "      <td>1000</td>\n",
       "      <td>Краснодар</td>\n",
       "      <td>ultra</td>\n",
       "      <td>8.0</td>\n",
       "      <td>52.0</td>\n",
       "      <td>408.0</td>\n",
       "      <td>81.0</td>\n",
       "      <td>14055.93</td>\n",
       "      <td>14.0</td>\n",
       "    </tr>\n",
       "    <tr>\n",
       "      <td>4</td>\n",
       "      <td>1000</td>\n",
       "      <td>Краснодар</td>\n",
       "      <td>ultra</td>\n",
       "      <td>9.0</td>\n",
       "      <td>58.0</td>\n",
       "      <td>466.0</td>\n",
       "      <td>57.0</td>\n",
       "      <td>14568.91</td>\n",
       "      <td>15.0</td>\n",
       "    </tr>\n",
       "  </tbody>\n",
       "</table>\n",
       "</div>"
      ],
      "text/plain": [
       "   user_id       city tariff  month  count_call  sum_minutes  count_messages  \\\n",
       "0     1000  Краснодар  ultra    5.0        22.0        159.0            22.0   \n",
       "1     1000  Краснодар  ultra    6.0        43.0        172.0            60.0   \n",
       "2     1000  Краснодар  ultra    7.0        47.0        340.0            75.0   \n",
       "3     1000  Краснодар  ultra    8.0        52.0        408.0            81.0   \n",
       "4     1000  Краснодар  ultra    9.0        58.0        466.0            57.0   \n",
       "\n",
       "     sum_mb  traffic_round  \n",
       "0   2253.49            3.0  \n",
       "1  23233.77           23.0  \n",
       "2  14003.64           14.0  \n",
       "3  14055.93           14.0  \n",
       "4  14568.91           15.0  "
      ]
     },
     "execution_count": 14,
     "metadata": {},
     "output_type": "execute_result"
    }
   ],
   "source": [
    "#merge_data = data_users.merge(merge_data, on='user_id', how='outer')\n",
    "merge_data = data_users[['user_id','city','tariff']].merge(merge_data, on='user_id', how='outer')\n",
    "merge_data.info()\n",
    "merge_data.head()"
   ]
  },
  {
   "cell_type": "markdown",
   "metadata": {},
   "source": [
    "Добавим в сводную таблицу данные по тарифным планам.Предварительно переименуем столбец tariff_name на tariff в таблице data_tariffs, для удобства объединения таблиц"
   ]
  },
  {
   "cell_type": "code",
   "execution_count": 15,
   "metadata": {},
   "outputs": [
    {
     "name": "stdout",
     "output_type": "stream",
     "text": [
      "<class 'pandas.core.frame.DataFrame'>\n",
      "Int64Index: 3216 entries, 0 to 3215\n",
      "Data columns (total 16 columns):\n",
      "user_id                  3216 non-null int64\n",
      "city                     3216 non-null object\n",
      "tariff                   3216 non-null object\n",
      "month                    3214 non-null float64\n",
      "count_call               3174 non-null float64\n",
      "sum_minutes              3174 non-null float64\n",
      "count_messages           2717 non-null float64\n",
      "sum_mb                   3203 non-null float64\n",
      "traffic_round            3203 non-null float64\n",
      "messages_included        3216 non-null int64\n",
      "mb_per_month_included    3216 non-null int64\n",
      "minutes_included         3216 non-null int64\n",
      "rub_monthly_fee          3216 non-null int64\n",
      "rub_per_gb               3216 non-null int64\n",
      "rub_per_message          3216 non-null int64\n",
      "rub_per_minute           3216 non-null int64\n",
      "dtypes: float64(6), int64(8), object(2)\n",
      "memory usage: 427.1+ KB\n"
     ]
    },
    {
     "data": {
      "text/html": [
       "<div>\n",
       "<style scoped>\n",
       "    .dataframe tbody tr th:only-of-type {\n",
       "        vertical-align: middle;\n",
       "    }\n",
       "\n",
       "    .dataframe tbody tr th {\n",
       "        vertical-align: top;\n",
       "    }\n",
       "\n",
       "    .dataframe thead th {\n",
       "        text-align: right;\n",
       "    }\n",
       "</style>\n",
       "<table border=\"1\" class=\"dataframe\">\n",
       "  <thead>\n",
       "    <tr style=\"text-align: right;\">\n",
       "      <th></th>\n",
       "      <th>user_id</th>\n",
       "      <th>city</th>\n",
       "      <th>tariff</th>\n",
       "      <th>month</th>\n",
       "      <th>count_call</th>\n",
       "      <th>sum_minutes</th>\n",
       "      <th>count_messages</th>\n",
       "      <th>sum_mb</th>\n",
       "      <th>traffic_round</th>\n",
       "      <th>messages_included</th>\n",
       "      <th>mb_per_month_included</th>\n",
       "      <th>minutes_included</th>\n",
       "      <th>rub_monthly_fee</th>\n",
       "      <th>rub_per_gb</th>\n",
       "      <th>rub_per_message</th>\n",
       "      <th>rub_per_minute</th>\n",
       "    </tr>\n",
       "  </thead>\n",
       "  <tbody>\n",
       "    <tr>\n",
       "      <td>0</td>\n",
       "      <td>1000</td>\n",
       "      <td>Краснодар</td>\n",
       "      <td>ultra</td>\n",
       "      <td>5.0</td>\n",
       "      <td>22.0</td>\n",
       "      <td>159.0</td>\n",
       "      <td>22.0</td>\n",
       "      <td>2253.49</td>\n",
       "      <td>3.0</td>\n",
       "      <td>1000</td>\n",
       "      <td>30720</td>\n",
       "      <td>3000</td>\n",
       "      <td>1950</td>\n",
       "      <td>150</td>\n",
       "      <td>1</td>\n",
       "      <td>1</td>\n",
       "    </tr>\n",
       "    <tr>\n",
       "      <td>1</td>\n",
       "      <td>1000</td>\n",
       "      <td>Краснодар</td>\n",
       "      <td>ultra</td>\n",
       "      <td>6.0</td>\n",
       "      <td>43.0</td>\n",
       "      <td>172.0</td>\n",
       "      <td>60.0</td>\n",
       "      <td>23233.77</td>\n",
       "      <td>23.0</td>\n",
       "      <td>1000</td>\n",
       "      <td>30720</td>\n",
       "      <td>3000</td>\n",
       "      <td>1950</td>\n",
       "      <td>150</td>\n",
       "      <td>1</td>\n",
       "      <td>1</td>\n",
       "    </tr>\n",
       "    <tr>\n",
       "      <td>2</td>\n",
       "      <td>1000</td>\n",
       "      <td>Краснодар</td>\n",
       "      <td>ultra</td>\n",
       "      <td>7.0</td>\n",
       "      <td>47.0</td>\n",
       "      <td>340.0</td>\n",
       "      <td>75.0</td>\n",
       "      <td>14003.64</td>\n",
       "      <td>14.0</td>\n",
       "      <td>1000</td>\n",
       "      <td>30720</td>\n",
       "      <td>3000</td>\n",
       "      <td>1950</td>\n",
       "      <td>150</td>\n",
       "      <td>1</td>\n",
       "      <td>1</td>\n",
       "    </tr>\n",
       "    <tr>\n",
       "      <td>3</td>\n",
       "      <td>1000</td>\n",
       "      <td>Краснодар</td>\n",
       "      <td>ultra</td>\n",
       "      <td>8.0</td>\n",
       "      <td>52.0</td>\n",
       "      <td>408.0</td>\n",
       "      <td>81.0</td>\n",
       "      <td>14055.93</td>\n",
       "      <td>14.0</td>\n",
       "      <td>1000</td>\n",
       "      <td>30720</td>\n",
       "      <td>3000</td>\n",
       "      <td>1950</td>\n",
       "      <td>150</td>\n",
       "      <td>1</td>\n",
       "      <td>1</td>\n",
       "    </tr>\n",
       "    <tr>\n",
       "      <td>4</td>\n",
       "      <td>1000</td>\n",
       "      <td>Краснодар</td>\n",
       "      <td>ultra</td>\n",
       "      <td>9.0</td>\n",
       "      <td>58.0</td>\n",
       "      <td>466.0</td>\n",
       "      <td>57.0</td>\n",
       "      <td>14568.91</td>\n",
       "      <td>15.0</td>\n",
       "      <td>1000</td>\n",
       "      <td>30720</td>\n",
       "      <td>3000</td>\n",
       "      <td>1950</td>\n",
       "      <td>150</td>\n",
       "      <td>1</td>\n",
       "      <td>1</td>\n",
       "    </tr>\n",
       "  </tbody>\n",
       "</table>\n",
       "</div>"
      ],
      "text/plain": [
       "   user_id       city tariff  month  count_call  sum_minutes  count_messages  \\\n",
       "0     1000  Краснодар  ultra    5.0        22.0        159.0            22.0   \n",
       "1     1000  Краснодар  ultra    6.0        43.0        172.0            60.0   \n",
       "2     1000  Краснодар  ultra    7.0        47.0        340.0            75.0   \n",
       "3     1000  Краснодар  ultra    8.0        52.0        408.0            81.0   \n",
       "4     1000  Краснодар  ultra    9.0        58.0        466.0            57.0   \n",
       "\n",
       "     sum_mb  traffic_round  messages_included  mb_per_month_included  \\\n",
       "0   2253.49            3.0               1000                  30720   \n",
       "1  23233.77           23.0               1000                  30720   \n",
       "2  14003.64           14.0               1000                  30720   \n",
       "3  14055.93           14.0               1000                  30720   \n",
       "4  14568.91           15.0               1000                  30720   \n",
       "\n",
       "   minutes_included  rub_monthly_fee  rub_per_gb  rub_per_message  \\\n",
       "0              3000             1950         150                1   \n",
       "1              3000             1950         150                1   \n",
       "2              3000             1950         150                1   \n",
       "3              3000             1950         150                1   \n",
       "4              3000             1950         150                1   \n",
       "\n",
       "   rub_per_minute  \n",
       "0               1  \n",
       "1               1  \n",
       "2               1  \n",
       "3               1  \n",
       "4               1  "
      ]
     },
     "execution_count": 15,
     "metadata": {},
     "output_type": "execute_result"
    }
   ],
   "source": [
    "data_tariffs.rename(columns={'tariff_name' : 'tariff'}, inplace=True)\n",
    "merge_data = merge_data.merge(data_tariffs, on='tariff', how='outer')\n",
    "merge_data.info()\n",
    "merge_data.head()"
   ]
  },
  {
   "cell_type": "code",
   "execution_count": 16,
   "metadata": {},
   "outputs": [
    {
     "data": {
      "text/html": [
       "<div>\n",
       "<style scoped>\n",
       "    .dataframe tbody tr th:only-of-type {\n",
       "        vertical-align: middle;\n",
       "    }\n",
       "\n",
       "    .dataframe tbody tr th {\n",
       "        vertical-align: top;\n",
       "    }\n",
       "\n",
       "    .dataframe thead th {\n",
       "        text-align: right;\n",
       "    }\n",
       "</style>\n",
       "<table border=\"1\" class=\"dataframe\">\n",
       "  <thead>\n",
       "    <tr style=\"text-align: right;\">\n",
       "      <th></th>\n",
       "      <th>user_id</th>\n",
       "      <th>city</th>\n",
       "      <th>tariff</th>\n",
       "      <th>month</th>\n",
       "      <th>count_call</th>\n",
       "      <th>sum_minutes</th>\n",
       "      <th>count_messages</th>\n",
       "      <th>sum_mb</th>\n",
       "      <th>traffic_round</th>\n",
       "      <th>messages_included</th>\n",
       "      <th>mb_per_month_included</th>\n",
       "      <th>minutes_included</th>\n",
       "      <th>rub_monthly_fee</th>\n",
       "      <th>rub_per_gb</th>\n",
       "      <th>rub_per_message</th>\n",
       "      <th>rub_per_minute</th>\n",
       "    </tr>\n",
       "  </thead>\n",
       "  <tbody>\n",
       "    <tr>\n",
       "      <td>3211</td>\n",
       "      <td>1498</td>\n",
       "      <td>Владикавказ</td>\n",
       "      <td>smart</td>\n",
       "      <td>10.0</td>\n",
       "      <td>41.0</td>\n",
       "      <td>247.0</td>\n",
       "      <td>42.0</td>\n",
       "      <td>20579.36</td>\n",
       "      <td>21.0</td>\n",
       "      <td>50</td>\n",
       "      <td>15360</td>\n",
       "      <td>500</td>\n",
       "      <td>550</td>\n",
       "      <td>200</td>\n",
       "      <td>3</td>\n",
       "      <td>3</td>\n",
       "    </tr>\n",
       "    <tr>\n",
       "      <td>3212</td>\n",
       "      <td>1499</td>\n",
       "      <td>Пермь</td>\n",
       "      <td>smart</td>\n",
       "      <td>9.0</td>\n",
       "      <td>9.0</td>\n",
       "      <td>70.0</td>\n",
       "      <td>11.0</td>\n",
       "      <td>1845.75</td>\n",
       "      <td>2.0</td>\n",
       "      <td>50</td>\n",
       "      <td>15360</td>\n",
       "      <td>500</td>\n",
       "      <td>550</td>\n",
       "      <td>200</td>\n",
       "      <td>3</td>\n",
       "      <td>3</td>\n",
       "    </tr>\n",
       "    <tr>\n",
       "      <td>3213</td>\n",
       "      <td>1499</td>\n",
       "      <td>Пермь</td>\n",
       "      <td>smart</td>\n",
       "      <td>10.0</td>\n",
       "      <td>68.0</td>\n",
       "      <td>449.0</td>\n",
       "      <td>48.0</td>\n",
       "      <td>17788.51</td>\n",
       "      <td>18.0</td>\n",
       "      <td>50</td>\n",
       "      <td>15360</td>\n",
       "      <td>500</td>\n",
       "      <td>550</td>\n",
       "      <td>200</td>\n",
       "      <td>3</td>\n",
       "      <td>3</td>\n",
       "    </tr>\n",
       "    <tr>\n",
       "      <td>3214</td>\n",
       "      <td>1499</td>\n",
       "      <td>Пермь</td>\n",
       "      <td>smart</td>\n",
       "      <td>11.0</td>\n",
       "      <td>74.0</td>\n",
       "      <td>612.0</td>\n",
       "      <td>59.0</td>\n",
       "      <td>17963.31</td>\n",
       "      <td>18.0</td>\n",
       "      <td>50</td>\n",
       "      <td>15360</td>\n",
       "      <td>500</td>\n",
       "      <td>550</td>\n",
       "      <td>200</td>\n",
       "      <td>3</td>\n",
       "      <td>3</td>\n",
       "    </tr>\n",
       "    <tr>\n",
       "      <td>3215</td>\n",
       "      <td>1499</td>\n",
       "      <td>Пермь</td>\n",
       "      <td>smart</td>\n",
       "      <td>12.0</td>\n",
       "      <td>69.0</td>\n",
       "      <td>492.0</td>\n",
       "      <td>66.0</td>\n",
       "      <td>13055.58</td>\n",
       "      <td>13.0</td>\n",
       "      <td>50</td>\n",
       "      <td>15360</td>\n",
       "      <td>500</td>\n",
       "      <td>550</td>\n",
       "      <td>200</td>\n",
       "      <td>3</td>\n",
       "      <td>3</td>\n",
       "    </tr>\n",
       "  </tbody>\n",
       "</table>\n",
       "</div>"
      ],
      "text/plain": [
       "      user_id         city tariff  month  count_call  sum_minutes  \\\n",
       "3211     1498  Владикавказ  smart   10.0        41.0        247.0   \n",
       "3212     1499        Пермь  smart    9.0         9.0         70.0   \n",
       "3213     1499        Пермь  smart   10.0        68.0        449.0   \n",
       "3214     1499        Пермь  smart   11.0        74.0        612.0   \n",
       "3215     1499        Пермь  smart   12.0        69.0        492.0   \n",
       "\n",
       "      count_messages    sum_mb  traffic_round  messages_included  \\\n",
       "3211            42.0  20579.36           21.0                 50   \n",
       "3212            11.0   1845.75            2.0                 50   \n",
       "3213            48.0  17788.51           18.0                 50   \n",
       "3214            59.0  17963.31           18.0                 50   \n",
       "3215            66.0  13055.58           13.0                 50   \n",
       "\n",
       "      mb_per_month_included  minutes_included  rub_monthly_fee  rub_per_gb  \\\n",
       "3211                  15360               500              550         200   \n",
       "3212                  15360               500              550         200   \n",
       "3213                  15360               500              550         200   \n",
       "3214                  15360               500              550         200   \n",
       "3215                  15360               500              550         200   \n",
       "\n",
       "      rub_per_message  rub_per_minute  \n",
       "3211                3               3  \n",
       "3212                3               3  \n",
       "3213                3               3  \n",
       "3214                3               3  \n",
       "3215                3               3  "
      ]
     },
     "execution_count": 16,
     "metadata": {},
     "output_type": "execute_result"
    }
   ],
   "source": [
    "merge_data.tail()"
   ]
  },
  {
   "cell_type": "markdown",
   "metadata": {},
   "source": [
    "Посмотрим на пропуски в сводной таблице"
   ]
  },
  {
   "cell_type": "code",
   "execution_count": 17,
   "metadata": {},
   "outputs": [
    {
     "data": {
      "text/plain": [
       "user_id                    0\n",
       "city                       0\n",
       "tariff                     0\n",
       "month                      2\n",
       "count_call                42\n",
       "sum_minutes               42\n",
       "count_messages           499\n",
       "sum_mb                    13\n",
       "traffic_round             13\n",
       "messages_included          0\n",
       "mb_per_month_included      0\n",
       "minutes_included           0\n",
       "rub_monthly_fee            0\n",
       "rub_per_gb                 0\n",
       "rub_per_message            0\n",
       "rub_per_minute             0\n",
       "dtype: int64"
      ]
     },
     "execution_count": 17,
     "metadata": {},
     "output_type": "execute_result"
    }
   ],
   "source": [
    "merge_data.isna().sum()"
   ]
  },
  {
   "cell_type": "code",
   "execution_count": 18,
   "metadata": {},
   "outputs": [
    {
     "data": {
      "text/html": [
       "<div>\n",
       "<style scoped>\n",
       "    .dataframe tbody tr th:only-of-type {\n",
       "        vertical-align: middle;\n",
       "    }\n",
       "\n",
       "    .dataframe tbody tr th {\n",
       "        vertical-align: top;\n",
       "    }\n",
       "\n",
       "    .dataframe thead th {\n",
       "        text-align: right;\n",
       "    }\n",
       "</style>\n",
       "<table border=\"1\" class=\"dataframe\">\n",
       "  <thead>\n",
       "    <tr style=\"text-align: right;\">\n",
       "      <th></th>\n",
       "      <th>user_id</th>\n",
       "      <th>city</th>\n",
       "      <th>tariff</th>\n",
       "      <th>month</th>\n",
       "      <th>count_call</th>\n",
       "      <th>sum_minutes</th>\n",
       "      <th>count_messages</th>\n",
       "      <th>sum_mb</th>\n",
       "      <th>traffic_round</th>\n",
       "      <th>messages_included</th>\n",
       "      <th>mb_per_month_included</th>\n",
       "      <th>minutes_included</th>\n",
       "      <th>rub_monthly_fee</th>\n",
       "      <th>rub_per_gb</th>\n",
       "      <th>rub_per_message</th>\n",
       "      <th>rub_per_minute</th>\n",
       "    </tr>\n",
       "  </thead>\n",
       "  <tbody>\n",
       "    <tr>\n",
       "      <td>243</td>\n",
       "      <td>1128</td>\n",
       "      <td>Волжский</td>\n",
       "      <td>ultra</td>\n",
       "      <td>NaN</td>\n",
       "      <td>NaN</td>\n",
       "      <td>NaN</td>\n",
       "      <td>NaN</td>\n",
       "      <td>NaN</td>\n",
       "      <td>NaN</td>\n",
       "      <td>1000</td>\n",
       "      <td>30720</td>\n",
       "      <td>3000</td>\n",
       "      <td>1950</td>\n",
       "      <td>150</td>\n",
       "      <td>1</td>\n",
       "      <td>1</td>\n",
       "    </tr>\n",
       "    <tr>\n",
       "      <td>2619</td>\n",
       "      <td>1371</td>\n",
       "      <td>Омск</td>\n",
       "      <td>smart</td>\n",
       "      <td>NaN</td>\n",
       "      <td>NaN</td>\n",
       "      <td>NaN</td>\n",
       "      <td>NaN</td>\n",
       "      <td>NaN</td>\n",
       "      <td>NaN</td>\n",
       "      <td>50</td>\n",
       "      <td>15360</td>\n",
       "      <td>500</td>\n",
       "      <td>550</td>\n",
       "      <td>200</td>\n",
       "      <td>3</td>\n",
       "      <td>3</td>\n",
       "    </tr>\n",
       "  </tbody>\n",
       "</table>\n",
       "</div>"
      ],
      "text/plain": [
       "      user_id      city tariff  month  count_call  sum_minutes  \\\n",
       "243      1128  Волжский  ultra    NaN         NaN          NaN   \n",
       "2619     1371      Омск  smart    NaN         NaN          NaN   \n",
       "\n",
       "      count_messages  sum_mb  traffic_round  messages_included  \\\n",
       "243              NaN     NaN            NaN               1000   \n",
       "2619             NaN     NaN            NaN                 50   \n",
       "\n",
       "      mb_per_month_included  minutes_included  rub_monthly_fee  rub_per_gb  \\\n",
       "243                   30720              3000             1950         150   \n",
       "2619                  15360               500              550         200   \n",
       "\n",
       "      rub_per_message  rub_per_minute  \n",
       "243                 1               1  \n",
       "2619                3               3  "
      ]
     },
     "execution_count": 18,
     "metadata": {},
     "output_type": "execute_result"
    }
   ],
   "source": [
    "merge_data[merge_data['month'].isna()]"
   ]
  },
  {
   "cell_type": "markdown",
   "metadata": {},
   "source": [
    "Найдены 2 пользователя по одному для каждого тарифного плана, с отсутствием потребления услуг связи. Оба абонента пользовались тарифом только в декабре 2018 и соответственно платили абонентскую плату, возможно они пользовались, например, только входящей связью. Добавим для них месяц использования услуг - 12."
   ]
  },
  {
   "cell_type": "code",
   "execution_count": 19,
   "metadata": {},
   "outputs": [
    {
     "data": {
      "text/plain": [
       "0"
      ]
     },
     "execution_count": 19,
     "metadata": {},
     "output_type": "execute_result"
    }
   ],
   "source": [
    "merge_data['month'] = merge_data['month'].fillna(12)\n",
    "merge_data['month'].isna().sum()"
   ]
  },
  {
   "cell_type": "markdown",
   "metadata": {},
   "source": [
    "Остались пропуски в столбцах count_call, sum_minutes, count_messages, sum_mb, traffic_round. Очевидно, что пропуски здесь связаны с отсутствием использования данных услуг у некторых пользователей. Заполним пропущенные значения 0.    "
   ]
  },
  {
   "cell_type": "code",
   "execution_count": 20,
   "metadata": {},
   "outputs": [
    {
     "data": {
      "text/plain": [
       "user_id                  0\n",
       "city                     0\n",
       "tariff                   0\n",
       "month                    0\n",
       "count_call               0\n",
       "sum_minutes              0\n",
       "count_messages           0\n",
       "sum_mb                   0\n",
       "traffic_round            0\n",
       "messages_included        0\n",
       "mb_per_month_included    0\n",
       "minutes_included         0\n",
       "rub_monthly_fee          0\n",
       "rub_per_gb               0\n",
       "rub_per_message          0\n",
       "rub_per_minute           0\n",
       "dtype: int64"
      ]
     },
     "execution_count": 20,
     "metadata": {},
     "output_type": "execute_result"
    }
   ],
   "source": [
    "merge_data = merge_data.fillna(0)\n",
    "merge_data.isna().sum()"
   ]
  },
  {
   "cell_type": "code",
   "execution_count": 21,
   "metadata": {},
   "outputs": [
    {
     "name": "stdout",
     "output_type": "stream",
     "text": [
      "<class 'pandas.core.frame.DataFrame'>\n",
      "Int64Index: 3216 entries, 0 to 3215\n",
      "Data columns (total 16 columns):\n",
      "user_id                  3216 non-null int64\n",
      "city                     3216 non-null object\n",
      "tariff                   3216 non-null object\n",
      "month                    3216 non-null float64\n",
      "count_call               3216 non-null float64\n",
      "sum_minutes              3216 non-null float64\n",
      "count_messages           3216 non-null float64\n",
      "sum_mb                   3216 non-null float64\n",
      "traffic_round            3216 non-null float64\n",
      "messages_included        3216 non-null int64\n",
      "mb_per_month_included    3216 non-null int64\n",
      "minutes_included         3216 non-null int64\n",
      "rub_monthly_fee          3216 non-null int64\n",
      "rub_per_gb               3216 non-null int64\n",
      "rub_per_message          3216 non-null int64\n",
      "rub_per_minute           3216 non-null int64\n",
      "dtypes: float64(6), int64(8), object(2)\n",
      "memory usage: 427.1+ KB\n"
     ]
    }
   ],
   "source": [
    "merge_data.info()"
   ]
  },
  {
   "cell_type": "markdown",
   "metadata": {},
   "source": [
    "После объединения таблиц и образования в некторых столбцах пропусков в них изменился тип храненяи данных на float64. Вернем для столбцов month, count_call, sum_minutes, count_messages, traffic_round изначальные типы int."
   ]
  },
  {
   "cell_type": "code",
   "execution_count": 22,
   "metadata": {},
   "outputs": [
    {
     "name": "stdout",
     "output_type": "stream",
     "text": [
      "<class 'pandas.core.frame.DataFrame'>\n",
      "Int64Index: 3216 entries, 0 to 3215\n",
      "Data columns (total 16 columns):\n",
      "user_id                  3216 non-null int64\n",
      "city                     3216 non-null object\n",
      "tariff                   3216 non-null object\n",
      "month                    3216 non-null int64\n",
      "count_call               3216 non-null int64\n",
      "sum_minutes              3216 non-null int64\n",
      "count_messages           3216 non-null int64\n",
      "sum_mb                   3216 non-null float64\n",
      "traffic_round            3216 non-null int64\n",
      "messages_included        3216 non-null int64\n",
      "mb_per_month_included    3216 non-null int64\n",
      "minutes_included         3216 non-null int64\n",
      "rub_monthly_fee          3216 non-null int64\n",
      "rub_per_gb               3216 non-null int64\n",
      "rub_per_message          3216 non-null int64\n",
      "rub_per_minute           3216 non-null int64\n",
      "dtypes: float64(1), int64(13), object(2)\n",
      "memory usage: 427.1+ KB\n"
     ]
    }
   ],
   "source": [
    "list_type_change = ['month', 'count_call', 'sum_minutes', 'count_messages', 'traffic_round']\n",
    "for column in list_type_change:\n",
    "    merge_data[column] = merge_data[column].astype('int')\n",
    "merge_data.info()"
   ]
  },
  {
   "cell_type": "code",
   "execution_count": 23,
   "metadata": {},
   "outputs": [
    {
     "data": {
      "text/html": [
       "<div>\n",
       "<style scoped>\n",
       "    .dataframe tbody tr th:only-of-type {\n",
       "        vertical-align: middle;\n",
       "    }\n",
       "\n",
       "    .dataframe tbody tr th {\n",
       "        vertical-align: top;\n",
       "    }\n",
       "\n",
       "    .dataframe thead th {\n",
       "        text-align: right;\n",
       "    }\n",
       "</style>\n",
       "<table border=\"1\" class=\"dataframe\">\n",
       "  <thead>\n",
       "    <tr style=\"text-align: right;\">\n",
       "      <th></th>\n",
       "      <th>user_id</th>\n",
       "      <th>city</th>\n",
       "      <th>tariff</th>\n",
       "      <th>month</th>\n",
       "      <th>count_call</th>\n",
       "      <th>sum_minutes</th>\n",
       "      <th>count_messages</th>\n",
       "      <th>sum_mb</th>\n",
       "      <th>traffic_round</th>\n",
       "      <th>messages_included</th>\n",
       "      <th>mb_per_month_included</th>\n",
       "      <th>minutes_included</th>\n",
       "      <th>rub_monthly_fee</th>\n",
       "      <th>rub_per_gb</th>\n",
       "      <th>rub_per_message</th>\n",
       "      <th>rub_per_minute</th>\n",
       "    </tr>\n",
       "  </thead>\n",
       "  <tbody>\n",
       "    <tr>\n",
       "      <td>0</td>\n",
       "      <td>1000</td>\n",
       "      <td>Краснодар</td>\n",
       "      <td>ultra</td>\n",
       "      <td>5</td>\n",
       "      <td>22</td>\n",
       "      <td>159</td>\n",
       "      <td>22</td>\n",
       "      <td>2253.49</td>\n",
       "      <td>3</td>\n",
       "      <td>1000</td>\n",
       "      <td>30720</td>\n",
       "      <td>3000</td>\n",
       "      <td>1950</td>\n",
       "      <td>150</td>\n",
       "      <td>1</td>\n",
       "      <td>1</td>\n",
       "    </tr>\n",
       "    <tr>\n",
       "      <td>1</td>\n",
       "      <td>1000</td>\n",
       "      <td>Краснодар</td>\n",
       "      <td>ultra</td>\n",
       "      <td>6</td>\n",
       "      <td>43</td>\n",
       "      <td>172</td>\n",
       "      <td>60</td>\n",
       "      <td>23233.77</td>\n",
       "      <td>23</td>\n",
       "      <td>1000</td>\n",
       "      <td>30720</td>\n",
       "      <td>3000</td>\n",
       "      <td>1950</td>\n",
       "      <td>150</td>\n",
       "      <td>1</td>\n",
       "      <td>1</td>\n",
       "    </tr>\n",
       "    <tr>\n",
       "      <td>2</td>\n",
       "      <td>1000</td>\n",
       "      <td>Краснодар</td>\n",
       "      <td>ultra</td>\n",
       "      <td>7</td>\n",
       "      <td>47</td>\n",
       "      <td>340</td>\n",
       "      <td>75</td>\n",
       "      <td>14003.64</td>\n",
       "      <td>14</td>\n",
       "      <td>1000</td>\n",
       "      <td>30720</td>\n",
       "      <td>3000</td>\n",
       "      <td>1950</td>\n",
       "      <td>150</td>\n",
       "      <td>1</td>\n",
       "      <td>1</td>\n",
       "    </tr>\n",
       "    <tr>\n",
       "      <td>3</td>\n",
       "      <td>1000</td>\n",
       "      <td>Краснодар</td>\n",
       "      <td>ultra</td>\n",
       "      <td>8</td>\n",
       "      <td>52</td>\n",
       "      <td>408</td>\n",
       "      <td>81</td>\n",
       "      <td>14055.93</td>\n",
       "      <td>14</td>\n",
       "      <td>1000</td>\n",
       "      <td>30720</td>\n",
       "      <td>3000</td>\n",
       "      <td>1950</td>\n",
       "      <td>150</td>\n",
       "      <td>1</td>\n",
       "      <td>1</td>\n",
       "    </tr>\n",
       "    <tr>\n",
       "      <td>4</td>\n",
       "      <td>1000</td>\n",
       "      <td>Краснодар</td>\n",
       "      <td>ultra</td>\n",
       "      <td>9</td>\n",
       "      <td>58</td>\n",
       "      <td>466</td>\n",
       "      <td>57</td>\n",
       "      <td>14568.91</td>\n",
       "      <td>15</td>\n",
       "      <td>1000</td>\n",
       "      <td>30720</td>\n",
       "      <td>3000</td>\n",
       "      <td>1950</td>\n",
       "      <td>150</td>\n",
       "      <td>1</td>\n",
       "      <td>1</td>\n",
       "    </tr>\n",
       "  </tbody>\n",
       "</table>\n",
       "</div>"
      ],
      "text/plain": [
       "   user_id       city tariff  month  count_call  sum_minutes  count_messages  \\\n",
       "0     1000  Краснодар  ultra      5          22          159              22   \n",
       "1     1000  Краснодар  ultra      6          43          172              60   \n",
       "2     1000  Краснодар  ultra      7          47          340              75   \n",
       "3     1000  Краснодар  ultra      8          52          408              81   \n",
       "4     1000  Краснодар  ultra      9          58          466              57   \n",
       "\n",
       "     sum_mb  traffic_round  messages_included  mb_per_month_included  \\\n",
       "0   2253.49              3               1000                  30720   \n",
       "1  23233.77             23               1000                  30720   \n",
       "2  14003.64             14               1000                  30720   \n",
       "3  14055.93             14               1000                  30720   \n",
       "4  14568.91             15               1000                  30720   \n",
       "\n",
       "   minutes_included  rub_monthly_fee  rub_per_gb  rub_per_message  \\\n",
       "0              3000             1950         150                1   \n",
       "1              3000             1950         150                1   \n",
       "2              3000             1950         150                1   \n",
       "3              3000             1950         150                1   \n",
       "4              3000             1950         150                1   \n",
       "\n",
       "   rub_per_minute  \n",
       "0               1  \n",
       "1               1  \n",
       "2               1  \n",
       "3               1  \n",
       "4               1  "
      ]
     },
     "execution_count": 23,
     "metadata": {},
     "output_type": "execute_result"
    }
   ],
   "source": [
    "merge_data.head()"
   ]
  },
  {
   "cell_type": "markdown",
   "metadata": {},
   "source": [
    "Посчитаем помесячную выручку с каждого пользователя и добавим данные в новый столбец profit_month. Сделаем это с помощью функции calc_profit"
   ]
  },
  {
   "cell_type": "code",
   "execution_count": 24,
   "metadata": {},
   "outputs": [],
   "source": [
    "# Функция подсчета выручки. Вычитает бесплатный лимит из суммарного количества звонков,\n",
    "# сообщений и интернет-трафик, остаток умножает на стоимость из тарифного плана,\n",
    "# прибавляет абонентскую плату\n",
    "\n",
    "def calc_profit(row):\n",
    "    paid_minutes = row['sum_minutes'] - row['minutes_included']\n",
    "    paid_messages = row['count_messages'] - row['messages_included']\n",
    "    paid_gb = row['traffic_round'] - (row['mb_per_month_included'] // 1024)\n",
    "    if (paid_minutes < 0):\n",
    "        paid_minutes = 0       \n",
    "    if (paid_messages < 0):\n",
    "        paid_messages = 0        \n",
    "    if (paid_gb < 0):\n",
    "        paid_gb = 0        \n",
    "    total_profit = row['rub_monthly_fee'] + paid_minutes * row['rub_per_minute'] + (\n",
    "            paid_messages * row['rub_per_message']) + (\n",
    "            paid_gb * row['rub_per_gb'])\n",
    "    return total_profit\n",
    "\n",
    "    "
   ]
  },
  {
   "cell_type": "code",
   "execution_count": 25,
   "metadata": {},
   "outputs": [
    {
     "name": "stdout",
     "output_type": "stream",
     "text": [
      "<class 'pandas.core.frame.DataFrame'>\n",
      "Int64Index: 3216 entries, 0 to 3215\n",
      "Data columns (total 17 columns):\n",
      "user_id                  3216 non-null int64\n",
      "city                     3216 non-null object\n",
      "tariff                   3216 non-null object\n",
      "month                    3216 non-null int64\n",
      "count_call               3216 non-null int64\n",
      "sum_minutes              3216 non-null int64\n",
      "count_messages           3216 non-null int64\n",
      "sum_mb                   3216 non-null float64\n",
      "traffic_round            3216 non-null int64\n",
      "messages_included        3216 non-null int64\n",
      "mb_per_month_included    3216 non-null int64\n",
      "minutes_included         3216 non-null int64\n",
      "rub_monthly_fee          3216 non-null int64\n",
      "rub_per_gb               3216 non-null int64\n",
      "rub_per_message          3216 non-null int64\n",
      "rub_per_minute           3216 non-null int64\n",
      "profit_month             3216 non-null int64\n",
      "dtypes: float64(1), int64(14), object(2)\n",
      "memory usage: 452.2+ KB\n"
     ]
    },
    {
     "data": {
      "text/html": [
       "<div>\n",
       "<style scoped>\n",
       "    .dataframe tbody tr th:only-of-type {\n",
       "        vertical-align: middle;\n",
       "    }\n",
       "\n",
       "    .dataframe tbody tr th {\n",
       "        vertical-align: top;\n",
       "    }\n",
       "\n",
       "    .dataframe thead th {\n",
       "        text-align: right;\n",
       "    }\n",
       "</style>\n",
       "<table border=\"1\" class=\"dataframe\">\n",
       "  <thead>\n",
       "    <tr style=\"text-align: right;\">\n",
       "      <th></th>\n",
       "      <th>user_id</th>\n",
       "      <th>city</th>\n",
       "      <th>tariff</th>\n",
       "      <th>month</th>\n",
       "      <th>count_call</th>\n",
       "      <th>sum_minutes</th>\n",
       "      <th>count_messages</th>\n",
       "      <th>sum_mb</th>\n",
       "      <th>traffic_round</th>\n",
       "      <th>messages_included</th>\n",
       "      <th>mb_per_month_included</th>\n",
       "      <th>minutes_included</th>\n",
       "      <th>rub_monthly_fee</th>\n",
       "      <th>rub_per_gb</th>\n",
       "      <th>rub_per_message</th>\n",
       "      <th>rub_per_minute</th>\n",
       "      <th>profit_month</th>\n",
       "    </tr>\n",
       "  </thead>\n",
       "  <tbody>\n",
       "    <tr>\n",
       "      <td>0</td>\n",
       "      <td>1000</td>\n",
       "      <td>Краснодар</td>\n",
       "      <td>ultra</td>\n",
       "      <td>5</td>\n",
       "      <td>22</td>\n",
       "      <td>159</td>\n",
       "      <td>22</td>\n",
       "      <td>2253.49</td>\n",
       "      <td>3</td>\n",
       "      <td>1000</td>\n",
       "      <td>30720</td>\n",
       "      <td>3000</td>\n",
       "      <td>1950</td>\n",
       "      <td>150</td>\n",
       "      <td>1</td>\n",
       "      <td>1</td>\n",
       "      <td>1950</td>\n",
       "    </tr>\n",
       "    <tr>\n",
       "      <td>1</td>\n",
       "      <td>1000</td>\n",
       "      <td>Краснодар</td>\n",
       "      <td>ultra</td>\n",
       "      <td>6</td>\n",
       "      <td>43</td>\n",
       "      <td>172</td>\n",
       "      <td>60</td>\n",
       "      <td>23233.77</td>\n",
       "      <td>23</td>\n",
       "      <td>1000</td>\n",
       "      <td>30720</td>\n",
       "      <td>3000</td>\n",
       "      <td>1950</td>\n",
       "      <td>150</td>\n",
       "      <td>1</td>\n",
       "      <td>1</td>\n",
       "      <td>1950</td>\n",
       "    </tr>\n",
       "    <tr>\n",
       "      <td>2</td>\n",
       "      <td>1000</td>\n",
       "      <td>Краснодар</td>\n",
       "      <td>ultra</td>\n",
       "      <td>7</td>\n",
       "      <td>47</td>\n",
       "      <td>340</td>\n",
       "      <td>75</td>\n",
       "      <td>14003.64</td>\n",
       "      <td>14</td>\n",
       "      <td>1000</td>\n",
       "      <td>30720</td>\n",
       "      <td>3000</td>\n",
       "      <td>1950</td>\n",
       "      <td>150</td>\n",
       "      <td>1</td>\n",
       "      <td>1</td>\n",
       "      <td>1950</td>\n",
       "    </tr>\n",
       "    <tr>\n",
       "      <td>3</td>\n",
       "      <td>1000</td>\n",
       "      <td>Краснодар</td>\n",
       "      <td>ultra</td>\n",
       "      <td>8</td>\n",
       "      <td>52</td>\n",
       "      <td>408</td>\n",
       "      <td>81</td>\n",
       "      <td>14055.93</td>\n",
       "      <td>14</td>\n",
       "      <td>1000</td>\n",
       "      <td>30720</td>\n",
       "      <td>3000</td>\n",
       "      <td>1950</td>\n",
       "      <td>150</td>\n",
       "      <td>1</td>\n",
       "      <td>1</td>\n",
       "      <td>1950</td>\n",
       "    </tr>\n",
       "    <tr>\n",
       "      <td>4</td>\n",
       "      <td>1000</td>\n",
       "      <td>Краснодар</td>\n",
       "      <td>ultra</td>\n",
       "      <td>9</td>\n",
       "      <td>58</td>\n",
       "      <td>466</td>\n",
       "      <td>57</td>\n",
       "      <td>14568.91</td>\n",
       "      <td>15</td>\n",
       "      <td>1000</td>\n",
       "      <td>30720</td>\n",
       "      <td>3000</td>\n",
       "      <td>1950</td>\n",
       "      <td>150</td>\n",
       "      <td>1</td>\n",
       "      <td>1</td>\n",
       "      <td>1950</td>\n",
       "    </tr>\n",
       "  </tbody>\n",
       "</table>\n",
       "</div>"
      ],
      "text/plain": [
       "   user_id       city tariff  month  count_call  sum_minutes  count_messages  \\\n",
       "0     1000  Краснодар  ultra      5          22          159              22   \n",
       "1     1000  Краснодар  ultra      6          43          172              60   \n",
       "2     1000  Краснодар  ultra      7          47          340              75   \n",
       "3     1000  Краснодар  ultra      8          52          408              81   \n",
       "4     1000  Краснодар  ultra      9          58          466              57   \n",
       "\n",
       "     sum_mb  traffic_round  messages_included  mb_per_month_included  \\\n",
       "0   2253.49              3               1000                  30720   \n",
       "1  23233.77             23               1000                  30720   \n",
       "2  14003.64             14               1000                  30720   \n",
       "3  14055.93             14               1000                  30720   \n",
       "4  14568.91             15               1000                  30720   \n",
       "\n",
       "   minutes_included  rub_monthly_fee  rub_per_gb  rub_per_message  \\\n",
       "0              3000             1950         150                1   \n",
       "1              3000             1950         150                1   \n",
       "2              3000             1950         150                1   \n",
       "3              3000             1950         150                1   \n",
       "4              3000             1950         150                1   \n",
       "\n",
       "   rub_per_minute  profit_month  \n",
       "0               1          1950  \n",
       "1               1          1950  \n",
       "2               1          1950  \n",
       "3               1          1950  \n",
       "4               1          1950  "
      ]
     },
     "execution_count": 25,
     "metadata": {},
     "output_type": "execute_result"
    }
   ],
   "source": [
    "merge_data['profit_month'] = merge_data.apply(calc_profit, axis=1)\n",
    "merge_data.info()\n",
    "merge_data.head()"
   ]
  },
  {
   "cell_type": "code",
   "execution_count": 26,
   "metadata": {},
   "outputs": [
    {
     "data": {
      "text/html": [
       "<div>\n",
       "<style scoped>\n",
       "    .dataframe tbody tr th:only-of-type {\n",
       "        vertical-align: middle;\n",
       "    }\n",
       "\n",
       "    .dataframe tbody tr th {\n",
       "        vertical-align: top;\n",
       "    }\n",
       "\n",
       "    .dataframe thead th {\n",
       "        text-align: right;\n",
       "    }\n",
       "</style>\n",
       "<table border=\"1\" class=\"dataframe\">\n",
       "  <thead>\n",
       "    <tr style=\"text-align: right;\">\n",
       "      <th></th>\n",
       "      <th>user_id</th>\n",
       "      <th>city</th>\n",
       "      <th>tariff</th>\n",
       "      <th>month</th>\n",
       "      <th>count_call</th>\n",
       "      <th>sum_minutes</th>\n",
       "      <th>count_messages</th>\n",
       "      <th>sum_mb</th>\n",
       "      <th>traffic_round</th>\n",
       "      <th>messages_included</th>\n",
       "      <th>mb_per_month_included</th>\n",
       "      <th>minutes_included</th>\n",
       "      <th>rub_monthly_fee</th>\n",
       "      <th>rub_per_gb</th>\n",
       "      <th>rub_per_message</th>\n",
       "      <th>rub_per_minute</th>\n",
       "      <th>profit_month</th>\n",
       "    </tr>\n",
       "  </thead>\n",
       "  <tbody>\n",
       "    <tr>\n",
       "      <td>3211</td>\n",
       "      <td>1498</td>\n",
       "      <td>Владикавказ</td>\n",
       "      <td>smart</td>\n",
       "      <td>10</td>\n",
       "      <td>41</td>\n",
       "      <td>247</td>\n",
       "      <td>42</td>\n",
       "      <td>20579.36</td>\n",
       "      <td>21</td>\n",
       "      <td>50</td>\n",
       "      <td>15360</td>\n",
       "      <td>500</td>\n",
       "      <td>550</td>\n",
       "      <td>200</td>\n",
       "      <td>3</td>\n",
       "      <td>3</td>\n",
       "      <td>1750</td>\n",
       "    </tr>\n",
       "    <tr>\n",
       "      <td>3212</td>\n",
       "      <td>1499</td>\n",
       "      <td>Пермь</td>\n",
       "      <td>smart</td>\n",
       "      <td>9</td>\n",
       "      <td>9</td>\n",
       "      <td>70</td>\n",
       "      <td>11</td>\n",
       "      <td>1845.75</td>\n",
       "      <td>2</td>\n",
       "      <td>50</td>\n",
       "      <td>15360</td>\n",
       "      <td>500</td>\n",
       "      <td>550</td>\n",
       "      <td>200</td>\n",
       "      <td>3</td>\n",
       "      <td>3</td>\n",
       "      <td>550</td>\n",
       "    </tr>\n",
       "    <tr>\n",
       "      <td>3213</td>\n",
       "      <td>1499</td>\n",
       "      <td>Пермь</td>\n",
       "      <td>smart</td>\n",
       "      <td>10</td>\n",
       "      <td>68</td>\n",
       "      <td>449</td>\n",
       "      <td>48</td>\n",
       "      <td>17788.51</td>\n",
       "      <td>18</td>\n",
       "      <td>50</td>\n",
       "      <td>15360</td>\n",
       "      <td>500</td>\n",
       "      <td>550</td>\n",
       "      <td>200</td>\n",
       "      <td>3</td>\n",
       "      <td>3</td>\n",
       "      <td>1150</td>\n",
       "    </tr>\n",
       "    <tr>\n",
       "      <td>3214</td>\n",
       "      <td>1499</td>\n",
       "      <td>Пермь</td>\n",
       "      <td>smart</td>\n",
       "      <td>11</td>\n",
       "      <td>74</td>\n",
       "      <td>612</td>\n",
       "      <td>59</td>\n",
       "      <td>17963.31</td>\n",
       "      <td>18</td>\n",
       "      <td>50</td>\n",
       "      <td>15360</td>\n",
       "      <td>500</td>\n",
       "      <td>550</td>\n",
       "      <td>200</td>\n",
       "      <td>3</td>\n",
       "      <td>3</td>\n",
       "      <td>1513</td>\n",
       "    </tr>\n",
       "    <tr>\n",
       "      <td>3215</td>\n",
       "      <td>1499</td>\n",
       "      <td>Пермь</td>\n",
       "      <td>smart</td>\n",
       "      <td>12</td>\n",
       "      <td>69</td>\n",
       "      <td>492</td>\n",
       "      <td>66</td>\n",
       "      <td>13055.58</td>\n",
       "      <td>13</td>\n",
       "      <td>50</td>\n",
       "      <td>15360</td>\n",
       "      <td>500</td>\n",
       "      <td>550</td>\n",
       "      <td>200</td>\n",
       "      <td>3</td>\n",
       "      <td>3</td>\n",
       "      <td>598</td>\n",
       "    </tr>\n",
       "  </tbody>\n",
       "</table>\n",
       "</div>"
      ],
      "text/plain": [
       "      user_id         city tariff  month  count_call  sum_minutes  \\\n",
       "3211     1498  Владикавказ  smart     10          41          247   \n",
       "3212     1499        Пермь  smart      9           9           70   \n",
       "3213     1499        Пермь  smart     10          68          449   \n",
       "3214     1499        Пермь  smart     11          74          612   \n",
       "3215     1499        Пермь  smart     12          69          492   \n",
       "\n",
       "      count_messages    sum_mb  traffic_round  messages_included  \\\n",
       "3211              42  20579.36             21                 50   \n",
       "3212              11   1845.75              2                 50   \n",
       "3213              48  17788.51             18                 50   \n",
       "3214              59  17963.31             18                 50   \n",
       "3215              66  13055.58             13                 50   \n",
       "\n",
       "      mb_per_month_included  minutes_included  rub_monthly_fee  rub_per_gb  \\\n",
       "3211                  15360               500              550         200   \n",
       "3212                  15360               500              550         200   \n",
       "3213                  15360               500              550         200   \n",
       "3214                  15360               500              550         200   \n",
       "3215                  15360               500              550         200   \n",
       "\n",
       "      rub_per_message  rub_per_minute  profit_month  \n",
       "3211                3               3          1750  \n",
       "3212                3               3           550  \n",
       "3213                3               3          1150  \n",
       "3214                3               3          1513  \n",
       "3215                3               3           598  "
      ]
     },
     "execution_count": 26,
     "metadata": {},
     "output_type": "execute_result"
    }
   ],
   "source": [
    "merge_data.tail()"
   ]
  },
  {
   "cell_type": "markdown",
   "metadata": {},
   "source": [
    "## Анализ данных"
   ]
  },
  {
   "cell_type": "markdown",
   "metadata": {},
   "source": [
    "Посчитаем среднее количество используемых услуг (минут разговора, сообщений, интернет-трафика) и выручки с пользователей, дисперсию и стандартное отклонение. "
   ]
  },
  {
   "cell_type": "code",
   "execution_count": 27,
   "metadata": {},
   "outputs": [
    {
     "name": "stdout",
     "output_type": "stream",
     "text": [
      "Использование минут\n",
      "   Тариф  Среднее  Дисперсия  Стандарт.откл.\n",
      "0  smart   417.75   36281.39          190.48\n",
      "1  ultra   526.09  101052.49          317.89\n",
      "\n",
      "Использование сообщений\n",
      "   Тариф  Среднее  Дисперсия  Стандарт.откл.\n",
      "0  smart    33.37     796.96           28.23\n",
      "1  ultra    49.31    2285.42           47.81\n",
      "\n",
      "Использование мегабайт\n",
      "   Тариф   Среднее     Дисперсия  Стандарт.откл.\n",
      "0  smart  16201.12  3.456484e+07         5879.19\n",
      "1  ultra  19449.06  1.020321e+08        10101.10\n",
      "\n",
      "Выручка с пользователя\n",
      "   Тариф  Среднее  Дисперсия  Стандарт.откл.\n",
      "0  smart  1289.64  669730.76          818.37\n",
      "1  ultra  2070.03  141387.71          376.02\n",
      "\n"
     ]
    }
   ],
   "source": [
    "list_parametr = ['sum_minutes', 'count_messages', 'sum_mb', 'profit_month']\n",
    "list_head_parametr = ['Использование минут', 'Использование сообщений',\n",
    "                      'Использование мегабайт', 'Выручка с пользователя']\n",
    "\n",
    "for parametr, head_parametr in zip(list_parametr, list_head_parametr):\n",
    "    print(head_parametr)\n",
    "    tb_output = (round(merge_data.pivot_table(\n",
    "            index='tariff', values=parametr, \n",
    "            aggfunc=['mean', 'var', 'std']).reset_index(), 2))\n",
    "    tb_output.columns = ['Тариф', 'Среднее', 'Дисперсия', 'Стандарт.откл.']\n",
    "    print(tb_output)\n",
    "    print()"
   ]
  },
  {
   "cell_type": "markdown",
   "metadata": {},
   "source": [
    "Пользователи тарифа Ультра в среднем используют бо́льшие объемы услуг. Минут использовано на 26% больше, сообщений на 48%, мегабайт на 20%. При этом стандартное отклонение по потреблению услуг у пользователей тарифа Ультра еще больше, разница с тарифом Смарт по минутам - 67%, по сообщениям - 71%, по использованию мегабайт - 72%. Это говорит о том что разброс значений потребления у пользователей тарифа Ультра шире. Средняя выручка с пользователя тарифа Ультра больше, но при этом она близка к размеру абонентской платы и имеет относительно небольшое стандартное отклонение, что говорит о небольшом разбросе этого параметра. В то же время у пользователей тарифа Смарт средняя выручка превышает абонентскую плату в 2.3 раза и имеет относительно большой разброс."
   ]
  },
  {
   "cell_type": "markdown",
   "metadata": {},
   "source": [
    "Построим гистограммы распределений использования услуг и выручки с пользователей"
   ]
  },
  {
   "cell_type": "code",
   "execution_count": 28,
   "metadata": {},
   "outputs": [
    {
     "data": {
      "image/png": "[encoded data removed]",
      "text/plain": [
       "<Figure size 576x288 with 1 Axes>"
      ]
     },
     "metadata": {
      "needs_background": "light"
     },
     "output_type": "display_data"
    },
    {
     "data": {
      "image/png": "[encoded data removed]",
      "text/plain": [
       "<Figure size 576x288 with 1 Axes>"
      ]
     },
     "metadata": {
      "needs_background": "light"
     },
     "output_type": "display_data"
    },
    {
     "data": {
      "image/png": "[encoded data removed]",
      "text/plain": [
       "<Figure size 576x288 with 1 Axes>"
      ]
     },
     "metadata": {
      "needs_background": "light"
     },
     "output_type": "display_data"
    },
    {
     "data": {
      "image/png": "[encoded data removed]",
      "text/plain": [
       "<Figure size 576x288 with 1 Axes>"
      ]
     },
     "metadata": {
      "needs_background": "light"
     },
     "output_type": "display_data"
    },
    {
     "data": {
      "image/png": "[encoded data removed]",
      "text/plain": [
       "<Figure size 576x288 with 1 Axes>"
      ]
     },
     "metadata": {
      "needs_background": "light"
     },
     "output_type": "display_data"
    },
    {
     "data": {
      "image/png": "[encoded data removed]",
      "text/plain": [
       "<Figure size 576x288 with 1 Axes>"
      ]
     },
     "metadata": {
      "needs_background": "light"
     },
     "output_type": "display_data"
    },
    {
     "data": {
      "image/png": "[encoded data removed]",
      "text/plain": [
       "<Figure size 576x288 with 1 Axes>"
      ]
     },
     "metadata": {
      "needs_background": "light"
     },
     "output_type": "display_data"
    },
    {
     "data": {
      "image/png": "[encoded data removed]",
      "text/plain": [
       "<Figure size 576x288 with 1 Axes>"
      ]
     },
     "metadata": {
      "needs_background": "light"
     },
     "output_type": "display_data"
    }
   ],
   "source": [
    "list_tariff_name = data_tariffs['tariff'].to_list()\n",
    "\n",
    "for parametr, head_parametr in zip(list_parametr, list_head_parametr):\n",
    "    for tariff_name in list_tariff_name:\n",
    "        fig, ax = plt.subplots()\n",
    "        ax.hist(merge_data.query('tariff == @tariff_name')[parametr], bins=36)\n",
    "        ax.set_title(head_parametr + ', тариф ' + tariff_name)\n",
    "        ax.set_xlabel('количество')\n",
    "        ax.set_ylabel('частота')\n",
    "        ax.grid()\n",
    "        fig.set_figheight(4)\n",
    "        fig.set_figwidth(8)\n",
    "        plt.show()  "
   ]
  },
  {
   "cell_type": "markdown",
   "metadata": {},
   "source": [
    "По гистограммам видно что распределение потребления услуг на разных тарифах несколько отличается. Для использования минут на тарифе Smart распределение близко к нормальному, имеет необольшую отрицательную скошенность. Пик находится между 400 и 500 минут, что демонстрирует, что достаточно большая часть пользователей не укладывается во включенные в тариф 500 минут и используют платные. Есть одиночные выбросы от 1000 до 1400 минут. Для тарифа Ultra эта скошенность положительная, нет значений превышающих 1700 минут, абоненты укладываются в объем включенных в тариф минут. Обращает на себя внимание пик в районе 0 - есть пользователи вообще или минамально пользующиеся минутами, вероятно тариф им нужен для интернет или сообщений.\n",
    "\n",
    "Гистограммы для распределения использования сообщений похожи для двух тарифов. На обоих графиках видны пики на нулевых отметках - сообщения не так популярны, многие ими не пользуются или используют минимально. На тарифе Smart все же достаточно много пользователей не укладывающихся в объем включенных в тариф сообщений и использующих платные, на тарифе Ultra таких нет.\n",
    "\n",
    "Распределение использования мегабайт демонстрирует, что больше половины пользователей тарифа  Smart не укладываются во включенный в тариф трафик и используют платный, на тарифе Ultra таких пользователей меньше, но есть. На обоих тарифах есть пользователи вообще не использующие мегабайты. Распределения близки к нормальному, для тарифа Smart имеет необольшую отрицательную скошенность, а для тарифа Ultra - положительную.\n",
    "\n",
    "Гистограммы для выручки демнстрируют, что большинство пользователей укладываются в лимиты своих тарифов и платят только аобонентскую плату или немного больше. На тарифе Ultra таких подавляющее большинство. Диаграммы имеют положительну скошенность, что объясняется ограничением слева установленным размером обязательной абоненсткой платы."
   ]
  },
  {
   "cell_type": "markdown",
   "metadata": {},
   "source": [
    "## Проверка гипотез"
   ]
  },
  {
   "cell_type": "markdown",
   "metadata": {},
   "source": [
    "### Средняя выручка пользователей тарифов «Ультра» и «Смарт» различаются"
   ]
  },
  {
   "cell_type": "markdown",
   "metadata": {},
   "source": [
    "\n",
    "\"Средняя выручка пользователей тарифов «Ультра» и «Смарт» различаются\"\n",
    "\n",
    "Сформулируем нулевую гипотезу для этого утверждения:  \n",
    "\"Средняя выручка пользователей тарифов «Ультра» и «Смарт» равны\".  \n",
    "Альтернативная гипотеза:  \n",
    "\"Средняя выручка пользователей тарифов «Ультра» и «Смарт» не равны\".\n",
    "\n",
    "Критерий (уровень) значимости установим на уровне 0.01. Т.к. объем нашей выборки относительно большой, случайные отклонения будут компенсировать друг друга, и получить значимое различие в выборках при их однородности менее вероятно. Следовательно, можно взять меньший уровень значимости и уменьшить вероятность ошибочного отклонения нулевой гипотезы в результате случайной ошибки."
   ]
  },
  {
   "cell_type": "code",
   "execution_count": 29,
   "metadata": {},
   "outputs": [
    {
     "name": "stdout",
     "output_type": "stream",
     "text": [
      "p-значение: 8.081909555489933e-161\n",
      "Отвергаем нулевую гипотезу\n"
     ]
    }
   ],
   "source": [
    "ultra_profit = merge_data.query('tariff == \"ultra\"')['profit_month'].to_list()\n",
    "smart_profit = merge_data.query('tariff == \"smart\"')['profit_month'].to_list()\n",
    "\n",
    "alpha = 0.01\n",
    "results = st.ttest_ind(ultra_profit, smart_profit)\n",
    "print('p-значение:', results.pvalue)\n",
    "if results.pvalue < alpha:\n",
    "    print('Отвергаем нулевую гипотезу')\n",
    "else:\n",
    "    print('Не получилось отвергнуть нулевую гипотезу') "
   ]
  },
  {
   "cell_type": "markdown",
   "metadata": {},
   "source": [
    "Вероятность того, что \"Средняя выручка пользователей тарифов «Ультра» и «Смарт» равны\" - низка, делаем вывод, что, скорее всего, наше предположение неверно и принимаем альтернативную гипотезу, что \"Средняя выручка пользователей тарифов «Ультра» и «Смарт» не равны\""
   ]
  },
  {
   "cell_type": "markdown",
   "metadata": {},
   "source": [
    "### Средняя выручка пользователей из Москвы отличается от выручки пользователей из других регионов"
   ]
  },
  {
   "cell_type": "markdown",
   "metadata": {},
   "source": [
    "\"Средняя выручка пользователей из Москвы отличается от выручки пользователей из других регионов\".\n",
    "\n",
    "Сформулируем нулевую гипотезу для этого утверждения:  \n",
    "\"Средняя выручка пользователей из Москвы и пользователей из других регионов равны\".  \n",
    "Альтернативная гипотеза:  \n",
    "\"Средняя выручка пользователей из Москвы и пользователей из других регионов не равны\""
   ]
  },
  {
   "cell_type": "code",
   "execution_count": 30,
   "metadata": {},
   "outputs": [
    {
     "name": "stdout",
     "output_type": "stream",
     "text": [
      "p-значение: 0.5400751614511182\n",
      "Не получилось отвергнуть нулевую гипотезу\n"
     ]
    }
   ],
   "source": [
    "Moscow_profit = merge_data.query('city == \"Москва\"')['profit_month'].to_list()\n",
    "other_profit = merge_data.query('city != \"Москва\"')['profit_month'].to_list()\n",
    "\n",
    "alpha = 0.01\n",
    "results = st.ttest_ind(Moscow_profit, other_profit)\n",
    "print('p-значение:', results.pvalue)\n",
    "if results.pvalue < alpha:\n",
    "    print('Отвергаем нулевую гипотезу')\n",
    "else:\n",
    "    print('Не получилось отвергнуть нулевую гипотезу') "
   ]
  },
  {
   "cell_type": "markdown",
   "metadata": {},
   "source": [
    "Вероятность того, что \"Средняя выручка пользователей из Москвы и пользователей из других регионов равны\" относительно высока, данные не дают основания отвергнуть это предположение. Принимаем нулевую гипотезу."
   ]
  },
  {
   "cell_type": "markdown",
   "metadata": {},
   "source": [
    "## Общий вывод"
   ]
  },
  {
   "cell_type": "markdown",
   "metadata": {},
   "source": [
    "Проведен предварительный анализ тарифов на выборке данных за 2018 год 500 пользователей оператора. Проанализировано поведение клиентов по использованию ими услуг связи. \n",
    "\n",
    "Пользователи тарифа Ультра в среднем используют бо́льшие объемы услуг. Средняя выручка с пользователя тарифа Ультра больше, но при этом она близка к размеру абонентской платы. В то же время у пользователей тарифа Смарт средняя выручка превышает абонентскую плату в 2.3 раза и имеет относительно большой разброс.\n",
    "На тарифе Смарт достаточно большая часть пользователей не укладывается во включенные в тариф 500 минут и используют платные, на тарифе Ультра абоненты используют только включенные в тариф минуты. Есть пользователи вообще не пользующиеся звонками. Cообщения не так популярны, многие ими не пользуются или используют минимально. Больше половины пользователей тарифа Смарт не укладываются во включенный в тариф интернет-трафик и используют платный, на тарифе Ультра таких пользователей меньше. На обоих тарифах есть пользователи вообще не использующие мегабайты. \n",
    "\n",
    "На основании проведенных рассчетов получены результаты, что вероятность того, что средняя выручка пользователей тарифов «Ультра» и «Смарт» равны - крайне низкая, и скорее всего, средняя выручка пользователей тарифов «Ультра» и «Смарт» не равны. А также вероятность того, что средняя выручка пользователей из Москвы и пользователей из других регионов равны - относительно высока и не дает основания отвергнуть это предположение."
   ]
  },
  {
   "cell_type": "code",
   "execution_count": null,
   "metadata": {},
   "outputs": [],
   "source": []
  }
 ],
 "metadata": {
  "ExecuteTimeLog": [
   {
    "duration": 809,
    "start_time": "2021-08-27T20:11:24.775Z"
   },
   {
    "duration": 26,
    "start_time": "2021-08-27T20:12:17.975Z"
   },
   {
    "duration": 8,
    "start_time": "2021-08-27T20:13:07.973Z"
   },
   {
    "duration": 16,
    "start_time": "2021-08-27T20:13:43.175Z"
   },
   {
    "duration": 25,
    "start_time": "2021-08-27T20:18:03.799Z"
   },
   {
    "duration": 33,
    "start_time": "2021-08-27T20:20:45.502Z"
   },
   {
    "duration": 605,
    "start_time": "2021-08-27T20:26:03.137Z"
   },
   {
    "duration": 614,
    "start_time": "2021-08-27T20:26:49.446Z"
   },
   {
    "duration": 13,
    "start_time": "2021-08-27T20:29:00.831Z"
   },
   {
    "duration": 607,
    "start_time": "2021-08-27T20:35:51.072Z"
   },
   {
    "duration": 659,
    "start_time": "2021-08-27T20:36:05.549Z"
   },
   {
    "duration": 604,
    "start_time": "2021-08-27T20:43:02.550Z"
   },
   {
    "duration": 665,
    "start_time": "2021-08-27T21:09:09.147Z"
   },
   {
    "duration": 30,
    "start_time": "2021-08-27T21:23:59.963Z"
   },
   {
    "duration": 829,
    "start_time": "2021-08-27T21:25:18.780Z"
   },
   {
    "duration": 581,
    "start_time": "2021-08-27T21:26:04.666Z"
   },
   {
    "duration": 74,
    "start_time": "2021-08-27T21:36:45.757Z"
   },
   {
    "duration": 177,
    "start_time": "2021-08-27T21:37:24.153Z"
   },
   {
    "duration": 56,
    "start_time": "2021-08-27T21:40:04.813Z"
   },
   {
    "duration": 1369,
    "start_time": "2021-08-27T21:45:03.378Z"
   },
   {
    "duration": 442,
    "start_time": "2021-08-27T21:45:20.055Z"
   },
   {
    "duration": 1361,
    "start_time": "2021-08-27T21:49:45.746Z"
   },
   {
    "duration": 166,
    "start_time": "2021-08-27T21:50:01.738Z"
   },
   {
    "duration": 14,
    "start_time": "2021-08-27T22:00:52.420Z"
   },
   {
    "duration": 6,
    "start_time": "2021-08-27T22:01:11.743Z"
   },
   {
    "duration": 7,
    "start_time": "2021-08-27T22:02:15.276Z"
   },
   {
    "duration": 8,
    "start_time": "2021-08-27T22:02:56.842Z"
   },
   {
    "duration": 6,
    "start_time": "2021-08-27T22:03:41.160Z"
   },
   {
    "duration": 1604,
    "start_time": "2021-08-27T22:04:35.126Z"
   },
   {
    "duration": 30,
    "start_time": "2021-08-27T22:04:45.166Z"
   },
   {
    "duration": 18,
    "start_time": "2021-08-27T22:05:00.010Z"
   },
   {
    "duration": 16,
    "start_time": "2021-08-27T22:05:03.933Z"
   },
   {
    "duration": 38,
    "start_time": "2021-08-27T22:13:43.134Z"
   },
   {
    "duration": 23,
    "start_time": "2021-08-27T22:18:14.098Z"
   },
   {
    "duration": 26,
    "start_time": "2021-08-27T22:18:48.618Z"
   },
   {
    "duration": 455,
    "start_time": "2021-08-27T22:19:31.426Z"
   },
   {
    "duration": 6401,
    "start_time": "2021-08-27T22:20:11.163Z"
   },
   {
    "duration": 69,
    "start_time": "2021-08-27T22:21:26.125Z"
   },
   {
    "duration": 22,
    "start_time": "2021-08-27T22:30:15.073Z"
   },
   {
    "duration": 1333,
    "start_time": "2021-08-28T20:52:08.107Z"
   },
   {
    "duration": 43,
    "start_time": "2021-08-28T20:52:09.443Z"
   },
   {
    "duration": 32,
    "start_time": "2021-08-28T20:52:09.488Z"
   },
   {
    "duration": 143,
    "start_time": "2021-08-28T20:52:09.554Z"
   },
   {
    "duration": 21,
    "start_time": "2021-08-28T20:52:09.699Z"
   },
   {
    "duration": 336,
    "start_time": "2021-08-28T21:02:07.885Z"
   },
   {
    "duration": 66,
    "start_time": "2021-08-28T21:02:35.223Z"
   },
   {
    "duration": 66,
    "start_time": "2021-08-28T21:03:15.105Z"
   },
   {
    "duration": 28,
    "start_time": "2021-08-28T21:12:49.099Z"
   },
   {
    "duration": 85,
    "start_time": "2021-08-28T21:24:55.864Z"
   },
   {
    "duration": 266,
    "start_time": "2021-08-28T21:45:02.226Z"
   },
   {
    "duration": 254,
    "start_time": "2021-08-28T21:45:18.572Z"
   },
   {
    "duration": 644,
    "start_time": "2021-08-28T21:49:55.999Z"
   },
   {
    "duration": 247,
    "start_time": "2021-08-28T21:50:11.696Z"
   },
   {
    "duration": 272,
    "start_time": "2021-08-28T21:50:54.160Z"
   },
   {
    "duration": 1269,
    "start_time": "2021-08-28T21:52:05.143Z"
   },
   {
    "duration": 49,
    "start_time": "2021-08-28T21:52:06.415Z"
   },
   {
    "duration": 31,
    "start_time": "2021-08-28T21:52:06.467Z"
   },
   {
    "duration": 161,
    "start_time": "2021-08-28T21:52:06.501Z"
   },
   {
    "duration": 21,
    "start_time": "2021-08-28T21:52:06.665Z"
   },
   {
    "duration": 5,
    "start_time": "2021-08-28T21:52:06.688Z"
   },
   {
    "duration": 108,
    "start_time": "2021-08-28T21:52:06.695Z"
   },
   {
    "duration": 329,
    "start_time": "2021-08-28T21:52:15.334Z"
   },
   {
    "duration": 244,
    "start_time": "2021-08-28T21:59:56.801Z"
   },
   {
    "duration": 253,
    "start_time": "2021-08-28T22:00:46.774Z"
   },
   {
    "duration": 316,
    "start_time": "2021-08-28T22:12:30.204Z"
   },
   {
    "duration": 242,
    "start_time": "2021-08-28T22:12:57.546Z"
   },
   {
    "duration": 107,
    "start_time": "2021-08-28T22:15:42.119Z"
   },
   {
    "duration": 27,
    "start_time": "2021-08-28T22:16:41.584Z"
   },
   {
    "duration": 1379,
    "start_time": "2021-08-28T22:17:15.475Z"
   },
   {
    "duration": 39,
    "start_time": "2021-08-28T22:17:16.858Z"
   },
   {
    "duration": 57,
    "start_time": "2021-08-28T22:17:16.902Z"
   },
   {
    "duration": 158,
    "start_time": "2021-08-28T22:17:16.962Z"
   },
   {
    "duration": 41,
    "start_time": "2021-08-28T22:17:17.124Z"
   },
   {
    "duration": 3,
    "start_time": "2021-08-28T22:17:17.167Z"
   },
   {
    "duration": 106,
    "start_time": "2021-08-28T22:17:17.173Z"
   },
   {
    "duration": 103,
    "start_time": "2021-08-28T22:17:52.772Z"
   },
   {
    "duration": 108,
    "start_time": "2021-08-28T22:18:06.752Z"
   },
   {
    "duration": 120,
    "start_time": "2021-08-28T22:18:53.534Z"
   },
   {
    "duration": 28,
    "start_time": "2021-08-28T22:25:16.689Z"
   },
   {
    "duration": 95,
    "start_time": "2021-08-28T22:26:11.505Z"
   },
   {
    "duration": 342,
    "start_time": "2021-08-28T22:26:21.679Z"
   },
   {
    "duration": 11,
    "start_time": "2021-08-28T22:39:54.004Z"
   },
   {
    "duration": 74,
    "start_time": "2021-08-28T22:45:04.829Z"
   },
   {
    "duration": 74,
    "start_time": "2021-08-28T22:45:55.500Z"
   },
   {
    "duration": 18,
    "start_time": "2021-08-28T22:49:42.363Z"
   },
   {
    "duration": 16,
    "start_time": "2021-08-28T22:50:13.508Z"
   },
   {
    "duration": 73,
    "start_time": "2021-08-28T22:56:04.868Z"
   },
   {
    "duration": 251,
    "start_time": "2021-08-28T22:59:20.434Z"
   },
   {
    "duration": 251,
    "start_time": "2021-08-28T22:59:42.739Z"
   },
   {
    "duration": 16,
    "start_time": "2021-08-28T23:00:02.045Z"
   },
   {
    "duration": 27,
    "start_time": "2021-08-28T23:14:33.392Z"
   },
   {
    "duration": 36,
    "start_time": "2021-08-28T23:17:17.809Z"
   },
   {
    "duration": 21,
    "start_time": "2021-08-28T23:21:07.077Z"
   },
   {
    "duration": 29,
    "start_time": "2021-08-28T23:21:30.162Z"
   },
   {
    "duration": 15,
    "start_time": "2021-08-28T23:25:56.069Z"
   },
   {
    "duration": 20,
    "start_time": "2021-08-28T23:26:03.076Z"
   },
   {
    "duration": 108,
    "start_time": "2021-08-28T23:34:08.576Z"
   },
   {
    "duration": 11,
    "start_time": "2021-08-28T23:34:19.815Z"
   },
   {
    "duration": 267,
    "start_time": "2021-08-28T23:35:01.639Z"
   },
   {
    "duration": 24,
    "start_time": "2021-08-28T23:39:19.480Z"
   },
   {
    "duration": 22,
    "start_time": "2021-08-28T23:39:48.959Z"
   },
   {
    "duration": 14,
    "start_time": "2021-08-28T23:39:52.062Z"
   },
   {
    "duration": 1502,
    "start_time": "2021-08-29T09:54:45.817Z"
   },
   {
    "duration": 40,
    "start_time": "2021-08-29T09:54:47.321Z"
   },
   {
    "duration": 46,
    "start_time": "2021-08-29T09:54:47.366Z"
   },
   {
    "duration": 236,
    "start_time": "2021-08-29T09:54:47.414Z"
   },
   {
    "duration": 22,
    "start_time": "2021-08-29T09:54:47.652Z"
   },
   {
    "duration": 4,
    "start_time": "2021-08-29T09:54:47.677Z"
   },
   {
    "duration": 98,
    "start_time": "2021-08-29T09:54:47.684Z"
   },
   {
    "duration": 122,
    "start_time": "2021-08-29T09:54:54.512Z"
   },
   {
    "duration": 1266,
    "start_time": "2021-08-29T09:56:19.052Z"
   },
   {
    "duration": 40,
    "start_time": "2021-08-29T09:56:20.322Z"
   },
   {
    "duration": 29,
    "start_time": "2021-08-29T09:56:20.365Z"
   },
   {
    "duration": 159,
    "start_time": "2021-08-29T09:56:20.397Z"
   },
   {
    "duration": 21,
    "start_time": "2021-08-29T09:56:20.558Z"
   },
   {
    "duration": 7,
    "start_time": "2021-08-29T09:56:20.582Z"
   },
   {
    "duration": 67,
    "start_time": "2021-08-29T09:57:26.491Z"
   },
   {
    "duration": 113,
    "start_time": "2021-08-29T09:57:40.117Z"
   },
   {
    "duration": 17,
    "start_time": "2021-08-29T09:58:09.764Z"
   },
   {
    "duration": 23,
    "start_time": "2021-08-29T09:59:42.224Z"
   },
   {
    "duration": 13,
    "start_time": "2021-08-29T10:00:14.143Z"
   },
   {
    "duration": 22,
    "start_time": "2021-08-29T10:00:18.839Z"
   },
   {
    "duration": 21,
    "start_time": "2021-08-29T10:00:50.712Z"
   },
   {
    "duration": 23,
    "start_time": "2021-08-29T10:05:04.574Z"
   },
   {
    "duration": 36,
    "start_time": "2021-08-29T10:05:17.457Z"
   },
   {
    "duration": 26,
    "start_time": "2021-08-29T10:06:13.129Z"
   },
   {
    "duration": 34,
    "start_time": "2021-08-29T10:07:52.927Z"
   },
   {
    "duration": 30,
    "start_time": "2021-08-29T10:08:18.151Z"
   },
   {
    "duration": 27,
    "start_time": "2021-08-29T10:09:07.032Z"
   },
   {
    "duration": 37,
    "start_time": "2021-08-29T10:14:30.877Z"
   },
   {
    "duration": 10,
    "start_time": "2021-08-29T10:19:41.431Z"
   },
   {
    "duration": 17,
    "start_time": "2021-08-29T10:21:52.676Z"
   },
   {
    "duration": 22,
    "start_time": "2021-08-29T10:22:55.664Z"
   },
   {
    "duration": 17,
    "start_time": "2021-08-29T10:23:25.848Z"
   },
   {
    "duration": 135,
    "start_time": "2021-08-29T10:46:17.462Z"
   },
   {
    "duration": 95,
    "start_time": "2021-08-29T10:46:26.948Z"
   },
   {
    "duration": 24,
    "start_time": "2021-08-29T10:46:40.936Z"
   },
   {
    "duration": 19,
    "start_time": "2021-08-29T10:46:57.772Z"
   },
   {
    "duration": 440,
    "start_time": "2021-08-29T10:47:05.899Z"
   },
   {
    "duration": 22,
    "start_time": "2021-08-29T10:47:44.020Z"
   },
   {
    "duration": 91,
    "start_time": "2021-08-29T10:49:50.434Z"
   },
   {
    "duration": 18,
    "start_time": "2021-08-29T10:49:57.584Z"
   },
   {
    "duration": 20,
    "start_time": "2021-08-29T10:50:20.600Z"
   },
   {
    "duration": 18,
    "start_time": "2021-08-29T10:50:33.661Z"
   },
   {
    "duration": 20,
    "start_time": "2021-08-29T10:52:52.761Z"
   },
   {
    "duration": 18,
    "start_time": "2021-08-29T10:54:01.273Z"
   },
   {
    "duration": 18,
    "start_time": "2021-08-29T10:54:58.219Z"
   },
   {
    "duration": 22,
    "start_time": "2021-08-29T10:55:12.568Z"
   },
   {
    "duration": 19,
    "start_time": "2021-08-29T10:55:25.985Z"
   },
   {
    "duration": 146,
    "start_time": "2021-08-29T11:00:13.280Z"
   },
   {
    "duration": 18,
    "start_time": "2021-08-29T11:00:43.829Z"
   },
   {
    "duration": 23,
    "start_time": "2021-08-29T11:01:31.963Z"
   },
   {
    "duration": 31,
    "start_time": "2021-08-29T11:12:40.454Z"
   },
   {
    "duration": 29,
    "start_time": "2021-08-29T11:14:08.334Z"
   },
   {
    "duration": 24,
    "start_time": "2021-08-29T11:17:11.966Z"
   },
   {
    "duration": 7696,
    "start_time": "2021-08-29T11:18:14.177Z"
   },
   {
    "duration": 19,
    "start_time": "2021-08-29T11:18:32.653Z"
   },
   {
    "duration": 19,
    "start_time": "2021-08-29T11:54:50.722Z"
   },
   {
    "duration": 17,
    "start_time": "2021-08-29T12:03:33.052Z"
   },
   {
    "duration": 21,
    "start_time": "2021-08-29T12:04:23.033Z"
   },
   {
    "duration": 8,
    "start_time": "2021-08-29T12:06:45.333Z"
   },
   {
    "duration": 12,
    "start_time": "2021-08-29T12:07:04.681Z"
   },
   {
    "duration": 296,
    "start_time": "2021-08-29T12:09:18.001Z"
   },
   {
    "duration": 14,
    "start_time": "2021-08-29T12:09:39.655Z"
   },
   {
    "duration": 10,
    "start_time": "2021-08-29T12:13:32.363Z"
   },
   {
    "duration": 28,
    "start_time": "2021-08-29T12:33:10.367Z"
   },
   {
    "duration": 35,
    "start_time": "2021-08-29T12:33:47.831Z"
   },
   {
    "duration": 28,
    "start_time": "2021-08-29T12:34:07.914Z"
   },
   {
    "duration": 14,
    "start_time": "2021-08-29T12:37:20.466Z"
   },
   {
    "duration": 8,
    "start_time": "2021-08-29T12:38:59.109Z"
   },
   {
    "duration": 9,
    "start_time": "2021-08-29T12:39:03.102Z"
   },
   {
    "duration": 14,
    "start_time": "2021-08-29T12:40:18.688Z"
   },
   {
    "duration": 1260,
    "start_time": "2021-08-29T12:51:20.272Z"
   },
   {
    "duration": 33,
    "start_time": "2021-08-29T12:51:21.535Z"
   },
   {
    "duration": 27,
    "start_time": "2021-08-29T12:51:21.571Z"
   },
   {
    "duration": 151,
    "start_time": "2021-08-29T12:51:21.601Z"
   },
   {
    "duration": 21,
    "start_time": "2021-08-29T12:51:21.755Z"
   },
   {
    "duration": 2,
    "start_time": "2021-08-29T12:51:21.779Z"
   },
   {
    "duration": 93,
    "start_time": "2021-08-29T12:51:21.783Z"
   },
   {
    "duration": 107,
    "start_time": "2021-08-29T12:51:21.879Z"
   },
   {
    "duration": 2,
    "start_time": "2021-08-29T12:51:21.990Z"
   },
   {
    "duration": 48,
    "start_time": "2021-08-29T12:51:21.995Z"
   },
   {
    "duration": 2,
    "start_time": "2021-08-29T12:51:22.045Z"
   },
   {
    "duration": 43,
    "start_time": "2021-08-29T12:51:22.049Z"
   },
   {
    "duration": 53,
    "start_time": "2021-08-29T12:51:22.094Z"
   },
   {
    "duration": 23,
    "start_time": "2021-08-29T12:51:22.149Z"
   },
   {
    "duration": 24,
    "start_time": "2021-08-29T12:51:39.813Z"
   },
   {
    "duration": 33,
    "start_time": "2021-08-29T12:52:41.048Z"
   },
   {
    "duration": 23,
    "start_time": "2021-08-29T12:53:20.533Z"
   },
   {
    "duration": 11,
    "start_time": "2021-08-29T12:53:43.220Z"
   },
   {
    "duration": 42,
    "start_time": "2021-08-29T12:54:15.424Z"
   },
   {
    "duration": 2147,
    "start_time": "2021-08-29T12:54:59.821Z"
   },
   {
    "duration": 33,
    "start_time": "2021-08-29T12:55:01.971Z"
   },
   {
    "duration": 47,
    "start_time": "2021-08-29T12:55:02.007Z"
   },
   {
    "duration": 136,
    "start_time": "2021-08-29T12:55:02.057Z"
   },
   {
    "duration": 21,
    "start_time": "2021-08-29T12:55:02.195Z"
   },
   {
    "duration": 3,
    "start_time": "2021-08-29T12:55:02.218Z"
   },
   {
    "duration": 81,
    "start_time": "2021-08-29T12:55:02.240Z"
   },
   {
    "duration": 126,
    "start_time": "2021-08-29T12:55:02.323Z"
   },
   {
    "duration": 3,
    "start_time": "2021-08-29T12:55:02.452Z"
   },
   {
    "duration": 42,
    "start_time": "2021-08-29T12:55:02.458Z"
   },
   {
    "duration": 2,
    "start_time": "2021-08-29T12:55:02.502Z"
   },
   {
    "duration": 58,
    "start_time": "2021-08-29T12:55:02.507Z"
   },
   {
    "duration": 31,
    "start_time": "2021-08-29T12:55:02.567Z"
   },
   {
    "duration": 41,
    "start_time": "2021-08-29T12:55:02.601Z"
   },
   {
    "duration": 25,
    "start_time": "2021-08-29T12:55:02.644Z"
   },
   {
    "duration": 40,
    "start_time": "2021-08-29T12:55:09.540Z"
   },
   {
    "duration": 15,
    "start_time": "2021-08-29T12:57:00.925Z"
   },
   {
    "duration": 24,
    "start_time": "2021-08-29T12:57:18.114Z"
   },
   {
    "duration": 28,
    "start_time": "2021-08-29T12:57:50.534Z"
   },
   {
    "duration": 7,
    "start_time": "2021-08-29T12:58:42.789Z"
   },
   {
    "duration": 10,
    "start_time": "2021-08-29T12:59:44.189Z"
   },
   {
    "duration": 21,
    "start_time": "2021-08-29T12:59:56.561Z"
   },
   {
    "duration": 102,
    "start_time": "2021-08-29T13:00:21.766Z"
   },
   {
    "duration": 21,
    "start_time": "2021-08-29T13:00:32.553Z"
   },
   {
    "duration": 15,
    "start_time": "2021-08-29T13:00:53.512Z"
   },
   {
    "duration": 9,
    "start_time": "2021-08-29T13:01:44.287Z"
   },
   {
    "duration": 362,
    "start_time": "2021-08-29T13:02:59.515Z"
   },
   {
    "duration": 299,
    "start_time": "2021-08-29T13:04:49.700Z"
   },
   {
    "duration": 291,
    "start_time": "2021-08-29T13:05:54.578Z"
   },
   {
    "duration": 282,
    "start_time": "2021-08-29T13:07:12.447Z"
   },
   {
    "duration": 1245,
    "start_time": "2021-08-29T13:54:27.211Z"
   },
   {
    "duration": 34,
    "start_time": "2021-08-29T13:54:28.459Z"
   },
   {
    "duration": 30,
    "start_time": "2021-08-29T13:54:28.495Z"
   },
   {
    "duration": 147,
    "start_time": "2021-08-29T13:54:28.527Z"
   },
   {
    "duration": 22,
    "start_time": "2021-08-29T13:54:28.676Z"
   },
   {
    "duration": 3,
    "start_time": "2021-08-29T13:54:28.700Z"
   },
   {
    "duration": 93,
    "start_time": "2021-08-29T13:54:28.706Z"
   },
   {
    "duration": 148,
    "start_time": "2021-08-29T13:54:28.802Z"
   },
   {
    "duration": 3,
    "start_time": "2021-08-29T13:54:28.953Z"
   },
   {
    "duration": 40,
    "start_time": "2021-08-29T13:54:28.959Z"
   },
   {
    "duration": 3,
    "start_time": "2021-08-29T13:54:29.002Z"
   },
   {
    "duration": 64,
    "start_time": "2021-08-29T13:54:29.007Z"
   },
   {
    "duration": 31,
    "start_time": "2021-08-29T13:54:29.074Z"
   },
   {
    "duration": 43,
    "start_time": "2021-08-29T13:54:29.108Z"
   },
   {
    "duration": 25,
    "start_time": "2021-08-29T13:54:29.153Z"
   },
   {
    "duration": 27,
    "start_time": "2021-08-29T13:54:53.160Z"
   },
   {
    "duration": 12,
    "start_time": "2021-08-29T13:55:19.506Z"
   },
   {
    "duration": 8,
    "start_time": "2021-08-29T13:55:34.790Z"
   },
   {
    "duration": 16,
    "start_time": "2021-08-29T13:56:04.323Z"
   },
   {
    "duration": 37,
    "start_time": "2021-08-29T14:01:09.836Z"
   },
   {
    "duration": 8,
    "start_time": "2021-08-29T14:02:50.673Z"
   },
   {
    "duration": 18,
    "start_time": "2021-08-29T14:06:55.057Z"
   },
   {
    "duration": 6,
    "start_time": "2021-08-29T14:46:45.132Z"
   },
   {
    "duration": 28,
    "start_time": "2021-08-29T14:54:50.060Z"
   },
   {
    "duration": 8,
    "start_time": "2021-08-29T14:55:19.819Z"
   },
   {
    "duration": 8,
    "start_time": "2021-08-29T14:55:34.307Z"
   },
   {
    "duration": 35,
    "start_time": "2021-08-29T14:56:11.950Z"
   },
   {
    "duration": 36,
    "start_time": "2021-08-29T15:02:55.203Z"
   },
   {
    "duration": 25,
    "start_time": "2021-08-29T15:04:20.779Z"
   },
   {
    "duration": 5,
    "start_time": "2021-08-29T15:21:52.364Z"
   },
   {
    "duration": 11,
    "start_time": "2021-08-29T15:22:17.366Z"
   },
   {
    "duration": 1222,
    "start_time": "2021-08-29T15:22:59.061Z"
   },
   {
    "duration": 33,
    "start_time": "2021-08-29T15:23:00.286Z"
   },
   {
    "duration": 41,
    "start_time": "2021-08-29T15:23:00.343Z"
   },
   {
    "duration": 162,
    "start_time": "2021-08-29T15:23:00.388Z"
   },
   {
    "duration": 22,
    "start_time": "2021-08-29T15:23:00.552Z"
   },
   {
    "duration": 18,
    "start_time": "2021-08-29T15:23:00.576Z"
   },
   {
    "duration": 95,
    "start_time": "2021-08-29T15:23:00.596Z"
   },
   {
    "duration": 118,
    "start_time": "2021-08-29T15:23:00.694Z"
   },
   {
    "duration": 3,
    "start_time": "2021-08-29T15:23:00.815Z"
   },
   {
    "duration": 62,
    "start_time": "2021-08-29T15:23:00.820Z"
   },
   {
    "duration": 11,
    "start_time": "2021-08-29T15:23:00.885Z"
   },
   {
    "duration": 50,
    "start_time": "2021-08-29T15:23:00.899Z"
   },
   {
    "duration": 36,
    "start_time": "2021-08-29T15:23:00.951Z"
   },
   {
    "duration": 24,
    "start_time": "2021-08-29T15:23:00.989Z"
   },
   {
    "duration": 47,
    "start_time": "2021-08-29T15:23:01.015Z"
   },
   {
    "duration": 27,
    "start_time": "2021-08-29T15:23:01.064Z"
   },
   {
    "duration": 15,
    "start_time": "2021-08-29T15:23:01.094Z"
   },
   {
    "duration": 17,
    "start_time": "2021-08-29T15:23:01.141Z"
   },
   {
    "duration": 22,
    "start_time": "2021-08-29T15:23:01.160Z"
   },
   {
    "duration": 66,
    "start_time": "2021-08-29T15:23:01.184Z"
   },
   {
    "duration": 18,
    "start_time": "2021-08-29T15:23:01.253Z"
   },
   {
    "duration": 27,
    "start_time": "2021-08-29T15:23:01.274Z"
   },
   {
    "duration": 21,
    "start_time": "2021-08-29T15:23:01.305Z"
   },
   {
    "duration": 58,
    "start_time": "2021-08-29T15:23:01.329Z"
   },
   {
    "duration": 28,
    "start_time": "2021-08-29T15:23:01.390Z"
   },
   {
    "duration": 11,
    "start_time": "2021-08-29T15:23:14.655Z"
   },
   {
    "duration": 38,
    "start_time": "2021-08-29T15:23:48.181Z"
   },
   {
    "duration": 27,
    "start_time": "2021-08-29T15:24:12.307Z"
   },
   {
    "duration": 89,
    "start_time": "2021-08-29T17:40:39.552Z"
   },
   {
    "duration": 4,
    "start_time": "2021-08-29T17:41:22.385Z"
   },
   {
    "duration": 311,
    "start_time": "2021-08-29T17:43:01.710Z"
   },
   {
    "duration": 8,
    "start_time": "2021-08-29T17:43:25.540Z"
   },
   {
    "duration": 15,
    "start_time": "2021-08-29T17:44:43.886Z"
   },
   {
    "duration": 6,
    "start_time": "2021-08-29T17:45:46.496Z"
   },
   {
    "duration": 19,
    "start_time": "2021-08-29T17:46:33.956Z"
   },
   {
    "duration": 14,
    "start_time": "2021-08-29T17:48:33.616Z"
   },
   {
    "duration": 16,
    "start_time": "2021-08-29T17:56:12.356Z"
   },
   {
    "duration": 7,
    "start_time": "2021-08-29T17:57:06.299Z"
   },
   {
    "duration": 15,
    "start_time": "2021-08-29T17:57:16.781Z"
   },
   {
    "duration": 14,
    "start_time": "2021-08-29T17:57:43.839Z"
   },
   {
    "duration": 15,
    "start_time": "2021-08-29T17:58:02.307Z"
   },
   {
    "duration": 7,
    "start_time": "2021-08-29T17:59:19.089Z"
   },
   {
    "duration": 15,
    "start_time": "2021-08-29T17:59:32.858Z"
   },
   {
    "duration": 8,
    "start_time": "2021-08-29T18:01:21.800Z"
   },
   {
    "duration": 221,
    "start_time": "2021-08-29T18:02:52.545Z"
   },
   {
    "duration": 241,
    "start_time": "2021-08-29T18:03:43.282Z"
   },
   {
    "duration": 229,
    "start_time": "2021-08-29T18:05:03.553Z"
   },
   {
    "duration": 208,
    "start_time": "2021-08-29T18:06:10.920Z"
   },
   {
    "duration": 674,
    "start_time": "2021-08-29T19:33:46.869Z"
   },
   {
    "duration": 469,
    "start_time": "2021-08-29T19:34:22.346Z"
   },
   {
    "duration": 207,
    "start_time": "2021-08-29T19:34:56.870Z"
   },
   {
    "duration": 230,
    "start_time": "2021-08-29T19:35:33.388Z"
   },
   {
    "duration": 514,
    "start_time": "2021-08-29T19:38:04.961Z"
   },
   {
    "duration": 224,
    "start_time": "2021-08-29T19:38:24.889Z"
   },
   {
    "duration": 200,
    "start_time": "2021-08-29T21:05:17.708Z"
   },
   {
    "duration": 232,
    "start_time": "2021-08-29T21:05:34.536Z"
   },
   {
    "duration": 92,
    "start_time": "2021-08-29T21:08:44.262Z"
   },
   {
    "duration": 210,
    "start_time": "2021-08-29T21:14:52.613Z"
   },
   {
    "duration": 414,
    "start_time": "2021-08-29T21:15:47.792Z"
   },
   {
    "duration": 480,
    "start_time": "2021-08-29T21:16:09.804Z"
   },
   {
    "duration": 86,
    "start_time": "2021-08-29T21:17:17.541Z"
   },
   {
    "duration": 391,
    "start_time": "2021-08-29T21:29:25.080Z"
   },
   {
    "duration": 393,
    "start_time": "2021-08-29T21:30:25.940Z"
   },
   {
    "duration": 392,
    "start_time": "2021-08-29T21:31:23.309Z"
   },
   {
    "duration": 391,
    "start_time": "2021-08-29T21:33:17.825Z"
   },
   {
    "duration": 206,
    "start_time": "2021-08-29T21:33:33.334Z"
   },
   {
    "duration": 295,
    "start_time": "2021-08-29T21:42:58.067Z"
   },
   {
    "duration": 285,
    "start_time": "2021-08-29T21:43:25.665Z"
   },
   {
    "duration": 367,
    "start_time": "2021-08-29T21:43:50.668Z"
   },
   {
    "duration": 289,
    "start_time": "2021-08-29T21:44:36.192Z"
   },
   {
    "duration": 262,
    "start_time": "2021-08-29T21:45:11.385Z"
   },
   {
    "duration": 356,
    "start_time": "2021-08-29T21:46:04.781Z"
   },
   {
    "duration": 316,
    "start_time": "2021-08-29T21:47:00.605Z"
   },
   {
    "duration": 524,
    "start_time": "2021-08-29T21:48:28.140Z"
   },
   {
    "duration": 328,
    "start_time": "2021-08-29T21:53:48.064Z"
   },
   {
    "duration": 323,
    "start_time": "2021-08-29T21:55:19.248Z"
   },
   {
    "duration": 461,
    "start_time": "2021-08-29T21:55:58.776Z"
   },
   {
    "duration": 313,
    "start_time": "2021-08-29T21:56:29.453Z"
   },
   {
    "duration": 311,
    "start_time": "2021-08-29T21:58:02.044Z"
   },
   {
    "duration": 253,
    "start_time": "2021-08-29T21:58:42.059Z"
   },
   {
    "duration": 350,
    "start_time": "2021-08-29T22:02:21.288Z"
   },
   {
    "duration": 319,
    "start_time": "2021-08-29T22:03:33.200Z"
   },
   {
    "duration": 294,
    "start_time": "2021-08-29T22:03:55.586Z"
   },
   {
    "duration": 270,
    "start_time": "2021-08-29T22:05:51.509Z"
   },
   {
    "duration": 7,
    "start_time": "2021-08-29T22:14:42.203Z"
   },
   {
    "duration": 8,
    "start_time": "2021-08-29T22:15:01.946Z"
   },
   {
    "duration": 6,
    "start_time": "2021-08-29T22:15:13.282Z"
   },
   {
    "duration": 20,
    "start_time": "2021-08-29T22:21:40.738Z"
   },
   {
    "duration": 14,
    "start_time": "2021-08-29T22:22:00.832Z"
   },
   {
    "duration": 274,
    "start_time": "2021-08-29T22:27:10.308Z"
   },
   {
    "duration": 23,
    "start_time": "2021-08-29T22:28:04.424Z"
   },
   {
    "duration": 1193,
    "start_time": "2021-08-30T13:20:37.145Z"
   },
   {
    "duration": 34,
    "start_time": "2021-08-30T13:20:38.340Z"
   },
   {
    "duration": 22,
    "start_time": "2021-08-30T13:20:38.377Z"
   },
   {
    "duration": 139,
    "start_time": "2021-08-30T13:20:38.402Z"
   },
   {
    "duration": 16,
    "start_time": "2021-08-30T13:20:38.543Z"
   },
   {
    "duration": 6,
    "start_time": "2021-08-30T13:20:38.561Z"
   },
   {
    "duration": 114,
    "start_time": "2021-08-30T13:20:38.569Z"
   },
   {
    "duration": 102,
    "start_time": "2021-08-30T13:20:38.685Z"
   },
   {
    "duration": 3,
    "start_time": "2021-08-30T13:20:38.790Z"
   },
   {
    "duration": 38,
    "start_time": "2021-08-30T13:20:38.795Z"
   },
   {
    "duration": 6,
    "start_time": "2021-08-30T13:20:38.835Z"
   },
   {
    "duration": 33,
    "start_time": "2021-08-30T13:20:38.843Z"
   },
   {
    "duration": 27,
    "start_time": "2021-08-30T13:20:38.878Z"
   },
   {
    "duration": 44,
    "start_time": "2021-08-30T13:20:38.906Z"
   },
   {
    "duration": 21,
    "start_time": "2021-08-30T13:20:38.952Z"
   },
   {
    "duration": 24,
    "start_time": "2021-08-30T13:20:38.975Z"
   },
   {
    "duration": 45,
    "start_time": "2021-08-30T13:20:39.001Z"
   },
   {
    "duration": 16,
    "start_time": "2021-08-30T13:20:39.048Z"
   },
   {
    "duration": 9,
    "start_time": "2021-08-30T13:20:39.066Z"
   },
   {
    "duration": 31,
    "start_time": "2021-08-30T13:20:39.076Z"
   },
   {
    "duration": 33,
    "start_time": "2021-08-30T13:20:39.109Z"
   },
   {
    "duration": 14,
    "start_time": "2021-08-30T13:20:39.144Z"
   },
   {
    "duration": 9,
    "start_time": "2021-08-30T13:20:39.160Z"
   },
   {
    "duration": 31,
    "start_time": "2021-08-30T13:20:39.171Z"
   },
   {
    "duration": 41,
    "start_time": "2021-08-30T13:20:39.204Z"
   },
   {
    "duration": 12,
    "start_time": "2021-08-30T13:20:39.247Z"
   },
   {
    "duration": 33,
    "start_time": "2021-08-30T13:20:39.263Z"
   },
   {
    "duration": 51,
    "start_time": "2021-08-30T13:20:39.298Z"
   },
   {
    "duration": 4,
    "start_time": "2021-08-30T13:20:39.351Z"
   },
   {
    "duration": 6,
    "start_time": "2021-08-30T13:20:39.357Z"
   },
   {
    "duration": 5,
    "start_time": "2021-08-30T13:20:39.365Z"
   },
   {
    "duration": 259,
    "start_time": "2021-08-30T13:20:39.372Z"
   },
   {
    "duration": 492,
    "start_time": "2021-08-30T13:20:39.633Z"
   },
   {
    "duration": 419,
    "start_time": "2021-08-30T13:20:40.127Z"
   },
   {
    "duration": 309,
    "start_time": "2021-08-30T13:20:40.548Z"
   },
   {
    "duration": 304,
    "start_time": "2021-08-30T13:20:40.858Z"
   },
   {
    "duration": 7,
    "start_time": "2021-08-30T13:20:41.164Z"
   },
   {
    "duration": 23,
    "start_time": "2021-08-30T13:20:50.646Z"
   },
   {
    "duration": 896,
    "start_time": "2021-08-30T13:32:01.890Z"
   },
   {
    "duration": 4,
    "start_time": "2021-08-30T13:32:21.907Z"
   },
   {
    "duration": 4,
    "start_time": "2021-08-30T13:33:49.385Z"
   },
   {
    "duration": 4,
    "start_time": "2021-08-30T13:34:27.001Z"
   },
   {
    "duration": 6,
    "start_time": "2021-08-30T13:43:59.245Z"
   },
   {
    "duration": 6,
    "start_time": "2021-08-30T13:44:30.521Z"
   },
   {
    "duration": 6,
    "start_time": "2021-08-30T13:44:42.065Z"
   },
   {
    "duration": 5,
    "start_time": "2021-08-30T13:45:04.015Z"
   },
   {
    "duration": 7,
    "start_time": "2021-08-30T13:46:31.153Z"
   },
   {
    "duration": 7,
    "start_time": "2021-08-30T13:46:52.674Z"
   },
   {
    "duration": 7,
    "start_time": "2021-08-30T13:47:01.845Z"
   },
   {
    "duration": 7,
    "start_time": "2021-08-30T13:47:18.208Z"
   },
   {
    "duration": 7,
    "start_time": "2021-08-30T13:49:28.321Z"
   },
   {
    "duration": 7,
    "start_time": "2021-08-30T14:39:23.934Z"
   },
   {
    "duration": 7,
    "start_time": "2021-08-30T14:40:36.877Z"
   },
   {
    "duration": 10,
    "start_time": "2021-08-30T14:41:51.611Z"
   },
   {
    "duration": 7,
    "start_time": "2021-08-30T14:44:31.352Z"
   },
   {
    "duration": 22,
    "start_time": "2021-08-30T14:45:20.328Z"
   },
   {
    "duration": 35,
    "start_time": "2021-08-30T14:49:13.217Z"
   },
   {
    "duration": 24,
    "start_time": "2021-08-30T15:35:01.530Z"
   },
   {
    "duration": 29,
    "start_time": "2021-08-30T15:35:34.072Z"
   },
   {
    "duration": 26,
    "start_time": "2021-08-30T15:36:47.903Z"
   },
   {
    "duration": 32,
    "start_time": "2021-08-30T15:37:02.093Z"
   },
   {
    "duration": 101,
    "start_time": "2021-08-30T15:38:08.403Z"
   },
   {
    "duration": 30,
    "start_time": "2021-08-30T15:39:49.450Z"
   },
   {
    "duration": 135,
    "start_time": "2021-08-30T15:42:25.755Z"
   },
   {
    "duration": 57,
    "start_time": "2021-08-30T15:42:50.744Z"
   },
   {
    "duration": 65,
    "start_time": "2021-08-30T15:43:28.975Z"
   },
   {
    "duration": 66,
    "start_time": "2021-08-30T15:45:29.376Z"
   },
   {
    "duration": 74,
    "start_time": "2021-08-30T15:46:42.670Z"
   },
   {
    "duration": 75,
    "start_time": "2021-08-30T15:46:54.246Z"
   },
   {
    "duration": 432,
    "start_time": "2021-08-30T15:47:11.148Z"
   },
   {
    "duration": 71,
    "start_time": "2021-08-30T15:48:41.215Z"
   },
   {
    "duration": 31,
    "start_time": "2021-08-30T15:53:25.801Z"
   },
   {
    "duration": 28,
    "start_time": "2021-08-30T15:53:44.911Z"
   },
   {
    "duration": 280,
    "start_time": "2021-08-30T15:56:22.229Z"
   },
   {
    "duration": 27,
    "start_time": "2021-08-30T15:57:22.274Z"
   },
   {
    "duration": 31,
    "start_time": "2021-08-30T15:57:31.769Z"
   },
   {
    "duration": 322,
    "start_time": "2021-08-30T15:57:47.447Z"
   },
   {
    "duration": 300,
    "start_time": "2021-08-30T16:00:21.169Z"
   },
   {
    "duration": 384,
    "start_time": "2021-08-30T16:00:39.505Z"
   },
   {
    "duration": 24,
    "start_time": "2021-08-30T16:05:29.070Z"
   },
   {
    "duration": 1145,
    "start_time": "2021-08-30T16:07:29.620Z"
   },
   {
    "duration": 23,
    "start_time": "2021-08-30T16:07:47.156Z"
   },
   {
    "duration": 30,
    "start_time": "2021-08-30T16:07:54.777Z"
   },
   {
    "duration": 27,
    "start_time": "2021-08-30T16:09:18.524Z"
   },
   {
    "duration": 28,
    "start_time": "2021-08-30T16:11:27.120Z"
   },
   {
    "duration": 29,
    "start_time": "2021-08-30T16:11:57.536Z"
   },
   {
    "duration": 29,
    "start_time": "2021-08-30T16:12:22.835Z"
   },
   {
    "duration": 26,
    "start_time": "2021-08-30T16:12:47.318Z"
   },
   {
    "duration": 27,
    "start_time": "2021-08-30T16:14:39.996Z"
   },
   {
    "duration": 126,
    "start_time": "2021-08-30T20:43:01.502Z"
   },
   {
    "duration": 428,
    "start_time": "2021-08-30T20:43:25.556Z"
   },
   {
    "duration": 1499,
    "start_time": "2021-08-30T20:43:47.952Z"
   },
   {
    "duration": 46,
    "start_time": "2021-08-30T20:43:49.455Z"
   },
   {
    "duration": 26,
    "start_time": "2021-08-30T20:43:49.504Z"
   },
   {
    "duration": 166,
    "start_time": "2021-08-30T20:43:49.533Z"
   },
   {
    "duration": 19,
    "start_time": "2021-08-30T20:43:49.702Z"
   },
   {
    "duration": 6,
    "start_time": "2021-08-30T20:43:49.723Z"
   },
   {
    "duration": 108,
    "start_time": "2021-08-30T20:43:49.731Z"
   },
   {
    "duration": 151,
    "start_time": "2021-08-30T20:43:49.841Z"
   },
   {
    "duration": 3,
    "start_time": "2021-08-30T20:43:49.996Z"
   },
   {
    "duration": 40,
    "start_time": "2021-08-30T20:43:50.003Z"
   },
   {
    "duration": 24,
    "start_time": "2021-08-30T20:43:50.045Z"
   },
   {
    "duration": 45,
    "start_time": "2021-08-30T20:43:50.071Z"
   },
   {
    "duration": 74,
    "start_time": "2021-08-30T20:43:50.120Z"
   },
   {
    "duration": 30,
    "start_time": "2021-08-30T20:43:50.197Z"
   },
   {
    "duration": 58,
    "start_time": "2021-08-30T20:43:50.230Z"
   },
   {
    "duration": 41,
    "start_time": "2021-08-30T20:43:50.291Z"
   },
   {
    "duration": 44,
    "start_time": "2021-08-30T20:43:50.335Z"
   },
   {
    "duration": 20,
    "start_time": "2021-08-30T20:43:50.381Z"
   },
   {
    "duration": 9,
    "start_time": "2021-08-30T20:43:50.404Z"
   },
   {
    "duration": 83,
    "start_time": "2021-08-30T20:43:50.415Z"
   },
   {
    "duration": 8,
    "start_time": "2021-08-30T20:43:50.501Z"
   },
   {
    "duration": 19,
    "start_time": "2021-08-30T20:43:50.512Z"
   },
   {
    "duration": 37,
    "start_time": "2021-08-30T20:43:50.534Z"
   },
   {
    "duration": 45,
    "start_time": "2021-08-30T20:43:50.574Z"
   },
   {
    "duration": 45,
    "start_time": "2021-08-30T20:43:50.622Z"
   },
   {
    "duration": 13,
    "start_time": "2021-08-30T20:43:50.670Z"
   },
   {
    "duration": 78,
    "start_time": "2021-08-30T20:43:50.688Z"
   },
   {
    "duration": 30,
    "start_time": "2021-08-30T20:43:50.769Z"
   },
   {
    "duration": 8,
    "start_time": "2021-08-30T20:43:50.802Z"
   },
   {
    "duration": 6,
    "start_time": "2021-08-30T20:43:50.812Z"
   },
   {
    "duration": 9,
    "start_time": "2021-08-30T20:43:50.820Z"
   },
   {
    "duration": 397,
    "start_time": "2021-08-30T20:43:50.868Z"
   },
   {
    "duration": 818,
    "start_time": "2021-08-30T20:43:51.268Z"
   },
   {
    "duration": 664,
    "start_time": "2021-08-30T20:43:52.088Z"
   },
   {
    "duration": 502,
    "start_time": "2021-08-30T20:43:52.754Z"
   },
   {
    "duration": 489,
    "start_time": "2021-08-30T20:43:53.259Z"
   },
   {
    "duration": 20,
    "start_time": "2021-08-30T20:43:53.751Z"
   },
   {
    "duration": 11,
    "start_time": "2021-08-30T20:43:53.774Z"
   },
   {
    "duration": 33,
    "start_time": "2021-08-30T20:43:53.788Z"
   },
   {
    "duration": 44,
    "start_time": "2021-08-30T20:43:53.823Z"
   },
   {
    "duration": 9,
    "start_time": "2021-08-30T20:43:53.870Z"
   },
   {
    "duration": 6,
    "start_time": "2021-08-30T20:43:53.882Z"
   },
   {
    "duration": 79,
    "start_time": "2021-08-30T20:43:53.890Z"
   },
   {
    "duration": 557,
    "start_time": "2021-08-30T20:44:24.441Z"
   },
   {
    "duration": 375,
    "start_time": "2021-08-30T20:45:00.303Z"
   },
   {
    "duration": 128,
    "start_time": "2021-08-30T20:45:55.346Z"
   },
   {
    "duration": 119,
    "start_time": "2021-08-30T20:52:05.364Z"
   },
   {
    "duration": 110,
    "start_time": "2021-08-30T20:52:23.907Z"
   },
   {
    "duration": 111,
    "start_time": "2021-08-30T20:52:34.212Z"
   },
   {
    "duration": 120,
    "start_time": "2021-08-30T20:57:27.662Z"
   },
   {
    "duration": 122,
    "start_time": "2021-08-30T20:57:52.463Z"
   },
   {
    "duration": 112,
    "start_time": "2021-08-30T20:58:16.833Z"
   },
   {
    "duration": 9,
    "start_time": "2021-08-30T21:03:20.956Z"
   },
   {
    "duration": 8,
    "start_time": "2021-08-30T21:03:23.938Z"
   },
   {
    "duration": 33,
    "start_time": "2021-08-30T21:16:39.950Z"
   },
   {
    "duration": 55,
    "start_time": "2021-08-30T21:19:33.008Z"
   },
   {
    "duration": 1452,
    "start_time": "2021-08-30T21:19:54.996Z"
   },
   {
    "duration": 47,
    "start_time": "2021-08-30T21:19:56.451Z"
   },
   {
    "duration": 26,
    "start_time": "2021-08-30T21:19:56.501Z"
   },
   {
    "duration": 178,
    "start_time": "2021-08-30T21:19:56.529Z"
   },
   {
    "duration": 21,
    "start_time": "2021-08-30T21:19:56.709Z"
   },
   {
    "duration": 10,
    "start_time": "2021-08-30T21:19:56.732Z"
   },
   {
    "duration": 122,
    "start_time": "2021-08-30T21:19:56.744Z"
   },
   {
    "duration": 147,
    "start_time": "2021-08-30T21:19:56.870Z"
   },
   {
    "duration": 3,
    "start_time": "2021-08-30T21:19:57.020Z"
   },
   {
    "duration": 53,
    "start_time": "2021-08-30T21:19:57.025Z"
   },
   {
    "duration": 3,
    "start_time": "2021-08-30T21:19:57.080Z"
   },
   {
    "duration": 46,
    "start_time": "2021-08-30T21:19:57.085Z"
   },
   {
    "duration": 68,
    "start_time": "2021-08-30T21:19:57.133Z"
   },
   {
    "duration": 25,
    "start_time": "2021-08-30T21:19:57.203Z"
   },
   {
    "duration": 58,
    "start_time": "2021-08-30T21:19:57.230Z"
   },
   {
    "duration": 31,
    "start_time": "2021-08-30T21:19:57.290Z"
   },
   {
    "duration": 14,
    "start_time": "2021-08-30T21:19:57.324Z"
   },
   {
    "duration": 44,
    "start_time": "2021-08-30T21:19:57.341Z"
   },
   {
    "duration": 8,
    "start_time": "2021-08-30T21:19:57.387Z"
   },
   {
    "duration": 80,
    "start_time": "2021-08-30T21:19:57.398Z"
   },
   {
    "duration": 8,
    "start_time": "2021-08-30T21:19:57.481Z"
   },
   {
    "duration": 23,
    "start_time": "2021-08-30T21:19:57.491Z"
   },
   {
    "duration": 7,
    "start_time": "2021-08-30T21:19:57.520Z"
   },
   {
    "duration": 41,
    "start_time": "2021-08-30T21:20:00.829Z"
   },
   {
    "duration": 110,
    "start_time": "2021-08-30T21:20:40.507Z"
   },
   {
    "duration": 43,
    "start_time": "2021-08-30T21:22:05.015Z"
   },
   {
    "duration": 1619,
    "start_time": "2021-08-30T21:29:00.576Z"
   },
   {
    "duration": 40,
    "start_time": "2021-08-30T21:29:02.198Z"
   },
   {
    "duration": 44,
    "start_time": "2021-08-30T21:29:02.241Z"
   },
   {
    "duration": 179,
    "start_time": "2021-08-30T21:29:02.288Z"
   },
   {
    "duration": 22,
    "start_time": "2021-08-30T21:29:02.470Z"
   },
   {
    "duration": 8,
    "start_time": "2021-08-30T21:29:02.495Z"
   },
   {
    "duration": 129,
    "start_time": "2021-08-30T21:29:02.506Z"
   },
   {
    "duration": 251,
    "start_time": "2021-08-30T21:29:02.638Z"
   },
   {
    "duration": 4,
    "start_time": "2021-08-30T21:29:02.894Z"
   },
   {
    "duration": 71,
    "start_time": "2021-08-30T21:29:02.901Z"
   },
   {
    "duration": 3,
    "start_time": "2021-08-30T21:29:02.975Z"
   },
   {
    "duration": 60,
    "start_time": "2021-08-30T21:29:02.981Z"
   },
   {
    "duration": 58,
    "start_time": "2021-08-30T21:29:03.043Z"
   },
   {
    "duration": 26,
    "start_time": "2021-08-30T21:29:03.103Z"
   },
   {
    "duration": 62,
    "start_time": "2021-08-30T21:29:03.132Z"
   },
   {
    "duration": 33,
    "start_time": "2021-08-30T21:29:03.196Z"
   },
   {
    "duration": 49,
    "start_time": "2021-08-30T21:29:03.231Z"
   },
   {
    "duration": 18,
    "start_time": "2021-08-30T21:29:03.283Z"
   },
   {
    "duration": 8,
    "start_time": "2021-08-30T21:29:03.303Z"
   },
   {
    "duration": 80,
    "start_time": "2021-08-30T21:29:03.314Z"
   },
   {
    "duration": 8,
    "start_time": "2021-08-30T21:29:03.397Z"
   },
   {
    "duration": 20,
    "start_time": "2021-08-30T21:29:03.407Z"
   },
   {
    "duration": 39,
    "start_time": "2021-08-30T21:29:03.430Z"
   },
   {
    "duration": 58,
    "start_time": "2021-08-30T21:29:03.472Z"
   },
   {
    "duration": 35,
    "start_time": "2021-08-30T21:29:03.532Z"
   },
   {
    "duration": 13,
    "start_time": "2021-08-30T21:29:12.769Z"
   },
   {
    "duration": 49,
    "start_time": "2021-08-30T21:29:25.081Z"
   },
   {
    "duration": 35,
    "start_time": "2021-08-30T21:29:36.890Z"
   },
   {
    "duration": 6,
    "start_time": "2021-08-30T21:29:41.723Z"
   },
   {
    "duration": 393,
    "start_time": "2021-08-30T21:29:45.311Z"
   },
   {
    "duration": 34,
    "start_time": "2021-08-30T21:29:49.448Z"
   },
   {
    "duration": 118,
    "start_time": "2021-08-30T21:30:22.186Z"
   },
   {
    "duration": 131,
    "start_time": "2021-08-30T21:30:34.965Z"
   },
   {
    "duration": 34,
    "start_time": "2021-08-30T21:33:16.037Z"
   },
   {
    "duration": 123,
    "start_time": "2021-08-30T21:34:33.502Z"
   },
   {
    "duration": 815,
    "start_time": "2021-08-30T21:37:33.193Z"
   },
   {
    "duration": 654,
    "start_time": "2021-08-30T21:40:22.020Z"
   },
   {
    "duration": 4,
    "start_time": "2021-08-30T21:50:58.960Z"
   },
   {
    "duration": 5,
    "start_time": "2021-08-30T21:51:10.616Z"
   },
   {
    "duration": 2764,
    "start_time": "2021-08-30T22:01:29.373Z"
   },
   {
    "duration": 2708,
    "start_time": "2021-08-30T22:02:55.130Z"
   },
   {
    "duration": 2726,
    "start_time": "2021-08-30T22:03:54.557Z"
   },
   {
    "duration": 2520,
    "start_time": "2021-08-30T22:05:03.334Z"
   },
   {
    "duration": 2613,
    "start_time": "2021-08-30T22:06:26.523Z"
   },
   {
    "duration": 119,
    "start_time": "2021-08-30T22:46:05.300Z"
   },
   {
    "duration": 1149,
    "start_time": "2021-08-31T00:51:23.734Z"
   },
   {
    "duration": 1964,
    "start_time": "2021-08-31T00:51:59.695Z"
   },
   {
    "duration": 42,
    "start_time": "2021-08-31T00:52:01.667Z"
   },
   {
    "duration": 54,
    "start_time": "2021-08-31T00:52:01.713Z"
   },
   {
    "duration": 165,
    "start_time": "2021-08-31T00:52:01.770Z"
   },
   {
    "duration": 35,
    "start_time": "2021-08-31T00:52:01.938Z"
   },
   {
    "duration": 34,
    "start_time": "2021-08-31T00:52:01.976Z"
   },
   {
    "duration": 99,
    "start_time": "2021-08-31T00:52:02.013Z"
   },
   {
    "duration": 140,
    "start_time": "2021-08-31T00:52:02.116Z"
   },
   {
    "duration": 8,
    "start_time": "2021-08-31T00:52:02.259Z"
   },
   {
    "duration": 49,
    "start_time": "2021-08-31T00:52:02.270Z"
   },
   {
    "duration": 5,
    "start_time": "2021-08-31T00:52:02.322Z"
   },
   {
    "duration": 61,
    "start_time": "2021-08-31T00:52:02.329Z"
   },
   {
    "duration": 37,
    "start_time": "2021-08-31T00:52:02.392Z"
   },
   {
    "duration": 49,
    "start_time": "2021-08-31T00:52:02.431Z"
   },
   {
    "duration": 29,
    "start_time": "2021-08-31T00:52:02.483Z"
   },
   {
    "duration": 57,
    "start_time": "2021-08-31T00:52:02.515Z"
   },
   {
    "duration": 16,
    "start_time": "2021-08-31T00:52:02.574Z"
   },
   {
    "duration": 19,
    "start_time": "2021-08-31T00:52:02.592Z"
   },
   {
    "duration": 14,
    "start_time": "2021-08-31T00:52:02.613Z"
   },
   {
    "duration": 79,
    "start_time": "2021-08-31T00:52:02.629Z"
   },
   {
    "duration": 9,
    "start_time": "2021-08-31T00:52:02.710Z"
   },
   {
    "duration": 54,
    "start_time": "2021-08-31T00:52:02.721Z"
   },
   {
    "duration": 16,
    "start_time": "2021-08-31T00:52:02.779Z"
   },
   {
    "duration": 44,
    "start_time": "2021-08-31T00:52:02.798Z"
   },
   {
    "duration": 25,
    "start_time": "2021-08-31T00:52:02.844Z"
   },
   {
    "duration": 18,
    "start_time": "2021-08-31T00:52:02.871Z"
   },
   {
    "duration": 61,
    "start_time": "2021-08-31T00:52:02.892Z"
   },
   {
    "duration": 41,
    "start_time": "2021-08-31T00:52:02.955Z"
   },
   {
    "duration": 7,
    "start_time": "2021-08-31T00:52:02.999Z"
   },
   {
    "duration": 420,
    "start_time": "2021-08-31T00:52:03.008Z"
   },
   {
    "duration": 44,
    "start_time": "2021-08-31T00:52:03.431Z"
   },
   {
    "duration": 125,
    "start_time": "2021-08-31T00:52:03.477Z"
   },
   {
    "duration": 2489,
    "start_time": "2021-08-31T00:52:03.605Z"
   },
   {
    "duration": 11,
    "start_time": "2021-08-31T00:59:12.872Z"
   },
   {
    "duration": 11,
    "start_time": "2021-08-31T01:00:30.560Z"
   },
   {
    "duration": 13,
    "start_time": "2021-08-31T01:00:59.536Z"
   },
   {
    "duration": 12,
    "start_time": "2021-08-31T01:02:02.030Z"
   },
   {
    "duration": 10,
    "start_time": "2021-08-31T01:02:26.411Z"
   },
   {
    "duration": 23,
    "start_time": "2021-08-31T01:02:44.578Z"
   },
   {
    "duration": 23,
    "start_time": "2021-08-31T01:03:41.445Z"
   },
   {
    "duration": 11,
    "start_time": "2021-08-31T01:04:04.305Z"
   },
   {
    "duration": 11,
    "start_time": "2021-08-31T01:04:28.686Z"
   },
   {
    "duration": 7,
    "start_time": "2021-08-31T01:08:45.911Z"
   },
   {
    "duration": 16,
    "start_time": "2021-08-31T01:10:20.450Z"
   },
   {
    "duration": 15,
    "start_time": "2021-08-31T01:11:00.993Z"
   },
   {
    "duration": 15,
    "start_time": "2021-08-31T01:13:25.867Z"
   },
   {
    "duration": 16,
    "start_time": "2021-08-31T01:13:46.649Z"
   },
   {
    "duration": 16,
    "start_time": "2021-08-31T01:14:06.284Z"
   },
   {
    "duration": 1910,
    "start_time": "2021-08-31T09:24:03.034Z"
   },
   {
    "duration": 38,
    "start_time": "2021-08-31T09:37:51.102Z"
   },
   {
    "duration": 70,
    "start_time": "2021-08-31T09:40:11.650Z"
   },
   {
    "duration": 44,
    "start_time": "2021-08-31T09:41:19.657Z"
   },
   {
    "duration": 33,
    "start_time": "2021-08-31T09:41:48.669Z"
   },
   {
    "duration": 209,
    "start_time": "2021-08-31T09:42:42.522Z"
   },
   {
    "duration": 21,
    "start_time": "2021-08-31T09:44:37.214Z"
   },
   {
    "duration": 99,
    "start_time": "2021-08-31T09:46:42.967Z"
   },
   {
    "duration": 137,
    "start_time": "2021-08-31T09:49:07.023Z"
   },
   {
    "duration": 36,
    "start_time": "2021-08-31T10:03:43.652Z"
   },
   {
    "duration": 44,
    "start_time": "2021-08-31T10:08:17.319Z"
   },
   {
    "duration": 49,
    "start_time": "2021-08-31T10:08:56.842Z"
   },
   {
    "duration": 36,
    "start_time": "2021-08-31T10:09:38.670Z"
   },
   {
    "duration": 25,
    "start_time": "2021-08-31T10:10:21.672Z"
   },
   {
    "duration": 25,
    "start_time": "2021-08-31T10:37:34.686Z"
   },
   {
    "duration": 20,
    "start_time": "2021-08-31T10:38:02.256Z"
   },
   {
    "duration": 26,
    "start_time": "2021-08-31T10:38:09.615Z"
   },
   {
    "duration": 38,
    "start_time": "2021-08-31T10:39:16.598Z"
   },
   {
    "duration": 48,
    "start_time": "2021-08-31T10:42:17.798Z"
   },
   {
    "duration": 76,
    "start_time": "2021-08-31T10:42:50.135Z"
   },
   {
    "duration": 13,
    "start_time": "2021-08-31T10:44:12.262Z"
   },
   {
    "duration": 2589,
    "start_time": "2021-08-31T10:49:07.532Z"
   },
   {
    "duration": 70,
    "start_time": "2021-08-31T10:49:10.124Z"
   },
   {
    "duration": 41,
    "start_time": "2021-08-31T10:49:10.198Z"
   },
   {
    "duration": 170,
    "start_time": "2021-08-31T10:49:10.242Z"
   },
   {
    "duration": 23,
    "start_time": "2021-08-31T10:49:10.414Z"
   },
   {
    "duration": 110,
    "start_time": "2021-08-31T10:49:10.440Z"
   },
   {
    "duration": 140,
    "start_time": "2021-08-31T10:49:10.552Z"
   },
   {
    "duration": 34,
    "start_time": "2021-08-31T10:49:10.697Z"
   },
   {
    "duration": 71,
    "start_time": "2021-08-31T10:49:10.734Z"
   },
   {
    "duration": 35,
    "start_time": "2021-08-31T10:49:10.807Z"
   },
   {
    "duration": 45,
    "start_time": "2021-08-31T10:49:10.844Z"
   },
   {
    "duration": 25,
    "start_time": "2021-08-31T10:49:10.891Z"
   },
   {
    "duration": 68,
    "start_time": "2021-08-31T10:49:10.919Z"
   },
   {
    "duration": 38,
    "start_time": "2021-08-31T10:49:19.457Z"
   },
   {
    "duration": 67,
    "start_time": "2021-08-31T10:54:48.582Z"
   },
   {
    "duration": 44,
    "start_time": "2021-08-31T10:55:22.218Z"
   },
   {
    "duration": 11,
    "start_time": "2021-08-31T10:55:57.468Z"
   },
   {
    "duration": 31,
    "start_time": "2021-08-31T10:57:11.517Z"
   },
   {
    "duration": 17,
    "start_time": "2021-08-31T10:59:28.507Z"
   },
   {
    "duration": 1971,
    "start_time": "2021-08-31T11:08:00.620Z"
   },
   {
    "duration": 60,
    "start_time": "2021-08-31T11:08:02.595Z"
   },
   {
    "duration": 61,
    "start_time": "2021-08-31T11:08:02.659Z"
   },
   {
    "duration": 190,
    "start_time": "2021-08-31T11:08:02.723Z"
   },
   {
    "duration": 22,
    "start_time": "2021-08-31T11:08:02.915Z"
   },
   {
    "duration": 101,
    "start_time": "2021-08-31T11:08:02.940Z"
   },
   {
    "duration": 145,
    "start_time": "2021-08-31T11:08:03.044Z"
   },
   {
    "duration": 32,
    "start_time": "2021-08-31T11:08:03.194Z"
   },
   {
    "duration": 73,
    "start_time": "2021-08-31T11:08:03.228Z"
   },
   {
    "duration": 38,
    "start_time": "2021-08-31T11:08:03.304Z"
   },
   {
    "duration": 48,
    "start_time": "2021-08-31T11:08:03.346Z"
   },
   {
    "duration": 26,
    "start_time": "2021-08-31T11:08:03.397Z"
   },
   {
    "duration": 66,
    "start_time": "2021-08-31T11:08:03.426Z"
   },
   {
    "duration": 38,
    "start_time": "2021-08-31T11:08:03.495Z"
   },
   {
    "duration": 78,
    "start_time": "2021-08-31T11:08:03.536Z"
   },
   {
    "duration": 30,
    "start_time": "2021-08-31T11:08:03.617Z"
   },
   {
    "duration": 39,
    "start_time": "2021-08-31T11:08:03.650Z"
   },
   {
    "duration": 46,
    "start_time": "2021-08-31T11:08:03.691Z"
   },
   {
    "duration": 31,
    "start_time": "2021-08-31T11:10:22.554Z"
   },
   {
    "duration": 7,
    "start_time": "2021-08-31T11:10:39.722Z"
   },
   {
    "duration": 33,
    "start_time": "2021-08-31T11:11:10.655Z"
   },
   {
    "duration": 12,
    "start_time": "2021-08-31T11:12:16.699Z"
   },
   {
    "duration": 8,
    "start_time": "2021-08-31T11:12:41.980Z"
   },
   {
    "duration": 13,
    "start_time": "2021-08-31T11:13:31.277Z"
   },
   {
    "duration": 12,
    "start_time": "2021-08-31T11:14:37.910Z"
   },
   {
    "duration": 17,
    "start_time": "2021-08-31T11:35:45.811Z"
   },
   {
    "duration": 37,
    "start_time": "2021-08-31T11:36:10.283Z"
   },
   {
    "duration": 7,
    "start_time": "2021-08-31T11:43:31.499Z"
   },
   {
    "duration": 389,
    "start_time": "2021-08-31T11:43:34.785Z"
   },
   {
    "duration": 6,
    "start_time": "2021-08-31T11:47:07.295Z"
   },
   {
    "duration": 411,
    "start_time": "2021-08-31T11:47:11.062Z"
   },
   {
    "duration": 31,
    "start_time": "2021-08-31T11:47:24.233Z"
   },
   {
    "duration": 112,
    "start_time": "2021-08-31T11:51:30.422Z"
   },
   {
    "duration": 3164,
    "start_time": "2021-08-31T11:53:16.005Z"
   },
   {
    "duration": 209,
    "start_time": "2021-08-31T11:59:15.093Z"
   },
   {
    "duration": 3017,
    "start_time": "2021-08-31T11:59:51.586Z"
   },
   {
    "duration": 23,
    "start_time": "2021-08-31T12:25:06.967Z"
   },
   {
    "duration": 16,
    "start_time": "2021-08-31T12:26:32.097Z"
   },
   {
    "duration": 1927,
    "start_time": "2021-08-31T13:23:14.122Z"
   },
   {
    "duration": 51,
    "start_time": "2021-08-31T13:23:16.051Z"
   },
   {
    "duration": 28,
    "start_time": "2021-08-31T13:23:16.106Z"
   },
   {
    "duration": 170,
    "start_time": "2021-08-31T13:23:16.138Z"
   },
   {
    "duration": 23,
    "start_time": "2021-08-31T13:23:16.310Z"
   },
   {
    "duration": 111,
    "start_time": "2021-08-31T13:23:16.336Z"
   },
   {
    "duration": 139,
    "start_time": "2021-08-31T13:23:16.449Z"
   },
   {
    "duration": 45,
    "start_time": "2021-08-31T13:23:16.592Z"
   },
   {
    "duration": 69,
    "start_time": "2021-08-31T13:23:16.641Z"
   },
   {
    "duration": 39,
    "start_time": "2021-08-31T13:23:16.713Z"
   },
   {
    "duration": 48,
    "start_time": "2021-08-31T13:23:16.755Z"
   },
   {
    "duration": 30,
    "start_time": "2021-08-31T13:23:16.806Z"
   },
   {
    "duration": 63,
    "start_time": "2021-08-31T13:23:16.839Z"
   },
   {
    "duration": 51,
    "start_time": "2021-08-31T13:23:16.904Z"
   },
   {
    "duration": 71,
    "start_time": "2021-08-31T13:23:16.982Z"
   },
   {
    "duration": 53,
    "start_time": "2021-08-31T13:23:17.056Z"
   },
   {
    "duration": 15,
    "start_time": "2021-08-31T13:23:17.111Z"
   },
   {
    "duration": 32,
    "start_time": "2021-08-31T13:23:17.128Z"
   },
   {
    "duration": 24,
    "start_time": "2021-08-31T13:23:17.163Z"
   },
   {
    "duration": 16,
    "start_time": "2021-08-31T13:23:17.190Z"
   },
   {
    "duration": 11,
    "start_time": "2021-08-31T13:23:17.209Z"
   },
   {
    "duration": 20,
    "start_time": "2021-08-31T13:23:17.222Z"
   },
   {
    "duration": 31,
    "start_time": "2021-08-31T13:23:17.285Z"
   },
   {
    "duration": 15,
    "start_time": "2021-08-31T13:23:17.319Z"
   },
   {
    "duration": 427,
    "start_time": "2021-08-31T13:23:17.336Z"
   },
   {
    "duration": 43,
    "start_time": "2021-08-31T13:23:17.766Z"
   },
   {
    "duration": 177,
    "start_time": "2021-08-31T13:23:17.811Z"
   },
   {
    "duration": 3254,
    "start_time": "2021-08-31T13:23:17.990Z"
   },
   {
    "duration": 38,
    "start_time": "2021-08-31T13:23:21.247Z"
   },
   {
    "duration": 17,
    "start_time": "2021-08-31T13:23:21.288Z"
   },
   {
    "duration": 2033,
    "start_time": "2021-08-31T13:32:20.195Z"
   },
   {
    "duration": 51,
    "start_time": "2021-08-31T13:32:22.231Z"
   },
   {
    "duration": 28,
    "start_time": "2021-08-31T13:32:22.285Z"
   },
   {
    "duration": 161,
    "start_time": "2021-08-31T13:32:22.315Z"
   },
   {
    "duration": 22,
    "start_time": "2021-08-31T13:32:22.483Z"
   },
   {
    "duration": 107,
    "start_time": "2021-08-31T13:32:22.508Z"
   },
   {
    "duration": 199,
    "start_time": "2021-08-31T13:32:22.618Z"
   },
   {
    "duration": 63,
    "start_time": "2021-08-31T13:32:22.822Z"
   },
   {
    "duration": 43,
    "start_time": "2021-08-31T13:32:22.889Z"
   },
   {
    "duration": 61,
    "start_time": "2021-08-31T13:32:22.934Z"
   },
   {
    "duration": 23,
    "start_time": "2021-08-31T13:32:22.997Z"
   },
   {
    "duration": 26,
    "start_time": "2021-08-31T13:32:23.023Z"
   },
   {
    "duration": 28,
    "start_time": "2021-08-31T13:32:23.082Z"
   },
   {
    "duration": 36,
    "start_time": "2021-08-31T13:32:23.112Z"
   },
   {
    "duration": 82,
    "start_time": "2021-08-31T13:32:23.150Z"
   },
   {
    "duration": 54,
    "start_time": "2021-08-31T13:32:23.235Z"
   },
   {
    "duration": 13,
    "start_time": "2021-08-31T13:32:23.291Z"
   },
   {
    "duration": 30,
    "start_time": "2021-08-31T13:32:23.306Z"
   },
   {
    "duration": 7,
    "start_time": "2021-08-31T13:32:23.339Z"
   },
   {
    "duration": 12,
    "start_time": "2021-08-31T13:32:23.384Z"
   },
   {
    "duration": 11,
    "start_time": "2021-08-31T13:32:23.399Z"
   },
   {
    "duration": 25,
    "start_time": "2021-08-31T13:32:23.413Z"
   },
   {
    "duration": 75,
    "start_time": "2021-08-31T13:32:23.444Z"
   },
   {
    "duration": 8,
    "start_time": "2021-08-31T13:32:23.522Z"
   },
   {
    "duration": 651,
    "start_time": "2021-08-31T13:32:23.533Z"
   },
   {
    "duration": 30,
    "start_time": "2021-08-31T13:32:24.186Z"
   },
   {
    "duration": 181,
    "start_time": "2021-08-31T13:32:24.218Z"
   },
   {
    "duration": 3308,
    "start_time": "2021-08-31T13:32:24.401Z"
   },
   {
    "duration": 16,
    "start_time": "2021-08-31T13:32:27.712Z"
   },
   {
    "duration": 15,
    "start_time": "2021-08-31T13:32:27.732Z"
   },
   {
    "duration": 2657,
    "start_time": "2021-08-31T14:48:16.566Z"
   },
   {
    "duration": 32,
    "start_time": "2021-08-31T14:48:19.225Z"
   },
   {
    "duration": 36,
    "start_time": "2021-08-31T14:48:19.260Z"
   },
   {
    "duration": 126,
    "start_time": "2021-08-31T14:48:19.299Z"
   },
   {
    "duration": 18,
    "start_time": "2021-08-31T14:48:19.428Z"
   },
   {
    "duration": 84,
    "start_time": "2021-08-31T14:48:19.448Z"
   },
   {
    "duration": 110,
    "start_time": "2021-08-31T14:48:19.535Z"
   },
   {
    "duration": 37,
    "start_time": "2021-08-31T14:48:19.649Z"
   },
   {
    "duration": 33,
    "start_time": "2021-08-31T14:48:19.689Z"
   },
   {
    "duration": 27,
    "start_time": "2021-08-31T14:48:19.724Z"
   },
   {
    "duration": 19,
    "start_time": "2021-08-31T14:48:19.778Z"
   },
   {
    "duration": 19,
    "start_time": "2021-08-31T14:48:19.799Z"
   },
   {
    "duration": 21,
    "start_time": "2021-08-31T14:48:19.820Z"
   },
   {
    "duration": 59,
    "start_time": "2021-08-31T14:48:19.844Z"
   },
   {
    "duration": 35,
    "start_time": "2021-08-31T14:48:19.906Z"
   },
   {
    "duration": 49,
    "start_time": "2021-08-31T14:48:19.943Z"
   },
   {
    "duration": 8,
    "start_time": "2021-08-31T14:48:19.994Z"
   },
   {
    "duration": 31,
    "start_time": "2021-08-31T14:48:20.005Z"
   },
   {
    "duration": 7,
    "start_time": "2021-08-31T14:48:20.038Z"
   },
   {
    "duration": 35,
    "start_time": "2021-08-31T14:48:20.048Z"
   },
   {
    "duration": 18,
    "start_time": "2021-08-31T14:48:20.085Z"
   },
   {
    "duration": 39,
    "start_time": "2021-08-31T14:48:20.105Z"
   },
   {
    "duration": 36,
    "start_time": "2021-08-31T14:48:20.148Z"
   },
   {
    "duration": 8,
    "start_time": "2021-08-31T14:48:20.187Z"
   },
   {
    "duration": 272,
    "start_time": "2021-08-31T14:48:20.197Z"
   },
   {
    "duration": 20,
    "start_time": "2021-08-31T14:48:20.477Z"
   },
   {
    "duration": 122,
    "start_time": "2021-08-31T14:48:20.499Z"
   },
   {
    "duration": 2121,
    "start_time": "2021-08-31T14:48:20.623Z"
   },
   {
    "duration": 13,
    "start_time": "2021-08-31T14:48:22.746Z"
   },
   {
    "duration": 24,
    "start_time": "2021-08-31T14:48:22.761Z"
   },
   {
    "duration": 189,
    "start_time": "2021-08-31T15:22:39.643Z"
   },
   {
    "duration": 12,
    "start_time": "2021-08-31T15:29:01.772Z"
   },
   {
    "duration": 12,
    "start_time": "2021-08-31T15:29:28.932Z"
   },
   {
    "duration": 43,
    "start_time": "2021-08-31T15:29:36.180Z"
   },
   {
    "duration": 7,
    "start_time": "2021-08-31T15:40:27.416Z"
   },
   {
    "duration": 1549,
    "start_time": "2021-08-31T18:27:09.986Z"
   },
   {
    "duration": 475,
    "start_time": "2021-08-31T18:42:24.078Z"
   },
   {
    "duration": 102,
    "start_time": "2021-08-31T18:50:09.705Z"
   },
   {
    "duration": 297,
    "start_time": "2021-08-31T18:51:53.349Z"
   },
   {
    "duration": 1471,
    "start_time": "2021-08-31T18:52:14.599Z"
   },
   {
    "duration": 37,
    "start_time": "2021-08-31T18:52:16.071Z"
   },
   {
    "duration": 17,
    "start_time": "2021-08-31T18:52:16.110Z"
   },
   {
    "duration": 109,
    "start_time": "2021-08-31T18:52:16.129Z"
   },
   {
    "duration": 14,
    "start_time": "2021-08-31T18:52:16.240Z"
   },
   {
    "duration": 71,
    "start_time": "2021-08-31T18:52:16.256Z"
   },
   {
    "duration": 89,
    "start_time": "2021-08-31T18:52:16.329Z"
   },
   {
    "duration": 21,
    "start_time": "2021-08-31T18:52:16.420Z"
   },
   {
    "duration": 49,
    "start_time": "2021-08-31T18:52:16.443Z"
   },
   {
    "duration": 24,
    "start_time": "2021-08-31T18:52:16.494Z"
   },
   {
    "duration": 14,
    "start_time": "2021-08-31T18:52:16.520Z"
   },
   {
    "duration": 15,
    "start_time": "2021-08-31T18:52:16.536Z"
   },
   {
    "duration": 46,
    "start_time": "2021-08-31T18:52:16.553Z"
   },
   {
    "duration": 19,
    "start_time": "2021-08-31T18:52:23.272Z"
   },
   {
    "duration": 313,
    "start_time": "2021-08-31T18:58:50.655Z"
   },
   {
    "duration": 1469,
    "start_time": "2021-08-31T18:59:21.802Z"
   },
   {
    "duration": 36,
    "start_time": "2021-08-31T18:59:23.273Z"
   },
   {
    "duration": 17,
    "start_time": "2021-08-31T18:59:23.311Z"
   },
   {
    "duration": 116,
    "start_time": "2021-08-31T18:59:23.330Z"
   },
   {
    "duration": 15,
    "start_time": "2021-08-31T18:59:23.448Z"
   },
   {
    "duration": 73,
    "start_time": "2021-08-31T18:59:23.464Z"
   },
   {
    "duration": 87,
    "start_time": "2021-08-31T18:59:23.538Z"
   },
   {
    "duration": 21,
    "start_time": "2021-08-31T18:59:23.627Z"
   },
   {
    "duration": 44,
    "start_time": "2021-08-31T18:59:23.649Z"
   },
   {
    "duration": 23,
    "start_time": "2021-08-31T18:59:23.695Z"
   },
   {
    "duration": 15,
    "start_time": "2021-08-31T18:59:23.720Z"
   },
   {
    "duration": 15,
    "start_time": "2021-08-31T18:59:23.736Z"
   },
   {
    "duration": 47,
    "start_time": "2021-08-31T18:59:23.752Z"
   },
   {
    "duration": 19,
    "start_time": "2021-08-31T18:59:23.800Z"
   },
   {
    "duration": 21,
    "start_time": "2021-08-31T18:59:58.494Z"
   },
   {
    "duration": 1462,
    "start_time": "2021-08-31T19:08:07.620Z"
   },
   {
    "duration": 30,
    "start_time": "2021-08-31T19:08:09.084Z"
   },
   {
    "duration": 16,
    "start_time": "2021-08-31T19:08:09.117Z"
   },
   {
    "duration": 118,
    "start_time": "2021-08-31T19:08:09.135Z"
   },
   {
    "duration": 14,
    "start_time": "2021-08-31T19:08:09.255Z"
   },
   {
    "duration": 68,
    "start_time": "2021-08-31T19:08:09.271Z"
   },
   {
    "duration": 96,
    "start_time": "2021-08-31T19:08:09.341Z"
   },
   {
    "duration": 21,
    "start_time": "2021-08-31T19:08:09.439Z"
   },
   {
    "duration": 40,
    "start_time": "2021-08-31T19:08:09.462Z"
   },
   {
    "duration": 25,
    "start_time": "2021-08-31T19:08:09.504Z"
   },
   {
    "duration": 16,
    "start_time": "2021-08-31T19:08:09.531Z"
   },
   {
    "duration": 15,
    "start_time": "2021-08-31T19:08:09.549Z"
   },
   {
    "duration": 18,
    "start_time": "2021-08-31T19:08:09.592Z"
   },
   {
    "duration": 19,
    "start_time": "2021-08-31T19:08:09.611Z"
   },
   {
    "duration": 22,
    "start_time": "2021-08-31T19:08:15.494Z"
   },
   {
    "duration": 1438,
    "start_time": "2021-08-31T19:37:58.351Z"
   },
   {
    "duration": 26,
    "start_time": "2021-08-31T19:37:59.791Z"
   },
   {
    "duration": 16,
    "start_time": "2021-08-31T19:37:59.820Z"
   },
   {
    "duration": 114,
    "start_time": "2021-08-31T19:37:59.839Z"
   },
   {
    "duration": 16,
    "start_time": "2021-08-31T19:37:59.955Z"
   },
   {
    "duration": 73,
    "start_time": "2021-08-31T19:37:59.973Z"
   },
   {
    "duration": 107,
    "start_time": "2021-08-31T19:38:00.048Z"
   },
   {
    "duration": 21,
    "start_time": "2021-08-31T19:38:00.157Z"
   },
   {
    "duration": 28,
    "start_time": "2021-08-31T19:38:00.192Z"
   },
   {
    "duration": 23,
    "start_time": "2021-08-31T19:38:00.222Z"
   },
   {
    "duration": 16,
    "start_time": "2021-08-31T19:38:00.247Z"
   },
   {
    "duration": 37,
    "start_time": "2021-08-31T19:38:00.264Z"
   },
   {
    "duration": 19,
    "start_time": "2021-08-31T19:38:00.303Z"
   },
   {
    "duration": 19,
    "start_time": "2021-08-31T19:38:00.323Z"
   },
   {
    "duration": 54,
    "start_time": "2021-08-31T19:38:00.343Z"
   },
   {
    "duration": 13,
    "start_time": "2021-08-31T19:38:00.399Z"
   },
   {
    "duration": 11,
    "start_time": "2021-08-31T19:38:00.413Z"
   },
   {
    "duration": 13,
    "start_time": "2021-08-31T19:38:00.425Z"
   },
   {
    "duration": 7,
    "start_time": "2021-08-31T19:38:00.440Z"
   },
   {
    "duration": 9,
    "start_time": "2021-08-31T19:38:00.448Z"
   },
   {
    "duration": 6,
    "start_time": "2021-08-31T19:38:00.459Z"
   },
   {
    "duration": 11,
    "start_time": "2021-08-31T19:38:00.491Z"
   },
   {
    "duration": 11,
    "start_time": "2021-08-31T19:38:00.506Z"
   },
   {
    "duration": 11,
    "start_time": "2021-08-31T19:38:00.520Z"
   },
   {
    "duration": 224,
    "start_time": "2021-08-31T19:38:00.532Z"
   },
   {
    "duration": 12,
    "start_time": "2021-08-31T19:38:00.758Z"
   },
   {
    "duration": 100,
    "start_time": "2021-08-31T19:38:00.772Z"
   },
   {
    "duration": 1821,
    "start_time": "2021-08-31T19:38:00.874Z"
   },
   {
    "duration": 12,
    "start_time": "2021-08-31T19:38:02.696Z"
   },
   {
    "duration": 12,
    "start_time": "2021-08-31T19:38:13.141Z"
   },
   {
    "duration": 10,
    "start_time": "2021-08-31T19:38:28.604Z"
   },
   {
    "duration": 10,
    "start_time": "2021-08-31T19:38:44.148Z"
   },
   {
    "duration": 1505,
    "start_time": "2021-08-31T19:45:16.916Z"
   },
   {
    "duration": 28,
    "start_time": "2021-08-31T19:45:18.423Z"
   },
   {
    "duration": 17,
    "start_time": "2021-08-31T19:45:18.453Z"
   },
   {
    "duration": 112,
    "start_time": "2021-08-31T19:45:18.492Z"
   },
   {
    "duration": 14,
    "start_time": "2021-08-31T19:45:18.605Z"
   },
   {
    "duration": 70,
    "start_time": "2021-08-31T19:45:18.621Z"
   },
   {
    "duration": 89,
    "start_time": "2021-08-31T19:45:18.693Z"
   },
   {
    "duration": 23,
    "start_time": "2021-08-31T19:45:18.792Z"
   },
   {
    "duration": 29,
    "start_time": "2021-08-31T19:45:18.817Z"
   },
   {
    "duration": 45,
    "start_time": "2021-08-31T19:45:18.848Z"
   },
   {
    "duration": 17,
    "start_time": "2021-08-31T19:45:18.894Z"
   },
   {
    "duration": 15,
    "start_time": "2021-08-31T19:45:18.912Z"
   },
   {
    "duration": 17,
    "start_time": "2021-08-31T19:45:18.929Z"
   },
   {
    "duration": 47,
    "start_time": "2021-08-31T19:45:18.947Z"
   },
   {
    "duration": 24,
    "start_time": "2021-08-31T19:45:18.995Z"
   },
   {
    "duration": 12,
    "start_time": "2021-08-31T19:45:19.020Z"
   },
   {
    "duration": 7,
    "start_time": "2021-08-31T19:45:19.034Z"
   },
   {
    "duration": 11,
    "start_time": "2021-08-31T19:45:19.043Z"
   },
   {
    "duration": 37,
    "start_time": "2021-08-31T19:45:19.056Z"
   },
   {
    "duration": 6,
    "start_time": "2021-08-31T19:45:19.095Z"
   },
   {
    "duration": 7,
    "start_time": "2021-08-31T19:45:19.103Z"
   },
   {
    "duration": 10,
    "start_time": "2021-08-31T19:45:19.111Z"
   },
   {
    "duration": 11,
    "start_time": "2021-08-31T19:45:19.123Z"
   },
   {
    "duration": 5,
    "start_time": "2021-08-31T19:45:19.136Z"
   },
   {
    "duration": 239,
    "start_time": "2021-08-31T19:45:19.143Z"
   },
   {
    "duration": 16,
    "start_time": "2021-08-31T19:45:19.383Z"
   },
   {
    "duration": 91,
    "start_time": "2021-08-31T19:45:19.400Z"
   },
   {
    "duration": 1830,
    "start_time": "2021-08-31T19:45:19.493Z"
   },
   {
    "duration": 10,
    "start_time": "2021-08-31T19:45:21.325Z"
   },
   {
    "duration": 12,
    "start_time": "2021-08-31T19:45:21.337Z"
   }
  ],
  "kernelspec": {
   "display_name": "Python 3",
   "language": "python",
   "name": "python3"
  },
  "language_info": {
   "codemirror_mode": {
    "name": "ipython",
    "version": 3
   },
   "file_extension": ".py",
   "mimetype": "text/x-python",
   "name": "python",
   "nbconvert_exporter": "python",
   "pygments_lexer": "ipython3",
   "version": "3.8.8"
  },
  "toc": {
   "base_numbering": 1,
   "nav_menu": {},
   "number_sections": true,
   "sideBar": true,
   "skip_h1_title": true,
   "title_cell": "Table of Contents",
   "title_sidebar": "Contents",
   "toc_cell": false,
   "toc_position": {},
   "toc_section_display": true,
   "toc_window_display": true
  }
 },
 "nbformat": 4,
 "nbformat_minor": 2
}
