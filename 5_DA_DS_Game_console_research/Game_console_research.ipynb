{
 "cells": [
  {
   "cell_type": "markdown",
   "metadata": {},
   "source": [
    "# Описание проекта\n",
    "\n",
    "Интернет-магазин продаёт по всему миру компьютерные игры. Из открытых источников доступны исторические данные до 2016 года о продажах игр, оценки пользователей и экспертов, жанры и платформы. Нужно выявить определяющие успешность игры закономерности, что позволит сделать ставку на потенциально популярный продукт и спланировать рекламные кампании.  "
   ]
  },
  {
   "cell_type": "markdown",
   "metadata": {},
   "source": [
    "## Изучение данных из файла"
   ]
  },
  {
   "cell_type": "code",
   "execution_count": 1,
   "metadata": {},
   "outputs": [
    {
     "name": "stdout",
     "output_type": "stream",
     "text": [
      "<class 'pandas.core.frame.DataFrame'>\n",
      "RangeIndex: 16715 entries, 0 to 16714\n",
      "Data columns (total 11 columns):\n",
      "Name               16713 non-null object\n",
      "Platform           16715 non-null object\n",
      "Year_of_Release    16446 non-null float64\n",
      "Genre              16713 non-null object\n",
      "NA_sales           16715 non-null float64\n",
      "EU_sales           16715 non-null float64\n",
      "JP_sales           16715 non-null float64\n",
      "Other_sales        16715 non-null float64\n",
      "Critic_Score       8137 non-null float64\n",
      "User_Score         10014 non-null object\n",
      "Rating             9949 non-null object\n",
      "dtypes: float64(6), object(5)\n",
      "memory usage: 1.4+ MB\n"
     ]
    },
    {
     "data": {
      "text/html": [
       "<div>\n",
       "<style scoped>\n",
       "    .dataframe tbody tr th:only-of-type {\n",
       "        vertical-align: middle;\n",
       "    }\n",
       "\n",
       "    .dataframe tbody tr th {\n",
       "        vertical-align: top;\n",
       "    }\n",
       "\n",
       "    .dataframe thead th {\n",
       "        text-align: right;\n",
       "    }\n",
       "</style>\n",
       "<table border=\"1\" class=\"dataframe\">\n",
       "  <thead>\n",
       "    <tr style=\"text-align: right;\">\n",
       "      <th></th>\n",
       "      <th>Name</th>\n",
       "      <th>Platform</th>\n",
       "      <th>Year_of_Release</th>\n",
       "      <th>Genre</th>\n",
       "      <th>NA_sales</th>\n",
       "      <th>EU_sales</th>\n",
       "      <th>JP_sales</th>\n",
       "      <th>Other_sales</th>\n",
       "      <th>Critic_Score</th>\n",
       "      <th>User_Score</th>\n",
       "      <th>Rating</th>\n",
       "    </tr>\n",
       "  </thead>\n",
       "  <tbody>\n",
       "    <tr>\n",
       "      <td>0</td>\n",
       "      <td>Wii Sports</td>\n",
       "      <td>Wii</td>\n",
       "      <td>2006.0</td>\n",
       "      <td>Sports</td>\n",
       "      <td>41.36</td>\n",
       "      <td>28.96</td>\n",
       "      <td>3.77</td>\n",
       "      <td>8.45</td>\n",
       "      <td>76.0</td>\n",
       "      <td>8</td>\n",
       "      <td>E</td>\n",
       "    </tr>\n",
       "    <tr>\n",
       "      <td>1</td>\n",
       "      <td>Super Mario Bros.</td>\n",
       "      <td>NES</td>\n",
       "      <td>1985.0</td>\n",
       "      <td>Platform</td>\n",
       "      <td>29.08</td>\n",
       "      <td>3.58</td>\n",
       "      <td>6.81</td>\n",
       "      <td>0.77</td>\n",
       "      <td>NaN</td>\n",
       "      <td>NaN</td>\n",
       "      <td>NaN</td>\n",
       "    </tr>\n",
       "    <tr>\n",
       "      <td>2</td>\n",
       "      <td>Mario Kart Wii</td>\n",
       "      <td>Wii</td>\n",
       "      <td>2008.0</td>\n",
       "      <td>Racing</td>\n",
       "      <td>15.68</td>\n",
       "      <td>12.76</td>\n",
       "      <td>3.79</td>\n",
       "      <td>3.29</td>\n",
       "      <td>82.0</td>\n",
       "      <td>8.3</td>\n",
       "      <td>E</td>\n",
       "    </tr>\n",
       "    <tr>\n",
       "      <td>3</td>\n",
       "      <td>Wii Sports Resort</td>\n",
       "      <td>Wii</td>\n",
       "      <td>2009.0</td>\n",
       "      <td>Sports</td>\n",
       "      <td>15.61</td>\n",
       "      <td>10.93</td>\n",
       "      <td>3.28</td>\n",
       "      <td>2.95</td>\n",
       "      <td>80.0</td>\n",
       "      <td>8</td>\n",
       "      <td>E</td>\n",
       "    </tr>\n",
       "    <tr>\n",
       "      <td>4</td>\n",
       "      <td>Pokemon Red/Pokemon Blue</td>\n",
       "      <td>GB</td>\n",
       "      <td>1996.0</td>\n",
       "      <td>Role-Playing</td>\n",
       "      <td>11.27</td>\n",
       "      <td>8.89</td>\n",
       "      <td>10.22</td>\n",
       "      <td>1.00</td>\n",
       "      <td>NaN</td>\n",
       "      <td>NaN</td>\n",
       "      <td>NaN</td>\n",
       "    </tr>\n",
       "  </tbody>\n",
       "</table>\n",
       "</div>"
      ],
      "text/plain": [
       "                       Name Platform  Year_of_Release         Genre  NA_sales  \\\n",
       "0                Wii Sports      Wii           2006.0        Sports     41.36   \n",
       "1         Super Mario Bros.      NES           1985.0      Platform     29.08   \n",
       "2            Mario Kart Wii      Wii           2008.0        Racing     15.68   \n",
       "3         Wii Sports Resort      Wii           2009.0        Sports     15.61   \n",
       "4  Pokemon Red/Pokemon Blue       GB           1996.0  Role-Playing     11.27   \n",
       "\n",
       "   EU_sales  JP_sales  Other_sales  Critic_Score User_Score Rating  \n",
       "0     28.96      3.77         8.45          76.0          8      E  \n",
       "1      3.58      6.81         0.77           NaN        NaN    NaN  \n",
       "2     12.76      3.79         3.29          82.0        8.3      E  \n",
       "3     10.93      3.28         2.95          80.0          8      E  \n",
       "4      8.89     10.22         1.00           NaN        NaN    NaN  "
      ]
     },
     "metadata": {},
     "output_type": "display_data"
    },
    {
     "data": {
      "text/html": [
       "<div>\n",
       "<style scoped>\n",
       "    .dataframe tbody tr th:only-of-type {\n",
       "        vertical-align: middle;\n",
       "    }\n",
       "\n",
       "    .dataframe tbody tr th {\n",
       "        vertical-align: top;\n",
       "    }\n",
       "\n",
       "    .dataframe thead th {\n",
       "        text-align: right;\n",
       "    }\n",
       "</style>\n",
       "<table border=\"1\" class=\"dataframe\">\n",
       "  <thead>\n",
       "    <tr style=\"text-align: right;\">\n",
       "      <th></th>\n",
       "      <th>Name</th>\n",
       "      <th>Platform</th>\n",
       "      <th>Year_of_Release</th>\n",
       "      <th>Genre</th>\n",
       "      <th>NA_sales</th>\n",
       "      <th>EU_sales</th>\n",
       "      <th>JP_sales</th>\n",
       "      <th>Other_sales</th>\n",
       "      <th>Critic_Score</th>\n",
       "      <th>User_Score</th>\n",
       "      <th>Rating</th>\n",
       "    </tr>\n",
       "  </thead>\n",
       "  <tbody>\n",
       "    <tr>\n",
       "      <td>16710</td>\n",
       "      <td>Samurai Warriors: Sanada Maru</td>\n",
       "      <td>PS3</td>\n",
       "      <td>2016.0</td>\n",
       "      <td>Action</td>\n",
       "      <td>0.00</td>\n",
       "      <td>0.00</td>\n",
       "      <td>0.01</td>\n",
       "      <td>0.0</td>\n",
       "      <td>NaN</td>\n",
       "      <td>NaN</td>\n",
       "      <td>NaN</td>\n",
       "    </tr>\n",
       "    <tr>\n",
       "      <td>16711</td>\n",
       "      <td>LMA Manager 2007</td>\n",
       "      <td>X360</td>\n",
       "      <td>2006.0</td>\n",
       "      <td>Sports</td>\n",
       "      <td>0.00</td>\n",
       "      <td>0.01</td>\n",
       "      <td>0.00</td>\n",
       "      <td>0.0</td>\n",
       "      <td>NaN</td>\n",
       "      <td>NaN</td>\n",
       "      <td>NaN</td>\n",
       "    </tr>\n",
       "    <tr>\n",
       "      <td>16712</td>\n",
       "      <td>Haitaka no Psychedelica</td>\n",
       "      <td>PSV</td>\n",
       "      <td>2016.0</td>\n",
       "      <td>Adventure</td>\n",
       "      <td>0.00</td>\n",
       "      <td>0.00</td>\n",
       "      <td>0.01</td>\n",
       "      <td>0.0</td>\n",
       "      <td>NaN</td>\n",
       "      <td>NaN</td>\n",
       "      <td>NaN</td>\n",
       "    </tr>\n",
       "    <tr>\n",
       "      <td>16713</td>\n",
       "      <td>Spirits &amp; Spells</td>\n",
       "      <td>GBA</td>\n",
       "      <td>2003.0</td>\n",
       "      <td>Platform</td>\n",
       "      <td>0.01</td>\n",
       "      <td>0.00</td>\n",
       "      <td>0.00</td>\n",
       "      <td>0.0</td>\n",
       "      <td>NaN</td>\n",
       "      <td>NaN</td>\n",
       "      <td>NaN</td>\n",
       "    </tr>\n",
       "    <tr>\n",
       "      <td>16714</td>\n",
       "      <td>Winning Post 8 2016</td>\n",
       "      <td>PSV</td>\n",
       "      <td>2016.0</td>\n",
       "      <td>Simulation</td>\n",
       "      <td>0.00</td>\n",
       "      <td>0.00</td>\n",
       "      <td>0.01</td>\n",
       "      <td>0.0</td>\n",
       "      <td>NaN</td>\n",
       "      <td>NaN</td>\n",
       "      <td>NaN</td>\n",
       "    </tr>\n",
       "  </tbody>\n",
       "</table>\n",
       "</div>"
      ],
      "text/plain": [
       "                                Name Platform  Year_of_Release       Genre  \\\n",
       "16710  Samurai Warriors: Sanada Maru      PS3           2016.0      Action   \n",
       "16711               LMA Manager 2007     X360           2006.0      Sports   \n",
       "16712        Haitaka no Psychedelica      PSV           2016.0   Adventure   \n",
       "16713               Spirits & Spells      GBA           2003.0    Platform   \n",
       "16714            Winning Post 8 2016      PSV           2016.0  Simulation   \n",
       "\n",
       "       NA_sales  EU_sales  JP_sales  Other_sales  Critic_Score User_Score  \\\n",
       "16710      0.00      0.00      0.01          0.0           NaN        NaN   \n",
       "16711      0.00      0.01      0.00          0.0           NaN        NaN   \n",
       "16712      0.00      0.00      0.01          0.0           NaN        NaN   \n",
       "16713      0.01      0.00      0.00          0.0           NaN        NaN   \n",
       "16714      0.00      0.00      0.01          0.0           NaN        NaN   \n",
       "\n",
       "      Rating  \n",
       "16710    NaN  \n",
       "16711    NaN  \n",
       "16712    NaN  \n",
       "16713    NaN  \n",
       "16714    NaN  "
      ]
     },
     "metadata": {},
     "output_type": "display_data"
    }
   ],
   "source": [
    "import pandas as pd\n",
    "import numpy as np\n",
    "from scipy import stats as st\n",
    "import math\n",
    "import re\n",
    "import matplotlib.pyplot as plt\n",
    "import seaborn as sns\n",
    "\n",
    "data = pd.read_csv('/datasets/games.csv')\n",
    "data.info()\n",
    "display(data.head())\n",
    "display(data.tail())"
   ]
  },
  {
   "cell_type": "markdown",
   "metadata": {},
   "source": [
    "Проверим на дубликаты"
   ]
  },
  {
   "cell_type": "code",
   "execution_count": 2,
   "metadata": {},
   "outputs": [
    {
     "name": "stdout",
     "output_type": "stream",
     "text": [
      "Количество дубликатов:  0\n"
     ]
    }
   ],
   "source": [
    "print('Количество дубликатов: ', data.duplicated().sum())"
   ]
  },
  {
   "cell_type": "markdown",
   "metadata": {},
   "source": [
    "В таблице много пропусков, посчитаем их количество"
   ]
  },
  {
   "cell_type": "code",
   "execution_count": 3,
   "metadata": {},
   "outputs": [
    {
     "data": {
      "text/plain": [
       "Name                  2\n",
       "Platform              0\n",
       "Year_of_Release     269\n",
       "Genre                 2\n",
       "NA_sales              0\n",
       "EU_sales              0\n",
       "JP_sales              0\n",
       "Other_sales           0\n",
       "Critic_Score       8578\n",
       "User_Score         6701\n",
       "Rating             6766\n",
       "dtype: int64"
      ]
     },
     "execution_count": 3,
     "metadata": {},
     "output_type": "execute_result"
    }
   ],
   "source": [
    "data.isna().sum()"
   ]
  },
  {
   "cell_type": "markdown",
   "metadata": {},
   "source": [
    "В таблице 16715 записей. Названия столбцов имеют символы в верхнем и нижнем регистре. Тип данных столбца Year_of_Release не соответствует хранимым данным, также вероятно это относится к столбцам Critic_Score и User_Score. Имеются пропуски в столбцах Name, Year_of_Release, Genre, Critic_Score, User_Score и Rating. Возможно что-то можно восстановить."
   ]
  },
  {
   "cell_type": "markdown",
   "metadata": {},
   "source": [
    "## Подготовка данных"
   ]
  },
  {
   "cell_type": "markdown",
   "metadata": {},
   "source": [
    "Заменим названия столбцов (приведем их к нижнему регистру)"
   ]
  },
  {
   "cell_type": "code",
   "execution_count": 4,
   "metadata": {},
   "outputs": [
    {
     "data": {
      "text/html": [
       "<div>\n",
       "<style scoped>\n",
       "    .dataframe tbody tr th:only-of-type {\n",
       "        vertical-align: middle;\n",
       "    }\n",
       "\n",
       "    .dataframe tbody tr th {\n",
       "        vertical-align: top;\n",
       "    }\n",
       "\n",
       "    .dataframe thead th {\n",
       "        text-align: right;\n",
       "    }\n",
       "</style>\n",
       "<table border=\"1\" class=\"dataframe\">\n",
       "  <thead>\n",
       "    <tr style=\"text-align: right;\">\n",
       "      <th></th>\n",
       "      <th>name</th>\n",
       "      <th>platform</th>\n",
       "      <th>year_of_release</th>\n",
       "      <th>genre</th>\n",
       "      <th>na_sales</th>\n",
       "      <th>eu_sales</th>\n",
       "      <th>jp_sales</th>\n",
       "      <th>other_sales</th>\n",
       "      <th>critic_score</th>\n",
       "      <th>user_score</th>\n",
       "      <th>rating</th>\n",
       "    </tr>\n",
       "  </thead>\n",
       "  <tbody>\n",
       "    <tr>\n",
       "      <td>0</td>\n",
       "      <td>Wii Sports</td>\n",
       "      <td>Wii</td>\n",
       "      <td>2006.0</td>\n",
       "      <td>Sports</td>\n",
       "      <td>41.36</td>\n",
       "      <td>28.96</td>\n",
       "      <td>3.77</td>\n",
       "      <td>8.45</td>\n",
       "      <td>76.0</td>\n",
       "      <td>8</td>\n",
       "      <td>E</td>\n",
       "    </tr>\n",
       "    <tr>\n",
       "      <td>1</td>\n",
       "      <td>Super Mario Bros.</td>\n",
       "      <td>NES</td>\n",
       "      <td>1985.0</td>\n",
       "      <td>Platform</td>\n",
       "      <td>29.08</td>\n",
       "      <td>3.58</td>\n",
       "      <td>6.81</td>\n",
       "      <td>0.77</td>\n",
       "      <td>NaN</td>\n",
       "      <td>NaN</td>\n",
       "      <td>NaN</td>\n",
       "    </tr>\n",
       "    <tr>\n",
       "      <td>2</td>\n",
       "      <td>Mario Kart Wii</td>\n",
       "      <td>Wii</td>\n",
       "      <td>2008.0</td>\n",
       "      <td>Racing</td>\n",
       "      <td>15.68</td>\n",
       "      <td>12.76</td>\n",
       "      <td>3.79</td>\n",
       "      <td>3.29</td>\n",
       "      <td>82.0</td>\n",
       "      <td>8.3</td>\n",
       "      <td>E</td>\n",
       "    </tr>\n",
       "    <tr>\n",
       "      <td>3</td>\n",
       "      <td>Wii Sports Resort</td>\n",
       "      <td>Wii</td>\n",
       "      <td>2009.0</td>\n",
       "      <td>Sports</td>\n",
       "      <td>15.61</td>\n",
       "      <td>10.93</td>\n",
       "      <td>3.28</td>\n",
       "      <td>2.95</td>\n",
       "      <td>80.0</td>\n",
       "      <td>8</td>\n",
       "      <td>E</td>\n",
       "    </tr>\n",
       "    <tr>\n",
       "      <td>4</td>\n",
       "      <td>Pokemon Red/Pokemon Blue</td>\n",
       "      <td>GB</td>\n",
       "      <td>1996.0</td>\n",
       "      <td>Role-Playing</td>\n",
       "      <td>11.27</td>\n",
       "      <td>8.89</td>\n",
       "      <td>10.22</td>\n",
       "      <td>1.00</td>\n",
       "      <td>NaN</td>\n",
       "      <td>NaN</td>\n",
       "      <td>NaN</td>\n",
       "    </tr>\n",
       "  </tbody>\n",
       "</table>\n",
       "</div>"
      ],
      "text/plain": [
       "                       name platform  year_of_release         genre  na_sales  \\\n",
       "0                Wii Sports      Wii           2006.0        Sports     41.36   \n",
       "1         Super Mario Bros.      NES           1985.0      Platform     29.08   \n",
       "2            Mario Kart Wii      Wii           2008.0        Racing     15.68   \n",
       "3         Wii Sports Resort      Wii           2009.0        Sports     15.61   \n",
       "4  Pokemon Red/Pokemon Blue       GB           1996.0  Role-Playing     11.27   \n",
       "\n",
       "   eu_sales  jp_sales  other_sales  critic_score user_score rating  \n",
       "0     28.96      3.77         8.45          76.0          8      E  \n",
       "1      3.58      6.81         0.77           NaN        NaN    NaN  \n",
       "2     12.76      3.79         3.29          82.0        8.3      E  \n",
       "3     10.93      3.28         2.95          80.0          8      E  \n",
       "4      8.89     10.22         1.00           NaN        NaN    NaN  "
      ]
     },
     "execution_count": 4,
     "metadata": {},
     "output_type": "execute_result"
    }
   ],
   "source": [
    "data.columns = data.columns.str.lower()\n",
    "data.head()"
   ]
  },
  {
   "cell_type": "markdown",
   "metadata": {},
   "source": [
    "Посмотрим наличие скрытых дубликатов в столбцах с категориальными данными platform, genre и rating."
   ]
  },
  {
   "cell_type": "code",
   "execution_count": 5,
   "metadata": {},
   "outputs": [
    {
     "name": "stdout",
     "output_type": "stream",
     "text": [
      "platform:\n"
     ]
    },
    {
     "data": {
      "text/plain": [
       "PS2     2161\n",
       "DS      2151\n",
       "PS3     1331\n",
       "Wii     1320\n",
       "X360    1262\n",
       "PSP     1209\n",
       "PS      1197\n",
       "PC       974\n",
       "XB       824\n",
       "GBA      822\n",
       "GC       556\n",
       "3DS      520\n",
       "PSV      430\n",
       "PS4      392\n",
       "N64      319\n",
       "XOne     247\n",
       "SNES     239\n",
       "SAT      173\n",
       "WiiU     147\n",
       "2600     133\n",
       "NES       98\n",
       "GB        98\n",
       "DC        52\n",
       "GEN       29\n",
       "NG        12\n",
       "WS         6\n",
       "SCD        6\n",
       "3DO        3\n",
       "TG16       2\n",
       "PCFX       1\n",
       "GG         1\n",
       "Name: platform, dtype: int64"
      ]
     },
     "metadata": {},
     "output_type": "display_data"
    },
    {
     "name": "stdout",
     "output_type": "stream",
     "text": [
      "********************\n",
      "genre:\n"
     ]
    },
    {
     "data": {
      "text/plain": [
       "Action          3369\n",
       "Sports          2348\n",
       "Misc            1750\n",
       "Role-Playing    1498\n",
       "Shooter         1323\n",
       "Adventure       1303\n",
       "Racing          1249\n",
       "Platform         888\n",
       "Simulation       873\n",
       "Fighting         849\n",
       "Strategy         683\n",
       "Puzzle           580\n",
       "Name: genre, dtype: int64"
      ]
     },
     "metadata": {},
     "output_type": "display_data"
    },
    {
     "name": "stdout",
     "output_type": "stream",
     "text": [
      "********************\n",
      "rating:\n"
     ]
    },
    {
     "data": {
      "text/plain": [
       "E       3990\n",
       "T       2961\n",
       "M       1563\n",
       "E10+    1420\n",
       "EC         8\n",
       "RP         3\n",
       "K-A        3\n",
       "AO         1\n",
       "Name: rating, dtype: int64"
      ]
     },
     "metadata": {},
     "output_type": "display_data"
    },
    {
     "name": "stdout",
     "output_type": "stream",
     "text": [
      "********************\n"
     ]
    }
   ],
   "source": [
    "for column in ['platform', 'genre', 'rating']:\n",
    "    print(column + ':')\n",
    "    display(data[column].value_counts())\n",
    "    print('********************')"
   ]
  },
  {
   "cell_type": "markdown",
   "metadata": {},
   "source": [
    "Дубликатов не обнаружено. Посмотрим на данные в столбце critic_score"
   ]
  },
  {
   "cell_type": "code",
   "execution_count": 6,
   "metadata": {},
   "outputs": [
    {
     "data": {
      "text/plain": [
       "array([76., nan, 82., 80., 89., 58., 87., 91., 61., 97., 95., 77., 88.,\n",
       "       83., 94., 93., 85., 86., 98., 96., 90., 84., 73., 74., 78., 92.,\n",
       "       71., 72., 68., 62., 49., 67., 81., 66., 56., 79., 70., 59., 64.,\n",
       "       75., 60., 63., 69., 50., 25., 42., 44., 55., 48., 57., 29., 47.,\n",
       "       65., 54., 20., 53., 37., 38., 33., 52., 30., 32., 43., 45., 51.,\n",
       "       40., 46., 39., 34., 35., 41., 36., 28., 31., 27., 26., 19., 23.,\n",
       "       24., 21., 17., 22., 13.])"
      ]
     },
     "execution_count": 6,
     "metadata": {},
     "output_type": "execute_result"
    }
   ],
   "source": [
    "data['critic_score'].unique()"
   ]
  },
  {
   "cell_type": "markdown",
   "metadata": {},
   "source": [
    "Пррпуски вероятно связаны с тем, что не все игры и не для всех платформ удостаиваютя оценок критиков. Оставим пропуски как есть. Оценки критиков имеют целое значение. Приведем тип данных столбца к int"
   ]
  },
  {
   "cell_type": "code",
   "execution_count": 7,
   "metadata": {},
   "outputs": [
    {
     "data": {
      "text/html": [
       "<div>\n",
       "<style scoped>\n",
       "    .dataframe tbody tr th:only-of-type {\n",
       "        vertical-align: middle;\n",
       "    }\n",
       "\n",
       "    .dataframe tbody tr th {\n",
       "        vertical-align: top;\n",
       "    }\n",
       "\n",
       "    .dataframe thead th {\n",
       "        text-align: right;\n",
       "    }\n",
       "</style>\n",
       "<table border=\"1\" class=\"dataframe\">\n",
       "  <thead>\n",
       "    <tr style=\"text-align: right;\">\n",
       "      <th></th>\n",
       "      <th>name</th>\n",
       "      <th>platform</th>\n",
       "      <th>year_of_release</th>\n",
       "      <th>genre</th>\n",
       "      <th>na_sales</th>\n",
       "      <th>eu_sales</th>\n",
       "      <th>jp_sales</th>\n",
       "      <th>other_sales</th>\n",
       "      <th>critic_score</th>\n",
       "      <th>user_score</th>\n",
       "      <th>rating</th>\n",
       "    </tr>\n",
       "  </thead>\n",
       "  <tbody>\n",
       "    <tr>\n",
       "      <td>0</td>\n",
       "      <td>Wii Sports</td>\n",
       "      <td>Wii</td>\n",
       "      <td>2006.0</td>\n",
       "      <td>Sports</td>\n",
       "      <td>41.36</td>\n",
       "      <td>28.96</td>\n",
       "      <td>3.77</td>\n",
       "      <td>8.45</td>\n",
       "      <td>76</td>\n",
       "      <td>8</td>\n",
       "      <td>E</td>\n",
       "    </tr>\n",
       "    <tr>\n",
       "      <td>1</td>\n",
       "      <td>Super Mario Bros.</td>\n",
       "      <td>NES</td>\n",
       "      <td>1985.0</td>\n",
       "      <td>Platform</td>\n",
       "      <td>29.08</td>\n",
       "      <td>3.58</td>\n",
       "      <td>6.81</td>\n",
       "      <td>0.77</td>\n",
       "      <td>NaN</td>\n",
       "      <td>NaN</td>\n",
       "      <td>NaN</td>\n",
       "    </tr>\n",
       "    <tr>\n",
       "      <td>2</td>\n",
       "      <td>Mario Kart Wii</td>\n",
       "      <td>Wii</td>\n",
       "      <td>2008.0</td>\n",
       "      <td>Racing</td>\n",
       "      <td>15.68</td>\n",
       "      <td>12.76</td>\n",
       "      <td>3.79</td>\n",
       "      <td>3.29</td>\n",
       "      <td>82</td>\n",
       "      <td>8.3</td>\n",
       "      <td>E</td>\n",
       "    </tr>\n",
       "    <tr>\n",
       "      <td>3</td>\n",
       "      <td>Wii Sports Resort</td>\n",
       "      <td>Wii</td>\n",
       "      <td>2009.0</td>\n",
       "      <td>Sports</td>\n",
       "      <td>15.61</td>\n",
       "      <td>10.93</td>\n",
       "      <td>3.28</td>\n",
       "      <td>2.95</td>\n",
       "      <td>80</td>\n",
       "      <td>8</td>\n",
       "      <td>E</td>\n",
       "    </tr>\n",
       "    <tr>\n",
       "      <td>4</td>\n",
       "      <td>Pokemon Red/Pokemon Blue</td>\n",
       "      <td>GB</td>\n",
       "      <td>1996.0</td>\n",
       "      <td>Role-Playing</td>\n",
       "      <td>11.27</td>\n",
       "      <td>8.89</td>\n",
       "      <td>10.22</td>\n",
       "      <td>1.00</td>\n",
       "      <td>NaN</td>\n",
       "      <td>NaN</td>\n",
       "      <td>NaN</td>\n",
       "    </tr>\n",
       "  </tbody>\n",
       "</table>\n",
       "</div>"
      ],
      "text/plain": [
       "                       name platform  year_of_release         genre  na_sales  \\\n",
       "0                Wii Sports      Wii           2006.0        Sports     41.36   \n",
       "1         Super Mario Bros.      NES           1985.0      Platform     29.08   \n",
       "2            Mario Kart Wii      Wii           2008.0        Racing     15.68   \n",
       "3         Wii Sports Resort      Wii           2009.0        Sports     15.61   \n",
       "4  Pokemon Red/Pokemon Blue       GB           1996.0  Role-Playing     11.27   \n",
       "\n",
       "   eu_sales  jp_sales  other_sales  critic_score user_score rating  \n",
       "0     28.96      3.77         8.45            76          8      E  \n",
       "1      3.58      6.81         0.77           NaN        NaN    NaN  \n",
       "2     12.76      3.79         3.29            82        8.3      E  \n",
       "3     10.93      3.28         2.95            80          8      E  \n",
       "4      8.89     10.22         1.00           NaN        NaN    NaN  "
      ]
     },
     "execution_count": 7,
     "metadata": {},
     "output_type": "execute_result"
    }
   ],
   "source": [
    "data['critic_score'] = data['critic_score'].astype('Int64')\n",
    "data.head()"
   ]
  },
  {
   "cell_type": "markdown",
   "metadata": {},
   "source": [
    "Посмотрим на данные в столбце user_score"
   ]
  },
  {
   "cell_type": "code",
   "execution_count": 8,
   "metadata": {},
   "outputs": [
    {
     "data": {
      "text/plain": [
       "array(['8', nan, '8.3', '8.5', '6.6', '8.4', '8.6', '7.7', '6.3', '7.4',\n",
       "       '8.2', '9', '7.9', '8.1', '8.7', '7.1', '3.4', '5.3', '4.8', '3.2',\n",
       "       '8.9', '6.4', '7.8', '7.5', '2.6', '7.2', '9.2', '7', '7.3', '4.3',\n",
       "       '7.6', '5.7', '5', '9.1', '6.5', 'tbd', '8.8', '6.9', '9.4', '6.8',\n",
       "       '6.1', '6.7', '5.4', '4', '4.9', '4.5', '9.3', '6.2', '4.2', '6',\n",
       "       '3.7', '4.1', '5.8', '5.6', '5.5', '4.4', '4.6', '5.9', '3.9',\n",
       "       '3.1', '2.9', '5.2', '3.3', '4.7', '5.1', '3.5', '2.5', '1.9', '3',\n",
       "       '2.7', '2.2', '2', '9.5', '2.1', '3.6', '2.8', '1.8', '3.8', '0',\n",
       "       '1.6', '9.6', '2.4', '1.7', '1.1', '0.3', '1.5', '0.7', '1.2',\n",
       "       '2.3', '0.5', '1.3', '0.2', '0.6', '1.4', '0.9', '1', '9.7'],\n",
       "      dtype=object)"
      ]
     },
     "execution_count": 8,
     "metadata": {},
     "output_type": "execute_result"
    }
   ],
   "source": [
    "data['user_score'].unique()"
   ]
  },
  {
   "cell_type": "markdown",
   "metadata": {},
   "source": [
    "В столбце значения подразумевают вещественный тип, но хранятся в формате строк и помимо пропусков (nan) содержат еще и записи 'tbd'. tbd - вероятно аббревиатура от английского To Be Determined (будет определено). И видимо подразумевает не определенные или отсутствующие данные оценки пользователей. Для упрощения последующей обработки заменим значение 'tbd' на NaN и приведем тип к float."
   ]
  },
  {
   "cell_type": "code",
   "execution_count": 9,
   "metadata": {},
   "outputs": [],
   "source": [
    "data.loc[(data['user_score'] == 'tbd'), 'user_score'] = np.nan\n",
    "data['user_score'] = data['user_score'].astype('float')"
   ]
  },
  {
   "cell_type": "code",
   "execution_count": 10,
   "metadata": {},
   "outputs": [
    {
     "data": {
      "text/plain": [
       "array([8. , nan, 8.3, 8.5, 6.6, 8.4, 8.6, 7.7, 6.3, 7.4, 8.2, 9. , 7.9,\n",
       "       8.1, 8.7, 7.1, 3.4, 5.3, 4.8, 3.2, 8.9, 6.4, 7.8, 7.5, 2.6, 7.2,\n",
       "       9.2, 7. , 7.3, 4.3, 7.6, 5.7, 5. , 9.1, 6.5, 8.8, 6.9, 9.4, 6.8,\n",
       "       6.1, 6.7, 5.4, 4. , 4.9, 4.5, 9.3, 6.2, 4.2, 6. , 3.7, 4.1, 5.8,\n",
       "       5.6, 5.5, 4.4, 4.6, 5.9, 3.9, 3.1, 2.9, 5.2, 3.3, 4.7, 5.1, 3.5,\n",
       "       2.5, 1.9, 3. , 2.7, 2.2, 2. , 9.5, 2.1, 3.6, 2.8, 1.8, 3.8, 0. ,\n",
       "       1.6, 9.6, 2.4, 1.7, 1.1, 0.3, 1.5, 0.7, 1.2, 2.3, 0.5, 1.3, 0.2,\n",
       "       0.6, 1.4, 0.9, 1. , 9.7])"
      ]
     },
     "execution_count": 10,
     "metadata": {},
     "output_type": "execute_result"
    }
   ],
   "source": [
    "data['user_score'].unique()"
   ]
  },
  {
   "cell_type": "markdown",
   "metadata": {},
   "source": [
    "Посмотрим на пропуски в столбце name"
   ]
  },
  {
   "cell_type": "code",
   "execution_count": 11,
   "metadata": {},
   "outputs": [
    {
     "data": {
      "text/html": [
       "<div>\n",
       "<style scoped>\n",
       "    .dataframe tbody tr th:only-of-type {\n",
       "        vertical-align: middle;\n",
       "    }\n",
       "\n",
       "    .dataframe tbody tr th {\n",
       "        vertical-align: top;\n",
       "    }\n",
       "\n",
       "    .dataframe thead th {\n",
       "        text-align: right;\n",
       "    }\n",
       "</style>\n",
       "<table border=\"1\" class=\"dataframe\">\n",
       "  <thead>\n",
       "    <tr style=\"text-align: right;\">\n",
       "      <th></th>\n",
       "      <th>name</th>\n",
       "      <th>platform</th>\n",
       "      <th>year_of_release</th>\n",
       "      <th>genre</th>\n",
       "      <th>na_sales</th>\n",
       "      <th>eu_sales</th>\n",
       "      <th>jp_sales</th>\n",
       "      <th>other_sales</th>\n",
       "      <th>critic_score</th>\n",
       "      <th>user_score</th>\n",
       "      <th>rating</th>\n",
       "    </tr>\n",
       "  </thead>\n",
       "  <tbody>\n",
       "    <tr>\n",
       "      <td>659</td>\n",
       "      <td>NaN</td>\n",
       "      <td>GEN</td>\n",
       "      <td>1993.0</td>\n",
       "      <td>NaN</td>\n",
       "      <td>1.78</td>\n",
       "      <td>0.53</td>\n",
       "      <td>0.00</td>\n",
       "      <td>0.08</td>\n",
       "      <td>NaN</td>\n",
       "      <td>NaN</td>\n",
       "      <td>NaN</td>\n",
       "    </tr>\n",
       "    <tr>\n",
       "      <td>14244</td>\n",
       "      <td>NaN</td>\n",
       "      <td>GEN</td>\n",
       "      <td>1993.0</td>\n",
       "      <td>NaN</td>\n",
       "      <td>0.00</td>\n",
       "      <td>0.00</td>\n",
       "      <td>0.03</td>\n",
       "      <td>0.00</td>\n",
       "      <td>NaN</td>\n",
       "      <td>NaN</td>\n",
       "      <td>NaN</td>\n",
       "    </tr>\n",
       "  </tbody>\n",
       "</table>\n",
       "</div>"
      ],
      "text/plain": [
       "      name platform  year_of_release genre  na_sales  eu_sales  jp_sales  \\\n",
       "659    NaN      GEN           1993.0   NaN      1.78      0.53      0.00   \n",
       "14244  NaN      GEN           1993.0   NaN      0.00      0.00      0.03   \n",
       "\n",
       "       other_sales  critic_score  user_score rating  \n",
       "659           0.08           NaN         NaN    NaN  \n",
       "14244         0.00           NaN         NaN    NaN  "
      ]
     },
     "execution_count": 11,
     "metadata": {},
     "output_type": "execute_result"
    }
   ],
   "source": [
    "data[data['name'].isna() == True]"
   ]
  },
  {
   "cell_type": "markdown",
   "metadata": {},
   "source": [
    "Восстановить пропуски в этих строках вряд ли возможно, кроме названий еще отсутствуют жанры и нет оценок и рейтинга нужных в наших дальнейших исследованиях. Удалим эти строки."
   ]
  },
  {
   "cell_type": "code",
   "execution_count": 12,
   "metadata": {},
   "outputs": [
    {
     "data": {
      "text/plain": [
       "0"
      ]
     },
     "execution_count": 12,
     "metadata": {},
     "output_type": "execute_result"
    }
   ],
   "source": [
    "data.dropna(subset=['name'], inplace=True)\n",
    "data['name'].isna().sum()"
   ]
  },
  {
   "cell_type": "markdown",
   "metadata": {},
   "source": [
    "Посмотрим на данные в столбце rating"
   ]
  },
  {
   "cell_type": "code",
   "execution_count": 13,
   "metadata": {},
   "outputs": [
    {
     "data": {
      "text/plain": [
       "array(['E', nan, 'M', 'T', 'E10+', 'K-A', 'AO', 'EC', 'RP'], dtype=object)"
      ]
     },
     "execution_count": 13,
     "metadata": {},
     "output_type": "execute_result"
    }
   ],
   "source": [
    "data['rating'].unique()"
   ]
  },
  {
   "cell_type": "markdown",
   "metadata": {},
   "source": [
    "Вероятно пропуски в столбце обусловлены не полученем игрой соответствующего рейтинга от ESRB по различным причинам (игры вышли до 90-х годов, распространялись в странах вне зоны действия стандартов ESRB и др.), либо отсутствием информации в источниках получения данных. Узнаем количество пропусков."
   ]
  },
  {
   "cell_type": "code",
   "execution_count": 14,
   "metadata": {},
   "outputs": [
    {
     "data": {
      "text/plain": [
       "6764"
      ]
     },
     "execution_count": 14,
     "metadata": {},
     "output_type": "execute_result"
    }
   ],
   "source": [
    "data['rating'].isna().sum()"
   ]
  },
  {
   "cell_type": "markdown",
   "metadata": {},
   "source": [
    "Проверим совпадают ли рейтинги одних и тех же игр на разных патформах"
   ]
  },
  {
   "cell_type": "code",
   "execution_count": 15,
   "metadata": {},
   "outputs": [
    {
     "data": {
      "text/plain": [
       "name\n",
       "The Sims 2: Castaway                                              3\n",
       "Dawn of Discovery                                                 3\n",
       "WRC: FIA World Rally Championship                                 3\n",
       "Ghostbusters: The Video Game                                      3\n",
       "DiRT 2                                                            3\n",
       "The Chronicles of Narnia: The Lion, The Witch and The Wardrobe    3\n",
       "Shaun White Snowboarding                                          3\n",
       "Disney's Chicken Little: Ace In Action                            2\n",
       "Oddworld: Munch's Oddysee                                         2\n",
       "DanceDanceRevolution                                              2\n",
       "Name: rating, dtype: int64"
      ]
     },
     "execution_count": 15,
     "metadata": {},
     "output_type": "execute_result"
    }
   ],
   "source": [
    "data.groupby('name').rating.nunique().sort_values(ascending=False).head(10)"
   ]
  },
  {
   "cell_type": "code",
   "execution_count": 16,
   "metadata": {},
   "outputs": [
    {
     "data": {
      "text/html": [
       "<div>\n",
       "<style scoped>\n",
       "    .dataframe tbody tr th:only-of-type {\n",
       "        vertical-align: middle;\n",
       "    }\n",
       "\n",
       "    .dataframe tbody tr th {\n",
       "        vertical-align: top;\n",
       "    }\n",
       "\n",
       "    .dataframe thead th {\n",
       "        text-align: right;\n",
       "    }\n",
       "</style>\n",
       "<table border=\"1\" class=\"dataframe\">\n",
       "  <thead>\n",
       "    <tr style=\"text-align: right;\">\n",
       "      <th></th>\n",
       "      <th>name</th>\n",
       "      <th>platform</th>\n",
       "      <th>year_of_release</th>\n",
       "      <th>genre</th>\n",
       "      <th>na_sales</th>\n",
       "      <th>eu_sales</th>\n",
       "      <th>jp_sales</th>\n",
       "      <th>other_sales</th>\n",
       "      <th>critic_score</th>\n",
       "      <th>user_score</th>\n",
       "      <th>rating</th>\n",
       "    </tr>\n",
       "  </thead>\n",
       "  <tbody>\n",
       "    <tr>\n",
       "      <td>5026</td>\n",
       "      <td>Dawn of Discovery</td>\n",
       "      <td>PC</td>\n",
       "      <td>2009.0</td>\n",
       "      <td>Simulation</td>\n",
       "      <td>0.00</td>\n",
       "      <td>0.32</td>\n",
       "      <td>0.0</td>\n",
       "      <td>0.06</td>\n",
       "      <td>82</td>\n",
       "      <td>8.8</td>\n",
       "      <td>T</td>\n",
       "    </tr>\n",
       "    <tr>\n",
       "      <td>7809</td>\n",
       "      <td>Dawn of Discovery</td>\n",
       "      <td>Wii</td>\n",
       "      <td>2009.0</td>\n",
       "      <td>Simulation</td>\n",
       "      <td>0.12</td>\n",
       "      <td>0.06</td>\n",
       "      <td>0.0</td>\n",
       "      <td>0.02</td>\n",
       "      <td>81</td>\n",
       "      <td>8.5</td>\n",
       "      <td>E10+</td>\n",
       "    </tr>\n",
       "    <tr>\n",
       "      <td>10342</td>\n",
       "      <td>Dawn of Discovery</td>\n",
       "      <td>DS</td>\n",
       "      <td>2009.0</td>\n",
       "      <td>Simulation</td>\n",
       "      <td>0.07</td>\n",
       "      <td>0.03</td>\n",
       "      <td>0.0</td>\n",
       "      <td>0.01</td>\n",
       "      <td>82</td>\n",
       "      <td>7.3</td>\n",
       "      <td>E</td>\n",
       "    </tr>\n",
       "  </tbody>\n",
       "</table>\n",
       "</div>"
      ],
      "text/plain": [
       "                    name platform  year_of_release       genre  na_sales  \\\n",
       "5026   Dawn of Discovery       PC           2009.0  Simulation      0.00   \n",
       "7809   Dawn of Discovery      Wii           2009.0  Simulation      0.12   \n",
       "10342  Dawn of Discovery       DS           2009.0  Simulation      0.07   \n",
       "\n",
       "       eu_sales  jp_sales  other_sales  critic_score  user_score rating  \n",
       "5026       0.32       0.0         0.06            82         8.8      T  \n",
       "7809       0.06       0.0         0.02            81         8.5   E10+  \n",
       "10342      0.03       0.0         0.01            82         7.3      E  "
      ]
     },
     "metadata": {},
     "output_type": "display_data"
    },
    {
     "data": {
      "text/html": [
       "<div>\n",
       "<style scoped>\n",
       "    .dataframe tbody tr th:only-of-type {\n",
       "        vertical-align: middle;\n",
       "    }\n",
       "\n",
       "    .dataframe tbody tr th {\n",
       "        vertical-align: top;\n",
       "    }\n",
       "\n",
       "    .dataframe thead th {\n",
       "        text-align: right;\n",
       "    }\n",
       "</style>\n",
       "<table border=\"1\" class=\"dataframe\">\n",
       "  <thead>\n",
       "    <tr style=\"text-align: right;\">\n",
       "      <th></th>\n",
       "      <th>name</th>\n",
       "      <th>platform</th>\n",
       "      <th>year_of_release</th>\n",
       "      <th>genre</th>\n",
       "      <th>na_sales</th>\n",
       "      <th>eu_sales</th>\n",
       "      <th>jp_sales</th>\n",
       "      <th>other_sales</th>\n",
       "      <th>critic_score</th>\n",
       "      <th>user_score</th>\n",
       "      <th>rating</th>\n",
       "    </tr>\n",
       "  </thead>\n",
       "  <tbody>\n",
       "    <tr>\n",
       "      <td>5381</td>\n",
       "      <td>DanceDanceRevolution</td>\n",
       "      <td>Wii</td>\n",
       "      <td>2010.0</td>\n",
       "      <td>Simulation</td>\n",
       "      <td>0.28</td>\n",
       "      <td>0.04</td>\n",
       "      <td>0.0</td>\n",
       "      <td>0.02</td>\n",
       "      <td>NaN</td>\n",
       "      <td>NaN</td>\n",
       "      <td>E</td>\n",
       "    </tr>\n",
       "    <tr>\n",
       "      <td>7914</td>\n",
       "      <td>DanceDanceRevolution</td>\n",
       "      <td>PS3</td>\n",
       "      <td>2010.0</td>\n",
       "      <td>Simulation</td>\n",
       "      <td>0.12</td>\n",
       "      <td>0.05</td>\n",
       "      <td>0.0</td>\n",
       "      <td>0.02</td>\n",
       "      <td>60</td>\n",
       "      <td>NaN</td>\n",
       "      <td>E10+</td>\n",
       "    </tr>\n",
       "    <tr>\n",
       "      <td>11444</td>\n",
       "      <td>DanceDanceRevolution</td>\n",
       "      <td>X360</td>\n",
       "      <td>2011.0</td>\n",
       "      <td>Simulation</td>\n",
       "      <td>0.08</td>\n",
       "      <td>0.00</td>\n",
       "      <td>0.0</td>\n",
       "      <td>0.01</td>\n",
       "      <td>NaN</td>\n",
       "      <td>NaN</td>\n",
       "      <td>E10+</td>\n",
       "    </tr>\n",
       "  </tbody>\n",
       "</table>\n",
       "</div>"
      ],
      "text/plain": [
       "                       name platform  year_of_release       genre  na_sales  \\\n",
       "5381   DanceDanceRevolution      Wii           2010.0  Simulation      0.28   \n",
       "7914   DanceDanceRevolution      PS3           2010.0  Simulation      0.12   \n",
       "11444  DanceDanceRevolution     X360           2011.0  Simulation      0.08   \n",
       "\n",
       "       eu_sales  jp_sales  other_sales  critic_score  user_score rating  \n",
       "5381       0.04       0.0         0.02           NaN         NaN      E  \n",
       "7914       0.05       0.0         0.02            60         NaN   E10+  \n",
       "11444      0.00       0.0         0.01           NaN         NaN   E10+  "
      ]
     },
     "metadata": {},
     "output_type": "display_data"
    }
   ],
   "source": [
    "display(data.query('name == \"Dawn of Discovery\"'))\n",
    "display(data.query('name == \"DanceDanceRevolution\"'))"
   ]
  },
  {
   "cell_type": "markdown",
   "metadata": {},
   "source": [
    "Рейтинги игр для разных платформ могут быть разными, поэтому определить значения для пропусков затруднительно. Так как данные в столбце относятся к категориальным, заполним пропуски значениями новой категории, указав что рейтинг не определен - \"undefined\"."
   ]
  },
  {
   "cell_type": "code",
   "execution_count": 17,
   "metadata": {},
   "outputs": [
    {
     "data": {
      "text/plain": [
       "0"
      ]
     },
     "execution_count": 17,
     "metadata": {},
     "output_type": "execute_result"
    }
   ],
   "source": [
    "data['rating'] = data['rating'].fillna('undefined')\n",
    "data['rating'].isna().sum()"
   ]
  },
  {
   "cell_type": "markdown",
   "metadata": {},
   "source": [
    "Рассмотрим данные в столбце year_of_release:"
   ]
  },
  {
   "cell_type": "code",
   "execution_count": 18,
   "metadata": {},
   "outputs": [
    {
     "data": {
      "text/plain": [
       "array([2006., 1985., 2008., 2009., 1996., 1989., 1984., 2005., 1999.,\n",
       "       2007., 2010., 2013., 2004., 1990., 1988., 2002., 2001., 2011.,\n",
       "       1998., 2015., 2012., 2014., 1992., 1997., 1993., 1994., 1982.,\n",
       "       2016., 2003., 1986., 2000.,   nan, 1995., 1991., 1981., 1987.,\n",
       "       1980., 1983.])"
      ]
     },
     "execution_count": 18,
     "metadata": {},
     "output_type": "execute_result"
    }
   ],
   "source": [
    "data['year_of_release'].unique()"
   ]
  },
  {
   "cell_type": "markdown",
   "metadata": {},
   "source": [
    "Данные в столбце нужно привести к типу int. Посмотрим на количество пропусков"
   ]
  },
  {
   "cell_type": "code",
   "execution_count": 19,
   "metadata": {},
   "outputs": [
    {
     "data": {
      "text/plain": [
       "269"
      ]
     },
     "execution_count": 19,
     "metadata": {},
     "output_type": "execute_result"
    }
   ],
   "source": [
    "data['year_of_release'].isna().sum()"
   ]
  },
  {
   "cell_type": "markdown",
   "metadata": {},
   "source": [
    "Посмотрим есть ли игры для разных платформ, выпущенные в разные годы"
   ]
  },
  {
   "cell_type": "code",
   "execution_count": 20,
   "metadata": {},
   "outputs": [
    {
     "data": {
      "text/plain": [
       "name\n",
       "SimCity 2000                                  5\n",
       "Monopoly                                      5\n",
       "Terraria                                      4\n",
       "Bomberman                                     4\n",
       "Mortal Kombat                                 4\n",
       "                                             ..\n",
       "Demon Chaos                                   0\n",
       "Shorts                                        0\n",
       "Test Drive Unlimited 2                        0\n",
       "Our House Party!                              0\n",
       "Writing and Speaking Beautiful Japanese DS    0\n",
       "Name: year_of_release, Length: 11559, dtype: int64"
      ]
     },
     "execution_count": 20,
     "metadata": {},
     "output_type": "execute_result"
    }
   ],
   "source": [
    "data.groupby('name').year_of_release.nunique().sort_values(ascending=False)"
   ]
  },
  {
   "cell_type": "code",
   "execution_count": 21,
   "metadata": {},
   "outputs": [
    {
     "data": {
      "text/html": [
       "<div>\n",
       "<style scoped>\n",
       "    .dataframe tbody tr th:only-of-type {\n",
       "        vertical-align: middle;\n",
       "    }\n",
       "\n",
       "    .dataframe tbody tr th {\n",
       "        vertical-align: top;\n",
       "    }\n",
       "\n",
       "    .dataframe thead th {\n",
       "        text-align: right;\n",
       "    }\n",
       "</style>\n",
       "<table border=\"1\" class=\"dataframe\">\n",
       "  <thead>\n",
       "    <tr style=\"text-align: right;\">\n",
       "      <th></th>\n",
       "      <th>name</th>\n",
       "      <th>platform</th>\n",
       "      <th>year_of_release</th>\n",
       "      <th>genre</th>\n",
       "      <th>na_sales</th>\n",
       "      <th>eu_sales</th>\n",
       "      <th>jp_sales</th>\n",
       "      <th>other_sales</th>\n",
       "      <th>critic_score</th>\n",
       "      <th>user_score</th>\n",
       "      <th>rating</th>\n",
       "    </tr>\n",
       "  </thead>\n",
       "  <tbody>\n",
       "    <tr>\n",
       "      <td>769</td>\n",
       "      <td>SimCity 2000</td>\n",
       "      <td>PC</td>\n",
       "      <td>1992.0</td>\n",
       "      <td>Simulation</td>\n",
       "      <td>1.20</td>\n",
       "      <td>0.84</td>\n",
       "      <td>0.00</td>\n",
       "      <td>0.10</td>\n",
       "      <td>NaN</td>\n",
       "      <td>NaN</td>\n",
       "      <td>undefined</td>\n",
       "    </tr>\n",
       "    <tr>\n",
       "      <td>1646</td>\n",
       "      <td>SimCity 2000</td>\n",
       "      <td>PS</td>\n",
       "      <td>1996.0</td>\n",
       "      <td>Simulation</td>\n",
       "      <td>0.68</td>\n",
       "      <td>0.46</td>\n",
       "      <td>0.00</td>\n",
       "      <td>0.08</td>\n",
       "      <td>NaN</td>\n",
       "      <td>NaN</td>\n",
       "      <td>undefined</td>\n",
       "    </tr>\n",
       "    <tr>\n",
       "      <td>4066</td>\n",
       "      <td>SimCity 2000</td>\n",
       "      <td>SNES</td>\n",
       "      <td>1995.0</td>\n",
       "      <td>Simulation</td>\n",
       "      <td>0.00</td>\n",
       "      <td>0.00</td>\n",
       "      <td>0.49</td>\n",
       "      <td>0.00</td>\n",
       "      <td>NaN</td>\n",
       "      <td>NaN</td>\n",
       "      <td>undefined</td>\n",
       "    </tr>\n",
       "    <tr>\n",
       "      <td>6219</td>\n",
       "      <td>SimCity 2000</td>\n",
       "      <td>SAT</td>\n",
       "      <td>1994.0</td>\n",
       "      <td>Simulation</td>\n",
       "      <td>0.00</td>\n",
       "      <td>0.00</td>\n",
       "      <td>0.28</td>\n",
       "      <td>0.00</td>\n",
       "      <td>NaN</td>\n",
       "      <td>NaN</td>\n",
       "      <td>undefined</td>\n",
       "    </tr>\n",
       "    <tr>\n",
       "      <td>10408</td>\n",
       "      <td>SimCity 2000</td>\n",
       "      <td>GBA</td>\n",
       "      <td>2003.0</td>\n",
       "      <td>Simulation</td>\n",
       "      <td>0.08</td>\n",
       "      <td>0.03</td>\n",
       "      <td>0.00</td>\n",
       "      <td>0.00</td>\n",
       "      <td>62</td>\n",
       "      <td>7.8</td>\n",
       "      <td>E</td>\n",
       "    </tr>\n",
       "  </tbody>\n",
       "</table>\n",
       "</div>"
      ],
      "text/plain": [
       "               name platform  year_of_release       genre  na_sales  eu_sales  \\\n",
       "769    SimCity 2000       PC           1992.0  Simulation      1.20      0.84   \n",
       "1646   SimCity 2000       PS           1996.0  Simulation      0.68      0.46   \n",
       "4066   SimCity 2000     SNES           1995.0  Simulation      0.00      0.00   \n",
       "6219   SimCity 2000      SAT           1994.0  Simulation      0.00      0.00   \n",
       "10408  SimCity 2000      GBA           2003.0  Simulation      0.08      0.03   \n",
       "\n",
       "       jp_sales  other_sales  critic_score  user_score     rating  \n",
       "769        0.00         0.10           NaN         NaN  undefined  \n",
       "1646       0.00         0.08           NaN         NaN  undefined  \n",
       "4066       0.49         0.00           NaN         NaN  undefined  \n",
       "6219       0.28         0.00           NaN         NaN  undefined  \n",
       "10408      0.00         0.00            62         7.8          E  "
      ]
     },
     "metadata": {},
     "output_type": "display_data"
    },
    {
     "data": {
      "text/html": [
       "<div>\n",
       "<style scoped>\n",
       "    .dataframe tbody tr th:only-of-type {\n",
       "        vertical-align: middle;\n",
       "    }\n",
       "\n",
       "    .dataframe tbody tr th {\n",
       "        vertical-align: top;\n",
       "    }\n",
       "\n",
       "    .dataframe thead th {\n",
       "        text-align: right;\n",
       "    }\n",
       "</style>\n",
       "<table border=\"1\" class=\"dataframe\">\n",
       "  <thead>\n",
       "    <tr style=\"text-align: right;\">\n",
       "      <th></th>\n",
       "      <th>name</th>\n",
       "      <th>platform</th>\n",
       "      <th>year_of_release</th>\n",
       "      <th>genre</th>\n",
       "      <th>na_sales</th>\n",
       "      <th>eu_sales</th>\n",
       "      <th>jp_sales</th>\n",
       "      <th>other_sales</th>\n",
       "      <th>critic_score</th>\n",
       "      <th>user_score</th>\n",
       "      <th>rating</th>\n",
       "    </tr>\n",
       "  </thead>\n",
       "  <tbody>\n",
       "    <tr>\n",
       "      <td>513</td>\n",
       "      <td>Mortal Kombat</td>\n",
       "      <td>PS3</td>\n",
       "      <td>2011.0</td>\n",
       "      <td>Fighting</td>\n",
       "      <td>1.98</td>\n",
       "      <td>0.53</td>\n",
       "      <td>0.0</td>\n",
       "      <td>0.34</td>\n",
       "      <td>84</td>\n",
       "      <td>8.4</td>\n",
       "      <td>M</td>\n",
       "    </tr>\n",
       "    <tr>\n",
       "      <td>564</td>\n",
       "      <td>Mortal Kombat</td>\n",
       "      <td>GEN</td>\n",
       "      <td>1992.0</td>\n",
       "      <td>Fighting</td>\n",
       "      <td>1.95</td>\n",
       "      <td>0.63</td>\n",
       "      <td>0.0</td>\n",
       "      <td>0.09</td>\n",
       "      <td>NaN</td>\n",
       "      <td>NaN</td>\n",
       "      <td>undefined</td>\n",
       "    </tr>\n",
       "    <tr>\n",
       "      <td>791</td>\n",
       "      <td>Mortal Kombat</td>\n",
       "      <td>X360</td>\n",
       "      <td>2011.0</td>\n",
       "      <td>Fighting</td>\n",
       "      <td>1.63</td>\n",
       "      <td>0.31</td>\n",
       "      <td>0.0</td>\n",
       "      <td>0.16</td>\n",
       "      <td>86</td>\n",
       "      <td>8.3</td>\n",
       "      <td>M</td>\n",
       "    </tr>\n",
       "    <tr>\n",
       "      <td>3102</td>\n",
       "      <td>Mortal Kombat</td>\n",
       "      <td>PSV</td>\n",
       "      <td>2012.0</td>\n",
       "      <td>Fighting</td>\n",
       "      <td>0.42</td>\n",
       "      <td>0.13</td>\n",
       "      <td>0.0</td>\n",
       "      <td>0.10</td>\n",
       "      <td>85</td>\n",
       "      <td>7.8</td>\n",
       "      <td>M</td>\n",
       "    </tr>\n",
       "    <tr>\n",
       "      <td>15551</td>\n",
       "      <td>Mortal Kombat</td>\n",
       "      <td>PC</td>\n",
       "      <td>1994.0</td>\n",
       "      <td>Fighting</td>\n",
       "      <td>0.02</td>\n",
       "      <td>0.00</td>\n",
       "      <td>0.0</td>\n",
       "      <td>0.00</td>\n",
       "      <td>NaN</td>\n",
       "      <td>NaN</td>\n",
       "      <td>undefined</td>\n",
       "    </tr>\n",
       "  </tbody>\n",
       "</table>\n",
       "</div>"
      ],
      "text/plain": [
       "                name platform  year_of_release     genre  na_sales  eu_sales  \\\n",
       "513    Mortal Kombat      PS3           2011.0  Fighting      1.98      0.53   \n",
       "564    Mortal Kombat      GEN           1992.0  Fighting      1.95      0.63   \n",
       "791    Mortal Kombat     X360           2011.0  Fighting      1.63      0.31   \n",
       "3102   Mortal Kombat      PSV           2012.0  Fighting      0.42      0.13   \n",
       "15551  Mortal Kombat       PC           1994.0  Fighting      0.02      0.00   \n",
       "\n",
       "       jp_sales  other_sales  critic_score  user_score     rating  \n",
       "513         0.0         0.34            84         8.4          M  \n",
       "564         0.0         0.09           NaN         NaN  undefined  \n",
       "791         0.0         0.16            86         8.3          M  \n",
       "3102        0.0         0.10            85         7.8          M  \n",
       "15551       0.0         0.00           NaN         NaN  undefined  "
      ]
     },
     "metadata": {},
     "output_type": "display_data"
    }
   ],
   "source": [
    "display(data.query('name == \"SimCity 2000\"'))\n",
    "display(data.query('name == \"Mortal Kombat\"'))"
   ]
  },
  {
   "cell_type": "markdown",
   "metadata": {},
   "source": [
    "Разница в датах релиза иногда в десятки лет, выходит заполнять по другим платформам не вариант. Доля пропусков в столбце year_of_release незначительная, удалим эти значения."
   ]
  },
  {
   "cell_type": "code",
   "execution_count": 22,
   "metadata": {},
   "outputs": [
    {
     "data": {
      "text/plain": [
       "0"
      ]
     },
     "execution_count": 22,
     "metadata": {},
     "output_type": "execute_result"
    }
   ],
   "source": [
    "data.dropna(subset=['year_of_release'], inplace=True)\n",
    "data['year_of_release'].isna().sum()"
   ]
  },
  {
   "cell_type": "markdown",
   "metadata": {},
   "source": [
    "Пропуски удалены. Теперь приведем тип столбца year_of_release к int"
   ]
  },
  {
   "cell_type": "code",
   "execution_count": 23,
   "metadata": {},
   "outputs": [],
   "source": [
    "data['year_of_release'] = data['year_of_release'].astype('Int64')"
   ]
  },
  {
   "cell_type": "code",
   "execution_count": 24,
   "metadata": {},
   "outputs": [
    {
     "data": {
      "text/html": [
       "<div>\n",
       "<style scoped>\n",
       "    .dataframe tbody tr th:only-of-type {\n",
       "        vertical-align: middle;\n",
       "    }\n",
       "\n",
       "    .dataframe tbody tr th {\n",
       "        vertical-align: top;\n",
       "    }\n",
       "\n",
       "    .dataframe thead th {\n",
       "        text-align: right;\n",
       "    }\n",
       "</style>\n",
       "<table border=\"1\" class=\"dataframe\">\n",
       "  <thead>\n",
       "    <tr style=\"text-align: right;\">\n",
       "      <th></th>\n",
       "      <th>name</th>\n",
       "      <th>platform</th>\n",
       "      <th>year_of_release</th>\n",
       "      <th>genre</th>\n",
       "      <th>na_sales</th>\n",
       "      <th>eu_sales</th>\n",
       "      <th>jp_sales</th>\n",
       "      <th>other_sales</th>\n",
       "      <th>critic_score</th>\n",
       "      <th>user_score</th>\n",
       "      <th>rating</th>\n",
       "    </tr>\n",
       "  </thead>\n",
       "  <tbody>\n",
       "    <tr>\n",
       "      <td>0</td>\n",
       "      <td>Wii Sports</td>\n",
       "      <td>Wii</td>\n",
       "      <td>2006</td>\n",
       "      <td>Sports</td>\n",
       "      <td>41.36</td>\n",
       "      <td>28.96</td>\n",
       "      <td>3.77</td>\n",
       "      <td>8.45</td>\n",
       "      <td>76</td>\n",
       "      <td>8.0</td>\n",
       "      <td>E</td>\n",
       "    </tr>\n",
       "    <tr>\n",
       "      <td>1</td>\n",
       "      <td>Super Mario Bros.</td>\n",
       "      <td>NES</td>\n",
       "      <td>1985</td>\n",
       "      <td>Platform</td>\n",
       "      <td>29.08</td>\n",
       "      <td>3.58</td>\n",
       "      <td>6.81</td>\n",
       "      <td>0.77</td>\n",
       "      <td>NaN</td>\n",
       "      <td>NaN</td>\n",
       "      <td>undefined</td>\n",
       "    </tr>\n",
       "    <tr>\n",
       "      <td>2</td>\n",
       "      <td>Mario Kart Wii</td>\n",
       "      <td>Wii</td>\n",
       "      <td>2008</td>\n",
       "      <td>Racing</td>\n",
       "      <td>15.68</td>\n",
       "      <td>12.76</td>\n",
       "      <td>3.79</td>\n",
       "      <td>3.29</td>\n",
       "      <td>82</td>\n",
       "      <td>8.3</td>\n",
       "      <td>E</td>\n",
       "    </tr>\n",
       "    <tr>\n",
       "      <td>3</td>\n",
       "      <td>Wii Sports Resort</td>\n",
       "      <td>Wii</td>\n",
       "      <td>2009</td>\n",
       "      <td>Sports</td>\n",
       "      <td>15.61</td>\n",
       "      <td>10.93</td>\n",
       "      <td>3.28</td>\n",
       "      <td>2.95</td>\n",
       "      <td>80</td>\n",
       "      <td>8.0</td>\n",
       "      <td>E</td>\n",
       "    </tr>\n",
       "    <tr>\n",
       "      <td>4</td>\n",
       "      <td>Pokemon Red/Pokemon Blue</td>\n",
       "      <td>GB</td>\n",
       "      <td>1996</td>\n",
       "      <td>Role-Playing</td>\n",
       "      <td>11.27</td>\n",
       "      <td>8.89</td>\n",
       "      <td>10.22</td>\n",
       "      <td>1.00</td>\n",
       "      <td>NaN</td>\n",
       "      <td>NaN</td>\n",
       "      <td>undefined</td>\n",
       "    </tr>\n",
       "    <tr>\n",
       "      <td>5</td>\n",
       "      <td>Tetris</td>\n",
       "      <td>GB</td>\n",
       "      <td>1989</td>\n",
       "      <td>Puzzle</td>\n",
       "      <td>23.20</td>\n",
       "      <td>2.26</td>\n",
       "      <td>4.22</td>\n",
       "      <td>0.58</td>\n",
       "      <td>NaN</td>\n",
       "      <td>NaN</td>\n",
       "      <td>undefined</td>\n",
       "    </tr>\n",
       "    <tr>\n",
       "      <td>6</td>\n",
       "      <td>New Super Mario Bros.</td>\n",
       "      <td>DS</td>\n",
       "      <td>2006</td>\n",
       "      <td>Platform</td>\n",
       "      <td>11.28</td>\n",
       "      <td>9.14</td>\n",
       "      <td>6.50</td>\n",
       "      <td>2.88</td>\n",
       "      <td>89</td>\n",
       "      <td>8.5</td>\n",
       "      <td>E</td>\n",
       "    </tr>\n",
       "    <tr>\n",
       "      <td>7</td>\n",
       "      <td>Wii Play</td>\n",
       "      <td>Wii</td>\n",
       "      <td>2006</td>\n",
       "      <td>Misc</td>\n",
       "      <td>13.96</td>\n",
       "      <td>9.18</td>\n",
       "      <td>2.93</td>\n",
       "      <td>2.84</td>\n",
       "      <td>58</td>\n",
       "      <td>6.6</td>\n",
       "      <td>E</td>\n",
       "    </tr>\n",
       "    <tr>\n",
       "      <td>8</td>\n",
       "      <td>New Super Mario Bros. Wii</td>\n",
       "      <td>Wii</td>\n",
       "      <td>2009</td>\n",
       "      <td>Platform</td>\n",
       "      <td>14.44</td>\n",
       "      <td>6.94</td>\n",
       "      <td>4.70</td>\n",
       "      <td>2.24</td>\n",
       "      <td>87</td>\n",
       "      <td>8.4</td>\n",
       "      <td>E</td>\n",
       "    </tr>\n",
       "    <tr>\n",
       "      <td>9</td>\n",
       "      <td>Duck Hunt</td>\n",
       "      <td>NES</td>\n",
       "      <td>1984</td>\n",
       "      <td>Shooter</td>\n",
       "      <td>26.93</td>\n",
       "      <td>0.63</td>\n",
       "      <td>0.28</td>\n",
       "      <td>0.47</td>\n",
       "      <td>NaN</td>\n",
       "      <td>NaN</td>\n",
       "      <td>undefined</td>\n",
       "    </tr>\n",
       "  </tbody>\n",
       "</table>\n",
       "</div>"
      ],
      "text/plain": [
       "                        name platform  year_of_release         genre  \\\n",
       "0                 Wii Sports      Wii             2006        Sports   \n",
       "1          Super Mario Bros.      NES             1985      Platform   \n",
       "2             Mario Kart Wii      Wii             2008        Racing   \n",
       "3          Wii Sports Resort      Wii             2009        Sports   \n",
       "4   Pokemon Red/Pokemon Blue       GB             1996  Role-Playing   \n",
       "5                     Tetris       GB             1989        Puzzle   \n",
       "6      New Super Mario Bros.       DS             2006      Platform   \n",
       "7                   Wii Play      Wii             2006          Misc   \n",
       "8  New Super Mario Bros. Wii      Wii             2009      Platform   \n",
       "9                  Duck Hunt      NES             1984       Shooter   \n",
       "\n",
       "   na_sales  eu_sales  jp_sales  other_sales  critic_score  user_score  \\\n",
       "0     41.36     28.96      3.77         8.45            76         8.0   \n",
       "1     29.08      3.58      6.81         0.77           NaN         NaN   \n",
       "2     15.68     12.76      3.79         3.29            82         8.3   \n",
       "3     15.61     10.93      3.28         2.95            80         8.0   \n",
       "4     11.27      8.89     10.22         1.00           NaN         NaN   \n",
       "5     23.20      2.26      4.22         0.58           NaN         NaN   \n",
       "6     11.28      9.14      6.50         2.88            89         8.5   \n",
       "7     13.96      9.18      2.93         2.84            58         6.6   \n",
       "8     14.44      6.94      4.70         2.24            87         8.4   \n",
       "9     26.93      0.63      0.28         0.47           NaN         NaN   \n",
       "\n",
       "      rating  \n",
       "0          E  \n",
       "1  undefined  \n",
       "2          E  \n",
       "3          E  \n",
       "4  undefined  \n",
       "5  undefined  \n",
       "6          E  \n",
       "7          E  \n",
       "8          E  \n",
       "9  undefined  "
      ]
     },
     "metadata": {},
     "output_type": "display_data"
    },
    {
     "name": "stdout",
     "output_type": "stream",
     "text": [
      "<class 'pandas.core.frame.DataFrame'>\n",
      "Int64Index: 16444 entries, 0 to 16714\n",
      "Data columns (total 11 columns):\n",
      "name               16444 non-null object\n",
      "platform           16444 non-null object\n",
      "year_of_release    16444 non-null Int64\n",
      "genre              16444 non-null object\n",
      "na_sales           16444 non-null float64\n",
      "eu_sales           16444 non-null float64\n",
      "jp_sales           16444 non-null float64\n",
      "other_sales        16444 non-null float64\n",
      "critic_score       7983 non-null Int64\n",
      "user_score         7463 non-null float64\n",
      "rating             16444 non-null object\n",
      "dtypes: Int64(2), float64(5), object(4)\n",
      "memory usage: 1.5+ MB\n"
     ]
    }
   ],
   "source": [
    "display(data.head(10))\n",
    "data.info()"
   ]
  },
  {
   "cell_type": "markdown",
   "metadata": {},
   "source": [
    "Посчитаем суммарные продажи во всех регионах и запишем их в отдельный столбец total_sales"
   ]
  },
  {
   "cell_type": "code",
   "execution_count": 25,
   "metadata": {},
   "outputs": [
    {
     "data": {
      "text/html": [
       "<div>\n",
       "<style scoped>\n",
       "    .dataframe tbody tr th:only-of-type {\n",
       "        vertical-align: middle;\n",
       "    }\n",
       "\n",
       "    .dataframe tbody tr th {\n",
       "        vertical-align: top;\n",
       "    }\n",
       "\n",
       "    .dataframe thead th {\n",
       "        text-align: right;\n",
       "    }\n",
       "</style>\n",
       "<table border=\"1\" class=\"dataframe\">\n",
       "  <thead>\n",
       "    <tr style=\"text-align: right;\">\n",
       "      <th></th>\n",
       "      <th>name</th>\n",
       "      <th>platform</th>\n",
       "      <th>year_of_release</th>\n",
       "      <th>genre</th>\n",
       "      <th>na_sales</th>\n",
       "      <th>eu_sales</th>\n",
       "      <th>jp_sales</th>\n",
       "      <th>other_sales</th>\n",
       "      <th>critic_score</th>\n",
       "      <th>user_score</th>\n",
       "      <th>rating</th>\n",
       "      <th>total_sales</th>\n",
       "    </tr>\n",
       "  </thead>\n",
       "  <tbody>\n",
       "    <tr>\n",
       "      <td>0</td>\n",
       "      <td>Wii Sports</td>\n",
       "      <td>Wii</td>\n",
       "      <td>2006</td>\n",
       "      <td>Sports</td>\n",
       "      <td>41.36</td>\n",
       "      <td>28.96</td>\n",
       "      <td>3.77</td>\n",
       "      <td>8.45</td>\n",
       "      <td>76</td>\n",
       "      <td>8.0</td>\n",
       "      <td>E</td>\n",
       "      <td>82.54</td>\n",
       "    </tr>\n",
       "    <tr>\n",
       "      <td>1</td>\n",
       "      <td>Super Mario Bros.</td>\n",
       "      <td>NES</td>\n",
       "      <td>1985</td>\n",
       "      <td>Platform</td>\n",
       "      <td>29.08</td>\n",
       "      <td>3.58</td>\n",
       "      <td>6.81</td>\n",
       "      <td>0.77</td>\n",
       "      <td>NaN</td>\n",
       "      <td>NaN</td>\n",
       "      <td>undefined</td>\n",
       "      <td>40.24</td>\n",
       "    </tr>\n",
       "    <tr>\n",
       "      <td>2</td>\n",
       "      <td>Mario Kart Wii</td>\n",
       "      <td>Wii</td>\n",
       "      <td>2008</td>\n",
       "      <td>Racing</td>\n",
       "      <td>15.68</td>\n",
       "      <td>12.76</td>\n",
       "      <td>3.79</td>\n",
       "      <td>3.29</td>\n",
       "      <td>82</td>\n",
       "      <td>8.3</td>\n",
       "      <td>E</td>\n",
       "      <td>35.52</td>\n",
       "    </tr>\n",
       "    <tr>\n",
       "      <td>3</td>\n",
       "      <td>Wii Sports Resort</td>\n",
       "      <td>Wii</td>\n",
       "      <td>2009</td>\n",
       "      <td>Sports</td>\n",
       "      <td>15.61</td>\n",
       "      <td>10.93</td>\n",
       "      <td>3.28</td>\n",
       "      <td>2.95</td>\n",
       "      <td>80</td>\n",
       "      <td>8.0</td>\n",
       "      <td>E</td>\n",
       "      <td>32.77</td>\n",
       "    </tr>\n",
       "    <tr>\n",
       "      <td>4</td>\n",
       "      <td>Pokemon Red/Pokemon Blue</td>\n",
       "      <td>GB</td>\n",
       "      <td>1996</td>\n",
       "      <td>Role-Playing</td>\n",
       "      <td>11.27</td>\n",
       "      <td>8.89</td>\n",
       "      <td>10.22</td>\n",
       "      <td>1.00</td>\n",
       "      <td>NaN</td>\n",
       "      <td>NaN</td>\n",
       "      <td>undefined</td>\n",
       "      <td>31.38</td>\n",
       "    </tr>\n",
       "  </tbody>\n",
       "</table>\n",
       "</div>"
      ],
      "text/plain": [
       "                       name platform  year_of_release         genre  na_sales  \\\n",
       "0                Wii Sports      Wii             2006        Sports     41.36   \n",
       "1         Super Mario Bros.      NES             1985      Platform     29.08   \n",
       "2            Mario Kart Wii      Wii             2008        Racing     15.68   \n",
       "3         Wii Sports Resort      Wii             2009        Sports     15.61   \n",
       "4  Pokemon Red/Pokemon Blue       GB             1996  Role-Playing     11.27   \n",
       "\n",
       "   eu_sales  jp_sales  other_sales  critic_score  user_score     rating  \\\n",
       "0     28.96      3.77         8.45            76         8.0          E   \n",
       "1      3.58      6.81         0.77           NaN         NaN  undefined   \n",
       "2     12.76      3.79         3.29            82         8.3          E   \n",
       "3     10.93      3.28         2.95            80         8.0          E   \n",
       "4      8.89     10.22         1.00           NaN         NaN  undefined   \n",
       "\n",
       "   total_sales  \n",
       "0        82.54  \n",
       "1        40.24  \n",
       "2        35.52  \n",
       "3        32.77  \n",
       "4        31.38  "
      ]
     },
     "execution_count": 25,
     "metadata": {},
     "output_type": "execute_result"
    }
   ],
   "source": [
    "data['total_sales'] = data['na_sales'] + data['eu_sales'] + data['jp_sales'] + data['other_sales']\n",
    "data.head()"
   ]
  },
  {
   "cell_type": "markdown",
   "metadata": {},
   "source": [
    "## Исследовательский анализ данных"
   ]
  },
  {
   "cell_type": "markdown",
   "metadata": {},
   "source": [
    "Посмотрим, сколько игр выпускалось в разные годы "
   ]
  },
  {
   "cell_type": "code",
   "execution_count": 26,
   "metadata": {},
   "outputs": [
    {
     "data": {
      "image/png": "[encoded data removed]",
      "text/plain": [
       "<Figure size 864x288 with 1 Axes>"
      ]
     },
     "metadata": {
      "needs_background": "light"
     },
     "output_type": "display_data"
    }
   ],
   "source": [
    "ax = (\n",
    "        data.pivot_table(index='year_of_release', values='name', aggfunc='count')\n",
    "        .plot(\n",
    "            kind='bar',\n",
    "            grid=True,\n",
    "            figsize=(12, 4))\n",
    ")\n",
    "ax.set_title('Количество по годам выпуска')\n",
    "ax.set_xlabel('год релиза')\n",
    "ax.set_ylabel('количество игр')\n",
    "ax.legend().remove()\n",
    "plt.show()"
   ]
  },
  {
   "cell_type": "markdown",
   "metadata": {},
   "source": [
    "Выпуск игр стал расти с начала 90-х годов с развитием и ростом доступности персональных компьютеров и игровых приставок. Рост достиг своего пика в 2008-2009 году, после чего наблюдается снижение до 2013 года. Скорее всего снижение произошло с развитием смартфонов, экраны телефонов подросли, появились планшеты. С 2013 года выпускается по 500-600 игр в год, что примерно соответствует уровню 2001 года."
   ]
  },
  {
   "cell_type": "markdown",
   "metadata": {},
   "source": [
    "Посмотрим, как менялись продажи по платформам"
   ]
  },
  {
   "cell_type": "code",
   "execution_count": 27,
   "metadata": {},
   "outputs": [
    {
     "data": {
      "image/png": "[encoded data removed]",
      "text/plain": [
       "<Figure size 864x288 with 1 Axes>"
      ]
     },
     "metadata": {
      "needs_background": "light"
     },
     "output_type": "display_data"
    }
   ],
   "source": [
    "ax = (\n",
    "        data.pivot_table(index='platform', values='total_sales', aggfunc='sum')\n",
    "        .sort_values(by='total_sales', ascending=False)\n",
    "        .plot(\n",
    "            kind='bar',\n",
    "            grid=True,\n",
    "            figsize=(12, 4))\n",
    ")\n",
    "ax.set_title('Количество продаж по платформам')\n",
    "ax.set_xlabel('игровая платформа')\n",
    "ax.set_ylabel('продано, млн')\n",
    "ax.legend().remove()\n",
    "plt.show()"
   ]
  },
  {
   "cell_type": "markdown",
   "metadata": {},
   "source": [
    "Платформы с наибольшими суммарными продажами за все время это PS2, X360, PS3, Wii, DS и PS. Посмотрим для них распределение продаж по годам."
   ]
  },
  {
   "cell_type": "code",
   "execution_count": 28,
   "metadata": {},
   "outputs": [
    {
     "data": {
      "image/png": "[encoded data removed]",
      "text/plain": [
       "<Figure size 864x288 with 1 Axes>"
      ]
     },
     "metadata": {
      "needs_background": "light"
     },
     "output_type": "display_data"
    }
   ],
   "source": [
    "top_platforms = data.groupby(by='platform').agg(\n",
    "    total_sales=('total_sales', 'sum')).reset_index().sort_values(\n",
    "    by='total_sales', ascending=False)['platform'].head(6).to_list()\n",
    "fig, ax = plt.subplots()\n",
    "\n",
    "for platform in top_platforms:\n",
    "    subset = data[data['platform'] == platform].pivot_table(\n",
    "                index='year_of_release', values='total_sales',\n",
    "                    aggfunc='sum')\n",
    "    ax.plot(subset, label = platform, linewidth = 3)\n",
    "\n",
    "ax.legend(loc='upper left')\n",
    "ax.set_title('Продажи по годам для самых прибыльных платформ')\n",
    "ax.set_xlabel('год')\n",
    "ax.set_ylabel('продано, млн')\n",
    "ax.set_xticks(np.arange(1984, 2018, 2.0))\n",
    "ax.grid()\n",
    "\n",
    "fig.set_figheight(4)\n",
    "fig.set_figwidth(12)\n",
    "plt.show()  "
   ]
  },
  {
   "cell_type": "markdown",
   "metadata": {},
   "source": [
    "По графику видно, что самые доходные платформы уже исчерпали свои возможности  и половина из них уже исчезли совсем. Характерный срок от появления до заката новых платформ около 10 лет. С момента появления до пика и начала падения продаж проходит в среднем 4 года. Обращает на себя провал на кривой продаж в 2009 году для платформы X360, судя по графику он может быть связан с выросшей популярностью в этот период консолей Nintendo - последней консолью продемонстрировавшей рекордные продажи."
   ]
  },
  {
   "cell_type": "markdown",
   "metadata": {},
   "source": [
    "Рассмотрим глобальные продажи в разрезе платформ за последние 10 лет"
   ]
  },
  {
   "cell_type": "code",
   "execution_count": 29,
   "metadata": {},
   "outputs": [
    {
     "data": {
      "image/png": "[encoded data removed]",
      "text/plain": [
       "<Figure size 864x432 with 1 Axes>"
      ]
     },
     "metadata": {
      "needs_background": "light"
     },
     "output_type": "display_data"
    }
   ],
   "source": [
    "dt_last_10_years = data.query('year_of_release > 2006')\n",
    "\n",
    "fig, ax = plt.subplots()\n",
    "names_platforms_last_10_years = dt_last_10_years.groupby(by='platform').agg(\n",
    "    total_sales=('total_sales', 'sum')).reset_index().sort_values(\n",
    "    by='total_sales', ascending=False)['platform'].to_list()\n",
    "\n",
    "for platform in names_platforms_last_10_years:\n",
    "    subset = dt_last_10_years[dt_last_10_years['platform'] == platform].pivot_table(\n",
    "                index='year_of_release', values='total_sales',\n",
    "                    aggfunc='sum')\n",
    "    ax.plot(subset, label = platform, linewidth = 2)\n",
    "\n",
    "ax.legend(loc='upper right')\n",
    "ax.set_title('Продажи по годам для платформ за поледние 10 лет')\n",
    "ax.set_xlabel('год')\n",
    "ax.set_ylabel('продано, млн')\n",
    "ax.set_xticks(np.arange(2007, 2018, 1.0))\n",
    "ax.grid()\n",
    "\n",
    "fig.set_figheight(6)\n",
    "fig.set_figwidth(12)\n",
    "plt.show()  "
   ]
  },
  {
   "cell_type": "markdown",
   "metadata": {},
   "source": [
    "За последние 10 лет прослеживается общая тенденция к снижению продаж. В последние 3 года отмечался рост только для 2-х платформ: PlayStation 4 (PS4) и Xbox One (XOne), но и они в последний год демонстрировали снижение. Снижение последнего года может быть связано с тем, что данные за 2016 год у нас неполные, как и указано в задании. Также можно отметить снижающиеся но все еще относительно высокие продажи для консоли Nintendo 3DS (3DS). Продажи для этой платформы стртовали в 2010 году и еще не прошел 10-ти летний цикл. Таким образом можно выделить 3 потенциально прибыльные платформы: PlayStation 4 (PS4), Xbox One (XOne), Nintendo 3DS (3DS)."
   ]
  },
  {
   "cell_type": "markdown",
   "metadata": {},
   "source": [
    "Исходя из предыдущего анализа можно определить актуальный период как последние 4 года (с 2013 по 2016 г.)  \n",
    "2013г - год релиза последнего поколения платформ от Microsoft и Sony, cамых актуальных на конец анализируемого периода. И 4 года это средний период с момента появления до пика развития игровой платформы. Возьмем данные за соответствующий актуальный период."
   ]
  },
  {
   "cell_type": "code",
   "execution_count": 30,
   "metadata": {},
   "outputs": [
    {
     "data": {
      "text/html": [
       "<div>\n",
       "<style scoped>\n",
       "    .dataframe tbody tr th:only-of-type {\n",
       "        vertical-align: middle;\n",
       "    }\n",
       "\n",
       "    .dataframe tbody tr th {\n",
       "        vertical-align: top;\n",
       "    }\n",
       "\n",
       "    .dataframe thead th {\n",
       "        text-align: right;\n",
       "    }\n",
       "</style>\n",
       "<table border=\"1\" class=\"dataframe\">\n",
       "  <thead>\n",
       "    <tr style=\"text-align: right;\">\n",
       "      <th></th>\n",
       "      <th>name</th>\n",
       "      <th>platform</th>\n",
       "      <th>year_of_release</th>\n",
       "      <th>genre</th>\n",
       "      <th>na_sales</th>\n",
       "      <th>eu_sales</th>\n",
       "      <th>jp_sales</th>\n",
       "      <th>other_sales</th>\n",
       "      <th>critic_score</th>\n",
       "      <th>user_score</th>\n",
       "      <th>rating</th>\n",
       "      <th>total_sales</th>\n",
       "    </tr>\n",
       "  </thead>\n",
       "  <tbody>\n",
       "    <tr>\n",
       "      <td>16</td>\n",
       "      <td>Grand Theft Auto V</td>\n",
       "      <td>PS3</td>\n",
       "      <td>2013</td>\n",
       "      <td>Action</td>\n",
       "      <td>7.02</td>\n",
       "      <td>9.09</td>\n",
       "      <td>0.98</td>\n",
       "      <td>3.96</td>\n",
       "      <td>97</td>\n",
       "      <td>8.2</td>\n",
       "      <td>M</td>\n",
       "      <td>21.05</td>\n",
       "    </tr>\n",
       "    <tr>\n",
       "      <td>23</td>\n",
       "      <td>Grand Theft Auto V</td>\n",
       "      <td>X360</td>\n",
       "      <td>2013</td>\n",
       "      <td>Action</td>\n",
       "      <td>9.66</td>\n",
       "      <td>5.14</td>\n",
       "      <td>0.06</td>\n",
       "      <td>1.41</td>\n",
       "      <td>97</td>\n",
       "      <td>8.1</td>\n",
       "      <td>M</td>\n",
       "      <td>16.27</td>\n",
       "    </tr>\n",
       "    <tr>\n",
       "      <td>31</td>\n",
       "      <td>Call of Duty: Black Ops 3</td>\n",
       "      <td>PS4</td>\n",
       "      <td>2015</td>\n",
       "      <td>Shooter</td>\n",
       "      <td>6.03</td>\n",
       "      <td>5.86</td>\n",
       "      <td>0.36</td>\n",
       "      <td>2.38</td>\n",
       "      <td>NaN</td>\n",
       "      <td>NaN</td>\n",
       "      <td>undefined</td>\n",
       "      <td>14.63</td>\n",
       "    </tr>\n",
       "    <tr>\n",
       "      <td>33</td>\n",
       "      <td>Pokemon X/Pokemon Y</td>\n",
       "      <td>3DS</td>\n",
       "      <td>2013</td>\n",
       "      <td>Role-Playing</td>\n",
       "      <td>5.28</td>\n",
       "      <td>4.19</td>\n",
       "      <td>4.35</td>\n",
       "      <td>0.78</td>\n",
       "      <td>NaN</td>\n",
       "      <td>NaN</td>\n",
       "      <td>undefined</td>\n",
       "      <td>14.60</td>\n",
       "    </tr>\n",
       "    <tr>\n",
       "      <td>42</td>\n",
       "      <td>Grand Theft Auto V</td>\n",
       "      <td>PS4</td>\n",
       "      <td>2014</td>\n",
       "      <td>Action</td>\n",
       "      <td>3.96</td>\n",
       "      <td>6.31</td>\n",
       "      <td>0.38</td>\n",
       "      <td>1.97</td>\n",
       "      <td>97</td>\n",
       "      <td>8.3</td>\n",
       "      <td>M</td>\n",
       "      <td>12.62</td>\n",
       "    </tr>\n",
       "  </tbody>\n",
       "</table>\n",
       "</div>"
      ],
      "text/plain": [
       "                         name platform  year_of_release         genre  \\\n",
       "16         Grand Theft Auto V      PS3             2013        Action   \n",
       "23         Grand Theft Auto V     X360             2013        Action   \n",
       "31  Call of Duty: Black Ops 3      PS4             2015       Shooter   \n",
       "33        Pokemon X/Pokemon Y      3DS             2013  Role-Playing   \n",
       "42         Grand Theft Auto V      PS4             2014        Action   \n",
       "\n",
       "    na_sales  eu_sales  jp_sales  other_sales  critic_score  user_score  \\\n",
       "16      7.02      9.09      0.98         3.96            97         8.2   \n",
       "23      9.66      5.14      0.06         1.41            97         8.1   \n",
       "31      6.03      5.86      0.36         2.38           NaN         NaN   \n",
       "33      5.28      4.19      4.35         0.78           NaN         NaN   \n",
       "42      3.96      6.31      0.38         1.97            97         8.3   \n",
       "\n",
       "       rating  total_sales  \n",
       "16          M        21.05  \n",
       "23          M        16.27  \n",
       "31  undefined        14.63  \n",
       "33  undefined        14.60  \n",
       "42          M        12.62  "
      ]
     },
     "execution_count": 30,
     "metadata": {},
     "output_type": "execute_result"
    }
   ],
   "source": [
    "dt_last_4_years = data.query('year_of_release > 2012')\n",
    "dt_last_4_years.head()"
   ]
  },
  {
   "cell_type": "markdown",
   "metadata": {},
   "source": [
    "Для выбранных платформ построим график «ящик с усами» по глобальным продажам игр в разбивке по платформам. Вначале сделаем срез данных по интересующим платформам."
   ]
  },
  {
   "cell_type": "code",
   "execution_count": 31,
   "metadata": {},
   "outputs": [
    {
     "data": {
      "text/html": [
       "<div>\n",
       "<style scoped>\n",
       "    .dataframe tbody tr th:only-of-type {\n",
       "        vertical-align: middle;\n",
       "    }\n",
       "\n",
       "    .dataframe tbody tr th {\n",
       "        vertical-align: top;\n",
       "    }\n",
       "\n",
       "    .dataframe thead th {\n",
       "        text-align: right;\n",
       "    }\n",
       "</style>\n",
       "<table border=\"1\" class=\"dataframe\">\n",
       "  <thead>\n",
       "    <tr style=\"text-align: right;\">\n",
       "      <th></th>\n",
       "      <th>name</th>\n",
       "      <th>platform</th>\n",
       "      <th>year_of_release</th>\n",
       "      <th>genre</th>\n",
       "      <th>na_sales</th>\n",
       "      <th>eu_sales</th>\n",
       "      <th>jp_sales</th>\n",
       "      <th>other_sales</th>\n",
       "      <th>critic_score</th>\n",
       "      <th>user_score</th>\n",
       "      <th>rating</th>\n",
       "      <th>total_sales</th>\n",
       "    </tr>\n",
       "  </thead>\n",
       "  <tbody>\n",
       "    <tr>\n",
       "      <td>31</td>\n",
       "      <td>Call of Duty: Black Ops 3</td>\n",
       "      <td>PS4</td>\n",
       "      <td>2015</td>\n",
       "      <td>Shooter</td>\n",
       "      <td>6.03</td>\n",
       "      <td>5.86</td>\n",
       "      <td>0.36</td>\n",
       "      <td>2.38</td>\n",
       "      <td>NaN</td>\n",
       "      <td>NaN</td>\n",
       "      <td>undefined</td>\n",
       "      <td>14.63</td>\n",
       "    </tr>\n",
       "    <tr>\n",
       "      <td>33</td>\n",
       "      <td>Pokemon X/Pokemon Y</td>\n",
       "      <td>3DS</td>\n",
       "      <td>2013</td>\n",
       "      <td>Role-Playing</td>\n",
       "      <td>5.28</td>\n",
       "      <td>4.19</td>\n",
       "      <td>4.35</td>\n",
       "      <td>0.78</td>\n",
       "      <td>NaN</td>\n",
       "      <td>NaN</td>\n",
       "      <td>undefined</td>\n",
       "      <td>14.60</td>\n",
       "    </tr>\n",
       "    <tr>\n",
       "      <td>42</td>\n",
       "      <td>Grand Theft Auto V</td>\n",
       "      <td>PS4</td>\n",
       "      <td>2014</td>\n",
       "      <td>Action</td>\n",
       "      <td>3.96</td>\n",
       "      <td>6.31</td>\n",
       "      <td>0.38</td>\n",
       "      <td>1.97</td>\n",
       "      <td>97</td>\n",
       "      <td>8.3</td>\n",
       "      <td>M</td>\n",
       "      <td>12.62</td>\n",
       "    </tr>\n",
       "    <tr>\n",
       "      <td>47</td>\n",
       "      <td>Pokemon Omega Ruby/Pokemon Alpha Sapphire</td>\n",
       "      <td>3DS</td>\n",
       "      <td>2014</td>\n",
       "      <td>Role-Playing</td>\n",
       "      <td>4.35</td>\n",
       "      <td>3.49</td>\n",
       "      <td>3.10</td>\n",
       "      <td>0.74</td>\n",
       "      <td>NaN</td>\n",
       "      <td>NaN</td>\n",
       "      <td>undefined</td>\n",
       "      <td>11.68</td>\n",
       "    </tr>\n",
       "    <tr>\n",
       "      <td>77</td>\n",
       "      <td>FIFA 16</td>\n",
       "      <td>PS4</td>\n",
       "      <td>2015</td>\n",
       "      <td>Sports</td>\n",
       "      <td>1.12</td>\n",
       "      <td>6.12</td>\n",
       "      <td>0.06</td>\n",
       "      <td>1.28</td>\n",
       "      <td>82</td>\n",
       "      <td>4.3</td>\n",
       "      <td>E</td>\n",
       "      <td>8.58</td>\n",
       "    </tr>\n",
       "  </tbody>\n",
       "</table>\n",
       "</div>"
      ],
      "text/plain": [
       "                                         name platform  year_of_release  \\\n",
       "31                  Call of Duty: Black Ops 3      PS4             2015   \n",
       "33                        Pokemon X/Pokemon Y      3DS             2013   \n",
       "42                         Grand Theft Auto V      PS4             2014   \n",
       "47  Pokemon Omega Ruby/Pokemon Alpha Sapphire      3DS             2014   \n",
       "77                                    FIFA 16      PS4             2015   \n",
       "\n",
       "           genre  na_sales  eu_sales  jp_sales  other_sales  critic_score  \\\n",
       "31       Shooter      6.03      5.86      0.36         2.38           NaN   \n",
       "33  Role-Playing      5.28      4.19      4.35         0.78           NaN   \n",
       "42        Action      3.96      6.31      0.38         1.97            97   \n",
       "47  Role-Playing      4.35      3.49      3.10         0.74           NaN   \n",
       "77        Sports      1.12      6.12      0.06         1.28            82   \n",
       "\n",
       "    user_score     rating  total_sales  \n",
       "31         NaN  undefined        14.63  \n",
       "33         NaN  undefined        14.60  \n",
       "42         8.3          M        12.62  \n",
       "47         NaN  undefined        11.68  \n",
       "77         4.3          E         8.58  "
      ]
     },
     "execution_count": 31,
     "metadata": {},
     "output_type": "execute_result"
    }
   ],
   "source": [
    "data_promising_platforms = dt_last_4_years.query(\n",
    "    'platform == \"PS4\" or platform == \"XOne\" or platform == \"3DS\"')\n",
    "data_promising_platforms.head()"
   ]
  },
  {
   "cell_type": "markdown",
   "metadata": {},
   "source": [
    "Посмотрим на числовое описание данных total_sales в выборке"
   ]
  },
  {
   "cell_type": "code",
   "execution_count": 32,
   "metadata": {},
   "outputs": [
    {
     "data": {
      "text/plain": [
       "count    942.000000\n",
       "mean       0.654682\n",
       "std        1.410325\n",
       "min        0.010000\n",
       "25%        0.050000\n",
       "50%        0.155000\n",
       "75%        0.577500\n",
       "max       14.630000\n",
       "Name: total_sales, dtype: float64"
      ]
     },
     "execution_count": 32,
     "metadata": {},
     "output_type": "execute_result"
    }
   ],
   "source": [
    "data_promising_platforms['total_sales'].describe()"
   ]
  },
  {
   "cell_type": "markdown",
   "metadata": {},
   "source": [
    "Максимальное значение 14.63 при среднем 0.65 и стандартном отклонении 1.41. В столбце есть выбросы, при построении графика ограничим значения по оси 'y' в 2 млн."
   ]
  },
  {
   "cell_type": "code",
   "execution_count": 33,
   "metadata": {},
   "outputs": [
    {
     "data": {
      "image/png": "[encoded data removed]",
      "text/plain": [
       "<Figure size 864x432 with 1 Axes>"
      ]
     },
     "metadata": {
      "needs_background": "light"
     },
     "output_type": "display_data"
    }
   ],
   "source": [
    "plt.figure(figsize=(12, 6))\n",
    "sns.boxplot(data=data_promising_platforms, x='platform', y='total_sales')\n",
    "plt.ylim(-0.1, 2)\n",
    "plt.grid()\n",
    "plt.title('График \"Ящик с усами\"')\n",
    "plt.xlabel('Платформа')\n",
    "plt.ylabel('Глобальные продажи, млн')\n",
    "plt.show()"
   ]
  },
  {
   "cell_type": "markdown",
   "metadata": {},
   "source": [
    "Медианные продажи для 2-х самых перспективных платформ (PlayStation 4 и Xbox One) близки, чуть выше медиана у XOne. Межквартильный размах у них также схож, но у PS4 размах чуть шире и при этом длиннее верхний ус, что указывает на большее количество популярных игр на этой платформе."
   ]
  },
  {
   "cell_type": "markdown",
   "metadata": {},
   "source": [
    "Посмотрим, как влияют на продажи внутри одной популярной платформы отзывы пользователей и критиков. Построим диаграмму рассеяния и посчитаем корреляцию между отзывами и продажами. Возьмем данные для платформы PS4."
   ]
  },
  {
   "cell_type": "code",
   "execution_count": 34,
   "metadata": {},
   "outputs": [
    {
     "data": {
      "text/html": [
       "<div>\n",
       "<style scoped>\n",
       "    .dataframe tbody tr th:only-of-type {\n",
       "        vertical-align: middle;\n",
       "    }\n",
       "\n",
       "    .dataframe tbody tr th {\n",
       "        vertical-align: top;\n",
       "    }\n",
       "\n",
       "    .dataframe thead th {\n",
       "        text-align: right;\n",
       "    }\n",
       "</style>\n",
       "<table border=\"1\" class=\"dataframe\">\n",
       "  <thead>\n",
       "    <tr style=\"text-align: right;\">\n",
       "      <th></th>\n",
       "      <th>name</th>\n",
       "      <th>platform</th>\n",
       "      <th>year_of_release</th>\n",
       "      <th>genre</th>\n",
       "      <th>na_sales</th>\n",
       "      <th>eu_sales</th>\n",
       "      <th>jp_sales</th>\n",
       "      <th>other_sales</th>\n",
       "      <th>critic_score</th>\n",
       "      <th>user_score</th>\n",
       "      <th>rating</th>\n",
       "      <th>total_sales</th>\n",
       "    </tr>\n",
       "  </thead>\n",
       "  <tbody>\n",
       "    <tr>\n",
       "      <td>31</td>\n",
       "      <td>Call of Duty: Black Ops 3</td>\n",
       "      <td>PS4</td>\n",
       "      <td>2015</td>\n",
       "      <td>Shooter</td>\n",
       "      <td>6.03</td>\n",
       "      <td>5.86</td>\n",
       "      <td>0.36</td>\n",
       "      <td>2.38</td>\n",
       "      <td>NaN</td>\n",
       "      <td>NaN</td>\n",
       "      <td>undefined</td>\n",
       "      <td>14.63</td>\n",
       "    </tr>\n",
       "    <tr>\n",
       "      <td>42</td>\n",
       "      <td>Grand Theft Auto V</td>\n",
       "      <td>PS4</td>\n",
       "      <td>2014</td>\n",
       "      <td>Action</td>\n",
       "      <td>3.96</td>\n",
       "      <td>6.31</td>\n",
       "      <td>0.38</td>\n",
       "      <td>1.97</td>\n",
       "      <td>97</td>\n",
       "      <td>8.3</td>\n",
       "      <td>M</td>\n",
       "      <td>12.62</td>\n",
       "    </tr>\n",
       "    <tr>\n",
       "      <td>77</td>\n",
       "      <td>FIFA 16</td>\n",
       "      <td>PS4</td>\n",
       "      <td>2015</td>\n",
       "      <td>Sports</td>\n",
       "      <td>1.12</td>\n",
       "      <td>6.12</td>\n",
       "      <td>0.06</td>\n",
       "      <td>1.28</td>\n",
       "      <td>82</td>\n",
       "      <td>4.3</td>\n",
       "      <td>E</td>\n",
       "      <td>8.58</td>\n",
       "    </tr>\n",
       "    <tr>\n",
       "      <td>87</td>\n",
       "      <td>Star Wars Battlefront (2015)</td>\n",
       "      <td>PS4</td>\n",
       "      <td>2015</td>\n",
       "      <td>Shooter</td>\n",
       "      <td>2.99</td>\n",
       "      <td>3.49</td>\n",
       "      <td>0.22</td>\n",
       "      <td>1.28</td>\n",
       "      <td>NaN</td>\n",
       "      <td>NaN</td>\n",
       "      <td>undefined</td>\n",
       "      <td>7.98</td>\n",
       "    </tr>\n",
       "    <tr>\n",
       "      <td>92</td>\n",
       "      <td>Call of Duty: Advanced Warfare</td>\n",
       "      <td>PS4</td>\n",
       "      <td>2014</td>\n",
       "      <td>Shooter</td>\n",
       "      <td>2.81</td>\n",
       "      <td>3.48</td>\n",
       "      <td>0.14</td>\n",
       "      <td>1.23</td>\n",
       "      <td>83</td>\n",
       "      <td>5.7</td>\n",
       "      <td>M</td>\n",
       "      <td>7.66</td>\n",
       "    </tr>\n",
       "  </tbody>\n",
       "</table>\n",
       "</div>"
      ],
      "text/plain": [
       "                              name platform  year_of_release    genre  \\\n",
       "31       Call of Duty: Black Ops 3      PS4             2015  Shooter   \n",
       "42              Grand Theft Auto V      PS4             2014   Action   \n",
       "77                         FIFA 16      PS4             2015   Sports   \n",
       "87    Star Wars Battlefront (2015)      PS4             2015  Shooter   \n",
       "92  Call of Duty: Advanced Warfare      PS4             2014  Shooter   \n",
       "\n",
       "    na_sales  eu_sales  jp_sales  other_sales  critic_score  user_score  \\\n",
       "31      6.03      5.86      0.36         2.38           NaN         NaN   \n",
       "42      3.96      6.31      0.38         1.97            97         8.3   \n",
       "77      1.12      6.12      0.06         1.28            82         4.3   \n",
       "87      2.99      3.49      0.22         1.28           NaN         NaN   \n",
       "92      2.81      3.48      0.14         1.23            83         5.7   \n",
       "\n",
       "       rating  total_sales  \n",
       "31  undefined        14.63  \n",
       "42          M        12.62  \n",
       "77          E         8.58  \n",
       "87  undefined         7.98  \n",
       "92          M         7.66  "
      ]
     },
     "execution_count": 34,
     "metadata": {},
     "output_type": "execute_result"
    }
   ],
   "source": [
    "data_ps4 = data_promising_platforms.query('platform == \"PS4\"')\n",
    "data_ps4.head()"
   ]
  },
  {
   "cell_type": "code",
   "execution_count": 35,
   "metadata": {},
   "outputs": [
    {
     "name": "stdout",
     "output_type": "stream",
     "text": [
      "Матрица корреляции между оценками пользователей, критиков и продажами\n"
     ]
    },
    {
     "data": {
      "text/html": [
       "<div>\n",
       "<style scoped>\n",
       "    .dataframe tbody tr th:only-of-type {\n",
       "        vertical-align: middle;\n",
       "    }\n",
       "\n",
       "    .dataframe tbody tr th {\n",
       "        vertical-align: top;\n",
       "    }\n",
       "\n",
       "    .dataframe thead th {\n",
       "        text-align: right;\n",
       "    }\n",
       "</style>\n",
       "<table border=\"1\" class=\"dataframe\">\n",
       "  <thead>\n",
       "    <tr style=\"text-align: right;\">\n",
       "      <th></th>\n",
       "      <th>critic_score</th>\n",
       "      <th>user_score</th>\n",
       "      <th>total_sales</th>\n",
       "    </tr>\n",
       "  </thead>\n",
       "  <tbody>\n",
       "    <tr>\n",
       "      <td>critic_score</td>\n",
       "      <td>1.000000</td>\n",
       "      <td>0.557654</td>\n",
       "      <td>0.406568</td>\n",
       "    </tr>\n",
       "    <tr>\n",
       "      <td>user_score</td>\n",
       "      <td>0.557654</td>\n",
       "      <td>1.000000</td>\n",
       "      <td>-0.031957</td>\n",
       "    </tr>\n",
       "    <tr>\n",
       "      <td>total_sales</td>\n",
       "      <td>0.406568</td>\n",
       "      <td>-0.031957</td>\n",
       "      <td>1.000000</td>\n",
       "    </tr>\n",
       "  </tbody>\n",
       "</table>\n",
       "</div>"
      ],
      "text/plain": [
       "              critic_score  user_score  total_sales\n",
       "critic_score      1.000000    0.557654     0.406568\n",
       "user_score        0.557654    1.000000    -0.031957\n",
       "total_sales       0.406568   -0.031957     1.000000"
      ]
     },
     "metadata": {},
     "output_type": "display_data"
    }
   ],
   "source": [
    "print('Матрица корреляции между оценками пользователей, критиков и продажами')\n",
    "corr_score_to_sales_ps4 = data_ps4[['critic_score', 'user_score', 'total_sales']].corr()\n",
    "display(corr_score_to_sales_ps4)"
   ]
  },
  {
   "cell_type": "markdown",
   "metadata": {},
   "source": [
    "Для автоматиазации рисования диаграмм рассеяния создадим функцию"
   ]
  },
  {
   "cell_type": "code",
   "execution_count": 36,
   "metadata": {},
   "outputs": [],
   "source": [
    "def plot_scatter(data):\n",
    "    fig, ax = plt.subplots()\n",
    "    ax.scatter(data['critic_score'],\n",
    "            data['total_sales'],\n",
    "            color='blue',\n",
    "            label = 'Оценка критиков'\n",
    "            )\n",
    "    ax.scatter(data['user_score'] * 10, #умножаем на 10 для масштабирования на графике с оценками критиков\n",
    "            data['total_sales'],\n",
    "            color='red',\n",
    "            label = 'Оценка пользователей',\n",
    "            alpha=0.5\n",
    "            )\n",
    "    ax.legend(loc='upper left')\n",
    "    ax.set_title('Диаграмма рассеяния зависимости продаж от отзывов')\n",
    "    ax.set_xlabel('Отзывы')\n",
    "    ax.set_ylabel('Глобальные продажи, млн')\n",
    "    ax.grid()\n",
    "    fig.set_figheight(4)\n",
    "    fig.set_figwidth(12)\n",
    "    plt.show()"
   ]
  },
  {
   "cell_type": "code",
   "execution_count": 37,
   "metadata": {},
   "outputs": [
    {
     "data": {
      "image/png": "[encoded data removed]",
      "text/plain": [
       "<Figure size 864x288 with 1 Axes>"
      ]
     },
     "metadata": {
      "needs_background": "light"
     },
     "output_type": "display_data"
    }
   ],
   "source": [
    "plot_scatter(data_ps4)"
   ]
  },
  {
   "cell_type": "markdown",
   "metadata": {},
   "source": [
    "Рассчитанная корреляция между оценками пользователей и продажами оценивается как \"очень слабая\", между оценками критиков и продажами корреляция выше, но оценивается все еще как \"слабая\". Примечательно, что коэффициент корреляции между оценками критиков и пользователей 0.56 (\"средняя корреляция\") - мнение критиков и пользователей не всегда совпадает.  \n",
    "Диаграмма рассеяния демонстрирует умеренную зависимость между оценками и продажами, при этом отзывы критиков заметно чаще влияют на покупки - высоких продаж становится больше после оценки критиков в 60 и более баллов, видимо к мнению критиков пользователи прислушиваются. Об оценках пользователей такого нельзя сказать.\n",
    "\n",
    "\n",
    "Проверим эти выводы применительно к другим платформам. Возьмем для проверки топ 3 платформ с наибольшими продажами."
   ]
  },
  {
   "cell_type": "code",
   "execution_count": 38,
   "metadata": {},
   "outputs": [
    {
     "name": "stdout",
     "output_type": "stream",
     "text": [
      "Матрица корреляции и диаграмма рассеяния для платформы: PS3\n"
     ]
    },
    {
     "data": {
      "text/html": [
       "<div>\n",
       "<style scoped>\n",
       "    .dataframe tbody tr th:only-of-type {\n",
       "        vertical-align: middle;\n",
       "    }\n",
       "\n",
       "    .dataframe tbody tr th {\n",
       "        vertical-align: top;\n",
       "    }\n",
       "\n",
       "    .dataframe thead th {\n",
       "        text-align: right;\n",
       "    }\n",
       "</style>\n",
       "<table border=\"1\" class=\"dataframe\">\n",
       "  <thead>\n",
       "    <tr style=\"text-align: right;\">\n",
       "      <th></th>\n",
       "      <th>critic_score</th>\n",
       "      <th>user_score</th>\n",
       "      <th>total_sales</th>\n",
       "    </tr>\n",
       "  </thead>\n",
       "  <tbody>\n",
       "    <tr>\n",
       "      <td>critic_score</td>\n",
       "      <td>1.00000</td>\n",
       "      <td>0.630960</td>\n",
       "      <td>0.433460</td>\n",
       "    </tr>\n",
       "    <tr>\n",
       "      <td>user_score</td>\n",
       "      <td>0.63096</td>\n",
       "      <td>1.000000</td>\n",
       "      <td>0.126033</td>\n",
       "    </tr>\n",
       "    <tr>\n",
       "      <td>total_sales</td>\n",
       "      <td>0.43346</td>\n",
       "      <td>0.126033</td>\n",
       "      <td>1.000000</td>\n",
       "    </tr>\n",
       "  </tbody>\n",
       "</table>\n",
       "</div>"
      ],
      "text/plain": [
       "              critic_score  user_score  total_sales\n",
       "critic_score       1.00000    0.630960     0.433460\n",
       "user_score         0.63096    1.000000     0.126033\n",
       "total_sales        0.43346    0.126033     1.000000"
      ]
     },
     "metadata": {},
     "output_type": "display_data"
    },
    {
     "data": {
      "image/png": "[encoded data removed]",
      "text/plain": [
       "<Figure size 864x288 with 1 Axes>"
      ]
     },
     "metadata": {
      "needs_background": "light"
     },
     "output_type": "display_data"
    },
    {
     "name": "stdout",
     "output_type": "stream",
     "text": [
      "***************************************************************************************\n",
      "Матрица корреляции и диаграмма рассеяния для платформы: X360\n"
     ]
    },
    {
     "data": {
      "text/html": [
       "<div>\n",
       "<style scoped>\n",
       "    .dataframe tbody tr th:only-of-type {\n",
       "        vertical-align: middle;\n",
       "    }\n",
       "\n",
       "    .dataframe tbody tr th {\n",
       "        vertical-align: top;\n",
       "    }\n",
       "\n",
       "    .dataframe thead th {\n",
       "        text-align: right;\n",
       "    }\n",
       "</style>\n",
       "<table border=\"1\" class=\"dataframe\">\n",
       "  <thead>\n",
       "    <tr style=\"text-align: right;\">\n",
       "      <th></th>\n",
       "      <th>critic_score</th>\n",
       "      <th>user_score</th>\n",
       "      <th>total_sales</th>\n",
       "    </tr>\n",
       "  </thead>\n",
       "  <tbody>\n",
       "    <tr>\n",
       "      <td>critic_score</td>\n",
       "      <td>1.000000</td>\n",
       "      <td>0.621495</td>\n",
       "      <td>0.396910</td>\n",
       "    </tr>\n",
       "    <tr>\n",
       "      <td>user_score</td>\n",
       "      <td>0.621495</td>\n",
       "      <td>1.000000</td>\n",
       "      <td>0.114627</td>\n",
       "    </tr>\n",
       "    <tr>\n",
       "      <td>total_sales</td>\n",
       "      <td>0.396910</td>\n",
       "      <td>0.114627</td>\n",
       "      <td>1.000000</td>\n",
       "    </tr>\n",
       "  </tbody>\n",
       "</table>\n",
       "</div>"
      ],
      "text/plain": [
       "              critic_score  user_score  total_sales\n",
       "critic_score      1.000000    0.621495     0.396910\n",
       "user_score        0.621495    1.000000     0.114627\n",
       "total_sales       0.396910    0.114627     1.000000"
      ]
     },
     "metadata": {},
     "output_type": "display_data"
    },
    {
     "data": {
      "image/png": "[encoded data removed]",
      "text/plain": [
       "<Figure size 864x288 with 1 Axes>"
      ]
     },
     "metadata": {
      "needs_background": "light"
     },
     "output_type": "display_data"
    },
    {
     "name": "stdout",
     "output_type": "stream",
     "text": [
      "***************************************************************************************\n",
      "Матрица корреляции и диаграмма рассеяния для платформы: Wii\n"
     ]
    },
    {
     "data": {
      "text/html": [
       "<div>\n",
       "<style scoped>\n",
       "    .dataframe tbody tr th:only-of-type {\n",
       "        vertical-align: middle;\n",
       "    }\n",
       "\n",
       "    .dataframe tbody tr th {\n",
       "        vertical-align: top;\n",
       "    }\n",
       "\n",
       "    .dataframe thead th {\n",
       "        text-align: right;\n",
       "    }\n",
       "</style>\n",
       "<table border=\"1\" class=\"dataframe\">\n",
       "  <thead>\n",
       "    <tr style=\"text-align: right;\">\n",
       "      <th></th>\n",
       "      <th>critic_score</th>\n",
       "      <th>user_score</th>\n",
       "      <th>total_sales</th>\n",
       "    </tr>\n",
       "  </thead>\n",
       "  <tbody>\n",
       "    <tr>\n",
       "      <td>critic_score</td>\n",
       "      <td>1.000000</td>\n",
       "      <td>0.685395</td>\n",
       "      <td>0.237735</td>\n",
       "    </tr>\n",
       "    <tr>\n",
       "      <td>user_score</td>\n",
       "      <td>0.685395</td>\n",
       "      <td>1.000000</td>\n",
       "      <td>0.141303</td>\n",
       "    </tr>\n",
       "    <tr>\n",
       "      <td>total_sales</td>\n",
       "      <td>0.237735</td>\n",
       "      <td>0.141303</td>\n",
       "      <td>1.000000</td>\n",
       "    </tr>\n",
       "  </tbody>\n",
       "</table>\n",
       "</div>"
      ],
      "text/plain": [
       "              critic_score  user_score  total_sales\n",
       "critic_score      1.000000    0.685395     0.237735\n",
       "user_score        0.685395    1.000000     0.141303\n",
       "total_sales       0.237735    0.141303     1.000000"
      ]
     },
     "metadata": {},
     "output_type": "display_data"
    },
    {
     "data": {
      "image/png": "[encoded data removed]",
      "text/plain": [
       "<Figure size 864x288 with 1 Axes>"
      ]
     },
     "metadata": {
      "needs_background": "light"
     },
     "output_type": "display_data"
    },
    {
     "name": "stdout",
     "output_type": "stream",
     "text": [
      "***************************************************************************************\n"
     ]
    }
   ],
   "source": [
    "names_platforms_top3 = names_platforms_last_10_years[0:3]\n",
    "\n",
    "for name_platform in names_platforms_top3:\n",
    "    print('Матрица корреляции и диаграмма рассеяния для платформы:', name_platform)\n",
    "    data_for_platform = dt_last_10_years.query('platform == @name_platform')\n",
    "    display(data_for_platform[['critic_score', 'user_score', 'total_sales']].corr())\n",
    "    \n",
    "    plot_scatter(data_for_platform)\n",
    "    \n",
    "    print('***************************************************************************************')    "
   ]
  },
  {
   "cell_type": "markdown",
   "metadata": {},
   "source": [
    "Немного выделяется платформа Nintendo Wii, оценки пользователей и критиков здесь чаще совпадают.\n",
    "Рассчитанные коэффициенты корреляции и построенные диаграммы рассеяния для всех платформ очень схожи и демонстрируют некоторую зависимость продаж с ростом оценок (в большей степени критиков),  а следовательно ранее сделанные выводы о зависимостях между оценками критиков, пользователей и объемами продаж можно считать верными."
   ]
  },
  {
   "cell_type": "markdown",
   "metadata": {},
   "source": [
    "Рассмотрим общее распределение игр по жанрам. "
   ]
  },
  {
   "cell_type": "code",
   "execution_count": 39,
   "metadata": {},
   "outputs": [
    {
     "data": {
      "image/png": "[encoded data removed]",
      "text/plain": [
       "<Figure size 864x288 with 1 Axes>"
      ]
     },
     "metadata": {
      "needs_background": "light"
     },
     "output_type": "display_data"
    }
   ],
   "source": [
    "ax = (\n",
    "        dt_last_4_years.pivot_table(index='genre', values='total_sales', aggfunc='sum')\n",
    "        .sort_values(by='total_sales', ascending=False)\n",
    "        .plot(\n",
    "            kind='bar',\n",
    "            grid=True,\n",
    "            figsize=(12, 4))\n",
    ")\n",
    "ax.set_title('Количество продаж по жанрам игр')\n",
    "ax.set_xlabel('жанр игры')\n",
    "ax.set_ylabel('продано, млн')\n",
    "ax.legend().remove()\n",
    "plt.show()"
   ]
  },
  {
   "cell_type": "markdown",
   "metadata": {},
   "source": [
    "Самый прибыльный жанр с большим отрывом - \"Action\". Также в тройку лидеров входят шутеры и спортивные симуляторы, имеющие прмерно одинаковый уровень продаж. Наибольшие продажи приносят игры с активным гейм-плеем, где современные консоли позволяют наслаждаться качественной графикой и динамичными сюжетами. А вот когда-то популярные размеренные игры-стратегии и пазлы-головоломки находятся в конце списка и не могут похвастаться высокими продажами."
   ]
  },
  {
   "cell_type": "markdown",
   "metadata": {},
   "source": [
    " Посмотрим на количество игр представленных в каждом жанре"
   ]
  },
  {
   "cell_type": "code",
   "execution_count": 40,
   "metadata": {},
   "outputs": [
    {
     "data": {
      "image/png": "[encoded data removed]",
      "text/plain": [
       "<Figure size 864x288 with 1 Axes>"
      ]
     },
     "metadata": {
      "needs_background": "light"
     },
     "output_type": "display_data"
    }
   ],
   "source": [
    "ax = (\n",
    "        dt_last_4_years['genre'].value_counts()\n",
    "        .plot(\n",
    "            kind='bar',\n",
    "            grid=True,\n",
    "            figsize=(12, 4))\n",
    ")\n",
    "ax.set_title('Количество игр по жанрам')\n",
    "ax.set_xlabel('жанр игры')\n",
    "ax.set_ylabel('количество')\n",
    "ax.legend().remove()\n",
    "plt.show()"
   ]
  },
  {
   "cell_type": "markdown",
   "metadata": {},
   "source": [
    "Игры в жанре Action превышают по количеству ближайшего конкурента больше чем в 2.5 раза. Для определения продаваемых жанров воспользуемся подсчетом медианных продаж. Посмотрим на результаты"
   ]
  },
  {
   "cell_type": "code",
   "execution_count": 41,
   "metadata": {},
   "outputs": [
    {
     "data": {
      "image/png": "[encoded data removed]",
      "text/plain": [
       "<Figure size 864x288 with 1 Axes>"
      ]
     },
     "metadata": {
      "needs_background": "light"
     },
     "output_type": "display_data"
    }
   ],
   "source": [
    "ax = (\n",
    "        dt_last_4_years.pivot_table(index='genre', values='total_sales', aggfunc='median')\n",
    "        .sort_values(by='total_sales', ascending=False)\n",
    "        .plot(\n",
    "            kind='bar',\n",
    "            grid=True,\n",
    "            figsize=(12, 4))\n",
    ")\n",
    "ax.set_title('Количество медианных продаж игр по жанрам')\n",
    "ax.set_xlabel('жанр игры')\n",
    "ax.set_ylabel('продано, млн')\n",
    "ax.legend().remove()\n",
    "plt.show()"
   ]
  },
  {
   "cell_type": "markdown",
   "metadata": {},
   "source": [
    "Картина несколько поменялась. В тройке лидеров по-прежнему Shooter и Sports, при этом шутеры продаются почти в 2 раза лучше. Заметно ближе к топу переместился жанр Platform. Игры жанра Action переместились в середину, видимо рекордные общие продажи обеспечивали несколько популярных игр этого жанра. В конце списка все те же Strategy, Puzzle, Adventure."
   ]
  },
  {
   "cell_type": "markdown",
   "metadata": {},
   "source": [
    "## Составление портрета пользователя региона"
   ]
  },
  {
   "cell_type": "markdown",
   "metadata": {},
   "source": [
    "Определим для пользователя каждого региона (NA, EU, JP) самые популярные платформы (топ-5). "
   ]
  },
  {
   "cell_type": "code",
   "execution_count": 42,
   "metadata": {},
   "outputs": [
    {
     "data": {
      "image/png": "[encoded data removed]",
      "text/plain": [
       "<Figure size 720x288 with 1 Axes>"
      ]
     },
     "metadata": {
      "needs_background": "light"
     },
     "output_type": "display_data"
    },
    {
     "data": {
      "image/png": "[encoded data removed]",
      "text/plain": [
       "<Figure size 720x288 with 1 Axes>"
      ]
     },
     "metadata": {
      "needs_background": "light"
     },
     "output_type": "display_data"
    },
    {
     "data": {
      "image/png": "[encoded data removed]",
      "text/plain": [
       "<Figure size 720x288 with 1 Axes>"
      ]
     },
     "metadata": {
      "needs_background": "light"
     },
     "output_type": "display_data"
    }
   ],
   "source": [
    "dict_region = {'NA':'na_sales', 'EU':'eu_sales', 'JP':'jp_sales'}\n",
    "\n",
    "for region in dict_region.keys():    \n",
    "    ax = (\n",
    "        dt_last_4_years.pivot_table(index='platform', values=dict_region[region], aggfunc='sum')\n",
    "        .sort_values(by=dict_region[region], ascending=False).head(5)\n",
    "        .plot(\n",
    "            kind='bar',\n",
    "            grid=True,\n",
    "            figsize=(10, 4))\n",
    "    )\n",
    "    ax.set_title('Топ-5 платформ по количеству продаж для региона ' + region)\n",
    "    ax.set_xlabel('игровая платформа')\n",
    "    ax.set_ylabel('продано, млн')\n",
    "    ax.legend().remove()\n",
    "    plt.show()"
   ]
  },
  {
   "cell_type": "markdown",
   "metadata": {},
   "source": [
    "Лидеры среди успешных платформ для разных регионов несколько отличаются. Для северной америки тройка лидеров это платформа Sony PS4 и  2 платформы от Microsoft: Xbox One и Xbox 360, для Европы - Sony PS4 и PS3 и далее Xbox, а для Японии - лидер портативная консоль Nintendo 3DS. Заметно, что на популярность платформ влияет национальная принадлежность компаний-разработчиков. Особенно выделяется Япония - весь топ-5 японские консоли. Европе ближе также японские платформы, но и продукция Microsoft не сильно уступает лидеру - Sony. Японские компании - несомненный лидер в этой отрасли.    "
   ]
  },
  {
   "cell_type": "markdown",
   "metadata": {},
   "source": [
    "Определим для этих же регионов самые популярные жанры (топ-5)."
   ]
  },
  {
   "cell_type": "code",
   "execution_count": 43,
   "metadata": {},
   "outputs": [
    {
     "data": {
      "image/png": "[encoded data removed]",
      "text/plain": [
       "<Figure size 720x288 with 1 Axes>"
      ]
     },
     "metadata": {
      "needs_background": "light"
     },
     "output_type": "display_data"
    },
    {
     "data": {
      "image/png": "[encoded data removed]",
      "text/plain": [
       "<Figure size 720x288 with 1 Axes>"
      ]
     },
     "metadata": {
      "needs_background": "light"
     },
     "output_type": "display_data"
    },
    {
     "data": {
      "image/png": "[encoded data removed]",
      "text/plain": [
       "<Figure size 720x288 with 1 Axes>"
      ]
     },
     "metadata": {
      "needs_background": "light"
     },
     "output_type": "display_data"
    }
   ],
   "source": [
    "for region in dict_region.keys():    \n",
    "    ax = (\n",
    "        dt_last_4_years.pivot_table(index='genre', values=dict_region[region], aggfunc='sum')\n",
    "        .sort_values(by=dict_region[region], ascending=False).head(5)\n",
    "        .plot(\n",
    "            kind='bar',\n",
    "            grid=True,\n",
    "            figsize=(10, 4))\n",
    "    )\n",
    "    ax.set_title('Топ-5 жанров игр по количеству продаж для региона ' + region)\n",
    "    ax.set_xlabel('жанр игры')\n",
    "    ax.set_ylabel('продано, млн')\n",
    "    ax.legend().remove()\n",
    "    plt.show()"
   ]
  },
  {
   "cell_type": "markdown",
   "metadata": {},
   "source": [
    "Для регионов NA и EU предпочтения по жанрам почти одинаковы. Лидирует жанр Action, также популярны жанры Shooter и Sports. В конце списка небольшие отличия, Европа любит гонки. Япония снова демонстрирует свои особенности: в лидерах здесь Role-Playing Game, также популярен жанр Action, кроме того в пятерке популярных жанров появляется Fighting, что не удивительно для родины многих боевых исскуств. Эти все отличия вероятно связаны как с национальными особенностями и предпочтениями пользователей, так и с особенностями популярных в этих регионах игровых платформ."
   ]
  },
  {
   "cell_type": "markdown",
   "metadata": {},
   "source": [
    "Посмотрим, как влияет рейтинг ESRB на продажи в отдельном регионе."
   ]
  },
  {
   "cell_type": "code",
   "execution_count": 44,
   "metadata": {},
   "outputs": [
    {
     "data": {
      "image/png": "[encoded data removed]",
      "text/plain": [
       "<Figure size 720x288 with 1 Axes>"
      ]
     },
     "metadata": {
      "needs_background": "light"
     },
     "output_type": "display_data"
    },
    {
     "data": {
      "image/png": "[encoded data removed]",
      "text/plain": [
       "<Figure size 720x288 with 1 Axes>"
      ]
     },
     "metadata": {
      "needs_background": "light"
     },
     "output_type": "display_data"
    },
    {
     "data": {
      "image/png": "[encoded data removed]",
      "text/plain": [
       "<Figure size 720x288 with 1 Axes>"
      ]
     },
     "metadata": {
      "needs_background": "light"
     },
     "output_type": "display_data"
    }
   ],
   "source": [
    "for region in dict_region.keys():    \n",
    "    ax = (\n",
    "        dt_last_4_years.pivot_table(index='rating', values=dict_region[region], aggfunc='sum')\n",
    "        .sort_values(by=dict_region[region], ascending=False)\n",
    "        .plot(\n",
    "            kind='bar',\n",
    "            grid=True,\n",
    "            figsize=(10, 4))\n",
    "    )\n",
    "    ax.set_title('Влияние рейтинга ESRB на продажи в регионе ' + region)\n",
    "    ax.set_xlabel('рейтинг ESRB')\n",
    "    ax.set_ylabel('продано, млн')\n",
    "    ax.legend().remove()\n",
    "    plt.show()"
   ]
  },
  {
   "cell_type": "markdown",
   "metadata": {},
   "source": [
    "Опять картина для Европы и Америки очень схожа, больше всех продаж приносят игры с рейтингом М (для взрослых) и Е (для всех возрастных групп), большая доля игр не получила рейтинга (по крайней мере в нашем исследовании этих данных нет). Примечательно много игр с отсутсвующим ретингом  ESRB для Японии, вероятно там используется своя система установления рейтингов игр."
   ]
  },
  {
   "cell_type": "markdown",
   "metadata": {},
   "source": [
    " ## Проверка гипотез"
   ]
  },
  {
   "cell_type": "markdown",
   "metadata": {},
   "source": [
    "Проверим некоторые гипотезы. \n",
    "1. \"Средние пользовательские рейтинги платформ Xbox One и PC одинаковые.\"\n",
    "\n",
    "Сформулируем нулевую гипотезу для этого утверждения:  \n",
    "\"Средние пользовательские рейтинги платформ Xbox One и PC равны\".  \n",
    "Тогда альтернативная гипотеза:  \n",
    "\"Средние пользовательские рейтинги платформ Xbox One и PC не равны\"."
   ]
  },
  {
   "cell_type": "markdown",
   "metadata": {},
   "source": [
    "Сделаем выбоки данных для двух платформ"
   ]
  },
  {
   "cell_type": "code",
   "execution_count": 45,
   "metadata": {},
   "outputs": [],
   "source": [
    "user_scores_XOne = data[(data['platform'] == 'XOne') & (\n",
    "                        data['user_score'].notnull())].user_score\n",
    "user_scores_PC = data[(data['platform'] == 'PC') & (\n",
    "                        data['user_score'].notnull())].user_score"
   ]
  },
  {
   "cell_type": "markdown",
   "metadata": {},
   "source": [
    "Воспользуемся методом проверки гипотезы о равенстве средних двух генеральных совокупностей. Для этого создадим функцию выполняющую такую проверку. "
   ]
  },
  {
   "cell_type": "code",
   "execution_count": 46,
   "metadata": {},
   "outputs": [],
   "source": [
    "# Функция для проверки гипотезы о равенстве средних двух генеральных совокупностей\n",
    "# Входные данные: выборки данных и заданный уровень значимости\n",
    "# В функции определеятся значения параметра equal_var на основании сравнения дисперсии двух выборок,\n",
    "# дисперсии считаются разными, если отличаются больше чем на 5%\n",
    "\n",
    "def null_hypothesis_check(data1, data2, alpha_for_check):\n",
    "    var_data1 = data1.var()\n",
    "    var_data2 = data2.var()\n",
    "    equal_var_for_check = True\n",
    "    if (max(var_data1, var_data2) / min(var_data1, var_data2)) > 1.05:\n",
    "        equal_var_for_check = False\n",
    "    alpha = alpha_for_check\n",
    "    results = st.ttest_ind(data1.to_list(), data2.to_list(), equal_var=equal_var_for_check)\n",
    "    print('p-значение:', results.pvalue)\n",
    "    if results.pvalue < alpha:\n",
    "        print('Отвергаем нулевую гипотезу')\n",
    "    else:\n",
    "        print('Не получилось отвергнуть нулевую гипотезу') \n",
    "    \n",
    "    "
   ]
  },
  {
   "cell_type": "markdown",
   "metadata": {},
   "source": [
    "Для снижения вероятности ошибочного отклонения нулевой гипотезы в результате случайной ошибки, критерий (уровень) значимости предлагается установить на уровне 0.01. Проверим нулевую гипотезу."
   ]
  },
  {
   "cell_type": "code",
   "execution_count": 47,
   "metadata": {},
   "outputs": [
    {
     "name": "stdout",
     "output_type": "stream",
     "text": [
      "p-значение: 4.5385802963771776e-06\n",
      "Отвергаем нулевую гипотезу\n"
     ]
    }
   ],
   "source": [
    "null_hypothesis_check(user_scores_XOne, user_scores_PC, 0.01)"
   ]
  },
  {
   "cell_type": "markdown",
   "metadata": {},
   "source": [
    "Вероятность того, что \"Средние пользовательские рейтинги платформ Xbox One и PC равны\" - низка, делаем вывод, что, скорее всего, наше предположение неверно и принимаем альтернативную гипотезу, что \"Средние пользовательские рейтинги платформ Xbox One и PC не равны\""
   ]
  },
  {
   "cell_type": "markdown",
   "metadata": {},
   "source": [
    "2. Средние пользовательские рейтинги жанров Action (англ. «действие», экшен-игры) и Sports (англ. «спортивные соревнования») разные.  \n",
    "\n",
    "Сформулируем нулевую гипотезу для этого утверждения:  \n",
    "\"Средние пользовательские рейтинги жанров Action и Sports равны\".  \n",
    "Альтернативная гипотеза:  \n",
    "\"Средние пользовательские рейтинги жанров Action и Sports не равны\".\n",
    "\n",
    "Сделаем выбоки данных для двух жанров"
   ]
  },
  {
   "cell_type": "code",
   "execution_count": 48,
   "metadata": {},
   "outputs": [],
   "source": [
    "user_scores_genre_Action = data[(data['genre'] == 'Action') & (\n",
    "                        data['user_score'].notnull())].user_score\n",
    "user_scores_genre_Sports = data[(data['genre'] == 'Sports') & (\n",
    "                        data['user_score'].notnull())].user_score"
   ]
  },
  {
   "cell_type": "markdown",
   "metadata": {},
   "source": [
    "Критерий значимости установим на том же уровне 0.01. Проверим нулевую гипотезу"
   ]
  },
  {
   "cell_type": "code",
   "execution_count": 49,
   "metadata": {},
   "outputs": [
    {
     "name": "stdout",
     "output_type": "stream",
     "text": [
      "p-значение: 0.07370217419278534\n",
      "Не получилось отвергнуть нулевую гипотезу\n"
     ]
    }
   ],
   "source": [
    "null_hypothesis_check(user_scores_genre_Action, user_scores_genre_Sports, 0.01)"
   ]
  },
  {
   "cell_type": "markdown",
   "metadata": {},
   "source": [
    "Вероятность того, что \"Средние пользовательские рейтинги жанров Action и Sports равны\" относительно высока, данные не дают основания отвергнуть это предположение. Принимаем нулевую гипотезу."
   ]
  },
  {
   "cell_type": "markdown",
   "metadata": {},
   "source": [
    "## Общий вывод"
   ]
  },
  {
   "cell_type": "markdown",
   "metadata": {},
   "source": [
    "Проведен анализ исторических данных до 2016 года о продажах игр, оценках пользователей и экспертов, жанров и платформ.\n",
    "\n",
    "Выпуск компьютерных игр бурно начал расти с начала 90-х годов с развитием и ростом доступности персональных компьютеров и игровых приставок и достиг своего пика в 2008-2009 году, после чего наблюдается постепенное снижение, вероятно связанное развитием смартфонов и планшетов.\n",
    "\n",
    "Платформы с наибольшими суммарными продажами за все время это PS2, X360, PS3, Wii, DS и PS\n",
    "Характерный срок от появления до заката новых платформ около 10 лет. С момента появления до пика и начала падения продаж проходит в среднем 4 года. \n",
    "\n",
    "За последние 10 лет прослеживается общая тенденция к снижению продаж. В последние 3 года отмечался рост только для 2-х платформ: PlayStation 4 (PS4) и Xbox One (XOne), но и они в последний год демонстрировали снижение, что может быть связано с тем, что данные за 2016 год неполные. На конец 2016 года можно выделить 3 все еще потенциально прибыльные платформы: PlayStation 4 (PS4), Xbox One (XOne), Nintendo 3DS (3DS). Медианные продажи для 2-х самых перспективных платформ PlayStation 4 и Xbox One близки, но у PS4 больше игр пользующихся спросом.\n",
    "\n",
    "Анализ влияния озывов пользователей и критиков на продажи показал, что отзывы критиков заметно чаще влияют на покупки - высоких продаж становится больше после оценки критиков в 60 и более баллов. Об оценках пользователей такого нельзя сказать. \n",
    "\n",
    "По жанрам игр в тройке лидеров Shooter, Sports и Platform, при этом шутеры продаются почти в 2 раза лучше. Высокие общие продажи в жанре Action видимо обеспечивают несколько популярных игр этого жанра. А вот игры Strategy, Puzzle, Adventure не так популярны.\n",
    "\n",
    "Проведен анализ предпочтений пользователей в разрезе географических регионов. В Европе и Америке уверенно лидирует Sony PS4. Замечено, что в некоторых регионах на популярность платформ влияет национальная принадлежность компаний-разработчиков. Для северной америки в топ-3 2 из 3 платформы Microsoft, для Европы - Sony, а для Японии - все платформы национальные. Для регионов NA и EU предпочтения по жанрам практически одинаковы (лидирует Action), также популярны жанры Shooter и Sports. Япония демонстрирует свои особенности: в лидерах здесь Role-Playing Game, кроме того в пятерке популярных жанров появляется Fighting. \n",
    "\n",
    "Для Европы и Америки больше всех продаж приносят игры с рейтингом М (для взрослых) и Е (для всех возрастных групп). Примечательно много игр с отсутсвующим ретингом ESRB для Японии, вероятно там используется своя система установления рейтингов игр.\n",
    "\n",
    "На основании проведенных рассчетов получены результаты, что вероятность того, что средние пользовательские рейтинги платформ Xbox One и PC равны - крайне низкая, и скорее всего средние пользовательские рейтинги платформ Xbox One и PC не равны. А также вероятность того, что средние пользовательские рейтинги жанров Action и Sports равны относительно высока, и не дает основания отвергнуть это предположение."
   ]
  }
 ],
 "metadata": {
  "ExecuteTimeLog": [
   {
    "duration": 1419,
    "start_time": "2021-09-01T22:19:55.029Z"
   },
   {
    "duration": 59,
    "start_time": "2021-09-01T22:20:44.865Z"
   },
   {
    "duration": 9,
    "start_time": "2021-09-01T22:23:17.209Z"
   },
   {
    "duration": 20,
    "start_time": "2021-09-01T22:23:47.541Z"
   },
   {
    "duration": 31,
    "start_time": "2021-09-01T22:25:12.864Z"
   },
   {
    "duration": 6,
    "start_time": "2021-09-01T22:29:02.381Z"
   },
   {
    "duration": 58,
    "start_time": "2021-09-01T22:55:09.458Z"
   },
   {
    "duration": 6,
    "start_time": "2021-09-01T22:56:03.608Z"
   },
   {
    "duration": 19,
    "start_time": "2021-09-01T23:16:03.439Z"
   },
   {
    "duration": 7537,
    "start_time": "2021-09-01T23:17:24.359Z"
   },
   {
    "duration": 8,
    "start_time": "2021-09-01T23:17:45.767Z"
   },
   {
    "duration": 7,
    "start_time": "2021-09-01T23:19:01.726Z"
   },
   {
    "duration": 40,
    "start_time": "2021-09-01T23:20:26.158Z"
   },
   {
    "duration": 27,
    "start_time": "2021-09-01T23:37:32.308Z"
   },
   {
    "duration": 22,
    "start_time": "2021-09-01T23:40:48.623Z"
   },
   {
    "duration": 23,
    "start_time": "2021-09-01T23:42:05.400Z"
   },
   {
    "duration": 1412,
    "start_time": "2021-09-02T09:18:31.206Z"
   },
   {
    "duration": 24,
    "start_time": "2021-09-02T09:18:46.535Z"
   },
   {
    "duration": 9,
    "start_time": "2021-09-02T09:21:47.808Z"
   },
   {
    "duration": 23,
    "start_time": "2021-09-02T09:21:50.333Z"
   },
   {
    "duration": 477,
    "start_time": "2021-09-02T09:25:18.488Z"
   },
   {
    "duration": 368,
    "start_time": "2021-09-02T09:25:27.015Z"
   },
   {
    "duration": 20,
    "start_time": "2021-09-02T09:25:32.885Z"
   },
   {
    "duration": 17,
    "start_time": "2021-09-02T10:07:53.616Z"
   },
   {
    "duration": 11,
    "start_time": "2021-09-02T10:08:18.425Z"
   },
   {
    "duration": 123,
    "start_time": "2021-09-02T10:12:23.308Z"
   },
   {
    "duration": 13,
    "start_time": "2021-09-02T10:16:10.995Z"
   },
   {
    "duration": 25,
    "start_time": "2021-09-02T10:17:26.324Z"
   },
   {
    "duration": 11,
    "start_time": "2021-09-02T10:19:04.264Z"
   },
   {
    "duration": 69,
    "start_time": "2021-09-02T10:55:38.278Z"
   },
   {
    "duration": 30,
    "start_time": "2021-09-02T10:55:42.203Z"
   },
   {
    "duration": 7,
    "start_time": "2021-09-02T10:55:44.625Z"
   },
   {
    "duration": 34,
    "start_time": "2021-09-02T10:55:46.891Z"
   },
   {
    "duration": 406,
    "start_time": "2021-09-02T10:56:03.199Z"
   },
   {
    "duration": 18,
    "start_time": "2021-09-02T11:02:39.205Z"
   },
   {
    "duration": 28,
    "start_time": "2021-09-02T11:03:10.331Z"
   },
   {
    "duration": 10,
    "start_time": "2021-09-02T11:04:20.714Z"
   },
   {
    "duration": 8,
    "start_time": "2021-09-02T11:04:52.024Z"
   },
   {
    "duration": 26,
    "start_time": "2021-09-02T11:05:39.913Z"
   },
   {
    "duration": 15,
    "start_time": "2021-09-02T11:09:15.756Z"
   },
   {
    "duration": 10,
    "start_time": "2021-09-02T11:09:42.855Z"
   },
   {
    "duration": 21,
    "start_time": "2021-09-02T11:15:22.603Z"
   },
   {
    "duration": 27,
    "start_time": "2021-09-02T11:15:49.996Z"
   },
   {
    "duration": 8,
    "start_time": "2021-09-02T11:17:26.639Z"
   },
   {
    "duration": 258,
    "start_time": "2021-09-02T11:38:42.983Z"
   },
   {
    "duration": 11326,
    "start_time": "2021-09-02T11:38:51.104Z"
   },
   {
    "duration": 143,
    "start_time": "2021-09-02T11:39:17.423Z"
   },
   {
    "duration": 41,
    "start_time": "2021-09-02T11:39:23.548Z"
   },
   {
    "duration": 10,
    "start_time": "2021-09-02T11:40:37.010Z"
   },
   {
    "duration": 19,
    "start_time": "2021-09-02T11:41:13.823Z"
   },
   {
    "duration": 16,
    "start_time": "2021-09-02T11:41:19.348Z"
   },
   {
    "duration": 31,
    "start_time": "2021-09-02T11:41:49.912Z"
   },
   {
    "duration": 1528,
    "start_time": "2021-09-02T11:44:41.929Z"
   },
   {
    "duration": 29,
    "start_time": "2021-09-02T11:44:43.460Z"
   },
   {
    "duration": 26,
    "start_time": "2021-09-02T11:44:43.493Z"
   },
   {
    "duration": 15,
    "start_time": "2021-09-02T11:44:43.521Z"
   },
   {
    "duration": 42,
    "start_time": "2021-09-02T11:44:43.539Z"
   },
   {
    "duration": 26,
    "start_time": "2021-09-02T11:44:43.584Z"
   },
   {
    "duration": 7,
    "start_time": "2021-09-02T11:44:43.613Z"
   },
   {
    "duration": 33,
    "start_time": "2021-09-02T11:45:08.421Z"
   },
   {
    "duration": 28,
    "start_time": "2021-09-02T11:46:15.336Z"
   },
   {
    "duration": 33,
    "start_time": "2021-09-02T11:46:22.485Z"
   },
   {
    "duration": 40,
    "start_time": "2021-09-02T11:46:25.264Z"
   },
   {
    "duration": 1603,
    "start_time": "2021-09-02T11:46:42.457Z"
   },
   {
    "duration": 32,
    "start_time": "2021-09-02T11:46:44.063Z"
   },
   {
    "duration": 26,
    "start_time": "2021-09-02T11:46:44.104Z"
   },
   {
    "duration": 16,
    "start_time": "2021-09-02T11:46:44.133Z"
   },
   {
    "duration": 11,
    "start_time": "2021-09-02T11:46:44.172Z"
   },
   {
    "duration": 24,
    "start_time": "2021-09-02T11:46:44.186Z"
   },
   {
    "duration": 7,
    "start_time": "2021-09-02T11:46:44.213Z"
   },
   {
    "duration": 46,
    "start_time": "2021-09-02T11:46:47.662Z"
   },
   {
    "duration": 11,
    "start_time": "2021-09-02T11:47:10.603Z"
   },
   {
    "duration": 16,
    "start_time": "2021-09-02T11:48:16.705Z"
   },
   {
    "duration": 27,
    "start_time": "2021-09-02T12:46:18.836Z"
   },
   {
    "duration": 153,
    "start_time": "2021-09-02T12:47:16.087Z"
   },
   {
    "duration": 150,
    "start_time": "2021-09-02T12:47:23.177Z"
   },
   {
    "duration": 665,
    "start_time": "2021-09-02T12:47:49.098Z"
   },
   {
    "duration": 484,
    "start_time": "2021-09-02T12:48:07.214Z"
   },
   {
    "duration": 651,
    "start_time": "2021-09-02T12:48:28.307Z"
   },
   {
    "duration": 397,
    "start_time": "2021-09-02T12:48:49.943Z"
   },
   {
    "duration": 454,
    "start_time": "2021-09-02T12:49:07.286Z"
   },
   {
    "duration": 34,
    "start_time": "2021-09-02T12:49:14.395Z"
   },
   {
    "duration": 13,
    "start_time": "2021-09-02T12:49:26.630Z"
   },
   {
    "duration": 9,
    "start_time": "2021-09-02T12:53:50.251Z"
   },
   {
    "duration": 31,
    "start_time": "2021-09-02T12:53:54.775Z"
   },
   {
    "duration": 21,
    "start_time": "2021-09-02T12:54:07.660Z"
   },
   {
    "duration": 7,
    "start_time": "2021-09-02T12:55:30.010Z"
   },
   {
    "duration": 18,
    "start_time": "2021-09-02T12:55:37.656Z"
   },
   {
    "duration": 7,
    "start_time": "2021-09-02T12:58:29.425Z"
   },
   {
    "duration": 433,
    "start_time": "2021-09-02T13:08:01.707Z"
   },
   {
    "duration": 813,
    "start_time": "2021-09-02T13:08:13.103Z"
   },
   {
    "duration": 10,
    "start_time": "2021-09-02T13:08:27.948Z"
   },
   {
    "duration": 1239,
    "start_time": "2021-09-02T20:39:31.338Z"
   },
   {
    "duration": 17,
    "start_time": "2021-09-02T20:39:32.578Z"
   },
   {
    "duration": 16,
    "start_time": "2021-09-02T20:39:32.597Z"
   },
   {
    "duration": 41,
    "start_time": "2021-09-02T20:39:32.615Z"
   },
   {
    "duration": 13,
    "start_time": "2021-09-02T20:39:32.658Z"
   },
   {
    "duration": 17,
    "start_time": "2021-09-02T20:39:32.672Z"
   },
   {
    "duration": 5,
    "start_time": "2021-09-02T20:39:32.690Z"
   },
   {
    "duration": 12,
    "start_time": "2021-09-02T20:39:32.698Z"
   },
   {
    "duration": 9,
    "start_time": "2021-09-02T20:39:32.712Z"
   },
   {
    "duration": 24,
    "start_time": "2021-09-02T20:39:32.723Z"
   },
   {
    "duration": 8,
    "start_time": "2021-09-02T20:39:44.607Z"
   },
   {
    "duration": 32,
    "start_time": "2021-09-02T20:40:50.542Z"
   },
   {
    "duration": 9,
    "start_time": "2021-09-02T20:43:05.683Z"
   },
   {
    "duration": 5,
    "start_time": "2021-09-02T20:49:02.789Z"
   },
   {
    "duration": 8,
    "start_time": "2021-09-02T20:49:53.017Z"
   },
   {
    "duration": 14,
    "start_time": "2021-09-02T20:54:03.685Z"
   },
   {
    "duration": 8,
    "start_time": "2021-09-02T20:54:24.565Z"
   },
   {
    "duration": 10,
    "start_time": "2021-09-02T20:55:32.604Z"
   },
   {
    "duration": 21,
    "start_time": "2021-09-02T20:57:08.239Z"
   },
   {
    "duration": 6,
    "start_time": "2021-09-02T21:01:28.592Z"
   },
   {
    "duration": 8,
    "start_time": "2021-09-02T21:01:53.481Z"
   },
   {
    "duration": 9,
    "start_time": "2021-09-02T21:02:11.048Z"
   },
   {
    "duration": 10,
    "start_time": "2021-09-02T21:03:08.378Z"
   },
   {
    "duration": 6,
    "start_time": "2021-09-02T21:08:27.828Z"
   },
   {
    "duration": 10,
    "start_time": "2021-09-02T21:08:30.507Z"
   },
   {
    "duration": 23,
    "start_time": "2021-09-02T21:10:08.505Z"
   },
   {
    "duration": 375,
    "start_time": "2021-09-02T21:12:12.981Z"
   },
   {
    "duration": 10,
    "start_time": "2021-09-02T21:12:28.650Z"
   },
   {
    "duration": 8,
    "start_time": "2021-09-02T21:14:34.077Z"
   },
   {
    "duration": 12,
    "start_time": "2021-09-02T21:21:15.880Z"
   },
   {
    "duration": 1124,
    "start_time": "2021-09-02T21:22:19.333Z"
   },
   {
    "duration": 16,
    "start_time": "2021-09-02T21:22:20.459Z"
   },
   {
    "duration": 16,
    "start_time": "2021-09-02T21:22:20.477Z"
   },
   {
    "duration": 11,
    "start_time": "2021-09-02T21:22:20.495Z"
   },
   {
    "duration": 34,
    "start_time": "2021-09-02T21:22:20.507Z"
   },
   {
    "duration": 14,
    "start_time": "2021-09-02T21:22:20.543Z"
   },
   {
    "duration": 4,
    "start_time": "2021-09-02T21:22:20.559Z"
   },
   {
    "duration": 21,
    "start_time": "2021-09-02T21:22:20.565Z"
   },
   {
    "duration": 14,
    "start_time": "2021-09-02T21:22:20.589Z"
   },
   {
    "duration": 5,
    "start_time": "2021-09-02T21:22:20.605Z"
   },
   {
    "duration": 13,
    "start_time": "2021-09-02T21:22:20.612Z"
   },
   {
    "duration": 13,
    "start_time": "2021-09-02T21:22:20.641Z"
   },
   {
    "duration": 12,
    "start_time": "2021-09-02T21:22:20.656Z"
   },
   {
    "duration": 17,
    "start_time": "2021-09-02T21:22:20.669Z"
   },
   {
    "duration": 15,
    "start_time": "2021-09-02T21:22:39.658Z"
   },
   {
    "duration": 9,
    "start_time": "2021-09-02T21:23:29.510Z"
   },
   {
    "duration": 10,
    "start_time": "2021-09-02T21:24:16.354Z"
   },
   {
    "duration": 8,
    "start_time": "2021-09-02T21:25:02.645Z"
   },
   {
    "duration": 9,
    "start_time": "2021-09-02T21:31:10.434Z"
   },
   {
    "duration": 9,
    "start_time": "2021-09-02T21:32:55.086Z"
   },
   {
    "duration": 6,
    "start_time": "2021-09-02T21:36:00.842Z"
   },
   {
    "duration": 10,
    "start_time": "2021-09-02T21:36:19.057Z"
   },
   {
    "duration": 8,
    "start_time": "2021-09-02T21:36:41.626Z"
   },
   {
    "duration": 11,
    "start_time": "2021-09-02T21:37:31.943Z"
   },
   {
    "duration": 9,
    "start_time": "2021-09-02T21:37:39.126Z"
   },
   {
    "duration": 6650,
    "start_time": "2021-09-02T21:40:15.438Z"
   },
   {
    "duration": 9,
    "start_time": "2021-09-02T21:40:48.945Z"
   },
   {
    "duration": 9,
    "start_time": "2021-09-02T21:41:28.919Z"
   },
   {
    "duration": 16,
    "start_time": "2021-09-02T21:44:31.256Z"
   },
   {
    "duration": 15,
    "start_time": "2021-09-02T21:45:33.994Z"
   },
   {
    "duration": 30,
    "start_time": "2021-09-02T22:27:47.513Z"
   },
   {
    "duration": 30,
    "start_time": "2021-09-02T22:29:44.078Z"
   },
   {
    "duration": 27,
    "start_time": "2021-09-02T22:30:27.133Z"
   },
   {
    "duration": 28,
    "start_time": "2021-09-02T22:30:43.501Z"
   },
   {
    "duration": 27,
    "start_time": "2021-09-02T22:31:59.835Z"
   },
   {
    "duration": 26,
    "start_time": "2021-09-02T22:32:42.044Z"
   },
   {
    "duration": 26,
    "start_time": "2021-09-02T22:33:21.917Z"
   },
   {
    "duration": 26,
    "start_time": "2021-09-02T22:34:13.995Z"
   },
   {
    "duration": 4092,
    "start_time": "2021-09-02T22:38:31.144Z"
   },
   {
    "duration": 9270,
    "start_time": "2021-09-02T22:39:31.319Z"
   },
   {
    "duration": 1984,
    "start_time": "2021-09-02T22:40:00.013Z"
   },
   {
    "duration": 99,
    "start_time": "2021-09-02T22:41:16.258Z"
   },
   {
    "duration": 294,
    "start_time": "2021-09-02T22:41:56.851Z"
   },
   {
    "duration": 25,
    "start_time": "2021-09-02T22:42:28.665Z"
   },
   {
    "duration": 27,
    "start_time": "2021-09-02T22:47:54.324Z"
   },
   {
    "duration": 25,
    "start_time": "2021-09-02T22:49:17.164Z"
   },
   {
    "duration": 36,
    "start_time": "2021-09-02T22:49:48.966Z"
   },
   {
    "duration": 30,
    "start_time": "2021-09-02T22:51:12.161Z"
   },
   {
    "duration": 6,
    "start_time": "2021-09-02T22:53:45.438Z"
   },
   {
    "duration": 3,
    "start_time": "2021-09-02T22:54:08.605Z"
   },
   {
    "duration": 4,
    "start_time": "2021-09-02T22:54:18.115Z"
   },
   {
    "duration": 3,
    "start_time": "2021-09-02T22:54:33.501Z"
   },
   {
    "duration": 54,
    "start_time": "2021-09-02T23:07:17.308Z"
   },
   {
    "duration": 6,
    "start_time": "2021-09-02T23:29:53.220Z"
   },
   {
    "duration": 24,
    "start_time": "2021-09-02T23:30:03.623Z"
   },
   {
    "duration": 110,
    "start_time": "2021-09-02T23:37:10.996Z"
   },
   {
    "duration": 271,
    "start_time": "2021-09-02T23:38:46.264Z"
   },
   {
    "duration": 287,
    "start_time": "2021-09-02T23:49:27.289Z"
   },
   {
    "duration": 3,
    "start_time": "2021-09-02T23:49:39.575Z"
   },
   {
    "duration": 14,
    "start_time": "2021-09-02T23:49:42.457Z"
   },
   {
    "duration": 1091,
    "start_time": "2021-09-02T23:51:17.866Z"
   },
   {
    "duration": 16,
    "start_time": "2021-09-02T23:51:18.960Z"
   },
   {
    "duration": 16,
    "start_time": "2021-09-02T23:51:18.979Z"
   },
   {
    "duration": 12,
    "start_time": "2021-09-02T23:51:18.997Z"
   },
   {
    "duration": 5,
    "start_time": "2021-09-02T23:51:19.011Z"
   },
   {
    "duration": 15,
    "start_time": "2021-09-02T23:51:19.041Z"
   },
   {
    "duration": 5,
    "start_time": "2021-09-02T23:51:19.058Z"
   },
   {
    "duration": 10,
    "start_time": "2021-09-02T23:51:19.064Z"
   },
   {
    "duration": 10,
    "start_time": "2021-09-02T23:51:19.077Z"
   },
   {
    "duration": 5,
    "start_time": "2021-09-02T23:51:19.089Z"
   },
   {
    "duration": 45,
    "start_time": "2021-09-02T23:51:19.096Z"
   },
   {
    "duration": 14,
    "start_time": "2021-09-02T23:51:19.143Z"
   },
   {
    "duration": 12,
    "start_time": "2021-09-02T23:51:19.159Z"
   },
   {
    "duration": 15,
    "start_time": "2021-09-02T23:51:19.173Z"
   },
   {
    "duration": 15,
    "start_time": "2021-09-02T23:51:19.190Z"
   },
   {
    "duration": 42,
    "start_time": "2021-09-02T23:51:19.206Z"
   },
   {
    "duration": 8,
    "start_time": "2021-09-02T23:51:19.249Z"
   },
   {
    "duration": 10,
    "start_time": "2021-09-02T23:51:19.259Z"
   },
   {
    "duration": 8,
    "start_time": "2021-09-02T23:51:19.271Z"
   },
   {
    "duration": 10,
    "start_time": "2021-09-02T23:51:19.281Z"
   },
   {
    "duration": 6,
    "start_time": "2021-09-02T23:51:19.292Z"
   },
   {
    "duration": 54,
    "start_time": "2021-09-02T23:51:19.299Z"
   },
   {
    "duration": 53,
    "start_time": "2021-09-02T23:51:19.355Z"
   },
   {
    "duration": 3,
    "start_time": "2021-09-02T23:51:24.564Z"
   },
   {
    "duration": 686,
    "start_time": "2021-09-02T23:51:28.773Z"
   },
   {
    "duration": 1067,
    "start_time": "2021-09-03T00:05:54.193Z"
   },
   {
    "duration": 16,
    "start_time": "2021-09-03T00:05:55.262Z"
   },
   {
    "duration": 16,
    "start_time": "2021-09-03T00:05:55.280Z"
   },
   {
    "duration": 12,
    "start_time": "2021-09-03T00:05:55.298Z"
   },
   {
    "duration": 5,
    "start_time": "2021-09-03T00:05:55.312Z"
   },
   {
    "duration": 14,
    "start_time": "2021-09-03T00:05:55.341Z"
   },
   {
    "duration": 4,
    "start_time": "2021-09-03T00:05:55.357Z"
   },
   {
    "duration": 14,
    "start_time": "2021-09-03T00:05:55.363Z"
   },
   {
    "duration": 10,
    "start_time": "2021-09-03T00:05:55.379Z"
   },
   {
    "duration": 4,
    "start_time": "2021-09-03T00:05:55.391Z"
   },
   {
    "duration": 9,
    "start_time": "2021-09-03T00:05:55.397Z"
   },
   {
    "duration": 42,
    "start_time": "2021-09-03T00:05:55.408Z"
   },
   {
    "duration": 10,
    "start_time": "2021-09-03T00:05:55.452Z"
   },
   {
    "duration": 30,
    "start_time": "2021-09-03T00:05:55.463Z"
   },
   {
    "duration": 20,
    "start_time": "2021-09-03T00:05:55.495Z"
   },
   {
    "duration": 19,
    "start_time": "2021-09-03T00:05:55.517Z"
   },
   {
    "duration": 14,
    "start_time": "2021-09-03T00:05:55.538Z"
   },
   {
    "duration": 31,
    "start_time": "2021-09-03T00:05:55.554Z"
   },
   {
    "duration": 18,
    "start_time": "2021-09-03T00:05:55.587Z"
   },
   {
    "duration": 19,
    "start_time": "2021-09-03T00:05:55.607Z"
   },
   {
    "duration": 19,
    "start_time": "2021-09-03T00:05:55.628Z"
   },
   {
    "duration": 22,
    "start_time": "2021-09-03T00:05:55.649Z"
   },
   {
    "duration": 59,
    "start_time": "2021-09-03T00:05:55.673Z"
   },
   {
    "duration": 3,
    "start_time": "2021-09-03T00:06:00.649Z"
   },
   {
    "duration": 14,
    "start_time": "2021-09-03T00:06:05.611Z"
   },
   {
    "duration": 1146,
    "start_time": "2021-09-03T00:07:57.309Z"
   },
   {
    "duration": 18,
    "start_time": "2021-09-03T00:07:58.457Z"
   },
   {
    "duration": 17,
    "start_time": "2021-09-03T00:07:58.478Z"
   },
   {
    "duration": 14,
    "start_time": "2021-09-03T00:07:58.498Z"
   },
   {
    "duration": 29,
    "start_time": "2021-09-03T00:07:58.514Z"
   },
   {
    "duration": 15,
    "start_time": "2021-09-03T00:07:58.546Z"
   },
   {
    "duration": 6,
    "start_time": "2021-09-03T00:07:58.563Z"
   },
   {
    "duration": 12,
    "start_time": "2021-09-03T00:07:58.571Z"
   },
   {
    "duration": 11,
    "start_time": "2021-09-03T00:07:58.586Z"
   },
   {
    "duration": 5,
    "start_time": "2021-09-03T00:07:58.599Z"
   },
   {
    "duration": 8,
    "start_time": "2021-09-03T00:07:58.642Z"
   },
   {
    "duration": 17,
    "start_time": "2021-09-03T00:07:58.652Z"
   },
   {
    "duration": 10,
    "start_time": "2021-09-03T00:07:58.671Z"
   },
   {
    "duration": 14,
    "start_time": "2021-09-03T00:07:58.683Z"
   },
   {
    "duration": 44,
    "start_time": "2021-09-03T00:07:58.699Z"
   },
   {
    "duration": 9,
    "start_time": "2021-09-03T00:07:58.745Z"
   },
   {
    "duration": 11,
    "start_time": "2021-09-03T00:07:58.756Z"
   },
   {
    "duration": 17,
    "start_time": "2021-09-03T00:07:58.769Z"
   },
   {
    "duration": 12,
    "start_time": "2021-09-03T00:07:58.787Z"
   },
   {
    "duration": 9,
    "start_time": "2021-09-03T00:07:58.801Z"
   },
   {
    "duration": 30,
    "start_time": "2021-09-03T00:07:58.812Z"
   },
   {
    "duration": 20,
    "start_time": "2021-09-03T00:07:58.844Z"
   },
   {
    "duration": 60,
    "start_time": "2021-09-03T00:07:58.866Z"
   },
   {
    "duration": 3,
    "start_time": "2021-09-03T00:08:02.993Z"
   },
   {
    "duration": 663,
    "start_time": "2021-09-03T00:08:22.679Z"
   },
   {
    "duration": 4,
    "start_time": "2021-09-03T00:09:43.484Z"
   },
   {
    "duration": 15,
    "start_time": "2021-09-03T00:09:46.284Z"
   },
   {
    "duration": 1147,
    "start_time": "2021-09-03T00:11:36.152Z"
   },
   {
    "duration": 16,
    "start_time": "2021-09-03T00:11:37.301Z"
   },
   {
    "duration": 22,
    "start_time": "2021-09-03T00:11:37.319Z"
   },
   {
    "duration": 12,
    "start_time": "2021-09-03T00:11:37.343Z"
   },
   {
    "duration": 5,
    "start_time": "2021-09-03T00:11:37.357Z"
   },
   {
    "duration": 16,
    "start_time": "2021-09-03T00:11:37.363Z"
   },
   {
    "duration": 5,
    "start_time": "2021-09-03T00:11:37.381Z"
   },
   {
    "duration": 11,
    "start_time": "2021-09-03T00:11:37.388Z"
   },
   {
    "duration": 40,
    "start_time": "2021-09-03T00:11:37.401Z"
   },
   {
    "duration": 5,
    "start_time": "2021-09-03T00:11:37.443Z"
   },
   {
    "duration": 10,
    "start_time": "2021-09-03T00:11:37.449Z"
   },
   {
    "duration": 15,
    "start_time": "2021-09-03T00:11:37.461Z"
   },
   {
    "duration": 11,
    "start_time": "2021-09-03T00:11:37.478Z"
   },
   {
    "duration": 15,
    "start_time": "2021-09-03T00:11:37.490Z"
   },
   {
    "duration": 46,
    "start_time": "2021-09-03T00:11:37.507Z"
   },
   {
    "duration": 8,
    "start_time": "2021-09-03T00:11:37.555Z"
   },
   {
    "duration": 7,
    "start_time": "2021-09-03T00:11:37.565Z"
   },
   {
    "duration": 12,
    "start_time": "2021-09-03T00:11:37.574Z"
   },
   {
    "duration": 10,
    "start_time": "2021-09-03T00:11:37.588Z"
   },
   {
    "duration": 42,
    "start_time": "2021-09-03T00:11:37.600Z"
   },
   {
    "duration": 8,
    "start_time": "2021-09-03T00:11:37.644Z"
   },
   {
    "duration": 16,
    "start_time": "2021-09-03T00:11:37.654Z"
   },
   {
    "duration": 45,
    "start_time": "2021-09-03T00:11:53.421Z"
   },
   {
    "duration": 3,
    "start_time": "2021-09-03T00:12:26.423Z"
   },
   {
    "duration": 616,
    "start_time": "2021-09-03T00:12:29.269Z"
   },
   {
    "duration": 4,
    "start_time": "2021-09-03T00:13:00.687Z"
   },
   {
    "duration": 16,
    "start_time": "2021-09-03T00:13:03.438Z"
   },
   {
    "duration": 9,
    "start_time": "2021-09-03T00:13:25.713Z"
   },
   {
    "duration": 23,
    "start_time": "2021-09-03T00:13:34.916Z"
   },
   {
    "duration": 4,
    "start_time": "2021-09-03T00:23:03.540Z"
   },
   {
    "duration": 572,
    "start_time": "2021-09-03T00:23:06.980Z"
   },
   {
    "duration": 4,
    "start_time": "2021-09-03T00:23:41.510Z"
   },
   {
    "duration": 568,
    "start_time": "2021-09-03T00:23:43.385Z"
   },
   {
    "duration": 3,
    "start_time": "2021-09-03T00:26:46.635Z"
   },
   {
    "duration": 298,
    "start_time": "2021-09-03T00:26:49.351Z"
   },
   {
    "duration": 24,
    "start_time": "2021-09-03T00:26:56.535Z"
   },
   {
    "duration": 5,
    "start_time": "2021-09-03T00:27:48.599Z"
   },
   {
    "duration": 5,
    "start_time": "2021-09-03T00:31:47.304Z"
   },
   {
    "duration": 3,
    "start_time": "2021-09-03T00:32:20.584Z"
   },
   {
    "duration": 1107,
    "start_time": "2021-09-03T00:34:10.346Z"
   },
   {
    "duration": 16,
    "start_time": "2021-09-03T00:34:11.455Z"
   },
   {
    "duration": 16,
    "start_time": "2021-09-03T00:34:11.473Z"
   },
   {
    "duration": 14,
    "start_time": "2021-09-03T00:34:11.491Z"
   },
   {
    "duration": 5,
    "start_time": "2021-09-03T00:34:11.507Z"
   },
   {
    "duration": 15,
    "start_time": "2021-09-03T00:34:11.541Z"
   },
   {
    "duration": 5,
    "start_time": "2021-09-03T00:34:11.558Z"
   },
   {
    "duration": 10,
    "start_time": "2021-09-03T00:34:11.565Z"
   },
   {
    "duration": 6,
    "start_time": "2021-09-03T00:34:16.087Z"
   },
   {
    "duration": 23,
    "start_time": "2021-09-03T00:35:28.274Z"
   },
   {
    "duration": 20,
    "start_time": "2021-09-03T00:36:56.905Z"
   },
   {
    "duration": 14,
    "start_time": "2021-09-03T00:37:22.618Z"
   },
   {
    "duration": 15,
    "start_time": "2021-09-03T00:37:41.825Z"
   },
   {
    "duration": 14,
    "start_time": "2021-09-03T00:38:07.783Z"
   },
   {
    "duration": 15,
    "start_time": "2021-09-03T00:38:19.333Z"
   },
   {
    "duration": 15,
    "start_time": "2021-09-03T00:38:38.109Z"
   },
   {
    "duration": 16,
    "start_time": "2021-09-03T00:38:54.531Z"
   },
   {
    "duration": 1396,
    "start_time": "2021-09-03T09:20:26.771Z"
   },
   {
    "duration": 25,
    "start_time": "2021-09-03T09:20:28.171Z"
   },
   {
    "duration": 24,
    "start_time": "2021-09-03T09:20:28.199Z"
   },
   {
    "duration": 46,
    "start_time": "2021-09-03T09:20:28.227Z"
   },
   {
    "duration": 6,
    "start_time": "2021-09-03T09:20:28.275Z"
   },
   {
    "duration": 25,
    "start_time": "2021-09-03T09:20:28.283Z"
   },
   {
    "duration": 12,
    "start_time": "2021-09-03T09:20:28.312Z"
   },
   {
    "duration": 42,
    "start_time": "2021-09-03T09:20:28.327Z"
   },
   {
    "duration": 14,
    "start_time": "2021-09-03T09:20:28.373Z"
   },
   {
    "duration": 16,
    "start_time": "2021-09-03T09:20:28.390Z"
   },
   {
    "duration": 55,
    "start_time": "2021-09-03T09:20:28.409Z"
   },
   {
    "duration": 24,
    "start_time": "2021-09-03T09:20:28.466Z"
   },
   {
    "duration": 9,
    "start_time": "2021-09-03T09:20:28.493Z"
   },
   {
    "duration": 57,
    "start_time": "2021-09-03T09:20:28.505Z"
   },
   {
    "duration": 13,
    "start_time": "2021-09-03T09:20:28.564Z"
   },
   {
    "duration": 23,
    "start_time": "2021-09-03T09:20:28.579Z"
   },
   {
    "duration": 19,
    "start_time": "2021-09-03T09:20:28.604Z"
   },
   {
    "duration": 41,
    "start_time": "2021-09-03T09:20:28.625Z"
   },
   {
    "duration": 9,
    "start_time": "2021-09-03T09:20:28.669Z"
   },
   {
    "duration": 18,
    "start_time": "2021-09-03T09:20:28.680Z"
   },
   {
    "duration": 23,
    "start_time": "2021-09-03T09:20:28.701Z"
   },
   {
    "duration": 42,
    "start_time": "2021-09-03T09:20:28.726Z"
   },
   {
    "duration": 27,
    "start_time": "2021-09-03T09:20:28.770Z"
   },
   {
    "duration": 23,
    "start_time": "2021-09-03T09:21:23.235Z"
   },
   {
    "duration": 64,
    "start_time": "2021-09-03T09:22:44.811Z"
   },
   {
    "duration": 5,
    "start_time": "2021-09-03T09:22:55.490Z"
   },
   {
    "duration": 470,
    "start_time": "2021-09-03T09:23:02.805Z"
   },
   {
    "duration": 24,
    "start_time": "2021-09-03T09:23:09.598Z"
   },
   {
    "duration": 10,
    "start_time": "2021-09-03T09:26:12.107Z"
   },
   {
    "duration": 8,
    "start_time": "2021-09-03T09:26:22.819Z"
   },
   {
    "duration": 9,
    "start_time": "2021-09-03T09:30:09.110Z"
   },
   {
    "duration": 10,
    "start_time": "2021-09-03T09:30:19.739Z"
   },
   {
    "duration": 10,
    "start_time": "2021-09-03T09:30:35.468Z"
   },
   {
    "duration": 9,
    "start_time": "2021-09-03T09:30:48.500Z"
   },
   {
    "duration": 10,
    "start_time": "2021-09-03T09:31:53.697Z"
   },
   {
    "duration": 8,
    "start_time": "2021-09-03T09:32:00.467Z"
   },
   {
    "duration": 21,
    "start_time": "2021-09-03T09:36:28.961Z"
   },
   {
    "duration": 19,
    "start_time": "2021-09-03T09:37:29.571Z"
   },
   {
    "duration": 20,
    "start_time": "2021-09-03T09:37:53.558Z"
   },
   {
    "duration": 22,
    "start_time": "2021-09-03T09:38:14.444Z"
   },
   {
    "duration": 21,
    "start_time": "2021-09-03T09:38:53.606Z"
   },
   {
    "duration": 22,
    "start_time": "2021-09-03T09:39:15.182Z"
   },
   {
    "duration": 21,
    "start_time": "2021-09-03T09:55:08.413Z"
   },
   {
    "duration": 9,
    "start_time": "2021-09-03T09:59:50.349Z"
   },
   {
    "duration": 11,
    "start_time": "2021-09-03T10:00:06.067Z"
   },
   {
    "duration": 10,
    "start_time": "2021-09-03T10:00:26.652Z"
   },
   {
    "duration": 8,
    "start_time": "2021-09-03T10:00:30.926Z"
   },
   {
    "duration": 6,
    "start_time": "2021-09-03T10:03:14.799Z"
   },
   {
    "duration": 6,
    "start_time": "2021-09-03T10:03:33.912Z"
   },
   {
    "duration": 7,
    "start_time": "2021-09-03T11:24:57.855Z"
   },
   {
    "duration": 6,
    "start_time": "2021-09-03T11:25:10.216Z"
   },
   {
    "duration": 6,
    "start_time": "2021-09-03T11:25:24.794Z"
   },
   {
    "duration": 41,
    "start_time": "2021-09-03T11:27:49.960Z"
   },
   {
    "duration": 24,
    "start_time": "2021-09-03T11:29:02.710Z"
   },
   {
    "duration": 61,
    "start_time": "2021-09-03T11:34:55.239Z"
   },
   {
    "duration": 1446,
    "start_time": "2021-09-03T12:00:00.365Z"
   },
   {
    "duration": 1473,
    "start_time": "2021-09-03T12:00:29.980Z"
   },
   {
    "duration": 1482,
    "start_time": "2021-09-03T12:01:00.141Z"
   },
   {
    "duration": 1442,
    "start_time": "2021-09-03T12:03:16.322Z"
   },
   {
    "duration": 1494,
    "start_time": "2021-09-03T12:04:02.222Z"
   },
   {
    "duration": 511,
    "start_time": "2021-09-03T12:16:41.654Z"
   },
   {
    "duration": 1401,
    "start_time": "2021-09-03T12:16:48.777Z"
   },
   {
    "duration": 21,
    "start_time": "2021-09-03T12:16:50.180Z"
   },
   {
    "duration": 22,
    "start_time": "2021-09-03T12:16:50.204Z"
   },
   {
    "duration": 47,
    "start_time": "2021-09-03T12:16:50.228Z"
   },
   {
    "duration": 20,
    "start_time": "2021-09-03T12:16:50.278Z"
   },
   {
    "duration": 34,
    "start_time": "2021-09-03T12:16:50.300Z"
   },
   {
    "duration": 6,
    "start_time": "2021-09-03T12:16:50.337Z"
   },
   {
    "duration": 22,
    "start_time": "2021-09-03T12:16:50.347Z"
   },
   {
    "duration": 24,
    "start_time": "2021-09-03T12:16:50.371Z"
   },
   {
    "duration": 7,
    "start_time": "2021-09-03T12:16:50.397Z"
   },
   {
    "duration": 35,
    "start_time": "2021-09-03T12:16:50.406Z"
   },
   {
    "duration": 39,
    "start_time": "2021-09-03T12:16:50.443Z"
   },
   {
    "duration": 9,
    "start_time": "2021-09-03T12:16:50.484Z"
   },
   {
    "duration": 21,
    "start_time": "2021-09-03T12:16:50.495Z"
   },
   {
    "duration": 45,
    "start_time": "2021-09-03T12:16:50.519Z"
   },
   {
    "duration": 21,
    "start_time": "2021-09-03T12:16:50.566Z"
   },
   {
    "duration": 33,
    "start_time": "2021-09-03T12:16:50.590Z"
   },
   {
    "duration": 27,
    "start_time": "2021-09-03T12:16:50.625Z"
   },
   {
    "duration": 13,
    "start_time": "2021-09-03T12:16:50.662Z"
   },
   {
    "duration": 25,
    "start_time": "2021-09-03T12:16:50.677Z"
   },
   {
    "duration": 2156,
    "start_time": "2021-09-03T12:16:54.535Z"
   },
   {
    "duration": 2265,
    "start_time": "2021-09-03T12:17:12.256Z"
   },
   {
    "duration": 2146,
    "start_time": "2021-09-03T12:17:27.968Z"
   },
   {
    "duration": 70,
    "start_time": "2021-09-03T12:21:38.193Z"
   },
   {
    "duration": 85,
    "start_time": "2021-09-03T12:22:01.373Z"
   },
   {
    "duration": 79,
    "start_time": "2021-09-03T12:22:28.920Z"
   },
   {
    "duration": 68,
    "start_time": "2021-09-03T12:23:39.824Z"
   },
   {
    "duration": 23,
    "start_time": "2021-09-03T12:24:48.446Z"
   },
   {
    "duration": 83,
    "start_time": "2021-09-03T12:25:13.225Z"
   },
   {
    "duration": 14,
    "start_time": "2021-09-03T12:26:58.607Z"
   },
   {
    "duration": 15,
    "start_time": "2021-09-03T12:27:45.111Z"
   },
   {
    "duration": 451,
    "start_time": "2021-09-03T12:28:58.974Z"
   },
   {
    "duration": 2123,
    "start_time": "2021-09-03T12:29:37.826Z"
   },
   {
    "duration": 2122,
    "start_time": "2021-09-03T12:29:47.598Z"
   },
   {
    "duration": 2191,
    "start_time": "2021-09-03T12:33:16.689Z"
   },
   {
    "duration": 2203,
    "start_time": "2021-09-03T12:33:58.051Z"
   },
   {
    "duration": 2086,
    "start_time": "2021-09-03T12:35:03.735Z"
   },
   {
    "duration": 338,
    "start_time": "2021-09-03T12:43:38.344Z"
   },
   {
    "duration": 30,
    "start_time": "2021-09-03T12:43:50.792Z"
   },
   {
    "duration": 30,
    "start_time": "2021-09-03T12:44:11.468Z"
   },
   {
    "duration": 16005,
    "start_time": "2021-09-03T12:45:37.747Z"
   },
   {
    "duration": 2085,
    "start_time": "2021-09-03T12:46:12.021Z"
   },
   {
    "duration": 1403,
    "start_time": "2021-09-03T14:17:06.571Z"
   },
   {
    "duration": 22,
    "start_time": "2021-09-03T14:17:07.977Z"
   },
   {
    "duration": 23,
    "start_time": "2021-09-03T14:17:08.002Z"
   },
   {
    "duration": 43,
    "start_time": "2021-09-03T14:17:08.028Z"
   },
   {
    "duration": 8,
    "start_time": "2021-09-03T14:17:08.074Z"
   },
   {
    "duration": 39,
    "start_time": "2021-09-03T14:17:08.084Z"
   },
   {
    "duration": 7,
    "start_time": "2021-09-03T14:17:08.126Z"
   },
   {
    "duration": 33,
    "start_time": "2021-09-03T14:17:08.136Z"
   },
   {
    "duration": 25,
    "start_time": "2021-09-03T14:17:08.172Z"
   },
   {
    "duration": 7,
    "start_time": "2021-09-03T14:17:08.199Z"
   },
   {
    "duration": 54,
    "start_time": "2021-09-03T14:17:08.208Z"
   },
   {
    "duration": 23,
    "start_time": "2021-09-03T14:17:08.265Z"
   },
   {
    "duration": 14,
    "start_time": "2021-09-03T14:17:08.291Z"
   },
   {
    "duration": 33,
    "start_time": "2021-09-03T14:17:08.308Z"
   },
   {
    "duration": 23,
    "start_time": "2021-09-03T14:17:08.362Z"
   },
   {
    "duration": 31,
    "start_time": "2021-09-03T14:17:08.388Z"
   },
   {
    "duration": 32,
    "start_time": "2021-09-03T14:17:08.421Z"
   },
   {
    "duration": 20,
    "start_time": "2021-09-03T14:17:08.455Z"
   },
   {
    "duration": 23,
    "start_time": "2021-09-03T14:17:08.478Z"
   },
   {
    "duration": 28,
    "start_time": "2021-09-03T14:17:08.503Z"
   },
   {
    "duration": 16,
    "start_time": "2021-09-03T14:17:08.533Z"
   },
   {
    "duration": 524,
    "start_time": "2021-09-03T14:17:33.509Z"
   },
   {
    "duration": 12192,
    "start_time": "2021-09-03T14:19:05.080Z"
   },
   {
    "duration": 1985,
    "start_time": "2021-09-03T14:20:28.546Z"
   },
   {
    "duration": 1932,
    "start_time": "2021-09-03T14:21:23.960Z"
   },
   {
    "duration": 61,
    "start_time": "2021-09-03T14:24:07.682Z"
   },
   {
    "duration": 62,
    "start_time": "2021-09-03T14:24:21.484Z"
   },
   {
    "duration": 1927,
    "start_time": "2021-09-03T14:26:45.606Z"
   },
   {
    "duration": 1972,
    "start_time": "2021-09-03T14:26:49.615Z"
   },
   {
    "duration": 378,
    "start_time": "2021-09-03T14:33:10.711Z"
   },
   {
    "duration": 2173,
    "start_time": "2021-09-03T14:34:37.745Z"
   },
   {
    "duration": 364,
    "start_time": "2021-09-03T14:35:09.889Z"
   },
   {
    "duration": 390,
    "start_time": "2021-09-03T14:35:19.376Z"
   },
   {
    "duration": 508,
    "start_time": "2021-09-03T14:35:50.136Z"
   },
   {
    "duration": 395,
    "start_time": "2021-09-03T14:50:31.333Z"
   },
   {
    "duration": 2056,
    "start_time": "2021-09-03T14:51:48.406Z"
   },
   {
    "duration": 6,
    "start_time": "2021-09-03T18:24:45.337Z"
   },
   {
    "duration": 4,
    "start_time": "2021-09-03T18:24:57.587Z"
   },
   {
    "duration": 5,
    "start_time": "2021-09-03T18:25:15.342Z"
   },
   {
    "duration": 6,
    "start_time": "2021-09-03T18:33:36.646Z"
   },
   {
    "duration": 6,
    "start_time": "2021-09-03T18:33:51.285Z"
   },
   {
    "duration": 1426,
    "start_time": "2021-09-03T18:45:49.209Z"
   },
   {
    "duration": 23,
    "start_time": "2021-09-03T18:45:50.638Z"
   },
   {
    "duration": 28,
    "start_time": "2021-09-03T18:45:50.665Z"
   },
   {
    "duration": 16,
    "start_time": "2021-09-03T18:45:50.696Z"
   },
   {
    "duration": 7,
    "start_time": "2021-09-03T18:45:50.715Z"
   },
   {
    "duration": 25,
    "start_time": "2021-09-03T18:45:50.724Z"
   },
   {
    "duration": 7,
    "start_time": "2021-09-03T18:45:50.752Z"
   },
   {
    "duration": 17,
    "start_time": "2021-09-03T18:45:50.761Z"
   },
   {
    "duration": 18,
    "start_time": "2021-09-03T18:45:50.782Z"
   },
   {
    "duration": 7,
    "start_time": "2021-09-03T18:45:50.803Z"
   },
   {
    "duration": 36,
    "start_time": "2021-09-03T18:45:50.812Z"
   },
   {
    "duration": 37,
    "start_time": "2021-09-03T18:45:50.850Z"
   },
   {
    "duration": 10,
    "start_time": "2021-09-03T18:45:50.890Z"
   },
   {
    "duration": 22,
    "start_time": "2021-09-03T18:45:50.902Z"
   },
   {
    "duration": 15,
    "start_time": "2021-09-03T18:45:50.927Z"
   },
   {
    "duration": 32,
    "start_time": "2021-09-03T18:45:50.945Z"
   },
   {
    "duration": 24,
    "start_time": "2021-09-03T18:45:50.979Z"
   },
   {
    "duration": 16,
    "start_time": "2021-09-03T18:45:51.007Z"
   },
   {
    "duration": 18,
    "start_time": "2021-09-03T18:45:51.026Z"
   },
   {
    "duration": 23,
    "start_time": "2021-09-03T18:45:51.047Z"
   },
   {
    "duration": 21,
    "start_time": "2021-09-03T18:45:51.073Z"
   },
   {
    "duration": 3593,
    "start_time": "2021-09-03T18:45:51.097Z"
   },
   {
    "duration": 5,
    "start_time": "2021-09-03T18:45:54.692Z"
   },
   {
    "duration": 498,
    "start_time": "2021-09-03T18:45:58.442Z"
   },
   {
    "duration": 380,
    "start_time": "2021-09-03T18:48:42.724Z"
   },
   {
    "duration": 5,
    "start_time": "2021-09-03T18:51:45.281Z"
   },
   {
    "duration": 760,
    "start_time": "2021-09-03T18:51:48.265Z"
   },
   {
    "duration": 17,
    "start_time": "2021-09-03T18:52:03.994Z"
   },
   {
    "duration": 13,
    "start_time": "2021-09-03T18:53:29.668Z"
   },
   {
    "duration": 12,
    "start_time": "2021-09-03T18:54:42.686Z"
   },
   {
    "duration": 311,
    "start_time": "2021-09-03T18:55:06.743Z"
   },
   {
    "duration": 12,
    "start_time": "2021-09-03T18:57:53.322Z"
   },
   {
    "duration": 1869,
    "start_time": "2021-09-03T18:58:26.588Z"
   },
   {
    "duration": 33,
    "start_time": "2021-09-03T18:58:28.460Z"
   },
   {
    "duration": 34,
    "start_time": "2021-09-03T18:58:28.496Z"
   },
   {
    "duration": 49,
    "start_time": "2021-09-03T18:58:28.534Z"
   },
   {
    "duration": 9,
    "start_time": "2021-09-03T18:58:28.586Z"
   },
   {
    "duration": 33,
    "start_time": "2021-09-03T18:58:28.597Z"
   },
   {
    "duration": 35,
    "start_time": "2021-09-03T18:58:28.633Z"
   },
   {
    "duration": 15,
    "start_time": "2021-09-03T18:58:28.671Z"
   },
   {
    "duration": 21,
    "start_time": "2021-09-03T18:58:28.692Z"
   },
   {
    "duration": 8,
    "start_time": "2021-09-03T18:58:28.716Z"
   },
   {
    "duration": 80,
    "start_time": "2021-09-03T18:58:28.727Z"
   },
   {
    "duration": 27,
    "start_time": "2021-09-03T18:58:28.809Z"
   },
   {
    "duration": 32,
    "start_time": "2021-09-03T18:58:28.838Z"
   },
   {
    "duration": 22,
    "start_time": "2021-09-03T18:58:28.872Z"
   },
   {
    "duration": 14,
    "start_time": "2021-09-03T18:58:28.897Z"
   },
   {
    "duration": 63,
    "start_time": "2021-09-03T18:58:28.914Z"
   },
   {
    "duration": 13,
    "start_time": "2021-09-03T18:58:28.979Z"
   },
   {
    "duration": 13,
    "start_time": "2021-09-03T18:58:28.994Z"
   },
   {
    "duration": 10,
    "start_time": "2021-09-03T18:58:29.010Z"
   },
   {
    "duration": 18,
    "start_time": "2021-09-03T18:58:29.068Z"
   },
   {
    "duration": 18,
    "start_time": "2021-09-03T18:58:29.088Z"
   },
   {
    "duration": 3417,
    "start_time": "2021-09-03T18:58:33.957Z"
   },
   {
    "duration": 17,
    "start_time": "2021-09-03T18:58:51.999Z"
   },
   {
    "duration": 10,
    "start_time": "2021-09-03T18:59:11.916Z"
   },
   {
    "duration": 594,
    "start_time": "2021-09-03T19:00:13.951Z"
   },
   {
    "duration": 9,
    "start_time": "2021-09-03T19:01:51.638Z"
   },
   {
    "duration": 364,
    "start_time": "2021-09-03T19:02:22.988Z"
   },
   {
    "duration": 5,
    "start_time": "2021-09-03T19:02:42.146Z"
   },
   {
    "duration": 4,
    "start_time": "2021-09-03T19:02:51.804Z"
   },
   {
    "duration": 6,
    "start_time": "2021-09-03T19:04:41.507Z"
   },
   {
    "duration": 6,
    "start_time": "2021-09-03T19:05:06.809Z"
   },
   {
    "duration": 7,
    "start_time": "2021-09-03T19:05:11.841Z"
   },
   {
    "duration": 376,
    "start_time": "2021-09-03T19:05:45.319Z"
   },
   {
    "duration": 371,
    "start_time": "2021-09-03T19:06:16.481Z"
   },
   {
    "duration": 7,
    "start_time": "2021-09-03T19:11:06.088Z"
   },
   {
    "duration": 6,
    "start_time": "2021-09-03T19:11:25.792Z"
   },
   {
    "duration": 5,
    "start_time": "2021-09-03T19:11:36.388Z"
   },
   {
    "duration": 6,
    "start_time": "2021-09-03T19:11:47.143Z"
   },
   {
    "duration": 5,
    "start_time": "2021-09-03T19:15:21.087Z"
   },
   {
    "duration": 9,
    "start_time": "2021-09-03T19:23:41.456Z"
   },
   {
    "duration": 390,
    "start_time": "2021-09-03T19:24:17.544Z"
   },
   {
    "duration": 9,
    "start_time": "2021-09-03T19:24:29.599Z"
   },
   {
    "duration": 9,
    "start_time": "2021-09-03T19:24:57.733Z"
   },
   {
    "duration": 327,
    "start_time": "2021-09-03T19:25:12.397Z"
   },
   {
    "duration": 128,
    "start_time": "2021-09-03T19:25:24.282Z"
   },
   {
    "duration": 312,
    "start_time": "2021-09-03T19:25:29.888Z"
   },
   {
    "duration": 9,
    "start_time": "2021-09-03T19:25:37.603Z"
   },
   {
    "duration": 313,
    "start_time": "2021-09-03T19:27:20.763Z"
   },
   {
    "duration": 9,
    "start_time": "2021-09-03T19:28:48.764Z"
   },
   {
    "duration": 5,
    "start_time": "2021-09-03T19:28:53.456Z"
   },
   {
    "duration": 6,
    "start_time": "2021-09-03T19:31:49.076Z"
   },
   {
    "duration": 4,
    "start_time": "2021-09-03T19:32:00.449Z"
   },
   {
    "duration": 9,
    "start_time": "2021-09-03T19:37:33.584Z"
   },
   {
    "duration": 4,
    "start_time": "2021-09-03T19:39:27.405Z"
   },
   {
    "duration": 2238,
    "start_time": "2021-09-03T19:42:02.646Z"
   },
   {
    "duration": 5,
    "start_time": "2021-09-03T19:42:44.684Z"
   },
   {
    "duration": 672,
    "start_time": "2021-09-03T19:42:47.283Z"
   },
   {
    "duration": 5,
    "start_time": "2021-09-03T19:44:43.349Z"
   },
   {
    "duration": 483,
    "start_time": "2021-09-03T19:44:46.695Z"
   },
   {
    "duration": 16,
    "start_time": "2021-09-03T19:44:50.095Z"
   },
   {
    "duration": 15,
    "start_time": "2021-09-03T19:44:55.263Z"
   },
   {
    "duration": 15,
    "start_time": "2021-09-03T19:45:56.529Z"
   },
   {
    "duration": 65,
    "start_time": "2021-09-03T19:45:59.240Z"
   },
   {
    "duration": 29,
    "start_time": "2021-09-03T19:47:05.267Z"
   },
   {
    "duration": 4,
    "start_time": "2021-09-03T19:47:56.312Z"
   },
   {
    "duration": 826,
    "start_time": "2021-09-03T19:47:59.538Z"
   },
   {
    "duration": 5,
    "start_time": "2021-09-03T19:49:01.542Z"
   },
   {
    "duration": 769,
    "start_time": "2021-09-03T19:49:04.147Z"
   },
   {
    "duration": 23,
    "start_time": "2021-09-03T19:49:35.728Z"
   },
   {
    "duration": 2304,
    "start_time": "2021-09-03T19:49:51.802Z"
   },
   {
    "duration": 31,
    "start_time": "2021-09-03T19:50:27.265Z"
   },
   {
    "duration": 15,
    "start_time": "2021-09-03T19:51:15.023Z"
   },
   {
    "duration": 371,
    "start_time": "2021-09-03T19:54:35.306Z"
   },
   {
    "duration": 1554,
    "start_time": "2021-09-03T19:55:11.150Z"
   },
   {
    "duration": 1559,
    "start_time": "2021-09-03T19:55:33.369Z"
   },
   {
    "duration": 22,
    "start_time": "2021-09-03T19:56:20.047Z"
   },
   {
    "duration": 1468,
    "start_time": "2021-09-03T19:58:33.420Z"
   },
   {
    "duration": 23,
    "start_time": "2021-09-03T19:58:34.891Z"
   },
   {
    "duration": 24,
    "start_time": "2021-09-03T19:58:34.917Z"
   },
   {
    "duration": 24,
    "start_time": "2021-09-03T19:58:34.967Z"
   },
   {
    "duration": 8,
    "start_time": "2021-09-03T19:58:34.994Z"
   },
   {
    "duration": 29,
    "start_time": "2021-09-03T19:58:35.005Z"
   },
   {
    "duration": 38,
    "start_time": "2021-09-03T19:58:35.036Z"
   },
   {
    "duration": 14,
    "start_time": "2021-09-03T19:58:35.079Z"
   },
   {
    "duration": 20,
    "start_time": "2021-09-03T19:58:35.096Z"
   },
   {
    "duration": 8,
    "start_time": "2021-09-03T19:58:35.118Z"
   },
   {
    "duration": 69,
    "start_time": "2021-09-03T19:58:35.128Z"
   },
   {
    "duration": 21,
    "start_time": "2021-09-03T19:58:35.200Z"
   },
   {
    "duration": 8,
    "start_time": "2021-09-03T19:58:35.224Z"
   },
   {
    "duration": 51,
    "start_time": "2021-09-03T19:58:35.234Z"
   },
   {
    "duration": 21,
    "start_time": "2021-09-03T19:58:35.287Z"
   },
   {
    "duration": 20,
    "start_time": "2021-09-03T19:58:35.310Z"
   },
   {
    "duration": 39,
    "start_time": "2021-09-03T19:58:35.333Z"
   },
   {
    "duration": 13,
    "start_time": "2021-09-03T19:58:35.375Z"
   },
   {
    "duration": 10,
    "start_time": "2021-09-03T19:58:35.390Z"
   },
   {
    "duration": 17,
    "start_time": "2021-09-03T19:58:35.403Z"
   },
   {
    "duration": 47,
    "start_time": "2021-09-03T19:58:35.423Z"
   },
   {
    "duration": 2200,
    "start_time": "2021-09-03T19:58:41.569Z"
   },
   {
    "duration": 5,
    "start_time": "2021-09-03T19:59:29.116Z"
   },
   {
    "duration": 315,
    "start_time": "2021-09-03T19:59:34.304Z"
   },
   {
    "duration": 13,
    "start_time": "2021-09-03T19:59:36.869Z"
   },
   {
    "duration": 1471,
    "start_time": "2021-09-03T20:01:17.132Z"
   },
   {
    "duration": 23,
    "start_time": "2021-09-03T20:01:18.605Z"
   },
   {
    "duration": 47,
    "start_time": "2021-09-03T20:01:18.631Z"
   },
   {
    "duration": 34,
    "start_time": "2021-09-03T20:01:18.681Z"
   },
   {
    "duration": 8,
    "start_time": "2021-09-03T20:01:18.718Z"
   },
   {
    "duration": 39,
    "start_time": "2021-09-03T20:01:18.729Z"
   },
   {
    "duration": 7,
    "start_time": "2021-09-03T20:01:18.771Z"
   },
   {
    "duration": 18,
    "start_time": "2021-09-03T20:01:18.783Z"
   },
   {
    "duration": 24,
    "start_time": "2021-09-03T20:01:18.804Z"
   },
   {
    "duration": 8,
    "start_time": "2021-09-03T20:01:18.830Z"
   },
   {
    "duration": 35,
    "start_time": "2021-09-03T20:01:18.867Z"
   },
   {
    "duration": 24,
    "start_time": "2021-09-03T20:01:18.905Z"
   },
   {
    "duration": 40,
    "start_time": "2021-09-03T20:01:18.931Z"
   },
   {
    "duration": 27,
    "start_time": "2021-09-03T20:01:18.973Z"
   },
   {
    "duration": 19,
    "start_time": "2021-09-03T20:01:19.003Z"
   },
   {
    "duration": 21,
    "start_time": "2021-09-03T20:01:19.024Z"
   },
   {
    "duration": 18,
    "start_time": "2021-09-03T20:01:19.068Z"
   },
   {
    "duration": 20,
    "start_time": "2021-09-03T20:01:19.088Z"
   },
   {
    "duration": 16,
    "start_time": "2021-09-03T20:01:19.111Z"
   },
   {
    "duration": 19,
    "start_time": "2021-09-03T20:01:19.130Z"
   },
   {
    "duration": 26,
    "start_time": "2021-09-03T20:01:19.151Z"
   },
   {
    "duration": 2197,
    "start_time": "2021-09-03T20:01:29.520Z"
   },
   {
    "duration": 1464,
    "start_time": "2021-09-03T20:07:12.441Z"
   },
   {
    "duration": 24,
    "start_time": "2021-09-03T20:07:13.908Z"
   },
   {
    "duration": 38,
    "start_time": "2021-09-03T20:07:13.936Z"
   },
   {
    "duration": 18,
    "start_time": "2021-09-03T20:07:13.977Z"
   },
   {
    "duration": 8,
    "start_time": "2021-09-03T20:07:13.998Z"
   },
   {
    "duration": 73,
    "start_time": "2021-09-03T20:07:14.008Z"
   },
   {
    "duration": 10,
    "start_time": "2021-09-03T20:07:14.084Z"
   },
   {
    "duration": 28,
    "start_time": "2021-09-03T20:07:14.099Z"
   },
   {
    "duration": 38,
    "start_time": "2021-09-03T20:07:14.130Z"
   },
   {
    "duration": 8,
    "start_time": "2021-09-03T20:07:14.171Z"
   },
   {
    "duration": 61,
    "start_time": "2021-09-03T20:07:14.182Z"
   },
   {
    "duration": 46,
    "start_time": "2021-09-03T20:07:14.246Z"
   },
   {
    "duration": 12,
    "start_time": "2021-09-03T20:07:14.295Z"
   },
   {
    "duration": 57,
    "start_time": "2021-09-03T20:07:14.310Z"
   },
   {
    "duration": 14,
    "start_time": "2021-09-03T20:07:14.371Z"
   },
   {
    "duration": 23,
    "start_time": "2021-09-03T20:07:14.388Z"
   },
   {
    "duration": 56,
    "start_time": "2021-09-03T20:07:14.414Z"
   },
   {
    "duration": 13,
    "start_time": "2021-09-03T20:07:14.473Z"
   },
   {
    "duration": 8,
    "start_time": "2021-09-03T20:07:14.489Z"
   },
   {
    "duration": 15,
    "start_time": "2021-09-03T20:07:14.499Z"
   },
   {
    "duration": 53,
    "start_time": "2021-09-03T20:07:14.516Z"
   },
   {
    "duration": 2173,
    "start_time": "2021-09-03T20:07:24.120Z"
   },
   {
    "duration": 5,
    "start_time": "2021-09-03T20:07:45.829Z"
   },
   {
    "duration": 329,
    "start_time": "2021-09-03T20:07:59.425Z"
   },
   {
    "duration": 13,
    "start_time": "2021-09-03T20:08:02.466Z"
   },
   {
    "duration": 15,
    "start_time": "2021-09-03T20:08:22.988Z"
   },
   {
    "duration": 11,
    "start_time": "2021-09-03T20:08:50.931Z"
   },
   {
    "duration": 33,
    "start_time": "2021-09-03T20:08:57.315Z"
   },
   {
    "duration": 9,
    "start_time": "2021-09-03T20:09:22.764Z"
   },
   {
    "duration": 23,
    "start_time": "2021-09-03T20:09:30.345Z"
   },
   {
    "duration": 5,
    "start_time": "2021-09-03T20:10:14.621Z"
   },
   {
    "duration": 495,
    "start_time": "2021-09-03T20:10:19.587Z"
   },
   {
    "duration": 35,
    "start_time": "2021-09-03T20:10:23.506Z"
   },
   {
    "duration": 21,
    "start_time": "2021-09-03T20:10:38.451Z"
   },
   {
    "duration": 22,
    "start_time": "2021-09-03T20:11:10.200Z"
   },
   {
    "duration": 13,
    "start_time": "2021-09-03T20:11:17.810Z"
   },
   {
    "duration": 7,
    "start_time": "2021-09-03T20:12:48.821Z"
   },
   {
    "duration": 23,
    "start_time": "2021-09-03T20:12:56.857Z"
   },
   {
    "duration": 34,
    "start_time": "2021-09-03T20:26:22.969Z"
   },
   {
    "duration": 32,
    "start_time": "2021-09-03T20:27:10.466Z"
   },
   {
    "duration": 492,
    "start_time": "2021-09-03T20:31:29.137Z"
   },
   {
    "duration": 130,
    "start_time": "2021-09-03T20:33:02.117Z"
   },
   {
    "duration": 454,
    "start_time": "2021-09-03T20:33:35.820Z"
   },
   {
    "duration": 382,
    "start_time": "2021-09-03T20:33:47.753Z"
   },
   {
    "duration": 340,
    "start_time": "2021-09-03T20:41:58.028Z"
   },
   {
    "duration": 398,
    "start_time": "2021-09-03T20:42:13.373Z"
   },
   {
    "duration": 6,
    "start_time": "2021-09-03T20:43:13.153Z"
   },
   {
    "duration": 5,
    "start_time": "2021-09-03T20:43:34.295Z"
   },
   {
    "duration": 10,
    "start_time": "2021-09-03T20:48:50.367Z"
   },
   {
    "duration": 8,
    "start_time": "2021-09-03T21:06:43.808Z"
   },
   {
    "duration": 20,
    "start_time": "2021-09-03T21:07:12.805Z"
   },
   {
    "duration": 10,
    "start_time": "2021-09-03T21:15:56.775Z"
   },
   {
    "duration": 20,
    "start_time": "2021-09-03T21:36:16.250Z"
   },
   {
    "duration": 15,
    "start_time": "2021-09-03T21:36:54.573Z"
   },
   {
    "duration": 18,
    "start_time": "2021-09-03T21:40:53.007Z"
   },
   {
    "duration": 119,
    "start_time": "2021-09-03T22:06:56.873Z"
   },
   {
    "duration": 8,
    "start_time": "2021-09-03T22:07:18.376Z"
   },
   {
    "duration": 5,
    "start_time": "2021-09-03T22:15:58.640Z"
   },
   {
    "duration": 15,
    "start_time": "2021-09-03T22:16:14.552Z"
   },
   {
    "duration": 4,
    "start_time": "2021-09-03T22:16:21.612Z"
   },
   {
    "duration": 15,
    "start_time": "2021-09-03T22:16:44.362Z"
   },
   {
    "duration": 7,
    "start_time": "2021-09-03T22:17:41.989Z"
   },
   {
    "duration": 19,
    "start_time": "2021-09-03T22:17:55.184Z"
   },
   {
    "duration": 23,
    "start_time": "2021-09-03T22:18:44.094Z"
   },
   {
    "duration": 5,
    "start_time": "2021-09-03T22:19:13.237Z"
   },
   {
    "duration": 492,
    "start_time": "2021-09-03T22:19:16.728Z"
   },
   {
    "duration": 35,
    "start_time": "2021-09-03T22:19:24.763Z"
   },
   {
    "duration": 8,
    "start_time": "2021-09-03T22:19:42.506Z"
   },
   {
    "duration": 29,
    "start_time": "2021-09-03T22:19:49.829Z"
   },
   {
    "duration": 19,
    "start_time": "2021-09-03T22:20:00.623Z"
   },
   {
    "duration": 8,
    "start_time": "2021-09-03T22:20:27.791Z"
   },
   {
    "duration": 9,
    "start_time": "2021-09-03T23:11:06.273Z"
   },
   {
    "duration": 2327,
    "start_time": "2021-09-04T21:13:23.626Z"
   },
   {
    "duration": 80,
    "start_time": "2021-09-04T21:13:37.116Z"
   },
   {
    "duration": 89,
    "start_time": "2021-09-04T21:14:01.692Z"
   },
   {
    "duration": 6,
    "start_time": "2021-09-04T21:18:57.585Z"
   },
   {
    "duration": 30,
    "start_time": "2021-09-04T21:22:40.214Z"
   },
   {
    "duration": 270,
    "start_time": "2021-09-04T21:23:47.341Z"
   },
   {
    "duration": 13,
    "start_time": "2021-09-04T21:23:57.516Z"
   },
   {
    "duration": 11,
    "start_time": "2021-09-04T21:24:20.609Z"
   },
   {
    "duration": 11,
    "start_time": "2021-09-04T21:24:38.204Z"
   },
   {
    "duration": 12,
    "start_time": "2021-09-04T21:24:50.116Z"
   },
   {
    "duration": 20,
    "start_time": "2021-09-04T21:44:09.187Z"
   },
   {
    "duration": 3,
    "start_time": "2021-09-04T21:44:42.956Z"
   },
   {
    "duration": 25,
    "start_time": "2021-09-04T21:49:47.530Z"
   },
   {
    "duration": 23,
    "start_time": "2021-09-04T21:50:47.932Z"
   },
   {
    "duration": 27,
    "start_time": "2021-09-04T21:51:10.297Z"
   },
   {
    "duration": 27,
    "start_time": "2021-09-04T21:51:46.301Z"
   },
   {
    "duration": 9,
    "start_time": "2021-09-04T21:54:09.775Z"
   },
   {
    "duration": 21,
    "start_time": "2021-09-04T21:54:39.621Z"
   },
   {
    "duration": 20,
    "start_time": "2021-09-04T21:57:13.890Z"
   },
   {
    "duration": 8,
    "start_time": "2021-09-04T21:57:22.505Z"
   },
   {
    "duration": 13,
    "start_time": "2021-09-04T21:59:28.818Z"
   },
   {
    "duration": 8,
    "start_time": "2021-09-04T22:03:57.943Z"
   },
   {
    "duration": 23,
    "start_time": "2021-09-04T22:18:58.700Z"
   },
   {
    "duration": 17,
    "start_time": "2021-09-04T22:20:50.827Z"
   },
   {
    "duration": 12,
    "start_time": "2021-09-04T22:21:52.080Z"
   },
   {
    "duration": 13,
    "start_time": "2021-09-04T22:26:10.335Z"
   },
   {
    "duration": 6,
    "start_time": "2021-09-04T22:27:43.626Z"
   },
   {
    "duration": 36,
    "start_time": "2021-09-04T22:27:47.267Z"
   },
   {
    "duration": 24,
    "start_time": "2021-09-04T22:28:03.653Z"
   },
   {
    "duration": 30,
    "start_time": "2021-09-04T22:28:57.227Z"
   },
   {
    "duration": 21,
    "start_time": "2021-09-04T22:29:09.157Z"
   },
   {
    "duration": 21,
    "start_time": "2021-09-04T22:29:21.137Z"
   },
   {
    "duration": 22,
    "start_time": "2021-09-04T22:29:43.534Z"
   },
   {
    "duration": 20,
    "start_time": "2021-09-04T22:31:05.385Z"
   },
   {
    "duration": 1035,
    "start_time": "2021-09-04T22:32:08.566Z"
   },
   {
    "duration": 58,
    "start_time": "2021-09-04T22:32:52.106Z"
   },
   {
    "duration": 29,
    "start_time": "2021-09-04T22:33:09.511Z"
   },
   {
    "duration": 28,
    "start_time": "2021-09-04T22:33:51.846Z"
   },
   {
    "duration": 28,
    "start_time": "2021-09-04T22:34:07.871Z"
   },
   {
    "duration": 27,
    "start_time": "2021-09-04T22:34:37.458Z"
   },
   {
    "duration": 21,
    "start_time": "2021-09-04T22:34:47.811Z"
   },
   {
    "duration": 25,
    "start_time": "2021-09-04T22:34:57.741Z"
   },
   {
    "duration": 34,
    "start_time": "2021-09-04T22:35:19.818Z"
   },
   {
    "duration": 23,
    "start_time": "2021-09-04T22:35:36.140Z"
   },
   {
    "duration": 30,
    "start_time": "2021-09-04T22:35:53.044Z"
   },
   {
    "duration": 22,
    "start_time": "2021-09-04T22:36:08.025Z"
   },
   {
    "duration": 92,
    "start_time": "2021-09-04T22:36:19.657Z"
   },
   {
    "duration": 21,
    "start_time": "2021-09-04T22:36:45.714Z"
   },
   {
    "duration": 19,
    "start_time": "2021-09-04T22:36:56.034Z"
   },
   {
    "duration": 27,
    "start_time": "2021-09-04T22:37:05.485Z"
   },
   {
    "duration": 23,
    "start_time": "2021-09-04T22:38:07.347Z"
   },
   {
    "duration": 14,
    "start_time": "2021-09-04T22:40:39.227Z"
   },
   {
    "duration": 8,
    "start_time": "2021-09-04T22:41:54.938Z"
   },
   {
    "duration": 297,
    "start_time": "2021-09-04T22:44:14.131Z"
   },
   {
    "duration": 389,
    "start_time": "2021-09-04T22:45:46.704Z"
   },
   {
    "duration": 5717,
    "start_time": "2021-09-04T22:46:28.502Z"
   },
   {
    "duration": 7,
    "start_time": "2021-09-04T22:47:16.398Z"
   },
   {
    "duration": 353,
    "start_time": "2021-09-04T22:54:12.363Z"
   },
   {
    "duration": 12898,
    "start_time": "2021-09-04T22:55:59.099Z"
   },
   {
    "duration": 8,
    "start_time": "2021-09-04T22:57:04.488Z"
   },
   {
    "duration": 8,
    "start_time": "2021-09-04T22:57:14.806Z"
   },
   {
    "duration": 192,
    "start_time": "2021-09-04T22:57:34.905Z"
   },
   {
    "duration": 1818,
    "start_time": "2021-09-04T22:59:20.656Z"
   },
   {
    "duration": 21,
    "start_time": "2021-09-04T23:01:02.888Z"
   },
   {
    "duration": 10,
    "start_time": "2021-09-04T23:02:04.043Z"
   },
   {
    "duration": 5434,
    "start_time": "2021-09-04T23:04:59.947Z"
   },
   {
    "duration": 10,
    "start_time": "2021-09-04T23:06:18.316Z"
   },
   {
    "duration": 1772,
    "start_time": "2021-09-04T23:06:59.008Z"
   },
   {
    "duration": 32,
    "start_time": "2021-09-04T23:07:00.783Z"
   },
   {
    "duration": 42,
    "start_time": "2021-09-04T23:07:00.820Z"
   },
   {
    "duration": 28,
    "start_time": "2021-09-04T23:07:00.866Z"
   },
   {
    "duration": 42,
    "start_time": "2021-09-04T23:07:00.897Z"
   },
   {
    "duration": 65,
    "start_time": "2021-09-04T23:07:00.943Z"
   },
   {
    "duration": 28,
    "start_time": "2021-09-04T23:07:01.011Z"
   },
   {
    "duration": 42,
    "start_time": "2021-09-04T23:07:01.044Z"
   },
   {
    "duration": 8,
    "start_time": "2021-09-04T23:07:01.089Z"
   },
   {
    "duration": 41,
    "start_time": "2021-09-04T23:07:01.100Z"
   },
   {
    "duration": 59,
    "start_time": "2021-09-04T23:07:01.144Z"
   },
   {
    "duration": 62,
    "start_time": "2021-09-04T23:07:01.206Z"
   },
   {
    "duration": 20,
    "start_time": "2021-09-04T23:07:01.270Z"
   },
   {
    "duration": 32,
    "start_time": "2021-09-04T23:07:01.294Z"
   },
   {
    "duration": 42,
    "start_time": "2021-09-04T23:07:01.329Z"
   },
   {
    "duration": 13,
    "start_time": "2021-09-04T23:07:01.374Z"
   },
   {
    "duration": 56,
    "start_time": "2021-09-04T23:07:01.390Z"
   },
   {
    "duration": 25,
    "start_time": "2021-09-04T23:07:01.456Z"
   },
   {
    "duration": 7,
    "start_time": "2021-09-04T23:07:17.776Z"
   },
   {
    "duration": 5040,
    "start_time": "2021-09-04T23:07:25.888Z"
   },
   {
    "duration": 13,
    "start_time": "2021-09-04T23:07:36.005Z"
   },
   {
    "duration": 15808,
    "start_time": "2021-09-04T23:19:57.928Z"
   },
   {
    "duration": 274,
    "start_time": "2021-09-04T23:22:51.288Z"
   },
   {
    "duration": 6,
    "start_time": "2021-09-04T23:22:59.265Z"
   },
   {
    "duration": 5,
    "start_time": "2021-09-04T23:24:04.195Z"
   },
   {
    "duration": 7,
    "start_time": "2021-09-04T23:25:05.922Z"
   },
   {
    "duration": 6,
    "start_time": "2021-09-04T23:25:33.209Z"
   },
   {
    "duration": 7,
    "start_time": "2021-09-04T23:25:54.461Z"
   },
   {
    "duration": 1804,
    "start_time": "2021-09-04T23:28:03.907Z"
   },
   {
    "duration": 9,
    "start_time": "2021-09-04T23:28:51.418Z"
   },
   {
    "duration": 312,
    "start_time": "2021-09-04T23:29:31.841Z"
   },
   {
    "duration": 285,
    "start_time": "2021-09-04T23:29:48.017Z"
   },
   {
    "duration": 302,
    "start_time": "2021-09-04T23:29:55.500Z"
   },
   {
    "duration": 281,
    "start_time": "2021-09-04T23:30:03.454Z"
   },
   {
    "duration": 8,
    "start_time": "2021-09-04T23:30:42.201Z"
   },
   {
    "duration": 9,
    "start_time": "2021-09-04T23:44:44.543Z"
   },
   {
    "duration": 4962,
    "start_time": "2021-09-04T23:44:56.222Z"
   },
   {
    "duration": 12,
    "start_time": "2021-09-04T23:45:12.586Z"
   },
   {
    "duration": 15,
    "start_time": "2021-09-04T23:45:35.707Z"
   },
   {
    "duration": 3500,
    "start_time": "2021-09-04T23:46:02.813Z"
   },
   {
    "duration": 10,
    "start_time": "2021-09-04T23:46:13.199Z"
   },
   {
    "duration": 4054,
    "start_time": "2021-09-04T23:48:40.383Z"
   },
   {
    "duration": 10,
    "start_time": "2021-09-04T23:48:48.492Z"
   },
   {
    "duration": 326,
    "start_time": "2021-09-05T00:00:06.694Z"
   },
   {
    "duration": 10,
    "start_time": "2021-09-05T00:03:28.121Z"
   },
   {
    "duration": 295,
    "start_time": "2021-09-05T00:05:51.649Z"
   },
   {
    "duration": 6,
    "start_time": "2021-09-05T00:06:00.448Z"
   },
   {
    "duration": 310,
    "start_time": "2021-09-05T00:06:11.194Z"
   },
   {
    "duration": 306,
    "start_time": "2021-09-05T00:06:23.833Z"
   },
   {
    "duration": 7,
    "start_time": "2021-09-05T00:06:59.018Z"
   },
   {
    "duration": 6,
    "start_time": "2021-09-05T00:07:10.215Z"
   },
   {
    "duration": 7,
    "start_time": "2021-09-05T00:08:39.900Z"
   },
   {
    "duration": 9,
    "start_time": "2021-09-05T00:09:06.579Z"
   },
   {
    "duration": 1606,
    "start_time": "2021-09-05T00:14:43.993Z"
   },
   {
    "duration": 13,
    "start_time": "2021-09-05T00:23:15.276Z"
   },
   {
    "duration": 276,
    "start_time": "2021-09-05T00:42:34.928Z"
   },
   {
    "duration": 5,
    "start_time": "2021-09-05T00:44:28.719Z"
   },
   {
    "duration": 312,
    "start_time": "2021-09-05T00:44:31.642Z"
   },
   {
    "duration": 12,
    "start_time": "2021-09-05T00:44:33.919Z"
   },
   {
    "duration": 9,
    "start_time": "2021-09-05T00:44:49.853Z"
   },
   {
    "duration": 11,
    "start_time": "2021-09-05T00:45:03.407Z"
   },
   {
    "duration": 33,
    "start_time": "2021-09-05T00:45:10.887Z"
   },
   {
    "duration": 5,
    "start_time": "2021-09-05T00:55:50.815Z"
   },
   {
    "duration": 257,
    "start_time": "2021-09-05T00:56:19.925Z"
   },
   {
    "duration": 7,
    "start_time": "2021-09-05T00:56:28.706Z"
   },
   {
    "duration": 1776,
    "start_time": "2021-09-05T00:56:31.515Z"
   },
   {
    "duration": 1884,
    "start_time": "2021-09-05T00:56:46.987Z"
   },
   {
    "duration": 32,
    "start_time": "2021-09-05T00:57:32.409Z"
   },
   {
    "duration": 2065,
    "start_time": "2021-09-05T00:59:43.418Z"
   },
   {
    "duration": 5,
    "start_time": "2021-09-05T01:01:07.277Z"
   },
   {
    "duration": 1986,
    "start_time": "2021-09-05T01:01:56.766Z"
   },
   {
    "duration": 1385,
    "start_time": "2021-09-05T19:09:24.510Z"
   },
   {
    "duration": 22,
    "start_time": "2021-09-05T19:09:25.898Z"
   },
   {
    "duration": 12,
    "start_time": "2021-09-05T19:09:25.923Z"
   },
   {
    "duration": 20,
    "start_time": "2021-09-05T19:09:25.962Z"
   },
   {
    "duration": 6,
    "start_time": "2021-09-05T19:09:25.984Z"
   },
   {
    "duration": 27,
    "start_time": "2021-09-05T19:09:25.993Z"
   },
   {
    "duration": 8,
    "start_time": "2021-09-05T19:09:26.062Z"
   },
   {
    "duration": 21,
    "start_time": "2021-09-05T19:09:26.074Z"
   },
   {
    "duration": 6,
    "start_time": "2021-09-05T19:09:26.098Z"
   },
   {
    "duration": 11,
    "start_time": "2021-09-05T19:09:26.107Z"
   },
   {
    "duration": 42,
    "start_time": "2021-09-05T19:09:26.120Z"
   },
   {
    "duration": 22,
    "start_time": "2021-09-05T19:09:26.164Z"
   },
   {
    "duration": 12,
    "start_time": "2021-09-05T19:09:26.189Z"
   },
   {
    "duration": 14,
    "start_time": "2021-09-05T19:09:26.204Z"
   },
   {
    "duration": 54,
    "start_time": "2021-09-05T19:09:26.221Z"
   },
   {
    "duration": 7,
    "start_time": "2021-09-05T19:09:29.715Z"
   },
   {
    "duration": 7,
    "start_time": "2021-09-05T19:10:12.703Z"
   },
   {
    "duration": 7,
    "start_time": "2021-09-05T19:10:28.293Z"
   },
   {
    "duration": 1762,
    "start_time": "2021-09-05T19:10:38.437Z"
   },
   {
    "duration": 450,
    "start_time": "2021-09-05T19:11:17.717Z"
   },
   {
    "duration": 7853,
    "start_time": "2021-09-05T19:19:12.370Z"
   },
   {
    "duration": 5,
    "start_time": "2021-09-05T19:19:29.630Z"
   },
   {
    "duration": 6,
    "start_time": "2021-09-05T19:23:51.853Z"
   },
   {
    "duration": 8509,
    "start_time": "2021-09-05T19:24:43.797Z"
   },
   {
    "duration": 6,
    "start_time": "2021-09-05T19:25:14.688Z"
   },
   {
    "duration": 30,
    "start_time": "2021-09-05T19:26:31.377Z"
   },
   {
    "duration": 1379,
    "start_time": "2021-09-05T19:27:17.319Z"
   },
   {
    "duration": 21,
    "start_time": "2021-09-05T19:27:18.701Z"
   },
   {
    "duration": 11,
    "start_time": "2021-09-05T19:27:18.725Z"
   },
   {
    "duration": 18,
    "start_time": "2021-09-05T19:27:18.763Z"
   },
   {
    "duration": 10,
    "start_time": "2021-09-05T19:27:18.783Z"
   },
   {
    "duration": 26,
    "start_time": "2021-09-05T19:27:18.795Z"
   },
   {
    "duration": 42,
    "start_time": "2021-09-05T19:27:18.824Z"
   },
   {
    "duration": 23,
    "start_time": "2021-09-05T19:27:18.869Z"
   },
   {
    "duration": 6,
    "start_time": "2021-09-05T19:27:18.895Z"
   },
   {
    "duration": 13,
    "start_time": "2021-09-05T19:27:18.903Z"
   },
   {
    "duration": 14,
    "start_time": "2021-09-05T19:27:18.918Z"
   },
   {
    "duration": 20,
    "start_time": "2021-09-05T19:27:18.963Z"
   },
   {
    "duration": 13,
    "start_time": "2021-09-05T19:27:18.985Z"
   },
   {
    "duration": 13,
    "start_time": "2021-09-05T19:27:19.000Z"
   },
   {
    "duration": 53,
    "start_time": "2021-09-05T19:27:19.015Z"
   },
   {
    "duration": 7,
    "start_time": "2021-09-05T19:27:26.968Z"
   },
   {
    "duration": 8,
    "start_time": "2021-09-05T19:27:29.781Z"
   },
   {
    "duration": 7,
    "start_time": "2021-09-05T19:29:49.531Z"
   },
   {
    "duration": 1766,
    "start_time": "2021-09-05T19:29:55.180Z"
   },
   {
    "duration": 24,
    "start_time": "2021-09-05T19:30:02.913Z"
   },
   {
    "duration": 23,
    "start_time": "2021-09-05T19:31:33.537Z"
   },
   {
    "duration": 21,
    "start_time": "2021-09-05T19:31:47.085Z"
   },
   {
    "duration": 20,
    "start_time": "2021-09-05T19:32:04.280Z"
   },
   {
    "duration": 5,
    "start_time": "2021-09-05T19:32:21.398Z"
   },
   {
    "duration": 21,
    "start_time": "2021-09-05T19:32:36.516Z"
   },
   {
    "duration": 21,
    "start_time": "2021-09-05T19:32:55.394Z"
   },
   {
    "duration": 23,
    "start_time": "2021-09-05T19:33:16.385Z"
   },
   {
    "duration": 21,
    "start_time": "2021-09-05T19:33:36.311Z"
   },
   {
    "duration": 21,
    "start_time": "2021-09-05T19:34:02.689Z"
   },
   {
    "duration": 22,
    "start_time": "2021-09-05T19:34:15.437Z"
   },
   {
    "duration": 22,
    "start_time": "2021-09-05T19:34:30.578Z"
   },
   {
    "duration": 6,
    "start_time": "2021-09-05T19:34:43.525Z"
   },
   {
    "duration": 21,
    "start_time": "2021-09-05T19:35:00.839Z"
   },
   {
    "duration": 21,
    "start_time": "2021-09-05T19:35:13.287Z"
   },
   {
    "duration": 21,
    "start_time": "2021-09-05T19:35:24.215Z"
   },
   {
    "duration": 22,
    "start_time": "2021-09-05T19:35:38.117Z"
   },
   {
    "duration": 22,
    "start_time": "2021-09-05T19:35:54.339Z"
   },
   {
    "duration": 23,
    "start_time": "2021-09-05T19:36:15.496Z"
   },
   {
    "duration": 20,
    "start_time": "2021-09-05T19:36:40.460Z"
   },
   {
    "duration": 22,
    "start_time": "2021-09-05T19:36:53.818Z"
   },
   {
    "duration": 20,
    "start_time": "2021-09-05T19:37:11.623Z"
   },
   {
    "duration": 21,
    "start_time": "2021-09-05T19:37:24.474Z"
   },
   {
    "duration": 21,
    "start_time": "2021-09-05T19:37:37.727Z"
   },
   {
    "duration": 22,
    "start_time": "2021-09-05T19:37:51.884Z"
   },
   {
    "duration": 21,
    "start_time": "2021-09-05T19:38:06.539Z"
   },
   {
    "duration": 21,
    "start_time": "2021-09-05T19:38:18.343Z"
   },
   {
    "duration": 20,
    "start_time": "2021-09-05T19:38:34.296Z"
   },
   {
    "duration": 22,
    "start_time": "2021-09-05T19:38:59.358Z"
   },
   {
    "duration": 21,
    "start_time": "2021-09-05T19:39:16.627Z"
   },
   {
    "duration": 24,
    "start_time": "2021-09-05T19:39:31.345Z"
   },
   {
    "duration": 22,
    "start_time": "2021-09-05T19:39:44.493Z"
   },
   {
    "duration": 7,
    "start_time": "2021-09-05T20:56:49.692Z"
   },
   {
    "duration": 40,
    "start_time": "2021-09-05T21:05:13.477Z"
   },
   {
    "duration": 98,
    "start_time": "2021-09-05T21:05:33.427Z"
   },
   {
    "duration": 7,
    "start_time": "2021-09-05T21:22:08.388Z"
   },
   {
    "duration": 1741,
    "start_time": "2021-09-05T21:23:49.603Z"
   },
   {
    "duration": 34,
    "start_time": "2021-09-05T21:25:07.090Z"
   },
   {
    "duration": 17,
    "start_time": "2021-09-05T21:25:19.690Z"
   },
   {
    "duration": 1440,
    "start_time": "2021-09-05T21:28:35.762Z"
   },
   {
    "duration": 25,
    "start_time": "2021-09-05T21:28:37.206Z"
   },
   {
    "duration": 39,
    "start_time": "2021-09-05T21:28:37.235Z"
   },
   {
    "duration": 19,
    "start_time": "2021-09-05T21:28:37.277Z"
   },
   {
    "duration": 5,
    "start_time": "2021-09-05T21:28:37.299Z"
   },
   {
    "duration": 68,
    "start_time": "2021-09-05T21:28:37.307Z"
   },
   {
    "duration": 10,
    "start_time": "2021-09-05T21:28:37.378Z"
   },
   {
    "duration": 70,
    "start_time": "2021-09-05T21:28:37.394Z"
   },
   {
    "duration": 7,
    "start_time": "2021-09-05T21:28:37.467Z"
   },
   {
    "duration": 13,
    "start_time": "2021-09-05T21:28:37.477Z"
   },
   {
    "duration": 8,
    "start_time": "2021-09-05T21:28:37.493Z"
   },
   {
    "duration": 61,
    "start_time": "2021-09-05T21:28:37.504Z"
   },
   {
    "duration": 14,
    "start_time": "2021-09-05T21:28:37.567Z"
   },
   {
    "duration": 11,
    "start_time": "2021-09-05T21:28:37.583Z"
   },
   {
    "duration": 14,
    "start_time": "2021-09-05T21:28:37.596Z"
   },
   {
    "duration": 51,
    "start_time": "2021-09-05T21:28:37.613Z"
   },
   {
    "duration": 10,
    "start_time": "2021-09-05T21:28:37.667Z"
   },
   {
    "duration": 42,
    "start_time": "2021-09-05T21:28:37.679Z"
   },
   {
    "duration": 6,
    "start_time": "2021-09-05T21:28:37.724Z"
   },
   {
    "duration": 1800,
    "start_time": "2021-09-05T21:28:37.732Z"
   },
   {
    "duration": 8384,
    "start_time": "2021-09-05T21:28:55.499Z"
   },
   {
    "duration": 8,
    "start_time": "2021-09-05T21:29:44.427Z"
   },
   {
    "duration": 10,
    "start_time": "2021-09-05T21:32:16.036Z"
   },
   {
    "duration": 42,
    "start_time": "2021-09-05T21:34:05.102Z"
   },
   {
    "duration": 1415,
    "start_time": "2021-09-05T21:51:31.194Z"
   },
   {
    "duration": 23,
    "start_time": "2021-09-05T21:51:32.612Z"
   },
   {
    "duration": 32,
    "start_time": "2021-09-05T21:51:32.638Z"
   },
   {
    "duration": 18,
    "start_time": "2021-09-05T21:51:32.673Z"
   },
   {
    "duration": 13,
    "start_time": "2021-09-05T21:51:32.694Z"
   },
   {
    "duration": 62,
    "start_time": "2021-09-05T21:51:32.709Z"
   },
   {
    "duration": 7,
    "start_time": "2021-09-05T21:51:32.774Z"
   },
   {
    "duration": 21,
    "start_time": "2021-09-05T21:51:32.784Z"
   },
   {
    "duration": 6,
    "start_time": "2021-09-05T21:51:32.808Z"
   },
   {
    "duration": 51,
    "start_time": "2021-09-05T21:51:32.816Z"
   },
   {
    "duration": 13,
    "start_time": "2021-09-05T21:51:32.869Z"
   },
   {
    "duration": 20,
    "start_time": "2021-09-05T21:51:32.884Z"
   },
   {
    "duration": 11,
    "start_time": "2021-09-05T21:51:32.907Z"
   },
   {
    "duration": 48,
    "start_time": "2021-09-05T21:51:32.921Z"
   },
   {
    "duration": 14,
    "start_time": "2021-09-05T21:51:32.972Z"
   },
   {
    "duration": 8,
    "start_time": "2021-09-05T21:51:32.988Z"
   },
   {
    "duration": 13,
    "start_time": "2021-09-05T21:51:32.998Z"
   },
   {
    "duration": 73,
    "start_time": "2021-09-05T21:51:33.013Z"
   },
   {
    "duration": 7,
    "start_time": "2021-09-05T21:51:40.374Z"
   },
   {
    "duration": 1694,
    "start_time": "2021-09-05T21:52:23.786Z"
   },
   {
    "duration": 6,
    "start_time": "2021-09-05T21:53:02.186Z"
   },
   {
    "duration": 1734,
    "start_time": "2021-09-05T21:53:06.275Z"
   },
   {
    "duration": 8500,
    "start_time": "2021-09-05T21:53:27.221Z"
   },
   {
    "duration": 43,
    "start_time": "2021-09-05T21:53:41.292Z"
   },
   {
    "duration": 8,
    "start_time": "2021-09-05T21:53:46.641Z"
   },
   {
    "duration": 6,
    "start_time": "2021-09-05T22:02:47.835Z"
   },
   {
    "duration": 7,
    "start_time": "2021-09-05T22:03:36.526Z"
   },
   {
    "duration": 22,
    "start_time": "2021-09-05T22:06:32.832Z"
   },
   {
    "duration": 23,
    "start_time": "2021-09-05T22:10:10.305Z"
   },
   {
    "duration": 6,
    "start_time": "2021-09-05T22:12:18.496Z"
   },
   {
    "duration": 24,
    "start_time": "2021-09-05T22:18:09.258Z"
   },
   {
    "duration": 1861,
    "start_time": "2021-09-05T22:24:46.003Z"
   },
   {
    "duration": 408,
    "start_time": "2021-09-05T22:27:22.927Z"
   },
   {
    "duration": 24,
    "start_time": "2021-09-05T22:28:07.077Z"
   },
   {
    "duration": 1561,
    "start_time": "2021-09-05T22:29:59.737Z"
   },
   {
    "duration": 24,
    "start_time": "2021-09-05T22:30:01.301Z"
   },
   {
    "duration": 17,
    "start_time": "2021-09-05T22:30:01.327Z"
   },
   {
    "duration": 20,
    "start_time": "2021-09-05T22:30:01.363Z"
   },
   {
    "duration": 20,
    "start_time": "2021-09-05T22:30:01.385Z"
   },
   {
    "duration": 62,
    "start_time": "2021-09-05T22:30:01.408Z"
   },
   {
    "duration": 242,
    "start_time": "2021-09-05T22:30:01.472Z"
   },
   {
    "duration": 138,
    "start_time": "2021-09-05T22:30:01.718Z"
   },
   {
    "duration": 27,
    "start_time": "2021-09-05T22:30:01.859Z"
   },
   {
    "duration": 25,
    "start_time": "2021-09-05T22:30:01.888Z"
   },
   {
    "duration": 42,
    "start_time": "2021-09-05T22:30:01.915Z"
   },
   {
    "duration": 46,
    "start_time": "2021-09-05T22:30:01.960Z"
   },
   {
    "duration": 92,
    "start_time": "2021-09-05T22:30:02.009Z"
   },
   {
    "duration": 13,
    "start_time": "2021-09-05T22:30:02.103Z"
   },
   {
    "duration": 45,
    "start_time": "2021-09-05T22:30:02.119Z"
   },
   {
    "duration": 29,
    "start_time": "2021-09-05T22:30:02.166Z"
   },
   {
    "duration": 37,
    "start_time": "2021-09-05T22:30:02.198Z"
   },
   {
    "duration": 74,
    "start_time": "2021-09-05T22:30:02.238Z"
   },
   {
    "duration": 7,
    "start_time": "2021-09-05T22:30:02.315Z"
   },
   {
    "duration": 1864,
    "start_time": "2021-09-05T22:30:02.325Z"
   },
   {
    "duration": 8818,
    "start_time": "2021-09-05T22:30:04.192Z"
   },
   {
    "duration": 50,
    "start_time": "2021-09-05T22:30:13.013Z"
   },
   {
    "duration": 7,
    "start_time": "2021-09-05T22:30:13.067Z"
   },
   {
    "duration": 30,
    "start_time": "2021-09-05T22:30:13.076Z"
   },
   {
    "duration": 11,
    "start_time": "2021-09-05T22:30:13.109Z"
   },
   {
    "duration": 29,
    "start_time": "2021-09-05T22:30:13.122Z"
   },
   {
    "duration": 1767,
    "start_time": "2021-09-05T22:30:13.153Z"
   },
   {
    "duration": 191,
    "start_time": "2021-09-05T22:30:26.161Z"
   },
   {
    "duration": 22,
    "start_time": "2021-09-05T22:31:53.114Z"
   },
   {
    "duration": 32,
    "start_time": "2021-09-05T22:39:03.527Z"
   },
   {
    "duration": 10,
    "start_time": "2021-09-05T22:39:31.782Z"
   },
   {
    "duration": 11,
    "start_time": "2021-09-05T22:40:00.322Z"
   },
   {
    "duration": 14,
    "start_time": "2021-09-05T22:40:14.961Z"
   },
   {
    "duration": 482,
    "start_time": "2021-09-05T22:42:49.794Z"
   },
   {
    "duration": 11,
    "start_time": "2021-09-05T22:43:07.288Z"
   },
   {
    "duration": 407,
    "start_time": "2021-09-05T22:45:26.885Z"
   },
   {
    "duration": 646,
    "start_time": "2021-09-05T22:46:11.729Z"
   },
   {
    "duration": 9,
    "start_time": "2021-09-05T22:47:33.944Z"
   },
   {
    "duration": 449,
    "start_time": "2021-09-05T22:50:58.015Z"
   },
   {
    "duration": 18,
    "start_time": "2021-09-05T22:57:14.479Z"
   },
   {
    "duration": 1615,
    "start_time": "2021-09-05T22:58:54.765Z"
   },
   {
    "duration": 22,
    "start_time": "2021-09-05T22:58:56.383Z"
   },
   {
    "duration": 13,
    "start_time": "2021-09-05T22:58:56.408Z"
   },
   {
    "duration": 47,
    "start_time": "2021-09-05T22:58:56.424Z"
   },
   {
    "duration": 5,
    "start_time": "2021-09-05T22:58:56.474Z"
   },
   {
    "duration": 35,
    "start_time": "2021-09-05T22:58:56.481Z"
   },
   {
    "duration": 43,
    "start_time": "2021-09-05T22:58:56.519Z"
   },
   {
    "duration": 21,
    "start_time": "2021-09-05T22:58:56.565Z"
   },
   {
    "duration": 6,
    "start_time": "2021-09-05T22:58:56.590Z"
   },
   {
    "duration": 11,
    "start_time": "2021-09-05T22:58:56.599Z"
   },
   {
    "duration": 9,
    "start_time": "2021-09-05T22:58:56.613Z"
   },
   {
    "duration": 20,
    "start_time": "2021-09-05T22:58:56.661Z"
   },
   {
    "duration": 12,
    "start_time": "2021-09-05T22:58:56.683Z"
   },
   {
    "duration": 10,
    "start_time": "2021-09-05T22:58:56.697Z"
   },
   {
    "duration": 14,
    "start_time": "2021-09-05T22:58:56.709Z"
   },
   {
    "duration": 6,
    "start_time": "2021-09-05T22:58:56.763Z"
   },
   {
    "duration": 8,
    "start_time": "2021-09-05T22:58:56.771Z"
   },
   {
    "duration": 43,
    "start_time": "2021-09-05T22:58:56.781Z"
   },
   {
    "duration": 7,
    "start_time": "2021-09-05T22:58:56.862Z"
   },
   {
    "duration": 1851,
    "start_time": "2021-09-05T22:58:56.871Z"
   },
   {
    "duration": 8587,
    "start_time": "2021-09-05T22:58:58.724Z"
   },
   {
    "duration": 52,
    "start_time": "2021-09-05T22:59:07.314Z"
   },
   {
    "duration": 6,
    "start_time": "2021-09-05T22:59:07.368Z"
   },
   {
    "duration": 10,
    "start_time": "2021-09-05T22:59:07.376Z"
   },
   {
    "duration": 7,
    "start_time": "2021-09-05T22:59:07.389Z"
   },
   {
    "duration": 21,
    "start_time": "2021-09-05T22:59:07.398Z"
   },
   {
    "duration": 1868,
    "start_time": "2021-09-05T22:59:07.423Z"
   },
   {
    "duration": 193,
    "start_time": "2021-09-05T22:59:09.294Z"
   },
   {
    "duration": 22,
    "start_time": "2021-09-05T22:59:09.490Z"
   },
   {
    "duration": 12,
    "start_time": "2021-09-05T22:59:09.515Z"
   },
   {
    "duration": 20,
    "start_time": "2021-09-05T22:59:44.701Z"
   },
   {
    "duration": 23,
    "start_time": "2021-09-05T23:00:12.236Z"
   },
   {
    "duration": 21,
    "start_time": "2021-09-05T23:00:27.057Z"
   },
   {
    "duration": 18,
    "start_time": "2021-09-05T23:00:44.084Z"
   },
   {
    "duration": 603,
    "start_time": "2021-09-05T23:02:52.895Z"
   },
   {
    "duration": 6,
    "start_time": "2021-09-05T23:02:59.654Z"
   },
   {
    "duration": 35,
    "start_time": "2021-09-05T23:03:53.001Z"
   },
   {
    "duration": 33,
    "start_time": "2021-09-05T23:04:20.839Z"
   },
   {
    "duration": 6,
    "start_time": "2021-09-05T23:08:33.198Z"
   },
   {
    "duration": 23,
    "start_time": "2021-09-05T23:08:55.863Z"
   },
   {
    "duration": 47,
    "start_time": "2021-09-05T23:09:21.598Z"
   },
   {
    "duration": 549,
    "start_time": "2021-09-05T23:38:47.645Z"
   },
   {
    "duration": 559,
    "start_time": "2021-09-05T23:41:14.164Z"
   },
   {
    "duration": 509,
    "start_time": "2021-09-06T00:01:18.762Z"
   },
   {
    "duration": 551,
    "start_time": "2021-09-06T00:02:53.768Z"
   },
   {
    "duration": 1787,
    "start_time": "2021-09-06T09:46:55.570Z"
   },
   {
    "duration": 22,
    "start_time": "2021-09-06T09:46:57.360Z"
   },
   {
    "duration": 40,
    "start_time": "2021-09-06T09:46:57.385Z"
   },
   {
    "duration": 48,
    "start_time": "2021-09-06T09:46:57.428Z"
   },
   {
    "duration": 48,
    "start_time": "2021-09-06T09:46:57.480Z"
   },
   {
    "duration": 17,
    "start_time": "2021-09-06T09:46:57.554Z"
   },
   {
    "duration": 45,
    "start_time": "2021-09-06T09:46:57.574Z"
   },
   {
    "duration": 16,
    "start_time": "2021-09-06T09:46:57.622Z"
   },
   {
    "duration": 18,
    "start_time": "2021-09-06T09:46:57.661Z"
   },
   {
    "duration": 13,
    "start_time": "2021-09-06T09:46:57.685Z"
   },
   {
    "duration": 68,
    "start_time": "2021-09-06T09:46:57.701Z"
   },
   {
    "duration": 29,
    "start_time": "2021-09-06T09:46:57.772Z"
   },
   {
    "duration": 18,
    "start_time": "2021-09-06T09:46:57.804Z"
   },
   {
    "duration": 38,
    "start_time": "2021-09-06T09:46:57.826Z"
   },
   {
    "duration": 12,
    "start_time": "2021-09-06T09:46:57.867Z"
   },
   {
    "duration": 13,
    "start_time": "2021-09-06T09:46:57.882Z"
   },
   {
    "duration": 58,
    "start_time": "2021-09-06T09:46:57.898Z"
   },
   {
    "duration": 7,
    "start_time": "2021-09-06T09:46:57.958Z"
   },
   {
    "duration": 2041,
    "start_time": "2021-09-06T09:46:57.967Z"
   },
   {
    "duration": 9448,
    "start_time": "2021-09-06T09:47:00.011Z"
   },
   {
    "duration": 42,
    "start_time": "2021-09-06T09:47:09.461Z"
   },
   {
    "duration": 7,
    "start_time": "2021-09-06T09:47:09.506Z"
   },
   {
    "duration": 42,
    "start_time": "2021-09-06T09:47:09.515Z"
   },
   {
    "duration": 19,
    "start_time": "2021-09-06T09:47:09.560Z"
   },
   {
    "duration": 31,
    "start_time": "2021-09-06T09:47:09.581Z"
   },
   {
    "duration": 1749,
    "start_time": "2021-09-06T09:47:09.614Z"
   },
   {
    "duration": 199,
    "start_time": "2021-09-06T09:47:11.369Z"
   },
   {
    "duration": 21,
    "start_time": "2021-09-06T09:47:11.571Z"
   },
   {
    "duration": 18,
    "start_time": "2021-09-06T09:47:11.594Z"
   },
   {
    "duration": 41,
    "start_time": "2021-09-06T09:47:11.614Z"
   },
   {
    "duration": 6,
    "start_time": "2021-09-06T09:47:11.658Z"
   },
   {
    "duration": 34,
    "start_time": "2021-09-06T09:47:11.666Z"
   },
   {
    "duration": 50,
    "start_time": "2021-09-06T09:47:11.703Z"
   },
   {
    "duration": 585,
    "start_time": "2021-09-06T09:47:11.756Z"
   },
   {
    "duration": 526,
    "start_time": "2021-09-06T09:48:04.883Z"
   },
   {
    "duration": 914,
    "start_time": "2021-09-06T09:58:41.851Z"
   },
   {
    "duration": 431,
    "start_time": "2021-09-06T09:59:15.427Z"
   },
   {
    "duration": 463,
    "start_time": "2021-09-06T10:01:04.495Z"
   },
   {
    "duration": 242,
    "start_time": "2021-09-06T10:15:12.428Z"
   },
   {
    "duration": 835,
    "start_time": "2021-09-06T10:15:55.555Z"
   },
   {
    "duration": 539,
    "start_time": "2021-09-06T10:16:08.909Z"
   },
   {
    "duration": 584,
    "start_time": "2021-09-06T10:17:57.866Z"
   },
   {
    "duration": 499,
    "start_time": "2021-09-06T10:19:06.445Z"
   },
   {
    "duration": 491,
    "start_time": "2021-09-06T10:19:14.992Z"
   },
   {
    "duration": 582,
    "start_time": "2021-09-06T10:19:47.286Z"
   },
   {
    "duration": 789,
    "start_time": "2021-09-06T10:28:15.540Z"
   },
   {
    "duration": 1160,
    "start_time": "2021-09-06T10:29:23.526Z"
   },
   {
    "duration": 590,
    "start_time": "2021-09-06T10:29:59.971Z"
   },
   {
    "duration": 608,
    "start_time": "2021-09-06T10:34:06.344Z"
   },
   {
    "duration": 804,
    "start_time": "2021-09-06T10:48:00.231Z"
   },
   {
    "duration": 231,
    "start_time": "2021-09-06T10:48:12.691Z"
   },
   {
    "duration": 217,
    "start_time": "2021-09-06T10:48:37.747Z"
   },
   {
    "duration": 296,
    "start_time": "2021-09-06T10:48:48.980Z"
   },
   {
    "duration": 903,
    "start_time": "2021-09-06T10:49:15.861Z"
   },
   {
    "duration": 3342,
    "start_time": "2021-09-06T10:49:59.722Z"
   },
   {
    "duration": 3974,
    "start_time": "2021-09-06T10:50:41.559Z"
   },
   {
    "duration": 1668,
    "start_time": "2021-09-06T11:02:45.999Z"
   },
   {
    "duration": 3326,
    "start_time": "2021-09-06T11:03:17.873Z"
   },
   {
    "duration": 558,
    "start_time": "2021-09-06T11:13:28.351Z"
   },
   {
    "duration": 313,
    "start_time": "2021-09-06T11:13:50.644Z"
   },
   {
    "duration": 419,
    "start_time": "2021-09-06T11:14:01.954Z"
   },
   {
    "duration": 455,
    "start_time": "2021-09-06T11:14:54.244Z"
   },
   {
    "duration": 437,
    "start_time": "2021-09-06T11:20:21.189Z"
   },
   {
    "duration": 438,
    "start_time": "2021-09-06T11:20:37.421Z"
   },
   {
    "duration": 485,
    "start_time": "2021-09-06T11:23:46.944Z"
   },
   {
    "duration": 439,
    "start_time": "2021-09-06T11:24:11.780Z"
   },
   {
    "duration": 439,
    "start_time": "2021-09-06T11:34:41.174Z"
   },
   {
    "duration": 1821,
    "start_time": "2021-09-06T11:36:14.858Z"
   },
   {
    "duration": 433,
    "start_time": "2021-09-06T11:36:31.362Z"
   },
   {
    "duration": 435,
    "start_time": "2021-09-06T11:36:50.975Z"
   },
   {
    "duration": 446,
    "start_time": "2021-09-06T11:37:08.672Z"
   },
   {
    "duration": 588,
    "start_time": "2021-09-06T11:37:29.246Z"
   },
   {
    "duration": 553,
    "start_time": "2021-09-06T11:41:40.961Z"
   },
   {
    "duration": 476,
    "start_time": "2021-09-06T11:42:12.413Z"
   },
   {
    "duration": 454,
    "start_time": "2021-09-06T11:42:41.307Z"
   },
   {
    "duration": 2530,
    "start_time": "2021-09-06T12:27:45.629Z"
   },
   {
    "duration": 448,
    "start_time": "2021-09-06T12:28:24.570Z"
   },
   {
    "duration": 1232,
    "start_time": "2021-09-06T12:28:36.884Z"
   },
   {
    "duration": 1244,
    "start_time": "2021-09-06T12:29:11.096Z"
   },
   {
    "duration": 376,
    "start_time": "2021-09-06T16:29:20.521Z"
   },
   {
    "duration": 1443,
    "start_time": "2021-09-06T16:41:52.850Z"
   },
   {
    "duration": 99,
    "start_time": "2021-09-06T16:52:57.448Z"
   },
   {
    "duration": 27,
    "start_time": "2021-09-06T16:52:57.551Z"
   },
   {
    "duration": 48,
    "start_time": "2021-09-06T16:52:57.581Z"
   },
   {
    "duration": 21,
    "start_time": "2021-09-06T16:52:57.632Z"
   },
   {
    "duration": 71,
    "start_time": "2021-09-06T16:52:57.656Z"
   },
   {
    "duration": 10,
    "start_time": "2021-09-06T16:52:57.730Z"
   },
   {
    "duration": 23,
    "start_time": "2021-09-06T16:52:57.743Z"
   },
   {
    "duration": 8,
    "start_time": "2021-09-06T16:52:57.816Z"
   },
   {
    "duration": 14,
    "start_time": "2021-09-06T16:52:57.828Z"
   },
   {
    "duration": 13,
    "start_time": "2021-09-06T16:52:57.844Z"
   },
   {
    "duration": 57,
    "start_time": "2021-09-06T16:52:57.860Z"
   },
   {
    "duration": 18,
    "start_time": "2021-09-06T16:52:57.920Z"
   },
   {
    "duration": 11,
    "start_time": "2021-09-06T16:52:57.941Z"
   },
   {
    "duration": 15,
    "start_time": "2021-09-06T16:52:57.954Z"
   },
   {
    "duration": 46,
    "start_time": "2021-09-06T16:52:57.972Z"
   },
   {
    "duration": 8,
    "start_time": "2021-09-06T16:52:58.020Z"
   },
   {
    "duration": 41,
    "start_time": "2021-09-06T16:52:58.030Z"
   },
   {
    "duration": 8,
    "start_time": "2021-09-06T16:52:58.073Z"
   },
   {
    "duration": 1887,
    "start_time": "2021-09-06T16:52:58.117Z"
   },
   {
    "duration": 9081,
    "start_time": "2021-09-06T16:53:00.007Z"
   },
   {
    "duration": 52,
    "start_time": "2021-09-06T16:53:09.091Z"
   },
   {
    "duration": 10,
    "start_time": "2021-09-06T16:53:09.146Z"
   },
   {
    "duration": 24,
    "start_time": "2021-09-06T16:53:09.163Z"
   },
   {
    "duration": 17,
    "start_time": "2021-09-06T16:53:09.218Z"
   },
   {
    "duration": 30,
    "start_time": "2021-09-06T16:53:09.238Z"
   },
   {
    "duration": 1963,
    "start_time": "2021-09-06T16:53:09.271Z"
   },
   {
    "duration": 282,
    "start_time": "2021-09-06T16:53:11.237Z"
   },
   {
    "duration": 26,
    "start_time": "2021-09-06T16:53:11.521Z"
   },
   {
    "duration": 12,
    "start_time": "2021-09-06T16:53:11.549Z"
   },
   {
    "duration": 53,
    "start_time": "2021-09-06T16:53:11.563Z"
   },
   {
    "duration": 6,
    "start_time": "2021-09-06T16:53:11.619Z"
   },
   {
    "duration": 45,
    "start_time": "2021-09-06T16:53:11.628Z"
   },
   {
    "duration": 44,
    "start_time": "2021-09-06T16:53:11.676Z"
   },
   {
    "duration": 597,
    "start_time": "2021-09-06T16:53:11.723Z"
   },
   {
    "duration": 827,
    "start_time": "2021-09-06T16:53:12.323Z"
   },
   {
    "duration": 794,
    "start_time": "2021-09-06T16:53:13.153Z"
   },
   {
    "duration": 12846,
    "start_time": "2021-09-06T16:53:01.104Z"
   },
   {
    "duration": 480,
    "start_time": "2021-09-06T17:25:28.454Z"
   },
   {
    "duration": 319,
    "start_time": "2021-09-06T17:25:59.717Z"
   },
   {
    "duration": 22,
    "start_time": "2021-09-06T17:30:21.666Z"
   },
   {
    "duration": 23,
    "start_time": "2021-09-06T17:31:22.601Z"
   },
   {
    "duration": 26,
    "start_time": "2021-09-06T17:33:47.846Z"
   },
   {
    "duration": 832,
    "start_time": "2021-09-06T17:37:24.505Z"
   },
   {
    "duration": 342,
    "start_time": "2021-09-06T17:37:39.515Z"
   },
   {
    "duration": 36,
    "start_time": "2021-09-06T17:37:57.949Z"
   },
   {
    "duration": 19,
    "start_time": "2021-09-06T17:40:57.766Z"
   },
   {
    "duration": 20,
    "start_time": "2021-09-06T17:41:41.838Z"
   },
   {
    "duration": 20,
    "start_time": "2021-09-06T17:41:51.587Z"
   },
   {
    "duration": 786,
    "start_time": "2021-09-06T17:42:57.992Z"
   },
   {
    "duration": 831,
    "start_time": "2021-09-06T17:45:26.291Z"
   },
   {
    "duration": 841,
    "start_time": "2021-09-06T17:45:33.822Z"
   },
   {
    "duration": 780,
    "start_time": "2021-09-06T17:45:50.938Z"
   },
   {
    "duration": 1951,
    "start_time": "2021-09-06T17:49:40.320Z"
   },
   {
    "duration": 698,
    "start_time": "2021-09-06T18:18:13.375Z"
   },
   {
    "duration": 669,
    "start_time": "2021-09-06T18:18:35.052Z"
   },
   {
    "duration": 671,
    "start_time": "2021-09-06T18:21:45.093Z"
   },
   {
    "duration": 587,
    "start_time": "2021-09-06T18:24:13.222Z"
   },
   {
    "duration": 519,
    "start_time": "2021-09-06T18:25:43.090Z"
   },
   {
    "duration": 542,
    "start_time": "2021-09-06T18:26:07.770Z"
   },
   {
    "duration": 10,
    "start_time": "2021-09-06T18:35:38.749Z"
   },
   {
    "duration": 31,
    "start_time": "2021-09-06T18:35:58.473Z"
   },
   {
    "duration": 12,
    "start_time": "2021-09-06T18:36:32.965Z"
   },
   {
    "duration": 518,
    "start_time": "2021-09-06T18:41:05.832Z"
   },
   {
    "duration": 655,
    "start_time": "2021-09-06T18:41:24.958Z"
   },
   {
    "duration": 618,
    "start_time": "2021-09-06T18:41:34.593Z"
   },
   {
    "duration": 593,
    "start_time": "2021-09-06T18:42:17.979Z"
   },
   {
    "duration": 584,
    "start_time": "2021-09-06T18:42:26.026Z"
   },
   {
    "duration": 602,
    "start_time": "2021-09-06T18:43:01.047Z"
   },
   {
    "duration": 595,
    "start_time": "2021-09-06T18:43:30.022Z"
   },
   {
    "duration": 734,
    "start_time": "2021-09-06T18:43:53.034Z"
   },
   {
    "duration": 663,
    "start_time": "2021-09-06T18:44:02.794Z"
   },
   {
    "duration": 623,
    "start_time": "2021-09-06T18:44:16.968Z"
   },
   {
    "duration": 700,
    "start_time": "2021-09-06T18:46:24.303Z"
   },
   {
    "duration": 906,
    "start_time": "2021-09-06T18:46:37.566Z"
   },
   {
    "duration": 963,
    "start_time": "2021-09-06T18:47:31.660Z"
   },
   {
    "duration": 892,
    "start_time": "2021-09-06T18:47:57.169Z"
   },
   {
    "duration": 27,
    "start_time": "2021-09-06T19:16:23.171Z"
   },
   {
    "duration": 606,
    "start_time": "2021-09-06T19:16:27.298Z"
   },
   {
    "duration": 618,
    "start_time": "2021-09-06T19:16:41.963Z"
   },
   {
    "duration": 29,
    "start_time": "2021-09-06T19:17:56.057Z"
   },
   {
    "duration": 618,
    "start_time": "2021-09-06T19:18:00.466Z"
   },
   {
    "duration": 460,
    "start_time": "2021-09-06T19:47:56.701Z"
   },
   {
    "duration": 1565,
    "start_time": "2021-09-06T19:49:06.660Z"
   },
   {
    "duration": 27,
    "start_time": "2021-09-06T19:49:08.228Z"
   },
   {
    "duration": 12,
    "start_time": "2021-09-06T19:49:08.257Z"
   },
   {
    "duration": 57,
    "start_time": "2021-09-06T19:49:08.271Z"
   },
   {
    "duration": 29,
    "start_time": "2021-09-06T19:49:08.331Z"
   },
   {
    "duration": 7,
    "start_time": "2021-09-06T19:49:08.363Z"
   },
   {
    "duration": 63,
    "start_time": "2021-09-06T19:49:08.372Z"
   },
   {
    "duration": 8,
    "start_time": "2021-09-06T19:49:08.439Z"
   },
   {
    "duration": 12,
    "start_time": "2021-09-06T19:49:08.451Z"
   },
   {
    "duration": 10,
    "start_time": "2021-09-06T19:49:08.466Z"
   },
   {
    "duration": 27,
    "start_time": "2021-09-06T19:49:08.516Z"
   },
   {
    "duration": 13,
    "start_time": "2021-09-06T19:49:08.545Z"
   },
   {
    "duration": 11,
    "start_time": "2021-09-06T19:49:08.561Z"
   },
   {
    "duration": 53,
    "start_time": "2021-09-06T19:49:08.574Z"
   },
   {
    "duration": 8,
    "start_time": "2021-09-06T19:49:08.629Z"
   },
   {
    "duration": 13,
    "start_time": "2021-09-06T19:49:08.640Z"
   },
   {
    "duration": 79,
    "start_time": "2021-09-06T19:49:08.656Z"
   },
   {
    "duration": 7,
    "start_time": "2021-09-06T19:49:08.737Z"
   },
   {
    "duration": 2069,
    "start_time": "2021-09-06T19:49:08.747Z"
   },
   {
    "duration": 9342,
    "start_time": "2021-09-06T19:49:10.819Z"
   },
   {
    "duration": 55,
    "start_time": "2021-09-06T19:49:20.164Z"
   },
   {
    "duration": 20,
    "start_time": "2021-09-06T19:49:20.221Z"
   },
   {
    "duration": 9,
    "start_time": "2021-09-06T19:49:20.246Z"
   },
   {
    "duration": 7,
    "start_time": "2021-09-06T19:49:20.258Z"
   },
   {
    "duration": 65,
    "start_time": "2021-09-06T19:49:20.267Z"
   },
   {
    "duration": 1980,
    "start_time": "2021-09-06T19:49:20.336Z"
   },
   {
    "duration": 209,
    "start_time": "2021-09-06T19:49:22.319Z"
   },
   {
    "duration": 25,
    "start_time": "2021-09-06T19:49:22.531Z"
   },
   {
    "duration": 16,
    "start_time": "2021-09-06T19:49:22.559Z"
   },
   {
    "duration": 47,
    "start_time": "2021-09-06T19:49:22.578Z"
   },
   {
    "duration": 7,
    "start_time": "2021-09-06T19:49:22.628Z"
   },
   {
    "duration": 40,
    "start_time": "2021-09-06T19:49:22.638Z"
   },
   {
    "duration": 50,
    "start_time": "2021-09-06T19:49:22.680Z"
   },
   {
    "duration": 649,
    "start_time": "2021-09-06T19:49:22.733Z"
   },
   {
    "duration": 607,
    "start_time": "2021-09-06T19:49:23.385Z"
   },
   {
    "duration": 627,
    "start_time": "2021-09-06T19:49:23.995Z"
   },
   {
    "duration": 33,
    "start_time": "2021-09-06T19:49:24.624Z"
   },
   {
    "duration": 963,
    "start_time": "2021-09-06T19:49:24.661Z"
   },
   {
    "duration": 680,
    "start_time": "2021-09-06T19:49:52.778Z"
   },
   {
    "duration": 1617,
    "start_time": "2021-09-06T19:51:29.647Z"
   },
   {
    "duration": 24,
    "start_time": "2021-09-06T19:51:31.267Z"
   },
   {
    "duration": 39,
    "start_time": "2021-09-06T19:51:31.294Z"
   },
   {
    "duration": 25,
    "start_time": "2021-09-06T19:51:31.337Z"
   },
   {
    "duration": 62,
    "start_time": "2021-09-06T19:51:31.365Z"
   },
   {
    "duration": 10,
    "start_time": "2021-09-06T19:51:31.430Z"
   },
   {
    "duration": 24,
    "start_time": "2021-09-06T19:51:31.443Z"
   },
   {
    "duration": 50,
    "start_time": "2021-09-06T19:51:31.470Z"
   },
   {
    "duration": 29,
    "start_time": "2021-09-06T19:51:31.525Z"
   },
   {
    "duration": 20,
    "start_time": "2021-09-06T19:51:31.556Z"
   },
   {
    "duration": 26,
    "start_time": "2021-09-06T19:51:31.578Z"
   },
   {
    "duration": 22,
    "start_time": "2021-09-06T19:51:31.606Z"
   },
   {
    "duration": 14,
    "start_time": "2021-09-06T19:51:31.633Z"
   },
   {
    "duration": 33,
    "start_time": "2021-09-06T19:51:31.650Z"
   },
   {
    "duration": 40,
    "start_time": "2021-09-06T19:51:31.686Z"
   },
   {
    "duration": 14,
    "start_time": "2021-09-06T19:51:31.730Z"
   },
   {
    "duration": 47,
    "start_time": "2021-09-06T19:51:31.747Z"
   },
   {
    "duration": 11,
    "start_time": "2021-09-06T19:51:31.817Z"
   },
   {
    "duration": 1965,
    "start_time": "2021-09-06T19:51:31.830Z"
   },
   {
    "duration": 9212,
    "start_time": "2021-09-06T19:51:33.797Z"
   },
   {
    "duration": 46,
    "start_time": "2021-09-06T19:51:43.011Z"
   },
   {
    "duration": 6,
    "start_time": "2021-09-06T19:51:43.060Z"
   },
   {
    "duration": 6,
    "start_time": "2021-09-06T19:51:43.071Z"
   },
   {
    "duration": 42,
    "start_time": "2021-09-06T19:51:43.080Z"
   },
   {
    "duration": 23,
    "start_time": "2021-09-06T19:51:43.127Z"
   },
   {
    "duration": 1935,
    "start_time": "2021-09-06T19:51:43.153Z"
   },
   {
    "duration": 206,
    "start_time": "2021-09-06T19:51:45.090Z"
   },
   {
    "duration": 31,
    "start_time": "2021-09-06T19:51:45.298Z"
   },
   {
    "duration": 27,
    "start_time": "2021-09-06T19:51:45.332Z"
   },
   {
    "duration": 29,
    "start_time": "2021-09-06T19:51:45.361Z"
   },
   {
    "duration": 15,
    "start_time": "2021-09-06T19:51:45.392Z"
   },
   {
    "duration": 50,
    "start_time": "2021-09-06T19:51:45.409Z"
   },
   {
    "duration": 22,
    "start_time": "2021-09-06T19:51:45.461Z"
   },
   {
    "duration": 646,
    "start_time": "2021-09-06T19:51:45.486Z"
   },
   {
    "duration": 667,
    "start_time": "2021-09-06T19:51:46.136Z"
   },
   {
    "duration": 697,
    "start_time": "2021-09-06T19:51:46.806Z"
   },
   {
    "duration": 29,
    "start_time": "2021-09-06T19:51:53.135Z"
   },
   {
    "duration": 949,
    "start_time": "2021-09-06T19:52:13.038Z"
   },
   {
    "duration": 241,
    "start_time": "2021-09-06T19:52:24.028Z"
   },
   {
    "duration": 5,
    "start_time": "2021-09-06T19:54:21.740Z"
   },
   {
    "duration": 694,
    "start_time": "2021-09-06T19:54:42.492Z"
   },
   {
    "duration": 842,
    "start_time": "2021-09-06T19:55:20.559Z"
   },
   {
    "duration": 762,
    "start_time": "2021-09-06T20:00:19.285Z"
   },
   {
    "duration": 333,
    "start_time": "2021-09-06T20:01:38.614Z"
   },
   {
    "duration": 41,
    "start_time": "2021-09-06T20:02:29.246Z"
   },
   {
    "duration": 389,
    "start_time": "2021-09-06T20:03:03.596Z"
   },
   {
    "duration": 15,
    "start_time": "2021-09-06T20:05:34.256Z"
   },
   {
    "duration": 484,
    "start_time": "2021-09-06T20:05:43.103Z"
   },
   {
    "duration": 639,
    "start_time": "2021-09-06T20:12:37.908Z"
   },
   {
    "duration": 582,
    "start_time": "2021-09-06T20:13:58.345Z"
   },
   {
    "duration": 549,
    "start_time": "2021-09-06T20:14:16.850Z"
   },
   {
    "duration": 542,
    "start_time": "2021-09-06T20:15:02.128Z"
   },
   {
    "duration": 450,
    "start_time": "2021-09-06T20:16:10.223Z"
   },
   {
    "duration": 580,
    "start_time": "2021-09-06T20:17:13.011Z"
   },
   {
    "duration": 610,
    "start_time": "2021-09-06T20:17:27.073Z"
   },
   {
    "duration": 694,
    "start_time": "2021-09-06T20:17:38.207Z"
   },
   {
    "duration": 618,
    "start_time": "2021-09-06T20:18:05.806Z"
   },
   {
    "duration": 429,
    "start_time": "2021-09-06T20:18:31.852Z"
   },
   {
    "duration": 387,
    "start_time": "2021-09-06T20:19:06.114Z"
   },
   {
    "duration": 506,
    "start_time": "2021-09-06T20:19:17.959Z"
   },
   {
    "duration": 424,
    "start_time": "2021-09-06T20:20:51.740Z"
   },
   {
    "duration": 724,
    "start_time": "2021-09-06T20:22:11.521Z"
   },
   {
    "duration": 442,
    "start_time": "2021-09-06T20:28:27.217Z"
   },
   {
    "duration": 412,
    "start_time": "2021-09-06T20:30:25.376Z"
   },
   {
    "duration": 434,
    "start_time": "2021-09-06T20:30:43.362Z"
   },
   {
    "duration": 391,
    "start_time": "2021-09-06T20:31:47.447Z"
   },
   {
    "duration": 391,
    "start_time": "2021-09-06T20:31:58.607Z"
   },
   {
    "duration": 28,
    "start_time": "2021-09-06T20:34:40.158Z"
   },
   {
    "duration": 50,
    "start_time": "2021-09-06T20:37:58.510Z"
   },
   {
    "duration": 11,
    "start_time": "2021-09-06T20:38:34.333Z"
   },
   {
    "duration": 25,
    "start_time": "2021-09-06T21:41:31.801Z"
   },
   {
    "duration": 11,
    "start_time": "2021-09-06T21:46:21.650Z"
   },
   {
    "duration": 13,
    "start_time": "2021-09-06T21:47:57.961Z"
   },
   {
    "duration": 15,
    "start_time": "2021-09-06T21:48:18.264Z"
   },
   {
    "duration": 14,
    "start_time": "2021-09-06T21:48:44.090Z"
   },
   {
    "duration": 108,
    "start_time": "2021-09-06T22:05:53.096Z"
   },
   {
    "duration": 103,
    "start_time": "2021-09-06T22:06:01.552Z"
   },
   {
    "duration": 490,
    "start_time": "2021-09-06T22:06:10.689Z"
   },
   {
    "duration": 523,
    "start_time": "2021-09-06T22:07:25.042Z"
   },
   {
    "duration": 539,
    "start_time": "2021-09-06T22:10:04.648Z"
   },
   {
    "duration": 24,
    "start_time": "2021-09-06T22:14:03.479Z"
   },
   {
    "duration": 24,
    "start_time": "2021-09-06T22:14:36.334Z"
   },
   {
    "duration": 501,
    "start_time": "2021-09-06T22:16:08.572Z"
   },
   {
    "duration": 9,
    "start_time": "2021-09-06T22:17:52.774Z"
   },
   {
    "duration": 1570,
    "start_time": "2021-09-06T22:19:21.422Z"
   },
   {
    "duration": 35,
    "start_time": "2021-09-06T22:19:22.995Z"
   },
   {
    "duration": 11,
    "start_time": "2021-09-06T22:19:23.033Z"
   },
   {
    "duration": 20,
    "start_time": "2021-09-06T22:19:23.047Z"
   },
   {
    "duration": 58,
    "start_time": "2021-09-06T22:19:23.069Z"
   },
   {
    "duration": 7,
    "start_time": "2021-09-06T22:19:23.130Z"
   },
   {
    "duration": 39,
    "start_time": "2021-09-06T22:19:23.139Z"
   },
   {
    "duration": 36,
    "start_time": "2021-09-06T22:19:23.182Z"
   },
   {
    "duration": 13,
    "start_time": "2021-09-06T22:19:23.221Z"
   },
   {
    "duration": 28,
    "start_time": "2021-09-06T22:19:23.236Z"
   },
   {
    "duration": 39,
    "start_time": "2021-09-06T22:19:23.266Z"
   },
   {
    "duration": 19,
    "start_time": "2021-09-06T22:19:23.307Z"
   },
   {
    "duration": 25,
    "start_time": "2021-09-06T22:19:23.328Z"
   },
   {
    "duration": 31,
    "start_time": "2021-09-06T22:19:23.355Z"
   },
   {
    "duration": 28,
    "start_time": "2021-09-06T22:19:23.389Z"
   },
   {
    "duration": 27,
    "start_time": "2021-09-06T22:19:23.420Z"
   },
   {
    "duration": 51,
    "start_time": "2021-09-06T22:19:23.450Z"
   },
   {
    "duration": 7,
    "start_time": "2021-09-06T22:19:23.503Z"
   },
   {
    "duration": 1891,
    "start_time": "2021-09-06T22:19:23.516Z"
   },
   {
    "duration": 8865,
    "start_time": "2021-09-06T22:19:25.410Z"
   },
   {
    "duration": 57,
    "start_time": "2021-09-06T22:19:34.278Z"
   },
   {
    "duration": 8,
    "start_time": "2021-09-06T22:19:34.338Z"
   },
   {
    "duration": 8,
    "start_time": "2021-09-06T22:19:34.351Z"
   },
   {
    "duration": 5,
    "start_time": "2021-09-06T22:19:34.362Z"
   },
   {
    "duration": 65,
    "start_time": "2021-09-06T22:19:34.369Z"
   },
   {
    "duration": 1859,
    "start_time": "2021-09-06T22:19:34.437Z"
   },
   {
    "duration": 209,
    "start_time": "2021-09-06T22:19:36.298Z"
   },
   {
    "duration": 23,
    "start_time": "2021-09-06T22:19:36.509Z"
   },
   {
    "duration": 14,
    "start_time": "2021-09-06T22:19:36.534Z"
   },
   {
    "duration": 22,
    "start_time": "2021-09-06T22:19:36.550Z"
   },
   {
    "duration": 5,
    "start_time": "2021-09-06T22:19:36.575Z"
   },
   {
    "duration": 60,
    "start_time": "2021-09-06T22:19:36.582Z"
   },
   {
    "duration": 22,
    "start_time": "2021-09-06T22:19:36.645Z"
   },
   {
    "duration": 638,
    "start_time": "2021-09-06T22:19:36.670Z"
   },
   {
    "duration": 548,
    "start_time": "2021-09-06T22:19:37.310Z"
   },
   {
    "duration": 568,
    "start_time": "2021-09-06T22:19:37.861Z"
   },
   {
    "duration": 30,
    "start_time": "2021-09-06T22:19:38.431Z"
   },
   {
    "duration": 716,
    "start_time": "2021-09-06T22:19:38.463Z"
   },
   {
    "duration": 45,
    "start_time": "2021-09-06T22:19:39.182Z"
   },
   {
    "duration": 11,
    "start_time": "2021-09-06T22:19:39.230Z"
   },
   {
    "duration": 398,
    "start_time": "2021-09-06T22:19:39.244Z"
   },
   {
    "duration": 26,
    "start_time": "2021-09-06T22:19:39.644Z"
   },
   {
    "duration": 14,
    "start_time": "2021-09-06T22:19:45.442Z"
   },
   {
    "duration": 529,
    "start_time": "2021-09-06T22:20:19.274Z"
   },
   {
    "duration": 29,
    "start_time": "2021-09-06T22:21:38.313Z"
   },
   {
    "duration": 16,
    "start_time": "2021-09-06T22:22:19.895Z"
   },
   {
    "duration": 1556,
    "start_time": "2021-09-06T22:23:11.240Z"
   },
   {
    "duration": 32,
    "start_time": "2021-09-06T22:23:12.799Z"
   },
   {
    "duration": 11,
    "start_time": "2021-09-06T22:23:12.834Z"
   },
   {
    "duration": 30,
    "start_time": "2021-09-06T22:23:12.848Z"
   },
   {
    "duration": 50,
    "start_time": "2021-09-06T22:23:12.881Z"
   },
   {
    "duration": 7,
    "start_time": "2021-09-06T22:23:12.934Z"
   },
   {
    "duration": 37,
    "start_time": "2021-09-06T22:23:12.943Z"
   },
   {
    "duration": 7,
    "start_time": "2021-09-06T22:23:12.984Z"
   },
   {
    "duration": 11,
    "start_time": "2021-09-06T22:23:13.018Z"
   },
   {
    "duration": 9,
    "start_time": "2021-09-06T22:23:13.032Z"
   },
   {
    "duration": 21,
    "start_time": "2021-09-06T22:23:13.043Z"
   },
   {
    "duration": 56,
    "start_time": "2021-09-06T22:23:13.067Z"
   },
   {
    "duration": 12,
    "start_time": "2021-09-06T22:23:13.125Z"
   },
   {
    "duration": 16,
    "start_time": "2021-09-06T22:23:13.138Z"
   },
   {
    "duration": 7,
    "start_time": "2021-09-06T22:23:13.156Z"
   },
   {
    "duration": 10,
    "start_time": "2021-09-06T22:23:13.165Z"
   },
   {
    "duration": 78,
    "start_time": "2021-09-06T22:23:13.177Z"
   },
   {
    "duration": 6,
    "start_time": "2021-09-06T22:23:13.257Z"
   },
   {
    "duration": 1852,
    "start_time": "2021-09-06T22:23:13.266Z"
   },
   {
    "duration": 8802,
    "start_time": "2021-09-06T22:23:15.120Z"
   },
   {
    "duration": 42,
    "start_time": "2021-09-06T22:23:23.924Z"
   },
   {
    "duration": 7,
    "start_time": "2021-09-06T22:23:23.968Z"
   },
   {
    "duration": 38,
    "start_time": "2021-09-06T22:23:23.979Z"
   },
   {
    "duration": 6,
    "start_time": "2021-09-06T22:23:24.020Z"
   },
   {
    "duration": 35,
    "start_time": "2021-09-06T22:23:24.028Z"
   },
   {
    "duration": 1812,
    "start_time": "2021-09-06T22:23:24.066Z"
   },
   {
    "duration": 200,
    "start_time": "2021-09-06T22:23:25.881Z"
   },
   {
    "duration": 24,
    "start_time": "2021-09-06T22:23:26.083Z"
   },
   {
    "duration": 19,
    "start_time": "2021-09-06T22:23:26.116Z"
   },
   {
    "duration": 19,
    "start_time": "2021-09-06T22:23:26.138Z"
   },
   {
    "duration": 6,
    "start_time": "2021-09-06T22:23:26.160Z"
   },
   {
    "duration": 59,
    "start_time": "2021-09-06T22:23:26.168Z"
   },
   {
    "duration": 21,
    "start_time": "2021-09-06T22:23:26.230Z"
   },
   {
    "duration": 612,
    "start_time": "2021-09-06T22:23:26.254Z"
   },
   {
    "duration": 539,
    "start_time": "2021-09-06T22:23:26.869Z"
   },
   {
    "duration": 565,
    "start_time": "2021-09-06T22:23:27.410Z"
   },
   {
    "duration": 45,
    "start_time": "2021-09-06T22:23:27.977Z"
   },
   {
    "duration": 707,
    "start_time": "2021-09-06T22:23:28.024Z"
   },
   {
    "duration": 30,
    "start_time": "2021-09-06T22:23:28.734Z"
   },
   {
    "duration": 12,
    "start_time": "2021-09-06T22:23:28.767Z"
   },
   {
    "duration": 420,
    "start_time": "2021-09-06T22:23:28.782Z"
   },
   {
    "duration": 27,
    "start_time": "2021-09-06T22:24:03.924Z"
   },
   {
    "duration": 16,
    "start_time": "2021-09-06T22:24:07.653Z"
   },
   {
    "duration": 504,
    "start_time": "2021-09-06T22:28:04.475Z"
   },
   {
    "duration": 479,
    "start_time": "2021-09-06T22:30:02.321Z"
   },
   {
    "duration": 496,
    "start_time": "2021-09-06T22:30:16.009Z"
   },
   {
    "duration": 599,
    "start_time": "2021-09-06T22:30:37.324Z"
   },
   {
    "duration": 478,
    "start_time": "2021-09-06T22:30:51.125Z"
   },
   {
    "duration": 504,
    "start_time": "2021-09-06T22:35:33.716Z"
   },
   {
    "duration": 619,
    "start_time": "2021-09-06T22:36:25.785Z"
   },
   {
    "duration": 629,
    "start_time": "2021-09-06T22:37:49.492Z"
   },
   {
    "duration": 38,
    "start_time": "2021-09-06T22:41:51.244Z"
   },
   {
    "duration": 10,
    "start_time": "2021-09-06T22:42:04.097Z"
   },
   {
    "duration": 694,
    "start_time": "2021-09-06T22:43:18.694Z"
   },
   {
    "duration": 628,
    "start_time": "2021-09-06T22:43:33.384Z"
   },
   {
    "duration": 554,
    "start_time": "2021-09-06T22:43:49.032Z"
   },
   {
    "duration": 582,
    "start_time": "2021-09-06T22:44:00.108Z"
   },
   {
    "duration": 15,
    "start_time": "2021-09-06T22:45:01.054Z"
   },
   {
    "duration": 5,
    "start_time": "2021-09-06T23:14:46.465Z"
   },
   {
    "duration": 5,
    "start_time": "2021-09-06T23:16:56.566Z"
   },
   {
    "duration": 49,
    "start_time": "2021-09-06T23:26:49.947Z"
   },
   {
    "duration": 1520,
    "start_time": "2021-09-06T23:30:07.024Z"
   },
   {
    "duration": 114,
    "start_time": "2021-09-06T23:30:48.866Z"
   },
   {
    "duration": 1782,
    "start_time": "2021-09-06T23:31:01.047Z"
   },
   {
    "duration": 1587,
    "start_time": "2021-09-06T23:31:24.363Z"
   },
   {
    "duration": 1539,
    "start_time": "2021-09-06T23:32:27.815Z"
   },
   {
    "duration": 1560,
    "start_time": "2021-09-06T23:38:17.222Z"
   },
   {
    "duration": 36,
    "start_time": "2021-09-06T23:38:18.784Z"
   },
   {
    "duration": 12,
    "start_time": "2021-09-06T23:38:18.823Z"
   },
   {
    "duration": 30,
    "start_time": "2021-09-06T23:38:18.838Z"
   },
   {
    "duration": 55,
    "start_time": "2021-09-06T23:38:18.870Z"
   },
   {
    "duration": 7,
    "start_time": "2021-09-06T23:38:18.928Z"
   },
   {
    "duration": 28,
    "start_time": "2021-09-06T23:38:18.937Z"
   },
   {
    "duration": 7,
    "start_time": "2021-09-06T23:38:18.969Z"
   },
   {
    "duration": 47,
    "start_time": "2021-09-06T23:38:18.978Z"
   },
   {
    "duration": 15,
    "start_time": "2021-09-06T23:38:19.027Z"
   },
   {
    "duration": 29,
    "start_time": "2021-09-06T23:38:19.044Z"
   },
   {
    "duration": 13,
    "start_time": "2021-09-06T23:38:19.075Z"
   },
   {
    "duration": 28,
    "start_time": "2021-09-06T23:38:19.090Z"
   },
   {
    "duration": 14,
    "start_time": "2021-09-06T23:38:19.120Z"
   },
   {
    "duration": 9,
    "start_time": "2021-09-06T23:38:19.136Z"
   },
   {
    "duration": 8,
    "start_time": "2021-09-06T23:38:19.149Z"
   },
   {
    "duration": 94,
    "start_time": "2021-09-06T23:38:19.160Z"
   },
   {
    "duration": 9,
    "start_time": "2021-09-06T23:38:19.257Z"
   },
   {
    "duration": 1847,
    "start_time": "2021-09-06T23:38:19.269Z"
   },
   {
    "duration": 8581,
    "start_time": "2021-09-06T23:38:21.119Z"
   },
   {
    "duration": 49,
    "start_time": "2021-09-06T23:38:29.702Z"
   },
   {
    "duration": 6,
    "start_time": "2021-09-06T23:38:29.753Z"
   },
   {
    "duration": 6,
    "start_time": "2021-09-06T23:38:29.764Z"
   },
   {
    "duration": 6,
    "start_time": "2021-09-06T23:38:29.773Z"
   },
   {
    "duration": 22,
    "start_time": "2021-09-06T23:38:29.817Z"
   },
   {
    "duration": 1905,
    "start_time": "2021-09-06T23:38:29.841Z"
   },
   {
    "duration": 198,
    "start_time": "2021-09-06T23:38:31.748Z"
   },
   {
    "duration": 21,
    "start_time": "2021-09-06T23:38:31.948Z"
   },
   {
    "duration": 23,
    "start_time": "2021-09-06T23:38:31.972Z"
   },
   {
    "duration": 34,
    "start_time": "2021-09-06T23:38:31.998Z"
   },
   {
    "duration": 6,
    "start_time": "2021-09-06T23:38:32.034Z"
   },
   {
    "duration": 42,
    "start_time": "2021-09-06T23:38:32.042Z"
   },
   {
    "duration": 50,
    "start_time": "2021-09-06T23:38:32.086Z"
   },
   {
    "duration": 691,
    "start_time": "2021-09-06T23:38:32.139Z"
   },
   {
    "duration": 532,
    "start_time": "2021-09-06T23:38:32.833Z"
   },
   {
    "duration": 562,
    "start_time": "2021-09-06T23:38:33.368Z"
   },
   {
    "duration": 30,
    "start_time": "2021-09-06T23:38:33.933Z"
   },
   {
    "duration": 702,
    "start_time": "2021-09-06T23:38:33.965Z"
   },
   {
    "duration": 46,
    "start_time": "2021-09-06T23:38:34.670Z"
   },
   {
    "duration": 12,
    "start_time": "2021-09-06T23:38:34.719Z"
   },
   {
    "duration": 394,
    "start_time": "2021-09-06T23:38:34.734Z"
   },
   {
    "duration": 25,
    "start_time": "2021-09-06T23:38:35.131Z"
   },
   {
    "duration": 16,
    "start_time": "2021-09-06T23:38:35.159Z"
   },
   {
    "duration": 521,
    "start_time": "2021-09-06T23:38:35.178Z"
   },
   {
    "duration": 2076,
    "start_time": "2021-09-06T23:39:19.879Z"
   },
   {
    "duration": 7,
    "start_time": "2021-09-06T23:51:12.453Z"
   },
   {
    "duration": 1597,
    "start_time": "2021-09-06T23:52:34.004Z"
   },
   {
    "duration": 602,
    "start_time": "2021-09-06T23:53:26.314Z"
   },
   {
    "duration": 503,
    "start_time": "2021-09-06T23:54:01.494Z"
   },
   {
    "duration": 6,
    "start_time": "2021-09-06T23:55:27.129Z"
   },
   {
    "duration": 1583,
    "start_time": "2021-09-06T23:55:31.575Z"
   },
   {
    "duration": 501,
    "start_time": "2021-09-06T23:56:01.330Z"
   },
   {
    "duration": 6,
    "start_time": "2021-09-06T23:58:07.995Z"
   },
   {
    "duration": 6,
    "start_time": "2021-09-06T23:59:23.301Z"
   },
   {
    "duration": 1731,
    "start_time": "2021-09-07T00:03:03.094Z"
   },
   {
    "duration": 33,
    "start_time": "2021-09-07T00:03:04.828Z"
   },
   {
    "duration": 17,
    "start_time": "2021-09-07T00:03:04.865Z"
   },
   {
    "duration": 47,
    "start_time": "2021-09-07T00:03:04.885Z"
   },
   {
    "duration": 24,
    "start_time": "2021-09-07T00:03:04.935Z"
   },
   {
    "duration": 7,
    "start_time": "2021-09-07T00:03:04.961Z"
   },
   {
    "duration": 64,
    "start_time": "2021-09-07T00:03:04.970Z"
   },
   {
    "duration": 7,
    "start_time": "2021-09-07T00:03:05.037Z"
   },
   {
    "duration": 11,
    "start_time": "2021-09-07T00:03:05.047Z"
   },
   {
    "duration": 9,
    "start_time": "2021-09-07T00:03:05.061Z"
   },
   {
    "duration": 52,
    "start_time": "2021-09-07T00:03:05.073Z"
   },
   {
    "duration": 11,
    "start_time": "2021-09-07T00:03:05.128Z"
   },
   {
    "duration": 11,
    "start_time": "2021-09-07T00:03:05.142Z"
   },
   {
    "duration": 14,
    "start_time": "2021-09-07T00:03:05.155Z"
   },
   {
    "duration": 46,
    "start_time": "2021-09-07T00:03:05.172Z"
   },
   {
    "duration": 7,
    "start_time": "2021-09-07T00:03:05.220Z"
   },
   {
    "duration": 42,
    "start_time": "2021-09-07T00:03:05.230Z"
   },
   {
    "duration": 7,
    "start_time": "2021-09-07T00:03:05.274Z"
   },
   {
    "duration": 1823,
    "start_time": "2021-09-07T00:03:05.317Z"
   },
   {
    "duration": 8640,
    "start_time": "2021-09-07T00:03:07.142Z"
   },
   {
    "duration": 47,
    "start_time": "2021-09-07T00:03:15.785Z"
   },
   {
    "duration": 8,
    "start_time": "2021-09-07T00:03:15.834Z"
   },
   {
    "duration": 10,
    "start_time": "2021-09-07T00:03:15.847Z"
   },
   {
    "duration": 6,
    "start_time": "2021-09-07T00:03:15.860Z"
   },
   {
    "duration": 64,
    "start_time": "2021-09-07T00:03:15.869Z"
   },
   {
    "duration": 1782,
    "start_time": "2021-09-07T00:03:15.936Z"
   },
   {
    "duration": 197,
    "start_time": "2021-09-07T00:03:17.720Z"
   },
   {
    "duration": 22,
    "start_time": "2021-09-07T00:03:17.920Z"
   },
   {
    "duration": 10,
    "start_time": "2021-09-07T00:03:17.945Z"
   },
   {
    "duration": 16,
    "start_time": "2021-09-07T00:03:17.958Z"
   },
   {
    "duration": 43,
    "start_time": "2021-09-07T00:03:17.976Z"
   },
   {
    "duration": 34,
    "start_time": "2021-09-07T00:03:18.021Z"
   },
   {
    "duration": 22,
    "start_time": "2021-09-07T00:03:18.057Z"
   },
   {
    "duration": 635,
    "start_time": "2021-09-07T00:03:18.081Z"
   },
   {
    "duration": 531,
    "start_time": "2021-09-07T00:03:18.718Z"
   },
   {
    "duration": 553,
    "start_time": "2021-09-07T00:03:19.251Z"
   },
   {
    "duration": 33,
    "start_time": "2021-09-07T00:03:19.806Z"
   },
   {
    "duration": 709,
    "start_time": "2021-09-07T00:03:19.841Z"
   },
   {
    "duration": 28,
    "start_time": "2021-09-07T00:03:20.553Z"
   },
   {
    "duration": 38,
    "start_time": "2021-09-07T00:03:20.584Z"
   },
   {
    "duration": 379,
    "start_time": "2021-09-07T00:03:20.624Z"
   },
   {
    "duration": 26,
    "start_time": "2021-09-07T00:03:39.866Z"
   },
   {
    "duration": 16,
    "start_time": "2021-09-07T00:03:43.708Z"
   },
   {
    "duration": 6,
    "start_time": "2021-09-07T00:04:02.677Z"
   },
   {
    "duration": 488,
    "start_time": "2021-09-07T00:04:14.556Z"
   },
   {
    "duration": 1513,
    "start_time": "2021-09-07T00:04:44.229Z"
   },
   {
    "duration": 6,
    "start_time": "2021-09-07T00:07:05.741Z"
   },
   {
    "duration": 481,
    "start_time": "2021-09-07T00:07:11.184Z"
   },
   {
    "duration": 1642,
    "start_time": "2021-09-07T00:07:18.957Z"
   },
   {
    "duration": 368,
    "start_time": "2021-09-07T00:11:30.539Z"
   },
   {
    "duration": 1187,
    "start_time": "2021-09-07T20:38:00.421Z"
   },
   {
    "duration": 15,
    "start_time": "2021-09-07T20:38:01.610Z"
   },
   {
    "duration": 16,
    "start_time": "2021-09-07T20:38:01.627Z"
   },
   {
    "duration": 40,
    "start_time": "2021-09-07T20:38:01.645Z"
   },
   {
    "duration": 27,
    "start_time": "2021-09-07T20:38:01.687Z"
   },
   {
    "duration": 5,
    "start_time": "2021-09-07T20:38:01.716Z"
   },
   {
    "duration": 15,
    "start_time": "2021-09-07T20:38:01.723Z"
   },
   {
    "duration": 5,
    "start_time": "2021-09-07T20:38:01.741Z"
   },
   {
    "duration": 11,
    "start_time": "2021-09-07T20:38:01.748Z"
   },
   {
    "duration": 32,
    "start_time": "2021-09-07T20:38:01.761Z"
   },
   {
    "duration": 15,
    "start_time": "2021-09-07T20:38:01.794Z"
   },
   {
    "duration": 17,
    "start_time": "2021-09-07T20:38:01.810Z"
   },
   {
    "duration": 12,
    "start_time": "2021-09-07T20:38:01.829Z"
   },
   {
    "duration": 17,
    "start_time": "2021-09-07T20:38:01.842Z"
   },
   {
    "duration": 11,
    "start_time": "2021-09-07T20:38:01.861Z"
   },
   {
    "duration": 27,
    "start_time": "2021-09-07T20:38:01.873Z"
   },
   {
    "duration": 70,
    "start_time": "2021-09-07T20:38:01.901Z"
   },
   {
    "duration": 19,
    "start_time": "2021-09-07T20:38:01.972Z"
   },
   {
    "duration": 927,
    "start_time": "2021-09-07T20:38:01.993Z"
   },
   {
    "duration": 4762,
    "start_time": "2021-09-07T20:38:02.922Z"
   },
   {
    "duration": 28,
    "start_time": "2021-09-07T20:38:07.686Z"
   },
   {
    "duration": 5,
    "start_time": "2021-09-07T20:38:07.716Z"
   },
   {
    "duration": 9,
    "start_time": "2021-09-07T20:38:07.724Z"
   },
   {
    "duration": 13,
    "start_time": "2021-09-07T20:38:07.735Z"
   },
   {
    "duration": 18,
    "start_time": "2021-09-07T20:38:07.749Z"
   },
   {
    "duration": 974,
    "start_time": "2021-09-07T20:38:07.769Z"
   },
   {
    "duration": 124,
    "start_time": "2021-09-07T20:38:08.745Z"
   },
   {
    "duration": 14,
    "start_time": "2021-09-07T20:38:08.871Z"
   },
   {
    "duration": 16,
    "start_time": "2021-09-07T20:38:08.894Z"
   },
   {
    "duration": 17,
    "start_time": "2021-09-07T20:38:08.912Z"
   },
   {
    "duration": 6,
    "start_time": "2021-09-07T20:38:08.931Z"
   },
   {
    "duration": 30,
    "start_time": "2021-09-07T20:38:08.938Z"
   },
   {
    "duration": 19,
    "start_time": "2021-09-07T20:38:08.969Z"
   },
   {
    "duration": 346,
    "start_time": "2021-09-07T20:38:08.989Z"
   },
   {
    "duration": 320,
    "start_time": "2021-09-07T20:38:09.337Z"
   },
   {
    "duration": 387,
    "start_time": "2021-09-07T20:38:09.659Z"
   },
   {
    "duration": 17,
    "start_time": "2021-09-07T20:38:10.048Z"
   },
   {
    "duration": 448,
    "start_time": "2021-09-07T20:38:10.067Z"
   },
   {
    "duration": 17,
    "start_time": "2021-09-07T20:38:10.517Z"
   },
   {
    "duration": 8,
    "start_time": "2021-09-07T20:38:10.536Z"
   },
   {
    "duration": 269,
    "start_time": "2021-09-07T20:38:10.545Z"
   },
   {
    "duration": 16,
    "start_time": "2021-09-07T20:38:10.816Z"
   },
   {
    "duration": 17,
    "start_time": "2021-09-07T20:38:10.833Z"
   },
   {
    "duration": 6,
    "start_time": "2021-09-07T20:38:10.852Z"
   },
   {
    "duration": 382,
    "start_time": "2021-09-07T20:38:10.859Z"
   },
   {
    "duration": 1214,
    "start_time": "2021-09-07T20:38:11.243Z"
   },
   {
    "duration": 256,
    "start_time": "2021-09-07T20:38:12.458Z"
   },
   {
    "duration": 15,
    "start_time": "2021-09-07T20:43:30.967Z"
   },
   {
    "duration": 183,
    "start_time": "2021-09-07T20:45:56.341Z"
   },
   {
    "duration": 4,
    "start_time": "2021-09-07T20:51:09.235Z"
   },
   {
    "duration": 501,
    "start_time": "2021-09-07T20:54:38.641Z"
   },
   {
    "duration": 3,
    "start_time": "2021-09-07T20:55:33.551Z"
   },
   {
    "duration": 3,
    "start_time": "2021-09-07T20:55:45.568Z"
   },
   {
    "duration": 575,
    "start_time": "2021-09-07T20:56:35.268Z"
   },
   {
    "duration": 508,
    "start_time": "2021-09-07T20:58:26.168Z"
   },
   {
    "duration": 477,
    "start_time": "2021-09-07T20:58:49.492Z"
   },
   {
    "duration": 509,
    "start_time": "2021-09-07T21:03:27.790Z"
   },
   {
    "duration": 25,
    "start_time": "2021-09-07T21:13:53.639Z"
   },
   {
    "duration": 591,
    "start_time": "2021-09-07T21:23:38.825Z"
   },
   {
    "duration": 21,
    "start_time": "2021-09-07T21:52:37.867Z"
   },
   {
    "duration": 5,
    "start_time": "2021-09-07T21:53:01.825Z"
   },
   {
    "duration": 5,
    "start_time": "2021-09-07T21:53:14.102Z"
   },
   {
    "duration": 22,
    "start_time": "2021-09-07T21:54:31.835Z"
   },
   {
    "duration": 10,
    "start_time": "2021-09-07T21:57:21.868Z"
   },
   {
    "duration": 12,
    "start_time": "2021-09-07T21:58:38.188Z"
   },
   {
    "duration": 10,
    "start_time": "2021-09-07T22:00:28.154Z"
   },
   {
    "duration": 14,
    "start_time": "2021-09-07T22:01:43.658Z"
   },
   {
    "duration": 10,
    "start_time": "2021-09-07T22:02:37.944Z"
   },
   {
    "duration": 9,
    "start_time": "2021-09-07T22:02:56.443Z"
   },
   {
    "duration": 12,
    "start_time": "2021-09-07T22:09:20.824Z"
   },
   {
    "duration": 23,
    "start_time": "2021-09-07T22:11:53.374Z"
   },
   {
    "duration": 9,
    "start_time": "2021-09-07T22:12:21.008Z"
   },
   {
    "duration": 11,
    "start_time": "2021-09-07T22:14:17.881Z"
   },
   {
    "duration": 15,
    "start_time": "2021-09-07T22:20:55.932Z"
   },
   {
    "duration": 7,
    "start_time": "2021-09-07T22:21:12.366Z"
   },
   {
    "duration": 23,
    "start_time": "2021-09-07T22:21:21.523Z"
   },
   {
    "duration": 12,
    "start_time": "2021-09-07T22:21:46.361Z"
   },
   {
    "duration": 11,
    "start_time": "2021-09-07T22:22:33.583Z"
   },
   {
    "duration": 234,
    "start_time": "2021-09-07T22:25:58.310Z"
   },
   {
    "duration": 8,
    "start_time": "2021-09-07T22:27:45.199Z"
   },
   {
    "duration": 8,
    "start_time": "2021-09-07T22:28:20.375Z"
   },
   {
    "duration": 8,
    "start_time": "2021-09-07T22:30:45.411Z"
   },
   {
    "duration": 12,
    "start_time": "2021-09-07T22:33:24.373Z"
   },
   {
    "duration": 9,
    "start_time": "2021-09-07T22:34:23.851Z"
   },
   {
    "duration": 8,
    "start_time": "2021-09-07T22:34:44.567Z"
   },
   {
    "duration": 13,
    "start_time": "2021-09-07T22:35:39.701Z"
   },
   {
    "duration": 9,
    "start_time": "2021-09-07T22:39:16.336Z"
   },
   {
    "duration": 9,
    "start_time": "2021-09-07T22:39:19.407Z"
   },
   {
    "duration": 9,
    "start_time": "2021-09-07T22:39:25.139Z"
   },
   {
    "duration": 8,
    "start_time": "2021-09-07T22:39:30.648Z"
   },
   {
    "duration": 1740,
    "start_time": "2021-09-08T09:56:29.427Z"
   },
   {
    "duration": 22,
    "start_time": "2021-09-08T09:56:31.170Z"
   },
   {
    "duration": 23,
    "start_time": "2021-09-08T09:56:31.195Z"
   },
   {
    "duration": 54,
    "start_time": "2021-09-08T09:56:31.220Z"
   },
   {
    "duration": 44,
    "start_time": "2021-09-08T09:56:31.276Z"
   },
   {
    "duration": 8,
    "start_time": "2021-09-08T09:56:31.323Z"
   },
   {
    "duration": 34,
    "start_time": "2021-09-08T09:56:31.354Z"
   },
   {
    "duration": 21,
    "start_time": "2021-09-08T09:56:31.394Z"
   },
   {
    "duration": 43,
    "start_time": "2021-09-08T09:56:31.418Z"
   },
   {
    "duration": 17,
    "start_time": "2021-09-08T09:56:31.464Z"
   },
   {
    "duration": 26,
    "start_time": "2021-09-08T09:56:31.483Z"
   },
   {
    "duration": 15,
    "start_time": "2021-09-08T09:56:31.512Z"
   },
   {
    "duration": 40,
    "start_time": "2021-09-08T09:56:31.531Z"
   },
   {
    "duration": 25,
    "start_time": "2021-09-08T09:56:31.574Z"
   },
   {
    "duration": 17,
    "start_time": "2021-09-08T09:56:31.601Z"
   },
   {
    "duration": 37,
    "start_time": "2021-09-08T09:56:31.621Z"
   },
   {
    "duration": 52,
    "start_time": "2021-09-08T09:56:31.661Z"
   },
   {
    "duration": 6,
    "start_time": "2021-09-08T09:56:31.716Z"
   },
   {
    "duration": 1898,
    "start_time": "2021-09-08T09:56:31.725Z"
   },
   {
    "duration": 8449,
    "start_time": "2021-09-08T09:56:33.626Z"
   },
   {
    "duration": 40,
    "start_time": "2021-09-08T09:56:42.077Z"
   },
   {
    "duration": 8,
    "start_time": "2021-09-08T09:56:42.119Z"
   },
   {
    "duration": 27,
    "start_time": "2021-09-08T09:56:42.132Z"
   },
   {
    "duration": 15,
    "start_time": "2021-09-08T09:56:42.162Z"
   },
   {
    "duration": 44,
    "start_time": "2021-09-08T09:56:42.179Z"
   },
   {
    "duration": 1790,
    "start_time": "2021-09-08T09:56:42.225Z"
   },
   {
    "duration": 196,
    "start_time": "2021-09-08T09:56:44.018Z"
   },
   {
    "duration": 22,
    "start_time": "2021-09-08T09:56:44.217Z"
   },
   {
    "duration": 10,
    "start_time": "2021-09-08T09:56:44.255Z"
   },
   {
    "duration": 25,
    "start_time": "2021-09-08T09:56:44.268Z"
   },
   {
    "duration": 7,
    "start_time": "2021-09-08T09:56:44.295Z"
   },
   {
    "duration": 60,
    "start_time": "2021-09-08T09:56:44.305Z"
   },
   {
    "duration": 22,
    "start_time": "2021-09-08T09:56:44.367Z"
   },
   {
    "duration": 683,
    "start_time": "2021-09-08T09:56:44.392Z"
   },
   {
    "duration": 516,
    "start_time": "2021-09-08T09:56:45.078Z"
   },
   {
    "duration": 544,
    "start_time": "2021-09-08T09:56:45.597Z"
   },
   {
    "duration": 32,
    "start_time": "2021-09-08T09:56:46.144Z"
   },
   {
    "duration": 692,
    "start_time": "2021-09-08T09:56:46.179Z"
   },
   {
    "duration": 31,
    "start_time": "2021-09-08T09:56:46.873Z"
   },
   {
    "duration": 24,
    "start_time": "2021-09-08T09:56:46.906Z"
   },
   {
    "duration": 402,
    "start_time": "2021-09-08T09:56:46.932Z"
   },
   {
    "duration": 33,
    "start_time": "2021-09-08T09:56:47.337Z"
   },
   {
    "duration": 47,
    "start_time": "2021-09-08T09:56:47.373Z"
   },
   {
    "duration": 7,
    "start_time": "2021-09-08T09:57:26.655Z"
   },
   {
    "duration": 433,
    "start_time": "2021-09-08T09:57:40.380Z"
   },
   {
    "duration": 1727,
    "start_time": "2021-09-08T09:58:08.562Z"
   },
   {
    "duration": 9,
    "start_time": "2021-09-08T09:58:31.481Z"
   },
   {
    "duration": 658,
    "start_time": "2021-09-08T09:58:34.189Z"
   },
   {
    "duration": 6,
    "start_time": "2021-09-08T10:05:21.156Z"
   },
   {
    "duration": 491,
    "start_time": "2021-09-08T10:05:23.924Z"
   },
   {
    "duration": 7,
    "start_time": "2021-09-08T10:07:16.975Z"
   },
   {
    "duration": 456,
    "start_time": "2021-09-08T10:07:19.914Z"
   },
   {
    "duration": 1624,
    "start_time": "2021-09-08T10:08:00.610Z"
   },
   {
    "duration": 359,
    "start_time": "2021-09-08T10:37:40.928Z"
   },
   {
    "duration": 821,
    "start_time": "2021-09-08T10:39:39.736Z"
   },
   {
    "duration": 888,
    "start_time": "2021-09-08T11:14:18.294Z"
   },
   {
    "duration": 1077,
    "start_time": "2021-09-08T12:39:13.877Z"
   },
   {
    "duration": 23,
    "start_time": "2021-09-08T13:15:18.816Z"
   },
   {
    "duration": 14,
    "start_time": "2021-09-08T13:15:44.982Z"
   },
   {
    "duration": 5,
    "start_time": "2021-09-08T13:28:46.748Z"
   },
   {
    "duration": 10,
    "start_time": "2021-09-08T13:28:58.405Z"
   },
   {
    "duration": 4,
    "start_time": "2021-09-08T13:30:07.866Z"
   },
   {
    "duration": 6,
    "start_time": "2021-09-08T13:30:48.467Z"
   },
   {
    "duration": 9,
    "start_time": "2021-09-08T13:41:47.096Z"
   },
   {
    "duration": 7,
    "start_time": "2021-09-08T13:45:05.522Z"
   },
   {
    "duration": 9,
    "start_time": "2021-09-08T13:45:12.956Z"
   },
   {
    "duration": 94,
    "start_time": "2021-09-08T13:52:09.102Z"
   },
   {
    "duration": 7,
    "start_time": "2021-09-08T13:52:20.418Z"
   },
   {
    "duration": 6,
    "start_time": "2021-09-08T14:09:52.564Z"
   },
   {
    "duration": 7,
    "start_time": "2021-09-08T14:11:44.751Z"
   },
   {
    "duration": 18,
    "start_time": "2021-09-08T14:12:00.338Z"
   },
   {
    "duration": 6,
    "start_time": "2021-09-08T14:13:57.661Z"
   },
   {
    "duration": 858,
    "start_time": "2021-09-08T14:14:01.936Z"
   },
   {
    "duration": 7,
    "start_time": "2021-09-08T14:14:54.169Z"
   },
   {
    "duration": 565,
    "start_time": "2021-09-08T14:14:57.353Z"
   },
   {
    "duration": 1560,
    "start_time": "2021-09-08T14:15:56.828Z"
   },
   {
    "duration": 23,
    "start_time": "2021-09-08T14:15:58.391Z"
   },
   {
    "duration": 12,
    "start_time": "2021-09-08T14:15:58.416Z"
   },
   {
    "duration": 19,
    "start_time": "2021-09-08T14:15:58.455Z"
   },
   {
    "duration": 25,
    "start_time": "2021-09-08T14:15:58.476Z"
   },
   {
    "duration": 49,
    "start_time": "2021-09-08T14:15:58.504Z"
   },
   {
    "duration": 21,
    "start_time": "2021-09-08T14:15:58.556Z"
   },
   {
    "duration": 7,
    "start_time": "2021-09-08T14:15:58.581Z"
   },
   {
    "duration": 23,
    "start_time": "2021-09-08T14:15:58.592Z"
   },
   {
    "duration": 38,
    "start_time": "2021-09-08T14:15:58.618Z"
   },
   {
    "duration": 22,
    "start_time": "2021-09-08T14:15:58.659Z"
   },
   {
    "duration": 15,
    "start_time": "2021-09-08T14:15:58.684Z"
   },
   {
    "duration": 22,
    "start_time": "2021-09-08T14:15:58.701Z"
   },
   {
    "duration": 14,
    "start_time": "2021-09-08T14:15:58.755Z"
   },
   {
    "duration": 22,
    "start_time": "2021-09-08T14:15:58.772Z"
   },
   {
    "duration": 23,
    "start_time": "2021-09-08T14:15:58.797Z"
   },
   {
    "duration": 55,
    "start_time": "2021-09-08T14:15:58.823Z"
   },
   {
    "duration": 8,
    "start_time": "2021-09-08T14:15:58.881Z"
   },
   {
    "duration": 1865,
    "start_time": "2021-09-08T14:15:58.892Z"
   },
   {
    "duration": 8522,
    "start_time": "2021-09-08T14:16:00.760Z"
   },
   {
    "duration": 42,
    "start_time": "2021-09-08T14:16:09.284Z"
   },
   {
    "duration": 30,
    "start_time": "2021-09-08T14:16:09.328Z"
   },
   {
    "duration": 19,
    "start_time": "2021-09-08T14:16:09.363Z"
   },
   {
    "duration": 16,
    "start_time": "2021-09-08T14:16:09.385Z"
   },
   {
    "duration": 35,
    "start_time": "2021-09-08T14:16:09.403Z"
   },
   {
    "duration": 1847,
    "start_time": "2021-09-08T14:16:09.440Z"
   },
   {
    "duration": 191,
    "start_time": "2021-09-08T14:16:11.290Z"
   },
   {
    "duration": 23,
    "start_time": "2021-09-08T14:16:11.484Z"
   },
   {
    "duration": 21,
    "start_time": "2021-09-08T14:16:11.510Z"
   },
   {
    "duration": 37,
    "start_time": "2021-09-08T14:16:11.534Z"
   },
   {
    "duration": 20,
    "start_time": "2021-09-08T14:16:11.574Z"
   },
   {
    "duration": 64,
    "start_time": "2021-09-08T14:16:11.597Z"
   },
   {
    "duration": 24,
    "start_time": "2021-09-08T14:16:11.664Z"
   },
   {
    "duration": 592,
    "start_time": "2021-09-08T14:16:11.691Z"
   },
   {
    "duration": 514,
    "start_time": "2021-09-08T14:16:12.286Z"
   },
   {
    "duration": 542,
    "start_time": "2021-09-08T14:16:12.803Z"
   },
   {
    "duration": 29,
    "start_time": "2021-09-08T14:16:13.355Z"
   },
   {
    "duration": 676,
    "start_time": "2021-09-08T14:16:13.386Z"
   },
   {
    "duration": 27,
    "start_time": "2021-09-08T14:16:14.065Z"
   },
   {
    "duration": 27,
    "start_time": "2021-09-08T14:16:14.095Z"
   },
   {
    "duration": 426,
    "start_time": "2021-09-08T14:16:14.124Z"
   },
   {
    "duration": 36,
    "start_time": "2021-09-08T14:16:14.555Z"
   },
   {
    "duration": 37,
    "start_time": "2021-09-08T14:16:14.594Z"
   },
   {
    "duration": 21,
    "start_time": "2021-09-08T14:16:14.635Z"
   },
   {
    "duration": 470,
    "start_time": "2021-09-08T14:16:14.659Z"
   },
   {
    "duration": 1513,
    "start_time": "2021-09-08T14:16:15.132Z"
   },
   {
    "duration": 379,
    "start_time": "2021-09-08T14:16:16.655Z"
   },
   {
    "duration": 906,
    "start_time": "2021-09-08T14:16:17.037Z"
   },
   {
    "duration": 869,
    "start_time": "2021-09-08T14:16:17.945Z"
   },
   {
    "duration": 873,
    "start_time": "2021-09-08T14:16:18.817Z"
   },
   {
    "duration": 12,
    "start_time": "2021-09-08T14:16:19.693Z"
   },
   {
    "duration": 24,
    "start_time": "2021-09-08T14:16:19.708Z"
   },
   {
    "duration": 6,
    "start_time": "2021-09-08T14:16:30.378Z"
   },
   {
    "duration": 6,
    "start_time": "2021-09-08T14:16:33.425Z"
   },
   {
    "duration": 18,
    "start_time": "2021-09-08T14:17:18.864Z"
   },
   {
    "duration": 7,
    "start_time": "2021-09-08T14:17:35.953Z"
   },
   {
    "duration": 7,
    "start_time": "2021-09-08T14:17:42.052Z"
   },
   {
    "duration": 7,
    "start_time": "2021-09-08T14:17:57.609Z"
   },
   {
    "duration": 6,
    "start_time": "2021-09-08T14:18:00.821Z"
   },
   {
    "duration": 17,
    "start_time": "2021-09-08T14:18:22.362Z"
   },
   {
    "duration": 6,
    "start_time": "2021-09-08T14:36:05.218Z"
   },
   {
    "duration": 7,
    "start_time": "2021-09-08T14:49:09.586Z"
   },
   {
    "duration": 7,
    "start_time": "2021-09-08T14:49:14.231Z"
   },
   {
    "duration": 405,
    "start_time": "2021-09-08T14:57:51.841Z"
   },
   {
    "duration": 19,
    "start_time": "2021-09-08T14:58:08.769Z"
   },
   {
    "duration": 22,
    "start_time": "2021-09-08T14:58:34.392Z"
   },
   {
    "duration": 13,
    "start_time": "2021-09-08T14:59:44.678Z"
   },
   {
    "duration": 13,
    "start_time": "2021-09-08T15:00:34.162Z"
   },
   {
    "duration": 8,
    "start_time": "2021-09-08T15:02:14.334Z"
   },
   {
    "duration": 17,
    "start_time": "2021-09-08T15:02:56.988Z"
   },
   {
    "duration": 1576,
    "start_time": "2021-09-08T16:18:34.730Z"
   },
   {
    "duration": 20,
    "start_time": "2021-09-08T16:18:36.309Z"
   },
   {
    "duration": 26,
    "start_time": "2021-09-08T16:18:36.332Z"
   },
   {
    "duration": 23,
    "start_time": "2021-09-08T16:18:36.361Z"
   },
   {
    "duration": 32,
    "start_time": "2021-09-08T16:18:36.387Z"
   },
   {
    "duration": 36,
    "start_time": "2021-09-08T16:18:36.422Z"
   },
   {
    "duration": 21,
    "start_time": "2021-09-08T16:18:36.462Z"
   },
   {
    "duration": 6,
    "start_time": "2021-09-08T16:18:36.487Z"
   },
   {
    "duration": 21,
    "start_time": "2021-09-08T16:18:36.496Z"
   },
   {
    "duration": 38,
    "start_time": "2021-09-08T16:18:36.520Z"
   },
   {
    "duration": 21,
    "start_time": "2021-09-08T16:18:36.560Z"
   },
   {
    "duration": 12,
    "start_time": "2021-09-08T16:18:36.583Z"
   },
   {
    "duration": 13,
    "start_time": "2021-09-08T16:18:36.598Z"
   },
   {
    "duration": 49,
    "start_time": "2021-09-08T16:18:36.613Z"
   },
   {
    "duration": 8,
    "start_time": "2021-09-08T16:18:36.664Z"
   },
   {
    "duration": 9,
    "start_time": "2021-09-08T16:18:36.674Z"
   },
   {
    "duration": 70,
    "start_time": "2021-09-08T16:18:36.686Z"
   },
   {
    "duration": 6,
    "start_time": "2021-09-08T16:18:36.759Z"
   },
   {
    "duration": 1818,
    "start_time": "2021-09-08T16:18:36.768Z"
   },
   {
    "duration": 8458,
    "start_time": "2021-09-08T16:18:38.588Z"
   },
   {
    "duration": 40,
    "start_time": "2021-09-08T16:18:47.049Z"
   },
   {
    "duration": 7,
    "start_time": "2021-09-08T16:18:47.091Z"
   },
   {
    "duration": 18,
    "start_time": "2021-09-08T16:18:47.104Z"
   },
   {
    "duration": 32,
    "start_time": "2021-09-08T16:18:47.126Z"
   },
   {
    "duration": 32,
    "start_time": "2021-09-08T16:18:47.160Z"
   },
   {
    "duration": 1831,
    "start_time": "2021-09-08T16:18:47.194Z"
   },
   {
    "duration": 189,
    "start_time": "2021-09-08T16:18:49.028Z"
   },
   {
    "duration": 34,
    "start_time": "2021-09-08T16:18:49.220Z"
   },
   {
    "duration": 21,
    "start_time": "2021-09-08T16:18:49.257Z"
   },
   {
    "duration": 34,
    "start_time": "2021-09-08T16:18:49.280Z"
   },
   {
    "duration": 16,
    "start_time": "2021-09-08T16:18:49.316Z"
   },
   {
    "duration": 38,
    "start_time": "2021-09-08T16:18:49.335Z"
   },
   {
    "duration": 26,
    "start_time": "2021-09-08T16:18:49.375Z"
   },
   {
    "duration": 706,
    "start_time": "2021-09-08T16:18:49.403Z"
   },
   {
    "duration": 533,
    "start_time": "2021-09-08T16:18:50.111Z"
   },
   {
    "duration": 562,
    "start_time": "2021-09-08T16:18:50.647Z"
   },
   {
    "duration": 44,
    "start_time": "2021-09-08T16:18:51.212Z"
   },
   {
    "duration": 678,
    "start_time": "2021-09-08T16:18:51.259Z"
   },
   {
    "duration": 35,
    "start_time": "2021-09-08T16:18:51.939Z"
   },
   {
    "duration": 10,
    "start_time": "2021-09-08T16:18:51.977Z"
   },
   {
    "duration": 386,
    "start_time": "2021-09-08T16:18:51.989Z"
   },
   {
    "duration": 26,
    "start_time": "2021-09-08T16:18:52.377Z"
   },
   {
    "duration": 20,
    "start_time": "2021-09-08T16:18:52.406Z"
   },
   {
    "duration": 31,
    "start_time": "2021-09-08T16:18:52.428Z"
   },
   {
    "duration": 486,
    "start_time": "2021-09-08T16:18:52.461Z"
   },
   {
    "duration": 1550,
    "start_time": "2021-09-08T16:18:52.950Z"
   },
   {
    "duration": 384,
    "start_time": "2021-09-08T16:18:54.503Z"
   },
   {
    "duration": 943,
    "start_time": "2021-09-08T16:18:54.889Z"
   },
   {
    "duration": 894,
    "start_time": "2021-09-08T16:18:55.835Z"
   },
   {
    "duration": 890,
    "start_time": "2021-09-08T16:18:56.732Z"
   },
   {
    "duration": 29,
    "start_time": "2021-09-08T16:18:57.625Z"
   },
   {
    "duration": 10,
    "start_time": "2021-09-08T16:18:57.657Z"
   },
   {
    "duration": 28,
    "start_time": "2021-09-08T16:18:57.670Z"
   },
   {
    "duration": 22,
    "start_time": "2021-09-08T16:18:57.701Z"
   },
   {
    "duration": 9,
    "start_time": "2021-09-08T16:18:57.726Z"
   },
   {
    "duration": 1541,
    "start_time": "2021-09-08T16:41:09.877Z"
   },
   {
    "duration": 34,
    "start_time": "2021-09-08T16:41:11.420Z"
   },
   {
    "duration": 11,
    "start_time": "2021-09-08T16:41:11.457Z"
   },
   {
    "duration": 22,
    "start_time": "2021-09-08T16:41:11.471Z"
   },
   {
    "duration": 60,
    "start_time": "2021-09-08T16:41:11.495Z"
   },
   {
    "duration": 26,
    "start_time": "2021-09-08T16:41:11.557Z"
   },
   {
    "duration": 34,
    "start_time": "2021-09-08T16:41:11.585Z"
   },
   {
    "duration": 7,
    "start_time": "2021-09-08T16:41:11.623Z"
   },
   {
    "duration": 21,
    "start_time": "2021-09-08T16:41:11.634Z"
   },
   {
    "duration": 15,
    "start_time": "2021-09-08T16:41:11.658Z"
   },
   {
    "duration": 40,
    "start_time": "2021-09-08T16:41:11.675Z"
   },
   {
    "duration": 14,
    "start_time": "2021-09-08T16:41:11.718Z"
   },
   {
    "duration": 20,
    "start_time": "2021-09-08T16:41:11.735Z"
   },
   {
    "duration": 27,
    "start_time": "2021-09-08T16:41:11.758Z"
   },
   {
    "duration": 26,
    "start_time": "2021-09-08T16:41:11.787Z"
   },
   {
    "duration": 20,
    "start_time": "2021-09-08T16:41:11.815Z"
   },
   {
    "duration": 50,
    "start_time": "2021-09-08T16:41:11.837Z"
   },
   {
    "duration": 6,
    "start_time": "2021-09-08T16:41:11.890Z"
   },
   {
    "duration": 1781,
    "start_time": "2021-09-08T16:41:11.898Z"
   },
   {
    "duration": 8775,
    "start_time": "2021-09-08T16:41:13.681Z"
   },
   {
    "duration": 42,
    "start_time": "2021-09-08T16:41:22.458Z"
   },
   {
    "duration": 6,
    "start_time": "2021-09-08T16:41:22.502Z"
   },
   {
    "duration": 41,
    "start_time": "2021-09-08T16:41:22.514Z"
   },
   {
    "duration": 7,
    "start_time": "2021-09-08T16:41:22.559Z"
   },
   {
    "duration": 36,
    "start_time": "2021-09-08T16:41:22.568Z"
   },
   {
    "duration": 1750,
    "start_time": "2021-09-08T16:41:22.606Z"
   },
   {
    "duration": 261,
    "start_time": "2021-09-08T16:41:24.359Z"
   },
   {
    "duration": 45,
    "start_time": "2021-09-08T16:41:24.623Z"
   },
   {
    "duration": 17,
    "start_time": "2021-09-08T16:41:24.671Z"
   },
   {
    "duration": 16,
    "start_time": "2021-09-08T16:41:24.690Z"
   },
   {
    "duration": 6,
    "start_time": "2021-09-08T16:41:24.708Z"
   },
   {
    "duration": 58,
    "start_time": "2021-09-08T16:41:24.716Z"
   },
   {
    "duration": 23,
    "start_time": "2021-09-08T16:41:24.777Z"
   },
   {
    "duration": 613,
    "start_time": "2021-09-08T16:41:24.802Z"
   },
   {
    "duration": 518,
    "start_time": "2021-09-08T16:41:25.417Z"
   },
   {
    "duration": 545,
    "start_time": "2021-09-08T16:41:25.938Z"
   },
   {
    "duration": 29,
    "start_time": "2021-09-08T16:41:26.485Z"
   },
   {
    "duration": 704,
    "start_time": "2021-09-08T16:41:26.517Z"
   },
   {
    "duration": 48,
    "start_time": "2021-09-08T16:41:27.224Z"
   },
   {
    "duration": 11,
    "start_time": "2021-09-08T16:41:27.275Z"
   },
   {
    "duration": 380,
    "start_time": "2021-09-08T16:41:27.288Z"
   },
   {
    "duration": 26,
    "start_time": "2021-09-08T16:41:27.671Z"
   },
   {
    "duration": 17,
    "start_time": "2021-09-08T16:41:27.700Z"
   },
   {
    "duration": 6,
    "start_time": "2021-09-08T16:41:27.755Z"
   },
   {
    "duration": 461,
    "start_time": "2021-09-08T16:41:27.763Z"
   },
   {
    "duration": 1657,
    "start_time": "2021-09-08T16:41:28.226Z"
   },
   {
    "duration": 387,
    "start_time": "2021-09-08T16:41:29.886Z"
   },
   {
    "duration": 962,
    "start_time": "2021-09-08T16:41:30.275Z"
   },
   {
    "duration": 973,
    "start_time": "2021-09-08T16:41:31.239Z"
   },
   {
    "duration": 881,
    "start_time": "2021-09-08T16:41:32.214Z"
   },
   {
    "duration": 14,
    "start_time": "2021-09-08T16:41:33.098Z"
   },
   {
    "duration": 9,
    "start_time": "2021-09-08T16:41:33.115Z"
   },
   {
    "duration": 41,
    "start_time": "2021-09-08T16:41:33.127Z"
   },
   {
    "duration": 23,
    "start_time": "2021-09-08T16:41:33.171Z"
   },
   {
    "duration": 10,
    "start_time": "2021-09-08T16:41:33.196Z"
   },
   {
    "duration": 1621,
    "start_time": "2021-09-08T19:10:17.040Z"
   },
   {
    "duration": 32,
    "start_time": "2021-09-08T19:10:18.663Z"
   },
   {
    "duration": 12,
    "start_time": "2021-09-08T19:10:18.698Z"
   },
   {
    "duration": 34,
    "start_time": "2021-09-08T19:10:18.713Z"
   },
   {
    "duration": 41,
    "start_time": "2021-09-08T19:10:18.749Z"
   },
   {
    "duration": 7,
    "start_time": "2021-09-08T19:10:18.793Z"
   },
   {
    "duration": 29,
    "start_time": "2021-09-08T19:10:18.803Z"
   },
   {
    "duration": 8,
    "start_time": "2021-09-08T19:10:18.870Z"
   },
   {
    "duration": 30,
    "start_time": "2021-09-08T19:10:18.881Z"
   },
   {
    "duration": 23,
    "start_time": "2021-09-08T19:10:18.914Z"
   },
   {
    "duration": 28,
    "start_time": "2021-09-08T19:10:18.939Z"
   },
   {
    "duration": 25,
    "start_time": "2021-09-08T19:10:18.970Z"
   },
   {
    "duration": 12,
    "start_time": "2021-09-08T19:10:18.997Z"
   },
   {
    "duration": 18,
    "start_time": "2021-09-08T19:10:19.012Z"
   },
   {
    "duration": 10,
    "start_time": "2021-09-08T19:10:19.032Z"
   },
   {
    "duration": 28,
    "start_time": "2021-09-08T19:10:19.044Z"
   },
   {
    "duration": 47,
    "start_time": "2021-09-08T19:10:19.076Z"
   },
   {
    "duration": 42,
    "start_time": "2021-09-08T19:10:19.126Z"
   },
   {
    "duration": 2044,
    "start_time": "2021-09-08T19:10:19.172Z"
   },
   {
    "duration": 9485,
    "start_time": "2021-09-08T19:10:21.218Z"
   },
   {
    "duration": 42,
    "start_time": "2021-09-08T19:10:30.706Z"
   },
   {
    "duration": 9,
    "start_time": "2021-09-08T19:10:30.767Z"
   },
   {
    "duration": 23,
    "start_time": "2021-09-08T19:10:30.782Z"
   },
   {
    "duration": 19,
    "start_time": "2021-09-08T19:10:30.808Z"
   },
   {
    "duration": 40,
    "start_time": "2021-09-08T19:10:30.829Z"
   },
   {
    "duration": 2058,
    "start_time": "2021-09-08T19:10:30.872Z"
   },
   {
    "duration": 214,
    "start_time": "2021-09-08T19:10:32.932Z"
   },
   {
    "duration": 36,
    "start_time": "2021-09-08T19:10:33.148Z"
   },
   {
    "duration": 10,
    "start_time": "2021-09-08T19:10:33.186Z"
   },
   {
    "duration": 26,
    "start_time": "2021-09-08T19:10:33.198Z"
   },
   {
    "duration": 5,
    "start_time": "2021-09-08T19:10:33.227Z"
   },
   {
    "duration": 67,
    "start_time": "2021-09-08T19:10:33.235Z"
   },
   {
    "duration": 24,
    "start_time": "2021-09-08T19:10:33.305Z"
   },
   {
    "duration": 681,
    "start_time": "2021-09-08T19:10:33.331Z"
   },
   {
    "duration": 580,
    "start_time": "2021-09-08T19:10:34.014Z"
   },
   {
    "duration": 593,
    "start_time": "2021-09-08T19:10:34.597Z"
   },
   {
    "duration": 29,
    "start_time": "2021-09-08T19:10:35.193Z"
   },
   {
    "duration": 784,
    "start_time": "2021-09-08T19:10:35.224Z"
   },
   {
    "duration": 28,
    "start_time": "2021-09-08T19:10:36.010Z"
   },
   {
    "duration": 37,
    "start_time": "2021-09-08T19:10:36.041Z"
   },
   {
    "duration": 423,
    "start_time": "2021-09-08T19:10:36.081Z"
   },
   {
    "duration": 25,
    "start_time": "2021-09-08T19:10:36.507Z"
   },
   {
    "duration": 35,
    "start_time": "2021-09-08T19:10:36.535Z"
   },
   {
    "duration": 8,
    "start_time": "2021-09-08T19:10:36.573Z"
   },
   {
    "duration": 503,
    "start_time": "2021-09-08T19:10:36.585Z"
   },
   {
    "duration": 1662,
    "start_time": "2021-09-08T19:10:37.090Z"
   },
   {
    "duration": 472,
    "start_time": "2021-09-08T19:10:38.754Z"
   },
   {
    "duration": 996,
    "start_time": "2021-09-08T19:10:39.229Z"
   },
   {
    "duration": 1341,
    "start_time": "2021-09-08T19:10:40.228Z"
   },
   {
    "duration": 1674,
    "start_time": "2021-09-08T19:10:41.572Z"
   },
   {
    "duration": 29,
    "start_time": "2021-09-08T19:10:43.250Z"
   },
   {
    "duration": 11,
    "start_time": "2021-09-08T19:10:43.282Z"
   },
   {
    "duration": 25,
    "start_time": "2021-09-08T19:10:43.296Z"
   },
   {
    "duration": 29,
    "start_time": "2021-09-08T19:10:43.324Z"
   },
   {
    "duration": 16,
    "start_time": "2021-09-08T19:10:43.356Z"
   },
   {
    "duration": 32,
    "start_time": "2021-09-08T19:16:56.037Z"
   },
   {
    "duration": 6,
    "start_time": "2021-09-08T19:26:46.371Z"
   },
   {
    "duration": 1566,
    "start_time": "2021-09-09T19:27:05.751Z"
   },
   {
    "duration": 38,
    "start_time": "2021-09-09T19:27:07.320Z"
   },
   {
    "duration": 12,
    "start_time": "2021-09-09T19:27:07.361Z"
   },
   {
    "duration": 22,
    "start_time": "2021-09-09T19:27:07.376Z"
   },
   {
    "duration": 58,
    "start_time": "2021-09-09T19:27:07.401Z"
   },
   {
    "duration": 7,
    "start_time": "2021-09-09T19:27:07.462Z"
   },
   {
    "duration": 25,
    "start_time": "2021-09-09T19:27:07.472Z"
   },
   {
    "duration": 7,
    "start_time": "2021-09-09T19:27:07.500Z"
   },
   {
    "duration": 54,
    "start_time": "2021-09-09T19:27:07.510Z"
   },
   {
    "duration": 19,
    "start_time": "2021-09-09T19:27:07.566Z"
   },
   {
    "duration": 27,
    "start_time": "2021-09-09T19:27:07.588Z"
   },
   {
    "duration": 13,
    "start_time": "2021-09-09T19:27:07.618Z"
   },
   {
    "duration": 28,
    "start_time": "2021-09-09T19:27:07.634Z"
   },
   {
    "duration": 16,
    "start_time": "2021-09-09T19:27:07.665Z"
   },
   {
    "duration": 11,
    "start_time": "2021-09-09T19:27:07.684Z"
   },
   {
    "duration": 13,
    "start_time": "2021-09-09T19:27:07.697Z"
   },
   {
    "duration": 30,
    "start_time": "2021-09-09T19:27:24.098Z"
   },
   {
    "duration": 23,
    "start_time": "2021-09-09T19:28:00.686Z"
   },
   {
    "duration": 30,
    "start_time": "2021-09-09T19:29:31.272Z"
   },
   {
    "duration": 93,
    "start_time": "2021-09-09T19:29:56.773Z"
   },
   {
    "duration": 49,
    "start_time": "2021-09-09T19:30:19.097Z"
   },
   {
    "duration": 10,
    "start_time": "2021-09-09T19:44:18.158Z"
   },
   {
    "duration": 14,
    "start_time": "2021-09-09T19:44:48.095Z"
   },
   {
    "duration": 1523,
    "start_time": "2021-09-09T19:45:27.797Z"
   },
   {
    "duration": 37,
    "start_time": "2021-09-09T19:45:29.323Z"
   },
   {
    "duration": 13,
    "start_time": "2021-09-09T19:45:29.363Z"
   },
   {
    "duration": 26,
    "start_time": "2021-09-09T19:45:29.379Z"
   },
   {
    "duration": 68,
    "start_time": "2021-09-09T19:45:29.409Z"
   },
   {
    "duration": 9,
    "start_time": "2021-09-09T19:45:29.480Z"
   },
   {
    "duration": 27,
    "start_time": "2021-09-09T19:45:29.492Z"
   },
   {
    "duration": 7,
    "start_time": "2021-09-09T19:45:29.557Z"
   },
   {
    "duration": 18,
    "start_time": "2021-09-09T19:45:29.566Z"
   },
   {
    "duration": 15,
    "start_time": "2021-09-09T19:45:29.586Z"
   },
   {
    "duration": 20,
    "start_time": "2021-09-09T19:45:56.262Z"
   },
   {
    "duration": 11,
    "start_time": "2021-09-09T19:46:03.139Z"
   },
   {
    "duration": 22,
    "start_time": "2021-09-09T19:46:35.550Z"
   },
   {
    "duration": 7,
    "start_time": "2021-09-09T19:46:58.492Z"
   },
   {
    "duration": 11,
    "start_time": "2021-09-09T20:05:01.394Z"
   },
   {
    "duration": 7,
    "start_time": "2021-09-09T20:05:12.500Z"
   },
   {
    "duration": 20,
    "start_time": "2021-09-09T20:05:38.457Z"
   },
   {
    "duration": 15,
    "start_time": "2021-09-09T20:05:47.178Z"
   },
   {
    "duration": 16,
    "start_time": "2021-09-09T20:08:38.426Z"
   },
   {
    "duration": 7,
    "start_time": "2021-09-09T20:09:18.853Z"
   },
   {
    "duration": 7,
    "start_time": "2021-09-09T20:09:22.381Z"
   },
   {
    "duration": 31,
    "start_time": "2021-09-09T20:11:10.130Z"
   },
   {
    "duration": 30,
    "start_time": "2021-09-09T20:13:09.761Z"
   },
   {
    "duration": 30,
    "start_time": "2021-09-09T20:13:15.292Z"
   },
   {
    "duration": 32,
    "start_time": "2021-09-09T20:13:20.935Z"
   },
   {
    "duration": 31,
    "start_time": "2021-09-09T20:13:34.208Z"
   },
   {
    "duration": 31,
    "start_time": "2021-09-09T20:13:43.686Z"
   },
   {
    "duration": 30,
    "start_time": "2021-09-09T20:14:30.936Z"
   },
   {
    "duration": 47,
    "start_time": "2021-09-09T20:15:20.021Z"
   },
   {
    "duration": 6,
    "start_time": "2021-09-09T20:28:09.872Z"
   },
   {
    "duration": 9,
    "start_time": "2021-09-09T20:28:40.803Z"
   },
   {
    "duration": 7,
    "start_time": "2021-09-09T20:29:06.529Z"
   },
   {
    "duration": 14,
    "start_time": "2021-09-09T20:37:55.238Z"
   },
   {
    "duration": 27,
    "start_time": "2021-09-09T20:51:28.513Z"
   },
   {
    "duration": 487,
    "start_time": "2021-09-09T20:52:28.280Z"
   },
   {
    "duration": 42,
    "start_time": "2021-09-09T20:52:38.495Z"
   },
   {
    "duration": 7,
    "start_time": "2021-09-09T20:58:32.591Z"
   },
   {
    "duration": 7,
    "start_time": "2021-09-09T20:58:43.037Z"
   },
   {
    "duration": 29,
    "start_time": "2021-09-09T21:00:25.596Z"
   },
   {
    "duration": 334,
    "start_time": "2021-09-09T21:01:05.340Z"
   },
   {
    "duration": 41,
    "start_time": "2021-09-09T21:01:12.864Z"
   },
   {
    "duration": 13,
    "start_time": "2021-09-09T21:06:37.270Z"
   },
   {
    "duration": 13,
    "start_time": "2021-09-09T21:11:28.506Z"
   },
   {
    "duration": 6,
    "start_time": "2021-09-09T21:12:49.918Z"
   },
   {
    "duration": 32,
    "start_time": "2021-09-09T21:12:52.302Z"
   },
   {
    "duration": 22,
    "start_time": "2021-09-09T21:20:33.809Z"
   },
   {
    "duration": 588,
    "start_time": "2021-09-09T21:20:43.913Z"
   },
   {
    "duration": 508,
    "start_time": "2021-09-09T21:21:55.578Z"
   },
   {
    "duration": 520,
    "start_time": "2021-09-09T21:22:44.549Z"
   },
   {
    "duration": 28,
    "start_time": "2021-09-09T21:27:22.541Z"
   },
   {
    "duration": 834,
    "start_time": "2021-09-09T21:27:31.272Z"
   },
   {
    "duration": 26,
    "start_time": "2021-09-09T21:55:33.986Z"
   },
   {
    "duration": 37,
    "start_time": "2021-09-09T21:59:49.206Z"
   },
   {
    "duration": 12,
    "start_time": "2021-09-09T22:00:04.522Z"
   },
   {
    "duration": 437,
    "start_time": "2021-09-09T22:00:47.763Z"
   },
   {
    "duration": 25,
    "start_time": "2021-09-09T22:01:34.339Z"
   },
   {
    "duration": 15,
    "start_time": "2021-09-09T22:01:39.963Z"
   },
   {
    "duration": 7,
    "start_time": "2021-09-09T22:01:52.693Z"
   },
   {
    "duration": 468,
    "start_time": "2021-09-09T22:01:57.722Z"
   },
   {
    "duration": 1432,
    "start_time": "2021-09-09T22:05:01.775Z"
   },
   {
    "duration": 1535,
    "start_time": "2021-09-09T22:08:10.794Z"
   },
   {
    "duration": 371,
    "start_time": "2021-09-09T22:08:58.837Z"
   },
   {
    "duration": 313,
    "start_time": "2021-09-09T22:15:51.343Z"
   },
   {
    "duration": 307,
    "start_time": "2021-09-09T22:17:00.237Z"
   },
   {
    "duration": 741,
    "start_time": "2021-09-09T22:17:18.795Z"
   },
   {
    "duration": 446,
    "start_time": "2021-09-09T22:20:31.203Z"
   },
   {
    "duration": 361,
    "start_time": "2021-09-09T22:21:22.294Z"
   },
   {
    "duration": 9,
    "start_time": "2021-09-09T22:27:07.395Z"
   },
   {
    "duration": 325,
    "start_time": "2021-09-09T22:28:14.857Z"
   },
   {
    "duration": 320,
    "start_time": "2021-09-09T22:28:34.825Z"
   },
   {
    "duration": 8,
    "start_time": "2021-09-09T22:28:55.798Z"
   },
   {
    "duration": 230,
    "start_time": "2021-09-09T22:29:02.130Z"
   },
   {
    "duration": 297,
    "start_time": "2021-09-09T22:29:21.495Z"
   },
   {
    "duration": 345,
    "start_time": "2021-09-09T22:29:47.114Z"
   },
   {
    "duration": 363,
    "start_time": "2021-09-09T22:36:51.332Z"
   },
   {
    "duration": 361,
    "start_time": "2021-09-09T22:47:12.074Z"
   },
   {
    "duration": 9,
    "start_time": "2021-09-09T22:51:26.156Z"
   },
   {
    "duration": 359,
    "start_time": "2021-09-09T23:01:19.247Z"
   },
   {
    "duration": 8,
    "start_time": "2021-09-09T23:09:32.333Z"
   },
   {
    "duration": 1034,
    "start_time": "2021-09-09T23:13:06.628Z"
   },
   {
    "duration": 846,
    "start_time": "2021-09-09T23:20:52.520Z"
   },
   {
    "duration": 913,
    "start_time": "2021-09-09T23:28:08.405Z"
   },
   {
    "duration": 13,
    "start_time": "2021-09-09T23:39:11.933Z"
   },
   {
    "duration": 6,
    "start_time": "2021-09-09T23:39:15.278Z"
   },
   {
    "duration": 7,
    "start_time": "2021-09-09T23:39:18.589Z"
   },
   {
    "duration": 13,
    "start_time": "2021-09-09T23:39:22.159Z"
   },
   {
    "duration": 7,
    "start_time": "2021-09-09T23:39:25.295Z"
   },
   {
    "duration": 1554,
    "start_time": "2021-09-10T00:05:50.860Z"
   },
   {
    "duration": 42,
    "start_time": "2021-09-10T00:05:52.417Z"
   },
   {
    "duration": 11,
    "start_time": "2021-09-10T00:05:52.462Z"
   },
   {
    "duration": 30,
    "start_time": "2021-09-10T00:05:52.476Z"
   },
   {
    "duration": 55,
    "start_time": "2021-09-10T00:05:52.508Z"
   },
   {
    "duration": 7,
    "start_time": "2021-09-10T00:05:52.566Z"
   },
   {
    "duration": 84,
    "start_time": "2021-09-10T00:05:52.576Z"
   },
   {
    "duration": 8,
    "start_time": "2021-09-10T00:05:52.664Z"
   },
   {
    "duration": 17,
    "start_time": "2021-09-10T00:05:52.675Z"
   },
   {
    "duration": 31,
    "start_time": "2021-09-10T00:05:52.694Z"
   },
   {
    "duration": 44,
    "start_time": "2021-09-10T00:05:52.728Z"
   },
   {
    "duration": 17,
    "start_time": "2021-09-10T00:05:52.774Z"
   },
   {
    "duration": 8,
    "start_time": "2021-09-10T00:05:52.793Z"
   },
   {
    "duration": 58,
    "start_time": "2021-09-10T00:05:52.804Z"
   },
   {
    "duration": 53,
    "start_time": "2021-09-10T00:05:52.865Z"
   },
   {
    "duration": 95,
    "start_time": "2021-09-10T00:05:52.921Z"
   },
   {
    "duration": 9,
    "start_time": "2021-09-10T00:05:53.019Z"
   },
   {
    "duration": 27,
    "start_time": "2021-09-10T00:05:53.031Z"
   },
   {
    "duration": 34,
    "start_time": "2021-09-10T00:05:53.060Z"
   },
   {
    "duration": 14,
    "start_time": "2021-09-10T00:05:53.097Z"
   },
   {
    "duration": 41,
    "start_time": "2021-09-10T00:05:53.114Z"
   },
   {
    "duration": 42,
    "start_time": "2021-09-10T00:05:53.158Z"
   },
   {
    "duration": 12,
    "start_time": "2021-09-10T00:05:53.205Z"
   },
   {
    "duration": 40,
    "start_time": "2021-09-10T00:05:53.220Z"
   },
   {
    "duration": 39,
    "start_time": "2021-09-10T00:05:53.263Z"
   },
   {
    "duration": 51,
    "start_time": "2021-09-10T00:05:53.304Z"
   },
   {
    "duration": 618,
    "start_time": "2021-09-10T00:05:53.357Z"
   },
   {
    "duration": 535,
    "start_time": "2021-09-10T00:05:53.978Z"
   },
   {
    "duration": 503,
    "start_time": "2021-09-10T00:05:54.515Z"
   },
   {
    "duration": 692,
    "start_time": "2021-09-10T00:05:55.020Z"
   },
   {
    "duration": 46,
    "start_time": "2021-09-10T00:05:55.714Z"
   },
   {
    "duration": 28,
    "start_time": "2021-09-10T00:05:55.762Z"
   },
   {
    "duration": 112,
    "start_time": "2021-09-10T00:05:55.793Z"
   },
   {
    "duration": 478,
    "start_time": "2021-09-10T00:05:55.908Z"
   },
   {
    "duration": 24,
    "start_time": "2021-09-10T00:05:56.389Z"
   },
   {
    "duration": 47,
    "start_time": "2021-09-10T00:05:56.416Z"
   },
   {
    "duration": 6,
    "start_time": "2021-09-10T00:05:56.466Z"
   },
   {
    "duration": 452,
    "start_time": "2021-09-10T00:05:56.475Z"
   },
   {
    "duration": 1610,
    "start_time": "2021-09-10T00:05:56.929Z"
   },
   {
    "duration": 389,
    "start_time": "2021-09-10T00:05:58.542Z"
   },
   {
    "duration": 382,
    "start_time": "2021-09-10T00:05:58.933Z"
   },
   {
    "duration": 382,
    "start_time": "2021-09-10T00:05:59.318Z"
   },
   {
    "duration": 892,
    "start_time": "2021-09-10T00:05:59.702Z"
   },
   {
    "duration": 1060,
    "start_time": "2021-09-10T00:06:00.597Z"
   },
   {
    "duration": 866,
    "start_time": "2021-09-10T00:06:01.660Z"
   },
   {
    "duration": 30,
    "start_time": "2021-09-10T00:06:02.528Z"
   },
   {
    "duration": 13,
    "start_time": "2021-09-10T00:06:02.560Z"
   },
   {
    "duration": 11,
    "start_time": "2021-09-10T00:06:02.576Z"
   },
   {
    "duration": 39,
    "start_time": "2021-09-10T00:06:02.589Z"
   },
   {
    "duration": 18,
    "start_time": "2021-09-10T00:06:02.630Z"
   },
   {
    "duration": 1532,
    "start_time": "2021-09-10T00:11:43.596Z"
   },
   {
    "duration": 36,
    "start_time": "2021-09-10T00:11:45.132Z"
   },
   {
    "duration": 16,
    "start_time": "2021-09-10T00:11:45.171Z"
   },
   {
    "duration": 63,
    "start_time": "2021-09-10T00:11:45.191Z"
   },
   {
    "duration": 31,
    "start_time": "2021-09-10T00:11:45.258Z"
   },
   {
    "duration": 10,
    "start_time": "2021-09-10T00:11:45.292Z"
   },
   {
    "duration": 29,
    "start_time": "2021-09-10T00:11:45.356Z"
   },
   {
    "duration": 8,
    "start_time": "2021-09-10T00:11:45.391Z"
   },
   {
    "duration": 16,
    "start_time": "2021-09-10T00:11:45.453Z"
   },
   {
    "duration": 20,
    "start_time": "2021-09-10T00:11:45.472Z"
   },
   {
    "duration": 24,
    "start_time": "2021-09-10T00:11:45.495Z"
   },
   {
    "duration": 17,
    "start_time": "2021-09-10T00:11:45.556Z"
   },
   {
    "duration": 16,
    "start_time": "2021-09-10T00:11:45.577Z"
   },
   {
    "duration": 12,
    "start_time": "2021-09-10T00:11:45.596Z"
   },
   {
    "duration": 72,
    "start_time": "2021-09-10T00:11:45.611Z"
   },
   {
    "duration": 72,
    "start_time": "2021-09-10T00:11:45.686Z"
   },
   {
    "duration": 13,
    "start_time": "2021-09-10T00:11:45.761Z"
   },
   {
    "duration": 12,
    "start_time": "2021-09-10T00:11:45.777Z"
   },
   {
    "duration": 9,
    "start_time": "2021-09-10T00:11:45.792Z"
   },
   {
    "duration": 33,
    "start_time": "2021-09-10T00:11:45.855Z"
   },
   {
    "duration": 83,
    "start_time": "2021-09-10T00:11:45.891Z"
   },
   {
    "duration": 17,
    "start_time": "2021-09-10T00:11:45.977Z"
   },
   {
    "duration": 6,
    "start_time": "2021-09-10T00:11:46.003Z"
   },
   {
    "duration": 32,
    "start_time": "2021-09-10T00:11:46.056Z"
   },
   {
    "duration": 23,
    "start_time": "2021-09-10T00:11:46.091Z"
   },
   {
    "duration": 613,
    "start_time": "2021-09-10T00:11:46.116Z"
   },
   {
    "duration": 529,
    "start_time": "2021-09-10T00:11:46.731Z"
   },
   {
    "duration": 473,
    "start_time": "2021-09-10T00:11:47.263Z"
   },
   {
    "duration": 674,
    "start_time": "2021-09-10T00:11:47.738Z"
   },
   {
    "duration": 46,
    "start_time": "2021-09-10T00:11:48.415Z"
   },
   {
    "duration": 30,
    "start_time": "2021-09-10T00:11:48.463Z"
   },
   {
    "duration": 113,
    "start_time": "2021-09-10T00:11:48.495Z"
   },
   {
    "duration": 368,
    "start_time": "2021-09-10T00:11:48.611Z"
   },
   {
    "duration": 25,
    "start_time": "2021-09-10T00:11:48.981Z"
   },
   {
    "duration": 46,
    "start_time": "2021-09-10T00:11:49.008Z"
   },
   {
    "duration": 7,
    "start_time": "2021-09-10T00:11:49.056Z"
   },
   {
    "duration": 466,
    "start_time": "2021-09-10T00:11:49.065Z"
   },
   {
    "duration": 1529,
    "start_time": "2021-09-10T00:11:49.534Z"
   },
   {
    "duration": 377,
    "start_time": "2021-09-10T00:11:51.066Z"
   },
   {
    "duration": 380,
    "start_time": "2021-09-10T00:11:51.445Z"
   },
   {
    "duration": 378,
    "start_time": "2021-09-10T00:11:51.828Z"
   },
   {
    "duration": 846,
    "start_time": "2021-09-10T00:11:52.208Z"
   },
   {
    "duration": 967,
    "start_time": "2021-09-10T00:11:53.057Z"
   },
   {
    "duration": 1003,
    "start_time": "2021-09-10T00:11:54.026Z"
   },
   {
    "duration": 26,
    "start_time": "2021-09-10T00:11:55.031Z"
   },
   {
    "duration": 6,
    "start_time": "2021-09-10T00:11:55.059Z"
   },
   {
    "duration": 18,
    "start_time": "2021-09-10T00:11:55.067Z"
   },
   {
    "duration": 39,
    "start_time": "2021-09-10T00:11:55.088Z"
   },
   {
    "duration": 18,
    "start_time": "2021-09-10T00:11:55.130Z"
   },
   {
    "duration": 1599,
    "start_time": "2021-09-10T11:22:07.343Z"
   },
   {
    "duration": 33,
    "start_time": "2021-09-10T11:22:08.945Z"
   },
   {
    "duration": 14,
    "start_time": "2021-09-10T11:22:08.981Z"
   },
   {
    "duration": 37,
    "start_time": "2021-09-10T11:22:08.998Z"
   },
   {
    "duration": 48,
    "start_time": "2021-09-10T11:22:09.038Z"
   },
   {
    "duration": 7,
    "start_time": "2021-09-10T11:22:09.088Z"
   },
   {
    "duration": 20,
    "start_time": "2021-09-10T11:22:09.098Z"
   },
   {
    "duration": 48,
    "start_time": "2021-09-10T11:22:09.122Z"
   },
   {
    "duration": 21,
    "start_time": "2021-09-10T11:22:09.174Z"
   },
   {
    "duration": 8,
    "start_time": "2021-09-10T11:22:09.198Z"
   },
   {
    "duration": 22,
    "start_time": "2021-09-10T11:22:09.209Z"
   },
   {
    "duration": 45,
    "start_time": "2021-09-10T11:22:09.233Z"
   },
   {
    "duration": 6,
    "start_time": "2021-09-10T11:22:09.280Z"
   },
   {
    "duration": 9,
    "start_time": "2021-09-10T11:22:09.289Z"
   },
   {
    "duration": 39,
    "start_time": "2021-09-10T11:22:09.300Z"
   },
   {
    "duration": 41,
    "start_time": "2021-09-10T11:22:09.365Z"
   },
   {
    "duration": 10,
    "start_time": "2021-09-10T11:22:09.408Z"
   },
   {
    "duration": 12,
    "start_time": "2021-09-10T11:22:09.421Z"
   },
   {
    "duration": 9,
    "start_time": "2021-09-10T11:22:09.467Z"
   },
   {
    "duration": 29,
    "start_time": "2021-09-10T11:22:09.479Z"
   },
   {
    "duration": 71,
    "start_time": "2021-09-10T11:22:09.511Z"
   },
   {
    "duration": 14,
    "start_time": "2021-09-10T11:22:09.584Z"
   },
   {
    "duration": 18,
    "start_time": "2021-09-10T11:22:09.606Z"
   },
   {
    "duration": 60,
    "start_time": "2021-09-10T11:22:09.627Z"
   },
   {
    "duration": 23,
    "start_time": "2021-09-10T11:22:09.690Z"
   },
   {
    "duration": 587,
    "start_time": "2021-09-10T11:22:09.715Z"
   },
   {
    "duration": 522,
    "start_time": "2021-09-10T11:22:10.304Z"
   },
   {
    "duration": 490,
    "start_time": "2021-09-10T11:22:10.829Z"
   },
   {
    "duration": 685,
    "start_time": "2021-09-10T11:22:11.321Z"
   },
   {
    "duration": 26,
    "start_time": "2021-09-10T11:22:12.008Z"
   },
   {
    "duration": 48,
    "start_time": "2021-09-10T11:22:12.037Z"
   },
   {
    "duration": 103,
    "start_time": "2021-09-10T11:22:12.088Z"
   },
   {
    "duration": 412,
    "start_time": "2021-09-10T11:22:12.194Z"
   },
   {
    "duration": 25,
    "start_time": "2021-09-10T11:22:12.608Z"
   },
   {
    "duration": 42,
    "start_time": "2021-09-10T11:22:12.636Z"
   },
   {
    "duration": 7,
    "start_time": "2021-09-10T11:22:12.680Z"
   },
   {
    "duration": 489,
    "start_time": "2021-09-10T11:22:12.689Z"
   },
   {
    "duration": 1446,
    "start_time": "2021-09-10T11:22:13.181Z"
   },
   {
    "duration": 396,
    "start_time": "2021-09-10T11:22:14.629Z"
   },
   {
    "duration": 383,
    "start_time": "2021-09-10T11:22:15.028Z"
   },
   {
    "duration": 363,
    "start_time": "2021-09-10T11:22:15.414Z"
   },
   {
    "duration": 843,
    "start_time": "2021-09-10T11:22:15.779Z"
   },
   {
    "duration": 930,
    "start_time": "2021-09-10T11:22:16.624Z"
   },
   {
    "duration": 911,
    "start_time": "2021-09-10T11:22:17.557Z"
   },
   {
    "duration": 13,
    "start_time": "2021-09-10T11:22:18.470Z"
   },
   {
    "duration": 8,
    "start_time": "2021-09-10T11:22:18.485Z"
   },
   {
    "duration": 11,
    "start_time": "2021-09-10T11:22:18.495Z"
   },
   {
    "duration": 18,
    "start_time": "2021-09-10T11:22:18.509Z"
   },
   {
    "duration": 43,
    "start_time": "2021-09-10T11:22:18.529Z"
   }
  ],
  "kernelspec": {
   "display_name": "Python 3",
   "language": "python",
   "name": "python3"
  },
  "language_info": {
   "codemirror_mode": {
    "name": "ipython",
    "version": 3
   },
   "file_extension": ".py",
   "mimetype": "text/x-python",
   "name": "python",
   "nbconvert_exporter": "python",
   "pygments_lexer": "ipython3",
   "version": "3.8.8"
  },
  "toc": {
   "base_numbering": 1,
   "nav_menu": {
    "height": "190px",
    "width": "432px"
   },
   "number_sections": true,
   "sideBar": true,
   "skip_h1_title": true,
   "title_cell": "Table of Contents",
   "title_sidebar": "Contents",
   "toc_cell": false,
   "toc_position": {},
   "toc_section_display": true,
   "toc_window_display": false
  }
 },
 "nbformat": 4,
 "nbformat_minor": 2
}
