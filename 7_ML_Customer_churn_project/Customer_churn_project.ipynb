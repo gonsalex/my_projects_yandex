{
 "cells": [
  {
   "cell_type": "markdown",
   "metadata": {
    "toc": true
   },
   "source": [
    "<h1>Содержание<span class=\"tocSkip\"></span></h1>\n",
    "<div class=\"toc\"><ul class=\"toc-item\"><li><span><a href=\"#Подготовка-данных\" data-toc-modified-id=\"Подготовка-данных-1\"><span class=\"toc-item-num\">1&nbsp;&nbsp;</span>Подготовка данных</a></span></li><li><span><a href=\"#Исследование-задачи\" data-toc-modified-id=\"Исследование-задачи-2\"><span class=\"toc-item-num\">2&nbsp;&nbsp;</span>Исследование задачи</a></span></li><li><span><a href=\"#Борьба-с-дисбалансом\" data-toc-modified-id=\"Борьба-с-дисбалансом-3\"><span class=\"toc-item-num\">3&nbsp;&nbsp;</span>Борьба с дисбалансом</a></span></li><li><span><a href=\"#Тестирование-модели\" data-toc-modified-id=\"Тестирование-модели-4\"><span class=\"toc-item-num\">4&nbsp;&nbsp;</span>Тестирование модели</a></span></li><li><span><a href=\"#Заключение\" data-toc-modified-id=\"Заключение-5\"><span class=\"toc-item-num\">5&nbsp;&nbsp;</span>Заключение</a></span></li><li><span><a href=\"#Чек-лист-готовности-проекта\" data-toc-modified-id=\"Чек-лист-готовности-проекта-6\"><span class=\"toc-item-num\">6&nbsp;&nbsp;</span>Чек-лист готовности проекта</a></span></li></ul></div>"
   ]
  },
  {
   "cell_type": "markdown",
   "metadata": {},
   "source": [
    "# Отток клиентов"
   ]
  },
  {
   "cell_type": "markdown",
   "metadata": {},
   "source": [
    "Из банка стали уходить клиенты. Каждый месяц. Немного, но заметно. Банковские маркетологи посчитали: сохранять текущих клиентов дешевле, чем привлекать новых.\n",
    "\n",
    "Нужно спрогнозировать, уйдёт клиент из банка в ближайшее время или нет. Вам предоставлены исторические данные о поведении клиентов и расторжении договоров с банком. \n",
    "\n",
    "Постройте модель с предельно большим значением *F1*-меры. Чтобы сдать проект успешно, нужно довести метрику до 0.59. Проверьте *F1*-меру на тестовой выборке самостоятельно.\n",
    "\n",
    "Дополнительно измеряйте *AUC-ROC*, сравнивайте её значение с *F1*-мерой.\n",
    "\n",
    "Источник данных: [https://www.kaggle.com/barelydedicated/bank-customer-churn-modeling](https://www.kaggle.com/barelydedicated/bank-customer-churn-modeling)"
   ]
  },
  {
   "cell_type": "markdown",
   "metadata": {},
   "source": [
    "## Подготовка данных"
   ]
  },
  {
   "cell_type": "code",
   "execution_count": 1,
   "metadata": {},
   "outputs": [],
   "source": [
    "import pandas as pd\n",
    "import numpy as np\n",
    "import matplotlib.pyplot as plt\n",
    "from sklearn.model_selection import train_test_split\n",
    "from sklearn.preprocessing import OrdinalEncoder\n",
    "from sklearn.preprocessing import StandardScaler\n",
    "from sklearn.linear_model import LogisticRegression\n",
    "from sklearn.tree import DecisionTreeClassifier\n",
    "from sklearn.ensemble import RandomForestClassifier\n",
    "from sklearn.metrics import accuracy_score\n",
    "from sklearn.metrics import confusion_matrix\n",
    "from sklearn.metrics import recall_score\n",
    "from sklearn.metrics import precision_score\n",
    "from sklearn.metrics import f1_score\n",
    "from sklearn.metrics import roc_auc_score\n",
    "from sklearn.metrics import roc_curve\n",
    "from sklearn.utils import shuffle"
   ]
  },
  {
   "cell_type": "markdown",
   "metadata": {},
   "source": [
    "Загрузим и посмотрим на данные"
   ]
  },
  {
   "cell_type": "code",
   "execution_count": 2,
   "metadata": {
    "scrolled": true
   },
   "outputs": [
    {
     "name": "stdout",
     "output_type": "stream",
     "text": [
      "<class 'pandas.core.frame.DataFrame'>\n",
      "RangeIndex: 10000 entries, 0 to 9999\n",
      "Data columns (total 14 columns):\n",
      "RowNumber          10000 non-null int64\n",
      "CustomerId         10000 non-null int64\n",
      "Surname            10000 non-null object\n",
      "CreditScore        10000 non-null int64\n",
      "Geography          10000 non-null object\n",
      "Gender             10000 non-null object\n",
      "Age                10000 non-null int64\n",
      "Tenure             9091 non-null float64\n",
      "Balance            10000 non-null float64\n",
      "NumOfProducts      10000 non-null int64\n",
      "HasCrCard          10000 non-null int64\n",
      "IsActiveMember     10000 non-null int64\n",
      "EstimatedSalary    10000 non-null float64\n",
      "Exited             10000 non-null int64\n",
      "dtypes: float64(3), int64(8), object(3)\n",
      "memory usage: 1.1+ MB\n"
     ]
    },
    {
     "data": {
      "text/html": [
       "<div>\n",
       "<style scoped>\n",
       "    .dataframe tbody tr th:only-of-type {\n",
       "        vertical-align: middle;\n",
       "    }\n",
       "\n",
       "    .dataframe tbody tr th {\n",
       "        vertical-align: top;\n",
       "    }\n",
       "\n",
       "    .dataframe thead th {\n",
       "        text-align: right;\n",
       "    }\n",
       "</style>\n",
       "<table border=\"1\" class=\"dataframe\">\n",
       "  <thead>\n",
       "    <tr style=\"text-align: right;\">\n",
       "      <th></th>\n",
       "      <th>RowNumber</th>\n",
       "      <th>CustomerId</th>\n",
       "      <th>Surname</th>\n",
       "      <th>CreditScore</th>\n",
       "      <th>Geography</th>\n",
       "      <th>Gender</th>\n",
       "      <th>Age</th>\n",
       "      <th>Tenure</th>\n",
       "      <th>Balance</th>\n",
       "      <th>NumOfProducts</th>\n",
       "      <th>HasCrCard</th>\n",
       "      <th>IsActiveMember</th>\n",
       "      <th>EstimatedSalary</th>\n",
       "      <th>Exited</th>\n",
       "    </tr>\n",
       "  </thead>\n",
       "  <tbody>\n",
       "    <tr>\n",
       "      <td>0</td>\n",
       "      <td>1</td>\n",
       "      <td>15634602</td>\n",
       "      <td>Hargrave</td>\n",
       "      <td>619</td>\n",
       "      <td>France</td>\n",
       "      <td>Female</td>\n",
       "      <td>42</td>\n",
       "      <td>2.0</td>\n",
       "      <td>0.00</td>\n",
       "      <td>1</td>\n",
       "      <td>1</td>\n",
       "      <td>1</td>\n",
       "      <td>101348.88</td>\n",
       "      <td>1</td>\n",
       "    </tr>\n",
       "    <tr>\n",
       "      <td>1</td>\n",
       "      <td>2</td>\n",
       "      <td>15647311</td>\n",
       "      <td>Hill</td>\n",
       "      <td>608</td>\n",
       "      <td>Spain</td>\n",
       "      <td>Female</td>\n",
       "      <td>41</td>\n",
       "      <td>1.0</td>\n",
       "      <td>83807.86</td>\n",
       "      <td>1</td>\n",
       "      <td>0</td>\n",
       "      <td>1</td>\n",
       "      <td>112542.58</td>\n",
       "      <td>0</td>\n",
       "    </tr>\n",
       "    <tr>\n",
       "      <td>2</td>\n",
       "      <td>3</td>\n",
       "      <td>15619304</td>\n",
       "      <td>Onio</td>\n",
       "      <td>502</td>\n",
       "      <td>France</td>\n",
       "      <td>Female</td>\n",
       "      <td>42</td>\n",
       "      <td>8.0</td>\n",
       "      <td>159660.80</td>\n",
       "      <td>3</td>\n",
       "      <td>1</td>\n",
       "      <td>0</td>\n",
       "      <td>113931.57</td>\n",
       "      <td>1</td>\n",
       "    </tr>\n",
       "    <tr>\n",
       "      <td>3</td>\n",
       "      <td>4</td>\n",
       "      <td>15701354</td>\n",
       "      <td>Boni</td>\n",
       "      <td>699</td>\n",
       "      <td>France</td>\n",
       "      <td>Female</td>\n",
       "      <td>39</td>\n",
       "      <td>1.0</td>\n",
       "      <td>0.00</td>\n",
       "      <td>2</td>\n",
       "      <td>0</td>\n",
       "      <td>0</td>\n",
       "      <td>93826.63</td>\n",
       "      <td>0</td>\n",
       "    </tr>\n",
       "    <tr>\n",
       "      <td>4</td>\n",
       "      <td>5</td>\n",
       "      <td>15737888</td>\n",
       "      <td>Mitchell</td>\n",
       "      <td>850</td>\n",
       "      <td>Spain</td>\n",
       "      <td>Female</td>\n",
       "      <td>43</td>\n",
       "      <td>2.0</td>\n",
       "      <td>125510.82</td>\n",
       "      <td>1</td>\n",
       "      <td>1</td>\n",
       "      <td>1</td>\n",
       "      <td>79084.10</td>\n",
       "      <td>0</td>\n",
       "    </tr>\n",
       "  </tbody>\n",
       "</table>\n",
       "</div>"
      ],
      "text/plain": [
       "   RowNumber  CustomerId   Surname  CreditScore Geography  Gender  Age  \\\n",
       "0          1    15634602  Hargrave          619    France  Female   42   \n",
       "1          2    15647311      Hill          608     Spain  Female   41   \n",
       "2          3    15619304      Onio          502    France  Female   42   \n",
       "3          4    15701354      Boni          699    France  Female   39   \n",
       "4          5    15737888  Mitchell          850     Spain  Female   43   \n",
       "\n",
       "   Tenure    Balance  NumOfProducts  HasCrCard  IsActiveMember  \\\n",
       "0     2.0       0.00              1          1               1   \n",
       "1     1.0   83807.86              1          0               1   \n",
       "2     8.0  159660.80              3          1               0   \n",
       "3     1.0       0.00              2          0               0   \n",
       "4     2.0  125510.82              1          1               1   \n",
       "\n",
       "   EstimatedSalary  Exited  \n",
       "0        101348.88       1  \n",
       "1        112542.58       0  \n",
       "2        113931.57       1  \n",
       "3         93826.63       0  \n",
       "4         79084.10       0  "
      ]
     },
     "metadata": {},
     "output_type": "display_data"
    }
   ],
   "source": [
    "data = pd.read_csv('/datasets/Churn.csv')\n",
    "data.info()\n",
    "display(data.head())"
   ]
  },
  {
   "cell_type": "markdown",
   "metadata": {},
   "source": [
    "Проверим на дубликаты"
   ]
  },
  {
   "cell_type": "code",
   "execution_count": 3,
   "metadata": {},
   "outputs": [
    {
     "name": "stdout",
     "output_type": "stream",
     "text": [
      "Количество дубликатов:  0\n"
     ]
    }
   ],
   "source": [
    "print('Количество дубликатов: ', data.duplicated().sum())"
   ]
  },
  {
   "cell_type": "markdown",
   "metadata": {},
   "source": [
    "Оценим пропуски"
   ]
  },
  {
   "cell_type": "code",
   "execution_count": 4,
   "metadata": {},
   "outputs": [
    {
     "data": {
      "text/plain": [
       "RowNumber            0\n",
       "CustomerId           0\n",
       "Surname              0\n",
       "CreditScore          0\n",
       "Geography            0\n",
       "Gender               0\n",
       "Age                  0\n",
       "Tenure             909\n",
       "Balance              0\n",
       "NumOfProducts        0\n",
       "HasCrCard            0\n",
       "IsActiveMember       0\n",
       "EstimatedSalary      0\n",
       "Exited               0\n",
       "dtype: int64"
      ]
     },
     "execution_count": 4,
     "metadata": {},
     "output_type": "execute_result"
    }
   ],
   "source": [
    "data.isna().sum()"
   ]
  },
  {
   "cell_type": "markdown",
   "metadata": {},
   "source": [
    "В категории Tenure 909 пропусков, здесь хранятся данные сколько лет человек является клиентом банка. Вероятно эти данные будут важны для нашего исследования. Посмотрим на их распределение."
   ]
  },
  {
   "cell_type": "code",
   "execution_count": 5,
   "metadata": {},
   "outputs": [
    {
     "data": {
      "text/plain": [
       "<matplotlib.axes._subplots.AxesSubplot at 0x7f0885d1a510>"
      ]
     },
     "execution_count": 5,
     "metadata": {},
     "output_type": "execute_result"
    },
    {
     "data": {
      "image/png": "[encoded data removed]",
      "text/plain": [
       "<Figure size 432x288 with 1 Axes>"
      ]
     },
     "metadata": {
      "needs_background": "light"
     },
     "output_type": "display_data"
    }
   ],
   "source": [
    "data.Tenure.value_counts().plot(kind='bar')"
   ]
  },
  {
   "cell_type": "markdown",
   "metadata": {},
   "source": [
    "Заполним пропуски новым значением -1. Таким образом, мы сохраим данные о пропусках, что тоже может быть ценной информацией. "
   ]
  },
  {
   "cell_type": "code",
   "execution_count": 6,
   "metadata": {},
   "outputs": [
    {
     "data": {
      "text/plain": [
       "0"
      ]
     },
     "execution_count": 6,
     "metadata": {},
     "output_type": "execute_result"
    }
   ],
   "source": [
    "data['Tenure'] = data['Tenure'].fillna(-1)\n",
    "data.Tenure.isna().sum()"
   ]
  },
  {
   "cell_type": "markdown",
   "metadata": {},
   "source": [
    "Выборка содержит категориальные и численные данные. Целевой признак Exited (факт ухода клиента) также относится к категориальному (значения 0 и 1), будет решаться задача бинарной классификации.\n",
    "\n",
    "Некторые столбцы содержат данные которые вряд ли имеют связь с фактом оттока клиента из банка, в частоности это: RowNumber — индекс строки в данных, CustomerId — уникальный идентификатор клиента, Surname — фамилия. Удалим эти столбцы."
   ]
  },
  {
   "cell_type": "code",
   "execution_count": 7,
   "metadata": {},
   "outputs": [
    {
     "name": "stdout",
     "output_type": "stream",
     "text": [
      "<class 'pandas.core.frame.DataFrame'>\n",
      "RangeIndex: 10000 entries, 0 to 9999\n",
      "Data columns (total 11 columns):\n",
      "CreditScore        10000 non-null int64\n",
      "Geography          10000 non-null object\n",
      "Gender             10000 non-null object\n",
      "Age                10000 non-null int64\n",
      "Tenure             10000 non-null float64\n",
      "Balance            10000 non-null float64\n",
      "NumOfProducts      10000 non-null int64\n",
      "HasCrCard          10000 non-null int64\n",
      "IsActiveMember     10000 non-null int64\n",
      "EstimatedSalary    10000 non-null float64\n",
      "Exited             10000 non-null int64\n",
      "dtypes: float64(3), int64(6), object(2)\n",
      "memory usage: 859.5+ KB\n"
     ]
    }
   ],
   "source": [
    "dt_clean = data.drop(['RowNumber', 'CustomerId', 'Surname'], axis=1)\n",
    "dt_clean.info()"
   ]
  },
  {
   "cell_type": "markdown",
   "metadata": {},
   "source": [
    "Посмотрим на уникальность и распределение данных в строковых столбцах Geography и Gender"
   ]
  },
  {
   "cell_type": "code",
   "execution_count": 8,
   "metadata": {},
   "outputs": [
    {
     "data": {
      "text/plain": [
       "France     5014\n",
       "Germany    2509\n",
       "Spain      2477\n",
       "Name: Geography, dtype: int64"
      ]
     },
     "metadata": {},
     "output_type": "display_data"
    },
    {
     "data": {
      "text/plain": [
       "Male      5457\n",
       "Female    4543\n",
       "Name: Gender, dtype: int64"
      ]
     },
     "metadata": {},
     "output_type": "display_data"
    }
   ],
   "source": [
    "display(dt_clean.Geography.value_counts())\n",
    "display(dt_clean.Gender.value_counts())"
   ]
  },
  {
   "cell_type": "markdown",
   "metadata": {},
   "source": [
    "Количество уникальных значений небольшое, при использовании техники One-Hot Encoding для проеобразования категориальных данных таблица увеличится незначительно. На ней и остановимся - она работает со всеми моделями. Чтобы не попасть в дамми-ловушку, установим аргумент drop_first=True"
   ]
  },
  {
   "cell_type": "code",
   "execution_count": 9,
   "metadata": {},
   "outputs": [
    {
     "data": {
      "text/html": [
       "<div>\n",
       "<style scoped>\n",
       "    .dataframe tbody tr th:only-of-type {\n",
       "        vertical-align: middle;\n",
       "    }\n",
       "\n",
       "    .dataframe tbody tr th {\n",
       "        vertical-align: top;\n",
       "    }\n",
       "\n",
       "    .dataframe thead th {\n",
       "        text-align: right;\n",
       "    }\n",
       "</style>\n",
       "<table border=\"1\" class=\"dataframe\">\n",
       "  <thead>\n",
       "    <tr style=\"text-align: right;\">\n",
       "      <th></th>\n",
       "      <th>CreditScore</th>\n",
       "      <th>Age</th>\n",
       "      <th>Tenure</th>\n",
       "      <th>Balance</th>\n",
       "      <th>NumOfProducts</th>\n",
       "      <th>HasCrCard</th>\n",
       "      <th>IsActiveMember</th>\n",
       "      <th>EstimatedSalary</th>\n",
       "      <th>Exited</th>\n",
       "      <th>Geography_Germany</th>\n",
       "      <th>Geography_Spain</th>\n",
       "      <th>Gender_Male</th>\n",
       "    </tr>\n",
       "  </thead>\n",
       "  <tbody>\n",
       "    <tr>\n",
       "      <td>0</td>\n",
       "      <td>619</td>\n",
       "      <td>42</td>\n",
       "      <td>2.0</td>\n",
       "      <td>0.00</td>\n",
       "      <td>1</td>\n",
       "      <td>1</td>\n",
       "      <td>1</td>\n",
       "      <td>101348.88</td>\n",
       "      <td>1</td>\n",
       "      <td>0</td>\n",
       "      <td>0</td>\n",
       "      <td>0</td>\n",
       "    </tr>\n",
       "    <tr>\n",
       "      <td>1</td>\n",
       "      <td>608</td>\n",
       "      <td>41</td>\n",
       "      <td>1.0</td>\n",
       "      <td>83807.86</td>\n",
       "      <td>1</td>\n",
       "      <td>0</td>\n",
       "      <td>1</td>\n",
       "      <td>112542.58</td>\n",
       "      <td>0</td>\n",
       "      <td>0</td>\n",
       "      <td>1</td>\n",
       "      <td>0</td>\n",
       "    </tr>\n",
       "    <tr>\n",
       "      <td>2</td>\n",
       "      <td>502</td>\n",
       "      <td>42</td>\n",
       "      <td>8.0</td>\n",
       "      <td>159660.80</td>\n",
       "      <td>3</td>\n",
       "      <td>1</td>\n",
       "      <td>0</td>\n",
       "      <td>113931.57</td>\n",
       "      <td>1</td>\n",
       "      <td>0</td>\n",
       "      <td>0</td>\n",
       "      <td>0</td>\n",
       "    </tr>\n",
       "    <tr>\n",
       "      <td>3</td>\n",
       "      <td>699</td>\n",
       "      <td>39</td>\n",
       "      <td>1.0</td>\n",
       "      <td>0.00</td>\n",
       "      <td>2</td>\n",
       "      <td>0</td>\n",
       "      <td>0</td>\n",
       "      <td>93826.63</td>\n",
       "      <td>0</td>\n",
       "      <td>0</td>\n",
       "      <td>0</td>\n",
       "      <td>0</td>\n",
       "    </tr>\n",
       "    <tr>\n",
       "      <td>4</td>\n",
       "      <td>850</td>\n",
       "      <td>43</td>\n",
       "      <td>2.0</td>\n",
       "      <td>125510.82</td>\n",
       "      <td>1</td>\n",
       "      <td>1</td>\n",
       "      <td>1</td>\n",
       "      <td>79084.10</td>\n",
       "      <td>0</td>\n",
       "      <td>0</td>\n",
       "      <td>1</td>\n",
       "      <td>0</td>\n",
       "    </tr>\n",
       "  </tbody>\n",
       "</table>\n",
       "</div>"
      ],
      "text/plain": [
       "   CreditScore  Age  Tenure    Balance  NumOfProducts  HasCrCard  \\\n",
       "0          619   42     2.0       0.00              1          1   \n",
       "1          608   41     1.0   83807.86              1          0   \n",
       "2          502   42     8.0  159660.80              3          1   \n",
       "3          699   39     1.0       0.00              2          0   \n",
       "4          850   43     2.0  125510.82              1          1   \n",
       "\n",
       "   IsActiveMember  EstimatedSalary  Exited  Geography_Germany  \\\n",
       "0               1        101348.88       1                  0   \n",
       "1               1        112542.58       0                  0   \n",
       "2               0        113931.57       1                  0   \n",
       "3               0         93826.63       0                  0   \n",
       "4               1         79084.10       0                  0   \n",
       "\n",
       "   Geography_Spain  Gender_Male  \n",
       "0                0            0  \n",
       "1                1            0  \n",
       "2                0            0  \n",
       "3                0            0  \n",
       "4                1            0  "
      ]
     },
     "metadata": {},
     "output_type": "display_data"
    }
   ],
   "source": [
    "data_ohe = pd.get_dummies(dt_clean, drop_first=True)\n",
    "display(data_ohe.head())"
   ]
  },
  {
   "cell_type": "code",
   "execution_count": 10,
   "metadata": {},
   "outputs": [
    {
     "data": {
      "text/plain": [
       "(10000, 12)"
      ]
     },
     "execution_count": 10,
     "metadata": {},
     "output_type": "execute_result"
    }
   ],
   "source": [
    "data_ohe.shape"
   ]
  },
  {
   "cell_type": "markdown",
   "metadata": {},
   "source": [
    "Разобъем исходные данные на 3 выборки, обучающую, валидационную и тестовую, в соотношении 60:20:20 "
   ]
  },
  {
   "cell_type": "code",
   "execution_count": 11,
   "metadata": {},
   "outputs": [
    {
     "name": "stdout",
     "output_type": "stream",
     "text": [
      "(6000, 11)\n",
      "(2000, 11)\n",
      "(2000, 11)\n"
     ]
    }
   ],
   "source": [
    "data_train_valid, data_test = train_test_split(\n",
    "                        data_ohe, test_size=0.20, random_state=12345)\n",
    "features_test = data_test.drop(['Exited'], axis=1)\n",
    "target_test = data_test['Exited']\n",
    "\n",
    "target = data_train_valid['Exited']\n",
    "features = data_train_valid.drop('Exited', axis=1)\n",
    "features_train, features_valid, target_train, target_valid = train_test_split(\n",
    "    features, target, test_size=0.25, random_state=12345)\n",
    "\n",
    "print(features_train.shape)\n",
    "print(features_valid.shape)\n",
    "print(features_test.shape)"
   ]
  },
  {
   "cell_type": "markdown",
   "metadata": {},
   "source": [
    "Данные разделили. \n",
    "\n",
    "Чтобы не потерять значимость численных признаков из-за разности масштабов, стандартизируем их. Численные признаки у нас в столбцах: CreditScore, Age, Tenure, Balance, NumOfProducts, EstimatedSalary"
   ]
  },
  {
   "cell_type": "code",
   "execution_count": 12,
   "metadata": {},
   "outputs": [
    {
     "data": {
      "text/html": [
       "<div>\n",
       "<style scoped>\n",
       "    .dataframe tbody tr th:only-of-type {\n",
       "        vertical-align: middle;\n",
       "    }\n",
       "\n",
       "    .dataframe tbody tr th {\n",
       "        vertical-align: top;\n",
       "    }\n",
       "\n",
       "    .dataframe thead th {\n",
       "        text-align: right;\n",
       "    }\n",
       "</style>\n",
       "<table border=\"1\" class=\"dataframe\">\n",
       "  <thead>\n",
       "    <tr style=\"text-align: right;\">\n",
       "      <th></th>\n",
       "      <th>CreditScore</th>\n",
       "      <th>Age</th>\n",
       "      <th>Tenure</th>\n",
       "      <th>Balance</th>\n",
       "      <th>NumOfProducts</th>\n",
       "      <th>HasCrCard</th>\n",
       "      <th>IsActiveMember</th>\n",
       "      <th>EstimatedSalary</th>\n",
       "      <th>Geography_Germany</th>\n",
       "      <th>Geography_Spain</th>\n",
       "      <th>Gender_Male</th>\n",
       "    </tr>\n",
       "  </thead>\n",
       "  <tbody>\n",
       "    <tr>\n",
       "      <td>492</td>\n",
       "      <td>-0.134048</td>\n",
       "      <td>-0.078068</td>\n",
       "      <td>-0.137323</td>\n",
       "      <td>0.076163</td>\n",
       "      <td>0.816929</td>\n",
       "      <td>0</td>\n",
       "      <td>1</td>\n",
       "      <td>0.331571</td>\n",
       "      <td>0</td>\n",
       "      <td>0</td>\n",
       "      <td>0</td>\n",
       "    </tr>\n",
       "    <tr>\n",
       "      <td>6655</td>\n",
       "      <td>-1.010798</td>\n",
       "      <td>0.494555</td>\n",
       "      <td>-1.661443</td>\n",
       "      <td>0.136391</td>\n",
       "      <td>-0.896909</td>\n",
       "      <td>1</td>\n",
       "      <td>1</td>\n",
       "      <td>-0.727858</td>\n",
       "      <td>0</td>\n",
       "      <td>0</td>\n",
       "      <td>1</td>\n",
       "    </tr>\n",
       "    <tr>\n",
       "      <td>4287</td>\n",
       "      <td>0.639554</td>\n",
       "      <td>1.353490</td>\n",
       "      <td>-1.051795</td>\n",
       "      <td>0.358435</td>\n",
       "      <td>-0.896909</td>\n",
       "      <td>1</td>\n",
       "      <td>1</td>\n",
       "      <td>-0.477006</td>\n",
       "      <td>1</td>\n",
       "      <td>0</td>\n",
       "      <td>1</td>\n",
       "    </tr>\n",
       "    <tr>\n",
       "      <td>42</td>\n",
       "      <td>-0.990168</td>\n",
       "      <td>2.116987</td>\n",
       "      <td>-0.746971</td>\n",
       "      <td>0.651725</td>\n",
       "      <td>-0.896909</td>\n",
       "      <td>1</td>\n",
       "      <td>1</td>\n",
       "      <td>-0.100232</td>\n",
       "      <td>0</td>\n",
       "      <td>0</td>\n",
       "      <td>0</td>\n",
       "    </tr>\n",
       "    <tr>\n",
       "      <td>8178</td>\n",
       "      <td>0.567351</td>\n",
       "      <td>0.685430</td>\n",
       "      <td>0.777149</td>\n",
       "      <td>0.813110</td>\n",
       "      <td>0.816929</td>\n",
       "      <td>1</td>\n",
       "      <td>1</td>\n",
       "      <td>0.801922</td>\n",
       "      <td>0</td>\n",
       "      <td>0</td>\n",
       "      <td>0</td>\n",
       "    </tr>\n",
       "  </tbody>\n",
       "</table>\n",
       "</div>"
      ],
      "text/plain": [
       "      CreditScore       Age    Tenure   Balance  NumOfProducts  HasCrCard  \\\n",
       "492     -0.134048 -0.078068 -0.137323  0.076163       0.816929          0   \n",
       "6655    -1.010798  0.494555 -1.661443  0.136391      -0.896909          1   \n",
       "4287     0.639554  1.353490 -1.051795  0.358435      -0.896909          1   \n",
       "42      -0.990168  2.116987 -0.746971  0.651725      -0.896909          1   \n",
       "8178     0.567351  0.685430  0.777149  0.813110       0.816929          1   \n",
       "\n",
       "      IsActiveMember  EstimatedSalary  Geography_Germany  Geography_Spain  \\\n",
       "492                1         0.331571                  0                0   \n",
       "6655               1        -0.727858                  0                0   \n",
       "4287               1        -0.477006                  1                0   \n",
       "42                 1        -0.100232                  0                0   \n",
       "8178               1         0.801922                  0                0   \n",
       "\n",
       "      Gender_Male  \n",
       "492             0  \n",
       "6655            1  \n",
       "4287            1  \n",
       "42              0  \n",
       "8178            0  "
      ]
     },
     "metadata": {},
     "output_type": "display_data"
    },
    {
     "data": {
      "text/html": [
       "<div>\n",
       "<style scoped>\n",
       "    .dataframe tbody tr th:only-of-type {\n",
       "        vertical-align: middle;\n",
       "    }\n",
       "\n",
       "    .dataframe tbody tr th {\n",
       "        vertical-align: top;\n",
       "    }\n",
       "\n",
       "    .dataframe thead th {\n",
       "        text-align: right;\n",
       "    }\n",
       "</style>\n",
       "<table border=\"1\" class=\"dataframe\">\n",
       "  <thead>\n",
       "    <tr style=\"text-align: right;\">\n",
       "      <th></th>\n",
       "      <th>CreditScore</th>\n",
       "      <th>Age</th>\n",
       "      <th>Tenure</th>\n",
       "      <th>Balance</th>\n",
       "      <th>NumOfProducts</th>\n",
       "      <th>HasCrCard</th>\n",
       "      <th>IsActiveMember</th>\n",
       "      <th>EstimatedSalary</th>\n",
       "      <th>Geography_Germany</th>\n",
       "      <th>Geography_Spain</th>\n",
       "      <th>Gender_Male</th>\n",
       "    </tr>\n",
       "  </thead>\n",
       "  <tbody>\n",
       "    <tr>\n",
       "      <td>2358</td>\n",
       "      <td>0.175393</td>\n",
       "      <td>0.399118</td>\n",
       "      <td>-1.051795</td>\n",
       "      <td>1.385698</td>\n",
       "      <td>-0.896909</td>\n",
       "      <td>0</td>\n",
       "      <td>1</td>\n",
       "      <td>-1.466761</td>\n",
       "      <td>0</td>\n",
       "      <td>0</td>\n",
       "      <td>1</td>\n",
       "    </tr>\n",
       "    <tr>\n",
       "      <td>8463</td>\n",
       "      <td>-1.299609</td>\n",
       "      <td>0.971741</td>\n",
       "      <td>-0.746971</td>\n",
       "      <td>-1.232442</td>\n",
       "      <td>-0.896909</td>\n",
       "      <td>1</td>\n",
       "      <td>0</td>\n",
       "      <td>0.254415</td>\n",
       "      <td>0</td>\n",
       "      <td>1</td>\n",
       "      <td>1</td>\n",
       "    </tr>\n",
       "    <tr>\n",
       "      <td>163</td>\n",
       "      <td>0.711757</td>\n",
       "      <td>-0.268942</td>\n",
       "      <td>-0.746971</td>\n",
       "      <td>-1.232442</td>\n",
       "      <td>0.816929</td>\n",
       "      <td>1</td>\n",
       "      <td>1</td>\n",
       "      <td>0.122863</td>\n",
       "      <td>0</td>\n",
       "      <td>1</td>\n",
       "      <td>0</td>\n",
       "    </tr>\n",
       "    <tr>\n",
       "      <td>3074</td>\n",
       "      <td>-0.391916</td>\n",
       "      <td>0.494555</td>\n",
       "      <td>0.472325</td>\n",
       "      <td>0.672529</td>\n",
       "      <td>-0.896909</td>\n",
       "      <td>1</td>\n",
       "      <td>0</td>\n",
       "      <td>0.585847</td>\n",
       "      <td>1</td>\n",
       "      <td>0</td>\n",
       "      <td>0</td>\n",
       "    </tr>\n",
       "    <tr>\n",
       "      <td>5989</td>\n",
       "      <td>0.165078</td>\n",
       "      <td>1.353490</td>\n",
       "      <td>1.691621</td>\n",
       "      <td>0.536522</td>\n",
       "      <td>-0.896909</td>\n",
       "      <td>0</td>\n",
       "      <td>0</td>\n",
       "      <td>1.462457</td>\n",
       "      <td>0</td>\n",
       "      <td>0</td>\n",
       "      <td>0</td>\n",
       "    </tr>\n",
       "  </tbody>\n",
       "</table>\n",
       "</div>"
      ],
      "text/plain": [
       "      CreditScore       Age    Tenure   Balance  NumOfProducts  HasCrCard  \\\n",
       "2358     0.175393  0.399118 -1.051795  1.385698      -0.896909          0   \n",
       "8463    -1.299609  0.971741 -0.746971 -1.232442      -0.896909          1   \n",
       "163      0.711757 -0.268942 -0.746971 -1.232442       0.816929          1   \n",
       "3074    -0.391916  0.494555  0.472325  0.672529      -0.896909          1   \n",
       "5989     0.165078  1.353490  1.691621  0.536522      -0.896909          0   \n",
       "\n",
       "      IsActiveMember  EstimatedSalary  Geography_Germany  Geography_Spain  \\\n",
       "2358               1        -1.466761                  0                0   \n",
       "8463               0         0.254415                  0                1   \n",
       "163                1         0.122863                  0                1   \n",
       "3074               0         0.585847                  1                0   \n",
       "5989               0         1.462457                  0                0   \n",
       "\n",
       "      Gender_Male  \n",
       "2358            1  \n",
       "8463            1  \n",
       "163             0  \n",
       "3074            0  \n",
       "5989            0  "
      ]
     },
     "metadata": {},
     "output_type": "display_data"
    },
    {
     "data": {
      "text/html": [
       "<div>\n",
       "<style scoped>\n",
       "    .dataframe tbody tr th:only-of-type {\n",
       "        vertical-align: middle;\n",
       "    }\n",
       "\n",
       "    .dataframe tbody tr th {\n",
       "        vertical-align: top;\n",
       "    }\n",
       "\n",
       "    .dataframe thead th {\n",
       "        text-align: right;\n",
       "    }\n",
       "</style>\n",
       "<table border=\"1\" class=\"dataframe\">\n",
       "  <thead>\n",
       "    <tr style=\"text-align: right;\">\n",
       "      <th></th>\n",
       "      <th>CreditScore</th>\n",
       "      <th>Age</th>\n",
       "      <th>Tenure</th>\n",
       "      <th>Balance</th>\n",
       "      <th>NumOfProducts</th>\n",
       "      <th>HasCrCard</th>\n",
       "      <th>IsActiveMember</th>\n",
       "      <th>EstimatedSalary</th>\n",
       "      <th>Geography_Germany</th>\n",
       "      <th>Geography_Spain</th>\n",
       "      <th>Gender_Male</th>\n",
       "    </tr>\n",
       "  </thead>\n",
       "  <tbody>\n",
       "    <tr>\n",
       "      <td>7867</td>\n",
       "      <td>-0.123733</td>\n",
       "      <td>0.685430</td>\n",
       "      <td>-0.442147</td>\n",
       "      <td>-1.232442</td>\n",
       "      <td>-0.896909</td>\n",
       "      <td>1</td>\n",
       "      <td>1</td>\n",
       "      <td>0.980212</td>\n",
       "      <td>0</td>\n",
       "      <td>1</td>\n",
       "      <td>0</td>\n",
       "    </tr>\n",
       "    <tr>\n",
       "      <td>1402</td>\n",
       "      <td>1.083087</td>\n",
       "      <td>-0.937002</td>\n",
       "      <td>1.081973</td>\n",
       "      <td>0.858518</td>\n",
       "      <td>-0.896909</td>\n",
       "      <td>1</td>\n",
       "      <td>0</td>\n",
       "      <td>-0.390486</td>\n",
       "      <td>0</td>\n",
       "      <td>0</td>\n",
       "      <td>1</td>\n",
       "    </tr>\n",
       "    <tr>\n",
       "      <td>8606</td>\n",
       "      <td>1.598822</td>\n",
       "      <td>0.303681</td>\n",
       "      <td>0.167501</td>\n",
       "      <td>-1.232442</td>\n",
       "      <td>0.816929</td>\n",
       "      <td>1</td>\n",
       "      <td>1</td>\n",
       "      <td>-0.435169</td>\n",
       "      <td>0</td>\n",
       "      <td>1</td>\n",
       "      <td>1</td>\n",
       "    </tr>\n",
       "    <tr>\n",
       "      <td>8885</td>\n",
       "      <td>0.165078</td>\n",
       "      <td>0.589993</td>\n",
       "      <td>-0.137323</td>\n",
       "      <td>0.412100</td>\n",
       "      <td>0.816929</td>\n",
       "      <td>1</td>\n",
       "      <td>1</td>\n",
       "      <td>1.017079</td>\n",
       "      <td>0</td>\n",
       "      <td>1</td>\n",
       "      <td>1</td>\n",
       "    </tr>\n",
       "    <tr>\n",
       "      <td>6494</td>\n",
       "      <td>0.484834</td>\n",
       "      <td>-1.032439</td>\n",
       "      <td>0.777149</td>\n",
       "      <td>-1.232442</td>\n",
       "      <td>0.816929</td>\n",
       "      <td>1</td>\n",
       "      <td>1</td>\n",
       "      <td>-1.343558</td>\n",
       "      <td>0</td>\n",
       "      <td>0</td>\n",
       "      <td>1</td>\n",
       "    </tr>\n",
       "  </tbody>\n",
       "</table>\n",
       "</div>"
      ],
      "text/plain": [
       "      CreditScore       Age    Tenure   Balance  NumOfProducts  HasCrCard  \\\n",
       "7867    -0.123733  0.685430 -0.442147 -1.232442      -0.896909          1   \n",
       "1402     1.083087 -0.937002  1.081973  0.858518      -0.896909          1   \n",
       "8606     1.598822  0.303681  0.167501 -1.232442       0.816929          1   \n",
       "8885     0.165078  0.589993 -0.137323  0.412100       0.816929          1   \n",
       "6494     0.484834 -1.032439  0.777149 -1.232442       0.816929          1   \n",
       "\n",
       "      IsActiveMember  EstimatedSalary  Geography_Germany  Geography_Spain  \\\n",
       "7867               1         0.980212                  0                1   \n",
       "1402               0        -0.390486                  0                0   \n",
       "8606               1        -0.435169                  0                1   \n",
       "8885               1         1.017079                  0                1   \n",
       "6494               1        -1.343558                  0                0   \n",
       "\n",
       "      Gender_Male  \n",
       "7867            0  \n",
       "1402            1  \n",
       "8606            1  \n",
       "8885            1  \n",
       "6494            1  "
      ]
     },
     "metadata": {},
     "output_type": "display_data"
    }
   ],
   "source": [
    "pd.options.mode.chained_assignment = None\n",
    "numeric = ['CreditScore', 'Age', 'Tenure', 'Balance', 'NumOfProducts', 'EstimatedSalary']\n",
    "scaler = StandardScaler()\n",
    "scaler.fit(features_train[numeric]) \n",
    "features_train[numeric] = scaler.transform(features_train[numeric])\n",
    "features_valid[numeric] = scaler.transform(features_valid[numeric])\n",
    "features_test[numeric] = scaler.transform(features_test[numeric])\n",
    "\n",
    "display(features_train.head())\n",
    "display(features_valid.head())\n",
    "display(features_test.head())"
   ]
  },
  {
   "cell_type": "markdown",
   "metadata": {},
   "source": [
    "Данные подготовлены, приступим к исследованию."
   ]
  },
  {
   "cell_type": "markdown",
   "metadata": {},
   "source": [
    "## Исследование задачи"
   ]
  },
  {
   "cell_type": "markdown",
   "metadata": {},
   "source": [
    "Обучим на наших данных модели Дерево решений, Случайный лес, Логистческая регрессия и посмотрим на их качество - accuracy."
   ]
  },
  {
   "cell_type": "code",
   "execution_count": 13,
   "metadata": {},
   "outputs": [
    {
     "name": "stdout",
     "output_type": "stream",
     "text": [
      "Значение accuracy для дерева решений: 0.792\n",
      "Значение accuracy для случайного леса: 0.8625\n",
      "Значение accuracy для логистической регрессии: 0.8165\n"
     ]
    }
   ],
   "source": [
    "model_tree = DecisionTreeClassifier(random_state=12345)\n",
    "model_tree.fit(features_train, target_train)\n",
    "predicted_valid_tree = model_tree.predict(features_valid)\n",
    "accuracy_tree  = accuracy_score(target_valid, predicted_valid_tree)\n",
    "print('Значение accuracy для дерева решений:', accuracy_tree)\n",
    "\n",
    "model_forest = RandomForestClassifier(random_state=12345, n_estimators = 50)\n",
    "model_forest.fit(features_train, target_train)\n",
    "predicted_valid_forest = model_forest.predict(features_valid)\n",
    "accuracy_forest  = accuracy_score(target_valid, predicted_valid_forest)\n",
    "print('Значение accuracy для случайного леса:', accuracy_forest)\n",
    "\n",
    "model_lr = LogisticRegression(random_state=12345, solver='lbfgs')\n",
    "model_lr.fit(features_train, target_train)\n",
    "predicted_valid_lr = model_lr.predict(features_valid)\n",
    "accuracy_lr  = accuracy_score(target_valid, predicted_valid_lr)\n",
    "print('Значение accuracy для логистической регрессии:', accuracy_lr)"
   ]
  },
  {
   "cell_type": "markdown",
   "metadata": {},
   "source": [
    "Все модели демонстрируют относительно высокие значения accuracy. Оценим их адекватность. Проверим, как часто в целевом признаке встречаются классы 1 и 0. "
   ]
  },
  {
   "cell_type": "code",
   "execution_count": 14,
   "metadata": {},
   "outputs": [
    {
     "name": "stdout",
     "output_type": "stream",
     "text": [
      "0    0.7963\n",
      "1    0.2037\n",
      "Name: Exited, dtype: float64\n"
     ]
    },
    {
     "data": {
      "text/plain": [
       "<matplotlib.axes._subplots.AxesSubplot at 0x7f07f8e53f90>"
      ]
     },
     "execution_count": 14,
     "metadata": {},
     "output_type": "execute_result"
    },
    {
     "data": {
      "image/png": "[encoded data removed]",
      "text/plain": [
       "<Figure size 432x288 with 1 Axes>"
      ]
     },
     "metadata": {
      "needs_background": "light"
     },
     "output_type": "display_data"
    }
   ],
   "source": [
    "class_frequency = data['Exited'].value_counts(normalize=True)\n",
    "print(class_frequency)\n",
    "class_frequency.plot(kind='bar')"
   ]
  },
  {
   "cell_type": "markdown",
   "metadata": {},
   "source": [
    "Преобладает класс 0 в соотношении прмерно 80:20. Проверим частоты классов в результатах предсказаний наших моделей "
   ]
  },
  {
   "cell_type": "code",
   "execution_count": 15,
   "metadata": {},
   "outputs": [
    {
     "name": "stdout",
     "output_type": "stream",
     "text": [
      "Дерево решений\n",
      "0    0.7955\n",
      "1    0.2045\n",
      "dtype: float64\n",
      "\n",
      "Случайный лес\n",
      "0    0.881\n",
      "1    0.119\n",
      "dtype: float64\n",
      "\n",
      "Логистческая регрессия\n",
      "0    0.93\n",
      "1    0.07\n",
      "dtype: float64\n",
      "\n"
     ]
    }
   ],
   "source": [
    "models_dict = {'Дерево решений':model_tree,\n",
    "              'Случайный лес':model_forest,\n",
    "              'Логистческая регрессия':model_lr}\n",
    "\n",
    "models_predicted_valid = {'Дерево решений':predicted_valid_tree,\n",
    "              'Случайный лес':predicted_valid_forest,\n",
    "              'Логистческая регрессия':predicted_valid_lr}\n",
    "\n",
    "for key in models_predicted_valid:\n",
    "    print(key)\n",
    "    print(pd.Series(models_predicted_valid[key]).value_counts(normalize=True))\n",
    "    print()"
   ]
  },
  {
   "cell_type": "markdown",
   "metadata": {},
   "source": [
    "Ожидаемо результаты предсказаний моделей сильно склоняются к предсказанию одного класса, '0' пеобладает, особенно выделяется логистическая регрессия - 93% таких предсказаний.\n",
    "Сравним с константной моделью, в качестве прогнозного значения константной модели выберем '0'.  "
   ]
  },
  {
   "cell_type": "code",
   "execution_count": 16,
   "metadata": {},
   "outputs": [
    {
     "data": {
      "text/plain": [
       "0.8045"
      ]
     },
     "execution_count": 16,
     "metadata": {},
     "output_type": "execute_result"
    }
   ],
   "source": [
    "target_pred_constant = pd.Series(0, index=target_valid.index)\n",
    "accuracy_score(target_pred_constant, target_valid)"
   ]
  },
  {
   "cell_type": "markdown",
   "metadata": {},
   "source": [
    "Точность модели Дерево решений ниже константной, остальные модели выглядят адекватными, но их accuracy близки к константной модели. Вероятно на обучении моделей сказыватся дисбаланс классов.\n",
    "Построим матрицы ошибок для предсказаний наших моделей. Рассчитаем метрики Recall, Precision, F1, AUC-ROC и построим ROC-кривые."
   ]
  },
  {
   "cell_type": "code",
   "execution_count": 17,
   "metadata": {},
   "outputs": [
    {
     "name": "stdout",
     "output_type": "stream",
     "text": [
      "***Дерево решений***\n",
      "Матрица ошибок:\n",
      "[[1392  217]\n",
      " [ 199  192]]\n",
      "Recall: 0.49104859335038364\n",
      "Precision: 0.46943765281173594\n",
      "F1: 0.48000000000000004\n",
      "AUC-ROC: 0.6780911083594678\n",
      "\n"
     ]
    },
    {
     "data": {
      "image/png": "[encoded data removed]",
      "text/plain": [
       "<Figure size 432x288 with 1 Axes>"
      ]
     },
     "metadata": {
      "needs_background": "light"
     },
     "output_type": "display_data"
    },
    {
     "name": "stdout",
     "output_type": "stream",
     "text": [
      "\n",
      "***Случайный лес***\n",
      "Матрица ошибок:\n",
      "[[1548   61]\n",
      " [ 214  177]]\n",
      "Recall: 0.45268542199488493\n",
      "Precision: 0.7436974789915967\n",
      "F1: 0.5627980922098569\n",
      "AUC-ROC: 0.8422571882267107\n",
      "\n"
     ]
    },
    {
     "data": {
      "image/png": "[encoded data removed]",
      "text/plain": [
       "<Figure size 432x288 with 1 Axes>"
      ]
     },
     "metadata": {
      "needs_background": "light"
     },
     "output_type": "display_data"
    },
    {
     "name": "stdout",
     "output_type": "stream",
     "text": [
      "\n",
      "***Логистческая регрессия***\n",
      "Матрица ошибок:\n",
      "[[1551   58]\n",
      " [ 309   82]]\n",
      "Recall: 0.20971867007672634\n",
      "Precision: 0.5857142857142857\n",
      "F1: 0.30885122410546145\n",
      "AUC-ROC: 0.7707715074572536\n",
      "\n"
     ]
    },
    {
     "data": {
      "image/png": "[encoded data removed]",
      "text/plain": [
       "<Figure size 432x288 with 1 Axes>"
      ]
     },
     "metadata": {
      "needs_background": "light"
     },
     "output_type": "display_data"
    },
    {
     "name": "stdout",
     "output_type": "stream",
     "text": [
      "\n"
     ]
    }
   ],
   "source": [
    "for key in models_predicted_valid:\n",
    "    print('***' + key + '***')\n",
    "    print('Матрица ошибок:')\n",
    "    print(confusion_matrix(target_valid, models_predicted_valid[key]))\n",
    "    print('Recall:', recall_score(target_valid, models_predicted_valid[key]))\n",
    "    print('Precision:', precision_score(target_valid, models_predicted_valid[key]))\n",
    "    print('F1:', f1_score(target_valid, models_predicted_valid[key]))\n",
    "        \n",
    "    probabilities_one_valid = models_dict[key].predict_proba(features_valid)[:, 1]\n",
    "    print('AUC-ROC:', roc_auc_score(target_valid, probabilities_one_valid))\n",
    "    print()\n",
    "    \n",
    "    fpr, tpr, thresholds = roc_curve(target_valid, probabilities_one_valid) \n",
    "\n",
    "    plt.figure()\n",
    "    plt.plot(fpr, tpr)\n",
    "    plt.xlim([0.0, 1.0])\n",
    "    plt.ylim([0.0, 1.0]) \n",
    "    plt.xlabel('False Positive Rate')\n",
    "    plt.ylabel('True Positive Rate')\n",
    "    plt.title('ROC-кривая')\n",
    "    plt.plot([0, 1], [0, 1], linestyle='--')\n",
    "    plt.show()\n",
    "    print()"
   ]
  },
  {
   "cell_type": "markdown",
   "metadata": {},
   "source": [
    "Все модели имеют высокие значения негативных ответов, что объясняется дисбалансом в пользу 0 класса.  \n",
    "Логистическая регрессия демонстрирует низкую метрику F1=0.31, полнота 0.21 при точности 0.59. Модель склонна к негативным ответам и имеет большое количество ложно-негативных предсказаний.  \n",
    "Дерево решений - метрика F1=0.48, выше чем у логистической регрессии, полнота также выше - 0.49, при этом точноть ниже - 0.47. Помимо склонности к негативным ответам, у модели много ложно-позитивных предсказаний.  \n",
    "Случайный лес - лучший результат метрики F1=0.56 и высокая точность 0.74. Ни одна модель не достигает необходимого уровня F1-меры 0.59. Необходимо улучшение качества моделей с учетом выявленного дисбаланса классов."
   ]
  },
  {
   "cell_type": "markdown",
   "metadata": {},
   "source": [
    "## Борьба с дисбалансом"
   ]
  },
  {
   "cell_type": "markdown",
   "metadata": {},
   "source": [
    "Попробуем применить взвешивание классов "
   ]
  },
  {
   "cell_type": "code",
   "execution_count": 18,
   "metadata": {},
   "outputs": [
    {
     "name": "stdout",
     "output_type": "stream",
     "text": [
      "Значение F1 для дерева решений: 0.4605263157894737\n",
      "Значение F1 для случайного леса: 0.5517241379310345\n",
      "Значение F1 для логистической регрессии: 0.47763864042933807\n"
     ]
    }
   ],
   "source": [
    "model_tree = DecisionTreeClassifier(random_state=12345, class_weight='balanced')\n",
    "model_tree.fit(features_train, target_train)\n",
    "predicted_valid_tree = model_tree.predict(features_valid)\n",
    "print('Значение F1 для дерева решений:', f1_score(target_valid, predicted_valid_tree))\n",
    "\n",
    "model_forest = RandomForestClassifier(random_state=12345, n_estimators = 50, class_weight='balanced')\n",
    "model_forest.fit(features_train, target_train)\n",
    "predicted_valid_forest = model_forest.predict(features_valid)\n",
    "print('Значение F1 для случайного леса:', f1_score(target_valid, predicted_valid_forest))\n",
    "\n",
    "model_lr = LogisticRegression(random_state=12345, solver='lbfgs', class_weight='balanced')\n",
    "model_lr.fit(features_train, target_train)\n",
    "predicted_valid_lr = model_lr.predict(features_valid)\n",
    "print('Значение F1 для логистической регрессии:', f1_score(target_valid, predicted_valid_lr))"
   ]
  },
  {
   "cell_type": "markdown",
   "metadata": {},
   "source": [
    "F1-мера улучшилась только для модели логистической регрессии, остальные показали результат хуже предыдущего. Нужны другие методы борьбы с дисбалансом. \n",
    "Применим метод балансировки данных - upsampling. Применим для этого функцию"
   ]
  },
  {
   "cell_type": "code",
   "execution_count": 19,
   "metadata": {},
   "outputs": [],
   "source": [
    "def upsample(features, target, repeat):\n",
    "    features_zeros = features[target == 0]\n",
    "    features_ones = features[target == 1]\n",
    "    target_zeros = target[target == 0]\n",
    "    target_ones = target[target == 1]\n",
    "\n",
    "    features_upsampled = pd.concat([features_zeros] + [features_ones] * repeat)\n",
    "    target_upsampled = pd.concat([target_zeros] + [target_ones] * repeat)\n",
    "    \n",
    "    features_upsampled, target_upsampled = shuffle(\n",
    "        features_upsampled, target_upsampled, random_state=12345)\n",
    "    \n",
    "    return features_upsampled, target_upsampled"
   ]
  },
  {
   "cell_type": "markdown",
   "metadata": {},
   "source": [
    "Проверим соотношение классов 0 и 1 в обучающей выборке"
   ]
  },
  {
   "cell_type": "code",
   "execution_count": 20,
   "metadata": {},
   "outputs": [
    {
     "name": "stdout",
     "output_type": "stream",
     "text": [
      "0    0.796833\n",
      "1    0.203167\n",
      "Name: Exited, dtype: float64\n"
     ]
    },
    {
     "data": {
      "text/plain": [
       "<matplotlib.axes._subplots.AxesSubplot at 0x7f07f8c59590>"
      ]
     },
     "execution_count": 20,
     "metadata": {},
     "output_type": "execute_result"
    },
    {
     "data": {
      "image/png": "[encoded data removed]",
      "text/plain": [
       "<Figure size 432x288 with 1 Axes>"
      ]
     },
     "metadata": {
      "needs_background": "light"
     },
     "output_type": "display_data"
    }
   ],
   "source": [
    "class_frequency = target_train.value_counts(normalize=True)\n",
    "print(class_frequency)\n",
    "class_frequency.plot(kind='bar')"
   ]
  },
  {
   "cell_type": "markdown",
   "metadata": {},
   "source": [
    "Увеличим класс 1 в 4 раза и проверим полученное соотношение классов"
   ]
  },
  {
   "cell_type": "code",
   "execution_count": 21,
   "metadata": {},
   "outputs": [
    {
     "name": "stdout",
     "output_type": "stream",
     "text": [
      "1    0.504919\n",
      "0    0.495081\n",
      "Name: Exited, dtype: float64\n"
     ]
    },
    {
     "data": {
      "text/plain": [
       "<matplotlib.axes._subplots.AxesSubplot at 0x7f07f8be4890>"
      ]
     },
     "execution_count": 21,
     "metadata": {},
     "output_type": "execute_result"
    },
    {
     "data": {
      "image/png": "[encoded data removed]",
      "text/plain": [
       "<Figure size 432x288 with 1 Axes>"
      ]
     },
     "metadata": {
      "needs_background": "light"
     },
     "output_type": "display_data"
    }
   ],
   "source": [
    "features_upsampled, target_upsampled = upsample(features_train, target_train, 4)\n",
    "\n",
    "class_frequency = target_upsampled.value_counts(normalize=True)\n",
    "print(class_frequency)\n",
    "class_frequency.plot(kind='bar')"
   ]
  },
  {
   "cell_type": "markdown",
   "metadata": {},
   "source": [
    "Обучим модель на новой выборке и проверим значение F1-меры. Используем метод Случайного леса, как ниаболее перспективный по итогам предыдущих исследований."
   ]
  },
  {
   "cell_type": "code",
   "execution_count": 22,
   "metadata": {},
   "outputs": [
    {
     "name": "stdout",
     "output_type": "stream",
     "text": [
      "Значение F1 для случайного леса: 0.6013986013986015\n"
     ]
    }
   ],
   "source": [
    "model_forest = RandomForestClassifier(random_state=12345, n_estimators = 50)\n",
    "model_forest.fit(features_upsampled, target_upsampled)\n",
    "predicted_valid_forest = model_forest.predict(features_valid)\n",
    "print('Значение F1 для случайного леса:', f1_score(target_valid, predicted_valid_forest))"
   ]
  },
  {
   "cell_type": "markdown",
   "metadata": {},
   "source": [
    "F1-мера выросла и превысила целевое значение 0.59. Проверим поведение модели при применении downsampling. "
   ]
  },
  {
   "cell_type": "code",
   "execution_count": 23,
   "metadata": {},
   "outputs": [],
   "source": [
    "def downsample(features, target, fraction):\n",
    "    features_zeros = features[target == 0]\n",
    "    features_ones = features[target == 1]\n",
    "    target_zeros = target[target == 0]\n",
    "    target_ones = target[target == 1]\n",
    "\n",
    "    features_downsampled = pd.concat(\n",
    "        [features_zeros.sample(frac=fraction, random_state=12345)] + [features_ones])\n",
    "    target_downsampled = pd.concat(\n",
    "        [target_zeros.sample(frac=fraction, random_state=12345)] + [target_ones])\n",
    "    \n",
    "    features_downsampled, target_downsampled = shuffle(\n",
    "        features_downsampled, target_downsampled, random_state=12345)\n",
    "    \n",
    "    return features_downsampled, target_downsampled"
   ]
  },
  {
   "cell_type": "markdown",
   "metadata": {},
   "source": [
    "Уменьшим класс 0 в 4 раза и проверим полученное соотношение классов"
   ]
  },
  {
   "cell_type": "code",
   "execution_count": 24,
   "metadata": {},
   "outputs": [
    {
     "name": "stdout",
     "output_type": "stream",
     "text": [
      "1    0.504971\n",
      "0    0.495029\n",
      "Name: Exited, dtype: float64\n"
     ]
    },
    {
     "data": {
      "text/plain": [
       "<matplotlib.axes._subplots.AxesSubplot at 0x7f07f8d60e50>"
      ]
     },
     "execution_count": 24,
     "metadata": {},
     "output_type": "execute_result"
    },
    {
     "data": {
      "image/png": "[encoded data removed]",
      "text/plain": [
       "<Figure size 432x288 with 1 Axes>"
      ]
     },
     "metadata": {
      "needs_background": "light"
     },
     "output_type": "display_data"
    }
   ],
   "source": [
    "features_downsampled, target_downsampled = downsample(features_train, target_train, 0.25)\n",
    "\n",
    "class_frequency = target_downsampled.value_counts(normalize=True)\n",
    "print(class_frequency)\n",
    "class_frequency.plot(kind='bar')"
   ]
  },
  {
   "cell_type": "markdown",
   "metadata": {},
   "source": [
    "Обучим модель на новой выборке и проверим значение F1-меры."
   ]
  },
  {
   "cell_type": "code",
   "execution_count": 25,
   "metadata": {},
   "outputs": [
    {
     "name": "stdout",
     "output_type": "stream",
     "text": [
      "Значение F1 для случайного леса: 0.5450980392156862\n"
     ]
    }
   ],
   "source": [
    "model_forest = RandomForestClassifier(random_state=12345, n_estimators = 50)\n",
    "model_forest.fit(features_downsampled, target_downsampled)\n",
    "predicted_valid_forest = model_forest.predict(features_valid)\n",
    "print('Значение F1 для случайного леса:', f1_score(target_valid, predicted_valid_forest))"
   ]
  },
  {
   "cell_type": "markdown",
   "metadata": {},
   "source": [
    "Результат модели обученной на данных features_upsampled был выше, эти данные и оставим для обучения. Попробуем еще улучшить модель путем изменения гиперпараметров глубины и количества деревьев при обучении модели и подбора коэффициента увеличения выборки."
   ]
  },
  {
   "cell_type": "code",
   "execution_count": 26,
   "metadata": {},
   "outputs": [
    {
     "name": "stdout",
     "output_type": "stream",
     "text": [
      "F1 наилучшей модели на валидационной выборке: 0.61212976022567\n",
      "Количество деревьев: 39\n",
      "Максимальная глубина: 12\n",
      "Коэффициент увеличения выборки: 2\n",
      "CPU times: user 36.7 s, sys: 50 ms, total: 36.7 s\n",
      "Wall time: 37 s\n"
     ]
    }
   ],
   "source": [
    "%%time\n",
    "best_model = None\n",
    "best_result_f1 = 0\n",
    "best_est = 0\n",
    "best_depth = 0\n",
    "best_repeat = 0\n",
    "\n",
    "for repeat in range (2, 5):\n",
    "    features_upsampled, target_upsampled = upsample(features_train, target_train, repeat)\n",
    "    for est in range(3, 50, 4):\n",
    "        for depth in range (2, 15, 2):\n",
    "            model = RandomForestClassifier(random_state=12345, n_estimators=est, max_depth=depth)\n",
    "            model.fit(features_upsampled, target_upsampled)\n",
    "            predictions_valid = model.predict(features_valid)\n",
    "            result = f1_score(target_valid, predictions_valid)\n",
    "        \n",
    "            if result > best_result_f1:\n",
    "                best_model = model\n",
    "                best_result_f1 = result\n",
    "                best_est = est\n",
    "                best_depth = depth\n",
    "                best_repeat = repeat\n",
    "\n",
    "print(\"F1 наилучшей модели на валидационной выборке:\", best_result_f1)\n",
    "print(\"Количество деревьев:\", best_est)\n",
    "print(\"Максимальная глубина:\", best_depth)\n",
    "print(\"Коэффициент увеличения выборки:\", best_repeat)"
   ]
  },
  {
   "cell_type": "markdown",
   "metadata": {},
   "source": [
    "На лучшей модели F1-метрика достигла значения 0.612, что выше целевого значения 0.59. Перейдем к тестированию нашей модели."
   ]
  },
  {
   "cell_type": "markdown",
   "metadata": {},
   "source": [
    "## Тестирование модели"
   ]
  },
  {
   "cell_type": "markdown",
   "metadata": {},
   "source": [
    "Проверим работу модели на тестовых данных, замерим F1-меру"
   ]
  },
  {
   "cell_type": "code",
   "execution_count": 27,
   "metadata": {},
   "outputs": [
    {
     "name": "stdout",
     "output_type": "stream",
     "text": [
      "F1 на тестовых данных: 0.6092715231788078\n"
     ]
    }
   ],
   "source": [
    "predictions_test = best_model.predict(features_test)\n",
    "print('F1 на тестовых данных:', f1_score(target_test, predictions_test))"
   ]
  },
  {
   "cell_type": "markdown",
   "metadata": {},
   "source": [
    "Результат на тестовых данных превышает целевое значение 0.59. Посмотрим еще на полноту и точность нашей модели."
   ]
  },
  {
   "cell_type": "code",
   "execution_count": 28,
   "metadata": {
    "scrolled": true
   },
   "outputs": [
    {
     "name": "stdout",
     "output_type": "stream",
     "text": [
      "Recall: 0.5386416861826698\n",
      "Precision: 0.7012195121951219\n"
     ]
    }
   ],
   "source": [
    "print('Recall:', recall_score(target_test, predictions_test))\n",
    "print('Precision:', precision_score(target_test, predictions_test))"
   ]
  },
  {
   "cell_type": "markdown",
   "metadata": {},
   "source": [
    "Модель находит больше половины положительных объектов при точности 0.701. Проверим ее на адекватность, сравним accuracy с константной моделью, рассчиатем AUC-ROC и построим ROC-кривую"
   ]
  },
  {
   "cell_type": "code",
   "execution_count": 29,
   "metadata": {},
   "outputs": [
    {
     "name": "stdout",
     "output_type": "stream",
     "text": [
      "Accuracy лучшей модели: 0.8525\n",
      "Accuracy константной модели: 0.7865\n",
      "\n",
      "AUC-ROC: 0.8475555740831449\n"
     ]
    }
   ],
   "source": [
    "print('Accuracy лучшей модели:', accuracy_score(target_test, predictions_test))\n",
    "target_pred_constant = pd.Series(0, index=target_valid.index)\n",
    "print('Accuracy константной модели:', accuracy_score(target_pred_constant, target_test))\n",
    "print()\n",
    "    \n",
    "probabilities_one_valid = model.predict_proba(features_test)[:, 1]\n",
    "print('AUC-ROC:', roc_auc_score(target_test, probabilities_one_valid))"
   ]
  },
  {
   "cell_type": "code",
   "execution_count": 30,
   "metadata": {},
   "outputs": [
    {
     "data": {
      "image/png": "[encoded data removed]",
      "text/plain": [
       "<Figure size 432x288 with 1 Axes>"
      ]
     },
     "metadata": {
      "needs_background": "light"
     },
     "output_type": "display_data"
    }
   ],
   "source": [
    "fpr, tpr, thresholds = roc_curve(target_test, probabilities_one_valid) \n",
    "\n",
    "plt.figure()\n",
    "plt.plot(fpr, tpr)\n",
    "plt.xlim([0.0, 1.0])\n",
    "plt.ylim([0.0, 1.0]) \n",
    "plt.xlabel('False Positive Rate')\n",
    "plt.ylabel('True Positive Rate')\n",
    "plt.title('ROC-кривая')\n",
    "plt.plot([0, 1], [0, 1], linestyle='--')\n",
    "plt.show()"
   ]
  },
  {
   "cell_type": "markdown",
   "metadata": {},
   "source": [
    "Accuracy нашей модели выше константной, AUC-ROC=0.85, для случайной модели это 0.5. Можно считать нашу модель адекватной."
   ]
  },
  {
   "cell_type": "markdown",
   "metadata": {},
   "source": [
    "## Заключение"
   ]
  },
  {
   "cell_type": "markdown",
   "metadata": {},
   "source": [
    "Для решения поставленной задачи, были исследованы данные оттока клиентов банка. Исследование показало, что данные были несбалансированы - преобладал класс 0 в соотношении прмерно 80:20, имелись пропуски. Обучение моделей Дерево решений, Случайный лес и Логистческая регрессия на изначальных данных не позволило достичь целевого показателя F1. Для борьбы с дисбалнсом был применен метод upsampling и для метода Случайного леса были подобраны гиперпараметры estimators и depth. Лучшие результаты были получены при увеличении в обучающей выборке положительного класса в 2 раза до образования соотношения классов 0 и 1 как 2:1. Итоговая модель показала F1-меру на тестовых данных 0.601, AUC-ROC 0.848. Модель прошла проверку на адекватность."
   ]
  }
 ],
 "metadata": {
  "ExecuteTimeLog": [
   {
    "duration": 1045,
    "start_time": "2021-10-06T21:13:39.552Z"
   },
   {
    "duration": 36,
    "start_time": "2021-10-06T21:14:27.477Z"
   },
   {
    "duration": 43,
    "start_time": "2021-10-06T21:22:16.898Z"
   },
   {
    "duration": 14,
    "start_time": "2021-10-06T22:08:58.016Z"
   },
   {
    "duration": 1026,
    "start_time": "2021-10-06T22:25:46.451Z"
   },
   {
    "duration": 36,
    "start_time": "2021-10-06T22:25:47.478Z"
   },
   {
    "duration": 3,
    "start_time": "2021-10-06T22:26:25.532Z"
   },
   {
    "duration": 41,
    "start_time": "2021-10-06T22:26:29.186Z"
   },
   {
    "duration": 224,
    "start_time": "2021-10-06T22:26:45.557Z"
   },
   {
    "duration": 1055,
    "start_time": "2021-10-06T22:29:49.704Z"
   },
   {
    "duration": 49,
    "start_time": "2021-10-06T22:29:50.761Z"
   },
   {
    "duration": 216,
    "start_time": "2021-10-06T22:30:05.087Z"
   },
   {
    "duration": 347,
    "start_time": "2021-10-06T22:30:44.099Z"
   },
   {
    "duration": 1318,
    "start_time": "2021-10-08T20:22:38.487Z"
   },
   {
    "duration": 68,
    "start_time": "2021-10-08T20:22:42.643Z"
   },
   {
    "duration": 15,
    "start_time": "2021-10-08T20:22:46.178Z"
   },
   {
    "duration": 338,
    "start_time": "2021-10-08T21:17:14.398Z"
   },
   {
    "duration": 1325,
    "start_time": "2021-10-08T21:17:20.381Z"
   },
   {
    "duration": 67,
    "start_time": "2021-10-08T21:17:23.644Z"
   },
   {
    "duration": 16,
    "start_time": "2021-10-08T21:17:27.096Z"
   },
   {
    "duration": 9,
    "start_time": "2021-10-08T21:17:31.280Z"
   },
   {
    "duration": 8,
    "start_time": "2021-10-08T21:18:10.363Z"
   },
   {
    "duration": 1343,
    "start_time": "2021-10-09T08:24:30.504Z"
   },
   {
    "duration": 66,
    "start_time": "2021-10-09T08:24:31.850Z"
   },
   {
    "duration": 15,
    "start_time": "2021-10-09T08:24:31.919Z"
   },
   {
    "duration": 24,
    "start_time": "2021-10-09T08:24:31.938Z"
   },
   {
    "duration": 15,
    "start_time": "2021-10-09T08:24:31.965Z"
   },
   {
    "duration": 12,
    "start_time": "2021-10-09T08:24:42.634Z"
   },
   {
    "duration": 9,
    "start_time": "2021-10-09T08:32:06.143Z"
   },
   {
    "duration": 6,
    "start_time": "2021-10-09T08:32:34.426Z"
   },
   {
    "duration": 7,
    "start_time": "2021-10-09T08:33:02.246Z"
   },
   {
    "duration": 11,
    "start_time": "2021-10-09T08:34:50.413Z"
   },
   {
    "duration": 16,
    "start_time": "2021-10-09T08:35:12.617Z"
   },
   {
    "duration": 1255,
    "start_time": "2021-10-10T08:05:23.048Z"
   },
   {
    "duration": 68,
    "start_time": "2021-10-10T08:05:24.305Z"
   },
   {
    "duration": 26,
    "start_time": "2021-10-10T08:05:24.376Z"
   },
   {
    "duration": 9,
    "start_time": "2021-10-10T08:05:24.405Z"
   },
   {
    "duration": 8,
    "start_time": "2021-10-10T08:05:24.416Z"
   },
   {
    "duration": 12,
    "start_time": "2021-10-10T08:05:24.427Z"
   },
   {
    "duration": 12,
    "start_time": "2021-10-10T08:06:19.291Z"
   },
   {
    "duration": 32,
    "start_time": "2021-10-10T08:06:51.555Z"
   },
   {
    "duration": 405,
    "start_time": "2021-10-10T08:08:03.215Z"
   },
   {
    "duration": 5,
    "start_time": "2021-10-10T08:08:11.738Z"
   },
   {
    "duration": 20,
    "start_time": "2021-10-10T08:08:35.240Z"
   },
   {
    "duration": 14,
    "start_time": "2021-10-10T08:13:47.849Z"
   },
   {
    "duration": 4,
    "start_time": "2021-10-10T08:28:24.583Z"
   },
   {
    "duration": 1121,
    "start_time": "2021-10-10T19:57:12.990Z"
   },
   {
    "duration": 48,
    "start_time": "2021-10-10T19:57:14.113Z"
   },
   {
    "duration": 10,
    "start_time": "2021-10-10T19:57:14.164Z"
   },
   {
    "duration": 7,
    "start_time": "2021-10-10T19:57:14.176Z"
   },
   {
    "duration": 6,
    "start_time": "2021-10-10T19:57:14.184Z"
   },
   {
    "duration": 9,
    "start_time": "2021-10-10T19:57:14.192Z"
   },
   {
    "duration": 9,
    "start_time": "2021-10-10T19:57:14.202Z"
   },
   {
    "duration": 20,
    "start_time": "2021-10-10T19:57:14.212Z"
   },
   {
    "duration": 42,
    "start_time": "2021-10-10T19:57:14.234Z"
   },
   {
    "duration": 14,
    "start_time": "2021-10-10T19:57:14.278Z"
   },
   {
    "duration": 6,
    "start_time": "2021-10-10T19:57:22.314Z"
   },
   {
    "duration": 6,
    "start_time": "2021-10-10T19:58:35.858Z"
   },
   {
    "duration": 36,
    "start_time": "2021-10-10T20:06:43.903Z"
   },
   {
    "duration": 1130,
    "start_time": "2021-10-10T20:08:03.616Z"
   },
   {
    "duration": 68,
    "start_time": "2021-10-10T20:08:04.748Z"
   },
   {
    "duration": 10,
    "start_time": "2021-10-10T20:08:04.818Z"
   },
   {
    "duration": 6,
    "start_time": "2021-10-10T20:08:04.830Z"
   },
   {
    "duration": 6,
    "start_time": "2021-10-10T20:08:04.838Z"
   },
   {
    "duration": 9,
    "start_time": "2021-10-10T20:08:04.845Z"
   },
   {
    "duration": 18,
    "start_time": "2021-10-10T20:08:04.876Z"
   },
   {
    "duration": 21,
    "start_time": "2021-10-10T20:08:04.896Z"
   },
   {
    "duration": 4,
    "start_time": "2021-10-10T20:08:04.918Z"
   },
   {
    "duration": 13,
    "start_time": "2021-10-10T20:08:04.924Z"
   },
   {
    "duration": 388,
    "start_time": "2021-10-10T20:08:11.417Z"
   },
   {
    "duration": 43,
    "start_time": "2021-10-10T20:08:18.662Z"
   },
   {
    "duration": 1279,
    "start_time": "2021-10-10T20:08:48.430Z"
   },
   {
    "duration": 48,
    "start_time": "2021-10-10T20:08:49.712Z"
   },
   {
    "duration": 14,
    "start_time": "2021-10-10T20:08:49.763Z"
   },
   {
    "duration": 9,
    "start_time": "2021-10-10T20:08:49.787Z"
   },
   {
    "duration": 5,
    "start_time": "2021-10-10T20:08:49.798Z"
   },
   {
    "duration": 9,
    "start_time": "2021-10-10T20:08:49.805Z"
   },
   {
    "duration": 9,
    "start_time": "2021-10-10T20:08:49.815Z"
   },
   {
    "duration": 21,
    "start_time": "2021-10-10T20:08:49.826Z"
   },
   {
    "duration": 4,
    "start_time": "2021-10-10T20:08:49.878Z"
   },
   {
    "duration": 20,
    "start_time": "2021-10-10T20:08:49.883Z"
   },
   {
    "duration": 66,
    "start_time": "2021-10-10T20:08:58.086Z"
   },
   {
    "duration": 101,
    "start_time": "2021-10-11T20:45:18.482Z"
   },
   {
    "duration": 1084,
    "start_time": "2021-10-11T20:45:17.501Z"
   },
   {
    "duration": 1080,
    "start_time": "2021-10-11T20:45:17.506Z"
   },
   {
    "duration": 1079,
    "start_time": "2021-10-11T20:45:17.508Z"
   },
   {
    "duration": 1077,
    "start_time": "2021-10-11T20:45:17.511Z"
   },
   {
    "duration": 1076,
    "start_time": "2021-10-11T20:45:17.513Z"
   },
   {
    "duration": 1074,
    "start_time": "2021-10-11T20:45:17.515Z"
   },
   {
    "duration": 1070,
    "start_time": "2021-10-11T20:45:17.520Z"
   },
   {
    "duration": 1067,
    "start_time": "2021-10-11T20:45:17.524Z"
   },
   {
    "duration": 1066,
    "start_time": "2021-10-11T20:45:17.526Z"
   },
   {
    "duration": 1064,
    "start_time": "2021-10-11T20:45:17.529Z"
   },
   {
    "duration": 1158,
    "start_time": "2021-10-11T20:45:55.181Z"
   },
   {
    "duration": 52,
    "start_time": "2021-10-11T20:45:56.341Z"
   },
   {
    "duration": 11,
    "start_time": "2021-10-11T20:45:56.395Z"
   },
   {
    "duration": 8,
    "start_time": "2021-10-11T20:45:56.408Z"
   },
   {
    "duration": 6,
    "start_time": "2021-10-11T20:45:56.417Z"
   },
   {
    "duration": 10,
    "start_time": "2021-10-11T20:45:56.425Z"
   },
   {
    "duration": 42,
    "start_time": "2021-10-11T20:45:56.436Z"
   },
   {
    "duration": 20,
    "start_time": "2021-10-11T20:45:56.481Z"
   },
   {
    "duration": 4,
    "start_time": "2021-10-11T20:45:56.503Z"
   },
   {
    "duration": 16,
    "start_time": "2021-10-11T20:45:56.509Z"
   },
   {
    "duration": 78,
    "start_time": "2021-10-11T20:45:56.527Z"
   },
   {
    "duration": 399,
    "start_time": "2021-10-11T20:46:06.338Z"
   },
   {
    "duration": 1187,
    "start_time": "2021-10-11T21:13:23.649Z"
   },
   {
    "duration": 53,
    "start_time": "2021-10-11T21:13:24.839Z"
   },
   {
    "duration": 12,
    "start_time": "2021-10-11T21:13:24.894Z"
   },
   {
    "duration": 9,
    "start_time": "2021-10-11T21:13:24.907Z"
   },
   {
    "duration": 7,
    "start_time": "2021-10-11T21:13:34.395Z"
   },
   {
    "duration": 4,
    "start_time": "2021-10-11T21:13:38.627Z"
   },
   {
    "duration": 7,
    "start_time": "2021-10-11T21:13:49.465Z"
   },
   {
    "duration": 5,
    "start_time": "2021-10-11T21:14:25.625Z"
   },
   {
    "duration": 10,
    "start_time": "2021-10-11T21:14:40.521Z"
   },
   {
    "duration": 10,
    "start_time": "2021-10-11T21:15:00.741Z"
   },
   {
    "duration": 22,
    "start_time": "2021-10-11T21:15:05.699Z"
   },
   {
    "duration": 4,
    "start_time": "2021-10-11T21:15:08.672Z"
   },
   {
    "duration": 15,
    "start_time": "2021-10-11T21:15:12.210Z"
   },
   {
    "duration": 51,
    "start_time": "2021-10-11T21:15:15.535Z"
   },
   {
    "duration": 469,
    "start_time": "2021-10-11T21:15:28.683Z"
   },
   {
    "duration": 3,
    "start_time": "2021-10-11T21:15:53.076Z"
   },
   {
    "duration": 34,
    "start_time": "2021-10-11T21:15:59.348Z"
   },
   {
    "duration": 35,
    "start_time": "2021-10-11T21:18:47.039Z"
   },
   {
    "duration": 130,
    "start_time": "2021-10-11T21:19:56.554Z"
   },
   {
    "duration": 754,
    "start_time": "2021-10-11T21:23:55.228Z"
   },
   {
    "duration": 572,
    "start_time": "2021-10-11T21:24:07.833Z"
   },
   {
    "duration": 411,
    "start_time": "2021-10-11T21:24:18.840Z"
   },
   {
    "duration": 603,
    "start_time": "2021-10-11T21:24:47.083Z"
   },
   {
    "duration": 549,
    "start_time": "2021-10-11T21:26:52.529Z"
   },
   {
    "duration": 568,
    "start_time": "2021-10-11T21:28:21.913Z"
   },
   {
    "duration": 228,
    "start_time": "2021-10-11T21:37:50.101Z"
   },
   {
    "duration": 777,
    "start_time": "2021-10-11T21:42:40.498Z"
   },
   {
    "duration": 302,
    "start_time": "2021-10-11T21:51:39.959Z"
   },
   {
    "duration": 344,
    "start_time": "2021-10-11T21:52:15.601Z"
   },
   {
    "duration": 320,
    "start_time": "2021-10-11T21:53:04.176Z"
   },
   {
    "duration": 283,
    "start_time": "2021-10-11T21:53:14.542Z"
   },
   {
    "duration": 7,
    "start_time": "2021-10-11T21:53:51.392Z"
   },
   {
    "duration": 6,
    "start_time": "2021-10-11T21:54:24.037Z"
   },
   {
    "duration": 11,
    "start_time": "2021-10-11T21:55:29.929Z"
   },
   {
    "duration": 11,
    "start_time": "2021-10-11T21:55:59.963Z"
   },
   {
    "duration": 1434,
    "start_time": "2021-10-12T20:24:26.840Z"
   },
   {
    "duration": 68,
    "start_time": "2021-10-12T20:24:28.277Z"
   },
   {
    "duration": 17,
    "start_time": "2021-10-12T20:24:28.348Z"
   },
   {
    "duration": 8,
    "start_time": "2021-10-12T20:24:28.367Z"
   },
   {
    "duration": 28,
    "start_time": "2021-10-12T20:24:28.378Z"
   },
   {
    "duration": 8,
    "start_time": "2021-10-12T20:24:28.408Z"
   },
   {
    "duration": 12,
    "start_time": "2021-10-12T20:24:28.418Z"
   },
   {
    "duration": 13,
    "start_time": "2021-10-12T20:24:28.433Z"
   },
   {
    "duration": 77,
    "start_time": "2021-10-12T20:24:28.449Z"
   },
   {
    "duration": 5,
    "start_time": "2021-10-12T20:24:28.528Z"
   },
   {
    "duration": 21,
    "start_time": "2021-10-12T20:24:28.535Z"
   },
   {
    "duration": 107,
    "start_time": "2021-10-12T20:24:28.559Z"
   },
   {
    "duration": 833,
    "start_time": "2021-10-12T20:24:28.669Z"
   },
   {
    "duration": 440,
    "start_time": "2021-10-12T20:24:29.506Z"
   },
   {
    "duration": 15,
    "start_time": "2021-10-12T20:24:29.949Z"
   },
   {
    "duration": 602,
    "start_time": "2021-10-12T20:25:06.406Z"
   },
   {
    "duration": 273,
    "start_time": "2021-10-12T20:25:39.193Z"
   },
   {
    "duration": 14,
    "start_time": "2021-10-12T20:39:31.036Z"
   },
   {
    "duration": 7,
    "start_time": "2021-10-12T20:51:14.659Z"
   },
   {
    "duration": 9,
    "start_time": "2021-10-12T21:06:29.340Z"
   },
   {
    "duration": 12,
    "start_time": "2021-10-12T21:08:16.732Z"
   },
   {
    "duration": 11,
    "start_time": "2021-10-12T21:11:14.479Z"
   },
   {
    "duration": 10,
    "start_time": "2021-10-12T21:11:37.711Z"
   },
   {
    "duration": 1509,
    "start_time": "2021-10-15T09:42:43.401Z"
   },
   {
    "duration": 66,
    "start_time": "2021-10-15T09:42:44.913Z"
   },
   {
    "duration": 15,
    "start_time": "2021-10-15T09:42:44.982Z"
   },
   {
    "duration": 26,
    "start_time": "2021-10-15T09:42:44.999Z"
   },
   {
    "duration": 8,
    "start_time": "2021-10-15T09:42:49.436Z"
   },
   {
    "duration": 7,
    "start_time": "2021-10-15T09:43:11.258Z"
   },
   {
    "duration": 12,
    "start_time": "2021-10-15T09:43:32.960Z"
   },
   {
    "duration": 13,
    "start_time": "2021-10-15T09:43:40.222Z"
   },
   {
    "duration": 32,
    "start_time": "2021-10-15T09:43:57.124Z"
   },
   {
    "duration": 5,
    "start_time": "2021-10-15T09:44:02.268Z"
   },
   {
    "duration": 18,
    "start_time": "2021-10-15T09:44:09.238Z"
   },
   {
    "duration": 70,
    "start_time": "2021-10-15T09:44:36.439Z"
   },
   {
    "duration": 893,
    "start_time": "2021-10-15T09:46:27.837Z"
   },
   {
    "duration": 322,
    "start_time": "2021-10-15T09:46:50.661Z"
   },
   {
    "duration": 15,
    "start_time": "2021-10-15T09:47:26.270Z"
   },
   {
    "duration": 860,
    "start_time": "2021-10-15T10:13:48.266Z"
   },
   {
    "duration": 840,
    "start_time": "2021-10-15T10:18:14.682Z"
   },
   {
    "duration": 7,
    "start_time": "2021-10-15T10:35:41.768Z"
   },
   {
    "duration": 11,
    "start_time": "2021-10-15T10:35:51.520Z"
   },
   {
    "duration": 7,
    "start_time": "2021-10-15T10:37:07.930Z"
   },
   {
    "duration": 13,
    "start_time": "2021-10-15T10:44:55.146Z"
   },
   {
    "duration": 547,
    "start_time": "2021-10-15T10:58:39.477Z"
   },
   {
    "duration": 1303,
    "start_time": "2021-10-15T10:58:49.723Z"
   },
   {
    "duration": 743,
    "start_time": "2021-10-15T10:58:58.180Z"
   },
   {
    "duration": 774,
    "start_time": "2021-10-15T10:59:08.549Z"
   },
   {
    "duration": 5,
    "start_time": "2021-10-15T12:04:21.117Z"
   },
   {
    "duration": 17,
    "start_time": "2021-10-15T12:09:20.650Z"
   },
   {
    "duration": 16,
    "start_time": "2021-10-15T13:08:44.152Z"
   },
   {
    "duration": 27,
    "start_time": "2021-10-15T13:11:50.132Z"
   },
   {
    "duration": 15,
    "start_time": "2021-10-15T13:12:34.846Z"
   },
   {
    "duration": 26,
    "start_time": "2021-10-15T13:13:55.881Z"
   },
   {
    "duration": 26,
    "start_time": "2021-10-15T13:14:06.575Z"
   },
   {
    "duration": 14,
    "start_time": "2021-10-15T13:16:24.357Z"
   },
   {
    "duration": 15,
    "start_time": "2021-10-15T13:16:28.380Z"
   },
   {
    "duration": 380,
    "start_time": "2021-10-15T13:17:59.612Z"
   },
   {
    "duration": 5,
    "start_time": "2021-10-15T13:18:11.091Z"
   },
   {
    "duration": 22,
    "start_time": "2021-10-15T13:18:18.247Z"
   },
   {
    "duration": 23,
    "start_time": "2021-10-15T13:20:06.854Z"
   },
   {
    "duration": 25,
    "start_time": "2021-10-15T13:21:00.856Z"
   },
   {
    "duration": 5,
    "start_time": "2021-10-15T13:23:41.594Z"
   },
   {
    "duration": 85,
    "start_time": "2021-10-15T13:24:42.486Z"
   },
   {
    "duration": 31,
    "start_time": "2021-10-15T13:24:58.881Z"
   },
   {
    "duration": 5,
    "start_time": "2021-10-15T13:39:19.450Z"
   },
   {
    "duration": 39,
    "start_time": "2021-10-15T13:40:44.605Z"
   },
   {
    "duration": 6,
    "start_time": "2021-10-15T13:48:45.259Z"
   },
   {
    "duration": 86,
    "start_time": "2021-10-15T13:51:47.947Z"
   },
   {
    "duration": 49,
    "start_time": "2021-10-15T13:52:08.654Z"
   },
   {
    "duration": 309,
    "start_time": "2021-10-15T13:56:50.249Z"
   },
   {
    "duration": 5,
    "start_time": "2021-10-15T13:57:23.904Z"
   },
   {
    "duration": 835,
    "start_time": "2021-10-15T13:57:31.123Z"
   },
   {
    "duration": 1096,
    "start_time": "2021-10-15T16:59:47.912Z"
   },
   {
    "duration": 45,
    "start_time": "2021-10-15T16:59:49.010Z"
   },
   {
    "duration": 11,
    "start_time": "2021-10-15T16:59:49.057Z"
   },
   {
    "duration": 7,
    "start_time": "2021-10-15T16:59:49.070Z"
   },
   {
    "duration": 7,
    "start_time": "2021-10-15T16:59:49.079Z"
   },
   {
    "duration": 8,
    "start_time": "2021-10-15T16:59:49.088Z"
   },
   {
    "duration": 11,
    "start_time": "2021-10-15T16:59:49.097Z"
   },
   {
    "duration": 9,
    "start_time": "2021-10-15T16:59:49.110Z"
   },
   {
    "duration": 20,
    "start_time": "2021-10-15T16:59:49.120Z"
   },
   {
    "duration": 34,
    "start_time": "2021-10-15T16:59:49.142Z"
   },
   {
    "duration": 13,
    "start_time": "2021-10-15T16:59:49.178Z"
   },
   {
    "duration": 60,
    "start_time": "2021-10-15T16:59:49.193Z"
   },
   {
    "duration": 492,
    "start_time": "2021-10-15T16:59:57.594Z"
   },
   {
    "duration": 135,
    "start_time": "2021-10-15T17:00:04.826Z"
   },
   {
    "duration": 9,
    "start_time": "2021-10-15T17:00:08.322Z"
   },
   {
    "duration": 6,
    "start_time": "2021-10-15T17:05:22.641Z"
   },
   {
    "duration": 440,
    "start_time": "2021-10-15T17:15:03.597Z"
   },
   {
    "duration": 10,
    "start_time": "2021-10-15T17:15:28.278Z"
   },
   {
    "duration": 702,
    "start_time": "2021-10-15T17:15:35.302Z"
   },
   {
    "duration": 689,
    "start_time": "2021-10-15T17:31:22.489Z"
   },
   {
    "duration": 638,
    "start_time": "2021-10-15T18:06:05.173Z"
   },
   {
    "duration": 706,
    "start_time": "2021-10-15T18:06:26.313Z"
   },
   {
    "duration": 643,
    "start_time": "2021-10-15T18:23:52.169Z"
   },
   {
    "duration": 5,
    "start_time": "2021-10-15T19:02:27.203Z"
   },
   {
    "duration": 24,
    "start_time": "2021-10-15T19:03:20.288Z"
   },
   {
    "duration": 638,
    "start_time": "2021-10-15T19:32:48.466Z"
   },
   {
    "duration": 408,
    "start_time": "2021-10-15T19:34:37.033Z"
   },
   {
    "duration": 768,
    "start_time": "2021-10-15T19:35:01.158Z"
   },
   {
    "duration": 668,
    "start_time": "2021-10-15T19:58:33.650Z"
   },
   {
    "duration": 621,
    "start_time": "2021-10-15T19:59:45.716Z"
   },
   {
    "duration": 795,
    "start_time": "2021-10-15T19:59:59.826Z"
   },
   {
    "duration": 441,
    "start_time": "2021-10-15T21:18:08.244Z"
   },
   {
    "duration": 4,
    "start_time": "2021-10-15T21:43:36.142Z"
   },
   {
    "duration": 4865,
    "start_time": "2021-10-15T21:46:44.504Z"
   },
   {
    "duration": 153,
    "start_time": "2021-10-15T21:48:58.933Z"
   },
   {
    "duration": 808,
    "start_time": "2021-10-15T21:52:40.743Z"
   },
   {
    "duration": 4,
    "start_time": "2021-10-15T21:53:10.105Z"
   },
   {
    "duration": 145,
    "start_time": "2021-10-15T21:53:16.478Z"
   },
   {
    "duration": 486,
    "start_time": "2021-10-15T21:57:16.379Z"
   },
   {
    "duration": 477,
    "start_time": "2021-10-15T21:59:11.020Z"
   },
   {
    "duration": 362,
    "start_time": "2021-10-15T22:08:40.670Z"
   },
   {
    "duration": 5,
    "start_time": "2021-10-15T22:08:47.688Z"
   },
   {
    "duration": 211,
    "start_time": "2021-10-15T22:08:50.652Z"
   },
   {
    "duration": 174,
    "start_time": "2021-10-15T22:10:23.316Z"
   },
   {
    "duration": 26394,
    "start_time": "2021-10-15T22:21:14.638Z"
   },
   {
    "duration": 155632,
    "start_time": "2021-10-15T22:22:19.317Z"
   },
   {
    "duration": 467,
    "start_time": "2021-10-15T22:28:35.853Z"
   },
   {
    "duration": 1648,
    "start_time": "2021-10-16T19:31:51.821Z"
   },
   {
    "duration": 64,
    "start_time": "2021-10-16T19:31:53.471Z"
   },
   {
    "duration": 15,
    "start_time": "2021-10-16T19:31:53.538Z"
   },
   {
    "duration": 8,
    "start_time": "2021-10-16T19:31:53.556Z"
   },
   {
    "duration": 9,
    "start_time": "2021-10-16T19:31:53.567Z"
   },
   {
    "duration": 46,
    "start_time": "2021-10-16T19:31:53.578Z"
   },
   {
    "duration": 12,
    "start_time": "2021-10-16T19:31:53.626Z"
   },
   {
    "duration": 14,
    "start_time": "2021-10-16T19:31:53.642Z"
   },
   {
    "duration": 66,
    "start_time": "2021-10-16T19:31:53.659Z"
   },
   {
    "duration": 5,
    "start_time": "2021-10-16T19:31:53.727Z"
   },
   {
    "duration": 20,
    "start_time": "2021-10-16T19:31:53.734Z"
   },
   {
    "duration": 104,
    "start_time": "2021-10-16T19:31:53.756Z"
   },
   {
    "duration": 769,
    "start_time": "2021-10-16T19:31:53.863Z"
   },
   {
    "duration": 330,
    "start_time": "2021-10-16T19:31:54.724Z"
   },
   {
    "duration": 16,
    "start_time": "2021-10-16T19:31:55.057Z"
   },
   {
    "duration": 16,
    "start_time": "2021-10-16T19:31:55.075Z"
   },
   {
    "duration": 1092,
    "start_time": "2021-10-16T19:31:55.094Z"
   },
   {
    "duration": 736,
    "start_time": "2021-10-16T19:31:56.189Z"
   },
   {
    "duration": 96,
    "start_time": "2021-10-16T19:31:56.928Z"
   },
   {
    "duration": 237,
    "start_time": "2021-10-16T19:31:57.027Z"
   },
   {
    "duration": 231,
    "start_time": "2021-10-16T19:31:57.267Z"
   },
   {
    "duration": 737,
    "start_time": "2021-10-16T19:31:57.500Z"
   },
   {
    "duration": 6,
    "start_time": "2021-10-16T19:31:58.241Z"
   },
   {
    "duration": 292,
    "start_time": "2021-10-16T19:31:58.249Z"
   },
   {
    "duration": 248,
    "start_time": "2021-10-16T19:32:06.235Z"
   },
   {
    "duration": 235607,
    "start_time": "2021-10-16T19:32:29.716Z"
   },
   {
    "duration": 723,
    "start_time": "2021-10-16T19:37:19.270Z"
   },
   {
    "duration": 88,
    "start_time": "2021-10-16T19:42:32.216Z"
   },
   {
    "duration": 606,
    "start_time": "2021-10-16T19:43:01.465Z"
   },
   {
    "duration": 15,
    "start_time": "2021-10-16T19:57:55.046Z"
   },
   {
    "duration": 7,
    "start_time": "2021-10-16T19:59:34.137Z"
   },
   {
    "duration": 774,
    "start_time": "2021-10-16T20:01:17.234Z"
   },
   {
    "duration": 739,
    "start_time": "2021-10-16T20:01:26.847Z"
   },
   {
    "duration": 1169974,
    "start_time": "2021-10-16T20:05:27.512Z"
   },
   {
    "duration": 704,
    "start_time": "2021-10-16T20:28:43.296Z"
   },
   {
    "duration": 14,
    "start_time": "2021-10-16T20:28:50.792Z"
   },
   {
    "duration": 751,
    "start_time": "2021-10-16T20:29:12.629Z"
   },
   {
    "duration": 15,
    "start_time": "2021-10-16T20:29:15.876Z"
   },
   {
    "duration": 69169,
    "start_time": "2021-10-16T20:56:18.282Z"
   },
   {
    "duration": 733,
    "start_time": "2021-10-16T20:58:19.460Z"
   },
   {
    "duration": 15,
    "start_time": "2021-10-16T20:58:41.787Z"
   },
   {
    "duration": 7,
    "start_time": "2021-10-16T20:58:50.575Z"
   },
   {
    "duration": 1531,
    "start_time": "2021-10-16T21:07:17.844Z"
   },
   {
    "duration": 64,
    "start_time": "2021-10-16T21:07:19.377Z"
   },
   {
    "duration": 19,
    "start_time": "2021-10-16T21:07:19.444Z"
   },
   {
    "duration": 17,
    "start_time": "2021-10-16T21:07:19.466Z"
   },
   {
    "duration": 8,
    "start_time": "2021-10-16T21:07:30.093Z"
   },
   {
    "duration": 304,
    "start_time": "2021-10-16T21:10:22.079Z"
   },
   {
    "duration": 8,
    "start_time": "2021-10-16T21:12:41.236Z"
   },
   {
    "duration": 275,
    "start_time": "2021-10-16T21:12:46.682Z"
   },
   {
    "duration": 15,
    "start_time": "2021-10-16T21:14:06.039Z"
   },
   {
    "duration": 14,
    "start_time": "2021-10-16T21:14:13.535Z"
   },
   {
    "duration": 34,
    "start_time": "2021-10-16T21:14:40.331Z"
   },
   {
    "duration": 8,
    "start_time": "2021-10-16T21:14:43.368Z"
   },
   {
    "duration": 19,
    "start_time": "2021-10-16T21:16:18.017Z"
   },
   {
    "duration": 63,
    "start_time": "2021-10-16T21:18:06.326Z"
   },
   {
    "duration": 775,
    "start_time": "2021-10-16T21:19:31.155Z"
   },
   {
    "duration": 221,
    "start_time": "2021-10-16T21:19:48.278Z"
   },
   {
    "duration": 15,
    "start_time": "2021-10-16T21:20:00.547Z"
   },
   {
    "duration": 16,
    "start_time": "2021-10-16T21:21:04.740Z"
   },
   {
    "duration": 8,
    "start_time": "2021-10-16T21:22:05.796Z"
   },
   {
    "duration": 659,
    "start_time": "2021-10-16T21:28:38.472Z"
   },
   {
    "duration": 6,
    "start_time": "2021-10-16T21:29:39.808Z"
   },
   {
    "duration": 230,
    "start_time": "2021-10-16T21:30:01.676Z"
   },
   {
    "duration": 231,
    "start_time": "2021-10-16T21:30:14.019Z"
   },
   {
    "duration": 753,
    "start_time": "2021-10-16T21:30:39.898Z"
   },
   {
    "duration": 6,
    "start_time": "2021-10-16T21:31:51.009Z"
   },
   {
    "duration": 213,
    "start_time": "2021-10-16T21:31:56.947Z"
   },
   {
    "duration": 271,
    "start_time": "2021-10-16T21:32:03.724Z"
   },
   {
    "duration": 64578,
    "start_time": "2021-10-16T21:33:15.371Z"
   },
   {
    "duration": 673,
    "start_time": "2021-10-16T21:35:45.384Z"
   },
   {
    "duration": 15,
    "start_time": "2021-10-16T21:36:04.742Z"
   },
   {
    "duration": 7,
    "start_time": "2021-10-16T21:36:13.762Z"
   },
   {
    "duration": 74,
    "start_time": "2021-10-16T21:36:39.427Z"
   },
   {
    "duration": 683,
    "start_time": "2021-10-16T21:37:02.765Z"
   },
   {
    "duration": 1504,
    "start_time": "2021-10-16T21:40:19.646Z"
   },
   {
    "duration": 62,
    "start_time": "2021-10-16T21:40:21.153Z"
   },
   {
    "duration": 22,
    "start_time": "2021-10-16T21:40:21.218Z"
   },
   {
    "duration": 10,
    "start_time": "2021-10-16T21:40:21.243Z"
   },
   {
    "duration": 13,
    "start_time": "2021-10-16T21:40:21.255Z"
   },
   {
    "duration": 315,
    "start_time": "2021-10-16T21:40:21.271Z"
   },
   {
    "duration": 8,
    "start_time": "2021-10-16T21:40:21.589Z"
   },
   {
    "duration": 33,
    "start_time": "2021-10-16T21:40:21.601Z"
   },
   {
    "duration": 14,
    "start_time": "2021-10-16T21:40:21.637Z"
   },
   {
    "duration": 32,
    "start_time": "2021-10-16T21:40:21.654Z"
   },
   {
    "duration": 40,
    "start_time": "2021-10-16T21:40:21.689Z"
   },
   {
    "duration": 23,
    "start_time": "2021-10-16T21:40:21.732Z"
   },
   {
    "duration": 108,
    "start_time": "2021-10-16T21:40:21.758Z"
   },
   {
    "duration": 767,
    "start_time": "2021-10-16T21:40:21.869Z"
   },
   {
    "duration": 424,
    "start_time": "2021-10-16T21:40:22.640Z"
   },
   {
    "duration": 18,
    "start_time": "2021-10-16T21:40:23.067Z"
   },
   {
    "duration": 32,
    "start_time": "2021-10-16T21:40:23.087Z"
   },
   {
    "duration": 1150,
    "start_time": "2021-10-16T21:40:23.122Z"
   },
   {
    "duration": 753,
    "start_time": "2021-10-16T21:40:24.274Z"
   },
   {
    "duration": 91,
    "start_time": "2021-10-16T21:40:25.035Z"
   },
   {
    "duration": 264,
    "start_time": "2021-10-16T21:40:25.129Z"
   },
   {
    "duration": 304,
    "start_time": "2021-10-16T21:40:25.396Z"
   },
   {
    "duration": 783,
    "start_time": "2021-10-16T21:40:25.706Z"
   },
   {
    "duration": 7,
    "start_time": "2021-10-16T21:40:26.492Z"
   },
   {
    "duration": 252,
    "start_time": "2021-10-16T21:40:26.502Z"
   },
   {
    "duration": 268,
    "start_time": "2021-10-16T21:40:26.756Z"
   },
   {
    "duration": 64859,
    "start_time": "2021-10-16T21:41:10.804Z"
   },
   {
    "duration": 709,
    "start_time": "2021-10-16T21:42:50.778Z"
   },
   {
    "duration": 21,
    "start_time": "2021-10-16T21:42:56.825Z"
   },
   {
    "duration": 49,
    "start_time": "2021-10-16T21:55:03.833Z"
   },
   {
    "duration": 7,
    "start_time": "2021-10-16T21:56:07.482Z"
   },
   {
    "duration": 273,
    "start_time": "2021-10-16T21:56:57.656Z"
   },
   {
    "duration": 35,
    "start_time": "2021-10-16T22:02:05.442Z"
   },
   {
    "duration": 67434,
    "start_time": "2021-10-16T22:10:15.025Z"
   },
   {
    "duration": 36,
    "start_time": "2021-10-16T22:13:57.086Z"
   },
   {
    "duration": 48,
    "start_time": "2021-10-16T22:18:13.118Z"
   },
   {
    "duration": 44,
    "start_time": "2021-10-16T22:18:27.952Z"
   },
   {
    "duration": 284,
    "start_time": "2021-10-16T22:19:04.222Z"
   },
   {
    "duration": 42,
    "start_time": "2021-10-16T22:38:27.040Z"
   },
   {
    "duration": 42,
    "start_time": "2021-10-16T22:39:20.728Z"
   },
   {
    "duration": 1592,
    "start_time": "2021-10-17T11:46:26.500Z"
   },
   {
    "duration": 44,
    "start_time": "2021-10-17T11:46:28.094Z"
   },
   {
    "duration": 9,
    "start_time": "2021-10-17T11:46:28.140Z"
   },
   {
    "duration": 6,
    "start_time": "2021-10-17T11:46:28.150Z"
   },
   {
    "duration": 162,
    "start_time": "2021-10-17T11:46:28.158Z"
   },
   {
    "duration": 5,
    "start_time": "2021-10-17T11:46:28.321Z"
   },
   {
    "duration": 17,
    "start_time": "2021-10-17T11:46:28.328Z"
   },
   {
    "duration": 9,
    "start_time": "2021-10-17T11:46:28.347Z"
   },
   {
    "duration": 19,
    "start_time": "2021-10-17T11:46:28.357Z"
   },
   {
    "duration": 3,
    "start_time": "2021-10-17T11:46:28.378Z"
   },
   {
    "duration": 15,
    "start_time": "2021-10-17T11:46:28.382Z"
   },
   {
    "duration": 71,
    "start_time": "2021-10-17T11:46:28.399Z"
   },
   {
    "duration": 482,
    "start_time": "2021-10-17T11:46:28.471Z"
   },
   {
    "duration": 234,
    "start_time": "2021-10-17T11:46:29.051Z"
   },
   {
    "duration": 10,
    "start_time": "2021-10-17T11:46:29.287Z"
   },
   {
    "duration": 10,
    "start_time": "2021-10-17T11:46:29.299Z"
   },
   {
    "duration": 699,
    "start_time": "2021-10-17T11:46:29.311Z"
   },
   {
    "duration": 735,
    "start_time": "2021-10-17T11:46:30.012Z"
   },
   {
    "duration": 9,
    "start_time": "2021-10-17T11:46:30.750Z"
   },
   {
    "duration": 161,
    "start_time": "2021-10-17T11:46:30.845Z"
   },
   {
    "duration": 191,
    "start_time": "2021-10-17T11:46:31.008Z"
   },
   {
    "duration": 443,
    "start_time": "2021-10-17T11:46:40.682Z"
   },
   {
    "duration": 122252,
    "start_time": "2021-10-17T11:55:31.883Z"
   },
   {
    "duration": 21,
    "start_time": "2021-10-17T11:59:57.600Z"
   },
   {
    "duration": 9,
    "start_time": "2021-10-17T12:00:10.004Z"
   },
   {
    "duration": 30,
    "start_time": "2021-10-17T12:00:22.763Z"
   },
   {
    "duration": 160,
    "start_time": "2021-10-17T12:00:30.488Z"
   },
   {
    "duration": 284,
    "start_time": "2021-10-17T12:11:06.142Z"
   },
   {
    "duration": 124582,
    "start_time": "2021-10-17T12:13:21.842Z"
   },
   {
    "duration": 124249,
    "start_time": "2021-10-17T12:16:57.450Z"
   },
   {
    "duration": 49092,
    "start_time": "2021-10-17T12:20:40.696Z"
   },
   {
    "duration": 173,
    "start_time": "2021-10-17T12:23:01.105Z"
   },
   {
    "duration": 4,
    "start_time": "2021-10-17T12:28:53.476Z"
   },
   {
    "duration": 85,
    "start_time": "2021-10-17T12:29:11.650Z"
   },
   {
    "duration": 455,
    "start_time": "2021-10-17T12:29:30.239Z"
   },
   {
    "duration": 49635,
    "start_time": "2021-10-17T12:32:57.030Z"
   },
   {
    "duration": 19,
    "start_time": "2021-10-17T12:34:12.738Z"
   },
   {
    "duration": 7,
    "start_time": "2021-10-17T12:34:17.652Z"
   },
   {
    "duration": 4,
    "start_time": "2021-10-17T12:36:59.040Z"
   },
   {
    "duration": 139,
    "start_time": "2021-10-17T12:37:01.723Z"
   },
   {
    "duration": 171,
    "start_time": "2021-10-17T12:37:04.616Z"
   },
   {
    "duration": 6,
    "start_time": "2021-10-17T12:42:29.350Z"
   },
   {
    "duration": 149975,
    "start_time": "2021-10-17T12:43:32.626Z"
   },
   {
    "duration": 1113,
    "start_time": "2021-10-17T12:57:53.052Z"
   },
   {
    "duration": 44,
    "start_time": "2021-10-17T12:57:54.167Z"
   },
   {
    "duration": 10,
    "start_time": "2021-10-17T12:57:54.213Z"
   },
   {
    "duration": 6,
    "start_time": "2021-10-17T12:57:54.225Z"
   },
   {
    "duration": 157,
    "start_time": "2021-10-17T12:57:54.232Z"
   },
   {
    "duration": 5,
    "start_time": "2021-10-17T12:57:54.391Z"
   },
   {
    "duration": 12,
    "start_time": "2021-10-17T12:57:54.398Z"
   },
   {
    "duration": 9,
    "start_time": "2021-10-17T12:57:54.413Z"
   },
   {
    "duration": 38,
    "start_time": "2021-10-17T12:57:54.424Z"
   },
   {
    "duration": 4,
    "start_time": "2021-10-17T12:57:54.463Z"
   },
   {
    "duration": 13,
    "start_time": "2021-10-17T12:57:54.468Z"
   },
   {
    "duration": 74,
    "start_time": "2021-10-17T12:57:54.483Z"
   },
   {
    "duration": 585,
    "start_time": "2021-10-17T12:57:54.559Z"
   },
   {
    "duration": 221,
    "start_time": "2021-10-17T12:57:55.147Z"
   },
   {
    "duration": 10,
    "start_time": "2021-10-17T12:57:55.370Z"
   },
   {
    "duration": 5,
    "start_time": "2021-10-17T12:57:55.382Z"
   },
   {
    "duration": 694,
    "start_time": "2021-10-17T12:57:55.388Z"
   },
   {
    "duration": 467,
    "start_time": "2021-10-17T12:57:56.084Z"
   },
   {
    "duration": 92,
    "start_time": "2021-10-17T12:57:56.553Z"
   },
   {
    "duration": 144,
    "start_time": "2021-10-17T12:57:56.743Z"
   },
   {
    "duration": 193,
    "start_time": "2021-10-17T12:57:56.889Z"
   },
   {
    "duration": 453,
    "start_time": "2021-10-17T12:57:57.084Z"
   },
   {
    "duration": 4,
    "start_time": "2021-10-17T12:57:57.540Z"
   },
   {
    "duration": 136,
    "start_time": "2021-10-17T12:57:57.545Z"
   },
   {
    "duration": 173,
    "start_time": "2021-10-17T12:57:57.683Z"
   },
   {
    "duration": 49221,
    "start_time": "2021-10-17T12:58:05.302Z"
   },
   {
    "duration": 72008,
    "start_time": "2021-10-17T13:00:05.519Z"
   },
   {
    "duration": 85,
    "start_time": "2021-10-17T13:12:08.377Z"
   },
   {
    "duration": 3,
    "start_time": "2021-10-17T13:12:15.903Z"
   },
   {
    "duration": 5,
    "start_time": "2021-10-17T13:12:47.977Z"
   },
   {
    "duration": 5,
    "start_time": "2021-10-17T13:13:05.717Z"
   },
   {
    "duration": 5,
    "start_time": "2021-10-17T13:14:00.839Z"
   },
   {
    "duration": 4,
    "start_time": "2021-10-17T13:14:12.924Z"
   },
   {
    "duration": 50895,
    "start_time": "2021-10-17T13:14:28.430Z"
   },
   {
    "duration": 39863,
    "start_time": "2021-10-17T13:15:54.233Z"
   },
   {
    "duration": 50664,
    "start_time": "2021-10-17T13:18:41.360Z"
   },
   {
    "duration": 39019,
    "start_time": "2021-10-17T13:19:46.479Z"
   },
   {
    "duration": 4,
    "start_time": "2021-10-17T13:20:59.809Z"
   },
   {
    "duration": 3,
    "start_time": "2021-10-17T13:21:20.154Z"
   },
   {
    "duration": 48782,
    "start_time": "2021-10-17T13:22:21.502Z"
   },
   {
    "duration": 21,
    "start_time": "2021-10-17T13:24:46.575Z"
   },
   {
    "duration": 8,
    "start_time": "2021-10-17T13:25:13.429Z"
   },
   {
    "duration": 5,
    "start_time": "2021-10-17T13:28:39.774Z"
   },
   {
    "duration": 4,
    "start_time": "2021-10-17T13:29:48.679Z"
   },
   {
    "duration": 37352,
    "start_time": "2021-10-17T13:30:16.861Z"
   },
   {
    "duration": 20,
    "start_time": "2021-10-17T13:31:13.252Z"
   },
   {
    "duration": 8,
    "start_time": "2021-10-17T13:31:20.322Z"
   },
   {
    "duration": 27,
    "start_time": "2021-10-17T13:33:38.068Z"
   },
   {
    "duration": 148,
    "start_time": "2021-10-17T13:33:49.424Z"
   },
   {
    "duration": 1163,
    "start_time": "2021-10-17T13:44:33.816Z"
   },
   {
    "duration": 47,
    "start_time": "2021-10-17T13:44:34.981Z"
   },
   {
    "duration": 14,
    "start_time": "2021-10-17T13:44:35.031Z"
   },
   {
    "duration": 7,
    "start_time": "2021-10-17T13:44:35.047Z"
   },
   {
    "duration": 163,
    "start_time": "2021-10-17T13:44:35.055Z"
   },
   {
    "duration": 5,
    "start_time": "2021-10-17T13:44:35.220Z"
   },
   {
    "duration": 20,
    "start_time": "2021-10-17T13:44:35.227Z"
   },
   {
    "duration": 14,
    "start_time": "2021-10-17T13:44:35.249Z"
   },
   {
    "duration": 26,
    "start_time": "2021-10-17T13:44:35.265Z"
   },
   {
    "duration": 6,
    "start_time": "2021-10-17T13:44:35.293Z"
   },
   {
    "duration": 23,
    "start_time": "2021-10-17T13:44:35.300Z"
   },
   {
    "duration": 49,
    "start_time": "2021-10-17T13:44:35.325Z"
   },
   {
    "duration": 571,
    "start_time": "2021-10-17T13:44:35.376Z"
   },
   {
    "duration": 297,
    "start_time": "2021-10-17T13:44:35.950Z"
   },
   {
    "duration": 10,
    "start_time": "2021-10-17T13:44:36.249Z"
   },
   {
    "duration": 28,
    "start_time": "2021-10-17T13:44:36.260Z"
   },
   {
    "duration": 708,
    "start_time": "2021-10-17T13:44:36.290Z"
   },
   {
    "duration": 554,
    "start_time": "2021-10-17T13:44:36.999Z"
   },
   {
    "duration": 98,
    "start_time": "2021-10-17T13:44:37.646Z"
   },
   {
    "duration": 142,
    "start_time": "2021-10-17T13:44:37.748Z"
   },
   {
    "duration": 202,
    "start_time": "2021-10-17T13:44:37.891Z"
   },
   {
    "duration": 476,
    "start_time": "2021-10-17T13:44:38.095Z"
   },
   {
    "duration": 4,
    "start_time": "2021-10-17T13:44:38.574Z"
   },
   {
    "duration": 139,
    "start_time": "2021-10-17T13:44:38.580Z"
   },
   {
    "duration": 176,
    "start_time": "2021-10-17T13:44:38.721Z"
   },
   {
    "duration": 37052,
    "start_time": "2021-10-17T13:44:38.899Z"
   },
   {
    "duration": 21,
    "start_time": "2021-10-17T13:45:15.953Z"
   },
   {
    "duration": 8,
    "start_time": "2021-10-17T13:45:15.976Z"
   },
   {
    "duration": 30,
    "start_time": "2021-10-17T13:45:15.985Z"
   },
   {
    "duration": 174,
    "start_time": "2021-10-17T13:45:16.044Z"
   },
   {
    "duration": 110,
    "start_time": "2021-10-17T22:08:43.746Z"
   }
  ],
  "kernelspec": {
   "display_name": "Python 3",
   "language": "python",
   "name": "python3"
  },
  "language_info": {
   "codemirror_mode": {
    "name": "ipython",
    "version": 3
   },
   "file_extension": ".py",
   "mimetype": "text/x-python",
   "name": "python",
   "nbconvert_exporter": "python",
   "pygments_lexer": "ipython3",
   "version": "3.8.8"
  },
  "toc": {
   "base_numbering": 1,
   "nav_menu": {},
   "number_sections": true,
   "sideBar": true,
   "skip_h1_title": true,
   "title_cell": "Содержание",
   "title_sidebar": "Contents",
   "toc_cell": true,
   "toc_position": {
    "height": "436px",
    "left": "789px",
    "top": "235px",
    "width": "238.391px"
   },
   "toc_section_display": true,
   "toc_window_display": true
  }
 },
 "nbformat": 4,
 "nbformat_minor": 2
}
