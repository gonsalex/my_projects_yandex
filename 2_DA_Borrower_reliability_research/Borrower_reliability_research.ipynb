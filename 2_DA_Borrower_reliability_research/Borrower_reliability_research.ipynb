{
 "cells": [
  {
   "cell_type": "markdown",
   "metadata": {},
   "source": [
    "# Исследование надёжности заёмщиков\n",
    "\n",
    "Заказчик — кредитный отдел банка. Нужно разобраться, влияет ли семейное положение и количество детей клиента на факт погашения кредита в срок. Входные данные от банка — статистика о платёжеспособности клиентов.\n",
    "\n",
    "Результаты исследования будут учтены при построении модели **кредитного скоринга** — специальной системы, которая оценивает способность потенциального заёмщика вернуть кредит банку."
   ]
  },
  {
   "cell_type": "markdown",
   "metadata": {},
   "source": [
    "## Шаг 1. Изучение общей информации"
   ]
  },
  {
   "cell_type": "code",
   "execution_count": 1,
   "metadata": {},
   "outputs": [
    {
     "name": "stdout",
     "output_type": "stream",
     "text": [
      "<class 'pandas.core.frame.DataFrame'>\n",
      "RangeIndex: 21525 entries, 0 to 21524\n",
      "Data columns (total 12 columns):\n",
      "children            21525 non-null int64\n",
      "days_employed       19351 non-null float64\n",
      "dob_years           21525 non-null int64\n",
      "education           21525 non-null object\n",
      "education_id        21525 non-null int64\n",
      "family_status       21525 non-null object\n",
      "family_status_id    21525 non-null int64\n",
      "gender              21525 non-null object\n",
      "income_type         21525 non-null object\n",
      "debt                21525 non-null int64\n",
      "total_income        19351 non-null float64\n",
      "purpose             21525 non-null object\n",
      "dtypes: float64(2), int64(5), object(5)\n",
      "memory usage: 2.0+ MB\n"
     ]
    }
   ],
   "source": [
    "import pandas as pd\n",
    "data = pd.read_csv('/datasets/data.csv')\n",
    "data.info()"
   ]
  },
  {
   "cell_type": "code",
   "execution_count": 2,
   "metadata": {},
   "outputs": [
    {
     "data": {
      "text/html": [
       "<div>\n",
       "<style scoped>\n",
       "    .dataframe tbody tr th:only-of-type {\n",
       "        vertical-align: middle;\n",
       "    }\n",
       "\n",
       "    .dataframe tbody tr th {\n",
       "        vertical-align: top;\n",
       "    }\n",
       "\n",
       "    .dataframe thead th {\n",
       "        text-align: right;\n",
       "    }\n",
       "</style>\n",
       "<table border=\"1\" class=\"dataframe\">\n",
       "  <thead>\n",
       "    <tr style=\"text-align: right;\">\n",
       "      <th></th>\n",
       "      <th>children</th>\n",
       "      <th>days_employed</th>\n",
       "      <th>dob_years</th>\n",
       "      <th>education</th>\n",
       "      <th>education_id</th>\n",
       "      <th>family_status</th>\n",
       "      <th>family_status_id</th>\n",
       "      <th>gender</th>\n",
       "      <th>income_type</th>\n",
       "      <th>debt</th>\n",
       "      <th>total_income</th>\n",
       "      <th>purpose</th>\n",
       "    </tr>\n",
       "  </thead>\n",
       "  <tbody>\n",
       "    <tr>\n",
       "      <td>0</td>\n",
       "      <td>1</td>\n",
       "      <td>-8437.673028</td>\n",
       "      <td>42</td>\n",
       "      <td>высшее</td>\n",
       "      <td>0</td>\n",
       "      <td>женат / замужем</td>\n",
       "      <td>0</td>\n",
       "      <td>F</td>\n",
       "      <td>сотрудник</td>\n",
       "      <td>0</td>\n",
       "      <td>253875.639453</td>\n",
       "      <td>покупка жилья</td>\n",
       "    </tr>\n",
       "    <tr>\n",
       "      <td>1</td>\n",
       "      <td>1</td>\n",
       "      <td>-4024.803754</td>\n",
       "      <td>36</td>\n",
       "      <td>среднее</td>\n",
       "      <td>1</td>\n",
       "      <td>женат / замужем</td>\n",
       "      <td>0</td>\n",
       "      <td>F</td>\n",
       "      <td>сотрудник</td>\n",
       "      <td>0</td>\n",
       "      <td>112080.014102</td>\n",
       "      <td>приобретение автомобиля</td>\n",
       "    </tr>\n",
       "    <tr>\n",
       "      <td>2</td>\n",
       "      <td>0</td>\n",
       "      <td>-5623.422610</td>\n",
       "      <td>33</td>\n",
       "      <td>Среднее</td>\n",
       "      <td>1</td>\n",
       "      <td>женат / замужем</td>\n",
       "      <td>0</td>\n",
       "      <td>M</td>\n",
       "      <td>сотрудник</td>\n",
       "      <td>0</td>\n",
       "      <td>145885.952297</td>\n",
       "      <td>покупка жилья</td>\n",
       "    </tr>\n",
       "    <tr>\n",
       "      <td>3</td>\n",
       "      <td>3</td>\n",
       "      <td>-4124.747207</td>\n",
       "      <td>32</td>\n",
       "      <td>среднее</td>\n",
       "      <td>1</td>\n",
       "      <td>женат / замужем</td>\n",
       "      <td>0</td>\n",
       "      <td>M</td>\n",
       "      <td>сотрудник</td>\n",
       "      <td>0</td>\n",
       "      <td>267628.550329</td>\n",
       "      <td>дополнительное образование</td>\n",
       "    </tr>\n",
       "    <tr>\n",
       "      <td>4</td>\n",
       "      <td>0</td>\n",
       "      <td>340266.072047</td>\n",
       "      <td>53</td>\n",
       "      <td>среднее</td>\n",
       "      <td>1</td>\n",
       "      <td>гражданский брак</td>\n",
       "      <td>1</td>\n",
       "      <td>F</td>\n",
       "      <td>пенсионер</td>\n",
       "      <td>0</td>\n",
       "      <td>158616.077870</td>\n",
       "      <td>сыграть свадьбу</td>\n",
       "    </tr>\n",
       "    <tr>\n",
       "      <td>5</td>\n",
       "      <td>0</td>\n",
       "      <td>-926.185831</td>\n",
       "      <td>27</td>\n",
       "      <td>высшее</td>\n",
       "      <td>0</td>\n",
       "      <td>гражданский брак</td>\n",
       "      <td>1</td>\n",
       "      <td>M</td>\n",
       "      <td>компаньон</td>\n",
       "      <td>0</td>\n",
       "      <td>255763.565419</td>\n",
       "      <td>покупка жилья</td>\n",
       "    </tr>\n",
       "    <tr>\n",
       "      <td>6</td>\n",
       "      <td>0</td>\n",
       "      <td>-2879.202052</td>\n",
       "      <td>43</td>\n",
       "      <td>высшее</td>\n",
       "      <td>0</td>\n",
       "      <td>женат / замужем</td>\n",
       "      <td>0</td>\n",
       "      <td>F</td>\n",
       "      <td>компаньон</td>\n",
       "      <td>0</td>\n",
       "      <td>240525.971920</td>\n",
       "      <td>операции с жильем</td>\n",
       "    </tr>\n",
       "    <tr>\n",
       "      <td>7</td>\n",
       "      <td>0</td>\n",
       "      <td>-152.779569</td>\n",
       "      <td>50</td>\n",
       "      <td>СРЕДНЕЕ</td>\n",
       "      <td>1</td>\n",
       "      <td>женат / замужем</td>\n",
       "      <td>0</td>\n",
       "      <td>M</td>\n",
       "      <td>сотрудник</td>\n",
       "      <td>0</td>\n",
       "      <td>135823.934197</td>\n",
       "      <td>образование</td>\n",
       "    </tr>\n",
       "    <tr>\n",
       "      <td>8</td>\n",
       "      <td>2</td>\n",
       "      <td>-6929.865299</td>\n",
       "      <td>35</td>\n",
       "      <td>ВЫСШЕЕ</td>\n",
       "      <td>0</td>\n",
       "      <td>гражданский брак</td>\n",
       "      <td>1</td>\n",
       "      <td>F</td>\n",
       "      <td>сотрудник</td>\n",
       "      <td>0</td>\n",
       "      <td>95856.832424</td>\n",
       "      <td>на проведение свадьбы</td>\n",
       "    </tr>\n",
       "    <tr>\n",
       "      <td>9</td>\n",
       "      <td>0</td>\n",
       "      <td>-2188.756445</td>\n",
       "      <td>41</td>\n",
       "      <td>среднее</td>\n",
       "      <td>1</td>\n",
       "      <td>женат / замужем</td>\n",
       "      <td>0</td>\n",
       "      <td>M</td>\n",
       "      <td>сотрудник</td>\n",
       "      <td>0</td>\n",
       "      <td>144425.938277</td>\n",
       "      <td>покупка жилья для семьи</td>\n",
       "    </tr>\n",
       "  </tbody>\n",
       "</table>\n",
       "</div>"
      ],
      "text/plain": [
       "   children  days_employed  dob_years education  education_id  \\\n",
       "0         1   -8437.673028         42    высшее             0   \n",
       "1         1   -4024.803754         36   среднее             1   \n",
       "2         0   -5623.422610         33   Среднее             1   \n",
       "3         3   -4124.747207         32   среднее             1   \n",
       "4         0  340266.072047         53   среднее             1   \n",
       "5         0    -926.185831         27    высшее             0   \n",
       "6         0   -2879.202052         43    высшее             0   \n",
       "7         0    -152.779569         50   СРЕДНЕЕ             1   \n",
       "8         2   -6929.865299         35    ВЫСШЕЕ             0   \n",
       "9         0   -2188.756445         41   среднее             1   \n",
       "\n",
       "      family_status  family_status_id gender income_type  debt   total_income  \\\n",
       "0   женат / замужем                 0      F   сотрудник     0  253875.639453   \n",
       "1   женат / замужем                 0      F   сотрудник     0  112080.014102   \n",
       "2   женат / замужем                 0      M   сотрудник     0  145885.952297   \n",
       "3   женат / замужем                 0      M   сотрудник     0  267628.550329   \n",
       "4  гражданский брак                 1      F   пенсионер     0  158616.077870   \n",
       "5  гражданский брак                 1      M   компаньон     0  255763.565419   \n",
       "6   женат / замужем                 0      F   компаньон     0  240525.971920   \n",
       "7   женат / замужем                 0      M   сотрудник     0  135823.934197   \n",
       "8  гражданский брак                 1      F   сотрудник     0   95856.832424   \n",
       "9   женат / замужем                 0      M   сотрудник     0  144425.938277   \n",
       "\n",
       "                      purpose  \n",
       "0               покупка жилья  \n",
       "1     приобретение автомобиля  \n",
       "2               покупка жилья  \n",
       "3  дополнительное образование  \n",
       "4             сыграть свадьбу  \n",
       "5               покупка жилья  \n",
       "6           операции с жильем  \n",
       "7                 образование  \n",
       "8       на проведение свадьбы  \n",
       "9     покупка жилья для семьи  "
      ]
     },
     "execution_count": 2,
     "metadata": {},
     "output_type": "execute_result"
    }
   ],
   "source": [
    "data.head(10)"
   ]
  },
  {
   "cell_type": "markdown",
   "metadata": {},
   "source": [
    "**Вывод**"
   ]
  },
  {
   "cell_type": "markdown",
   "metadata": {},
   "source": [
    "Файл содержит 21525 строк записей в 12 столбцах. Есть пропуски в данных days_employed, total_income.  В столбце days_employed данные явно не соотвествуют заявленным (стаж работы в днях), т.к. кроме того что числа вещественные, они еще и отрицательные. Возможно данные пострадали при каком-то форматировании, например при переводе из дат в числа. Столбец total_income также содержит вещественные числа, но это выглядит натурально, т.к. вероятно ежемесячный доход высчитывался как средний по данным за определенный период."
   ]
  },
  {
   "cell_type": "markdown",
   "metadata": {},
   "source": [
    "## Шаг 2. Предобработка данных"
   ]
  },
  {
   "cell_type": "markdown",
   "metadata": {},
   "source": [
    "### Обработка пропусков"
   ]
  },
  {
   "cell_type": "code",
   "execution_count": 3,
   "metadata": {},
   "outputs": [
    {
     "data": {
      "text/plain": [
       "children               0\n",
       "days_employed       2174\n",
       "dob_years              0\n",
       "education              0\n",
       "education_id           0\n",
       "family_status          0\n",
       "family_status_id       0\n",
       "gender                 0\n",
       "income_type            0\n",
       "debt                   0\n",
       "total_income        2174\n",
       "purpose                0\n",
       "dtype: int64"
      ]
     },
     "execution_count": 3,
     "metadata": {},
     "output_type": "execute_result"
    }
   ],
   "source": [
    "data.isna().sum()"
   ]
  },
  {
   "cell_type": "markdown",
   "metadata": {},
   "source": [
    "Посмотрим на пропущенные записи в столбцах days_employed и total_income"
   ]
  },
  {
   "cell_type": "code",
   "execution_count": 4,
   "metadata": {},
   "outputs": [
    {
     "data": {
      "text/html": [
       "<div>\n",
       "<style scoped>\n",
       "    .dataframe tbody tr th:only-of-type {\n",
       "        vertical-align: middle;\n",
       "    }\n",
       "\n",
       "    .dataframe tbody tr th {\n",
       "        vertical-align: top;\n",
       "    }\n",
       "\n",
       "    .dataframe thead th {\n",
       "        text-align: right;\n",
       "    }\n",
       "</style>\n",
       "<table border=\"1\" class=\"dataframe\">\n",
       "  <thead>\n",
       "    <tr style=\"text-align: right;\">\n",
       "      <th></th>\n",
       "      <th>children</th>\n",
       "      <th>days_employed</th>\n",
       "      <th>dob_years</th>\n",
       "      <th>education</th>\n",
       "      <th>education_id</th>\n",
       "      <th>family_status</th>\n",
       "      <th>family_status_id</th>\n",
       "      <th>gender</th>\n",
       "      <th>income_type</th>\n",
       "      <th>debt</th>\n",
       "      <th>total_income</th>\n",
       "      <th>purpose</th>\n",
       "    </tr>\n",
       "  </thead>\n",
       "  <tbody>\n",
       "    <tr>\n",
       "      <td>12</td>\n",
       "      <td>0</td>\n",
       "      <td>NaN</td>\n",
       "      <td>65</td>\n",
       "      <td>среднее</td>\n",
       "      <td>1</td>\n",
       "      <td>гражданский брак</td>\n",
       "      <td>1</td>\n",
       "      <td>M</td>\n",
       "      <td>пенсионер</td>\n",
       "      <td>0</td>\n",
       "      <td>NaN</td>\n",
       "      <td>сыграть свадьбу</td>\n",
       "    </tr>\n",
       "    <tr>\n",
       "      <td>26</td>\n",
       "      <td>0</td>\n",
       "      <td>NaN</td>\n",
       "      <td>41</td>\n",
       "      <td>среднее</td>\n",
       "      <td>1</td>\n",
       "      <td>женат / замужем</td>\n",
       "      <td>0</td>\n",
       "      <td>M</td>\n",
       "      <td>госслужащий</td>\n",
       "      <td>0</td>\n",
       "      <td>NaN</td>\n",
       "      <td>образование</td>\n",
       "    </tr>\n",
       "    <tr>\n",
       "      <td>29</td>\n",
       "      <td>0</td>\n",
       "      <td>NaN</td>\n",
       "      <td>63</td>\n",
       "      <td>среднее</td>\n",
       "      <td>1</td>\n",
       "      <td>Не женат / не замужем</td>\n",
       "      <td>4</td>\n",
       "      <td>F</td>\n",
       "      <td>пенсионер</td>\n",
       "      <td>0</td>\n",
       "      <td>NaN</td>\n",
       "      <td>строительство жилой недвижимости</td>\n",
       "    </tr>\n",
       "    <tr>\n",
       "      <td>41</td>\n",
       "      <td>0</td>\n",
       "      <td>NaN</td>\n",
       "      <td>50</td>\n",
       "      <td>среднее</td>\n",
       "      <td>1</td>\n",
       "      <td>женат / замужем</td>\n",
       "      <td>0</td>\n",
       "      <td>F</td>\n",
       "      <td>госслужащий</td>\n",
       "      <td>0</td>\n",
       "      <td>NaN</td>\n",
       "      <td>сделка с подержанным автомобилем</td>\n",
       "    </tr>\n",
       "    <tr>\n",
       "      <td>55</td>\n",
       "      <td>0</td>\n",
       "      <td>NaN</td>\n",
       "      <td>54</td>\n",
       "      <td>среднее</td>\n",
       "      <td>1</td>\n",
       "      <td>гражданский брак</td>\n",
       "      <td>1</td>\n",
       "      <td>F</td>\n",
       "      <td>пенсионер</td>\n",
       "      <td>1</td>\n",
       "      <td>NaN</td>\n",
       "      <td>сыграть свадьбу</td>\n",
       "    </tr>\n",
       "    <tr>\n",
       "      <td>...</td>\n",
       "      <td>...</td>\n",
       "      <td>...</td>\n",
       "      <td>...</td>\n",
       "      <td>...</td>\n",
       "      <td>...</td>\n",
       "      <td>...</td>\n",
       "      <td>...</td>\n",
       "      <td>...</td>\n",
       "      <td>...</td>\n",
       "      <td>...</td>\n",
       "      <td>...</td>\n",
       "      <td>...</td>\n",
       "    </tr>\n",
       "    <tr>\n",
       "      <td>21489</td>\n",
       "      <td>2</td>\n",
       "      <td>NaN</td>\n",
       "      <td>47</td>\n",
       "      <td>Среднее</td>\n",
       "      <td>1</td>\n",
       "      <td>женат / замужем</td>\n",
       "      <td>0</td>\n",
       "      <td>M</td>\n",
       "      <td>компаньон</td>\n",
       "      <td>0</td>\n",
       "      <td>NaN</td>\n",
       "      <td>сделка с автомобилем</td>\n",
       "    </tr>\n",
       "    <tr>\n",
       "      <td>21495</td>\n",
       "      <td>1</td>\n",
       "      <td>NaN</td>\n",
       "      <td>50</td>\n",
       "      <td>среднее</td>\n",
       "      <td>1</td>\n",
       "      <td>гражданский брак</td>\n",
       "      <td>1</td>\n",
       "      <td>F</td>\n",
       "      <td>сотрудник</td>\n",
       "      <td>0</td>\n",
       "      <td>NaN</td>\n",
       "      <td>свадьба</td>\n",
       "    </tr>\n",
       "    <tr>\n",
       "      <td>21497</td>\n",
       "      <td>0</td>\n",
       "      <td>NaN</td>\n",
       "      <td>48</td>\n",
       "      <td>ВЫСШЕЕ</td>\n",
       "      <td>0</td>\n",
       "      <td>женат / замужем</td>\n",
       "      <td>0</td>\n",
       "      <td>F</td>\n",
       "      <td>компаньон</td>\n",
       "      <td>0</td>\n",
       "      <td>NaN</td>\n",
       "      <td>строительство недвижимости</td>\n",
       "    </tr>\n",
       "    <tr>\n",
       "      <td>21502</td>\n",
       "      <td>1</td>\n",
       "      <td>NaN</td>\n",
       "      <td>42</td>\n",
       "      <td>среднее</td>\n",
       "      <td>1</td>\n",
       "      <td>женат / замужем</td>\n",
       "      <td>0</td>\n",
       "      <td>F</td>\n",
       "      <td>сотрудник</td>\n",
       "      <td>0</td>\n",
       "      <td>NaN</td>\n",
       "      <td>строительство жилой недвижимости</td>\n",
       "    </tr>\n",
       "    <tr>\n",
       "      <td>21510</td>\n",
       "      <td>2</td>\n",
       "      <td>NaN</td>\n",
       "      <td>28</td>\n",
       "      <td>среднее</td>\n",
       "      <td>1</td>\n",
       "      <td>женат / замужем</td>\n",
       "      <td>0</td>\n",
       "      <td>F</td>\n",
       "      <td>сотрудник</td>\n",
       "      <td>0</td>\n",
       "      <td>NaN</td>\n",
       "      <td>приобретение автомобиля</td>\n",
       "    </tr>\n",
       "  </tbody>\n",
       "</table>\n",
       "<p>2174 rows × 12 columns</p>\n",
       "</div>"
      ],
      "text/plain": [
       "       children  days_employed  dob_years education  education_id  \\\n",
       "12            0            NaN         65   среднее             1   \n",
       "26            0            NaN         41   среднее             1   \n",
       "29            0            NaN         63   среднее             1   \n",
       "41            0            NaN         50   среднее             1   \n",
       "55            0            NaN         54   среднее             1   \n",
       "...         ...            ...        ...       ...           ...   \n",
       "21489         2            NaN         47   Среднее             1   \n",
       "21495         1            NaN         50   среднее             1   \n",
       "21497         0            NaN         48    ВЫСШЕЕ             0   \n",
       "21502         1            NaN         42   среднее             1   \n",
       "21510         2            NaN         28   среднее             1   \n",
       "\n",
       "               family_status  family_status_id gender  income_type  debt  \\\n",
       "12          гражданский брак                 1      M    пенсионер     0   \n",
       "26           женат / замужем                 0      M  госслужащий     0   \n",
       "29     Не женат / не замужем                 4      F    пенсионер     0   \n",
       "41           женат / замужем                 0      F  госслужащий     0   \n",
       "55          гражданский брак                 1      F    пенсионер     1   \n",
       "...                      ...               ...    ...          ...   ...   \n",
       "21489        женат / замужем                 0      M    компаньон     0   \n",
       "21495       гражданский брак                 1      F    сотрудник     0   \n",
       "21497        женат / замужем                 0      F    компаньон     0   \n",
       "21502        женат / замужем                 0      F    сотрудник     0   \n",
       "21510        женат / замужем                 0      F    сотрудник     0   \n",
       "\n",
       "       total_income                           purpose  \n",
       "12              NaN                   сыграть свадьбу  \n",
       "26              NaN                       образование  \n",
       "29              NaN  строительство жилой недвижимости  \n",
       "41              NaN  сделка с подержанным автомобилем  \n",
       "55              NaN                   сыграть свадьбу  \n",
       "...             ...                               ...  \n",
       "21489           NaN              сделка с автомобилем  \n",
       "21495           NaN                           свадьба  \n",
       "21497           NaN        строительство недвижимости  \n",
       "21502           NaN  строительство жилой недвижимости  \n",
       "21510           NaN           приобретение автомобиля  \n",
       "\n",
       "[2174 rows x 12 columns]"
      ]
     },
     "execution_count": 4,
     "metadata": {},
     "output_type": "execute_result"
    }
   ],
   "source": [
    "data[data['days_employed'].isna()]"
   ]
  },
  {
   "cell_type": "code",
   "execution_count": 5,
   "metadata": {},
   "outputs": [
    {
     "data": {
      "text/html": [
       "<div>\n",
       "<style scoped>\n",
       "    .dataframe tbody tr th:only-of-type {\n",
       "        vertical-align: middle;\n",
       "    }\n",
       "\n",
       "    .dataframe tbody tr th {\n",
       "        vertical-align: top;\n",
       "    }\n",
       "\n",
       "    .dataframe thead th {\n",
       "        text-align: right;\n",
       "    }\n",
       "</style>\n",
       "<table border=\"1\" class=\"dataframe\">\n",
       "  <thead>\n",
       "    <tr style=\"text-align: right;\">\n",
       "      <th></th>\n",
       "      <th>children</th>\n",
       "      <th>days_employed</th>\n",
       "      <th>dob_years</th>\n",
       "      <th>education</th>\n",
       "      <th>education_id</th>\n",
       "      <th>family_status</th>\n",
       "      <th>family_status_id</th>\n",
       "      <th>gender</th>\n",
       "      <th>income_type</th>\n",
       "      <th>debt</th>\n",
       "      <th>total_income</th>\n",
       "      <th>purpose</th>\n",
       "    </tr>\n",
       "  </thead>\n",
       "  <tbody>\n",
       "    <tr>\n",
       "      <td>12</td>\n",
       "      <td>0</td>\n",
       "      <td>NaN</td>\n",
       "      <td>65</td>\n",
       "      <td>среднее</td>\n",
       "      <td>1</td>\n",
       "      <td>гражданский брак</td>\n",
       "      <td>1</td>\n",
       "      <td>M</td>\n",
       "      <td>пенсионер</td>\n",
       "      <td>0</td>\n",
       "      <td>NaN</td>\n",
       "      <td>сыграть свадьбу</td>\n",
       "    </tr>\n",
       "    <tr>\n",
       "      <td>26</td>\n",
       "      <td>0</td>\n",
       "      <td>NaN</td>\n",
       "      <td>41</td>\n",
       "      <td>среднее</td>\n",
       "      <td>1</td>\n",
       "      <td>женат / замужем</td>\n",
       "      <td>0</td>\n",
       "      <td>M</td>\n",
       "      <td>госслужащий</td>\n",
       "      <td>0</td>\n",
       "      <td>NaN</td>\n",
       "      <td>образование</td>\n",
       "    </tr>\n",
       "    <tr>\n",
       "      <td>29</td>\n",
       "      <td>0</td>\n",
       "      <td>NaN</td>\n",
       "      <td>63</td>\n",
       "      <td>среднее</td>\n",
       "      <td>1</td>\n",
       "      <td>Не женат / не замужем</td>\n",
       "      <td>4</td>\n",
       "      <td>F</td>\n",
       "      <td>пенсионер</td>\n",
       "      <td>0</td>\n",
       "      <td>NaN</td>\n",
       "      <td>строительство жилой недвижимости</td>\n",
       "    </tr>\n",
       "    <tr>\n",
       "      <td>41</td>\n",
       "      <td>0</td>\n",
       "      <td>NaN</td>\n",
       "      <td>50</td>\n",
       "      <td>среднее</td>\n",
       "      <td>1</td>\n",
       "      <td>женат / замужем</td>\n",
       "      <td>0</td>\n",
       "      <td>F</td>\n",
       "      <td>госслужащий</td>\n",
       "      <td>0</td>\n",
       "      <td>NaN</td>\n",
       "      <td>сделка с подержанным автомобилем</td>\n",
       "    </tr>\n",
       "    <tr>\n",
       "      <td>55</td>\n",
       "      <td>0</td>\n",
       "      <td>NaN</td>\n",
       "      <td>54</td>\n",
       "      <td>среднее</td>\n",
       "      <td>1</td>\n",
       "      <td>гражданский брак</td>\n",
       "      <td>1</td>\n",
       "      <td>F</td>\n",
       "      <td>пенсионер</td>\n",
       "      <td>1</td>\n",
       "      <td>NaN</td>\n",
       "      <td>сыграть свадьбу</td>\n",
       "    </tr>\n",
       "    <tr>\n",
       "      <td>...</td>\n",
       "      <td>...</td>\n",
       "      <td>...</td>\n",
       "      <td>...</td>\n",
       "      <td>...</td>\n",
       "      <td>...</td>\n",
       "      <td>...</td>\n",
       "      <td>...</td>\n",
       "      <td>...</td>\n",
       "      <td>...</td>\n",
       "      <td>...</td>\n",
       "      <td>...</td>\n",
       "      <td>...</td>\n",
       "    </tr>\n",
       "    <tr>\n",
       "      <td>21489</td>\n",
       "      <td>2</td>\n",
       "      <td>NaN</td>\n",
       "      <td>47</td>\n",
       "      <td>Среднее</td>\n",
       "      <td>1</td>\n",
       "      <td>женат / замужем</td>\n",
       "      <td>0</td>\n",
       "      <td>M</td>\n",
       "      <td>компаньон</td>\n",
       "      <td>0</td>\n",
       "      <td>NaN</td>\n",
       "      <td>сделка с автомобилем</td>\n",
       "    </tr>\n",
       "    <tr>\n",
       "      <td>21495</td>\n",
       "      <td>1</td>\n",
       "      <td>NaN</td>\n",
       "      <td>50</td>\n",
       "      <td>среднее</td>\n",
       "      <td>1</td>\n",
       "      <td>гражданский брак</td>\n",
       "      <td>1</td>\n",
       "      <td>F</td>\n",
       "      <td>сотрудник</td>\n",
       "      <td>0</td>\n",
       "      <td>NaN</td>\n",
       "      <td>свадьба</td>\n",
       "    </tr>\n",
       "    <tr>\n",
       "      <td>21497</td>\n",
       "      <td>0</td>\n",
       "      <td>NaN</td>\n",
       "      <td>48</td>\n",
       "      <td>ВЫСШЕЕ</td>\n",
       "      <td>0</td>\n",
       "      <td>женат / замужем</td>\n",
       "      <td>0</td>\n",
       "      <td>F</td>\n",
       "      <td>компаньон</td>\n",
       "      <td>0</td>\n",
       "      <td>NaN</td>\n",
       "      <td>строительство недвижимости</td>\n",
       "    </tr>\n",
       "    <tr>\n",
       "      <td>21502</td>\n",
       "      <td>1</td>\n",
       "      <td>NaN</td>\n",
       "      <td>42</td>\n",
       "      <td>среднее</td>\n",
       "      <td>1</td>\n",
       "      <td>женат / замужем</td>\n",
       "      <td>0</td>\n",
       "      <td>F</td>\n",
       "      <td>сотрудник</td>\n",
       "      <td>0</td>\n",
       "      <td>NaN</td>\n",
       "      <td>строительство жилой недвижимости</td>\n",
       "    </tr>\n",
       "    <tr>\n",
       "      <td>21510</td>\n",
       "      <td>2</td>\n",
       "      <td>NaN</td>\n",
       "      <td>28</td>\n",
       "      <td>среднее</td>\n",
       "      <td>1</td>\n",
       "      <td>женат / замужем</td>\n",
       "      <td>0</td>\n",
       "      <td>F</td>\n",
       "      <td>сотрудник</td>\n",
       "      <td>0</td>\n",
       "      <td>NaN</td>\n",
       "      <td>приобретение автомобиля</td>\n",
       "    </tr>\n",
       "  </tbody>\n",
       "</table>\n",
       "<p>2174 rows × 12 columns</p>\n",
       "</div>"
      ],
      "text/plain": [
       "       children  days_employed  dob_years education  education_id  \\\n",
       "12            0            NaN         65   среднее             1   \n",
       "26            0            NaN         41   среднее             1   \n",
       "29            0            NaN         63   среднее             1   \n",
       "41            0            NaN         50   среднее             1   \n",
       "55            0            NaN         54   среднее             1   \n",
       "...         ...            ...        ...       ...           ...   \n",
       "21489         2            NaN         47   Среднее             1   \n",
       "21495         1            NaN         50   среднее             1   \n",
       "21497         0            NaN         48    ВЫСШЕЕ             0   \n",
       "21502         1            NaN         42   среднее             1   \n",
       "21510         2            NaN         28   среднее             1   \n",
       "\n",
       "               family_status  family_status_id gender  income_type  debt  \\\n",
       "12          гражданский брак                 1      M    пенсионер     0   \n",
       "26           женат / замужем                 0      M  госслужащий     0   \n",
       "29     Не женат / не замужем                 4      F    пенсионер     0   \n",
       "41           женат / замужем                 0      F  госслужащий     0   \n",
       "55          гражданский брак                 1      F    пенсионер     1   \n",
       "...                      ...               ...    ...          ...   ...   \n",
       "21489        женат / замужем                 0      M    компаньон     0   \n",
       "21495       гражданский брак                 1      F    сотрудник     0   \n",
       "21497        женат / замужем                 0      F    компаньон     0   \n",
       "21502        женат / замужем                 0      F    сотрудник     0   \n",
       "21510        женат / замужем                 0      F    сотрудник     0   \n",
       "\n",
       "       total_income                           purpose  \n",
       "12              NaN                   сыграть свадьбу  \n",
       "26              NaN                       образование  \n",
       "29              NaN  строительство жилой недвижимости  \n",
       "41              NaN  сделка с подержанным автомобилем  \n",
       "55              NaN                   сыграть свадьбу  \n",
       "...             ...                               ...  \n",
       "21489           NaN              сделка с автомобилем  \n",
       "21495           NaN                           свадьба  \n",
       "21497           NaN        строительство недвижимости  \n",
       "21502           NaN  строительство жилой недвижимости  \n",
       "21510           NaN           приобретение автомобиля  \n",
       "\n",
       "[2174 rows x 12 columns]"
      ]
     },
     "execution_count": 5,
     "metadata": {},
     "output_type": "execute_result"
    }
   ],
   "source": [
    "data[data['total_income'].isna()]"
   ]
  },
  {
   "cell_type": "code",
   "execution_count": 6,
   "metadata": {},
   "outputs": [
    {
     "data": {
      "text/html": [
       "<div>\n",
       "<style scoped>\n",
       "    .dataframe tbody tr th:only-of-type {\n",
       "        vertical-align: middle;\n",
       "    }\n",
       "\n",
       "    .dataframe tbody tr th {\n",
       "        vertical-align: top;\n",
       "    }\n",
       "\n",
       "    .dataframe thead th {\n",
       "        text-align: right;\n",
       "    }\n",
       "</style>\n",
       "<table border=\"1\" class=\"dataframe\">\n",
       "  <thead>\n",
       "    <tr style=\"text-align: right;\">\n",
       "      <th></th>\n",
       "      <th>children</th>\n",
       "      <th>days_employed</th>\n",
       "      <th>dob_years</th>\n",
       "      <th>education</th>\n",
       "      <th>education_id</th>\n",
       "      <th>family_status</th>\n",
       "      <th>family_status_id</th>\n",
       "      <th>gender</th>\n",
       "      <th>income_type</th>\n",
       "      <th>debt</th>\n",
       "      <th>total_income</th>\n",
       "      <th>purpose</th>\n",
       "    </tr>\n",
       "  </thead>\n",
       "  <tbody>\n",
       "    <tr>\n",
       "      <td>12</td>\n",
       "      <td>0</td>\n",
       "      <td>NaN</td>\n",
       "      <td>65</td>\n",
       "      <td>среднее</td>\n",
       "      <td>1</td>\n",
       "      <td>гражданский брак</td>\n",
       "      <td>1</td>\n",
       "      <td>M</td>\n",
       "      <td>пенсионер</td>\n",
       "      <td>0</td>\n",
       "      <td>NaN</td>\n",
       "      <td>сыграть свадьбу</td>\n",
       "    </tr>\n",
       "    <tr>\n",
       "      <td>26</td>\n",
       "      <td>0</td>\n",
       "      <td>NaN</td>\n",
       "      <td>41</td>\n",
       "      <td>среднее</td>\n",
       "      <td>1</td>\n",
       "      <td>женат / замужем</td>\n",
       "      <td>0</td>\n",
       "      <td>M</td>\n",
       "      <td>госслужащий</td>\n",
       "      <td>0</td>\n",
       "      <td>NaN</td>\n",
       "      <td>образование</td>\n",
       "    </tr>\n",
       "    <tr>\n",
       "      <td>29</td>\n",
       "      <td>0</td>\n",
       "      <td>NaN</td>\n",
       "      <td>63</td>\n",
       "      <td>среднее</td>\n",
       "      <td>1</td>\n",
       "      <td>Не женат / не замужем</td>\n",
       "      <td>4</td>\n",
       "      <td>F</td>\n",
       "      <td>пенсионер</td>\n",
       "      <td>0</td>\n",
       "      <td>NaN</td>\n",
       "      <td>строительство жилой недвижимости</td>\n",
       "    </tr>\n",
       "    <tr>\n",
       "      <td>41</td>\n",
       "      <td>0</td>\n",
       "      <td>NaN</td>\n",
       "      <td>50</td>\n",
       "      <td>среднее</td>\n",
       "      <td>1</td>\n",
       "      <td>женат / замужем</td>\n",
       "      <td>0</td>\n",
       "      <td>F</td>\n",
       "      <td>госслужащий</td>\n",
       "      <td>0</td>\n",
       "      <td>NaN</td>\n",
       "      <td>сделка с подержанным автомобилем</td>\n",
       "    </tr>\n",
       "    <tr>\n",
       "      <td>55</td>\n",
       "      <td>0</td>\n",
       "      <td>NaN</td>\n",
       "      <td>54</td>\n",
       "      <td>среднее</td>\n",
       "      <td>1</td>\n",
       "      <td>гражданский брак</td>\n",
       "      <td>1</td>\n",
       "      <td>F</td>\n",
       "      <td>пенсионер</td>\n",
       "      <td>1</td>\n",
       "      <td>NaN</td>\n",
       "      <td>сыграть свадьбу</td>\n",
       "    </tr>\n",
       "    <tr>\n",
       "      <td>...</td>\n",
       "      <td>...</td>\n",
       "      <td>...</td>\n",
       "      <td>...</td>\n",
       "      <td>...</td>\n",
       "      <td>...</td>\n",
       "      <td>...</td>\n",
       "      <td>...</td>\n",
       "      <td>...</td>\n",
       "      <td>...</td>\n",
       "      <td>...</td>\n",
       "      <td>...</td>\n",
       "      <td>...</td>\n",
       "    </tr>\n",
       "    <tr>\n",
       "      <td>21489</td>\n",
       "      <td>2</td>\n",
       "      <td>NaN</td>\n",
       "      <td>47</td>\n",
       "      <td>Среднее</td>\n",
       "      <td>1</td>\n",
       "      <td>женат / замужем</td>\n",
       "      <td>0</td>\n",
       "      <td>M</td>\n",
       "      <td>компаньон</td>\n",
       "      <td>0</td>\n",
       "      <td>NaN</td>\n",
       "      <td>сделка с автомобилем</td>\n",
       "    </tr>\n",
       "    <tr>\n",
       "      <td>21495</td>\n",
       "      <td>1</td>\n",
       "      <td>NaN</td>\n",
       "      <td>50</td>\n",
       "      <td>среднее</td>\n",
       "      <td>1</td>\n",
       "      <td>гражданский брак</td>\n",
       "      <td>1</td>\n",
       "      <td>F</td>\n",
       "      <td>сотрудник</td>\n",
       "      <td>0</td>\n",
       "      <td>NaN</td>\n",
       "      <td>свадьба</td>\n",
       "    </tr>\n",
       "    <tr>\n",
       "      <td>21497</td>\n",
       "      <td>0</td>\n",
       "      <td>NaN</td>\n",
       "      <td>48</td>\n",
       "      <td>ВЫСШЕЕ</td>\n",
       "      <td>0</td>\n",
       "      <td>женат / замужем</td>\n",
       "      <td>0</td>\n",
       "      <td>F</td>\n",
       "      <td>компаньон</td>\n",
       "      <td>0</td>\n",
       "      <td>NaN</td>\n",
       "      <td>строительство недвижимости</td>\n",
       "    </tr>\n",
       "    <tr>\n",
       "      <td>21502</td>\n",
       "      <td>1</td>\n",
       "      <td>NaN</td>\n",
       "      <td>42</td>\n",
       "      <td>среднее</td>\n",
       "      <td>1</td>\n",
       "      <td>женат / замужем</td>\n",
       "      <td>0</td>\n",
       "      <td>F</td>\n",
       "      <td>сотрудник</td>\n",
       "      <td>0</td>\n",
       "      <td>NaN</td>\n",
       "      <td>строительство жилой недвижимости</td>\n",
       "    </tr>\n",
       "    <tr>\n",
       "      <td>21510</td>\n",
       "      <td>2</td>\n",
       "      <td>NaN</td>\n",
       "      <td>28</td>\n",
       "      <td>среднее</td>\n",
       "      <td>1</td>\n",
       "      <td>женат / замужем</td>\n",
       "      <td>0</td>\n",
       "      <td>F</td>\n",
       "      <td>сотрудник</td>\n",
       "      <td>0</td>\n",
       "      <td>NaN</td>\n",
       "      <td>приобретение автомобиля</td>\n",
       "    </tr>\n",
       "  </tbody>\n",
       "</table>\n",
       "<p>2174 rows × 12 columns</p>\n",
       "</div>"
      ],
      "text/plain": [
       "       children  days_employed  dob_years education  education_id  \\\n",
       "12            0            NaN         65   среднее             1   \n",
       "26            0            NaN         41   среднее             1   \n",
       "29            0            NaN         63   среднее             1   \n",
       "41            0            NaN         50   среднее             1   \n",
       "55            0            NaN         54   среднее             1   \n",
       "...         ...            ...        ...       ...           ...   \n",
       "21489         2            NaN         47   Среднее             1   \n",
       "21495         1            NaN         50   среднее             1   \n",
       "21497         0            NaN         48    ВЫСШЕЕ             0   \n",
       "21502         1            NaN         42   среднее             1   \n",
       "21510         2            NaN         28   среднее             1   \n",
       "\n",
       "               family_status  family_status_id gender  income_type  debt  \\\n",
       "12          гражданский брак                 1      M    пенсионер     0   \n",
       "26           женат / замужем                 0      M  госслужащий     0   \n",
       "29     Не женат / не замужем                 4      F    пенсионер     0   \n",
       "41           женат / замужем                 0      F  госслужащий     0   \n",
       "55          гражданский брак                 1      F    пенсионер     1   \n",
       "...                      ...               ...    ...          ...   ...   \n",
       "21489        женат / замужем                 0      M    компаньон     0   \n",
       "21495       гражданский брак                 1      F    сотрудник     0   \n",
       "21497        женат / замужем                 0      F    компаньон     0   \n",
       "21502        женат / замужем                 0      F    сотрудник     0   \n",
       "21510        женат / замужем                 0      F    сотрудник     0   \n",
       "\n",
       "       total_income                           purpose  \n",
       "12              NaN                   сыграть свадьбу  \n",
       "26              NaN                       образование  \n",
       "29              NaN  строительство жилой недвижимости  \n",
       "41              NaN  сделка с подержанным автомобилем  \n",
       "55              NaN                   сыграть свадьбу  \n",
       "...             ...                               ...  \n",
       "21489           NaN              сделка с автомобилем  \n",
       "21495           NaN                           свадьба  \n",
       "21497           NaN        строительство недвижимости  \n",
       "21502           NaN  строительство жилой недвижимости  \n",
       "21510           NaN           приобретение автомобиля  \n",
       "\n",
       "[2174 rows x 12 columns]"
      ]
     },
     "execution_count": 6,
     "metadata": {},
     "output_type": "execute_result"
    }
   ],
   "source": [
    "data[(data['days_employed'].isna() == True) & (data['total_income'].isna() == True)]"
   ]
  },
  {
   "cell_type": "markdown",
   "metadata": {},
   "source": [
    "Пропуски в обоих столбцах в одних и тех же строках, всего 2174 строки, что составляет около 10% записей. Данные столбца 'days_employed' не пригодятся нам в нашем исследовании, тем более в нем находятся недостоверные данные.\n",
    "Удаляем столбец days_employed."
   ]
  },
  {
   "cell_type": "code",
   "execution_count": 7,
   "metadata": {},
   "outputs": [
    {
     "data": {
      "text/html": [
       "<div>\n",
       "<style scoped>\n",
       "    .dataframe tbody tr th:only-of-type {\n",
       "        vertical-align: middle;\n",
       "    }\n",
       "\n",
       "    .dataframe tbody tr th {\n",
       "        vertical-align: top;\n",
       "    }\n",
       "\n",
       "    .dataframe thead th {\n",
       "        text-align: right;\n",
       "    }\n",
       "</style>\n",
       "<table border=\"1\" class=\"dataframe\">\n",
       "  <thead>\n",
       "    <tr style=\"text-align: right;\">\n",
       "      <th></th>\n",
       "      <th>children</th>\n",
       "      <th>dob_years</th>\n",
       "      <th>education</th>\n",
       "      <th>education_id</th>\n",
       "      <th>family_status</th>\n",
       "      <th>family_status_id</th>\n",
       "      <th>gender</th>\n",
       "      <th>income_type</th>\n",
       "      <th>debt</th>\n",
       "      <th>total_income</th>\n",
       "      <th>purpose</th>\n",
       "    </tr>\n",
       "  </thead>\n",
       "  <tbody>\n",
       "    <tr>\n",
       "      <td>0</td>\n",
       "      <td>1</td>\n",
       "      <td>42</td>\n",
       "      <td>высшее</td>\n",
       "      <td>0</td>\n",
       "      <td>женат / замужем</td>\n",
       "      <td>0</td>\n",
       "      <td>F</td>\n",
       "      <td>сотрудник</td>\n",
       "      <td>0</td>\n",
       "      <td>253875.639453</td>\n",
       "      <td>покупка жилья</td>\n",
       "    </tr>\n",
       "    <tr>\n",
       "      <td>1</td>\n",
       "      <td>1</td>\n",
       "      <td>36</td>\n",
       "      <td>среднее</td>\n",
       "      <td>1</td>\n",
       "      <td>женат / замужем</td>\n",
       "      <td>0</td>\n",
       "      <td>F</td>\n",
       "      <td>сотрудник</td>\n",
       "      <td>0</td>\n",
       "      <td>112080.014102</td>\n",
       "      <td>приобретение автомобиля</td>\n",
       "    </tr>\n",
       "    <tr>\n",
       "      <td>2</td>\n",
       "      <td>0</td>\n",
       "      <td>33</td>\n",
       "      <td>Среднее</td>\n",
       "      <td>1</td>\n",
       "      <td>женат / замужем</td>\n",
       "      <td>0</td>\n",
       "      <td>M</td>\n",
       "      <td>сотрудник</td>\n",
       "      <td>0</td>\n",
       "      <td>145885.952297</td>\n",
       "      <td>покупка жилья</td>\n",
       "    </tr>\n",
       "    <tr>\n",
       "      <td>3</td>\n",
       "      <td>3</td>\n",
       "      <td>32</td>\n",
       "      <td>среднее</td>\n",
       "      <td>1</td>\n",
       "      <td>женат / замужем</td>\n",
       "      <td>0</td>\n",
       "      <td>M</td>\n",
       "      <td>сотрудник</td>\n",
       "      <td>0</td>\n",
       "      <td>267628.550329</td>\n",
       "      <td>дополнительное образование</td>\n",
       "    </tr>\n",
       "    <tr>\n",
       "      <td>4</td>\n",
       "      <td>0</td>\n",
       "      <td>53</td>\n",
       "      <td>среднее</td>\n",
       "      <td>1</td>\n",
       "      <td>гражданский брак</td>\n",
       "      <td>1</td>\n",
       "      <td>F</td>\n",
       "      <td>пенсионер</td>\n",
       "      <td>0</td>\n",
       "      <td>158616.077870</td>\n",
       "      <td>сыграть свадьбу</td>\n",
       "    </tr>\n",
       "  </tbody>\n",
       "</table>\n",
       "</div>"
      ],
      "text/plain": [
       "   children  dob_years education  education_id     family_status  \\\n",
       "0         1         42    высшее             0   женат / замужем   \n",
       "1         1         36   среднее             1   женат / замужем   \n",
       "2         0         33   Среднее             1   женат / замужем   \n",
       "3         3         32   среднее             1   женат / замужем   \n",
       "4         0         53   среднее             1  гражданский брак   \n",
       "\n",
       "   family_status_id gender income_type  debt   total_income  \\\n",
       "0                 0      F   сотрудник     0  253875.639453   \n",
       "1                 0      F   сотрудник     0  112080.014102   \n",
       "2                 0      M   сотрудник     0  145885.952297   \n",
       "3                 0      M   сотрудник     0  267628.550329   \n",
       "4                 1      F   пенсионер     0  158616.077870   \n",
       "\n",
       "                      purpose  \n",
       "0               покупка жилья  \n",
       "1     приобретение автомобиля  \n",
       "2               покупка жилья  \n",
       "3  дополнительное образование  \n",
       "4             сыграть свадьбу  "
      ]
     },
     "execution_count": 7,
     "metadata": {},
     "output_type": "execute_result"
    }
   ],
   "source": [
    "data.drop('days_employed', axis=1, inplace=True)\n",
    "data.head(5)"
   ]
  },
  {
   "cell_type": "markdown",
   "metadata": {},
   "source": [
    " Исследуем дальше. Пропуски в столбце 'total_income' заполнены значением NaN, всего 2174 значения. Тип пропущенных данных количественный. Причины возникновения пропусков неизвестны, но имеют связь с отсутствующими данными стажа работы. Можно предположить что это безработные или клиенты еще не работавшие, но  у них разный возарст и указаны различные типы занятости. Вероятно это просто клиенты не предоставлявшие сведения/справки с работы о доходах и стаже. Или данные были утеряны при выгрузках. Можно применить замену средним или  медианным значением. Посмотрим на данные столбца:\n",
    "</div>"
   ]
  },
  {
   "cell_type": "code",
   "execution_count": 9,
   "metadata": {},
   "outputs": [
    {
     "data": {
      "text/plain": [
       "count    1.935100e+04\n",
       "mean     1.674223e+05\n",
       "std      1.029716e+05\n",
       "min      2.066726e+04\n",
       "25%      1.030532e+05\n",
       "50%      1.450179e+05\n",
       "75%      2.034351e+05\n",
       "max      2.265604e+06\n",
       "Name: total_income, dtype: float64"
      ]
     },
     "execution_count": 9,
     "metadata": {},
     "output_type": "execute_result"
    }
   ],
   "source": [
    "data['total_income'].describe()"
   ]
  },
  {
   "cell_type": "markdown",
   "metadata": {},
   "source": [
    "Данные имеют большой разброс и выделяющиеся значения, максимальное значение 2265604 в 10 раз превышает значение 203435 на 75%. Заполним пропуски медианным значением.   "
   ]
  },
  {
   "cell_type": "code",
   "execution_count": 10,
   "metadata": {},
   "outputs": [
    {
     "name": "stdout",
     "output_type": "stream",
     "text": [
      "<class 'pandas.core.frame.DataFrame'>\n",
      "RangeIndex: 21525 entries, 0 to 21524\n",
      "Data columns (total 11 columns):\n",
      "children            21525 non-null int64\n",
      "dob_years           21525 non-null int64\n",
      "education           21525 non-null object\n",
      "education_id        21525 non-null int64\n",
      "family_status       21525 non-null object\n",
      "family_status_id    21525 non-null int64\n",
      "gender              21525 non-null object\n",
      "income_type         21525 non-null object\n",
      "debt                21525 non-null int64\n",
      "total_income        21525 non-null float64\n",
      "purpose             21525 non-null object\n",
      "dtypes: float64(1), int64(5), object(5)\n",
      "memory usage: 1.8+ MB\n"
     ]
    }
   ],
   "source": [
    "total_income_median = data['total_income'].median()\n",
    "data['total_income'] = data['total_income'].fillna(value=total_income_median)\n",
    "data.info()"
   ]
  },
  {
   "cell_type": "markdown",
   "metadata": {},
   "source": [
    "\n",
    "Проверим другие столбцы на пропуски /скрытые пропуски.\n",
    " "
   ]
  },
  {
   "cell_type": "code",
   "execution_count": 11,
   "metadata": {},
   "outputs": [
    {
     "name": "stdout",
     "output_type": "stream",
     "text": [
      "children\n",
      "[-1, 0, 1, 2, 3, 4, 5, 20]\n",
      " 0     14149\n",
      " 1      4818\n",
      " 2      2055\n",
      " 3       330\n",
      " 20       76\n",
      "-1        47\n",
      " 4        41\n",
      " 5         9\n",
      "Name: children, dtype: int64\n",
      "\n",
      "dob_years\n",
      "[0, 19, 20, 21, 22, 23, 24, 25, 26, 27, 28, 29, 30, 31, 32, 33, 34, 35, 36, 37, 38, 39, 40, 41, 42, 43, 44, 45, 46, 47, 48, 49, 50, 51, 52, 53, 54, 55, 56, 57, 58, 59, 60, 61, 62, 63, 64, 65, 66, 67, 68, 69, 70, 71, 72, 73, 74, 75]\n",
      "35    617\n",
      "40    609\n",
      "41    607\n",
      "34    603\n",
      "38    598\n",
      "42    597\n",
      "33    581\n",
      "39    573\n",
      "31    560\n",
      "36    555\n",
      "44    547\n",
      "29    545\n",
      "30    540\n",
      "48    538\n",
      "37    537\n",
      "50    514\n",
      "43    513\n",
      "32    510\n",
      "49    508\n",
      "28    503\n",
      "45    497\n",
      "27    493\n",
      "56    487\n",
      "52    484\n",
      "47    480\n",
      "54    479\n",
      "46    475\n",
      "58    461\n",
      "57    460\n",
      "53    459\n",
      "51    448\n",
      "59    444\n",
      "55    443\n",
      "26    408\n",
      "60    377\n",
      "25    357\n",
      "61    355\n",
      "62    352\n",
      "63    269\n",
      "64    265\n",
      "24    264\n",
      "23    254\n",
      "65    194\n",
      "66    183\n",
      "22    183\n",
      "67    167\n",
      "21    111\n",
      "0     101\n",
      "68     99\n",
      "69     85\n",
      "70     65\n",
      "71     58\n",
      "20     51\n",
      "72     33\n",
      "19     14\n",
      "73      8\n",
      "74      6\n",
      "75      1\n",
      "Name: dob_years, dtype: int64\n",
      "\n",
      "education\n",
      "['ВЫСШЕЕ', 'Высшее', 'НАЧАЛЬНОЕ', 'НЕОКОНЧЕННОЕ ВЫСШЕЕ', 'Начальное', 'Неоконченное высшее', 'СРЕДНЕЕ', 'Среднее', 'УЧЕНАЯ СТЕПЕНЬ', 'Ученая степень', 'высшее', 'начальное', 'неоконченное высшее', 'среднее', 'ученая степень']\n",
      "среднее                13750\n",
      "высшее                  4718\n",
      "СРЕДНЕЕ                  772\n",
      "Среднее                  711\n",
      "неоконченное высшее      668\n",
      "ВЫСШЕЕ                   274\n",
      "Высшее                   268\n",
      "начальное                250\n",
      "Неоконченное высшее       47\n",
      "НЕОКОНЧЕННОЕ ВЫСШЕЕ       29\n",
      "НАЧАЛЬНОЕ                 17\n",
      "Начальное                 15\n",
      "ученая степень             4\n",
      "УЧЕНАЯ СТЕПЕНЬ             1\n",
      "Ученая степень             1\n",
      "Name: education, dtype: int64\n",
      "\n",
      "education_id\n",
      "[0, 1, 2, 3, 4]\n",
      "1    15233\n",
      "0     5260\n",
      "2      744\n",
      "3      282\n",
      "4        6\n",
      "Name: education_id, dtype: int64\n",
      "\n",
      "family_status\n",
      "['Не женат / не замужем', 'в разводе', 'вдовец / вдова', 'гражданский брак', 'женат / замужем']\n",
      "женат / замужем          12380\n",
      "гражданский брак          4177\n",
      "Не женат / не замужем     2813\n",
      "в разводе                 1195\n",
      "вдовец / вдова             960\n",
      "Name: family_status, dtype: int64\n",
      "\n",
      "family_status_id\n",
      "[0, 1, 2, 3, 4]\n",
      "0    12380\n",
      "1     4177\n",
      "4     2813\n",
      "3     1195\n",
      "2      960\n",
      "Name: family_status_id, dtype: int64\n",
      "\n",
      "gender\n",
      "['F', 'M', 'XNA']\n",
      "F      14236\n",
      "M       7288\n",
      "XNA        1\n",
      "Name: gender, dtype: int64\n",
      "\n",
      "income_type\n",
      "['безработный', 'в декрете', 'госслужащий', 'компаньон', 'пенсионер', 'предприниматель', 'сотрудник', 'студент']\n",
      "сотрудник          11119\n",
      "компаньон           5085\n",
      "пенсионер           3856\n",
      "госслужащий         1459\n",
      "безработный            2\n",
      "предприниматель        2\n",
      "в декрете              1\n",
      "студент                1\n",
      "Name: income_type, dtype: int64\n",
      "\n",
      "debt\n",
      "[0, 1]\n",
      "0    19784\n",
      "1     1741\n",
      "Name: debt, dtype: int64\n",
      "\n",
      "purpose\n",
      "['автомобили', 'автомобиль', 'высшее образование', 'дополнительное образование', 'жилье', 'заняться высшим образованием', 'заняться образованием', 'на покупку автомобиля', 'на покупку подержанного автомобиля', 'на покупку своего автомобиля', 'на проведение свадьбы', 'недвижимость', 'образование', 'операции с жильем', 'операции с коммерческой недвижимостью', 'операции с недвижимостью', 'операции со своей недвижимостью', 'покупка жилой недвижимости', 'покупка жилья', 'покупка жилья для сдачи', 'покупка жилья для семьи', 'покупка коммерческой недвижимости', 'покупка недвижимости', 'покупка своего жилья', 'получение высшего образования', 'получение дополнительного образования', 'получение образования', 'приобретение автомобиля', 'профильное образование', 'ремонт жилью', 'свадьба', 'свой автомобиль', 'сделка с автомобилем', 'сделка с подержанным автомобилем', 'строительство жилой недвижимости', 'строительство недвижимости', 'строительство собственной недвижимости', 'сыграть свадьбу']\n",
      "свадьба                                   797\n",
      "на проведение свадьбы                     777\n",
      "сыграть свадьбу                           774\n",
      "операции с недвижимостью                  676\n",
      "покупка коммерческой недвижимости         664\n",
      "покупка жилья для сдачи                   653\n",
      "операции с жильем                         653\n",
      "операции с коммерческой недвижимостью     651\n",
      "покупка жилья                             647\n",
      "жилье                                     647\n",
      "покупка жилья для семьи                   641\n",
      "строительство собственной недвижимости    635\n",
      "недвижимость                              634\n",
      "операции со своей недвижимостью           630\n",
      "строительство жилой недвижимости          626\n",
      "покупка недвижимости                      624\n",
      "покупка своего жилья                      620\n",
      "строительство недвижимости                620\n",
      "ремонт жилью                              612\n",
      "покупка жилой недвижимости                607\n",
      "на покупку своего автомобиля              505\n",
      "заняться высшим образованием              496\n",
      "автомобиль                                495\n",
      "сделка с подержанным автомобилем          489\n",
      "свой автомобиль                           480\n",
      "на покупку подержанного автомобиля        479\n",
      "автомобили                                478\n",
      "на покупку автомобиля                     472\n",
      "приобретение автомобиля                   462\n",
      "дополнительное образование                462\n",
      "сделка с автомобилем                      455\n",
      "высшее образование                        453\n",
      "получение дополнительного образования     447\n",
      "образование                               447\n",
      "получение образования                     443\n",
      "профильное образование                    436\n",
      "получение высшего образования             426\n",
      "заняться образованием                     412\n",
      "Name: purpose, dtype: int64\n",
      "\n"
     ]
    }
   ],
   "source": [
    "columns_name = data.columns.tolist()\n",
    "for column in columns_name:\n",
    "    if column == 'total_income':\n",
    "        continue\n",
    "    list_unique = sorted(data[column].unique())\n",
    "    print(column)\n",
    "    print(list_unique)\n",
    "    print(data[column].value_counts()) \n",
    "    print()"
   ]
  },
  {
   "cell_type": "markdown",
   "metadata": {},
   "source": [
    "Обнаружены аномальные данные в столбце 'children': -1 и 20. Будут обработаны ниже в п.3.\n",
    "Скрытые пропуски в столбце 'dob_years' - возраст некоторых клиентов заполнен нулями. \n",
    "Данные в столбце количественные, заменим нулевые значения средним возрастом."
   ]
  },
  {
   "cell_type": "code",
   "execution_count": 12,
   "metadata": {},
   "outputs": [
    {
     "data": {
      "text/plain": [
       "35    617\n",
       "43    614\n",
       "40    609\n",
       "41    607\n",
       "34    603\n",
       "38    598\n",
       "42    597\n",
       "33    581\n",
       "39    573\n",
       "31    560\n",
       "36    555\n",
       "44    547\n",
       "29    545\n",
       "30    540\n",
       "48    538\n",
       "37    537\n",
       "50    514\n",
       "32    510\n",
       "49    508\n",
       "28    503\n",
       "45    497\n",
       "27    493\n",
       "56    487\n",
       "52    484\n",
       "47    480\n",
       "54    479\n",
       "46    475\n",
       "58    461\n",
       "57    460\n",
       "53    459\n",
       "51    448\n",
       "59    444\n",
       "55    443\n",
       "26    408\n",
       "60    377\n",
       "25    357\n",
       "61    355\n",
       "62    352\n",
       "63    269\n",
       "64    265\n",
       "24    264\n",
       "23    254\n",
       "65    194\n",
       "66    183\n",
       "22    183\n",
       "67    167\n",
       "21    111\n",
       "68     99\n",
       "69     85\n",
       "70     65\n",
       "71     58\n",
       "20     51\n",
       "72     33\n",
       "19     14\n",
       "73      8\n",
       "74      6\n",
       "75      1\n",
       "Name: dob_years, dtype: int64"
      ]
     },
     "execution_count": 12,
     "metadata": {},
     "output_type": "execute_result"
    }
   ],
   "source": [
    "dob_years_mean = int(data['dob_years'].mean())\n",
    "data.loc[data['dob_years'] == 0, 'dob_years'] = dob_years_mean\n",
    "data['dob_years'].value_counts()"
   ]
  },
  {
   "cell_type": "markdown",
   "metadata": {},
   "source": [
    "Обнаруженные дубликаты столбца 'education' будут обработаны в п.2.3, столбца 'purpose' - в п.2.4.\n",
    "Столбец 'gender' - одно значение заполнено как 'XNA'. Данные столбца категориальные, принимают значения 'F' или 'M', заменим 'XNA' на 'F', как наиболее часто встечающееся (66%) "
   ]
  },
  {
   "cell_type": "code",
   "execution_count": 13,
   "metadata": {},
   "outputs": [
    {
     "data": {
      "text/plain": [
       "F    14237\n",
       "M     7288\n",
       "Name: gender, dtype: int64"
      ]
     },
     "execution_count": 13,
     "metadata": {},
     "output_type": "execute_result"
    }
   ],
   "source": [
    "data.loc[data['gender'] == 'XNA', 'gender'] = 'F'\n",
    "data['gender'].value_counts()"
   ]
  },
  {
   "cell_type": "markdown",
   "metadata": {},
   "source": [
    "**Вывод**"
   ]
  },
  {
   "cell_type": "markdown",
   "metadata": {},
   "source": [
    " Обнаружены и обработаны явные пропуски в столбцах 'days_employed' и 'total_income' заполненные значениями NaN. Тип пропущенных данных количественный. Пропущенные значения 'total_income' заполнили медианным значением. Кроме того обнаружены скрытые пропуски в столбце 'dob_years', возраст некоторых клиентов был заполнен нулями, заменили на значение среднего возраста. Обработано ошибочное значение столбца 'gender'. Выявлены дубликаты и аномалии в столбцах  'education', 'purpose', 'children' - будут обработаны далее."
   ]
  },
  {
   "cell_type": "markdown",
   "metadata": {},
   "source": [
    "### Замена типа данных"
   ]
  },
  {
   "cell_type": "code",
   "execution_count": 14,
   "metadata": {},
   "outputs": [
    {
     "name": "stdout",
     "output_type": "stream",
     "text": [
      "<class 'pandas.core.frame.DataFrame'>\n",
      "RangeIndex: 21525 entries, 0 to 21524\n",
      "Data columns (total 11 columns):\n",
      "children            21525 non-null int64\n",
      "dob_years           21525 non-null int64\n",
      "education           21525 non-null object\n",
      "education_id        21525 non-null int64\n",
      "family_status       21525 non-null object\n",
      "family_status_id    21525 non-null int64\n",
      "gender              21525 non-null object\n",
      "income_type         21525 non-null object\n",
      "debt                21525 non-null int64\n",
      "total_income        21525 non-null int64\n",
      "purpose             21525 non-null object\n",
      "dtypes: int64(6), object(5)\n",
      "memory usage: 1.8+ MB\n"
     ]
    },
    {
     "data": {
      "text/html": [
       "<div>\n",
       "<style scoped>\n",
       "    .dataframe tbody tr th:only-of-type {\n",
       "        vertical-align: middle;\n",
       "    }\n",
       "\n",
       "    .dataframe tbody tr th {\n",
       "        vertical-align: top;\n",
       "    }\n",
       "\n",
       "    .dataframe thead th {\n",
       "        text-align: right;\n",
       "    }\n",
       "</style>\n",
       "<table border=\"1\" class=\"dataframe\">\n",
       "  <thead>\n",
       "    <tr style=\"text-align: right;\">\n",
       "      <th></th>\n",
       "      <th>children</th>\n",
       "      <th>dob_years</th>\n",
       "      <th>education</th>\n",
       "      <th>education_id</th>\n",
       "      <th>family_status</th>\n",
       "      <th>family_status_id</th>\n",
       "      <th>gender</th>\n",
       "      <th>income_type</th>\n",
       "      <th>debt</th>\n",
       "      <th>total_income</th>\n",
       "      <th>purpose</th>\n",
       "    </tr>\n",
       "  </thead>\n",
       "  <tbody>\n",
       "    <tr>\n",
       "      <td>0</td>\n",
       "      <td>1</td>\n",
       "      <td>42</td>\n",
       "      <td>высшее</td>\n",
       "      <td>0</td>\n",
       "      <td>женат / замужем</td>\n",
       "      <td>0</td>\n",
       "      <td>F</td>\n",
       "      <td>сотрудник</td>\n",
       "      <td>0</td>\n",
       "      <td>253875</td>\n",
       "      <td>покупка жилья</td>\n",
       "    </tr>\n",
       "    <tr>\n",
       "      <td>1</td>\n",
       "      <td>1</td>\n",
       "      <td>36</td>\n",
       "      <td>среднее</td>\n",
       "      <td>1</td>\n",
       "      <td>женат / замужем</td>\n",
       "      <td>0</td>\n",
       "      <td>F</td>\n",
       "      <td>сотрудник</td>\n",
       "      <td>0</td>\n",
       "      <td>112080</td>\n",
       "      <td>приобретение автомобиля</td>\n",
       "    </tr>\n",
       "    <tr>\n",
       "      <td>2</td>\n",
       "      <td>0</td>\n",
       "      <td>33</td>\n",
       "      <td>Среднее</td>\n",
       "      <td>1</td>\n",
       "      <td>женат / замужем</td>\n",
       "      <td>0</td>\n",
       "      <td>M</td>\n",
       "      <td>сотрудник</td>\n",
       "      <td>0</td>\n",
       "      <td>145885</td>\n",
       "      <td>покупка жилья</td>\n",
       "    </tr>\n",
       "    <tr>\n",
       "      <td>3</td>\n",
       "      <td>3</td>\n",
       "      <td>32</td>\n",
       "      <td>среднее</td>\n",
       "      <td>1</td>\n",
       "      <td>женат / замужем</td>\n",
       "      <td>0</td>\n",
       "      <td>M</td>\n",
       "      <td>сотрудник</td>\n",
       "      <td>0</td>\n",
       "      <td>267628</td>\n",
       "      <td>дополнительное образование</td>\n",
       "    </tr>\n",
       "    <tr>\n",
       "      <td>4</td>\n",
       "      <td>0</td>\n",
       "      <td>53</td>\n",
       "      <td>среднее</td>\n",
       "      <td>1</td>\n",
       "      <td>гражданский брак</td>\n",
       "      <td>1</td>\n",
       "      <td>F</td>\n",
       "      <td>пенсионер</td>\n",
       "      <td>0</td>\n",
       "      <td>158616</td>\n",
       "      <td>сыграть свадьбу</td>\n",
       "    </tr>\n",
       "    <tr>\n",
       "      <td>5</td>\n",
       "      <td>0</td>\n",
       "      <td>27</td>\n",
       "      <td>высшее</td>\n",
       "      <td>0</td>\n",
       "      <td>гражданский брак</td>\n",
       "      <td>1</td>\n",
       "      <td>M</td>\n",
       "      <td>компаньон</td>\n",
       "      <td>0</td>\n",
       "      <td>255763</td>\n",
       "      <td>покупка жилья</td>\n",
       "    </tr>\n",
       "    <tr>\n",
       "      <td>6</td>\n",
       "      <td>0</td>\n",
       "      <td>43</td>\n",
       "      <td>высшее</td>\n",
       "      <td>0</td>\n",
       "      <td>женат / замужем</td>\n",
       "      <td>0</td>\n",
       "      <td>F</td>\n",
       "      <td>компаньон</td>\n",
       "      <td>0</td>\n",
       "      <td>240525</td>\n",
       "      <td>операции с жильем</td>\n",
       "    </tr>\n",
       "    <tr>\n",
       "      <td>7</td>\n",
       "      <td>0</td>\n",
       "      <td>50</td>\n",
       "      <td>СРЕДНЕЕ</td>\n",
       "      <td>1</td>\n",
       "      <td>женат / замужем</td>\n",
       "      <td>0</td>\n",
       "      <td>M</td>\n",
       "      <td>сотрудник</td>\n",
       "      <td>0</td>\n",
       "      <td>135823</td>\n",
       "      <td>образование</td>\n",
       "    </tr>\n",
       "    <tr>\n",
       "      <td>8</td>\n",
       "      <td>2</td>\n",
       "      <td>35</td>\n",
       "      <td>ВЫСШЕЕ</td>\n",
       "      <td>0</td>\n",
       "      <td>гражданский брак</td>\n",
       "      <td>1</td>\n",
       "      <td>F</td>\n",
       "      <td>сотрудник</td>\n",
       "      <td>0</td>\n",
       "      <td>95856</td>\n",
       "      <td>на проведение свадьбы</td>\n",
       "    </tr>\n",
       "    <tr>\n",
       "      <td>9</td>\n",
       "      <td>0</td>\n",
       "      <td>41</td>\n",
       "      <td>среднее</td>\n",
       "      <td>1</td>\n",
       "      <td>женат / замужем</td>\n",
       "      <td>0</td>\n",
       "      <td>M</td>\n",
       "      <td>сотрудник</td>\n",
       "      <td>0</td>\n",
       "      <td>144425</td>\n",
       "      <td>покупка жилья для семьи</td>\n",
       "    </tr>\n",
       "  </tbody>\n",
       "</table>\n",
       "</div>"
      ],
      "text/plain": [
       "   children  dob_years education  education_id     family_status  \\\n",
       "0         1         42    высшее             0   женат / замужем   \n",
       "1         1         36   среднее             1   женат / замужем   \n",
       "2         0         33   Среднее             1   женат / замужем   \n",
       "3         3         32   среднее             1   женат / замужем   \n",
       "4         0         53   среднее             1  гражданский брак   \n",
       "5         0         27    высшее             0  гражданский брак   \n",
       "6         0         43    высшее             0   женат / замужем   \n",
       "7         0         50   СРЕДНЕЕ             1   женат / замужем   \n",
       "8         2         35    ВЫСШЕЕ             0  гражданский брак   \n",
       "9         0         41   среднее             1   женат / замужем   \n",
       "\n",
       "   family_status_id gender income_type  debt  total_income  \\\n",
       "0                 0      F   сотрудник     0        253875   \n",
       "1                 0      F   сотрудник     0        112080   \n",
       "2                 0      M   сотрудник     0        145885   \n",
       "3                 0      M   сотрудник     0        267628   \n",
       "4                 1      F   пенсионер     0        158616   \n",
       "5                 1      M   компаньон     0        255763   \n",
       "6                 0      F   компаньон     0        240525   \n",
       "7                 0      M   сотрудник     0        135823   \n",
       "8                 1      F   сотрудник     0         95856   \n",
       "9                 0      M   сотрудник     0        144425   \n",
       "\n",
       "                      purpose  \n",
       "0               покупка жилья  \n",
       "1     приобретение автомобиля  \n",
       "2               покупка жилья  \n",
       "3  дополнительное образование  \n",
       "4             сыграть свадьбу  \n",
       "5               покупка жилья  \n",
       "6           операции с жильем  \n",
       "7                 образование  \n",
       "8       на проведение свадьбы  \n",
       "9     покупка жилья для семьи  "
      ]
     },
     "execution_count": 14,
     "metadata": {},
     "output_type": "execute_result"
    }
   ],
   "source": [
    "data['total_income'] = data['total_income'].astype('int')\n",
    "data.info()\n",
    "data.head(10)"
   ]
  },
  {
   "cell_type": "markdown",
   "metadata": {},
   "source": [
    "**Вывод**"
   ]
  },
  {
   "cell_type": "markdown",
   "metadata": {},
   "source": [
    "Заменили вещественный тип данных на целочисленный в столбце total_income. В таблице больше нет вещественных данных. Использовался метод astype(), позволяющий устанавливать нужный тип данных."
   ]
  },
  {
   "cell_type": "markdown",
   "metadata": {},
   "source": [
    "### Обработка дубликатов"
   ]
  },
  {
   "cell_type": "code",
   "execution_count": 15,
   "metadata": {},
   "outputs": [
    {
     "data": {
      "text/plain": [
       "среднее                13750\n",
       "высшее                  4718\n",
       "СРЕДНЕЕ                  772\n",
       "Среднее                  711\n",
       "неоконченное высшее      668\n",
       "ВЫСШЕЕ                   274\n",
       "Высшее                   268\n",
       "начальное                250\n",
       "Неоконченное высшее       47\n",
       "НЕОКОНЧЕННОЕ ВЫСШЕЕ       29\n",
       "НАЧАЛЬНОЕ                 17\n",
       "Начальное                 15\n",
       "ученая степень             4\n",
       "УЧЕНАЯ СТЕПЕНЬ             1\n",
       "Ученая степень             1\n",
       "Name: education, dtype: int64"
      ]
     },
     "execution_count": 15,
     "metadata": {},
     "output_type": "execute_result"
    }
   ],
   "source": [
    "#Проверяем на наличие дубликатов категориальные переменные методом value_counts(), возвращающим уникальные значения и их частоту\n",
    "data['education'].value_counts()"
   ]
  },
  {
   "cell_type": "code",
   "execution_count": 16,
   "metadata": {},
   "outputs": [
    {
     "data": {
      "text/plain": [
       "женат / замужем          12380\n",
       "гражданский брак          4177\n",
       "Не женат / не замужем     2813\n",
       "в разводе                 1195\n",
       "вдовец / вдова             960\n",
       "Name: family_status, dtype: int64"
      ]
     },
     "execution_count": 16,
     "metadata": {},
     "output_type": "execute_result"
    }
   ],
   "source": [
    "data['family_status'].value_counts()"
   ]
  },
  {
   "cell_type": "code",
   "execution_count": 17,
   "metadata": {},
   "outputs": [
    {
     "data": {
      "text/plain": [
       "F    14237\n",
       "M     7288\n",
       "Name: gender, dtype: int64"
      ]
     },
     "execution_count": 17,
     "metadata": {},
     "output_type": "execute_result"
    }
   ],
   "source": [
    "data['gender'].value_counts()"
   ]
  },
  {
   "cell_type": "code",
   "execution_count": 18,
   "metadata": {},
   "outputs": [
    {
     "data": {
      "text/plain": [
       "сотрудник          11119\n",
       "компаньон           5085\n",
       "пенсионер           3856\n",
       "госслужащий         1459\n",
       "безработный            2\n",
       "предприниматель        2\n",
       "в декрете              1\n",
       "студент                1\n",
       "Name: income_type, dtype: int64"
      ]
     },
     "execution_count": 18,
     "metadata": {},
     "output_type": "execute_result"
    }
   ],
   "source": [
    "data['income_type'].value_counts()"
   ]
  },
  {
   "cell_type": "code",
   "execution_count": 19,
   "metadata": {},
   "outputs": [
    {
     "data": {
      "text/plain": [
       "свадьба                                   797\n",
       "на проведение свадьбы                     777\n",
       "сыграть свадьбу                           774\n",
       "операции с недвижимостью                  676\n",
       "покупка коммерческой недвижимости         664\n",
       "покупка жилья для сдачи                   653\n",
       "операции с жильем                         653\n",
       "операции с коммерческой недвижимостью     651\n",
       "покупка жилья                             647\n",
       "жилье                                     647\n",
       "покупка жилья для семьи                   641\n",
       "строительство собственной недвижимости    635\n",
       "недвижимость                              634\n",
       "операции со своей недвижимостью           630\n",
       "строительство жилой недвижимости          626\n",
       "покупка недвижимости                      624\n",
       "покупка своего жилья                      620\n",
       "строительство недвижимости                620\n",
       "ремонт жилью                              612\n",
       "покупка жилой недвижимости                607\n",
       "на покупку своего автомобиля              505\n",
       "заняться высшим образованием              496\n",
       "автомобиль                                495\n",
       "сделка с подержанным автомобилем          489\n",
       "свой автомобиль                           480\n",
       "на покупку подержанного автомобиля        479\n",
       "автомобили                                478\n",
       "на покупку автомобиля                     472\n",
       "приобретение автомобиля                   462\n",
       "дополнительное образование                462\n",
       "сделка с автомобилем                      455\n",
       "высшее образование                        453\n",
       "получение дополнительного образования     447\n",
       "образование                               447\n",
       "получение образования                     443\n",
       "профильное образование                    436\n",
       "получение высшего образования             426\n",
       "заняться образованием                     412\n",
       "Name: purpose, dtype: int64"
      ]
     },
     "execution_count": 19,
     "metadata": {},
     "output_type": "execute_result"
    }
   ],
   "source": [
    "data['purpose'].value_counts()"
   ]
  },
  {
   "cell_type": "markdown",
   "metadata": {},
   "source": [
    "Дубликаты выявлены в столбце education, связаны с написанием символов в разном регистре. Приведем записи столбца к нижнему регистру методом str.lower()"
   ]
  },
  {
   "cell_type": "code",
   "execution_count": 20,
   "metadata": {},
   "outputs": [
    {
     "data": {
      "text/plain": [
       "среднее                15233\n",
       "высшее                  5260\n",
       "неоконченное высшее      744\n",
       "начальное                282\n",
       "ученая степень             6\n",
       "Name: education, dtype: int64"
      ]
     },
     "execution_count": 20,
     "metadata": {},
     "output_type": "execute_result"
    }
   ],
   "source": [
    "data['education'] = data['education'].str.lower()\n",
    "data['education'].value_counts()"
   ]
  },
  {
   "cell_type": "markdown",
   "metadata": {},
   "source": [
    " Проверим строки на полные дубликаты методом duplicated():"
   ]
  },
  {
   "cell_type": "code",
   "execution_count": 21,
   "metadata": {},
   "outputs": [
    {
     "name": "stdout",
     "output_type": "stream",
     "text": [
      "Количество дубликатов:  71\n"
     ]
    },
    {
     "data": {
      "text/html": [
       "<div>\n",
       "<style scoped>\n",
       "    .dataframe tbody tr th:only-of-type {\n",
       "        vertical-align: middle;\n",
       "    }\n",
       "\n",
       "    .dataframe tbody tr th {\n",
       "        vertical-align: top;\n",
       "    }\n",
       "\n",
       "    .dataframe thead th {\n",
       "        text-align: right;\n",
       "    }\n",
       "</style>\n",
       "<table border=\"1\" class=\"dataframe\">\n",
       "  <thead>\n",
       "    <tr style=\"text-align: right;\">\n",
       "      <th></th>\n",
       "      <th>children</th>\n",
       "      <th>dob_years</th>\n",
       "      <th>education</th>\n",
       "      <th>education_id</th>\n",
       "      <th>family_status</th>\n",
       "      <th>family_status_id</th>\n",
       "      <th>gender</th>\n",
       "      <th>income_type</th>\n",
       "      <th>debt</th>\n",
       "      <th>total_income</th>\n",
       "      <th>purpose</th>\n",
       "    </tr>\n",
       "  </thead>\n",
       "  <tbody>\n",
       "    <tr>\n",
       "      <td>2849</td>\n",
       "      <td>0</td>\n",
       "      <td>41</td>\n",
       "      <td>среднее</td>\n",
       "      <td>1</td>\n",
       "      <td>женат / замужем</td>\n",
       "      <td>0</td>\n",
       "      <td>F</td>\n",
       "      <td>сотрудник</td>\n",
       "      <td>0</td>\n",
       "      <td>145017</td>\n",
       "      <td>покупка жилья для семьи</td>\n",
       "    </tr>\n",
       "    <tr>\n",
       "      <td>3290</td>\n",
       "      <td>0</td>\n",
       "      <td>58</td>\n",
       "      <td>среднее</td>\n",
       "      <td>1</td>\n",
       "      <td>гражданский брак</td>\n",
       "      <td>1</td>\n",
       "      <td>F</td>\n",
       "      <td>пенсионер</td>\n",
       "      <td>0</td>\n",
       "      <td>145017</td>\n",
       "      <td>сыграть свадьбу</td>\n",
       "    </tr>\n",
       "    <tr>\n",
       "      <td>4182</td>\n",
       "      <td>1</td>\n",
       "      <td>34</td>\n",
       "      <td>высшее</td>\n",
       "      <td>0</td>\n",
       "      <td>гражданский брак</td>\n",
       "      <td>1</td>\n",
       "      <td>F</td>\n",
       "      <td>сотрудник</td>\n",
       "      <td>0</td>\n",
       "      <td>145017</td>\n",
       "      <td>свадьба</td>\n",
       "    </tr>\n",
       "    <tr>\n",
       "      <td>4851</td>\n",
       "      <td>0</td>\n",
       "      <td>60</td>\n",
       "      <td>среднее</td>\n",
       "      <td>1</td>\n",
       "      <td>гражданский брак</td>\n",
       "      <td>1</td>\n",
       "      <td>F</td>\n",
       "      <td>пенсионер</td>\n",
       "      <td>0</td>\n",
       "      <td>145017</td>\n",
       "      <td>свадьба</td>\n",
       "    </tr>\n",
       "    <tr>\n",
       "      <td>5557</td>\n",
       "      <td>0</td>\n",
       "      <td>58</td>\n",
       "      <td>среднее</td>\n",
       "      <td>1</td>\n",
       "      <td>гражданский брак</td>\n",
       "      <td>1</td>\n",
       "      <td>F</td>\n",
       "      <td>пенсионер</td>\n",
       "      <td>0</td>\n",
       "      <td>145017</td>\n",
       "      <td>сыграть свадьбу</td>\n",
       "    </tr>\n",
       "  </tbody>\n",
       "</table>\n",
       "</div>"
      ],
      "text/plain": [
       "      children  dob_years education  education_id     family_status  \\\n",
       "2849         0         41   среднее             1   женат / замужем   \n",
       "3290         0         58   среднее             1  гражданский брак   \n",
       "4182         1         34    высшее             0  гражданский брак   \n",
       "4851         0         60   среднее             1  гражданский брак   \n",
       "5557         0         58   среднее             1  гражданский брак   \n",
       "\n",
       "      family_status_id gender income_type  debt  total_income  \\\n",
       "2849                 0      F   сотрудник     0        145017   \n",
       "3290                 1      F   пенсионер     0        145017   \n",
       "4182                 1      F   сотрудник     0        145017   \n",
       "4851                 1      F   пенсионер     0        145017   \n",
       "5557                 1      F   пенсионер     0        145017   \n",
       "\n",
       "                      purpose  \n",
       "2849  покупка жилья для семьи  \n",
       "3290          сыграть свадьбу  \n",
       "4182                  свадьба  \n",
       "4851                  свадьба  \n",
       "5557          сыграть свадьбу  "
      ]
     },
     "execution_count": 21,
     "metadata": {},
     "output_type": "execute_result"
    }
   ],
   "source": [
    "print('Количество дубликатов: ', data.duplicated().sum())\n",
    "data[data.duplicated() == True].head()"
   ]
  },
  {
   "cell_type": "markdown",
   "metadata": {},
   "source": [
    " Обнаружен 71 дубликат. Дубликаты могли образоваться при копировании, переносе данных, при сбоях сохранения. Также весьма вероятно появление дубликатов при удалении столбцов содержавших дополнительные данные делавшие записи уникальными или при внесении в базу неполных данных, заполнении пропущенных значений  значениями по умолчанию и др. Дубликаты могут искажать получаемые результаты, снижать точность рассчетов, при большом количестве увеличивают размер таблиц и время обработки данных. Удалим выявленные дубликаты методом drop_duplicates()."
   ]
  },
  {
   "cell_type": "code",
   "execution_count": 22,
   "metadata": {},
   "outputs": [
    {
     "name": "stdout",
     "output_type": "stream",
     "text": [
      "Количество дубликатов после обработки:  0\n",
      "\n",
      "<class 'pandas.core.frame.DataFrame'>\n",
      "RangeIndex: 21454 entries, 0 to 21453\n",
      "Data columns (total 11 columns):\n",
      "children            21454 non-null int64\n",
      "dob_years           21454 non-null int64\n",
      "education           21454 non-null object\n",
      "education_id        21454 non-null int64\n",
      "family_status       21454 non-null object\n",
      "family_status_id    21454 non-null int64\n",
      "gender              21454 non-null object\n",
      "income_type         21454 non-null object\n",
      "debt                21454 non-null int64\n",
      "total_income        21454 non-null int64\n",
      "purpose             21454 non-null object\n",
      "dtypes: int64(6), object(5)\n",
      "memory usage: 1.8+ MB\n"
     ]
    },
    {
     "data": {
      "text/html": [
       "<div>\n",
       "<style scoped>\n",
       "    .dataframe tbody tr th:only-of-type {\n",
       "        vertical-align: middle;\n",
       "    }\n",
       "\n",
       "    .dataframe tbody tr th {\n",
       "        vertical-align: top;\n",
       "    }\n",
       "\n",
       "    .dataframe thead th {\n",
       "        text-align: right;\n",
       "    }\n",
       "</style>\n",
       "<table border=\"1\" class=\"dataframe\">\n",
       "  <thead>\n",
       "    <tr style=\"text-align: right;\">\n",
       "      <th></th>\n",
       "      <th>children</th>\n",
       "      <th>dob_years</th>\n",
       "      <th>education</th>\n",
       "      <th>education_id</th>\n",
       "      <th>family_status</th>\n",
       "      <th>family_status_id</th>\n",
       "      <th>gender</th>\n",
       "      <th>income_type</th>\n",
       "      <th>debt</th>\n",
       "      <th>total_income</th>\n",
       "      <th>purpose</th>\n",
       "    </tr>\n",
       "  </thead>\n",
       "  <tbody>\n",
       "    <tr>\n",
       "      <td>0</td>\n",
       "      <td>1</td>\n",
       "      <td>42</td>\n",
       "      <td>высшее</td>\n",
       "      <td>0</td>\n",
       "      <td>женат / замужем</td>\n",
       "      <td>0</td>\n",
       "      <td>F</td>\n",
       "      <td>сотрудник</td>\n",
       "      <td>0</td>\n",
       "      <td>253875</td>\n",
       "      <td>покупка жилья</td>\n",
       "    </tr>\n",
       "    <tr>\n",
       "      <td>1</td>\n",
       "      <td>1</td>\n",
       "      <td>36</td>\n",
       "      <td>среднее</td>\n",
       "      <td>1</td>\n",
       "      <td>женат / замужем</td>\n",
       "      <td>0</td>\n",
       "      <td>F</td>\n",
       "      <td>сотрудник</td>\n",
       "      <td>0</td>\n",
       "      <td>112080</td>\n",
       "      <td>приобретение автомобиля</td>\n",
       "    </tr>\n",
       "    <tr>\n",
       "      <td>2</td>\n",
       "      <td>0</td>\n",
       "      <td>33</td>\n",
       "      <td>среднее</td>\n",
       "      <td>1</td>\n",
       "      <td>женат / замужем</td>\n",
       "      <td>0</td>\n",
       "      <td>M</td>\n",
       "      <td>сотрудник</td>\n",
       "      <td>0</td>\n",
       "      <td>145885</td>\n",
       "      <td>покупка жилья</td>\n",
       "    </tr>\n",
       "    <tr>\n",
       "      <td>3</td>\n",
       "      <td>3</td>\n",
       "      <td>32</td>\n",
       "      <td>среднее</td>\n",
       "      <td>1</td>\n",
       "      <td>женат / замужем</td>\n",
       "      <td>0</td>\n",
       "      <td>M</td>\n",
       "      <td>сотрудник</td>\n",
       "      <td>0</td>\n",
       "      <td>267628</td>\n",
       "      <td>дополнительное образование</td>\n",
       "    </tr>\n",
       "    <tr>\n",
       "      <td>4</td>\n",
       "      <td>0</td>\n",
       "      <td>53</td>\n",
       "      <td>среднее</td>\n",
       "      <td>1</td>\n",
       "      <td>гражданский брак</td>\n",
       "      <td>1</td>\n",
       "      <td>F</td>\n",
       "      <td>пенсионер</td>\n",
       "      <td>0</td>\n",
       "      <td>158616</td>\n",
       "      <td>сыграть свадьбу</td>\n",
       "    </tr>\n",
       "  </tbody>\n",
       "</table>\n",
       "</div>"
      ],
      "text/plain": [
       "   children  dob_years education  education_id     family_status  \\\n",
       "0         1         42    высшее             0   женат / замужем   \n",
       "1         1         36   среднее             1   женат / замужем   \n",
       "2         0         33   среднее             1   женат / замужем   \n",
       "3         3         32   среднее             1   женат / замужем   \n",
       "4         0         53   среднее             1  гражданский брак   \n",
       "\n",
       "   family_status_id gender income_type  debt  total_income  \\\n",
       "0                 0      F   сотрудник     0        253875   \n",
       "1                 0      F   сотрудник     0        112080   \n",
       "2                 0      M   сотрудник     0        145885   \n",
       "3                 0      M   сотрудник     0        267628   \n",
       "4                 1      F   пенсионер     0        158616   \n",
       "\n",
       "                      purpose  \n",
       "0               покупка жилья  \n",
       "1     приобретение автомобиля  \n",
       "2               покупка жилья  \n",
       "3  дополнительное образование  \n",
       "4             сыграть свадьбу  "
      ]
     },
     "execution_count": 22,
     "metadata": {},
     "output_type": "execute_result"
    }
   ],
   "source": [
    "data = data.drop_duplicates().reset_index(drop=True)\n",
    "print('Количество дубликатов после обработки: ', data.duplicated().sum())\n",
    "print()\n",
    "data.info()\n",
    "data.head()"
   ]
  },
  {
   "cell_type": "markdown",
   "metadata": {},
   "source": [
    "**Вывод**"
   ]
  },
  {
   "cell_type": "markdown",
   "metadata": {},
   "source": [
    "Проверили таблицу на полные дубликаты методом duplicated(), обануруженные 71 дубликат удалили с обновлением индексов. Дубликаты могли появиться в таблице в результате удаления других столбцов с данными, делавшими строки уникальными, внесения неполных данных или заполнения пропусков значеними по умолчанию, также возможны технически причины - проблемы при копировании, переносе данных, при сбоях сохранения и др. Проверили категориальные переменные методом value_counts() на наличие дубликатов. Выявлены дубликаты в столбце 'education' из-за  написания симфолов в разном регистре. Обработали их методом приведения символов к нижнему регистру. Также наблюдаются дубликаты в столбце 'purpose', вероятно клиенты в свободной форме описывали цели получения кредита, из-за чего количство уникальных запсией оказалось значительным. Обработаем эти дубликаты с помощью лемматизации и стемминга."
   ]
  },
  {
   "cell_type": "markdown",
   "metadata": {},
   "source": [
    "### Лемматизация"
   ]
  },
  {
   "cell_type": "code",
   "execution_count": 23,
   "metadata": {},
   "outputs": [
    {
     "name": "stdout",
     "output_type": "stream",
     "text": [
      "['покупка', ' ', 'жилье', '\\n', 'приобретение', ' ', 'автомобиль', '\\n', 'дополнительный', ' ', 'образование', '\\n', 'сыграть', ' ', 'свадьба', '\\n', 'операция', ' ', 'с', ' ', 'жилье', '\\n', 'образование', '\\n', 'на', ' ', 'проведение', ' ', 'свадьба', '\\n', 'покупка', ' ', 'жилье', ' ', 'для', ' ', 'семья', '\\n', 'покупка', ' ', 'недвижимость', '\\n', 'покупка', ' ', 'коммерческий', ' ', 'недвижимость', '\\n', 'покупка', ' ', 'жилой', ' ', 'недвижимость', '\\n', 'строительство', ' ', 'собственный', ' ', 'недвижимость', '\\n', 'недвижимость', '\\n', 'строительство', ' ', 'недвижимость', '\\n', 'на', ' ', 'покупка', ' ', 'подержать', ' ', 'автомобиль', '\\n', 'на', ' ', 'покупка', ' ', 'свой', ' ', 'автомобиль', '\\n', 'операция', ' ', 'с', ' ', 'коммерческий', ' ', 'недвижимость', '\\n', 'строительство', ' ', 'жилой', ' ', 'недвижимость', '\\n', 'жилье', '\\n', 'операция', ' ', 'со', ' ', 'свой', ' ', 'недвижимость', '\\n', 'автомобиль', '\\n', 'заниматься', ' ', 'образование', '\\n', 'сделка', ' ', 'с', ' ', 'подержанный', ' ', 'автомобиль', '\\n', 'получение', ' ', 'образование', '\\n', 'автомобиль', '\\n', 'свадьба', '\\n', 'получение', ' ', 'дополнительный', ' ', 'образование', '\\n', 'покупка', ' ', 'свой', ' ', 'жилье', '\\n', 'операция', ' ', 'с', ' ', 'недвижимость', '\\n', 'получение', ' ', 'высокий', ' ', 'образование', '\\n', 'свой', ' ', 'автомобиль', '\\n', 'сделка', ' ', 'с', ' ', 'автомобиль', '\\n', 'профильный', ' ', 'образование', '\\n', 'высокий', ' ', 'образование', '\\n', 'покупка', ' ', 'жилье', ' ', 'для', ' ', 'сдача', '\\n', 'на', ' ', 'покупка', ' ', 'автомобиль', '\\n', 'ремонт', ' ', 'жилье', '\\n', 'заниматься', ' ', 'высокий', ' ', 'образование', '\\n']\n"
     ]
    }
   ],
   "source": [
    "#Определим ключевые слова целей кредитования\n",
    "#Сохраняем в переменную purposes уникальные значения целей кредитования\n",
    "purposes = data['purpose'].unique()\n",
    "\n",
    "#Обрабатываем полученные значения для получения лемм\n",
    "from pymystem3 import Mystem\n",
    "m = Mystem()\n",
    "purpose_lem = []\n",
    "for purpose in purposes:\n",
    "    purpose_lem += m.lemmatize(purpose)\n",
    "    \n",
    "print(purpose_lem)"
   ]
  },
  {
   "cell_type": "code",
   "execution_count": 24,
   "metadata": {},
   "outputs": [
    {
     "name": "stdout",
     "output_type": "stream",
     "text": [
      "Counter({' ': 59, '\\n': 38, 'покупка': 10, 'недвижимость': 10, 'автомобиль': 9, 'образование': 9, 'жилье': 7, 'с': 5, 'операция': 4, 'на': 4, 'свой': 4, 'свадьба': 3, 'строительство': 3, 'получение': 3, 'высокий': 3, 'дополнительный': 2, 'для': 2, 'коммерческий': 2, 'жилой': 2, 'заниматься': 2, 'сделка': 2, 'приобретение': 1, 'сыграть': 1, 'проведение': 1, 'семья': 1, 'собственный': 1, 'подержать': 1, 'со': 1, 'подержанный': 1, 'профильный': 1, 'сдача': 1, 'ремонт': 1})\n"
     ]
    }
   ],
   "source": [
    "#Анализируем частоту встречаемости полученных лемм\n",
    "from collections import Counter\n",
    "repetition_rate = Counter(purpose_lem)\n",
    "print(repetition_rate)"
   ]
  },
  {
   "cell_type": "code",
   "execution_count": 25,
   "metadata": {},
   "outputs": [
    {
     "name": "stdout",
     "output_type": "stream",
     "text": [
      "['покупк', ' ', 'жил', '\\n', 'приобретен', 'автомобил', 'дополнительн', 'образован', 'сыгра', 'свадьб', 'операц', 'с', 'на', 'проведен', 'для', 'сем', 'недвижим', 'коммерческ', 'жил', 'строительств', 'собствен', 'подержа', 'сво', 'со', 'занима', 'сделк', 'подержа', 'получен', 'высок', 'профильн', 'сдач', 'ремонт']\n"
     ]
    }
   ],
   "source": [
    "#Примеянем стемминг для выявления основ полученных слов\n",
    "from nltk.stem import SnowballStemmer \n",
    "russian_stemmer = SnowballStemmer('russian')\n",
    "stemmed_words = []\n",
    "for word in repetition_rate.keys():\n",
    "    stemmed_words.append(russian_stemmer.stem(word))\n",
    "    \n",
    "print(stemmed_words)"
   ]
  },
  {
   "cell_type": "markdown",
   "metadata": {},
   "source": [
    "**Вывод**"
   ]
  },
  {
   "cell_type": "markdown",
   "metadata": {},
   "source": [
    "С помощью лемматизации и стемминга определили основные категории целей кредитования и их стемы:\n",
    "1. недвижимость - 'недвижим', 'жил'\n",
    "2. автомобиль - 'автомобил'\n",
    "3. образование - 'образован'\n",
    "4. свадьба - 'свадьб'\n",
    "Будем использовать их при создании функции категоризации целей кредитования."
   ]
  },
  {
   "cell_type": "markdown",
   "metadata": {},
   "source": [
    "### Категоризация данных"
   ]
  },
  {
   "cell_type": "code",
   "execution_count": 26,
   "metadata": {},
   "outputs": [],
   "source": [
    "#Функция для категризации целей кредитования\n",
    "def purpose_category(purpose):\n",
    "    for word in purpose.split(' '):\n",
    "        if ('недвижим' in word) or ('жил' in word):\n",
    "            return 'недвижимость'\n",
    "        if 'автомобил' in word:\n",
    "            return 'автомобиль'\n",
    "        if 'образован' in word:\n",
    "            return 'образование'\n",
    "        if 'свадьб' in word:\n",
    "            return 'свадьба'\n",
    "    return 'не определено'"
   ]
  },
  {
   "cell_type": "code",
   "execution_count": 27,
   "metadata": {},
   "outputs": [
    {
     "data": {
      "text/html": [
       "<div>\n",
       "<style scoped>\n",
       "    .dataframe tbody tr th:only-of-type {\n",
       "        vertical-align: middle;\n",
       "    }\n",
       "\n",
       "    .dataframe tbody tr th {\n",
       "        vertical-align: top;\n",
       "    }\n",
       "\n",
       "    .dataframe thead th {\n",
       "        text-align: right;\n",
       "    }\n",
       "</style>\n",
       "<table border=\"1\" class=\"dataframe\">\n",
       "  <thead>\n",
       "    <tr style=\"text-align: right;\">\n",
       "      <th></th>\n",
       "      <th>children</th>\n",
       "      <th>dob_years</th>\n",
       "      <th>education</th>\n",
       "      <th>education_id</th>\n",
       "      <th>family_status</th>\n",
       "      <th>family_status_id</th>\n",
       "      <th>gender</th>\n",
       "      <th>income_type</th>\n",
       "      <th>debt</th>\n",
       "      <th>total_income</th>\n",
       "      <th>purpose</th>\n",
       "      <th>purpose_category</th>\n",
       "    </tr>\n",
       "  </thead>\n",
       "  <tbody>\n",
       "    <tr>\n",
       "      <td>0</td>\n",
       "      <td>1</td>\n",
       "      <td>42</td>\n",
       "      <td>высшее</td>\n",
       "      <td>0</td>\n",
       "      <td>женат / замужем</td>\n",
       "      <td>0</td>\n",
       "      <td>F</td>\n",
       "      <td>сотрудник</td>\n",
       "      <td>0</td>\n",
       "      <td>253875</td>\n",
       "      <td>покупка жилья</td>\n",
       "      <td>недвижимость</td>\n",
       "    </tr>\n",
       "    <tr>\n",
       "      <td>1</td>\n",
       "      <td>1</td>\n",
       "      <td>36</td>\n",
       "      <td>среднее</td>\n",
       "      <td>1</td>\n",
       "      <td>женат / замужем</td>\n",
       "      <td>0</td>\n",
       "      <td>F</td>\n",
       "      <td>сотрудник</td>\n",
       "      <td>0</td>\n",
       "      <td>112080</td>\n",
       "      <td>приобретение автомобиля</td>\n",
       "      <td>автомобиль</td>\n",
       "    </tr>\n",
       "    <tr>\n",
       "      <td>2</td>\n",
       "      <td>0</td>\n",
       "      <td>33</td>\n",
       "      <td>среднее</td>\n",
       "      <td>1</td>\n",
       "      <td>женат / замужем</td>\n",
       "      <td>0</td>\n",
       "      <td>M</td>\n",
       "      <td>сотрудник</td>\n",
       "      <td>0</td>\n",
       "      <td>145885</td>\n",
       "      <td>покупка жилья</td>\n",
       "      <td>недвижимость</td>\n",
       "    </tr>\n",
       "    <tr>\n",
       "      <td>3</td>\n",
       "      <td>3</td>\n",
       "      <td>32</td>\n",
       "      <td>среднее</td>\n",
       "      <td>1</td>\n",
       "      <td>женат / замужем</td>\n",
       "      <td>0</td>\n",
       "      <td>M</td>\n",
       "      <td>сотрудник</td>\n",
       "      <td>0</td>\n",
       "      <td>267628</td>\n",
       "      <td>дополнительное образование</td>\n",
       "      <td>образование</td>\n",
       "    </tr>\n",
       "    <tr>\n",
       "      <td>4</td>\n",
       "      <td>0</td>\n",
       "      <td>53</td>\n",
       "      <td>среднее</td>\n",
       "      <td>1</td>\n",
       "      <td>гражданский брак</td>\n",
       "      <td>1</td>\n",
       "      <td>F</td>\n",
       "      <td>пенсионер</td>\n",
       "      <td>0</td>\n",
       "      <td>158616</td>\n",
       "      <td>сыграть свадьбу</td>\n",
       "      <td>свадьба</td>\n",
       "    </tr>\n",
       "    <tr>\n",
       "      <td>5</td>\n",
       "      <td>0</td>\n",
       "      <td>27</td>\n",
       "      <td>высшее</td>\n",
       "      <td>0</td>\n",
       "      <td>гражданский брак</td>\n",
       "      <td>1</td>\n",
       "      <td>M</td>\n",
       "      <td>компаньон</td>\n",
       "      <td>0</td>\n",
       "      <td>255763</td>\n",
       "      <td>покупка жилья</td>\n",
       "      <td>недвижимость</td>\n",
       "    </tr>\n",
       "    <tr>\n",
       "      <td>6</td>\n",
       "      <td>0</td>\n",
       "      <td>43</td>\n",
       "      <td>высшее</td>\n",
       "      <td>0</td>\n",
       "      <td>женат / замужем</td>\n",
       "      <td>0</td>\n",
       "      <td>F</td>\n",
       "      <td>компаньон</td>\n",
       "      <td>0</td>\n",
       "      <td>240525</td>\n",
       "      <td>операции с жильем</td>\n",
       "      <td>недвижимость</td>\n",
       "    </tr>\n",
       "    <tr>\n",
       "      <td>7</td>\n",
       "      <td>0</td>\n",
       "      <td>50</td>\n",
       "      <td>среднее</td>\n",
       "      <td>1</td>\n",
       "      <td>женат / замужем</td>\n",
       "      <td>0</td>\n",
       "      <td>M</td>\n",
       "      <td>сотрудник</td>\n",
       "      <td>0</td>\n",
       "      <td>135823</td>\n",
       "      <td>образование</td>\n",
       "      <td>образование</td>\n",
       "    </tr>\n",
       "    <tr>\n",
       "      <td>8</td>\n",
       "      <td>2</td>\n",
       "      <td>35</td>\n",
       "      <td>высшее</td>\n",
       "      <td>0</td>\n",
       "      <td>гражданский брак</td>\n",
       "      <td>1</td>\n",
       "      <td>F</td>\n",
       "      <td>сотрудник</td>\n",
       "      <td>0</td>\n",
       "      <td>95856</td>\n",
       "      <td>на проведение свадьбы</td>\n",
       "      <td>свадьба</td>\n",
       "    </tr>\n",
       "    <tr>\n",
       "      <td>9</td>\n",
       "      <td>0</td>\n",
       "      <td>41</td>\n",
       "      <td>среднее</td>\n",
       "      <td>1</td>\n",
       "      <td>женат / замужем</td>\n",
       "      <td>0</td>\n",
       "      <td>M</td>\n",
       "      <td>сотрудник</td>\n",
       "      <td>0</td>\n",
       "      <td>144425</td>\n",
       "      <td>покупка жилья для семьи</td>\n",
       "      <td>недвижимость</td>\n",
       "    </tr>\n",
       "  </tbody>\n",
       "</table>\n",
       "</div>"
      ],
      "text/plain": [
       "   children  dob_years education  education_id     family_status  \\\n",
       "0         1         42    высшее             0   женат / замужем   \n",
       "1         1         36   среднее             1   женат / замужем   \n",
       "2         0         33   среднее             1   женат / замужем   \n",
       "3         3         32   среднее             1   женат / замужем   \n",
       "4         0         53   среднее             1  гражданский брак   \n",
       "5         0         27    высшее             0  гражданский брак   \n",
       "6         0         43    высшее             0   женат / замужем   \n",
       "7         0         50   среднее             1   женат / замужем   \n",
       "8         2         35    высшее             0  гражданский брак   \n",
       "9         0         41   среднее             1   женат / замужем   \n",
       "\n",
       "   family_status_id gender income_type  debt  total_income  \\\n",
       "0                 0      F   сотрудник     0        253875   \n",
       "1                 0      F   сотрудник     0        112080   \n",
       "2                 0      M   сотрудник     0        145885   \n",
       "3                 0      M   сотрудник     0        267628   \n",
       "4                 1      F   пенсионер     0        158616   \n",
       "5                 1      M   компаньон     0        255763   \n",
       "6                 0      F   компаньон     0        240525   \n",
       "7                 0      M   сотрудник     0        135823   \n",
       "8                 1      F   сотрудник     0         95856   \n",
       "9                 0      M   сотрудник     0        144425   \n",
       "\n",
       "                      purpose purpose_category  \n",
       "0               покупка жилья     недвижимость  \n",
       "1     приобретение автомобиля       автомобиль  \n",
       "2               покупка жилья     недвижимость  \n",
       "3  дополнительное образование      образование  \n",
       "4             сыграть свадьбу          свадьба  \n",
       "5               покупка жилья     недвижимость  \n",
       "6           операции с жильем     недвижимость  \n",
       "7                 образование      образование  \n",
       "8       на проведение свадьбы          свадьба  \n",
       "9     покупка жилья для семьи     недвижимость  "
      ]
     },
     "execution_count": 27,
     "metadata": {},
     "output_type": "execute_result"
    }
   ],
   "source": [
    "#Добавляем в таблицу столбец с категориями целей кредитования\n",
    "data['purpose_category'] = data['purpose'].apply(purpose_category)\n",
    "data.head(10)"
   ]
  },
  {
   "cell_type": "code",
   "execution_count": 28,
   "metadata": {},
   "outputs": [
    {
     "data": {
      "text/plain": [
       "недвижимость    10811\n",
       "автомобиль       4306\n",
       "образование      4013\n",
       "свадьба          2324\n",
       "Name: purpose_category, dtype: int64"
      ]
     },
     "execution_count": 28,
     "metadata": {},
     "output_type": "execute_result"
    }
   ],
   "source": [
    "#проверяем наличие не определенных категорий\n",
    "data['purpose_category'].value_counts()"
   ]
  },
  {
   "cell_type": "markdown",
   "metadata": {},
   "source": [
    "Для определения зависимости между наличием детей и возвратом кредита в срок нам необходимо разделить клиентов на две группы - имеющих детей и нет. Создадим таблицу selection_child, с данными о наличии детей и случаями невозварата кредитов. Добавим столбец 'have_children', со значениями 1 - есть дети, 0 - нет."
   ]
  },
  {
   "cell_type": "markdown",
   "metadata": {},
   "source": [
    "Ранее в столбце 'children' были выявлены аномальные значения -1 и 20. -1 похоже на заглушку, на заполнение пропущенных значений или код какой-то ошибки. 20 - сложнее, непонятно, может это 2, а может 0 - в нашем анализе это будут полярные значения. Так как выяснить реальные данные мы не можем, принимаем решение не учитывать эти данные. Сделаем отбор данных для анализа зависимости от наличия детей в переменную selection_child "
   ]
  },
  {
   "cell_type": "code",
   "execution_count": 29,
   "metadata": {},
   "outputs": [
    {
     "data": {
      "text/plain": [
       " 0     14091\n",
       " 1      4808\n",
       " 2      2052\n",
       " 3       330\n",
       " 20       76\n",
       "-1        47\n",
       " 4        41\n",
       " 5         9\n",
       "Name: children, dtype: int64"
      ]
     },
     "execution_count": 29,
     "metadata": {},
     "output_type": "execute_result"
    }
   ],
   "source": [
    "#проверяем значения столбца 'children'\n",
    "data['children'].value_counts()"
   ]
  },
  {
   "cell_type": "code",
   "execution_count": 30,
   "metadata": {},
   "outputs": [
    {
     "data": {
      "text/plain": [
       "0    14091\n",
       "1     4808\n",
       "2     2052\n",
       "3      330\n",
       "4       41\n",
       "5        9\n",
       "Name: children, dtype: int64"
      ]
     },
     "execution_count": 30,
     "metadata": {},
     "output_type": "execute_result"
    }
   ],
   "source": [
    "selection_child = data[['children','debt']]\n",
    "selection_child = selection_child.loc[(selection_child['children'] >= 0) & (selection_child['children'] < 20)]\n",
    "selection_child['children'].value_counts()"
   ]
  },
  {
   "cell_type": "code",
   "execution_count": 31,
   "metadata": {},
   "outputs": [],
   "source": [
    "#Функция для категоризации клиентов по признаку наличия детей\n",
    "def have_children(children):\n",
    "    if children > 0:\n",
    "        return 1\n",
    "    return 0"
   ]
  },
  {
   "cell_type": "code",
   "execution_count": 32,
   "metadata": {},
   "outputs": [
    {
     "data": {
      "text/html": [
       "<div>\n",
       "<style scoped>\n",
       "    .dataframe tbody tr th:only-of-type {\n",
       "        vertical-align: middle;\n",
       "    }\n",
       "\n",
       "    .dataframe tbody tr th {\n",
       "        vertical-align: top;\n",
       "    }\n",
       "\n",
       "    .dataframe thead th {\n",
       "        text-align: right;\n",
       "    }\n",
       "</style>\n",
       "<table border=\"1\" class=\"dataframe\">\n",
       "  <thead>\n",
       "    <tr style=\"text-align: right;\">\n",
       "      <th></th>\n",
       "      <th>children</th>\n",
       "      <th>debt</th>\n",
       "      <th>have_children</th>\n",
       "    </tr>\n",
       "  </thead>\n",
       "  <tbody>\n",
       "    <tr>\n",
       "      <td>0</td>\n",
       "      <td>1</td>\n",
       "      <td>0</td>\n",
       "      <td>1</td>\n",
       "    </tr>\n",
       "    <tr>\n",
       "      <td>1</td>\n",
       "      <td>1</td>\n",
       "      <td>0</td>\n",
       "      <td>1</td>\n",
       "    </tr>\n",
       "    <tr>\n",
       "      <td>2</td>\n",
       "      <td>0</td>\n",
       "      <td>0</td>\n",
       "      <td>0</td>\n",
       "    </tr>\n",
       "    <tr>\n",
       "      <td>3</td>\n",
       "      <td>3</td>\n",
       "      <td>0</td>\n",
       "      <td>1</td>\n",
       "    </tr>\n",
       "    <tr>\n",
       "      <td>4</td>\n",
       "      <td>0</td>\n",
       "      <td>0</td>\n",
       "      <td>0</td>\n",
       "    </tr>\n",
       "    <tr>\n",
       "      <td>5</td>\n",
       "      <td>0</td>\n",
       "      <td>0</td>\n",
       "      <td>0</td>\n",
       "    </tr>\n",
       "    <tr>\n",
       "      <td>6</td>\n",
       "      <td>0</td>\n",
       "      <td>0</td>\n",
       "      <td>0</td>\n",
       "    </tr>\n",
       "    <tr>\n",
       "      <td>7</td>\n",
       "      <td>0</td>\n",
       "      <td>0</td>\n",
       "      <td>0</td>\n",
       "    </tr>\n",
       "    <tr>\n",
       "      <td>8</td>\n",
       "      <td>2</td>\n",
       "      <td>0</td>\n",
       "      <td>1</td>\n",
       "    </tr>\n",
       "    <tr>\n",
       "      <td>9</td>\n",
       "      <td>0</td>\n",
       "      <td>0</td>\n",
       "      <td>0</td>\n",
       "    </tr>\n",
       "  </tbody>\n",
       "</table>\n",
       "</div>"
      ],
      "text/plain": [
       "   children  debt  have_children\n",
       "0         1     0              1\n",
       "1         1     0              1\n",
       "2         0     0              0\n",
       "3         3     0              1\n",
       "4         0     0              0\n",
       "5         0     0              0\n",
       "6         0     0              0\n",
       "7         0     0              0\n",
       "8         2     0              1\n",
       "9         0     0              0"
      ]
     },
     "execution_count": 32,
     "metadata": {},
     "output_type": "execute_result"
    }
   ],
   "source": [
    "selection_child['have_children'] = selection_child['children'].apply(have_children)\n",
    "selection_child.head(10)"
   ]
  },
  {
   "cell_type": "markdown",
   "metadata": {},
   "source": [
    "Для подготовки данных для определения зависимости между семейным положением и возвратом кредита в срок создадим таблицу selection_family и словарь статусов семейного положения:"
   ]
  },
  {
   "cell_type": "code",
   "execution_count": 33,
   "metadata": {},
   "outputs": [
    {
     "data": {
      "text/html": [
       "<div>\n",
       "<style scoped>\n",
       "    .dataframe tbody tr th:only-of-type {\n",
       "        vertical-align: middle;\n",
       "    }\n",
       "\n",
       "    .dataframe tbody tr th {\n",
       "        vertical-align: top;\n",
       "    }\n",
       "\n",
       "    .dataframe thead th {\n",
       "        text-align: right;\n",
       "    }\n",
       "</style>\n",
       "<table border=\"1\" class=\"dataframe\">\n",
       "  <thead>\n",
       "    <tr style=\"text-align: right;\">\n",
       "      <th></th>\n",
       "      <th>family_status_id</th>\n",
       "      <th>debt</th>\n",
       "    </tr>\n",
       "  </thead>\n",
       "  <tbody>\n",
       "    <tr>\n",
       "      <td>0</td>\n",
       "      <td>0</td>\n",
       "      <td>0</td>\n",
       "    </tr>\n",
       "    <tr>\n",
       "      <td>1</td>\n",
       "      <td>0</td>\n",
       "      <td>0</td>\n",
       "    </tr>\n",
       "    <tr>\n",
       "      <td>2</td>\n",
       "      <td>0</td>\n",
       "      <td>0</td>\n",
       "    </tr>\n",
       "    <tr>\n",
       "      <td>3</td>\n",
       "      <td>0</td>\n",
       "      <td>0</td>\n",
       "    </tr>\n",
       "    <tr>\n",
       "      <td>4</td>\n",
       "      <td>1</td>\n",
       "      <td>0</td>\n",
       "    </tr>\n",
       "    <tr>\n",
       "      <td>5</td>\n",
       "      <td>1</td>\n",
       "      <td>0</td>\n",
       "    </tr>\n",
       "    <tr>\n",
       "      <td>6</td>\n",
       "      <td>0</td>\n",
       "      <td>0</td>\n",
       "    </tr>\n",
       "    <tr>\n",
       "      <td>7</td>\n",
       "      <td>0</td>\n",
       "      <td>0</td>\n",
       "    </tr>\n",
       "    <tr>\n",
       "      <td>8</td>\n",
       "      <td>1</td>\n",
       "      <td>0</td>\n",
       "    </tr>\n",
       "    <tr>\n",
       "      <td>9</td>\n",
       "      <td>0</td>\n",
       "      <td>0</td>\n",
       "    </tr>\n",
       "  </tbody>\n",
       "</table>\n",
       "</div>"
      ],
      "text/plain": [
       "   family_status_id  debt\n",
       "0                 0     0\n",
       "1                 0     0\n",
       "2                 0     0\n",
       "3                 0     0\n",
       "4                 1     0\n",
       "5                 1     0\n",
       "6                 0     0\n",
       "7                 0     0\n",
       "8                 1     0\n",
       "9                 0     0"
      ]
     },
     "execution_count": 33,
     "metadata": {},
     "output_type": "execute_result"
    }
   ],
   "source": [
    "selection_family = data[['family_status_id', 'debt']]\n",
    "selection_family.head(10)"
   ]
  },
  {
   "cell_type": "code",
   "execution_count": 34,
   "metadata": {},
   "outputs": [
    {
     "data": {
      "text/html": [
       "<div>\n",
       "<style scoped>\n",
       "    .dataframe tbody tr th:only-of-type {\n",
       "        vertical-align: middle;\n",
       "    }\n",
       "\n",
       "    .dataframe tbody tr th {\n",
       "        vertical-align: top;\n",
       "    }\n",
       "\n",
       "    .dataframe thead th {\n",
       "        text-align: right;\n",
       "    }\n",
       "</style>\n",
       "<table border=\"1\" class=\"dataframe\">\n",
       "  <thead>\n",
       "    <tr style=\"text-align: right;\">\n",
       "      <th></th>\n",
       "      <th>family_status</th>\n",
       "      <th>family_status_id</th>\n",
       "    </tr>\n",
       "  </thead>\n",
       "  <tbody>\n",
       "    <tr>\n",
       "      <td>0</td>\n",
       "      <td>женат / замужем</td>\n",
       "      <td>0</td>\n",
       "    </tr>\n",
       "    <tr>\n",
       "      <td>1</td>\n",
       "      <td>гражданский брак</td>\n",
       "      <td>1</td>\n",
       "    </tr>\n",
       "    <tr>\n",
       "      <td>2</td>\n",
       "      <td>вдовец / вдова</td>\n",
       "      <td>2</td>\n",
       "    </tr>\n",
       "    <tr>\n",
       "      <td>3</td>\n",
       "      <td>в разводе</td>\n",
       "      <td>3</td>\n",
       "    </tr>\n",
       "    <tr>\n",
       "      <td>4</td>\n",
       "      <td>Не женат / не замужем</td>\n",
       "      <td>4</td>\n",
       "    </tr>\n",
       "  </tbody>\n",
       "</table>\n",
       "</div>"
      ],
      "text/plain": [
       "           family_status  family_status_id\n",
       "0        женат / замужем                 0\n",
       "1       гражданский брак                 1\n",
       "2         вдовец / вдова                 2\n",
       "3              в разводе                 3\n",
       "4  Не женат / не замужем                 4"
      ]
     },
     "execution_count": 34,
     "metadata": {},
     "output_type": "execute_result"
    }
   ],
   "source": [
    "family_st_dict = data[['family_status','family_status_id']]\n",
    "#удаляем дубликаты\n",
    "family_st_dict = family_st_dict.drop_duplicates().reset_index(drop=True)\n",
    "family_st_dict.head(10)"
   ]
  },
  {
   "cell_type": "markdown",
   "metadata": {},
   "source": [
    "Для определения зависимости между уровнем дохода и возвратом кредита в срок, разделим клиентов по уровню доходов на 4 категории: низкий, средний, высокий, сверхвысокий. Определим 4 группы доходов с помощью метода qcut()"
   ]
  },
  {
   "cell_type": "code",
   "execution_count": 35,
   "metadata": {},
   "outputs": [
    {
     "data": {
      "text/plain": [
       "(107623.0, 145017.0]      6415\n",
       "(195813.25, 2265604.0]    5364\n",
       "(20666.999, 107623.0]     5364\n",
       "(145017.0, 195813.25]     4311\n",
       "Name: total_income, dtype: int64"
      ]
     },
     "execution_count": 35,
     "metadata": {},
     "output_type": "execute_result"
    }
   ],
   "source": [
    "pd.qcut(data['total_income'], q=4).value_counts()"
   ]
  },
  {
   "cell_type": "code",
   "execution_count": 36,
   "metadata": {},
   "outputs": [],
   "source": [
    "income_mean = data['total_income'].mean()\n",
    "income_low = income_mean / 1.88\n",
    "income_medium = income_mean / 1.22\n",
    "income_high = income_mean / 0.85\n"
   ]
  },
  {
   "cell_type": "code",
   "execution_count": 37,
   "metadata": {},
   "outputs": [],
   "source": [
    "#функция категоризации доходов клиентов\n",
    "def income_category_set(income):\n",
    "    if income <= income_low:\n",
    "        return 'низкий'\n",
    "    elif (income > income_low) & (income <= income_medium):\n",
    "        return 'средний'\n",
    "    elif (income > income_medium) & (income <= income_high):\n",
    "        return 'высокий'\n",
    "    return 'сверхвысокий'"
   ]
  },
  {
   "cell_type": "code",
   "execution_count": 38,
   "metadata": {},
   "outputs": [
    {
     "data": {
      "text/html": [
       "<div>\n",
       "<style scoped>\n",
       "    .dataframe tbody tr th:only-of-type {\n",
       "        vertical-align: middle;\n",
       "    }\n",
       "\n",
       "    .dataframe tbody tr th {\n",
       "        vertical-align: top;\n",
       "    }\n",
       "\n",
       "    .dataframe thead th {\n",
       "        text-align: right;\n",
       "    }\n",
       "</style>\n",
       "<table border=\"1\" class=\"dataframe\">\n",
       "  <thead>\n",
       "    <tr style=\"text-align: right;\">\n",
       "      <th></th>\n",
       "      <th>children</th>\n",
       "      <th>dob_years</th>\n",
       "      <th>education</th>\n",
       "      <th>education_id</th>\n",
       "      <th>family_status</th>\n",
       "      <th>family_status_id</th>\n",
       "      <th>gender</th>\n",
       "      <th>income_type</th>\n",
       "      <th>debt</th>\n",
       "      <th>total_income</th>\n",
       "      <th>purpose</th>\n",
       "      <th>purpose_category</th>\n",
       "      <th>income_category</th>\n",
       "    </tr>\n",
       "  </thead>\n",
       "  <tbody>\n",
       "    <tr>\n",
       "      <td>0</td>\n",
       "      <td>1</td>\n",
       "      <td>42</td>\n",
       "      <td>высшее</td>\n",
       "      <td>0</td>\n",
       "      <td>женат / замужем</td>\n",
       "      <td>0</td>\n",
       "      <td>F</td>\n",
       "      <td>сотрудник</td>\n",
       "      <td>0</td>\n",
       "      <td>253875</td>\n",
       "      <td>покупка жилья</td>\n",
       "      <td>недвижимость</td>\n",
       "      <td>сверхвысокий</td>\n",
       "    </tr>\n",
       "    <tr>\n",
       "      <td>1</td>\n",
       "      <td>1</td>\n",
       "      <td>36</td>\n",
       "      <td>среднее</td>\n",
       "      <td>1</td>\n",
       "      <td>женат / замужем</td>\n",
       "      <td>0</td>\n",
       "      <td>F</td>\n",
       "      <td>сотрудник</td>\n",
       "      <td>0</td>\n",
       "      <td>112080</td>\n",
       "      <td>приобретение автомобиля</td>\n",
       "      <td>автомобиль</td>\n",
       "      <td>средний</td>\n",
       "    </tr>\n",
       "    <tr>\n",
       "      <td>2</td>\n",
       "      <td>0</td>\n",
       "      <td>33</td>\n",
       "      <td>среднее</td>\n",
       "      <td>1</td>\n",
       "      <td>женат / замужем</td>\n",
       "      <td>0</td>\n",
       "      <td>M</td>\n",
       "      <td>сотрудник</td>\n",
       "      <td>0</td>\n",
       "      <td>145885</td>\n",
       "      <td>покупка жилья</td>\n",
       "      <td>недвижимость</td>\n",
       "      <td>высокий</td>\n",
       "    </tr>\n",
       "    <tr>\n",
       "      <td>3</td>\n",
       "      <td>3</td>\n",
       "      <td>32</td>\n",
       "      <td>среднее</td>\n",
       "      <td>1</td>\n",
       "      <td>женат / замужем</td>\n",
       "      <td>0</td>\n",
       "      <td>M</td>\n",
       "      <td>сотрудник</td>\n",
       "      <td>0</td>\n",
       "      <td>267628</td>\n",
       "      <td>дополнительное образование</td>\n",
       "      <td>образование</td>\n",
       "      <td>сверхвысокий</td>\n",
       "    </tr>\n",
       "    <tr>\n",
       "      <td>4</td>\n",
       "      <td>0</td>\n",
       "      <td>53</td>\n",
       "      <td>среднее</td>\n",
       "      <td>1</td>\n",
       "      <td>гражданский брак</td>\n",
       "      <td>1</td>\n",
       "      <td>F</td>\n",
       "      <td>пенсионер</td>\n",
       "      <td>0</td>\n",
       "      <td>158616</td>\n",
       "      <td>сыграть свадьбу</td>\n",
       "      <td>свадьба</td>\n",
       "      <td>высокий</td>\n",
       "    </tr>\n",
       "  </tbody>\n",
       "</table>\n",
       "</div>"
      ],
      "text/plain": [
       "   children  dob_years education  education_id     family_status  \\\n",
       "0         1         42    высшее             0   женат / замужем   \n",
       "1         1         36   среднее             1   женат / замужем   \n",
       "2         0         33   среднее             1   женат / замужем   \n",
       "3         3         32   среднее             1   женат / замужем   \n",
       "4         0         53   среднее             1  гражданский брак   \n",
       "\n",
       "   family_status_id gender income_type  debt  total_income  \\\n",
       "0                 0      F   сотрудник     0        253875   \n",
       "1                 0      F   сотрудник     0        112080   \n",
       "2                 0      M   сотрудник     0        145885   \n",
       "3                 0      M   сотрудник     0        267628   \n",
       "4                 1      F   пенсионер     0        158616   \n",
       "\n",
       "                      purpose purpose_category income_category  \n",
       "0               покупка жилья     недвижимость    сверхвысокий  \n",
       "1     приобретение автомобиля       автомобиль         средний  \n",
       "2               покупка жилья     недвижимость         высокий  \n",
       "3  дополнительное образование      образование    сверхвысокий  \n",
       "4             сыграть свадьбу          свадьба         высокий  "
      ]
     },
     "execution_count": 38,
     "metadata": {},
     "output_type": "execute_result"
    }
   ],
   "source": [
    "data['income_category'] = data['total_income'].apply(income_category_set)\n",
    "data.head()"
   ]
  },
  {
   "cell_type": "markdown",
   "metadata": {},
   "source": [
    "**Вывод**"
   ]
  },
  {
   "cell_type": "markdown",
   "metadata": {},
   "source": [
    "На основании информации полученной на предыдущем этапе, разделили цели получения кредитов на 4 категории. В таком виде их будет удобно обрабатывать в дальнейших исследованиях. Также подготовили и категоризировали данные по наличию детей, по семейному положению и сгруппировали клиентов по уровню доходов."
   ]
  },
  {
   "cell_type": "markdown",
   "metadata": {},
   "source": [
    "Создадим общую функцию для обработки и рассчета зависимостей\n",
    "Функция получает на вход отфильтрованные данные (selection_data), \n",
    "имя категории группирования(name_for_groupby),\n",
    "список ключевых категорий для расчета зависимостей (keys),\n",
    "sort - признак необходимости сортировки выходных данных"
   ]
  },
  {
   "cell_type": "code",
   "execution_count": 39,
   "metadata": {},
   "outputs": [],
   "source": [
    "def data_result(selection_data, name_for_groupby, keys, sort):\n",
    "    #Получаем количество клиентов имевших задолженности по возвратам кредитов в разрезе категорий\n",
    "    debt_count = selection_data.groupby(name_for_groupby)['debt'].sum()\n",
    "    #Получаем количество клиентов получивших кредит в разрезе категорий\n",
    "    credit_count = selection_data.groupby(name_for_groupby)['debt'].count()\n",
    "    #Создаем итоговую таблицу с данными для анализа\n",
    "    data = []\n",
    "    for i in range(len(debt_count)):\n",
    "        data.append([keys[i], debt_count[i], credit_count[i]])\n",
    "    \n",
    "    result = pd.DataFrame(data=data, \n",
    "                            columns=[name_for_groupby, 'debt_count', 'credit_count'])\n",
    "    result['bad_dabt_percent'] = (result['debt_count'] / result['credit_count']) * 100\n",
    "    if sort == True:\n",
    "        result = result.sort_values('bad_dabt_percent', ascending=False)\n",
    "        return result\n",
    "    return result"
   ]
  },
  {
   "cell_type": "markdown",
   "metadata": {},
   "source": [
    "- Есть ли зависимость между наличием детей и возвратом кредита в срок?"
   ]
  },
  {
   "cell_type": "code",
   "execution_count": 40,
   "metadata": {},
   "outputs": [
    {
     "data": {
      "text/html": [
       "<div>\n",
       "<style scoped>\n",
       "    .dataframe tbody tr th:only-of-type {\n",
       "        vertical-align: middle;\n",
       "    }\n",
       "\n",
       "    .dataframe tbody tr th {\n",
       "        vertical-align: top;\n",
       "    }\n",
       "\n",
       "    .dataframe thead th {\n",
       "        text-align: right;\n",
       "    }\n",
       "</style>\n",
       "<table border=\"1\" class=\"dataframe\">\n",
       "  <thead>\n",
       "    <tr style=\"text-align: right;\">\n",
       "      <th></th>\n",
       "      <th>have_children</th>\n",
       "      <th>debt_count</th>\n",
       "      <th>credit_count</th>\n",
       "      <th>bad_dabt_percent</th>\n",
       "    </tr>\n",
       "  </thead>\n",
       "  <tbody>\n",
       "    <tr>\n",
       "      <td>0</td>\n",
       "      <td>0</td>\n",
       "      <td>1063</td>\n",
       "      <td>14091</td>\n",
       "      <td>7.543822</td>\n",
       "    </tr>\n",
       "    <tr>\n",
       "      <td>1</td>\n",
       "      <td>1</td>\n",
       "      <td>669</td>\n",
       "      <td>7240</td>\n",
       "      <td>9.240331</td>\n",
       "    </tr>\n",
       "  </tbody>\n",
       "</table>\n",
       "</div>"
      ],
      "text/plain": [
       "   have_children  debt_count  credit_count  bad_dabt_percent\n",
       "0              0        1063         14091          7.543822\n",
       "1              1         669          7240          9.240331"
      ]
     },
     "execution_count": 40,
     "metadata": {},
     "output_type": "execute_result"
    }
   ],
   "source": [
    "keys_child = sorted(selection_child['have_children'].unique())\n",
    "result_child = data_result(selection_child, 'have_children', keys_child, False)\n",
    "result_child"
   ]
  },
  {
   "cell_type": "markdown",
   "metadata": {},
   "source": [
    "**Вывод**"
   ]
  },
  {
   "cell_type": "markdown",
   "metadata": {},
   "source": [
    "Процент имевших задолженности по возвратам кредитов, среди клиентов с детьми: 9.24%, среди клиентов без детей 7.54%. Вывод: клиенты с детьми чаще допускают задолженности по возвратам кредитов. Очеивидно клиенты с детьми чаще сталкиваются с непредвиденными расходами и им сложнее планировать свой бюджет. "
   ]
  },
  {
   "cell_type": "markdown",
   "metadata": {},
   "source": [
    "- Есть ли зависимость между семейным положением и возвратом кредита в срок?"
   ]
  },
  {
   "cell_type": "code",
   "execution_count": 41,
   "metadata": {},
   "outputs": [
    {
     "data": {
      "text/html": [
       "<div>\n",
       "<style scoped>\n",
       "    .dataframe tbody tr th:only-of-type {\n",
       "        vertical-align: middle;\n",
       "    }\n",
       "\n",
       "    .dataframe tbody tr th {\n",
       "        vertical-align: top;\n",
       "    }\n",
       "\n",
       "    .dataframe thead th {\n",
       "        text-align: right;\n",
       "    }\n",
       "</style>\n",
       "<table border=\"1\" class=\"dataframe\">\n",
       "  <thead>\n",
       "    <tr style=\"text-align: right;\">\n",
       "      <th></th>\n",
       "      <th>family_status_id</th>\n",
       "      <th>debt_count</th>\n",
       "      <th>credit_count</th>\n",
       "      <th>bad_dabt_percent</th>\n",
       "    </tr>\n",
       "  </thead>\n",
       "  <tbody>\n",
       "    <tr>\n",
       "      <td>4</td>\n",
       "      <td>4</td>\n",
       "      <td>274</td>\n",
       "      <td>2810</td>\n",
       "      <td>9.750890</td>\n",
       "    </tr>\n",
       "    <tr>\n",
       "      <td>1</td>\n",
       "      <td>1</td>\n",
       "      <td>388</td>\n",
       "      <td>4151</td>\n",
       "      <td>9.347145</td>\n",
       "    </tr>\n",
       "    <tr>\n",
       "      <td>0</td>\n",
       "      <td>0</td>\n",
       "      <td>931</td>\n",
       "      <td>12339</td>\n",
       "      <td>7.545182</td>\n",
       "    </tr>\n",
       "    <tr>\n",
       "      <td>3</td>\n",
       "      <td>3</td>\n",
       "      <td>85</td>\n",
       "      <td>1195</td>\n",
       "      <td>7.112971</td>\n",
       "    </tr>\n",
       "    <tr>\n",
       "      <td>2</td>\n",
       "      <td>2</td>\n",
       "      <td>63</td>\n",
       "      <td>959</td>\n",
       "      <td>6.569343</td>\n",
       "    </tr>\n",
       "  </tbody>\n",
       "</table>\n",
       "</div>"
      ],
      "text/plain": [
       "   family_status_id  debt_count  credit_count  bad_dabt_percent\n",
       "4                 4         274          2810          9.750890\n",
       "1                 1         388          4151          9.347145\n",
       "0                 0         931         12339          7.545182\n",
       "3                 3          85          1195          7.112971\n",
       "2                 2          63           959          6.569343"
      ]
     },
     "execution_count": 41,
     "metadata": {},
     "output_type": "execute_result"
    }
   ],
   "source": [
    "keys_family = sorted(selection_family['family_status_id'].unique())\n",
    "result_family = data_result(selection_family, 'family_status_id', keys_family, True)\n",
    "result_family"
   ]
  },
  {
   "cell_type": "code",
   "execution_count": 42,
   "metadata": {},
   "outputs": [
    {
     "data": {
      "text/html": [
       "<div>\n",
       "<style scoped>\n",
       "    .dataframe tbody tr th:only-of-type {\n",
       "        vertical-align: middle;\n",
       "    }\n",
       "\n",
       "    .dataframe tbody tr th {\n",
       "        vertical-align: top;\n",
       "    }\n",
       "\n",
       "    .dataframe thead th {\n",
       "        text-align: right;\n",
       "    }\n",
       "</style>\n",
       "<table border=\"1\" class=\"dataframe\">\n",
       "  <thead>\n",
       "    <tr style=\"text-align: right;\">\n",
       "      <th></th>\n",
       "      <th>family_status</th>\n",
       "      <th>family_status_id</th>\n",
       "      <th>debt_count</th>\n",
       "      <th>credit_count</th>\n",
       "      <th>bad_dabt_percent</th>\n",
       "    </tr>\n",
       "  </thead>\n",
       "  <tbody>\n",
       "    <tr>\n",
       "      <td>4</td>\n",
       "      <td>Не женат / не замужем</td>\n",
       "      <td>4</td>\n",
       "      <td>274</td>\n",
       "      <td>2810</td>\n",
       "      <td>9.750890</td>\n",
       "    </tr>\n",
       "    <tr>\n",
       "      <td>1</td>\n",
       "      <td>гражданский брак</td>\n",
       "      <td>1</td>\n",
       "      <td>388</td>\n",
       "      <td>4151</td>\n",
       "      <td>9.347145</td>\n",
       "    </tr>\n",
       "    <tr>\n",
       "      <td>0</td>\n",
       "      <td>женат / замужем</td>\n",
       "      <td>0</td>\n",
       "      <td>931</td>\n",
       "      <td>12339</td>\n",
       "      <td>7.545182</td>\n",
       "    </tr>\n",
       "    <tr>\n",
       "      <td>3</td>\n",
       "      <td>в разводе</td>\n",
       "      <td>3</td>\n",
       "      <td>85</td>\n",
       "      <td>1195</td>\n",
       "      <td>7.112971</td>\n",
       "    </tr>\n",
       "    <tr>\n",
       "      <td>2</td>\n",
       "      <td>вдовец / вдова</td>\n",
       "      <td>2</td>\n",
       "      <td>63</td>\n",
       "      <td>959</td>\n",
       "      <td>6.569343</td>\n",
       "    </tr>\n",
       "  </tbody>\n",
       "</table>\n",
       "</div>"
      ],
      "text/plain": [
       "           family_status  family_status_id  debt_count  credit_count  \\\n",
       "4  Не женат / не замужем                 4         274          2810   \n",
       "1       гражданский брак                 1         388          4151   \n",
       "0        женат / замужем                 0         931         12339   \n",
       "3              в разводе                 3          85          1195   \n",
       "2         вдовец / вдова                 2          63           959   \n",
       "\n",
       "   bad_dabt_percent  \n",
       "4          9.750890  \n",
       "1          9.347145  \n",
       "0          7.545182  \n",
       "3          7.112971  \n",
       "2          6.569343  "
      ]
     },
     "execution_count": 42,
     "metadata": {},
     "output_type": "execute_result"
    }
   ],
   "source": [
    "#Добавляем в итоговую таблицу текстовые значения семейного положения\n",
    "result_family.insert(0,'family_status', result_family['family_status_id'].map(family_st_dict.set_index('family_status_id')['family_status']))\n",
    "result_family"
   ]
  },
  {
   "cell_type": "markdown",
   "metadata": {},
   "source": [
    "**Вывод**"
   ]
  },
  {
   "cell_type": "markdown",
   "metadata": {},
   "source": [
    "Самые дисциплинированные плательщики кредитов вдовцы и вдовы, а также разведенные, видимо они расчитывают только на себя и тщательно планируют свои расходы. Чаще других допускают просрочки оплат клиенты, которые не женатые/не замужем, а также находящиеся в гражданском браке."
   ]
  },
  {
   "cell_type": "markdown",
   "metadata": {},
   "source": [
    "- Есть ли зависимость между уровнем дохода и возвратом кредита в срок?"
   ]
  },
  {
   "cell_type": "code",
   "execution_count": 43,
   "metadata": {},
   "outputs": [
    {
     "data": {
      "text/html": [
       "<div>\n",
       "<style scoped>\n",
       "    .dataframe tbody tr th:only-of-type {\n",
       "        vertical-align: middle;\n",
       "    }\n",
       "\n",
       "    .dataframe tbody tr th {\n",
       "        vertical-align: top;\n",
       "    }\n",
       "\n",
       "    .dataframe thead th {\n",
       "        text-align: right;\n",
       "    }\n",
       "</style>\n",
       "<table border=\"1\" class=\"dataframe\">\n",
       "  <thead>\n",
       "    <tr style=\"text-align: right;\">\n",
       "      <th></th>\n",
       "      <th>income_category</th>\n",
       "      <th>debt</th>\n",
       "    </tr>\n",
       "  </thead>\n",
       "  <tbody>\n",
       "    <tr>\n",
       "      <td>0</td>\n",
       "      <td>сверхвысокий</td>\n",
       "      <td>0</td>\n",
       "    </tr>\n",
       "    <tr>\n",
       "      <td>1</td>\n",
       "      <td>средний</td>\n",
       "      <td>0</td>\n",
       "    </tr>\n",
       "    <tr>\n",
       "      <td>2</td>\n",
       "      <td>высокий</td>\n",
       "      <td>0</td>\n",
       "    </tr>\n",
       "    <tr>\n",
       "      <td>3</td>\n",
       "      <td>сверхвысокий</td>\n",
       "      <td>0</td>\n",
       "    </tr>\n",
       "    <tr>\n",
       "      <td>4</td>\n",
       "      <td>высокий</td>\n",
       "      <td>0</td>\n",
       "    </tr>\n",
       "  </tbody>\n",
       "</table>\n",
       "</div>"
      ],
      "text/plain": [
       "  income_category  debt\n",
       "0    сверхвысокий     0\n",
       "1         средний     0\n",
       "2         высокий     0\n",
       "3    сверхвысокий     0\n",
       "4         высокий     0"
      ]
     },
     "execution_count": 43,
     "metadata": {},
     "output_type": "execute_result"
    }
   ],
   "source": [
    "#Отберем данные для анализа зависимости возвратов кредитов от уровня доходов\n",
    "selection_income = data[['income_category', 'debt']]\n",
    "selection_income.head()"
   ]
  },
  {
   "cell_type": "code",
   "execution_count": 44,
   "metadata": {},
   "outputs": [
    {
     "data": {
      "text/html": [
       "<div>\n",
       "<style scoped>\n",
       "    .dataframe tbody tr th:only-of-type {\n",
       "        vertical-align: middle;\n",
       "    }\n",
       "\n",
       "    .dataframe tbody tr th {\n",
       "        vertical-align: top;\n",
       "    }\n",
       "\n",
       "    .dataframe thead th {\n",
       "        text-align: right;\n",
       "    }\n",
       "</style>\n",
       "<table border=\"1\" class=\"dataframe\">\n",
       "  <thead>\n",
       "    <tr style=\"text-align: right;\">\n",
       "      <th></th>\n",
       "      <th>income_category</th>\n",
       "      <th>debt_count</th>\n",
       "      <th>credit_count</th>\n",
       "      <th>bad_dabt_percent</th>\n",
       "    </tr>\n",
       "  </thead>\n",
       "  <tbody>\n",
       "    <tr>\n",
       "      <td>0</td>\n",
       "      <td>высокий</td>\n",
       "      <td>647</td>\n",
       "      <td>7408</td>\n",
       "      <td>8.733801</td>\n",
       "    </tr>\n",
       "    <tr>\n",
       "      <td>3</td>\n",
       "      <td>средний</td>\n",
       "      <td>460</td>\n",
       "      <td>5442</td>\n",
       "      <td>8.452775</td>\n",
       "    </tr>\n",
       "    <tr>\n",
       "      <td>1</td>\n",
       "      <td>низкий</td>\n",
       "      <td>239</td>\n",
       "      <td>3136</td>\n",
       "      <td>7.621173</td>\n",
       "    </tr>\n",
       "    <tr>\n",
       "      <td>2</td>\n",
       "      <td>сверхвысокий</td>\n",
       "      <td>395</td>\n",
       "      <td>5468</td>\n",
       "      <td>7.223848</td>\n",
       "    </tr>\n",
       "  </tbody>\n",
       "</table>\n",
       "</div>"
      ],
      "text/plain": [
       "  income_category  debt_count  credit_count  bad_dabt_percent\n",
       "0         высокий         647          7408          8.733801\n",
       "3         средний         460          5442          8.452775\n",
       "1          низкий         239          3136          7.621173\n",
       "2    сверхвысокий         395          5468          7.223848"
      ]
     },
     "execution_count": 44,
     "metadata": {},
     "output_type": "execute_result"
    }
   ],
   "source": [
    "keys_income = sorted(selection_income['income_category'].unique())\n",
    "#Передаем данные в основную функцию\n",
    "result_income = data_result(selection_income, 'income_category', keys_income, True)\n",
    "result_income"
   ]
  },
  {
   "cell_type": "markdown",
   "metadata": {},
   "source": [
    "**Вывод**"
   ]
  },
  {
   "cell_type": "markdown",
   "metadata": {},
   "source": [
    "Как ни странно, но самые недисциплинированные плательщики - клиенты с высокими доходами от 135000 до 195000. При этом клиенты имеющие сверхвысокий доход (более 195000) являются самыми надежными кредитополучателями. Также низкий процент просрочки оплат демонстируют клиенты с низкими доходами (менее 88000)"
   ]
  },
  {
   "cell_type": "markdown",
   "metadata": {},
   "source": [
    "- Как разные цели кредита влияют на его возврат в срок?"
   ]
  },
  {
   "cell_type": "code",
   "execution_count": 45,
   "metadata": {},
   "outputs": [
    {
     "data": {
      "text/html": [
       "<div>\n",
       "<style scoped>\n",
       "    .dataframe tbody tr th:only-of-type {\n",
       "        vertical-align: middle;\n",
       "    }\n",
       "\n",
       "    .dataframe tbody tr th {\n",
       "        vertical-align: top;\n",
       "    }\n",
       "\n",
       "    .dataframe thead th {\n",
       "        text-align: right;\n",
       "    }\n",
       "</style>\n",
       "<table border=\"1\" class=\"dataframe\">\n",
       "  <thead>\n",
       "    <tr style=\"text-align: right;\">\n",
       "      <th></th>\n",
       "      <th>purpose_category</th>\n",
       "      <th>debt</th>\n",
       "    </tr>\n",
       "  </thead>\n",
       "  <tbody>\n",
       "    <tr>\n",
       "      <td>0</td>\n",
       "      <td>недвижимость</td>\n",
       "      <td>0</td>\n",
       "    </tr>\n",
       "    <tr>\n",
       "      <td>1</td>\n",
       "      <td>автомобиль</td>\n",
       "      <td>0</td>\n",
       "    </tr>\n",
       "    <tr>\n",
       "      <td>2</td>\n",
       "      <td>недвижимость</td>\n",
       "      <td>0</td>\n",
       "    </tr>\n",
       "    <tr>\n",
       "      <td>3</td>\n",
       "      <td>образование</td>\n",
       "      <td>0</td>\n",
       "    </tr>\n",
       "    <tr>\n",
       "      <td>4</td>\n",
       "      <td>свадьба</td>\n",
       "      <td>0</td>\n",
       "    </tr>\n",
       "    <tr>\n",
       "      <td>5</td>\n",
       "      <td>недвижимость</td>\n",
       "      <td>0</td>\n",
       "    </tr>\n",
       "    <tr>\n",
       "      <td>6</td>\n",
       "      <td>недвижимость</td>\n",
       "      <td>0</td>\n",
       "    </tr>\n",
       "    <tr>\n",
       "      <td>7</td>\n",
       "      <td>образование</td>\n",
       "      <td>0</td>\n",
       "    </tr>\n",
       "    <tr>\n",
       "      <td>8</td>\n",
       "      <td>свадьба</td>\n",
       "      <td>0</td>\n",
       "    </tr>\n",
       "    <tr>\n",
       "      <td>9</td>\n",
       "      <td>недвижимость</td>\n",
       "      <td>0</td>\n",
       "    </tr>\n",
       "  </tbody>\n",
       "</table>\n",
       "</div>"
      ],
      "text/plain": [
       "  purpose_category  debt\n",
       "0     недвижимость     0\n",
       "1       автомобиль     0\n",
       "2     недвижимость     0\n",
       "3      образование     0\n",
       "4          свадьба     0\n",
       "5     недвижимость     0\n",
       "6     недвижимость     0\n",
       "7      образование     0\n",
       "8          свадьба     0\n",
       "9     недвижимость     0"
      ]
     },
     "execution_count": 45,
     "metadata": {},
     "output_type": "execute_result"
    }
   ],
   "source": [
    "#Создадим таблицу selection_purpose с данными целей кредитовния\n",
    "selection_purpose = data[['purpose_category', 'debt']]\n",
    "selection_purpose.head(10)"
   ]
  },
  {
   "cell_type": "code",
   "execution_count": 46,
   "metadata": {},
   "outputs": [
    {
     "data": {
      "text/html": [
       "<div>\n",
       "<style scoped>\n",
       "    .dataframe tbody tr th:only-of-type {\n",
       "        vertical-align: middle;\n",
       "    }\n",
       "\n",
       "    .dataframe tbody tr th {\n",
       "        vertical-align: top;\n",
       "    }\n",
       "\n",
       "    .dataframe thead th {\n",
       "        text-align: right;\n",
       "    }\n",
       "</style>\n",
       "<table border=\"1\" class=\"dataframe\">\n",
       "  <thead>\n",
       "    <tr style=\"text-align: right;\">\n",
       "      <th></th>\n",
       "      <th>purpose_category</th>\n",
       "      <th>debt_count</th>\n",
       "      <th>credit_count</th>\n",
       "      <th>bad_dabt_percent</th>\n",
       "    </tr>\n",
       "  </thead>\n",
       "  <tbody>\n",
       "    <tr>\n",
       "      <td>0</td>\n",
       "      <td>автомобиль</td>\n",
       "      <td>403</td>\n",
       "      <td>4306</td>\n",
       "      <td>9.359034</td>\n",
       "    </tr>\n",
       "    <tr>\n",
       "      <td>2</td>\n",
       "      <td>образование</td>\n",
       "      <td>370</td>\n",
       "      <td>4013</td>\n",
       "      <td>9.220035</td>\n",
       "    </tr>\n",
       "    <tr>\n",
       "      <td>3</td>\n",
       "      <td>свадьба</td>\n",
       "      <td>186</td>\n",
       "      <td>2324</td>\n",
       "      <td>8.003442</td>\n",
       "    </tr>\n",
       "    <tr>\n",
       "      <td>1</td>\n",
       "      <td>недвижимость</td>\n",
       "      <td>782</td>\n",
       "      <td>10811</td>\n",
       "      <td>7.233373</td>\n",
       "    </tr>\n",
       "  </tbody>\n",
       "</table>\n",
       "</div>"
      ],
      "text/plain": [
       "  purpose_category  debt_count  credit_count  bad_dabt_percent\n",
       "0       автомобиль         403          4306          9.359034\n",
       "2      образование         370          4013          9.220035\n",
       "3          свадьба         186          2324          8.003442\n",
       "1     недвижимость         782         10811          7.233373"
      ]
     },
     "execution_count": 46,
     "metadata": {},
     "output_type": "execute_result"
    }
   ],
   "source": [
    "keys_purpose = sorted(selection_purpose['purpose_category'].unique())\n",
    "result_purpose = data_result(selection_purpose, 'purpose_category', keys_purpose, True)\n",
    "result_purpose"
   ]
  },
  {
   "cell_type": "markdown",
   "metadata": {},
   "source": [
    "**Вывод**"
   ]
  },
  {
   "cell_type": "markdown",
   "metadata": {},
   "source": [
    "Меньше всего просрочек допускают клиенты оформляющие кредиты на недвижимость и празднование свадеб. Чаще других не вовремя платят купившие в кредит автомобиль, видимо есть у таких клиентов склонность завышать свои возможности в погогне за желанием обладать престижным авто. Также относительно высокий процент просрчек демонрируют клиенты кредитовавшиеся на образование, здесь видимо вопрос в нестабильности доходов таких клиентов."
   ]
  },
  {
   "cell_type": "markdown",
   "metadata": {},
   "source": [
    "## Шаг 4. Общий вывод"
   ]
  },
  {
   "cell_type": "markdown",
   "metadata": {},
   "source": [
    "   В результате выполнения данного проекта были изучены данные по кредитованию различных категорий клиентов. В процессе подготовки к исследованию в данных были определены и заполнены пропущенные значения, заменены типы некоторых данных, произведен поиск и устранение дубликатов, выполнена категоризация данных. Необходимо обратить внимание при сборе данных на пропуски в данных days_employed, total_income. В столбце days_employed данные не соотвествуют заявленным (стаж работы в днях), т.к. числа вещественные и отрицательные. Также необходимо проверить получение данных о количестве детей, часть значений заполнены повторяющимися -1 и аномально большим числом 20.   \n",
    "   Были проведены рассчеты и исследования по вопросам есть ли зависимость по возвратом кредита в срок от наличия детей, от семейного положения, от уровня доходов и от целей кредитования. \n",
    "   Определено, что клиенты с детьми чаще допускают задолженности по возвратам кредитов. Вероятно клиенты имеюще детей чаще сталкиваются с незапланированными расходами и им сложнее планировать свой бюджет. \n",
    "    При анализе зависимости между семейным положением и возвратом кредита в срок выявлено, что самые дисциплинированные плательщики кредитов вдовцы и вдовы, а также разведенные, видимо они расчитывают только на себя и тщательно планируют свои расходы. Чаще других допускают просрочки оплат клиенты, которые не женатые/не замужем, а также находящиеся в гражданском браке. \n",
    "    Интересные результаты получены при анализе зависимости между уровнем дохода просрочками оплат по кредитам. Как ни странно, но самые недисциплинированные плательщики - клиенты с высокими доходами от 135000 до 195000. При этом клиенты имеющие сверхвысокий доход (более 195000) являются самыми надежными кредитополучателями. Также низкий процент просрочки оплат демонстируют клиенты с низкими доходами (менее 88000). \n",
    "    При исследовании вопроса как разные цели кредита влияют на его возврат в срок, выявлено, что меньше всего просрочек допускают клиенты оформляющие кредиты на недвижимость и празднование свадеб. Чаще других не вовремя платят купившие в кредит автомобиль, видимо такие клиенты чаще других имеют склонность завышать свои возможности и не рассчитывать силы. Также относительно высокий процент просрчек демонрируют клиенты кредитовавшиеся на образование, здесь видимо вопрос в нестабильности доходов таких клиентов.\n",
    "\n"
   ]
  }
 ],
 "metadata": {
  "ExecuteTimeLog": [
   {
    "duration": 812,
    "start_time": "2021-07-25T09:53:10.490Z"
   },
   {
    "duration": 71,
    "start_time": "2021-07-25T09:55:59.630Z"
   },
   {
    "duration": 79,
    "start_time": "2021-07-25T09:59:33.292Z"
   },
   {
    "duration": 84,
    "start_time": "2021-07-25T10:07:29.258Z"
   },
   {
    "duration": 71,
    "start_time": "2021-07-25T10:20:19.267Z"
   },
   {
    "duration": 70,
    "start_time": "2021-07-25T13:32:21.857Z"
   },
   {
    "duration": 71,
    "start_time": "2021-07-25T13:34:43.695Z"
   },
   {
    "duration": 73,
    "start_time": "2021-07-25T13:53:34.262Z"
   },
   {
    "duration": 66,
    "start_time": "2021-07-25T13:53:48.770Z"
   },
   {
    "duration": 66,
    "start_time": "2021-07-25T13:54:18.389Z"
   },
   {
    "duration": 74,
    "start_time": "2021-07-25T14:04:15.464Z"
   },
   {
    "duration": 71,
    "start_time": "2021-07-25T14:04:55.807Z"
   },
   {
    "duration": 823,
    "start_time": "2021-07-25T19:39:13.716Z"
   },
   {
    "duration": 72,
    "start_time": "2021-07-25T19:39:27.058Z"
   },
   {
    "duration": 85,
    "start_time": "2021-07-25T19:40:11.767Z"
   },
   {
    "duration": 100,
    "start_time": "2021-07-25T19:46:26.850Z"
   },
   {
    "duration": 94,
    "start_time": "2021-07-25T19:48:15.212Z"
   },
   {
    "duration": 93,
    "start_time": "2021-07-25T19:57:36.856Z"
   },
   {
    "duration": 84,
    "start_time": "2021-07-25T20:00:31.174Z"
   },
   {
    "duration": 74,
    "start_time": "2021-07-25T20:11:31.274Z"
   },
   {
    "duration": 70,
    "start_time": "2021-07-25T20:16:09.110Z"
   },
   {
    "duration": 78,
    "start_time": "2021-07-25T20:16:15.493Z"
   },
   {
    "duration": 66,
    "start_time": "2021-07-25T20:17:29.724Z"
   },
   {
    "duration": 73,
    "start_time": "2021-07-25T20:18:10.915Z"
   },
   {
    "duration": 78,
    "start_time": "2021-07-25T20:23:06.431Z"
   },
   {
    "duration": 78,
    "start_time": "2021-07-25T20:30:41.127Z"
   },
   {
    "duration": 86,
    "start_time": "2021-07-25T20:32:25.767Z"
   },
   {
    "duration": 83,
    "start_time": "2021-07-25T20:34:41.599Z"
   },
   {
    "duration": 928,
    "start_time": "2021-07-26T21:05:13.130Z"
   },
   {
    "duration": 86,
    "start_time": "2021-07-26T21:19:09.271Z"
   },
   {
    "duration": 681,
    "start_time": "2021-07-27T18:49:49.965Z"
   },
   {
    "duration": 64,
    "start_time": "2021-07-27T19:00:53.917Z"
   },
   {
    "duration": 56,
    "start_time": "2021-07-27T19:01:39.736Z"
   },
   {
    "duration": 60,
    "start_time": "2021-07-27T19:02:14.285Z"
   },
   {
    "duration": 63,
    "start_time": "2021-07-27T19:03:50.802Z"
   },
   {
    "duration": 84,
    "start_time": "2021-07-27T19:04:53.166Z"
   },
   {
    "duration": 67,
    "start_time": "2021-07-27T19:05:10.000Z"
   },
   {
    "duration": 61,
    "start_time": "2021-07-27T19:06:09.019Z"
   },
   {
    "duration": 58,
    "start_time": "2021-07-27T19:06:25.306Z"
   },
   {
    "duration": 62,
    "start_time": "2021-07-27T19:07:22.109Z"
   },
   {
    "duration": 21,
    "start_time": "2021-07-27T19:32:32.973Z"
   },
   {
    "duration": 10,
    "start_time": "2021-07-27T19:33:29.469Z"
   },
   {
    "duration": 21,
    "start_time": "2021-07-27T19:34:01.832Z"
   },
   {
    "duration": 13,
    "start_time": "2021-07-27T19:34:40.076Z"
   },
   {
    "duration": 7,
    "start_time": "2021-07-27T19:34:57.114Z"
   },
   {
    "duration": 83,
    "start_time": "2021-07-27T19:52:04.088Z"
   },
   {
    "duration": 62,
    "start_time": "2021-07-27T19:52:18.048Z"
   },
   {
    "duration": 19,
    "start_time": "2021-07-27T19:54:15.844Z"
   },
   {
    "duration": 21,
    "start_time": "2021-07-27T19:54:52.701Z"
   },
   {
    "duration": 20,
    "start_time": "2021-07-27T19:55:25.641Z"
   },
   {
    "duration": 26,
    "start_time": "2021-07-27T19:57:28.226Z"
   },
   {
    "duration": 314,
    "start_time": "2021-07-27T20:08:39.360Z"
   },
   {
    "duration": 15,
    "start_time": "2021-07-27T20:09:11.220Z"
   },
   {
    "duration": 22,
    "start_time": "2021-07-27T20:09:34.227Z"
   },
   {
    "duration": 18,
    "start_time": "2021-07-27T20:10:01.973Z"
   },
   {
    "duration": 20,
    "start_time": "2021-07-27T20:15:19.840Z"
   },
   {
    "duration": 19,
    "start_time": "2021-07-27T20:15:21.575Z"
   },
   {
    "duration": 63,
    "start_time": "2021-07-27T20:15:32.613Z"
   },
   {
    "duration": 15,
    "start_time": "2021-07-27T20:15:40.841Z"
   },
   {
    "duration": 281,
    "start_time": "2021-07-27T20:17:11.529Z"
   },
   {
    "duration": 244,
    "start_time": "2021-07-27T20:19:42.894Z"
   },
   {
    "duration": 22,
    "start_time": "2021-07-27T20:19:59.734Z"
   },
   {
    "duration": 6187,
    "start_time": "2021-07-27T20:21:52.737Z"
   },
   {
    "duration": 868,
    "start_time": "2021-07-27T20:23:02.628Z"
   },
   {
    "duration": 45,
    "start_time": "2021-07-27T20:23:03.498Z"
   },
   {
    "duration": 8558,
    "start_time": "2021-07-27T21:04:54.731Z"
   },
   {
    "duration": 347,
    "start_time": "2021-07-27T21:06:15.141Z"
   },
   {
    "duration": 702,
    "start_time": "2021-07-27T21:06:30.529Z"
   },
   {
    "duration": 20,
    "start_time": "2021-07-27T21:06:31.233Z"
   },
   {
    "duration": 300,
    "start_time": "2021-07-27T21:23:58.667Z"
   },
   {
    "duration": 695,
    "start_time": "2021-07-27T21:24:24.832Z"
   },
   {
    "duration": 19,
    "start_time": "2021-07-27T21:24:34.174Z"
   },
   {
    "duration": 17,
    "start_time": "2021-07-27T21:24:42.285Z"
   },
   {
    "duration": 20,
    "start_time": "2021-07-27T21:29:24.477Z"
   },
   {
    "duration": 14,
    "start_time": "2021-07-27T21:39:46.724Z"
   },
   {
    "duration": 295,
    "start_time": "2021-07-27T21:40:53.590Z"
   },
   {
    "duration": 15,
    "start_time": "2021-07-27T21:44:30.811Z"
   },
   {
    "duration": 82,
    "start_time": "2021-07-27T21:45:49.162Z"
   },
   {
    "duration": 29,
    "start_time": "2021-07-27T21:45:56.928Z"
   },
   {
    "duration": 456,
    "start_time": "2021-07-28T19:43:54.007Z"
   },
   {
    "duration": 801,
    "start_time": "2021-07-28T19:44:11.619Z"
   },
   {
    "duration": 24,
    "start_time": "2021-07-28T19:44:12.422Z"
   },
   {
    "duration": 53,
    "start_time": "2021-07-28T19:44:12.449Z"
   },
   {
    "duration": 19,
    "start_time": "2021-07-28T19:44:12.505Z"
   },
   {
    "duration": 19039,
    "start_time": "2021-07-28T19:44:47.920Z"
   },
   {
    "duration": 7,
    "start_time": "2021-07-28T19:45:19.179Z"
   },
   {
    "duration": 8,
    "start_time": "2021-07-28T19:46:36.210Z"
   },
   {
    "duration": 9,
    "start_time": "2021-07-28T19:58:57.408Z"
   },
   {
    "duration": 9,
    "start_time": "2021-07-28T19:59:26.058Z"
   },
   {
    "duration": 7,
    "start_time": "2021-07-28T20:01:11.038Z"
   },
   {
    "duration": 9,
    "start_time": "2021-07-28T20:02:10.905Z"
   },
   {
    "duration": 8,
    "start_time": "2021-07-28T20:02:52.645Z"
   },
   {
    "duration": 10,
    "start_time": "2021-07-28T20:03:20.790Z"
   },
   {
    "duration": 10,
    "start_time": "2021-07-28T20:04:06.861Z"
   },
   {
    "duration": 8,
    "start_time": "2021-07-28T20:06:25.123Z"
   },
   {
    "duration": 10,
    "start_time": "2021-07-28T20:07:53.439Z"
   },
   {
    "duration": 7,
    "start_time": "2021-07-28T20:08:48.262Z"
   },
   {
    "duration": 32,
    "start_time": "2021-07-28T20:12:27.546Z"
   },
   {
    "duration": 30,
    "start_time": "2021-07-28T20:14:19.409Z"
   },
   {
    "duration": 9,
    "start_time": "2021-07-28T20:26:52.943Z"
   },
   {
    "duration": 10,
    "start_time": "2021-07-28T20:32:54.726Z"
   },
   {
    "duration": 10,
    "start_time": "2021-07-28T20:34:25.135Z"
   },
   {
    "duration": 7,
    "start_time": "2021-07-28T20:36:00.189Z"
   },
   {
    "duration": 9,
    "start_time": "2021-07-28T20:36:14.550Z"
   },
   {
    "duration": 10,
    "start_time": "2021-07-28T20:37:14.592Z"
   },
   {
    "duration": 10,
    "start_time": "2021-07-28T20:45:26.780Z"
   },
   {
    "duration": 42,
    "start_time": "2021-07-28T21:07:54.822Z"
   },
   {
    "duration": 19,
    "start_time": "2021-07-28T21:08:11.891Z"
   },
   {
    "duration": 22,
    "start_time": "2021-07-28T21:08:15.604Z"
   },
   {
    "duration": 21,
    "start_time": "2021-07-28T21:08:30.474Z"
   },
   {
    "duration": 8,
    "start_time": "2021-07-28T22:08:22.294Z"
   },
   {
    "duration": 5,
    "start_time": "2021-07-28T22:10:52.042Z"
   },
   {
    "duration": 8,
    "start_time": "2021-07-28T22:11:03.557Z"
   },
   {
    "duration": 346,
    "start_time": "2021-07-28T22:13:41.596Z"
   },
   {
    "duration": 852,
    "start_time": "2021-07-28T22:14:01.951Z"
   },
   {
    "duration": 905,
    "start_time": "2021-07-28T22:17:25.277Z"
   },
   {
    "duration": 336,
    "start_time": "2021-07-28T22:33:26.520Z"
   },
   {
    "duration": 874,
    "start_time": "2021-07-28T22:33:45.899Z"
   },
   {
    "duration": 877,
    "start_time": "2021-07-28T22:34:03.907Z"
   },
   {
    "duration": 1326,
    "start_time": "2021-07-28T22:35:06.191Z"
   },
   {
    "duration": 1372,
    "start_time": "2021-07-28T22:35:59.676Z"
   },
   {
    "duration": 888,
    "start_time": "2021-07-28T22:40:51.686Z"
   },
   {
    "duration": 1340,
    "start_time": "2021-07-28T22:41:44.386Z"
   },
   {
    "duration": 1208,
    "start_time": "2021-07-28T22:42:27.463Z"
   },
   {
    "duration": 878,
    "start_time": "2021-07-28T22:47:49.348Z"
   },
   {
    "duration": 866,
    "start_time": "2021-07-28T22:49:05.969Z"
   },
   {
    "duration": 861,
    "start_time": "2021-07-28T22:58:47.669Z"
   },
   {
    "duration": 879,
    "start_time": "2021-07-28T22:59:06.781Z"
   },
   {
    "duration": 877,
    "start_time": "2021-07-28T22:59:57.930Z"
   },
   {
    "duration": 1604,
    "start_time": "2021-07-28T23:04:05.095Z"
   },
   {
    "duration": 925,
    "start_time": "2021-07-28T23:06:13.997Z"
   },
   {
    "duration": 918,
    "start_time": "2021-07-28T23:08:04.720Z"
   },
   {
    "duration": 897,
    "start_time": "2021-07-28T23:10:38.115Z"
   },
   {
    "duration": 886,
    "start_time": "2021-07-28T23:11:08.263Z"
   },
   {
    "duration": 914,
    "start_time": "2021-07-28T23:11:39.823Z"
   },
   {
    "duration": 893,
    "start_time": "2021-07-28T23:13:26.716Z"
   },
   {
    "duration": 897,
    "start_time": "2021-07-28T23:14:25.324Z"
   },
   {
    "duration": 943,
    "start_time": "2021-07-28T23:14:40.616Z"
   },
   {
    "duration": 916,
    "start_time": "2021-07-28T23:15:57.719Z"
   },
   {
    "duration": 903,
    "start_time": "2021-07-28T23:17:31.672Z"
   },
   {
    "duration": 1043,
    "start_time": "2021-07-28T23:18:50.619Z"
   },
   {
    "duration": 929,
    "start_time": "2021-07-28T23:19:30.069Z"
   },
   {
    "duration": 230,
    "start_time": "2021-07-29T19:56:58.746Z"
   },
   {
    "duration": 615,
    "start_time": "2021-07-29T19:57:16.203Z"
   },
   {
    "duration": 19,
    "start_time": "2021-07-29T19:57:16.821Z"
   },
   {
    "duration": 21,
    "start_time": "2021-07-29T19:57:16.842Z"
   },
   {
    "duration": 23,
    "start_time": "2021-07-29T19:57:16.865Z"
   },
   {
    "duration": 9,
    "start_time": "2021-07-29T19:57:16.890Z"
   },
   {
    "duration": 8,
    "start_time": "2021-07-29T19:57:16.900Z"
   },
   {
    "duration": 14,
    "start_time": "2021-07-29T19:57:16.909Z"
   },
   {
    "duration": 10,
    "start_time": "2021-07-29T19:57:16.926Z"
   },
   {
    "duration": 55,
    "start_time": "2021-07-29T19:57:16.938Z"
   },
   {
    "duration": 681,
    "start_time": "2021-07-29T19:57:16.994Z"
   },
   {
    "duration": 613,
    "start_time": "2021-07-29T19:57:17.677Z"
   },
   {
    "duration": 687,
    "start_time": "2021-07-29T19:57:54.749Z"
   },
   {
    "duration": 4,
    "start_time": "2021-07-29T20:08:35.637Z"
   },
   {
    "duration": 4,
    "start_time": "2021-07-29T20:09:09.159Z"
   },
   {
    "duration": 4,
    "start_time": "2021-07-29T20:09:12.816Z"
   },
   {
    "duration": 6,
    "start_time": "2021-07-29T20:10:50.048Z"
   },
   {
    "duration": 607,
    "start_time": "2021-07-29T20:11:07.537Z"
   },
   {
    "duration": 18,
    "start_time": "2021-07-29T20:11:08.146Z"
   },
   {
    "duration": 37,
    "start_time": "2021-07-29T20:11:08.166Z"
   },
   {
    "duration": 7,
    "start_time": "2021-07-29T20:11:08.205Z"
   },
   {
    "duration": 9,
    "start_time": "2021-07-29T20:11:08.214Z"
   },
   {
    "duration": 11,
    "start_time": "2021-07-29T20:11:08.226Z"
   },
   {
    "duration": 10,
    "start_time": "2021-07-29T20:11:08.239Z"
   },
   {
    "duration": 17,
    "start_time": "2021-07-29T20:11:08.286Z"
   },
   {
    "duration": 32,
    "start_time": "2021-07-29T20:11:08.306Z"
   },
   {
    "duration": 727,
    "start_time": "2021-07-29T20:11:08.341Z"
   },
   {
    "duration": 5,
    "start_time": "2021-07-29T20:11:09.070Z"
   },
   {
    "duration": 968,
    "start_time": "2021-07-29T20:11:09.076Z"
   },
   {
    "duration": 5,
    "start_time": "2021-07-29T20:14:46.737Z"
   },
   {
    "duration": 5,
    "start_time": "2021-07-29T20:15:21.714Z"
   },
   {
    "duration": 3,
    "start_time": "2021-07-29T20:15:43.429Z"
   },
   {
    "duration": 4,
    "start_time": "2021-07-29T20:16:38.820Z"
   },
   {
    "duration": 3,
    "start_time": "2021-07-29T20:16:42.404Z"
   },
   {
    "duration": 6,
    "start_time": "2021-07-29T20:17:14.489Z"
   },
   {
    "duration": 360,
    "start_time": "2021-07-29T20:18:07.362Z"
   },
   {
    "duration": 8,
    "start_time": "2021-07-29T20:18:15.891Z"
   },
   {
    "duration": 5,
    "start_time": "2021-07-29T20:22:08.982Z"
   },
   {
    "duration": 4,
    "start_time": "2021-07-29T20:23:07.678Z"
   },
   {
    "duration": 6,
    "start_time": "2021-07-29T20:28:25.176Z"
   },
   {
    "duration": 898,
    "start_time": "2021-07-29T22:25:34.053Z"
   },
   {
    "duration": 861,
    "start_time": "2021-07-29T22:27:13.063Z"
   },
   {
    "duration": 903,
    "start_time": "2021-07-29T22:28:07.616Z"
   },
   {
    "duration": 1546,
    "start_time": "2021-07-29T22:29:15.204Z"
   },
   {
    "duration": 870,
    "start_time": "2021-07-29T22:30:01.618Z"
   },
   {
    "duration": 640,
    "start_time": "2021-07-29T22:32:43.576Z"
   },
   {
    "duration": 17,
    "start_time": "2021-07-29T22:32:44.218Z"
   },
   {
    "duration": 20,
    "start_time": "2021-07-29T22:32:44.237Z"
   },
   {
    "duration": 26,
    "start_time": "2021-07-29T22:32:44.259Z"
   },
   {
    "duration": 7,
    "start_time": "2021-07-29T22:32:44.287Z"
   },
   {
    "duration": 8,
    "start_time": "2021-07-29T22:32:44.296Z"
   },
   {
    "duration": 8,
    "start_time": "2021-07-29T22:32:44.306Z"
   },
   {
    "duration": 7,
    "start_time": "2021-07-29T22:32:44.316Z"
   },
   {
    "duration": 17,
    "start_time": "2021-07-29T22:32:44.324Z"
   },
   {
    "duration": 711,
    "start_time": "2021-07-29T22:32:44.343Z"
   },
   {
    "duration": 4,
    "start_time": "2021-07-29T22:32:45.056Z"
   },
   {
    "duration": 573,
    "start_time": "2021-07-29T22:32:45.061Z"
   },
   {
    "duration": 2076,
    "start_time": "2021-07-29T22:32:45.636Z"
   },
   {
    "duration": 1130,
    "start_time": "2021-07-29T22:35:43.270Z"
   },
   {
    "duration": 642,
    "start_time": "2021-07-29T22:35:58.757Z"
   },
   {
    "duration": 17,
    "start_time": "2021-07-29T22:35:59.401Z"
   },
   {
    "duration": 19,
    "start_time": "2021-07-29T22:35:59.419Z"
   },
   {
    "duration": 6,
    "start_time": "2021-07-29T22:35:59.440Z"
   },
   {
    "duration": 38,
    "start_time": "2021-07-29T22:35:59.447Z"
   },
   {
    "duration": 8,
    "start_time": "2021-07-29T22:35:59.487Z"
   },
   {
    "duration": 12,
    "start_time": "2021-07-29T22:35:59.497Z"
   },
   {
    "duration": 15,
    "start_time": "2021-07-29T22:35:59.511Z"
   },
   {
    "duration": 19,
    "start_time": "2021-07-29T22:35:59.528Z"
   },
   {
    "duration": 683,
    "start_time": "2021-07-29T22:35:59.549Z"
   },
   {
    "duration": 4,
    "start_time": "2021-07-29T22:36:00.235Z"
   },
   {
    "duration": 612,
    "start_time": "2021-07-29T22:36:00.241Z"
   },
   {
    "duration": 2074,
    "start_time": "2021-07-29T22:36:00.856Z"
   },
   {
    "duration": 610,
    "start_time": "2021-07-29T22:41:48.493Z"
   },
   {
    "duration": 17,
    "start_time": "2021-07-29T22:41:49.105Z"
   },
   {
    "duration": 20,
    "start_time": "2021-07-29T22:41:49.124Z"
   },
   {
    "duration": 7,
    "start_time": "2021-07-29T22:41:49.146Z"
   },
   {
    "duration": 37,
    "start_time": "2021-07-29T22:41:49.155Z"
   },
   {
    "duration": 8,
    "start_time": "2021-07-29T22:41:49.194Z"
   },
   {
    "duration": 8,
    "start_time": "2021-07-29T22:41:49.203Z"
   },
   {
    "duration": 8,
    "start_time": "2021-07-29T22:41:49.214Z"
   },
   {
    "duration": 17,
    "start_time": "2021-07-29T22:41:49.224Z"
   },
   {
    "duration": 705,
    "start_time": "2021-07-29T22:41:49.243Z"
   },
   {
    "duration": 4,
    "start_time": "2021-07-29T22:41:49.950Z"
   },
   {
    "duration": 606,
    "start_time": "2021-07-29T22:41:49.955Z"
   },
   {
    "duration": 2066,
    "start_time": "2021-07-29T22:41:50.563Z"
   },
   {
    "duration": 27,
    "start_time": "2021-07-29T22:43:01.701Z"
   },
   {
    "duration": 15,
    "start_time": "2021-07-29T22:43:50.349Z"
   },
   {
    "duration": 609,
    "start_time": "2021-07-29T22:48:35.318Z"
   },
   {
    "duration": 19,
    "start_time": "2021-07-29T22:48:35.928Z"
   },
   {
    "duration": 36,
    "start_time": "2021-07-29T22:48:35.949Z"
   },
   {
    "duration": 7,
    "start_time": "2021-07-29T22:48:35.986Z"
   },
   {
    "duration": 13,
    "start_time": "2021-07-29T22:48:35.995Z"
   },
   {
    "duration": 19,
    "start_time": "2021-07-29T22:48:36.010Z"
   },
   {
    "duration": 21,
    "start_time": "2021-07-29T22:48:36.030Z"
   },
   {
    "duration": 14,
    "start_time": "2021-07-29T22:48:36.053Z"
   },
   {
    "duration": 30,
    "start_time": "2021-07-29T22:48:36.069Z"
   },
   {
    "duration": 680,
    "start_time": "2021-07-29T22:48:36.100Z"
   },
   {
    "duration": 4,
    "start_time": "2021-07-29T22:48:36.784Z"
   },
   {
    "duration": 609,
    "start_time": "2021-07-29T22:48:36.789Z"
   },
   {
    "duration": 2097,
    "start_time": "2021-07-29T22:48:37.400Z"
   },
   {
    "duration": 16,
    "start_time": "2021-07-29T22:48:39.499Z"
   },
   {
    "duration": 7,
    "start_time": "2021-07-29T22:50:15.798Z"
   },
   {
    "duration": 18,
    "start_time": "2021-07-29T22:51:51.430Z"
   },
   {
    "duration": 264,
    "start_time": "2021-07-29T22:53:51.632Z"
   },
   {
    "duration": 22,
    "start_time": "2021-07-29T22:53:58.436Z"
   },
   {
    "duration": 587,
    "start_time": "2021-07-29T22:55:17.521Z"
   },
   {
    "duration": 19,
    "start_time": "2021-07-29T22:55:18.110Z"
   },
   {
    "duration": 21,
    "start_time": "2021-07-29T22:55:18.131Z"
   },
   {
    "duration": 31,
    "start_time": "2021-07-29T22:55:18.155Z"
   },
   {
    "duration": 10,
    "start_time": "2021-07-29T22:55:18.188Z"
   },
   {
    "duration": 7,
    "start_time": "2021-07-29T22:55:18.199Z"
   },
   {
    "duration": 7,
    "start_time": "2021-07-29T22:55:18.208Z"
   },
   {
    "duration": 7,
    "start_time": "2021-07-29T22:55:18.217Z"
   },
   {
    "duration": 16,
    "start_time": "2021-07-29T22:55:18.226Z"
   },
   {
    "duration": 684,
    "start_time": "2021-07-29T22:55:18.244Z"
   },
   {
    "duration": 5,
    "start_time": "2021-07-29T22:55:18.930Z"
   },
   {
    "duration": 628,
    "start_time": "2021-07-29T22:55:18.937Z"
   },
   {
    "duration": 2173,
    "start_time": "2021-07-29T22:55:19.568Z"
   },
   {
    "duration": 23,
    "start_time": "2021-07-29T22:55:21.743Z"
   },
   {
    "duration": 20,
    "start_time": "2021-07-29T22:59:58.833Z"
   },
   {
    "duration": 595,
    "start_time": "2021-07-29T23:00:12.207Z"
   },
   {
    "duration": 17,
    "start_time": "2021-07-29T23:00:12.804Z"
   },
   {
    "duration": 37,
    "start_time": "2021-07-29T23:00:12.823Z"
   },
   {
    "duration": 6,
    "start_time": "2021-07-29T23:00:12.863Z"
   },
   {
    "duration": 18,
    "start_time": "2021-07-29T23:00:12.871Z"
   },
   {
    "duration": 8,
    "start_time": "2021-07-29T23:00:12.891Z"
   },
   {
    "duration": 7,
    "start_time": "2021-07-29T23:00:12.901Z"
   },
   {
    "duration": 9,
    "start_time": "2021-07-29T23:00:12.910Z"
   },
   {
    "duration": 16,
    "start_time": "2021-07-29T23:00:12.921Z"
   },
   {
    "duration": 701,
    "start_time": "2021-07-29T23:00:12.939Z"
   },
   {
    "duration": 4,
    "start_time": "2021-07-29T23:00:13.642Z"
   },
   {
    "duration": 599,
    "start_time": "2021-07-29T23:00:13.647Z"
   },
   {
    "duration": 2168,
    "start_time": "2021-07-29T23:00:14.248Z"
   },
   {
    "duration": 22,
    "start_time": "2021-07-29T23:00:16.417Z"
   },
   {
    "duration": 19,
    "start_time": "2021-07-29T23:00:40.941Z"
   },
   {
    "duration": 4,
    "start_time": "2021-07-29T23:04:47.277Z"
   },
   {
    "duration": 4,
    "start_time": "2021-07-29T23:04:55.375Z"
   },
   {
    "duration": 5,
    "start_time": "2021-07-29T23:05:13.366Z"
   },
   {
    "duration": 4,
    "start_time": "2021-07-29T23:05:28.266Z"
   },
   {
    "duration": 4,
    "start_time": "2021-07-29T23:05:54.096Z"
   },
   {
    "duration": 4,
    "start_time": "2021-07-29T23:06:15.080Z"
   },
   {
    "duration": 4,
    "start_time": "2021-07-29T23:06:26.358Z"
   },
   {
    "duration": 4,
    "start_time": "2021-07-29T23:06:43.551Z"
   },
   {
    "duration": 4,
    "start_time": "2021-07-29T23:06:55.884Z"
   },
   {
    "duration": 3,
    "start_time": "2021-07-29T23:07:10.405Z"
   },
   {
    "duration": 4,
    "start_time": "2021-07-29T23:08:11.149Z"
   },
   {
    "duration": 4,
    "start_time": "2021-07-29T23:08:19.185Z"
   },
   {
    "duration": 4,
    "start_time": "2021-07-29T23:09:50.133Z"
   },
   {
    "duration": 4,
    "start_time": "2021-07-29T23:10:16.216Z"
   },
   {
    "duration": 6,
    "start_time": "2021-07-29T23:15:55.560Z"
   },
   {
    "duration": 594,
    "start_time": "2021-07-29T23:20:21.126Z"
   },
   {
    "duration": 17,
    "start_time": "2021-07-29T23:20:21.722Z"
   },
   {
    "duration": 18,
    "start_time": "2021-07-29T23:20:21.741Z"
   },
   {
    "duration": 6,
    "start_time": "2021-07-29T23:20:21.761Z"
   },
   {
    "duration": 7,
    "start_time": "2021-07-29T23:20:21.785Z"
   },
   {
    "duration": 8,
    "start_time": "2021-07-29T23:20:21.794Z"
   },
   {
    "duration": 8,
    "start_time": "2021-07-29T23:20:21.803Z"
   },
   {
    "duration": 7,
    "start_time": "2021-07-29T23:20:21.813Z"
   },
   {
    "duration": 15,
    "start_time": "2021-07-29T23:20:21.822Z"
   },
   {
    "duration": 694,
    "start_time": "2021-07-29T23:20:21.838Z"
   },
   {
    "duration": 3,
    "start_time": "2021-07-29T23:20:22.534Z"
   },
   {
    "duration": 625,
    "start_time": "2021-07-29T23:20:22.539Z"
   },
   {
    "duration": 40,
    "start_time": "2021-07-29T23:20:23.166Z"
   },
   {
    "duration": 4,
    "start_time": "2021-07-29T23:20:23.208Z"
   },
   {
    "duration": 8,
    "start_time": "2021-07-29T23:20:55.315Z"
   },
   {
    "duration": 625,
    "start_time": "2021-07-29T23:23:08.802Z"
   },
   {
    "duration": 20,
    "start_time": "2021-07-29T23:23:09.429Z"
   },
   {
    "duration": 40,
    "start_time": "2021-07-29T23:23:09.451Z"
   },
   {
    "duration": 9,
    "start_time": "2021-07-29T23:23:09.494Z"
   },
   {
    "duration": 8,
    "start_time": "2021-07-29T23:23:09.505Z"
   },
   {
    "duration": 7,
    "start_time": "2021-07-29T23:23:09.515Z"
   },
   {
    "duration": 9,
    "start_time": "2021-07-29T23:23:09.524Z"
   },
   {
    "duration": 15,
    "start_time": "2021-07-29T23:23:09.535Z"
   },
   {
    "duration": 46,
    "start_time": "2021-07-29T23:23:09.552Z"
   },
   {
    "duration": 670,
    "start_time": "2021-07-29T23:23:09.599Z"
   },
   {
    "duration": 4,
    "start_time": "2021-07-29T23:23:10.271Z"
   },
   {
    "duration": 596,
    "start_time": "2021-07-29T23:23:10.285Z"
   },
   {
    "duration": 2097,
    "start_time": "2021-07-29T23:23:10.885Z"
   },
   {
    "duration": 7,
    "start_time": "2021-07-29T23:23:12.985Z"
   },
   {
    "duration": 5,
    "start_time": "2021-07-29T23:25:11.611Z"
   },
   {
    "duration": 13,
    "start_time": "2021-07-29T23:25:54.323Z"
   },
   {
    "duration": 859,
    "start_time": "2021-07-30T07:36:33.366Z"
   },
   {
    "duration": 35,
    "start_time": "2021-07-30T07:36:34.228Z"
   },
   {
    "duration": 31,
    "start_time": "2021-07-30T07:36:34.266Z"
   },
   {
    "duration": 9,
    "start_time": "2021-07-30T07:36:34.300Z"
   },
   {
    "duration": 47,
    "start_time": "2021-07-30T07:36:34.311Z"
   },
   {
    "duration": 20,
    "start_time": "2021-07-30T07:36:34.360Z"
   },
   {
    "duration": 26,
    "start_time": "2021-07-30T07:36:34.382Z"
   },
   {
    "duration": 25,
    "start_time": "2021-07-30T07:36:34.412Z"
   },
   {
    "duration": 38,
    "start_time": "2021-07-30T07:36:34.440Z"
   },
   {
    "duration": 931,
    "start_time": "2021-07-30T07:36:34.481Z"
   },
   {
    "duration": 5,
    "start_time": "2021-07-30T07:36:35.415Z"
   },
   {
    "duration": 788,
    "start_time": "2021-07-30T07:36:35.422Z"
   },
   {
    "duration": 4033,
    "start_time": "2021-07-30T07:36:36.212Z"
   },
   {
    "duration": 22,
    "start_time": "2021-07-30T07:36:40.248Z"
   },
   {
    "duration": 5,
    "start_time": "2021-07-30T07:38:00.833Z"
   },
   {
    "duration": 5,
    "start_time": "2021-07-30T07:38:30.154Z"
   },
   {
    "duration": 5,
    "start_time": "2021-07-30T07:39:19.385Z"
   },
   {
    "duration": 816,
    "start_time": "2021-07-30T08:32:02.274Z"
   },
   {
    "duration": 27,
    "start_time": "2021-07-30T08:32:03.093Z"
   },
   {
    "duration": 52,
    "start_time": "2021-07-30T08:32:03.123Z"
   },
   {
    "duration": 9,
    "start_time": "2021-07-30T08:32:03.178Z"
   },
   {
    "duration": 22,
    "start_time": "2021-07-30T08:32:03.189Z"
   },
   {
    "duration": 17,
    "start_time": "2021-07-30T08:32:03.214Z"
   },
   {
    "duration": 31,
    "start_time": "2021-07-30T08:32:03.233Z"
   },
   {
    "duration": 24,
    "start_time": "2021-07-30T08:32:03.267Z"
   },
   {
    "duration": 33,
    "start_time": "2021-07-30T08:32:03.293Z"
   },
   {
    "duration": 935,
    "start_time": "2021-07-30T08:32:03.329Z"
   },
   {
    "duration": 5,
    "start_time": "2021-07-30T08:32:04.267Z"
   },
   {
    "duration": 828,
    "start_time": "2021-07-30T08:32:04.275Z"
   },
   {
    "duration": 1387,
    "start_time": "2021-07-30T08:32:05.105Z"
   },
   {
    "duration": 19742,
    "start_time": "2021-07-30T08:31:46.753Z"
   },
   {
    "duration": 19739,
    "start_time": "2021-07-30T08:31:46.758Z"
   },
   {
    "duration": 4036,
    "start_time": "2021-07-30T08:38:35.449Z"
   },
   {
    "duration": 37,
    "start_time": "2021-07-30T08:39:19.449Z"
   },
   {
    "duration": 4146,
    "start_time": "2021-07-30T09:02:08.477Z"
   },
   {
    "duration": 36,
    "start_time": "2021-07-30T09:02:25.063Z"
   },
   {
    "duration": 4217,
    "start_time": "2021-07-30T09:03:03.479Z"
   },
   {
    "duration": 24,
    "start_time": "2021-07-30T09:03:17.466Z"
   },
   {
    "duration": 4177,
    "start_time": "2021-07-30T09:04:46.732Z"
   },
   {
    "duration": 23,
    "start_time": "2021-07-30T09:04:57.176Z"
   },
   {
    "duration": 5,
    "start_time": "2021-07-30T09:08:17.363Z"
   },
   {
    "duration": 4,
    "start_time": "2021-07-30T09:10:21.357Z"
   },
   {
    "duration": 15202,
    "start_time": "2021-07-30T09:17:41.525Z"
   },
   {
    "duration": 5695,
    "start_time": "2021-07-30T09:18:34.505Z"
   },
   {
    "duration": 6163,
    "start_time": "2021-07-30T09:20:52.393Z"
   },
   {
    "duration": 1213,
    "start_time": "2021-07-30T09:21:16.018Z"
   },
   {
    "duration": 49,
    "start_time": "2021-07-30T09:21:17.235Z"
   },
   {
    "duration": 66,
    "start_time": "2021-07-30T09:21:17.288Z"
   },
   {
    "duration": 14,
    "start_time": "2021-07-30T09:21:17.357Z"
   },
   {
    "duration": 14,
    "start_time": "2021-07-30T09:21:17.373Z"
   },
   {
    "duration": 15,
    "start_time": "2021-07-30T09:21:17.390Z"
   },
   {
    "duration": 15,
    "start_time": "2021-07-30T09:21:17.407Z"
   },
   {
    "duration": 17,
    "start_time": "2021-07-30T09:21:17.455Z"
   },
   {
    "duration": 33,
    "start_time": "2021-07-30T09:21:17.476Z"
   },
   {
    "duration": 990,
    "start_time": "2021-07-30T09:21:17.513Z"
   },
   {
    "duration": 6,
    "start_time": "2021-07-30T09:21:18.507Z"
   },
   {
    "duration": 1200,
    "start_time": "2021-07-30T09:21:18.516Z"
   },
   {
    "duration": 5782,
    "start_time": "2021-07-30T09:21:19.719Z"
   },
   {
    "duration": 29,
    "start_time": "2021-07-30T09:21:25.504Z"
   },
   {
    "duration": 6,
    "start_time": "2021-07-30T09:21:25.556Z"
   },
   {
    "duration": 6565,
    "start_time": "2021-07-30T09:21:25.564Z"
   },
   {
    "duration": 28680,
    "start_time": "2021-07-30T09:24:57.547Z"
   },
   {
    "duration": 5534,
    "start_time": "2021-07-30T09:28:21.254Z"
   },
   {
    "duration": 13,
    "start_time": "2021-07-30T09:30:02.605Z"
   },
   {
    "duration": 20,
    "start_time": "2021-07-30T09:31:02.331Z"
   },
   {
    "duration": 28,
    "start_time": "2021-07-30T09:33:18.445Z"
   },
   {
    "duration": 836,
    "start_time": "2021-07-30T09:33:32.804Z"
   },
   {
    "duration": 40,
    "start_time": "2021-07-30T09:33:33.643Z"
   },
   {
    "duration": 32,
    "start_time": "2021-07-30T09:33:33.686Z"
   },
   {
    "duration": 41,
    "start_time": "2021-07-30T09:33:33.721Z"
   },
   {
    "duration": 11,
    "start_time": "2021-07-30T09:33:33.765Z"
   },
   {
    "duration": 33,
    "start_time": "2021-07-30T09:33:33.779Z"
   },
   {
    "duration": 19,
    "start_time": "2021-07-30T09:33:33.814Z"
   },
   {
    "duration": 21,
    "start_time": "2021-07-30T09:33:33.837Z"
   },
   {
    "duration": 38,
    "start_time": "2021-07-30T09:33:33.865Z"
   },
   {
    "duration": 1091,
    "start_time": "2021-07-30T09:33:33.905Z"
   },
   {
    "duration": 5,
    "start_time": "2021-07-30T09:33:34.999Z"
   },
   {
    "duration": 828,
    "start_time": "2021-07-30T09:33:35.006Z"
   },
   {
    "duration": 4592,
    "start_time": "2021-07-30T09:33:35.836Z"
   },
   {
    "duration": 43,
    "start_time": "2021-07-30T09:33:40.431Z"
   },
   {
    "duration": 4,
    "start_time": "2021-07-30T09:33:40.476Z"
   },
   {
    "duration": 5480,
    "start_time": "2021-07-30T09:33:40.483Z"
   },
   {
    "duration": 11,
    "start_time": "2021-07-30T09:33:45.966Z"
   },
   {
    "duration": 855,
    "start_time": "2021-07-30T09:41:22.723Z"
   },
   {
    "duration": 26,
    "start_time": "2021-07-30T09:41:23.581Z"
   },
   {
    "duration": 49,
    "start_time": "2021-07-30T09:41:23.610Z"
   },
   {
    "duration": 10,
    "start_time": "2021-07-30T09:41:23.661Z"
   },
   {
    "duration": 29,
    "start_time": "2021-07-30T09:41:23.673Z"
   },
   {
    "duration": 26,
    "start_time": "2021-07-30T09:41:23.705Z"
   },
   {
    "duration": 18,
    "start_time": "2021-07-30T09:41:23.734Z"
   },
   {
    "duration": 23,
    "start_time": "2021-07-30T09:41:23.756Z"
   },
   {
    "duration": 49,
    "start_time": "2021-07-30T09:41:23.782Z"
   },
   {
    "duration": 1091,
    "start_time": "2021-07-30T09:41:23.833Z"
   },
   {
    "duration": 5,
    "start_time": "2021-07-30T09:41:24.928Z"
   },
   {
    "duration": 790,
    "start_time": "2021-07-30T09:41:24.936Z"
   },
   {
    "duration": 4171,
    "start_time": "2021-07-30T09:41:25.728Z"
   },
   {
    "duration": 10,
    "start_time": "2021-07-30T09:41:29.901Z"
   },
   {
    "duration": 54,
    "start_time": "2021-07-30T09:41:29.913Z"
   },
   {
    "duration": 5,
    "start_time": "2021-07-30T09:41:29.969Z"
   },
   {
    "duration": 16,
    "start_time": "2021-07-30T09:41:29.977Z"
   },
   {
    "duration": 5368,
    "start_time": "2021-07-30T09:41:29.995Z"
   },
   {
    "duration": 10,
    "start_time": "2021-07-30T09:41:35.365Z"
   },
   {
    "duration": 832,
    "start_time": "2021-07-30T09:45:25.773Z"
   },
   {
    "duration": 27,
    "start_time": "2021-07-30T09:45:26.608Z"
   },
   {
    "duration": 45,
    "start_time": "2021-07-30T09:45:26.638Z"
   },
   {
    "duration": 9,
    "start_time": "2021-07-30T09:45:26.686Z"
   },
   {
    "duration": 21,
    "start_time": "2021-07-30T09:45:26.698Z"
   },
   {
    "duration": 36,
    "start_time": "2021-07-30T09:45:26.722Z"
   },
   {
    "duration": 10,
    "start_time": "2021-07-30T09:45:26.760Z"
   },
   {
    "duration": 14,
    "start_time": "2021-07-30T09:45:26.774Z"
   },
   {
    "duration": 35,
    "start_time": "2021-07-30T09:45:26.791Z"
   },
   {
    "duration": 966,
    "start_time": "2021-07-30T09:45:26.828Z"
   },
   {
    "duration": 5,
    "start_time": "2021-07-30T09:45:27.797Z"
   },
   {
    "duration": 806,
    "start_time": "2021-07-30T09:45:27.805Z"
   },
   {
    "duration": 3996,
    "start_time": "2021-07-30T09:45:28.613Z"
   },
   {
    "duration": 11,
    "start_time": "2021-07-30T09:45:32.613Z"
   },
   {
    "duration": 47,
    "start_time": "2021-07-30T09:45:32.627Z"
   },
   {
    "duration": 5,
    "start_time": "2021-07-30T09:45:32.677Z"
   },
   {
    "duration": 7,
    "start_time": "2021-07-30T09:45:32.685Z"
   },
   {
    "duration": 82,
    "start_time": "2021-07-30T09:45:32.694Z"
   },
   {
    "duration": 10,
    "start_time": "2021-07-30T09:45:32.778Z"
   },
   {
    "duration": 824,
    "start_time": "2021-07-30T09:59:07.679Z"
   },
   {
    "duration": 27,
    "start_time": "2021-07-30T09:59:08.506Z"
   },
   {
    "duration": 44,
    "start_time": "2021-07-30T09:59:08.536Z"
   },
   {
    "duration": 12,
    "start_time": "2021-07-30T09:59:08.583Z"
   },
   {
    "duration": 51,
    "start_time": "2021-07-30T09:59:08.598Z"
   },
   {
    "duration": 35,
    "start_time": "2021-07-30T09:59:08.652Z"
   },
   {
    "duration": 36,
    "start_time": "2021-07-30T09:59:08.689Z"
   },
   {
    "duration": 30,
    "start_time": "2021-07-30T09:59:08.729Z"
   },
   {
    "duration": 47,
    "start_time": "2021-07-30T09:59:08.761Z"
   },
   {
    "duration": 976,
    "start_time": "2021-07-30T09:59:08.811Z"
   },
   {
    "duration": 4,
    "start_time": "2021-07-30T09:59:09.790Z"
   },
   {
    "duration": 894,
    "start_time": "2021-07-30T09:59:09.796Z"
   },
   {
    "duration": 46,
    "start_time": "2021-07-30T09:59:10.692Z"
   },
   {
    "duration": 9,
    "start_time": "2021-07-30T09:59:10.755Z"
   },
   {
    "duration": 20,
    "start_time": "2021-07-30T09:59:10.767Z"
   },
   {
    "duration": 3,
    "start_time": "2021-07-30T09:59:10.789Z"
   },
   {
    "duration": 8,
    "start_time": "2021-07-30T09:59:10.794Z"
   },
   {
    "duration": 774,
    "start_time": "2021-07-30T10:11:06.791Z"
   },
   {
    "duration": 27,
    "start_time": "2021-07-30T10:11:07.567Z"
   },
   {
    "duration": 57,
    "start_time": "2021-07-30T10:11:07.597Z"
   },
   {
    "duration": 10,
    "start_time": "2021-07-30T10:11:07.656Z"
   },
   {
    "duration": 36,
    "start_time": "2021-07-30T10:11:07.669Z"
   },
   {
    "duration": 31,
    "start_time": "2021-07-30T10:11:07.707Z"
   },
   {
    "duration": 36,
    "start_time": "2021-07-30T10:11:07.740Z"
   },
   {
    "duration": 36,
    "start_time": "2021-07-30T10:11:07.779Z"
   },
   {
    "duration": 49,
    "start_time": "2021-07-30T10:11:07.818Z"
   },
   {
    "duration": 951,
    "start_time": "2021-07-30T10:11:07.869Z"
   },
   {
    "duration": 4,
    "start_time": "2021-07-30T10:11:08.823Z"
   },
   {
    "duration": 777,
    "start_time": "2021-07-30T10:11:08.830Z"
   },
   {
    "duration": 5,
    "start_time": "2021-07-30T10:11:09.610Z"
   },
   {
    "duration": 58,
    "start_time": "2021-07-30T10:11:09.617Z"
   },
   {
    "duration": 10,
    "start_time": "2021-07-30T10:11:09.677Z"
   },
   {
    "duration": 9,
    "start_time": "2021-07-30T10:46:40.658Z"
   },
   {
    "duration": 10,
    "start_time": "2021-07-30T10:59:23.625Z"
   },
   {
    "duration": 20,
    "start_time": "2021-07-30T11:04:04.107Z"
   },
   {
    "duration": 10,
    "start_time": "2021-07-30T11:04:29.915Z"
   },
   {
    "duration": 440,
    "start_time": "2021-07-30T11:12:04.979Z"
   },
   {
    "duration": 278,
    "start_time": "2021-07-30T11:12:26.977Z"
   },
   {
    "duration": 9,
    "start_time": "2021-07-30T11:16:08.849Z"
   },
   {
    "duration": 12,
    "start_time": "2021-07-30T11:16:20.041Z"
   },
   {
    "duration": 10,
    "start_time": "2021-07-30T11:17:14.240Z"
   },
   {
    "duration": 12,
    "start_time": "2021-07-30T11:17:58.697Z"
   },
   {
    "duration": 261,
    "start_time": "2021-07-30T11:24:11.720Z"
   },
   {
    "duration": 4,
    "start_time": "2021-07-30T11:24:20.558Z"
   },
   {
    "duration": 25,
    "start_time": "2021-07-30T11:24:23.663Z"
   },
   {
    "duration": 408,
    "start_time": "2021-07-30T16:07:32.016Z"
   },
   {
    "duration": 1197,
    "start_time": "2021-07-30T16:07:43.777Z"
   },
   {
    "duration": 31,
    "start_time": "2021-07-30T16:07:44.977Z"
   },
   {
    "duration": 59,
    "start_time": "2021-07-30T16:07:45.012Z"
   },
   {
    "duration": 13,
    "start_time": "2021-07-30T16:07:45.074Z"
   },
   {
    "duration": 21,
    "start_time": "2021-07-30T16:07:45.090Z"
   },
   {
    "duration": 10,
    "start_time": "2021-07-30T16:07:45.114Z"
   },
   {
    "duration": 42,
    "start_time": "2021-07-30T16:07:45.127Z"
   },
   {
    "duration": 13,
    "start_time": "2021-07-30T16:07:45.174Z"
   },
   {
    "duration": 27,
    "start_time": "2021-07-30T16:07:45.190Z"
   },
   {
    "duration": 1056,
    "start_time": "2021-07-30T16:07:45.220Z"
   },
   {
    "duration": 5,
    "start_time": "2021-07-30T16:07:46.280Z"
   },
   {
    "duration": 897,
    "start_time": "2021-07-30T16:07:46.287Z"
   },
   {
    "duration": 5,
    "start_time": "2021-07-30T16:07:47.186Z"
   },
   {
    "duration": 73,
    "start_time": "2021-07-30T16:07:47.194Z"
   },
   {
    "duration": 12,
    "start_time": "2021-07-30T16:07:47.270Z"
   },
   {
    "duration": 30,
    "start_time": "2021-07-30T16:07:47.284Z"
   },
   {
    "duration": 41,
    "start_time": "2021-07-30T16:07:47.317Z"
   },
   {
    "duration": 10,
    "start_time": "2021-07-30T16:07:47.360Z"
   },
   {
    "duration": 37,
    "start_time": "2021-07-30T16:07:47.373Z"
   },
   {
    "duration": 9,
    "start_time": "2021-07-30T16:16:18.483Z"
   },
   {
    "duration": 10,
    "start_time": "2021-07-30T16:17:01.963Z"
   },
   {
    "duration": 10,
    "start_time": "2021-07-30T16:17:19.961Z"
   },
   {
    "duration": 8,
    "start_time": "2021-07-30T16:18:59.306Z"
   },
   {
    "duration": 8,
    "start_time": "2021-07-30T16:19:38.291Z"
   },
   {
    "duration": 6,
    "start_time": "2021-07-30T16:21:56.271Z"
   },
   {
    "duration": 13,
    "start_time": "2021-07-30T16:22:15.332Z"
   },
   {
    "duration": 12,
    "start_time": "2021-07-30T16:24:13.559Z"
   },
   {
    "duration": 529,
    "start_time": "2021-07-30T16:31:25.153Z"
   },
   {
    "duration": 18,
    "start_time": "2021-07-30T16:31:52.287Z"
   },
   {
    "duration": 11,
    "start_time": "2021-07-30T16:32:41.746Z"
   },
   {
    "duration": 19276,
    "start_time": "2021-07-30T16:33:09.024Z"
   },
   {
    "duration": 8569,
    "start_time": "2021-07-30T16:33:29.918Z"
   },
   {
    "duration": 8500,
    "start_time": "2021-07-30T16:33:40.578Z"
   },
   {
    "duration": 12,
    "start_time": "2021-07-30T16:33:52.127Z"
   },
   {
    "duration": 20,
    "start_time": "2021-07-30T16:34:44.686Z"
   },
   {
    "duration": 16,
    "start_time": "2021-07-30T16:35:23.245Z"
   },
   {
    "duration": 16,
    "start_time": "2021-07-30T16:36:13.741Z"
   },
   {
    "duration": 12,
    "start_time": "2021-07-30T16:42:55.839Z"
   },
   {
    "duration": 8,
    "start_time": "2021-07-30T16:43:25.958Z"
   },
   {
    "duration": 15,
    "start_time": "2021-07-30T16:43:38.762Z"
   },
   {
    "duration": 314,
    "start_time": "2021-07-30T17:00:13.097Z"
   },
   {
    "duration": 8,
    "start_time": "2021-07-30T17:00:22.848Z"
   },
   {
    "duration": 10,
    "start_time": "2021-07-30T17:02:37.036Z"
   },
   {
    "duration": 374,
    "start_time": "2021-07-30T17:08:36.754Z"
   },
   {
    "duration": 427,
    "start_time": "2021-07-30T17:10:43.000Z"
   },
   {
    "duration": 11,
    "start_time": "2021-07-30T17:11:05.847Z"
   },
   {
    "duration": 11,
    "start_time": "2021-07-30T17:12:47.342Z"
   },
   {
    "duration": 9,
    "start_time": "2021-07-30T17:30:23.971Z"
   },
   {
    "duration": 7,
    "start_time": "2021-07-30T17:30:27.638Z"
   },
   {
    "duration": 11,
    "start_time": "2021-07-30T17:30:34.926Z"
   },
   {
    "duration": 7,
    "start_time": "2021-07-30T17:30:37.187Z"
   },
   {
    "duration": 1228,
    "start_time": "2021-07-30T17:30:54.563Z"
   },
   {
    "duration": 28,
    "start_time": "2021-07-30T17:30:55.793Z"
   },
   {
    "duration": 69,
    "start_time": "2021-07-30T17:30:55.824Z"
   },
   {
    "duration": 13,
    "start_time": "2021-07-30T17:30:55.896Z"
   },
   {
    "duration": 13,
    "start_time": "2021-07-30T17:30:55.912Z"
   },
   {
    "duration": 43,
    "start_time": "2021-07-30T17:30:55.927Z"
   },
   {
    "duration": 17,
    "start_time": "2021-07-30T17:30:55.973Z"
   },
   {
    "duration": 13,
    "start_time": "2021-07-30T17:30:55.996Z"
   },
   {
    "duration": 68,
    "start_time": "2021-07-30T17:30:56.012Z"
   },
   {
    "duration": 1120,
    "start_time": "2021-07-30T17:30:56.082Z"
   },
   {
    "duration": 5,
    "start_time": "2021-07-30T17:30:57.205Z"
   },
   {
    "duration": 926,
    "start_time": "2021-07-30T17:30:57.213Z"
   },
   {
    "duration": 6,
    "start_time": "2021-07-30T17:30:58.142Z"
   },
   {
    "duration": 69,
    "start_time": "2021-07-30T17:30:58.151Z"
   },
   {
    "duration": 10,
    "start_time": "2021-07-30T17:30:58.223Z"
   },
   {
    "duration": 10,
    "start_time": "2021-07-30T17:30:58.236Z"
   },
   {
    "duration": 42,
    "start_time": "2021-07-30T17:30:58.248Z"
   },
   {
    "duration": 3,
    "start_time": "2021-07-30T17:30:58.292Z"
   },
   {
    "duration": 25,
    "start_time": "2021-07-30T17:30:58.298Z"
   },
   {
    "duration": 50,
    "start_time": "2021-07-30T17:30:58.325Z"
   },
   {
    "duration": 11,
    "start_time": "2021-07-30T17:30:58.379Z"
   },
   {
    "duration": 3,
    "start_time": "2021-07-30T17:30:58.393Z"
   },
   {
    "duration": 9,
    "start_time": "2021-07-30T17:31:33.335Z"
   },
   {
    "duration": 10,
    "start_time": "2021-07-30T17:35:18.236Z"
   },
   {
    "duration": 10,
    "start_time": "2021-07-30T17:35:32.668Z"
   },
   {
    "duration": 14,
    "start_time": "2021-07-30T17:37:43.491Z"
   },
   {
    "duration": 572,
    "start_time": "2021-07-30T17:38:49.160Z"
   },
   {
    "duration": 9,
    "start_time": "2021-07-30T17:39:48.039Z"
   },
   {
    "duration": 11,
    "start_time": "2021-07-30T17:40:24.618Z"
   },
   {
    "duration": 20,
    "start_time": "2021-07-30T18:00:09.142Z"
   },
   {
    "duration": 10,
    "start_time": "2021-07-30T18:03:31.840Z"
   },
   {
    "duration": 5,
    "start_time": "2021-07-30T18:03:37.446Z"
   },
   {
    "duration": 11,
    "start_time": "2021-07-30T18:03:45.735Z"
   },
   {
    "duration": 12,
    "start_time": "2021-07-30T18:04:37.236Z"
   },
   {
    "duration": 7914,
    "start_time": "2021-07-30T18:06:52.081Z"
   },
   {
    "duration": 8223,
    "start_time": "2021-07-30T18:11:26.486Z"
   },
   {
    "duration": 8368,
    "start_time": "2021-07-30T18:11:58.228Z"
   },
   {
    "duration": 8519,
    "start_time": "2021-07-30T18:12:29.909Z"
   },
   {
    "duration": 11,
    "start_time": "2021-07-30T18:17:35.547Z"
   },
   {
    "duration": 11,
    "start_time": "2021-07-30T19:14:01.775Z"
   },
   {
    "duration": 13,
    "start_time": "2021-07-30T19:22:08.910Z"
   },
   {
    "duration": 319,
    "start_time": "2021-07-30T19:30:53.599Z"
   },
   {
    "duration": 7,
    "start_time": "2021-07-30T19:31:18.351Z"
   },
   {
    "duration": 10,
    "start_time": "2021-07-30T19:31:41.179Z"
   },
   {
    "duration": 12,
    "start_time": "2021-07-30T19:32:59.612Z"
   },
   {
    "duration": 21,
    "start_time": "2021-07-30T19:38:12.031Z"
   },
   {
    "duration": 13,
    "start_time": "2021-07-30T19:41:18.695Z"
   },
   {
    "duration": 13,
    "start_time": "2021-07-30T19:47:56.546Z"
   },
   {
    "duration": 11,
    "start_time": "2021-07-30T19:48:49.634Z"
   },
   {
    "duration": 13,
    "start_time": "2021-07-30T19:49:09.707Z"
   },
   {
    "duration": 17,
    "start_time": "2021-07-30T19:50:53.508Z"
   },
   {
    "duration": 14,
    "start_time": "2021-07-30T19:55:31.811Z"
   },
   {
    "duration": 19,
    "start_time": "2021-07-30T19:56:52.294Z"
   },
   {
    "duration": 1017,
    "start_time": "2021-07-30T19:59:50.724Z"
   },
   {
    "duration": 43,
    "start_time": "2021-07-30T19:59:51.744Z"
   },
   {
    "duration": 35,
    "start_time": "2021-07-30T19:59:51.791Z"
   },
   {
    "duration": 10,
    "start_time": "2021-07-30T19:59:51.829Z"
   },
   {
    "duration": 16,
    "start_time": "2021-07-30T19:59:51.868Z"
   },
   {
    "duration": 18,
    "start_time": "2021-07-30T19:59:51.887Z"
   },
   {
    "duration": 9,
    "start_time": "2021-07-30T19:59:51.909Z"
   },
   {
    "duration": 49,
    "start_time": "2021-07-30T19:59:51.923Z"
   },
   {
    "duration": 38,
    "start_time": "2021-07-30T19:59:51.976Z"
   },
   {
    "duration": 1064,
    "start_time": "2021-07-30T19:59:52.017Z"
   },
   {
    "duration": 6,
    "start_time": "2021-07-30T19:59:53.085Z"
   },
   {
    "duration": 932,
    "start_time": "2021-07-30T19:59:53.094Z"
   },
   {
    "duration": 5,
    "start_time": "2021-07-30T19:59:54.028Z"
   },
   {
    "duration": 52,
    "start_time": "2021-07-30T19:59:54.035Z"
   },
   {
    "duration": 13,
    "start_time": "2021-07-30T19:59:54.090Z"
   },
   {
    "duration": 9,
    "start_time": "2021-07-30T19:59:54.105Z"
   },
   {
    "duration": 16,
    "start_time": "2021-07-30T19:59:54.117Z"
   },
   {
    "duration": 3,
    "start_time": "2021-07-30T19:59:54.136Z"
   },
   {
    "duration": 45,
    "start_time": "2021-07-30T19:59:54.142Z"
   },
   {
    "duration": 23,
    "start_time": "2021-07-30T19:59:54.190Z"
   },
   {
    "duration": 13,
    "start_time": "2021-07-30T19:59:54.216Z"
   },
   {
    "duration": 11,
    "start_time": "2021-07-30T19:59:54.232Z"
   },
   {
    "duration": 32,
    "start_time": "2021-07-30T19:59:54.248Z"
   },
   {
    "duration": 28,
    "start_time": "2021-07-30T19:59:54.283Z"
   },
   {
    "duration": 60,
    "start_time": "2021-07-30T19:59:54.314Z"
   },
   {
    "duration": 11,
    "start_time": "2021-07-30T20:06:08.312Z"
   },
   {
    "duration": 25,
    "start_time": "2021-07-30T20:06:28.530Z"
   },
   {
    "duration": 14,
    "start_time": "2021-07-30T20:07:14.747Z"
   },
   {
    "duration": 506,
    "start_time": "2021-07-30T20:12:25.807Z"
   },
   {
    "duration": 12,
    "start_time": "2021-07-30T20:13:04.066Z"
   },
   {
    "duration": 424,
    "start_time": "2021-07-30T20:13:18.854Z"
   },
   {
    "duration": 21,
    "start_time": "2021-07-30T20:14:44.473Z"
   },
   {
    "duration": 17,
    "start_time": "2021-07-30T20:18:48.862Z"
   },
   {
    "duration": 12,
    "start_time": "2021-07-30T20:22:26.032Z"
   },
   {
    "duration": 8896,
    "start_time": "2021-07-30T20:25:08.696Z"
   },
   {
    "duration": 125,
    "start_time": "2021-07-30T20:27:24.531Z"
   },
   {
    "duration": 25,
    "start_time": "2021-07-30T20:29:30.527Z"
   },
   {
    "duration": 23,
    "start_time": "2021-07-30T20:30:35.719Z"
   },
   {
    "duration": 14,
    "start_time": "2021-07-30T20:32:26.975Z"
   },
   {
    "duration": 6,
    "start_time": "2021-07-30T20:35:16.960Z"
   },
   {
    "duration": 7,
    "start_time": "2021-07-30T20:35:25.891Z"
   },
   {
    "duration": 6,
    "start_time": "2021-07-30T20:35:44.822Z"
   },
   {
    "duration": 405,
    "start_time": "2021-07-30T20:42:44.710Z"
   },
   {
    "duration": 22,
    "start_time": "2021-07-30T20:48:10.836Z"
   },
   {
    "duration": 27,
    "start_time": "2021-07-30T20:49:12.089Z"
   },
   {
    "duration": 25,
    "start_time": "2021-07-30T20:50:38.420Z"
   },
   {
    "duration": 25,
    "start_time": "2021-07-30T20:51:31.916Z"
   },
   {
    "duration": 21,
    "start_time": "2021-07-30T20:54:30.061Z"
   },
   {
    "duration": 7835,
    "start_time": "2021-07-30T21:14:50.898Z"
   },
   {
    "duration": 337,
    "start_time": "2021-07-30T21:15:54.483Z"
   },
   {
    "duration": 108,
    "start_time": "2021-07-30T21:16:39.720Z"
   },
   {
    "duration": 4,
    "start_time": "2021-07-30T21:17:44.885Z"
   },
   {
    "duration": 30,
    "start_time": "2021-07-30T21:17:48.602Z"
   },
   {
    "duration": 4,
    "start_time": "2021-07-30T21:19:02.798Z"
   },
   {
    "duration": 30,
    "start_time": "2021-07-30T21:19:05.866Z"
   },
   {
    "duration": 35,
    "start_time": "2021-07-30T21:19:49.484Z"
   },
   {
    "duration": 385,
    "start_time": "2021-07-30T21:20:56.714Z"
   },
   {
    "duration": 21,
    "start_time": "2021-07-30T21:21:20.842Z"
   },
   {
    "duration": 30,
    "start_time": "2021-07-30T21:22:38.245Z"
   },
   {
    "duration": 16,
    "start_time": "2021-07-30T21:25:05.742Z"
   },
   {
    "duration": 13,
    "start_time": "2021-07-30T21:25:20.656Z"
   },
   {
    "duration": 8606,
    "start_time": "2021-07-30T21:27:42.006Z"
   },
   {
    "duration": 23,
    "start_time": "2021-07-30T21:29:29.672Z"
   },
   {
    "duration": 15,
    "start_time": "2021-07-30T21:30:54.546Z"
   },
   {
    "duration": 16,
    "start_time": "2021-07-30T21:57:22.377Z"
   },
   {
    "duration": 19,
    "start_time": "2021-07-30T21:58:50.147Z"
   },
   {
    "duration": 11,
    "start_time": "2021-07-30T22:05:32.154Z"
   },
   {
    "duration": 12,
    "start_time": "2021-07-30T22:06:06.732Z"
   },
   {
    "duration": 4311,
    "start_time": "2021-07-30T22:06:50.385Z"
   },
   {
    "duration": 343,
    "start_time": "2021-07-30T22:08:10.387Z"
   },
   {
    "duration": 5031,
    "start_time": "2021-07-30T22:09:01.005Z"
   },
   {
    "duration": 108,
    "start_time": "2021-07-30T22:09:10.746Z"
   },
   {
    "duration": 372,
    "start_time": "2021-07-30T22:10:29.376Z"
   },
   {
    "duration": 397,
    "start_time": "2021-07-30T22:17:12.773Z"
   },
   {
    "duration": 327,
    "start_time": "2021-07-30T22:17:49.020Z"
   },
   {
    "duration": 13,
    "start_time": "2021-07-30T22:18:03.737Z"
   },
   {
    "duration": 13,
    "start_time": "2021-07-30T22:18:33.327Z"
   },
   {
    "duration": 334,
    "start_time": "2021-07-30T22:19:43.252Z"
   },
   {
    "duration": 356,
    "start_time": "2021-07-30T22:20:57.657Z"
   },
   {
    "duration": 361,
    "start_time": "2021-07-30T22:21:11.030Z"
   },
   {
    "duration": 373,
    "start_time": "2021-07-30T22:28:15.606Z"
   },
   {
    "duration": 366,
    "start_time": "2021-07-30T22:28:22.140Z"
   },
   {
    "duration": 406,
    "start_time": "2021-07-30T22:33:23.520Z"
   },
   {
    "duration": 11,
    "start_time": "2021-07-30T22:34:08.516Z"
   },
   {
    "duration": 110,
    "start_time": "2021-07-30T22:34:41.570Z"
   },
   {
    "duration": 339,
    "start_time": "2021-07-30T22:34:54.392Z"
   },
   {
    "duration": 11,
    "start_time": "2021-07-30T22:35:24.411Z"
   },
   {
    "duration": 12,
    "start_time": "2021-07-30T22:36:06.194Z"
   },
   {
    "duration": 12,
    "start_time": "2021-07-30T22:36:28.095Z"
   },
   {
    "duration": 380,
    "start_time": "2021-07-30T22:37:06.145Z"
   },
   {
    "duration": 13,
    "start_time": "2021-07-30T22:37:14.150Z"
   },
   {
    "duration": 12,
    "start_time": "2021-07-30T22:37:47.536Z"
   },
   {
    "duration": 12,
    "start_time": "2021-07-30T22:38:31.363Z"
   },
   {
    "duration": 11,
    "start_time": "2021-07-30T22:38:50.576Z"
   },
   {
    "duration": 15,
    "start_time": "2021-07-30T22:39:04.483Z"
   },
   {
    "duration": 6,
    "start_time": "2021-07-30T22:48:44.429Z"
   },
   {
    "duration": 16,
    "start_time": "2021-07-30T22:51:06.091Z"
   },
   {
    "duration": 17,
    "start_time": "2021-07-30T22:52:02.244Z"
   },
   {
    "duration": 4,
    "start_time": "2021-07-30T22:56:28.634Z"
   },
   {
    "duration": 6,
    "start_time": "2021-07-30T22:56:40.419Z"
   },
   {
    "duration": 325,
    "start_time": "2021-07-30T22:57:56.091Z"
   },
   {
    "duration": 5,
    "start_time": "2021-07-30T22:59:32.019Z"
   },
   {
    "duration": 5,
    "start_time": "2021-07-30T22:59:45.424Z"
   },
   {
    "duration": 5,
    "start_time": "2021-07-30T23:00:32.274Z"
   },
   {
    "duration": 5,
    "start_time": "2021-07-30T23:00:47.408Z"
   },
   {
    "duration": 5,
    "start_time": "2021-07-30T23:01:50.993Z"
   },
   {
    "duration": 17,
    "start_time": "2021-07-30T23:02:22.044Z"
   },
   {
    "duration": 7878,
    "start_time": "2021-07-30T23:11:31.800Z"
   },
   {
    "duration": 13,
    "start_time": "2021-07-30T23:12:33.328Z"
   },
   {
    "duration": 7,
    "start_time": "2021-07-30T23:12:55.831Z"
   },
   {
    "duration": 6,
    "start_time": "2021-07-30T23:18:04.183Z"
   },
   {
    "duration": 7,
    "start_time": "2021-07-30T23:21:12.964Z"
   },
   {
    "duration": 6,
    "start_time": "2021-07-30T23:23:01.230Z"
   },
   {
    "duration": 334,
    "start_time": "2021-07-30T23:23:13.117Z"
   },
   {
    "duration": 352,
    "start_time": "2021-07-30T23:23:40.204Z"
   },
   {
    "duration": 7,
    "start_time": "2021-07-30T23:25:13.645Z"
   },
   {
    "duration": 18,
    "start_time": "2021-07-30T23:25:19.662Z"
   },
   {
    "duration": 686,
    "start_time": "2021-07-30T23:26:08.470Z"
   },
   {
    "duration": 12,
    "start_time": "2021-07-30T23:26:52.512Z"
   },
   {
    "duration": 611,
    "start_time": "2021-07-30T23:27:17.715Z"
   },
   {
    "duration": 11,
    "start_time": "2021-07-30T23:29:06.598Z"
   },
   {
    "duration": 5,
    "start_time": "2021-07-30T23:29:46.368Z"
   },
   {
    "duration": 640,
    "start_time": "2021-07-30T23:29:54.442Z"
   },
   {
    "duration": 598,
    "start_time": "2021-07-30T23:32:36.601Z"
   },
   {
    "duration": 849,
    "start_time": "2021-07-30T23:33:15.482Z"
   },
   {
    "duration": 39,
    "start_time": "2021-07-30T23:33:16.334Z"
   },
   {
    "duration": 31,
    "start_time": "2021-07-30T23:33:16.376Z"
   },
   {
    "duration": 10,
    "start_time": "2021-07-30T23:33:16.410Z"
   },
   {
    "duration": 10,
    "start_time": "2021-07-30T23:33:16.423Z"
   },
   {
    "duration": 38,
    "start_time": "2021-07-30T23:33:16.436Z"
   },
   {
    "duration": 12,
    "start_time": "2021-07-30T23:33:16.477Z"
   },
   {
    "duration": 11,
    "start_time": "2021-07-30T23:33:16.493Z"
   },
   {
    "duration": 59,
    "start_time": "2021-07-30T23:33:16.507Z"
   },
   {
    "duration": 959,
    "start_time": "2021-07-30T23:33:16.569Z"
   },
   {
    "duration": 5,
    "start_time": "2021-07-30T23:33:17.530Z"
   },
   {
    "duration": 793,
    "start_time": "2021-07-30T23:33:17.537Z"
   },
   {
    "duration": 5,
    "start_time": "2021-07-30T23:33:18.332Z"
   },
   {
    "duration": 59,
    "start_time": "2021-07-30T23:33:18.339Z"
   },
   {
    "duration": 10,
    "start_time": "2021-07-30T23:33:18.401Z"
   },
   {
    "duration": 8,
    "start_time": "2021-07-30T23:33:18.414Z"
   },
   {
    "duration": 50,
    "start_time": "2021-07-30T23:33:18.425Z"
   },
   {
    "duration": 4,
    "start_time": "2021-07-30T23:33:18.477Z"
   },
   {
    "duration": 26,
    "start_time": "2021-07-30T23:33:18.483Z"
   },
   {
    "duration": 7,
    "start_time": "2021-07-30T23:33:18.511Z"
   },
   {
    "duration": 56,
    "start_time": "2021-07-30T23:33:18.520Z"
   },
   {
    "duration": 11,
    "start_time": "2021-07-30T23:33:18.578Z"
   },
   {
    "duration": 12,
    "start_time": "2021-07-30T23:33:18.594Z"
   },
   {
    "duration": 11,
    "start_time": "2021-07-30T23:33:18.608Z"
   },
   {
    "duration": 59,
    "start_time": "2021-07-30T23:33:18.621Z"
   },
   {
    "duration": 819,
    "start_time": "2021-07-30T23:33:18.682Z"
   },
   {
    "duration": 19745,
    "start_time": "2021-07-30T23:32:59.759Z"
   },
   {
    "duration": 19734,
    "start_time": "2021-07-30T23:32:59.771Z"
   },
   {
    "duration": 19731,
    "start_time": "2021-07-30T23:32:59.776Z"
   },
   {
    "duration": 19729,
    "start_time": "2021-07-30T23:32:59.779Z"
   },
   {
    "duration": 19725,
    "start_time": "2021-07-30T23:32:59.784Z"
   },
   {
    "duration": 19725,
    "start_time": "2021-07-30T23:32:59.786Z"
   },
   {
    "duration": 19722,
    "start_time": "2021-07-30T23:32:59.790Z"
   },
   {
    "duration": 19720,
    "start_time": "2021-07-30T23:32:59.793Z"
   },
   {
    "duration": 19720,
    "start_time": "2021-07-30T23:32:59.795Z"
   },
   {
    "duration": 19716,
    "start_time": "2021-07-30T23:32:59.800Z"
   },
   {
    "duration": 19714,
    "start_time": "2021-07-30T23:32:59.803Z"
   },
   {
    "duration": 5,
    "start_time": "2021-07-30T23:41:30.361Z"
   },
   {
    "duration": 21,
    "start_time": "2021-07-30T23:41:39.390Z"
   },
   {
    "duration": 17,
    "start_time": "2021-07-30T23:41:50.428Z"
   },
   {
    "duration": 736,
    "start_time": "2021-07-30T23:48:44.385Z"
   },
   {
    "duration": 862,
    "start_time": "2021-07-30T23:49:25.854Z"
   },
   {
    "duration": 5,
    "start_time": "2021-07-30T23:51:30.858Z"
   },
   {
    "duration": 894,
    "start_time": "2021-07-30T23:51:47.343Z"
   },
   {
    "duration": 40,
    "start_time": "2021-07-30T23:51:48.240Z"
   },
   {
    "duration": 32,
    "start_time": "2021-07-30T23:51:48.283Z"
   },
   {
    "duration": 9,
    "start_time": "2021-07-30T23:51:48.318Z"
   },
   {
    "duration": 40,
    "start_time": "2021-07-30T23:51:48.329Z"
   },
   {
    "duration": 13,
    "start_time": "2021-07-30T23:51:48.371Z"
   },
   {
    "duration": 12,
    "start_time": "2021-07-30T23:51:48.386Z"
   },
   {
    "duration": 10,
    "start_time": "2021-07-30T23:51:48.402Z"
   },
   {
    "duration": 61,
    "start_time": "2021-07-30T23:51:48.415Z"
   },
   {
    "duration": 953,
    "start_time": "2021-07-30T23:51:48.478Z"
   },
   {
    "duration": 6,
    "start_time": "2021-07-30T23:51:49.434Z"
   },
   {
    "duration": 796,
    "start_time": "2021-07-30T23:51:49.442Z"
   },
   {
    "duration": 5,
    "start_time": "2021-07-30T23:51:50.241Z"
   },
   {
    "duration": 57,
    "start_time": "2021-07-30T23:51:50.249Z"
   },
   {
    "duration": 13,
    "start_time": "2021-07-30T23:51:50.309Z"
   },
   {
    "duration": 12,
    "start_time": "2021-07-30T23:51:50.325Z"
   },
   {
    "duration": 17,
    "start_time": "2021-07-30T23:51:50.368Z"
   },
   {
    "duration": 3,
    "start_time": "2021-07-30T23:51:50.388Z"
   },
   {
    "duration": 25,
    "start_time": "2021-07-30T23:51:50.394Z"
   },
   {
    "duration": 7,
    "start_time": "2021-07-30T23:51:50.421Z"
   },
   {
    "duration": 57,
    "start_time": "2021-07-30T23:51:50.430Z"
   },
   {
    "duration": 11,
    "start_time": "2021-07-30T23:51:50.489Z"
   },
   {
    "duration": 11,
    "start_time": "2021-07-30T23:51:50.505Z"
   },
   {
    "duration": 13,
    "start_time": "2021-07-30T23:51:50.519Z"
   },
   {
    "duration": 17,
    "start_time": "2021-07-30T23:51:50.567Z"
   },
   {
    "duration": 22,
    "start_time": "2021-07-30T23:51:50.586Z"
   },
   {
    "duration": 16,
    "start_time": "2021-07-30T23:51:50.610Z"
   },
   {
    "duration": 42,
    "start_time": "2021-07-30T23:51:50.629Z"
   },
   {
    "duration": 25,
    "start_time": "2021-07-30T23:51:50.673Z"
   },
   {
    "duration": 5,
    "start_time": "2021-07-30T23:51:50.701Z"
   },
   {
    "duration": 61,
    "start_time": "2021-07-30T23:51:50.708Z"
   },
   {
    "duration": 16,
    "start_time": "2021-07-30T23:51:50.771Z"
   },
   {
    "duration": 23,
    "start_time": "2021-07-30T23:51:50.790Z"
   },
   {
    "duration": 14,
    "start_time": "2021-07-30T23:51:50.816Z"
   },
   {
    "duration": 12,
    "start_time": "2021-07-30T23:51:50.868Z"
   },
   {
    "duration": 36,
    "start_time": "2021-07-30T23:51:50.883Z"
   },
   {
    "duration": 13,
    "start_time": "2021-07-30T23:51:50.921Z"
   },
   {
    "duration": 6,
    "start_time": "2021-07-30T23:54:18.823Z"
   },
   {
    "duration": 809,
    "start_time": "2021-07-30T23:56:06.385Z"
   },
   {
    "duration": 681,
    "start_time": "2021-07-30T23:57:33.980Z"
   },
   {
    "duration": 877,
    "start_time": "2021-07-30T23:58:38.746Z"
   },
   {
    "duration": 28,
    "start_time": "2021-07-30T23:58:39.625Z"
   },
   {
    "duration": 37,
    "start_time": "2021-07-30T23:58:39.656Z"
   },
   {
    "duration": 9,
    "start_time": "2021-07-30T23:58:39.696Z"
   },
   {
    "duration": 12,
    "start_time": "2021-07-30T23:58:39.707Z"
   },
   {
    "duration": 9,
    "start_time": "2021-07-30T23:58:39.722Z"
   },
   {
    "duration": 9,
    "start_time": "2021-07-30T23:58:39.768Z"
   },
   {
    "duration": 10,
    "start_time": "2021-07-30T23:58:39.781Z"
   },
   {
    "duration": 24,
    "start_time": "2021-07-30T23:58:39.795Z"
   },
   {
    "duration": 993,
    "start_time": "2021-07-30T23:58:39.821Z"
   },
   {
    "duration": 6,
    "start_time": "2021-07-30T23:58:40.818Z"
   },
   {
    "duration": 785,
    "start_time": "2021-07-30T23:58:40.827Z"
   },
   {
    "duration": 6,
    "start_time": "2021-07-30T23:58:41.615Z"
   },
   {
    "duration": 63,
    "start_time": "2021-07-30T23:58:41.624Z"
   },
   {
    "duration": 11,
    "start_time": "2021-07-30T23:58:41.690Z"
   },
   {
    "duration": 12,
    "start_time": "2021-07-30T23:58:41.703Z"
   },
   {
    "duration": 16,
    "start_time": "2021-07-30T23:58:41.717Z"
   },
   {
    "duration": 31,
    "start_time": "2021-07-30T23:58:41.736Z"
   },
   {
    "duration": 24,
    "start_time": "2021-07-30T23:58:41.770Z"
   },
   {
    "duration": 8,
    "start_time": "2021-07-30T23:58:41.796Z"
   },
   {
    "duration": 29,
    "start_time": "2021-07-30T23:58:41.806Z"
   },
   {
    "duration": 40,
    "start_time": "2021-07-30T23:58:41.837Z"
   },
   {
    "duration": 12,
    "start_time": "2021-07-30T23:58:41.883Z"
   },
   {
    "duration": 12,
    "start_time": "2021-07-30T23:58:41.898Z"
   },
   {
    "duration": 57,
    "start_time": "2021-07-30T23:58:41.912Z"
   },
   {
    "duration": 20,
    "start_time": "2021-07-30T23:58:41.971Z"
   },
   {
    "duration": 16,
    "start_time": "2021-07-30T23:58:41.994Z"
   },
   {
    "duration": 6,
    "start_time": "2021-07-30T23:58:42.012Z"
   },
   {
    "duration": 59,
    "start_time": "2021-07-30T23:58:42.020Z"
   },
   {
    "duration": 5,
    "start_time": "2021-07-30T23:58:42.081Z"
   },
   {
    "duration": 37,
    "start_time": "2021-07-30T23:58:42.088Z"
   },
   {
    "duration": 42,
    "start_time": "2021-07-30T23:58:42.127Z"
   },
   {
    "duration": 25,
    "start_time": "2021-07-30T23:58:42.171Z"
   },
   {
    "duration": 14,
    "start_time": "2021-07-30T23:58:42.198Z"
   },
   {
    "duration": 9,
    "start_time": "2021-07-30T23:58:42.214Z"
   },
   {
    "duration": 52,
    "start_time": "2021-07-30T23:58:42.225Z"
   },
   {
    "duration": 27,
    "start_time": "2021-07-30T23:58:42.280Z"
   },
   {
    "duration": 13,
    "start_time": "2021-07-30T23:58:42.309Z"
   },
   {
    "duration": 825,
    "start_time": "2021-07-31T00:10:29.054Z"
   },
   {
    "duration": 7,
    "start_time": "2021-07-31T00:10:47.485Z"
   },
   {
    "duration": 12,
    "start_time": "2021-07-31T00:11:06.520Z"
   },
   {
    "duration": 20,
    "start_time": "2021-07-31T00:11:59.613Z"
   },
   {
    "duration": 8090,
    "start_time": "2021-07-31T00:12:59.125Z"
   },
   {
    "duration": 833,
    "start_time": "2021-07-31T00:13:27.817Z"
   },
   {
    "duration": 37,
    "start_time": "2021-07-31T00:13:28.653Z"
   },
   {
    "duration": 32,
    "start_time": "2021-07-31T00:13:28.696Z"
   },
   {
    "duration": 42,
    "start_time": "2021-07-31T00:13:28.730Z"
   },
   {
    "duration": 14,
    "start_time": "2021-07-31T00:13:28.774Z"
   },
   {
    "duration": 12,
    "start_time": "2021-07-31T00:13:28.790Z"
   },
   {
    "duration": 10,
    "start_time": "2021-07-31T00:13:28.805Z"
   },
   {
    "duration": 12,
    "start_time": "2021-07-31T00:13:28.818Z"
   },
   {
    "duration": 56,
    "start_time": "2021-07-31T00:13:28.832Z"
   },
   {
    "duration": 943,
    "start_time": "2021-07-31T00:13:28.891Z"
   },
   {
    "duration": 5,
    "start_time": "2021-07-31T00:13:29.837Z"
   },
   {
    "duration": 806,
    "start_time": "2021-07-31T00:13:29.844Z"
   },
   {
    "duration": 5,
    "start_time": "2021-07-31T00:13:30.653Z"
   },
   {
    "duration": 54,
    "start_time": "2021-07-31T00:13:30.666Z"
   },
   {
    "duration": 10,
    "start_time": "2021-07-31T00:13:30.722Z"
   },
   {
    "duration": 27,
    "start_time": "2021-07-31T00:13:30.734Z"
   },
   {
    "duration": 18,
    "start_time": "2021-07-31T00:13:30.767Z"
   },
   {
    "duration": 5,
    "start_time": "2021-07-31T00:13:30.787Z"
   },
   {
    "duration": 31,
    "start_time": "2021-07-31T00:13:30.795Z"
   },
   {
    "duration": 38,
    "start_time": "2021-07-31T00:13:30.829Z"
   },
   {
    "duration": 35,
    "start_time": "2021-07-31T00:13:30.869Z"
   },
   {
    "duration": 12,
    "start_time": "2021-07-31T00:13:30.909Z"
   },
   {
    "duration": 23,
    "start_time": "2021-07-31T00:13:30.924Z"
   },
   {
    "duration": 24,
    "start_time": "2021-07-31T00:13:30.949Z"
   },
   {
    "duration": 18,
    "start_time": "2021-07-31T00:13:30.975Z"
   },
   {
    "duration": 20,
    "start_time": "2021-07-31T00:13:30.996Z"
   },
   {
    "duration": 60,
    "start_time": "2021-07-31T00:13:31.019Z"
   },
   {
    "duration": 8426,
    "start_time": "2021-07-31T00:13:31.081Z"
   },
   {
    "duration": 19747,
    "start_time": "2021-07-31T00:13:19.762Z"
   },
   {
    "duration": 19745,
    "start_time": "2021-07-31T00:13:19.766Z"
   },
   {
    "duration": 19738,
    "start_time": "2021-07-31T00:13:19.774Z"
   },
   {
    "duration": 19737,
    "start_time": "2021-07-31T00:13:19.776Z"
   },
   {
    "duration": 19736,
    "start_time": "2021-07-31T00:13:19.779Z"
   },
   {
    "duration": 19733,
    "start_time": "2021-07-31T00:13:19.783Z"
   },
   {
    "duration": 19729,
    "start_time": "2021-07-31T00:13:19.788Z"
   },
   {
    "duration": 19728,
    "start_time": "2021-07-31T00:13:19.790Z"
   },
   {
    "duration": 19726,
    "start_time": "2021-07-31T00:13:19.793Z"
   },
   {
    "duration": 19724,
    "start_time": "2021-07-31T00:13:19.796Z"
   },
   {
    "duration": 8344,
    "start_time": "2021-07-31T00:14:56.855Z"
   },
   {
    "duration": 20,
    "start_time": "2021-07-31T00:15:24.516Z"
   },
   {
    "duration": 324,
    "start_time": "2021-07-31T00:23:37.007Z"
   },
   {
    "duration": 332,
    "start_time": "2021-07-31T00:25:33.578Z"
   },
   {
    "duration": 20,
    "start_time": "2021-07-31T00:25:59.581Z"
   },
   {
    "duration": 383,
    "start_time": "2021-07-31T00:32:01.377Z"
   },
   {
    "duration": 22,
    "start_time": "2021-07-31T00:34:26.758Z"
   },
   {
    "duration": 23,
    "start_time": "2021-07-31T00:39:12.638Z"
   },
   {
    "duration": 293,
    "start_time": "2021-07-31T00:40:22.802Z"
   },
   {
    "duration": 846,
    "start_time": "2021-07-31T00:40:48.085Z"
   },
   {
    "duration": 40,
    "start_time": "2021-07-31T00:40:48.933Z"
   },
   {
    "duration": 31,
    "start_time": "2021-07-31T00:40:48.976Z"
   },
   {
    "duration": 9,
    "start_time": "2021-07-31T00:40:49.009Z"
   },
   {
    "duration": 16,
    "start_time": "2021-07-31T00:40:49.020Z"
   },
   {
    "duration": 10,
    "start_time": "2021-07-31T00:40:49.068Z"
   },
   {
    "duration": 15,
    "start_time": "2021-07-31T00:40:49.080Z"
   },
   {
    "duration": 13,
    "start_time": "2021-07-31T00:40:49.099Z"
   },
   {
    "duration": 29,
    "start_time": "2021-07-31T00:40:49.115Z"
   },
   {
    "duration": 950,
    "start_time": "2021-07-31T00:40:49.168Z"
   },
   {
    "duration": 5,
    "start_time": "2021-07-31T00:40:50.120Z"
   },
   {
    "duration": 799,
    "start_time": "2021-07-31T00:40:50.128Z"
   },
   {
    "duration": 4,
    "start_time": "2021-07-31T00:40:50.929Z"
   },
   {
    "duration": 61,
    "start_time": "2021-07-31T00:40:50.936Z"
   },
   {
    "duration": 9,
    "start_time": "2021-07-31T00:40:51.000Z"
   },
   {
    "duration": 10,
    "start_time": "2021-07-31T00:40:51.012Z"
   },
   {
    "duration": 44,
    "start_time": "2021-07-31T00:40:51.024Z"
   },
   {
    "duration": 3,
    "start_time": "2021-07-31T00:40:51.071Z"
   },
   {
    "duration": 27,
    "start_time": "2021-07-31T00:40:51.076Z"
   },
   {
    "duration": 6,
    "start_time": "2021-07-31T00:40:51.106Z"
   },
   {
    "duration": 53,
    "start_time": "2021-07-31T00:40:51.114Z"
   },
   {
    "duration": 12,
    "start_time": "2021-07-31T00:40:51.169Z"
   },
   {
    "duration": 19,
    "start_time": "2021-07-31T00:40:51.185Z"
   },
   {
    "duration": 15,
    "start_time": "2021-07-31T00:40:51.207Z"
   },
   {
    "duration": 42,
    "start_time": "2021-07-31T00:40:51.225Z"
   },
   {
    "duration": 19,
    "start_time": "2021-07-31T00:40:51.270Z"
   },
   {
    "duration": 16,
    "start_time": "2021-07-31T00:40:51.291Z"
   },
   {
    "duration": 57,
    "start_time": "2021-07-31T00:40:51.309Z"
   },
   {
    "duration": 20,
    "start_time": "2021-07-31T00:40:51.368Z"
   },
   {
    "duration": 4,
    "start_time": "2021-07-31T00:40:51.391Z"
   },
   {
    "duration": 34,
    "start_time": "2021-07-31T00:40:51.397Z"
   },
   {
    "duration": 42,
    "start_time": "2021-07-31T00:40:51.433Z"
   },
   {
    "duration": 22,
    "start_time": "2021-07-31T00:40:51.477Z"
   },
   {
    "duration": 14,
    "start_time": "2021-07-31T00:40:51.502Z"
   },
   {
    "duration": 61,
    "start_time": "2021-07-31T00:40:51.518Z"
   },
   {
    "duration": 13,
    "start_time": "2021-07-31T00:40:51.581Z"
   },
   {
    "duration": 27,
    "start_time": "2021-07-31T00:40:51.596Z"
   },
   {
    "duration": 44,
    "start_time": "2021-07-31T00:40:51.625Z"
   },
   {
    "duration": 14,
    "start_time": "2021-07-31T00:45:45.851Z"
   },
   {
    "duration": 23,
    "start_time": "2021-07-31T00:48:41.774Z"
   },
   {
    "duration": 24,
    "start_time": "2021-07-31T00:49:25.724Z"
   },
   {
    "duration": 21,
    "start_time": "2021-07-31T00:50:58.140Z"
   },
   {
    "duration": 72,
    "start_time": "2021-07-31T00:51:07.862Z"
   },
   {
    "duration": 20,
    "start_time": "2021-07-31T00:51:12.140Z"
   },
   {
    "duration": 36,
    "start_time": "2021-07-31T00:53:45.872Z"
   },
   {
    "duration": 36,
    "start_time": "2021-07-31T00:54:33.957Z"
   },
   {
    "duration": 38,
    "start_time": "2021-07-31T00:56:30.870Z"
   },
   {
    "duration": 20,
    "start_time": "2021-07-31T00:56:48.299Z"
   },
   {
    "duration": 16,
    "start_time": "2021-07-31T00:57:01.917Z"
   },
   {
    "duration": 31,
    "start_time": "2021-07-31T00:58:05.216Z"
   },
   {
    "duration": 7,
    "start_time": "2021-07-31T01:20:28.565Z"
   },
   {
    "duration": 8,
    "start_time": "2021-07-31T01:30:59.145Z"
   },
   {
    "duration": 12,
    "start_time": "2021-07-31T01:31:09.432Z"
   },
   {
    "duration": 4,
    "start_time": "2021-07-31T01:31:19.585Z"
   },
   {
    "duration": 21,
    "start_time": "2021-07-31T01:31:22.178Z"
   },
   {
    "duration": 18,
    "start_time": "2021-07-31T01:32:27.285Z"
   },
   {
    "duration": 11,
    "start_time": "2021-07-31T01:33:52.021Z"
   },
   {
    "duration": 17,
    "start_time": "2021-07-31T01:34:12.033Z"
   },
   {
    "duration": 11,
    "start_time": "2021-07-31T01:36:07.848Z"
   },
   {
    "duration": 17,
    "start_time": "2021-07-31T01:36:22.955Z"
   },
   {
    "duration": 18,
    "start_time": "2021-07-31T01:38:59.265Z"
   },
   {
    "duration": 15,
    "start_time": "2021-07-31T01:39:38.612Z"
   },
   {
    "duration": 20,
    "start_time": "2021-07-31T01:44:22.744Z"
   },
   {
    "duration": 5,
    "start_time": "2021-07-31T01:44:39.830Z"
   },
   {
    "duration": 28,
    "start_time": "2021-07-31T01:44:43.845Z"
   },
   {
    "duration": 16,
    "start_time": "2021-07-31T01:47:08.384Z"
   },
   {
    "duration": 22,
    "start_time": "2021-07-31T01:47:55.012Z"
   },
   {
    "duration": 498,
    "start_time": "2021-07-31T01:55:51.838Z"
   },
   {
    "duration": 12,
    "start_time": "2021-07-31T01:57:19.549Z"
   },
   {
    "duration": 46,
    "start_time": "2021-07-31T01:57:47.069Z"
   },
   {
    "duration": 18,
    "start_time": "2021-07-31T01:58:48.029Z"
   },
   {
    "duration": 23,
    "start_time": "2021-07-31T01:59:32.253Z"
   },
   {
    "duration": 842,
    "start_time": "2021-07-31T02:20:18.250Z"
   },
   {
    "duration": 29,
    "start_time": "2021-07-31T02:20:19.095Z"
   },
   {
    "duration": 49,
    "start_time": "2021-07-31T02:20:19.127Z"
   },
   {
    "duration": 32,
    "start_time": "2021-07-31T02:20:19.179Z"
   },
   {
    "duration": 59,
    "start_time": "2021-07-31T02:20:19.213Z"
   },
   {
    "duration": 33,
    "start_time": "2021-07-31T02:20:19.275Z"
   },
   {
    "duration": 24,
    "start_time": "2021-07-31T02:20:19.310Z"
   },
   {
    "duration": 48,
    "start_time": "2021-07-31T02:20:19.337Z"
   },
   {
    "duration": 10,
    "start_time": "2021-07-31T02:20:19.388Z"
   },
   {
    "duration": 11,
    "start_time": "2021-07-31T02:20:19.400Z"
   },
   {
    "duration": 12,
    "start_time": "2021-07-31T02:20:19.414Z"
   },
   {
    "duration": 43,
    "start_time": "2021-07-31T02:20:19.428Z"
   },
   {
    "duration": 11,
    "start_time": "2021-07-31T02:20:19.473Z"
   },
   {
    "duration": 25,
    "start_time": "2021-07-31T02:20:19.487Z"
   },
   {
    "duration": 964,
    "start_time": "2021-07-31T02:20:19.514Z"
   },
   {
    "duration": 4,
    "start_time": "2021-07-31T02:20:20.481Z"
   },
   {
    "duration": 827,
    "start_time": "2021-07-31T02:20:20.488Z"
   },
   {
    "duration": 5,
    "start_time": "2021-07-31T02:20:21.317Z"
   },
   {
    "duration": 59,
    "start_time": "2021-07-31T02:20:21.324Z"
   },
   {
    "duration": 12,
    "start_time": "2021-07-31T02:20:21.385Z"
   },
   {
    "duration": 7,
    "start_time": "2021-07-31T02:20:21.399Z"
   },
   {
    "duration": 12,
    "start_time": "2021-07-31T02:20:21.409Z"
   },
   {
    "duration": 49,
    "start_time": "2021-07-31T02:20:21.426Z"
   },
   {
    "duration": 4,
    "start_time": "2021-07-31T02:20:21.479Z"
   },
   {
    "duration": 29,
    "start_time": "2021-07-31T02:20:21.486Z"
   },
   {
    "duration": 53,
    "start_time": "2021-07-31T02:20:21.518Z"
   },
   {
    "duration": 11,
    "start_time": "2021-07-31T02:20:21.575Z"
   },
   {
    "duration": 19,
    "start_time": "2021-07-31T02:20:21.590Z"
   },
   {
    "duration": 57,
    "start_time": "2021-07-31T02:20:21.612Z"
   },
   {
    "duration": 16,
    "start_time": "2021-07-31T02:20:21.671Z"
   },
   {
    "duration": 34,
    "start_time": "2021-07-31T02:20:21.689Z"
   },
   {
    "duration": 5,
    "start_time": "2021-07-31T02:20:21.726Z"
   },
   {
    "duration": 57,
    "start_time": "2021-07-31T02:20:21.733Z"
   },
   {
    "duration": 16,
    "start_time": "2021-07-31T02:20:21.792Z"
   },
   {
    "duration": 41,
    "start_time": "2021-07-31T02:20:21.810Z"
   },
   {
    "duration": 21,
    "start_time": "2021-07-31T02:20:21.854Z"
   },
   {
    "duration": 32,
    "start_time": "2021-07-31T02:20:21.878Z"
   },
   {
    "duration": 358,
    "start_time": "2021-07-31T18:09:37.854Z"
   },
   {
    "duration": 804,
    "start_time": "2021-07-31T18:09:52.715Z"
   },
   {
    "duration": 54,
    "start_time": "2021-07-31T18:09:53.522Z"
   },
   {
    "duration": 32,
    "start_time": "2021-07-31T18:09:53.579Z"
   },
   {
    "duration": 65,
    "start_time": "2021-07-31T18:09:53.615Z"
   },
   {
    "duration": 33,
    "start_time": "2021-07-31T18:09:53.683Z"
   },
   {
    "duration": 56,
    "start_time": "2021-07-31T18:09:53.719Z"
   },
   {
    "duration": 9,
    "start_time": "2021-07-31T18:09:53.777Z"
   },
   {
    "duration": 16,
    "start_time": "2021-07-31T18:09:53.790Z"
   },
   {
    "duration": 72,
    "start_time": "2021-07-31T18:09:53.810Z"
   },
   {
    "duration": 14,
    "start_time": "2021-07-31T18:09:53.885Z"
   },
   {
    "duration": 19,
    "start_time": "2021-07-31T18:09:53.902Z"
   },
   {
    "duration": 40,
    "start_time": "2021-07-31T18:09:53.925Z"
   },
   {
    "duration": 13,
    "start_time": "2021-07-31T18:09:53.967Z"
   },
   {
    "duration": 12,
    "start_time": "2021-07-31T18:09:53.984Z"
   },
   {
    "duration": 58,
    "start_time": "2021-07-31T18:09:53.999Z"
   },
   {
    "duration": 1355,
    "start_time": "2021-07-31T18:09:54.060Z"
   },
   {
    "duration": 5,
    "start_time": "2021-07-31T18:09:55.420Z"
   },
   {
    "duration": 855,
    "start_time": "2021-07-31T18:09:55.427Z"
   },
   {
    "duration": 5,
    "start_time": "2021-07-31T18:09:56.285Z"
   },
   {
    "duration": 45,
    "start_time": "2021-07-31T18:09:56.292Z"
   },
   {
    "duration": 18,
    "start_time": "2021-07-31T18:09:56.355Z"
   },
   {
    "duration": 8,
    "start_time": "2021-07-31T18:09:56.375Z"
   },
   {
    "duration": 16,
    "start_time": "2021-07-31T18:09:56.388Z"
   },
   {
    "duration": 20,
    "start_time": "2021-07-31T18:09:56.406Z"
   },
   {
    "duration": 36,
    "start_time": "2021-07-31T18:09:56.428Z"
   },
   {
    "duration": 28,
    "start_time": "2021-07-31T18:09:56.467Z"
   },
   {
    "duration": 24,
    "start_time": "2021-07-31T18:09:56.497Z"
   },
   {
    "duration": 9,
    "start_time": "2021-07-31T18:09:56.523Z"
   },
   {
    "duration": 40,
    "start_time": "2021-07-31T18:09:56.534Z"
   },
   {
    "duration": 17,
    "start_time": "2021-07-31T18:09:56.577Z"
   },
   {
    "duration": 14,
    "start_time": "2021-07-31T18:09:56.597Z"
   },
   {
    "duration": 58,
    "start_time": "2021-07-31T18:09:56.613Z"
   },
   {
    "duration": 4,
    "start_time": "2021-07-31T18:09:56.674Z"
   },
   {
    "duration": 47,
    "start_time": "2021-07-31T18:09:56.681Z"
   },
   {
    "duration": 40,
    "start_time": "2021-07-31T18:09:56.731Z"
   },
   {
    "duration": 31,
    "start_time": "2021-07-31T18:09:56.774Z"
   },
   {
    "duration": 15,
    "start_time": "2021-07-31T18:09:56.808Z"
   },
   {
    "duration": 58,
    "start_time": "2021-07-31T18:09:56.826Z"
   },
   {
    "duration": 10,
    "start_time": "2021-07-31T18:11:27.233Z"
   },
   {
    "duration": 8,
    "start_time": "2021-07-31T18:11:54.785Z"
   },
   {
    "duration": 6,
    "start_time": "2021-07-31T18:12:54.397Z"
   },
   {
    "duration": 49,
    "start_time": "2021-07-31T18:13:39.225Z"
   },
   {
    "duration": 7,
    "start_time": "2021-07-31T18:18:58.594Z"
   },
   {
    "duration": 31,
    "start_time": "2021-07-31T18:20:15.604Z"
   },
   {
    "duration": 852,
    "start_time": "2021-07-31T18:20:32.649Z"
   },
   {
    "duration": 32,
    "start_time": "2021-07-31T18:20:33.505Z"
   },
   {
    "duration": 26,
    "start_time": "2021-07-31T18:20:33.540Z"
   },
   {
    "duration": 32,
    "start_time": "2021-07-31T18:20:33.570Z"
   },
   {
    "duration": 68,
    "start_time": "2021-07-31T18:20:33.605Z"
   },
   {
    "duration": 36,
    "start_time": "2021-07-31T18:20:33.675Z"
   },
   {
    "duration": 68,
    "start_time": "2021-07-31T18:20:33.713Z"
   },
   {
    "duration": 18,
    "start_time": "2021-07-31T18:20:33.784Z"
   },
   {
    "duration": 19,
    "start_time": "2021-07-31T18:20:33.805Z"
   },
   {
    "duration": 55,
    "start_time": "2021-07-31T18:20:33.827Z"
   },
   {
    "duration": 11,
    "start_time": "2021-07-31T18:20:33.885Z"
   },
   {
    "duration": 18,
    "start_time": "2021-07-31T18:20:33.899Z"
   },
   {
    "duration": 49,
    "start_time": "2021-07-31T18:20:33.920Z"
   },
   {
    "duration": 17,
    "start_time": "2021-07-31T18:20:33.974Z"
   },
   {
    "duration": 16,
    "start_time": "2021-07-31T18:20:33.994Z"
   },
   {
    "duration": 60,
    "start_time": "2021-07-31T18:20:34.013Z"
   },
   {
    "duration": 1000,
    "start_time": "2021-07-31T18:20:34.076Z"
   },
   {
    "duration": 5,
    "start_time": "2021-07-31T18:20:35.079Z"
   },
   {
    "duration": 824,
    "start_time": "2021-07-31T18:20:35.086Z"
   },
   {
    "duration": 6,
    "start_time": "2021-07-31T18:20:35.914Z"
   },
   {
    "duration": 70,
    "start_time": "2021-07-31T18:20:35.923Z"
   },
   {
    "duration": 8,
    "start_time": "2021-07-31T18:20:35.996Z"
   },
   {
    "duration": 7,
    "start_time": "2021-07-31T18:20:36.007Z"
   },
   {
    "duration": 43,
    "start_time": "2021-07-31T18:20:36.016Z"
   },
   {
    "duration": 18,
    "start_time": "2021-07-31T18:20:36.062Z"
   },
   {
    "duration": 4,
    "start_time": "2021-07-31T18:20:36.082Z"
   },
   {
    "duration": 31,
    "start_time": "2021-07-31T18:20:36.090Z"
   },
   {
    "duration": 54,
    "start_time": "2021-07-31T18:20:36.124Z"
   },
   {
    "duration": 10,
    "start_time": "2021-07-31T18:20:36.180Z"
   },
   {
    "duration": 28,
    "start_time": "2021-07-31T18:20:36.193Z"
   },
   {
    "duration": 46,
    "start_time": "2021-07-31T18:20:36.224Z"
   },
   {
    "duration": 15,
    "start_time": "2021-07-31T18:20:36.272Z"
   },
   {
    "duration": 26,
    "start_time": "2021-07-31T18:20:36.289Z"
   },
   {
    "duration": 5,
    "start_time": "2021-07-31T18:20:36.317Z"
   },
   {
    "duration": 64,
    "start_time": "2021-07-31T18:20:36.324Z"
   },
   {
    "duration": 16,
    "start_time": "2021-07-31T18:20:36.390Z"
   },
   {
    "duration": 23,
    "start_time": "2021-07-31T18:20:36.408Z"
   },
   {
    "duration": 40,
    "start_time": "2021-07-31T18:20:36.433Z"
   },
   {
    "duration": 27,
    "start_time": "2021-07-31T18:20:36.475Z"
   },
   {
    "duration": 20,
    "start_time": "2021-07-31T18:26:07.716Z"
   },
   {
    "duration": 6978,
    "start_time": "2021-07-31T18:32:37.064Z"
   },
   {
    "duration": 10,
    "start_time": "2021-07-31T18:32:46.130Z"
   },
   {
    "duration": 6,
    "start_time": "2021-07-31T18:33:58.523Z"
   },
   {
    "duration": 6,
    "start_time": "2021-07-31T18:35:01.544Z"
   },
   {
    "duration": 5,
    "start_time": "2021-07-31T18:50:22.147Z"
   },
   {
    "duration": 25,
    "start_time": "2021-07-31T18:51:40.690Z"
   },
   {
    "duration": 25,
    "start_time": "2021-07-31T18:52:27.243Z"
   },
   {
    "duration": 107,
    "start_time": "2021-07-31T18:53:16.409Z"
   },
   {
    "duration": 46,
    "start_time": "2021-07-31T18:53:34.009Z"
   },
   {
    "duration": 785,
    "start_time": "2021-07-31T18:55:30.860Z"
   },
   {
    "duration": 28,
    "start_time": "2021-07-31T18:55:31.647Z"
   },
   {
    "duration": 9,
    "start_time": "2021-07-31T18:55:31.678Z"
   },
   {
    "duration": 30,
    "start_time": "2021-07-31T18:55:31.689Z"
   },
   {
    "duration": 16,
    "start_time": "2021-07-31T18:55:31.721Z"
   },
   {
    "duration": 18,
    "start_time": "2021-07-31T18:55:31.739Z"
   },
   {
    "duration": 12,
    "start_time": "2021-07-31T18:55:31.759Z"
   },
   {
    "duration": 97,
    "start_time": "2021-07-31T18:55:31.775Z"
   },
   {
    "duration": 32,
    "start_time": "2021-07-31T18:55:31.875Z"
   },
   {
    "duration": 78,
    "start_time": "2021-07-31T18:55:31.909Z"
   },
   {
    "duration": 35,
    "start_time": "2021-07-31T18:55:31.989Z"
   },
   {
    "duration": 40,
    "start_time": "2021-07-31T18:55:32.027Z"
   },
   {
    "duration": 22,
    "start_time": "2021-07-31T18:55:32.070Z"
   },
   {
    "duration": 71,
    "start_time": "2021-07-31T18:55:32.095Z"
   },
   {
    "duration": 10,
    "start_time": "2021-07-31T18:55:32.168Z"
   },
   {
    "duration": 13,
    "start_time": "2021-07-31T18:55:32.180Z"
   },
   {
    "duration": 11,
    "start_time": "2021-07-31T18:55:32.195Z"
   },
   {
    "duration": 13,
    "start_time": "2021-07-31T18:55:32.209Z"
   },
   {
    "duration": 13,
    "start_time": "2021-07-31T18:55:32.257Z"
   },
   {
    "duration": 29,
    "start_time": "2021-07-31T18:55:32.272Z"
   },
   {
    "duration": 901,
    "start_time": "2021-07-31T18:55:32.304Z"
   },
   {
    "duration": 6,
    "start_time": "2021-07-31T18:55:33.207Z"
   },
   {
    "duration": 749,
    "start_time": "2021-07-31T18:55:33.218Z"
   },
   {
    "duration": 5,
    "start_time": "2021-07-31T18:55:33.970Z"
   },
   {
    "duration": 47,
    "start_time": "2021-07-31T18:55:33.977Z"
   },
   {
    "duration": 31,
    "start_time": "2021-07-31T18:55:34.026Z"
   },
   {
    "duration": 12,
    "start_time": "2021-07-31T18:55:34.059Z"
   },
   {
    "duration": 27,
    "start_time": "2021-07-31T18:55:34.074Z"
   },
   {
    "duration": 24,
    "start_time": "2021-07-31T18:55:34.103Z"
   },
   {
    "duration": 4,
    "start_time": "2021-07-31T18:55:34.129Z"
   },
   {
    "duration": 39,
    "start_time": "2021-07-31T18:55:34.135Z"
   },
   {
    "duration": 33,
    "start_time": "2021-07-31T18:55:34.177Z"
   },
   {
    "duration": 11,
    "start_time": "2021-07-31T18:55:34.212Z"
   },
   {
    "duration": 36,
    "start_time": "2021-07-31T18:55:34.226Z"
   },
   {
    "duration": 19,
    "start_time": "2021-07-31T18:55:34.265Z"
   },
   {
    "duration": 15,
    "start_time": "2021-07-31T18:55:34.287Z"
   },
   {
    "duration": 56,
    "start_time": "2021-07-31T18:55:34.305Z"
   },
   {
    "duration": 6,
    "start_time": "2021-07-31T18:55:34.364Z"
   },
   {
    "duration": 31,
    "start_time": "2021-07-31T18:55:34.372Z"
   },
   {
    "duration": 16,
    "start_time": "2021-07-31T18:55:34.406Z"
   },
   {
    "duration": 22,
    "start_time": "2021-07-31T18:55:34.457Z"
   },
   {
    "duration": 11,
    "start_time": "2021-07-31T18:55:34.482Z"
   },
   {
    "duration": 30,
    "start_time": "2021-07-31T18:55:34.496Z"
   },
   {
    "duration": 412,
    "start_time": "2021-07-31T19:05:48.700Z"
   },
   {
    "duration": 37,
    "start_time": "2021-07-31T19:07:36.655Z"
   },
   {
    "duration": 800,
    "start_time": "2021-07-31T19:08:03.316Z"
   },
   {
    "duration": 28,
    "start_time": "2021-07-31T19:08:04.118Z"
   },
   {
    "duration": 6,
    "start_time": "2021-07-31T19:08:04.157Z"
   },
   {
    "duration": 21,
    "start_time": "2021-07-31T19:08:04.165Z"
   },
   {
    "duration": 9,
    "start_time": "2021-07-31T19:08:04.188Z"
   },
   {
    "duration": 11,
    "start_time": "2021-07-31T19:08:04.199Z"
   },
   {
    "duration": 43,
    "start_time": "2021-07-31T19:08:04.213Z"
   },
   {
    "duration": 39,
    "start_time": "2021-07-31T19:08:04.260Z"
   },
   {
    "duration": 55,
    "start_time": "2021-07-31T19:08:04.302Z"
   },
   {
    "duration": 31,
    "start_time": "2021-07-31T19:08:04.360Z"
   },
   {
    "duration": 33,
    "start_time": "2021-07-31T19:08:04.394Z"
   },
   {
    "duration": 45,
    "start_time": "2021-07-31T19:08:04.429Z"
   },
   {
    "duration": 34,
    "start_time": "2021-07-31T19:08:04.476Z"
   },
   {
    "duration": 44,
    "start_time": "2021-07-31T19:08:04.513Z"
   },
   {
    "duration": 10,
    "start_time": "2021-07-31T19:08:04.559Z"
   },
   {
    "duration": 29,
    "start_time": "2021-07-31T19:08:04.572Z"
   },
   {
    "duration": 18,
    "start_time": "2021-07-31T19:08:04.604Z"
   },
   {
    "duration": 25,
    "start_time": "2021-07-31T19:08:04.624Z"
   },
   {
    "duration": 26,
    "start_time": "2021-07-31T19:08:04.651Z"
   },
   {
    "duration": 36,
    "start_time": "2021-07-31T19:08:04.679Z"
   },
   {
    "duration": 919,
    "start_time": "2021-07-31T19:08:04.717Z"
   },
   {
    "duration": 5,
    "start_time": "2021-07-31T19:08:05.639Z"
   },
   {
    "duration": 773,
    "start_time": "2021-07-31T19:08:05.659Z"
   },
   {
    "duration": 4,
    "start_time": "2021-07-31T19:08:06.435Z"
   },
   {
    "duration": 57,
    "start_time": "2021-07-31T19:08:06.441Z"
   },
   {
    "duration": 10,
    "start_time": "2021-07-31T19:08:06.500Z"
   },
   {
    "duration": 8,
    "start_time": "2021-07-31T19:08:06.512Z"
   },
   {
    "duration": 36,
    "start_time": "2021-07-31T19:08:06.522Z"
   },
   {
    "duration": 19,
    "start_time": "2021-07-31T19:08:06.560Z"
   },
   {
    "duration": 4,
    "start_time": "2021-07-31T19:08:06.582Z"
   },
   {
    "duration": 28,
    "start_time": "2021-07-31T19:08:06.588Z"
   },
   {
    "duration": 49,
    "start_time": "2021-07-31T19:08:06.618Z"
   },
   {
    "duration": 10,
    "start_time": "2021-07-31T19:08:06.670Z"
   },
   {
    "duration": 21,
    "start_time": "2021-07-31T19:08:06.682Z"
   },
   {
    "duration": 52,
    "start_time": "2021-07-31T19:08:06.706Z"
   },
   {
    "duration": 14,
    "start_time": "2021-07-31T19:08:06.760Z"
   },
   {
    "duration": 19,
    "start_time": "2021-07-31T19:08:06.776Z"
   },
   {
    "duration": 5,
    "start_time": "2021-07-31T19:08:06.797Z"
   },
   {
    "duration": 59,
    "start_time": "2021-07-31T19:08:06.804Z"
   },
   {
    "duration": 20,
    "start_time": "2021-07-31T19:08:06.865Z"
   },
   {
    "duration": 21,
    "start_time": "2021-07-31T19:08:06.887Z"
   },
   {
    "duration": 11,
    "start_time": "2021-07-31T19:08:06.910Z"
   },
   {
    "duration": 23,
    "start_time": "2021-07-31T19:08:06.955Z"
   },
   {
    "duration": 757,
    "start_time": "2021-07-31T19:16:49.085Z"
   },
   {
    "duration": 30,
    "start_time": "2021-07-31T19:16:53.162Z"
   },
   {
    "duration": 6,
    "start_time": "2021-07-31T19:16:57.926Z"
   },
   {
    "duration": 20,
    "start_time": "2021-07-31T19:17:04.383Z"
   },
   {
    "duration": 7,
    "start_time": "2021-07-31T19:17:07.910Z"
   },
   {
    "duration": 7,
    "start_time": "2021-07-31T19:17:13.160Z"
   },
   {
    "duration": 6,
    "start_time": "2021-07-31T19:17:18.098Z"
   },
   {
    "duration": 66,
    "start_time": "2021-07-31T19:17:23.022Z"
   },
   {
    "duration": 14,
    "start_time": "2021-07-31T19:28:04.944Z"
   },
   {
    "duration": 13,
    "start_time": "2021-07-31T19:28:43.158Z"
   },
   {
    "duration": 12,
    "start_time": "2021-07-31T19:28:56.562Z"
   },
   {
    "duration": 34,
    "start_time": "2021-07-31T19:31:20.982Z"
   },
   {
    "duration": 33,
    "start_time": "2021-07-31T19:35:18.515Z"
   },
   {
    "duration": 17,
    "start_time": "2021-07-31T19:38:59.773Z"
   },
   {
    "duration": 34,
    "start_time": "2021-07-31T19:41:39.712Z"
   },
   {
    "duration": 40,
    "start_time": "2021-07-31T20:32:17.337Z"
   },
   {
    "duration": 34,
    "start_time": "2021-07-31T20:32:46.571Z"
   },
   {
    "duration": 35,
    "start_time": "2021-07-31T21:10:56.994Z"
   },
   {
    "duration": 20,
    "start_time": "2021-07-31T21:11:10.234Z"
   },
   {
    "duration": 14,
    "start_time": "2021-07-31T21:11:44.496Z"
   },
   {
    "duration": 7,
    "start_time": "2021-07-31T21:22:46.152Z"
   },
   {
    "duration": 11,
    "start_time": "2021-07-31T21:28:15.797Z"
   },
   {
    "duration": 20,
    "start_time": "2021-07-31T21:29:45.806Z"
   },
   {
    "duration": 6,
    "start_time": "2021-07-31T21:46:12.631Z"
   },
   {
    "duration": 8,
    "start_time": "2021-07-31T21:46:26.307Z"
   },
   {
    "duration": 16,
    "start_time": "2021-07-31T21:47:22.406Z"
   },
   {
    "duration": 186,
    "start_time": "2021-07-31T22:04:34.145Z"
   },
   {
    "duration": 47,
    "start_time": "2021-07-31T22:12:34.767Z"
   },
   {
    "duration": 7,
    "start_time": "2021-07-31T22:37:23.965Z"
   },
   {
    "duration": 6,
    "start_time": "2021-07-31T22:37:40.601Z"
   },
   {
    "duration": 7,
    "start_time": "2021-07-31T22:38:35.798Z"
   },
   {
    "duration": 119,
    "start_time": "2021-07-31T22:45:45.329Z"
   },
   {
    "duration": 16,
    "start_time": "2021-07-31T22:46:05.452Z"
   },
   {
    "duration": 13,
    "start_time": "2021-07-31T22:46:45.937Z"
   },
   {
    "duration": 15,
    "start_time": "2021-07-31T22:50:52.955Z"
   },
   {
    "duration": 797,
    "start_time": "2021-07-31T22:51:11.190Z"
   },
   {
    "duration": 26,
    "start_time": "2021-07-31T22:51:11.990Z"
   },
   {
    "duration": 11,
    "start_time": "2021-07-31T22:51:12.019Z"
   },
   {
    "duration": 36,
    "start_time": "2021-07-31T22:51:12.059Z"
   },
   {
    "duration": 31,
    "start_time": "2021-07-31T22:51:12.097Z"
   },
   {
    "duration": 74,
    "start_time": "2021-07-31T22:51:12.131Z"
   },
   {
    "duration": 20,
    "start_time": "2021-07-31T22:51:12.208Z"
   },
   {
    "duration": 26,
    "start_time": "2021-07-31T22:51:12.231Z"
   },
   {
    "duration": 19,
    "start_time": "2021-07-31T22:51:12.261Z"
   },
   {
    "duration": 17,
    "start_time": "2021-07-31T22:51:12.282Z"
   },
   {
    "duration": 86,
    "start_time": "2021-07-31T22:51:12.301Z"
   },
   {
    "duration": 20264,
    "start_time": "2021-07-31T22:50:52.126Z"
   },
   {
    "duration": 20253,
    "start_time": "2021-07-31T22:50:52.139Z"
   },
   {
    "duration": 20247,
    "start_time": "2021-07-31T22:50:52.146Z"
   },
   {
    "duration": 20241,
    "start_time": "2021-07-31T22:50:52.154Z"
   },
   {
    "duration": 20237,
    "start_time": "2021-07-31T22:50:52.159Z"
   },
   {
    "duration": 20232,
    "start_time": "2021-07-31T22:50:52.166Z"
   },
   {
    "duration": 20228,
    "start_time": "2021-07-31T22:50:52.171Z"
   },
   {
    "duration": 20223,
    "start_time": "2021-07-31T22:50:52.178Z"
   },
   {
    "duration": 20216,
    "start_time": "2021-07-31T22:50:52.186Z"
   },
   {
    "duration": 20212,
    "start_time": "2021-07-31T22:50:52.192Z"
   },
   {
    "duration": 20208,
    "start_time": "2021-07-31T22:50:52.197Z"
   },
   {
    "duration": 20205,
    "start_time": "2021-07-31T22:50:52.202Z"
   },
   {
    "duration": 20201,
    "start_time": "2021-07-31T22:50:52.207Z"
   },
   {
    "duration": 20142,
    "start_time": "2021-07-31T22:50:52.268Z"
   },
   {
    "duration": 20134,
    "start_time": "2021-07-31T22:50:52.277Z"
   },
   {
    "duration": 20125,
    "start_time": "2021-07-31T22:50:52.288Z"
   },
   {
    "duration": 20122,
    "start_time": "2021-07-31T22:50:52.292Z"
   },
   {
    "duration": 20112,
    "start_time": "2021-07-31T22:50:52.304Z"
   },
   {
    "duration": 20108,
    "start_time": "2021-07-31T22:50:52.309Z"
   },
   {
    "duration": 20101,
    "start_time": "2021-07-31T22:50:52.318Z"
   },
   {
    "duration": 20096,
    "start_time": "2021-07-31T22:50:52.324Z"
   },
   {
    "duration": 20086,
    "start_time": "2021-07-31T22:50:52.336Z"
   },
   {
    "duration": 20076,
    "start_time": "2021-07-31T22:50:52.347Z"
   },
   {
    "duration": 20072,
    "start_time": "2021-07-31T22:50:52.353Z"
   },
   {
    "duration": 20068,
    "start_time": "2021-07-31T22:50:52.358Z"
   },
   {
    "duration": 20050,
    "start_time": "2021-07-31T22:50:52.378Z"
   },
   {
    "duration": 20039,
    "start_time": "2021-07-31T22:50:52.390Z"
   },
   {
    "duration": 20055,
    "start_time": "2021-07-31T22:50:52.402Z"
   },
   {
    "duration": 20049,
    "start_time": "2021-07-31T22:50:52.410Z"
   },
   {
    "duration": 20008,
    "start_time": "2021-07-31T22:50:52.452Z"
   },
   {
    "duration": 20004,
    "start_time": "2021-07-31T22:50:52.457Z"
   },
   {
    "duration": 19999,
    "start_time": "2021-07-31T22:50:52.469Z"
   },
   {
    "duration": 106,
    "start_time": "2021-07-31T22:54:38.424Z"
   },
   {
    "duration": 49,
    "start_time": "2021-07-31T22:55:49.960Z"
   },
   {
    "duration": 21,
    "start_time": "2021-07-31T23:08:47.792Z"
   },
   {
    "duration": 15,
    "start_time": "2021-07-31T23:10:31.340Z"
   },
   {
    "duration": 31,
    "start_time": "2021-07-31T23:25:06.163Z"
   },
   {
    "duration": 10,
    "start_time": "2021-07-31T23:25:43.097Z"
   },
   {
    "duration": 10,
    "start_time": "2021-07-31T23:25:49.375Z"
   },
   {
    "duration": 14,
    "start_time": "2021-07-31T23:25:53.375Z"
   },
   {
    "duration": 9,
    "start_time": "2021-07-31T23:26:00.424Z"
   },
   {
    "duration": 825,
    "start_time": "2021-08-01T18:23:54.307Z"
   },
   {
    "duration": 29,
    "start_time": "2021-08-01T18:23:55.134Z"
   },
   {
    "duration": 18,
    "start_time": "2021-08-01T18:23:55.166Z"
   },
   {
    "duration": 34,
    "start_time": "2021-08-01T18:23:55.187Z"
   },
   {
    "duration": 63,
    "start_time": "2021-08-01T18:23:55.223Z"
   },
   {
    "duration": 33,
    "start_time": "2021-08-01T18:23:55.289Z"
   },
   {
    "duration": 40,
    "start_time": "2021-08-01T18:23:55.325Z"
   },
   {
    "duration": 4,
    "start_time": "2021-08-01T18:23:55.369Z"
   },
   {
    "duration": 20,
    "start_time": "2021-08-01T18:23:55.375Z"
   },
   {
    "duration": 15,
    "start_time": "2021-08-01T18:23:55.398Z"
   },
   {
    "duration": 85,
    "start_time": "2021-08-01T18:23:55.415Z"
   },
   {
    "duration": 14,
    "start_time": "2021-08-01T18:23:55.502Z"
   },
   {
    "duration": 47,
    "start_time": "2021-08-01T18:23:55.519Z"
   },
   {
    "duration": 34,
    "start_time": "2021-08-01T18:23:55.568Z"
   },
   {
    "duration": 9,
    "start_time": "2021-08-01T18:23:55.604Z"
   },
   {
    "duration": 42,
    "start_time": "2021-08-01T18:23:55.615Z"
   },
   {
    "duration": 19,
    "start_time": "2021-08-01T18:23:55.659Z"
   },
   {
    "duration": 26,
    "start_time": "2021-08-01T18:23:55.680Z"
   },
   {
    "duration": 19,
    "start_time": "2021-08-01T18:23:55.708Z"
   },
   {
    "duration": 32,
    "start_time": "2021-08-01T18:23:55.730Z"
   },
   {
    "duration": 919,
    "start_time": "2021-08-01T18:23:55.765Z"
   },
   {
    "duration": 6,
    "start_time": "2021-08-01T18:23:56.687Z"
   },
   {
    "duration": 790,
    "start_time": "2021-08-01T18:23:56.699Z"
   },
   {
    "duration": 5,
    "start_time": "2021-08-01T18:23:57.492Z"
   },
   {
    "duration": 60,
    "start_time": "2021-08-01T18:23:57.500Z"
   },
   {
    "duration": 10,
    "start_time": "2021-08-01T18:23:57.563Z"
   },
   {
    "duration": 13,
    "start_time": "2021-08-01T18:23:57.576Z"
   },
   {
    "duration": 18,
    "start_time": "2021-08-01T18:23:57.592Z"
   },
   {
    "duration": 23,
    "start_time": "2021-08-01T18:23:57.612Z"
   },
   {
    "duration": 4,
    "start_time": "2021-08-01T18:23:57.653Z"
   },
   {
    "duration": 27,
    "start_time": "2021-08-01T18:23:57.659Z"
   },
   {
    "duration": 24,
    "start_time": "2021-08-01T18:23:57.689Z"
   },
   {
    "duration": 11,
    "start_time": "2021-08-01T18:23:57.716Z"
   },
   {
    "duration": 41,
    "start_time": "2021-08-01T18:23:57.730Z"
   },
   {
    "duration": 20,
    "start_time": "2021-08-01T18:23:57.774Z"
   },
   {
    "duration": 61,
    "start_time": "2021-08-01T18:23:57.797Z"
   },
   {
    "duration": 24,
    "start_time": "2021-08-01T18:23:57.861Z"
   },
   {
    "duration": 5,
    "start_time": "2021-08-01T18:23:57.888Z"
   },
   {
    "duration": 38,
    "start_time": "2021-08-01T18:23:57.896Z"
   },
   {
    "duration": 16,
    "start_time": "2021-08-01T18:23:57.954Z"
   },
   {
    "duration": 22,
    "start_time": "2021-08-01T18:23:57.972Z"
   },
   {
    "duration": 12,
    "start_time": "2021-08-01T18:23:57.997Z"
   },
   {
    "duration": 59,
    "start_time": "2021-08-01T18:23:58.011Z"
   },
   {
    "duration": 96,
    "start_time": "2021-08-01T18:34:44.654Z"
   },
   {
    "duration": 794,
    "start_time": "2021-08-01T18:38:12.279Z"
   },
   {
    "duration": 29,
    "start_time": "2021-08-01T18:38:13.075Z"
   },
   {
    "duration": 14,
    "start_time": "2021-08-01T18:38:13.107Z"
   },
   {
    "duration": 57,
    "start_time": "2021-08-01T18:38:13.124Z"
   },
   {
    "duration": 35,
    "start_time": "2021-08-01T18:38:13.183Z"
   },
   {
    "duration": 59,
    "start_time": "2021-08-01T18:38:13.220Z"
   },
   {
    "duration": 20,
    "start_time": "2021-08-01T18:38:13.281Z"
   },
   {
    "duration": 4,
    "start_time": "2021-08-01T18:38:13.305Z"
   },
   {
    "duration": 45,
    "start_time": "2021-08-01T18:38:13.311Z"
   },
   {
    "duration": 17,
    "start_time": "2021-08-01T18:38:13.358Z"
   },
   {
    "duration": 77,
    "start_time": "2021-08-01T18:38:13.377Z"
   },
   {
    "duration": 13,
    "start_time": "2021-08-01T18:38:13.456Z"
   },
   {
    "duration": 14,
    "start_time": "2021-08-01T18:38:13.471Z"
   },
   {
    "duration": 30,
    "start_time": "2021-08-01T18:38:13.487Z"
   },
   {
    "duration": 41,
    "start_time": "2021-08-01T18:38:13.520Z"
   },
   {
    "duration": 13,
    "start_time": "2021-08-01T18:38:13.564Z"
   },
   {
    "duration": 18,
    "start_time": "2021-08-01T18:38:13.579Z"
   },
   {
    "duration": 14,
    "start_time": "2021-08-01T18:38:13.600Z"
   },
   {
    "duration": 10,
    "start_time": "2021-08-01T18:38:13.616Z"
   },
   {
    "duration": 48,
    "start_time": "2021-08-01T18:38:13.628Z"
   },
   {
    "duration": 31,
    "start_time": "2021-08-01T18:41:08.378Z"
   },
   {
    "duration": 43,
    "start_time": "2021-08-01T18:41:43.614Z"
   },
   {
    "duration": 20,
    "start_time": "2021-08-01T18:42:46.003Z"
   },
   {
    "duration": 41,
    "start_time": "2021-08-01T18:42:58.624Z"
   },
   {
    "duration": 359,
    "start_time": "2021-08-01T18:43:58.611Z"
   },
   {
    "duration": 33,
    "start_time": "2021-08-01T18:44:11.416Z"
   },
   {
    "duration": 32,
    "start_time": "2021-08-01T18:46:09.484Z"
   },
   {
    "duration": 30,
    "start_time": "2021-08-01T18:46:30.674Z"
   },
   {
    "duration": 288,
    "start_time": "2021-08-01T18:47:15.862Z"
   },
   {
    "duration": 24,
    "start_time": "2021-08-01T18:50:06.550Z"
   },
   {
    "duration": 44,
    "start_time": "2021-08-01T18:51:01.343Z"
   },
   {
    "duration": 45,
    "start_time": "2021-08-01T18:51:19.357Z"
   },
   {
    "duration": 100,
    "start_time": "2021-08-01T18:53:16.060Z"
   },
   {
    "duration": 35,
    "start_time": "2021-08-01T18:53:49.893Z"
   },
   {
    "duration": 884,
    "start_time": "2021-08-01T18:56:34.134Z"
   },
   {
    "duration": 36,
    "start_time": "2021-08-01T18:56:35.021Z"
   },
   {
    "duration": 39,
    "start_time": "2021-08-01T18:56:41.841Z"
   },
   {
    "duration": 94,
    "start_time": "2021-08-01T18:58:15.479Z"
   },
   {
    "duration": 23,
    "start_time": "2021-08-01T18:58:33.941Z"
   },
   {
    "duration": 22,
    "start_time": "2021-08-01T18:59:55.168Z"
   },
   {
    "duration": 55,
    "start_time": "2021-08-01T19:00:09.209Z"
   },
   {
    "duration": 1890,
    "start_time": "2021-08-01T19:01:29.803Z"
   },
   {
    "duration": 1173,
    "start_time": "2021-08-01T19:01:54.682Z"
   },
   {
    "duration": 1084,
    "start_time": "2021-08-01T19:02:05.855Z"
   },
   {
    "duration": 52,
    "start_time": "2021-08-01T19:02:37.419Z"
   },
   {
    "duration": 55,
    "start_time": "2021-08-01T19:02:57.966Z"
   },
   {
    "duration": 55,
    "start_time": "2021-08-01T19:03:15.920Z"
   },
   {
    "duration": 23,
    "start_time": "2021-08-01T19:03:41.217Z"
   },
   {
    "duration": 71,
    "start_time": "2021-08-01T19:04:07.156Z"
   },
   {
    "duration": 25,
    "start_time": "2021-08-01T19:04:07.230Z"
   },
   {
    "duration": 24,
    "start_time": "2021-08-01T19:04:07.259Z"
   },
   {
    "duration": 12,
    "start_time": "2021-08-01T19:04:07.286Z"
   },
   {
    "duration": 64,
    "start_time": "2021-08-01T19:04:07.301Z"
   },
   {
    "duration": 35,
    "start_time": "2021-08-01T19:04:07.367Z"
   },
   {
    "duration": 106,
    "start_time": "2021-08-01T19:06:15.729Z"
   },
   {
    "duration": 43,
    "start_time": "2021-08-01T19:06:15.839Z"
   },
   {
    "duration": 22,
    "start_time": "2021-08-01T19:06:15.885Z"
   },
   {
    "duration": 46,
    "start_time": "2021-08-01T19:06:15.910Z"
   },
   {
    "duration": 37,
    "start_time": "2021-08-01T19:06:15.959Z"
   },
   {
    "duration": 70,
    "start_time": "2021-08-01T19:06:15.999Z"
   },
   {
    "duration": 20,
    "start_time": "2021-08-01T19:06:16.072Z"
   },
   {
    "duration": 26,
    "start_time": "2021-08-01T19:06:16.096Z"
   },
   {
    "duration": 34,
    "start_time": "2021-08-01T19:06:16.125Z"
   },
   {
    "duration": 35,
    "start_time": "2021-08-01T19:06:16.161Z"
   },
   {
    "duration": 67,
    "start_time": "2021-08-01T19:06:16.199Z"
   },
   {
    "duration": 13,
    "start_time": "2021-08-01T19:06:16.269Z"
   },
   {
    "duration": 38,
    "start_time": "2021-08-01T19:06:16.284Z"
   },
   {
    "duration": 54,
    "start_time": "2021-08-01T19:06:16.325Z"
   },
   {
    "duration": 9,
    "start_time": "2021-08-01T19:06:16.382Z"
   },
   {
    "duration": 27,
    "start_time": "2021-08-01T19:06:16.394Z"
   },
   {
    "duration": 38,
    "start_time": "2021-08-01T19:06:16.423Z"
   },
   {
    "duration": 54,
    "start_time": "2021-08-01T19:06:16.464Z"
   },
   {
    "duration": 38,
    "start_time": "2021-08-01T19:06:16.520Z"
   },
   {
    "duration": 49,
    "start_time": "2021-08-01T19:06:16.560Z"
   },
   {
    "duration": 26,
    "start_time": "2021-08-01T19:08:56.296Z"
   },
   {
    "duration": 59,
    "start_time": "2021-08-01T19:15:20.292Z"
   },
   {
    "duration": 45,
    "start_time": "2021-08-01T19:15:48.371Z"
   },
   {
    "duration": 65,
    "start_time": "2021-08-01T19:16:15.554Z"
   },
   {
    "duration": 52,
    "start_time": "2021-08-01T19:16:35.184Z"
   },
   {
    "duration": 53,
    "start_time": "2021-08-01T19:18:28.831Z"
   },
   {
    "duration": 49,
    "start_time": "2021-08-01T19:39:17.195Z"
   },
   {
    "duration": 66,
    "start_time": "2021-08-01T19:41:09.781Z"
   },
   {
    "duration": 67,
    "start_time": "2021-08-01T19:41:28.988Z"
   },
   {
    "duration": 42,
    "start_time": "2021-08-01T19:43:21.104Z"
   },
   {
    "duration": 847,
    "start_time": "2021-08-01T20:08:01.325Z"
   },
   {
    "duration": 31,
    "start_time": "2021-08-01T20:08:02.175Z"
   },
   {
    "duration": 30,
    "start_time": "2021-08-01T20:08:02.209Z"
   },
   {
    "duration": 57,
    "start_time": "2021-08-01T20:08:02.242Z"
   },
   {
    "duration": 47,
    "start_time": "2021-08-01T20:08:02.302Z"
   },
   {
    "duration": 36,
    "start_time": "2021-08-01T20:08:02.352Z"
   },
   {
    "duration": 19,
    "start_time": "2021-08-01T20:08:02.390Z"
   },
   {
    "duration": 17,
    "start_time": "2021-08-01T20:08:02.411Z"
   },
   {
    "duration": 40,
    "start_time": "2021-08-01T20:08:02.432Z"
   },
   {
    "duration": 28,
    "start_time": "2021-08-01T20:08:02.475Z"
   },
   {
    "duration": 71,
    "start_time": "2021-08-01T20:08:02.506Z"
   },
   {
    "duration": 12,
    "start_time": "2021-08-01T20:08:02.579Z"
   },
   {
    "duration": 34,
    "start_time": "2021-08-01T20:08:02.594Z"
   },
   {
    "duration": 51,
    "start_time": "2021-08-01T20:08:02.630Z"
   },
   {
    "duration": 14,
    "start_time": "2021-08-01T20:08:02.683Z"
   },
   {
    "duration": 25,
    "start_time": "2021-08-01T20:08:02.699Z"
   },
   {
    "duration": 33,
    "start_time": "2021-08-01T20:08:02.726Z"
   },
   {
    "duration": 13,
    "start_time": "2021-08-01T20:08:02.763Z"
   },
   {
    "duration": 25,
    "start_time": "2021-08-01T20:08:02.778Z"
   },
   {
    "duration": 37,
    "start_time": "2021-08-01T20:08:02.806Z"
   },
   {
    "duration": 65,
    "start_time": "2021-08-01T20:08:02.854Z"
   },
   {
    "duration": 90,
    "start_time": "2021-08-01T20:08:02.921Z"
   },
   {
    "duration": 1076,
    "start_time": "2021-08-01T20:08:03.014Z"
   },
   {
    "duration": 5,
    "start_time": "2021-08-01T20:08:04.094Z"
   },
   {
    "duration": 913,
    "start_time": "2021-08-01T20:08:04.102Z"
   },
   {
    "duration": 5,
    "start_time": "2021-08-01T20:08:05.018Z"
   },
   {
    "duration": 69,
    "start_time": "2021-08-01T20:08:05.027Z"
   },
   {
    "duration": 10,
    "start_time": "2021-08-01T20:08:15.834Z"
   },
   {
    "duration": 9,
    "start_time": "2021-08-01T20:17:52.520Z"
   },
   {
    "duration": 543,
    "start_time": "2021-08-01T20:26:24.538Z"
   },
   {
    "duration": 20,
    "start_time": "2021-08-01T20:27:52.638Z"
   },
   {
    "duration": 288,
    "start_time": "2021-08-01T20:28:44.096Z"
   },
   {
    "duration": 4,
    "start_time": "2021-08-01T20:28:51.233Z"
   },
   {
    "duration": 23,
    "start_time": "2021-08-01T20:28:54.337Z"
   },
   {
    "duration": 310,
    "start_time": "2021-08-01T20:29:04.470Z"
   },
   {
    "duration": 8,
    "start_time": "2021-08-01T20:29:12.070Z"
   },
   {
    "duration": 23,
    "start_time": "2021-08-01T20:29:18.360Z"
   },
   {
    "duration": 870,
    "start_time": "2021-08-01T20:50:58.266Z"
   },
   {
    "duration": 36,
    "start_time": "2021-08-01T20:50:59.139Z"
   },
   {
    "duration": 12,
    "start_time": "2021-08-01T20:50:59.178Z"
   },
   {
    "duration": 35,
    "start_time": "2021-08-01T20:50:59.194Z"
   },
   {
    "duration": 38,
    "start_time": "2021-08-01T20:50:59.256Z"
   },
   {
    "duration": 74,
    "start_time": "2021-08-01T20:50:59.298Z"
   },
   {
    "duration": 21,
    "start_time": "2021-08-01T20:50:59.375Z"
   },
   {
    "duration": 6,
    "start_time": "2021-08-01T20:50:59.402Z"
   },
   {
    "duration": 46,
    "start_time": "2021-08-01T20:50:59.411Z"
   },
   {
    "duration": 21,
    "start_time": "2021-08-01T20:50:59.460Z"
   },
   {
    "duration": 81,
    "start_time": "2021-08-01T20:50:59.483Z"
   },
   {
    "duration": 18,
    "start_time": "2021-08-01T20:50:59.567Z"
   },
   {
    "duration": 25,
    "start_time": "2021-08-01T20:50:59.588Z"
   },
   {
    "duration": 65,
    "start_time": "2021-08-01T20:50:59.616Z"
   },
   {
    "duration": 11,
    "start_time": "2021-08-01T20:50:59.685Z"
   },
   {
    "duration": 20,
    "start_time": "2021-08-01T20:50:59.699Z"
   },
   {
    "duration": 45,
    "start_time": "2021-08-01T20:50:59.721Z"
   },
   {
    "duration": 25,
    "start_time": "2021-08-01T20:50:59.769Z"
   },
   {
    "duration": 17,
    "start_time": "2021-08-01T20:50:59.796Z"
   },
   {
    "duration": 35,
    "start_time": "2021-08-01T20:50:59.816Z"
   },
   {
    "duration": 58,
    "start_time": "2021-08-01T20:50:59.855Z"
   },
   {
    "duration": 92,
    "start_time": "2021-08-01T20:50:59.916Z"
   },
   {
    "duration": 995,
    "start_time": "2021-08-01T20:51:00.012Z"
   },
   {
    "duration": 6,
    "start_time": "2021-08-01T20:51:01.011Z"
   },
   {
    "duration": 806,
    "start_time": "2021-08-01T20:51:01.020Z"
   },
   {
    "duration": 7,
    "start_time": "2021-08-01T20:51:01.829Z"
   },
   {
    "duration": 69,
    "start_time": "2021-08-01T20:51:01.838Z"
   },
   {
    "duration": 10,
    "start_time": "2021-08-01T20:51:01.910Z"
   },
   {
    "duration": 29,
    "start_time": "2021-08-01T20:51:01.923Z"
   },
   {
    "duration": 28,
    "start_time": "2021-08-01T20:51:01.955Z"
   },
   {
    "duration": 11,
    "start_time": "2021-08-01T20:51:01.986Z"
   },
   {
    "duration": 27,
    "start_time": "2021-08-01T20:51:08.144Z"
   },
   {
    "duration": 11,
    "start_time": "2021-08-01T20:53:41.666Z"
   },
   {
    "duration": 17,
    "start_time": "2021-08-01T20:53:52.913Z"
   },
   {
    "duration": 23,
    "start_time": "2021-08-01T20:57:50.878Z"
   },
   {
    "duration": 5,
    "start_time": "2021-08-01T20:59:36.203Z"
   },
   {
    "duration": 30,
    "start_time": "2021-08-01T21:00:06.386Z"
   },
   {
    "duration": 19,
    "start_time": "2021-08-01T21:07:52.450Z"
   },
   {
    "duration": 526,
    "start_time": "2021-08-01T21:08:28.059Z"
   },
   {
    "duration": 19,
    "start_time": "2021-08-01T21:08:37.700Z"
   },
   {
    "duration": 19,
    "start_time": "2021-08-01T21:08:58.534Z"
   },
   {
    "duration": 22,
    "start_time": "2021-08-01T21:09:28.045Z"
   },
   {
    "duration": 21,
    "start_time": "2021-08-01T21:09:50.594Z"
   },
   {
    "duration": 19,
    "start_time": "2021-08-01T21:11:14.120Z"
   },
   {
    "duration": 19,
    "start_time": "2021-08-01T21:11:24.138Z"
   },
   {
    "duration": 18,
    "start_time": "2021-08-01T21:11:36.160Z"
   },
   {
    "duration": 17,
    "start_time": "2021-08-01T21:12:01.561Z"
   },
   {
    "duration": 17,
    "start_time": "2021-08-01T21:12:40.098Z"
   },
   {
    "duration": 16,
    "start_time": "2021-08-01T21:13:02.074Z"
   },
   {
    "duration": 276,
    "start_time": "2021-08-01T21:13:28.224Z"
   },
   {
    "duration": 14,
    "start_time": "2021-08-01T21:13:39.238Z"
   },
   {
    "duration": 284,
    "start_time": "2021-08-01T21:14:11.861Z"
   },
   {
    "duration": 284,
    "start_time": "2021-08-01T21:14:27.396Z"
   },
   {
    "duration": 19,
    "start_time": "2021-08-01T21:16:33.072Z"
   },
   {
    "duration": 26,
    "start_time": "2021-08-01T21:21:45.621Z"
   },
   {
    "duration": 27,
    "start_time": "2021-08-01T21:24:00.945Z"
   },
   {
    "duration": 28,
    "start_time": "2021-08-01T21:24:11.200Z"
   },
   {
    "duration": 19,
    "start_time": "2021-08-01T21:25:37.233Z"
   },
   {
    "duration": 18,
    "start_time": "2021-08-01T21:26:15.475Z"
   },
   {
    "duration": 278,
    "start_time": "2021-08-01T21:26:21.983Z"
   },
   {
    "duration": 8,
    "start_time": "2021-08-01T21:26:43.215Z"
   },
   {
    "duration": 12,
    "start_time": "2021-08-01T21:26:49.491Z"
   },
   {
    "duration": 29,
    "start_time": "2021-08-01T21:26:51.794Z"
   },
   {
    "duration": 13,
    "start_time": "2021-08-01T21:27:33.717Z"
   },
   {
    "duration": 23,
    "start_time": "2021-08-01T21:27:37.703Z"
   },
   {
    "duration": 6,
    "start_time": "2021-08-01T22:00:42.014Z"
   },
   {
    "duration": 7,
    "start_time": "2021-08-01T22:00:56.401Z"
   },
   {
    "duration": 7,
    "start_time": "2021-08-01T22:06:01.267Z"
   },
   {
    "duration": 8,
    "start_time": "2021-08-01T22:06:16.730Z"
   },
   {
    "duration": 5,
    "start_time": "2021-08-01T22:13:40.456Z"
   },
   {
    "duration": 5,
    "start_time": "2021-08-01T22:13:44.395Z"
   },
   {
    "duration": 878,
    "start_time": "2021-08-01T22:22:15.531Z"
   },
   {
    "duration": 45,
    "start_time": "2021-08-01T22:22:16.411Z"
   },
   {
    "duration": 15,
    "start_time": "2021-08-01T22:22:16.459Z"
   },
   {
    "duration": 37,
    "start_time": "2021-08-01T22:22:16.476Z"
   },
   {
    "duration": 69,
    "start_time": "2021-08-01T22:22:16.516Z"
   },
   {
    "duration": 37,
    "start_time": "2021-08-01T22:22:16.587Z"
   },
   {
    "duration": 44,
    "start_time": "2021-08-01T22:22:16.626Z"
   },
   {
    "duration": 9,
    "start_time": "2021-08-01T22:22:16.674Z"
   },
   {
    "duration": 15,
    "start_time": "2021-08-01T22:22:16.686Z"
   },
   {
    "duration": 58,
    "start_time": "2021-08-01T22:22:16.703Z"
   },
   {
    "duration": 51,
    "start_time": "2021-08-01T22:22:16.764Z"
   },
   {
    "duration": 46,
    "start_time": "2021-08-01T22:22:16.818Z"
   },
   {
    "duration": 15,
    "start_time": "2021-08-01T22:22:16.867Z"
   },
   {
    "duration": 70,
    "start_time": "2021-08-01T22:22:16.884Z"
   },
   {
    "duration": 11,
    "start_time": "2021-08-01T22:22:16.957Z"
   },
   {
    "duration": 10,
    "start_time": "2021-08-01T22:22:16.970Z"
   },
   {
    "duration": 14,
    "start_time": "2021-08-01T22:22:16.983Z"
   },
   {
    "duration": 59,
    "start_time": "2021-08-01T22:22:17.000Z"
   },
   {
    "duration": 18,
    "start_time": "2021-08-01T22:22:17.062Z"
   },
   {
    "duration": 31,
    "start_time": "2021-08-01T22:22:17.082Z"
   },
   {
    "duration": 72,
    "start_time": "2021-08-01T22:22:17.116Z"
   },
   {
    "duration": 77,
    "start_time": "2021-08-01T22:22:17.190Z"
   },
   {
    "duration": 950,
    "start_time": "2021-08-01T22:22:17.272Z"
   },
   {
    "duration": 4,
    "start_time": "2021-08-01T22:22:18.226Z"
   },
   {
    "duration": 1206,
    "start_time": "2021-08-01T22:22:18.232Z"
   },
   {
    "duration": 15,
    "start_time": "2021-08-01T22:22:19.441Z"
   },
   {
    "duration": 56,
    "start_time": "2021-08-01T22:22:19.459Z"
   },
   {
    "duration": 12,
    "start_time": "2021-08-01T22:22:19.519Z"
   },
   {
    "duration": 28,
    "start_time": "2021-08-01T22:22:19.534Z"
   },
   {
    "duration": 35,
    "start_time": "2021-08-01T22:22:19.565Z"
   },
   {
    "duration": 4,
    "start_time": "2021-08-01T22:22:19.604Z"
   },
   {
    "duration": 50,
    "start_time": "2021-08-01T22:22:19.612Z"
   },
   {
    "duration": 12,
    "start_time": "2021-08-01T22:22:19.665Z"
   },
   {
    "duration": 21,
    "start_time": "2021-08-01T22:22:19.681Z"
   },
   {
    "duration": 60,
    "start_time": "2021-08-01T22:22:19.705Z"
   },
   {
    "duration": 5,
    "start_time": "2021-08-01T22:22:19.767Z"
   },
   {
    "duration": 9,
    "start_time": "2021-08-01T22:22:19.774Z"
   },
   {
    "duration": 81,
    "start_time": "2021-08-01T22:22:19.785Z"
   },
   {
    "duration": 7,
    "start_time": "2021-08-01T22:22:19.868Z"
   },
   {
    "duration": 30,
    "start_time": "2021-08-01T22:22:19.877Z"
   },
   {
    "duration": 18,
    "start_time": "2021-08-01T22:22:19.910Z"
   },
   {
    "duration": 36,
    "start_time": "2021-08-01T22:22:19.930Z"
   },
   {
    "duration": 26,
    "start_time": "2021-08-01T22:22:19.968Z"
   },
   {
    "duration": 22,
    "start_time": "2021-08-01T22:22:19.997Z"
   },
   {
    "duration": 38,
    "start_time": "2021-08-01T22:22:20.021Z"
   },
   {
    "duration": 34,
    "start_time": "2021-08-01T22:22:20.062Z"
   },
   {
    "duration": 1018,
    "start_time": "2021-08-01T22:36:20.676Z"
   },
   {
    "duration": 29,
    "start_time": "2021-08-01T22:36:21.697Z"
   },
   {
    "duration": 32,
    "start_time": "2021-08-01T22:36:21.730Z"
   },
   {
    "duration": 45,
    "start_time": "2021-08-01T22:36:21.766Z"
   },
   {
    "duration": 46,
    "start_time": "2021-08-01T22:36:21.814Z"
   },
   {
    "duration": 37,
    "start_time": "2021-08-01T22:36:21.863Z"
   },
   {
    "duration": 55,
    "start_time": "2021-08-01T22:36:21.904Z"
   },
   {
    "duration": 16,
    "start_time": "2021-08-01T22:36:21.964Z"
   },
   {
    "duration": 30,
    "start_time": "2021-08-01T22:36:21.983Z"
   },
   {
    "duration": 20,
    "start_time": "2021-08-01T22:36:22.016Z"
   },
   {
    "duration": 66,
    "start_time": "2021-08-01T22:36:22.039Z"
   },
   {
    "duration": 13,
    "start_time": "2021-08-01T22:36:22.107Z"
   },
   {
    "duration": 40,
    "start_time": "2021-08-01T22:36:22.122Z"
   },
   {
    "duration": 31,
    "start_time": "2021-08-01T22:36:22.164Z"
   },
   {
    "duration": 10,
    "start_time": "2021-08-01T22:36:22.198Z"
   },
   {
    "duration": 46,
    "start_time": "2021-08-01T22:36:22.210Z"
   },
   {
    "duration": 9,
    "start_time": "2021-08-01T22:36:22.259Z"
   },
   {
    "duration": 25,
    "start_time": "2021-08-01T22:36:22.270Z"
   },
   {
    "duration": 33,
    "start_time": "2021-08-01T22:36:22.297Z"
   },
   {
    "duration": 34,
    "start_time": "2021-08-01T22:36:22.332Z"
   },
   {
    "duration": 74,
    "start_time": "2021-08-01T22:36:22.369Z"
   },
   {
    "duration": 63,
    "start_time": "2021-08-01T22:36:22.445Z"
   },
   {
    "duration": 951,
    "start_time": "2021-08-01T22:36:22.513Z"
   },
   {
    "duration": 4,
    "start_time": "2021-08-01T22:36:23.468Z"
   },
   {
    "duration": 900,
    "start_time": "2021-08-01T22:36:23.475Z"
   },
   {
    "duration": 5,
    "start_time": "2021-08-01T22:36:24.378Z"
   },
   {
    "duration": 77,
    "start_time": "2021-08-01T22:36:24.385Z"
   },
   {
    "duration": 13,
    "start_time": "2021-08-01T22:36:24.465Z"
   },
   {
    "duration": 28,
    "start_time": "2021-08-01T22:36:24.481Z"
   },
   {
    "duration": 42,
    "start_time": "2021-08-01T22:36:24.512Z"
   },
   {
    "duration": 5,
    "start_time": "2021-08-01T22:36:24.557Z"
   },
   {
    "duration": 42,
    "start_time": "2021-08-01T22:36:24.565Z"
   },
   {
    "duration": 25,
    "start_time": "2021-08-01T22:36:24.610Z"
   },
   {
    "duration": 39,
    "start_time": "2021-08-01T22:36:24.638Z"
   },
   {
    "duration": 29,
    "start_time": "2021-08-01T22:36:24.680Z"
   },
   {
    "duration": 5,
    "start_time": "2021-08-01T22:36:24.712Z"
   },
   {
    "duration": 20,
    "start_time": "2021-08-01T22:36:24.720Z"
   },
   {
    "duration": 77,
    "start_time": "2021-08-01T22:36:24.743Z"
   },
   {
    "duration": 8,
    "start_time": "2021-08-01T22:36:24.823Z"
   },
   {
    "duration": 47,
    "start_time": "2021-08-01T22:36:24.833Z"
   },
   {
    "duration": 17,
    "start_time": "2021-08-01T22:36:24.883Z"
   },
   {
    "duration": 25,
    "start_time": "2021-08-01T22:36:24.902Z"
   },
   {
    "duration": 35,
    "start_time": "2021-08-01T22:36:24.929Z"
   },
   {
    "duration": 26,
    "start_time": "2021-08-01T22:36:24.967Z"
   },
   {
    "duration": 21,
    "start_time": "2021-08-01T22:36:24.996Z"
   },
   {
    "duration": 45,
    "start_time": "2021-08-01T22:36:25.020Z"
   },
   {
    "duration": 586,
    "start_time": "2021-08-02T06:30:16.741Z"
   },
   {
    "duration": 24,
    "start_time": "2021-08-02T06:30:17.329Z"
   },
   {
    "duration": 10,
    "start_time": "2021-08-02T06:30:17.355Z"
   },
   {
    "duration": 32,
    "start_time": "2021-08-02T06:30:17.367Z"
   },
   {
    "duration": 19,
    "start_time": "2021-08-02T06:30:17.400Z"
   },
   {
    "duration": 19,
    "start_time": "2021-08-02T06:30:17.421Z"
   },
   {
    "duration": 11,
    "start_time": "2021-08-02T06:30:17.442Z"
   },
   {
    "duration": 2,
    "start_time": "2021-08-02T06:30:17.456Z"
   },
   {
    "duration": 34,
    "start_time": "2021-08-02T06:30:17.460Z"
   },
   {
    "duration": 13,
    "start_time": "2021-08-02T06:30:17.496Z"
   },
   {
    "duration": 45,
    "start_time": "2021-08-02T06:30:17.511Z"
   },
   {
    "duration": 35,
    "start_time": "2021-08-02T06:30:17.558Z"
   },
   {
    "duration": 13,
    "start_time": "2021-08-02T06:30:17.596Z"
   },
   {
    "duration": 28,
    "start_time": "2021-08-02T06:30:17.611Z"
   },
   {
    "duration": 8,
    "start_time": "2021-08-02T06:30:17.641Z"
   },
   {
    "duration": 10,
    "start_time": "2021-08-02T06:30:17.651Z"
   },
   {
    "duration": 30,
    "start_time": "2021-08-02T06:30:17.663Z"
   },
   {
    "duration": 6,
    "start_time": "2021-08-02T06:30:17.694Z"
   },
   {
    "duration": 13,
    "start_time": "2021-08-02T06:30:17.702Z"
   },
   {
    "duration": 20,
    "start_time": "2021-08-02T06:30:17.716Z"
   },
   {
    "duration": 30,
    "start_time": "2021-08-02T06:30:17.737Z"
   },
   {
    "duration": 54,
    "start_time": "2021-08-02T06:30:17.768Z"
   },
   {
    "duration": 617,
    "start_time": "2021-08-02T06:30:17.825Z"
   },
   {
    "duration": 4,
    "start_time": "2021-08-02T06:30:18.445Z"
   },
   {
    "duration": 577,
    "start_time": "2021-08-02T06:30:18.450Z"
   },
   {
    "duration": 3,
    "start_time": "2021-08-02T06:30:19.028Z"
   },
   {
    "duration": 29,
    "start_time": "2021-08-02T06:30:19.033Z"
   },
   {
    "duration": 6,
    "start_time": "2021-08-02T06:30:19.063Z"
   },
   {
    "duration": 21,
    "start_time": "2021-08-02T06:30:19.071Z"
   },
   {
    "duration": 11,
    "start_time": "2021-08-02T06:30:19.094Z"
   },
   {
    "duration": 3,
    "start_time": "2021-08-02T06:30:19.106Z"
   },
   {
    "duration": 15,
    "start_time": "2021-08-02T06:30:19.110Z"
   },
   {
    "duration": 6,
    "start_time": "2021-08-02T06:30:19.128Z"
   },
   {
    "duration": 16,
    "start_time": "2021-08-02T06:30:19.136Z"
   },
   {
    "duration": 12,
    "start_time": "2021-08-02T06:30:19.153Z"
   },
   {
    "duration": 3,
    "start_time": "2021-08-02T06:30:19.191Z"
   },
   {
    "duration": 4,
    "start_time": "2021-08-02T06:30:19.195Z"
   },
   {
    "duration": 37,
    "start_time": "2021-08-02T06:30:19.201Z"
   },
   {
    "duration": 4,
    "start_time": "2021-08-02T06:30:19.240Z"
   },
   {
    "duration": 20,
    "start_time": "2021-08-02T06:30:19.245Z"
   },
   {
    "duration": 24,
    "start_time": "2021-08-02T06:30:19.267Z"
   },
   {
    "duration": 8,
    "start_time": "2021-08-02T06:30:19.293Z"
   },
   {
    "duration": 16,
    "start_time": "2021-08-02T06:30:19.302Z"
   },
   {
    "duration": 17,
    "start_time": "2021-08-02T06:30:19.319Z"
   },
   {
    "duration": 10,
    "start_time": "2021-08-02T06:30:19.338Z"
   },
   {
    "duration": 17,
    "start_time": "2021-08-02T06:30:19.349Z"
   },
   {
    "duration": 262,
    "start_time": "2021-08-02T20:08:18.274Z"
   }
  ],
  "kernelspec": {
   "display_name": "Python 3",
   "language": "python",
   "name": "python3"
  },
  "language_info": {
   "codemirror_mode": {
    "name": "ipython",
    "version": 3
   },
   "file_extension": ".py",
   "mimetype": "text/x-python",
   "name": "python",
   "nbconvert_exporter": "python",
   "pygments_lexer": "ipython3",
   "version": "3.8.8"
  },
  "toc": {
   "base_numbering": 1,
   "nav_menu": {},
   "number_sections": true,
   "sideBar": true,
   "skip_h1_title": true,
   "title_cell": "Table of Contents",
   "title_sidebar": "Contents",
   "toc_cell": false,
   "toc_position": {
    "height": "497.778px",
    "left": "75px",
    "top": "194.255px",
    "width": "284.444px"
   },
   "toc_section_display": true,
   "toc_window_display": true
  }
 },
 "nbformat": 4,
 "nbformat_minor": 2
}
